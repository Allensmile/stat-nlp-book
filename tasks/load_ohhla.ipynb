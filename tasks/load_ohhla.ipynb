{
 "cells": [
  {
   "cell_type": "markdown",
   "metadata": {},
   "source": [
    "# Loading the OHHLA corpus\n",
    "This notebook shows a typical example of data loading and preprocessing necessary for NLP. In this case we are loading a corpus downloaded from the Hip-Hop Lyrics webpage [www.ohhla.com](www.ohhla.com). Our primary goal is to provide a dataset loading function for the [language modelling](todo) chapter in this book.\n",
    "\n",
    "We provide the corpus in the `data` directory. As this notebook lives in a sub-directory itself, we access it via `../data`. Before preprocessing all files and provide *generic* loaders it is useful to inspect the format of the files based on a specific example file, and work on the loading process in this context. Here we look at `/data/ohhla/www.ohhla.com/anonymous/j_live/SPTA/authentc.jlv.txt`.  "
   ]
  },
  {
   "cell_type": "code",
   "execution_count": 12,
   "metadata": {
    "collapsed": false
   },
   "outputs": [
    {
     "data": {
      "text/plain": [
       "['Artist: J-Live',\n",
       " 'Album:  SPTA (Said Person of That Ability)',\n",
       " 'Song:   The Authentic',\n",
       " 'Typed by: OHHLA Webmaster DJ Flash',\n",
       " '',\n",
       " '[J-Live]',\n",
       " \"Well if isn't the outbreak monkey for that latest epidemic of The Vapors\",\n",
       " 'Bringing you the greatest live caper to date',\n",
       " 'To get involved, to marry to the music',\n",
       " 'Givin no quarter for those that would abuse it',\n",
       " '',\n",
       " 'Nah, not even a fuck and a dream, a Coke and smile',\n",
       " 'A smoke and a pancake, not a pat on the back and a handshake',\n",
       " 'For bein whack, shit is beyond hate',\n",
       " \"I'm evacuatin the state, you makin me glands ache\",\n",
       " '',\n",
       " 'Me and my bags packed, the headphones are playin the soundtrack',\n",
       " 'My ears to your songs is like teeth to plaque, or',\n",
       " 'big speakers to feedback, quarterbacks to sacks',\n",
       " \"The bottom line nah we don't need that\",\n",
       " '',\n",
       " 'Yo your shit is crack! In so much as',\n",
       " 'I never fuck with it and never will - never use, never deal',\n",
       " \"Never chopped, never cooked, and I really don't feel the appeal\",\n",
       " 'How they get a record deal? For real',\n",
       " '',\n",
       " '[Chorus]',\n",
       " \"It's the return of the supergood, the authentic\",\n",
       " \"You might drama but we wouldn't recommend it\",\n",
       " \"We shoot from the hip like, hip-hop's Doc Holiday\",\n",
       " 'Zaggin up your Tombstone to say',\n",
       " \"that your songs are the worst, and you can't freestyle\",\n",
       " \"So who's next to step? I'm the huckleberry now\",\n",
       " 'You wanna test we? You must be crazy',\n",
       " \"You might be quick soon but you don't know D.A.I.S.Y.\",\n",
       " '',\n",
       " '[J-Live]',\n",
       " \"When I tell you I'm at least three deep dolo\",\n",
       " \"I'm not referrin to the big and tall Polo; and I'm surely not braggin\",\n",
       " 'on your girl, your toke moms or the Magnum - oh no',\n",
       " \"I'm much more classy and I wouldn't stoop so low\",\n",
       " '',\n",
       " \"See, he's referrin to the royal we (the royal we~!)\",\n",
       " 'The righteous, unholy trinity',\n",
       " 'No holes within at least 10 miles of the vicinity',\n",
       " 'except for the blast holes peerin through the innards of our enemies',\n",
       " '',\n",
       " 'Now - who all for and against, it makes sense',\n",
       " \"when you recognize the sides and don't straddle the fence\",\n",
       " 'Let the good shit ride, let the bullshit be past tense',\n",
       " 'Long gone, no trace of evidence',\n",
       " '',\n",
       " 'Except! For perhaps the finger and footprints',\n",
       " '(Where we stomped you and choked you out) or so it went',\n",
       " '{So I heard} (so they say) {I guess} Nah, confess!',\n",
       " 'When we smack dab in the middle of the mess, cause',\n",
       " '',\n",
       " '[Chorus]']"
      ]
     },
     "execution_count": 12,
     "metadata": {},
     "output_type": "execute_result"
    }
   ],
   "source": [
    "with open('../data/ohhla/www.ohhla.com/anonymous/j_live/SPTA/authentc.jlv.txt', 'r') as f:\n",
    "    # we use read().splitlines() instead of readlines() to skip newline characters\n",
    "    lines = f.read().splitlines()\n",
    "    \n",
    "lines"
   ]
  },
  {
   "cell_type": "markdown",
   "metadata": {},
   "source": [
    "We first would like to get rid of the header and the newline char "
   ]
  },
  {
   "cell_type": "code",
   "execution_count": 15,
   "metadata": {
    "collapsed": false
   },
   "outputs": [
    {
     "data": {
      "text/plain": [
       "['[J-Live]',\n",
       " \"Well if isn't the outbreak monkey for that latest epidemic of The Vapors\",\n",
       " 'Bringing you the greatest live caper to date',\n",
       " 'To get involved, to marry to the music',\n",
       " 'Givin no quarter for those that would abuse it',\n",
       " '',\n",
       " 'Nah, not even a fuck and a dream, a Coke and smile',\n",
       " 'A smoke and a pancake, not a pat on the back and a handshake',\n",
       " 'For bein whack, shit is beyond hate',\n",
       " \"I'm evacuatin the state, you makin me glands ache\",\n",
       " '',\n",
       " 'Me and my bags packed, the headphones are playin the soundtrack',\n",
       " 'My ears to your songs is like teeth to plaque, or',\n",
       " 'big speakers to feedback, quarterbacks to sacks',\n",
       " \"The bottom line nah we don't need that\",\n",
       " '',\n",
       " 'Yo your shit is crack! In so much as',\n",
       " 'I never fuck with it and never will - never use, never deal',\n",
       " \"Never chopped, never cooked, and I really don't feel the appeal\",\n",
       " 'How they get a record deal? For real',\n",
       " '',\n",
       " '[Chorus]',\n",
       " \"It's the return of the supergood, the authentic\",\n",
       " \"You might drama but we wouldn't recommend it\",\n",
       " \"We shoot from the hip like, hip-hop's Doc Holiday\",\n",
       " 'Zaggin up your Tombstone to say',\n",
       " \"that your songs are the worst, and you can't freestyle\",\n",
       " \"So who's next to step? I'm the huckleberry now\",\n",
       " 'You wanna test we? You must be crazy',\n",
       " \"You might be quick soon but you don't know D.A.I.S.Y.\",\n",
       " '',\n",
       " '[J-Live]',\n",
       " \"When I tell you I'm at least three deep dolo\",\n",
       " \"I'm not referrin to the big and tall Polo; and I'm surely not braggin\",\n",
       " 'on your girl, your toke moms or the Magnum - oh no',\n",
       " \"I'm much more classy and I wouldn't stoop so low\",\n",
       " '',\n",
       " \"See, he's referrin to the royal we (the royal we~!)\",\n",
       " 'The righteous, unholy trinity',\n",
       " 'No holes within at least 10 miles of the vicinity',\n",
       " 'except for the blast holes peerin through the innards of our enemies',\n",
       " '',\n",
       " 'Now - who all for and against, it makes sense',\n",
       " \"when you recognize the sides and don't straddle the fence\",\n",
       " 'Let the good shit ride, let the bullshit be past tense',\n",
       " 'Long gone, no trace of evidence',\n",
       " '',\n",
       " 'Except! For perhaps the finger and footprints',\n",
       " '(Where we stomped you and choked you out) or so it went',\n",
       " '{So I heard} (so they say) {I guess} Nah, confess!',\n",
       " 'When we smack dab in the middle of the mess, cause',\n",
       " '',\n",
       " '[Chorus]']"
      ]
     },
     "execution_count": 15,
     "metadata": {},
     "output_type": "execute_result"
    }
   ],
   "source": [
    "lyrics = lines[5:]\n",
    "lyrics"
   ]
  },
  {
   "cell_type": "markdown",
   "metadata": {},
   "source": [
    "Finally, we would like to convert the list of lines with newline characters to a single string, as this will be easier to process for our language models. We will also mark lyrical \"bars\" (lines) using a `BAR` tag to still capture the rhythmical structure in the song."
   ]
  },
  {
   "cell_type": "code",
   "execution_count": 17,
   "metadata": {
    "collapsed": false
   },
   "outputs": [
    {
     "data": {
      "text/plain": [
       "\"[BAR][J-Live][/BAR][BAR]Well if isn't the outbreak monkey for that latest epidemic of The Vapors[/BAR][BAR]Bringing you the greatest live caper to date[/BAR][BAR]To get involved, to marry to the music[/BAR][BAR]Givin no quarter for those that would abuse it[/BAR][BAR][/BAR][BAR]Nah, not even a fuck and a dream, a Coke and smile[/BAR][BAR]A smoke and a pancake, not a pat on the back and a handshake[/BAR][BAR]For bein whack, shit is beyond hate[/BAR][BAR]I'm evacuatin the state, you makin me glands ache[/BAR][BAR][/BAR][BAR]Me and my bags packed, the headphones are playin the soundtrack[/BAR][BAR]My ears to your songs is like teeth to plaque, or[/BAR][BAR]big speakers to feedback, quarterbacks to sacks[/BAR][BAR]The bottom line nah we don't need that[/BAR][BAR][/BAR][BAR]Yo your shit is crack! In so much as[/BAR][BAR]I never fuck with it and never will - never use, never deal[/BAR][BAR]Never chopped, never cooked, and I really don't feel the appeal[/BAR][BAR]How they get a record deal? For real[/BAR][BAR][/BAR][BAR][Chorus][/BAR][BAR]It's the return of the supergood, the authentic[/BAR][BAR]You might drama but we wouldn't recommend it[/BAR][BAR]We shoot from the hip like, hip-hop's Doc Holiday[/BAR][BAR]Zaggin up your Tombstone to say[/BAR][BAR]that your songs are the worst, and you can't freestyle[/BAR][BAR]So who's next to step? I'm the huckleberry now[/BAR][BAR]You wanna test we? You must be crazy[/BAR][BAR]You might be quick soon but you don't know D.A.I.S.Y.[/BAR][BAR][/BAR][BAR][J-Live][/BAR][BAR]When I tell you I'm at least three deep dolo[/BAR][BAR]I'm not referrin to the big and tall Polo; and I'm surely not braggin[/BAR][BAR]on your girl, your toke moms or the Magnum - oh no[/BAR][BAR]I'm much more classy and I wouldn't stoop so low[/BAR][BAR][/BAR][BAR]See, he's referrin to the royal we (the royal we~!)[/BAR][BAR]The righteous, unholy trinity[/BAR][BAR]No holes within at least 10 miles of the vicinity[/BAR][BAR]except for the blast holes peerin through the innards of our enemies[/BAR][BAR][/BAR][BAR]Now - who all for and against, it makes sense[/BAR][BAR]when you recognize the sides and don't straddle the fence[/BAR][BAR]Let the good shit ride, let the bullshit be past tense[/BAR][BAR]Long gone, no trace of evidence[/BAR][BAR][/BAR][BAR]Except! For perhaps the finger and footprints[/BAR][BAR](Where we stomped you and choked you out) or so it went[/BAR][BAR]{So I heard} (so they say) {I guess} Nah, confess![/BAR][BAR]When we smack dab in the middle of the mess, cause[/BAR][BAR][/BAR][BAR][Chorus][/BAR]\""
      ]
     },
     "execution_count": 17,
     "metadata": {},
     "output_type": "execute_result"
    }
   ],
   "source": [
    "string = '[BAR]' + '[/BAR][BAR]'.join(lyrics) + '[/BAR]'\n",
    "string"
   ]
  },
  {
   "cell_type": "markdown",
   "metadata": {},
   "source": [
    "We are now ready to provide a loading function. "
   ]
  },
  {
   "cell_type": "code",
   "execution_count": 40,
   "metadata": {
    "collapsed": false
   },
   "outputs": [
    {
     "data": {
      "text/plain": [
       "\"[BAR][J-Live][/BAR][BAR]Well if isn't the outbreak monkey for that latest epidemic of The Vapors[/BAR][BAR]Bringing you the greatest live caper to date[/BAR][BAR]To get involved, to marry to the music[/BAR][BAR]Givin no quarter for those that would abuse it[/BAR][BAR][/BAR][BAR]Nah, not even a fuck and a dream, a Coke and smile[/BAR][BAR]A smoke and a pancake, not a pat on the back and a handshake[/BAR][BAR]For bein whack, shit is beyond hate[/BAR][BAR]I'm evacuatin the state, you makin me glands ache[/BAR][BAR][/BAR][BAR]Me and my bags packed, the headphones are playin the soundtrack[/BAR][BAR]My ears to your songs is like teeth to plaque, or[/BAR][BAR]big speakers to feedback, quarterbacks to sacks[/BAR][BAR]The bottom line nah we don't need that[/BAR][BAR][/BAR][BAR]Yo your shit is crack! In so much as[/BAR][BAR]I never fuck with it and never will - never use, never deal[/BAR][BAR]Never chopped, never cooked, and I really don't feel the appeal[/BAR][BAR]How they get a record deal? For real[/BAR][BAR][/BAR][BAR][Chorus][/BAR][BAR]It's the return of the supergood, the authentic[/BAR][BAR]You might drama but we wouldn't recommend it[/BAR][BAR]We shoot from the hip like, hip-hop's Doc Holiday[/BAR][BAR]Zaggin up your Tombstone to say[/BAR][BAR]that your songs are the worst, and you can't freestyle[/BAR][BAR]So who's next to step? I'm the huckleberry now[/BAR][BAR]You wanna test we? You must be crazy[/BAR][BAR]You might be quick soon but you don't know D.A.I.S.Y.[/BAR][BAR][/BAR][BAR][J-Live][/BAR][BAR]When I tell you I'm at least three deep dolo[/BAR][BAR]I'm not referrin to the big and tall Polo; and I'm surely not braggin[/BAR][BAR]on your girl, your toke moms or the Magnum - oh no[/BAR][BAR]I'm much more classy and I wouldn't stoop so low[/BAR][BAR][/BAR][BAR]See, he's referrin to the royal we (the royal we~!)[/BAR][BAR]The righteous, unholy trinity[/BAR][BAR]No holes within at least 10 miles of the vicinity[/BAR][BAR]except for the blast holes peerin through the innards of our enemies[/BAR][BAR][/BAR][BAR]Now - who all for and against, it makes sense[/BAR][BAR]when you recognize the sides and don't straddle the fence[/BAR][BAR]Let the good shit ride, let the bullshit be past tense[/BAR][BAR]Long gone, no trace of evidence[/BAR][BAR][/BAR][BAR]Except! For perhaps the finger and footprints[/BAR][BAR](Where we stomped you and choked you out) or so it went[/BAR][BAR]{So I heard} (so they say) {I guess} Nah, confess![/BAR][BAR]When we smack dab in the middle of the mess, cause[/BAR][BAR][/BAR][BAR][Chorus][/BAR]\""
      ]
     },
     "execution_count": 40,
     "metadata": {},
     "output_type": "execute_result"
    }
   ],
   "source": [
    "def load_song(file_name):\n",
    "    def load_raw(encoding):\n",
    "        with open(file_name, 'r',encoding=encoding) as f:\n",
    "            # we use read().splitlines() instead of readlines() to skip newline characters\n",
    "            lines = f.read().splitlines()   \n",
    "            lyrics = lines[5:]\n",
    "            string = '[BAR]' + '[/BAR][BAR]'.join(lyrics) + '[/BAR]'\n",
    "            return string\n",
    "    try:\n",
    "        return load_raw('utf-8')\n",
    "    except UnicodeDecodeError:\n",
    "        return load_raw('cp1252')\n",
    "        \n",
    "    \n",
    "load_song('../data/ohhla/www.ohhla.com/anonymous/j_live/SPTA/authentc.jlv.txt')"
   ]
  },
  {
   "cell_type": "markdown",
   "metadata": {},
   "source": [
    "Now we want to load several files from an album directory. "
   ]
  },
  {
   "cell_type": "code",
   "execution_count": 37,
   "metadata": {
    "collapsed": false
   },
   "outputs": [
    {
     "data": {
      "text/plain": [
       "[2555, 2779, 3283]"
      ]
     },
     "execution_count": 37,
     "metadata": {},
     "output_type": "execute_result"
    }
   ],
   "source": [
    "from os import listdir\n",
    "from os.path import isfile, join\n",
    "\n",
    "def load_album(path):\n",
    "    # we filter out directories, and files that don't look like song files in OHHLA.\n",
    "    onlyfiles = [join(path, f) for f in listdir(path) if isfile(join(path, f)) and 'txt' in f]\n",
    "    lyrics = [load_song(f) for f in onlyfiles]\n",
    "    return lyrics\n",
    "\n",
    "songs = load_album('../data/ohhla/www.ohhla.com/anonymous/j_live/SPTA/')\n",
    "[len(s) for s in songs]"
   ]
  },
  {
   "cell_type": "markdown",
   "metadata": {},
   "source": [
    "We will also make it easy to load several albums. Then, for a few artists we provide short cuts to the album directories we care about. "
   ]
  },
  {
   "cell_type": "code",
   "execution_count": 41,
   "metadata": {
    "collapsed": false
   },
   "outputs": [
    {
     "data": {
      "text/plain": [
       "29"
      ]
     },
     "execution_count": 41,
     "metadata": {},
     "output_type": "execute_result"
    }
   ],
   "source": [
    "def load_albums(album_paths):\n",
    "    return [song \n",
    "            for path in album_paths \n",
    "            for song in load_album(path)]\n",
    "\n",
    "top_dir = '../data/ohhla/www.ohhla.com/anonymous/'\n",
    "j_live = [\n",
    "    top_dir + '/j_live/allabove/',\n",
    "    top_dir + '/j_live/bestpart/'\n",
    "]\n",
    "len(load_albums(j_live))"
   ]
  }
 ],
 "metadata": {
  "kernelspec": {
   "display_name": "Python 3",
   "language": "python",
   "name": "python3"
  },
  "language_info": {
   "codemirror_mode": {
    "name": "ipython",
    "version": 3
   },
   "file_extension": ".py",
   "mimetype": "text/x-python",
   "name": "python",
   "nbconvert_exporter": "python",
   "pygments_lexer": "ipython3",
   "version": "3.5.1"
  }
 },
 "nbformat": 4,
 "nbformat_minor": 0
}
