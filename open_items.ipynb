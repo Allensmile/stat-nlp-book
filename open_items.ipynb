{
 "cells": [
  {
   "cell_type": "markdown",
   "metadata": {
    "slideshow": {
     "slide_type": "slide"
    }
   },
   "source": [
    "# Open Items Lecture 2\n",
    "\n",
    "* When following the lecture, use the **static** view\n",
    "* Installation & Python issues **not discussed here** (but in Labs)\n",
    "* Have the book installed (on your machine, or **azure**) by Monday\n",
    "    * If this is too difficult (and you're not in the Web Science MSc), consider a different course\n",
    "* Assignments: \n",
    "    * **harder than last time**, (but less coding)\n",
    "    * out on Monday, due 3 weeks later\n",
    "* Linguistic Structure Prediction Book: pointers in slides later\n",
    "* Continue with syllabus of [introduction](chapters/introduction.ppynb)"
   ]
  },
  {
   "cell_type": "markdown",
   "metadata": {
    "slideshow": {
     "slide_type": "slide"
    }
   },
   "source": [
    "### Open Items Lecture 3\n",
    "\n",
    "* Important: Last Structured Prediction Example is **not a real MT model**, only used to illustrate the Structured\n",
    "Prediction framework\n",
    "* If you don't have the docker image working by now, **use Azure** (but make sure to turn off the machine after use)\n",
    "* Over-enrollment, Caps\n",
    "* Next: [Language Models](chapters/language_models.ipynb)"
   ]
  }
 ],
 "metadata": {
  "celltoolbar": "Slideshow",
  "kernelspec": {
   "display_name": "Python 3",
   "language": "python",
   "name": "python3"
  },
  "language_info": {
   "codemirror_mode": {
    "name": "ipython",
    "version": 3
   },
   "file_extension": ".py",
   "mimetype": "text/x-python",
   "name": "python",
   "nbconvert_exporter": "python",
   "pygments_lexer": "ipython3",
   "version": "3.5.1"
  }
 },
 "nbformat": 4,
 "nbformat_minor": 0
}
