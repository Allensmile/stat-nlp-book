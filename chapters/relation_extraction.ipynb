{
 "cells": [
  {
   "cell_type": "code",
   "execution_count": 2,
   "metadata": {
    "collapsed": true
   },
   "outputs": [],
   "source": [
    "%%capture\n",
    "%load_ext autoreload\n",
    "%autoreload 2\n",
    "%matplotlib inline\n",
    "# %cd .. \n",
    "import sys\n",
    "sys.path.append(\"..\")\n",
    "import statnlpbook.util as util\n",
    "import matplotlib"
   ]
  },
  {
   "cell_type": "markdown",
   "metadata": {},
   "source": [
    "<!---\n",
    "Latex Macros\n",
    "-->\n",
    "$$\n",
    "\\newcommand{\\Xs}{\\mathcal{X}}\n",
    "\\newcommand{\\Ys}{\\mathcal{Y}}\n",
    "\\newcommand{\\y}{\\mathbf{y}}\n",
    "\\newcommand{\\balpha}{\\boldsymbol{\\alpha}}\n",
    "\\newcommand{\\bbeta}{\\boldsymbol{\\beta}}\n",
    "\\newcommand{\\aligns}{\\mathbf{a}}\n",
    "\\newcommand{\\align}{a}\n",
    "\\newcommand{\\source}{\\mathbf{s}}\n",
    "\\newcommand{\\target}{\\mathbf{t}}\n",
    "\\newcommand{\\ssource}{s}\n",
    "\\newcommand{\\starget}{t}\n",
    "\\newcommand{\\repr}{\\mathbf{f}}\n",
    "\\newcommand{\\repry}{\\mathbf{g}}\n",
    "\\newcommand{\\x}{\\mathbf{x}}\n",
    "\\newcommand{\\prob}{p}\n",
    "\\newcommand{\\vocab}{V}\n",
    "\\newcommand{\\params}{\\boldsymbol{\\theta}}\n",
    "\\newcommand{\\param}{\\theta}\n",
    "\\DeclareMathOperator{\\perplexity}{PP}\n",
    "\\DeclareMathOperator{\\argmax}{argmax}\n",
    "\\DeclareMathOperator{\\argmin}{argmin}\n",
    "\\newcommand{\\train}{\\mathcal{D}}\n",
    "\\newcommand{\\counts}[2]{\\#_{#1}(#2) }\n",
    "\\newcommand{\\length}[1]{\\text{length}(#1) }\n",
    "\\newcommand{\\indi}{\\mathbb{I}}\n",
    "$$"
   ]
  },
  {
   "cell_type": "markdown",
   "metadata": {},
   "source": [
    "# Relation Extraction \n",
    "Relation extraction (RE) is the task of extracting semantic relations between arguments. Arguments can either be general concepts such as \"a company\" (ORG), \"a person\" (PER); or instances of such concepts (e.g. \"Microsoft\", \"Bill Gates\"), which are called proper names or named entitites (NEs). An example for a semantic relation would be \"founder-of(PER, ORG)\". Relation extraction therefore often builds on the task of [named entity recognition](/template/statnlpbook/02_methods/00_structuredprediction).\n",
    "\n",
    "Relation extraction is relevant for many high-level NLP tasks, such as\n",
    "\n",
    "* for question answering, where users ask questions such as \"Who founded Microsoft?\",\n",
    "* for information retrieval, which often relies on large collections of structured information as background data, and \n",
    "* for text and data mining, where larger patterns in relations between concepts are discovered, e.g. temporal patterns about startups\n",
    "\n",
    "<!-- TODO: Load NYT or other dataset, update link to NER -->\n",
    "\n",
    "## Relation Extraction as Structured Prediction\n",
    "We can formalise relation extraction as an instance of [structured prediction](/template/statnlpbook/02_methods/00_structuredprediction) where the input space \\\\(\\Xs\\\\) are pairs of arguments \\\\(\\Es\\\\) and supporting texts \\\\(\\Ss\\\\) those arguments appear in. The output space \\\\(\\Ys\\\\) is a set of relation labels such as \\\\(\\Ys=\\\\{ \\text{founder-of}, \\text{employee-at}, \\text{professor-at}, \\text{NONE}\\\\} \\\\). The goal is to define a model \\\\(s_{\\params}(\\x,y)\\\\) that assigns high *scores* to the label \\\\(y\\\\) that fits the arguments and supporting text \\\\(\\x\\\\), and lower scores otherwise. The model will be parametrized by \\\\(\\params\\\\), and these parameters we will learn from some training set \\\\(\\train\\\\) of \\\\((\\x,y)\\\\) pairs. When we need to classify input  instances \\\\(\\x\\\\) consisting again of pairs of arguments and supporting texts, we have to solve the maximization problem $\\argmax_y s_{\\params}(\\x,y)$. Note that this frames relation extraction as a multi-class classification problem (Exercise: how could RE be formalised to predict multiple labels for each input instance and how would the example below have to be adapted for that?)\n",
    "\n",
    "\n",
    "## Relation Extraction Example\n",
    "Before we take a closer look at relation extraction methods, let us consider a concrete example.\n",
    "<!-- Expand on this -->\n",
    "\n",
    "\n",
    "## Pattern-Based Extraction\n",
    "<!-- Expand on this -->\n",
    "\n",
    "\n",
    "## Bootstrapping\n",
    "<!-- Expand on this -->\n",
    "\n",
    "\n",
    "## Supervised Relation Extraction\n",
    "<!-- Expand on this -->\n",
    "\n",
    "\n",
    "## Distant Supervision\n",
    "<!-- Expand on this -->\n",
    "\n",
    "\n",
    "## Universal Schema\n",
    "<!-- Expand on this -->\n",
    "\n",
    "\n",
    "## Background\n",
    "Jurafky & Martin etc"
   ]
  }
 ],
 "metadata": {
  "kernelspec": {
   "display_name": "Python 3",
   "language": "python",
   "name": "python3"
  },
  "language_info": {
   "codemirror_mode": {
    "name": "ipython",
    "version": 3
   },
   "file_extension": ".py",
   "mimetype": "text/x-python",
   "name": "python",
   "nbconvert_exporter": "python",
   "pygments_lexer": "ipython3",
   "version": "3.5.1"
  }
 },
 "nbformat": 4,
 "nbformat_minor": 0
}
