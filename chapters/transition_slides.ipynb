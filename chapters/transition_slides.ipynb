{
 "cells": [
  {
   "cell_type": "code",
   "execution_count": 198,
   "metadata": {
    "collapsed": false,
    "slideshow": {
     "slide_type": "skip"
    }
   },
   "outputs": [],
   "source": [
    "%%capture\n",
    "%load_ext autoreload\n",
    "%autoreload 2\n",
    "import sys\n",
    "sys.path.append(\"..\")\n",
    "import statnlpbook.util as util\n",
    "import statnlpbook.parsing as parsing\n",
    "import statnlpbook.transition as transition\n",
    "\n",
    "util.execute_notebook('Transition-based dependency parsing.ipynb')"
   ]
  },
  {
   "cell_type": "markdown",
   "metadata": {
    "slideshow": {
     "slide_type": "skip"
    }
   },
   "source": [
    "<!---\n",
    "Latex Macros\n",
    "-->\n",
    "$$\n",
    "\\newcommand{\\Xs}{\\mathcal{X}}\n",
    "\\newcommand{\\Ys}{\\mathcal{Y}}\n",
    "\\newcommand{\\y}{\\mathbf{y}}\n",
    "\\newcommand{\\balpha}{\\boldsymbol{\\alpha}}\n",
    "\\newcommand{\\bbeta}{\\boldsymbol{\\beta}}\n",
    "\\newcommand{\\aligns}{\\mathbf{a}}\n",
    "\\newcommand{\\align}{a}\n",
    "\\newcommand{\\source}{\\mathbf{s}}\n",
    "\\newcommand{\\target}{\\mathbf{t}}\n",
    "\\newcommand{\\ssource}{s}\n",
    "\\newcommand{\\starget}{t}\n",
    "\\newcommand{\\repr}{\\mathbf{f}}\n",
    "\\newcommand{\\repry}{\\mathbf{g}}\n",
    "\\newcommand{\\x}{\\mathbf{x}}\n",
    "\\newcommand{\\prob}{p}\n",
    "\\newcommand{\\a}{\\alpha}\n",
    "\\newcommand{\\b}{\\beta}\n",
    "\\newcommand{\\vocab}{V}\n",
    "\\newcommand{\\params}{\\boldsymbol{\\theta}}\n",
    "\\newcommand{\\param}{\\theta}\n",
    "\\DeclareMathOperator{\\perplexity}{PP}\n",
    "\\DeclareMathOperator{\\argmax}{argmax}\n",
    "\\DeclareMathOperator{\\argmin}{argmin}\n",
    "\\newcommand{\\train}{\\mathcal{D}}\n",
    "\\newcommand{\\counts}[2]{\\#_{#1}(#2) }\n",
    "\\newcommand{\\length}[1]{\\text{length}(#1) }\n",
    "\\newcommand{\\indi}{\\mathbb{I}}\n",
    "$$"
   ]
  },
  {
   "cell_type": "markdown",
   "metadata": {
    "slideshow": {
     "slide_type": "slide"
    }
   },
   "source": [
    "# Dependency Parsing"
   ]
  },
  {
   "cell_type": "markdown",
   "metadata": {
    "slideshow": {
     "slide_type": "slide"
    }
   },
   "source": [
    "##  Motivation \n",
    "\n",
    "Constituent Parsers **more complex than needed**:\n",
    "* Many applications only need grammatical **relations between words**\n",
    "* Annotation costly and error prone\n",
    "    * Should \"Cadbury Dairy Milk\" be a flat tree, or \"(Cadbury (Dairy Milk))\"?"
   ]
  },
  {
   "cell_type": "markdown",
   "metadata": {
    "slideshow": {
     "slide_type": "subslide"
    }
   },
   "source": [
    "**Dependency Parsing** addresses this...\n",
    "\n",
    "[Stanford CoreNLP parser](http://nlp.stanford.edu:8080/corenlp/)\n",
    "\n",
    "[spaCy](https://demos.explosion.ai/displacy/)"
   ]
  },
  {
   "cell_type": "markdown",
   "metadata": {
    "slideshow": {
     "slide_type": "subslide"
    }
   },
   "source": [
    "## Anatomy of a Dependency Tree\n",
    "\n",
    "* Nodes:\n",
    "    * Tokens of sentence\n",
    "    * a ROOT node (akin to the S symbol in CFGs)\n",
    "* Each **non-ROOT **token has **exactly one parent**\n",
    "    * the word that controls its syntactic function, or\n",
    "    * the word it depends on\n",
    "* ROOT **has no parent**"
   ]
  },
  {
   "cell_type": "markdown",
   "metadata": {
    "slideshow": {
     "slide_type": "subslide"
    }
   },
   "source": [
    "### Example"
   ]
  },
  {
   "cell_type": "code",
   "execution_count": 22,
   "metadata": {
    "collapsed": false,
    "slideshow": {
     "slide_type": "-"
    }
   },
   "outputs": [
    {
     "data": {
      "text/html": [
       "\n",
       "    <div id='displacy0' style=\"overflow: scroll; width: 1000px;\"></div>\n",
       "    <script>\n",
       "    $(function() {\n",
       "    requirejs.config({\n",
       "        paths: {\n",
       "            'displaCy': ['/files/node_modules/displacy/displacy'],\n",
       "                                                  // strip .js ^, require adds it back\n",
       "        },\n",
       "    });\n",
       "    require(['displaCy'], function() {\n",
       "        console.log(\"Loaded :)\");\n",
       "        const displacy = new displaCy('http://localhost:8000', {\n",
       "            container: '#displacy0',\n",
       "            format: 'spacy',\n",
       "            distance: 150,\n",
       "            offsetX: 0,\n",
       "            wordSpacing: 20,\n",
       "            arrowSpacing: 3,\n",
       "\n",
       "        });\n",
       "        const parse = {\n",
       "            arcs: [{\"label\": \"nsubj\", \"end\": 3, \"start\": 2, \"direction\": \"left\"}, {\"label\": \"dobj\", \"end\": 5, \"start\": 3, \"direction\": \"right\"}, {\"label\": \"root\", \"end\": 3, \"start\": 0, \"direction\": \"right\"}, {\"label\": \"amod\", \"end\": 5, \"start\": 4, \"direction\": \"left\"}, {\"label\": \"pmod\", \"end\": 8, \"start\": 6, \"direction\": \"right\"}, {\"label\": \"amod\", \"end\": 8, \"start\": 7, \"direction\": \"left\"}, {\"label\": \"p\", \"end\": 9, \"start\": 0, \"direction\": \"right\"}, {\"label\": \"amod\", \"end\": 2, \"start\": 1, \"direction\": \"left\"}, {\"label\": \"prep\", \"end\": 6, \"start\": 5, \"direction\": \"right\"}],\n",
       "            words: [{\"text\": \"ROOT\"}, {\"text\": \"Economic\"}, {\"text\": \"news\"}, {\"text\": \"had\"}, {\"text\": \"little\"}, {\"text\": \"effect\"}, {\"text\": \"on\"}, {\"text\": \"financial\"}, {\"text\": \"markets\"}, {\"text\": \".\"}]\n",
       "        };\n",
       "\n",
       "        displacy.render(parse, {\n",
       "            //color: '#ff0000'\n",
       "        });\n",
       "        return {};\n",
       "    });\n",
       "    });\n",
       "    </script>"
      ],
      "text/plain": [
       "<IPython.core.display.HTML object>"
      ]
     },
     "execution_count": 22,
     "metadata": {},
     "output_type": "execute_result"
    }
   ],
   "source": [
    "tokens = [\"ROOT\", \"Economic\", \"news\", \"had\", \"little\", \"effect\", \"on\", \"financial\", \"markets\", \".\"]\n",
    "arcs = set([(0,3, \"root\"), (0,9,\"p\"), (2,1,\"amod\"),(3,2,\"nsubj\"), (3, 5, \"dobj\"), (5,4,\"amod\"), (5,6, \"prep\"), (6,8,\"pmod\"), (8,7,\"amod\")])\n",
    "\n",
    "transition.render_displacy(*transition.to_displacy_graph(arcs, tokens),\"1000px\")"
   ]
  },
  {
   "cell_type": "markdown",
   "metadata": {
    "slideshow": {
     "slide_type": "slide"
    }
   },
   "source": [
    "## Dependency Parsing Approaches"
   ]
  },
  {
   "cell_type": "markdown",
   "metadata": {
    "collapsed": false,
    "slideshow": {
     "slide_type": "subslide"
    }
   },
   "source": [
    "### Graph-Based Parsing\n",
    "* define $s_\\params(\\x,\\y)$ over input sentences $\\x$ and dependency graphs $\\y$\n",
    "* parsing: $\\argmax_\\y s_\\params(\\x,\\y)$\n",
    "* can often be framed as **finding maximum spanning trees** or other graph problems"
   ]
  },
  {
   "cell_type": "markdown",
   "metadata": {
    "collapsed": false,
    "slideshow": {
     "slide_type": "subslide"
    }
   },
   "source": [
    "### Transition-Based Parsing\n",
    "* learn to perform the right action / transition in a bottom-up left right parser\n",
    "* Train classifiers $s_\\params(\\x,y)$ where $y$ is an action, and $\\x$ is solution built so far, and the remaining sentence\n"
   ]
  },
  {
   "cell_type": "markdown",
   "metadata": {
    "slideshow": {
     "slide_type": "fragment"
    }
   },
   "source": [
    "Currently the state-of-the-art..."
   ]
  },
  {
   "cell_type": "markdown",
   "metadata": {
    "collapsed": false,
    "slideshow": {
     "slide_type": "subslide"
    }
   },
   "source": [
    "## Parsing State \n",
    "Akin to bottom up parsing for CFGs..."
   ]
  },
  {
   "cell_type": "markdown",
   "metadata": {
    "collapsed": false,
    "slideshow": {
     "slide_type": "subslide"
    }
   },
   "source": [
    "A **buffer** "
   ]
  },
  {
   "cell_type": "code",
   "execution_count": 157,
   "metadata": {
    "collapsed": false,
    "scrolled": false,
    "slideshow": {
     "slide_type": "-"
    }
   },
   "outputs": [
    {
     "data": {
      "text/html": [
       "<table><tr><td>buffer</td><td>stack</td><td>parse</td><td>action</td></tr>\n",
       "<tr><td>ROOT_0 Economic_1 news_2 had_3 little_4 effect_5 on_6 financial_7 markets_8 ._9</td><td></td><td>\n",
       "    <div id='displacy6' style=\"overflow: scroll; width: 500px;\"></div>\n",
       "    <script>\n",
       "    $(function() {\n",
       "    requirejs.config({\n",
       "        paths: {\n",
       "            'displaCy': ['/files/node_modules/displacy/displacy'],\n",
       "                                                  // strip .js ^, require adds it back\n",
       "        },\n",
       "    });\n",
       "    require(['displaCy'], function() {\n",
       "        console.log(\"Loaded :)\");\n",
       "        const displacy = new displaCy('http://localhost:8000', {\n",
       "            container: '#displacy6',\n",
       "            format: 'spacy',\n",
       "            distance: 150,\n",
       "            offsetX: 0,\n",
       "            wordSpacing: 20,\n",
       "            arrowSpacing: 3,\n",
       "\n",
       "        });\n",
       "        const parse = {\n",
       "            arcs: [],\n",
       "            words: []\n",
       "        };\n",
       "\n",
       "        displacy.render(parse, {\n",
       "            uniqueId: 'render_displacy6'\n",
       "            //color: '#ff0000'\n",
       "        });\n",
       "        return {};\n",
       "    });\n",
       "    });\n",
       "    </script></td><td>INIT</td></tr></table>"
      ],
      "text/plain": [
       "<statnlpbook.transition.render_transitions_displacy.<locals>.Output at 0x7f69e7be5c88>"
      ]
     },
     "execution_count": 157,
     "metadata": {},
     "output_type": "execute_result"
    }
   ],
   "source": [
    "transition.render_transitions_displacy(transitions[0:1], tokenized_sentence)"
   ]
  },
  {
   "cell_type": "markdown",
   "metadata": {
    "collapsed": false,
    "slideshow": {
     "slide_type": "subslide"
    }
   },
   "source": [
    "A word **stack** (only words, not trees as in CFG parsing)"
   ]
  },
  {
   "cell_type": "code",
   "execution_count": 182,
   "metadata": {
    "collapsed": false,
    "scrolled": true,
    "slideshow": {
     "slide_type": "-"
    }
   },
   "outputs": [
    {
     "data": {
      "text/html": [
       "<table><tr><td>buffer</td><td>stack</td><td>parse</td><td>action</td></tr>\n",
       "<tr><td>news_2 had_3 little_4 effect_5 on_6 financial_7 markets_8 ._9</td><td>ROOT_0 Economic_1</td><td>\n",
       "    <div id='displacy103' style=\"overflow: scroll; width: 500px;\"></div>\n",
       "    <script>\n",
       "    $(function() {\n",
       "    requirejs.config({\n",
       "        paths: {\n",
       "            'displaCy': ['/files/node_modules/displacy/displacy'],\n",
       "                                                  // strip .js ^, require adds it back\n",
       "        },\n",
       "    });\n",
       "    require(['displaCy'], function() {\n",
       "        console.log(\"Loaded :)\");\n",
       "        const displacy = new displaCy('http://localhost:8000', {\n",
       "            container: '#displacy103',\n",
       "            format: 'spacy',\n",
       "            distance: 150,\n",
       "            offsetX: 0,\n",
       "            wordSpacing: 20,\n",
       "            arrowSpacing: 3,\n",
       "\n",
       "        });\n",
       "        const parse = {\n",
       "            arcs: [],\n",
       "            words: []\n",
       "        };\n",
       "\n",
       "        displacy.render(parse, {\n",
       "            uniqueId: 'render_displacy103'\n",
       "            //color: '#ff0000'\n",
       "        });\n",
       "        return {};\n",
       "    });\n",
       "    });\n",
       "    </script></td><td>shift</td></tr></table>"
      ],
      "text/plain": [
       "<statnlpbook.transition.render_transitions_displacy.<locals>.Output at 0x7f69e7bbf6a0>"
      ]
     },
     "execution_count": 182,
     "metadata": {},
     "output_type": "execute_result"
    }
   ],
   "source": [
    "transition.render_transitions_displacy(transitions[2:3], tokenized_sentence)"
   ]
  },
  {
   "cell_type": "markdown",
   "metadata": {
    "collapsed": false,
    "slideshow": {
     "slide_type": "subslide"
    }
   },
   "source": [
    "A current **parse tree**"
   ]
  },
  {
   "cell_type": "code",
   "execution_count": 209,
   "metadata": {
    "collapsed": false,
    "slideshow": {
     "slide_type": "-"
    }
   },
   "outputs": [
    {
     "data": {
      "text/html": [
       "<table><tr><td>buffer</td><td>stack</td><td>parse</td><td>action</td></tr>\n",
       "<tr><td>on_6 financial_7 markets_8 ._9</td><td>ROOT_0 had_3 effect_5</td><td>\n",
       "    <div id='displacy90' style=\"overflow: scroll; width: 500px;\"></div>\n",
       "    <script>\n",
       "    $(function() {\n",
       "    requirejs.config({\n",
       "        paths: {\n",
       "            'displaCy': ['/files/node_modules/displacy/displacy'],\n",
       "                                                  // strip .js ^, require adds it back\n",
       "        },\n",
       "    });\n",
       "    require(['displaCy'], function() {\n",
       "        console.log(\"Loaded :)\");\n",
       "        const displacy = new displaCy('http://localhost:8000', {\n",
       "            container: '#displacy90',\n",
       "            format: 'spacy',\n",
       "            distance: 150,\n",
       "            offsetX: 0,\n",
       "            wordSpacing: 20,\n",
       "            arrowSpacing: 3,\n",
       "\n",
       "        });\n",
       "        const parse = {\n",
       "            arcs: [{\"label\": \"amod\", \"end\": 2, \"start\": 1, \"dir\": \"left\"}, {\"label\": \"nsubj\", \"end\": 3, \"start\": 2, \"dir\": \"left\"}, {\"label\": \"root\", \"end\": 3, \"start\": 0, \"dir\": \"right\"}, {\"label\": \"dobj\", \"end\": 5, \"start\": 3, \"dir\": \"right\"}, {\"label\": \"amod\", \"end\": 5, \"start\": 4, \"dir\": \"left\"}],\n",
       "            words: [{\"text\": \"ROOT\"}, {\"text\": \"Economic\"}, {\"text\": \"news\"}, {\"text\": \"had\"}, {\"text\": \"little\"}, {\"text\": \"effect\"}, {\"text\": \"on\"}]\n",
       "        };\n",
       "\n",
       "        displacy.render(parse, {\n",
       "            uniqueId: 'render_displacy90'\n",
       "            //color: '#ff0000'\n",
       "        });\n",
       "        return {};\n",
       "    });\n",
       "    });\n",
       "    </script></td><td>rightArc-dobj</td></tr></table>"
      ],
      "text/plain": [
       "<statnlpbook.transition.render_transitions_displacy.<locals>.Output at 0x7f69e7bd1dd8>"
      ]
     },
     "execution_count": 209,
     "metadata": {},
     "output_type": "execute_result"
    }
   ],
   "source": [
    "transition.render_transitions_displacy(transitions[9:10], tokenized_sentence)"
   ]
  },
  {
   "cell_type": "markdown",
   "metadata": {
    "collapsed": false,
    "slideshow": {
     "slide_type": "subslide"
    }
   },
   "source": [
    "We use the following \n",
    "### Actions"
   ]
  },
  {
   "cell_type": "markdown",
   "metadata": {
    "collapsed": false,
    "slideshow": {
     "slide_type": "subslide"
    }
   },
   "source": [
    "**Shift**\n",
    "\n",
    "push the word at the top of the buffer to the stack \\\\((S, i|B, A)\\rightarrow(S|i, B, A)\\\\)"
   ]
  },
  {
   "cell_type": "code",
   "execution_count": 208,
   "metadata": {
    "collapsed": false,
    "scrolled": true,
    "slideshow": {
     "slide_type": "-"
    }
   },
   "outputs": [
    {
     "data": {
      "text/html": [
       "<table><tr><td>buffer</td><td>stack</td><td>parse</td><td>action</td></tr>\n",
       "<tr><td>ROOT_0 Economic_1 news_2 had_3 little_4 effect_5 on_6 financial_7 markets_8 ._9</td><td></td><td>\n",
       "    <div id='displacy88' style=\"overflow: scroll; width: 500px;\"></div>\n",
       "    <script>\n",
       "    $(function() {\n",
       "    requirejs.config({\n",
       "        paths: {\n",
       "            'displaCy': ['/files/node_modules/displacy/displacy'],\n",
       "                                                  // strip .js ^, require adds it back\n",
       "        },\n",
       "    });\n",
       "    require(['displaCy'], function() {\n",
       "        console.log(\"Loaded :)\");\n",
       "        const displacy = new displaCy('http://localhost:8000', {\n",
       "            container: '#displacy88',\n",
       "            format: 'spacy',\n",
       "            distance: 150,\n",
       "            offsetX: 0,\n",
       "            wordSpacing: 20,\n",
       "            arrowSpacing: 3,\n",
       "\n",
       "        });\n",
       "        const parse = {\n",
       "            arcs: [],\n",
       "            words: [{\"text\": \"ROOT\"}]\n",
       "        };\n",
       "\n",
       "        displacy.render(parse, {\n",
       "            uniqueId: 'render_displacy88'\n",
       "            //color: '#ff0000'\n",
       "        });\n",
       "        return {};\n",
       "    });\n",
       "    });\n",
       "    </script></td><td>INIT</td></tr>\n",
       "<tr><td>Economic_1 news_2 had_3 little_4 effect_5 on_6 financial_7 markets_8 ._9</td><td>ROOT_0</td><td>\n",
       "    <div id='displacy89' style=\"overflow: scroll; width: 500px;\"></div>\n",
       "    <script>\n",
       "    $(function() {\n",
       "    requirejs.config({\n",
       "        paths: {\n",
       "            'displaCy': ['/files/node_modules/displacy/displacy'],\n",
       "                                                  // strip .js ^, require adds it back\n",
       "        },\n",
       "    });\n",
       "    require(['displaCy'], function() {\n",
       "        console.log(\"Loaded :)\");\n",
       "        const displacy = new displaCy('http://localhost:8000', {\n",
       "            container: '#displacy89',\n",
       "            format: 'spacy',\n",
       "            distance: 150,\n",
       "            offsetX: 0,\n",
       "            wordSpacing: 20,\n",
       "            arrowSpacing: 3,\n",
       "\n",
       "        });\n",
       "        const parse = {\n",
       "            arcs: [],\n",
       "            words: [{\"text\": \"ROOT\"}, {\"text\": \"Economic\"}]\n",
       "        };\n",
       "\n",
       "        displacy.render(parse, {\n",
       "            uniqueId: 'render_displacy89'\n",
       "            //color: '#ff0000'\n",
       "        });\n",
       "        return {};\n",
       "    });\n",
       "    });\n",
       "    </script></td><td>shift</td></tr></table>"
      ],
      "text/plain": [
       "<statnlpbook.transition.render_transitions_displacy.<locals>.Output at 0x7f69e7bd1278>"
      ]
     },
     "execution_count": 208,
     "metadata": {},
     "output_type": "execute_result"
    }
   ],
   "source": [
    "transition.render_transitions_displacy(transitions[0:2], tokenized_sentence)"
   ]
  },
  {
   "cell_type": "markdown",
   "metadata": {
    "collapsed": false,
    "slideshow": {
     "slide_type": "subslide"
    }
   },
   "source": [
    "**Reduce**\n",
    "\n",
    "pop the word at the top of the stack if it has a head \\\\((S|i, B, A)\\rightarrow(S, B, A)\\\\)"
   ]
  },
  {
   "cell_type": "code",
   "execution_count": 207,
   "metadata": {
    "collapsed": false,
    "scrolled": false,
    "slideshow": {
     "slide_type": "-"
    }
   },
   "outputs": [
    {
     "data": {
      "text/html": [
       "<table><tr><td>buffer</td><td>stack</td><td>parse</td><td>action</td></tr>\n",
       "<tr><td>._9</td><td>ROOT_0 had_3 effect_5 on_6 markets_8</td><td>\n",
       "    <div id='displacy86' style=\"overflow: scroll; width: 500px;\"></div>\n",
       "    <script>\n",
       "    $(function() {\n",
       "    requirejs.config({\n",
       "        paths: {\n",
       "            'displaCy': ['/files/node_modules/displacy/displacy'],\n",
       "                                                  // strip .js ^, require adds it back\n",
       "        },\n",
       "    });\n",
       "    require(['displaCy'], function() {\n",
       "        console.log(\"Loaded :)\");\n",
       "        const displacy = new displaCy('http://localhost:8000', {\n",
       "            container: '#displacy86',\n",
       "            format: 'spacy',\n",
       "            distance: 150,\n",
       "            offsetX: 0,\n",
       "            wordSpacing: 20,\n",
       "            arrowSpacing: 3,\n",
       "\n",
       "        });\n",
       "        const parse = {\n",
       "            arcs: [{\"label\": \"nsubj\", \"end\": 3, \"start\": 2, \"dir\": \"left\"}, {\"label\": \"dobj\", \"end\": 5, \"start\": 3, \"dir\": \"right\"}, {\"label\": \"root\", \"end\": 3, \"start\": 0, \"dir\": \"right\"}, {\"label\": \"amod\", \"end\": 5, \"start\": 4, \"dir\": \"left\"}, {\"label\": \"pmod\", \"end\": 8, \"start\": 6, \"dir\": \"right\"}, {\"label\": \"amod\", \"end\": 8, \"start\": 7, \"dir\": \"left\"}, {\"label\": \"amod\", \"end\": 2, \"start\": 1, \"dir\": \"left\"}, {\"label\": \"prep\", \"end\": 6, \"start\": 5, \"dir\": \"right\"}],\n",
       "            words: [{\"text\": \"ROOT\"}, {\"text\": \"Economic\"}, {\"text\": \"news\"}, {\"text\": \"had\"}, {\"text\": \"little\"}, {\"text\": \"effect\"}, {\"text\": \"on\"}, {\"text\": \"financial\"}, {\"text\": \"markets\"}, {\"text\": \".\"}]\n",
       "        };\n",
       "\n",
       "        displacy.render(parse, {\n",
       "            uniqueId: 'render_displacy86'\n",
       "            //color: '#ff0000'\n",
       "        });\n",
       "        return {};\n",
       "    });\n",
       "    });\n",
       "    </script></td><td>rightArc-pmod</td></tr>\n",
       "<tr><td>._9</td><td>ROOT_0 had_3 effect_5 on_6</td><td>\n",
       "    <div id='displacy87' style=\"overflow: scroll; width: 500px;\"></div>\n",
       "    <script>\n",
       "    $(function() {\n",
       "    requirejs.config({\n",
       "        paths: {\n",
       "            'displaCy': ['/files/node_modules/displacy/displacy'],\n",
       "                                                  // strip .js ^, require adds it back\n",
       "        },\n",
       "    });\n",
       "    require(['displaCy'], function() {\n",
       "        console.log(\"Loaded :)\");\n",
       "        const displacy = new displaCy('http://localhost:8000', {\n",
       "            container: '#displacy87',\n",
       "            format: 'spacy',\n",
       "            distance: 150,\n",
       "            offsetX: 0,\n",
       "            wordSpacing: 20,\n",
       "            arrowSpacing: 3,\n",
       "\n",
       "        });\n",
       "        const parse = {\n",
       "            arcs: [{\"label\": \"nsubj\", \"end\": 3, \"start\": 2, \"dir\": \"left\"}, {\"label\": \"dobj\", \"end\": 5, \"start\": 3, \"dir\": \"right\"}, {\"label\": \"root\", \"end\": 3, \"start\": 0, \"dir\": \"right\"}, {\"label\": \"amod\", \"end\": 5, \"start\": 4, \"dir\": \"left\"}, {\"label\": \"pmod\", \"end\": 8, \"start\": 6, \"dir\": \"right\"}, {\"label\": \"amod\", \"end\": 8, \"start\": 7, \"dir\": \"left\"}, {\"label\": \"amod\", \"end\": 2, \"start\": 1, \"dir\": \"left\"}, {\"label\": \"prep\", \"end\": 6, \"start\": 5, \"dir\": \"right\"}],\n",
       "            words: [{\"text\": \"ROOT\"}, {\"text\": \"Economic\"}, {\"text\": \"news\"}, {\"text\": \"had\"}, {\"text\": \"little\"}, {\"text\": \"effect\"}, {\"text\": \"on\"}, {\"text\": \"financial\"}, {\"text\": \"markets\"}, {\"text\": \".\"}]\n",
       "        };\n",
       "\n",
       "        displacy.render(parse, {\n",
       "            uniqueId: 'render_displacy87'\n",
       "            //color: '#ff0000'\n",
       "        });\n",
       "        return {};\n",
       "    });\n",
       "    });\n",
       "    </script></td><td>reduce</td></tr></table>"
      ],
      "text/plain": [
       "<statnlpbook.transition.render_transitions_displacy.<locals>.Output at 0x7f69e7bd1630>"
      ]
     },
     "execution_count": 207,
     "metadata": {},
     "output_type": "execute_result"
    }
   ],
   "source": [
    "transition.render_transitions_displacy(transitions[13:15], tokenized_sentence)"
   ]
  },
  {
   "cell_type": "markdown",
   "metadata": {
    "collapsed": false,
    "slideshow": {
     "slide_type": "subslide"
    }
   },
   "source": [
    "**rightArc-[label]**\n",
    "\n",
    "create a labeled arc from the word at the top of the stack \\\\(i\\\\) to the word at the top of the buffer \\\\(j\\\\) \\\\((S|i, j|B, A) \\rightarrow (S|i|j, B, A\\cup\\{(i,j,l)\\})\\\\)\n"
   ]
  },
  {
   "cell_type": "code",
   "execution_count": 205,
   "metadata": {
    "collapsed": false,
    "slideshow": {
     "slide_type": "-"
    }
   },
   "outputs": [
    {
     "data": {
      "text/html": [
       "<table><tr><td>buffer</td><td>stack</td><td>parse</td><td>action</td></tr>\n",
       "<tr><td>had_3 little_4 effect_5 on_6 financial_7 markets_8 ._9</td><td>ROOT_0</td><td>\n",
       "    <div id='displacy82' style=\"overflow: scroll; width: 500px;\"></div>\n",
       "    <script>\n",
       "    $(function() {\n",
       "    requirejs.config({\n",
       "        paths: {\n",
       "            'displaCy': ['/files/node_modules/displacy/displacy'],\n",
       "                                                  // strip .js ^, require adds it back\n",
       "        },\n",
       "    });\n",
       "    require(['displaCy'], function() {\n",
       "        console.log(\"Loaded :)\");\n",
       "        const displacy = new displaCy('http://localhost:8000', {\n",
       "            container: '#displacy82',\n",
       "            format: 'spacy',\n",
       "            distance: 150,\n",
       "            offsetX: 0,\n",
       "            wordSpacing: 20,\n",
       "            arrowSpacing: 3,\n",
       "\n",
       "        });\n",
       "        const parse = {\n",
       "            arcs: [{\"label\": \"amod\", \"end\": 2, \"start\": 1, \"dir\": \"left\"}, {\"label\": \"nsubj\", \"end\": 3, \"start\": 2, \"dir\": \"left\"}],\n",
       "            words: [{\"text\": \"ROOT\"}, {\"text\": \"Economic\"}, {\"text\": \"news\"}, {\"text\": \"had\"}]\n",
       "        };\n",
       "\n",
       "        displacy.render(parse, {\n",
       "            uniqueId: 'render_displacy82'\n",
       "            //color: '#ff0000'\n",
       "        });\n",
       "        return {};\n",
       "    });\n",
       "    });\n",
       "    </script></td><td>leftArc-nsubj</td></tr>\n",
       "<tr><td>little_4 effect_5 on_6 financial_7 markets_8 ._9</td><td>ROOT_0 had_3</td><td>\n",
       "    <div id='displacy83' style=\"overflow: scroll; width: 500px;\"></div>\n",
       "    <script>\n",
       "    $(function() {\n",
       "    requirejs.config({\n",
       "        paths: {\n",
       "            'displaCy': ['/files/node_modules/displacy/displacy'],\n",
       "                                                  // strip .js ^, require adds it back\n",
       "        },\n",
       "    });\n",
       "    require(['displaCy'], function() {\n",
       "        console.log(\"Loaded :)\");\n",
       "        const displacy = new displaCy('http://localhost:8000', {\n",
       "            container: '#displacy83',\n",
       "            format: 'spacy',\n",
       "            distance: 150,\n",
       "            offsetX: 0,\n",
       "            wordSpacing: 20,\n",
       "            arrowSpacing: 3,\n",
       "\n",
       "        });\n",
       "        const parse = {\n",
       "            arcs: [{\"label\": \"amod\", \"end\": 2, \"start\": 1, \"dir\": \"left\"}, {\"label\": \"nsubj\", \"end\": 3, \"start\": 2, \"dir\": \"left\"}, {\"label\": \"root\", \"end\": 3, \"start\": 0, \"dir\": \"right\"}],\n",
       "            words: [{\"text\": \"ROOT\"}, {\"text\": \"Economic\"}, {\"text\": \"news\"}, {\"text\": \"had\"}, {\"text\": \"little\"}]\n",
       "        };\n",
       "\n",
       "        displacy.render(parse, {\n",
       "            uniqueId: 'render_displacy83'\n",
       "            //color: '#ff0000'\n",
       "        });\n",
       "        return {};\n",
       "    });\n",
       "    });\n",
       "    </script></td><td>rightArc-root</td></tr></table>"
      ],
      "text/plain": [
       "<statnlpbook.transition.render_transitions_displacy.<locals>.Output at 0x7f69e7bd1ac8>"
      ]
     },
     "execution_count": 205,
     "metadata": {},
     "output_type": "execute_result"
    }
   ],
   "source": [
    "transition.render_transitions_displacy(transitions[5:7], tokenized_sentence)"
   ]
  },
  {
   "cell_type": "markdown",
   "metadata": {
    "collapsed": false,
    "slideshow": {
     "slide_type": "subslide"
    }
   },
   "source": [
    "**leftArc-[label]**\n",
    "\n",
    "create a labeled arc from the word at the top of the buffer \\\\(j\\\\) to the word at the top of the stack \\\\(i\\\\) if \\\\(i\\\\) has no head \\\\((S|i, j|B, A) \\rightarrow (S, j|B, A\\cup\\{(j,i,l)\\})\\\\)\n"
   ]
  },
  {
   "cell_type": "code",
   "execution_count": 204,
   "metadata": {
    "collapsed": false,
    "scrolled": true,
    "slideshow": {
     "slide_type": "-"
    }
   },
   "outputs": [
    {
     "data": {
      "text/html": [
       "<table><tr><td>buffer</td><td>stack</td><td>parse</td><td>action</td></tr>\n",
       "<tr><td>news_2 had_3 little_4 effect_5 on_6 financial_7 markets_8 ._9</td><td>ROOT_0 Economic_1</td><td>\n",
       "    <div id='displacy80' style=\"overflow: scroll; width: 500px;\"></div>\n",
       "    <script>\n",
       "    $(function() {\n",
       "    requirejs.config({\n",
       "        paths: {\n",
       "            'displaCy': ['/files/node_modules/displacy/displacy'],\n",
       "                                                  // strip .js ^, require adds it back\n",
       "        },\n",
       "    });\n",
       "    require(['displaCy'], function() {\n",
       "        console.log(\"Loaded :)\");\n",
       "        const displacy = new displaCy('http://localhost:8000', {\n",
       "            container: '#displacy80',\n",
       "            format: 'spacy',\n",
       "            distance: 150,\n",
       "            offsetX: 0,\n",
       "            wordSpacing: 20,\n",
       "            arrowSpacing: 3,\n",
       "\n",
       "        });\n",
       "        const parse = {\n",
       "            arcs: [],\n",
       "            words: [{\"text\": \"ROOT\"}, {\"text\": \"Economic\"}, {\"text\": \"news\"}]\n",
       "        };\n",
       "\n",
       "        displacy.render(parse, {\n",
       "            uniqueId: 'render_displacy80'\n",
       "            //color: '#ff0000'\n",
       "        });\n",
       "        return {};\n",
       "    });\n",
       "    });\n",
       "    </script></td><td>shift</td></tr>\n",
       "<tr><td>news_2 had_3 little_4 effect_5 on_6 financial_7 markets_8 ._9</td><td>ROOT_0</td><td>\n",
       "    <div id='displacy81' style=\"overflow: scroll; width: 500px;\"></div>\n",
       "    <script>\n",
       "    $(function() {\n",
       "    requirejs.config({\n",
       "        paths: {\n",
       "            'displaCy': ['/files/node_modules/displacy/displacy'],\n",
       "                                                  // strip .js ^, require adds it back\n",
       "        },\n",
       "    });\n",
       "    require(['displaCy'], function() {\n",
       "        console.log(\"Loaded :)\");\n",
       "        const displacy = new displaCy('http://localhost:8000', {\n",
       "            container: '#displacy81',\n",
       "            format: 'spacy',\n",
       "            distance: 150,\n",
       "            offsetX: 0,\n",
       "            wordSpacing: 20,\n",
       "            arrowSpacing: 3,\n",
       "\n",
       "        });\n",
       "        const parse = {\n",
       "            arcs: [{\"label\": \"amod\", \"end\": 2, \"start\": 1, \"dir\": \"left\"}],\n",
       "            words: [{\"text\": \"ROOT\"}, {\"text\": \"Economic\"}, {\"text\": \"news\"}]\n",
       "        };\n",
       "\n",
       "        displacy.render(parse, {\n",
       "            uniqueId: 'render_displacy81'\n",
       "            //color: '#ff0000'\n",
       "        });\n",
       "        return {};\n",
       "    });\n",
       "    });\n",
       "    </script></td><td>leftArc-amod</td></tr></table>"
      ],
      "text/plain": [
       "<statnlpbook.transition.render_transitions_displacy.<locals>.Output at 0x7f69e7bd1048>"
      ]
     },
     "execution_count": 204,
     "metadata": {},
     "output_type": "execute_result"
    }
   ],
   "source": [
    "transition.render_transitions_displacy(transitions[2:4], tokenized_sentence)"
   ]
  },
  {
   "cell_type": "code",
   "execution_count": 203,
   "metadata": {
    "collapsed": false,
    "scrolled": false,
    "slideshow": {
     "slide_type": "subslide"
    }
   },
   "outputs": [
    {
     "data": {
      "text/html": [
       "<table><tr><td>buffer</td><td>stack</td><td>parse</td><td>action</td></tr>\n",
       "<tr><td>ROOT_0 Economic_1 news_2 had_3 little_4 effect_5 on_6 financial_7 markets_8 ._9</td><td></td><td>\n",
       "    <div id='displacy60' style=\"overflow: scroll; width: 500px;\"></div>\n",
       "    <script>\n",
       "    $(function() {\n",
       "    requirejs.config({\n",
       "        paths: {\n",
       "            'displaCy': ['/files/node_modules/displacy/displacy'],\n",
       "                                                  // strip .js ^, require adds it back\n",
       "        },\n",
       "    });\n",
       "    require(['displaCy'], function() {\n",
       "        console.log(\"Loaded :)\");\n",
       "        const displacy = new displaCy('http://localhost:8000', {\n",
       "            container: '#displacy60',\n",
       "            format: 'spacy',\n",
       "            distance: 150,\n",
       "            offsetX: 0,\n",
       "            wordSpacing: 20,\n",
       "            arrowSpacing: 3,\n",
       "\n",
       "        });\n",
       "        const parse = {\n",
       "            arcs: [],\n",
       "            words: [{\"text\": \"ROOT\"}]\n",
       "        };\n",
       "\n",
       "        displacy.render(parse, {\n",
       "            uniqueId: 'render_displacy60'\n",
       "            //color: '#ff0000'\n",
       "        });\n",
       "        return {};\n",
       "    });\n",
       "    });\n",
       "    </script></td><td>INIT</td></tr>\n",
       "<tr><td>Economic_1 news_2 had_3 little_4 effect_5 on_6 financial_7 markets_8 ._9</td><td>ROOT_0</td><td>\n",
       "    <div id='displacy61' style=\"overflow: scroll; width: 500px;\"></div>\n",
       "    <script>\n",
       "    $(function() {\n",
       "    requirejs.config({\n",
       "        paths: {\n",
       "            'displaCy': ['/files/node_modules/displacy/displacy'],\n",
       "                                                  // strip .js ^, require adds it back\n",
       "        },\n",
       "    });\n",
       "    require(['displaCy'], function() {\n",
       "        console.log(\"Loaded :)\");\n",
       "        const displacy = new displaCy('http://localhost:8000', {\n",
       "            container: '#displacy61',\n",
       "            format: 'spacy',\n",
       "            distance: 150,\n",
       "            offsetX: 0,\n",
       "            wordSpacing: 20,\n",
       "            arrowSpacing: 3,\n",
       "\n",
       "        });\n",
       "        const parse = {\n",
       "            arcs: [],\n",
       "            words: [{\"text\": \"ROOT\"}, {\"text\": \"Economic\"}]\n",
       "        };\n",
       "\n",
       "        displacy.render(parse, {\n",
       "            uniqueId: 'render_displacy61'\n",
       "            //color: '#ff0000'\n",
       "        });\n",
       "        return {};\n",
       "    });\n",
       "    });\n",
       "    </script></td><td>shift</td></tr>\n",
       "<tr><td>news_2 had_3 little_4 effect_5 on_6 financial_7 markets_8 ._9</td><td>ROOT_0 Economic_1</td><td>\n",
       "    <div id='displacy62' style=\"overflow: scroll; width: 500px;\"></div>\n",
       "    <script>\n",
       "    $(function() {\n",
       "    requirejs.config({\n",
       "        paths: {\n",
       "            'displaCy': ['/files/node_modules/displacy/displacy'],\n",
       "                                                  // strip .js ^, require adds it back\n",
       "        },\n",
       "    });\n",
       "    require(['displaCy'], function() {\n",
       "        console.log(\"Loaded :)\");\n",
       "        const displacy = new displaCy('http://localhost:8000', {\n",
       "            container: '#displacy62',\n",
       "            format: 'spacy',\n",
       "            distance: 150,\n",
       "            offsetX: 0,\n",
       "            wordSpacing: 20,\n",
       "            arrowSpacing: 3,\n",
       "\n",
       "        });\n",
       "        const parse = {\n",
       "            arcs: [],\n",
       "            words: [{\"text\": \"ROOT\"}, {\"text\": \"Economic\"}, {\"text\": \"news\"}]\n",
       "        };\n",
       "\n",
       "        displacy.render(parse, {\n",
       "            uniqueId: 'render_displacy62'\n",
       "            //color: '#ff0000'\n",
       "        });\n",
       "        return {};\n",
       "    });\n",
       "    });\n",
       "    </script></td><td>shift</td></tr>\n",
       "<tr><td>news_2 had_3 little_4 effect_5 on_6 financial_7 markets_8 ._9</td><td>ROOT_0</td><td>\n",
       "    <div id='displacy63' style=\"overflow: scroll; width: 500px;\"></div>\n",
       "    <script>\n",
       "    $(function() {\n",
       "    requirejs.config({\n",
       "        paths: {\n",
       "            'displaCy': ['/files/node_modules/displacy/displacy'],\n",
       "                                                  // strip .js ^, require adds it back\n",
       "        },\n",
       "    });\n",
       "    require(['displaCy'], function() {\n",
       "        console.log(\"Loaded :)\");\n",
       "        const displacy = new displaCy('http://localhost:8000', {\n",
       "            container: '#displacy63',\n",
       "            format: 'spacy',\n",
       "            distance: 150,\n",
       "            offsetX: 0,\n",
       "            wordSpacing: 20,\n",
       "            arrowSpacing: 3,\n",
       "\n",
       "        });\n",
       "        const parse = {\n",
       "            arcs: [{\"label\": \"amod\", \"end\": 2, \"start\": 1, \"dir\": \"left\"}],\n",
       "            words: [{\"text\": \"ROOT\"}, {\"text\": \"Economic\"}, {\"text\": \"news\"}]\n",
       "        };\n",
       "\n",
       "        displacy.render(parse, {\n",
       "            uniqueId: 'render_displacy63'\n",
       "            //color: '#ff0000'\n",
       "        });\n",
       "        return {};\n",
       "    });\n",
       "    });\n",
       "    </script></td><td>leftArc-amod</td></tr>\n",
       "<tr><td>had_3 little_4 effect_5 on_6 financial_7 markets_8 ._9</td><td>ROOT_0 news_2</td><td>\n",
       "    <div id='displacy64' style=\"overflow: scroll; width: 500px;\"></div>\n",
       "    <script>\n",
       "    $(function() {\n",
       "    requirejs.config({\n",
       "        paths: {\n",
       "            'displaCy': ['/files/node_modules/displacy/displacy'],\n",
       "                                                  // strip .js ^, require adds it back\n",
       "        },\n",
       "    });\n",
       "    require(['displaCy'], function() {\n",
       "        console.log(\"Loaded :)\");\n",
       "        const displacy = new displaCy('http://localhost:8000', {\n",
       "            container: '#displacy64',\n",
       "            format: 'spacy',\n",
       "            distance: 150,\n",
       "            offsetX: 0,\n",
       "            wordSpacing: 20,\n",
       "            arrowSpacing: 3,\n",
       "\n",
       "        });\n",
       "        const parse = {\n",
       "            arcs: [{\"label\": \"amod\", \"end\": 2, \"start\": 1, \"dir\": \"left\"}],\n",
       "            words: [{\"text\": \"ROOT\"}, {\"text\": \"Economic\"}, {\"text\": \"news\"}, {\"text\": \"had\"}]\n",
       "        };\n",
       "\n",
       "        displacy.render(parse, {\n",
       "            uniqueId: 'render_displacy64'\n",
       "            //color: '#ff0000'\n",
       "        });\n",
       "        return {};\n",
       "    });\n",
       "    });\n",
       "    </script></td><td>shift</td></tr>\n",
       "<tr><td>had_3 little_4 effect_5 on_6 financial_7 markets_8 ._9</td><td>ROOT_0</td><td>\n",
       "    <div id='displacy65' style=\"overflow: scroll; width: 500px;\"></div>\n",
       "    <script>\n",
       "    $(function() {\n",
       "    requirejs.config({\n",
       "        paths: {\n",
       "            'displaCy': ['/files/node_modules/displacy/displacy'],\n",
       "                                                  // strip .js ^, require adds it back\n",
       "        },\n",
       "    });\n",
       "    require(['displaCy'], function() {\n",
       "        console.log(\"Loaded :)\");\n",
       "        const displacy = new displaCy('http://localhost:8000', {\n",
       "            container: '#displacy65',\n",
       "            format: 'spacy',\n",
       "            distance: 150,\n",
       "            offsetX: 0,\n",
       "            wordSpacing: 20,\n",
       "            arrowSpacing: 3,\n",
       "\n",
       "        });\n",
       "        const parse = {\n",
       "            arcs: [{\"label\": \"amod\", \"end\": 2, \"start\": 1, \"dir\": \"left\"}, {\"label\": \"nsubj\", \"end\": 3, \"start\": 2, \"dir\": \"left\"}],\n",
       "            words: [{\"text\": \"ROOT\"}, {\"text\": \"Economic\"}, {\"text\": \"news\"}, {\"text\": \"had\"}]\n",
       "        };\n",
       "\n",
       "        displacy.render(parse, {\n",
       "            uniqueId: 'render_displacy65'\n",
       "            //color: '#ff0000'\n",
       "        });\n",
       "        return {};\n",
       "    });\n",
       "    });\n",
       "    </script></td><td>leftArc-nsubj</td></tr>\n",
       "<tr><td>little_4 effect_5 on_6 financial_7 markets_8 ._9</td><td>ROOT_0 had_3</td><td>\n",
       "    <div id='displacy66' style=\"overflow: scroll; width: 500px;\"></div>\n",
       "    <script>\n",
       "    $(function() {\n",
       "    requirejs.config({\n",
       "        paths: {\n",
       "            'displaCy': ['/files/node_modules/displacy/displacy'],\n",
       "                                                  // strip .js ^, require adds it back\n",
       "        },\n",
       "    });\n",
       "    require(['displaCy'], function() {\n",
       "        console.log(\"Loaded :)\");\n",
       "        const displacy = new displaCy('http://localhost:8000', {\n",
       "            container: '#displacy66',\n",
       "            format: 'spacy',\n",
       "            distance: 150,\n",
       "            offsetX: 0,\n",
       "            wordSpacing: 20,\n",
       "            arrowSpacing: 3,\n",
       "\n",
       "        });\n",
       "        const parse = {\n",
       "            arcs: [{\"label\": \"amod\", \"end\": 2, \"start\": 1, \"dir\": \"left\"}, {\"label\": \"nsubj\", \"end\": 3, \"start\": 2, \"dir\": \"left\"}, {\"label\": \"root\", \"end\": 3, \"start\": 0, \"dir\": \"right\"}],\n",
       "            words: [{\"text\": \"ROOT\"}, {\"text\": \"Economic\"}, {\"text\": \"news\"}, {\"text\": \"had\"}, {\"text\": \"little\"}]\n",
       "        };\n",
       "\n",
       "        displacy.render(parse, {\n",
       "            uniqueId: 'render_displacy66'\n",
       "            //color: '#ff0000'\n",
       "        });\n",
       "        return {};\n",
       "    });\n",
       "    });\n",
       "    </script></td><td>rightArc-root</td></tr>\n",
       "<tr><td>effect_5 on_6 financial_7 markets_8 ._9</td><td>ROOT_0 had_3 little_4</td><td>\n",
       "    <div id='displacy67' style=\"overflow: scroll; width: 500px;\"></div>\n",
       "    <script>\n",
       "    $(function() {\n",
       "    requirejs.config({\n",
       "        paths: {\n",
       "            'displaCy': ['/files/node_modules/displacy/displacy'],\n",
       "                                                  // strip .js ^, require adds it back\n",
       "        },\n",
       "    });\n",
       "    require(['displaCy'], function() {\n",
       "        console.log(\"Loaded :)\");\n",
       "        const displacy = new displaCy('http://localhost:8000', {\n",
       "            container: '#displacy67',\n",
       "            format: 'spacy',\n",
       "            distance: 150,\n",
       "            offsetX: 0,\n",
       "            wordSpacing: 20,\n",
       "            arrowSpacing: 3,\n",
       "\n",
       "        });\n",
       "        const parse = {\n",
       "            arcs: [{\"label\": \"amod\", \"end\": 2, \"start\": 1, \"dir\": \"left\"}, {\"label\": \"nsubj\", \"end\": 3, \"start\": 2, \"dir\": \"left\"}, {\"label\": \"root\", \"end\": 3, \"start\": 0, \"dir\": \"right\"}],\n",
       "            words: [{\"text\": \"ROOT\"}, {\"text\": \"Economic\"}, {\"text\": \"news\"}, {\"text\": \"had\"}, {\"text\": \"little\"}, {\"text\": \"effect\"}]\n",
       "        };\n",
       "\n",
       "        displacy.render(parse, {\n",
       "            uniqueId: 'render_displacy67'\n",
       "            //color: '#ff0000'\n",
       "        });\n",
       "        return {};\n",
       "    });\n",
       "    });\n",
       "    </script></td><td>shift</td></tr>\n",
       "<tr><td>effect_5 on_6 financial_7 markets_8 ._9</td><td>ROOT_0 had_3</td><td>\n",
       "    <div id='displacy68' style=\"overflow: scroll; width: 500px;\"></div>\n",
       "    <script>\n",
       "    $(function() {\n",
       "    requirejs.config({\n",
       "        paths: {\n",
       "            'displaCy': ['/files/node_modules/displacy/displacy'],\n",
       "                                                  // strip .js ^, require adds it back\n",
       "        },\n",
       "    });\n",
       "    require(['displaCy'], function() {\n",
       "        console.log(\"Loaded :)\");\n",
       "        const displacy = new displaCy('http://localhost:8000', {\n",
       "            container: '#displacy68',\n",
       "            format: 'spacy',\n",
       "            distance: 150,\n",
       "            offsetX: 0,\n",
       "            wordSpacing: 20,\n",
       "            arrowSpacing: 3,\n",
       "\n",
       "        });\n",
       "        const parse = {\n",
       "            arcs: [{\"label\": \"amod\", \"end\": 2, \"start\": 1, \"dir\": \"left\"}, {\"label\": \"nsubj\", \"end\": 3, \"start\": 2, \"dir\": \"left\"}, {\"label\": \"root\", \"end\": 3, \"start\": 0, \"dir\": \"right\"}, {\"label\": \"amod\", \"end\": 5, \"start\": 4, \"dir\": \"left\"}],\n",
       "            words: [{\"text\": \"ROOT\"}, {\"text\": \"Economic\"}, {\"text\": \"news\"}, {\"text\": \"had\"}, {\"text\": \"little\"}, {\"text\": \"effect\"}]\n",
       "        };\n",
       "\n",
       "        displacy.render(parse, {\n",
       "            uniqueId: 'render_displacy68'\n",
       "            //color: '#ff0000'\n",
       "        });\n",
       "        return {};\n",
       "    });\n",
       "    });\n",
       "    </script></td><td>leftArc-amod</td></tr>\n",
       "<tr><td>on_6 financial_7 markets_8 ._9</td><td>ROOT_0 had_3 effect_5</td><td>\n",
       "    <div id='displacy69' style=\"overflow: scroll; width: 500px;\"></div>\n",
       "    <script>\n",
       "    $(function() {\n",
       "    requirejs.config({\n",
       "        paths: {\n",
       "            'displaCy': ['/files/node_modules/displacy/displacy'],\n",
       "                                                  // strip .js ^, require adds it back\n",
       "        },\n",
       "    });\n",
       "    require(['displaCy'], function() {\n",
       "        console.log(\"Loaded :)\");\n",
       "        const displacy = new displaCy('http://localhost:8000', {\n",
       "            container: '#displacy69',\n",
       "            format: 'spacy',\n",
       "            distance: 150,\n",
       "            offsetX: 0,\n",
       "            wordSpacing: 20,\n",
       "            arrowSpacing: 3,\n",
       "\n",
       "        });\n",
       "        const parse = {\n",
       "            arcs: [{\"label\": \"amod\", \"end\": 2, \"start\": 1, \"dir\": \"left\"}, {\"label\": \"nsubj\", \"end\": 3, \"start\": 2, \"dir\": \"left\"}, {\"label\": \"root\", \"end\": 3, \"start\": 0, \"dir\": \"right\"}, {\"label\": \"dobj\", \"end\": 5, \"start\": 3, \"dir\": \"right\"}, {\"label\": \"amod\", \"end\": 5, \"start\": 4, \"dir\": \"left\"}],\n",
       "            words: [{\"text\": \"ROOT\"}, {\"text\": \"Economic\"}, {\"text\": \"news\"}, {\"text\": \"had\"}, {\"text\": \"little\"}, {\"text\": \"effect\"}, {\"text\": \"on\"}]\n",
       "        };\n",
       "\n",
       "        displacy.render(parse, {\n",
       "            uniqueId: 'render_displacy69'\n",
       "            //color: '#ff0000'\n",
       "        });\n",
       "        return {};\n",
       "    });\n",
       "    });\n",
       "    </script></td><td>rightArc-dobj</td></tr>\n",
       "<tr><td>financial_7 markets_8 ._9</td><td>ROOT_0 had_3 effect_5 on_6</td><td>\n",
       "    <div id='displacy70' style=\"overflow: scroll; width: 500px;\"></div>\n",
       "    <script>\n",
       "    $(function() {\n",
       "    requirejs.config({\n",
       "        paths: {\n",
       "            'displaCy': ['/files/node_modules/displacy/displacy'],\n",
       "                                                  // strip .js ^, require adds it back\n",
       "        },\n",
       "    });\n",
       "    require(['displaCy'], function() {\n",
       "        console.log(\"Loaded :)\");\n",
       "        const displacy = new displaCy('http://localhost:8000', {\n",
       "            container: '#displacy70',\n",
       "            format: 'spacy',\n",
       "            distance: 150,\n",
       "            offsetX: 0,\n",
       "            wordSpacing: 20,\n",
       "            arrowSpacing: 3,\n",
       "\n",
       "        });\n",
       "        const parse = {\n",
       "            arcs: [{\"label\": \"nsubj\", \"end\": 3, \"start\": 2, \"dir\": \"left\"}, {\"label\": \"dobj\", \"end\": 5, \"start\": 3, \"dir\": \"right\"}, {\"label\": \"root\", \"end\": 3, \"start\": 0, \"dir\": \"right\"}, {\"label\": \"amod\", \"end\": 5, \"start\": 4, \"dir\": \"left\"}, {\"label\": \"amod\", \"end\": 2, \"start\": 1, \"dir\": \"left\"}, {\"label\": \"prep\", \"end\": 6, \"start\": 5, \"dir\": \"right\"}],\n",
       "            words: [{\"text\": \"ROOT\"}, {\"text\": \"Economic\"}, {\"text\": \"news\"}, {\"text\": \"had\"}, {\"text\": \"little\"}, {\"text\": \"effect\"}, {\"text\": \"on\"}, {\"text\": \"financial\"}]\n",
       "        };\n",
       "\n",
       "        displacy.render(parse, {\n",
       "            uniqueId: 'render_displacy70'\n",
       "            //color: '#ff0000'\n",
       "        });\n",
       "        return {};\n",
       "    });\n",
       "    });\n",
       "    </script></td><td>rightArc-prep</td></tr>\n",
       "<tr><td>markets_8 ._9</td><td>ROOT_0 had_3 effect_5 on_6 financial_7</td><td>\n",
       "    <div id='displacy71' style=\"overflow: scroll; width: 500px;\"></div>\n",
       "    <script>\n",
       "    $(function() {\n",
       "    requirejs.config({\n",
       "        paths: {\n",
       "            'displaCy': ['/files/node_modules/displacy/displacy'],\n",
       "                                                  // strip .js ^, require adds it back\n",
       "        },\n",
       "    });\n",
       "    require(['displaCy'], function() {\n",
       "        console.log(\"Loaded :)\");\n",
       "        const displacy = new displaCy('http://localhost:8000', {\n",
       "            container: '#displacy71',\n",
       "            format: 'spacy',\n",
       "            distance: 150,\n",
       "            offsetX: 0,\n",
       "            wordSpacing: 20,\n",
       "            arrowSpacing: 3,\n",
       "\n",
       "        });\n",
       "        const parse = {\n",
       "            arcs: [{\"label\": \"nsubj\", \"end\": 3, \"start\": 2, \"dir\": \"left\"}, {\"label\": \"dobj\", \"end\": 5, \"start\": 3, \"dir\": \"right\"}, {\"label\": \"root\", \"end\": 3, \"start\": 0, \"dir\": \"right\"}, {\"label\": \"amod\", \"end\": 5, \"start\": 4, \"dir\": \"left\"}, {\"label\": \"amod\", \"end\": 2, \"start\": 1, \"dir\": \"left\"}, {\"label\": \"prep\", \"end\": 6, \"start\": 5, \"dir\": \"right\"}],\n",
       "            words: [{\"text\": \"ROOT\"}, {\"text\": \"Economic\"}, {\"text\": \"news\"}, {\"text\": \"had\"}, {\"text\": \"little\"}, {\"text\": \"effect\"}, {\"text\": \"on\"}, {\"text\": \"financial\"}, {\"text\": \"markets\"}]\n",
       "        };\n",
       "\n",
       "        displacy.render(parse, {\n",
       "            uniqueId: 'render_displacy71'\n",
       "            //color: '#ff0000'\n",
       "        });\n",
       "        return {};\n",
       "    });\n",
       "    });\n",
       "    </script></td><td>shift</td></tr>\n",
       "<tr><td>markets_8 ._9</td><td>ROOT_0 had_3 effect_5 on_6</td><td>\n",
       "    <div id='displacy72' style=\"overflow: scroll; width: 500px;\"></div>\n",
       "    <script>\n",
       "    $(function() {\n",
       "    requirejs.config({\n",
       "        paths: {\n",
       "            'displaCy': ['/files/node_modules/displacy/displacy'],\n",
       "                                                  // strip .js ^, require adds it back\n",
       "        },\n",
       "    });\n",
       "    require(['displaCy'], function() {\n",
       "        console.log(\"Loaded :)\");\n",
       "        const displacy = new displaCy('http://localhost:8000', {\n",
       "            container: '#displacy72',\n",
       "            format: 'spacy',\n",
       "            distance: 150,\n",
       "            offsetX: 0,\n",
       "            wordSpacing: 20,\n",
       "            arrowSpacing: 3,\n",
       "\n",
       "        });\n",
       "        const parse = {\n",
       "            arcs: [{\"label\": \"nsubj\", \"end\": 3, \"start\": 2, \"dir\": \"left\"}, {\"label\": \"dobj\", \"end\": 5, \"start\": 3, \"dir\": \"right\"}, {\"label\": \"root\", \"end\": 3, \"start\": 0, \"dir\": \"right\"}, {\"label\": \"amod\", \"end\": 5, \"start\": 4, \"dir\": \"left\"}, {\"label\": \"amod\", \"end\": 8, \"start\": 7, \"dir\": \"left\"}, {\"label\": \"amod\", \"end\": 2, \"start\": 1, \"dir\": \"left\"}, {\"label\": \"prep\", \"end\": 6, \"start\": 5, \"dir\": \"right\"}],\n",
       "            words: [{\"text\": \"ROOT\"}, {\"text\": \"Economic\"}, {\"text\": \"news\"}, {\"text\": \"had\"}, {\"text\": \"little\"}, {\"text\": \"effect\"}, {\"text\": \"on\"}, {\"text\": \"financial\"}, {\"text\": \"markets\"}]\n",
       "        };\n",
       "\n",
       "        displacy.render(parse, {\n",
       "            uniqueId: 'render_displacy72'\n",
       "            //color: '#ff0000'\n",
       "        });\n",
       "        return {};\n",
       "    });\n",
       "    });\n",
       "    </script></td><td>leftArc-amod</td></tr>\n",
       "<tr><td>._9</td><td>ROOT_0 had_3 effect_5 on_6 markets_8</td><td>\n",
       "    <div id='displacy73' style=\"overflow: scroll; width: 500px;\"></div>\n",
       "    <script>\n",
       "    $(function() {\n",
       "    requirejs.config({\n",
       "        paths: {\n",
       "            'displaCy': ['/files/node_modules/displacy/displacy'],\n",
       "                                                  // strip .js ^, require adds it back\n",
       "        },\n",
       "    });\n",
       "    require(['displaCy'], function() {\n",
       "        console.log(\"Loaded :)\");\n",
       "        const displacy = new displaCy('http://localhost:8000', {\n",
       "            container: '#displacy73',\n",
       "            format: 'spacy',\n",
       "            distance: 150,\n",
       "            offsetX: 0,\n",
       "            wordSpacing: 20,\n",
       "            arrowSpacing: 3,\n",
       "\n",
       "        });\n",
       "        const parse = {\n",
       "            arcs: [{\"label\": \"nsubj\", \"end\": 3, \"start\": 2, \"dir\": \"left\"}, {\"label\": \"dobj\", \"end\": 5, \"start\": 3, \"dir\": \"right\"}, {\"label\": \"root\", \"end\": 3, \"start\": 0, \"dir\": \"right\"}, {\"label\": \"amod\", \"end\": 5, \"start\": 4, \"dir\": \"left\"}, {\"label\": \"pmod\", \"end\": 8, \"start\": 6, \"dir\": \"right\"}, {\"label\": \"amod\", \"end\": 8, \"start\": 7, \"dir\": \"left\"}, {\"label\": \"amod\", \"end\": 2, \"start\": 1, \"dir\": \"left\"}, {\"label\": \"prep\", \"end\": 6, \"start\": 5, \"dir\": \"right\"}],\n",
       "            words: [{\"text\": \"ROOT\"}, {\"text\": \"Economic\"}, {\"text\": \"news\"}, {\"text\": \"had\"}, {\"text\": \"little\"}, {\"text\": \"effect\"}, {\"text\": \"on\"}, {\"text\": \"financial\"}, {\"text\": \"markets\"}, {\"text\": \".\"}]\n",
       "        };\n",
       "\n",
       "        displacy.render(parse, {\n",
       "            uniqueId: 'render_displacy73'\n",
       "            //color: '#ff0000'\n",
       "        });\n",
       "        return {};\n",
       "    });\n",
       "    });\n",
       "    </script></td><td>rightArc-pmod</td></tr>\n",
       "<tr><td>._9</td><td>ROOT_0 had_3 effect_5 on_6</td><td>\n",
       "    <div id='displacy74' style=\"overflow: scroll; width: 500px;\"></div>\n",
       "    <script>\n",
       "    $(function() {\n",
       "    requirejs.config({\n",
       "        paths: {\n",
       "            'displaCy': ['/files/node_modules/displacy/displacy'],\n",
       "                                                  // strip .js ^, require adds it back\n",
       "        },\n",
       "    });\n",
       "    require(['displaCy'], function() {\n",
       "        console.log(\"Loaded :)\");\n",
       "        const displacy = new displaCy('http://localhost:8000', {\n",
       "            container: '#displacy74',\n",
       "            format: 'spacy',\n",
       "            distance: 150,\n",
       "            offsetX: 0,\n",
       "            wordSpacing: 20,\n",
       "            arrowSpacing: 3,\n",
       "\n",
       "        });\n",
       "        const parse = {\n",
       "            arcs: [{\"label\": \"nsubj\", \"end\": 3, \"start\": 2, \"dir\": \"left\"}, {\"label\": \"dobj\", \"end\": 5, \"start\": 3, \"dir\": \"right\"}, {\"label\": \"root\", \"end\": 3, \"start\": 0, \"dir\": \"right\"}, {\"label\": \"amod\", \"end\": 5, \"start\": 4, \"dir\": \"left\"}, {\"label\": \"pmod\", \"end\": 8, \"start\": 6, \"dir\": \"right\"}, {\"label\": \"amod\", \"end\": 8, \"start\": 7, \"dir\": \"left\"}, {\"label\": \"amod\", \"end\": 2, \"start\": 1, \"dir\": \"left\"}, {\"label\": \"prep\", \"end\": 6, \"start\": 5, \"dir\": \"right\"}],\n",
       "            words: [{\"text\": \"ROOT\"}, {\"text\": \"Economic\"}, {\"text\": \"news\"}, {\"text\": \"had\"}, {\"text\": \"little\"}, {\"text\": \"effect\"}, {\"text\": \"on\"}, {\"text\": \"financial\"}, {\"text\": \"markets\"}, {\"text\": \".\"}]\n",
       "        };\n",
       "\n",
       "        displacy.render(parse, {\n",
       "            uniqueId: 'render_displacy74'\n",
       "            //color: '#ff0000'\n",
       "        });\n",
       "        return {};\n",
       "    });\n",
       "    });\n",
       "    </script></td><td>reduce</td></tr>\n",
       "<tr><td>._9</td><td>ROOT_0 had_3 effect_5</td><td>\n",
       "    <div id='displacy75' style=\"overflow: scroll; width: 500px;\"></div>\n",
       "    <script>\n",
       "    $(function() {\n",
       "    requirejs.config({\n",
       "        paths: {\n",
       "            'displaCy': ['/files/node_modules/displacy/displacy'],\n",
       "                                                  // strip .js ^, require adds it back\n",
       "        },\n",
       "    });\n",
       "    require(['displaCy'], function() {\n",
       "        console.log(\"Loaded :)\");\n",
       "        const displacy = new displaCy('http://localhost:8000', {\n",
       "            container: '#displacy75',\n",
       "            format: 'spacy',\n",
       "            distance: 150,\n",
       "            offsetX: 0,\n",
       "            wordSpacing: 20,\n",
       "            arrowSpacing: 3,\n",
       "\n",
       "        });\n",
       "        const parse = {\n",
       "            arcs: [{\"label\": \"nsubj\", \"end\": 3, \"start\": 2, \"dir\": \"left\"}, {\"label\": \"dobj\", \"end\": 5, \"start\": 3, \"dir\": \"right\"}, {\"label\": \"root\", \"end\": 3, \"start\": 0, \"dir\": \"right\"}, {\"label\": \"amod\", \"end\": 5, \"start\": 4, \"dir\": \"left\"}, {\"label\": \"pmod\", \"end\": 8, \"start\": 6, \"dir\": \"right\"}, {\"label\": \"amod\", \"end\": 8, \"start\": 7, \"dir\": \"left\"}, {\"label\": \"amod\", \"end\": 2, \"start\": 1, \"dir\": \"left\"}, {\"label\": \"prep\", \"end\": 6, \"start\": 5, \"dir\": \"right\"}],\n",
       "            words: [{\"text\": \"ROOT\"}, {\"text\": \"Economic\"}, {\"text\": \"news\"}, {\"text\": \"had\"}, {\"text\": \"little\"}, {\"text\": \"effect\"}, {\"text\": \"on\"}, {\"text\": \"financial\"}, {\"text\": \"markets\"}, {\"text\": \".\"}]\n",
       "        };\n",
       "\n",
       "        displacy.render(parse, {\n",
       "            uniqueId: 'render_displacy75'\n",
       "            //color: '#ff0000'\n",
       "        });\n",
       "        return {};\n",
       "    });\n",
       "    });\n",
       "    </script></td><td>reduce</td></tr>\n",
       "<tr><td>._9</td><td>ROOT_0 had_3</td><td>\n",
       "    <div id='displacy76' style=\"overflow: scroll; width: 500px;\"></div>\n",
       "    <script>\n",
       "    $(function() {\n",
       "    requirejs.config({\n",
       "        paths: {\n",
       "            'displaCy': ['/files/node_modules/displacy/displacy'],\n",
       "                                                  // strip .js ^, require adds it back\n",
       "        },\n",
       "    });\n",
       "    require(['displaCy'], function() {\n",
       "        console.log(\"Loaded :)\");\n",
       "        const displacy = new displaCy('http://localhost:8000', {\n",
       "            container: '#displacy76',\n",
       "            format: 'spacy',\n",
       "            distance: 150,\n",
       "            offsetX: 0,\n",
       "            wordSpacing: 20,\n",
       "            arrowSpacing: 3,\n",
       "\n",
       "        });\n",
       "        const parse = {\n",
       "            arcs: [{\"label\": \"nsubj\", \"end\": 3, \"start\": 2, \"dir\": \"left\"}, {\"label\": \"dobj\", \"end\": 5, \"start\": 3, \"dir\": \"right\"}, {\"label\": \"root\", \"end\": 3, \"start\": 0, \"dir\": \"right\"}, {\"label\": \"amod\", \"end\": 5, \"start\": 4, \"dir\": \"left\"}, {\"label\": \"pmod\", \"end\": 8, \"start\": 6, \"dir\": \"right\"}, {\"label\": \"amod\", \"end\": 8, \"start\": 7, \"dir\": \"left\"}, {\"label\": \"amod\", \"end\": 2, \"start\": 1, \"dir\": \"left\"}, {\"label\": \"prep\", \"end\": 6, \"start\": 5, \"dir\": \"right\"}],\n",
       "            words: [{\"text\": \"ROOT\"}, {\"text\": \"Economic\"}, {\"text\": \"news\"}, {\"text\": \"had\"}, {\"text\": \"little\"}, {\"text\": \"effect\"}, {\"text\": \"on\"}, {\"text\": \"financial\"}, {\"text\": \"markets\"}, {\"text\": \".\"}]\n",
       "        };\n",
       "\n",
       "        displacy.render(parse, {\n",
       "            uniqueId: 'render_displacy76'\n",
       "            //color: '#ff0000'\n",
       "        });\n",
       "        return {};\n",
       "    });\n",
       "    });\n",
       "    </script></td><td>reduce</td></tr>\n",
       "<tr><td>._9</td><td>ROOT_0</td><td>\n",
       "    <div id='displacy77' style=\"overflow: scroll; width: 500px;\"></div>\n",
       "    <script>\n",
       "    $(function() {\n",
       "    requirejs.config({\n",
       "        paths: {\n",
       "            'displaCy': ['/files/node_modules/displacy/displacy'],\n",
       "                                                  // strip .js ^, require adds it back\n",
       "        },\n",
       "    });\n",
       "    require(['displaCy'], function() {\n",
       "        console.log(\"Loaded :)\");\n",
       "        const displacy = new displaCy('http://localhost:8000', {\n",
       "            container: '#displacy77',\n",
       "            format: 'spacy',\n",
       "            distance: 150,\n",
       "            offsetX: 0,\n",
       "            wordSpacing: 20,\n",
       "            arrowSpacing: 3,\n",
       "\n",
       "        });\n",
       "        const parse = {\n",
       "            arcs: [{\"label\": \"nsubj\", \"end\": 3, \"start\": 2, \"dir\": \"left\"}, {\"label\": \"dobj\", \"end\": 5, \"start\": 3, \"dir\": \"right\"}, {\"label\": \"root\", \"end\": 3, \"start\": 0, \"dir\": \"right\"}, {\"label\": \"amod\", \"end\": 5, \"start\": 4, \"dir\": \"left\"}, {\"label\": \"pmod\", \"end\": 8, \"start\": 6, \"dir\": \"right\"}, {\"label\": \"amod\", \"end\": 8, \"start\": 7, \"dir\": \"left\"}, {\"label\": \"amod\", \"end\": 2, \"start\": 1, \"dir\": \"left\"}, {\"label\": \"prep\", \"end\": 6, \"start\": 5, \"dir\": \"right\"}],\n",
       "            words: [{\"text\": \"ROOT\"}, {\"text\": \"Economic\"}, {\"text\": \"news\"}, {\"text\": \"had\"}, {\"text\": \"little\"}, {\"text\": \"effect\"}, {\"text\": \"on\"}, {\"text\": \"financial\"}, {\"text\": \"markets\"}, {\"text\": \".\"}]\n",
       "        };\n",
       "\n",
       "        displacy.render(parse, {\n",
       "            uniqueId: 'render_displacy77'\n",
       "            //color: '#ff0000'\n",
       "        });\n",
       "        return {};\n",
       "    });\n",
       "    });\n",
       "    </script></td><td>reduce</td></tr>\n",
       "<tr><td></td><td>ROOT_0 ._9</td><td>\n",
       "    <div id='displacy78' style=\"overflow: scroll; width: 500px;\"></div>\n",
       "    <script>\n",
       "    $(function() {\n",
       "    requirejs.config({\n",
       "        paths: {\n",
       "            'displaCy': ['/files/node_modules/displacy/displacy'],\n",
       "                                                  // strip .js ^, require adds it back\n",
       "        },\n",
       "    });\n",
       "    require(['displaCy'], function() {\n",
       "        console.log(\"Loaded :)\");\n",
       "        const displacy = new displaCy('http://localhost:8000', {\n",
       "            container: '#displacy78',\n",
       "            format: 'spacy',\n",
       "            distance: 150,\n",
       "            offsetX: 0,\n",
       "            wordSpacing: 20,\n",
       "            arrowSpacing: 3,\n",
       "\n",
       "        });\n",
       "        const parse = {\n",
       "            arcs: [{\"label\": \"nsubj\", \"end\": 3, \"start\": 2, \"dir\": \"left\"}, {\"label\": \"dobj\", \"end\": 5, \"start\": 3, \"dir\": \"right\"}, {\"label\": \"root\", \"end\": 3, \"start\": 0, \"dir\": \"right\"}, {\"label\": \"amod\", \"end\": 5, \"start\": 4, \"dir\": \"left\"}, {\"label\": \"pmod\", \"end\": 8, \"start\": 6, \"dir\": \"right\"}, {\"label\": \"amod\", \"end\": 8, \"start\": 7, \"dir\": \"left\"}, {\"label\": \"p\", \"end\": 9, \"start\": 0, \"dir\": \"right\"}, {\"label\": \"amod\", \"end\": 2, \"start\": 1, \"dir\": \"left\"}, {\"label\": \"prep\", \"end\": 6, \"start\": 5, \"dir\": \"right\"}],\n",
       "            words: [{\"text\": \"ROOT\"}, {\"text\": \"Economic\"}, {\"text\": \"news\"}, {\"text\": \"had\"}, {\"text\": \"little\"}, {\"text\": \"effect\"}, {\"text\": \"on\"}, {\"text\": \"financial\"}, {\"text\": \"markets\"}, {\"text\": \".\"}]\n",
       "        };\n",
       "\n",
       "        displacy.render(parse, {\n",
       "            uniqueId: 'render_displacy78'\n",
       "            //color: '#ff0000'\n",
       "        });\n",
       "        return {};\n",
       "    });\n",
       "    });\n",
       "    </script></td><td>rightArc-p</td></tr>\n",
       "<tr><td></td><td>ROOT_0 ._9</td><td>\n",
       "    <div id='displacy79' style=\"overflow: scroll; width: 500px;\"></div>\n",
       "    <script>\n",
       "    $(function() {\n",
       "    requirejs.config({\n",
       "        paths: {\n",
       "            'displaCy': ['/files/node_modules/displacy/displacy'],\n",
       "                                                  // strip .js ^, require adds it back\n",
       "        },\n",
       "    });\n",
       "    require(['displaCy'], function() {\n",
       "        console.log(\"Loaded :)\");\n",
       "        const displacy = new displaCy('http://localhost:8000', {\n",
       "            container: '#displacy79',\n",
       "            format: 'spacy',\n",
       "            distance: 150,\n",
       "            offsetX: 0,\n",
       "            wordSpacing: 20,\n",
       "            arrowSpacing: 3,\n",
       "\n",
       "        });\n",
       "        const parse = {\n",
       "            arcs: [{\"label\": \"nsubj\", \"end\": 3, \"start\": 2, \"dir\": \"left\"}, {\"label\": \"dobj\", \"end\": 5, \"start\": 3, \"dir\": \"right\"}, {\"label\": \"root\", \"end\": 3, \"start\": 0, \"dir\": \"right\"}, {\"label\": \"amod\", \"end\": 5, \"start\": 4, \"dir\": \"left\"}, {\"label\": \"pmod\", \"end\": 8, \"start\": 6, \"dir\": \"right\"}, {\"label\": \"amod\", \"end\": 8, \"start\": 7, \"dir\": \"left\"}, {\"label\": \"p\", \"end\": 9, \"start\": 0, \"dir\": \"right\"}, {\"label\": \"amod\", \"end\": 2, \"start\": 1, \"dir\": \"left\"}, {\"label\": \"prep\", \"end\": 6, \"start\": 5, \"dir\": \"right\"}],\n",
       "            words: [{\"text\": \"ROOT\"}, {\"text\": \"Economic\"}, {\"text\": \"news\"}, {\"text\": \"had\"}, {\"text\": \"little\"}, {\"text\": \"effect\"}, {\"text\": \"on\"}, {\"text\": \"financial\"}, {\"text\": \"markets\"}, {\"text\": \".\"}]\n",
       "        };\n",
       "\n",
       "        displacy.render(parse, {\n",
       "            uniqueId: 'render_displacy79'\n",
       "            //color: '#ff0000'\n",
       "        });\n",
       "        return {};\n",
       "    });\n",
       "    });\n",
       "    </script></td><td>TERMINAL</td></tr></table>"
      ],
      "text/plain": [
       "<statnlpbook.transition.render_transitions_displacy.<locals>.Output at 0x7f69e7cd6f60>"
      ]
     },
     "execution_count": 203,
     "metadata": {},
     "output_type": "execute_result"
    }
   ],
   "source": [
    "transition.render_transitions_displacy(transitions[:], tokenized_sentence)"
   ]
  },
  {
   "cell_type": "markdown",
   "metadata": {
    "collapsed": false,
    "slideshow": {
     "slide_type": "slide"
    }
   },
   "source": [
    "## Background Material\n",
    "\n",
    "* [Mike Collins' PCFG lecture](http://www.cs.columbia.edu/~mcollins/courses/nlp2011/notes/pcfgs.pdf)\n",
    "* Jurafsky & Martin, Chapter 12, Statistical Parsing"
   ]
  }
 ],
 "metadata": {
  "celltoolbar": "Slideshow",
  "kernelspec": {
   "display_name": "Python 3",
   "language": "python",
   "name": "python3"
  },
  "language_info": {
   "codemirror_mode": {
    "name": "ipython",
    "version": 3
   },
   "file_extension": ".py",
   "mimetype": "text/x-python",
   "name": "python",
   "nbconvert_exporter": "python",
   "pygments_lexer": "ipython3",
   "version": "3.5.2"
  }
 },
 "nbformat": 4,
 "nbformat_minor": 0
}
