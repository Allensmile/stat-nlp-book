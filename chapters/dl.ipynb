{
 "cells": [
  {
   "cell_type": "code",
   "execution_count": 72,
   "metadata": {
    "ExecuteTime": {
     "end_time": "2016-11-21T14:51:48.058998",
     "start_time": "2016-11-21T14:51:48.037738"
    },
    "collapsed": false,
    "hide_input": false,
    "slideshow": {
     "slide_type": "notes"
    }
   },
   "outputs": [
    {
     "data": {
      "text/plain": [
       "{'controls': 'false',\n",
       " 'progress': 'true',\n",
       " 'start_slideshow_at': 'selected',\n",
       " 'theme': 'white',\n",
       " 'transition': 'none'}"
      ]
     },
     "execution_count": 72,
     "metadata": {},
     "output_type": "execute_result"
    }
   ],
   "source": [
    "%%capture\n",
    "%load_ext autoreload\n",
    "%load_ext tikzmagic\n",
    "%autoreload 2\n",
    "import sys\n",
    "sys.path.append(\"..\")\n",
    "import numpy as np\n",
    "\n",
    "#reveal configuration\n",
    "from notebook.services.config import ConfigManager\n",
    "cm = ConfigManager()\n",
    "cm.update('livereveal', {\n",
    "        'theme': 'white',\n",
    "        'transition': 'none',\n",
    "        'controls': 'false',\n",
    "        'progress': 'true',\n",
    "})"
   ]
  },
  {
   "cell_type": "code",
   "execution_count": 46,
   "metadata": {
    "ExecuteTime": {
     "end_time": "2016-11-21T14:45:31.095219",
     "start_time": "2016-11-21T14:45:31.087811"
    },
    "collapsed": false,
    "slideshow": {
     "slide_type": "notes"
    }
   },
   "outputs": [
    {
     "data": {
      "text/html": [
       "<style>\n",
       ".red { color: #E41A1C; }\n",
       ".orange { color: #FF7F00 }\n",
       ".yellow { color: #FFC020 }         \n",
       ".green { color: #4DAF4A }                  \n",
       ".blue { color: #377EB8; }\n",
       ".purple { color: #984EA3 } \n",
       "         \n",
       "       \n",
       ".left {\n",
       "    float: left;\n",
       "    width: 50%;\n",
       "    vertical-align: text-top;\n",
       "}\n",
       "\n",
       ".right {\n",
       "    margin-left: 50%;\n",
       "    vertical-align: text-top;                            \n",
       "}    \n",
       "               \n",
       ".small {         \n",
       "    zoom: 0.9;\n",
       "    -ms-zoom: 0.9;\n",
       "    -webkit-zoom: 0.9;\n",
       "    -moz-transform:  scale(0.9,0.9);\n",
       "    -moz-transform-origin: left center;  \n",
       "}          \n",
       "         \n",
       ".verysmall {         \n",
       "    zoom: 0.75;\n",
       "    -ms-zoom: 0.75;\n",
       "    -webkit-zoom: 0.75;\n",
       "    -moz-transform:  scale(0.75,0.75);\n",
       "    -moz-transform-origin: left center;  \n",
       "}         \n",
       "   \n",
       "        \n",
       ".tiny {         \n",
       "    zoom: 0.6;\n",
       "    -ms-zoom: 0.6;\n",
       "    -webkit-zoom: 0.6;\n",
       "    -moz-transform:  scale(0.6,0.6);\n",
       "    -moz-transform-origin: left center;  \n",
       "}                "
      ],
      "text/plain": [
       "<IPython.core.display.HTML object>"
      ]
     },
     "metadata": {},
     "output_type": "display_data"
    }
   ],
   "source": [
    "%%html\n",
    "<style>\n",
    ".red { color: #E41A1C; }\n",
    ".orange { color: #FF7F00 }\n",
    ".yellow { color: #FFC020 }         \n",
    ".green { color: #4DAF4A }                  \n",
    ".blue { color: #377EB8; }\n",
    ".purple { color: #984EA3 } \n",
    "         \n",
    "       \n",
    ".left {\n",
    "    float: left;\n",
    "    width: 50%;\n",
    "    vertical-align: text-top;\n",
    "}\n",
    "\n",
    ".right {\n",
    "    margin-left: 50%;\n",
    "    vertical-align: text-top;                            \n",
    "}    \n",
    "               \n",
    ".small {         \n",
    "    zoom: 0.9;\n",
    "    -ms-zoom: 0.9;\n",
    "    -webkit-zoom: 0.9;\n",
    "    -moz-transform:  scale(0.9,0.9);\n",
    "    -moz-transform-origin: left center;  \n",
    "}          \n",
    "         \n",
    ".verysmall {         \n",
    "    zoom: 0.75;\n",
    "    -ms-zoom: 0.75;\n",
    "    -webkit-zoom: 0.75;\n",
    "    -moz-transform:  scale(0.75,0.75);\n",
    "    -moz-transform-origin: left center;  \n",
    "}         \n",
    "   \n",
    "        \n",
    ".tiny {         \n",
    "    zoom: 0.6;\n",
    "    -ms-zoom: 0.6;\n",
    "    -webkit-zoom: 0.6;\n",
    "    -moz-transform:  scale(0.6,0.6);\n",
    "    -moz-transform-origin: left center;  \n",
    "}                "
   ]
  },
  {
   "cell_type": "markdown",
   "metadata": {
    "hide_input": true,
    "slideshow": {
     "slide_type": "slide"
    }
   },
   "source": [
    "# Deep Learning for Natural Language Processing"
   ]
  },
  {
   "cell_type": "markdown",
   "metadata": {
    "slideshow": {
     "slide_type": "slide"
    }
   },
   "source": [
    "## Motivation\n",
    "The state-of-the-art in many NLP tasks is currently held by deep neural networks. Many NLP pipelines in industry are currently being replaced by deep neural networks. \n",
    "- [Google's Machine Translation](https://blog.google/products/translate/found-translation-more-accurate-fluent-sentences-google-translate/)\n",
    "- [Question Answering](http://uclmr.github.io/ai4exams/results.html)\n",
    "- [Natural Language Inference](http://nlp.stanford.edu/projects/snli/)\n",
    "- ...\n"
   ]
  },
  {
   "cell_type": "markdown",
   "metadata": {
    "slideshow": {
     "slide_type": "slide"
    }
   },
   "source": [
    "## Outline\n",
    "- Backpropagation and Stochastic Gradient Descent\n",
    "- A Modular Approach\n",
    "  - Linear Algebra Operations\n",
    "  - Activation Functions\n",
    "  - Gradient Checking\n",
    "- TensorFlow: A Deep Learning Library\n",
    "- Regularization\n",
    "  - Dropout\n",
    "  - Gradient Clipping\n",
    "- Recurrent Neural Networks\n",
    "  - Long Short-term Memory (LSTM)\n",
    "  - Gated Recurrent Unit (GRU)\n",
    "- Attention"
   ]
  },
  {
   "cell_type": "markdown",
   "metadata": {
    "slideshow": {
     "slide_type": "slide"
    }
   },
   "source": [
    "# Backpropagation and Stochastic Gradient Descent"
   ]
  },
  {
   "cell_type": "markdown",
   "metadata": {
    "slideshow": {
     "slide_type": "slide"
    }
   },
   "source": [
    "## Model\n",
    "\n",
    "At the core of Deep Learning (or Representation Learning in general) are parameterized functions that are differentiable with respect to their parameters (and inputs). We represent them by $f_\\theta$ where $\\theta$ are parameters that we want to learn from training data $\\mathcal{T}=\\{(x_i,y_i)\\}$. For example:\n",
    "\n",
    "<span class=verysmall>\n",
    "\\begin{align}\n",
    "&\\text{Linear Regression} & f_\\theta(\\mathbf{x}) &= \\mathbf{Wx} + \\mathbf{b}\\\\ % && \\text{with }\\theta = \\{\\mathbf{W}, \\mathbf{b}\\}\\\\\n",
    "&\\text{Logistic Regression} & f_\\theta(\\mathbf{x}) &= \\frac{1}{1 + e^{-(\\mathbf{Wx} + \\mathbf{b})}}\\\\ % && \\text{with }\\theta = \\{\\mathbf{W}, \\mathbf{b}\\}\\\\\n",
    "&\\text{3-layer Perceptron} & f_\\theta(\\mathbf{x}) &= \\text{tanh}(\\mathbf{W}_3\\text{tanh}(\\mathbf{W}_2\\text{tanh}(\\mathbf{W}_1\\mathbf{x} + \\mathbf{b}_1)+\\mathbf{b}_2)+\\mathbf{b}_3)% && \\text{with }\\theta = \\{\\mathbf{W}_1, \\mathbf{W}_2, \\mathbf{W}_3, \\mathbf{b}_1, \\mathbf{b}_2, \\mathbf{b}_3\\}\n",
    "\\end{align}\n",
    "</span>"
   ]
  },
  {
   "cell_type": "markdown",
   "metadata": {
    "slideshow": {
     "slide_type": "slide"
    }
   },
   "source": [
    "## Loss Functions\n",
    "For training from data we need another function that measures how far a prediction $f_\\theta(x)$ is away from some gold output $y$. A few examples are\n",
    "\n",
    "\\begin{align}\n",
    "& \\text{Squared Distance} & \\mathcal{L}(f_\\theta, x, y) &= ||f_\\theta(x) - y||^2 \\\\\n",
    "& \\text{Logistic} & \\mathcal{L}(f_\\theta, x, y) &= \\log(1 + f_\\theta(yx)) \\\\\n",
    "& \\text{Hinge} & \\mathcal{L}(f_\\theta, x, y) &= \\max(0,1-yf_\\theta(x)) \\\\\n",
    "\\end{align}\n",
    " "
   ]
  },
  {
   "cell_type": "markdown",
   "metadata": {
    "slideshow": {
     "slide_type": "slide"
    }
   },
   "source": [
    "## Perceptron: A Single Neuron"
   ]
  },
  {
   "cell_type": "markdown",
   "metadata": {},
   "source": [
    "\\begin{align}\n",
    "y &= \\text{sigmoid}(x_1*w_1 + x_2*w_2 + x_3*w_3 + x_4*w_4 + b)\\\\\n",
    "  &= \\text{sigmoid}(\\mathbf{w}^T\\mathbf{x} + b) \\quad\\text{with }\\mathbf{x},\\mathbf{w}\\in\\mathbb{R}^4\n",
    "\\end{align}"
   ]
  },
  {
   "cell_type": "code",
   "execution_count": 35,
   "metadata": {
    "ExecuteTime": {
     "end_time": "2016-11-21T14:27:32.133364",
     "start_time": "2016-11-21T14:27:30.596877"
    },
    "collapsed": false,
    "hide_input": false
   },
   "outputs": [
    {
     "data": {
      "image/svg+xml": [
       "<svg height=\"400px\" version=\"1.1\" viewBox=\"0 0 95.792 75.294\" width=\"1000px\" xmlns=\"http://www.w3.org/2000/svg\" xmlns:xlink=\"http://www.w3.org/1999/xlink\">\n",
       "<defs>\n",
       "<g>\n",
       "<symbol id=\"glyph0-0\" overflow=\"visible\">\n",
       "<path d=\"\" style=\"stroke:none;\"/>\n",
       "</symbol>\n",
       "<symbol id=\"glyph0-1\" overflow=\"visible\">\n",
       "<path d=\"M 4.609375 -3.375 C 4.65625 -3.59375 4.75 -3.96875 4.75 -4.03125 C 4.75 -4.203125 4.609375 -4.296875 4.46875 -4.296875 C 4.34375 -4.296875 4.171875 -4.21875 4.09375 -4.015625 C 4.0625 -3.953125 3.59375 -2.046875 3.53125 -1.78125 C 3.453125 -1.484375 3.4375 -1.3125 3.4375 -1.125 C 3.4375 -1.015625 3.4375 -1 3.453125 -0.953125 C 3.21875 -0.421875 2.921875 -0.109375 2.53125 -0.109375 C 1.734375 -0.109375 1.734375 -0.84375 1.734375 -1.015625 C 1.734375 -1.328125 1.78125 -1.71875 2.25 -2.953125 C 2.359375 -3.25 2.421875 -3.390625 2.421875 -3.59375 C 2.421875 -4.03125 2.09375 -4.40625 1.609375 -4.40625 C 0.65625 -4.40625 0.296875 -2.953125 0.296875 -2.875 C 0.296875 -2.765625 0.390625 -2.765625 0.40625 -2.765625 C 0.515625 -2.765625 0.515625 -2.796875 0.5625 -2.953125 C 0.84375 -3.875 1.21875 -4.1875 1.578125 -4.1875 C 1.671875 -4.1875 1.828125 -4.171875 1.828125 -3.859375 C 1.828125 -3.609375 1.71875 -3.328125 1.640625 -3.15625 C 1.203125 -1.984375 1.09375 -1.53125 1.09375 -1.140625 C 1.09375 -0.234375 1.75 0.109375 2.5 0.109375 C 2.671875 0.109375 3.140625 0.109375 3.53125 -0.59375 C 3.796875 0.046875 4.484375 0.109375 4.78125 0.109375 C 5.53125 0.109375 5.96875 -0.515625 6.234375 -1.109375 C 6.5625 -1.890625 6.890625 -3.234375 6.890625 -3.703125 C 6.890625 -4.25 6.625 -4.40625 6.453125 -4.40625 C 6.203125 -4.40625 5.953125 -4.140625 5.953125 -3.921875 C 5.953125 -3.796875 6.015625 -3.734375 6.09375 -3.65625 C 6.203125 -3.546875 6.453125 -3.296875 6.453125 -2.8125 C 6.453125 -2.46875 6.171875 -1.5 5.90625 -0.984375 C 5.65625 -0.453125 5.296875 -0.109375 4.8125 -0.109375 C 4.34375 -0.109375 4.078125 -0.40625 4.078125 -0.984375 C 4.078125 -1.25 4.140625 -1.5625 4.1875 -1.703125 Z M 4.609375 -3.375 \" style=\"stroke:none;\"/>\n",
       "</symbol>\n",
       "<symbol id=\"glyph0-2\" overflow=\"visible\">\n",
       "<path d=\"M 3.328125 -3.015625 C 3.390625 -3.265625 3.625 -4.1875 4.3125 -4.1875 C 4.359375 -4.1875 4.609375 -4.1875 4.8125 -4.0625 C 4.53125 -4 4.34375 -3.765625 4.34375 -3.515625 C 4.34375 -3.359375 4.453125 -3.171875 4.71875 -3.171875 C 4.9375 -3.171875 5.25 -3.34375 5.25 -3.75 C 5.25 -4.265625 4.671875 -4.40625 4.328125 -4.40625 C 3.75 -4.40625 3.40625 -3.875 3.28125 -3.65625 C 3.03125 -4.3125 2.5 -4.40625 2.203125 -4.40625 C 1.171875 -4.40625 0.59375 -3.125 0.59375 -2.875 C 0.59375 -2.765625 0.703125 -2.765625 0.71875 -2.765625 C 0.796875 -2.765625 0.828125 -2.796875 0.84375 -2.875 C 1.1875 -3.9375 1.84375 -4.1875 2.1875 -4.1875 C 2.375 -4.1875 2.71875 -4.09375 2.71875 -3.515625 C 2.71875 -3.203125 2.546875 -2.546875 2.1875 -1.140625 C 2.03125 -0.53125 1.671875 -0.109375 1.234375 -0.109375 C 1.171875 -0.109375 0.953125 -0.109375 0.734375 -0.234375 C 0.984375 -0.296875 1.203125 -0.5 1.203125 -0.78125 C 1.203125 -1.046875 0.984375 -1.125 0.84375 -1.125 C 0.53125 -1.125 0.296875 -0.875 0.296875 -0.546875 C 0.296875 -0.09375 0.78125 0.109375 1.21875 0.109375 C 1.890625 0.109375 2.25 -0.59375 2.265625 -0.640625 C 2.390625 -0.28125 2.75 0.109375 3.34375 0.109375 C 4.375 0.109375 4.9375 -1.171875 4.9375 -1.421875 C 4.9375 -1.53125 4.859375 -1.53125 4.828125 -1.53125 C 4.734375 -1.53125 4.71875 -1.484375 4.6875 -1.421875 C 4.359375 -0.34375 3.6875 -0.109375 3.375 -0.109375 C 2.984375 -0.109375 2.828125 -0.421875 2.828125 -0.765625 C 2.828125 -0.984375 2.875 -1.203125 2.984375 -1.640625 Z M 3.328125 -3.015625 \" style=\"stroke:none;\"/>\n",
       "</symbol>\n",
       "<symbol id=\"glyph0-3\" overflow=\"visible\">\n",
       "<path d=\"M 4.84375 -3.796875 C 4.890625 -3.9375 4.890625 -3.953125 4.890625 -4.03125 C 4.890625 -4.203125 4.75 -4.296875 4.59375 -4.296875 C 4.5 -4.296875 4.34375 -4.234375 4.25 -4.09375 C 4.234375 -4.03125 4.140625 -3.734375 4.109375 -3.546875 C 4.03125 -3.296875 3.96875 -3.015625 3.90625 -2.75 L 3.453125 -0.953125 C 3.421875 -0.8125 2.984375 -0.109375 2.328125 -0.109375 C 1.828125 -0.109375 1.71875 -0.546875 1.71875 -0.921875 C 1.71875 -1.375 1.890625 -2 2.21875 -2.875 C 2.375 -3.28125 2.421875 -3.390625 2.421875 -3.59375 C 2.421875 -4.03125 2.109375 -4.40625 1.609375 -4.40625 C 0.65625 -4.40625 0.296875 -2.953125 0.296875 -2.875 C 0.296875 -2.765625 0.390625 -2.765625 0.40625 -2.765625 C 0.515625 -2.765625 0.515625 -2.796875 0.5625 -2.953125 C 0.84375 -3.890625 1.234375 -4.1875 1.578125 -4.1875 C 1.65625 -4.1875 1.828125 -4.1875 1.828125 -3.875 C 1.828125 -3.625 1.71875 -3.359375 1.65625 -3.171875 C 1.25 -2.109375 1.078125 -1.546875 1.078125 -1.078125 C 1.078125 -0.1875 1.703125 0.109375 2.296875 0.109375 C 2.6875 0.109375 3.015625 -0.0625 3.296875 -0.34375 C 3.171875 0.171875 3.046875 0.671875 2.65625 1.203125 C 2.390625 1.53125 2.015625 1.828125 1.5625 1.828125 C 1.421875 1.828125 0.96875 1.796875 0.796875 1.40625 C 0.953125 1.40625 1.09375 1.40625 1.21875 1.28125 C 1.328125 1.203125 1.421875 1.0625 1.421875 0.875 C 1.421875 0.5625 1.15625 0.53125 1.0625 0.53125 C 0.828125 0.53125 0.5 0.6875 0.5 1.171875 C 0.5 1.671875 0.9375 2.046875 1.5625 2.046875 C 2.578125 2.046875 3.609375 1.140625 3.890625 0.015625 Z M 4.84375 -3.796875 \" style=\"stroke:none;\"/>\n",
       "</symbol>\n",
       "<symbol id=\"glyph1-0\" overflow=\"visible\">\n",
       "<path d=\"\" style=\"stroke:none;\"/>\n",
       "</symbol>\n",
       "<symbol id=\"glyph1-1\" overflow=\"visible\">\n",
       "<path d=\"M 2.328125 -4.4375 C 2.328125 -4.625 2.328125 -4.625 2.125 -4.625 C 1.671875 -4.1875 1.046875 -4.1875 0.765625 -4.1875 L 0.765625 -3.9375 C 0.921875 -3.9375 1.390625 -3.9375 1.765625 -4.125 L 1.765625 -0.578125 C 1.765625 -0.34375 1.765625 -0.25 1.078125 -0.25 L 0.8125 -0.25 L 0.8125 0 C 0.9375 0 1.796875 -0.03125 2.046875 -0.03125 C 2.265625 -0.03125 3.140625 0 3.296875 0 L 3.296875 -0.25 L 3.03125 -0.25 C 2.328125 -0.25 2.328125 -0.34375 2.328125 -0.578125 Z M 2.328125 -4.4375 \" style=\"stroke:none;\"/>\n",
       "</symbol>\n",
       "<symbol id=\"glyph1-2\" overflow=\"visible\">\n",
       "<path d=\"M 3.515625 -1.265625 L 3.28125 -1.265625 C 3.265625 -1.109375 3.1875 -0.703125 3.09375 -0.640625 C 3.046875 -0.59375 2.515625 -0.59375 2.40625 -0.59375 L 1.125 -0.59375 C 1.859375 -1.234375 2.109375 -1.4375 2.515625 -1.765625 C 3.03125 -2.171875 3.515625 -2.609375 3.515625 -3.265625 C 3.515625 -4.109375 2.78125 -4.625 1.890625 -4.625 C 1.03125 -4.625 0.4375 -4.015625 0.4375 -3.375 C 0.4375 -3.03125 0.734375 -2.984375 0.8125 -2.984375 C 0.96875 -2.984375 1.171875 -3.109375 1.171875 -3.359375 C 1.171875 -3.484375 1.125 -3.734375 0.765625 -3.734375 C 0.984375 -4.21875 1.453125 -4.375 1.78125 -4.375 C 2.484375 -4.375 2.84375 -3.828125 2.84375 -3.265625 C 2.84375 -2.65625 2.40625 -2.1875 2.1875 -1.9375 L 0.515625 -0.265625 C 0.4375 -0.203125 0.4375 -0.1875 0.4375 0 L 3.3125 0 Z M 3.515625 -1.265625 \" style=\"stroke:none;\"/>\n",
       "</symbol>\n",
       "<symbol id=\"glyph1-3\" overflow=\"visible\">\n",
       "<path d=\"M 1.90625 -2.328125 C 2.453125 -2.328125 2.84375 -1.953125 2.84375 -1.203125 C 2.84375 -0.34375 2.328125 -0.078125 1.9375 -0.078125 C 1.65625 -0.078125 1.03125 -0.15625 0.75 -0.578125 C 1.078125 -0.578125 1.15625 -0.8125 1.15625 -0.96875 C 1.15625 -1.1875 0.984375 -1.34375 0.765625 -1.34375 C 0.578125 -1.34375 0.375 -1.21875 0.375 -0.9375 C 0.375 -0.28125 1.09375 0.140625 1.9375 0.140625 C 2.90625 0.140625 3.578125 -0.515625 3.578125 -1.203125 C 3.578125 -1.75 3.140625 -2.296875 2.375 -2.453125 C 3.09375 -2.71875 3.359375 -3.234375 3.359375 -3.671875 C 3.359375 -4.21875 2.734375 -4.625 1.953125 -4.625 C 1.1875 -4.625 0.59375 -4.25 0.59375 -3.6875 C 0.59375 -3.453125 0.75 -3.328125 0.953125 -3.328125 C 1.171875 -3.328125 1.3125 -3.484375 1.3125 -3.671875 C 1.3125 -3.875 1.171875 -4.03125 0.953125 -4.046875 C 1.203125 -4.34375 1.671875 -4.421875 1.9375 -4.421875 C 2.25 -4.421875 2.6875 -4.265625 2.6875 -3.671875 C 2.6875 -3.375 2.59375 -3.046875 2.40625 -2.84375 C 2.1875 -2.578125 1.984375 -2.5625 1.640625 -2.53125 C 1.46875 -2.515625 1.453125 -2.515625 1.421875 -2.515625 C 1.40625 -2.515625 1.34375 -2.5 1.34375 -2.421875 C 1.34375 -2.328125 1.40625 -2.328125 1.53125 -2.328125 Z M 1.90625 -2.328125 \" style=\"stroke:none;\"/>\n",
       "</symbol>\n",
       "<symbol id=\"glyph1-4\" overflow=\"visible\">\n",
       "<path d=\"M 3.6875 -1.140625 L 3.6875 -1.390625 L 2.90625 -1.390625 L 2.90625 -4.5 C 2.90625 -4.640625 2.90625 -4.703125 2.765625 -4.703125 C 2.671875 -4.703125 2.640625 -4.703125 2.578125 -4.59375 L 0.265625 -1.390625 L 0.265625 -1.140625 L 2.328125 -1.140625 L 2.328125 -0.578125 C 2.328125 -0.328125 2.328125 -0.25 1.75 -0.25 L 1.5625 -0.25 L 1.5625 0 C 1.921875 -0.015625 2.359375 -0.03125 2.609375 -0.03125 C 2.875 -0.03125 3.3125 -0.015625 3.671875 0 L 3.671875 -0.25 L 3.484375 -0.25 C 2.90625 -0.25 2.90625 -0.328125 2.90625 -0.578125 L 2.90625 -1.140625 Z M 2.375 -3.9375 L 2.375 -1.390625 L 0.53125 -1.390625 Z M 2.375 -3.9375 \" style=\"stroke:none;\"/>\n",
       "</symbol>\n",
       "</g>\n",
       "<clipPath id=\"clip1\">\n",
       "  <path d=\"M 0 22 L 68 22 L 68 75.292969 L 0 75.292969 Z M 0 22 \"/>\n",
       "</clipPath>\n",
       "<clipPath id=\"clip2\">\n",
       "  <path d=\"M 0 0 L 21 0 L 21 75.292969 L 0 75.292969 Z M 0 0 \"/>\n",
       "</clipPath>\n",
       "</defs>\n",
       "<g id=\"surface1\">\n",
       "<g clip-path=\"url(#clip1)\" clip-rule=\"nonzero\">\n",
       "<path d=\"M 18.425656 -27.638156 L 44.257688 -6.970187 \" style=\"fill:none;stroke-width:1.59404;stroke-linecap:butt;stroke-linejoin:miter;stroke:rgb(0%,0%,0%);stroke-opacity:1;stroke-miterlimit:10;\" transform=\"matrix(1,0,0,-1,0.797,37.647)\"/>\n",
       "</g>\n",
       "<path d=\"M 1.515174 0.000179974 C -0.37777 0.379065 -2.273754 1.135565 -4.544287 2.461852 C -2.270714 0.75795 -2.271974 -0.756779 -4.541978 -2.46239 C -2.271374 -1.137444 -0.37962 -0.379825 1.515174 0.000179974 Z M 1.515174 0.000179974 \" style=\"fill-rule:nonzero;fill:rgb(0%,0%,0%);fill-opacity:1;stroke-width:1.59404;stroke-linecap:butt;stroke-linejoin:round;stroke:rgb(0%,0%,0%);stroke-opacity:1;stroke-miterlimit:10;\" transform=\"matrix(0.78087,-0.62473,-0.62473,-0.78087,45.05524,44.61859)\"/>\n",
       "<g style=\"fill:rgb(0%,0%,0%);fill-opacity:1;\">\n",
       "  <use x=\"20.33\" xlink:href=\"#glyph0-1\" y=\"54.145\"/>\n",
       "</g>\n",
       "<g style=\"fill:rgb(0%,0%,0%);fill-opacity:1;\">\n",
       "  <use x=\"27.463\" xlink:href=\"#glyph1-1\" y=\"55.639\"/>\n",
       "</g>\n",
       "<g style=\"fill:rgb(0%,0%,0%);fill-opacity:1;\">\n",
       "  <use x=\"4.928\" xlink:href=\"#glyph0-2\" y=\"66.682\"/>\n",
       "</g>\n",
       "<g style=\"fill:rgb(0%,0%,0%);fill-opacity:1;\">\n",
       "  <use x=\"10.622\" xlink:href=\"#glyph1-1\" y=\"68.176\"/>\n",
       "</g>\n",
       "<path d=\"M 18.425656 -9.212375 L 43.828 -2.438937 \" style=\"fill:none;stroke-width:1.59404;stroke-linecap:butt;stroke-linejoin:miter;stroke:rgb(0%,0%,0%);stroke-opacity:1;stroke-miterlimit:10;\" transform=\"matrix(1,0,0,-1,0.797,37.647)\"/>\n",
       "<path d=\"M 1.515397 -0.000280005 C -0.377244 0.379274 -2.270645 1.134391 -4.543887 2.463021 C -2.27089 0.75506 -2.270868 -0.758496 -4.541302 -2.46175 C -2.271113 -1.137827 -0.377735 -0.379388 1.515397 -0.000280005 Z M 1.515397 -0.000280005 \" style=\"fill-rule:nonzero;fill:rgb(0%,0%,0%);fill-opacity:1;stroke-width:1.59404;stroke-linecap:butt;stroke-linejoin:round;stroke:rgb(0%,0%,0%);stroke-opacity:1;stroke-miterlimit:10;\" transform=\"matrix(0.96782,-0.25807,-0.25807,-0.96782,44.62314,40.08612)\"/>\n",
       "<g style=\"fill:rgb(0%,0%,0%);fill-opacity:1;\">\n",
       "  <use x=\"20.33\" xlink:href=\"#glyph0-1\" y=\"39.405\"/>\n",
       "</g>\n",
       "<g style=\"fill:rgb(0%,0%,0%);fill-opacity:1;\">\n",
       "  <use x=\"27.463\" xlink:href=\"#glyph1-2\" y=\"40.899\"/>\n",
       "</g>\n",
       "<g style=\"fill:rgb(0%,0%,0%);fill-opacity:1;\">\n",
       "  <use x=\"4.928\" xlink:href=\"#glyph0-2\" y=\"48.257\"/>\n",
       "</g>\n",
       "<g style=\"fill:rgb(0%,0%,0%);fill-opacity:1;\">\n",
       "  <use x=\"10.622\" xlink:href=\"#glyph1-2\" y=\"49.751\"/>\n",
       "</g>\n",
       "<path d=\"M 18.425656 9.213406 L 43.828 2.439969 \" style=\"fill:none;stroke-width:1.59404;stroke-linecap:butt;stroke-linejoin:miter;stroke:rgb(0%,0%,0%);stroke-opacity:1;stroke-miterlimit:10;\" transform=\"matrix(1,0,0,-1,0.797,37.647)\"/>\n",
       "<path d=\"M 1.515057 0.00155484 C -0.378073 0.380624 -2.270451 1.135254 -4.541658 2.462896 C -2.270198 0.755925 -2.270191 -0.757623 -4.544148 -2.46185 C -2.269938 -1.136952 -0.377567 -0.378034 1.515057 0.00155484 Z M 1.515057 0.00155484 \" style=\"fill-rule:nonzero;fill:rgb(0%,0%,0%);fill-opacity:1;stroke-width:1.59404;stroke-linecap:butt;stroke-linejoin:round;stroke:rgb(0%,0%,0%);stroke-opacity:1;stroke-miterlimit:10;\" transform=\"matrix(0.96782,0.25809,0.25809,-0.96782,44.62314,35.20814)\"/>\n",
       "<g style=\"fill:rgb(0%,0%,0%);fill-opacity:1;\">\n",
       "  <use x=\"20.33\" xlink:href=\"#glyph0-1\" y=\"24.665\"/>\n",
       "</g>\n",
       "<g style=\"fill:rgb(0%,0%,0%);fill-opacity:1;\">\n",
       "  <use x=\"27.463\" xlink:href=\"#glyph1-3\" y=\"26.159\"/>\n",
       "</g>\n",
       "<g style=\"fill:rgb(0%,0%,0%);fill-opacity:1;\">\n",
       "  <use x=\"4.928\" xlink:href=\"#glyph0-2\" y=\"29.832\"/>\n",
       "</g>\n",
       "<g style=\"fill:rgb(0%,0%,0%);fill-opacity:1;\">\n",
       "  <use x=\"10.622\" xlink:href=\"#glyph1-3\" y=\"31.326\"/>\n",
       "</g>\n",
       "<path d=\"M 18.425656 27.639188 L 44.257688 6.971219 \" style=\"fill:none;stroke-width:1.59404;stroke-linecap:butt;stroke-linejoin:miter;stroke:rgb(0%,0%,0%);stroke-opacity:1;stroke-miterlimit:10;\" transform=\"matrix(1,0,0,-1,0.797,37.647)\"/>\n",
       "<path d=\"M 1.514345 0.000855715 C -0.378 0.377793 -2.269748 1.135393 -4.542788 2.463363 C -2.272785 0.75778 -2.271513 -0.756939 -4.545059 -2.460848 C -2.27211 -1.137602 -0.378584 -0.378042 1.514345 0.000855715 Z M 1.514345 0.000855715 \" style=\"fill-rule:nonzero;fill:rgb(0%,0%,0%);fill-opacity:1;stroke-width:1.59404;stroke-linecap:butt;stroke-linejoin:round;stroke:rgb(0%,0%,0%);stroke-opacity:1;stroke-miterlimit:10;\" transform=\"matrix(0.78087,0.62474,0.62474,-0.78087,45.05524,30.67569)\"/>\n",
       "<g style=\"fill:rgb(0%,0%,0%);fill-opacity:1;\">\n",
       "  <use x=\"20.33\" xlink:href=\"#glyph0-1\" y=\"9.925\"/>\n",
       "</g>\n",
       "<g style=\"fill:rgb(0%,0%,0%);fill-opacity:1;\">\n",
       "  <use x=\"27.463\" xlink:href=\"#glyph1-4\" y=\"11.419\"/>\n",
       "</g>\n",
       "<g style=\"fill:rgb(0%,0%,0%);fill-opacity:1;\">\n",
       "  <use x=\"4.928\" xlink:href=\"#glyph0-2\" y=\"11.407\"/>\n",
       "</g>\n",
       "<g style=\"fill:rgb(0%,0%,0%);fill-opacity:1;\">\n",
       "  <use x=\"10.622\" xlink:href=\"#glyph1-4\" y=\"12.901\"/>\n",
       "</g>\n",
       "<path d=\"M 64.488156 -0.0014375 L 80.601438 -0.0014375 \" style=\"fill:none;stroke-width:1.59404;stroke-linecap:butt;stroke-linejoin:miter;stroke:rgb(0%,0%,0%);stroke-opacity:1;stroke-miterlimit:10;\" transform=\"matrix(1,0,0,-1,0.797,37.647)\"/>\n",
       "<path d=\"M 1.514803 -0.0014375 C -0.379729 0.377469 -2.270354 1.135281 -4.543791 2.4595 C -2.270354 0.756375 -2.270354 -0.755344 -4.543791 -2.462375 C -2.270354 -1.13425 -0.379729 -0.380344 1.514803 -0.0014375 Z M 1.514803 -0.0014375 \" style=\"fill-rule:nonzero;fill:rgb(0%,0%,0%);fill-opacity:1;stroke-width:1.59404;stroke-linecap:butt;stroke-linejoin:round;stroke:rgb(0%,0%,0%);stroke-opacity:1;stroke-miterlimit:10;\" transform=\"matrix(1,0,0,-1,81.39926,37.647)\"/>\n",
       "<g clip-path=\"url(#clip2)\" clip-rule=\"nonzero\">\n",
       "<path d=\"M -0.000125 -36.849094 L 18.425656 -36.849094 M -0.000125 -18.423312 L 18.425656 -18.423312 M -0.000125 -0.0014375 L 18.425656 -0.0014375 M -0.000125 18.424344 L 18.425656 18.424344 M -0.000125 36.842313 L 18.425656 36.842313 M -0.000125 -36.849094 L -0.000125 36.850125 M 18.417844 -36.849094 L 18.417844 36.850125 \" style=\"fill:none;stroke-width:1.59404;stroke-linecap:butt;stroke-linejoin:miter;stroke:rgb(21.569824%,49.412537%,72.155762%);stroke-opacity:1;stroke-miterlimit:10;\" transform=\"matrix(1,0,0,-1,0.797,37.647)\"/>\n",
       "<path d=\"M -0.000125 -36.849094 L -0.000125 36.850125 L 18.425656 36.850125 L 18.425656 -36.849094 Z M -0.000125 -36.849094 \" style=\"fill:none;stroke-width:1.59404;stroke-linecap:butt;stroke-linejoin:miter;stroke:rgb(21.569824%,49.412537%,72.155762%);stroke-opacity:1;stroke-miterlimit:10;\" transform=\"matrix(1,0,0,-1,0.797,37.647)\"/>\n",
       "</g>\n",
       "<path d=\"M 49.749875 -7.208469 L 50.206906 -7.13425 L 50.667844 -7.032687 L 51.128781 -6.88425 L 51.589719 -6.669406 L 52.050656 -6.376437 L 52.511594 -5.966281 L 52.972531 -5.411594 L 53.433469 -4.681125 L 53.894406 -3.75925 L 54.351438 -2.642062 L 54.812375 -1.368625 L 55.273313 -0.00534375 L 55.73425 1.361844 L 56.195188 2.635281 L 56.656125 3.752469 L 57.117063 4.67825 L 57.578 5.404813 L 58.038938 5.963406 L 58.499875 6.373563 L 58.956906 6.670438 L 59.417844 6.881375 L 59.878781 7.029813 L 60.339719 7.135281 L 60.800656 7.2095 \" style=\"fill:none;stroke-width:1.59404;stroke-linecap:butt;stroke-linejoin:miter;stroke:rgb(89.411926%,10.195923%,10.978699%);stroke-opacity:1;stroke-miterlimit:10;\" transform=\"matrix(1,0,0,-1,0.797,37.647)\"/>\n",
       "<path d=\"M 64.488156 -0.0014375 C 64.488156 5.088406 60.363156 9.213406 55.277219 9.213406 C 50.187375 9.213406 46.062375 5.088406 46.062375 -0.0014375 C 46.062375 -5.087375 50.187375 -9.212375 55.277219 -9.212375 C 60.363156 -9.212375 64.488156 -5.087375 64.488156 -0.0014375 Z M 64.488156 -0.0014375 \" style=\"fill:none;stroke-width:1.59404;stroke-linecap:butt;stroke-linejoin:miter;stroke:rgb(89.411926%,10.195923%,10.978699%);stroke-opacity:1;stroke-miterlimit:10;\" transform=\"matrix(1,0,0,-1,0.797,37.647)\"/>\n",
       "<g style=\"fill:rgb(0%,0%,0%);fill-opacity:1;\">\n",
       "  <use x=\"87.229\" xlink:href=\"#glyph0-3\" y=\"38.823\"/>\n",
       "</g>\n",
       "</g>\n",
       "</svg>"
      ]
     },
     "metadata": {
      "isolated": "true"
     },
     "output_type": "display_data"
    }
   ],
   "source": [
    "%%tikz -l arrows -s 1000,400 -sc 0.65 -f svg\n",
    "\n",
    "\\definecolor{nice-red}{HTML}{E41A1C}\n",
    "\\definecolor{nice-orange}{HTML}{FF7F00}\n",
    "\\definecolor{nice-yellow}{HTML}{FFC020}\n",
    "\\definecolor{nice-green}{HTML}{4DAF4A}\n",
    "\\definecolor{nice-blue}{HTML}{377EB8}\n",
    "\\definecolor{nice-purple}{HTML}{984EA3}\n",
    "  \n",
    "\\foreach \\i in {1,2,3,4} {\n",
    "    \\draw[->, >=stealth', ultra thick, color=black] (1,\\i-2.5) -- (2.5,\\i*0.2-0.5) node [near start, above] {$w_\\i$};\n",
    "    \\node[] at (0.5,\\i-2.5) {$x_\\i$};     \n",
    "}\n",
    "\n",
    "\\draw[->, >=stealth', ultra thick] (3.5,0) -- (4.5,0);\n",
    "  \n",
    "%input      \n",
    "\\draw[ultra thick, color=nice-blue] (0,-2) grid (1,2);\n",
    "\\draw[ultra thick, color=nice-blue] (0,-2) rectangle (1,2);\n",
    "\n",
    "%non-linearities\n",
    "\\begin{scope}[shift={(3,0)},scale=1.0, local bounding box=sigmoid]\n",
    "    \\draw[ultra thick, yshift=-0.5cm, color=nice-red] plot [domain=-0.3:0.3](\\x, {(0.8/(1+exp(-15*\\x))+0.1)});\n",
    "    \\draw[ultra thick, color=nice-red] (0,0) circle (0.5cm);\n",
    "\\end{scope}        \n",
    "      \n",
    "\\node[anchor = west] at (4.5,0) {$y$};"
   ]
  },
  {
   "cell_type": "markdown",
   "metadata": {
    "slideshow": {
     "slide_type": "slide"
    }
   },
   "source": [
    "## Multiple Neurons\n",
    "Let us assume we have two neurons:\n",
    "\\begin{align}\n",
    "y_1 &= \\text{sigmoid}(\\mathbf{w}^T_1 \\mathbf{x} + b_1)\\\\\n",
    "y_2 &= \\text{sigmoid}(\\mathbf{w}^T_2\\mathbf{x} + b_2)\n",
    "\\end{align}"
   ]
  },
  {
   "cell_type": "code",
   "execution_count": 41,
   "metadata": {
    "ExecuteTime": {
     "end_time": "2016-11-21T14:34:44.511515",
     "start_time": "2016-11-21T14:34:42.895348"
    },
    "collapsed": false,
    "hide_input": false,
    "scrolled": true
   },
   "outputs": [
    {
     "data": {
      "image/svg+xml": [
       "<svg height=\"400px\" version=\"1.1\" viewBox=\"0 0 99.904 75.294\" width=\"1000px\" xmlns=\"http://www.w3.org/2000/svg\" xmlns:xlink=\"http://www.w3.org/1999/xlink\">\n",
       "<defs>\n",
       "<g>\n",
       "<symbol id=\"glyph0-0\" overflow=\"visible\">\n",
       "<path d=\"\" style=\"stroke:none;\"/>\n",
       "</symbol>\n",
       "<symbol id=\"glyph0-1\" overflow=\"visible\">\n",
       "<path d=\"M 3.328125 -3.015625 C 3.390625 -3.265625 3.625 -4.1875 4.3125 -4.1875 C 4.359375 -4.1875 4.609375 -4.1875 4.8125 -4.0625 C 4.53125 -4 4.34375 -3.765625 4.34375 -3.515625 C 4.34375 -3.359375 4.453125 -3.171875 4.71875 -3.171875 C 4.9375 -3.171875 5.25 -3.34375 5.25 -3.75 C 5.25 -4.265625 4.671875 -4.40625 4.328125 -4.40625 C 3.75 -4.40625 3.40625 -3.875 3.28125 -3.65625 C 3.03125 -4.3125 2.5 -4.40625 2.203125 -4.40625 C 1.171875 -4.40625 0.59375 -3.125 0.59375 -2.875 C 0.59375 -2.765625 0.703125 -2.765625 0.71875 -2.765625 C 0.796875 -2.765625 0.828125 -2.796875 0.84375 -2.875 C 1.1875 -3.9375 1.84375 -4.1875 2.1875 -4.1875 C 2.375 -4.1875 2.71875 -4.09375 2.71875 -3.515625 C 2.71875 -3.203125 2.546875 -2.546875 2.1875 -1.140625 C 2.03125 -0.53125 1.671875 -0.109375 1.234375 -0.109375 C 1.171875 -0.109375 0.953125 -0.109375 0.734375 -0.234375 C 0.984375 -0.296875 1.203125 -0.5 1.203125 -0.78125 C 1.203125 -1.046875 0.984375 -1.125 0.84375 -1.125 C 0.53125 -1.125 0.296875 -0.875 0.296875 -0.546875 C 0.296875 -0.09375 0.78125 0.109375 1.21875 0.109375 C 1.890625 0.109375 2.25 -0.59375 2.265625 -0.640625 C 2.390625 -0.28125 2.75 0.109375 3.34375 0.109375 C 4.375 0.109375 4.9375 -1.171875 4.9375 -1.421875 C 4.9375 -1.53125 4.859375 -1.53125 4.828125 -1.53125 C 4.734375 -1.53125 4.71875 -1.484375 4.6875 -1.421875 C 4.359375 -0.34375 3.6875 -0.109375 3.375 -0.109375 C 2.984375 -0.109375 2.828125 -0.421875 2.828125 -0.765625 C 2.828125 -0.984375 2.875 -1.203125 2.984375 -1.640625 Z M 3.328125 -3.015625 \" style=\"stroke:none;\"/>\n",
       "</symbol>\n",
       "<symbol id=\"glyph0-2\" overflow=\"visible\">\n",
       "<path d=\"M 4.84375 -3.796875 C 4.890625 -3.9375 4.890625 -3.953125 4.890625 -4.03125 C 4.890625 -4.203125 4.75 -4.296875 4.59375 -4.296875 C 4.5 -4.296875 4.34375 -4.234375 4.25 -4.09375 C 4.234375 -4.03125 4.140625 -3.734375 4.109375 -3.546875 C 4.03125 -3.296875 3.96875 -3.015625 3.90625 -2.75 L 3.453125 -0.953125 C 3.421875 -0.8125 2.984375 -0.109375 2.328125 -0.109375 C 1.828125 -0.109375 1.71875 -0.546875 1.71875 -0.921875 C 1.71875 -1.375 1.890625 -2 2.21875 -2.875 C 2.375 -3.28125 2.421875 -3.390625 2.421875 -3.59375 C 2.421875 -4.03125 2.109375 -4.40625 1.609375 -4.40625 C 0.65625 -4.40625 0.296875 -2.953125 0.296875 -2.875 C 0.296875 -2.765625 0.390625 -2.765625 0.40625 -2.765625 C 0.515625 -2.765625 0.515625 -2.796875 0.5625 -2.953125 C 0.84375 -3.890625 1.234375 -4.1875 1.578125 -4.1875 C 1.65625 -4.1875 1.828125 -4.1875 1.828125 -3.875 C 1.828125 -3.625 1.71875 -3.359375 1.65625 -3.171875 C 1.25 -2.109375 1.078125 -1.546875 1.078125 -1.078125 C 1.078125 -0.1875 1.703125 0.109375 2.296875 0.109375 C 2.6875 0.109375 3.015625 -0.0625 3.296875 -0.34375 C 3.171875 0.171875 3.046875 0.671875 2.65625 1.203125 C 2.390625 1.53125 2.015625 1.828125 1.5625 1.828125 C 1.421875 1.828125 0.96875 1.796875 0.796875 1.40625 C 0.953125 1.40625 1.09375 1.40625 1.21875 1.28125 C 1.328125 1.203125 1.421875 1.0625 1.421875 0.875 C 1.421875 0.5625 1.15625 0.53125 1.0625 0.53125 C 0.828125 0.53125 0.5 0.6875 0.5 1.171875 C 0.5 1.671875 0.9375 2.046875 1.5625 2.046875 C 2.578125 2.046875 3.609375 1.140625 3.890625 0.015625 Z M 4.84375 -3.796875 \" style=\"stroke:none;\"/>\n",
       "</symbol>\n",
       "<symbol id=\"glyph1-0\" overflow=\"visible\">\n",
       "<path d=\"\" style=\"stroke:none;\"/>\n",
       "</symbol>\n",
       "<symbol id=\"glyph1-1\" overflow=\"visible\">\n",
       "<path d=\"M 2.328125 -4.4375 C 2.328125 -4.625 2.328125 -4.625 2.125 -4.625 C 1.671875 -4.1875 1.046875 -4.1875 0.765625 -4.1875 L 0.765625 -3.9375 C 0.921875 -3.9375 1.390625 -3.9375 1.765625 -4.125 L 1.765625 -0.578125 C 1.765625 -0.34375 1.765625 -0.25 1.078125 -0.25 L 0.8125 -0.25 L 0.8125 0 C 0.9375 0 1.796875 -0.03125 2.046875 -0.03125 C 2.265625 -0.03125 3.140625 0 3.296875 0 L 3.296875 -0.25 L 3.03125 -0.25 C 2.328125 -0.25 2.328125 -0.34375 2.328125 -0.578125 Z M 2.328125 -4.4375 \" style=\"stroke:none;\"/>\n",
       "</symbol>\n",
       "<symbol id=\"glyph1-2\" overflow=\"visible\">\n",
       "<path d=\"M 3.515625 -1.265625 L 3.28125 -1.265625 C 3.265625 -1.109375 3.1875 -0.703125 3.09375 -0.640625 C 3.046875 -0.59375 2.515625 -0.59375 2.40625 -0.59375 L 1.125 -0.59375 C 1.859375 -1.234375 2.109375 -1.4375 2.515625 -1.765625 C 3.03125 -2.171875 3.515625 -2.609375 3.515625 -3.265625 C 3.515625 -4.109375 2.78125 -4.625 1.890625 -4.625 C 1.03125 -4.625 0.4375 -4.015625 0.4375 -3.375 C 0.4375 -3.03125 0.734375 -2.984375 0.8125 -2.984375 C 0.96875 -2.984375 1.171875 -3.109375 1.171875 -3.359375 C 1.171875 -3.484375 1.125 -3.734375 0.765625 -3.734375 C 0.984375 -4.21875 1.453125 -4.375 1.78125 -4.375 C 2.484375 -4.375 2.84375 -3.828125 2.84375 -3.265625 C 2.84375 -2.65625 2.40625 -2.1875 2.1875 -1.9375 L 0.515625 -0.265625 C 0.4375 -0.203125 0.4375 -0.1875 0.4375 0 L 3.3125 0 Z M 3.515625 -1.265625 \" style=\"stroke:none;\"/>\n",
       "</symbol>\n",
       "<symbol id=\"glyph1-3\" overflow=\"visible\">\n",
       "<path d=\"M 1.90625 -2.328125 C 2.453125 -2.328125 2.84375 -1.953125 2.84375 -1.203125 C 2.84375 -0.34375 2.328125 -0.078125 1.9375 -0.078125 C 1.65625 -0.078125 1.03125 -0.15625 0.75 -0.578125 C 1.078125 -0.578125 1.15625 -0.8125 1.15625 -0.96875 C 1.15625 -1.1875 0.984375 -1.34375 0.765625 -1.34375 C 0.578125 -1.34375 0.375 -1.21875 0.375 -0.9375 C 0.375 -0.28125 1.09375 0.140625 1.9375 0.140625 C 2.90625 0.140625 3.578125 -0.515625 3.578125 -1.203125 C 3.578125 -1.75 3.140625 -2.296875 2.375 -2.453125 C 3.09375 -2.71875 3.359375 -3.234375 3.359375 -3.671875 C 3.359375 -4.21875 2.734375 -4.625 1.953125 -4.625 C 1.1875 -4.625 0.59375 -4.25 0.59375 -3.6875 C 0.59375 -3.453125 0.75 -3.328125 0.953125 -3.328125 C 1.171875 -3.328125 1.3125 -3.484375 1.3125 -3.671875 C 1.3125 -3.875 1.171875 -4.03125 0.953125 -4.046875 C 1.203125 -4.34375 1.671875 -4.421875 1.9375 -4.421875 C 2.25 -4.421875 2.6875 -4.265625 2.6875 -3.671875 C 2.6875 -3.375 2.59375 -3.046875 2.40625 -2.84375 C 2.1875 -2.578125 1.984375 -2.5625 1.640625 -2.53125 C 1.46875 -2.515625 1.453125 -2.515625 1.421875 -2.515625 C 1.40625 -2.515625 1.34375 -2.5 1.34375 -2.421875 C 1.34375 -2.328125 1.40625 -2.328125 1.53125 -2.328125 Z M 1.90625 -2.328125 \" style=\"stroke:none;\"/>\n",
       "</symbol>\n",
       "<symbol id=\"glyph1-4\" overflow=\"visible\">\n",
       "<path d=\"M 3.6875 -1.140625 L 3.6875 -1.390625 L 2.90625 -1.390625 L 2.90625 -4.5 C 2.90625 -4.640625 2.90625 -4.703125 2.765625 -4.703125 C 2.671875 -4.703125 2.640625 -4.703125 2.578125 -4.59375 L 0.265625 -1.390625 L 0.265625 -1.140625 L 2.328125 -1.140625 L 2.328125 -0.578125 C 2.328125 -0.328125 2.328125 -0.25 1.75 -0.25 L 1.5625 -0.25 L 1.5625 0 C 1.921875 -0.015625 2.359375 -0.03125 2.609375 -0.03125 C 2.875 -0.03125 3.3125 -0.015625 3.671875 0 L 3.671875 -0.25 L 3.484375 -0.25 C 2.90625 -0.25 2.90625 -0.328125 2.90625 -0.578125 L 2.90625 -1.140625 Z M 2.375 -3.9375 L 2.375 -1.390625 L 0.53125 -1.390625 Z M 2.375 -3.9375 \" style=\"stroke:none;\"/>\n",
       "</symbol>\n",
       "</g>\n",
       "<clipPath id=\"clip1\">\n",
       "  <path d=\"M 0 39 L 68 39 L 68 75.292969 L 0 75.292969 Z M 0 39 \"/>\n",
       "</clipPath>\n",
       "<clipPath id=\"clip2\">\n",
       "  <path d=\"M 0 4 L 69 4 L 69 75.292969 L 0 75.292969 Z M 0 4 \"/>\n",
       "</clipPath>\n",
       "<clipPath id=\"clip3\">\n",
       "  <path d=\"M 0 24 L 68 24 L 68 75.292969 L 0 75.292969 Z M 0 24 \"/>\n",
       "</clipPath>\n",
       "<clipPath id=\"clip4\">\n",
       "  <path d=\"M 0 5 L 68 5 L 68 75.292969 L 0 75.292969 Z M 0 5 \"/>\n",
       "</clipPath>\n",
       "<clipPath id=\"clip5\">\n",
       "  <path d=\"M 0 0 L 21 0 L 21 75.292969 L 0 75.292969 Z M 0 0 \"/>\n",
       "</clipPath>\n",
       "<clipPath id=\"clip6\">\n",
       "  <path d=\"M 28 26 L 85 26 L 85 75.292969 L 28 75.292969 Z M 28 26 \"/>\n",
       "</clipPath>\n",
       "<clipPath id=\"clip7\">\n",
       "  <path d=\"M 24 24 L 88 24 L 88 75.292969 L 24 75.292969 Z M 24 24 \"/>\n",
       "</clipPath>\n",
       "</defs>\n",
       "<g id=\"surface1\">\n",
       "<g clip-path=\"url(#clip1)\" clip-rule=\"nonzero\">\n",
       "<path d=\"M 18.425656 -27.638156 L 43.769406 -24.25925 \" style=\"fill:none;stroke-width:1.59404;stroke-linecap:butt;stroke-linejoin:miter;stroke:rgb(24.154663%,54.899597%,23.214722%);stroke-opacity:1;stroke-miterlimit:10;\" transform=\"matrix(1,0,0,-1,0.797,37.647)\"/>\n",
       "</g>\n",
       "<path d=\"M 1.514676 -0.00184682 C -0.376383 0.380248 -2.272609 1.13725 -4.542465 2.460089 C -2.271828 0.758988 -2.273088 -0.757413 -4.544431 -2.459637 C -2.272306 -1.135675 -0.379206 -0.37963 1.514676 -0.00184682 Z M 1.514676 -0.00184682 \" style=\"fill-rule:nonzero;fill:rgb(24.154663%,54.899597%,23.214722%);fill-opacity:1;stroke-width:1.59404;stroke-linecap:butt;stroke-linejoin:round;stroke:rgb(24.154663%,54.899597%,23.214722%);stroke-opacity:1;stroke-miterlimit:10;\" transform=\"matrix(0.99165,-0.1322,-0.1322,-0.99165,44.56804,61.90544)\"/>\n",
       "<g style=\"fill:rgb(0%,0%,0%);fill-opacity:1;\">\n",
       "  <use x=\"4.928\" xlink:href=\"#glyph0-1\" y=\"66.682\"/>\n",
       "</g>\n",
       "<g style=\"fill:rgb(0%,0%,0%);fill-opacity:1;\">\n",
       "  <use x=\"10.622\" xlink:href=\"#glyph1-1\" y=\"68.176\"/>\n",
       "</g>\n",
       "<g clip-path=\"url(#clip2)\" clip-rule=\"nonzero\">\n",
       "<path d=\"M 18.425656 -27.638156 L 44.761594 10.986844 \" style=\"fill:none;stroke-width:1.59404;stroke-linecap:butt;stroke-linejoin:miter;stroke:rgb(71.528625%,8.155823%,8.782959%);stroke-opacity:1;stroke-miterlimit:10;\" transform=\"matrix(1,0,0,-1,0.797,37.647)\"/>\n",
       "</g>\n",
       "<path d=\"M 1.512635 -0.000468502 C -0.37925 0.377083 -2.271874 1.136762 -4.543851 2.459733 C -2.273334 0.757859 -2.270522 -0.756582 -4.542301 -2.461466 C -2.271982 -1.135485 -0.378944 -0.378525 1.512635 -0.000468502 Z M 1.512635 -0.000468502 \" style=\"fill-rule:nonzero;fill:rgb(71.528625%,8.155823%,8.782959%);fill-opacity:1;stroke-width:1.59404;stroke-linecap:butt;stroke-linejoin:round;stroke:rgb(71.528625%,8.155823%,8.782959%);stroke-opacity:1;stroke-miterlimit:10;\" transform=\"matrix(0.56383,-0.82692,-0.82692,-0.56383,45.5569,26.66072)\"/>\n",
       "<g clip-path=\"url(#clip3)\" clip-rule=\"nonzero\">\n",
       "<path d=\"M 18.425656 -9.212375 L 43.910031 -19.407687 \" style=\"fill:none;stroke-width:1.59404;stroke-linecap:butt;stroke-linejoin:miter;stroke:rgb(24.154663%,54.899597%,23.214722%);stroke-opacity:1;stroke-miterlimit:10;\" transform=\"matrix(1,0,0,-1,0.797,37.647)\"/>\n",
       "</g>\n",
       "<path d=\"M 1.513752 0.000469793 C -0.378056 0.379959 -2.269869 1.136796 -4.5441 2.461819 C -2.273478 0.758002 -2.270564 -0.75862 -4.541858 -2.459613 C -2.270558 -1.135969 -0.376599 -0.378352 1.513752 0.000469793 Z M 1.513752 0.000469793 \" style=\"fill-rule:nonzero;fill:rgb(24.154663%,54.899597%,23.214722%);fill-opacity:1;stroke-width:1.59404;stroke-linecap:butt;stroke-linejoin:round;stroke:rgb(24.154663%,54.899597%,23.214722%);stroke-opacity:1;stroke-miterlimit:10;\" transform=\"matrix(0.93166,0.37268,0.37268,-0.93166,44.70671,57.05348)\"/>\n",
       "<g style=\"fill:rgb(0%,0%,0%);fill-opacity:1;\">\n",
       "  <use x=\"4.928\" xlink:href=\"#glyph0-1\" y=\"48.257\"/>\n",
       "</g>\n",
       "<g style=\"fill:rgb(0%,0%,0%);fill-opacity:1;\">\n",
       "  <use x=\"10.622\" xlink:href=\"#glyph1-2\" y=\"49.751\"/>\n",
       "</g>\n",
       "<path d=\"M 18.425656 -9.212375 L 44.370969 15.002469 \" style=\"fill:none;stroke-width:1.59404;stroke-linecap:butt;stroke-linejoin:miter;stroke:rgb(71.528625%,8.155823%,8.782959%);stroke-opacity:1;stroke-miterlimit:10;\" transform=\"matrix(1,0,0,-1,0.797,37.647)\"/>\n",
       "<path d=\"M 1.514816 -0.000760036 C -0.377203 0.378269 -2.271303 1.137984 -4.543412 2.458572 C -2.269223 0.757297 -2.269455 -0.757467 -4.542218 -2.460896 C -2.270225 -1.135493 -0.378745 -0.377783 1.514816 -0.000760036 Z M 1.514816 -0.000760036 \" style=\"fill-rule:nonzero;fill:rgb(71.528625%,8.155823%,8.782959%);fill-opacity:1;stroke-width:1.59404;stroke-linecap:butt;stroke-linejoin:round;stroke:rgb(71.528625%,8.155823%,8.782959%);stroke-opacity:1;stroke-miterlimit:10;\" transform=\"matrix(0.73227,-0.68349,-0.68349,-0.73227,45.16757,22.64418)\"/>\n",
       "<g clip-path=\"url(#clip4)\" clip-rule=\"nonzero\">\n",
       "<path d=\"M 18.425656 9.213406 L 44.370969 -15.001437 \" style=\"fill:none;stroke-width:1.59404;stroke-linecap:butt;stroke-linejoin:miter;stroke:rgb(24.154663%,54.899597%,23.214722%);stroke-opacity:1;stroke-miterlimit:10;\" transform=\"matrix(1,0,0,-1,0.797,37.647)\"/>\n",
       "</g>\n",
       "<path d=\"M 1.513946 0.00169154 C -0.379604 0.378698 -2.271077 1.136389 -4.543065 2.461767 C -2.270304 0.758366 -2.270061 -0.756388 -4.541562 -2.460518 C -2.272138 -1.137072 -0.378057 -0.377348 1.513946 0.00169154 Z M 1.513946 0.00169154 \" style=\"fill-rule:nonzero;fill:rgb(24.154663%,54.899597%,23.214722%);fill-opacity:1;stroke-width:1.59404;stroke-linecap:butt;stroke-linejoin:round;stroke:rgb(24.154663%,54.899597%,23.214722%);stroke-opacity:1;stroke-miterlimit:10;\" transform=\"matrix(0.73227,0.6835,0.6835,-0.73227,45.16757,52.65005)\"/>\n",
       "<g style=\"fill:rgb(0%,0%,0%);fill-opacity:1;\">\n",
       "  <use x=\"4.928\" xlink:href=\"#glyph0-1\" y=\"29.832\"/>\n",
       "</g>\n",
       "<g style=\"fill:rgb(0%,0%,0%);fill-opacity:1;\">\n",
       "  <use x=\"10.622\" xlink:href=\"#glyph1-3\" y=\"31.326\"/>\n",
       "</g>\n",
       "<path d=\"M 18.425656 9.213406 L 43.910031 19.404813 \" style=\"fill:none;stroke-width:1.59404;stroke-linecap:butt;stroke-linejoin:miter;stroke:rgb(71.528625%,8.155823%,8.782959%);stroke-opacity:1;stroke-miterlimit:10;\" transform=\"matrix(1,0,0,-1,0.797,37.647)\"/>\n",
       "<path d=\"M 1.514232 0.000729753 C -0.376129 0.379536 -2.270103 1.137138 -4.541423 2.460766 C -2.271551 0.756173 -2.273005 -0.75684 -4.543619 -2.460685 C -2.269393 -1.135636 -0.377579 -0.378778 1.514232 0.000729753 Z M 1.514232 0.000729753 \" style=\"fill-rule:nonzero;fill:rgb(71.528625%,8.155823%,8.782959%);fill-opacity:1;stroke-width:1.59404;stroke-linecap:butt;stroke-linejoin:round;stroke:rgb(71.528625%,8.155823%,8.782959%);stroke-opacity:1;stroke-miterlimit:10;\" transform=\"matrix(0.93166,-0.37267,-0.37267,-0.93166,44.70671,18.24077)\"/>\n",
       "<path d=\"M 18.425656 27.639188 L 44.761594 -10.985812 \" style=\"fill:none;stroke-width:1.59404;stroke-linecap:butt;stroke-linejoin:miter;stroke:rgb(24.154663%,54.899597%,23.214722%);stroke-opacity:1;stroke-miterlimit:10;\" transform=\"matrix(1,0,0,-1,0.797,37.647)\"/>\n",
       "<path d=\"M 1.514769 -0.000986523 C -0.380035 0.379269 -2.273072 1.136229 -4.543391 2.46221 C -2.271613 0.757325 -2.2712 -0.759314 -4.541717 -2.461189 C -2.272965 -1.136019 -0.377116 -0.378538 1.514769 -0.000986523 Z M 1.514769 -0.000986523 \" style=\"fill-rule:nonzero;fill:rgb(24.154663%,54.899597%,23.214722%);fill-opacity:1;stroke-width:1.59404;stroke-linecap:butt;stroke-linejoin:round;stroke:rgb(24.154663%,54.899597%,23.214722%);stroke-opacity:1;stroke-miterlimit:10;\" transform=\"matrix(0.56383,0.82692,0.82692,-0.56383,45.5569,48.63357)\"/>\n",
       "<g style=\"fill:rgb(0%,0%,0%);fill-opacity:1;\">\n",
       "  <use x=\"4.928\" xlink:href=\"#glyph0-1\" y=\"11.407\"/>\n",
       "</g>\n",
       "<g style=\"fill:rgb(0%,0%,0%);fill-opacity:1;\">\n",
       "  <use x=\"10.622\" xlink:href=\"#glyph1-4\" y=\"12.901\"/>\n",
       "</g>\n",
       "<path d=\"M 18.425656 27.639188 L 43.769406 24.256375 \" style=\"fill:none;stroke-width:1.59404;stroke-linecap:butt;stroke-linejoin:miter;stroke:rgb(71.528625%,8.155823%,8.782959%);stroke-opacity:1;stroke-miterlimit:10;\" transform=\"matrix(1,0,0,-1,0.797,37.647)\"/>\n",
       "<path d=\"M 1.515015 -0.000694307 C -0.37887 0.37705 -2.272496 1.136926 -4.544641 2.460839 C -2.27327 0.758666 -2.27198 -0.757732 -4.542577 -2.458874 C -2.272754 -1.135993 -0.380418 -0.379471 1.515015 -0.000694307 Z M 1.515015 -0.000694307 \" style=\"fill-rule:nonzero;fill:rgb(71.528625%,8.155823%,8.782959%);fill-opacity:1;stroke-width:1.59404;stroke-linecap:butt;stroke-linejoin:round;stroke:rgb(71.528625%,8.155823%,8.782959%);stroke-opacity:1;stroke-miterlimit:10;\" transform=\"matrix(0.99165,0.13222,0.13222,-0.99165,44.56804,13.38884)\"/>\n",
       "<path d=\"M 64.488156 18.424344 L 80.601438 18.424344 \" style=\"fill:none;stroke-width:1.59404;stroke-linecap:butt;stroke-linejoin:miter;stroke:rgb(0%,0%,0%);stroke-opacity:1;stroke-miterlimit:10;\" transform=\"matrix(1,0,0,-1,0.797,37.647)\"/>\n",
       "<path d=\"M 1.514803 -0.00088625 C -0.379729 0.37802 -2.270354 1.135833 -4.543791 2.460051 C -2.270354 0.756926 -2.270354 -0.758699 -4.543791 -2.461824 C -2.270354 -1.137605 -0.379729 -0.379792 1.514803 -0.00088625 Z M 1.514803 -0.00088625 \" style=\"fill-rule:nonzero;fill:rgb(0%,0%,0%);fill-opacity:1;stroke-width:1.59404;stroke-linecap:butt;stroke-linejoin:round;stroke:rgb(0%,0%,0%);stroke-opacity:1;stroke-miterlimit:10;\" transform=\"matrix(1,0,0,-1,81.39926,19.22177)\"/>\n",
       "<path d=\"M 64.488156 -18.423312 L 80.601438 -18.423312 \" style=\"fill:none;stroke-width:1.59404;stroke-linecap:butt;stroke-linejoin:miter;stroke:rgb(0%,0%,0%);stroke-opacity:1;stroke-miterlimit:10;\" transform=\"matrix(1,0,0,-1,0.797,37.647)\"/>\n",
       "<path d=\"M 1.514803 0.0019175 C -0.379729 0.376918 -2.270354 1.13473 -4.543791 2.458949 C -2.270354 0.755824 -2.270354 -0.755895 -4.543791 -2.45902 C -2.270354 -1.134801 -0.379729 -0.376989 1.514803 0.0019175 Z M 1.514803 0.0019175 \" style=\"fill-rule:nonzero;fill:rgb(0%,0%,0%);fill-opacity:1;stroke-width:1.59404;stroke-linecap:butt;stroke-linejoin:round;stroke:rgb(0%,0%,0%);stroke-opacity:1;stroke-miterlimit:10;\" transform=\"matrix(1,0,0,-1,81.39926,56.07223)\"/>\n",
       "<g clip-path=\"url(#clip5)\" clip-rule=\"nonzero\">\n",
       "<path d=\"M -0.000125 -36.849094 L 18.425656 -36.849094 M -0.000125 -18.423312 L 18.425656 -18.423312 M -0.000125 -0.0014375 L 18.425656 -0.0014375 M -0.000125 18.424344 L 18.425656 18.424344 M -0.000125 36.842313 L 18.425656 36.842313 M -0.000125 -36.849094 L -0.000125 36.850125 M 18.417844 -36.849094 L 18.417844 36.850125 \" style=\"fill:none;stroke-width:1.59404;stroke-linecap:butt;stroke-linejoin:miter;stroke:rgb(21.569824%,49.412537%,72.155762%);stroke-opacity:1;stroke-miterlimit:10;\" transform=\"matrix(1,0,0,-1,0.797,37.647)\"/>\n",
       "<path d=\"M -0.000125 -36.849094 L -0.000125 36.850125 L 18.425656 36.850125 L 18.425656 -36.849094 Z M -0.000125 -36.849094 \" style=\"fill:none;stroke-width:1.59404;stroke-linecap:butt;stroke-linejoin:miter;stroke:rgb(21.569824%,49.412537%,72.155762%);stroke-opacity:1;stroke-miterlimit:10;\" transform=\"matrix(1,0,0,-1,0.797,37.647)\"/>\n",
       "</g>\n",
       "<path d=\"M 49.749875 11.217313 L 50.206906 11.291531 L 50.667844 11.393094 L 51.128781 11.541531 L 51.589719 11.752469 L 52.050656 12.049344 L 52.511594 12.4595 L 52.972531 13.014188 L 53.433469 13.74075 L 53.894406 14.666531 L 54.351438 15.779813 L 54.812375 17.057156 L 55.73425 19.783719 L 56.195188 21.061063 L 56.656125 22.17825 L 57.117063 23.100125 L 57.578 23.830594 L 58.038938 24.389188 L 58.499875 24.799344 L 58.956906 25.096219 L 59.417844 25.307156 L 59.878781 25.455594 L 60.339719 25.561063 L 60.800656 25.631375 \" style=\"fill:none;stroke-width:1.59404;stroke-linecap:butt;stroke-linejoin:miter;stroke:rgb(89.411926%,10.195923%,10.978699%);stroke-opacity:1;stroke-miterlimit:10;\" transform=\"matrix(1,0,0,-1,0.797,37.647)\"/>\n",
       "<path d=\"M 64.488156 18.424344 C 64.488156 23.514188 60.363156 27.639188 55.277219 27.639188 C 50.187375 27.639188 46.062375 23.514188 46.062375 18.424344 C 46.062375 13.338406 50.187375 9.213406 55.277219 9.213406 C 60.363156 9.213406 64.488156 13.338406 64.488156 18.424344 Z M 64.488156 18.424344 \" style=\"fill:none;stroke-width:1.59404;stroke-linecap:butt;stroke-linejoin:miter;stroke:rgb(89.411926%,10.195923%,10.978699%);stroke-opacity:1;stroke-miterlimit:10;\" transform=\"matrix(1,0,0,-1,0.797,37.647)\"/>\n",
       "<g clip-path=\"url(#clip6)\" clip-rule=\"nonzero\">\n",
       "<path d=\"M 49.749875 -25.63425 L 50.206906 -25.560031 L 50.667844 -25.458469 L 51.128781 -25.306125 L 51.589719 -25.095187 L 52.050656 -24.798312 L 52.511594 -24.392062 L 52.972531 -23.837375 L 53.433469 -23.106906 L 53.894406 -22.185031 L 54.351438 -21.067844 L 54.812375 -19.794406 L 55.273313 -18.431125 L 55.73425 -17.063937 L 56.195188 -15.786594 L 56.656125 -14.673312 L 57.117063 -13.747531 L 57.578 -13.020969 L 58.038938 -12.462375 L 58.499875 -12.052219 L 58.956906 -11.755344 L 59.417844 -11.544406 L 59.878781 -11.395969 L 60.339719 -11.2905 L 60.800656 -11.216281 \" style=\"fill:none;stroke-width:1.59404;stroke-linecap:butt;stroke-linejoin:miter;stroke:rgb(30.195618%,68.624878%,29.019165%);stroke-opacity:1;stroke-miterlimit:10;\" transform=\"matrix(1,0,0,-1,0.797,37.647)\"/>\n",
       "</g>\n",
       "<g clip-path=\"url(#clip7)\" clip-rule=\"nonzero\">\n",
       "<path d=\"M 64.488156 -18.423312 C 64.488156 -13.337375 60.363156 -9.212375 55.277219 -9.212375 C 50.187375 -9.212375 46.062375 -13.337375 46.062375 -18.423312 C 46.062375 -23.513156 50.187375 -27.638156 55.277219 -27.638156 C 60.363156 -27.638156 64.488156 -23.513156 64.488156 -18.423312 Z M 64.488156 -18.423312 \" style=\"fill:none;stroke-width:1.59404;stroke-linecap:butt;stroke-linejoin:miter;stroke:rgb(30.195618%,68.624878%,29.019165%);stroke-opacity:1;stroke-miterlimit:10;\" transform=\"matrix(1,0,0,-1,0.797,37.647)\"/>\n",
       "</g>\n",
       "<g style=\"fill:rgb(0%,0%,0%);fill-opacity:1;\">\n",
       "  <use x=\"87.229\" xlink:href=\"#glyph0-2\" y=\"20.398\"/>\n",
       "</g>\n",
       "<g style=\"fill:rgb(0%,0%,0%);fill-opacity:1;\">\n",
       "  <use x=\"92.114\" xlink:href=\"#glyph1-1\" y=\"21.892\"/>\n",
       "</g>\n",
       "<g style=\"fill:rgb(0%,0%,0%);fill-opacity:1;\">\n",
       "  <use x=\"87.229\" xlink:href=\"#glyph0-2\" y=\"57.248\"/>\n",
       "</g>\n",
       "<g style=\"fill:rgb(0%,0%,0%);fill-opacity:1;\">\n",
       "  <use x=\"92.114\" xlink:href=\"#glyph1-2\" y=\"58.742\"/>\n",
       "</g>\n",
       "</g>\n",
       "</svg>"
      ]
     },
     "metadata": {
      "isolated": "true"
     },
     "output_type": "display_data"
    }
   ],
   "source": [
    "%%tikz -l arrows -s 1000,400 -sc 0.65 -f svg\n",
    "\n",
    "\\definecolor{nice-red}{HTML}{E41A1C}\n",
    "\\definecolor{nice-orange}{HTML}{FF7F00}\n",
    "\\definecolor{nice-yellow}{HTML}{FFC020}\n",
    "\\definecolor{nice-green}{HTML}{4DAF4A}\n",
    "\\definecolor{nice-blue}{HTML}{377EB8}\n",
    "\\definecolor{nice-purple}{HTML}{984EA3}\n",
    "    \n",
    "\\foreach \\i in {1,2,3,4} {\n",
    "    \\draw[->, >=stealth', ultra thick, color=black!20!nice-green] (1,\\i-2.5) -- (2.5,\\i*0.2-1.5);\n",
    "    \\node[] at (0.5,\\i-2.5) {$x_\\i$};     \n",
    "    \\draw[->, >=stealth', ultra thick, color=black!20!nice-red] (1,\\i-2.5) -- (2.5,\\i*0.2+0.5);\n",
    "}\n",
    "\n",
    "\\draw[->, >=stealth', ultra thick] (3.5,1) -- (4.5,1);\n",
    "\\draw[->, >=stealth', ultra thick] (3.5,-1) -- (4.5,-1);       \n",
    "  \n",
    "%input\n",
    "\\draw[ultra thick, color=nice-blue] (0,-2) grid (1,2);\n",
    "\\draw[ultra thick, color=nice-blue] (0,-2) rectangle (1,2);\n",
    "      \n",
    "%non-linearities\n",
    "\\begin{scope}[shift={(3,1)},scale=1.0]\n",
    "    \\draw[ultra thick, yshift=-0.5cm, color=nice-red] plot [domain=-0.3:0.3](\\x, {(0.8/(1+exp(-15*\\x))+0.1)});\n",
    "    \\draw[ultra thick, color=nice-red] (0,0) circle (0.5cm);\n",
    "\\end{scope} \n",
    "\n",
    "\\begin{scope}[shift={(3,-1)},scale=1.0]\n",
    "    \\draw[ultra thick, yshift=-0.5cm, color=nice-green] plot [domain=-0.3:0.3](\\x, {(0.8/(1+exp(-15*\\x))+0.1)});\n",
    "    \\draw[ultra thick, color=nice-green] (0,0) circle (0.5cm);\n",
    "\\end{scope}  \n",
    "   \n",
    "\\node[anchor = west] at (4.5,1) {$y_1$};\n",
    "\\node[anchor = west] at (4.5,-1) {$y_2$};   "
   ]
  },
  {
   "cell_type": "markdown",
   "metadata": {
    "slideshow": {
     "slide_type": "slide"
    }
   },
   "source": [
    "## Multiple Neurons\n",
    "We will write this more compactly as a function $f_\\theta: \\mathbb{R}^4 \\to \\mathbb{R}^2$\n",
    "\\begin{align}\n",
    "\\mathbf{y} &= \\text{sigmoid}(\\mathbf{W}\\mathbf{x} + \\mathbf{b}) \\quad\\text{ with } \\mathbf{W}\\in\\mathbb{R}^{2\\times4}, \\mathbf{b}\\in\\mathbb{R}^{2}\n",
    "\\end{align}"
   ]
  },
  {
   "cell_type": "code",
   "execution_count": 47,
   "metadata": {
    "ExecuteTime": {
     "end_time": "2016-11-21T14:46:20.789635",
     "start_time": "2016-11-21T14:46:19.448697"
    },
    "collapsed": false,
    "hide_input": true
   },
   "outputs": [
    {
     "data": {
      "image/svg+xml": [
       "<svg height=\"400px\" version=\"1.1\" viewBox=\"0 0 112.144 75.294\" width=\"1000px\" xmlns=\"http://www.w3.org/2000/svg\" xmlns:xlink=\"http://www.w3.org/1999/xlink\">\n",
       "<defs>\n",
       "<g>\n",
       "<symbol id=\"glyph0-0\" overflow=\"visible\">\n",
       "<path d=\"\" style=\"stroke:none;\"/>\n",
       "</symbol>\n",
       "<symbol id=\"glyph0-1\" overflow=\"visible\">\n",
       "<path d=\"M 3.328125 -3.015625 C 3.390625 -3.265625 3.625 -4.1875 4.3125 -4.1875 C 4.359375 -4.1875 4.609375 -4.1875 4.8125 -4.0625 C 4.53125 -4 4.34375 -3.765625 4.34375 -3.515625 C 4.34375 -3.359375 4.453125 -3.171875 4.71875 -3.171875 C 4.9375 -3.171875 5.25 -3.34375 5.25 -3.75 C 5.25 -4.265625 4.671875 -4.40625 4.328125 -4.40625 C 3.75 -4.40625 3.40625 -3.875 3.28125 -3.65625 C 3.03125 -4.3125 2.5 -4.40625 2.203125 -4.40625 C 1.171875 -4.40625 0.59375 -3.125 0.59375 -2.875 C 0.59375 -2.765625 0.703125 -2.765625 0.71875 -2.765625 C 0.796875 -2.765625 0.828125 -2.796875 0.84375 -2.875 C 1.1875 -3.9375 1.84375 -4.1875 2.1875 -4.1875 C 2.375 -4.1875 2.71875 -4.09375 2.71875 -3.515625 C 2.71875 -3.203125 2.546875 -2.546875 2.1875 -1.140625 C 2.03125 -0.53125 1.671875 -0.109375 1.234375 -0.109375 C 1.171875 -0.109375 0.953125 -0.109375 0.734375 -0.234375 C 0.984375 -0.296875 1.203125 -0.5 1.203125 -0.78125 C 1.203125 -1.046875 0.984375 -1.125 0.84375 -1.125 C 0.53125 -1.125 0.296875 -0.875 0.296875 -0.546875 C 0.296875 -0.09375 0.78125 0.109375 1.21875 0.109375 C 1.890625 0.109375 2.25 -0.59375 2.265625 -0.640625 C 2.390625 -0.28125 2.75 0.109375 3.34375 0.109375 C 4.375 0.109375 4.9375 -1.171875 4.9375 -1.421875 C 4.9375 -1.53125 4.859375 -1.53125 4.828125 -1.53125 C 4.734375 -1.53125 4.71875 -1.484375 4.6875 -1.421875 C 4.359375 -0.34375 3.6875 -0.109375 3.375 -0.109375 C 2.984375 -0.109375 2.828125 -0.421875 2.828125 -0.765625 C 2.828125 -0.984375 2.875 -1.203125 2.984375 -1.640625 Z M 3.328125 -3.015625 \" style=\"stroke:none;\"/>\n",
       "</symbol>\n",
       "<symbol id=\"glyph0-2\" overflow=\"visible\">\n",
       "<path d=\"M 4.84375 -3.796875 C 4.890625 -3.9375 4.890625 -3.953125 4.890625 -4.03125 C 4.890625 -4.203125 4.75 -4.296875 4.59375 -4.296875 C 4.5 -4.296875 4.34375 -4.234375 4.25 -4.09375 C 4.234375 -4.03125 4.140625 -3.734375 4.109375 -3.546875 C 4.03125 -3.296875 3.96875 -3.015625 3.90625 -2.75 L 3.453125 -0.953125 C 3.421875 -0.8125 2.984375 -0.109375 2.328125 -0.109375 C 1.828125 -0.109375 1.71875 -0.546875 1.71875 -0.921875 C 1.71875 -1.375 1.890625 -2 2.21875 -2.875 C 2.375 -3.28125 2.421875 -3.390625 2.421875 -3.59375 C 2.421875 -4.03125 2.109375 -4.40625 1.609375 -4.40625 C 0.65625 -4.40625 0.296875 -2.953125 0.296875 -2.875 C 0.296875 -2.765625 0.390625 -2.765625 0.40625 -2.765625 C 0.515625 -2.765625 0.515625 -2.796875 0.5625 -2.953125 C 0.84375 -3.890625 1.234375 -4.1875 1.578125 -4.1875 C 1.65625 -4.1875 1.828125 -4.1875 1.828125 -3.875 C 1.828125 -3.625 1.71875 -3.359375 1.65625 -3.171875 C 1.25 -2.109375 1.078125 -1.546875 1.078125 -1.078125 C 1.078125 -0.1875 1.703125 0.109375 2.296875 0.109375 C 2.6875 0.109375 3.015625 -0.0625 3.296875 -0.34375 C 3.171875 0.171875 3.046875 0.671875 2.65625 1.203125 C 2.390625 1.53125 2.015625 1.828125 1.5625 1.828125 C 1.421875 1.828125 0.96875 1.796875 0.796875 1.40625 C 0.953125 1.40625 1.09375 1.40625 1.21875 1.28125 C 1.328125 1.203125 1.421875 1.0625 1.421875 0.875 C 1.421875 0.5625 1.15625 0.53125 1.0625 0.53125 C 0.828125 0.53125 0.5 0.6875 0.5 1.171875 C 0.5 1.671875 0.9375 2.046875 1.5625 2.046875 C 2.578125 2.046875 3.609375 1.140625 3.890625 0.015625 Z M 4.84375 -3.796875 \" style=\"stroke:none;\"/>\n",
       "</symbol>\n",
       "<symbol id=\"glyph1-0\" overflow=\"visible\">\n",
       "<path d=\"\" style=\"stroke:none;\"/>\n",
       "</symbol>\n",
       "<symbol id=\"glyph1-1\" overflow=\"visible\">\n",
       "<path d=\"M 2.328125 -4.4375 C 2.328125 -4.625 2.328125 -4.625 2.125 -4.625 C 1.671875 -4.1875 1.046875 -4.1875 0.765625 -4.1875 L 0.765625 -3.9375 C 0.921875 -3.9375 1.390625 -3.9375 1.765625 -4.125 L 1.765625 -0.578125 C 1.765625 -0.34375 1.765625 -0.25 1.078125 -0.25 L 0.8125 -0.25 L 0.8125 0 C 0.9375 0 1.796875 -0.03125 2.046875 -0.03125 C 2.265625 -0.03125 3.140625 0 3.296875 0 L 3.296875 -0.25 L 3.03125 -0.25 C 2.328125 -0.25 2.328125 -0.34375 2.328125 -0.578125 Z M 2.328125 -4.4375 \" style=\"stroke:none;\"/>\n",
       "</symbol>\n",
       "<symbol id=\"glyph1-2\" overflow=\"visible\">\n",
       "<path d=\"M 3.515625 -1.265625 L 3.28125 -1.265625 C 3.265625 -1.109375 3.1875 -0.703125 3.09375 -0.640625 C 3.046875 -0.59375 2.515625 -0.59375 2.40625 -0.59375 L 1.125 -0.59375 C 1.859375 -1.234375 2.109375 -1.4375 2.515625 -1.765625 C 3.03125 -2.171875 3.515625 -2.609375 3.515625 -3.265625 C 3.515625 -4.109375 2.78125 -4.625 1.890625 -4.625 C 1.03125 -4.625 0.4375 -4.015625 0.4375 -3.375 C 0.4375 -3.03125 0.734375 -2.984375 0.8125 -2.984375 C 0.96875 -2.984375 1.171875 -3.109375 1.171875 -3.359375 C 1.171875 -3.484375 1.125 -3.734375 0.765625 -3.734375 C 0.984375 -4.21875 1.453125 -4.375 1.78125 -4.375 C 2.484375 -4.375 2.84375 -3.828125 2.84375 -3.265625 C 2.84375 -2.65625 2.40625 -2.1875 2.1875 -1.9375 L 0.515625 -0.265625 C 0.4375 -0.203125 0.4375 -0.1875 0.4375 0 L 3.3125 0 Z M 3.515625 -1.265625 \" style=\"stroke:none;\"/>\n",
       "</symbol>\n",
       "<symbol id=\"glyph1-3\" overflow=\"visible\">\n",
       "<path d=\"M 1.90625 -2.328125 C 2.453125 -2.328125 2.84375 -1.953125 2.84375 -1.203125 C 2.84375 -0.34375 2.328125 -0.078125 1.9375 -0.078125 C 1.65625 -0.078125 1.03125 -0.15625 0.75 -0.578125 C 1.078125 -0.578125 1.15625 -0.8125 1.15625 -0.96875 C 1.15625 -1.1875 0.984375 -1.34375 0.765625 -1.34375 C 0.578125 -1.34375 0.375 -1.21875 0.375 -0.9375 C 0.375 -0.28125 1.09375 0.140625 1.9375 0.140625 C 2.90625 0.140625 3.578125 -0.515625 3.578125 -1.203125 C 3.578125 -1.75 3.140625 -2.296875 2.375 -2.453125 C 3.09375 -2.71875 3.359375 -3.234375 3.359375 -3.671875 C 3.359375 -4.21875 2.734375 -4.625 1.953125 -4.625 C 1.1875 -4.625 0.59375 -4.25 0.59375 -3.6875 C 0.59375 -3.453125 0.75 -3.328125 0.953125 -3.328125 C 1.171875 -3.328125 1.3125 -3.484375 1.3125 -3.671875 C 1.3125 -3.875 1.171875 -4.03125 0.953125 -4.046875 C 1.203125 -4.34375 1.671875 -4.421875 1.9375 -4.421875 C 2.25 -4.421875 2.6875 -4.265625 2.6875 -3.671875 C 2.6875 -3.375 2.59375 -3.046875 2.40625 -2.84375 C 2.1875 -2.578125 1.984375 -2.5625 1.640625 -2.53125 C 1.46875 -2.515625 1.453125 -2.515625 1.421875 -2.515625 C 1.40625 -2.515625 1.34375 -2.5 1.34375 -2.421875 C 1.34375 -2.328125 1.40625 -2.328125 1.53125 -2.328125 Z M 1.90625 -2.328125 \" style=\"stroke:none;\"/>\n",
       "</symbol>\n",
       "<symbol id=\"glyph1-4\" overflow=\"visible\">\n",
       "<path d=\"M 3.6875 -1.140625 L 3.6875 -1.390625 L 2.90625 -1.390625 L 2.90625 -4.5 C 2.90625 -4.640625 2.90625 -4.703125 2.765625 -4.703125 C 2.671875 -4.703125 2.640625 -4.703125 2.578125 -4.59375 L 0.265625 -1.390625 L 0.265625 -1.140625 L 2.328125 -1.140625 L 2.328125 -0.578125 C 2.328125 -0.328125 2.328125 -0.25 1.75 -0.25 L 1.5625 -0.25 L 1.5625 0 C 1.921875 -0.015625 2.359375 -0.03125 2.609375 -0.03125 C 2.875 -0.03125 3.3125 -0.015625 3.671875 0 L 3.671875 -0.25 L 3.484375 -0.25 C 2.90625 -0.25 2.90625 -0.328125 2.90625 -0.578125 L 2.90625 -1.140625 Z M 2.375 -3.9375 L 2.375 -1.390625 L 0.53125 -1.390625 Z M 2.375 -3.9375 \" style=\"stroke:none;\"/>\n",
       "</symbol>\n",
       "</g>\n",
       "<clipPath id=\"clip1\">\n",
       "  <path d=\"M 0 0 L 21 0 L 21 75.292969 L 0 75.292969 Z M 0 0 \"/>\n",
       "</clipPath>\n",
       "<clipPath id=\"clip2\">\n",
       "  <path d=\"M 92 18 L 112.144531 18 L 112.144531 57 L 92 57 Z M 92 18 \"/>\n",
       "</clipPath>\n",
       "</defs>\n",
       "<g id=\"surface1\">\n",
       "<path d=\"M 18.425656 -0.0014375 L 87.35925 -0.0014375 \" style=\"fill:none;stroke-width:2.98883;stroke-linecap:butt;stroke-linejoin:miter;stroke:rgb(0%,0%,0%);stroke-opacity:1;stroke-miterlimit:10;\" transform=\"matrix(1,0,0,-1,0.797,37.647)\"/>\n",
       "<path d=\"M 2.351533 -0.0014375 C -0.585967 0.588406 -3.527374 1.764188 -7.054717 3.818875 C -3.527374 1.174344 -3.527374 -1.177219 -7.054717 -3.82175 C -3.527374 -1.763156 -0.585967 -0.587375 2.351533 -0.0014375 Z M 2.351533 -0.0014375 \" style=\"fill-rule:nonzero;fill:rgb(0%,0%,0%);fill-opacity:1;stroke-width:2.98883;stroke-linecap:butt;stroke-linejoin:round;stroke:rgb(0%,0%,0%);stroke-opacity:1;stroke-miterlimit:10;\" transform=\"matrix(1,0,0,-1,88.15628,37.647)\"/>\n",
       "<g clip-path=\"url(#clip1)\" clip-rule=\"nonzero\">\n",
       "<path d=\"M -0.000125 -36.849094 L 18.425656 -36.849094 M -0.000125 -18.423312 L 18.425656 -18.423312 M -0.000125 -0.0014375 L 18.425656 -0.0014375 M -0.000125 18.424344 L 18.425656 18.424344 M -0.000125 36.842313 L 18.425656 36.842313 M -0.000125 -36.849094 L -0.000125 36.850125 M 18.417844 -36.849094 L 18.417844 36.850125 \" style=\"fill:none;stroke-width:1.59404;stroke-linecap:butt;stroke-linejoin:miter;stroke:rgb(21.569824%,49.412537%,72.155762%);stroke-opacity:1;stroke-miterlimit:10;\" transform=\"matrix(1,0,0,-1,0.797,37.647)\"/>\n",
       "<path d=\"M -0.000125 -36.849094 L -0.000125 36.850125 L 18.425656 36.850125 L 18.425656 -36.849094 Z M -0.000125 -36.849094 \" style=\"fill:none;stroke-width:1.59404;stroke-linecap:butt;stroke-linejoin:miter;stroke:rgb(21.569824%,49.412537%,72.155762%);stroke-opacity:1;stroke-miterlimit:10;\" transform=\"matrix(1,0,0,-1,0.797,37.647)\"/>\n",
       "</g>\n",
       "<g clip-path=\"url(#clip2)\" clip-rule=\"nonzero\">\n",
       "<path d=\"M 92.124875 -18.423312 L 110.550656 -18.423312 M 92.124875 -0.0014375 L 110.550656 -0.0014375 M 92.124875 18.420438 L 110.550656 18.420438 M 92.124875 -18.423312 L 92.124875 18.424344 M 110.54675 -18.423312 L 110.54675 18.424344 \" style=\"fill:none;stroke-width:1.59404;stroke-linecap:butt;stroke-linejoin:miter;stroke:rgb(0%,0%,0%);stroke-opacity:1;stroke-miterlimit:10;\" transform=\"matrix(1,0,0,-1,0.797,37.647)\"/>\n",
       "<path d=\"M 92.124875 -18.423312 L 92.124875 18.424344 L 110.550656 18.424344 L 110.550656 -18.423312 Z M 92.124875 -18.423312 \" style=\"fill:none;stroke-width:1.59404;stroke-linecap:butt;stroke-linejoin:miter;stroke:rgb(0%,0%,0%);stroke-opacity:1;stroke-miterlimit:10;\" transform=\"matrix(1,0,0,-1,0.797,37.647)\"/>\n",
       "</g>\n",
       "<path d=\"M 64.488156 -0.0014375 C 64.488156 5.088406 60.363156 9.213406 55.277219 9.213406 C 50.187375 9.213406 46.062375 5.088406 46.062375 -0.0014375 C 46.062375 -5.087375 50.187375 -9.212375 55.277219 -9.212375 C 60.363156 -9.212375 64.488156 -5.087375 64.488156 -0.0014375 Z M 64.488156 -0.0014375 \" style=\"fill-rule:nonzero;fill:rgb(100%,100%,100%);fill-opacity:1;stroke-width:1.59404;stroke-linecap:butt;stroke-linejoin:miter;stroke:rgb(89.411926%,10.195923%,10.978699%);stroke-opacity:1;stroke-miterlimit:10;\" transform=\"matrix(1,0,0,-1,0.797,37.647)\"/>\n",
       "<path d=\"M 49.749875 -7.208469 L 50.206906 -7.13425 L 50.667844 -7.032687 L 51.128781 -6.88425 L 51.589719 -6.669406 L 52.050656 -6.376437 L 52.511594 -5.966281 L 52.972531 -5.411594 L 53.433469 -4.681125 L 53.894406 -3.75925 L 54.351438 -2.642062 L 54.812375 -1.368625 L 55.273313 -0.00534375 L 55.73425 1.361844 L 56.195188 2.635281 L 56.656125 3.752469 L 57.117063 4.67825 L 57.578 5.404813 L 58.038938 5.963406 L 58.499875 6.373563 L 58.956906 6.670438 L 59.417844 6.881375 L 59.878781 7.029813 L 60.339719 7.135281 L 60.800656 7.2095 \" style=\"fill-rule:nonzero;fill:rgb(100%,100%,100%);fill-opacity:1;stroke-width:1.59404;stroke-linecap:butt;stroke-linejoin:miter;stroke:rgb(89.411926%,10.195923%,10.978699%);stroke-opacity:1;stroke-miterlimit:10;\" transform=\"matrix(1,0,0,-1,0.797,37.647)\"/>\n",
       "<g style=\"fill:rgb(0%,0%,0%);fill-opacity:1;\">\n",
       "  <use x=\"4.928\" xlink:href=\"#glyph0-1\" y=\"66.682\"/>\n",
       "</g>\n",
       "<g style=\"fill:rgb(0%,0%,0%);fill-opacity:1;\">\n",
       "  <use x=\"10.622\" xlink:href=\"#glyph1-1\" y=\"68.176\"/>\n",
       "</g>\n",
       "<g style=\"fill:rgb(0%,0%,0%);fill-opacity:1;\">\n",
       "  <use x=\"4.928\" xlink:href=\"#glyph0-1\" y=\"48.257\"/>\n",
       "</g>\n",
       "<g style=\"fill:rgb(0%,0%,0%);fill-opacity:1;\">\n",
       "  <use x=\"10.622\" xlink:href=\"#glyph1-2\" y=\"49.751\"/>\n",
       "</g>\n",
       "<g style=\"fill:rgb(0%,0%,0%);fill-opacity:1;\">\n",
       "  <use x=\"4.928\" xlink:href=\"#glyph0-1\" y=\"29.832\"/>\n",
       "</g>\n",
       "<g style=\"fill:rgb(0%,0%,0%);fill-opacity:1;\">\n",
       "  <use x=\"10.622\" xlink:href=\"#glyph1-3\" y=\"31.326\"/>\n",
       "</g>\n",
       "<g style=\"fill:rgb(0%,0%,0%);fill-opacity:1;\">\n",
       "  <use x=\"4.928\" xlink:href=\"#glyph0-1\" y=\"11.407\"/>\n",
       "</g>\n",
       "<g style=\"fill:rgb(0%,0%,0%);fill-opacity:1;\">\n",
       "  <use x=\"10.622\" xlink:href=\"#glyph1-4\" y=\"12.901\"/>\n",
       "</g>\n",
       "<g style=\"fill:rgb(0%,0%,0%);fill-opacity:1;\">\n",
       "  <use x=\"97.458\" xlink:href=\"#glyph0-2\" y=\"29.611\"/>\n",
       "</g>\n",
       "<g style=\"fill:rgb(0%,0%,0%);fill-opacity:1;\">\n",
       "  <use x=\"102.342\" xlink:href=\"#glyph1-1\" y=\"31.105\"/>\n",
       "</g>\n",
       "<g style=\"fill:rgb(0%,0%,0%);fill-opacity:1;\">\n",
       "  <use x=\"97.458\" xlink:href=\"#glyph0-2\" y=\"48.036\"/>\n",
       "</g>\n",
       "<g style=\"fill:rgb(0%,0%,0%);fill-opacity:1;\">\n",
       "  <use x=\"102.342\" xlink:href=\"#glyph1-2\" y=\"49.53\"/>\n",
       "</g>\n",
       "</g>\n",
       "</svg>"
      ]
     },
     "metadata": {
      "isolated": "true"
     },
     "output_type": "display_data"
    }
   ],
   "source": [
    "%%tikz -l arrows -s 1000,400 -sc 0.65 -f svg\n",
    "\n",
    "\\definecolor{nice-red}{HTML}{E41A1C}\n",
    "\\definecolor{nice-orange}{HTML}{FF7F00}\n",
    "\\definecolor{nice-yellow}{HTML}{FFC020}\n",
    "\\definecolor{nice-green}{HTML}{4DAF4A}\n",
    "\\definecolor{nice-blue}{HTML}{377EB8}\n",
    "\\definecolor{nice-purple}{HTML}{984EA3}\n",
    "\n",
    "\n",
    "\n",
    "\\draw[->, >=stealth', line width=3pt, color=black] (1,0) -- (4.95,0);    \n",
    "\n",
    "%inputs\n",
    "\\draw[ultra thick, color=nice-blue] (0,-2) grid (1,2);\n",
    "\\draw[ultra thick, color=nice-blue] (0,-2) rectangle (1,2);\n",
    "      \n",
    "%outputs      \n",
    "\\draw[ultra thick, color=black] (5,-1) grid (6,1);          \n",
    "\\draw[ultra thick, color=black] (5,-1) rectangle (6,1);              \n",
    "      \n",
    "%non-linearities\n",
    "\\begin{scope}[shift={(3,0)},scale=1.0]\n",
    "    \\draw[ultra thick, color=nice-red, fill=white] (0,0) circle (0.5cm);      \n",
    "    \\draw[ultra thick, yshift=-0.5cm, color=nice-red, fill=white] plot [domain=-0.3:0.3](\\x, {(0.8/(1+exp(-15*\\x))+0.1)});\n",
    "\\end{scope}    \n",
    "\n",
    "\\foreach \\i in {1,2,3,4} {\n",
    "    \\node[] at (0.5,\\i-2.5) {$x_\\i$};     \n",
    "}\n",
    "\n",
    "\\foreach \\i in {1,2} {\n",
    "    \\node[] at (5.5,1-\\i+0.5) {$y_\\i$};     \n",
    "}\n",
    "\n"
   ]
  },
  {
   "cell_type": "markdown",
   "metadata": {
    "slideshow": {
     "slide_type": "slide"
    }
   },
   "source": [
    "## Forward Propagation\n",
    "\\begin{align}\n",
    "\\mathbf{y} &= \\text{sigmoid}(\\mathbf{W}\\mathbf{x} + \\mathbf{b}) \\quad\\text{ with } \\mathbf{W}\\in\\mathbb{R}^{2\\times4}, \\mathbf{b}\\in\\mathbb{R}^{2}\n",
    "\\end{align}"
   ]
  },
  {
   "cell_type": "code",
   "execution_count": 84,
   "metadata": {
    "ExecuteTime": {
     "end_time": "2016-11-21T14:54:06.431501",
     "start_time": "2016-11-21T14:54:06.418131"
    },
    "collapsed": false,
    "slideshow": {
     "slide_type": "-"
    }
   },
   "outputs": [
    {
     "data": {
      "text/plain": [
       "array([ 0.71176857,  0.62153938])"
      ]
     },
     "execution_count": 84,
     "metadata": {},
     "output_type": "execute_result"
    }
   ],
   "source": [
    "np.random.seed(1337)\n",
    "\n",
    "def sigmoid(x):                                        \n",
    "    return 1 / (1 + np.exp(-x))\n",
    "\n",
    "W = np.random.rand(2, 4)\n",
    "b = np.random.rand(2)\n",
    "x = [0.5, 0.2, -0.3, 0.2]\n",
    "\n",
    "y = sigmoid(W @ x + b)\n",
    "\n",
    "y"
   ]
  },
  {
   "cell_type": "markdown",
   "metadata": {
    "slideshow": {
     "slide_type": "slide"
    }
   },
   "source": [
    "## Stochastic Gradient Descent\n",
    "\n",
    "As the model $f_\\theta(x)$ is differentiable with respect to parameters $\\theta$, we can use any continuous optimization method, for instance Stochastic Gradient Descent, to minimize the loss function $\\mathcal{L}$.\n",
    "\n",
    "1. Initialize parameters $\\theta$\n",
    "2. Shuffle training data $\\mathcal{T}$\n",
    "  - For every example $(x_i,y_i) \\in \\mathcal{T}$ \n",
    "    1. Find direction of parameters that improves loss by calculating $\\frac{\\partial \\mathcal{L}(f_\\theta, x_i, y_i)}{\\partial \\theta}$\n",
    "    2. Update parameters with learning rate $\\alpha$  \n",
    "      $\\theta := \\theta - \\alpha*\\frac{\\partial \\mathcal{L}(f_\\theta, x_i, y_i)}{\\partial \\theta}$\n",
    "  - Go to 2.    \n",
    "    "
   ]
  },
  {
   "cell_type": "markdown",
   "metadata": {
    "slideshow": {
     "slide_type": "slide"
    }
   },
   "source": [
    "<img  src=\"https://upload.wikimedia.org/wikipedia/commons/6/68/Gradient_ascent_%28surface%29.png\" width=1000/>\n",
    "Source: Wikipedia"
   ]
  },
  {
   "cell_type": "markdown",
   "metadata": {
    "slideshow": {
     "slide_type": "slide"
    }
   },
   "source": [
    "## Momentum-based Optimizers\n",
    "<img  src=\"http://sebastianruder.com/content/images/2016/09/saddle_point_evaluation_optimizers.gif\" width=1000/>"
   ]
  },
  {
   "cell_type": "markdown",
   "metadata": {
    "slideshow": {
     "slide_type": "slide"
    }
   },
   "source": [
    "## Example: Logistic Regression"
   ]
  },
  {
   "cell_type": "markdown",
   "metadata": {
    "ExecuteTime": {
     "end_time": "2016-11-21T14:41:18.464630",
     "start_time": "2016-11-21T14:41:18.457819"
    },
    "slideshow": {
     "slide_type": "slide"
    }
   },
   "source": [
    "# A Modular Approach"
   ]
  },
  {
   "cell_type": "markdown",
   "metadata": {
    "slideshow": {
     "slide_type": "slide"
    }
   },
   "source": [
    "## Multi-layer Perceptron"
   ]
  },
  {
   "cell_type": "code",
   "execution_count": 189,
   "metadata": {
    "collapsed": false,
    "hide_input": true
   },
   "outputs": [
    {
     "data": {
      "image/svg+xml": [
       "<svg height=\"600px\" version=\"1.1\" viewBox=\"0 0 384.708 243.643\" width=\"1000px\" xmlns=\"http://www.w3.org/2000/svg\" xmlns:xlink=\"http://www.w3.org/1999/xlink\">\n",
       "<defs>\n",
       "<g>\n",
       "<symbol id=\"glyph0-0\" overflow=\"visible\">\n",
       "<path d=\"\" style=\"stroke:none;\"/>\n",
       "</symbol>\n",
       "<symbol id=\"glyph0-1\" overflow=\"visible\">\n",
       "<path d=\"M 3.453125 -2.453125 L 4.609375 -3.75 C 4.75 -3.890625 4.8125 -3.953125 5.625 -3.953125 L 5.625 -4.421875 C 5.28125 -4.40625 4.765625 -4.390625 4.71875 -4.390625 C 4.46875 -4.390625 3.96875 -4.421875 3.6875 -4.421875 L 3.6875 -3.953125 C 3.828125 -3.953125 3.953125 -3.9375 4.0625 -3.875 C 4.03125 -3.8125 4.03125 -3.78125 3.984375 -3.75 L 3.15625 -2.8125 L 2.171875 -3.953125 L 2.578125 -3.953125 L 2.578125 -4.421875 C 2.3125 -4.421875 1.6875 -4.390625 1.359375 -4.390625 C 1.046875 -4.390625 0.59375 -4.421875 0.265625 -4.421875 L 0.265625 -3.953125 L 0.984375 -3.953125 L 2.53125 -2.125 L 1.21875 -0.65625 C 1.0625 -0.46875 0.703125 -0.46875 0.21875 -0.46875 L 0.21875 0 C 0.5625 -0.015625 1.09375 -0.03125 1.140625 -0.03125 C 1.390625 -0.03125 1.96875 -0.015625 2.15625 0 L 2.15625 -0.46875 C 1.984375 -0.46875 1.796875 -0.515625 1.796875 -0.578125 C 1.796875 -0.59375 1.796875 -0.59375 1.859375 -0.671875 L 2.828125 -1.765625 L 3.921875 -0.46875 L 3.53125 -0.46875 L 3.53125 0 C 3.796875 -0.015625 4.40625 -0.03125 4.734375 -0.03125 C 5.046875 -0.03125 5.5 -0.015625 5.828125 0 L 5.828125 -0.46875 L 5.125 -0.46875 Z M 3.453125 -2.453125 \" style=\"stroke:none;\"/>\n",
       "</symbol>\n",
       "<symbol id=\"glyph0-2\" overflow=\"visible\">\n",
       "<path d=\"M 10.65625 -6.125 C 10.71875 -6.296875 10.71875 -6.3125 11.03125 -6.34375 C 11.234375 -6.375 11.4375 -6.375 11.609375 -6.375 L 11.609375 -6.84375 C 11.328125 -6.828125 10.984375 -6.8125 10.53125 -6.8125 C 10.15625 -6.8125 9.546875 -6.8125 9.1875 -6.84375 L 9.1875 -6.375 C 9.4375 -6.375 9.90625 -6.375 10.203125 -6.265625 L 8.484375 -1.796875 L 6.71875 -6.375 L 7.671875 -6.375 L 7.671875 -6.84375 C 7.296875 -6.8125 6.359375 -6.8125 5.9375 -6.8125 C 5.546875 -6.8125 4.75 -6.8125 4.40625 -6.84375 L 4.40625 -6.375 L 5.265625 -6.375 L 5.671875 -5.3125 L 4.3125 -1.796875 L 2.546875 -6.375 L 3.515625 -6.375 L 3.515625 -6.84375 C 3.125 -6.8125 2.1875 -6.8125 1.765625 -6.8125 C 1.375 -6.8125 0.59375 -6.8125 0.234375 -6.84375 L 0.234375 -6.375 L 1.09375 -6.375 L 3.484375 -0.171875 C 3.546875 -0.015625 3.59375 0.078125 3.84375 0.078125 C 4.09375 0.078125 4.125 -0.015625 4.1875 -0.171875 L 5.921875 -4.671875 L 7.65625 -0.171875 C 7.71875 -0.015625 7.75 0.078125 8 0.078125 C 8.25 0.078125 8.296875 -0.015625 8.359375 -0.171875 Z M 10.65625 -6.125 \" style=\"stroke:none;\"/>\n",
       "</symbol>\n",
       "<symbol id=\"glyph0-3\" overflow=\"visible\">\n",
       "<path d=\"M 2.140625 -4 L 2.140625 -6.921875 L 0.375 -6.84375 L 0.375 -6.375 C 0.984375 -6.375 1.0625 -6.375 1.0625 -5.984375 L 1.0625 0 L 1.53125 0 L 2.015625 -0.5625 C 2.09375 -0.484375 2.578125 0.0625 3.46875 0.0625 C 4.953125 0.0625 5.984375 -0.84375 5.984375 -2.21875 C 5.984375 -3.546875 5.046875 -4.484375 3.59375 -4.484375 C 2.875 -4.484375 2.375 -4.203125 2.140625 -4 Z M 2.1875 -0.984375 L 2.1875 -3.484375 C 2.46875 -3.84375 2.9375 -4.125 3.484375 -4.125 C 4.703125 -4.125 4.703125 -2.921875 4.703125 -2.21875 C 4.703125 -1.75 4.703125 -1.203125 4.453125 -0.8125 C 4.15625 -0.40625 3.703125 -0.296875 3.375 -0.296875 C 2.6875 -0.296875 2.296875 -0.84375 2.1875 -0.984375 Z M 2.1875 -0.984375 \" style=\"stroke:none;\"/>\n",
       "</symbol>\n",
       "<symbol id=\"glyph0-4\" overflow=\"visible\">\n",
       "<path d=\"M 1.140625 -0.46875 L 0.453125 -0.46875 L 0.453125 0 C 0.734375 -0.015625 1.328125 -0.03125 1.703125 -0.03125 C 2.09375 -0.03125 2.6875 -0.015625 2.953125 0 L 2.953125 -0.46875 L 2.265625 -0.46875 L 2.265625 -2.546875 C 2.265625 -3.640625 3.125 -4.125 3.765625 -4.125 C 4.09375 -4.125 4.3125 -3.921875 4.3125 -3.15625 L 4.3125 -0.46875 L 3.625 -0.46875 L 3.625 0 C 3.890625 -0.015625 4.5 -0.03125 4.875 -0.03125 C 5.265625 -0.03125 5.859375 -0.015625 6.125 0 L 6.125 -0.46875 L 5.4375 -0.46875 L 5.4375 -3.046875 C 5.4375 -4.09375 4.90625 -4.484375 3.90625 -4.484375 C 2.953125 -4.484375 2.4375 -3.90625 2.21875 -3.515625 L 2.21875 -6.921875 L 0.453125 -6.84375 L 0.453125 -6.375 C 1.0625 -6.375 1.140625 -6.375 1.140625 -5.984375 Z M 1.140625 -0.46875 \" style=\"stroke:none;\"/>\n",
       "</symbol>\n",
       "<symbol id=\"glyph0-5\" overflow=\"visible\">\n",
       "<path d=\"M 4.46875 -4 C 4.5625 -4.109375 4.578125 -4.125 4.578125 -4.21875 C 4.578125 -4.421875 4.4375 -4.421875 4.25 -4.421875 L 0.59375 -4.421875 L 0.484375 -2.6875 L 0.953125 -2.6875 C 1 -3.703125 1.3125 -4.0625 2.34375 -4.0625 L 3.1875 -4.0625 L 0.40625 -0.4375 C 0.3125 -0.328125 0.3125 -0.3125 0.3125 -0.21875 C 0.3125 0 0.453125 0 0.640625 0 L 4.421875 0 L 4.609375 -2.015625 L 4.140625 -2.015625 C 4.046875 -1 3.890625 -0.40625 2.578125 -0.40625 L 1.71875 -0.40625 Z M 4.46875 -4 \" style=\"stroke:none;\"/>\n",
       "</symbol>\n",
       "<symbol id=\"glyph1-0\" overflow=\"visible\">\n",
       "<path d=\"\" style=\"stroke:none;\"/>\n",
       "</symbol>\n",
       "<symbol id=\"glyph1-1\" overflow=\"visible\">\n",
       "<path d=\"M 2.078125 -1.9375 C 2.296875 -1.890625 3.109375 -1.734375 3.109375 -1.015625 C 3.109375 -0.515625 2.765625 -0.109375 1.984375 -0.109375 C 1.140625 -0.109375 0.78125 -0.671875 0.59375 -1.53125 C 0.5625 -1.65625 0.5625 -1.6875 0.453125 -1.6875 C 0.328125 -1.6875 0.328125 -1.625 0.328125 -1.453125 L 0.328125 -0.125 C 0.328125 0.046875 0.328125 0.109375 0.4375 0.109375 C 0.484375 0.109375 0.5 0.09375 0.6875 -0.09375 C 0.703125 -0.109375 0.703125 -0.125 0.890625 -0.3125 C 1.328125 0.09375 1.78125 0.109375 1.984375 0.109375 C 3.125 0.109375 3.59375 -0.5625 3.59375 -1.28125 C 3.59375 -1.796875 3.296875 -2.109375 3.171875 -2.21875 C 2.84375 -2.546875 2.453125 -2.625 2.03125 -2.703125 C 1.46875 -2.8125 0.8125 -2.9375 0.8125 -3.515625 C 0.8125 -3.875 1.0625 -4.28125 1.921875 -4.28125 C 3.015625 -4.28125 3.078125 -3.375 3.09375 -3.078125 C 3.09375 -2.984375 3.1875 -2.984375 3.203125 -2.984375 C 3.34375 -2.984375 3.34375 -3.03125 3.34375 -3.21875 L 3.34375 -4.234375 C 3.34375 -4.390625 3.34375 -4.46875 3.234375 -4.46875 C 3.1875 -4.46875 3.15625 -4.46875 3.03125 -4.34375 C 3 -4.3125 2.90625 -4.21875 2.859375 -4.1875 C 2.484375 -4.46875 2.078125 -4.46875 1.921875 -4.46875 C 0.703125 -4.46875 0.328125 -3.796875 0.328125 -3.234375 C 0.328125 -2.890625 0.484375 -2.609375 0.75 -2.390625 C 1.078125 -2.140625 1.359375 -2.078125 2.078125 -1.9375 Z M 2.078125 -1.9375 \" style=\"stroke:none;\"/>\n",
       "</symbol>\n",
       "<symbol id=\"glyph1-2\" overflow=\"visible\">\n",
       "<path d=\"M 1.765625 -4.40625 L 0.375 -4.296875 L 0.375 -3.984375 C 1.015625 -3.984375 1.109375 -3.921875 1.109375 -3.4375 L 1.109375 -0.75 C 1.109375 -0.3125 1 -0.3125 0.328125 -0.3125 L 0.328125 0 C 0.640625 -0.015625 1.1875 -0.03125 1.421875 -0.03125 C 1.78125 -0.03125 2.125 -0.015625 2.46875 0 L 2.46875 -0.3125 C 1.796875 -0.3125 1.765625 -0.359375 1.765625 -0.75 Z M 1.796875 -6.140625 C 1.796875 -6.453125 1.5625 -6.671875 1.28125 -6.671875 C 0.96875 -6.671875 0.75 -6.40625 0.75 -6.140625 C 0.75 -5.875 0.96875 -5.609375 1.28125 -5.609375 C 1.5625 -5.609375 1.796875 -5.828125 1.796875 -6.140625 Z M 1.796875 -6.140625 \" style=\"stroke:none;\"/>\n",
       "</symbol>\n",
       "<symbol id=\"glyph1-3\" overflow=\"visible\">\n",
       "<path d=\"M 2.21875 -1.71875 C 1.34375 -1.71875 1.34375 -2.71875 1.34375 -2.9375 C 1.34375 -3.203125 1.359375 -3.53125 1.5 -3.78125 C 1.578125 -3.890625 1.8125 -4.171875 2.21875 -4.171875 C 3.078125 -4.171875 3.078125 -3.1875 3.078125 -2.953125 C 3.078125 -2.6875 3.078125 -2.359375 2.921875 -2.109375 C 2.84375 -2 2.609375 -1.71875 2.21875 -1.71875 Z M 1.0625 -1.328125 C 1.0625 -1.359375 1.0625 -1.59375 1.21875 -1.796875 C 1.609375 -1.515625 2.03125 -1.484375 2.21875 -1.484375 C 3.140625 -1.484375 3.828125 -2.171875 3.828125 -2.9375 C 3.828125 -3.3125 3.671875 -3.671875 3.421875 -3.90625 C 3.78125 -4.25 4.140625 -4.296875 4.3125 -4.296875 C 4.34375 -4.296875 4.390625 -4.296875 4.421875 -4.28125 C 4.3125 -4.25 4.25 -4.140625 4.25 -4.015625 C 4.25 -3.84375 4.390625 -3.734375 4.546875 -3.734375 C 4.640625 -3.734375 4.828125 -3.796875 4.828125 -4.03125 C 4.828125 -4.203125 4.71875 -4.515625 4.328125 -4.515625 C 4.125 -4.515625 3.6875 -4.453125 3.265625 -4.046875 C 2.84375 -4.375 2.4375 -4.40625 2.21875 -4.40625 C 1.28125 -4.40625 0.59375 -3.71875 0.59375 -2.953125 C 0.59375 -2.515625 0.8125 -2.140625 1.0625 -1.921875 C 0.9375 -1.78125 0.75 -1.453125 0.75 -1.09375 C 0.75 -0.78125 0.890625 -0.40625 1.203125 -0.203125 C 0.59375 -0.046875 0.28125 0.390625 0.28125 0.78125 C 0.28125 1.5 1.265625 2.046875 2.484375 2.046875 C 3.65625 2.046875 4.6875 1.546875 4.6875 0.765625 C 4.6875 0.421875 4.5625 -0.09375 4.046875 -0.375 C 3.515625 -0.640625 2.9375 -0.640625 2.328125 -0.640625 C 2.078125 -0.640625 1.65625 -0.640625 1.578125 -0.65625 C 1.265625 -0.703125 1.0625 -1 1.0625 -1.328125 Z M 2.5 1.828125 C 1.484375 1.828125 0.796875 1.3125 0.796875 0.78125 C 0.796875 0.328125 1.171875 -0.046875 1.609375 -0.0625 L 2.203125 -0.0625 C 3.0625 -0.0625 4.171875 -0.0625 4.171875 0.78125 C 4.171875 1.328125 3.46875 1.828125 2.5 1.828125 Z M 2.5 1.828125 \" style=\"stroke:none;\"/>\n",
       "</symbol>\n",
       "<symbol id=\"glyph1-4\" overflow=\"visible\">\n",
       "<path d=\"M 1.09375 -3.421875 L 1.09375 -0.75 C 1.09375 -0.3125 0.984375 -0.3125 0.3125 -0.3125 L 0.3125 0 C 0.671875 -0.015625 1.171875 -0.03125 1.453125 -0.03125 C 1.703125 -0.03125 2.21875 -0.015625 2.5625 0 L 2.5625 -0.3125 C 1.890625 -0.3125 1.78125 -0.3125 1.78125 -0.75 L 1.78125 -2.59375 C 1.78125 -3.625 2.5 -4.1875 3.125 -4.1875 C 3.765625 -4.1875 3.875 -3.65625 3.875 -3.078125 L 3.875 -0.75 C 3.875 -0.3125 3.765625 -0.3125 3.09375 -0.3125 L 3.09375 0 C 3.4375 -0.015625 3.953125 -0.03125 4.21875 -0.03125 C 4.46875 -0.03125 5 -0.015625 5.328125 0 L 5.328125 -0.3125 C 4.671875 -0.3125 4.5625 -0.3125 4.5625 -0.75 L 4.5625 -2.59375 C 4.5625 -3.625 5.265625 -4.1875 5.90625 -4.1875 C 6.53125 -4.1875 6.640625 -3.65625 6.640625 -3.078125 L 6.640625 -0.75 C 6.640625 -0.3125 6.53125 -0.3125 5.859375 -0.3125 L 5.859375 0 C 6.203125 -0.015625 6.71875 -0.03125 6.984375 -0.03125 C 7.25 -0.03125 7.765625 -0.015625 8.109375 0 L 8.109375 -0.3125 C 7.59375 -0.3125 7.34375 -0.3125 7.328125 -0.609375 L 7.328125 -2.515625 C 7.328125 -3.375 7.328125 -3.671875 7.015625 -4.03125 C 6.875 -4.203125 6.546875 -4.40625 5.96875 -4.40625 C 5.140625 -4.40625 4.6875 -3.8125 4.53125 -3.421875 C 4.390625 -4.296875 3.65625 -4.40625 3.203125 -4.40625 C 2.46875 -4.40625 2 -3.984375 1.71875 -3.359375 L 1.71875 -4.40625 L 0.3125 -4.296875 L 0.3125 -3.984375 C 1.015625 -3.984375 1.09375 -3.921875 1.09375 -3.421875 Z M 1.09375 -3.421875 \" style=\"stroke:none;\"/>\n",
       "</symbol>\n",
       "<symbol id=\"glyph1-5\" overflow=\"visible\">\n",
       "<path d=\"M 4.6875 -2.140625 C 4.6875 -3.40625 3.703125 -4.46875 2.5 -4.46875 C 1.25 -4.46875 0.28125 -3.375 0.28125 -2.140625 C 0.28125 -0.84375 1.3125 0.109375 2.484375 0.109375 C 3.6875 0.109375 4.6875 -0.875 4.6875 -2.140625 Z M 2.5 -0.140625 C 2.0625 -0.140625 1.625 -0.34375 1.359375 -0.8125 C 1.109375 -1.25 1.109375 -1.859375 1.109375 -2.21875 C 1.109375 -2.609375 1.109375 -3.140625 1.34375 -3.578125 C 1.609375 -4.03125 2.078125 -4.25 2.484375 -4.25 C 2.921875 -4.25 3.34375 -4.03125 3.609375 -3.59375 C 3.875 -3.171875 3.875 -2.59375 3.875 -2.21875 C 3.875 -1.859375 3.875 -1.3125 3.65625 -0.875 C 3.421875 -0.421875 2.984375 -0.140625 2.5 -0.140625 Z M 2.5 -0.140625 \" style=\"stroke:none;\"/>\n",
       "</symbol>\n",
       "<symbol id=\"glyph1-6\" overflow=\"visible\">\n",
       "<path d=\"M 3.78125 -0.546875 L 3.78125 0.109375 L 5.25 0 L 5.25 -0.3125 C 4.5625 -0.3125 4.46875 -0.375 4.46875 -0.875 L 4.46875 -6.921875 L 3.046875 -6.8125 L 3.046875 -6.5 C 3.734375 -6.5 3.8125 -6.4375 3.8125 -5.9375 L 3.8125 -3.78125 C 3.53125 -4.140625 3.09375 -4.40625 2.5625 -4.40625 C 1.390625 -4.40625 0.34375 -3.421875 0.34375 -2.140625 C 0.34375 -0.875 1.3125 0.109375 2.453125 0.109375 C 3.09375 0.109375 3.53125 -0.234375 3.78125 -0.546875 Z M 3.78125 -3.21875 L 3.78125 -1.171875 C 3.78125 -1 3.78125 -0.984375 3.671875 -0.8125 C 3.375 -0.328125 2.9375 -0.109375 2.5 -0.109375 C 2.046875 -0.109375 1.6875 -0.375 1.453125 -0.75 C 1.203125 -1.15625 1.171875 -1.71875 1.171875 -2.140625 C 1.171875 -2.5 1.1875 -3.09375 1.46875 -3.546875 C 1.6875 -3.859375 2.0625 -4.1875 2.609375 -4.1875 C 2.953125 -4.1875 3.375 -4.03125 3.671875 -3.59375 C 3.78125 -3.421875 3.78125 -3.40625 3.78125 -3.21875 Z M 3.78125 -3.21875 \" style=\"stroke:none;\"/>\n",
       "</symbol>\n",
       "<symbol id=\"glyph1-7\" overflow=\"visible\">\n",
       "<path d=\"M 3.296875 2.390625 C 3.296875 2.359375 3.296875 2.34375 3.125 2.171875 C 1.890625 0.921875 1.5625 -0.96875 1.5625 -2.5 C 1.5625 -4.234375 1.9375 -5.96875 3.171875 -7.203125 C 3.296875 -7.328125 3.296875 -7.34375 3.296875 -7.375 C 3.296875 -7.453125 3.265625 -7.484375 3.203125 -7.484375 C 3.09375 -7.484375 2.203125 -6.796875 1.609375 -5.53125 C 1.109375 -4.4375 0.984375 -3.328125 0.984375 -2.5 C 0.984375 -1.71875 1.09375 -0.515625 1.640625 0.625 C 2.25 1.84375 3.09375 2.5 3.203125 2.5 C 3.265625 2.5 3.296875 2.46875 3.296875 2.390625 Z M 3.296875 2.390625 \" style=\"stroke:none;\"/>\n",
       "</symbol>\n",
       "<symbol id=\"glyph1-8\" overflow=\"visible\">\n",
       "<path d=\"M 4.078125 -2.296875 L 6.859375 -2.296875 C 7 -2.296875 7.1875 -2.296875 7.1875 -2.5 C 7.1875 -2.6875 7 -2.6875 6.859375 -2.6875 L 4.078125 -2.6875 L 4.078125 -5.484375 C 4.078125 -5.625 4.078125 -5.8125 3.875 -5.8125 C 3.671875 -5.8125 3.671875 -5.625 3.671875 -5.484375 L 3.671875 -2.6875 L 0.890625 -2.6875 C 0.75 -2.6875 0.5625 -2.6875 0.5625 -2.5 C 0.5625 -2.296875 0.75 -2.296875 0.890625 -2.296875 L 3.671875 -2.296875 L 3.671875 0.5 C 3.671875 0.640625 3.671875 0.828125 3.875 0.828125 C 4.078125 0.828125 4.078125 0.640625 4.078125 0.5 Z M 4.078125 -2.296875 \" style=\"stroke:none;\"/>\n",
       "</symbol>\n",
       "<symbol id=\"glyph1-9\" overflow=\"visible\">\n",
       "<path d=\"M 2.875 -2.5 C 2.875 -3.265625 2.765625 -4.46875 2.21875 -5.609375 C 1.625 -6.828125 0.765625 -7.484375 0.671875 -7.484375 C 0.609375 -7.484375 0.5625 -7.4375 0.5625 -7.375 C 0.5625 -7.34375 0.5625 -7.328125 0.75 -7.140625 C 1.734375 -6.15625 2.296875 -4.578125 2.296875 -2.5 C 2.296875 -0.78125 1.9375 0.96875 0.703125 2.21875 C 0.5625 2.34375 0.5625 2.359375 0.5625 2.390625 C 0.5625 2.453125 0.609375 2.5 0.671875 2.5 C 0.765625 2.5 1.671875 1.8125 2.25 0.546875 C 2.765625 -0.546875 2.875 -1.65625 2.875 -2.5 Z M 2.875 -2.5 \" style=\"stroke:none;\"/>\n",
       "</symbol>\n",
       "<symbol id=\"glyph2-0\" overflow=\"visible\">\n",
       "<path d=\"\" style=\"stroke:none;\"/>\n",
       "</symbol>\n",
       "<symbol id=\"glyph2-1\" overflow=\"visible\">\n",
       "<path d=\"M 1.90625 -2.328125 C 2.453125 -2.328125 2.84375 -1.953125 2.84375 -1.203125 C 2.84375 -0.34375 2.328125 -0.078125 1.9375 -0.078125 C 1.65625 -0.078125 1.03125 -0.15625 0.75 -0.578125 C 1.078125 -0.578125 1.15625 -0.8125 1.15625 -0.96875 C 1.15625 -1.1875 0.984375 -1.34375 0.765625 -1.34375 C 0.578125 -1.34375 0.375 -1.21875 0.375 -0.9375 C 0.375 -0.28125 1.09375 0.140625 1.9375 0.140625 C 2.90625 0.140625 3.578125 -0.515625 3.578125 -1.203125 C 3.578125 -1.75 3.140625 -2.296875 2.375 -2.453125 C 3.09375 -2.71875 3.359375 -3.234375 3.359375 -3.671875 C 3.359375 -4.21875 2.734375 -4.625 1.953125 -4.625 C 1.1875 -4.625 0.59375 -4.25 0.59375 -3.6875 C 0.59375 -3.453125 0.75 -3.328125 0.953125 -3.328125 C 1.171875 -3.328125 1.3125 -3.484375 1.3125 -3.671875 C 1.3125 -3.875 1.171875 -4.03125 0.953125 -4.046875 C 1.203125 -4.34375 1.671875 -4.421875 1.9375 -4.421875 C 2.25 -4.421875 2.6875 -4.265625 2.6875 -3.671875 C 2.6875 -3.375 2.59375 -3.046875 2.40625 -2.84375 C 2.1875 -2.578125 1.984375 -2.5625 1.640625 -2.53125 C 1.46875 -2.515625 1.453125 -2.515625 1.421875 -2.515625 C 1.40625 -2.515625 1.34375 -2.5 1.34375 -2.421875 C 1.34375 -2.328125 1.40625 -2.328125 1.53125 -2.328125 Z M 1.90625 -2.328125 \" style=\"stroke:none;\"/>\n",
       "</symbol>\n",
       "<symbol id=\"glyph2-2\" overflow=\"visible\">\n",
       "<path d=\"M 1.078125 -3.890625 C 1.4375 -3.796875 1.640625 -3.796875 1.75 -3.796875 C 2.671875 -3.796875 3.21875 -4.421875 3.21875 -4.53125 C 3.21875 -4.609375 3.171875 -4.625 3.140625 -4.625 C 3.125 -4.625 3.109375 -4.625 3.078125 -4.609375 C 2.90625 -4.546875 2.546875 -4.40625 2.03125 -4.40625 C 1.828125 -4.40625 1.46875 -4.421875 1.015625 -4.59375 C 0.9375 -4.625 0.921875 -4.625 0.921875 -4.625 C 0.828125 -4.625 0.828125 -4.546875 0.828125 -4.4375 L 0.828125 -2.390625 C 0.828125 -2.265625 0.828125 -2.1875 0.9375 -2.1875 C 1 -2.1875 1.015625 -2.1875 1.078125 -2.28125 C 1.375 -2.65625 1.8125 -2.71875 2.046875 -2.71875 C 2.46875 -2.71875 2.65625 -2.390625 2.6875 -2.328125 C 2.8125 -2.09375 2.859375 -1.828125 2.859375 -1.421875 C 2.859375 -1.21875 2.859375 -0.8125 2.640625 -0.5 C 2.46875 -0.25 2.171875 -0.078125 1.828125 -0.078125 C 1.375 -0.078125 0.90625 -0.328125 0.734375 -0.796875 C 1 -0.78125 1.140625 -0.953125 1.140625 -1.140625 C 1.140625 -1.4375 0.875 -1.484375 0.78125 -1.484375 C 0.78125 -1.484375 0.4375 -1.484375 0.4375 -1.109375 C 0.4375 -0.484375 1.015625 0.140625 1.84375 0.140625 C 2.734375 0.140625 3.515625 -0.515625 3.515625 -1.40625 C 3.515625 -2.1875 2.921875 -2.90625 2.0625 -2.90625 C 1.75 -2.90625 1.390625 -2.84375 1.078125 -2.578125 Z M 1.078125 -3.890625 \" style=\"stroke:none;\"/>\n",
       "</symbol>\n",
       "<symbol id=\"glyph2-3\" overflow=\"visible\">\n",
       "<path d=\"M 2.328125 -4.4375 C 2.328125 -4.625 2.328125 -4.625 2.125 -4.625 C 1.671875 -4.1875 1.046875 -4.1875 0.765625 -4.1875 L 0.765625 -3.9375 C 0.921875 -3.9375 1.390625 -3.9375 1.765625 -4.125 L 1.765625 -0.578125 C 1.765625 -0.34375 1.765625 -0.25 1.078125 -0.25 L 0.8125 -0.25 L 0.8125 0 C 0.9375 0 1.796875 -0.03125 2.046875 -0.03125 C 2.265625 -0.03125 3.140625 0 3.296875 0 L 3.296875 -0.25 L 3.03125 -0.25 C 2.328125 -0.25 2.328125 -0.34375 2.328125 -0.578125 Z M 2.328125 -4.4375 \" style=\"stroke:none;\"/>\n",
       "</symbol>\n",
       "<symbol id=\"glyph2-4\" overflow=\"visible\">\n",
       "<path d=\"M 3.515625 -1.265625 L 3.28125 -1.265625 C 3.265625 -1.109375 3.1875 -0.703125 3.09375 -0.640625 C 3.046875 -0.59375 2.515625 -0.59375 2.40625 -0.59375 L 1.125 -0.59375 C 1.859375 -1.234375 2.109375 -1.4375 2.515625 -1.765625 C 3.03125 -2.171875 3.515625 -2.609375 3.515625 -3.265625 C 3.515625 -4.109375 2.78125 -4.625 1.890625 -4.625 C 1.03125 -4.625 0.4375 -4.015625 0.4375 -3.375 C 0.4375 -3.03125 0.734375 -2.984375 0.8125 -2.984375 C 0.96875 -2.984375 1.171875 -3.109375 1.171875 -3.359375 C 1.171875 -3.484375 1.125 -3.734375 0.765625 -3.734375 C 0.984375 -4.21875 1.453125 -4.375 1.78125 -4.375 C 2.484375 -4.375 2.84375 -3.828125 2.84375 -3.265625 C 2.84375 -2.65625 2.40625 -2.1875 2.1875 -1.9375 L 0.515625 -0.265625 C 0.4375 -0.203125 0.4375 -0.1875 0.4375 0 L 3.3125 0 Z M 3.515625 -1.265625 \" style=\"stroke:none;\"/>\n",
       "</symbol>\n",
       "<symbol id=\"glyph3-0\" overflow=\"visible\">\n",
       "<path d=\"\" style=\"stroke:none;\"/>\n",
       "</symbol>\n",
       "<symbol id=\"glyph3-1\" overflow=\"visible\">\n",
       "<path d=\"M 4.875 -3.265625 C 4.953125 -3.34375 4.96875 -3.390625 4.96875 -3.4375 C 4.96875 -3.546875 4.890625 -3.609375 4.8125 -3.609375 C 4.734375 -3.609375 4.71875 -3.59375 4.640625 -3.5 L 3.109375 -1.984375 L 1.578125 -3.515625 C 1.5 -3.578125 1.484375 -3.609375 1.421875 -3.609375 C 1.3125 -3.609375 1.234375 -3.53125 1.234375 -3.4375 C 1.234375 -3.375 1.265625 -3.359375 1.34375 -3.265625 L 2.859375 -1.75 L 1.34375 -0.234375 C 1.25 -0.125 1.234375 -0.09375 1.234375 -0.0625 C 1.234375 0.046875 1.3125 0.125 1.421875 0.125 C 1.484375 0.125 1.5 0.09375 1.578125 0.015625 L 3.109375 -1.5 L 4.703125 0.078125 C 4.734375 0.109375 4.765625 0.125 4.8125 0.125 C 4.890625 0.125 4.96875 0.0625 4.96875 -0.0625 C 4.96875 -0.109375 4.96875 -0.125 4.9375 -0.140625 C 4.921875 -0.171875 3.578125 -1.53125 3.359375 -1.734375 Z M 4.875 -3.265625 \" style=\"stroke:none;\"/>\n",
       "</symbol>\n",
       "<symbol id=\"glyph4-0\" overflow=\"visible\">\n",
       "<path d=\"\" style=\"stroke:none;\"/>\n",
       "</symbol>\n",
       "<symbol id=\"glyph4-1\" overflow=\"visible\">\n",
       "<path d=\"M 3.328125 -3.015625 C 3.390625 -3.265625 3.625 -4.1875 4.3125 -4.1875 C 4.359375 -4.1875 4.609375 -4.1875 4.8125 -4.0625 C 4.53125 -4 4.34375 -3.765625 4.34375 -3.515625 C 4.34375 -3.359375 4.453125 -3.171875 4.71875 -3.171875 C 4.9375 -3.171875 5.25 -3.34375 5.25 -3.75 C 5.25 -4.265625 4.671875 -4.40625 4.328125 -4.40625 C 3.75 -4.40625 3.40625 -3.875 3.28125 -3.65625 C 3.03125 -4.3125 2.5 -4.40625 2.203125 -4.40625 C 1.171875 -4.40625 0.59375 -3.125 0.59375 -2.875 C 0.59375 -2.765625 0.703125 -2.765625 0.71875 -2.765625 C 0.796875 -2.765625 0.828125 -2.796875 0.84375 -2.875 C 1.1875 -3.9375 1.84375 -4.1875 2.1875 -4.1875 C 2.375 -4.1875 2.71875 -4.09375 2.71875 -3.515625 C 2.71875 -3.203125 2.546875 -2.546875 2.1875 -1.140625 C 2.03125 -0.53125 1.671875 -0.109375 1.234375 -0.109375 C 1.171875 -0.109375 0.953125 -0.109375 0.734375 -0.234375 C 0.984375 -0.296875 1.203125 -0.5 1.203125 -0.78125 C 1.203125 -1.046875 0.984375 -1.125 0.84375 -1.125 C 0.53125 -1.125 0.296875 -0.875 0.296875 -0.546875 C 0.296875 -0.09375 0.78125 0.109375 1.21875 0.109375 C 1.890625 0.109375 2.25 -0.59375 2.265625 -0.640625 C 2.390625 -0.28125 2.75 0.109375 3.34375 0.109375 C 4.375 0.109375 4.9375 -1.171875 4.9375 -1.421875 C 4.9375 -1.53125 4.859375 -1.53125 4.828125 -1.53125 C 4.734375 -1.53125 4.71875 -1.484375 4.6875 -1.421875 C 4.359375 -0.34375 3.6875 -0.109375 3.375 -0.109375 C 2.984375 -0.109375 2.828125 -0.421875 2.828125 -0.765625 C 2.828125 -0.984375 2.875 -1.203125 2.984375 -1.640625 Z M 3.328125 -3.015625 \" style=\"stroke:none;\"/>\n",
       "</symbol>\n",
       "</g>\n",
       "</defs>\n",
       "<g id=\"surface1\">\n",
       "<path d=\"M -0.00028125 0.0016875 L 92.124719 0.0016875 M -0.00028125 18.419656 L 92.124719 18.419656 M -0.00028125 0.0016875 L -0.00028125 18.423562 M 18.4255 0.0016875 L 18.4255 18.423562 M 36.851281 0.0016875 L 36.851281 18.423562 M 55.277062 0.0016875 L 55.277062 18.423562 M 73.702844 0.0016875 L 73.702844 18.423562 M 92.120812 0.0016875 L 92.120812 18.423562 \" style=\"fill:none;stroke-width:1.59404;stroke-linecap:butt;stroke-linejoin:miter;stroke:rgb(0%,0%,0%);stroke-opacity:1;stroke-miterlimit:10;\" transform=\"matrix(1,0,0,-1,12.887,240.322)\"/>\n",
       "<g style=\"fill:rgb(0%,0%,0%);fill-opacity:1;\">\n",
       "  <use x=\"3.321\" xlink:href=\"#glyph0-1\" y=\"233.324\"/>\n",
       "</g>\n",
       "<path d=\"M 46.062219 18.423562 L 46.062219 71.388406 \" style=\"fill:none;stroke-width:1.59404;stroke-linecap:butt;stroke-linejoin:miter;stroke:rgb(0%,0%,0%);stroke-opacity:1;stroke-miterlimit:10;\" transform=\"matrix(1,0,0,-1,12.887,240.322)\"/>\n",
       "<path d=\"M 1.514401 0.00089125 C -0.38013 0.379798 -2.270755 1.13761 -4.544193 2.461829 C -2.270755 0.758704 -2.270755 -0.756921 -4.544193 -2.460046 C -2.270755 -1.135827 -0.38013 -0.378015 1.514401 0.00089125 Z M 1.514401 0.00089125 \" style=\"fill-rule:nonzero;fill:rgb(0%,0%,0%);fill-opacity:1;stroke-width:1.59404;stroke-linecap:butt;stroke-linejoin:round;stroke:rgb(0%,0%,0%);stroke-opacity:1;stroke-miterlimit:10;\" transform=\"matrix(0,-1,-1,0,58.95011,168.93237)\"/>\n",
       "<path d=\"M 55.277062 46.064187 C 55.277062 51.150125 51.152062 55.275125 46.062219 55.275125 C 40.976281 55.275125 36.851281 51.150125 36.851281 46.064187 C 36.851281 40.974344 40.976281 36.849344 46.062219 36.849344 C 51.152062 36.849344 55.277062 40.974344 55.277062 46.064187 Z M 55.277062 46.064187 \" style=\"fill-rule:nonzero;fill:rgb(100%,100%,100%);fill-opacity:1;stroke-width:1.59404;stroke-linecap:butt;stroke-linejoin:miter;stroke:rgb(89.411926%,10.195923%,10.978699%);stroke-opacity:1;stroke-miterlimit:10;\" transform=\"matrix(1,0,0,-1,12.887,240.322)\"/>\n",
       "<path d=\"M 40.534875 38.85325 L 40.995812 38.927469 L 41.45675 39.032937 L 41.917687 39.181375 L 42.378625 39.392312 L 42.839562 39.689187 L 43.3005 40.099344 L 43.757531 40.650125 L 44.218469 41.380594 L 44.679406 42.302469 L 45.140344 43.419656 L 45.601281 44.693094 L 46.062219 46.056375 L 46.523156 47.423562 L 46.984094 48.700906 L 47.445031 49.814187 L 47.902062 50.739969 L 48.363 51.470437 L 48.823937 52.025125 L 49.284875 52.435281 L 49.745812 52.732156 L 50.20675 52.943094 L 50.667687 53.091531 L 51.128625 53.197 L 51.589562 53.271219 \" style=\"fill:none;stroke-width:1.59404;stroke-linecap:butt;stroke-linejoin:miter;stroke:rgb(89.411926%,10.195923%,10.978699%);stroke-opacity:1;stroke-miterlimit:10;\" transform=\"matrix(1,0,0,-1,12.887,240.322)\"/>\n",
       "<g style=\"fill:rgb(0%,0%,0%);fill-opacity:1;\">\n",
       "  <use x=\"71.682\" xlink:href=\"#glyph1-1\" y=\"197.31\"/>\n",
       "  <use x=\"75.611249\" xlink:href=\"#glyph1-2\" y=\"197.31\"/>\n",
       "  <use x=\"78.37886\" xlink:href=\"#glyph1-3\" y=\"197.31\"/>\n",
       "  <use x=\"83.36016\" xlink:href=\"#glyph1-4\" y=\"197.31\"/>\n",
       "  <use x=\"91.661994\" xlink:href=\"#glyph1-5\" y=\"197.31\"/>\n",
       "  <use x=\"96.643294\" xlink:href=\"#glyph1-2\" y=\"197.31\"/>\n",
       "  <use x=\"99.410905\" xlink:href=\"#glyph1-6\" y=\"197.31\"/>\n",
       "  <use x=\"104.946125\" xlink:href=\"#glyph1-7\" y=\"197.31\"/>\n",
       "</g>\n",
       "<g style=\"fill:rgb(0%,0%,0%);fill-opacity:1;\">\n",
       "  <use x=\"108.82\" xlink:href=\"#glyph0-2\" y=\"197.31\"/>\n",
       "</g>\n",
       "<g style=\"fill:rgb(0%,0%,0%);fill-opacity:1;\">\n",
       "  <use x=\"120.824\" xlink:href=\"#glyph2-1\" y=\"193.048\"/>\n",
       "</g>\n",
       "<g style=\"fill:rgb(0%,0%,0%);fill-opacity:1;\">\n",
       "  <use x=\"124.795\" xlink:href=\"#glyph3-1\" y=\"193.048\"/>\n",
       "</g>\n",
       "<g style=\"fill:rgb(0%,0%,0%);fill-opacity:1;\">\n",
       "  <use x=\"131.022\" xlink:href=\"#glyph2-2\" y=\"193.048\"/>\n",
       "</g>\n",
       "<g style=\"fill:rgb(0%,0%,0%);fill-opacity:1;\">\n",
       "  <use x=\"120.665\" xlink:href=\"#glyph2-3\" y=\"199.966\"/>\n",
       "</g>\n",
       "<g style=\"fill:rgb(0%,0%,0%);fill-opacity:1;\">\n",
       "  <use x=\"135.491\" xlink:href=\"#glyph4-1\" y=\"197.31\"/>\n",
       "</g>\n",
       "<g style=\"fill:rgb(0%,0%,0%);fill-opacity:1;\">\n",
       "  <use x=\"143.399\" xlink:href=\"#glyph1-8\" y=\"197.31\"/>\n",
       "</g>\n",
       "<g style=\"fill:rgb(0%,0%,0%);fill-opacity:1;\">\n",
       "  <use x=\"153.362\" xlink:href=\"#glyph0-3\" y=\"197.31\"/>\n",
       "</g>\n",
       "<g style=\"fill:rgb(0%,0%,0%);fill-opacity:1;\">\n",
       "  <use x=\"159.727\" xlink:href=\"#glyph2-3\" y=\"198.804\"/>\n",
       "</g>\n",
       "<g style=\"fill:rgb(0%,0%,0%);fill-opacity:1;\">\n",
       "  <use x=\"164.196\" xlink:href=\"#glyph1-9\" y=\"197.31\"/>\n",
       "</g>\n",
       "<path d=\"M 18.4255 73.700906 L 73.702844 73.700906 M 18.4255 92.118875 L 73.702844 92.118875 M 18.4255 73.700906 L 18.4255 92.126687 M 36.851281 73.700906 L 36.851281 92.126687 M 55.277062 73.700906 L 55.277062 92.126687 M 73.695031 73.700906 L 73.695031 92.126687 \" style=\"fill:none;stroke-width:1.59404;stroke-linecap:butt;stroke-linejoin:miter;stroke:rgb(0%,0%,0%);stroke-opacity:1;stroke-miterlimit:10;\" transform=\"matrix(1,0,0,-1,12.887,240.322)\"/>\n",
       "<g style=\"fill:rgb(0%,0%,0%);fill-opacity:1;\">\n",
       "  <use x=\"16.958\" xlink:href=\"#glyph0-4\" y=\"160.122\"/>\n",
       "</g>\n",
       "<g style=\"fill:rgb(0%,0%,0%);fill-opacity:1;\">\n",
       "  <use x=\"23.323\" xlink:href=\"#glyph2-3\" y=\"161.616\"/>\n",
       "</g>\n",
       "<path d=\"M 46.062219 92.126687 L 46.062219 145.091531 \" style=\"fill:none;stroke-width:1.59404;stroke-linecap:butt;stroke-linejoin:miter;stroke:rgb(0%,0%,0%);stroke-opacity:1;stroke-miterlimit:10;\" transform=\"matrix(1,0,0,-1,12.887,240.322)\"/>\n",
       "<path d=\"M 1.5126 0.00089125 C -0.378025 0.379798 -2.272556 1.13761 -4.542088 2.461829 C -2.272556 0.758704 -2.272556 -0.756921 -4.542088 -2.460046 C -2.272556 -1.135827 -0.378025 -0.378015 1.5126 0.00089125 Z M 1.5126 0.00089125 \" style=\"fill-rule:nonzero;fill:rgb(0%,0%,0%);fill-opacity:1;stroke-width:1.59404;stroke-linecap:butt;stroke-linejoin:round;stroke:rgb(0%,0%,0%);stroke-opacity:1;stroke-miterlimit:10;\" transform=\"matrix(0,-1,-1,0,58.95011,95.23135)\"/>\n",
       "<path d=\"M 55.277062 119.763406 C 55.277062 124.85325 51.152062 128.97825 46.062219 128.97825 C 40.976281 128.97825 36.851281 124.85325 36.851281 119.763406 C 36.851281 114.677469 40.976281 110.552469 46.062219 110.552469 C 51.152062 110.552469 55.277062 114.677469 55.277062 119.763406 Z M 55.277062 119.763406 \" style=\"fill-rule:nonzero;fill:rgb(100%,100%,100%);fill-opacity:1;stroke-width:1.59404;stroke-linecap:butt;stroke-linejoin:miter;stroke:rgb(89.411926%,10.195923%,10.978699%);stroke-opacity:1;stroke-miterlimit:10;\" transform=\"matrix(1,0,0,-1,12.887,240.322)\"/>\n",
       "<path d=\"M 40.534875 112.556375 L 40.995812 112.626687 L 41.45675 112.732156 L 41.917687 112.880594 L 42.378625 113.091531 L 42.839562 113.388406 L 43.3005 113.798562 L 43.757531 114.35325 L 44.218469 115.079812 L 44.679406 116.005594 L 45.140344 117.118875 L 45.601281 118.396219 L 46.523156 121.122781 L 46.984094 122.400125 L 47.445031 123.517312 L 47.902062 124.439187 L 48.363 125.169656 L 48.823937 125.72825 L 49.284875 126.138406 L 49.745812 126.435281 L 50.20675 126.646219 L 50.667687 126.794656 L 51.128625 126.900125 L 51.589562 126.970437 \" style=\"fill:none;stroke-width:1.59404;stroke-linecap:butt;stroke-linejoin:miter;stroke:rgb(89.411926%,10.195923%,10.978699%);stroke-opacity:1;stroke-miterlimit:10;\" transform=\"matrix(1,0,0,-1,12.887,240.322)\"/>\n",
       "<g style=\"fill:rgb(0%,0%,0%);fill-opacity:1;\">\n",
       "  <use x=\"71.682\" xlink:href=\"#glyph1-1\" y=\"123.61\"/>\n",
       "  <use x=\"75.611249\" xlink:href=\"#glyph1-2\" y=\"123.61\"/>\n",
       "  <use x=\"78.37886\" xlink:href=\"#glyph1-3\" y=\"123.61\"/>\n",
       "  <use x=\"83.36016\" xlink:href=\"#glyph1-4\" y=\"123.61\"/>\n",
       "  <use x=\"91.661994\" xlink:href=\"#glyph1-5\" y=\"123.61\"/>\n",
       "  <use x=\"96.643294\" xlink:href=\"#glyph1-2\" y=\"123.61\"/>\n",
       "  <use x=\"99.410905\" xlink:href=\"#glyph1-6\" y=\"123.61\"/>\n",
       "  <use x=\"104.946125\" xlink:href=\"#glyph1-7\" y=\"123.61\"/>\n",
       "</g>\n",
       "<g style=\"fill:rgb(0%,0%,0%);fill-opacity:1;\">\n",
       "  <use x=\"108.82\" xlink:href=\"#glyph0-2\" y=\"123.61\"/>\n",
       "</g>\n",
       "<g style=\"fill:rgb(0%,0%,0%);fill-opacity:1;\">\n",
       "  <use x=\"120.824\" xlink:href=\"#glyph2-1\" y=\"119.348\"/>\n",
       "</g>\n",
       "<g style=\"fill:rgb(0%,0%,0%);fill-opacity:1;\">\n",
       "  <use x=\"124.795\" xlink:href=\"#glyph3-1\" y=\"119.348\"/>\n",
       "</g>\n",
       "<g style=\"fill:rgb(0%,0%,0%);fill-opacity:1;\">\n",
       "  <use x=\"131.022\" xlink:href=\"#glyph2-1\" y=\"119.348\"/>\n",
       "</g>\n",
       "<g style=\"fill:rgb(0%,0%,0%);fill-opacity:1;\">\n",
       "  <use x=\"120.665\" xlink:href=\"#glyph2-4\" y=\"126.266\"/>\n",
       "</g>\n",
       "<g style=\"fill:rgb(0%,0%,0%);fill-opacity:1;\">\n",
       "  <use x=\"135.491\" xlink:href=\"#glyph0-4\" y=\"123.61\"/>\n",
       "</g>\n",
       "<g style=\"fill:rgb(0%,0%,0%);fill-opacity:1;\">\n",
       "  <use x=\"141.856\" xlink:href=\"#glyph2-3\" y=\"125.104\"/>\n",
       "</g>\n",
       "<g style=\"fill:rgb(0%,0%,0%);fill-opacity:1;\">\n",
       "  <use x=\"148.539\" xlink:href=\"#glyph1-8\" y=\"123.61\"/>\n",
       "</g>\n",
       "<g style=\"fill:rgb(0%,0%,0%);fill-opacity:1;\">\n",
       "  <use x=\"158.502\" xlink:href=\"#glyph0-3\" y=\"123.61\"/>\n",
       "</g>\n",
       "<g style=\"fill:rgb(0%,0%,0%);fill-opacity:1;\">\n",
       "  <use x=\"164.867\" xlink:href=\"#glyph2-4\" y=\"125.104\"/>\n",
       "</g>\n",
       "<g style=\"fill:rgb(0%,0%,0%);fill-opacity:1;\">\n",
       "  <use x=\"169.336\" xlink:href=\"#glyph1-9\" y=\"123.61\"/>\n",
       "</g>\n",
       "<path d=\"M 18.4255 147.400125 L 73.702844 147.400125 M 18.4255 165.822 L 73.702844 165.822 M 18.4255 147.400125 L 18.4255 165.825906 M 36.851281 147.400125 L 36.851281 165.825906 M 55.277062 147.400125 L 55.277062 165.825906 M 73.695031 147.400125 L 73.695031 165.825906 \" style=\"fill:none;stroke-width:1.59404;stroke-linecap:butt;stroke-linejoin:miter;stroke:rgb(0%,0%,0%);stroke-opacity:1;stroke-miterlimit:10;\" transform=\"matrix(1,0,0,-1,12.887,240.322)\"/>\n",
       "<g style=\"fill:rgb(0%,0%,0%);fill-opacity:1;\">\n",
       "  <use x=\"16.958\" xlink:href=\"#glyph0-4\" y=\"86.422\"/>\n",
       "</g>\n",
       "<g style=\"fill:rgb(0%,0%,0%);fill-opacity:1;\">\n",
       "  <use x=\"23.323\" xlink:href=\"#glyph2-4\" y=\"87.916\"/>\n",
       "</g>\n",
       "<path d=\"M 46.062219 165.825906 L 46.062219 218.79075 \" style=\"fill:none;stroke-width:1.59404;stroke-linecap:butt;stroke-linejoin:miter;stroke:rgb(0%,0%,0%);stroke-opacity:1;stroke-miterlimit:10;\" transform=\"matrix(1,0,0,-1,12.887,240.322)\"/>\n",
       "<path d=\"M 1.514705 0.00089125 C -0.379826 0.379798 -2.270451 1.13761 -4.543889 2.461829 C -2.270451 0.758704 -2.270451 -0.756921 -4.543889 -2.460046 C -2.270451 -1.135827 -0.379826 -0.378015 1.514705 0.00089125 Z M 1.514705 0.00089125 \" style=\"fill-rule:nonzero;fill:rgb(0%,0%,0%);fill-opacity:1;stroke-width:1.59404;stroke-linecap:butt;stroke-linejoin:round;stroke:rgb(0%,0%,0%);stroke-opacity:1;stroke-miterlimit:10;\" transform=\"matrix(0,-1,-1,0,58.95011,21.53033)\"/>\n",
       "<path d=\"M 55.277062 193.466531 C 55.277062 198.552469 51.152062 202.677469 46.062219 202.677469 C 40.976281 202.677469 36.851281 198.552469 36.851281 193.466531 C 36.851281 188.376687 40.976281 184.251687 46.062219 184.251687 C 51.152062 184.251687 55.277062 188.376687 55.277062 193.466531 Z M 55.277062 193.466531 \" style=\"fill-rule:nonzero;fill:rgb(100%,100%,100%);fill-opacity:1;stroke-width:1.59404;stroke-linecap:butt;stroke-linejoin:miter;stroke:rgb(89.411926%,10.195923%,10.978699%);stroke-opacity:1;stroke-miterlimit:10;\" transform=\"matrix(1,0,0,-1,12.887,240.322)\"/>\n",
       "<path d=\"M 40.534875 186.255594 L 40.995812 186.329812 L 41.45675 186.435281 L 41.917687 186.583719 L 42.378625 186.794656 L 42.839562 187.091531 L 43.3005 187.501687 L 43.757531 188.052469 L 44.218469 188.782937 L 44.679406 189.704812 L 45.140344 190.822 L 45.601281 192.095437 L 46.062219 193.458719 L 46.523156 194.825906 L 46.984094 196.10325 L 47.445031 197.216531 L 47.902062 198.142312 L 48.363 198.872781 L 48.823937 199.427469 L 49.284875 199.837625 L 49.745812 200.1345 L 50.20675 200.345437 L 50.667687 200.493875 L 51.128625 200.599344 L 51.589562 200.673562 \" style=\"fill:none;stroke-width:1.59404;stroke-linecap:butt;stroke-linejoin:miter;stroke:rgb(89.411926%,10.195923%,10.978699%);stroke-opacity:1;stroke-miterlimit:10;\" transform=\"matrix(1,0,0,-1,12.887,240.322)\"/>\n",
       "<g style=\"fill:rgb(0%,0%,0%);fill-opacity:1;\">\n",
       "  <use x=\"71.682\" xlink:href=\"#glyph1-1\" y=\"49.91\"/>\n",
       "  <use x=\"75.611249\" xlink:href=\"#glyph1-2\" y=\"49.91\"/>\n",
       "  <use x=\"78.37886\" xlink:href=\"#glyph1-3\" y=\"49.91\"/>\n",
       "  <use x=\"83.36016\" xlink:href=\"#glyph1-4\" y=\"49.91\"/>\n",
       "  <use x=\"91.661994\" xlink:href=\"#glyph1-5\" y=\"49.91\"/>\n",
       "  <use x=\"96.643294\" xlink:href=\"#glyph1-2\" y=\"49.91\"/>\n",
       "  <use x=\"99.410905\" xlink:href=\"#glyph1-6\" y=\"49.91\"/>\n",
       "  <use x=\"104.946125\" xlink:href=\"#glyph1-7\" y=\"49.91\"/>\n",
       "</g>\n",
       "<g style=\"fill:rgb(0%,0%,0%);fill-opacity:1;\">\n",
       "  <use x=\"108.82\" xlink:href=\"#glyph0-2\" y=\"49.91\"/>\n",
       "</g>\n",
       "<g style=\"fill:rgb(0%,0%,0%);fill-opacity:1;\">\n",
       "  <use x=\"120.824\" xlink:href=\"#glyph2-3\" y=\"45.648\"/>\n",
       "</g>\n",
       "<g style=\"fill:rgb(0%,0%,0%);fill-opacity:1;\">\n",
       "  <use x=\"124.795\" xlink:href=\"#glyph3-1\" y=\"45.648\"/>\n",
       "</g>\n",
       "<g style=\"fill:rgb(0%,0%,0%);fill-opacity:1;\">\n",
       "  <use x=\"131.022\" xlink:href=\"#glyph2-1\" y=\"45.648\"/>\n",
       "</g>\n",
       "<g style=\"fill:rgb(0%,0%,0%);fill-opacity:1;\">\n",
       "  <use x=\"120.665\" xlink:href=\"#glyph2-1\" y=\"52.566\"/>\n",
       "</g>\n",
       "<g style=\"fill:rgb(0%,0%,0%);fill-opacity:1;\">\n",
       "  <use x=\"135.491\" xlink:href=\"#glyph0-4\" y=\"49.91\"/>\n",
       "</g>\n",
       "<g style=\"fill:rgb(0%,0%,0%);fill-opacity:1;\">\n",
       "  <use x=\"141.856\" xlink:href=\"#glyph2-4\" y=\"51.404\"/>\n",
       "</g>\n",
       "<g style=\"fill:rgb(0%,0%,0%);fill-opacity:1;\">\n",
       "  <use x=\"148.539\" xlink:href=\"#glyph1-8\" y=\"49.91\"/>\n",
       "</g>\n",
       "<g style=\"fill:rgb(0%,0%,0%);fill-opacity:1;\">\n",
       "  <use x=\"158.502\" xlink:href=\"#glyph0-3\" y=\"49.91\"/>\n",
       "</g>\n",
       "<g style=\"fill:rgb(0%,0%,0%);fill-opacity:1;\">\n",
       "  <use x=\"164.867\" xlink:href=\"#glyph2-1\" y=\"51.404\"/>\n",
       "</g>\n",
       "<g style=\"fill:rgb(0%,0%,0%);fill-opacity:1;\">\n",
       "  <use x=\"169.336\" xlink:href=\"#glyph1-9\" y=\"49.91\"/>\n",
       "</g>\n",
       "<path d=\"M 36.851281 221.10325 L 55.277062 221.10325 M 36.851281 239.521219 L 55.277062 239.521219 M 36.851281 221.10325 L 36.851281 239.529031 M 55.26925 221.10325 L 55.26925 239.529031 \" style=\"fill:none;stroke-width:1.59404;stroke-linecap:butt;stroke-linejoin:miter;stroke:rgb(0%,0%,0%);stroke-opacity:1;stroke-miterlimit:10;\" transform=\"matrix(1,0,0,-1,12.887,240.322)\"/>\n",
       "<g style=\"fill:rgb(0%,0%,0%);fill-opacity:1;\">\n",
       "  <use x=\"41.125\" xlink:href=\"#glyph0-5\" y=\"12.224\"/>\n",
       "</g>\n",
       "</g>\n",
       "</svg>"
      ]
     },
     "metadata": {
      "isolated": "true"
     },
     "output_type": "display_data"
    }
   ],
   "source": [
    "%%tikz -l arrows -s 1000,600 -sc 0.65 -f svg\n",
    "\n",
    "\\definecolor{nice-red}{HTML}{E41A1C}\n",
    "\\definecolor{nice-orange}{HTML}{FF7F00}\n",
    "\\definecolor{nice-yellow}{HTML}{FFC020}\n",
    "\\definecolor{nice-green}{HTML}{4DAF4A}\n",
    "\\definecolor{nice-blue}{HTML}{377EB8}\n",
    "\\definecolor{nice-purple}{HTML}{984EA3}\n",
    "\n",
    "%x\n",
    "\\draw[ultra thick] (0,0) grid (5,1);\n",
    "\\node[anchor = east] at (0,0.5) {$\\mathbf{x}$};\n",
    "\\draw[->, >=stealth', ultra thick] (2.5,1) -- (2.5,4);\n",
    "\\begin{scope}[shift={(2.5,2.5)},scale=1.0]\n",
    "    \\draw[ultra thick, color=nice-red, fill=white] (0,0) circle (0.5cm);\n",
    "    \\draw[ultra thick, yshift=-0.5cm, color=nice-red] plot [domain=-0.3:0.3](\\x, {(0.8/(1+exp(-15*\\x))+0.1)});\n",
    "\\end{scope}    \n",
    "\\node[anchor=west] at (3,2.5) {sigmoid$(\\mathbf{W}^{3\\times 5}_1x+\\mathbf{b}_1)$};\n",
    "      \n",
    "%1st hidden layer\n",
    "\\draw[ultra thick] (1,4) grid (4,5);\n",
    "\\node[anchor = east] at (1.0,4.5) {$\\mathbf{h}_1$};      \n",
    "\\draw[->, >=stealth', ultra thick] (2.5,5) -- (2.5,8);      \n",
    "\\begin{scope}[shift={(2.5,6.5)},scale=1.0]\n",
    "    \\draw[ultra thick, color=nice-red, fill=white] (0,0) circle (0.5cm);\n",
    "    \\draw[ultra thick, yshift=-0.5cm, color=nice-red] plot [domain=-0.3:0.3](\\x, {(0.8/(1+exp(-15*\\x))+0.1)});\n",
    "\\end{scope}         \n",
    "\\node[anchor=west] at (3,6.5) {sigmoid$(\\mathbf{W}^{3\\times 3}_2\\mathbf{h}_1+\\mathbf{b}_2)$};\n",
    "      \n",
    "%2nd hidden layer\n",
    "\\draw[ultra thick] (1,8) grid (4,9);\n",
    "\\node[anchor = east] at (1.0,8.5) {$\\mathbf{h}_2$};            \n",
    "\\draw[->, >=stealth', ultra thick] (2.5,9) -- (2.5,12);            \n",
    "\\begin{scope}[shift={(2.5,10.5)},scale=1.0]\n",
    "    \\draw[ultra thick, color=nice-red, fill=white] (0,0) circle (0.5cm);\n",
    "    \\draw[ultra thick, yshift=-0.5cm, color=nice-red] plot [domain=-0.3:0.3](\\x, {(0.8/(1+exp(-15*\\x))+0.1)});\n",
    "\\end{scope}         \n",
    "\\node[anchor=west] at (3,10.5) {sigmoid$(\\mathbf{W}^{1\\times 3}_3\\mathbf{h}_2+\\mathbf{b}_3)$};  \n",
    "      \n",
    "%output\n",
    "\\draw[ultra thick] (2,12) grid (3,13);\n",
    "\\node[anchor = east] at (2.0,12.5) {$\\mathbf{z}$};            \n",
    "\n",
    "%dummy node for left align      \n",
    "\\node[] at (20,0) {};"
   ]
  },
  {
   "cell_type": "markdown",
   "metadata": {
    "slideshow": {
     "slide_type": "slide"
    }
   },
   "source": [
    "## Outline\n",
    "- Backpropagation and Stochastic Gradient Descent\n",
    "- <span class=\"red\">A Modular Approach</span>\n",
    "  - Linear Algebra Operations\n",
    "  - Activation Functions\n",
    "  - Gradient Checking\n",
    "- TensorFlow: A Deep Learning Library\n",
    "- Regularization\n",
    "  - Dropout\n",
    "  - Gradient Clipping\n",
    "- Recurrent Neural Networks\n",
    "  - Long Short-term Memory (LSTM)\n",
    "  - Gated Recurrent Unit (GRU)\n",
    "- Attention"
   ]
  },
  {
   "cell_type": "markdown",
   "metadata": {},
   "source": [
    "<div class=right><div class=top><div class=small>\n",
    "<div style=\"margin-bottom: 60%;\"></div>\n",
    "\\begin{align}\n",
    "f_{1,\\theta} &: \\mathbb{R}^5 \\to \\mathbb{R}^3\\\\\n",
    "f_{2,\\theta} &: \\mathbb{R}^3 \\to \\mathbb{R}^3\\\\\n",
    "f_{3,\\theta} &: \\mathbb{R}^3 \\to \\mathbb{R}^1\\\\\n",
    "g_\\theta &= f_{3,\\theta} \\circ f_{2,\\theta} \\circ f_{1,\\theta}\\\\\n",
    "g_\\theta(\\mathbf{x}) &= f_{3,\\theta}(f_{2,\\theta}(f_{1,\\theta}(\\mathbf{x})))\\\\\n",
    "g_\\theta &: \\mathbb{R}^5 \\to \\mathbb{R}^1\n",
    "\\end{align}\n",
    "</div>\n",
    "</div>"
   ]
  },
  {
   "cell_type": "markdown",
   "metadata": {
    "slideshow": {
     "slide_type": "slide"
    }
   },
   "source": [
    "## Calculation of Gradients\n",
    "<br>\n",
    "<div class=verysmall>\n",
    "\\begin{align}\n",
    "g_\\theta(\\mathbf{x}) &= \\text{sigmoid}(\\mathbf{W}^{1\\times 3}_3\\text{sigmoid}(\\mathbf{W}^{3\\times 3}_2\\text{sigmoid}(\\mathbf{W}^{3\\times 5}_1\\mathbf{x}+\\mathbf{b}_1)+\\mathbf{b}_2)+\\mathbf{b}_3)\\\\\n",
    "\\frac{\\partial \\mathcal{L}(f_\\theta, \\mathbf{x}, \\mathbf{y})}{\\partial \\mathbf{W}^{1\\times 3}_3} &= \\text{ ?}\\\\\n",
    "\\frac{\\partial \\mathcal{L}(f_\\theta, \\mathbf{x}, \\mathbf{y})}{\\partial \\mathbf{b}_3} &= \\text{ ?}\\\\\n",
    "\\frac{\\partial \\mathcal{L}(f_\\theta, \\mathbf{x}, \\mathbf{y})}{\\partial \\mathbf{W}^{3\\times 3}_2} &= \\text{ ?}\\\\\n",
    "\\frac{\\partial \\mathcal{L}(f_\\theta, \\mathbf{x}, \\mathbf{y})}{\\partial \\mathbf{b}_2} &= \\text{ ?}\\\\\n",
    "\\frac{\\partial \\mathcal{L}(f_\\theta, \\mathbf{x}, \\mathbf{y})}{\\partial \\mathbf{W}^{3\\times 5}_1} &= \\text{ ?}\\\\\n",
    "\\frac{\\partial \\mathcal{L}(f_\\theta, \\mathbf{x}, \\mathbf{y})}{\\partial \\mathbf{b}_1} &= \\text{ ?}\n",
    "\\end{align}\n",
    "</div>"
   ]
  },
  {
   "cell_type": "markdown",
   "metadata": {
    "slideshow": {
     "slide_type": "slide"
    }
   },
   "source": [
    "## Chain Rule\n",
    "\n",
    "\\begin{align}\n",
    "\\frac{\\partial f \\circ g}{\\partial \\theta} &= \\frac{\\partial f \\circ g}{\\partial g} \\frac{\\partial g}{\\partial \\theta}\\\\\n",
    "\\end{align}"
   ]
  },
  {
   "cell_type": "markdown",
   "metadata": {
    "slideshow": {
     "slide_type": "slide"
    }
   },
   "source": [
    "## Example"
   ]
  },
  {
   "cell_type": "markdown",
   "metadata": {
    "slideshow": {
     "slide_type": "-"
    }
   },
   "source": [
    "<div class=small>\n",
    "\\begin{align}\n",
    "\\frac{\\partial \\mathcal{L}(\\text{sigmoid}(\\mathbf{W}\\mathbf{x}),\\mathbf{y})}{\\partial \\mathbf{W}} &= \\frac{\\partial \\mathcal{L}(\\text{sigmoid}(\\mathbf{W}\\mathbf{x}),\\mathbf{y})}{\\partial \\text{ sigmoid}(\\mathbf{W}\\mathbf{x})} \\frac{\\partial \\text{ sigmoid}(\\mathbf{W}\\mathbf{x})}{\\partial \\mathbf{Wx}} \\frac{\\partial{\\mathbf{Wx}}}{\\partial\\mathbf{W}}\n",
    "\\end{align}\n",
    "</div>"
   ]
  },
  {
   "cell_type": "markdown",
   "metadata": {
    "slideshow": {
     "slide_type": "fragment"
    }
   },
   "source": [
    "\\begin{align}\n",
    "\\mathbf{h} &= \\mathbf{W}\\mathbf{x}\\\\\n",
    "\\mathbf{z} &= \\text{sigmoid}(\\mathbf{h})\\\\\n",
    "\\mathcal{L}(\\mathbf{z},\\mathbf{y}) &= \\frac{1}{2}||\\mathbf{z} - \\mathbf{y}||^2\n",
    "\\end{align}"
   ]
  },
  {
   "cell_type": "markdown",
   "metadata": {
    "slideshow": {
     "slide_type": "fragment"
    }
   },
   "source": [
    "\\begin{align}\n",
    "\\frac{\\mathcal{\\partial \\frac{1}{2}||\\mathbf{z} - \\mathbf{y}||^2}}{\\partial \\mathbf{W}} &= \\frac{\\partial \\frac{1}{2}||\\mathbf{z} - \\mathbf{y}||^2}{\\partial\\mathbf{z}} \\frac{\\partial\\mathbf{z}}{\\partial \\mathbf{h}} \\frac{\\partial \\mathbf{h}}{\\partial \\mathbf{W}}\n",
    "\\end{align}"
   ]
  },
  {
   "cell_type": "markdown",
   "metadata": {
    "slideshow": {
     "slide_type": "slide"
    }
   },
   "source": [
    "## Example cont."
   ]
  },
  {
   "cell_type": "markdown",
   "metadata": {
    "slideshow": {
     "slide_type": "fragment"
    }
   },
   "source": [
    "\\begin{align}\n",
    "\\mathbf{h} &= \\mathbf{W}\\mathbf{x}\\\\\n",
    "\\mathbf{z} &= \\text{sigmoid}(\\mathbf{h})\\\\\n",
    "\\mathcal{L}(\\mathbf{z},\\mathbf{y}) &= \\frac{1}{2}||\\mathbf{z} - \\mathbf{y}||^2\n",
    "\\end{align}"
   ]
  },
  {
   "cell_type": "markdown",
   "metadata": {
    "slideshow": {
     "slide_type": "fragment"
    }
   },
   "source": [
    "\\begin{align}\n",
    "\\frac{\\mathcal{\\partial \\frac{1}{2}||\\mathbf{z} - \\mathbf{y}||^2}}{\\partial \\mathbf{W}} &= \\frac{\\partial \\frac{1}{2}||\\mathbf{z} - \\mathbf{y}||^2}{\\partial\\mathbf{z}} \\frac{\\partial\\mathbf{z}}{\\partial \\mathbf{h}} \\frac{\\partial \\mathbf{h}}{\\partial \\mathbf{W}}\\\\\n",
    "\\partial \\mathbf{z} &= \\mathbf{z}-\\mathbf{y}\\\\\n",
    "\\partial \\mathbf{h} &= \\partial \\mathbf{z}\\,\\text{sigmoid}(\\mathbf{h})\\,(1 - \\text{sigmoid}(\\mathbf{h}))\\\\\n",
    "\\partial \\mathbf{W} &= \\partial\\mathbf{h}\\otimes\\mathbf{x}\n",
    "\\end{align}"
   ]
  },
  {
   "cell_type": "markdown",
   "metadata": {
    "slideshow": {
     "slide_type": "slide"
    }
   },
   "source": [
    "## Module"
   ]
  },
  {
   "cell_type": "code",
   "execution_count": 17,
   "metadata": {
    "collapsed": false,
    "hide_input": false
   },
   "outputs": [
    {
     "data": {
      "image/svg+xml": [
       "<svg height=\"600px\" version=\"1.1\" viewBox=\"0 0 210.278 125.632\" width=\"1000px\" xmlns=\"http://www.w3.org/2000/svg\" xmlns:xlink=\"http://www.w3.org/1999/xlink\">\n",
       "<defs>\n",
       "<g>\n",
       "<symbol id=\"glyph0-0\" overflow=\"visible\">\n",
       "<path d=\"\" style=\"stroke:none;\"/>\n",
       "</symbol>\n",
       "<symbol id=\"glyph0-1\" overflow=\"visible\">\n",
       "<path d=\"M 5.265625 -4.859375 C 5.359375 -4.984375 5.359375 -5.015625 5.359375 -5.078125 C 5.359375 -5.3125 5.25 -5.3125 5.015625 -5.3125 L 0.6875 -5.3125 L 0.5625 -3.25 L 1.0625 -3.25 C 1.140625 -4.390625 1.40625 -4.90625 2.71875 -4.90625 L 3.796875 -4.90625 L 0.484375 -0.484375 C 0.375 -0.34375 0.375 -0.328125 0.375 -0.234375 C 0.375 0 0.484375 0 0.71875 0 L 5.203125 0 L 5.40625 -2.359375 L 4.90625 -2.359375 C 4.8125 -1.09375 4.546875 -0.4375 3.03125 -0.4375 L 1.953125 -0.4375 Z M 5.265625 -4.859375 \" style=\"stroke:none;\"/>\n",
       "</symbol>\n",
       "<symbol id=\"glyph0-2\" overflow=\"visible\">\n",
       "<path d=\"M 4.03125 -2.953125 L 5.421875 -4.546875 C 5.546875 -4.703125 5.65625 -4.796875 6.640625 -4.796875 L 6.640625 -5.3125 C 5.96875 -5.28125 5.953125 -5.28125 5.546875 -5.28125 C 5.203125 -5.28125 4.6875 -5.28125 4.34375 -5.3125 L 4.34375 -4.796875 C 4.578125 -4.796875 4.828125 -4.734375 4.828125 -4.65625 C 4.828125 -4.625 4.765625 -4.546875 4.75 -4.515625 L 3.703125 -3.34375 L 2.515625 -4.796875 L 3.03125 -4.796875 L 3.03125 -5.3125 C 2.75 -5.28125 1.9375 -5.28125 1.609375 -5.28125 C 1.25 -5.28125 0.609375 -5.28125 0.28125 -5.3125 L 0.28125 -4.796875 L 1.125 -4.796875 L 2.984375 -2.515625 L 1.4375 -0.765625 C 1.296875 -0.59375 1.203125 -0.515625 0.21875 -0.515625 L 0.21875 0 C 0.9375 -0.03125 0.953125 -0.03125 1.328125 -0.03125 C 1.671875 -0.03125 2.171875 -0.03125 2.515625 0 L 2.515625 -0.515625 C 2.28125 -0.515625 2.03125 -0.578125 2.03125 -0.65625 C 2.03125 -0.671875 2.03125 -0.6875 2.109375 -0.78125 L 3.3125 -2.125 L 4.640625 -0.515625 L 4.140625 -0.515625 L 4.140625 0 C 4.421875 -0.03125 5.21875 -0.03125 5.5625 -0.03125 C 5.921875 -0.03125 6.546875 -0.03125 6.890625 0 L 6.890625 -0.515625 L 6.046875 -0.515625 Z M 4.03125 -2.953125 \" style=\"stroke:none;\"/>\n",
       "</symbol>\n",
       "<symbol id=\"glyph1-0\" overflow=\"visible\">\n",
       "<path d=\"\" style=\"stroke:none;\"/>\n",
       "</symbol>\n",
       "<symbol id=\"glyph1-1\" overflow=\"visible\">\n",
       "<path d=\"M 6.390625 -5.765625 C 6.6875 -5.765625 6.796875 -5.765625 6.796875 -6.03125 C 6.796875 -6.1875 6.6875 -6.1875 6.421875 -6.1875 L 5.265625 -6.1875 C 5.53125 -7.65625 5.734375 -8.671875 5.859375 -9.140625 C 5.9375 -9.484375 6.234375 -9.8125 6.609375 -9.8125 C 6.90625 -9.8125 7.21875 -9.6875 7.359375 -9.546875 C 6.796875 -9.5 6.625 -9.078125 6.625 -8.828125 C 6.625 -8.546875 6.84375 -8.375 7.109375 -8.375 C 7.40625 -8.375 7.828125 -8.625 7.828125 -9.171875 C 7.828125 -9.765625 7.234375 -10.09375 6.59375 -10.09375 C 5.984375 -10.09375 5.375 -9.640625 5.09375 -9.078125 C 4.828125 -8.578125 4.6875 -8.0625 4.359375 -6.1875 L 3.40625 -6.1875 C 3.125 -6.1875 2.984375 -6.1875 2.984375 -5.921875 C 2.984375 -5.765625 3.0625 -5.765625 3.359375 -5.765625 L 4.28125 -5.765625 C 4.015625 -4.4375 3.421875 -1.1875 3.09375 0.34375 C 2.859375 1.59375 2.640625 2.640625 1.921875 2.640625 C 1.875 2.640625 1.46875 2.640625 1.203125 2.359375 C 1.9375 2.3125 1.9375 1.671875 1.9375 1.65625 C 1.9375 1.375 1.71875 1.203125 1.453125 1.203125 C 1.15625 1.203125 0.734375 1.453125 0.734375 2 C 0.734375 2.609375 1.359375 2.921875 1.921875 2.921875 C 3.390625 2.921875 3.984375 0.296875 4.140625 -0.421875 C 4.40625 -1.515625 5.109375 -5.328125 5.171875 -5.765625 Z M 6.390625 -5.765625 \" style=\"stroke:none;\"/>\n",
       "</symbol>\n",
       "<symbol id=\"glyph2-0\" overflow=\"visible\">\n",
       "<path d=\"\" style=\"stroke:none;\"/>\n",
       "</symbol>\n",
       "<symbol id=\"glyph2-1\" overflow=\"visible\">\n",
       "<path d=\"M 4.53125 -4.984375 C 4.53125 -5.640625 4.359375 -7.03125 3.34375 -7.03125 C 1.953125 -7.03125 0.421875 -4.21875 0.421875 -1.9375 C 0.421875 -1 0.703125 0.109375 1.609375 0.109375 C 3.015625 0.109375 4.53125 -2.75 4.53125 -4.984375 Z M 1.46875 -3.625 C 1.640625 -4.25 1.84375 -5.046875 2.25 -5.765625 C 2.515625 -6.25 2.875 -6.8125 3.328125 -6.8125 C 3.8125 -6.8125 3.875 -6.171875 3.875 -5.609375 C 3.875 -5.109375 3.796875 -4.609375 3.5625 -3.625 Z M 3.46875 -3.296875 C 3.359375 -2.84375 3.15625 -2 2.765625 -1.28125 C 2.421875 -0.59375 2.046875 -0.109375 1.609375 -0.109375 C 1.28125 -0.109375 1.078125 -0.40625 1.078125 -1.328125 C 1.078125 -1.75 1.140625 -2.328125 1.390625 -3.296875 Z M 3.46875 -3.296875 \" style=\"stroke:none;\"/>\n",
       "</symbol>\n",
       "<symbol id=\"glyph2-2\" overflow=\"visible\">\n",
       "<path d=\"M 3.65625 -3.984375 L 4.515625 -3.984375 C 4.71875 -3.984375 4.8125 -3.984375 4.8125 -4.1875 C 4.8125 -4.296875 4.71875 -4.296875 4.546875 -4.296875 L 3.71875 -4.296875 L 3.921875 -5.4375 C 3.96875 -5.640625 4.109375 -6.34375 4.171875 -6.46875 C 4.25 -6.65625 4.421875 -6.8125 4.640625 -6.8125 C 4.671875 -6.8125 4.9375 -6.8125 5.125 -6.625 C 4.6875 -6.59375 4.578125 -6.234375 4.578125 -6.09375 C 4.578125 -5.859375 4.765625 -5.734375 4.953125 -5.734375 C 5.21875 -5.734375 5.5 -5.96875 5.5 -6.34375 C 5.5 -6.796875 5.046875 -7.03125 4.640625 -7.03125 C 4.296875 -7.03125 3.671875 -6.84375 3.375 -5.859375 C 3.3125 -5.65625 3.28125 -5.546875 3.046875 -4.296875 L 2.359375 -4.296875 C 2.15625 -4.296875 2.046875 -4.296875 2.046875 -4.109375 C 2.046875 -3.984375 2.140625 -3.984375 2.328125 -3.984375 L 2.984375 -3.984375 L 2.25 -0.046875 C 2.0625 0.921875 1.890625 1.828125 1.375 1.828125 C 1.328125 1.828125 1.09375 1.828125 0.890625 1.640625 C 1.359375 1.609375 1.453125 1.25 1.453125 1.109375 C 1.453125 0.875 1.265625 0.75 1.078125 0.75 C 0.8125 0.75 0.53125 0.984375 0.53125 1.359375 C 0.53125 1.796875 0.96875 2.046875 1.375 2.046875 C 1.921875 2.046875 2.328125 1.453125 2.5 1.078125 C 2.828125 0.453125 3.046875 -0.75 3.0625 -0.828125 Z M 3.65625 -3.984375 \" style=\"stroke:none;\"/>\n",
       "</symbol>\n",
       "<symbol id=\"glyph2-3\" overflow=\"visible\">\n",
       "<path d=\"M 4.609375 -3.375 C 4.515625 -4 4.109375 -4.5625 3.328125 -4.5625 C 2.71875 -4.5625 2.078125 -4.390625 1.296875 -3.625 C 0.46875 -2.796875 0.40625 -1.859375 0.40625 -1.5625 C 0.40625 -0.9375 0.84375 0.21875 2.234375 0.21875 C 4.609375 0.21875 5.640625 -3.125 5.640625 -4.5625 C 5.640625 -6.140625 4.71875 -7.140625 3.484375 -7.140625 C 2.046875 -7.140625 1.578125 -5.84375 1.578125 -5.5625 C 1.578125 -5.421875 1.671875 -5.21875 1.96875 -5.21875 C 2.296875 -5.21875 2.5 -5.515625 2.5 -5.734375 C 2.5 -6.09375 2.1875 -6.09375 2.03125 -6.09375 C 2.46875 -6.828125 3.1875 -6.890625 3.46875 -6.890625 C 4.203125 -6.890625 4.890625 -6.375 4.890625 -5.078125 C 4.890625 -4.6875 4.828125 -4.1875 4.625 -3.375 Z M 2.265625 -0.0625 C 1.171875 -0.0625 1.171875 -1.09375 1.171875 -1.1875 C 1.171875 -1.453125 1.421875 -2.84375 1.828125 -3.453125 C 2.21875 -4.015625 2.71875 -4.34375 3.328125 -4.34375 C 4.421875 -4.34375 4.4375 -3.21875 4.4375 -3.015625 C 4.4375 -2.296875 3.796875 -0.0625 2.265625 -0.0625 Z M 2.265625 -0.0625 \" style=\"stroke:none;\"/>\n",
       "</symbol>\n",
       "<symbol id=\"glyph3-0\" overflow=\"visible\">\n",
       "<path d=\"\" style=\"stroke:none;\"/>\n",
       "</symbol>\n",
       "<symbol id=\"glyph3-1\" overflow=\"visible\">\n",
       "<path d=\"M 5.296875 -6.015625 C 5.296875 -7.234375 4.90625 -8.421875 3.9375 -8.421875 C 2.265625 -8.421875 0.484375 -4.90625 0.484375 -2.28125 C 0.484375 -1.734375 0.59375 0.125 1.859375 0.125 C 3.484375 0.125 5.296875 -3.296875 5.296875 -6.015625 Z M 1.671875 -4.328125 C 1.859375 -5.03125 2.109375 -6.03125 2.578125 -6.890625 C 2.96875 -7.609375 3.390625 -8.171875 3.921875 -8.171875 C 4.3125 -8.171875 4.578125 -7.84375 4.578125 -6.6875 C 4.578125 -6.265625 4.546875 -5.671875 4.203125 -4.328125 Z M 4.109375 -3.96875 C 3.8125 -2.796875 3.5625 -2.046875 3.125 -1.296875 C 2.78125 -0.6875 2.359375 -0.125 1.859375 -0.125 C 1.5 -0.125 1.1875 -0.40625 1.1875 -1.59375 C 1.1875 -2.359375 1.390625 -3.171875 1.578125 -3.96875 Z M 4.109375 -3.96875 \" style=\"stroke:none;\"/>\n",
       "</symbol>\n",
       "<symbol id=\"glyph4-0\" overflow=\"visible\">\n",
       "<path d=\"\" style=\"stroke:none;\"/>\n",
       "</symbol>\n",
       "<symbol id=\"glyph4-1\" overflow=\"visible\">\n",
       "<path d=\"M 5.796875 -6.78125 L 0.328125 -6.78125 L 0.328125 -6.46875 L 0.5625 -6.46875 C 1.328125 -6.46875 1.359375 -6.359375 1.359375 -6 L 1.359375 -0.78125 C 1.359375 -0.421875 1.328125 -0.3125 0.5625 -0.3125 L 0.328125 -0.3125 L 0.328125 0 C 0.671875 -0.03125 1.453125 -0.03125 1.84375 -0.03125 C 2.25 -0.03125 3.15625 -0.03125 3.515625 0 L 3.515625 -0.3125 L 3.1875 -0.3125 C 2.25 -0.3125 2.25 -0.4375 2.25 -0.78125 L 2.25 -3.234375 L 3.09375 -3.234375 C 4.0625 -3.234375 4.15625 -2.921875 4.15625 -2.078125 L 4.40625 -2.078125 L 4.40625 -4.71875 L 4.15625 -4.71875 C 4.15625 -3.875 4.0625 -3.546875 3.09375 -3.546875 L 2.25 -3.546875 L 2.25 -6.078125 C 2.25 -6.40625 2.265625 -6.46875 2.734375 -6.46875 L 3.921875 -6.46875 C 5.421875 -6.46875 5.671875 -5.90625 5.828125 -4.53125 L 6.078125 -4.53125 Z M 5.796875 -6.78125 \" style=\"stroke:none;\"/>\n",
       "</symbol>\n",
       "<symbol id=\"glyph4-2\" overflow=\"visible\">\n",
       "<path d=\"M 4.6875 -2.140625 C 4.6875 -3.40625 3.703125 -4.46875 2.5 -4.46875 C 1.25 -4.46875 0.28125 -3.375 0.28125 -2.140625 C 0.28125 -0.84375 1.3125 0.109375 2.484375 0.109375 C 3.6875 0.109375 4.6875 -0.875 4.6875 -2.140625 Z M 2.5 -0.140625 C 2.0625 -0.140625 1.625 -0.34375 1.359375 -0.8125 C 1.109375 -1.25 1.109375 -1.859375 1.109375 -2.21875 C 1.109375 -2.609375 1.109375 -3.140625 1.34375 -3.578125 C 1.609375 -4.03125 2.078125 -4.25 2.484375 -4.25 C 2.921875 -4.25 3.34375 -4.03125 3.609375 -3.59375 C 3.875 -3.171875 3.875 -2.59375 3.875 -2.21875 C 3.875 -1.859375 3.875 -1.3125 3.65625 -0.875 C 3.421875 -0.421875 2.984375 -0.140625 2.5 -0.140625 Z M 2.5 -0.140625 \" style=\"stroke:none;\"/>\n",
       "</symbol>\n",
       "<symbol id=\"glyph4-3\" overflow=\"visible\">\n",
       "<path d=\"M 1.671875 -3.3125 L 1.671875 -4.40625 L 0.28125 -4.296875 L 0.28125 -3.984375 C 0.984375 -3.984375 1.0625 -3.921875 1.0625 -3.421875 L 1.0625 -0.75 C 1.0625 -0.3125 0.953125 -0.3125 0.28125 -0.3125 L 0.28125 0 C 0.671875 -0.015625 1.140625 -0.03125 1.421875 -0.03125 C 1.8125 -0.03125 2.28125 -0.03125 2.6875 0 L 2.6875 -0.3125 L 2.46875 -0.3125 C 1.734375 -0.3125 1.71875 -0.421875 1.71875 -0.78125 L 1.71875 -2.3125 C 1.71875 -3.296875 2.140625 -4.1875 2.890625 -4.1875 C 2.953125 -4.1875 2.984375 -4.1875 3 -4.171875 C 2.96875 -4.171875 2.765625 -4.046875 2.765625 -3.78125 C 2.765625 -3.515625 2.984375 -3.359375 3.203125 -3.359375 C 3.375 -3.359375 3.625 -3.484375 3.625 -3.796875 C 3.625 -4.109375 3.3125 -4.40625 2.890625 -4.40625 C 2.15625 -4.40625 1.796875 -3.734375 1.671875 -3.3125 Z M 1.671875 -3.3125 \" style=\"stroke:none;\"/>\n",
       "</symbol>\n",
       "<symbol id=\"glyph4-4\" overflow=\"visible\">\n",
       "<path d=\"M 6.171875 -3.34375 C 6.34375 -3.84375 6.65625 -3.984375 7.015625 -3.984375 L 7.015625 -4.296875 C 6.78125 -4.28125 6.5 -4.265625 6.28125 -4.265625 C 5.984375 -4.265625 5.546875 -4.28125 5.359375 -4.296875 L 5.359375 -3.984375 C 5.71875 -3.984375 5.9375 -3.796875 5.9375 -3.515625 C 5.9375 -3.453125 5.9375 -3.421875 5.875 -3.296875 L 4.96875 -0.75 L 3.984375 -3.53125 C 3.953125 -3.65625 3.9375 -3.671875 3.9375 -3.71875 C 3.9375 -3.984375 4.328125 -3.984375 4.53125 -3.984375 L 4.53125 -4.296875 C 4.234375 -4.28125 3.734375 -4.265625 3.484375 -4.265625 C 3.1875 -4.265625 2.90625 -4.28125 2.609375 -4.296875 L 2.609375 -3.984375 C 2.96875 -3.984375 3.125 -3.96875 3.234375 -3.84375 C 3.28125 -3.78125 3.390625 -3.484375 3.453125 -3.296875 L 2.609375 -0.875 L 1.65625 -3.53125 C 1.609375 -3.65625 1.609375 -3.671875 1.609375 -3.71875 C 1.609375 -3.984375 2 -3.984375 2.1875 -3.984375 L 2.1875 -4.296875 C 1.890625 -4.28125 1.328125 -4.265625 1.109375 -4.265625 C 1.0625 -4.265625 0.53125 -4.28125 0.171875 -4.296875 L 0.171875 -3.984375 C 0.671875 -3.984375 0.796875 -3.953125 0.921875 -3.640625 L 2.171875 -0.109375 C 2.21875 0.03125 2.25 0.109375 2.375 0.109375 C 2.515625 0.109375 2.53125 0.046875 2.578125 -0.09375 L 3.59375 -2.90625 L 4.609375 -0.078125 C 4.640625 0.03125 4.671875 0.109375 4.8125 0.109375 C 4.9375 0.109375 4.96875 0.015625 5 -0.078125 Z M 6.171875 -3.34375 \" style=\"stroke:none;\"/>\n",
       "</symbol>\n",
       "<symbol id=\"glyph4-5\" overflow=\"visible\">\n",
       "<path d=\"M 3.3125 -0.75 C 3.359375 -0.359375 3.625 0.0625 4.09375 0.0625 C 4.3125 0.0625 4.921875 -0.078125 4.921875 -0.890625 L 4.921875 -1.453125 L 4.671875 -1.453125 L 4.671875 -0.890625 C 4.671875 -0.3125 4.421875 -0.25 4.3125 -0.25 C 3.984375 -0.25 3.9375 -0.703125 3.9375 -0.75 L 3.9375 -2.734375 C 3.9375 -3.15625 3.9375 -3.546875 3.578125 -3.921875 C 3.1875 -4.3125 2.6875 -4.46875 2.21875 -4.46875 C 1.390625 -4.46875 0.703125 -4 0.703125 -3.34375 C 0.703125 -3.046875 0.90625 -2.875 1.171875 -2.875 C 1.453125 -2.875 1.625 -3.078125 1.625 -3.328125 C 1.625 -3.453125 1.578125 -3.78125 1.109375 -3.78125 C 1.390625 -4.140625 1.875 -4.25 2.1875 -4.25 C 2.6875 -4.25 3.25 -3.859375 3.25 -2.96875 L 3.25 -2.609375 C 2.734375 -2.578125 2.046875 -2.546875 1.421875 -2.25 C 0.671875 -1.90625 0.421875 -1.390625 0.421875 -0.953125 C 0.421875 -0.140625 1.390625 0.109375 2.015625 0.109375 C 2.671875 0.109375 3.125 -0.296875 3.3125 -0.75 Z M 3.25 -2.390625 L 3.25 -1.390625 C 3.25 -0.453125 2.53125 -0.109375 2.078125 -0.109375 C 1.59375 -0.109375 1.1875 -0.453125 1.1875 -0.953125 C 1.1875 -1.5 1.609375 -2.328125 3.25 -2.390625 Z M 3.25 -2.390625 \" style=\"stroke:none;\"/>\n",
       "</symbol>\n",
       "<symbol id=\"glyph4-6\" overflow=\"visible\">\n",
       "<path d=\"M 3.78125 -0.546875 L 3.78125 0.109375 L 5.25 0 L 5.25 -0.3125 C 4.5625 -0.3125 4.46875 -0.375 4.46875 -0.875 L 4.46875 -6.921875 L 3.046875 -6.8125 L 3.046875 -6.5 C 3.734375 -6.5 3.8125 -6.4375 3.8125 -5.9375 L 3.8125 -3.78125 C 3.53125 -4.140625 3.09375 -4.40625 2.5625 -4.40625 C 1.390625 -4.40625 0.34375 -3.421875 0.34375 -2.140625 C 0.34375 -0.875 1.3125 0.109375 2.453125 0.109375 C 3.09375 0.109375 3.53125 -0.234375 3.78125 -0.546875 Z M 3.78125 -3.21875 L 3.78125 -1.171875 C 3.78125 -1 3.78125 -0.984375 3.671875 -0.8125 C 3.375 -0.328125 2.9375 -0.109375 2.5 -0.109375 C 2.046875 -0.109375 1.6875 -0.375 1.453125 -0.75 C 1.203125 -1.15625 1.171875 -1.71875 1.171875 -2.140625 C 1.171875 -2.5 1.1875 -3.09375 1.46875 -3.546875 C 1.6875 -3.859375 2.0625 -4.1875 2.609375 -4.1875 C 2.953125 -4.1875 3.375 -4.03125 3.671875 -3.59375 C 3.78125 -3.421875 3.78125 -3.40625 3.78125 -3.21875 Z M 3.78125 -3.21875 \" style=\"stroke:none;\"/>\n",
       "</symbol>\n",
       "<symbol id=\"glyph4-7\" overflow=\"visible\">\n",
       "<path d=\"M 3.296875 2.390625 C 3.296875 2.359375 3.296875 2.34375 3.125 2.171875 C 1.890625 0.921875 1.5625 -0.96875 1.5625 -2.5 C 1.5625 -4.234375 1.9375 -5.96875 3.171875 -7.203125 C 3.296875 -7.328125 3.296875 -7.34375 3.296875 -7.375 C 3.296875 -7.453125 3.265625 -7.484375 3.203125 -7.484375 C 3.09375 -7.484375 2.203125 -6.796875 1.609375 -5.53125 C 1.109375 -4.4375 0.984375 -3.328125 0.984375 -2.5 C 0.984375 -1.71875 1.09375 -0.515625 1.640625 0.625 C 2.25 1.84375 3.09375 2.5 3.203125 2.5 C 3.265625 2.5 3.296875 2.46875 3.296875 2.390625 Z M 3.296875 2.390625 \" style=\"stroke:none;\"/>\n",
       "</symbol>\n",
       "<symbol id=\"glyph4-8\" overflow=\"visible\">\n",
       "<path d=\"M 2.875 -2.5 C 2.875 -3.265625 2.765625 -4.46875 2.21875 -5.609375 C 1.625 -6.828125 0.765625 -7.484375 0.671875 -7.484375 C 0.609375 -7.484375 0.5625 -7.4375 0.5625 -7.375 C 0.5625 -7.34375 0.5625 -7.328125 0.75 -7.140625 C 1.734375 -6.15625 2.296875 -4.578125 2.296875 -2.5 C 2.296875 -0.78125 1.9375 0.96875 0.703125 2.21875 C 0.5625 2.34375 0.5625 2.359375 0.5625 2.390625 C 0.5625 2.453125 0.609375 2.5 0.671875 2.5 C 0.765625 2.5 1.671875 1.8125 2.25 0.546875 C 2.765625 -0.546875 2.875 -1.65625 2.875 -2.5 Z M 2.875 -2.5 \" style=\"stroke:none;\"/>\n",
       "</symbol>\n",
       "<symbol id=\"glyph4-9\" overflow=\"visible\">\n",
       "<path d=\"M 2.21875 -3.65625 L 2.21875 -6.09375 C 2.21875 -6.4375 2.234375 -6.5 2.703125 -6.5 L 3.9375 -6.5 C 4.90625 -6.5 5.25 -5.65625 5.25 -5.125 C 5.25 -4.484375 4.765625 -3.65625 3.65625 -3.65625 Z M 4.5625 -3.5625 C 5.53125 -3.75 6.21875 -4.390625 6.21875 -5.125 C 6.21875 -5.984375 5.296875 -6.8125 4 -6.8125 L 0.359375 -6.8125 L 0.359375 -6.5 L 0.59375 -6.5 C 1.359375 -6.5 1.390625 -6.390625 1.390625 -6.03125 L 1.390625 -0.78125 C 1.390625 -0.421875 1.359375 -0.3125 0.59375 -0.3125 L 0.359375 -0.3125 L 0.359375 0 L 4.265625 0 C 5.59375 0 6.484375 -0.890625 6.484375 -1.828125 C 6.484375 -2.6875 5.671875 -3.4375 4.5625 -3.5625 Z M 3.953125 -0.3125 L 2.703125 -0.3125 C 2.234375 -0.3125 2.21875 -0.375 2.21875 -0.703125 L 2.21875 -3.421875 L 4.09375 -3.421875 C 5.078125 -3.421875 5.5 -2.5 5.5 -1.828125 C 5.5 -1.125 4.96875 -0.3125 3.953125 -0.3125 Z M 3.953125 -0.3125 \" style=\"stroke:none;\"/>\n",
       "</symbol>\n",
       "<symbol id=\"glyph4-10\" overflow=\"visible\">\n",
       "<path d=\"M 1.171875 -2.171875 C 1.171875 -3.796875 1.984375 -4.21875 2.515625 -4.21875 C 2.609375 -4.21875 3.234375 -4.203125 3.578125 -3.84375 C 3.171875 -3.8125 3.109375 -3.515625 3.109375 -3.390625 C 3.109375 -3.125 3.296875 -2.9375 3.5625 -2.9375 C 3.828125 -2.9375 4.03125 -3.09375 4.03125 -3.40625 C 4.03125 -4.078125 3.265625 -4.46875 2.5 -4.46875 C 1.25 -4.46875 0.34375 -3.390625 0.34375 -2.15625 C 0.34375 -0.875 1.328125 0.109375 2.484375 0.109375 C 3.8125 0.109375 4.140625 -1.09375 4.140625 -1.1875 C 4.140625 -1.28125 4.03125 -1.28125 4 -1.28125 C 3.921875 -1.28125 3.890625 -1.25 3.875 -1.1875 C 3.59375 -0.265625 2.9375 -0.140625 2.578125 -0.140625 C 2.046875 -0.140625 1.171875 -0.5625 1.171875 -2.171875 Z M 1.171875 -2.171875 \" style=\"stroke:none;\"/>\n",
       "</symbol>\n",
       "<symbol id=\"glyph4-11\" overflow=\"visible\">\n",
       "<path d=\"M 1.0625 -0.75 C 1.0625 -0.3125 0.953125 -0.3125 0.28125 -0.3125 L 0.28125 0 C 0.609375 -0.015625 1.078125 -0.03125 1.359375 -0.03125 C 1.671875 -0.03125 2.0625 -0.015625 2.46875 0 L 2.46875 -0.3125 C 1.796875 -0.3125 1.6875 -0.3125 1.6875 -0.75 L 1.6875 -1.78125 L 2.328125 -2.328125 C 3.09375 -1.28125 3.515625 -0.71875 3.515625 -0.53125 C 3.515625 -0.34375 3.34375 -0.3125 3.15625 -0.3125 L 3.15625 0 C 3.421875 -0.015625 4.015625 -0.03125 4.234375 -0.03125 C 4.515625 -0.03125 4.8125 -0.015625 5.09375 0 L 5.09375 -0.3125 C 4.71875 -0.3125 4.5 -0.3125 4.125 -0.84375 L 2.859375 -2.625 C 2.84375 -2.640625 2.796875 -2.703125 2.796875 -2.734375 C 2.796875 -2.765625 3.515625 -3.375 3.609375 -3.453125 C 4.234375 -3.953125 4.65625 -3.984375 4.859375 -3.984375 L 4.859375 -4.296875 C 4.578125 -4.265625 4.453125 -4.265625 4.171875 -4.265625 C 3.8125 -4.265625 3.1875 -4.28125 3.046875 -4.296875 L 3.046875 -3.984375 C 3.234375 -3.984375 3.34375 -3.875 3.34375 -3.734375 C 3.34375 -3.53125 3.203125 -3.421875 3.125 -3.34375 L 1.71875 -2.140625 L 1.71875 -6.921875 L 0.28125 -6.8125 L 0.28125 -6.5 C 0.984375 -6.5 1.0625 -6.4375 1.0625 -5.9375 Z M 1.0625 -0.75 \" style=\"stroke:none;\"/>\n",
       "</symbol>\n",
       "<symbol id=\"glyph5-0\" overflow=\"visible\">\n",
       "<path d=\"\" style=\"stroke:none;\"/>\n",
       "</symbol>\n",
       "<symbol id=\"glyph5-1\" overflow=\"visible\">\n",
       "<path d=\"M 3.5625 -3.390625 C 3.5625 -4.125 3.28125 -4.90625 2.59375 -4.90625 C 1.546875 -4.90625 0.4375 -3.03125 0.4375 -1.4375 C 0.4375 -0.609375 0.765625 0.0625 1.40625 0.0625 C 2.453125 0.0625 3.5625 -1.828125 3.5625 -3.390625 Z M 1.21875 -2.546875 C 1.578125 -4.046875 2.1875 -4.703125 2.59375 -4.703125 C 3.03125 -4.703125 3.03125 -3.9375 3.03125 -3.8125 C 3.03125 -3.53125 2.984375 -3.125 2.84375 -2.546875 Z M 2.78125 -2.296875 C 2.578125 -1.53125 2.421875 -1.15625 2.203125 -0.8125 C 2 -0.453125 1.71875 -0.125 1.40625 -0.125 C 1.03125 -0.125 0.96875 -0.65625 0.96875 -1.03125 C 0.96875 -1.484375 1.09375 -2.03125 1.15625 -2.296875 Z M 2.78125 -2.296875 \" style=\"stroke:none;\"/>\n",
       "</symbol>\n",
       "<symbol id=\"glyph6-0\" overflow=\"visible\">\n",
       "<path d=\"\" style=\"stroke:none;\"/>\n",
       "</symbol>\n",
       "<symbol id=\"glyph6-1\" overflow=\"visible\">\n",
       "<path d=\"M 3.453125 -2.453125 L 4.609375 -3.75 C 4.75 -3.890625 4.8125 -3.953125 5.625 -3.953125 L 5.625 -4.421875 C 5.28125 -4.40625 4.765625 -4.390625 4.71875 -4.390625 C 4.46875 -4.390625 3.96875 -4.421875 3.6875 -4.421875 L 3.6875 -3.953125 C 3.828125 -3.953125 3.953125 -3.9375 4.0625 -3.875 C 4.03125 -3.8125 4.03125 -3.78125 3.984375 -3.75 L 3.15625 -2.8125 L 2.171875 -3.953125 L 2.578125 -3.953125 L 2.578125 -4.421875 C 2.3125 -4.421875 1.6875 -4.390625 1.359375 -4.390625 C 1.046875 -4.390625 0.59375 -4.421875 0.265625 -4.421875 L 0.265625 -3.953125 L 0.984375 -3.953125 L 2.53125 -2.125 L 1.21875 -0.65625 C 1.0625 -0.46875 0.703125 -0.46875 0.21875 -0.46875 L 0.21875 0 C 0.5625 -0.015625 1.09375 -0.03125 1.140625 -0.03125 C 1.390625 -0.03125 1.96875 -0.015625 2.15625 0 L 2.15625 -0.46875 C 1.984375 -0.46875 1.796875 -0.515625 1.796875 -0.578125 C 1.796875 -0.59375 1.796875 -0.59375 1.859375 -0.671875 L 2.828125 -1.765625 L 3.921875 -0.46875 L 3.53125 -0.46875 L 3.53125 0 C 3.796875 -0.015625 4.40625 -0.03125 4.734375 -0.03125 C 5.046875 -0.03125 5.5 -0.015625 5.828125 0 L 5.828125 -0.46875 L 5.125 -0.46875 Z M 3.453125 -2.453125 \" style=\"stroke:none;\"/>\n",
       "</symbol>\n",
       "<symbol id=\"glyph6-2\" overflow=\"visible\">\n",
       "<path d=\"M 4.46875 -4 C 4.5625 -4.109375 4.578125 -4.125 4.578125 -4.21875 C 4.578125 -4.421875 4.4375 -4.421875 4.25 -4.421875 L 0.59375 -4.421875 L 0.484375 -2.6875 L 0.953125 -2.6875 C 1 -3.703125 1.3125 -4.0625 2.34375 -4.0625 L 3.1875 -4.0625 L 0.40625 -0.4375 C 0.3125 -0.328125 0.3125 -0.3125 0.3125 -0.21875 C 0.3125 0 0.453125 0 0.640625 0 L 4.421875 0 L 4.609375 -2.015625 L 4.140625 -2.015625 C 4.046875 -1 3.890625 -0.40625 2.578125 -0.40625 L 1.71875 -0.40625 Z M 4.46875 -4 \" style=\"stroke:none;\"/>\n",
       "</symbol>\n",
       "</g>\n",
       "</defs>\n",
       "<g id=\"surface1\">\n",
       "<path d=\"M 27.637469 -13.819094 L 27.637469 85.20825 \" style=\"fill:none;stroke-width:1.59404;stroke-linecap:butt;stroke-linejoin:miter;stroke:rgb(0%,0%,0%);stroke-opacity:1;stroke-miterlimit:10;\" transform=\"matrix(1,0,0,-1,64.843,100.427)\"/>\n",
       "<path d=\"M 1.515285 0.00039125 C -0.379246 0.379298 -2.269871 1.13711 -4.543309 2.461329 C -2.269871 0.758204 -2.269871 -0.757421 -4.543309 -2.460546 C -2.269871 -1.136327 -0.379246 -0.378515 1.515285 0.00039125 Z M 1.515285 0.00039125 \" style=\"fill-rule:nonzero;fill:rgb(0%,0%,0%);fill-opacity:1;stroke-width:1.59404;stroke-linecap:butt;stroke-linejoin:round;stroke:rgb(0%,0%,0%);stroke-opacity:1;stroke-miterlimit:10;\" transform=\"matrix(0,-1,-1,0,92.48086,15.21841)\"/>\n",
       "<path d=\"M 0.00075 0.00121875 L 0.00075 73.700437 L 55.274187 73.700437 L 55.274187 0.00121875 Z M 0.00075 0.00121875 \" style=\"fill-rule:nonzero;fill:rgb(100%,100%,100%);fill-opacity:1;stroke-width:1.59404;stroke-linecap:butt;stroke-linejoin:miter;stroke:rgb(0%,0%,0%);stroke-opacity:1;stroke-miterlimit:10;\" transform=\"matrix(1,0,0,-1,64.843,100.427)\"/>\n",
       "<g style=\"fill:rgb(0%,0%,0%);fill-opacity:1;\">\n",
       "  <use x=\"89.492\" xlink:href=\"#glyph0-1\" y=\"10.959\"/>\n",
       "</g>\n",
       "<g style=\"fill:rgb(0%,0%,0%);fill-opacity:1;\">\n",
       "  <use x=\"88.932\" xlink:href=\"#glyph0-2\" y=\"121.509\"/>\n",
       "</g>\n",
       "<g style=\"fill:rgb(0%,0%,0%);fill-opacity:1;\">\n",
       "  <use x=\"86.293\" xlink:href=\"#glyph1-1\" y=\"67.164\"/>\n",
       "</g>\n",
       "<g style=\"fill:rgb(0%,0%,0%);fill-opacity:1;\">\n",
       "  <use x=\"93.217\" xlink:href=\"#glyph2-1\" y=\"69.316\"/>\n",
       "</g>\n",
       "<g style=\"fill:rgb(0%,0%,0%);fill-opacity:1;\">\n",
       "  <use x=\"135.653\" xlink:href=\"#glyph3-1\" y=\"67.728\"/>\n",
       "</g>\n",
       "<path d=\"M 55.274187 36.848875 L 69.0945 36.848875 \" style=\"fill:none;stroke-width:1.59404;stroke-linecap:butt;stroke-linejoin:miter;stroke:rgb(0%,0%,0%);stroke-opacity:1;stroke-miterlimit:10;\" transform=\"matrix(1,0,0,-1,64.843,100.427)\"/>\n",
       "<path d=\"M -18.425031 -9.213625 L -18.425031 79.067625 \" style=\"fill:none;stroke-width:2.98883;stroke-linecap:butt;stroke-linejoin:miter;stroke:rgb(21.569824%,49.412537%,72.155762%);stroke-opacity:1;stroke-miterlimit:10;\" transform=\"matrix(1,0,0,-1,64.843,100.427)\"/>\n",
       "<path d=\"M 2.351207 -0.00019875 C -0.586293 0.589645 -3.527699 1.76152 -7.055043 3.820114 C -3.527699 1.175583 -3.527699 -1.17598 -7.055043 -3.820511 C -3.527699 -1.761917 -0.586293 -0.586136 2.351207 -0.00019875 Z M 2.351207 -0.00019875 \" style=\"fill-rule:nonzero;fill:rgb(21.569824%,49.412537%,72.155762%);fill-opacity:1;stroke-width:2.98883;stroke-linecap:butt;stroke-linejoin:round;stroke:rgb(21.569824%,49.412537%,72.155762%);stroke-opacity:1;stroke-miterlimit:10;\" transform=\"matrix(0,-1,-1,0,46.41777,21.35902)\"/>\n",
       "<g style=\"fill:rgb(21.569824%,49.412537%,72.155762%);fill-opacity:1;\">\n",
       "  <use x=\"3.32\" xlink:href=\"#glyph4-1\" y=\"67.036\"/>\n",
       "</g>\n",
       "<g style=\"fill:rgb(21.569824%,49.412537%,72.155762%);fill-opacity:1;\">\n",
       "  <use x=\"8.996689\" xlink:href=\"#glyph4-2\" y=\"67.036\"/>\n",
       "  <use x=\"13.977989\" xlink:href=\"#glyph4-3\" y=\"67.036\"/>\n",
       "  <use x=\"17.88034\" xlink:href=\"#glyph4-4\" y=\"67.036\"/>\n",
       "</g>\n",
       "<g style=\"fill:rgb(21.569824%,49.412537%,72.155762%);fill-opacity:1;\">\n",
       "  <use x=\"24.796377\" xlink:href=\"#glyph4-5\" y=\"67.036\"/>\n",
       "  <use x=\"29.777677\" xlink:href=\"#glyph4-3\" y=\"67.036\"/>\n",
       "  <use x=\"33.680027\" xlink:href=\"#glyph4-6\" y=\"67.036\"/>\n",
       "</g>\n",
       "<g style=\"fill:rgb(21.569824%,49.412537%,72.155762%);fill-opacity:1;\">\n",
       "  <use x=\"34.828\" xlink:href=\"#glyph2-2\" y=\"10.793\"/>\n",
       "</g>\n",
       "<g style=\"fill:rgb(21.569824%,49.412537%,72.155762%);fill-opacity:1;\">\n",
       "  <use x=\"39.706\" xlink:href=\"#glyph5-1\" y=\"12.287\"/>\n",
       "</g>\n",
       "<g style=\"fill:rgb(21.569824%,49.412537%,72.155762%);fill-opacity:1;\">\n",
       "  <use x=\"44.213\" xlink:href=\"#glyph4-7\" y=\"10.793\"/>\n",
       "</g>\n",
       "<g style=\"fill:rgb(21.569824%,49.412537%,72.155762%);fill-opacity:1;\">\n",
       "  <use x=\"48.088\" xlink:href=\"#glyph6-1\" y=\"10.793\"/>\n",
       "</g>\n",
       "<g style=\"fill:rgb(21.569824%,49.412537%,72.155762%);fill-opacity:1;\">\n",
       "  <use x=\"54.134\" xlink:href=\"#glyph4-8\" y=\"10.793\"/>\n",
       "</g>\n",
       "<path d=\"M 92.12575 82.915281 L 92.12575 -5.365969 \" style=\"fill:none;stroke-width:2.98883;stroke-linecap:butt;stroke-linejoin:miter;stroke:rgb(89.411926%,10.195923%,10.978699%);stroke-opacity:1;stroke-miterlimit:10;\" transform=\"matrix(1,0,0,-1,64.843,100.427)\"/>\n",
       "<path d=\"M 2.350571 -0.0005 C -0.586929 0.589344 -3.528335 1.765125 -7.051772 3.819813 C -3.528335 1.175281 -3.528335 -1.176281 -7.051772 -3.820812 C -3.528335 -1.762219 -0.586929 -0.586437 2.350571 -0.0005 Z M 2.350571 -0.0005 \" style=\"fill-rule:nonzero;fill:rgb(89.411926%,10.195923%,10.978699%);fill-opacity:1;stroke-width:2.98883;stroke-linecap:butt;stroke-linejoin:round;stroke:rgb(89.411926%,10.195923%,10.978699%);stroke-opacity:1;stroke-miterlimit:10;\" transform=\"matrix(0,1,1,0,156.96925,105.79396)\"/>\n",
       "<g style=\"fill:rgb(89.411926%,10.195923%,10.978699%);fill-opacity:1;\">\n",
       "  <use x=\"164.173\" xlink:href=\"#glyph4-9\" y=\"67.036\"/>\n",
       "  <use x=\"171.22951\" xlink:href=\"#glyph4-5\" y=\"67.036\"/>\n",
       "  <use x=\"176.21081\" xlink:href=\"#glyph4-10\" y=\"67.036\"/>\n",
       "</g>\n",
       "<g style=\"fill:rgb(89.411926%,10.195923%,10.978699%);fill-opacity:1;\">\n",
       "  <use x=\"180.359236\" xlink:href=\"#glyph4-11\" y=\"67.036\"/>\n",
       "  <use x=\"185.617497\" xlink:href=\"#glyph4-4\" y=\"67.036\"/>\n",
       "</g>\n",
       "<g style=\"fill:rgb(89.411926%,10.195923%,10.978699%);fill-opacity:1;\">\n",
       "  <use x=\"192.543496\" xlink:href=\"#glyph4-5\" y=\"67.036\"/>\n",
       "  <use x=\"197.524796\" xlink:href=\"#glyph4-3\" y=\"67.036\"/>\n",
       "  <use x=\"201.427146\" xlink:href=\"#glyph4-6\" y=\"67.036\"/>\n",
       "</g>\n",
       "<g style=\"fill:rgb(89.411926%,10.195923%,10.978699%);fill-opacity:1;\">\n",
       "  <use x=\"151.501\" xlink:href=\"#glyph2-3\" y=\"11.761\"/>\n",
       "</g>\n",
       "<g style=\"fill:rgb(89.411926%,10.195923%,10.978699%);fill-opacity:1;\">\n",
       "  <use x=\"157.344\" xlink:href=\"#glyph6-2\" y=\"11.761\"/>\n",
       "</g>\n",
       "<g style=\"fill:rgb(89.411926%,10.195923%,10.978699%);fill-opacity:1;\">\n",
       "  <use x=\"133.145\" xlink:href=\"#glyph2-3\" y=\"78.092\"/>\n",
       "</g>\n",
       "<g style=\"fill:rgb(89.411926%,10.195923%,10.978699%);fill-opacity:1;\">\n",
       "  <use x=\"138.99205\" xlink:href=\"#glyph2-1\" y=\"78.092\"/>\n",
       "</g>\n",
       "<g style=\"fill:rgb(89.411926%,10.195923%,10.978699%);fill-opacity:1;\">\n",
       "  <use x=\"151.024\" xlink:href=\"#glyph2-3\" y=\"122.311\"/>\n",
       "</g>\n",
       "<g style=\"fill:rgb(89.411926%,10.195923%,10.978699%);fill-opacity:1;\">\n",
       "  <use x=\"156.866\" xlink:href=\"#glyph6-1\" y=\"122.311\"/>\n",
       "</g>\n",
       "</g>\n",
       "</svg>"
      ]
     },
     "metadata": {
      "isolated": "true"
     },
     "output_type": "display_data"
    }
   ],
   "source": [
    "%%tikz -l arrows -s 1000,600 -sc 0.65 -f svg\n",
    "\n",
    "\\definecolor{nice-red}{HTML}{E41A1C}\n",
    "\\definecolor{nice-orange}{HTML}{FF7F00}\n",
    "\\definecolor{nice-yellow}{HTML}{FFC020}\n",
    "\\definecolor{nice-green}{HTML}{4DAF4A}\n",
    "\\definecolor{nice-blue}{HTML}{377EB8}\n",
    "\\definecolor{nice-purple}{HTML}{984EA3}\n",
    "\n",
    "\\draw[->, >=stealth', ultra thick] (1.5,-0.75) -- (1.5,4.75);\n",
    "\\draw[ultra thick, fill=white] (0,0) rectangle (3,4);\n",
    "\\node[font=\\large] at (1.5, 5) {$\\mathbf{z}$};\n",
    "\\node[font=\\large] at (1.5, -1) {$\\mathbf{x}$};\n",
    "\\node[font=\\Large] at (1.5, 2) {$f_\\theta$};\n",
    "\\node[font=\\large] at (4, 2) {$\\theta$};\n",
    "\\draw[ultra thick] (3,2) -- (3.75,2);\n",
    "      \n",
    "\\draw[->, >=stealth', line width=3pt, nice-blue] (-1,-0.5) -- (-1,4.5);\n",
    "\\node[anchor=east, nice-blue] at (-1.2,2) {Forward};\n",
    "\\node[nice-blue] at (-1,5) {$f_\\theta(\\mathbf{x})$};      \n",
    "\\draw[->, >=stealth', line width=3pt, nice-red] (5,4.5) -- (5,-0.5);\n",
    "\n",
    "\\node[anchor=west, nice-red] at (5.2,2) {Backward};\n",
    "\n",
    "\\node[color=nice-red] at (5,5) {$\\partial\\mathbf{z}$};      \n",
    "\\node[color=nice-red] at (4,1.4) {$\\partial\\theta$};     \n",
    "\\node[color=nice-red] at (5,-1) {$\\partial\\mathbf{x}$};      \n",
    "      \n",
    "      \n",
    "%dummy node\n",
    "\\node[] at (6,0) {};\n",
    "            "
   ]
  },
  {
   "cell_type": "markdown",
   "metadata": {
    "slideshow": {
     "slide_type": "slide"
    }
   },
   "source": [
    "## Backpropagation"
   ]
  },
  {
   "cell_type": "code",
   "execution_count": 42,
   "metadata": {
    "collapsed": false,
    "hide_input": true
   },
   "outputs": [
    {
     "data": {
      "image/svg+xml": [
       "<svg height=\"600px\" version=\"1.1\" viewBox=\"0 0 274.339 241.119\" width=\"1000px\" xmlns=\"http://www.w3.org/2000/svg\" xmlns:xlink=\"http://www.w3.org/1999/xlink\">\n",
       "<defs>\n",
       "<g>\n",
       "<symbol id=\"glyph0-0\" overflow=\"visible\">\n",
       "<path d=\"\" style=\"stroke:none;\"/>\n",
       "</symbol>\n",
       "<symbol id=\"glyph0-1\" overflow=\"visible\">\n",
       "<path d=\"M 3.453125 -2.453125 L 4.609375 -3.75 C 4.75 -3.890625 4.8125 -3.953125 5.625 -3.953125 L 5.625 -4.421875 C 5.28125 -4.40625 4.765625 -4.390625 4.71875 -4.390625 C 4.46875 -4.390625 3.96875 -4.421875 3.6875 -4.421875 L 3.6875 -3.953125 C 3.828125 -3.953125 3.953125 -3.9375 4.0625 -3.875 C 4.03125 -3.8125 4.03125 -3.78125 3.984375 -3.75 L 3.15625 -2.8125 L 2.171875 -3.953125 L 2.578125 -3.953125 L 2.578125 -4.421875 C 2.3125 -4.421875 1.6875 -4.390625 1.359375 -4.390625 C 1.046875 -4.390625 0.59375 -4.421875 0.265625 -4.421875 L 0.265625 -3.953125 L 0.984375 -3.953125 L 2.53125 -2.125 L 1.21875 -0.65625 C 1.0625 -0.46875 0.703125 -0.46875 0.21875 -0.46875 L 0.21875 0 C 0.5625 -0.015625 1.09375 -0.03125 1.140625 -0.03125 C 1.390625 -0.03125 1.96875 -0.015625 2.15625 0 L 2.15625 -0.46875 C 1.984375 -0.46875 1.796875 -0.515625 1.796875 -0.578125 C 1.796875 -0.59375 1.796875 -0.59375 1.859375 -0.671875 L 2.828125 -1.765625 L 3.921875 -0.46875 L 3.53125 -0.46875 L 3.53125 0 C 3.796875 -0.015625 4.40625 -0.03125 4.734375 -0.03125 C 5.046875 -0.03125 5.5 -0.015625 5.828125 0 L 5.828125 -0.46875 L 5.125 -0.46875 Z M 3.453125 -2.453125 \" style=\"stroke:none;\"/>\n",
       "</symbol>\n",
       "<symbol id=\"glyph0-2\" overflow=\"visible\">\n",
       "<path d=\"M 10.65625 -6.125 C 10.71875 -6.296875 10.71875 -6.3125 11.03125 -6.34375 C 11.234375 -6.375 11.4375 -6.375 11.609375 -6.375 L 11.609375 -6.84375 C 11.328125 -6.828125 10.984375 -6.8125 10.53125 -6.8125 C 10.15625 -6.8125 9.546875 -6.8125 9.1875 -6.84375 L 9.1875 -6.375 C 9.4375 -6.375 9.90625 -6.375 10.203125 -6.265625 L 8.484375 -1.796875 L 6.71875 -6.375 L 7.671875 -6.375 L 7.671875 -6.84375 C 7.296875 -6.8125 6.359375 -6.8125 5.9375 -6.8125 C 5.546875 -6.8125 4.75 -6.8125 4.40625 -6.84375 L 4.40625 -6.375 L 5.265625 -6.375 L 5.671875 -5.3125 L 4.3125 -1.796875 L 2.546875 -6.375 L 3.515625 -6.375 L 3.515625 -6.84375 C 3.125 -6.8125 2.1875 -6.8125 1.765625 -6.8125 C 1.375 -6.8125 0.59375 -6.8125 0.234375 -6.84375 L 0.234375 -6.375 L 1.09375 -6.375 L 3.484375 -0.171875 C 3.546875 -0.015625 3.59375 0.078125 3.84375 0.078125 C 4.09375 0.078125 4.125 -0.015625 4.1875 -0.171875 L 5.921875 -4.671875 L 7.65625 -0.171875 C 7.71875 -0.015625 7.75 0.078125 8 0.078125 C 8.25 0.078125 8.296875 -0.015625 8.359375 -0.171875 Z M 10.65625 -6.125 \" style=\"stroke:none;\"/>\n",
       "</symbol>\n",
       "<symbol id=\"glyph0-3\" overflow=\"visible\">\n",
       "<path d=\"M 2.140625 -4 L 2.140625 -6.921875 L 0.375 -6.84375 L 0.375 -6.375 C 0.984375 -6.375 1.0625 -6.375 1.0625 -5.984375 L 1.0625 0 L 1.53125 0 L 2.015625 -0.5625 C 2.09375 -0.484375 2.578125 0.0625 3.46875 0.0625 C 4.953125 0.0625 5.984375 -0.84375 5.984375 -2.21875 C 5.984375 -3.546875 5.046875 -4.484375 3.59375 -4.484375 C 2.875 -4.484375 2.375 -4.203125 2.140625 -4 Z M 2.1875 -0.984375 L 2.1875 -3.484375 C 2.46875 -3.84375 2.9375 -4.125 3.484375 -4.125 C 4.703125 -4.125 4.703125 -2.921875 4.703125 -2.21875 C 4.703125 -1.75 4.703125 -1.203125 4.453125 -0.8125 C 4.15625 -0.40625 3.703125 -0.296875 3.375 -0.296875 C 2.6875 -0.296875 2.296875 -0.84375 2.1875 -0.984375 Z M 2.1875 -0.984375 \" style=\"stroke:none;\"/>\n",
       "</symbol>\n",
       "<symbol id=\"glyph0-4\" overflow=\"visible\">\n",
       "<path d=\"M 1.140625 -0.46875 L 0.453125 -0.46875 L 0.453125 0 C 0.734375 -0.015625 1.328125 -0.03125 1.703125 -0.03125 C 2.09375 -0.03125 2.6875 -0.015625 2.953125 0 L 2.953125 -0.46875 L 2.265625 -0.46875 L 2.265625 -2.546875 C 2.265625 -3.640625 3.125 -4.125 3.765625 -4.125 C 4.09375 -4.125 4.3125 -3.921875 4.3125 -3.15625 L 4.3125 -0.46875 L 3.625 -0.46875 L 3.625 0 C 3.890625 -0.015625 4.5 -0.03125 4.875 -0.03125 C 5.265625 -0.03125 5.859375 -0.015625 6.125 0 L 6.125 -0.46875 L 5.4375 -0.46875 L 5.4375 -3.046875 C 5.4375 -4.09375 4.90625 -4.484375 3.90625 -4.484375 C 2.953125 -4.484375 2.4375 -3.90625 2.21875 -3.515625 L 2.21875 -6.921875 L 0.453125 -6.84375 L 0.453125 -6.375 C 1.0625 -6.375 1.140625 -6.375 1.140625 -5.984375 Z M 1.140625 -0.46875 \" style=\"stroke:none;\"/>\n",
       "</symbol>\n",
       "<symbol id=\"glyph0-5\" overflow=\"visible\">\n",
       "<path d=\"M 5.046875 -3.75 C 5.109375 -3.890625 5.140625 -3.953125 5.78125 -3.953125 L 5.78125 -4.421875 C 5.546875 -4.40625 5.25 -4.390625 5 -4.390625 C 4.75 -4.390625 4.296875 -4.421875 4.09375 -4.421875 L 4.09375 -3.953125 C 4.109375 -3.953125 4.5625 -3.953125 4.5625 -3.84375 C 4.5625 -3.828125 4.515625 -3.734375 4.5 -3.71875 L 3.359375 -1.265625 L 2.09375 -3.953125 L 2.625 -3.953125 L 2.625 -4.421875 C 2.296875 -4.40625 1.40625 -4.390625 1.390625 -4.390625 C 1.109375 -4.390625 0.671875 -4.421875 0.265625 -4.421875 L 0.265625 -3.953125 L 0.890625 -3.953125 L 2.765625 0 L 2.53125 0.484375 C 2.3125 0.953125 2 1.640625 1.28125 1.640625 C 1.140625 1.640625 1.125 1.625 1.046875 1.59375 C 1.140625 1.5625 1.359375 1.421875 1.359375 1.0625 C 1.359375 0.734375 1.125 0.5 0.78125 0.5 C 0.515625 0.5 0.21875 0.6875 0.21875 1.078125 C 0.21875 1.578125 0.6875 2 1.28125 2 C 2.046875 2 2.625 1.375 2.90625 0.8125 Z M 5.046875 -3.75 \" style=\"stroke:none;\"/>\n",
       "</symbol>\n",
       "<symbol id=\"glyph1-0\" overflow=\"visible\">\n",
       "<path d=\"\" style=\"stroke:none;\"/>\n",
       "</symbol>\n",
       "<symbol id=\"glyph1-1\" overflow=\"visible\">\n",
       "<path d=\"M 2.078125 -1.9375 C 2.296875 -1.890625 3.109375 -1.734375 3.109375 -1.015625 C 3.109375 -0.515625 2.765625 -0.109375 1.984375 -0.109375 C 1.140625 -0.109375 0.78125 -0.671875 0.59375 -1.53125 C 0.5625 -1.65625 0.5625 -1.6875 0.453125 -1.6875 C 0.328125 -1.6875 0.328125 -1.625 0.328125 -1.453125 L 0.328125 -0.125 C 0.328125 0.046875 0.328125 0.109375 0.4375 0.109375 C 0.484375 0.109375 0.5 0.09375 0.6875 -0.09375 C 0.703125 -0.109375 0.703125 -0.125 0.890625 -0.3125 C 1.328125 0.09375 1.78125 0.109375 1.984375 0.109375 C 3.125 0.109375 3.59375 -0.5625 3.59375 -1.28125 C 3.59375 -1.796875 3.296875 -2.109375 3.171875 -2.21875 C 2.84375 -2.546875 2.453125 -2.625 2.03125 -2.703125 C 1.46875 -2.8125 0.8125 -2.9375 0.8125 -3.515625 C 0.8125 -3.875 1.0625 -4.28125 1.921875 -4.28125 C 3.015625 -4.28125 3.078125 -3.375 3.09375 -3.078125 C 3.09375 -2.984375 3.1875 -2.984375 3.203125 -2.984375 C 3.34375 -2.984375 3.34375 -3.03125 3.34375 -3.21875 L 3.34375 -4.234375 C 3.34375 -4.390625 3.34375 -4.46875 3.234375 -4.46875 C 3.1875 -4.46875 3.15625 -4.46875 3.03125 -4.34375 C 3 -4.3125 2.90625 -4.21875 2.859375 -4.1875 C 2.484375 -4.46875 2.078125 -4.46875 1.921875 -4.46875 C 0.703125 -4.46875 0.328125 -3.796875 0.328125 -3.234375 C 0.328125 -2.890625 0.484375 -2.609375 0.75 -2.390625 C 1.078125 -2.140625 1.359375 -2.078125 2.078125 -1.9375 Z M 2.078125 -1.9375 \" style=\"stroke:none;\"/>\n",
       "</symbol>\n",
       "<symbol id=\"glyph1-2\" overflow=\"visible\">\n",
       "<path d=\"M 1.765625 -4.40625 L 0.375 -4.296875 L 0.375 -3.984375 C 1.015625 -3.984375 1.109375 -3.921875 1.109375 -3.4375 L 1.109375 -0.75 C 1.109375 -0.3125 1 -0.3125 0.328125 -0.3125 L 0.328125 0 C 0.640625 -0.015625 1.1875 -0.03125 1.421875 -0.03125 C 1.78125 -0.03125 2.125 -0.015625 2.46875 0 L 2.46875 -0.3125 C 1.796875 -0.3125 1.765625 -0.359375 1.765625 -0.75 Z M 1.796875 -6.140625 C 1.796875 -6.453125 1.5625 -6.671875 1.28125 -6.671875 C 0.96875 -6.671875 0.75 -6.40625 0.75 -6.140625 C 0.75 -5.875 0.96875 -5.609375 1.28125 -5.609375 C 1.5625 -5.609375 1.796875 -5.828125 1.796875 -6.140625 Z M 1.796875 -6.140625 \" style=\"stroke:none;\"/>\n",
       "</symbol>\n",
       "<symbol id=\"glyph1-3\" overflow=\"visible\">\n",
       "<path d=\"M 2.21875 -1.71875 C 1.34375 -1.71875 1.34375 -2.71875 1.34375 -2.9375 C 1.34375 -3.203125 1.359375 -3.53125 1.5 -3.78125 C 1.578125 -3.890625 1.8125 -4.171875 2.21875 -4.171875 C 3.078125 -4.171875 3.078125 -3.1875 3.078125 -2.953125 C 3.078125 -2.6875 3.078125 -2.359375 2.921875 -2.109375 C 2.84375 -2 2.609375 -1.71875 2.21875 -1.71875 Z M 1.0625 -1.328125 C 1.0625 -1.359375 1.0625 -1.59375 1.21875 -1.796875 C 1.609375 -1.515625 2.03125 -1.484375 2.21875 -1.484375 C 3.140625 -1.484375 3.828125 -2.171875 3.828125 -2.9375 C 3.828125 -3.3125 3.671875 -3.671875 3.421875 -3.90625 C 3.78125 -4.25 4.140625 -4.296875 4.3125 -4.296875 C 4.34375 -4.296875 4.390625 -4.296875 4.421875 -4.28125 C 4.3125 -4.25 4.25 -4.140625 4.25 -4.015625 C 4.25 -3.84375 4.390625 -3.734375 4.546875 -3.734375 C 4.640625 -3.734375 4.828125 -3.796875 4.828125 -4.03125 C 4.828125 -4.203125 4.71875 -4.515625 4.328125 -4.515625 C 4.125 -4.515625 3.6875 -4.453125 3.265625 -4.046875 C 2.84375 -4.375 2.4375 -4.40625 2.21875 -4.40625 C 1.28125 -4.40625 0.59375 -3.71875 0.59375 -2.953125 C 0.59375 -2.515625 0.8125 -2.140625 1.0625 -1.921875 C 0.9375 -1.78125 0.75 -1.453125 0.75 -1.09375 C 0.75 -0.78125 0.890625 -0.40625 1.203125 -0.203125 C 0.59375 -0.046875 0.28125 0.390625 0.28125 0.78125 C 0.28125 1.5 1.265625 2.046875 2.484375 2.046875 C 3.65625 2.046875 4.6875 1.546875 4.6875 0.765625 C 4.6875 0.421875 4.5625 -0.09375 4.046875 -0.375 C 3.515625 -0.640625 2.9375 -0.640625 2.328125 -0.640625 C 2.078125 -0.640625 1.65625 -0.640625 1.578125 -0.65625 C 1.265625 -0.703125 1.0625 -1 1.0625 -1.328125 Z M 2.5 1.828125 C 1.484375 1.828125 0.796875 1.3125 0.796875 0.78125 C 0.796875 0.328125 1.171875 -0.046875 1.609375 -0.0625 L 2.203125 -0.0625 C 3.0625 -0.0625 4.171875 -0.0625 4.171875 0.78125 C 4.171875 1.328125 3.46875 1.828125 2.5 1.828125 Z M 2.5 1.828125 \" style=\"stroke:none;\"/>\n",
       "</symbol>\n",
       "<symbol id=\"glyph1-4\" overflow=\"visible\">\n",
       "<path d=\"M 1.09375 -3.421875 L 1.09375 -0.75 C 1.09375 -0.3125 0.984375 -0.3125 0.3125 -0.3125 L 0.3125 0 C 0.671875 -0.015625 1.171875 -0.03125 1.453125 -0.03125 C 1.703125 -0.03125 2.21875 -0.015625 2.5625 0 L 2.5625 -0.3125 C 1.890625 -0.3125 1.78125 -0.3125 1.78125 -0.75 L 1.78125 -2.59375 C 1.78125 -3.625 2.5 -4.1875 3.125 -4.1875 C 3.765625 -4.1875 3.875 -3.65625 3.875 -3.078125 L 3.875 -0.75 C 3.875 -0.3125 3.765625 -0.3125 3.09375 -0.3125 L 3.09375 0 C 3.4375 -0.015625 3.953125 -0.03125 4.21875 -0.03125 C 4.46875 -0.03125 5 -0.015625 5.328125 0 L 5.328125 -0.3125 C 4.671875 -0.3125 4.5625 -0.3125 4.5625 -0.75 L 4.5625 -2.59375 C 4.5625 -3.625 5.265625 -4.1875 5.90625 -4.1875 C 6.53125 -4.1875 6.640625 -3.65625 6.640625 -3.078125 L 6.640625 -0.75 C 6.640625 -0.3125 6.53125 -0.3125 5.859375 -0.3125 L 5.859375 0 C 6.203125 -0.015625 6.71875 -0.03125 6.984375 -0.03125 C 7.25 -0.03125 7.765625 -0.015625 8.109375 0 L 8.109375 -0.3125 C 7.59375 -0.3125 7.34375 -0.3125 7.328125 -0.609375 L 7.328125 -2.515625 C 7.328125 -3.375 7.328125 -3.671875 7.015625 -4.03125 C 6.875 -4.203125 6.546875 -4.40625 5.96875 -4.40625 C 5.140625 -4.40625 4.6875 -3.8125 4.53125 -3.421875 C 4.390625 -4.296875 3.65625 -4.40625 3.203125 -4.40625 C 2.46875 -4.40625 2 -3.984375 1.71875 -3.359375 L 1.71875 -4.40625 L 0.3125 -4.296875 L 0.3125 -3.984375 C 1.015625 -3.984375 1.09375 -3.921875 1.09375 -3.421875 Z M 1.09375 -3.421875 \" style=\"stroke:none;\"/>\n",
       "</symbol>\n",
       "<symbol id=\"glyph1-5\" overflow=\"visible\">\n",
       "<path d=\"M 4.6875 -2.140625 C 4.6875 -3.40625 3.703125 -4.46875 2.5 -4.46875 C 1.25 -4.46875 0.28125 -3.375 0.28125 -2.140625 C 0.28125 -0.84375 1.3125 0.109375 2.484375 0.109375 C 3.6875 0.109375 4.6875 -0.875 4.6875 -2.140625 Z M 2.5 -0.140625 C 2.0625 -0.140625 1.625 -0.34375 1.359375 -0.8125 C 1.109375 -1.25 1.109375 -1.859375 1.109375 -2.21875 C 1.109375 -2.609375 1.109375 -3.140625 1.34375 -3.578125 C 1.609375 -4.03125 2.078125 -4.25 2.484375 -4.25 C 2.921875 -4.25 3.34375 -4.03125 3.609375 -3.59375 C 3.875 -3.171875 3.875 -2.59375 3.875 -2.21875 C 3.875 -1.859375 3.875 -1.3125 3.65625 -0.875 C 3.421875 -0.421875 2.984375 -0.140625 2.5 -0.140625 Z M 2.5 -0.140625 \" style=\"stroke:none;\"/>\n",
       "</symbol>\n",
       "<symbol id=\"glyph1-6\" overflow=\"visible\">\n",
       "<path d=\"M 3.78125 -0.546875 L 3.78125 0.109375 L 5.25 0 L 5.25 -0.3125 C 4.5625 -0.3125 4.46875 -0.375 4.46875 -0.875 L 4.46875 -6.921875 L 3.046875 -6.8125 L 3.046875 -6.5 C 3.734375 -6.5 3.8125 -6.4375 3.8125 -5.9375 L 3.8125 -3.78125 C 3.53125 -4.140625 3.09375 -4.40625 2.5625 -4.40625 C 1.390625 -4.40625 0.34375 -3.421875 0.34375 -2.140625 C 0.34375 -0.875 1.3125 0.109375 2.453125 0.109375 C 3.09375 0.109375 3.53125 -0.234375 3.78125 -0.546875 Z M 3.78125 -3.21875 L 3.78125 -1.171875 C 3.78125 -1 3.78125 -0.984375 3.671875 -0.8125 C 3.375 -0.328125 2.9375 -0.109375 2.5 -0.109375 C 2.046875 -0.109375 1.6875 -0.375 1.453125 -0.75 C 1.203125 -1.15625 1.171875 -1.71875 1.171875 -2.140625 C 1.171875 -2.5 1.1875 -3.09375 1.46875 -3.546875 C 1.6875 -3.859375 2.0625 -4.1875 2.609375 -4.1875 C 2.953125 -4.1875 3.375 -4.03125 3.671875 -3.59375 C 3.78125 -3.421875 3.78125 -3.40625 3.78125 -3.21875 Z M 3.78125 -3.21875 \" style=\"stroke:none;\"/>\n",
       "</symbol>\n",
       "<symbol id=\"glyph1-7\" overflow=\"visible\">\n",
       "<path d=\"M 3.296875 2.390625 C 3.296875 2.359375 3.296875 2.34375 3.125 2.171875 C 1.890625 0.921875 1.5625 -0.96875 1.5625 -2.5 C 1.5625 -4.234375 1.9375 -5.96875 3.171875 -7.203125 C 3.296875 -7.328125 3.296875 -7.34375 3.296875 -7.375 C 3.296875 -7.453125 3.265625 -7.484375 3.203125 -7.484375 C 3.09375 -7.484375 2.203125 -6.796875 1.609375 -5.53125 C 1.109375 -4.4375 0.984375 -3.328125 0.984375 -2.5 C 0.984375 -1.71875 1.09375 -0.515625 1.640625 0.625 C 2.25 1.84375 3.09375 2.5 3.203125 2.5 C 3.265625 2.5 3.296875 2.46875 3.296875 2.390625 Z M 3.296875 2.390625 \" style=\"stroke:none;\"/>\n",
       "</symbol>\n",
       "<symbol id=\"glyph1-8\" overflow=\"visible\">\n",
       "<path d=\"M 4.078125 -2.296875 L 6.859375 -2.296875 C 7 -2.296875 7.1875 -2.296875 7.1875 -2.5 C 7.1875 -2.6875 7 -2.6875 6.859375 -2.6875 L 4.078125 -2.6875 L 4.078125 -5.484375 C 4.078125 -5.625 4.078125 -5.8125 3.875 -5.8125 C 3.671875 -5.8125 3.671875 -5.625 3.671875 -5.484375 L 3.671875 -2.6875 L 0.890625 -2.6875 C 0.75 -2.6875 0.5625 -2.6875 0.5625 -2.5 C 0.5625 -2.296875 0.75 -2.296875 0.890625 -2.296875 L 3.671875 -2.296875 L 3.671875 0.5 C 3.671875 0.640625 3.671875 0.828125 3.875 0.828125 C 4.078125 0.828125 4.078125 0.640625 4.078125 0.5 Z M 4.078125 -2.296875 \" style=\"stroke:none;\"/>\n",
       "</symbol>\n",
       "<symbol id=\"glyph1-9\" overflow=\"visible\">\n",
       "<path d=\"M 2.875 -2.5 C 2.875 -3.265625 2.765625 -4.46875 2.21875 -5.609375 C 1.625 -6.828125 0.765625 -7.484375 0.671875 -7.484375 C 0.609375 -7.484375 0.5625 -7.4375 0.5625 -7.375 C 0.5625 -7.34375 0.5625 -7.328125 0.75 -7.140625 C 1.734375 -6.15625 2.296875 -4.578125 2.296875 -2.5 C 2.296875 -0.78125 1.9375 0.96875 0.703125 2.21875 C 0.5625 2.34375 0.5625 2.359375 0.5625 2.390625 C 0.5625 2.453125 0.609375 2.5 0.671875 2.5 C 0.765625 2.5 1.671875 1.8125 2.25 0.546875 C 2.765625 -0.546875 2.875 -1.65625 2.875 -2.5 Z M 2.875 -2.5 \" style=\"stroke:none;\"/>\n",
       "</symbol>\n",
       "<symbol id=\"glyph2-0\" overflow=\"visible\">\n",
       "<path d=\"\" style=\"stroke:none;\"/>\n",
       "</symbol>\n",
       "<symbol id=\"glyph2-1\" overflow=\"visible\">\n",
       "<path d=\"M 1.90625 -2.328125 C 2.453125 -2.328125 2.84375 -1.953125 2.84375 -1.203125 C 2.84375 -0.34375 2.328125 -0.078125 1.9375 -0.078125 C 1.65625 -0.078125 1.03125 -0.15625 0.75 -0.578125 C 1.078125 -0.578125 1.15625 -0.8125 1.15625 -0.96875 C 1.15625 -1.1875 0.984375 -1.34375 0.765625 -1.34375 C 0.578125 -1.34375 0.375 -1.21875 0.375 -0.9375 C 0.375 -0.28125 1.09375 0.140625 1.9375 0.140625 C 2.90625 0.140625 3.578125 -0.515625 3.578125 -1.203125 C 3.578125 -1.75 3.140625 -2.296875 2.375 -2.453125 C 3.09375 -2.71875 3.359375 -3.234375 3.359375 -3.671875 C 3.359375 -4.21875 2.734375 -4.625 1.953125 -4.625 C 1.1875 -4.625 0.59375 -4.25 0.59375 -3.6875 C 0.59375 -3.453125 0.75 -3.328125 0.953125 -3.328125 C 1.171875 -3.328125 1.3125 -3.484375 1.3125 -3.671875 C 1.3125 -3.875 1.171875 -4.03125 0.953125 -4.046875 C 1.203125 -4.34375 1.671875 -4.421875 1.9375 -4.421875 C 2.25 -4.421875 2.6875 -4.265625 2.6875 -3.671875 C 2.6875 -3.375 2.59375 -3.046875 2.40625 -2.84375 C 2.1875 -2.578125 1.984375 -2.5625 1.640625 -2.53125 C 1.46875 -2.515625 1.453125 -2.515625 1.421875 -2.515625 C 1.40625 -2.515625 1.34375 -2.5 1.34375 -2.421875 C 1.34375 -2.328125 1.40625 -2.328125 1.53125 -2.328125 Z M 1.90625 -2.328125 \" style=\"stroke:none;\"/>\n",
       "</symbol>\n",
       "<symbol id=\"glyph2-2\" overflow=\"visible\">\n",
       "<path d=\"M 1.078125 -3.890625 C 1.4375 -3.796875 1.640625 -3.796875 1.75 -3.796875 C 2.671875 -3.796875 3.21875 -4.421875 3.21875 -4.53125 C 3.21875 -4.609375 3.171875 -4.625 3.140625 -4.625 C 3.125 -4.625 3.109375 -4.625 3.078125 -4.609375 C 2.90625 -4.546875 2.546875 -4.40625 2.03125 -4.40625 C 1.828125 -4.40625 1.46875 -4.421875 1.015625 -4.59375 C 0.9375 -4.625 0.921875 -4.625 0.921875 -4.625 C 0.828125 -4.625 0.828125 -4.546875 0.828125 -4.4375 L 0.828125 -2.390625 C 0.828125 -2.265625 0.828125 -2.1875 0.9375 -2.1875 C 1 -2.1875 1.015625 -2.1875 1.078125 -2.28125 C 1.375 -2.65625 1.8125 -2.71875 2.046875 -2.71875 C 2.46875 -2.71875 2.65625 -2.390625 2.6875 -2.328125 C 2.8125 -2.09375 2.859375 -1.828125 2.859375 -1.421875 C 2.859375 -1.21875 2.859375 -0.8125 2.640625 -0.5 C 2.46875 -0.25 2.171875 -0.078125 1.828125 -0.078125 C 1.375 -0.078125 0.90625 -0.328125 0.734375 -0.796875 C 1 -0.78125 1.140625 -0.953125 1.140625 -1.140625 C 1.140625 -1.4375 0.875 -1.484375 0.78125 -1.484375 C 0.78125 -1.484375 0.4375 -1.484375 0.4375 -1.109375 C 0.4375 -0.484375 1.015625 0.140625 1.84375 0.140625 C 2.734375 0.140625 3.515625 -0.515625 3.515625 -1.40625 C 3.515625 -2.1875 2.921875 -2.90625 2.0625 -2.90625 C 1.75 -2.90625 1.390625 -2.84375 1.078125 -2.578125 Z M 1.078125 -3.890625 \" style=\"stroke:none;\"/>\n",
       "</symbol>\n",
       "<symbol id=\"glyph2-3\" overflow=\"visible\">\n",
       "<path d=\"M 2.328125 -4.4375 C 2.328125 -4.625 2.328125 -4.625 2.125 -4.625 C 1.671875 -4.1875 1.046875 -4.1875 0.765625 -4.1875 L 0.765625 -3.9375 C 0.921875 -3.9375 1.390625 -3.9375 1.765625 -4.125 L 1.765625 -0.578125 C 1.765625 -0.34375 1.765625 -0.25 1.078125 -0.25 L 0.8125 -0.25 L 0.8125 0 C 0.9375 0 1.796875 -0.03125 2.046875 -0.03125 C 2.265625 -0.03125 3.140625 0 3.296875 0 L 3.296875 -0.25 L 3.03125 -0.25 C 2.328125 -0.25 2.328125 -0.34375 2.328125 -0.578125 Z M 2.328125 -4.4375 \" style=\"stroke:none;\"/>\n",
       "</symbol>\n",
       "<symbol id=\"glyph2-4\" overflow=\"visible\">\n",
       "<path d=\"M 3.515625 -1.265625 L 3.28125 -1.265625 C 3.265625 -1.109375 3.1875 -0.703125 3.09375 -0.640625 C 3.046875 -0.59375 2.515625 -0.59375 2.40625 -0.59375 L 1.125 -0.59375 C 1.859375 -1.234375 2.109375 -1.4375 2.515625 -1.765625 C 3.03125 -2.171875 3.515625 -2.609375 3.515625 -3.265625 C 3.515625 -4.109375 2.78125 -4.625 1.890625 -4.625 C 1.03125 -4.625 0.4375 -4.015625 0.4375 -3.375 C 0.4375 -3.03125 0.734375 -2.984375 0.8125 -2.984375 C 0.96875 -2.984375 1.171875 -3.109375 1.171875 -3.359375 C 1.171875 -3.484375 1.125 -3.734375 0.765625 -3.734375 C 0.984375 -4.21875 1.453125 -4.375 1.78125 -4.375 C 2.484375 -4.375 2.84375 -3.828125 2.84375 -3.265625 C 2.84375 -2.65625 2.40625 -2.1875 2.1875 -1.9375 L 0.515625 -0.265625 C 0.4375 -0.203125 0.4375 -0.1875 0.4375 0 L 3.3125 0 Z M 3.515625 -1.265625 \" style=\"stroke:none;\"/>\n",
       "</symbol>\n",
       "<symbol id=\"glyph3-0\" overflow=\"visible\">\n",
       "<path d=\"\" style=\"stroke:none;\"/>\n",
       "</symbol>\n",
       "<symbol id=\"glyph3-1\" overflow=\"visible\">\n",
       "<path d=\"M 4.875 -3.265625 C 4.953125 -3.34375 4.96875 -3.390625 4.96875 -3.4375 C 4.96875 -3.546875 4.890625 -3.609375 4.8125 -3.609375 C 4.734375 -3.609375 4.71875 -3.59375 4.640625 -3.5 L 3.109375 -1.984375 L 1.578125 -3.515625 C 1.5 -3.578125 1.484375 -3.609375 1.421875 -3.609375 C 1.3125 -3.609375 1.234375 -3.53125 1.234375 -3.4375 C 1.234375 -3.375 1.265625 -3.359375 1.34375 -3.265625 L 2.859375 -1.75 L 1.34375 -0.234375 C 1.25 -0.125 1.234375 -0.09375 1.234375 -0.0625 C 1.234375 0.046875 1.3125 0.125 1.421875 0.125 C 1.484375 0.125 1.5 0.09375 1.578125 0.015625 L 3.109375 -1.5 L 4.703125 0.078125 C 4.734375 0.109375 4.765625 0.125 4.8125 0.125 C 4.890625 0.125 4.96875 0.0625 4.96875 -0.0625 C 4.96875 -0.109375 4.96875 -0.125 4.9375 -0.140625 C 4.921875 -0.171875 3.578125 -1.53125 3.359375 -1.734375 Z M 4.875 -3.265625 \" style=\"stroke:none;\"/>\n",
       "</symbol>\n",
       "<symbol id=\"glyph4-0\" overflow=\"visible\">\n",
       "<path d=\"\" style=\"stroke:none;\"/>\n",
       "</symbol>\n",
       "<symbol id=\"glyph4-1\" overflow=\"visible\">\n",
       "<path d=\"M 3.328125 -3.015625 C 3.390625 -3.265625 3.625 -4.1875 4.3125 -4.1875 C 4.359375 -4.1875 4.609375 -4.1875 4.8125 -4.0625 C 4.53125 -4 4.34375 -3.765625 4.34375 -3.515625 C 4.34375 -3.359375 4.453125 -3.171875 4.71875 -3.171875 C 4.9375 -3.171875 5.25 -3.34375 5.25 -3.75 C 5.25 -4.265625 4.671875 -4.40625 4.328125 -4.40625 C 3.75 -4.40625 3.40625 -3.875 3.28125 -3.65625 C 3.03125 -4.3125 2.5 -4.40625 2.203125 -4.40625 C 1.171875 -4.40625 0.59375 -3.125 0.59375 -2.875 C 0.59375 -2.765625 0.703125 -2.765625 0.71875 -2.765625 C 0.796875 -2.765625 0.828125 -2.796875 0.84375 -2.875 C 1.1875 -3.9375 1.84375 -4.1875 2.1875 -4.1875 C 2.375 -4.1875 2.71875 -4.09375 2.71875 -3.515625 C 2.71875 -3.203125 2.546875 -2.546875 2.1875 -1.140625 C 2.03125 -0.53125 1.671875 -0.109375 1.234375 -0.109375 C 1.171875 -0.109375 0.953125 -0.109375 0.734375 -0.234375 C 0.984375 -0.296875 1.203125 -0.5 1.203125 -0.78125 C 1.203125 -1.046875 0.984375 -1.125 0.84375 -1.125 C 0.53125 -1.125 0.296875 -0.875 0.296875 -0.546875 C 0.296875 -0.09375 0.78125 0.109375 1.21875 0.109375 C 1.890625 0.109375 2.25 -0.59375 2.265625 -0.640625 C 2.390625 -0.28125 2.75 0.109375 3.34375 0.109375 C 4.375 0.109375 4.9375 -1.171875 4.9375 -1.421875 C 4.9375 -1.53125 4.859375 -1.53125 4.828125 -1.53125 C 4.734375 -1.53125 4.71875 -1.484375 4.6875 -1.421875 C 4.359375 -0.34375 3.6875 -0.109375 3.375 -0.109375 C 2.984375 -0.109375 2.828125 -0.421875 2.828125 -0.765625 C 2.828125 -0.984375 2.875 -1.203125 2.984375 -1.640625 Z M 3.328125 -3.015625 \" style=\"stroke:none;\"/>\n",
       "</symbol>\n",
       "<symbol id=\"glyph4-2\" overflow=\"visible\">\n",
       "<path d=\"M 4.609375 -3.375 C 4.515625 -4 4.109375 -4.5625 3.328125 -4.5625 C 2.71875 -4.5625 2.078125 -4.390625 1.296875 -3.625 C 0.46875 -2.796875 0.40625 -1.859375 0.40625 -1.5625 C 0.40625 -0.9375 0.84375 0.21875 2.234375 0.21875 C 4.609375 0.21875 5.640625 -3.125 5.640625 -4.5625 C 5.640625 -6.140625 4.71875 -7.140625 3.484375 -7.140625 C 2.046875 -7.140625 1.578125 -5.84375 1.578125 -5.5625 C 1.578125 -5.421875 1.671875 -5.21875 1.96875 -5.21875 C 2.296875 -5.21875 2.5 -5.515625 2.5 -5.734375 C 2.5 -6.09375 2.1875 -6.09375 2.03125 -6.09375 C 2.46875 -6.828125 3.1875 -6.890625 3.46875 -6.890625 C 4.203125 -6.890625 4.890625 -6.375 4.890625 -5.078125 C 4.890625 -4.6875 4.828125 -4.1875 4.625 -3.375 Z M 2.265625 -0.0625 C 1.171875 -0.0625 1.171875 -1.09375 1.171875 -1.1875 C 1.171875 -1.453125 1.421875 -2.84375 1.828125 -3.453125 C 2.21875 -4.015625 2.71875 -4.34375 3.328125 -4.34375 C 4.421875 -4.34375 4.4375 -3.21875 4.4375 -3.015625 C 4.4375 -2.296875 3.796875 -0.0625 2.265625 -0.0625 Z M 2.265625 -0.0625 \" style=\"stroke:none;\"/>\n",
       "</symbol>\n",
       "<symbol id=\"glyph4-3\" overflow=\"visible\">\n",
       "<path d=\"M 2.03125 -0.015625 C 2.03125 -0.671875 1.78125 -1.0625 1.390625 -1.0625 C 1.0625 -1.0625 0.859375 -0.8125 0.859375 -0.53125 C 0.859375 -0.265625 1.0625 0 1.390625 0 C 1.5 0 1.640625 -0.046875 1.734375 -0.125 C 1.765625 -0.15625 1.78125 -0.15625 1.78125 -0.15625 C 1.796875 -0.15625 1.796875 -0.15625 1.796875 -0.015625 C 1.796875 0.734375 1.453125 1.328125 1.125 1.65625 C 1.015625 1.765625 1.015625 1.78125 1.015625 1.8125 C 1.015625 1.890625 1.0625 1.921875 1.109375 1.921875 C 1.21875 1.921875 2.03125 1.15625 2.03125 -0.015625 Z M 2.03125 -0.015625 \" style=\"stroke:none;\"/>\n",
       "</symbol>\n",
       "</g>\n",
       "<clipPath id=\"clip1\">\n",
       "  <path d=\"M 19 221 L 114 221 L 114 241.117188 L 19 241.117188 Z M 19 221 \"/>\n",
       "</clipPath>\n",
       "</defs>\n",
       "<g id=\"surface1\">\n",
       "<g clip-path=\"url(#clip1)\" clip-rule=\"nonzero\">\n",
       "<path d=\"M -0.00003125 0.0016875 L 92.124969 0.0016875 M -0.00003125 18.419656 L 92.124969 18.419656 M -0.00003125 0.0016875 L -0.00003125 18.423562 M 18.42575 0.0016875 L 18.42575 18.423562 M 36.851531 0.0016875 L 36.851531 18.423562 M 55.277313 0.0016875 L 55.277313 18.423562 M 73.699187 0.0016875 L 73.699187 18.423562 M 92.121062 0.0016875 L 92.121062 18.423562 \" style=\"fill:none;stroke-width:1.59404;stroke-linecap:butt;stroke-linejoin:miter;stroke:rgb(0%,0%,0%);stroke-opacity:1;stroke-miterlimit:10;\" transform=\"matrix(1,0,0,-1,20.418,240.322)\"/>\n",
       "</g>\n",
       "<g style=\"fill:rgb(0%,0%,0%);fill-opacity:1;\">\n",
       "  <use x=\"10.851\" xlink:href=\"#glyph0-1\" y=\"233.323\"/>\n",
       "</g>\n",
       "<path d=\"M 46.062469 18.423562 L 46.062469 71.388406 \" style=\"fill:none;stroke-width:1.59404;stroke-linecap:butt;stroke-linejoin:miter;stroke:rgb(0%,0%,0%);stroke-opacity:1;stroke-miterlimit:10;\" transform=\"matrix(1,0,0,-1,20.418,240.322)\"/>\n",
       "<path d=\"M 1.514401 0.00064125 C -0.38013 0.379548 -2.270755 1.13736 -4.544193 2.461579 C -2.270755 0.758454 -2.270755 -0.757171 -4.544193 -2.460296 C -2.270755 -1.136077 -0.38013 -0.378265 1.514401 0.00064125 Z M 1.514401 0.00064125 \" style=\"fill-rule:nonzero;fill:rgb(0%,0%,0%);fill-opacity:1;stroke-width:1.59404;stroke-linecap:butt;stroke-linejoin:round;stroke:rgb(0%,0%,0%);stroke-opacity:1;stroke-miterlimit:10;\" transform=\"matrix(0,-1,-1,0,66.48111,168.93237)\"/>\n",
       "<path d=\"M 55.277313 46.064187 C 55.277313 51.150125 51.152313 55.275125 46.062469 55.275125 C 40.976531 55.275125 36.851531 51.150125 36.851531 46.064187 C 36.851531 40.974344 40.976531 36.849344 46.062469 36.849344 C 51.152313 36.849344 55.277313 40.974344 55.277313 46.064187 Z M 55.277313 46.064187 \" style=\"fill-rule:nonzero;fill:rgb(100%,100%,100%);fill-opacity:1;stroke-width:1.59404;stroke-linecap:butt;stroke-linejoin:miter;stroke:rgb(89.411926%,10.195923%,10.978699%);stroke-opacity:1;stroke-miterlimit:10;\" transform=\"matrix(1,0,0,-1,20.418,240.322)\"/>\n",
       "<path d=\"M 40.535125 38.85325 L 40.996063 38.927469 L 41.457 39.032937 L 41.917938 39.181375 L 42.378875 39.392312 L 42.839813 39.689187 L 43.296844 40.099344 L 43.757781 40.650125 L 44.218719 41.380594 L 44.679656 42.302469 L 45.140594 43.419656 L 45.601531 44.693094 L 46.062469 46.056375 L 46.523406 47.423562 L 46.984344 48.700906 L 47.441375 49.814187 L 47.902313 50.739969 L 48.36325 51.470437 L 48.824188 52.025125 L 49.285125 52.435281 L 49.746063 52.732156 L 50.207 52.943094 L 50.667938 53.091531 L 51.128875 53.197 L 51.589813 53.271219 \" style=\"fill:none;stroke-width:1.59404;stroke-linecap:butt;stroke-linejoin:miter;stroke:rgb(89.411926%,10.195923%,10.978699%);stroke-opacity:1;stroke-miterlimit:10;\" transform=\"matrix(1,0,0,-1,20.418,240.322)\"/>\n",
       "<g style=\"fill:rgb(0%,0%,0%);fill-opacity:1;\">\n",
       "  <use x=\"79.212\" xlink:href=\"#glyph1-1\" y=\"197.309\"/>\n",
       "  <use x=\"83.141249\" xlink:href=\"#glyph1-2\" y=\"197.309\"/>\n",
       "  <use x=\"85.90886\" xlink:href=\"#glyph1-3\" y=\"197.309\"/>\n",
       "  <use x=\"90.89016\" xlink:href=\"#glyph1-4\" y=\"197.309\"/>\n",
       "  <use x=\"99.191994\" xlink:href=\"#glyph1-5\" y=\"197.309\"/>\n",
       "  <use x=\"104.173294\" xlink:href=\"#glyph1-2\" y=\"197.309\"/>\n",
       "  <use x=\"106.940905\" xlink:href=\"#glyph1-6\" y=\"197.309\"/>\n",
       "  <use x=\"112.476125\" xlink:href=\"#glyph1-7\" y=\"197.309\"/>\n",
       "</g>\n",
       "<g style=\"fill:rgb(0%,0%,0%);fill-opacity:1;\">\n",
       "  <use x=\"116.351\" xlink:href=\"#glyph0-2\" y=\"197.309\"/>\n",
       "</g>\n",
       "<g style=\"fill:rgb(0%,0%,0%);fill-opacity:1;\">\n",
       "  <use x=\"128.354\" xlink:href=\"#glyph2-1\" y=\"193.047\"/>\n",
       "</g>\n",
       "<g style=\"fill:rgb(0%,0%,0%);fill-opacity:1;\">\n",
       "  <use x=\"132.326\" xlink:href=\"#glyph3-1\" y=\"193.047\"/>\n",
       "</g>\n",
       "<g style=\"fill:rgb(0%,0%,0%);fill-opacity:1;\">\n",
       "  <use x=\"138.552\" xlink:href=\"#glyph2-2\" y=\"193.047\"/>\n",
       "</g>\n",
       "<g style=\"fill:rgb(0%,0%,0%);fill-opacity:1;\">\n",
       "  <use x=\"128.195\" xlink:href=\"#glyph2-3\" y=\"199.966\"/>\n",
       "</g>\n",
       "<g style=\"fill:rgb(0%,0%,0%);fill-opacity:1;\">\n",
       "  <use x=\"143.022\" xlink:href=\"#glyph4-1\" y=\"197.309\"/>\n",
       "</g>\n",
       "<g style=\"fill:rgb(0%,0%,0%);fill-opacity:1;\">\n",
       "  <use x=\"150.93\" xlink:href=\"#glyph1-8\" y=\"197.309\"/>\n",
       "</g>\n",
       "<g style=\"fill:rgb(0%,0%,0%);fill-opacity:1;\">\n",
       "  <use x=\"160.892\" xlink:href=\"#glyph0-3\" y=\"197.309\"/>\n",
       "</g>\n",
       "<g style=\"fill:rgb(0%,0%,0%);fill-opacity:1;\">\n",
       "  <use x=\"167.257\" xlink:href=\"#glyph2-3\" y=\"198.804\"/>\n",
       "</g>\n",
       "<g style=\"fill:rgb(0%,0%,0%);fill-opacity:1;\">\n",
       "  <use x=\"171.726\" xlink:href=\"#glyph1-9\" y=\"197.309\"/>\n",
       "</g>\n",
       "<path d=\"M 18.42575 73.700906 L 73.699187 73.700906 M 18.42575 92.118875 L 73.699187 92.118875 M 18.42575 73.700906 L 18.42575 92.126687 M 36.851531 73.700906 L 36.851531 92.126687 M 55.277313 73.700906 L 55.277313 92.126687 M 73.695281 73.700906 L 73.695281 92.126687 \" style=\"fill:none;stroke-width:1.59404;stroke-linecap:butt;stroke-linejoin:miter;stroke:rgb(0%,0%,0%);stroke-opacity:1;stroke-miterlimit:10;\" transform=\"matrix(1,0,0,-1,20.418,240.322)\"/>\n",
       "<g style=\"fill:rgb(0%,0%,0%);fill-opacity:1;\">\n",
       "  <use x=\"24.488\" xlink:href=\"#glyph0-4\" y=\"160.121\"/>\n",
       "</g>\n",
       "<g style=\"fill:rgb(0%,0%,0%);fill-opacity:1;\">\n",
       "  <use x=\"30.853\" xlink:href=\"#glyph2-3\" y=\"161.616\"/>\n",
       "</g>\n",
       "<path d=\"M 46.062469 92.126687 L 46.062469 145.091531 \" style=\"fill:none;stroke-width:1.59404;stroke-linecap:butt;stroke-linejoin:miter;stroke:rgb(0%,0%,0%);stroke-opacity:1;stroke-miterlimit:10;\" transform=\"matrix(1,0,0,-1,20.418,240.322)\"/>\n",
       "<path d=\"M 1.5126 0.00064125 C -0.378025 0.379548 -2.272556 1.13736 -4.542088 2.461579 C -2.272556 0.758454 -2.272556 -0.757171 -4.542088 -2.460296 C -2.272556 -1.136077 -0.378025 -0.378265 1.5126 0.00064125 Z M 1.5126 0.00064125 \" style=\"fill-rule:nonzero;fill:rgb(0%,0%,0%);fill-opacity:1;stroke-width:1.59404;stroke-linecap:butt;stroke-linejoin:round;stroke:rgb(0%,0%,0%);stroke-opacity:1;stroke-miterlimit:10;\" transform=\"matrix(0,-1,-1,0,66.48111,95.23135)\"/>\n",
       "<path d=\"M 55.277313 119.763406 C 55.277313 124.85325 51.152313 128.97825 46.062469 128.97825 C 40.976531 128.97825 36.851531 124.85325 36.851531 119.763406 C 36.851531 114.677469 40.976531 110.552469 46.062469 110.552469 C 51.152313 110.552469 55.277313 114.677469 55.277313 119.763406 Z M 55.277313 119.763406 \" style=\"fill-rule:nonzero;fill:rgb(100%,100%,100%);fill-opacity:1;stroke-width:1.59404;stroke-linecap:butt;stroke-linejoin:miter;stroke:rgb(89.411926%,10.195923%,10.978699%);stroke-opacity:1;stroke-miterlimit:10;\" transform=\"matrix(1,0,0,-1,20.418,240.322)\"/>\n",
       "<path d=\"M 40.535125 112.556375 L 40.996063 112.626687 L 41.457 112.732156 L 41.917938 112.880594 L 42.378875 113.091531 L 42.839813 113.388406 L 43.296844 113.798562 L 43.757781 114.35325 L 44.218719 115.079812 L 44.679656 116.005594 L 45.140594 117.118875 L 45.601531 118.396219 L 46.523406 121.122781 L 46.984344 122.400125 L 47.441375 123.517312 L 47.902313 124.439187 L 48.36325 125.169656 L 48.824188 125.72825 L 49.285125 126.138406 L 49.746063 126.435281 L 50.207 126.646219 L 50.667938 126.794656 L 51.128875 126.900125 L 51.589813 126.970437 \" style=\"fill:none;stroke-width:1.59404;stroke-linecap:butt;stroke-linejoin:miter;stroke:rgb(89.411926%,10.195923%,10.978699%);stroke-opacity:1;stroke-miterlimit:10;\" transform=\"matrix(1,0,0,-1,20.418,240.322)\"/>\n",
       "<g style=\"fill:rgb(0%,0%,0%);fill-opacity:1;\">\n",
       "  <use x=\"79.212\" xlink:href=\"#glyph1-1\" y=\"123.609\"/>\n",
       "  <use x=\"83.141249\" xlink:href=\"#glyph1-2\" y=\"123.609\"/>\n",
       "  <use x=\"85.90886\" xlink:href=\"#glyph1-3\" y=\"123.609\"/>\n",
       "  <use x=\"90.89016\" xlink:href=\"#glyph1-4\" y=\"123.609\"/>\n",
       "  <use x=\"99.191994\" xlink:href=\"#glyph1-5\" y=\"123.609\"/>\n",
       "  <use x=\"104.173294\" xlink:href=\"#glyph1-2\" y=\"123.609\"/>\n",
       "  <use x=\"106.940905\" xlink:href=\"#glyph1-6\" y=\"123.609\"/>\n",
       "  <use x=\"112.476125\" xlink:href=\"#glyph1-7\" y=\"123.609\"/>\n",
       "</g>\n",
       "<g style=\"fill:rgb(0%,0%,0%);fill-opacity:1;\">\n",
       "  <use x=\"116.351\" xlink:href=\"#glyph0-2\" y=\"123.609\"/>\n",
       "</g>\n",
       "<g style=\"fill:rgb(0%,0%,0%);fill-opacity:1;\">\n",
       "  <use x=\"128.354\" xlink:href=\"#glyph2-1\" y=\"119.347\"/>\n",
       "</g>\n",
       "<g style=\"fill:rgb(0%,0%,0%);fill-opacity:1;\">\n",
       "  <use x=\"132.326\" xlink:href=\"#glyph3-1\" y=\"119.347\"/>\n",
       "</g>\n",
       "<g style=\"fill:rgb(0%,0%,0%);fill-opacity:1;\">\n",
       "  <use x=\"138.552\" xlink:href=\"#glyph2-1\" y=\"119.347\"/>\n",
       "</g>\n",
       "<g style=\"fill:rgb(0%,0%,0%);fill-opacity:1;\">\n",
       "  <use x=\"128.195\" xlink:href=\"#glyph2-4\" y=\"126.266\"/>\n",
       "</g>\n",
       "<g style=\"fill:rgb(0%,0%,0%);fill-opacity:1;\">\n",
       "  <use x=\"143.022\" xlink:href=\"#glyph0-4\" y=\"123.609\"/>\n",
       "</g>\n",
       "<g style=\"fill:rgb(0%,0%,0%);fill-opacity:1;\">\n",
       "  <use x=\"149.387\" xlink:href=\"#glyph2-3\" y=\"125.103\"/>\n",
       "</g>\n",
       "<g style=\"fill:rgb(0%,0%,0%);fill-opacity:1;\">\n",
       "  <use x=\"156.07\" xlink:href=\"#glyph1-8\" y=\"123.609\"/>\n",
       "</g>\n",
       "<g style=\"fill:rgb(0%,0%,0%);fill-opacity:1;\">\n",
       "  <use x=\"166.033\" xlink:href=\"#glyph0-3\" y=\"123.609\"/>\n",
       "</g>\n",
       "<g style=\"fill:rgb(0%,0%,0%);fill-opacity:1;\">\n",
       "  <use x=\"172.398\" xlink:href=\"#glyph2-4\" y=\"125.103\"/>\n",
       "</g>\n",
       "<g style=\"fill:rgb(0%,0%,0%);fill-opacity:1;\">\n",
       "  <use x=\"176.867\" xlink:href=\"#glyph1-9\" y=\"123.609\"/>\n",
       "</g>\n",
       "<path d=\"M 18.42575 147.400125 L 73.699187 147.400125 M 18.42575 165.822 L 73.699187 165.822 M 18.42575 147.400125 L 18.42575 165.825906 M 36.851531 147.400125 L 36.851531 165.825906 M 55.277313 147.400125 L 55.277313 165.825906 M 73.695281 147.400125 L 73.695281 165.825906 \" style=\"fill:none;stroke-width:1.59404;stroke-linecap:butt;stroke-linejoin:miter;stroke:rgb(0%,0%,0%);stroke-opacity:1;stroke-miterlimit:10;\" transform=\"matrix(1,0,0,-1,20.418,240.322)\"/>\n",
       "<g style=\"fill:rgb(0%,0%,0%);fill-opacity:1;\">\n",
       "  <use x=\"24.488\" xlink:href=\"#glyph0-4\" y=\"86.421\"/>\n",
       "</g>\n",
       "<g style=\"fill:rgb(0%,0%,0%);fill-opacity:1;\">\n",
       "  <use x=\"30.853\" xlink:href=\"#glyph2-4\" y=\"87.916\"/>\n",
       "</g>\n",
       "<path d=\"M 46.062469 165.825906 L 46.062469 218.79075 \" style=\"fill:none;stroke-width:1.59404;stroke-linecap:butt;stroke-linejoin:miter;stroke:rgb(0%,0%,0%);stroke-opacity:1;stroke-miterlimit:10;\" transform=\"matrix(1,0,0,-1,20.418,240.322)\"/>\n",
       "<path d=\"M 1.514705 0.00064125 C -0.379826 0.379548 -2.270451 1.13736 -4.543889 2.461579 C -2.270451 0.758454 -2.270451 -0.757171 -4.543889 -2.460296 C -2.270451 -1.136077 -0.379826 -0.378265 1.514705 0.00064125 Z M 1.514705 0.00064125 \" style=\"fill-rule:nonzero;fill:rgb(0%,0%,0%);fill-opacity:1;stroke-width:1.59404;stroke-linecap:butt;stroke-linejoin:round;stroke:rgb(0%,0%,0%);stroke-opacity:1;stroke-miterlimit:10;\" transform=\"matrix(0,-1,-1,0,66.48111,21.53033)\"/>\n",
       "<path d=\"M 55.277313 193.466531 C 55.277313 198.552469 51.152313 202.677469 46.062469 202.677469 C 40.976531 202.677469 36.851531 198.552469 36.851531 193.466531 C 36.851531 188.376687 40.976531 184.251687 46.062469 184.251687 C 51.152313 184.251687 55.277313 188.376687 55.277313 193.466531 Z M 55.277313 193.466531 \" style=\"fill-rule:nonzero;fill:rgb(100%,100%,100%);fill-opacity:1;stroke-width:1.59404;stroke-linecap:butt;stroke-linejoin:miter;stroke:rgb(89.411926%,10.195923%,10.978699%);stroke-opacity:1;stroke-miterlimit:10;\" transform=\"matrix(1,0,0,-1,20.418,240.322)\"/>\n",
       "<path d=\"M 40.535125 186.255594 L 40.996063 186.329812 L 41.457 186.435281 L 41.917938 186.583719 L 42.378875 186.794656 L 42.839813 187.091531 L 43.296844 187.501687 L 43.757781 188.052469 L 44.218719 188.782937 L 44.679656 189.704812 L 45.140594 190.822 L 45.601531 192.095437 L 46.062469 193.458719 L 46.523406 194.825906 L 46.984344 196.10325 L 47.441375 197.216531 L 47.902313 198.142312 L 48.36325 198.872781 L 48.824188 199.427469 L 49.285125 199.837625 L 49.746063 200.1345 L 50.207 200.345437 L 50.667938 200.493875 L 51.128875 200.599344 L 51.589813 200.673562 \" style=\"fill:none;stroke-width:1.59404;stroke-linecap:butt;stroke-linejoin:miter;stroke:rgb(89.411926%,10.195923%,10.978699%);stroke-opacity:1;stroke-miterlimit:10;\" transform=\"matrix(1,0,0,-1,20.418,240.322)\"/>\n",
       "<g style=\"fill:rgb(0%,0%,0%);fill-opacity:1;\">\n",
       "  <use x=\"79.212\" xlink:href=\"#glyph1-1\" y=\"49.909\"/>\n",
       "  <use x=\"83.141249\" xlink:href=\"#glyph1-2\" y=\"49.909\"/>\n",
       "  <use x=\"85.90886\" xlink:href=\"#glyph1-3\" y=\"49.909\"/>\n",
       "  <use x=\"90.89016\" xlink:href=\"#glyph1-4\" y=\"49.909\"/>\n",
       "  <use x=\"99.191994\" xlink:href=\"#glyph1-5\" y=\"49.909\"/>\n",
       "  <use x=\"104.173294\" xlink:href=\"#glyph1-2\" y=\"49.909\"/>\n",
       "  <use x=\"106.940905\" xlink:href=\"#glyph1-6\" y=\"49.909\"/>\n",
       "  <use x=\"112.476125\" xlink:href=\"#glyph1-7\" y=\"49.909\"/>\n",
       "</g>\n",
       "<g style=\"fill:rgb(0%,0%,0%);fill-opacity:1;\">\n",
       "  <use x=\"116.351\" xlink:href=\"#glyph0-2\" y=\"49.909\"/>\n",
       "</g>\n",
       "<g style=\"fill:rgb(0%,0%,0%);fill-opacity:1;\">\n",
       "  <use x=\"128.354\" xlink:href=\"#glyph2-3\" y=\"45.647\"/>\n",
       "</g>\n",
       "<g style=\"fill:rgb(0%,0%,0%);fill-opacity:1;\">\n",
       "  <use x=\"132.326\" xlink:href=\"#glyph3-1\" y=\"45.647\"/>\n",
       "</g>\n",
       "<g style=\"fill:rgb(0%,0%,0%);fill-opacity:1;\">\n",
       "  <use x=\"138.552\" xlink:href=\"#glyph2-1\" y=\"45.647\"/>\n",
       "</g>\n",
       "<g style=\"fill:rgb(0%,0%,0%);fill-opacity:1;\">\n",
       "  <use x=\"128.195\" xlink:href=\"#glyph2-1\" y=\"52.566\"/>\n",
       "</g>\n",
       "<g style=\"fill:rgb(0%,0%,0%);fill-opacity:1;\">\n",
       "  <use x=\"143.022\" xlink:href=\"#glyph0-4\" y=\"49.909\"/>\n",
       "</g>\n",
       "<g style=\"fill:rgb(0%,0%,0%);fill-opacity:1;\">\n",
       "  <use x=\"149.387\" xlink:href=\"#glyph2-4\" y=\"51.403\"/>\n",
       "</g>\n",
       "<g style=\"fill:rgb(0%,0%,0%);fill-opacity:1;\">\n",
       "  <use x=\"156.07\" xlink:href=\"#glyph1-8\" y=\"49.909\"/>\n",
       "</g>\n",
       "<g style=\"fill:rgb(0%,0%,0%);fill-opacity:1;\">\n",
       "  <use x=\"166.033\" xlink:href=\"#glyph0-3\" y=\"49.909\"/>\n",
       "</g>\n",
       "<g style=\"fill:rgb(0%,0%,0%);fill-opacity:1;\">\n",
       "  <use x=\"172.398\" xlink:href=\"#glyph2-1\" y=\"51.403\"/>\n",
       "</g>\n",
       "<g style=\"fill:rgb(0%,0%,0%);fill-opacity:1;\">\n",
       "  <use x=\"176.867\" xlink:href=\"#glyph1-9\" y=\"49.909\"/>\n",
       "</g>\n",
       "<path d=\"M 36.851531 221.10325 L 55.277313 221.10325 M 36.851531 239.521219 L 55.277313 239.521219 M 36.851531 221.10325 L 36.851531 239.529031 M 55.2695 221.10325 L 55.2695 239.529031 \" style=\"fill:none;stroke-width:1.59404;stroke-linecap:butt;stroke-linejoin:miter;stroke:rgb(0%,0%,0%);stroke-opacity:1;stroke-miterlimit:10;\" transform=\"matrix(1,0,0,-1,20.418,240.322)\"/>\n",
       "<g style=\"fill:rgb(0%,0%,0%);fill-opacity:1;\">\n",
       "  <use x=\"47.542\" xlink:href=\"#glyph0-5\" y=\"11.255\"/>\n",
       "</g>\n",
       "<path d=\"M -18.425812 9.212625 L -18.425812 225.372781 \" style=\"fill:none;stroke-width:3.9851;stroke-linecap:butt;stroke-linejoin:miter;stroke:rgb(21.569824%,49.412537%,72.155762%);stroke-opacity:1;stroke-miterlimit:10;\" transform=\"matrix(1,0,0,-1,20.418,240.322)\"/>\n",
       "<path d=\"M 2.9479 0.0005825 C -0.735694 0.738864 -4.423194 2.21152 -8.845069 4.793551 C -4.423194 1.473239 -4.423194 -1.47598 -8.845069 -4.792386 C -4.423194 -2.210355 -0.735694 -0.737699 2.9479 0.0005825 Z M 2.9479 0.0005825 \" style=\"fill-rule:nonzero;fill:rgb(21.569824%,49.412537%,72.155762%);fill-opacity:1;stroke-width:3.9851;stroke-linecap:butt;stroke-linejoin:round;stroke:rgb(21.569824%,49.412537%,72.155762%);stroke-opacity:1;stroke-miterlimit:10;\" transform=\"matrix(0,-1,-1,0,1.99277,14.9479)\"/>\n",
       "<path d=\"M 184.253875 221.10325 L 184.253875 170.767312 \" style=\"fill:none;stroke-width:3.9851;stroke-linecap:butt;stroke-linejoin:miter;stroke:rgb(89.411926%,10.195923%,10.978699%);stroke-opacity:1;stroke-miterlimit:10;\" transform=\"matrix(1,0,0,-1,20.418,240.322)\"/>\n",
       "<path d=\"M 2.950716 0.001355 C -0.736784 0.73573 -4.424284 2.212292 -8.846159 4.790417 C -4.424284 1.474011 -4.424284 -1.475208 -8.846159 -4.791614 C -4.424284 -2.213489 -0.736784 -0.736926 2.950716 0.001355 Z M 2.950716 0.001355 \" style=\"fill-rule:nonzero;fill:rgb(89.411926%,10.195923%,10.978699%);fill-opacity:1;stroke-width:3.9851;stroke-linecap:butt;stroke-linejoin:round;stroke:rgb(89.411926%,10.195923%,10.978699%);stroke-opacity:1;stroke-miterlimit:10;\" transform=\"matrix(0,1,1,0,204.67052,69.55319)\"/>\n",
       "<g style=\"fill:rgb(89.411926%,10.195923%,10.978699%);fill-opacity:1;\">\n",
       "  <use x=\"198.643\" xlink:href=\"#glyph4-2\" y=\"12.5\"/>\n",
       "</g>\n",
       "<g style=\"fill:rgb(89.411926%,10.195923%,10.978699%);fill-opacity:1;\">\n",
       "  <use x=\"204.486\" xlink:href=\"#glyph0-5\" y=\"12.5\"/>\n",
       "</g>\n",
       "<g style=\"fill:rgb(89.411926%,10.195923%,10.978699%);fill-opacity:1;\">\n",
       "  <use x=\"196.329\" xlink:href=\"#glyph4-2\" y=\"86.421\"/>\n",
       "</g>\n",
       "<g style=\"fill:rgb(89.411926%,10.195923%,10.978699%);fill-opacity:1;\">\n",
       "  <use x=\"202.172\" xlink:href=\"#glyph0-4\" y=\"86.421\"/>\n",
       "</g>\n",
       "<g style=\"fill:rgb(89.411926%,10.195923%,10.978699%);fill-opacity:1;\">\n",
       "  <use x=\"208.537\" xlink:href=\"#glyph2-4\" y=\"87.916\"/>\n",
       "</g>\n",
       "<g style=\"fill:rgb(89.411926%,10.195923%,10.978699%);fill-opacity:1;\">\n",
       "  <use x=\"217.4\" xlink:href=\"#glyph4-2\" y=\"49.909\"/>\n",
       "</g>\n",
       "<g style=\"fill:rgb(89.411926%,10.195923%,10.978699%);fill-opacity:1;\">\n",
       "  <use x=\"223.243\" xlink:href=\"#glyph0-2\" y=\"49.909\"/>\n",
       "</g>\n",
       "<g style=\"fill:rgb(89.411926%,10.195923%,10.978699%);fill-opacity:1;\">\n",
       "  <use x=\"235.246\" xlink:href=\"#glyph2-3\" y=\"45.647\"/>\n",
       "</g>\n",
       "<g style=\"fill:rgb(89.411926%,10.195923%,10.978699%);fill-opacity:1;\">\n",
       "  <use x=\"239.217\" xlink:href=\"#glyph3-1\" y=\"45.647\"/>\n",
       "</g>\n",
       "<g style=\"fill:rgb(89.411926%,10.195923%,10.978699%);fill-opacity:1;\">\n",
       "  <use x=\"245.444\" xlink:href=\"#glyph2-1\" y=\"45.647\"/>\n",
       "</g>\n",
       "<g style=\"fill:rgb(89.411926%,10.195923%,10.978699%);fill-opacity:1;\">\n",
       "  <use x=\"235.087\" xlink:href=\"#glyph2-1\" y=\"52.566\"/>\n",
       "</g>\n",
       "<g style=\"fill:rgb(89.411926%,10.195923%,10.978699%);fill-opacity:1;\">\n",
       "  <use x=\"249.913\" xlink:href=\"#glyph4-3\" y=\"49.909\"/>\n",
       "</g>\n",
       "<g style=\"fill:rgb(89.411926%,10.195923%,10.978699%);fill-opacity:1;\">\n",
       "  <use x=\"254.344364\" xlink:href=\"#glyph4-2\" y=\"49.909\"/>\n",
       "</g>\n",
       "<g style=\"fill:rgb(89.411926%,10.195923%,10.978699%);fill-opacity:1;\">\n",
       "  <use x=\"260.184\" xlink:href=\"#glyph0-3\" y=\"49.909\"/>\n",
       "</g>\n",
       "<g style=\"fill:rgb(89.411926%,10.195923%,10.978699%);fill-opacity:1;\">\n",
       "  <use x=\"266.549\" xlink:href=\"#glyph2-1\" y=\"51.403\"/>\n",
       "</g>\n",
       "<path d=\"M 184.253875 147.400125 L 184.253875 97.068094 \" style=\"fill:none;stroke-width:3.9851;stroke-linecap:butt;stroke-linejoin:miter;stroke:rgb(89.411926%,10.195923%,10.978699%);stroke-opacity:1;stroke-miterlimit:10;\" transform=\"matrix(1,0,0,-1,20.418,240.322)\"/>\n",
       "<path d=\"M 2.948925 0.001355 C -0.738575 0.73573 -4.422169 2.212292 -8.84795 4.790417 C -4.422169 1.474011 -4.422169 -1.475208 -8.84795 -4.791614 C -4.422169 -2.213489 -0.738575 -0.736926 2.948925 0.001355 Z M 2.948925 0.001355 \" style=\"fill-rule:nonzero;fill:rgb(89.411926%,10.195923%,10.978699%);fill-opacity:1;stroke-width:3.9851;stroke-linecap:butt;stroke-linejoin:round;stroke:rgb(89.411926%,10.195923%,10.978699%);stroke-opacity:1;stroke-miterlimit:10;\" transform=\"matrix(0,1,1,0,204.67052,143.2542)\"/>\n",
       "<g style=\"fill:rgb(89.411926%,10.195923%,10.978699%);fill-opacity:1;\">\n",
       "  <use x=\"196.329\" xlink:href=\"#glyph4-2\" y=\"160.121\"/>\n",
       "</g>\n",
       "<g style=\"fill:rgb(89.411926%,10.195923%,10.978699%);fill-opacity:1;\">\n",
       "  <use x=\"202.172\" xlink:href=\"#glyph0-4\" y=\"160.121\"/>\n",
       "</g>\n",
       "<g style=\"fill:rgb(89.411926%,10.195923%,10.978699%);fill-opacity:1;\">\n",
       "  <use x=\"208.537\" xlink:href=\"#glyph2-3\" y=\"161.616\"/>\n",
       "</g>\n",
       "<g style=\"fill:rgb(89.411926%,10.195923%,10.978699%);fill-opacity:1;\">\n",
       "  <use x=\"217.4\" xlink:href=\"#glyph4-2\" y=\"123.609\"/>\n",
       "</g>\n",
       "<g style=\"fill:rgb(89.411926%,10.195923%,10.978699%);fill-opacity:1;\">\n",
       "  <use x=\"223.243\" xlink:href=\"#glyph0-2\" y=\"123.609\"/>\n",
       "</g>\n",
       "<g style=\"fill:rgb(89.411926%,10.195923%,10.978699%);fill-opacity:1;\">\n",
       "  <use x=\"235.246\" xlink:href=\"#glyph2-1\" y=\"119.347\"/>\n",
       "</g>\n",
       "<g style=\"fill:rgb(89.411926%,10.195923%,10.978699%);fill-opacity:1;\">\n",
       "  <use x=\"239.217\" xlink:href=\"#glyph3-1\" y=\"119.347\"/>\n",
       "</g>\n",
       "<g style=\"fill:rgb(89.411926%,10.195923%,10.978699%);fill-opacity:1;\">\n",
       "  <use x=\"245.444\" xlink:href=\"#glyph2-1\" y=\"119.347\"/>\n",
       "</g>\n",
       "<g style=\"fill:rgb(89.411926%,10.195923%,10.978699%);fill-opacity:1;\">\n",
       "  <use x=\"235.087\" xlink:href=\"#glyph2-4\" y=\"126.266\"/>\n",
       "</g>\n",
       "<g style=\"fill:rgb(89.411926%,10.195923%,10.978699%);fill-opacity:1;\">\n",
       "  <use x=\"249.913\" xlink:href=\"#glyph4-3\" y=\"123.609\"/>\n",
       "</g>\n",
       "<g style=\"fill:rgb(89.411926%,10.195923%,10.978699%);fill-opacity:1;\">\n",
       "  <use x=\"254.344364\" xlink:href=\"#glyph4-2\" y=\"123.609\"/>\n",
       "</g>\n",
       "<g style=\"fill:rgb(89.411926%,10.195923%,10.978699%);fill-opacity:1;\">\n",
       "  <use x=\"260.184\" xlink:href=\"#glyph0-3\" y=\"123.609\"/>\n",
       "</g>\n",
       "<g style=\"fill:rgb(89.411926%,10.195923%,10.978699%);fill-opacity:1;\">\n",
       "  <use x=\"266.549\" xlink:href=\"#glyph2-4\" y=\"125.103\"/>\n",
       "</g>\n",
       "<path d=\"M 184.253875 73.700906 L 184.253875 23.364969 \" style=\"fill:none;stroke-width:3.9851;stroke-linecap:butt;stroke-linejoin:miter;stroke:rgb(89.411926%,10.195923%,10.978699%);stroke-opacity:1;stroke-miterlimit:10;\" transform=\"matrix(1,0,0,-1,20.418,240.322)\"/>\n",
       "<path d=\"M 2.947134 0.001355 C -0.73646 0.73573 -4.42396 2.212292 -8.845835 4.790417 C -4.42396 1.474011 -4.42396 -1.475208 -8.845835 -4.791614 C -4.42396 -2.213489 -0.73646 -0.736926 2.947134 0.001355 Z M 2.947134 0.001355 \" style=\"fill-rule:nonzero;fill:rgb(89.411926%,10.195923%,10.978699%);fill-opacity:1;stroke-width:3.9851;stroke-linecap:butt;stroke-linejoin:round;stroke:rgb(89.411926%,10.195923%,10.978699%);stroke-opacity:1;stroke-miterlimit:10;\" transform=\"matrix(0,1,1,0,204.67052,216.95521)\"/>\n",
       "<g style=\"fill:rgb(89.411926%,10.195923%,10.978699%);fill-opacity:1;\">\n",
       "  <use x=\"198.723\" xlink:href=\"#glyph4-2\" y=\"234.569\"/>\n",
       "</g>\n",
       "<g style=\"fill:rgb(89.411926%,10.195923%,10.978699%);fill-opacity:1;\">\n",
       "  <use x=\"204.566\" xlink:href=\"#glyph0-1\" y=\"234.569\"/>\n",
       "</g>\n",
       "<g style=\"fill:rgb(89.411926%,10.195923%,10.978699%);fill-opacity:1;\">\n",
       "  <use x=\"217.4\" xlink:href=\"#glyph4-2\" y=\"197.309\"/>\n",
       "</g>\n",
       "<g style=\"fill:rgb(89.411926%,10.195923%,10.978699%);fill-opacity:1;\">\n",
       "  <use x=\"223.243\" xlink:href=\"#glyph0-2\" y=\"197.309\"/>\n",
       "</g>\n",
       "<g style=\"fill:rgb(89.411926%,10.195923%,10.978699%);fill-opacity:1;\">\n",
       "  <use x=\"235.246\" xlink:href=\"#glyph2-1\" y=\"193.047\"/>\n",
       "</g>\n",
       "<g style=\"fill:rgb(89.411926%,10.195923%,10.978699%);fill-opacity:1;\">\n",
       "  <use x=\"239.217\" xlink:href=\"#glyph3-1\" y=\"193.047\"/>\n",
       "</g>\n",
       "<g style=\"fill:rgb(89.411926%,10.195923%,10.978699%);fill-opacity:1;\">\n",
       "  <use x=\"245.444\" xlink:href=\"#glyph2-2\" y=\"193.047\"/>\n",
       "</g>\n",
       "<g style=\"fill:rgb(89.411926%,10.195923%,10.978699%);fill-opacity:1;\">\n",
       "  <use x=\"235.087\" xlink:href=\"#glyph2-4\" y=\"199.966\"/>\n",
       "</g>\n",
       "<g style=\"fill:rgb(89.411926%,10.195923%,10.978699%);fill-opacity:1;\">\n",
       "  <use x=\"249.913\" xlink:href=\"#glyph4-3\" y=\"197.309\"/>\n",
       "</g>\n",
       "<g style=\"fill:rgb(89.411926%,10.195923%,10.978699%);fill-opacity:1;\">\n",
       "  <use x=\"254.344364\" xlink:href=\"#glyph4-2\" y=\"197.309\"/>\n",
       "</g>\n",
       "<g style=\"fill:rgb(89.411926%,10.195923%,10.978699%);fill-opacity:1;\">\n",
       "  <use x=\"260.184\" xlink:href=\"#glyph0-3\" y=\"197.309\"/>\n",
       "</g>\n",
       "<g style=\"fill:rgb(89.411926%,10.195923%,10.978699%);fill-opacity:1;\">\n",
       "  <use x=\"266.549\" xlink:href=\"#glyph2-3\" y=\"198.804\"/>\n",
       "</g>\n",
       "</g>\n",
       "</svg>"
      ]
     },
     "metadata": {
      "isolated": "true"
     },
     "output_type": "display_data"
    }
   ],
   "source": [
    "%%tikz -l arrows -s 1000,600 -sc 0.65 -f svg\n",
    "\n",
    "\\definecolor{nice-red}{HTML}{E41A1C}\n",
    "\\definecolor{nice-orange}{HTML}{FF7F00}\n",
    "\\definecolor{nice-yellow}{HTML}{FFC020}\n",
    "\\definecolor{nice-green}{HTML}{4DAF4A}\n",
    "\\definecolor{nice-blue}{HTML}{377EB8}\n",
    "\\definecolor{nice-purple}{HTML}{984EA3}\n",
    "\n",
    "%x\n",
    "\\draw[ultra thick] (0,0) grid (5,1);\n",
    "\\node[anchor = east] at (0,0.5) {$\\mathbf{x}$};\n",
    "\\draw[->, >=stealth', ultra thick] (2.5,1) -- (2.5,4);\n",
    "\\begin{scope}[shift={(2.5,2.5)},scale=1.0]\n",
    "    \\draw[ultra thick, color=nice-red, fill=white] (0,0) circle (0.5cm);\n",
    "    \\draw[ultra thick, yshift=-0.5cm, color=nice-red] plot [domain=-0.3:0.3](\\x, {(0.8/(1+exp(-15*\\x))+0.1)});\n",
    "\\end{scope}    \n",
    "\\node[anchor=west] at (3,2.5) {sigmoid$(\\mathbf{W}^{3\\times 5}_1x+\\mathbf{b}_1)$};\n",
    "      \n",
    "%1st hidden layer\n",
    "\\draw[ultra thick] (1,4) grid (4,5);\n",
    "\\node[anchor = east] at (1.0,4.5) {$\\mathbf{h}_1$};      \n",
    "\\draw[->, >=stealth', ultra thick] (2.5,5) -- (2.5,8);      \n",
    "\\begin{scope}[shift={(2.5,6.5)},scale=1.0]\n",
    "    \\draw[ultra thick, color=nice-red, fill=white] (0,0) circle (0.5cm);\n",
    "    \\draw[ultra thick, yshift=-0.5cm, color=nice-red] plot [domain=-0.3:0.3](\\x, {(0.8/(1+exp(-15*\\x))+0.1)});\n",
    "\\end{scope}         \n",
    "\\node[anchor=west] at (3,6.5) {sigmoid$(\\mathbf{W}^{3\\times 3}_2\\mathbf{h}_1+\\mathbf{b}_2)$};\n",
    "      \n",
    "%2nd hidden layer\n",
    "\\draw[ultra thick] (1,8) grid (4,9);\n",
    "\\node[anchor = east] at (1.0,8.5) {$\\mathbf{h}_2$};            \n",
    "\\draw[->, >=stealth', ultra thick] (2.5,9) -- (2.5,12);            \n",
    "\\begin{scope}[shift={(2.5,10.5)},scale=1.0]\n",
    "    \\draw[ultra thick, color=nice-red, fill=white] (0,0) circle (0.5cm);\n",
    "    \\draw[ultra thick, yshift=-0.5cm, color=nice-red] plot [domain=-0.3:0.3](\\x, {(0.8/(1+exp(-15*\\x))+0.1)});\n",
    "\\end{scope}         \n",
    "\\node[anchor=west] at (3,10.5) {sigmoid$(\\mathbf{W}^{1\\times 3}_3\\mathbf{h}_2+\\mathbf{b}_3)$};  \n",
    "      \n",
    "%output\n",
    "\\draw[ultra thick] (2,12) grid (3,13);\n",
    "\\node[anchor = east] at (2.0,12.5) {$\\mathbf{y}$};            \n",
    "      \n",
    "\\draw[->, >=stealth', line width=4pt, color=nice-blue] (-1,0.5) -- (-1,12.5);  \n",
    "%\\node[anchor=east, nice-blue, font=\\large, text width=5em] at (-1,7) {Forward};   \n",
    "      \n",
    "\\draw[->, >=stealth', line width=4pt, color=nice-red] (10,12) -- (10,9);  \n",
    "\\node[nice-red] at (10,12.5) {$\\partial\\mathbf{y}$};      \n",
    "\\node[nice-red] at (10,8.5) {$\\partial\\mathbf{h}_2$};      \n",
    "\\node[anchor=west, nice-red] at (10.5,10.5) {$\\partial\\mathbf{W}^{1 \\times 3}_3, \\partial\\mathbf{b}_3$};      \n",
    "\\draw[->, >=stealth', line width=4pt, color=nice-red] (10,8) -- (10,5);  \n",
    "\\node[nice-red] at (10,4.5) {$\\partial\\mathbf{h}_1$};      \n",
    "\\node[anchor=west, nice-red] at (10.5,6.5) {$\\partial\\mathbf{W}^{3 \\times 3}_2, \\partial\\mathbf{b}_2$};      \n",
    "\\draw[->, >=stealth', line width=4pt, color=nice-red] (10,4) -- (10,1);  \n",
    "\\node[nice-red] at (10,0.5) {$\\partial\\mathbf{x}$};      \n",
    "\\node[anchor=west, nice-red] at (10.5,2.5) {$\\partial\\mathbf{W}^{3 \\times 5}_2, \\partial\\mathbf{b}_1$};      \n",
    "\n",
    "       "
   ]
  },
  {
   "cell_type": "markdown",
   "metadata": {
    "slideshow": {
     "slide_type": "slide"
    }
   },
   "source": [
    "## Deep Learning Libraries\n",
    "- Torch7\n",
    "- Wolfe\n",
    "- Theano\n",
    "- DeepLearning4J\n",
    "- autograd\n",
    "- TensorFlow\n",
    "- ..."
   ]
  },
  {
   "cell_type": "markdown",
   "metadata": {
    "slideshow": {
     "slide_type": "slide"
    }
   },
   "source": [
    "<img  src=\"tensorflow.jpg\"/>"
   ]
  },
  {
   "cell_type": "markdown",
   "metadata": {
    "slideshow": {
     "slide_type": "slide"
    }
   },
   "source": [
    "## Logistic Regression"
   ]
  },
  {
   "cell_type": "code",
   "execution_count": 601,
   "metadata": {
    "collapsed": false
   },
   "outputs": [],
   "source": [
    "import tensorflow as tf\n",
    "seed = 0\n",
    "#input\n",
    "x = tf.placeholder(\"float\")\n",
    "#parameters\n",
    "W = tf.Variable(tf.random_uniform([1,3], -0.1, 0.1, seed=seed))\n",
    "b = tf.Variable(tf.zeros([1,1]))\n",
    "#f_theta\n",
    "z = tf.nn.sigmoid(tf.matmul(W,x) + b) #sigmoid(Wx + b)"
   ]
  },
  {
   "cell_type": "code",
   "execution_count": 604,
   "metadata": {
    "collapsed": false,
    "slideshow": {
     "slide_type": "fragment"
    }
   },
   "outputs": [
    {
     "data": {
      "text/plain": [
       "array([[ 0.06253929, -0.08428507,  0.0783371 ]], dtype=float32)"
      ]
     },
     "execution_count": 604,
     "metadata": {},
     "output_type": "execute_result"
    }
   ],
   "source": [
    "sess = tf.Session()\n",
    "sess.run(tf.initialize_all_variables()) #initialize W and b\n",
    "sess.run(W)"
   ]
  },
  {
   "cell_type": "code",
   "execution_count": 605,
   "metadata": {
    "collapsed": false,
    "slideshow": {
     "slide_type": "fragment"
    }
   },
   "outputs": [
    {
     "data": {
      "text/plain": [
       "array([[ 0.]], dtype=float32)"
      ]
     },
     "execution_count": 605,
     "metadata": {},
     "output_type": "execute_result"
    }
   ],
   "source": [
    "sess.run(b)"
   ]
  },
  {
   "cell_type": "markdown",
   "metadata": {
    "slideshow": {
     "slide_type": "slide"
    }
   },
   "source": [
    "## Logistic Regression cont."
   ]
  },
  {
   "cell_type": "markdown",
   "metadata": {},
   "source": [
    "Forward: $\\mathbf{z} = f_\\theta(\\mathbf{x})$"
   ]
  },
  {
   "cell_type": "code",
   "execution_count": 609,
   "metadata": {
    "collapsed": false
   },
   "outputs": [
    {
     "data": {
      "text/plain": [
       "array([[ 0.5596692]], dtype=float32)"
      ]
     },
     "execution_count": 609,
     "metadata": {},
     "output_type": "execute_result"
    }
   ],
   "source": [
    "sess.run(z, feed_dict={x: [[-5.5],[2.0],[-0.5]]})"
   ]
  },
  {
   "cell_type": "code",
   "execution_count": null,
   "metadata": {
    "collapsed": true
   },
   "outputs": [],
   "source": []
  },
  {
   "cell_type": "markdown",
   "metadata": {
    "slideshow": {
     "slide_type": "fragment"
    }
   },
   "source": [
    "Backward: $\\partial\\mathbf{W},\\partial\\mathbf{b},\\partial\\mathbf{x}$ given upstream gradient $\\partial\\mathbf{z}$"
   ]
  },
  {
   "cell_type": "code",
   "execution_count": 611,
   "metadata": {
    "collapsed": false,
    "slideshow": {
     "slide_type": "-"
    }
   },
   "outputs": [
    {
     "data": {
      "text/plain": [
       "[array([[-0.13228811,  0.04810477, -0.01202619]], dtype=float32),\n",
       " array([[ 0.02405239]], dtype=float32),\n",
       " array([[ -1.91455160e-03],\n",
       "        [ -5.02410170e-04],\n",
       "        [  7.70968909e-05]], dtype=float32)]"
      ]
     },
     "execution_count": 611,
     "metadata": {},
     "output_type": "execute_result"
    }
   ],
   "source": [
    "sess.run(tf.initialize_all_variables())\n",
    "gradz = [[0.1]] \n",
    "grad = tf.gradients(z,[W, b, x], grad_ys=gradz)\n",
    "sess.run(grad, feed_dict={x: [[-5.5],[2.0],[-0.5]]})"
   ]
  },
  {
   "cell_type": "markdown",
   "metadata": {
    "slideshow": {
     "slide_type": "slide"
    }
   },
   "source": [
    "## Logistic Regression cont."
   ]
  },
  {
   "cell_type": "code",
   "execution_count": 363,
   "metadata": {
    "collapsed": false
   },
   "outputs": [
    {
     "data": {
      "image/png": "[encoded data removed]",
      "text/plain": [
       "<matplotlib.figure.Figure at 0x1143992d0>"
      ]
     },
     "metadata": {},
     "output_type": "display_data"
    }
   ],
   "source": [
    "import matplotlib.pyplot as plt\n",
    "%matplotlib inline \n",
    "\n",
    "N = 500 #number of training examples\n",
    "X = np.random.uniform(-1,1,size=[N,3]) #input data\n",
    "Y = list()\n",
    "for i in range(N):\n",
    "    ex = X[i]\n",
    "    Y.append(1 / (1 + np.exp(-sum(ex)*3.5 - 4.0 + np.random.normal(0.05))))\n",
    "\n",
    "Xsum = sum(X, axis=1)\n",
    "plt.plot(Xsum, Y, 'ro')\n",
    "plt.show()    "
   ]
  },
  {
   "cell_type": "markdown",
   "metadata": {
    "slideshow": {
     "slide_type": "slide"
    }
   },
   "source": [
    "## Logistic Regression cont."
   ]
  },
  {
   "cell_type": "code",
   "execution_count": 364,
   "metadata": {
    "collapsed": false
   },
   "outputs": [],
   "source": [
    "y = tf.placeholder(\"float\")\n",
    "cost = tf.nn.l2_loss(y-z) # 1/2 * ||f(x)-y||^2\n",
    "optimizer = tf.train.AdamOptimizer(0.1).minimize(cost) "
   ]
  },
  {
   "cell_type": "code",
   "execution_count": 385,
   "metadata": {
    "collapsed": false,
    "slideshow": {
     "slide_type": "fragment"
    }
   },
   "outputs": [
    {
     "name": "stdout",
     "output_type": "stream",
     "text": [
      "Epoch: 0001 cost = 6.54066e-06\n",
      "Epoch: 0003 cost = 1.33362e-10\n",
      "Epoch: 0005 cost = 5.71885e-08\n",
      "Epoch: 0007 cost = 8.72904e-08\n",
      "Epoch: 0009 cost = 9.71419e-08\n",
      "Optimization Finished! final cost = 9.91754e-08\n"
     ]
    }
   ],
   "source": [
    "numEpochs = 10\n",
    "sess.run(tf.initialize_all_variables()) #initialize W, b and Adam optimizer\n",
    "for epoch in range(numEpochs): # for every epoch\n",
    "    for i in range(N): # for every training example\n",
    "        x_in = np.transpose([X[i]]) # input\n",
    "        fx = Y[i] # expected output            \n",
    "        sess.run(optimizer, feed_dict={x: x_in, y: fx})\n",
    "    if epoch % 2 == 0:\n",
    "        print \"Epoch:\", '%04d' % (epoch+1), \"cost =\", \\\n",
    "        sess.run(cost, feed_dict={x: x_in, y: fx})\n",
    "print \"Optimization Finished! final cost =\", sess.run(cost, feed_dict={x: x_in, y: fx})"
   ]
  },
  {
   "cell_type": "markdown",
   "metadata": {
    "slideshow": {
     "slide_type": "slide"
    }
   },
   "source": [
    "## Logistic Regression cont."
   ]
  },
  {
   "cell_type": "code",
   "execution_count": 380,
   "metadata": {
    "collapsed": false
   },
   "outputs": [
    {
     "data": {
      "text/plain": [
       "[array([[ 2.84354281,  2.85930395,  2.77622414]], dtype=float32),\n",
       " array([[ 4.24783564]], dtype=float32)]"
      ]
     },
     "execution_count": 380,
     "metadata": {},
     "output_type": "execute_result"
    }
   ],
   "source": [
    "W_trained = sess.run(W)\n",
    "b_trained = sess.run(b)\n",
    "[W_trained, b_trained]"
   ]
  },
  {
   "cell_type": "code",
   "execution_count": 379,
   "metadata": {
    "collapsed": false
   },
   "outputs": [
    {
     "data": {
      "image/png": "[encoded data removed]",
      "text/plain": [
       "<matplotlib.figure.Figure at 0x114952dd0>"
      ]
     },
     "metadata": {},
     "output_type": "display_data"
    }
   ],
   "source": [
    "pred = list()\n",
    "for i in range(N):\n",
    "    x_in = np.transpose([X[i]]) # input\n",
    "    fx = sess.run(z, feed_dict={x: x_in})\n",
    "    pred.append(fx[0][0])\n",
    "    \n",
    "plt.plot(Xsum, Y, 'ro', Xsum, pred, 'bo')\n",
    "plt.show()  "
   ]
  },
  {
   "cell_type": "markdown",
   "metadata": {
    "slideshow": {
     "slide_type": "slide"
    }
   },
   "source": [
    "## Multi-layer Perceptron"
   ]
  },
  {
   "cell_type": "code",
   "execution_count": 397,
   "metadata": {
    "collapsed": false
   },
   "outputs": [
    {
     "data": {
      "text/plain": [
       "array([[ 0.79723024]], dtype=float32)"
      ]
     },
     "execution_count": 397,
     "metadata": {},
     "output_type": "execute_result"
    }
   ],
   "source": [
    "#input\n",
    "x = tf.placeholder(\"float\")\n",
    "#parameters\n",
    "W1 = tf.Variable(tf.random_uniform([3,5], seed=seed))\n",
    "b1 = tf.Variable(tf.zeros([3,1]))\n",
    "W2 = tf.Variable(tf.random_uniform([3,3], seed=seed))\n",
    "b2 = tf.Variable(tf.zeros([3,1]))\n",
    "W3 = tf.Variable(tf.random_uniform([1,3], seed=seed))\n",
    "b3 = tf.Variable(tf.zeros([1,1]))\n",
    "#model\n",
    "h1 = tf.nn.sigmoid(tf.matmul(W1,x) + b1) \n",
    "h2 = tf.nn.sigmoid(tf.matmul(W2,h1) + b2)\n",
    "mlp_z = tf.nn.sigmoid(tf.matmul(W3,h2) + b3) \n",
    "\n",
    "sess.run(tf.initialize_all_variables())\n",
    "sess.run(mlp_z, feed_dict={x: [[-5.5], [2.0], [-0.5], [2.0], [4.0]]})"
   ]
  },
  {
   "cell_type": "markdown",
   "metadata": {
    "run_control": {
     "frozen": false,
     "read_only": false
    },
    "slideshow": {
     "slide_type": "slide"
    }
   },
   "source": [
    "## Background Material\n",
    "- Stanford Course on [Deep Learning for Natural Language Processing](http://cs224d.stanford.edu/syllabus.html)"
   ]
  },
  {
   "cell_type": "markdown",
   "metadata": {},
   "source": [
    "## References"
   ]
  }
 ],
 "metadata": {
  "celltoolbar": "Slideshow",
  "hide_input": false,
  "kernelspec": {
   "display_name": "Python 3",
   "language": "python",
   "name": "python3"
  },
  "language_info": {
   "codemirror_mode": {
    "name": "ipython",
    "version": 3
   },
   "file_extension": ".py",
   "mimetype": "text/x-python",
   "name": "python",
   "nbconvert_exporter": "python",
   "pygments_lexer": "ipython3",
   "version": "3.5.0"
  }
 },
 "nbformat": 4,
 "nbformat_minor": 0
}
