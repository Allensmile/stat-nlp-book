{
 "cells": [
  {
   "cell_type": "code",
   "execution_count": 188,
   "metadata": {
    "collapsed": true
   },
   "outputs": [],
   "source": [
    "%%capture\n",
    "%load_ext autoreload\n",
    "%autoreload 2\n",
    "%matplotlib inline\n",
    "# %cd .. \n",
    "import sys\n",
    "sys.path.append(\"..\")\n",
    "import statnlpbook.util as util\n",
    "import statnlpbook.sequence as seq\n",
    "import matplotlib\n",
    "matplotlib.rcParams['figure.figsize'] = (10.0, 6.0)"
   ]
  },
  {
   "cell_type": "markdown",
   "metadata": {},
   "source": [
    "<!---\n",
    "Latex Macros\n",
    "-->\n",
    "$$\n",
    "\\newcommand{\\Xs}{\\mathcal{X}}\n",
    "\\newcommand{\\Ys}{\\mathcal{Y}}\n",
    "\\newcommand{\\y}{\\mathbf{y}}\n",
    "\\newcommand{\\balpha}{\\boldsymbol{\\alpha}}\n",
    "\\newcommand{\\bbeta}{\\boldsymbol{\\beta}}\n",
    "\\newcommand{\\aligns}{\\mathbf{a}}\n",
    "\\newcommand{\\align}{a}\n",
    "\\newcommand{\\source}{\\mathbf{s}}\n",
    "\\newcommand{\\target}{\\mathbf{t}}\n",
    "\\newcommand{\\ssource}{s}\n",
    "\\newcommand{\\starget}{t}\n",
    "\\newcommand{\\repr}{\\mathbf{f}}\n",
    "\\newcommand{\\repry}{\\mathbf{g}}\n",
    "\\newcommand{\\x}{\\mathbf{x}}\n",
    "\\newcommand{\\prob}{p}\n",
    "\\newcommand{\\vocab}{V}\n",
    "\\newcommand{\\params}{\\boldsymbol{\\theta}}\n",
    "\\newcommand{\\param}{\\theta}\n",
    "\\DeclareMathOperator{\\perplexity}{PP}\n",
    "\\DeclareMathOperator{\\argmax}{argmax}\n",
    "\\DeclareMathOperator{\\argmin}{argmin}\n",
    "\\newcommand{\\train}{\\mathcal{D}}\n",
    "\\newcommand{\\counts}[2]{\\#_{#1}(#2) }\n",
    "\\newcommand{\\length}[1]{\\text{length}(#1) }\n",
    "\\newcommand{\\indi}{\\mathbb{I}}\n",
    "$$"
   ]
  },
  {
   "cell_type": "markdown",
   "metadata": {},
   "source": [
    "# Sequence Labelling \n",
    "\n",
    "Many real-world applications can be cast as *sequence labelling* problems that involve assigning labels to each element in a sequence. For example, in *Part-Of-Speech tagging* each token in a sentence as assigned a part-of-speech such as verb or determiner that indicates the syntactic type of the token. In *Named Entity Tagging* we assign each token with the type of entity the token refers to, such as \"Person\" or \"Organisation\", or \"None\" if the token does not refer to an entity.  \n",
    "\n",
    "## Sequence Labelling as Structured Prediction\n",
    "\n",
    "The problem of sequence labelling is an obvious (and somewhat canonical) instance of structured prediction. Here the input space \\\\(\\Xs\\\\) are sequences of words and the output space $\\Ys$ are sequences of output labels. Our goal is again to define a model a model \\\\(s_{\\params}(\\x,\\y)\\\\) that assigns high *scores* to the sequence of label \\\\(\\y=y_1 \\ldots y_n\\\\) that fits the input text \\\\(\\x=x_1 \\ldots x_n\\\\), and lower scores otherwise. The model will be parametrized by \\\\(\\params\\\\), and these parameters we will learn from some training set \\\\(\\train\\\\) of \\\\((\\x,\\y)\\\\) pairs. In contrast to the classification scenario the prediction problem $\\argmax_\\y s_{\\params}(\\x,\\y)$ is now non-trivial in general, as we have to search through an exponentional number of label sequences. In practice this issue is overcome by making assumptions about the factorization structure of $s_{\\params}(\\x,\\y)$ and/or search approximations that sacrifice the ability to find the true optimum of the search problem for more expressiveness. "
   ]
  },
  {
   "cell_type": "markdown",
   "metadata": {},
   "source": [
    "## Part-of-Speech Tagging as Sequence Labelling\n",
    "Part-of-Speech (PoS) tagging is an important task within NLP. It is a standard pre-processing step in many tasks. For example, most dependency parsers assume as input PoS tagged sentences. Likewise, [Reverb](reverb), one of the most effective relation extraction methods, defines relations in terms of PoS sequences.\n",
    "\n",
    "Traditionally, and based on the existence of corresponding annotated training sets, PoS tagging has been applied to quite restricted domains such newswire or biomedical texts. Recently there has been increasing interest in NLP in general, and PoS tagging in particular, for social media data. He we will focus on PoS tagging for tweets and use the [Tweebank dataset](http://www.cs.cmu.edu/~ark/TweetNLP/#pos) and the [\"october 27\" splits](https://github.com/brendano/ark-tweet-nlp/tree/master/data/twpos-data-v0.3/oct27.splits).\n",
    "\n",
    "Let us load the data and look at an example tagged sentence."
   ]
  },
  {
   "cell_type": "code",
   "execution_count": 215,
   "metadata": {
    "collapsed": false
   },
   "outputs": [
    {
     "data": {
      "text/plain": [
       "\"I/O predict/V I/O won't/V win/V a/D single/A game/N I/O bet/V on/P ./, Got/V Cliff/^ Lee/^ today/N ,/, so/P if/P he/O loses/V its/L on/P me/O RT/~ @e_one/@ :/~ Texas/^ (/, cont/~ )/, http://tl.gd/6meogh/U\""
      ]
     },
     "execution_count": 215,
     "metadata": {},
     "output_type": "execute_result"
    }
   ],
   "source": [
    "train = seq.load_tweebank(\"../data/oct27.splits/oct27.train\")\n",
    "dev = seq.load_tweebank(\"../data/oct27.splits/oct27.dev\")\n",
    "test = seq.load_tweebank(\"../data/oct27.splits/oct27.test\")\n",
    "\" \".join([w + \"/\" + t for w,t in zip(train[0][0],train[0][1])])"
   ]
  },
  {
   "cell_type": "markdown",
   "metadata": {},
   "source": [
    "We have printed the tokens of tweet paired with their PoS tag. The tags (such as \"O\", \"V\" and \"^\") are described in the [Tweebank annotation guideline](http://www.cs.cmu.edu/~ark/TweetNLP/annot_guidelines.pdf). For example, \"O\" denotes pronouns, \"V\" verbs and \"^\" proper nouns. "
   ]
  },
  {
   "cell_type": "code",
   "execution_count": 190,
   "metadata": {
    "collapsed": true
   },
   "outputs": [],
   "source": [
    "# count tags here?"
   ]
  },
  {
   "cell_type": "markdown",
   "metadata": {},
   "source": [
    "## Local Models / Classifiers\n",
    "We will tackle sequence labelling as a (discriminative) structured prediction problem. This means we will build a model $p_\\params(\\y|\\x)$ that computes the conditional probability of output label sequence $\\y$ given input sequence $\\x$. We will first consider the simplest type of model: a *fully factorised* or *local* model. In this model the probability of $\\x$ and $\\y$ is a product of *local* probabilities for the label $y_i$ of each token:\n",
    "\n",
    "$$\n",
    "p_\\params(\\y|\\x) = \\prod_{i=1}^n p_\\params(y_i|\\x,i)\n",
    "$$\n",
    "\n",
    "In this model all labels are independent of each other. This assumption has a crucial benefit: inference (and hence training) in this model is trivial. To find the most likely assignment of labels under this model you can find the most likely tag for each token independently. Notice that each local term conditions on the complete input $\\x$, not just on $x_i$. This is important, as the sentential context at position $i$ is often important to determine the tag at $i$.     \n",
    "\n",
    "It is common to indicate this independence structure in a factor graph, a graphical representation of the model. In this representation each variable of the model (our per-token tag labels and the input sequence $\\x$) is drawn using a circle, and *observed* variables are shaded. Each factor in the model (terms in the product) is drawn as a box that connects the variables that appear in the corresponding term. For example, the term $p_\\params(y_3|\\x,3)$ would connect the variables $y_3$ and $\\x$. "
   ]
  },
  {
   "cell_type": "code",
   "execution_count": 191,
   "metadata": {
    "collapsed": false
   },
   "outputs": [
    {
     "data": {
      "image/svg+xml": [
       "<?xml version=\"1.0\" encoding=\"UTF-8\" standalone=\"no\"?>\n",
       "<!DOCTYPE svg PUBLIC \"-//W3C//DTD SVG 1.1//EN\"\n",
       " \"http://www.w3.org/Graphics/SVG/1.1/DTD/svg11.dtd\">\n",
       "<!-- Generated by graphviz version 2.38.0 (20140413.2041)\n",
       " -->\n",
       "<!-- Title: %3 Pages: 1 -->\n",
       "<svg width=\"270pt\" height=\"176pt\"\n",
       " viewBox=\"0.00 0.00 269.90 175.90\" xmlns=\"http://www.w3.org/2000/svg\" xmlns:xlink=\"http://www.w3.org/1999/xlink\">\n",
       "<g id=\"graph0\" class=\"graph\" transform=\"scale(1 1) rotate(0) translate(4 171.901)\">\n",
       "<title>%3</title>\n",
       "<polygon fill=\"white\" stroke=\"none\" points=\"-4,4 -4,-171.901 265.901,-171.901 265.901,4 -4,4\"/>\n",
       "<!-- x -->\n",
       "<g id=\"node1\" class=\"node\"><title>x</title>\n",
       "<ellipse fill=\"lightgrey\" stroke=\"black\" cx=\"130.95\" cy=\"-18\" rx=\"18\" ry=\"18\"/>\n",
       "<text text-anchor=\"middle\" x=\"130.95\" y=\"-13.8\" font-family=\"Times,serif\" font-size=\"14.00\">x</text>\n",
       "</g>\n",
       "<!-- f0 -->\n",
       "<g id=\"node2\" class=\"node\"><title>f0</title>\n",
       "<polygon fill=\"black\" stroke=\"black\" points=\"37.6144,-94 10.2861,-94 10.2861,-72 37.6144,-72 37.6144,-94\"/>\n",
       "<text text-anchor=\"middle\" x=\"23.9503\" y=\"-78.8\" font-family=\"Times,serif\" font-size=\"14.00\" fill=\"white\">f0</text>\n",
       "</g>\n",
       "<!-- f0&#45;&#45;x -->\n",
       "<g id=\"edge2\" class=\"edge\"><title>f0&#45;&#45;x</title>\n",
       "<path fill=\"none\" stroke=\"black\" d=\"M37.9387,-73.7639C57.992,-61.9568 94.7788,-40.2972 115.574,-28.0536\"/>\n",
       "</g>\n",
       "<!-- y0 -->\n",
       "<g id=\"node3\" class=\"node\"><title>y0</title>\n",
       "<ellipse fill=\"none\" stroke=\"black\" cx=\"18.9503\" cy=\"-148.95\" rx=\"18.9007\" ry=\"18.9007\"/>\n",
       "<text text-anchor=\"middle\" x=\"18.9503\" y=\"-144.75\" font-family=\"Times,serif\" font-size=\"14.00\">y0</text>\n",
       "</g>\n",
       "<!-- y0&#45;&#45;f0 -->\n",
       "<g id=\"edge1\" class=\"edge\"><title>y0&#45;&#45;f0</title>\n",
       "<path fill=\"none\" stroke=\"black\" d=\"M20.3697,-129.796C21.2705,-118.275 22.4031,-103.789 23.1504,-94.2304\"/>\n",
       "</g>\n",
       "<!-- f1 -->\n",
       "<g id=\"node4\" class=\"node\"><title>f1</title>\n",
       "<polygon fill=\"black\" stroke=\"black\" points=\"93.6144,-94 66.2861,-94 66.2861,-72 93.6144,-72 93.6144,-94\"/>\n",
       "<text text-anchor=\"middle\" x=\"79.9503\" y=\"-78.8\" font-family=\"Times,serif\" font-size=\"14.00\" fill=\"white\">f1</text>\n",
       "</g>\n",
       "<!-- f1&#45;&#45;x -->\n",
       "<g id=\"edge4\" class=\"edge\"><title>f1&#45;&#45;x</title>\n",
       "<path fill=\"none\" stroke=\"black\" d=\"M88.1443,-71.878C96.8168,-61.165 110.546,-44.2057 120.109,-32.392\"/>\n",
       "</g>\n",
       "<!-- y1 -->\n",
       "<g id=\"node5\" class=\"node\"><title>y1</title>\n",
       "<ellipse fill=\"none\" stroke=\"black\" cx=\"74.9503\" cy=\"-148.95\" rx=\"18.9007\" ry=\"18.9007\"/>\n",
       "<text text-anchor=\"middle\" x=\"74.9503\" y=\"-144.75\" font-family=\"Times,serif\" font-size=\"14.00\">y1</text>\n",
       "</g>\n",
       "<!-- y1&#45;&#45;f1 -->\n",
       "<g id=\"edge3\" class=\"edge\"><title>y1&#45;&#45;f1</title>\n",
       "<path fill=\"none\" stroke=\"black\" d=\"M76.3697,-129.796C77.2705,-118.275 78.4031,-103.789 79.1504,-94.2304\"/>\n",
       "</g>\n",
       "<!-- f2 -->\n",
       "<g id=\"node6\" class=\"node\"><title>f2</title>\n",
       "<polygon fill=\"black\" stroke=\"black\" points=\"144.614,-94 117.286,-94 117.286,-72 144.614,-72 144.614,-94\"/>\n",
       "<text text-anchor=\"middle\" x=\"130.95\" y=\"-78.8\" font-family=\"Times,serif\" font-size=\"14.00\" fill=\"white\">f2</text>\n",
       "</g>\n",
       "<!-- f2&#45;&#45;x -->\n",
       "<g id=\"edge6\" class=\"edge\"><title>f2&#45;&#45;x</title>\n",
       "<path fill=\"none\" stroke=\"black\" d=\"M130.95,-71.878C130.95,-62.278 130.95,-47.6623 130.95,-36.228\"/>\n",
       "</g>\n",
       "<!-- y2 -->\n",
       "<g id=\"node7\" class=\"node\"><title>y2</title>\n",
       "<ellipse fill=\"none\" stroke=\"black\" cx=\"130.95\" cy=\"-148.95\" rx=\"18.9007\" ry=\"18.9007\"/>\n",
       "<text text-anchor=\"middle\" x=\"130.95\" y=\"-144.75\" font-family=\"Times,serif\" font-size=\"14.00\">y2</text>\n",
       "</g>\n",
       "<!-- y2&#45;&#45;f2 -->\n",
       "<g id=\"edge5\" class=\"edge\"><title>y2&#45;&#45;f2</title>\n",
       "<path fill=\"none\" stroke=\"black\" d=\"M130.95,-129.796C130.95,-118.275 130.95,-103.789 130.95,-94.2304\"/>\n",
       "</g>\n",
       "<!-- f3 -->\n",
       "<g id=\"node8\" class=\"node\"><title>f3</title>\n",
       "<polygon fill=\"black\" stroke=\"black\" points=\"195.614,-94 168.286,-94 168.286,-72 195.614,-72 195.614,-94\"/>\n",
       "<text text-anchor=\"middle\" x=\"181.95\" y=\"-78.8\" font-family=\"Times,serif\" font-size=\"14.00\" fill=\"white\">f3</text>\n",
       "</g>\n",
       "<!-- f3&#45;&#45;x -->\n",
       "<g id=\"edge8\" class=\"edge\"><title>f3&#45;&#45;x</title>\n",
       "<path fill=\"none\" stroke=\"black\" d=\"M173.756,-71.878C165.084,-61.165 151.355,-44.2057 141.791,-32.392\"/>\n",
       "</g>\n",
       "<!-- y3 -->\n",
       "<g id=\"node9\" class=\"node\"><title>y3</title>\n",
       "<ellipse fill=\"none\" stroke=\"black\" cx=\"186.95\" cy=\"-148.95\" rx=\"18.9007\" ry=\"18.9007\"/>\n",
       "<text text-anchor=\"middle\" x=\"186.95\" y=\"-144.75\" font-family=\"Times,serif\" font-size=\"14.00\">y3</text>\n",
       "</g>\n",
       "<!-- y3&#45;&#45;f3 -->\n",
       "<g id=\"edge7\" class=\"edge\"><title>y3&#45;&#45;f3</title>\n",
       "<path fill=\"none\" stroke=\"black\" d=\"M185.531,-129.796C184.63,-118.275 183.498,-103.789 182.75,-94.2304\"/>\n",
       "</g>\n",
       "<!-- f4 -->\n",
       "<g id=\"node10\" class=\"node\"><title>f4</title>\n",
       "<polygon fill=\"black\" stroke=\"black\" points=\"251.614,-94 224.286,-94 224.286,-72 251.614,-72 251.614,-94\"/>\n",
       "<text text-anchor=\"middle\" x=\"237.95\" y=\"-78.8\" font-family=\"Times,serif\" font-size=\"14.00\" fill=\"white\">f4</text>\n",
       "</g>\n",
       "<!-- f4&#45;&#45;x -->\n",
       "<g id=\"edge10\" class=\"edge\"><title>f4&#45;&#45;x</title>\n",
       "<path fill=\"none\" stroke=\"black\" d=\"M223.962,-73.7639C203.909,-61.9568 167.122,-40.2972 146.327,-28.0536\"/>\n",
       "</g>\n",
       "<!-- y4 -->\n",
       "<g id=\"node11\" class=\"node\"><title>y4</title>\n",
       "<ellipse fill=\"none\" stroke=\"black\" cx=\"242.95\" cy=\"-148.95\" rx=\"18.9007\" ry=\"18.9007\"/>\n",
       "<text text-anchor=\"middle\" x=\"242.95\" y=\"-144.75\" font-family=\"Times,serif\" font-size=\"14.00\">y4</text>\n",
       "</g>\n",
       "<!-- y4&#45;&#45;f4 -->\n",
       "<g id=\"edge9\" class=\"edge\"><title>y4&#45;&#45;f4</title>\n",
       "<path fill=\"none\" stroke=\"black\" d=\"M241.531,-129.796C240.63,-118.275 239.498,-103.789 238.75,-94.2304\"/>\n",
       "</g>\n",
       "</g>\n",
       "</svg>\n"
      ],
      "text/plain": [
       "<graphviz.dot.Graph at 0x1145f54e0>"
      ]
     },
     "execution_count": 191,
     "metadata": {},
     "output_type": "execute_result"
    }
   ],
   "source": [
    "seq.draw_local_fg(5)"
   ]
  },
  {
   "cell_type": "markdown",
   "metadata": {},
   "source": [
    "The independence assumptions of this model allow us to think of it not as a single sequence model, but a sequence of classification models. We have a classifier $p_\\params(y|\\x,i)$ that predicts the best class/tag for a token based on its sentence $\\x$ and position $i$.\n",
    "\n",
    "$$\n",
    "  p_\\params(y|\\x,i) = \\frac{1}{Z_\\x} \\exp \\langle \\repr(\\x,i),\\params_y \\rangle\n",
    "$$"
   ]
  },
  {
   "cell_type": "code",
   "execution_count": 228,
   "metadata": {
    "collapsed": false
   },
   "outputs": [
    {
     "name": "stderr",
     "output_type": "stream",
     "text": [
      "/usr/local/lib/python3.5/site-packages/sklearn/utils/__init__.py:93: DeprecationWarning: Function transform is deprecated; Support to use estimators as feature selectors will be removed in version 0.19. Use SelectFromModel instead.\n",
      "  warnings.warn(msg, category=DeprecationWarning)\n"
     ]
    },
    {
     "data": {
      "image/png": "[encoded data removed]",
      "text/plain": [
       "<matplotlib.figure.Figure at 0x112b4c8d0>"
      ]
     },
     "metadata": {},
     "output_type": "display_data"
    }
   ],
   "source": [
    "def feat_1(x,i):\n",
    "    return {\n",
    "        'word':x[i]\n",
    "    }\n",
    "\n",
    "\n",
    "local_1 = seq.LocalSequenceLabeler(feat_1, train)\n",
    "local_1.plot_lr_weights('N')"
   ]
  },
  {
   "cell_type": "markdown",
   "metadata": {},
   "source": [
    "Find errors on dev set, develop more features based on it. "
   ]
  },
  {
   "cell_type": "code",
   "execution_count": 229,
   "metadata": {
    "collapsed": false
   },
   "outputs": [
    {
     "name": "stdout",
     "output_type": "stream",
     "text": [
      "---------\n",
      "Gold:  @\n",
      "Guess: N\n",
      " [@ciaranyree] it was on football\n",
      "{'word': '@ciaranyree'}\n",
      "---------\n",
      "Gold:  V\n",
      "Guess: N\n",
      "the players and his wife [own] smash burger\n",
      "{'word': 'own'}\n",
      "---------\n",
      "Gold:  ^\n",
      "Guess: N\n",
      "players and his wife own [smash] burger\n",
      "{'word': 'smash'}\n",
      "---------\n",
      "Gold:  ^\n",
      "Guess: N\n",
      "and his wife own smash [burger] \n",
      "{'word': 'burger'}\n"
     ]
    }
   ],
   "source": [
    "local_1.show_errors(dev[:1])  "
   ]
  },
  {
   "cell_type": "code",
   "execution_count": 234,
   "metadata": {
    "collapsed": false
   },
   "outputs": [
    {
     "name": "stdout",
     "output_type": "stream",
     "text": [
      "---------\n",
      "Gold:  V\n",
      "Guess: N\n",
      "the players and his wife [own] smash burger\n",
      "{'first_at': False, 'word': 'own'}\n",
      "---------\n",
      "Gold:  ^\n",
      "Guess: N\n",
      "players and his wife own [smash] burger\n",
      "{'first_at': False, 'word': 'smash'}\n",
      "---------\n",
      "Gold:  ^\n",
      "Guess: N\n",
      "and his wife own smash [burger] \n",
      "{'first_at': False, 'word': 'burger'}\n"
     ]
    },
    {
     "name": "stderr",
     "output_type": "stream",
     "text": [
      "/usr/local/lib/python3.5/site-packages/sklearn/utils/__init__.py:93: DeprecationWarning: Function transform is deprecated; Support to use estimators as feature selectors will be removed in version 0.19. Use SelectFromModel instead.\n",
      "  warnings.warn(msg, category=DeprecationWarning)\n"
     ]
    }
   ],
   "source": [
    "def feat_2(x,i):\n",
    "    return {\n",
    "        'word':x[i],\n",
    "        'first_at':x[i][0:1] == '@'\n",
    "    }\n",
    "local_2 = seq.LocalSequenceLabeler(feat_2, train)\n",
    "\n",
    "# run model with new features\n",
    "# print results\n",
    "# show errors\n",
    "local_2.show_errors(dev[:1])  "
   ]
  },
  {
   "cell_type": "markdown",
   "metadata": {},
   "source": [
    "## MEMM "
   ]
  },
  {
   "cell_type": "code",
   "execution_count": null,
   "metadata": {
    "collapsed": false
   },
   "outputs": [],
   "source": [
    "seq.draw_mm_fg(5)"
   ]
  },
  {
   "cell_type": "markdown",
   "metadata": {},
   "source": [
    "### Viterbi \n",
    "\n",
    "\n",
    "## CRF"
   ]
  },
  {
   "cell_type": "markdown",
   "metadata": {},
   "source": [
    "## Background Material\n",
    "* [Tackling the Poor Assumptions of Naive Bayes Text Classifiers](https://people.csail.mit.edu/jrennie/papers/icml03-nb.pdf), Rennie et al, ICML 2003 \n",
    "* [Simple Sentiment Classification](http://nlp.stanford.edu/pubs/sidaw12_simple_sentiment.pdf) ???"
   ]
  }
 ],
 "metadata": {
  "kernelspec": {
   "display_name": "Python 3",
   "language": "python",
   "name": "python3"
  },
  "language_info": {
   "codemirror_mode": {
    "name": "ipython",
    "version": 3
   },
   "file_extension": ".py",
   "mimetype": "text/x-python",
   "name": "python",
   "nbconvert_exporter": "python",
   "pygments_lexer": "ipython3",
   "version": "3.5.1"
  }
 },
 "nbformat": 4,
 "nbformat_minor": 0
}
