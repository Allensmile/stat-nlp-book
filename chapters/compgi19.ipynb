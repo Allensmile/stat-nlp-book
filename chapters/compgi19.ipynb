{
 "cells": [
  {
   "cell_type": "markdown",
   "metadata": {
    "slideshow": {
     "slide_type": "slide"
    }
   },
   "source": [
    "# COMPGI19 Overview"
   ]
  },
  {
   "cell_type": "markdown",
   "metadata": {
    "slideshow": {
     "slide_type": "slide"
    }
   },
   "source": [
    "### COMPGI19, COMPM083 Details\n",
    "\n",
    "* **Lecturer**: Sebastian Riedel\n",
    "* **Teaching Assistants**: Tim Rocktäschel, Matko Bošnjak, George Spithourakis\n",
    "* **Lectures**: \n",
    "    * Monday 8:30AM - 10AM, Bedford Way (26) LG04\n",
    "    * Friday 2PM - 3:30PM, Roberts Building 106\n",
    "* **Labs**: \n",
    "    * Monday 6PM to 8PM, Torrington (1-19) 113 \n",
    "    * Friday 10AM to 12PM, Birkbeck 404/405 \n",
    "* **Office Hours**: Monday 1PM - 2PM, 1ES, 504A"
   ]
  },
  {
   "cell_type": "markdown",
   "metadata": {
    "slideshow": {
     "slide_type": "slide"
    }
   },
   "source": [
    "### Expectations\n",
    "* I am *not a linguist*\n",
    "    * I probably don’t know your favourite linguistic framework or terminology\n",
    "* I am *not a cognitive scientist*\n",
    "    * I don’t know how humans process language\n",
    "* This course has no exams!\n",
    "    * You should learn how to construct stat NLP systems\n",
    "* Requirements\n",
    "    * You should know how to code, base knowledge in probability (Bayes Rule, MLE)"
   ]
  },
  {
   "cell_type": "markdown",
   "metadata": {
    "slideshow": {
     "slide_type": "slide"
    }
   },
   "source": [
    "### Python\n",
    "\n",
    "* Lectures, lab exercises and assignments focus on **Python** (version 3)\n",
    "* Python is leading language for data science, machine learning etc., with many relevant libraries.\n",
    "* We expect you to know Python, or be willing to learn it **on your own**"
   ]
  },
  {
   "cell_type": "markdown",
   "metadata": {
    "slideshow": {
     "slide_type": "skip"
    }
   },
   "source": [
    "### Assignments\n",
    "* Require programming, math, and analysis. \n",
    "* 3 Assignments, weighted 30/40/30.\n",
    "* Usual rules of plagiarism apply.\n",
    "* Will use automatic evaluation of your scores on NLP tasks\n",
    "* You need to submit ACL style PDF documents, no hand-writing \n"
   ]
  },
  {
   "cell_type": "markdown",
   "metadata": {
    "slideshow": {
     "slide_type": "slide"
    }
   },
   "source": [
    "### Course Material\n",
    "* We will be using the \"stat-nlp-book\" project.\n",
    "* Includes both lecture notes, and slides.\n",
    "    * slides are summaries of the lecture notes, using the same source document.\n",
    "* References to other material are given in context.\n",
    "* This is work in progress, incomplete and contains errors.\n",
    "* Please contribute by adding issues on github when you see errors.\n",
    "* You can clone the project and create pull requests with your own contributions. "
   ]
  },
  {
   "cell_type": "markdown",
   "metadata": {
    "slideshow": {
     "slide_type": "slide"
    }
   },
   "source": [
    "### Discussion Forum\n",
    "\n",
    "* Our moodle page has a **discussion forum**.\n",
    "* Please post questions there (instead of private emails) \n",
    "* We give low priority to **questions already answered** in previous lectures, tutorials and posts, \n",
    "    * and to **pure programming related issues**\n",
    "* We expect you to **online-search** for answers before.\n",
    "* You are highly encouraged to participate and **help each other** on the forum. "
   ]
  }
 ],
 "metadata": {
  "celltoolbar": "Slideshow",
  "kernelspec": {
   "display_name": "Python 3",
   "language": "python",
   "name": "python3"
  },
  "language_info": {
   "codemirror_mode": {
    "name": "ipython",
    "version": 3
   },
   "file_extension": ".py",
   "mimetype": "text/x-python",
   "name": "python",
   "nbconvert_exporter": "python",
   "pygments_lexer": "ipython3",
   "version": "3.5.2"
  }
 },
 "nbformat": 4,
 "nbformat_minor": 0
}
