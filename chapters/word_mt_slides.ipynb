{
 "cells": [
  {
   "cell_type": "code",
   "execution_count": 1,
   "metadata": {
    "collapsed": false,
    "slideshow": {
     "slide_type": "skip"
    }
   },
   "outputs": [],
   "source": [
    "%%capture\n",
    "%load_ext autoreload\n",
    "%autoreload 2\n",
    "import sys\n",
    "sys.path.append(\"..\")\n",
    "import statnlpbook.util as util\n",
    "import statnlpbook.mt as mt\n",
    "util.execute_notebook('word_mt.ipynb')"
   ]
  },
  {
   "cell_type": "markdown",
   "metadata": {
    "slideshow": {
     "slide_type": "skip"
    }
   },
   "source": [
    "<!---\n",
    "Latex Macros\n",
    "-->\n",
    "$$\n",
    "\\newcommand{\\Xs}{\\mathcal{X}}\n",
    "\\newcommand{\\Ys}{\\mathcal{Y}}\n",
    "\\newcommand{\\y}{\\mathbf{y}}\n",
    "\\newcommand{\\balpha}{\\boldsymbol{\\alpha}}\n",
    "\\newcommand{\\bbeta}{\\boldsymbol{\\beta}}\n",
    "\\newcommand{\\aligns}{\\mathbf{a}}\n",
    "\\newcommand{\\align}{a}\n",
    "\\newcommand{\\source}{\\mathbf{s}}\n",
    "\\newcommand{\\target}{\\mathbf{t}}\n",
    "\\newcommand{\\ssource}{s}\n",
    "\\newcommand{\\starget}{t}\n",
    "\\newcommand{\\repr}{\\mathbf{f}}\n",
    "\\newcommand{\\repry}{\\mathbf{g}}\n",
    "\\newcommand{\\x}{\\mathbf{x}}\n",
    "\\newcommand{\\prob}{p}\n",
    "\\newcommand{\\a}{\\alpha}\n",
    "\\newcommand{\\b}{\\beta}\n",
    "\\newcommand{\\vocab}{V}\n",
    "\\newcommand{\\params}{\\boldsymbol{\\theta}}\n",
    "\\newcommand{\\param}{\\theta}\n",
    "\\DeclareMathOperator{\\perplexity}{PP}\n",
    "\\DeclareMathOperator{\\argmax}{argmax}\n",
    "\\DeclareMathOperator{\\argmin}{argmin}\n",
    "\\newcommand{\\train}{\\mathcal{D}}\n",
    "\\newcommand{\\counts}[2]{\\#_{#1}(#2) }\n",
    "\\newcommand{\\length}[1]{\\text{length}(#1) }\n",
    "\\newcommand{\\indi}{\\mathbb{I}}\n",
    "$$"
   ]
  },
  {
   "cell_type": "markdown",
   "metadata": {
    "slideshow": {
     "slide_type": "slide"
    }
   },
   "source": [
    "# (Word-based) Machine Translation"
   ]
  },
  {
   "cell_type": "markdown",
   "metadata": {
    "slideshow": {
     "slide_type": "slide"
    }
   },
   "source": [
    "##  Machine Translation (MT)\n",
    "\n",
    "* Paradigms: \n",
    "  * Rule-based vs **statistical**\n",
    "  * **feature-engineering** vs neural\n",
    "  * **word** vs phrase vs syntax units "
   ]
  },
  {
   "cell_type": "markdown",
   "metadata": {
    "slideshow": {
     "slide_type": "subslide"
    }
   },
   "source": [
    "##  Word Based MT\n",
    "\n",
    "Translate **word-by-word**\n",
    "* **foundational** to all current approaches (e.g. neural methods)\n",
    "* **subcomponent** in more complex systems (for alignments)"
   ]
  },
  {
   "cell_type": "markdown",
   "metadata": {
    "slideshow": {
     "slide_type": "slide"
    }
   },
   "source": [
    "## MT as Structured Prediction\n",
    "\n",
    "* **source** sentence \\\\(\\source\\\\)\n",
    "    * aka $\\x$, usually tokenized \n",
    "* **target** sentence \\\\(\\target\\\\)\n",
    "    * aka $\\y$, usually tokenized \n",
    "* a **model** \\\\(s_\\params(\\target,\\source)\\\\) to measure match of \\\\(\\target\\\\) to $\\source$"
   ]
  },
  {
   "cell_type": "markdown",
   "metadata": {
    "slideshow": {
     "slide_type": "subslide"
    }
   },
   "source": [
    "### Training\n",
    "learn the parameters \\\\(\\params\\\\) from data \n",
    "* usually from **parallel corpora** of **aligned source and target sentences**\n",
    "* Where can you get such data from?"
   ]
  },
  {
   "cell_type": "markdown",
   "metadata": {
    "slideshow": {
     "slide_type": "subslide"
    }
   },
   "source": [
    "### Translation\n",
    "predict highest-scoring translation given source $\\source$:\n",
    "\n",
    "\\begin{equation}\n",
    "\\argmax_\\target s_\\params(\\target,\\source)\n",
    "\\end{equation}"
   ]
  },
  {
   "cell_type": "markdown",
   "metadata": {
    "slideshow": {
     "slide_type": "subslide"
    }
   },
   "source": [
    "MT approaches differ primarily in \n",
    "* how \\\\(s\\\\) is defined, \n",
    "* how \\\\(\\params\\\\) are learned\n",
    "* how the translation \\\\(\\argmax\\\\) is found"
   ]
  },
  {
   "cell_type": "markdown",
   "metadata": {
    "slideshow": {
     "slide_type": "subslide"
    }
   },
   "source": [
    "### Modelling\n",
    "How to define $s_\\params(\\target,\\source)$?"
   ]
  },
  {
   "cell_type": "markdown",
   "metadata": {
    "slideshow": {
     "slide_type": "slide"
    }
   },
   "source": [
    "## Generative Models \n",
    "How is the $(\\target,\\source)$ data **generated**? \n",
    "\n",
    "Develop a **distribution** $\\prob(\\target,\\source)$ that generates **faithful samples**  "
   ]
  },
  {
   "cell_type": "markdown",
   "metadata": {
    "slideshow": {
     "slide_type": "subslide"
    }
   },
   "source": [
    "Think about the problem **backwards**\n",
    "* Generate the target $\\target$ using $\\prob_{\\params_t}(\\cdot)$\n",
    "* Generate the source $\\source$ using $\\prob_{\\params_s}(\\cdot|\\target)$"
   ]
  },
  {
   "cell_type": "markdown",
   "metadata": {
    "slideshow": {
     "slide_type": "subslide"
    }
   },
   "source": [
    "This defines a **joint** distribution $\\prob_\\params(\\target,\\source) = \\prob_{\\params_t}(\\target) \\prob_{\\params_s}(\\source|\\target)$"
   ]
  },
  {
   "cell_type": "markdown",
   "metadata": {
    "slideshow": {
     "slide_type": "subslide"
    }
   },
   "source": [
    "### Training\n",
    "Find $\\params$ using **MLE** (or smoothed variants)\n",
    "\n",
    "$$\n",
    "\\argmax_\\params \\sum_{(\\target,\\source) \\in \\train} \\log \\prob_\\params(\\target, \\source)\n",
    "$$"
   ]
  },
  {
   "cell_type": "markdown",
   "metadata": {
    "slideshow": {
     "slide_type": "subslide"
    }
   },
   "source": [
    "### Translation\n",
    "Operate **forwards**:\n",
    "\n",
    "$$\n",
    "\\argmax_\\target \\prob_\\params(\\target|\\source) = \\argmax_\\target \\prob_\\params(\\target,\\source)\n",
    "$$"
   ]
  },
  {
   "cell_type": "markdown",
   "metadata": {
    "hideCode": false,
    "slideshow": {
     "slide_type": "-"
    }
   },
   "source": [
    "Why this equality? $p(\\target|\\source)=\\frac{p(s,t)}{p(s)}$"
   ]
  },
  {
   "cell_type": "markdown",
   "metadata": {
    "slideshow": {
     "slide_type": "subslide"
    }
   },
   "source": [
    "### Noisy Channel  \n",
    "$\\prob(\\target,\\source) = \\prob(\\target) \\prob(\\source|\\target)$ is often called a **noisy channel model**"
   ]
  },
  {
   "cell_type": "code",
   "execution_count": 2,
   "metadata": {
    "collapsed": false,
    "hideCode": true,
    "hidePrompt": true,
    "slideshow": {
     "slide_type": "fragment"
    }
   },
   "outputs": [
    {
     "data": {
      "image/png": "[encoded data removed]",
      "text/plain": [
       "<IPython.core.display.Image object>"
      ]
     },
     "execution_count": 2,
     "metadata": {},
     "output_type": "execute_result"
    }
   ],
   "source": [
    "%%tikz\n",
    "\\tikzset{every node/.style={font=\\sffamily,white}} \n",
    "\\node[fill=blue] at (0,0) (a) {Sender}; \n",
    "\\node[fill=blue] at (3,0) (b) {Channel}; \n",
    "\\node[fill=blue] at (6,0) (c) {Receiver}; \n",
    "\\draw[->] (a) -- (b) node [midway,above,font=\\scriptsize,black]{$p(\\mathbf{t})$}; \n",
    "\\draw[->] (b) -- (c) node [midway,above,font=\\scriptsize,black]{$p(\\mathbf{s}|\\mathbf{t})$};"
   ]
  },
  {
   "cell_type": "markdown",
   "metadata": {
    "hideCode": false,
    "slideshow": {
     "slide_type": "fragment"
    }
   },
   "source": [
    "* A message $\\target$ is sent through a noisy channel and $\\source$ is received\n",
    "* What was $\\target$?"
   ]
  },
  {
   "cell_type": "code",
   "execution_count": 3,
   "metadata": {
    "collapsed": false,
    "hideCode": true,
    "hidePrompt": true,
    "slideshow": {
     "slide_type": "subslide"
    }
   },
   "outputs": [
    {
     "data": {
      "image/png": "[encoded data removed]",
      "text/plain": [
       "<IPython.core.display.Image object>"
      ]
     },
     "execution_count": 3,
     "metadata": {},
     "output_type": "execute_result"
    }
   ],
   "source": [
    "%%tikz\n",
    "\\tikzset{every node/.style={font=\\sffamily,white}} \n",
    "\\node[fill=blue] at (0,0) (a) {Sender}; \n",
    "\\node[fill=blue] at (3,0) (b) {Channel}; \n",
    "\\node[fill=blue] at (6,0) (c) {Receiver}; \n",
    "\\draw[->] (a) -- (b) node [midway,above,font=\\scriptsize,black]{$p(\\mathbf{t})$}; \n",
    "\\draw[->] (b) -- (c) node [midway,above,font=\\scriptsize,black]{$p(\\mathbf{s}|\\mathbf{t})$};"
   ]
  },
  {
   "cell_type": "markdown",
   "metadata": {
    "slideshow": {
     "slide_type": "fragment"
    }
   },
   "source": [
    "Channel could be \n",
    "\n",
    "* a ethernet cable\n",
    "* an encryption algorithm\n",
    "* a speaker that thinks in English but speaks in German"
   ]
  },
  {
   "cell_type": "markdown",
   "metadata": {
    "hideCode": false,
    "slideshow": {
     "slide_type": "subslide"
    }
   },
   "source": [
    "### Noisy Channel in MT\n",
    "* $\\prob_{\\params_s}(\\source|\\target)$ is called the **translation model**\n",
    "* $\\prob_{\\params_t}(\\target)$ is the **language model**"
   ]
  },
  {
   "cell_type": "markdown",
   "metadata": {
    "hideCode": false,
    "slideshow": {
     "slide_type": "subslide"
    }
   },
   "source": [
    "MLE for $\\prob_\\params(\\target,\\source) = \\prob_{\\params_t}(\\target) \\prob_{\\params_s}(\\source|\\target)$ can be calculated in two **independent steps**:\n",
    "* Estimate $\\params_t$ for $\\prob_{\\params_t}(\\target)$\n",
    "* Estimate $\\params_s$ for $\\prob_{\\params_s}(\\source|\\target)$\n",
    "\n",
    "Why useful?"
   ]
  },
  {
   "cell_type": "markdown",
   "metadata": {
    "hideCode": false,
    "slideshow": {
     "slide_type": "slide"
    }
   },
   "source": [
    "## Translation Models"
   ]
  },
  {
   "cell_type": "markdown",
   "metadata": {
    "hideCode": false,
    "slideshow": {
     "slide_type": "fragment"
    }
   },
   "source": [
    "$$\n",
    "\\prob^{\\text{Impossible}}_\\params(\\source|\\target) = \\params_{\\source,\\target}\n",
    "$$\n",
    "\n",
    "Why impossible?"
   ]
  },
  {
   "cell_type": "markdown",
   "metadata": {
    "slideshow": {
     "slide_type": "subslide"
    }
   },
   "source": [
    "Generally we want models that **factorize** (break up into smaller parts) for dealing with \n",
    "\n",
    "* **data sparsity**\n",
    "* **memory limitations**\n",
    "* **runtime limitations**"
   ]
  },
  {
   "cell_type": "markdown",
   "metadata": {
    "hideCode": false,
    "slideshow": {
     "slide_type": "fragment"
    }
   },
   "source": [
    "How did **language models** do this? "
   ]
  },
  {
   "cell_type": "markdown",
   "metadata": {
    "hideCode": false,
    "slideshow": {
     "slide_type": "subslide"
    }
   },
   "source": [
    "Look at example for inspiration:\n",
    "\n",
    "|Token| 1 | 2 | 3 | 4 | \n",
    "|-|---|---|---|---|\n",
    "|**Target**| the | house | is | small |\n",
    "|**Source**| das | Haus | ist | klein |"
   ]
  },
  {
   "cell_type": "markdown",
   "metadata": {
    "collapsed": false,
    "hideCode": false,
    "slideshow": {
     "slide_type": "fragment"
    }
   },
   "source": [
    "$$\n",
    "\\prob_\\theta(\\source|\\target) = p(das|the) * p(Haus|house) \\ldots\n",
    "$$"
   ]
  },
  {
   "cell_type": "markdown",
   "metadata": {
    "hideCode": false,
    "slideshow": {
     "slide_type": "subslide"
    }
   },
   "source": [
    "## Naive Translation Model\n",
    "\n",
    "$$\n",
    "\\prob_\\params^\\text{Naive}(\\source|\\target) = \\prod_i^{\\length{\\source}} \\prob_\\params(\\ssource_i|\\starget_i) = \\prod_i^{\\length{\\source}} \\param_{\\ssource_i,\\starget_i}\n",
    "$$"
   ]
  },
  {
   "cell_type": "markdown",
   "metadata": {
    "hideCode": false,
    "slideshow": {
     "slide_type": "fragment"
    }
   },
   "source": [
    "Why naive?"
   ]
  },
  {
   "cell_type": "markdown",
   "metadata": {
    "hideCode": false,
    "slideshow": {
     "slide_type": "subslide"
    }
   },
   "source": [
    "### Training\n",
    "\n",
    "Use the **Maximum Likelihood Estimate**:\n",
    "\n",
    "$$\n",
    "\\params^* = \\argmax_\\params \\sum_{(\\target,\\source) \\in \\train} \\log \\prob_\\params(\\source|\\target)\n",
    "$$\n"
   ]
  },
  {
   "cell_type": "markdown",
   "metadata": {
    "hideCode": false,
    "slideshow": {
     "slide_type": "subslide"
    }
   },
   "source": [
    "Amounts to **counting**: \n",
    "\n",
    "$$\n",
    "\\param^*_{\\ssource,\\starget} = \\frac{\\counts{\\train}{s,t}}{\\counts{\\train}{t}} \n",
    "$$\n"
   ]
  },
  {
   "cell_type": "markdown",
   "metadata": {
    "hideCode": false,
    "slideshow": {
     "slide_type": "subslide"
    }
   },
   "source": [
    "In Python:"
   ]
  },
  {
   "cell_type": "code",
   "execution_count": 4,
   "metadata": {
    "collapsed": false
   },
   "outputs": [],
   "source": [
    "from collections import defaultdict \n",
    "def learn_naive_model(data):\n",
    "    norm = defaultdict(float)\n",
    "    counts = defaultdict(float) \n",
    "    for target, source in data:\n",
    "        for i in range(0, len(target)):\n",
    "            norm[target[i]] += 1.0\n",
    "            counts[(source[i],target[i])] += 1.0\n",
    "    result = {}\n",
    "    for (source,target),score in counts.items():\n",
    "        result[(source,target)] = score / norm[target]\n",
    "    return result\n",
    "# show defaultdict behaviour"
   ]
  },
  {
   "cell_type": "code",
   "execution_count": 5,
   "metadata": {
    "collapsed": false,
    "hideCode": false,
    "slideshow": {
     "slide_type": "skip"
    }
   },
   "outputs": [
    {
     "data": {
      "text/html": [
       "<table style=\"font-size:2em;\"><tr><td style='padding:20px'>('das', 'the')</td> <td style='padding:20px'>1.0</td><tr><tr><td style='padding:20px'>('Haus', 'house')</td> <td style='padding:20px'>0.5</td><tr><tr><td style='padding:20px'>('Gebauede', 'house')</td> <td style='padding:20px'>0.5</td><tr></table>"
      ],
      "text/plain": [
       "<statnlpbook.util.Table at 0x10a2c80f0>"
      ]
     },
     "execution_count": 5,
     "metadata": {},
     "output_type": "execute_result"
    }
   ],
   "source": [
    "naive_model = learn_naive_model([[('the','house'),('das','Haus')],\n",
    "                                 [('the','house'),('das','Gebauede')]])\n",
    "# try other genders or numbers \n",
    "util.Table(naive_model.items(), \"2em\", \"20px\")"
   ]
  },
  {
   "cell_type": "markdown",
   "metadata": {
    "hideCode": false,
    "slideshow": {
     "slide_type": "subslide"
    }
   },
   "source": [
    "Training data:"
   ]
  },
  {
   "cell_type": "code",
   "execution_count": 6,
   "metadata": {
    "collapsed": false,
    "hideCode": false,
    "slideshow": {
     "slide_type": "-"
    }
   },
   "outputs": [
    {
     "data": {
      "text/html": [
       "<table style=\"font-size:1.5em;\"><tr><td style='padding:20px'>['the', 'house', 'is', 'small']</td> <td style='padding:20px'>['das', 'Haus', 'ist', 'klein']</td><tr><tr><td style='padding:20px'>['the', 'house', 'is', 'small']</td> <td style='padding:20px'>['klein', 'ist', 'das', 'Haus']</td><tr><tr><td style='padding:20px'>['a', 'man', 'is', 'tall']</td> <td style='padding:20px'>['ein', 'Mann', 'ist', 'groß']</td><tr><tr><td style='padding:20px'>['my', 'house', 'is', 'small']</td> <td style='padding:20px'>['klein', 'ist', 'mein', 'Haus']</td><tr></table>"
      ],
      "text/plain": [
       "<statnlpbook.util.Table at 0x10a2b5ba8>"
      ]
     },
     "execution_count": 6,
     "metadata": {},
     "output_type": "execute_result"
    }
   ],
   "source": [
    "util.Table(train, \"1.5em\", \"20px\")"
   ]
  },
  {
   "cell_type": "code",
   "execution_count": 7,
   "metadata": {
    "collapsed": false,
    "hideCode": false,
    "slideshow": {
     "slide_type": "subslide"
    }
   },
   "outputs": [
    {
     "data": {
      "image/png": "[encoded data removed]",
      "text/plain": [
       "<matplotlib.figure.Figure at 0x10a2b5198>"
      ]
     },
     "metadata": {},
     "output_type": "display_data"
    }
   ],
   "source": [
    "table = learn_naive_model(train)\n",
    "plot_table_for_target(table, \"is\") # try house"
   ]
  },
  {
   "cell_type": "markdown",
   "metadata": {
    "hideCode": false,
    "slideshow": {
     "slide_type": "subslide"
    }
   },
   "source": [
    "### Translation / Decoding\n",
    "\n",
    "Find the highest scoring target $\\y$ \n",
    "\n",
    "$$\n",
    "\\target^*(\\source) = \\argmax_\\target \\prod_i^{\\length{\\source}} \\prob_\\params(\\ssource_i|\\starget_i)\n",
    "$$\n"
   ]
  },
  {
   "cell_type": "markdown",
   "metadata": {
    "hideCode": false,
    "slideshow": {
     "slide_type": "fragment"
    }
   },
   "source": [
    "How about **brute-force** (like in our SP example)?"
   ]
  },
  {
   "cell_type": "markdown",
   "metadata": {
    "hideCode": false,
    "slideshow": {
     "slide_type": "subslide"
    }
   },
   "source": [
    "### Local Decoding \n",
    "\n",
    "How to find this $\\argmax$?\n",
    "\n",
    "$$\n",
    "\\argmax_{y_1,y_2} f_1(y_1) f_2(y_2) = \\ldots\n",
    "$$\n"
   ]
  },
  {
   "cell_type": "markdown",
   "metadata": {
    "hideCode": false,
    "slideshow": {
     "slide_type": "subslide"
    }
   },
   "source": [
    "### Local Decoding for the Naive Model\n",
    "\n",
    "$$\n",
    "\\target^*(\\source) = \\argmax_\\target \\prod_i^{\\length{\\source}} \\prob_\\params(\\ssource_i|\\starget_i) \\\\\n",
    "= (\\argmax_{\\starget_1}  \\prob_\\params(\\ssource_1|\\starget_1), \\ldots, \\argmax_{\\starget_{\\length{\\source}}}  \\prob_\\params(\\ssource_{\\length{\\source}}|\\starget_{\\length{\\source}}))\n",
    "$$\n",
    "\n"
   ]
  },
  {
   "cell_type": "markdown",
   "metadata": {
    "hideCode": false,
    "slideshow": {
     "slide_type": "skip"
    }
   },
   "source": [
    "In Python"
   ]
  },
  {
   "cell_type": "code",
   "execution_count": 8,
   "metadata": {
    "collapsed": false,
    "hideCode": false,
    "slideshow": {
     "slide_type": "skip"
    }
   },
   "outputs": [
    {
     "data": {
      "text/plain": [
       "['a', 'man']"
      ]
     },
     "execution_count": 8,
     "metadata": {},
     "output_type": "execute_result"
    }
   ],
   "source": [
    "def decode(source_sent, model, lm):\n",
    "    source_to_targets = defaultdict(list)\n",
    "    for (source,target),prob in model.items():\n",
    "        source_to_targets[source] += [(target,prob)]\n",
    "    result = []\n",
    "    for tok in source_sent:\n",
    "        candidates = source_to_targets[tok]\n",
    "        multiplied_with_lm = [(target,prob * lm.probability(target)) \n",
    "                              for target, prob in candidates]\n",
    "        target = max(multiplied_with_lm, key=lambda t: t[1])\n",
    "        result.append(target[0])\n",
    "    return result\n",
    "\n",
    "lm = UniformLM(set([target for _, target in table.keys()]))\n",
    "decode([\"ein\", \"Mann\"], table, lm) # try other inputs with given vocab"
   ]
  },
  {
   "cell_type": "markdown",
   "metadata": {
    "hideCode": false,
    "slideshow": {
     "slide_type": "slide"
    }
   },
   "source": [
    "## Alignments\n",
    "Naive Model assumes a sequential **alignment**"
   ]
  },
  {
   "cell_type": "code",
   "execution_count": 9,
   "metadata": {
    "collapsed": false
   },
   "outputs": [
    {
     "data": {
      "text/html": [
       "\n",
       "        <svg id='a21e1eda-9929-11e6-93c7-a0999b02cfbb' xmlns=\"http://www.w3.org/2000/svg\"\n",
       "             xmlns:xlink=\"http://www.w3.org/1999/xlink\"\n",
       "             viewBox=\"0 0 400 100\"\n",
       "             >\n",
       "\n",
       "            <text x=\"0\" y=\"20\" class=\"source\">\n",
       "                <tspan id='t0'>the</tspan> <tspan id='t1'>house</tspan> <tspan id='t2'>is</tspan> <tspan id='t3'>small</tspan>\n",
       "            </text>\n",
       "            <text x=\"0\" y=\"95\" class=\"target\">\n",
       "                <tspan id='t0'>das</tspan> <tspan id='t1'>Haus</tspan> <tspan id='t2'>ist</tspan> <tspan id='t3'>klein</tspan>\n",
       "            </text>\n",
       "            <g class='connections'></g>\n",
       "            <script>\n",
       "              $(function() {\n",
       "                  root = $(document.getElementById('a21e1eda-9929-11e6-93c7-a0999b02cfbb'));\n",
       "                  root.find('.connections').empty();\n",
       "                  alignments = [['.source #t0','.target #t0',1.0],['.source #t1','.target #t1',1.0],['.source #t2','.target #t2',1.0],['.source #t3','.target #t3',1.0]];\n",
       "                  function appendLine(alignment) {\n",
       "                      s1 = root.find(alignment[0])[0];\n",
       "                      x1 = s1.getExtentOfChar(0).x + s1.getComputedTextLength() / 2.0;\n",
       "                      y1 = s1.getExtentOfChar(0).y + s1.getExtentOfChar(0).height;\n",
       "                      s2 = root.find(alignment[1])[0];\n",
       "                      x2 = s2.getExtentOfChar(0).x + s2.getComputedTextLength() / 2.0;\n",
       "                      y2 = s2.getExtentOfChar(0).y;\n",
       "                      var newLine = document.createElementNS('http://www.w3.org/2000/svg','line');\n",
       "                      var score = alignment[2];\n",
       "                      newLine.setAttribute('x1',x1.toString());\n",
       "                      newLine.setAttribute('y1',y1.toString());\n",
       "                      newLine.setAttribute('x2',x2.toString());\n",
       "                      newLine.setAttribute('y2',y2.toString());\n",
       "                      newLine.setAttribute('style',\"stroke:black;stroke-width:2;stroke-opacity:\" + score + \";\");\n",
       "                      root.find('.connections').append(newLine)\n",
       "                  };\n",
       "                  //console.log(alignments);\n",
       "                  for (var i = 0; i < alignments.length; i++) {\n",
       "                    appendLine(alignments[i]);\n",
       "                  }\n",
       "                  //console.log($(root).find('.connections'));\n",
       "              });\n",
       "            </script>\n",
       "        </svg>\n",
       "        "
      ],
      "text/plain": [
       "<statnlpbook.word_mt.Alignment at 0x10a502470>"
      ]
     },
     "execution_count": 9,
     "metadata": {},
     "output_type": "execute_result"
    }
   ],
   "source": [
    "word_mt.Alignment(\"the house is small\".split(\" \"),\n",
    "                  \"das Haus ist klein\".split(\" \"),\n",
    "                  [(0,0),(1,1),(2,2),(3,3)])"
   ]
  },
  {
   "cell_type": "markdown",
   "metadata": {
    "hideCode": false,
    "slideshow": {
     "slide_type": "subslide"
    }
   },
   "source": [
    "But word order can differ! "
   ]
  },
  {
   "cell_type": "code",
   "execution_count": 10,
   "metadata": {
    "collapsed": false,
    "slideshow": {
     "slide_type": "fragment"
    }
   },
   "outputs": [
    {
     "data": {
      "text/html": [
       "\n",
       "        <svg id='a2220086-9929-11e6-9e3d-a0999b02cfbb' xmlns=\"http://www.w3.org/2000/svg\"\n",
       "             xmlns:xlink=\"http://www.w3.org/1999/xlink\"\n",
       "             viewBox=\"0 0 400 100\"\n",
       "             >\n",
       "\n",
       "            <text x=\"0\" y=\"20\" class=\"source\">\n",
       "                <tspan id='t0'>the</tspan> <tspan id='t1'>house</tspan> <tspan id='t2'>is</tspan> <tspan id='t3'>small</tspan>\n",
       "            </text>\n",
       "            <text x=\"0\" y=\"95\" class=\"target\">\n",
       "                <tspan id='t0'>klein</tspan> <tspan id='t1'>ist</tspan> <tspan id='t2'>das</tspan> <tspan id='t3'>Haus</tspan>\n",
       "            </text>\n",
       "            <g class='connections'></g>\n",
       "            <script>\n",
       "              $(function() {\n",
       "                  root = $(document.getElementById('a2220086-9929-11e6-9e3d-a0999b02cfbb'));\n",
       "                  root.find('.connections').empty();\n",
       "                  alignments = [['.source #t0','.target #t2',1.0],['.source #t1','.target #t3',1.0],['.source #t2','.target #t1',1.0],['.source #t3','.target #t0',1.0]];\n",
       "                  function appendLine(alignment) {\n",
       "                      s1 = root.find(alignment[0])[0];\n",
       "                      x1 = s1.getExtentOfChar(0).x + s1.getComputedTextLength() / 2.0;\n",
       "                      y1 = s1.getExtentOfChar(0).y + s1.getExtentOfChar(0).height;\n",
       "                      s2 = root.find(alignment[1])[0];\n",
       "                      x2 = s2.getExtentOfChar(0).x + s2.getComputedTextLength() / 2.0;\n",
       "                      y2 = s2.getExtentOfChar(0).y;\n",
       "                      var newLine = document.createElementNS('http://www.w3.org/2000/svg','line');\n",
       "                      var score = alignment[2];\n",
       "                      newLine.setAttribute('x1',x1.toString());\n",
       "                      newLine.setAttribute('y1',y1.toString());\n",
       "                      newLine.setAttribute('x2',x2.toString());\n",
       "                      newLine.setAttribute('y2',y2.toString());\n",
       "                      newLine.setAttribute('style',\"stroke:black;stroke-width:2;stroke-opacity:\" + score + \";\");\n",
       "                      root.find('.connections').append(newLine)\n",
       "                  };\n",
       "                  //console.log(alignments);\n",
       "                  for (var i = 0; i < alignments.length; i++) {\n",
       "                    appendLine(alignments[i]);\n",
       "                  }\n",
       "                  //console.log($(root).find('.connections'));\n",
       "              });\n",
       "            </script>\n",
       "        </svg>\n",
       "        "
      ],
      "text/plain": [
       "<statnlpbook.word_mt.Alignment at 0x10a50a550>"
      ]
     },
     "execution_count": 10,
     "metadata": {},
     "output_type": "execute_result"
    }
   ],
   "source": [
    "word_mt.Alignment(\"the house is small\".split(\" \"),\n",
    "                  \"klein ist das Haus\".split(\" \"),\n",
    "                  [(0,2),(1,3),(2,1),(3,0)])"
   ]
  },
  {
   "cell_type": "markdown",
   "metadata": {
    "hideCode": false,
    "slideshow": {
     "slide_type": "subslide"
    }
   },
   "source": [
    "Formalise alignments:\n",
    "\n",
    "* for each source sentence index \\\\(i \\in [1 \\ldots \\length{\\source}]\\\\)\n",
    "    * \\\\(a_i \\in [0 \\ldots \\length{\\target}]\\\\): index of **aligned target word**\n",
    "* \\\\(\\align_i\\\\) can be \\\\(0\\\\)\n",
    "    * Corresponds to imaginary _NULL_ token \\\\(\\starget_0\\\\)\n"
   ]
  },
  {
   "cell_type": "code",
   "execution_count": 11,
   "metadata": {
    "collapsed": false,
    "hideCode": false,
    "slideshow": {
     "slide_type": "subslide"
    }
   },
   "outputs": [
    {
     "data": {
      "text/html": [
       "\n",
       "        <svg id='a223b6b0-9929-11e6-8beb-a0999b02cfbb' xmlns=\"http://www.w3.org/2000/svg\"\n",
       "             xmlns:xlink=\"http://www.w3.org/1999/xlink\"\n",
       "             viewBox=\"0 0 400 100\"\n",
       "             >\n",
       "\n",
       "            <text x=\"0\" y=\"20\" class=\"source\">\n",
       "                <tspan id='t0'>NULL</tspan> <tspan id='t1'>the</tspan> <tspan id='t2'>house</tspan> <tspan id='t3'>is</tspan> <tspan id='t4'>small</tspan>\n",
       "            </text>\n",
       "            <text x=\"0\" y=\"95\" class=\"target\">\n",
       "                <tspan id='t0'>klein</tspan> <tspan id='t1'>ist</tspan> <tspan id='t2'>das</tspan> <tspan id='t3'>Haus</tspan>\n",
       "            </text>\n",
       "            <g class='connections'></g>\n",
       "            <script>\n",
       "              $(function() {\n",
       "                  root = $(document.getElementById('a223b6b0-9929-11e6-8beb-a0999b02cfbb'));\n",
       "                  root.find('.connections').empty();\n",
       "                  alignments = [['.source #t1','.target #t2',1.0],['.source #t2','.target #t3',1.0],['.source #t3','.target #t1',1.0],['.source #t4','.target #t0',1.0]];\n",
       "                  function appendLine(alignment) {\n",
       "                      s1 = root.find(alignment[0])[0];\n",
       "                      x1 = s1.getExtentOfChar(0).x + s1.getComputedTextLength() / 2.0;\n",
       "                      y1 = s1.getExtentOfChar(0).y + s1.getExtentOfChar(0).height;\n",
       "                      s2 = root.find(alignment[1])[0];\n",
       "                      x2 = s2.getExtentOfChar(0).x + s2.getComputedTextLength() / 2.0;\n",
       "                      y2 = s2.getExtentOfChar(0).y;\n",
       "                      var newLine = document.createElementNS('http://www.w3.org/2000/svg','line');\n",
       "                      var score = alignment[2];\n",
       "                      newLine.setAttribute('x1',x1.toString());\n",
       "                      newLine.setAttribute('y1',y1.toString());\n",
       "                      newLine.setAttribute('x2',x2.toString());\n",
       "                      newLine.setAttribute('y2',y2.toString());\n",
       "                      newLine.setAttribute('style',\"stroke:black;stroke-width:2;stroke-opacity:\" + score + \";\");\n",
       "                      root.find('.connections').append(newLine)\n",
       "                  };\n",
       "                  //console.log(alignments);\n",
       "                  for (var i = 0; i < alignments.length; i++) {\n",
       "                    appendLine(alignments[i]);\n",
       "                  }\n",
       "                  //console.log($(root).find('.connections'));\n",
       "              });\n",
       "            </script>\n",
       "        </svg>\n",
       "        "
      ],
      "text/plain": [
       "<statnlpbook.word_mt.Alignment at 0x10a507828>"
      ]
     },
     "execution_count": 11,
     "metadata": {},
     "output_type": "execute_result"
    }
   ],
   "source": [
    "word_mt.Alignment(\"NULL the house is small\".split(\" \"),\n",
    "                  \"klein ist das Haus\".split(\" \"),\n",
    "                  [(1,2),(2,3),(3,1),(4,0)])"
   ]
  },
  {
   "cell_type": "markdown",
   "metadata": {
    "hideCode": false,
    "slideshow": {
     "slide_type": "fragment"
    }
   },
   "source": [
    "$a_1 = 4$ ??? "
   ]
  },
  {
   "cell_type": "markdown",
   "metadata": {
    "hideCode": false,
    "slideshow": {
     "slide_type": "subslide"
    }
   },
   "source": [
    "Why the **NULL** Token? "
   ]
  },
  {
   "cell_type": "code",
   "execution_count": 12,
   "metadata": {
    "collapsed": false,
    "scrolled": false,
    "slideshow": {
     "slide_type": "fragment"
    }
   },
   "outputs": [
    {
     "data": {
      "text/html": [
       "\n",
       "        <svg id='a225b230-9929-11e6-ad83-a0999b02cfbb' xmlns=\"http://www.w3.org/2000/svg\"\n",
       "             xmlns:xlink=\"http://www.w3.org/1999/xlink\"\n",
       "             viewBox=\"0 0 400 100\"\n",
       "             >\n",
       "\n",
       "            <text x=\"0\" y=\"20\" class=\"source\">\n",
       "                <tspan id='t0'>NULL</tspan> <tspan id='t1'>I</tspan> <tspan id='t2'>like</tspan> <tspan id='t3'>music</tspan>\n",
       "            </text>\n",
       "            <text x=\"0\" y=\"95\" class=\"target\">\n",
       "                <tspan id='t0'>音楽</tspan> <tspan id='t1'>が</tspan> <tspan id='t2'>好き</tspan>\n",
       "            </text>\n",
       "            <g class='connections'></g>\n",
       "            <script>\n",
       "              $(function() {\n",
       "                  root = $(document.getElementById('a225b230-9929-11e6-ad83-a0999b02cfbb'));\n",
       "                  root.find('.connections').empty();\n",
       "                  alignments = [['.source #t0','.target #t1',1.0],['.source #t2','.target #t2',1.0],['.source #t3','.target #t0',1.0]];\n",
       "                  function appendLine(alignment) {\n",
       "                      s1 = root.find(alignment[0])[0];\n",
       "                      x1 = s1.getExtentOfChar(0).x + s1.getComputedTextLength() / 2.0;\n",
       "                      y1 = s1.getExtentOfChar(0).y + s1.getExtentOfChar(0).height;\n",
       "                      s2 = root.find(alignment[1])[0];\n",
       "                      x2 = s2.getExtentOfChar(0).x + s2.getComputedTextLength() / 2.0;\n",
       "                      y2 = s2.getExtentOfChar(0).y;\n",
       "                      var newLine = document.createElementNS('http://www.w3.org/2000/svg','line');\n",
       "                      var score = alignment[2];\n",
       "                      newLine.setAttribute('x1',x1.toString());\n",
       "                      newLine.setAttribute('y1',y1.toString());\n",
       "                      newLine.setAttribute('x2',x2.toString());\n",
       "                      newLine.setAttribute('y2',y2.toString());\n",
       "                      newLine.setAttribute('style',\"stroke:black;stroke-width:2;stroke-opacity:\" + score + \";\");\n",
       "                      root.find('.connections').append(newLine)\n",
       "                  };\n",
       "                  //console.log(alignments);\n",
       "                  for (var i = 0; i < alignments.length; i++) {\n",
       "                    appendLine(alignments[i]);\n",
       "                  }\n",
       "                  //console.log($(root).find('.connections'));\n",
       "              });\n",
       "            </script>\n",
       "        </svg>\n",
       "        "
      ],
      "text/plain": [
       "<statnlpbook.word_mt.Alignment at 0x10a5070f0>"
      ]
     },
     "execution_count": 12,
     "metadata": {},
     "output_type": "execute_result"
    }
   ],
   "source": [
    "word_mt.Alignment(\"NULL I like music\".split(\" \"),\n",
    "                  \"音楽 が 好き\".split(\" \"),\n",
    "                  [(0,1),(2,2),(3,0)])"
   ]
  },
  {
   "cell_type": "markdown",
   "metadata": {
    "hideCode": false,
    "slideshow": {
     "slide_type": "subslide"
    }
   },
   "source": [
    "One-to-many translations"
   ]
  },
  {
   "cell_type": "code",
   "execution_count": 13,
   "metadata": {
    "collapsed": false,
    "scrolled": false,
    "slideshow": {
     "slide_type": "-"
    }
   },
   "outputs": [
    {
     "data": {
      "text/html": [
       "\n",
       "        <svg id='a2279e88-9929-11e6-a85a-a0999b02cfbb' xmlns=\"http://www.w3.org/2000/svg\"\n",
       "             xmlns:xlink=\"http://www.w3.org/1999/xlink\"\n",
       "             viewBox=\"0 0 400 100\"\n",
       "             >\n",
       "\n",
       "            <text x=\"0\" y=\"20\" class=\"source\">\n",
       "                <tspan id='t0'>NULL</tspan> <tspan id='t1'>the</tspan> <tspan id='t2'>house</tspan> <tspan id='t3'>is</tspan> <tspan id='t4'>tiny</tspan>\n",
       "            </text>\n",
       "            <text x=\"0\" y=\"95\" class=\"target\">\n",
       "                <tspan id='t0'>das</tspan> <tspan id='t1'>Haus</tspan> <tspan id='t2'>ist</tspan> <tspan id='t3'>sehr</tspan> <tspan id='t4'>klein</tspan>\n",
       "            </text>\n",
       "            <g class='connections'></g>\n",
       "            <script>\n",
       "              $(function() {\n",
       "                  root = $(document.getElementById('a2279e88-9929-11e6-a85a-a0999b02cfbb'));\n",
       "                  root.find('.connections').empty();\n",
       "                  alignments = [['.source #t1','.target #t0',1.0],['.source #t2','.target #t1',1.0],['.source #t3','.target #t2',1.0],['.source #t4','.target #t3',1.0],['.source #t4','.target #t4',1.0]];\n",
       "                  function appendLine(alignment) {\n",
       "                      s1 = root.find(alignment[0])[0];\n",
       "                      x1 = s1.getExtentOfChar(0).x + s1.getComputedTextLength() / 2.0;\n",
       "                      y1 = s1.getExtentOfChar(0).y + s1.getExtentOfChar(0).height;\n",
       "                      s2 = root.find(alignment[1])[0];\n",
       "                      x2 = s2.getExtentOfChar(0).x + s2.getComputedTextLength() / 2.0;\n",
       "                      y2 = s2.getExtentOfChar(0).y;\n",
       "                      var newLine = document.createElementNS('http://www.w3.org/2000/svg','line');\n",
       "                      var score = alignment[2];\n",
       "                      newLine.setAttribute('x1',x1.toString());\n",
       "                      newLine.setAttribute('y1',y1.toString());\n",
       "                      newLine.setAttribute('x2',x2.toString());\n",
       "                      newLine.setAttribute('y2',y2.toString());\n",
       "                      newLine.setAttribute('style',\"stroke:black;stroke-width:2;stroke-opacity:\" + score + \";\");\n",
       "                      root.find('.connections').append(newLine)\n",
       "                  };\n",
       "                  //console.log(alignments);\n",
       "                  for (var i = 0; i < alignments.length; i++) {\n",
       "                    appendLine(alignments[i]);\n",
       "                  }\n",
       "                  //console.log($(root).find('.connections'));\n",
       "              });\n",
       "            </script>\n",
       "        </svg>\n",
       "        "
      ],
      "text/plain": [
       "<statnlpbook.word_mt.Alignment at 0x10a50f358>"
      ]
     },
     "execution_count": 13,
     "metadata": {},
     "output_type": "execute_result"
    }
   ],
   "source": [
    "word_mt.Alignment(\"NULL the house is tiny\".split(\" \"),\n",
    "                  \"das Haus ist sehr klein\".split(\" \"),\n",
    "                  [(1,0),(2,1),(3,2),(4,3),(4,4)])"
   ]
  },
  {
   "cell_type": "markdown",
   "metadata": {
    "hideCode": false,
    "slideshow": {
     "slide_type": "fragment"
    }
   },
   "source": [
    "Many-to-one translations?"
   ]
  },
  {
   "cell_type": "markdown",
   "metadata": {
    "slideshow": {
     "slide_type": "subslide"
    }
   },
   "source": [
    "Alignments are **hidden** when given a source! \n",
    "\n",
    "Need to be \n",
    "* predicted or marginalised out\n",
    "* modelled"
   ]
  },
  {
   "cell_type": "markdown",
   "metadata": {
    "hideCode": false,
    "slideshow": {
     "slide_type": "slide"
    }
   },
   "source": [
    "## IBM Translation Models\n",
    "\n",
    "In the late 80s, early 90s\n",
    "* **IBM researchers revolutionised MT** (and Speech Recognition) \n",
    "* using statistical approaches instead of rules \n"
   ]
  },
  {
   "cell_type": "markdown",
   "metadata": {
    "hideCode": false,
    "slideshow": {
     "slide_type": "subslide"
    }
   },
   "source": [
    "A famous IBM quote from that time\n",
    "\n",
    "> Every time I fire a linguist, the performance of the speech recognizer goes up\n",
    "> \n",
    ">  -- <cite>Fred Jelinek</cite>"
   ]
  },
  {
   "cell_type": "markdown",
   "metadata": {
    "hideCode": false,
    "slideshow": {
     "slide_type": "subslide"
    }
   },
   "source": [
    "Group around **Robert Mercer** were extremely successful\n",
    "\n",
    "* then disappeared to create **Renaissance Technologies**\n",
    "\n",
    "![mercer](http://images.huffingtonpost.com/2014-10-23-RobertMercer-thumb.JPG)"
   ]
  },
  {
   "cell_type": "markdown",
   "metadata": {
    "hideCode": false,
    "slideshow": {
     "slide_type": "subslide"
    }
   },
   "source": [
    "## IBM Model 2\n",
    "Translation and **alignment** model:\n",
    "\n",
    "$$\n",
    "p_\\params^\\text{IBM2}(\\source,\\aligns|\\target)\n",
    "$$"
   ]
  },
  {
   "cell_type": "markdown",
   "metadata": {
    "hideCode": false,
    "slideshow": {
     "slide_type": "subslide"
    }
   },
   "source": [
    "*Generative story* with parameters $\\params = (\\alpha, \\beta)$\n",
    "\n",
    "Given target sentence $\\target$ (e.g. NULL I like music) with length $l_\\starget$ (e.g. 4):\n",
    "\n",
    "* Generate a **source sentence length** $l_\\ssource$ with uniform probability $\\epsilon$\n",
    "    * e.g. $l_\\ssource=3$\n",
    "* Generate a **target position** $a_i$ for each source as position $i$ with $\\beta(a_i|i,l_\\starget,l_\\ssource)$\n",
    "    * e.g. $(3,0,2)$\n",
    "* Generate the **source word** $\\ssource_{i}$ at $a_i$ with probability $\\alpha(\\ssource_i|\\starget_{a_i})$ \n",
    "    * e.g. (音楽, が, 好き)"
   ]
  },
  {
   "cell_type": "markdown",
   "metadata": {
    "slideshow": {
     "slide_type": "subslide"
    }
   },
   "source": [
    "\\begin{equation}\n",
    "  p_\\params^\\text{IBM2}(\\ssource_1 \\ldots \\ssource_{l_\\ssource},\\align_1 \\ldots \\align_{l_\\ssource}|\\starget_1 \\ldots \\starget_{l_\\starget}) = \\epsilon \\prod_i^{l_\\ssource} \\alpha(\\ssource_i|\\starget_{a_i}) \\beta(a_i|i,l_\\starget,l_\\ssource)\n",
    "\\end{equation}"
   ]
  },
  {
   "cell_type": "markdown",
   "metadata": {
    "hideCode": false,
    "slideshow": {
     "slide_type": "fragment"
    }
   },
   "source": [
    "Example:\n",
    "$$\n",
    "p_\\params^\\text{IBM2}(\\text{das, Haus},1, 2 | \\text{NULL, the, house}) = \\ldots\n",
    "$$"
   ]
  },
  {
   "cell_type": "markdown",
   "metadata": {
    "hideCode": false,
    "slideshow": {
     "slide_type": "-"
    }
   },
   "source": [
    "Answer: \n",
    "$$\n",
    "\\a(das|the) \\b(1|1,3,2) \\ldots\n",
    "$$"
   ]
  },
  {
   "cell_type": "markdown",
   "metadata": {
    "hideCode": false,
    "slideshow": {
     "slide_type": "subslide"
    }
   },
   "source": [
    "## Training IBM Model 2\n",
    "\n",
    "If we had $\\train = ((\\source_i, \\aligns_i, \\target_i))_i$ we could optimise\n",
    "\n",
    "$$\n",
    "\\sum_{(\\source, \\aligns, \\target) \\in \\train} \\log p_\\params^\\text{IBM2}(\\source,\\aligns|\\target)\n",
    "$$"
   ]
  },
  {
   "cell_type": "markdown",
   "metadata": {
    "hideCode": false,
    "slideshow": {
     "slide_type": "fragment"
    }
   },
   "source": [
    "But we have **no training alignments** "
   ]
  },
  {
   "cell_type": "markdown",
   "metadata": {
    "hideCode": false,
    "slideshow": {
     "slide_type": "subslide"
    }
   },
   "source": [
    "Instead use **sentence-aligned** data $\\train = ((\\source_i, \\target_i))_i$ \n",
    "\n",
    "and **marginal log-likelihood**"
   ]
  },
  {
   "cell_type": "markdown",
   "metadata": {
    "hideCode": false,
    "slideshow": {
     "slide_type": "fragment"
    }
   },
   "source": [
    "\n",
    "$$\n",
    "\\sum_{(\\source, \\target) \\in \\train}   \\log p_\\params^\\text{IBM2}(\\source|\\target)\n",
    "$$\n",
    "\n",
    "where\n",
    "\n",
    "$$\n",
    "p_\\params^\\text{IBM2}(\\source|\\target) = \\sum_{\\aligns}p_\\params^\\text{IBM2}(\\source,\\aligns|\\target)\n",
    "$$"
   ]
  },
  {
   "cell_type": "markdown",
   "metadata": {
    "hideCode": false,
    "slideshow": {
     "slide_type": "fragment"
    }
   },
   "source": [
    "**No closed-form** solution"
   ]
  },
  {
   "cell_type": "markdown",
   "metadata": {
    "hideCode": false,
    "slideshow": {
     "slide_type": "slide"
    }
   },
   "source": [
    "## Expectation Maximisation (EM) Algorithm\n",
    "maximises a [lower bound of marginal log-likelihood](http://localhost:8888/notebooks/chapters/em.ipynb) "
   ]
  },
  {
   "cell_type": "markdown",
   "metadata": {
    "hideCode": false,
    "slideshow": {
     "slide_type": "subslide"
    }
   },
   "source": [
    "Figures out (soft) alignments by iterating:\n",
    "\n",
    "* **E-step**: Infer alignments (or their **expectations**)\n",
    "    * using current parameters\n",
    "*  **M-step**: **Maximise** training objective to estimate parameters \n",
    "    * using current alignments  "
   ]
  },
  {
   "cell_type": "markdown",
   "metadata": {
    "hideCode": false,
    "slideshow": {
     "slide_type": "subslide"
    }
   },
   "source": [
    "How is this possible **without a good initial model**? "
   ]
  },
  {
   "cell_type": "code",
   "execution_count": 14,
   "metadata": {
    "collapsed": false,
    "hideCode": false,
    "slideshow": {
     "slide_type": "fragment"
    }
   },
   "outputs": [
    {
     "data": {
      "text/html": [
       "\n",
       "        <svg id='a229396e-9929-11e6-8c7a-a0999b02cfbb' xmlns=\"http://www.w3.org/2000/svg\"\n",
       "             xmlns:xlink=\"http://www.w3.org/1999/xlink\"\n",
       "             viewBox=\"0 0 400 100\"\n",
       "             >\n",
       "\n",
       "            <text x=\"0\" y=\"20\" class=\"source\">\n",
       "                <tspan id='t0'>A</tspan> <tspan id='t1'>B</tspan> <tspan id='t2'>|</tspan> <tspan id='t3'>C</tspan> <tspan id='t4'>A</tspan> <tspan id='t5'>|</tspan> <tspan id='t6'>Q</tspan> <tspan id='t7'>P</tspan>\n",
       "            </text>\n",
       "            <text x=\"0\" y=\"95\" class=\"target\">\n",
       "                <tspan id='t0'>X</tspan> <tspan id='t1'>Y</tspan> <tspan id='t2'>|</tspan> <tspan id='t3'>Z</tspan> <tspan id='t4'>X</tspan> <tspan id='t5'>|</tspan> <tspan id='t6'>S</tspan> <tspan id='t7'>T</tspan>\n",
       "            </text>\n",
       "            <g class='connections'></g>\n",
       "            <script>\n",
       "              $(function() {\n",
       "                  root = $(document.getElementById('a229396e-9929-11e6-8c7a-a0999b02cfbb'));\n",
       "                  root.find('.connections').empty();\n",
       "                  alignments = [];\n",
       "                  function appendLine(alignment) {\n",
       "                      s1 = root.find(alignment[0])[0];\n",
       "                      x1 = s1.getExtentOfChar(0).x + s1.getComputedTextLength() / 2.0;\n",
       "                      y1 = s1.getExtentOfChar(0).y + s1.getExtentOfChar(0).height;\n",
       "                      s2 = root.find(alignment[1])[0];\n",
       "                      x2 = s2.getExtentOfChar(0).x + s2.getComputedTextLength() / 2.0;\n",
       "                      y2 = s2.getExtentOfChar(0).y;\n",
       "                      var newLine = document.createElementNS('http://www.w3.org/2000/svg','line');\n",
       "                      var score = alignment[2];\n",
       "                      newLine.setAttribute('x1',x1.toString());\n",
       "                      newLine.setAttribute('y1',y1.toString());\n",
       "                      newLine.setAttribute('x2',x2.toString());\n",
       "                      newLine.setAttribute('y2',y2.toString());\n",
       "                      newLine.setAttribute('style',\"stroke:black;stroke-width:2;stroke-opacity:\" + score + \";\");\n",
       "                      root.find('.connections').append(newLine)\n",
       "                  };\n",
       "                  //console.log(alignments);\n",
       "                  for (var i = 0; i < alignments.length; i++) {\n",
       "                    appendLine(alignments[i]);\n",
       "                  }\n",
       "                  //console.log($(root).find('.connections'));\n",
       "              });\n",
       "            </script>\n",
       "        </svg>\n",
       "        "
      ],
      "text/plain": [
       "<statnlpbook.word_mt.Alignment at 0x10a278be0>"
      ]
     },
     "execution_count": 14,
     "metadata": {},
     "output_type": "execute_result"
    }
   ],
   "source": [
    "word_mt.Alignment(\"A B | C A | Q P\".split(\" \"),\n",
    "                  \"X Y | Z X | S T\".split(\" \"),[])"
   ]
  },
  {
   "cell_type": "markdown",
   "metadata": {
    "hideCode": false,
    "slideshow": {
     "slide_type": "-"
    }
   },
   "source": [
    "$\\a(X|A)=1/6 \\qquad \\a(Y|A)=1/6 \\qquad \\a(X|B)=1/6 \\qquad \\a(Y|B)=1/6 \\qquad \\a(T|P)=1/6$\n",
    "\n",
    "$\\b(1|1)=1/2 \\qquad \\b(1|2)=1/2$\n"
   ]
  },
  {
   "cell_type": "markdown",
   "metadata": {
    "hideCode": false,
    "slideshow": {
     "slide_type": "subslide"
    }
   },
   "source": [
    "Formalise and implement, but for dataset with `NULL` tokens and \n",
    "\n",
    "* consistent but **non-monotonic alignment**\n",
    "\n",
    "such that EM will \n",
    "* first learn about word-to-word correspondences\n",
    "* and then about distortion"
   ]
  },
  {
   "cell_type": "code",
   "execution_count": 15,
   "metadata": {
    "collapsed": true,
    "hideCode": false,
    "slideshow": {
     "slide_type": "skip"
    }
   },
   "outputs": [],
   "source": [
    "train_model_2_raw = [\n",
    "  (\"NULL the house is small\" , \"klein ist das Haus\"),\n",
    "  (\"NULL a man is tall\" , \"groß ist ein Mann\"),\n",
    "  (\"NULL my house is small\" , \"klein ist mein Haus\"),\n",
    "  (\"NULL the building is big\" , \"groß ist das Gebäude\"),\n",
    "  (\"NULL the building is long\" , \"lang ist das Gebäude\")\n",
    "]\n",
    "train_model_2 =  [(t.split(\" \"), s.split(\" \")) for t,s in train_model_2_raw]\n",
    "# What could \"house\" translate to? "
   ]
  },
  {
   "cell_type": "code",
   "execution_count": 111,
   "metadata": {
    "collapsed": false,
    "hideCode": false,
    "slideshow": {
     "slide_type": "subslide"
    }
   },
   "outputs": [
    {
     "data": {
      "text/html": [
       "<table style=\"font-size:large;\"><tr><td style='padding:initial'>NULL the house is small</td> <td style='padding:initial'>klein ist das Haus</td><tr><tr><td style='padding:initial'>NULL a man is tall</td> <td style='padding:initial'>groß ist ein Mann</td><tr><tr><td style='padding:initial'>NULL my house is small</td> <td style='padding:initial'>klein ist mein Haus</td><tr><tr><td style='padding:initial'>NULL the building is big</td> <td style='padding:initial'>groß ist das Gebäude</td><tr><tr><td style='padding:initial'>NULL the building is long</td> <td style='padding:initial'>lang ist das Gebäude</td><tr></table>"
      ],
      "text/plain": [
       "<statnlpbook.util.Table at 0x10a8ff780>"
      ]
     },
     "execution_count": 111,
     "metadata": {},
     "output_type": "execute_result"
    }
   ],
   "source": [
    "util.Table(train_model_2_raw)"
   ]
  },
  {
   "cell_type": "markdown",
   "metadata": {
    "hideCode": false,
    "slideshow": {
     "slide_type": "subslide"
    }
   },
   "source": [
    "### E-Step\n",
    "\n",
    "Calculate distribution over alignments given source and target \n",
    "\n",
    "$$\n",
    "\\pi(\\aligns|\\source,\\target) = p_\\params^\\text{IBM2}(\\aligns|\\source,\\target)\n",
    "$$"
   ]
  },
  {
   "cell_type": "markdown",
   "metadata": {
    "hideCode": false,
    "slideshow": {
     "slide_type": "subslide"
    }
   },
   "source": [
    "Distribution **factorizes** for Model 2:\n",
    "$$\n",
    "\\pi(\\aligns|\\source,\\target) = \\prod_i^{l_{\\ssource}} \\pi(a_i|\\source,\\target,i) \n",
    "$$\n",
    "\n",
    "with\n",
    "\n",
    "$$\n",
    "\\pi(a_i|\\source,\\target,i) = \n",
    "  \\frac\n",
    "    {\\alpha(\\ssource_i|\\starget_{a_i}) \\beta(a_i|i,l_\\starget,l_\\ssource)}\n",
    "    {\\sum_j^{l_{\\starget}} \\alpha(\\ssource_i|\\starget_j) \\beta(j|i,l_\\starget,l_\\ssource) }\n",
    "$$"
   ]
  },
  {
   "cell_type": "code",
   "execution_count": 32,
   "metadata": {
    "collapsed": false,
    "hideCode": true,
    "hidePrompt": true,
    "slideshow": {
     "slide_type": "subslide"
    }
   },
   "outputs": [
    {
     "data": {
      "text/html": [
       "\n",
       "        <svg id='43f27da8-992c-11e6-a42a-a0999b02cfbb' xmlns=\"http://www.w3.org/2000/svg\"\n",
       "             xmlns:xlink=\"http://www.w3.org/1999/xlink\"\n",
       "             viewBox=\"0 0 400 100\"\n",
       "             >\n",
       "\n",
       "            <text x=\"0\" y=\"20\" class=\"source\">\n",
       "                <tspan id='t0'>1:NULL</tspan> <tspan id='t1'>2:the</tspan> <tspan id='t2'>3:house</tspan>\n",
       "            </text>\n",
       "            <text x=\"0\" y=\"95\" class=\"target\">\n",
       "                <tspan id='t0'>1:das</tspan> <tspan id='t1'>2:Haus</tspan>\n",
       "            </text>\n",
       "            <g class='connections'></g>\n",
       "            <script>\n",
       "              $(function() {\n",
       "                  root = $(document.getElementById('43f27da8-992c-11e6-a42a-a0999b02cfbb'));\n",
       "                  root.find('.connections').empty();\n",
       "                  alignments = [['.source #t1','.target #t0',1.0]];\n",
       "                  function appendLine(alignment) {\n",
       "                      s1 = root.find(alignment[0])[0];\n",
       "                      x1 = s1.getExtentOfChar(0).x + s1.getComputedTextLength() / 2.0;\n",
       "                      y1 = s1.getExtentOfChar(0).y + s1.getExtentOfChar(0).height;\n",
       "                      s2 = root.find(alignment[1])[0];\n",
       "                      x2 = s2.getExtentOfChar(0).x + s2.getComputedTextLength() / 2.0;\n",
       "                      y2 = s2.getExtentOfChar(0).y;\n",
       "                      var newLine = document.createElementNS('http://www.w3.org/2000/svg','line');\n",
       "                      var score = alignment[2];\n",
       "                      newLine.setAttribute('x1',x1.toString());\n",
       "                      newLine.setAttribute('y1',y1.toString());\n",
       "                      newLine.setAttribute('x2',x2.toString());\n",
       "                      newLine.setAttribute('y2',y2.toString());\n",
       "                      newLine.setAttribute('style',\"stroke:black;stroke-width:2;stroke-opacity:\" + score + \";\");\n",
       "                      root.find('.connections').append(newLine)\n",
       "                  };\n",
       "                  //console.log(alignments);\n",
       "                  for (var i = 0; i < alignments.length; i++) {\n",
       "                    appendLine(alignments[i]);\n",
       "                  }\n",
       "                  //console.log($(root).find('.connections'));\n",
       "              });\n",
       "            </script>\n",
       "        </svg>\n",
       "        "
      ],
      "text/plain": [
       "<statnlpbook.word_mt.Alignment at 0x10a1ecf28>"
      ]
     },
     "execution_count": 32,
     "metadata": {},
     "output_type": "execute_result"
    }
   ],
   "source": [
    "word_mt.Alignment(\"1:NULL 2:the 3:house\".split(\" \"),\n",
    "                  \"1:das 2:Haus\".split(\" \"),[(1,0)])"
   ]
  },
  {
   "cell_type": "markdown",
   "metadata": {
    "hideCode": false,
    "slideshow": {
     "slide_type": "-"
    }
   },
   "source": [
    "$$\n",
    "\\pi(2|\\source,\\target,1) = \\frac{\\a(\\text{das|the}) \\b(2|1,3,2)}{\\a(\\text{das|the}) \\b(2|1,3,2) + \\a(\\text{das|NULL}) \\b(2|0,3,2) + \\ldots}\n",
    "$$"
   ]
  },
  {
   "cell_type": "markdown",
   "metadata": {
    "hideCode": false,
    "slideshow": {
     "slide_type": "subslide"
    }
   },
   "source": [
    "For a uniform initial model: "
   ]
  },
  {
   "cell_type": "code",
   "execution_count": 113,
   "metadata": {
    "collapsed": true,
    "slideshow": {
     "slide_type": "skip"
    }
   },
   "outputs": [],
   "source": [
    "source_vocab = set([tok for _,s in train_model_2 for tok in s])\n",
    "target_vocab = set([tok for t,_ in train_model_2 for tok in t])\n",
    "\n",
    "alpha = mt.create_translation_table(source_vocab, target_vocab) \n",
    "#  {'is':{'ist':0.5, 'das':0.5}}\n",
    "beta = mt.create_distortion_table(5) #{1:1}\n",
    "init_model = IBMModel2(alpha,beta)\n",
    "align_matrices = e_step(init_model, train_model_2)\n",
    "\n",
    "def show_alignment_for_model(sent, fixed_alpha = {}, fixed_beta = {}):\n",
    "    alpha_1 = mt.create_translation_table(source_vocab, target_vocab, fixed=fixed_alpha) \n",
    "    #  {'is':{'ist':0.5, 'das':0.5}}\n",
    "    beta_1 = mt.create_distortion_table(5) #{1:1}\n",
    "    init_model_1 = IBMModel2(alpha_1,beta_1)\n",
    "    align_matrices = e_step(init_model_1, train_model_2)\n",
    "    return word_mt.Alignment.from_matrix(align_matrices[sent], \n",
    "                              train_model_2[sent][1], \n",
    "                              train_model_2[sent][0])\n",
    "\n"
   ]
  },
  {
   "cell_type": "code",
   "execution_count": 117,
   "metadata": {
    "collapsed": false,
    "slideshow": {
     "slide_type": "-"
    }
   },
   "outputs": [
    {
     "data": {
      "text/html": [
       "\n",
       "        <svg id='fc904f54-9948-11e6-8c62-a0999b02cfbb' xmlns=\"http://www.w3.org/2000/svg\"\n",
       "             xmlns:xlink=\"http://www.w3.org/1999/xlink\"\n",
       "             viewBox=\"0 0 400 100\"\n",
       "             >\n",
       "\n",
       "            <text x=\"0\" y=\"20\" class=\"source\">\n",
       "                <tspan id='t0'>NULL</tspan> <tspan id='t1'>the</tspan> <tspan id='t2'>house</tspan> <tspan id='t3'>is</tspan> <tspan id='t4'>small</tspan>\n",
       "            </text>\n",
       "            <text x=\"0\" y=\"95\" class=\"target\">\n",
       "                <tspan id='t0'>klein</tspan> <tspan id='t1'>ist</tspan> <tspan id='t2'>das</tspan> <tspan id='t3'>Haus</tspan>\n",
       "            </text>\n",
       "            <g class='connections'></g>\n",
       "            <script>\n",
       "              $(function() {\n",
       "                  root = $(document.getElementById('fc904f54-9948-11e6-8c62-a0999b02cfbb'));\n",
       "                  root.find('.connections').empty();\n",
       "                  alignments = [['.source #t0','.target #t0',0.2],['.source #t1','.target #t0',0.2],['.source #t2','.target #t0',0.2],['.source #t3','.target #t0',0.2],['.source #t4','.target #t0',0.2],['.source #t0','.target #t1',0.2],['.source #t1','.target #t1',0.2],['.source #t2','.target #t1',0.2],['.source #t3','.target #t1',0.2],['.source #t4','.target #t1',0.2],['.source #t0','.target #t2',0.2],['.source #t1','.target #t2',0.2],['.source #t2','.target #t2',0.2],['.source #t3','.target #t2',0.2],['.source #t4','.target #t2',0.2],['.source #t0','.target #t3',0.2],['.source #t1','.target #t3',0.2],['.source #t2','.target #t3',0.2],['.source #t3','.target #t3',0.2],['.source #t4','.target #t3',0.2]];\n",
       "                  function appendLine(alignment) {\n",
       "                      s1 = root.find(alignment[0])[0];\n",
       "                      x1 = s1.getExtentOfChar(0).x + s1.getComputedTextLength() / 2.0;\n",
       "                      y1 = s1.getExtentOfChar(0).y + s1.getExtentOfChar(0).height;\n",
       "                      s2 = root.find(alignment[1])[0];\n",
       "                      x2 = s2.getExtentOfChar(0).x + s2.getComputedTextLength() / 2.0;\n",
       "                      y2 = s2.getExtentOfChar(0).y;\n",
       "                      var newLine = document.createElementNS('http://www.w3.org/2000/svg','line');\n",
       "                      var score = alignment[2];\n",
       "                      newLine.setAttribute('x1',x1.toString());\n",
       "                      newLine.setAttribute('y1',y1.toString());\n",
       "                      newLine.setAttribute('x2',x2.toString());\n",
       "                      newLine.setAttribute('y2',y2.toString());\n",
       "                      newLine.setAttribute('style',\"stroke:black;stroke-width:2;stroke-opacity:\" + score + \";\");\n",
       "                      root.find('.connections').append(newLine)\n",
       "                  };\n",
       "                  //console.log(alignments);\n",
       "                  for (var i = 0; i < alignments.length; i++) {\n",
       "                    appendLine(alignments[i]);\n",
       "                  }\n",
       "                  //console.log($(root).find('.connections'));\n",
       "              });\n",
       "            </script>\n",
       "        </svg>\n",
       "        "
      ],
      "text/plain": [
       "<statnlpbook.word_mt.Alignment at 0x10a193f60>"
      ]
     },
     "execution_count": 117,
     "metadata": {},
     "output_type": "execute_result"
    }
   ],
   "source": [
    "# try  {'is':{'ist':0.5, 'Haus':0.5}}, {1:1}\n",
    "show_alignment_for_model(0)"
   ]
  },
  {
   "cell_type": "markdown",
   "metadata": {
    "slideshow": {
     "slide_type": "subslide"
    }
   },
   "source": [
    "### M-Step\n",
    "\n",
    "The M-Step optimizes a *weighted* or *expected* version of log-likelihood using distribution \\\\(\\pi\\\\) from last E-Step:\n",
    "\n",
    "$$\n",
    "  \\params^* = \\argmax_\\params \\sum_{(\\target,\\source) \\in \\train} \\sum_\\aligns \\pi(\\aligns|\\target,\\source) \\log \\prob _\\params^\\text{IBM2}(\\source,\\aligns|\\target)\n",
    "$$"
   ]
  },
  {
   "cell_type": "markdown",
   "metadata": {
    "slideshow": {
     "slide_type": "subslide"
    }
   },
   "source": [
    "Because \\\\(\\pi\\\\) factorizes we have a closed-form solution:\n",
    "\n",
    "$$\n",
    "  \\alpha(\\ssource|\\starget) = \\frac\n",
    "    {\\sum_{(\\target,\\source)}\\sum_i^{l_\\source} \\sum_j^{l_\\target} \\pi(j|i) \\delta(\\ssource,\\ssource_i) \\delta(\\starget,\\starget_j) }\n",
    "    {\\sum_{(\\target,\\source)} \\sum_j^{l_\\target} \\delta(\\starget,\\starget_j) }\n",
    "$$\n",
    "\n",
    "* \\\\(\\delta(x,y)\\\\) is 1 if \\\\(x=y\\\\) and 0 otherwise"
   ]
  },
  {
   "cell_type": "code",
   "execution_count": 19,
   "metadata": {
    "collapsed": false,
    "hideCode": true,
    "hidePrompt": true,
    "slideshow": {
     "slide_type": "subslide"
    }
   },
   "outputs": [
    {
     "data": {
      "text/html": [
       "\n",
       "        <svg id='a2398846-9929-11e6-8fc9-a0999b02cfbb' xmlns=\"http://www.w3.org/2000/svg\"\n",
       "             xmlns:xlink=\"http://www.w3.org/1999/xlink\"\n",
       "             viewBox=\"0 0 400 100\"\n",
       "             >\n",
       "\n",
       "            <text x=\"0\" y=\"20\" class=\"source\">\n",
       "                <tspan id='t0'>NULL</tspan> <tspan id='t1'>the</tspan> <tspan id='t2'>house</tspan> <tspan id='t3'>is</tspan> <tspan id='t4'>small</tspan>\n",
       "            </text>\n",
       "            <text x=\"0\" y=\"95\" class=\"target\">\n",
       "                <tspan id='t0'>klein</tspan> <tspan id='t1'>ist</tspan> <tspan id='t2'>das</tspan> <tspan id='t3'>Haus</tspan>\n",
       "            </text>\n",
       "            <g class='connections'></g>\n",
       "            <script>\n",
       "              $(function() {\n",
       "                  root = $(document.getElementById('a2398846-9929-11e6-8fc9-a0999b02cfbb'));\n",
       "                  root.find('.connections').empty();\n",
       "                  alignments = [['.source #t0','.target #t0',0.2],['.source #t1','.target #t0',0.2],['.source #t2','.target #t0',0.2],['.source #t3','.target #t0',0.2],['.source #t4','.target #t0',0.2],['.source #t0','.target #t1',0.2],['.source #t1','.target #t1',0.2],['.source #t2','.target #t1',0.2],['.source #t3','.target #t1',0.2],['.source #t4','.target #t1',0.2],['.source #t0','.target #t2',0.2],['.source #t1','.target #t2',0.2],['.source #t2','.target #t2',0.2],['.source #t3','.target #t2',0.2],['.source #t4','.target #t2',0.2],['.source #t0','.target #t3',0.2],['.source #t1','.target #t3',0.2],['.source #t2','.target #t3',0.2],['.source #t3','.target #t3',0.2],['.source #t4','.target #t3',0.2]];\n",
       "                  function appendLine(alignment) {\n",
       "                      s1 = root.find(alignment[0])[0];\n",
       "                      x1 = s1.getExtentOfChar(0).x + s1.getComputedTextLength() / 2.0;\n",
       "                      y1 = s1.getExtentOfChar(0).y + s1.getExtentOfChar(0).height;\n",
       "                      s2 = root.find(alignment[1])[0];\n",
       "                      x2 = s2.getExtentOfChar(0).x + s2.getComputedTextLength() / 2.0;\n",
       "                      y2 = s2.getExtentOfChar(0).y;\n",
       "                      var newLine = document.createElementNS('http://www.w3.org/2000/svg','line');\n",
       "                      var score = alignment[2];\n",
       "                      newLine.setAttribute('x1',x1.toString());\n",
       "                      newLine.setAttribute('y1',y1.toString());\n",
       "                      newLine.setAttribute('x2',x2.toString());\n",
       "                      newLine.setAttribute('y2',y2.toString());\n",
       "                      newLine.setAttribute('style',\"stroke:black;stroke-width:2;stroke-opacity:\" + score + \";\");\n",
       "                      root.find('.connections').append(newLine)\n",
       "                  };\n",
       "                  //console.log(alignments);\n",
       "                  for (var i = 0; i < alignments.length; i++) {\n",
       "                    appendLine(alignments[i]);\n",
       "                  }\n",
       "                  //console.log($(root).find('.connections'));\n",
       "              });\n",
       "            </script>\n",
       "        </svg>\n",
       "        "
      ],
      "text/plain": [
       "<statnlpbook.word_mt.Alignment at 0x10a4e52b0>"
      ]
     },
     "execution_count": 19,
     "metadata": {},
     "output_type": "execute_result"
    }
   ],
   "source": [
    "word_mt.Alignment.from_matrix(align_matrices[sent], \n",
    "                              train_model_2[sent][1], \n",
    "                              train_model_2[sent][0])"
   ]
  },
  {
   "cell_type": "markdown",
   "metadata": {
    "slideshow": {
     "slide_type": "-"
    }
   },
   "source": [
    "Example: \n",
    "\n",
    "$$\n",
    "  \\alpha(\\text{das|the}) = \\frac{0.2 * 0 * 0 + \\ldots + 0.2 * 1 * 1 + \\ldots}{0 + 1 + 0 + 0 + 0} = \\frac{0.2}{1}\n",
    "$$\n"
   ]
  },
  {
   "cell_type": "markdown",
   "metadata": {
    "slideshow": {
     "slide_type": "subslide"
    }
   },
   "source": [
    "Implement M-Step, estimating parameters \\\\(\\params\\\\) from (soft) alignments \\\\(\\aligns\\\\)"
   ]
  },
  {
   "cell_type": "code",
   "execution_count": 38,
   "metadata": {
    "collapsed": false,
    "hideCode": false,
    "slideshow": {
     "slide_type": "skip"
    }
   },
   "outputs": [],
   "source": [
    "theta1 = m_step(align_matrices, train_model_2)    \n",
    "def show_initial_alpha(target):\n",
    "    plot_table_for_target(theta1.alpha, target) "
   ]
  },
  {
   "cell_type": "code",
   "execution_count": 40,
   "metadata": {
    "collapsed": false,
    "hideCode": false,
    "slideshow": {
     "slide_type": "-"
    }
   },
   "outputs": [
    {
     "data": {
      "image/png": "[encoded data removed]",
      "text/plain": [
       "<matplotlib.figure.Figure at 0x10a04c8d0>"
      ]
     },
     "metadata": {},
     "output_type": "display_data"
    }
   ],
   "source": [
    "show_initial_alpha(\"is\")"
   ]
  },
  {
   "cell_type": "code",
   "execution_count": 33,
   "metadata": {
    "collapsed": true,
    "slideshow": {
     "slide_type": "skip"
    }
   },
   "outputs": [],
   "source": [
    "align_matrices = e_step(theta1, train_model_2)\n",
    "def show_initial_alignment(sent):\n",
    "    return word_mt.Alignment.from_matrix(align_matrices[sent], \n",
    "                                  train_model_2[sent][1], \n",
    "                                  train_model_2[sent][0])    "
   ]
  },
  {
   "cell_type": "code",
   "execution_count": 41,
   "metadata": {
    "collapsed": false,
    "hideCode": false,
    "slideshow": {
     "slide_type": "subslide"
    }
   },
   "outputs": [
    {
     "data": {
      "text/html": [
       "\n",
       "        <svg id='b658a800-992d-11e6-a9ae-a0999b02cfbb' xmlns=\"http://www.w3.org/2000/svg\"\n",
       "             xmlns:xlink=\"http://www.w3.org/1999/xlink\"\n",
       "             viewBox=\"0 0 400 100\"\n",
       "             >\n",
       "\n",
       "            <text x=\"0\" y=\"20\" class=\"source\">\n",
       "                <tspan id='t0'>NULL</tspan> <tspan id='t1'>the</tspan> <tspan id='t2'>house</tspan> <tspan id='t3'>is</tspan> <tspan id='t4'>small</tspan>\n",
       "            </text>\n",
       "            <text x=\"0\" y=\"95\" class=\"target\">\n",
       "                <tspan id='t0'>klein</tspan> <tspan id='t1'>ist</tspan> <tspan id='t2'>das</tspan> <tspan id='t3'>Haus</tspan>\n",
       "            </text>\n",
       "            <g class='connections'></g>\n",
       "            <script>\n",
       "              $(function() {\n",
       "                  root = $(document.getElementById('b658a800-992d-11e6-a9ae-a0999b02cfbb'));\n",
       "                  root.find('.connections').empty();\n",
       "                  alignments = [['.source #t0','.target #t0',0.12765957446808507],['.source #t1','.target #t0',0.10638297872340426],['.source #t2','.target #t0',0.31914893617021284],['.source #t3','.target #t0',0.12765957446808507],['.source #t4','.target #t0',0.31914893617021284],['.source #t0','.target #t1',0.19999999999999993],['.source #t1','.target #t1',0.20000000000000004],['.source #t2','.target #t1',0.20000000000000004],['.source #t3','.target #t1',0.19999999999999993],['.source #t4','.target #t1',0.20000000000000004],['.source #t0','.target #t2',0.18749999999999994],['.source #t1','.target #t2',0.3125],['.source #t2','.target #t2',0.15625],['.source #t3','.target #t2',0.18749999999999994],['.source #t4','.target #t2',0.15625],['.source #t0','.target #t3',0.12765957446808507],['.source #t1','.target #t3',0.10638297872340426],['.source #t2','.target #t3',0.31914893617021284],['.source #t3','.target #t3',0.12765957446808507],['.source #t4','.target #t3',0.31914893617021284]];\n",
       "                  function appendLine(alignment) {\n",
       "                      s1 = root.find(alignment[0])[0];\n",
       "                      x1 = s1.getExtentOfChar(0).x + s1.getComputedTextLength() / 2.0;\n",
       "                      y1 = s1.getExtentOfChar(0).y + s1.getExtentOfChar(0).height;\n",
       "                      s2 = root.find(alignment[1])[0];\n",
       "                      x2 = s2.getExtentOfChar(0).x + s2.getComputedTextLength() / 2.0;\n",
       "                      y2 = s2.getExtentOfChar(0).y;\n",
       "                      var newLine = document.createElementNS('http://www.w3.org/2000/svg','line');\n",
       "                      var score = alignment[2];\n",
       "                      newLine.setAttribute('x1',x1.toString());\n",
       "                      newLine.setAttribute('y1',y1.toString());\n",
       "                      newLine.setAttribute('x2',x2.toString());\n",
       "                      newLine.setAttribute('y2',y2.toString());\n",
       "                      newLine.setAttribute('style',\"stroke:black;stroke-width:2;stroke-opacity:\" + score + \";\");\n",
       "                      root.find('.connections').append(newLine)\n",
       "                  };\n",
       "                  //console.log(alignments);\n",
       "                  for (var i = 0; i < alignments.length; i++) {\n",
       "                    appendLine(alignments[i]);\n",
       "                  }\n",
       "                  //console.log($(root).find('.connections'));\n",
       "              });\n",
       "            </script>\n",
       "        </svg>\n",
       "        "
      ],
      "text/plain": [
       "<statnlpbook.word_mt.Alignment at 0x109ddfeb8>"
      ]
     },
     "execution_count": 41,
     "metadata": {},
     "output_type": "execute_result"
    }
   ],
   "source": [
    "show_initial_alignment(0)"
   ]
  },
  {
   "cell_type": "markdown",
   "metadata": {
    "slideshow": {
     "slide_type": "subslide"
    }
   },
   "source": [
    "### Initialisation\n",
    "Good initialisation is **crucial for EM**"
   ]
  },
  {
   "cell_type": "markdown",
   "metadata": {
    "slideshow": {
     "slide_type": "subslide"
    }
   },
   "source": [
    "### Baby Steps\n",
    "Initialise with the parameters of a simpler model with **fixed distortion** table:\n",
    "\n",
    "$$\n",
    "  \\beta(a_i|i,l_\\starget,l_\\ssource) = \\frac{1}{l_\\starget + 1}\n",
    "$$\n",
    "\n",
    "This is **IBM Model 1**!"
   ]
  },
  {
   "cell_type": "markdown",
   "metadata": {
    "slideshow": {
     "slide_type": "subslide"
    }
   },
   "source": [
    "Train IBM Model 1 and see if it **converges**"
   ]
  },
  {
   "cell_type": "code",
   "execution_count": 47,
   "metadata": {
    "collapsed": false,
    "scrolled": false,
    "slideshow": {
     "slide_type": "skip"
    }
   },
   "outputs": [],
   "source": [
    "ibm1_iterations = em_model1(init_model, train_model_2, 100)\n",
    "def plot_ibm1_change(end):\n",
    "    plt.plot(range(0,end), [change for _, _, change in ibm1_iterations[:end]])"
   ]
  },
  {
   "cell_type": "code",
   "execution_count": 52,
   "metadata": {
    "collapsed": false,
    "scrolled": false,
    "slideshow": {
     "slide_type": "fragment"
    }
   },
   "outputs": [
    {
     "data": {
      "image/png": "[encoded data removed]",
      "text/plain": [
       "<matplotlib.figure.Figure at 0x109efbc88>"
      ]
     },
     "metadata": {},
     "output_type": "display_data"
    }
   ],
   "source": [
    "plot_ibm1_change(5)"
   ]
  },
  {
   "cell_type": "markdown",
   "metadata": {
    "slideshow": {
     "slide_type": "subslide"
    }
   },
   "source": [
    "Translation Table?"
   ]
  },
  {
   "cell_type": "code",
   "execution_count": 58,
   "metadata": {
    "collapsed": false,
    "scrolled": false,
    "slideshow": {
     "slide_type": "skip"
    }
   },
   "outputs": [],
   "source": [
    "def show_ibm1_alpha(target):\n",
    "    plot_table_for_target(ibm1_iterations[-1][1].alpha, target)"
   ]
  },
  {
   "cell_type": "code",
   "execution_count": 59,
   "metadata": {
    "collapsed": false,
    "scrolled": false,
    "slideshow": {
     "slide_type": "fragment"
    }
   },
   "outputs": [
    {
     "data": {
      "image/png": "[encoded data removed]",
      "text/plain": [
       "<matplotlib.figure.Figure at 0x109c2aba8>"
      ]
     },
     "metadata": {},
     "output_type": "display_data"
    }
   ],
   "source": [
    "show_ibm1_alpha(\"house\")"
   ]
  },
  {
   "cell_type": "markdown",
   "metadata": {
    "slideshow": {
     "slide_type": "subslide"
    }
   },
   "source": [
    "Alignments?"
   ]
  },
  {
   "cell_type": "code",
   "execution_count": 60,
   "metadata": {
    "collapsed": false,
    "slideshow": {
     "slide_type": "skip"
    }
   },
   "outputs": [],
   "source": [
    "def show_ibm1_alignments(sent):\n",
    "    return word_mt.Alignment.from_matrix(ibm1_iterations[-1][0][sent],train_model_2[sent][1], train_model_2[sent][0])"
   ]
  },
  {
   "cell_type": "code",
   "execution_count": 61,
   "metadata": {
    "collapsed": false,
    "slideshow": {
     "slide_type": "fragment"
    }
   },
   "outputs": [
    {
     "data": {
      "text/html": [
       "\n",
       "        <svg id='c6ee078c-992e-11e6-a046-a0999b02cfbb' xmlns=\"http://www.w3.org/2000/svg\"\n",
       "             xmlns:xlink=\"http://www.w3.org/1999/xlink\"\n",
       "             viewBox=\"0 0 400 100\"\n",
       "             >\n",
       "\n",
       "            <text x=\"0\" y=\"20\" class=\"source\">\n",
       "                <tspan id='t0'>NULL</tspan> <tspan id='t1'>the</tspan> <tspan id='t2'>house</tspan> <tspan id='t3'>is</tspan> <tspan id='t4'>small</tspan>\n",
       "            </text>\n",
       "            <text x=\"0\" y=\"95\" class=\"target\">\n",
       "                <tspan id='t0'>klein</tspan> <tspan id='t1'>ist</tspan> <tspan id='t2'>das</tspan> <tspan id='t3'>Haus</tspan>\n",
       "            </text>\n",
       "            <g class='connections'></g>\n",
       "            <script>\n",
       "              $(function() {\n",
       "                  root = $(document.getElementById('c6ee078c-992e-11e6-a046-a0999b02cfbb'));\n",
       "                  root.find('.connections').empty();\n",
       "                  alignments = [['.source #t0','.target #t0',2.6280259695372476e-14],['.source #t1','.target #t0',1.863439198452529e-42],['.source #t2','.target #t0',0.4999999999999737],['.source #t3','.target #t0',2.6280259695372476e-14],['.source #t4','.target #t0',0.4999999999999737],['.source #t0','.target #t1',0.5],['.source #t1','.target #t1',6.940522787929912e-22],['.source #t2','.target #t1',3.88664621703916e-27],['.source #t3','.target #t1',0.5],['.source #t4','.target #t1',3.88664621703916e-27],['.source #t0','.target #t2',0.055552866879861405],['.source #t1','.target #t2',0.8888942662402771],['.source #t2','.target #t2',4.152175776717941e-35],['.source #t3','.target #t2',0.055552866879861405],['.source #t4','.target #t2',4.152175776717941e-35],['.source #t0','.target #t3',2.6280259695372476e-14],['.source #t1','.target #t3',1.863439198452529e-42],['.source #t2','.target #t3',0.4999999999999737],['.source #t3','.target #t3',2.6280259695372476e-14],['.source #t4','.target #t3',0.4999999999999737]];\n",
       "                  function appendLine(alignment) {\n",
       "                      s1 = root.find(alignment[0])[0];\n",
       "                      x1 = s1.getExtentOfChar(0).x + s1.getComputedTextLength() / 2.0;\n",
       "                      y1 = s1.getExtentOfChar(0).y + s1.getExtentOfChar(0).height;\n",
       "                      s2 = root.find(alignment[1])[0];\n",
       "                      x2 = s2.getExtentOfChar(0).x + s2.getComputedTextLength() / 2.0;\n",
       "                      y2 = s2.getExtentOfChar(0).y;\n",
       "                      var newLine = document.createElementNS('http://www.w3.org/2000/svg','line');\n",
       "                      var score = alignment[2];\n",
       "                      newLine.setAttribute('x1',x1.toString());\n",
       "                      newLine.setAttribute('y1',y1.toString());\n",
       "                      newLine.setAttribute('x2',x2.toString());\n",
       "                      newLine.setAttribute('y2',y2.toString());\n",
       "                      newLine.setAttribute('style',\"stroke:black;stroke-width:2;stroke-opacity:\" + score + \";\");\n",
       "                      root.find('.connections').append(newLine)\n",
       "                  };\n",
       "                  //console.log(alignments);\n",
       "                  for (var i = 0; i < alignments.length; i++) {\n",
       "                    appendLine(alignments[i]);\n",
       "                  }\n",
       "                  //console.log($(root).find('.connections'));\n",
       "              });\n",
       "            </script>\n",
       "        </svg>\n",
       "        "
      ],
      "text/plain": [
       "<statnlpbook.word_mt.Alignment at 0x10a15d160>"
      ]
     },
     "execution_count": 61,
     "metadata": {},
     "output_type": "execute_result"
    }
   ],
   "source": [
    "show_ibm1_alignments(0)"
   ]
  },
  {
   "cell_type": "markdown",
   "metadata": {
    "slideshow": {
     "slide_type": "subslide"
    }
   },
   "source": [
    "Distortions?"
   ]
  },
  {
   "cell_type": "code",
   "execution_count": 62,
   "metadata": {
    "collapsed": false,
    "slideshow": {
     "slide_type": "skip"
    }
   },
   "outputs": [],
   "source": [
    "def show_ibm1_distortions(si):\n",
    "    util.plot_bar_graph([ibm1.beta[ti,si,5,4] for ti in range(0,5)],\n",
    "                        range(0,5)) # change source index != 0"
   ]
  },
  {
   "cell_type": "code",
   "execution_count": 67,
   "metadata": {
    "collapsed": false,
    "slideshow": {
     "slide_type": "fragment"
    }
   },
   "outputs": [
    {
     "data": {
      "image/png": "[encoded data removed]",
      "text/plain": [
       "<matplotlib.figure.Figure at 0x10a16c518>"
      ]
     },
     "metadata": {},
     "output_type": "display_data"
    }
   ],
   "source": [
    "show_ibm1_distortions(0)"
   ]
  },
  {
   "cell_type": "markdown",
   "metadata": {
    "slideshow": {
     "slide_type": "subslide"
    }
   },
   "source": [
    "Now learn **distortion table** in Model 2"
   ]
  },
  {
   "cell_type": "code",
   "execution_count": 76,
   "metadata": {
    "collapsed": true,
    "slideshow": {
     "slide_type": "skip"
    }
   },
   "outputs": [],
   "source": [
    "ibm1 = ibm1_iterations[-1][1] # model 1 of last iteration \n",
    "\n",
    "def show_ibm2_alpha(num_iterations, target):\n",
    "    ibm2_iterations = em_model2(ibm1, train_model_2, num_iterations)\n",
    "    ibm2 = ibm2_iterations[-1][1] # model 2 of last iteration\n",
    "    plot_table_for_target(ibm2.alpha, target)\n",
    "    \n",
    "def show_ibm2_alignments(num_iterations, sent):\n",
    "    ibm2_iterations = em_model2(ibm1, train_model_2, num_iterations)\n",
    "    ibm2 = ibm2_iterations[-1][1] # model 2 of last iteration\n",
    "    return word_mt.Alignment.from_matrix(ibm2_iterations[-1][0][sent],train_model_2[sent][1], train_model_2[sent][0])\n",
    "\n",
    "def show_ibm2_distortions(num_iterations, si):\n",
    "    ibm2_iterations = em_model2(ibm1, train_model_2, num_iterations)\n",
    "    ibm2 = ibm2_iterations[-1][1] # model 2 of last iteration\n",
    "    util.plot_bar_graph([ibm2.beta[ti,si,5,4] for ti in range(0,5)],\n",
    "                    range(0,5)) # change source index != 0"
   ]
  },
  {
   "cell_type": "code",
   "execution_count": 85,
   "metadata": {
    "collapsed": false,
    "scrolled": true,
    "slideshow": {
     "slide_type": "fragment"
    }
   },
   "outputs": [
    {
     "data": {
      "image/png": "[encoded data removed]",
      "text/plain": [
       "<matplotlib.figure.Figure at 0x10ac8a400>"
      ]
     },
     "metadata": {},
     "output_type": "display_data"
    }
   ],
   "source": [
    "show_ibm2_distortions(1,0)"
   ]
  },
  {
   "cell_type": "markdown",
   "metadata": {
    "slideshow": {
     "slide_type": "subslide"
    }
   },
   "source": [
    "Alignments? "
   ]
  },
  {
   "cell_type": "code",
   "execution_count": 86,
   "metadata": {
    "collapsed": false,
    "slideshow": {
     "slide_type": "fragment"
    }
   },
   "outputs": [
    {
     "data": {
      "text/html": [
       "\n",
       "        <svg id='30ee63a8-9930-11e6-b101-a0999b02cfbb' xmlns=\"http://www.w3.org/2000/svg\"\n",
       "             xmlns:xlink=\"http://www.w3.org/1999/xlink\"\n",
       "             viewBox=\"0 0 400 100\"\n",
       "             >\n",
       "\n",
       "            <text x=\"0\" y=\"20\" class=\"source\">\n",
       "                <tspan id='t0'>NULL</tspan> <tspan id='t1'>the</tspan> <tspan id='t2'>house</tspan> <tspan id='t3'>is</tspan> <tspan id='t4'>small</tspan>\n",
       "            </text>\n",
       "            <text x=\"0\" y=\"95\" class=\"target\">\n",
       "                <tspan id='t0'>klein</tspan> <tspan id='t1'>ist</tspan> <tspan id='t2'>das</tspan> <tspan id='t3'>Haus</tspan>\n",
       "            </text>\n",
       "            <g class='connections'></g>\n",
       "            <script>\n",
       "              $(function() {\n",
       "                  root = $(document.getElementById('30ee63a8-9930-11e6-b101-a0999b02cfbb'));\n",
       "                  root.find('.connections').empty();\n",
       "                  alignments = [['.source #t0','.target #t0',1.9675871049911554e-14],['.source #t1','.target #t0',6.9878798716872455e-43],['.source #t2','.target #t0',0.4999999999999803],['.source #t3','.target #t0',1.9675871049911554e-14],['.source #t4','.target #t0',0.4999999999999803],['.source #t0','.target #t1',0.5],['.source #t1','.target #t1',4.1642899361727305e-22],['.source #t2','.target #t1',2.076494030047765e-27],['.source #t3','.target #t1',0.5],['.source #t4','.target #t1',2.076494030047765e-27],['.source #t0','.target #t2',0.055553148350816914],['.source #t1','.target #t2',0.8888937032983663],['.source #t2','.target #t2',1.8486467183663353e-35],['.source #t3','.target #t2',0.055553148350816914],['.source #t4','.target #t2',1.8486467183663353e-35],['.source #t0','.target #t3',1.9675871049911554e-14],['.source #t1','.target #t3',6.9878798716872455e-43],['.source #t2','.target #t3',0.4999999999999803],['.source #t3','.target #t3',1.9675871049911554e-14],['.source #t4','.target #t3',0.4999999999999803]];\n",
       "                  function appendLine(alignment) {\n",
       "                      s1 = root.find(alignment[0])[0];\n",
       "                      x1 = s1.getExtentOfChar(0).x + s1.getComputedTextLength() / 2.0;\n",
       "                      y1 = s1.getExtentOfChar(0).y + s1.getExtentOfChar(0).height;\n",
       "                      s2 = root.find(alignment[1])[0];\n",
       "                      x2 = s2.getExtentOfChar(0).x + s2.getComputedTextLength() / 2.0;\n",
       "                      y2 = s2.getExtentOfChar(0).y;\n",
       "                      var newLine = document.createElementNS('http://www.w3.org/2000/svg','line');\n",
       "                      var score = alignment[2];\n",
       "                      newLine.setAttribute('x1',x1.toString());\n",
       "                      newLine.setAttribute('y1',y1.toString());\n",
       "                      newLine.setAttribute('x2',x2.toString());\n",
       "                      newLine.setAttribute('y2',y2.toString());\n",
       "                      newLine.setAttribute('style',\"stroke:black;stroke-width:2;stroke-opacity:\" + score + \";\");\n",
       "                      root.find('.connections').append(newLine)\n",
       "                  };\n",
       "                  //console.log(alignments);\n",
       "                  for (var i = 0; i < alignments.length; i++) {\n",
       "                    appendLine(alignments[i]);\n",
       "                  }\n",
       "                  //console.log($(root).find('.connections'));\n",
       "              });\n",
       "            </script>\n",
       "        </svg>\n",
       "        "
      ],
      "text/plain": [
       "<statnlpbook.word_mt.Alignment at 0x10a282f28>"
      ]
     },
     "execution_count": 86,
     "metadata": {},
     "output_type": "execute_result"
    }
   ],
   "source": [
    "show_ibm2_alignments(1, 0)"
   ]
  },
  {
   "cell_type": "markdown",
   "metadata": {
    "slideshow": {
     "slide_type": "subslide"
    }
   },
   "source": [
    "Translation Table? "
   ]
  },
  {
   "cell_type": "code",
   "execution_count": 90,
   "metadata": {
    "collapsed": false,
    "slideshow": {
     "slide_type": "fragment"
    }
   },
   "outputs": [
    {
     "data": {
      "image/png": "[encoded data removed]",
      "text/plain": [
       "<matplotlib.figure.Figure at 0x10a90b9b0>"
      ]
     },
     "metadata": {},
     "output_type": "display_data"
    }
   ],
   "source": [
    "show_ibm2_alpha(1, \"house\")"
   ]
  },
  {
   "cell_type": "markdown",
   "metadata": {
    "slideshow": {
     "slide_type": "slide"
    }
   },
   "source": [
    "## Decoding with Model 2\n",
    "\n",
    "Ideally **marginalise out alignments**\n",
    "\n",
    "$$\n",
    "\\argmax_{\\target} p_\\params^\\text{IBM2}(\\source|\\target) \\prob^\\text{LM}(\\target)\n",
    "$$\n",
    "\n",
    "with \n",
    "$$\n",
    "  p_\\params^\\text{IBM2}(\\source|\\target) =  \\sum_{\\aligns}  p_\\params^\\text{IBM2}(\\source,\\aligns|\\target) \n",
    "$$\n"
   ]
  },
  {
   "cell_type": "markdown",
   "metadata": {
    "hideCode": false,
    "slideshow": {
     "slide_type": "subslide"
    }
   },
   "source": [
    "Computationally **very expensive**, instead solve\n",
    "\n",
    "$$\n",
    "\\argmax_{\\target,\\aligns} p_\\params^\\text{IBM2}(\\source,\\aligns|\\target) \\prob^\\text{LM}(\\target)\n",
    "$$"
   ]
  },
  {
   "cell_type": "markdown",
   "metadata": {
    "slideshow": {
     "slide_type": "subslide"
    }
   },
   "source": [
    "Choices:\n",
    "\n",
    "* Simple **approximate** method\n",
    "* Complex **exact** method\n",
    "\n",
    "Both presentend in [these slides](https://www.dropbox.com/s/p495n19h5rtk3uf/IBM-decoding.pdf?dl=0)"
   ]
  },
  {
   "cell_type": "markdown",
   "metadata": {
    "slideshow": {
     "slide_type": "subslide"
    }
   },
   "source": [
    "### Beam Based Decoder\n",
    "* In each step chooses **best next source word to translate**\n",
    "* **Append a target word** based on source word\n",
    "* Maintains a list of top-$k$ hypotheses in a **beam**"
   ]
  },
  {
   "cell_type": "code",
   "execution_count": 99,
   "metadata": {
    "collapsed": false,
    "slideshow": {
     "slide_type": "skip"
    }
   },
   "outputs": [],
   "source": [
    "def show_decode_history(begin, end, beam=4, lm=uni_lm, num_iterations=3):\n",
    "    ibm2_iterations = em_model2(ibm1, train_model_2, num_iterations)\n",
    "    ibm2 = ibm2_iterations[-1][1] # model 2 of last iteration\n",
    "    hist2 = decode_model_2(ibm2, lm, source, beam)\n",
    "    return mt.render_history(hist2[begin:end])"
   ]
  },
  {
   "cell_type": "code",
   "execution_count": 107,
   "metadata": {
    "collapsed": false,
    "slideshow": {
     "slide_type": "subslide"
    }
   },
   "outputs": [
    {
     "data": {
      "text/html": [
       "<table><tr><td>NULL</td><td>groß ist ein Mann</td><td>4</td><td>0.0</td></tr></table>"
      ],
      "text/plain": [
       "<statnlpbook.mt.render_history.<locals>.Test at 0x10a193f98>"
      ]
     },
     "execution_count": 107,
     "metadata": {},
     "output_type": "execute_result"
    }
   ],
   "source": [
    "uni_lm = UniformLM({w for w in target_vocab if w != 'NULL'})\n",
    "# ngram_lm = LaplaceLM(NGramLM(lm_train, 3),0.1)\n",
    "show_decode_history(begin=0,end=1,beam=5)"
   ]
  },
  {
   "cell_type": "markdown",
   "metadata": {
    "collapsed": false,
    "slideshow": {
     "slide_type": "slide"
    }
   },
   "source": [
    "## Summary \n",
    "\n",
    "* MT is an instance structured prediction recipe\n",
    "* The noisy channel is one modeling framework\n",
    "* word-based MT is foundation and blue print for more complex models\n",
    "* Training with EM\n",
    "* NLP Tricks: \n",
    "    * introducing latent alignment variables to simplify problem\n",
    "    * decoding with Beams"
   ]
  },
  {
   "cell_type": "markdown",
   "metadata": {
    "collapsed": false,
    "slideshow": {
     "slide_type": "slide"
    }
   },
   "source": [
    "## Background Material\n",
    "* [Lecture notes on IBM Model 1 and 2](http://www.cs.columbia.edu/~mcollins/courses/nlp2011/notes/ibm12.pdf) of Mike Collins.  \n",
    "* Jurafsky & Martin, Speech and Language Processing: \n",
    "    * Chapter 26, Machine Translation.\n",
    "    * Chapter 6, EM Algorithm\n",
    "* Brown et al., [The Mathematics of Statistical Machine Translation: Parameter Estimation](http://www.aclweb.org/anthology/J93-2003)"
   ]
  }
 ],
 "metadata": {
  "celltoolbar": "Slideshow",
  "kernelspec": {
   "display_name": "Python 3",
   "language": "python",
   "name": "python3"
  },
  "language_info": {
   "codemirror_mode": {
    "name": "ipython",
    "version": 3
   },
   "file_extension": ".py",
   "mimetype": "text/x-python",
   "name": "python",
   "nbconvert_exporter": "python",
   "pygments_lexer": "ipython3",
   "version": "3.5.1"
  }
 },
 "nbformat": 4,
 "nbformat_minor": 0
}
