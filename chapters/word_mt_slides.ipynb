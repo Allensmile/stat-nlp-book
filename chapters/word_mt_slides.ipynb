{
 "cells": [
  {
   "cell_type": "code",
   "execution_count": 1,
   "metadata": {
    "collapsed": false,
    "slideshow": {
     "slide_type": "skip"
    }
   },
   "outputs": [],
   "source": [
    "%%capture\n",
    "%load_ext autoreload\n",
    "%autoreload 2\n",
    "import sys\n",
    "sys.path.append(\"..\")\n",
    "import statnlpbook.util as util\n",
    "import statnlpbook.mt as mt\n",
    "util.execute_notebook('word_mt.ipynb')"
   ]
  },
  {
   "cell_type": "markdown",
   "metadata": {
    "slideshow": {
     "slide_type": "skip"
    }
   },
   "source": [
    "<!---\n",
    "Latex Macros\n",
    "-->\n",
    "$$\n",
    "\\newcommand{\\Xs}{\\mathcal{X}}\n",
    "\\newcommand{\\Ys}{\\mathcal{Y}}\n",
    "\\newcommand{\\y}{\\mathbf{y}}\n",
    "\\newcommand{\\balpha}{\\boldsymbol{\\alpha}}\n",
    "\\newcommand{\\bbeta}{\\boldsymbol{\\beta}}\n",
    "\\newcommand{\\aligns}{\\mathbf{a}}\n",
    "\\newcommand{\\align}{a}\n",
    "\\newcommand{\\source}{\\mathbf{s}}\n",
    "\\newcommand{\\target}{\\mathbf{t}}\n",
    "\\newcommand{\\ssource}{s}\n",
    "\\newcommand{\\starget}{t}\n",
    "\\newcommand{\\repr}{\\mathbf{f}}\n",
    "\\newcommand{\\repry}{\\mathbf{g}}\n",
    "\\newcommand{\\x}{\\mathbf{x}}\n",
    "\\newcommand{\\prob}{p}\n",
    "\\newcommand{\\a}{\\alpha}\n",
    "\\newcommand{\\b}{\\beta}\n",
    "\\newcommand{\\vocab}{V}\n",
    "\\newcommand{\\params}{\\boldsymbol{\\theta}}\n",
    "\\newcommand{\\param}{\\theta}\n",
    "\\DeclareMathOperator{\\perplexity}{PP}\n",
    "\\DeclareMathOperator{\\argmax}{argmax}\n",
    "\\DeclareMathOperator{\\argmin}{argmin}\n",
    "\\newcommand{\\train}{\\mathcal{D}}\n",
    "\\newcommand{\\counts}[2]{\\#_{#1}(#2) }\n",
    "\\newcommand{\\length}[1]{\\text{length}(#1) }\n",
    "\\newcommand{\\indi}{\\mathbb{I}}\n",
    "$$"
   ]
  },
  {
   "cell_type": "markdown",
   "metadata": {
    "slideshow": {
     "slide_type": "slide"
    }
   },
   "source": [
    "# (Word-based) Machine Translation"
   ]
  },
  {
   "cell_type": "markdown",
   "metadata": {
    "slideshow": {
     "slide_type": "slide"
    }
   },
   "source": [
    "##  Machine Translation (MT)\n",
    "\n",
    "* Paradigms: \n",
    "  * Rule-based vs **statistical**\n",
    "  * **feature-engineering** vs neural\n",
    "  * **word** vs phrase vs syntax units "
   ]
  },
  {
   "cell_type": "markdown",
   "metadata": {
    "slideshow": {
     "slide_type": "slide"
    }
   },
   "source": [
    "##  Word Based MT\n",
    "\n",
    "Translate **word-by-word**\n",
    "* **foundational** to all current approaches (e.g. neural methods)\n",
    "* **subcomponent** in more complex systems (for alignments)"
   ]
  },
  {
   "cell_type": "markdown",
   "metadata": {
    "slideshow": {
     "slide_type": "slide"
    }
   },
   "source": [
    "## MT as Structured Prediction\n",
    "\n",
    "* **source** sentence \\\\(\\source\\\\)\n",
    "    * aka $\\x$, usually tokenized \n",
    "* **target** sentence \\\\(\\target\\\\)\n",
    "    * aka $\\y$, usually tokenized \n",
    "* a **model** \\\\(s_\\params(\\target,\\source)\\\\) to measure match of \\\\(\\target\\\\) to $\\source$"
   ]
  },
  {
   "cell_type": "markdown",
   "metadata": {
    "slideshow": {
     "slide_type": "subslide"
    }
   },
   "source": [
    "### Training\n",
    "learn the parameters \\\\(\\params\\\\) from data \n",
    "* usually from **parallel corpora** of **aligned source and target sentences**\n",
    "* Where can you get such data from?"
   ]
  },
  {
   "cell_type": "markdown",
   "metadata": {
    "slideshow": {
     "slide_type": "subslide"
    }
   },
   "source": [
    "### Translation\n",
    "predict highest-scoring translation given source $\\source$:\n",
    "\n",
    "\\begin{equation}\n",
    "\\argmax_\\target s_\\params(\\target,\\source)\n",
    "\\end{equation}"
   ]
  },
  {
   "cell_type": "markdown",
   "metadata": {
    "slideshow": {
     "slide_type": "subslide"
    }
   },
   "source": [
    "MT approaches differ primarily in \n",
    "* how \\\\(s\\\\) is defined, \n",
    "* how \\\\(\\params\\\\) are learned\n",
    "* how the translation \\\\(\\argmax\\\\) is found"
   ]
  },
  {
   "cell_type": "markdown",
   "metadata": {
    "slideshow": {
     "slide_type": "subslide"
    }
   },
   "source": [
    "### Modelling\n",
    "How to define $s_\\params(\\target,\\source)$?"
   ]
  },
  {
   "cell_type": "markdown",
   "metadata": {
    "slideshow": {
     "slide_type": "slide"
    }
   },
   "source": [
    "## Generative Models \n",
    "How is the $(\\target,\\source)$ data **generated**? \n",
    "\n",
    "Develop a **distribution** $\\prob(\\target,\\source)$ that generates **faithful samples**  "
   ]
  },
  {
   "cell_type": "markdown",
   "metadata": {
    "slideshow": {
     "slide_type": "subslide"
    }
   },
   "source": [
    "Think about the problem **backwards**\n",
    "* Generate the target using $\\prob_{\\params_t}(\\target)$\n",
    "* Generate the source $\\source$ using $\\prob_{\\params_s}(\\source|\\target)$"
   ]
  },
  {
   "cell_type": "markdown",
   "metadata": {
    "slideshow": {
     "slide_type": "subslide"
    }
   },
   "source": [
    "This defines a **joint** distribution $\\prob_\\params(\\target,\\source) = \\prob_{\\params_t}(\\target) \\prob_{\\params_s}(\\source|\\target)$"
   ]
  },
  {
   "cell_type": "markdown",
   "metadata": {
    "slideshow": {
     "slide_type": "subslide"
    }
   },
   "source": [
    "### Training\n",
    "Find $\\params$ using **MLE** (or smoothed variants)\n",
    "\n",
    "$$\n",
    "\\argmax_\\params \\sum_{(\\target,\\source) \\in \\train} \\log \\prob_\\params(\\target, \\source)\n",
    "$$"
   ]
  },
  {
   "cell_type": "markdown",
   "metadata": {
    "hideCode": false,
    "slideshow": {
     "slide_type": "subslide"
    }
   },
   "source": [
    "### Translation\n",
    "Operate **forwards**:\n",
    "\n",
    "$$\n",
    "\\argmax_\\target \\prob_\\params(\\target|\\source) = \\argmax_\\target \\prob_\\params(\\target,\\source)\n",
    "$$\n",
    "\n",
    "Why this equality?"
   ]
  },
  {
   "cell_type": "markdown",
   "metadata": {
    "slideshow": {
     "slide_type": "subslide"
    }
   },
   "source": [
    "### Noisy Channel  \n",
    "$\\prob_\\params(\\target,\\source) = \\prob_{\\params_t}(\\target) \\prob_{\\params_s}(\\source|\\target)$ is often called a **noisy channel model**"
   ]
  },
  {
   "cell_type": "code",
   "execution_count": 2,
   "metadata": {
    "collapsed": false,
    "hideCode": true,
    "hidePrompt": true,
    "slideshow": {
     "slide_type": "fragment"
    }
   },
   "outputs": [
    {
     "data": {
      "image/png": "[encoded data removed]",
      "text/plain": [
       "<IPython.core.display.Image object>"
      ]
     },
     "execution_count": 2,
     "metadata": {},
     "output_type": "execute_result"
    }
   ],
   "source": [
    "%%tikz\n",
    "\\tikzset{every node/.style={font=\\sffamily,white}} \n",
    "\\node[fill=blue] at (0,0) (a) {Sender}; \n",
    "\\node[fill=blue] at (3,0) (b) {Channel}; \n",
    "\\node[fill=blue] at (6,0) (c) {Receiver}; \n",
    "\\draw[->] (a) -- (b) node [midway,above,font=\\scriptsize,black]{$p(\\mathbf{t})$}; \n",
    "\\draw[->] (b) -- (c) node [midway,above,font=\\scriptsize,black]{$p(\\mathbf{s}|\\mathbf{t})$};"
   ]
  },
  {
   "cell_type": "markdown",
   "metadata": {
    "hideCode": false,
    "slideshow": {
     "slide_type": "fragment"
    }
   },
   "source": [
    "* What does $\\prob(\\source|\\target)$ correspond to?\n",
    "* What does $\\prob(\\target)$ correspond to?"
   ]
  },
  {
   "cell_type": "markdown",
   "metadata": {
    "hideCode": false,
    "slideshow": {
     "slide_type": "subslide"
    }
   },
   "source": [
    "### Noisy Channel in MT\n",
    "* $\\prob_{\\params_s}(\\source|\\target)$ is called the **translation model**\n",
    "* $\\prob_{\\params_t}(\\target)$ is the **language model**"
   ]
  },
  {
   "cell_type": "markdown",
   "metadata": {
    "hideCode": false,
    "slideshow": {
     "slide_type": "subslide"
    }
   },
   "source": [
    "MLE for $\\prob_\\params(\\target,\\source) = \\prob_{\\params_t}(\\target) \\prob_{\\params_s}(\\source|\\target)$ can be calculated in two **independent steps**:\n",
    "* Estimate $\\params_t$ for $\\prob_{\\params_t}(\\target)$\n",
    "* Estimate $\\params_s$ for $\\prob_{\\params_s}(\\source|\\target)$\n",
    "\n",
    "Why useful?"
   ]
  },
  {
   "cell_type": "markdown",
   "metadata": {
    "hideCode": false,
    "slideshow": {
     "slide_type": "slide"
    }
   },
   "source": [
    "## Translation Models"
   ]
  },
  {
   "cell_type": "markdown",
   "metadata": {
    "hideCode": false,
    "slideshow": {
     "slide_type": "fragment"
    }
   },
   "source": [
    "$$\n",
    "\\prob^{\\text{Impossible}}_\\params(\\source|\\target) = \\params_{\\source,\\target}\n",
    "$$\n",
    "\n",
    "Why impossible?"
   ]
  },
  {
   "cell_type": "markdown",
   "metadata": {
    "slideshow": {
     "slide_type": "subslide"
    }
   },
   "source": [
    "Generally we want models that **factorize** (break up into smaller parts) for dealing with \n",
    "\n",
    "* **sparsity**\n",
    "* **memory limitations**\n",
    "* **runtime limitations**"
   ]
  },
  {
   "cell_type": "markdown",
   "metadata": {
    "hideCode": false,
    "slideshow": {
     "slide_type": "fragment"
    }
   },
   "source": [
    "How did **language models** do this? "
   ]
  },
  {
   "cell_type": "markdown",
   "metadata": {
    "hideCode": false,
    "slideshow": {
     "slide_type": "subslide"
    }
   },
   "source": [
    "Look at example for inspiration:\n",
    "\n",
    "|Token| 1 | 2 | 3 | 4 | \n",
    "|-|---|---|---|---|\n",
    "|**Target**| the | house | is | small |\n",
    "|**Source**| das | Haus | ist | klein |"
   ]
  },
  {
   "cell_type": "markdown",
   "metadata": {
    "collapsed": false,
    "hideCode": false,
    "slideshow": {
     "slide_type": "fragment"
    }
   },
   "source": [
    "$$\n",
    "\\prob_\\theta(\\source|\\target) = \\ldots\n",
    "$$"
   ]
  },
  {
   "cell_type": "markdown",
   "metadata": {
    "hideCode": false,
    "slideshow": {
     "slide_type": "subslide"
    }
   },
   "source": [
    "## Naive Translation Model\n",
    "\n",
    "$$\n",
    "\\prob_\\params^\\text{Naive}(\\source|\\target) = \\prod_i^{\\length{\\source}} \\prob_\\params(\\ssource_i|\\starget_i) = \\prod_i^{\\length{\\source}} \\param_{\\ssource_i,\\starget_i}\n",
    "$$"
   ]
  },
  {
   "cell_type": "markdown",
   "metadata": {
    "hideCode": false,
    "slideshow": {
     "slide_type": "fragment"
    }
   },
   "source": [
    "Why naive?"
   ]
  },
  {
   "cell_type": "markdown",
   "metadata": {
    "hideCode": false,
    "slideshow": {
     "slide_type": "subslide"
    }
   },
   "source": [
    "### Training\n",
    "\n",
    "Use the **Maximum Likelihood Estimate**:\n",
    "\n",
    "$$\n",
    "\\params^* = \\argmax_\\params \\sum_{(\\target,\\source) \\in \\train} \\log \\prob_\\params(\\source|\\target)\n",
    "$$\n"
   ]
  },
  {
   "cell_type": "markdown",
   "metadata": {
    "hideCode": false,
    "slideshow": {
     "slide_type": "subslide"
    }
   },
   "source": [
    "Amounts to **counting**: \n",
    "\n",
    "$$\n",
    "\\param^*_{\\ssource,\\starget} = \\frac{\\counts{\\train}{s,t}}{\\counts{\\train}{t}} \n",
    "$$\n"
   ]
  },
  {
   "cell_type": "markdown",
   "metadata": {
    "hideCode": false,
    "slideshow": {
     "slide_type": "subslide"
    }
   },
   "source": [
    "In Python:"
   ]
  },
  {
   "cell_type": "code",
   "execution_count": 3,
   "metadata": {
    "collapsed": false
   },
   "outputs": [],
   "source": [
    "from collections import defaultdict \n",
    "def learn_naive_model(data):\n",
    "    norm = defaultdict(float)\n",
    "    counts = defaultdict(float) \n",
    "    for target, source in data:\n",
    "        for i in range(0, len(target)):\n",
    "            norm[target[i]] += 1.0\n",
    "            counts[(source[i],target[i])] += 1.0\n",
    "    result = {}\n",
    "    for (source,target),score in counts.items():\n",
    "        result[(source,target)] = score / norm[target]\n",
    "    return result\n",
    "# show defaultdict behaviour"
   ]
  },
  {
   "cell_type": "code",
   "execution_count": 4,
   "metadata": {
    "collapsed": false,
    "hideCode": false,
    "slideshow": {
     "slide_type": "subslide"
    }
   },
   "outputs": [
    {
     "data": {
      "text/html": [
       "<table style=\"font-size:2em;\"><tr><td style='padding:20px'>('das', 'the')</td> <td style='padding:20px'>1.0</td><tr><tr><td style='padding:20px'>('Haus', 'house')</td> <td style='padding:20px'>0.5</td><tr><tr><td style='padding:20px'>('Gebauede', 'house')</td> <td style='padding:20px'>0.5</td><tr></table>"
      ],
      "text/plain": [
       "<statnlpbook.util.Table at 0x11339e160>"
      ]
     },
     "execution_count": 4,
     "metadata": {},
     "output_type": "execute_result"
    }
   ],
   "source": [
    "naive_model = learn_naive_model([[('the','house'),('das','Haus')],\n",
    "                                 [('the','house'),('das','Gebauede')]])\n",
    "# try other genders or numbers \n",
    "util.Table(naive_model.items(), \"2em\", \"20px\")"
   ]
  },
  {
   "cell_type": "markdown",
   "metadata": {
    "hideCode": false,
    "slideshow": {
     "slide_type": "subslide"
    }
   },
   "source": [
    "On all data:"
   ]
  },
  {
   "cell_type": "code",
   "execution_count": 5,
   "metadata": {
    "collapsed": false,
    "hideCode": false,
    "slideshow": {
     "slide_type": "-"
    }
   },
   "outputs": [
    {
     "data": {
      "text/html": [
       "<table style=\"font-size:1.5em;\"><tr><td style='padding:20px'>['the', 'house', 'is', 'small']</td> <td style='padding:20px'>['das', 'Haus', 'ist', 'klein']</td><tr><tr><td style='padding:20px'>['the', 'house', 'is', 'small']</td> <td style='padding:20px'>['klein', 'ist', 'das', 'Haus']</td><tr><tr><td style='padding:20px'>['a', 'man', 'is', 'tall']</td> <td style='padding:20px'>['ein', 'Mann', 'ist', 'groß']</td><tr><tr><td style='padding:20px'>['my', 'house', 'is', 'small']</td> <td style='padding:20px'>['klein', 'ist', 'mein', 'Haus']</td><tr></table>"
      ],
      "text/plain": [
       "<statnlpbook.util.Table at 0x11339e7f0>"
      ]
     },
     "execution_count": 5,
     "metadata": {},
     "output_type": "execute_result"
    }
   ],
   "source": [
    "util.Table(train, \"1.5em\", \"20px\")"
   ]
  },
  {
   "cell_type": "code",
   "execution_count": 6,
   "metadata": {
    "collapsed": false,
    "hideCode": false,
    "slideshow": {
     "slide_type": "subslide"
    }
   },
   "outputs": [
    {
     "data": {
      "image/png": "[encoded data removed]",
      "text/plain": [
       "<matplotlib.figure.Figure at 0x11339ec50>"
      ]
     },
     "metadata": {},
     "output_type": "display_data"
    }
   ],
   "source": [
    "table = learn_naive_model(train)\n",
    "plot_table_for_target(table, \"is\")"
   ]
  },
  {
   "cell_type": "markdown",
   "metadata": {
    "hideCode": false,
    "slideshow": {
     "slide_type": "subslide"
    }
   },
   "source": [
    "### Translation / Decoding\n",
    "\n",
    "Find the highest scoring target $\\y$ \n",
    "\n",
    "$$\n",
    "\\target^*(\\source) = \\argmax_\\target \\prod_i^{\\length{\\source}} \\prob_\\params(\\ssource_i|\\starget_i)\n",
    "$$\n"
   ]
  },
  {
   "cell_type": "markdown",
   "metadata": {
    "hideCode": false,
    "slideshow": {
     "slide_type": "fragment"
    }
   },
   "source": [
    "How about **brute-force** (like in our SP example)?"
   ]
  },
  {
   "cell_type": "markdown",
   "metadata": {
    "hideCode": false,
    "slideshow": {
     "slide_type": "subslide"
    }
   },
   "source": [
    "### Local Decoding \n",
    "\n",
    "How to find this $\\argmax$?\n",
    "\n",
    "$$\n",
    "\\argmax_{y_1,y_2} f_1(y_1) f_2(y_2) = \\ldots\n",
    "$$\n"
   ]
  },
  {
   "cell_type": "markdown",
   "metadata": {
    "hideCode": false,
    "slideshow": {
     "slide_type": "subslide"
    }
   },
   "source": [
    "### Local Decoding for the Naive Model\n",
    "\n",
    "$$\n",
    "\\target^*(\\source) = \\argmax_\\target \\prod_i^{\\length{\\source}} \\prob_\\params(\\ssource_i|\\starget_i) \\\\\n",
    "= (\\argmax_{\\starget_1}  \\prob_\\params(\\ssource_1|\\starget_1), \\ldots, \\argmax_{\\starget_{\\length{\\source}}}  \\prob_\\params(\\ssource_{\\length{\\source}}|\\starget_{\\length{\\source}}))\n",
    "$$\n",
    "\n"
   ]
  },
  {
   "cell_type": "markdown",
   "metadata": {
    "hideCode": false,
    "slideshow": {
     "slide_type": "subslide"
    }
   },
   "source": [
    "In Python"
   ]
  },
  {
   "cell_type": "code",
   "execution_count": 7,
   "metadata": {
    "collapsed": false,
    "hideCode": false,
    "slideshow": {
     "slide_type": "-"
    }
   },
   "outputs": [
    {
     "data": {
      "text/plain": [
       "['a', 'man']"
      ]
     },
     "execution_count": 7,
     "metadata": {},
     "output_type": "execute_result"
    }
   ],
   "source": [
    "def decode(source_sent, model, lm):\n",
    "    source_to_targets = defaultdict(list)\n",
    "    for (source,target),prob in model.items():\n",
    "        source_to_targets[source] += [(target,prob)]\n",
    "    result = []\n",
    "    for tok in source_sent:\n",
    "        candidates = source_to_targets[tok]\n",
    "        multiplied_with_lm = [(target,prob * lm.probability(target)) \n",
    "                              for target, prob in candidates]\n",
    "        target = max(multiplied_with_lm, key=lambda t: t[1])\n",
    "        result.append(target[0])\n",
    "    return result\n",
    "\n",
    "lm = UniformLM(set([target for _, target in table.keys()]))\n",
    "decode([\"ein\", \"Mann\"], table, lm) # try other inputs with given vocab"
   ]
  },
  {
   "cell_type": "markdown",
   "metadata": {
    "hideCode": false,
    "slideshow": {
     "slide_type": "slide"
    }
   },
   "source": [
    "## Alignments\n",
    "Naive Model assumes a sequential **alignment**"
   ]
  },
  {
   "cell_type": "code",
   "execution_count": 8,
   "metadata": {
    "collapsed": false
   },
   "outputs": [
    {
     "data": {
      "text/html": [
       "\n",
       "        <svg id='6f5cf7f0-9163-11e6-9c70-a0999b02cfbb' xmlns=\"http://www.w3.org/2000/svg\"\n",
       "             xmlns:xlink=\"http://www.w3.org/1999/xlink\"\n",
       "             viewBox=\"0 0 400 100\"\n",
       "             >\n",
       "\n",
       "            <text x=\"0\" y=\"20\" class=\"source\">\n",
       "                <tspan id='t0'>the</tspan> <tspan id='t1'>house</tspan> <tspan id='t2'>is</tspan> <tspan id='t3'>small</tspan>\n",
       "            </text>\n",
       "            <text x=\"0\" y=\"100\" class=\"target\">\n",
       "                <tspan id='t0'>das</tspan> <tspan id='t1'>Haus</tspan> <tspan id='t2'>ist</tspan> <tspan id='t3'>klein</tspan>\n",
       "            </text>\n",
       "            <g class='connections'></g>\n",
       "            <script>\n",
       "              $(function() {\n",
       "                  root = $(document.getElementById('6f5cf7f0-9163-11e6-9c70-a0999b02cfbb'));\n",
       "                  root.find('.connections').empty();\n",
       "                  alignments = [['.source #t0','.target #t0',1.0],['.source #t1','.target #t1',1.0],['.source #t2','.target #t2',1.0],['.source #t3','.target #t3',1.0]];\n",
       "                  function appendLine(alignment) {\n",
       "                      s1 = root.find(alignment[0])[0];\n",
       "                      x1 = s1.getExtentOfChar(0).x + s1.getComputedTextLength() / 2.0;\n",
       "                      y1 = s1.getExtentOfChar(0).y + s1.getExtentOfChar(0).height;\n",
       "                      s2 = root.find(alignment[1])[0];\n",
       "                      x2 = s2.getExtentOfChar(0).x + s2.getComputedTextLength() / 2.0;\n",
       "                      y2 = s2.getExtentOfChar(0).y;\n",
       "                      var newLine = document.createElementNS('http://www.w3.org/2000/svg','line');\n",
       "                      var score = alignment[2];\n",
       "                      newLine.setAttribute('x1',x1.toString());\n",
       "                      newLine.setAttribute('y1',y1.toString());\n",
       "                      newLine.setAttribute('x2',x2.toString());\n",
       "                      newLine.setAttribute('y2',y2.toString());\n",
       "                      newLine.setAttribute('style',\"stroke:black;stroke-width:2;stroke-opacity:\" + score + \";\");\n",
       "                      root.find('.connections').append(newLine)\n",
       "                  };\n",
       "                  //console.log(alignments);\n",
       "                  for (var i = 0; i < alignments.length; i++) {\n",
       "                    appendLine(alignments[i]);\n",
       "                  }\n",
       "                  //console.log($(root).find('.connections'));\n",
       "              });\n",
       "            </script>\n",
       "        </svg>\n",
       "        "
      ],
      "text/plain": [
       "<statnlpbook.word_mt.Alignment at 0x1135da278>"
      ]
     },
     "execution_count": 8,
     "metadata": {},
     "output_type": "execute_result"
    }
   ],
   "source": [
    "word_mt.Alignment(\"the house is small\".split(\" \"),\n",
    "                  \"das Haus ist klein\".split(\" \"),\n",
    "                  [(0,0),(1,1),(2,2),(3,3)])"
   ]
  },
  {
   "cell_type": "markdown",
   "metadata": {
    "hideCode": false,
    "slideshow": {
     "slide_type": "subslide"
    }
   },
   "source": [
    "But word order can differ! "
   ]
  },
  {
   "cell_type": "code",
   "execution_count": 9,
   "metadata": {
    "collapsed": false,
    "slideshow": {
     "slide_type": "fragment"
    }
   },
   "outputs": [
    {
     "data": {
      "text/html": [
       "\n",
       "        <svg id='6f60229a-9163-11e6-88cc-a0999b02cfbb' xmlns=\"http://www.w3.org/2000/svg\"\n",
       "             xmlns:xlink=\"http://www.w3.org/1999/xlink\"\n",
       "             viewBox=\"0 0 400 100\"\n",
       "             >\n",
       "\n",
       "            <text x=\"0\" y=\"20\" class=\"source\">\n",
       "                <tspan id='t0'>the</tspan> <tspan id='t1'>house</tspan> <tspan id='t2'>is</tspan> <tspan id='t3'>small</tspan>\n",
       "            </text>\n",
       "            <text x=\"0\" y=\"100\" class=\"target\">\n",
       "                <tspan id='t0'>klein</tspan> <tspan id='t1'>ist</tspan> <tspan id='t2'>das</tspan> <tspan id='t3'>Haus</tspan>\n",
       "            </text>\n",
       "            <g class='connections'></g>\n",
       "            <script>\n",
       "              $(function() {\n",
       "                  root = $(document.getElementById('6f60229a-9163-11e6-88cc-a0999b02cfbb'));\n",
       "                  root.find('.connections').empty();\n",
       "                  alignments = [['.source #t0','.target #t2',1.0],['.source #t1','.target #t3',1.0],['.source #t2','.target #t1',1.0],['.source #t3','.target #t0',1.0]];\n",
       "                  function appendLine(alignment) {\n",
       "                      s1 = root.find(alignment[0])[0];\n",
       "                      x1 = s1.getExtentOfChar(0).x + s1.getComputedTextLength() / 2.0;\n",
       "                      y1 = s1.getExtentOfChar(0).y + s1.getExtentOfChar(0).height;\n",
       "                      s2 = root.find(alignment[1])[0];\n",
       "                      x2 = s2.getExtentOfChar(0).x + s2.getComputedTextLength() / 2.0;\n",
       "                      y2 = s2.getExtentOfChar(0).y;\n",
       "                      var newLine = document.createElementNS('http://www.w3.org/2000/svg','line');\n",
       "                      var score = alignment[2];\n",
       "                      newLine.setAttribute('x1',x1.toString());\n",
       "                      newLine.setAttribute('y1',y1.toString());\n",
       "                      newLine.setAttribute('x2',x2.toString());\n",
       "                      newLine.setAttribute('y2',y2.toString());\n",
       "                      newLine.setAttribute('style',\"stroke:black;stroke-width:2;stroke-opacity:\" + score + \";\");\n",
       "                      root.find('.connections').append(newLine)\n",
       "                  };\n",
       "                  //console.log(alignments);\n",
       "                  for (var i = 0; i < alignments.length; i++) {\n",
       "                    appendLine(alignments[i]);\n",
       "                  }\n",
       "                  //console.log($(root).find('.connections'));\n",
       "              });\n",
       "            </script>\n",
       "        </svg>\n",
       "        "
      ],
      "text/plain": [
       "<statnlpbook.word_mt.Alignment at 0x1135e3358>"
      ]
     },
     "execution_count": 9,
     "metadata": {},
     "output_type": "execute_result"
    }
   ],
   "source": [
    "word_mt.Alignment(\"the house is small\".split(\" \"),\n",
    "                  \"klein ist das Haus\".split(\" \"),\n",
    "                  [(0,2),(1,3),(2,1),(3,0)])"
   ]
  },
  {
   "cell_type": "markdown",
   "metadata": {
    "hideCode": false,
    "slideshow": {
     "slide_type": "subslide"
    }
   },
   "source": [
    "Formalise alignments:\n",
    "\n",
    "* for each source sentence index \\\\(i \\in [1 \\ldots \\length{\\source}]\\\\)\n",
    "    * \\\\(a_i \\in [0 \\ldots \\length{\\target}]\\\\): index of **aligned target word**\n",
    "* \\\\(\\align_i\\\\) can be \\\\(0\\\\)\n",
    "    * Corresponds to imaginary _NULL_ token \\\\(\\starget_0\\\\)\n"
   ]
  },
  {
   "cell_type": "code",
   "execution_count": 10,
   "metadata": {
    "collapsed": false,
    "hideCode": false,
    "slideshow": {
     "slide_type": "subslide"
    }
   },
   "outputs": [
    {
     "data": {
      "text/html": [
       "\n",
       "        <svg id='6f623012-9163-11e6-92b0-a0999b02cfbb' xmlns=\"http://www.w3.org/2000/svg\"\n",
       "             xmlns:xlink=\"http://www.w3.org/1999/xlink\"\n",
       "             viewBox=\"0 0 400 100\"\n",
       "             >\n",
       "\n",
       "            <text x=\"0\" y=\"20\" class=\"source\">\n",
       "                <tspan id='t0'>NULL</tspan> <tspan id='t1'>the</tspan> <tspan id='t2'>house</tspan> <tspan id='t3'>is</tspan> <tspan id='t4'>small</tspan>\n",
       "            </text>\n",
       "            <text x=\"0\" y=\"100\" class=\"target\">\n",
       "                <tspan id='t0'>klein</tspan> <tspan id='t1'>ist</tspan> <tspan id='t2'>das</tspan> <tspan id='t3'>Haus</tspan>\n",
       "            </text>\n",
       "            <g class='connections'></g>\n",
       "            <script>\n",
       "              $(function() {\n",
       "                  root = $(document.getElementById('6f623012-9163-11e6-92b0-a0999b02cfbb'));\n",
       "                  root.find('.connections').empty();\n",
       "                  alignments = [['.source #t1','.target #t2',1.0],['.source #t2','.target #t3',1.0],['.source #t3','.target #t1',1.0],['.source #t4','.target #t0',1.0]];\n",
       "                  function appendLine(alignment) {\n",
       "                      s1 = root.find(alignment[0])[0];\n",
       "                      x1 = s1.getExtentOfChar(0).x + s1.getComputedTextLength() / 2.0;\n",
       "                      y1 = s1.getExtentOfChar(0).y + s1.getExtentOfChar(0).height;\n",
       "                      s2 = root.find(alignment[1])[0];\n",
       "                      x2 = s2.getExtentOfChar(0).x + s2.getComputedTextLength() / 2.0;\n",
       "                      y2 = s2.getExtentOfChar(0).y;\n",
       "                      var newLine = document.createElementNS('http://www.w3.org/2000/svg','line');\n",
       "                      var score = alignment[2];\n",
       "                      newLine.setAttribute('x1',x1.toString());\n",
       "                      newLine.setAttribute('y1',y1.toString());\n",
       "                      newLine.setAttribute('x2',x2.toString());\n",
       "                      newLine.setAttribute('y2',y2.toString());\n",
       "                      newLine.setAttribute('style',\"stroke:black;stroke-width:2;stroke-opacity:\" + score + \";\");\n",
       "                      root.find('.connections').append(newLine)\n",
       "                  };\n",
       "                  //console.log(alignments);\n",
       "                  for (var i = 0; i < alignments.length; i++) {\n",
       "                    appendLine(alignments[i]);\n",
       "                  }\n",
       "                  //console.log($(root).find('.connections'));\n",
       "              });\n",
       "            </script>\n",
       "        </svg>\n",
       "        "
      ],
      "text/plain": [
       "<statnlpbook.word_mt.Alignment at 0x1135e7048>"
      ]
     },
     "execution_count": 10,
     "metadata": {},
     "output_type": "execute_result"
    }
   ],
   "source": [
    "word_mt.Alignment(\"NULL the house is small\".split(\" \"),\n",
    "                  \"klein ist das Haus\".split(\" \"),\n",
    "                  [(1,2),(2,3),(3,1),(4,0)])"
   ]
  },
  {
   "cell_type": "markdown",
   "metadata": {
    "hideCode": false,
    "slideshow": {
     "slide_type": "fragment"
    }
   },
   "source": [
    "$a_1 = $ ??? "
   ]
  },
  {
   "cell_type": "markdown",
   "metadata": {
    "hideCode": false,
    "slideshow": {
     "slide_type": "subslide"
    }
   },
   "source": [
    "Why the **NULL** Token? "
   ]
  },
  {
   "cell_type": "code",
   "execution_count": 11,
   "metadata": {
    "collapsed": false,
    "scrolled": false
   },
   "outputs": [
    {
     "data": {
      "text/html": [
       "\n",
       "        <svg id='6f643e14-9163-11e6-8ca7-a0999b02cfbb' xmlns=\"http://www.w3.org/2000/svg\"\n",
       "             xmlns:xlink=\"http://www.w3.org/1999/xlink\"\n",
       "             viewBox=\"0 0 400 100\"\n",
       "             >\n",
       "\n",
       "            <text x=\"0\" y=\"20\" class=\"source\">\n",
       "                <tspan id='t0'>NULL</tspan> <tspan id='t1'>家</tspan> <tspan id='t2'>わ</tspan> <tspan id='t3'>小さいい</tspan> <tspan id='t4'>です</tspan>\n",
       "            </text>\n",
       "            <text x=\"0\" y=\"100\" class=\"target\">\n",
       "                <tspan id='t0'>The</tspan> <tspan id='t1'>house</tspan> <tspan id='t2'>is</tspan> <tspan id='t3'>small</tspan>\n",
       "            </text>\n",
       "            <g class='connections'></g>\n",
       "            <script>\n",
       "              $(function() {\n",
       "                  root = $(document.getElementById('6f643e14-9163-11e6-8ca7-a0999b02cfbb'));\n",
       "                  root.find('.connections').empty();\n",
       "                  alignments = [['.source #t0','.target #t0',1.0],['.source #t1','.target #t1',1.0],['.source #t3','.target #t3',1.0],['.source #t4','.target #t2',1.0]];\n",
       "                  function appendLine(alignment) {\n",
       "                      s1 = root.find(alignment[0])[0];\n",
       "                      x1 = s1.getExtentOfChar(0).x + s1.getComputedTextLength() / 2.0;\n",
       "                      y1 = s1.getExtentOfChar(0).y + s1.getExtentOfChar(0).height;\n",
       "                      s2 = root.find(alignment[1])[0];\n",
       "                      x2 = s2.getExtentOfChar(0).x + s2.getComputedTextLength() / 2.0;\n",
       "                      y2 = s2.getExtentOfChar(0).y;\n",
       "                      var newLine = document.createElementNS('http://www.w3.org/2000/svg','line');\n",
       "                      var score = alignment[2];\n",
       "                      newLine.setAttribute('x1',x1.toString());\n",
       "                      newLine.setAttribute('y1',y1.toString());\n",
       "                      newLine.setAttribute('x2',x2.toString());\n",
       "                      newLine.setAttribute('y2',y2.toString());\n",
       "                      newLine.setAttribute('style',\"stroke:black;stroke-width:2;stroke-opacity:\" + score + \";\");\n",
       "                      root.find('.connections').append(newLine)\n",
       "                  };\n",
       "                  //console.log(alignments);\n",
       "                  for (var i = 0; i < alignments.length; i++) {\n",
       "                    appendLine(alignments[i]);\n",
       "                  }\n",
       "                  //console.log($(root).find('.connections'));\n",
       "              });\n",
       "            </script>\n",
       "        </svg>\n",
       "        "
      ],
      "text/plain": [
       "<statnlpbook.word_mt.Alignment at 0x1135e7fd0>"
      ]
     },
     "execution_count": 11,
     "metadata": {},
     "output_type": "execute_result"
    }
   ],
   "source": [
    "word_mt.Alignment(\"NULL 家 わ 小さいい です\".split(\" \"),\n",
    "                  \"The house is small\".split(\" \"),\n",
    "                  [(0,0),(1,1),(3,3),(4,2)])"
   ]
  },
  {
   "cell_type": "markdown",
   "metadata": {
    "slideshow": {
     "slide_type": "subslide"
    }
   },
   "source": [
    "Alignments are **hidden** when given a source! \n",
    "\n",
    "Need to be \n",
    "* modelled\n",
    "* predicted or marginalised out"
   ]
  },
  {
   "cell_type": "markdown",
   "metadata": {
    "hideCode": false,
    "slideshow": {
     "slide_type": "slide"
    }
   },
   "source": [
    "## IBM Model 2\n",
    "Translation and alignment model:\n",
    "\n",
    "$$\n",
    "p_\\params^\\text{IBM2}(\\source,\\aligns|\\target)\n",
    "$$"
   ]
  },
  {
   "cell_type": "markdown",
   "metadata": {
    "hideCode": false,
    "slideshow": {
     "slide_type": "subslide"
    }
   },
   "source": [
    "*Generative story* with parameters $\\params = (\\alpha, \\beta)$\n",
    "\n",
    "Given target sentence $\\target$ with length $l_\\starget$:\n",
    "\n",
    "* Generate a **source sentence length** $l_\\ssource$ with uniform probability $\\epsilon$\n",
    "* Generate a **target position** $a_i$ for each source as position $i$ with $\\beta(a_i|i,l_\\starget,l_\\ssource)$\n",
    "* Generate the **source word** $\\ssource_{i}$ at $a_i$ with probability $\\alpha(\\ssource_i|\\starget_{a_i})$ "
   ]
  },
  {
   "cell_type": "markdown",
   "metadata": {
    "slideshow": {
     "slide_type": "subslide"
    }
   },
   "source": [
    "\\begin{equation}\n",
    "  p_\\params^\\text{IBM2}(\\ssource_1 \\ldots \\ssource_{l_\\ssource},\\align_1 \\ldots \\align_{l_\\ssource}|\\starget_1 \\ldots \\starget_{l_\\starget}) = \\epsilon \\prod_i^{l_\\ssource} \\alpha(\\ssource_i|\\starget_{a_i}) \\beta(a_i|i,l_\\starget,l_\\ssource)\n",
    "\\end{equation}"
   ]
  },
  {
   "cell_type": "markdown",
   "metadata": {
    "hideCode": false,
    "slideshow": {
     "slide_type": "fragment"
    }
   },
   "source": [
    "Example:\n",
    "$$\n",
    "p_\\params^\\text{IBM2}(\\text{das, haus},1, 2 | \\text{NULL, the, house}) = \\ldots\n",
    "$$"
   ]
  },
  {
   "cell_type": "markdown",
   "metadata": {
    "hideCode": false,
    "slideshow": {
     "slide_type": "-"
    }
   },
   "source": [
    "Answer: \n",
    "$$\n",
    "\\ldots \n",
    "$$"
   ]
  },
  {
   "cell_type": "markdown",
   "metadata": {
    "hideCode": false,
    "slideshow": {
     "slide_type": "subslide"
    }
   },
   "source": [
    "## Training IBM Model 2\n",
    "\n",
    "If we had $\\train = ((\\source_i, \\aligns_i, \\target_i))_i$ we could optimise\n",
    "\n",
    "$$\n",
    "\\sum_{(\\source, \\aligns, \\target) \\in \\train} \\log p_\\params^\\text{IBM2}(\\source,\\aligns|\\target)\n",
    "$$"
   ]
  },
  {
   "cell_type": "markdown",
   "metadata": {
    "hideCode": false,
    "slideshow": {
     "slide_type": "fragment"
    }
   },
   "source": [
    "But we have **no training alignments** "
   ]
  },
  {
   "cell_type": "markdown",
   "metadata": {
    "hideCode": false,
    "slideshow": {
     "slide_type": "subslide"
    }
   },
   "source": [
    "Instead use **sentence-aligned** data $\\train = ((\\source_i, \\target_i))_i$ \n",
    "\n",
    "and **marginal log-likelihood**"
   ]
  },
  {
   "cell_type": "markdown",
   "metadata": {
    "hideCode": false,
    "slideshow": {
     "slide_type": "fragment"
    }
   },
   "source": [
    "\n",
    "$$\n",
    "\\sum_{(\\source, \\target) \\in \\train}  \\sum_{\\aligns} \\log p_\\params^\\text{IBM2}(\\source,\\aligns|\\target)\n",
    "$$"
   ]
  },
  {
   "cell_type": "markdown",
   "metadata": {
    "hideCode": false,
    "slideshow": {
     "slide_type": "fragment"
    }
   },
   "source": [
    "**No closed-form** solution"
   ]
  },
  {
   "cell_type": "markdown",
   "metadata": {
    "hideCode": false,
    "slideshow": {
     "slide_type": "slide"
    }
   },
   "source": [
    "## Expectation Maximisation (EM) Algorithm\n",
    "maximises a [lower bound of marginal log-likelihood](http://localhost:8888/notebooks/chapters/em.ipynb) "
   ]
  },
  {
   "cell_type": "markdown",
   "metadata": {
    "hideCode": false,
    "slideshow": {
     "slide_type": "subslide"
    }
   },
   "source": [
    "Figures out (soft) alignments by iterating:\n",
    "\n",
    "* **E-step**: Infer alignments (or their **expectations**)\n",
    "    * using current parameters\n",
    "*  **M-step**: **Maximise** training objective to estimate parameters \n",
    "    * using current alignments  "
   ]
  },
  {
   "cell_type": "markdown",
   "metadata": {
    "hideCode": false,
    "slideshow": {
     "slide_type": "subslide"
    }
   },
   "source": [
    "How is this even possible? "
   ]
  },
  {
   "cell_type": "code",
   "execution_count": 12,
   "metadata": {
    "collapsed": false,
    "hideCode": false,
    "slideshow": {
     "slide_type": "fragment"
    }
   },
   "outputs": [
    {
     "data": {
      "text/html": [
       "\n",
       "        <svg id='6f661e86-9163-11e6-92ab-a0999b02cfbb' xmlns=\"http://www.w3.org/2000/svg\"\n",
       "             xmlns:xlink=\"http://www.w3.org/1999/xlink\"\n",
       "             viewBox=\"0 0 400 100\"\n",
       "             >\n",
       "\n",
       "            <text x=\"0\" y=\"20\" class=\"source\">\n",
       "                <tspan id='t0'>A</tspan> <tspan id='t1'>B</tspan> <tspan id='t2'>|</tspan> <tspan id='t3'>C</tspan> <tspan id='t4'>A</tspan> <tspan id='t5'>|</tspan> <tspan id='t6'>Q</tspan> <tspan id='t7'>P</tspan>\n",
       "            </text>\n",
       "            <text x=\"0\" y=\"100\" class=\"target\">\n",
       "                <tspan id='t0'>X</tspan> <tspan id='t1'>Y</tspan> <tspan id='t2'>|</tspan> <tspan id='t3'>Z</tspan> <tspan id='t4'>X</tspan> <tspan id='t5'>|</tspan> <tspan id='t6'>S</tspan> <tspan id='t7'>T</tspan>\n",
       "            </text>\n",
       "            <g class='connections'></g>\n",
       "            <script>\n",
       "              $(function() {\n",
       "                  root = $(document.getElementById('6f661e86-9163-11e6-92ab-a0999b02cfbb'));\n",
       "                  root.find('.connections').empty();\n",
       "                  alignments = [];\n",
       "                  function appendLine(alignment) {\n",
       "                      s1 = root.find(alignment[0])[0];\n",
       "                      x1 = s1.getExtentOfChar(0).x + s1.getComputedTextLength() / 2.0;\n",
       "                      y1 = s1.getExtentOfChar(0).y + s1.getExtentOfChar(0).height;\n",
       "                      s2 = root.find(alignment[1])[0];\n",
       "                      x2 = s2.getExtentOfChar(0).x + s2.getComputedTextLength() / 2.0;\n",
       "                      y2 = s2.getExtentOfChar(0).y;\n",
       "                      var newLine = document.createElementNS('http://www.w3.org/2000/svg','line');\n",
       "                      var score = alignment[2];\n",
       "                      newLine.setAttribute('x1',x1.toString());\n",
       "                      newLine.setAttribute('y1',y1.toString());\n",
       "                      newLine.setAttribute('x2',x2.toString());\n",
       "                      newLine.setAttribute('y2',y2.toString());\n",
       "                      newLine.setAttribute('style',\"stroke:black;stroke-width:2;stroke-opacity:\" + score + \";\");\n",
       "                      root.find('.connections').append(newLine)\n",
       "                  };\n",
       "                  //console.log(alignments);\n",
       "                  for (var i = 0; i < alignments.length; i++) {\n",
       "                    appendLine(alignments[i]);\n",
       "                  }\n",
       "                  //console.log($(root).find('.connections'));\n",
       "              });\n",
       "            </script>\n",
       "        </svg>\n",
       "        "
      ],
      "text/plain": [
       "<statnlpbook.word_mt.Alignment at 0x113374e80>"
      ]
     },
     "execution_count": 12,
     "metadata": {},
     "output_type": "execute_result"
    }
   ],
   "source": [
    "word_mt.Alignment(\"A B | C A | Q P\".split(\" \"),\n",
    "                  \"X Y | Z X | S T\".split(\" \"),[])"
   ]
  },
  {
   "cell_type": "markdown",
   "metadata": {
    "hideCode": false,
    "slideshow": {
     "slide_type": "-"
    }
   },
   "source": [
    "$\\a(\\text{X}|\\text{A})=\\ldots \\qquad \\a(\\text{X}|\\text{B})=\\ldots \\qquad \\a(\\text{T}|\\text{P})=\\ldots$\n",
    "\n",
    "$\\b(1|1)=\\ldots \\qquad \\b(1|2)=\\ldots$\n"
   ]
  },
  {
   "cell_type": "markdown",
   "metadata": {
    "hideCode": false,
    "slideshow": {
     "slide_type": "subslide"
    }
   },
   "source": [
    "Formalise and implement, but for dataset with `NULL` tokens and \n",
    "\n",
    "* consistent but **non-monotonic alignment**\n",
    "\n",
    "such that EM will \n",
    "* first learn about word-to-word correspondences\n",
    "* and then about distortion"
   ]
  },
  {
   "cell_type": "code",
   "execution_count": 13,
   "metadata": {
    "collapsed": true,
    "hideCode": false,
    "slideshow": {
     "slide_type": "subslide"
    }
   },
   "outputs": [],
   "source": [
    "train_model_2_raw = [\n",
    "  (\"NULL the house is small\" , \"klein ist das Haus\"),\n",
    "  (\"NULL a man is tall\" , \"groß ist ein Mann\"),\n",
    "  (\"NULL my house is small\" , \"klein ist mein Haus\"),\n",
    "  (\"NULL the building is big\" , \"groß ist das Gebäude\"),\n",
    "  (\"NULL the building is long\" , \"lang ist das Gebäude\")\n",
    "]\n",
    "train_model_2 =  [(t.split(\" \"), s.split(\" \")) for t,s in train_model_2_raw]"
   ]
  },
  {
   "cell_type": "markdown",
   "metadata": {
    "hideCode": false,
    "slideshow": {
     "slide_type": "subslide"
    }
   },
   "source": [
    "### E-Step\n",
    "\n",
    "Calculate distribution over alignments given source and target \n",
    "\n",
    "$$\n",
    "\\pi(\\aligns|\\source,\\target) = p_\\params^\\text{IBM2}(\\aligns|\\source,\\target)\n",
    "$$"
   ]
  },
  {
   "cell_type": "markdown",
   "metadata": {
    "hideCode": false,
    "slideshow": {
     "slide_type": "subslide"
    }
   },
   "source": [
    "Distribution **factorizes** for Model 2:\n",
    "$$\n",
    "\\pi(\\aligns|\\source,\\target) = \\prod_i^{l_{\\ssource}} \\pi(a_i|\\source,\\target,i) \n",
    "$$\n",
    "\n",
    "with\n",
    "\n",
    "$$\n",
    "\\pi(a_i|\\source,\\target,i) = \n",
    "  \\frac\n",
    "    {\\alpha(\\ssource_i|\\starget_{a_i}) \\beta(a_i|i,l_\\starget,l_\\ssource)}\n",
    "    {\\sum_j^{l_{\\starget}} \\alpha(\\ssource_i|\\starget_j) \\beta(j|i,l_\\starget,l_\\ssource) }\n",
    "$$"
   ]
  },
  {
   "cell_type": "markdown",
   "metadata": {
    "hideCode": false,
    "slideshow": {
     "slide_type": "subslide"
    }
   },
   "source": [
    "In Python:"
   ]
  },
  {
   "cell_type": "code",
   "execution_count": 14,
   "metadata": {
    "collapsed": true,
    "slideshow": {
     "slide_type": "-"
    }
   },
   "outputs": [],
   "source": [
    "def e_step(model, data):\n",
    "    all_alignments = []\n",
    "    for target, source in data:\n",
    "        def score(si, ti):\n",
    "            return model.alpha[source[si],target[ti]] * model.beta[ti,si, len(target),len(source)]\n",
    "        result = []\n",
    "        for si in range(0, len(source)):\n",
    "            scores = norm_scores([score(si,ti) for ti in range(0, len(target))])\n",
    "            result.append(scores)\n",
    "        all_alignments.append(result)\n",
    "    return all_alignments"
   ]
  },
  {
   "cell_type": "markdown",
   "metadata": {
    "hideCode": false,
    "slideshow": {
     "slide_type": "subslide"
    }
   },
   "source": [
    "Use an **initial model** for first step"
   ]
  },
  {
   "cell_type": "code",
   "execution_count": 15,
   "metadata": {
    "collapsed": false,
    "slideshow": {
     "slide_type": "-"
    }
   },
   "outputs": [
    {
     "data": {
      "text/html": [
       "\n",
       "        <svg id='6f74841a-9163-11e6-ac50-a0999b02cfbb' xmlns=\"http://www.w3.org/2000/svg\"\n",
       "             xmlns:xlink=\"http://www.w3.org/1999/xlink\"\n",
       "             viewBox=\"0 0 400 100\"\n",
       "             >\n",
       "\n",
       "            <text x=\"0\" y=\"20\" class=\"source\">\n",
       "                <tspan id='t0'>NULL</tspan> <tspan id='t1'>the</tspan> <tspan id='t2'>house</tspan> <tspan id='t3'>is</tspan> <tspan id='t4'>small</tspan>\n",
       "            </text>\n",
       "            <text x=\"0\" y=\"100\" class=\"target\">\n",
       "                <tspan id='t0'>klein</tspan> <tspan id='t1'>ist</tspan> <tspan id='t2'>das</tspan> <tspan id='t3'>Haus</tspan>\n",
       "            </text>\n",
       "            <g class='connections'></g>\n",
       "            <script>\n",
       "              $(function() {\n",
       "                  root = $(document.getElementById('6f74841a-9163-11e6-ac50-a0999b02cfbb'));\n",
       "                  root.find('.connections').empty();\n",
       "                  alignments = [['.source #t0','.target #t0',0.2],['.source #t1','.target #t0',0.2],['.source #t2','.target #t0',0.2],['.source #t3','.target #t0',0.2],['.source #t4','.target #t0',0.2],['.source #t0','.target #t1',0.2],['.source #t1','.target #t1',0.2],['.source #t2','.target #t1',0.2],['.source #t3','.target #t1',0.2],['.source #t4','.target #t1',0.2],['.source #t0','.target #t2',0.2],['.source #t1','.target #t2',0.2],['.source #t2','.target #t2',0.2],['.source #t3','.target #t2',0.2],['.source #t4','.target #t2',0.2],['.source #t0','.target #t3',0.2],['.source #t1','.target #t3',0.2],['.source #t2','.target #t3',0.2],['.source #t3','.target #t3',0.2],['.source #t4','.target #t3',0.2]];\n",
       "                  function appendLine(alignment) {\n",
       "                      s1 = root.find(alignment[0])[0];\n",
       "                      x1 = s1.getExtentOfChar(0).x + s1.getComputedTextLength() / 2.0;\n",
       "                      y1 = s1.getExtentOfChar(0).y + s1.getExtentOfChar(0).height;\n",
       "                      s2 = root.find(alignment[1])[0];\n",
       "                      x2 = s2.getExtentOfChar(0).x + s2.getComputedTextLength() / 2.0;\n",
       "                      y2 = s2.getExtentOfChar(0).y;\n",
       "                      var newLine = document.createElementNS('http://www.w3.org/2000/svg','line');\n",
       "                      var score = alignment[2];\n",
       "                      newLine.setAttribute('x1',x1.toString());\n",
       "                      newLine.setAttribute('y1',y1.toString());\n",
       "                      newLine.setAttribute('x2',x2.toString());\n",
       "                      newLine.setAttribute('y2',y2.toString());\n",
       "                      newLine.setAttribute('style',\"stroke:black;stroke-width:2;stroke-opacity:\" + score + \";\");\n",
       "                      root.find('.connections').append(newLine)\n",
       "                  };\n",
       "                  //console.log(alignments);\n",
       "                  for (var i = 0; i < alignments.length; i++) {\n",
       "                    appendLine(alignments[i]);\n",
       "                  }\n",
       "                  //console.log($(root).find('.connections'));\n",
       "              });\n",
       "            </script>\n",
       "        </svg>\n",
       "        "
      ],
      "text/plain": [
       "<statnlpbook.word_mt.Alignment at 0x1114dcfd0>"
      ]
     },
     "execution_count": 15,
     "metadata": {},
     "output_type": "execute_result"
    }
   ],
   "source": [
    "source_vocab = set([tok for _,s in train_model_2 for tok in s])\n",
    "target_vocab = set([tok for t,_ in train_model_2 for tok in t])\n",
    "max_length = 5\n",
    "\n",
    "alpha = mt.create_translation_table(source_vocab, target_vocab) #  {'is':'ist'}\n",
    "beta = mt.create_distortion_table(max_length)\n",
    "\n",
    "init_model = IBMModel2(alpha,beta)\n",
    "align_matrices = e_step(init_model, train_model_2)\n",
    "sent = 0\n",
    "word_mt.Alignment.from_matrix(align_matrices[sent], \n",
    "                              train_model_2[sent][1], \n",
    "                              train_model_2[sent][0])"
   ]
  },
  {
   "cell_type": "markdown",
   "metadata": {
    "slideshow": {
     "slide_type": "subslide"
    }
   },
   "source": [
    "### M-Step\n",
    "\n",
    "The M-Step optimizes a *weighted* or *expected* version of log-likelihood using distribution \\\\(\\pi\\\\) from last E-Step:\n",
    "\n",
    "$$\n",
    "  \\params^* = \\argmax_\\params \\sum_{(\\target,\\source) \\in \\train} \\sum_\\aligns \\pi(\\aligns|\\target,\\source) \\log \\prob _\\params^\\text{IBM2}(\\source,\\aligns|\\target)\n",
    "$$"
   ]
  },
  {
   "cell_type": "markdown",
   "metadata": {
    "slideshow": {
     "slide_type": "subslide"
    }
   },
   "source": [
    "Because \\\\(\\pi\\\\) factorizes we have a closed-form solution:\n",
    "\n",
    "$$\n",
    "  \\alpha(\\ssource|\\starget) = \\frac\n",
    "    {\\sum_{(\\target,\\source)}\\sum_i^{l_\\source} \\sum_j^{l_\\target} \\pi(j|i) \\delta(\\ssource,\\ssource_i) \\delta(\\starget,\\starget_j) }\n",
    "    {\\sum_{(\\target,\\source)} \\sum_j^{l_\\target} \\delta(\\starget,\\starget_j) }\n",
    "$$\n",
    "\n",
    "* \\\\(\\delta(x,y)\\\\) is 1 if \\\\(x=y\\\\) and 0 otherwise"
   ]
  },
  {
   "cell_type": "markdown",
   "metadata": {
    "slideshow": {
     "slide_type": "subslide"
    }
   },
   "source": [
    "Implement M-Step, estimating parameters \\\\(\\params\\\\) from (soft) alignments \\\\(\\aligns\\\\)"
   ]
  },
  {
   "cell_type": "code",
   "execution_count": 16,
   "metadata": {
    "collapsed": false,
    "hideCode": false,
    "slideshow": {
     "slide_type": "-"
    }
   },
   "outputs": [
    {
     "data": {
      "image/png": "[encoded data removed]",
      "text/plain": [
       "<matplotlib.figure.Figure at 0x1135035f8>"
      ]
     },
     "metadata": {},
     "output_type": "display_data"
    }
   ],
   "source": [
    "theta1 = m_step(align_matrices, train_model_2)    \n",
    "plot_table_for_target(theta1.alpha, \"is\") # try house!"
   ]
  },
  {
   "cell_type": "code",
   "execution_count": 17,
   "metadata": {
    "collapsed": false,
    "hideCode": false,
    "slideshow": {
     "slide_type": "subslide"
    }
   },
   "outputs": [
    {
     "data": {
      "text/html": [
       "\n",
       "        <svg id='6f99c55e-9163-11e6-8903-a0999b02cfbb' xmlns=\"http://www.w3.org/2000/svg\"\n",
       "             xmlns:xlink=\"http://www.w3.org/1999/xlink\"\n",
       "             viewBox=\"0 0 400 100\"\n",
       "             >\n",
       "\n",
       "            <text x=\"0\" y=\"20\" class=\"source\">\n",
       "                <tspan id='t0'>NULL</tspan> <tspan id='t1'>my</tspan> <tspan id='t2'>house</tspan> <tspan id='t3'>is</tspan> <tspan id='t4'>small</tspan>\n",
       "            </text>\n",
       "            <text x=\"0\" y=\"100\" class=\"target\">\n",
       "                <tspan id='t0'>klein</tspan> <tspan id='t1'>ist</tspan> <tspan id='t2'>mein</tspan> <tspan id='t3'>Haus</tspan>\n",
       "            </text>\n",
       "            <g class='connections'></g>\n",
       "            <script>\n",
       "              $(function() {\n",
       "                  root = $(document.getElementById('6f99c55e-9163-11e6-8903-a0999b02cfbb'));\n",
       "                  root.find('.connections').empty();\n",
       "                  alignments = [['.source #t0','.target #t0',0.10526315789473682],['.source #t1','.target #t0',0.2631578947368421],['.source #t2','.target #t0',0.26315789473684215],['.source #t3','.target #t0',0.10526315789473682],['.source #t4','.target #t0',0.26315789473684215],['.source #t0','.target #t1',0.19999999999999996],['.source #t1','.target #t1',0.2],['.source #t2','.target #t1',0.20000000000000007],['.source #t3','.target #t1',0.19999999999999996],['.source #t4','.target #t1',0.20000000000000007],['.source #t0','.target #t2',0.08333333333333331],['.source #t1','.target #t2',0.41666666666666663],['.source #t2','.target #t2',0.20833333333333337],['.source #t3','.target #t2',0.08333333333333331],['.source #t4','.target #t2',0.20833333333333337],['.source #t0','.target #t3',0.10526315789473682],['.source #t1','.target #t3',0.2631578947368421],['.source #t2','.target #t3',0.26315789473684215],['.source #t3','.target #t3',0.10526315789473682],['.source #t4','.target #t3',0.26315789473684215]];\n",
       "                  function appendLine(alignment) {\n",
       "                      s1 = root.find(alignment[0])[0];\n",
       "                      x1 = s1.getExtentOfChar(0).x + s1.getComputedTextLength() / 2.0;\n",
       "                      y1 = s1.getExtentOfChar(0).y + s1.getExtentOfChar(0).height;\n",
       "                      s2 = root.find(alignment[1])[0];\n",
       "                      x2 = s2.getExtentOfChar(0).x + s2.getComputedTextLength() / 2.0;\n",
       "                      y2 = s2.getExtentOfChar(0).y;\n",
       "                      var newLine = document.createElementNS('http://www.w3.org/2000/svg','line');\n",
       "                      var score = alignment[2];\n",
       "                      newLine.setAttribute('x1',x1.toString());\n",
       "                      newLine.setAttribute('y1',y1.toString());\n",
       "                      newLine.setAttribute('x2',x2.toString());\n",
       "                      newLine.setAttribute('y2',y2.toString());\n",
       "                      newLine.setAttribute('style',\"stroke:black;stroke-width:2;stroke-opacity:\" + score + \";\");\n",
       "                      root.find('.connections').append(newLine)\n",
       "                  };\n",
       "                  //console.log(alignments);\n",
       "                  for (var i = 0; i < alignments.length; i++) {\n",
       "                    appendLine(alignments[i]);\n",
       "                  }\n",
       "                  //console.log($(root).find('.connections'));\n",
       "              });\n",
       "            </script>\n",
       "        </svg>\n",
       "        "
      ],
      "text/plain": [
       "<statnlpbook.word_mt.Alignment at 0x113393160>"
      ]
     },
     "execution_count": 17,
     "metadata": {},
     "output_type": "execute_result"
    }
   ],
   "source": [
    "align_matrices = e_step(theta1, train_model_2)\n",
    "sent = 2\n",
    "word_mt.Alignment.from_matrix(align_matrices[sent], \n",
    "                              train_model_2[sent][1], \n",
    "                              train_model_2[sent][0])"
   ]
  },
  {
   "cell_type": "markdown",
   "metadata": {
    "slideshow": {
     "slide_type": "subslide"
    }
   },
   "source": [
    "### Initialisation\n",
    "Good initialisation is **crucial for EM**"
   ]
  },
  {
   "cell_type": "markdown",
   "metadata": {
    "slideshow": {
     "slide_type": "subslide"
    }
   },
   "source": [
    "### Baby Steps\n",
    "Initialise with the parameters of a simpler model with **fixed distortion** table:\n",
    "\n",
    "$$\n",
    "  \\beta(a_i|i,l_\\starget,l_\\ssource) = \\frac{1}{l_\\starget + 1}\n",
    "$$\n",
    "\n",
    "This is **IBM Model 1**!"
   ]
  },
  {
   "cell_type": "markdown",
   "metadata": {
    "slideshow": {
     "slide_type": "subslide"
    }
   },
   "source": [
    "Train IBM Model 1 and see if it **converges**"
   ]
  },
  {
   "cell_type": "code",
   "execution_count": 18,
   "metadata": {
    "collapsed": false,
    "scrolled": false,
    "slideshow": {
     "slide_type": "fragment"
    }
   },
   "outputs": [
    {
     "data": {
      "text/plain": [
       "[<matplotlib.lines.Line2D at 0x113003a90>]"
      ]
     },
     "execution_count": 18,
     "metadata": {},
     "output_type": "execute_result"
    },
    {
     "data": {
      "image/png": "[encoded data removed]",
      "text/plain": [
       "<matplotlib.figure.Figure at 0x113503470>"
      ]
     },
     "metadata": {},
     "output_type": "display_data"
    }
   ],
   "source": [
    "ibm1_iterations = em_model1(init_model, train_model_2, 100)\n",
    "plt.plot(range(0,len(ibm1_iterations)), [change for _, _, change in ibm1_iterations])"
   ]
  },
  {
   "cell_type": "markdown",
   "metadata": {
    "slideshow": {
     "slide_type": "subslide"
    }
   },
   "source": [
    "Translation Table?"
   ]
  },
  {
   "cell_type": "code",
   "execution_count": 19,
   "metadata": {
    "collapsed": false,
    "scrolled": false,
    "slideshow": {
     "slide_type": "fragment"
    }
   },
   "outputs": [
    {
     "data": {
      "image/png": "[encoded data removed]",
      "text/plain": [
       "<matplotlib.figure.Figure at 0x112f9fba8>"
      ]
     },
     "metadata": {},
     "output_type": "display_data"
    }
   ],
   "source": [
    "plot_table_for_target(ibm1_iterations[-1][1].alpha, \"house\")"
   ]
  },
  {
   "cell_type": "markdown",
   "metadata": {
    "slideshow": {
     "slide_type": "subslide"
    }
   },
   "source": [
    "Alignments?"
   ]
  },
  {
   "cell_type": "code",
   "execution_count": 20,
   "metadata": {
    "collapsed": false,
    "slideshow": {
     "slide_type": "fragment"
    }
   },
   "outputs": [
    {
     "data": {
      "text/html": [
       "\n",
       "        <svg id='6fd9d766-9163-11e6-9053-a0999b02cfbb' xmlns=\"http://www.w3.org/2000/svg\"\n",
       "             xmlns:xlink=\"http://www.w3.org/1999/xlink\"\n",
       "             viewBox=\"0 0 400 100\"\n",
       "             >\n",
       "\n",
       "            <text x=\"0\" y=\"20\" class=\"source\">\n",
       "                <tspan id='t0'>NULL</tspan> <tspan id='t1'>the</tspan> <tspan id='t2'>building</tspan> <tspan id='t3'>is</tspan> <tspan id='t4'>long</tspan>\n",
       "            </text>\n",
       "            <text x=\"0\" y=\"100\" class=\"target\">\n",
       "                <tspan id='t0'>lang</tspan> <tspan id='t1'>ist</tspan> <tspan id='t2'>das</tspan> <tspan id='t3'>Gebäude</tspan>\n",
       "            </text>\n",
       "            <g class='connections'></g>\n",
       "            <script>\n",
       "              $(function() {\n",
       "                  root = $(document.getElementById('6fd9d766-9163-11e6-9053-a0999b02cfbb'));\n",
       "                  root.find('.connections').empty();\n",
       "                  alignments = [['.source #t0','.target #t0',4.358457802292336e-42],['.source #t1','.target #t0',6.973912180781256e-41],['.source #t2','.target #t0',3.256886456312226e-28],['.source #t3','.target #t0',4.358457802292336e-42],['.source #t4','.target #t0',1.0],['.source #t0','.target #t1',0.5],['.source #t1','.target #t1',6.940522787929912e-22],['.source #t2','.target #t1',1.2370387425153883e-26],['.source #t3','.target #t1',0.5],['.source #t4','.target #t1',6.101378607647694e-29],['.source #t0','.target #t2',0.055552567212516175],['.source #t1','.target #t2',0.8888894713016913],['.source #t2','.target #t2',5.366869138597725e-06],['.source #t3','.target #t2',0.055552567212516175],['.source #t4','.target #t2',2.7404137712682112e-08],['.source #t0','.target #t3',1.3304462115460642e-14],['.source #t1','.target #t3',2.128829843366933e-13],['.source #t2','.target #t3',0.9941847423548027],['.source #t3','.target #t3',1.3304462115460642e-14],['.source #t4','.target #t3',0.005815257644957923]];\n",
       "                  function appendLine(alignment) {\n",
       "                      s1 = root.find(alignment[0])[0];\n",
       "                      x1 = s1.getExtentOfChar(0).x + s1.getComputedTextLength() / 2.0;\n",
       "                      y1 = s1.getExtentOfChar(0).y + s1.getExtentOfChar(0).height;\n",
       "                      s2 = root.find(alignment[1])[0];\n",
       "                      x2 = s2.getExtentOfChar(0).x + s2.getComputedTextLength() / 2.0;\n",
       "                      y2 = s2.getExtentOfChar(0).y;\n",
       "                      var newLine = document.createElementNS('http://www.w3.org/2000/svg','line');\n",
       "                      var score = alignment[2];\n",
       "                      newLine.setAttribute('x1',x1.toString());\n",
       "                      newLine.setAttribute('y1',y1.toString());\n",
       "                      newLine.setAttribute('x2',x2.toString());\n",
       "                      newLine.setAttribute('y2',y2.toString());\n",
       "                      newLine.setAttribute('style',\"stroke:black;stroke-width:2;stroke-opacity:\" + score + \";\");\n",
       "                      root.find('.connections').append(newLine)\n",
       "                  };\n",
       "                  //console.log(alignments);\n",
       "                  for (var i = 0; i < alignments.length; i++) {\n",
       "                    appendLine(alignments[i]);\n",
       "                  }\n",
       "                  //console.log($(root).find('.connections'));\n",
       "              });\n",
       "            </script>\n",
       "        </svg>\n",
       "        "
      ],
      "text/plain": [
       "<statnlpbook.word_mt.Alignment at 0x112d07f98>"
      ]
     },
     "execution_count": 20,
     "metadata": {},
     "output_type": "execute_result"
    }
   ],
   "source": [
    "sent = 4\n",
    "word_mt.Alignment.from_matrix(ibm1_iterations[-1][0][sent],train_model_2[sent][1], train_model_2[sent][0])"
   ]
  },
  {
   "cell_type": "markdown",
   "metadata": {
    "slideshow": {
     "slide_type": "subslide"
    }
   },
   "source": [
    "Now learn **distortion table** in Model 2"
   ]
  },
  {
   "cell_type": "code",
   "execution_count": 21,
   "metadata": {
    "collapsed": false,
    "slideshow": {
     "slide_type": "fragment"
    }
   },
   "outputs": [
    {
     "data": {
      "image/png": "[encoded data removed]",
      "text/plain": [
       "<matplotlib.figure.Figure at 0x112ff03c8>"
      ]
     },
     "metadata": {},
     "output_type": "display_data"
    }
   ],
   "source": [
    "ibm1 = ibm1_iterations[-1][1] # model 1 of last iteration \n",
    "ibm2_iterations = em_model2(ibm1, train_model_2, 100)\n",
    "ibm2 = ibm2_iterations[-1][1] # model 2 of last iteration\n",
    "plot_table_for_target(ibm2.alpha, \"house\")"
   ]
  },
  {
   "cell_type": "markdown",
   "metadata": {
    "slideshow": {
     "slide_type": "subslide"
    }
   },
   "source": [
    "Alignments? "
   ]
  },
  {
   "cell_type": "code",
   "execution_count": 22,
   "metadata": {
    "collapsed": false,
    "slideshow": {
     "slide_type": "fragment"
    }
   },
   "outputs": [
    {
     "data": {
      "text/html": [
       "\n",
       "        <svg id='6ffed98a-9163-11e6-bab7-a0999b02cfbb' xmlns=\"http://www.w3.org/2000/svg\"\n",
       "             xmlns:xlink=\"http://www.w3.org/1999/xlink\"\n",
       "             viewBox=\"0 0 400 100\"\n",
       "             >\n",
       "\n",
       "            <text x=\"0\" y=\"20\" class=\"source\">\n",
       "                <tspan id='t0'>NULL</tspan> <tspan id='t1'>the</tspan> <tspan id='t2'>house</tspan> <tspan id='t3'>is</tspan> <tspan id='t4'>small</tspan>\n",
       "            </text>\n",
       "            <text x=\"0\" y=\"100\" class=\"target\">\n",
       "                <tspan id='t0'>klein</tspan> <tspan id='t1'>ist</tspan> <tspan id='t2'>das</tspan> <tspan id='t3'>Haus</tspan>\n",
       "            </text>\n",
       "            <g class='connections'></g>\n",
       "            <script>\n",
       "              $(function() {\n",
       "                  root = $(document.getElementById('6ffed98a-9163-11e6-bab7-a0999b02cfbb'));\n",
       "                  root.find('.connections').empty();\n",
       "                  alignments = [['.source #t0','.target #t0',0.0],['.source #t1','.target #t0',0.0],['.source #t2','.target #t0',0.0],['.source #t3','.target #t0',0.0],['.source #t4','.target #t0',1.0],['.source #t0','.target #t1',0.5],['.source #t1','.target #t1',0.0],['.source #t2','.target #t1',0.0],['.source #t3','.target #t1',0.5],['.source #t4','.target #t1',0.0],['.source #t0','.target #t2',0.0],['.source #t1','.target #t2',1.0],['.source #t2','.target #t2',0.0],['.source #t3','.target #t2',0.0],['.source #t4','.target #t2',0.0],['.source #t0','.target #t3',0.0],['.source #t1','.target #t3',0.0],['.source #t2','.target #t3',1.0],['.source #t3','.target #t3',0.0],['.source #t4','.target #t3',0.0]];\n",
       "                  function appendLine(alignment) {\n",
       "                      s1 = root.find(alignment[0])[0];\n",
       "                      x1 = s1.getExtentOfChar(0).x + s1.getComputedTextLength() / 2.0;\n",
       "                      y1 = s1.getExtentOfChar(0).y + s1.getExtentOfChar(0).height;\n",
       "                      s2 = root.find(alignment[1])[0];\n",
       "                      x2 = s2.getExtentOfChar(0).x + s2.getComputedTextLength() / 2.0;\n",
       "                      y2 = s2.getExtentOfChar(0).y;\n",
       "                      var newLine = document.createElementNS('http://www.w3.org/2000/svg','line');\n",
       "                      var score = alignment[2];\n",
       "                      newLine.setAttribute('x1',x1.toString());\n",
       "                      newLine.setAttribute('y1',y1.toString());\n",
       "                      newLine.setAttribute('x2',x2.toString());\n",
       "                      newLine.setAttribute('y2',y2.toString());\n",
       "                      newLine.setAttribute('style',\"stroke:black;stroke-width:2;stroke-opacity:\" + score + \";\");\n",
       "                      root.find('.connections').append(newLine)\n",
       "                  };\n",
       "                  //console.log(alignments);\n",
       "                  for (var i = 0; i < alignments.length; i++) {\n",
       "                    appendLine(alignments[i]);\n",
       "                  }\n",
       "                  //console.log($(root).find('.connections'));\n",
       "              });\n",
       "            </script>\n",
       "        </svg>\n",
       "        "
      ],
      "text/plain": [
       "<statnlpbook.word_mt.Alignment at 0x112b3fba8>"
      ]
     },
     "execution_count": 22,
     "metadata": {},
     "output_type": "execute_result"
    }
   ],
   "source": [
    "sent = 0\n",
    "word_mt.Alignment.from_matrix(ibm2_iterations[-1][0][sent],train_model_2[sent][1], train_model_2[sent][0])\n",
    "# replace with ibm1_iterations"
   ]
  },
  {
   "cell_type": "markdown",
   "metadata": {
    "slideshow": {
     "slide_type": "subslide"
    }
   },
   "source": [
    "Distortion table?"
   ]
  },
  {
   "cell_type": "code",
   "execution_count": 23,
   "metadata": {
    "collapsed": false,
    "slideshow": {
     "slide_type": "fragment"
    }
   },
   "outputs": [
    {
     "data": {
      "image/png": "[encoded data removed]",
      "text/plain": [
       "<matplotlib.figure.Figure at 0x112ae85c0>"
      ]
     },
     "metadata": {},
     "output_type": "display_data"
    }
   ],
   "source": [
    "def distort(si):\n",
    "    return [ibm2.beta[ti,si,5,4] for ti in range(0,5)]\n",
    "util.plot_bar_graph(distort(1),range(0,5)) # change source index != 0"
   ]
  },
  {
   "cell_type": "markdown",
   "metadata": {
    "slideshow": {
     "slide_type": "slide"
    }
   },
   "source": [
    "## Decoding with Model 2\n",
    "\n",
    "Ideally **marginalise out alignments**\n",
    "\n",
    "$$\n",
    "\\argmax_{\\target} p_\\params^\\text{IBM2}(\\source|\\target) \\prob^\\text{LM}(\\target)\n",
    "$$\n",
    "\n",
    "with \n",
    "$$\n",
    "  p_\\params^\\text{IBM2}(\\source|\\target) =  \\sum_{\\aligns}  p_\\params^\\text{IBM2}(\\source,\\aligns|\\target) \n",
    "$$\n"
   ]
  },
  {
   "cell_type": "markdown",
   "metadata": {
    "hideCode": false,
    "slideshow": {
     "slide_type": "subslide"
    }
   },
   "source": [
    "Computationally **very expensive**, instead solve\n",
    "\n",
    "$$\n",
    "\\argmax_{\\target,\\aligns} p_\\params^\\text{IBM2}(\\source,\\aligns|\\target) \\prob^\\text{LM}(\\target)\n",
    "$$"
   ]
  },
  {
   "cell_type": "markdown",
   "metadata": {
    "slideshow": {
     "slide_type": "subslide"
    }
   },
   "source": [
    "Choices:\n",
    "\n",
    "* Simple **approximate** method\n",
    "* Complex **exact** method\n",
    "\n",
    "Both presentend in [these slides](https://www.dropbox.com/s/p495n19h5rtk3uf/IBM-decoding.pdf?dl=0)"
   ]
  },
  {
   "cell_type": "markdown",
   "metadata": {
    "slideshow": {
     "slide_type": "subslide"
    }
   },
   "source": [
    "Choices:\n",
    "\n",
    "* Simple **approximate** method\n",
    "* Complex **exact** method\n",
    "\n",
    "Both presentend in [these slides](https://www.dropbox.com/s/p495n19h5rtk3uf/IBM-decoding.pdf?dl=0)"
   ]
  },
  {
   "cell_type": "markdown",
   "metadata": {
    "slideshow": {
     "slide_type": "subslide"
    }
   },
   "source": [
    "### Beam Based Decoder\n",
    "Maintains a list of top-$k$ hypotheses in a **beam**"
   ]
  },
  {
   "cell_type": "code",
   "execution_count": 24,
   "metadata": {
    "collapsed": false,
    "slideshow": {
     "slide_type": "fragment"
    }
   },
   "outputs": [
    {
     "data": {
      "text/html": [
       "<table><tr><td>NULL</td><td>groß ist ein Mann</td><td>4</td><td>0.0</td></tr></table>"
      ],
      "text/plain": [
       "<statnlpbook.mt.render_history.<locals>.Test at 0x1135cfda0>"
      ]
     },
     "execution_count": 24,
     "metadata": {},
     "output_type": "execute_result"
    }
   ],
   "source": [
    "lm_train = [tok for t,_ in train_model_2 for tok in t]\n",
    "lm = UniformLM({w for w in target_vocab if w != 'NULL'})\n",
    "# lm = LaplaceLM(NGramLM(lm_train, 3),0.1)\n",
    "hist2 = decode_model_2(ibm2, lm, source, 5)\n",
    "mt.render_history(hist2[:1])"
   ]
  },
  {
   "cell_type": "markdown",
   "metadata": {
    "collapsed": false,
    "slideshow": {
     "slide_type": "slide"
    }
   },
   "source": [
    "## Summary \n",
    "\n",
    "* MT is an instance structured prediction recipe\n",
    "* The noisy channel is one modeling framework\n",
    "* word-based MT is foundation and blue print for more complex models\n",
    "* Training with EM\n",
    "* NLP Tricks: \n",
    "    * introducing latent alignment variables to simplify problem\n",
    "    * decoding with Beams"
   ]
  },
  {
   "cell_type": "markdown",
   "metadata": {
    "collapsed": false,
    "slideshow": {
     "slide_type": "slide"
    }
   },
   "source": [
    "## Background Material\n",
    "* [Lecture notes on IBM Model 1 and 2](http://www.cs.columbia.edu/~mcollins/courses/nlp2011/notes/ibm12.pdf) of Mike Collins.  \n",
    "* Jurafsky & Martin, Speech and Language Processing: \n",
    "    * Chapter 26, Machine Translation.\n",
    "    * Chapter 6, EM Algorithm\n",
    "* Brown et al., [The Mathematics of Statistical Machine Translation: Parameter Estimation](http://www.aclweb.org/anthology/J93-2003)"
   ]
  }
 ],
 "metadata": {
  "celltoolbar": "Slideshow",
  "kernelspec": {
   "display_name": "Python 3",
   "language": "python",
   "name": "python3"
  },
  "language_info": {
   "codemirror_mode": {
    "name": "ipython",
    "version": 3
   },
   "file_extension": ".py",
   "mimetype": "text/x-python",
   "name": "python",
   "nbconvert_exporter": "python",
   "pygments_lexer": "ipython3",
   "version": "3.5.1"
  }
 },
 "nbformat": 4,
 "nbformat_minor": 0
}
