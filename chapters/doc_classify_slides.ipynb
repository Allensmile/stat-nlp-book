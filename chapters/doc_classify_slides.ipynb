{
 "cells": [
  {
   "cell_type": "code",
   "execution_count": 1,
   "metadata": {
    "collapsed": true,
    "slideshow": {
     "slide_type": "skip"
    }
   },
   "outputs": [],
   "source": [
    "%%capture\n",
    "%load_ext autoreload\n",
    "%autoreload 2\n",
    "%matplotlib inline\n",
    "# %cd .. \n",
    "import sys\n",
    "sys.path.append(\"..\")\n",
    "import statnlpbook.util as util\n",
    "import matplotlib\n",
    "matplotlib.rcParams['figure.figsize'] = (10.0, 6.0)\n",
    "import random \n",
    "from collections import defaultdict\n",
    "random.seed(2)"
   ]
  },
  {
   "cell_type": "code",
   "execution_count": null,
   "metadata": {
    "collapsed": true
   },
   "outputs": [],
   "source": []
  },
  {
   "cell_type": "markdown",
   "metadata": {
    "slideshow": {
     "slide_type": "skip"
    }
   },
   "source": [
    "<!---\n",
    "Latex Macros\n",
    "-->\n",
    "$$\n",
    "\\newcommand{\\Xs}{\\mathcal{X}}\n",
    "\\newcommand{\\Ys}{\\mathcal{Y}}\n",
    "\\newcommand{\\y}{\\mathbf{y}}\n",
    "\\newcommand{\\weights}{\\mathbf{w}}\n",
    "\\newcommand{\\balpha}{\\boldsymbol{\\alpha}}\n",
    "\\newcommand{\\bbeta}{\\boldsymbol{\\beta}}\n",
    "\\newcommand{\\aligns}{\\mathbf{a}}\n",
    "\\newcommand{\\align}{a}\n",
    "\\newcommand{\\source}{\\mathbf{s}}\n",
    "\\newcommand{\\target}{\\mathbf{t}}\n",
    "\\newcommand{\\ssource}{s}\n",
    "\\newcommand{\\starget}{t}\n",
    "\\newcommand{\\repr}{\\mathbf{f}}\n",
    "\\newcommand{\\repry}{\\mathbf{g}}\n",
    "\\newcommand{\\bar}{\\,|\\,}\n",
    "\\newcommand{\\x}{\\mathbf{x}}\n",
    "\\newcommand{\\prob}{p}\n",
    "\\newcommand{\\Pulp}{\\text{Pulp}}\n",
    "\\newcommand{\\Fiction}{\\text{Fiction}}\n",
    "\\newcommand{\\PulpFiction}{\\text{Pulp Fiction}}\n",
    "\\newcommand{\\pnb}{\\prob^{\\text{NB}}}\n",
    "\\newcommand{\\vocab}{V}\n",
    "\\newcommand{\\params}{\\boldsymbol{\\theta}}\n",
    "\\newcommand{\\param}{\\theta}\n",
    "\\DeclareMathOperator{\\perplexity}{PP}\n",
    "\\DeclareMathOperator{\\argmax}{argmax}\n",
    "\\DeclareMathOperator{\\argmin}{argmin}\n",
    "\\newcommand{\\train}{\\mathcal{D}}\n",
    "\\newcommand{\\counts}[2]{\\#_{#1}(#2) }\n",
    "\\newcommand{\\length}[1]{\\text{length}(#1) }\n",
    "\\newcommand{\\indi}{\\mathbb{I}}\n",
    "$$"
   ]
  },
  {
   "cell_type": "markdown",
   "metadata": {
    "slideshow": {
     "slide_type": "slide"
    }
   },
   "source": [
    "# Text Classification "
   ]
  },
  {
   "cell_type": "markdown",
   "metadata": {},
   "source": [
    "Automatically classify input text into a set of **atomic classes**"
   ]
  },
  {
   "cell_type": "markdown",
   "metadata": {
    "slideshow": {
     "slide_type": "subslide"
    }
   },
   "source": [
    "## Motivation\n",
    "* **Information retrieval**: classify documents into topics, such as \"sport\" or \"business\"\n",
    "* **Sentiment analysis**: classify tweets into being \"positive\" or \"negative\"  \n",
    "* **Spam filters**: distinguish between \"ham\" and \"spam\"\n",
    "\n",
    "<!-- TODO: Load Web Corpus, 4 Universities, something were Maxent works -->"
   ]
  },
  {
   "cell_type": "markdown",
   "metadata": {
    "slideshow": {
     "slide_type": "slide"
    }
   },
   "source": [
    "## Text Classification as Structured Prediction\n",
    "Simplest instance of [structured prediction](/template/statnlpbook/02_methods/00_structuredprediction) \n",
    "\n",
    "* Input space $\\Xs$ are sequences of words\n",
    "* output space $\\Ys$ is a set of labels\n",
    "    * $\\Ys=\\{ \\text{sports},\\text{business}\\}$ in document classification\n",
    "    * $\\Ys=\\{ \\text{positive},\\text{negative}, \\text{neutral}\\}$ in sentiment prediction\n",
    "* model $s_{\\params}(\\x,y)$ \n",
    "    * scores $y$ highly if it fits text $\\x$\n",
    "    "
   ]
  },
  {
   "cell_type": "markdown",
   "metadata": {
    "slideshow": {
     "slide_type": "slide"
    }
   },
   "source": [
    "## Overview\n",
    "\n",
    "* **Generative** model: Naive Bayes\n",
    "    * Learn how to *explain input and output*\n",
    "* **Discriminative** model: *Logistic Regression*\n",
    "    * Learn how to *discriminate best output based on input*"
   ]
  },
  {
   "cell_type": "markdown",
   "metadata": {
    "slideshow": {
     "slide_type": "subslide"
    }
   },
   "source": [
    "## Sentiment Analysis as Text Classification\n",
    "Let us focus on a specific task: sentiment analysis\n",
    "\n",
    "* load data for this task from the [Movie Review dataset](https://www.cs.cornell.edu/people/pabo/movie-review-data/)"
   ]
  },
  {
   "cell_type": "code",
   "execution_count": 2,
   "metadata": {
    "collapsed": true,
    "slideshow": {
     "slide_type": "skip"
    }
   },
   "outputs": [],
   "source": [
    "from os import listdir\n",
    "from os.path import isfile, join\n",
    "def load_from_dir(directory,label):\n",
    "    \"\"\"\n",
    "    Load documents from a directory, and give them all the same label `label`.\n",
    "    Params:\n",
    "        directory: the directory to load the documents from.\n",
    "        label: the label to assign to each document.\n",
    "    Returns:\n",
    "        a list of (x,y) pairs where x is a tokenised document (list of words), and y is the label `label`.\n",
    "    \"\"\"\n",
    "    result = []\n",
    "    for file in listdir(directory):\n",
    "        with open(directory + file, 'r') as f:\n",
    "            text = f.read()\n",
    "            tokens = [t.strip() for t in text.split()]\n",
    "            result.append((tokens,label))\n",
    "    return result\n",
    " \n",
    "data_pos = load_from_dir('../data/rt-2k/txt_sentoken/pos/', 'pos') \n",
    "data_neg = load_from_dir('../data/rt-2k/txt_sentoken/neg/', 'neg')\n",
    "    \n",
    "data = data_pos + data_neg"
   ]
  },
  {
   "cell_type": "markdown",
   "metadata": {
    "slideshow": {
     "slide_type": "subslide"
    }
   },
   "source": [
    "Let us look at some example data ..."
   ]
  },
  {
   "cell_type": "code",
   "execution_count": 3,
   "metadata": {
    "collapsed": false
   },
   "outputs": [
    {
     "data": {
      "text/plain": [
       "'janeane garofalo in a romantic comedy -- it was a good idea a couple years ago with the truth about cats and dogs but is almost excruciating in the matchmaker . this is a by-the-books movie that plods along on a predestined course with no surprises and very few laughs . it also jumps on the ever-popular political satire bandwagon and manages to fall flat there , too . garofalo plays a campaign aide to a massacusetts senator ( jay o . sanders ) running for reelection . denis leary plays the stereotypical strategist with no ethics who decides the only way for the scandal- plagued senator to win is to play up his irish roots and cash in on that boston roman catholic democrat contingent that\\'s made the kennedy family so popular . so leary orders garofalo to go to ireland and dig up some relatives to exploit . she soon learns why \" easier said than done \" is the mantra of movies like this . the matchmaker falls for every cliche of things that can go wrong -- garofalo has to take a tiny plane to ireland , almost misses the bus to town , can\\'t get'"
      ]
     },
     "execution_count": 3,
     "metadata": {},
     "output_type": "execute_result"
    }
   ],
   "source": [
    "\" \".join(data_neg[11][0][:200])"
   ]
  },
  {
   "cell_type": "markdown",
   "metadata": {
    "slideshow": {
     "slide_type": "subslide"
    }
   },
   "source": [
    "## Setup\n",
    "\n",
    "Divide dataset in **train**, **test** and **development** set"
   ]
  },
  {
   "cell_type": "code",
   "execution_count": 4,
   "metadata": {
    "collapsed": false
   },
   "outputs": [
    {
     "data": {
      "text/plain": [
       "815"
      ]
     },
     "execution_count": 4,
     "metadata": {},
     "output_type": "execute_result"
    }
   ],
   "source": [
    "random.seed(0)\n",
    "shuffled = list(data)\n",
    "random.shuffle(shuffled)\n",
    "train, dev, test = shuffled[:1600], shuffled[1600:1800], shuffled[1800:]\n",
    "len([(x,y) for (x,y) in train if y == 'pos']) # check balance"
   ]
  },
  {
   "cell_type": "markdown",
   "metadata": {
    "slideshow": {
     "slide_type": "slide"
    }
   },
   "source": [
    "The simplest and most\n",
    "\n",
    "## Naive Bayes Model\n",
    "\n",
    "uses a distribution $p^{\\mbox{NB}}_{\\params}$ for $s_\\params$:   \n",
    "\n",
    "\\begin{equation}\n",
    "  s_{\\params}(\\x,\\y)\\ = p^{\\text{NB}}_{\\params}(\\x,y)\n",
    "\\end{equation}"
   ]
  },
  {
   "cell_type": "markdown",
   "metadata": {
    "slideshow": {
     "slide_type": "subslide"
    }
   },
   "source": [
    "Naive Bayes is an instance of a \n",
    "\n",
    "### Noisy Channel Model\n",
    "\n",
    "\\begin{equation}\n",
    "\\prob^{\\text{NB}}_{\\params}(\\x,y)= p^\\text{NB}_{\\params}(y) p^{\\text{NB}}_{\\params}(\\x|y) \n",
    "\\end{equation}"
   ]
  },
  {
   "cell_type": "markdown",
   "metadata": {
    "slideshow": {
     "slide_type": "subslide"
    }
   },
   "source": [
    "### Why Naive?\n",
    "\n",
    "Makes a naive conditional independence assumption\n",
    "\n",
    "\\begin{equation}\n",
    "  p^{\\text{NB}}_{\\params}(\\x|y) = \n",
    "  \\prod_i^{\\text{length}(\\x)} p^{\\text{NB}}_{\\params}(x_i|y)\n",
    "\\end{equation}\n",
    "\n",
    "observed words are independent of each other\n",
    "* when *conditioned on the label* $y$ "
   ]
  },
  {
   "cell_type": "markdown",
   "metadata": {
    "slideshow": {
     "slide_type": "subslide"
    }
   },
   "source": [
    "For example:\n",
    "\n",
    "$$\n",
    "p^{\\text{NB}}_{\\params}(\\text{great,tremendous}\\bar+) = p^{\\text{NB}}_{\\params}(\\text{great}\\bar+)  p^{\\text{NB}}_{\\params}(\\text{tremendous}\\bar+)\n",
    "$$\n",
    "\n",
    "* Sometimes this is (approximately) true! \n",
    "* Even when it isn't NB may still work...\n"
   ]
  },
  {
   "cell_type": "markdown",
   "metadata": {
    "slideshow": {
     "slide_type": "subslide"
    }
   },
   "source": [
    "### Parametrization\n",
    "The NB model has the parameters $\\params=(\\balpha,\\bbeta)$ where \n",
    "\n",
    "\\begin{split}\n",
    "  p^{\\text{NB}}_{\\params}(w|y) & = \\alpha_{w,y} \\\\\\\\\n",
    "  p^{\\text{NB}}_{\\params}(y) & = \\beta_{y}.\n",
    "\\end{split}\n",
    "\n",
    "* $\\balpha$ for per-class feature probabilities\n",
    "* $\\bbeta$ for class priors "
   ]
  },
  {
   "cell_type": "markdown",
   "metadata": {
    "slideshow": {
     "slide_type": "slide"
    }
   },
   "source": [
    "### Training Naive Bayes \n",
    "\n",
    "Maximum Likelihood estimation: \n",
    "\n",
    "\\begin{split}\n",
    "  \\alpha_{w,y} & = \\frac{\\counts{\\train}{w,y}}{\\sum_{w'}\\counts{\\train}{w',y}}\\\\\\\\\n",
    "  \\beta_{y} & = \\frac{\\counts{\\train}{y}}{\\left| \\train \\right|}\n",
    "\\end{split}"
   ]
  },
  {
   "cell_type": "markdown",
   "metadata": {
    "slideshow": {
     "slide_type": "subslide"
    }
   },
   "source": [
    "MLE can produce zero probabilities for unseen events in two ways:\n",
    "\n",
    "* Words in the training set, unseen for specific class\n",
    "    * address via [Laplace Smoothing](language_models.ipynb) \n",
    "* Words outside of the training set\n",
    "    * address later ..."
   ]
  },
  {
   "cell_type": "markdown",
   "metadata": {
    "slideshow": {
     "slide_type": "subslide"
    }
   },
   "source": [
    "### Laplace Smoothing\n",
    "\n",
    "Let $V$ be the full training set vocabulary, and $\\gamma$ a pseudo-count, then\n",
    "\n",
    "\\begin{split}\n",
    "  \\alpha^\\gamma_{w,y} & = \\frac{\\counts{\\train}{w,y} + \\gamma}{|V|\\gamma + \\sum_{w'}\\counts{\\train}{w',y}}\\\\\\\\\n",
    "\\end{split}"
   ]
  },
  {
   "cell_type": "code",
   "execution_count": 5,
   "metadata": {
    "collapsed": false,
    "slideshow": {
     "slide_type": "subslide"
    }
   },
   "outputs": [],
   "source": [
    "def train_nb(data, pseudo_count=0.0):\n",
    "    alpha = defaultdict(float)\n",
    "    beta = defaultdict(float)\n",
    "    vocab = set(w for x,_ in data for w in x)\n",
    "    labels = set(y for _,y in data)\n",
    "    norm = 0\n",
    "    for x,y in data:\n",
    "        for w in x:\n",
    "            beta[y] += 1.0\n",
    "            alpha[w,y] += 1\n",
    "            norm += 1\n",
    "    for y in labels:\n",
    "        for w in vocab:\n",
    "            alpha[w,y] = (alpha[w,y]+pseudo_count) / (beta[y] + len(vocab) * pseudo_count)\n",
    "\n",
    "    for y in list(beta.keys()):\n",
    "        beta[y] = beta[y] / norm\n",
    "    return (alpha, beta)"
   ]
  },
  {
   "cell_type": "markdown",
   "metadata": {
    "slideshow": {
     "slide_type": "subslide"
    }
   },
   "source": [
    "Train NB on data:"
   ]
  },
  {
   "cell_type": "code",
   "execution_count": 6,
   "metadata": {
    "collapsed": false
   },
   "outputs": [],
   "source": [
    "theta = (alpha, beta) = train_nb(train)"
   ]
  },
  {
   "cell_type": "markdown",
   "metadata": {
    "slideshow": {
     "slide_type": "subslide"
    }
   },
   "source": [
    "**Inspect** the learned parameters of the NB model!  \n",
    "\n",
    "* they are easy to interpret"
   ]
  },
  {
   "cell_type": "markdown",
   "metadata": {
    "slideshow": {
     "slide_type": "subslide"
    }
   },
   "source": [
    "The class prior $\\bbeta$ looks sensible:"
   ]
  },
  {
   "cell_type": "code",
   "execution_count": 7,
   "metadata": {
    "collapsed": false,
    "slideshow": {
     "slide_type": "-"
    }
   },
   "outputs": [
    {
     "data": {
      "text/plain": [
       "defaultdict(float, {'neg': 0.46489673848425617, 'pos': 0.5351032615157438})"
      ]
     },
     "execution_count": 7,
     "metadata": {},
     "output_type": "execute_result"
    }
   ],
   "source": [
    "beta"
   ]
  },
  {
   "cell_type": "markdown",
   "metadata": {
    "slideshow": {
     "slide_type": "subslide"
    }
   },
   "source": [
    "The per-class word distributions $\\balpha$:"
   ]
  },
  {
   "cell_type": "code",
   "execution_count": 8,
   "metadata": {
    "collapsed": true,
    "slideshow": {
     "slide_type": "skip"
    }
   },
   "outputs": [],
   "source": [
    "def plot_top_k(alpha, label='pos', k=10):\n",
    "    positive_words = [w for (w,y) in alpha.keys() if y == label]\n",
    "    sorted_positive_words = sorted(positive_words, key=lambda w:-alpha[w,label])[:k]\n",
    "    util.plot_bar_graph([alpha[w,label] for w in sorted_positive_words],sorted_positive_words,rotation=45)"
   ]
  },
  {
   "cell_type": "code",
   "execution_count": 9,
   "metadata": {
    "collapsed": false
   },
   "outputs": [
    {
     "data": {
      "image/png": "[encoded data removed]",
      "text/plain": [
       "<matplotlib.figure.Figure at 0x10f0addd8>"
      ]
     },
     "metadata": {},
     "output_type": "display_data"
    }
   ],
   "source": [
    "plot_top_k(alpha, 'pos')"
   ]
  },
  {
   "cell_type": "markdown",
   "metadata": {
    "slideshow": {
     "slide_type": "subslide"
    }
   },
   "source": [
    "Fairly uninformative! For most words \n",
    "\n",
    "* Clearly *any* document will contain these words with high probability\n",
    "* Don't **discriminate** between document classes "
   ]
  },
  {
   "cell_type": "markdown",
   "metadata": {
    "slideshow": {
     "slide_type": "subslide"
    }
   },
   "source": [
    "Remove such words apriori, using a so-called **stop-word** list"
   ]
  },
  {
   "cell_type": "code",
   "execution_count": 10,
   "metadata": {
    "collapsed": true,
    "slideshow": {
     "slide_type": "subslide"
    }
   },
   "outputs": [],
   "source": [
    "import string\n",
    "\n",
    "stop_words = set(['i', 'me', 'my', 'myself', 'we', 'our', 'ours', 'ourselves', 'you', 'your', 'yours',\n",
    "'yourself', 'yourselves', 'he', 'him', 'his', 'himself', 'she', 'her', 'hers',\n",
    "'herself', 'it', 'its', 'itself', 'they', 'them', 'their', 'theirs', 'themselves',\n",
    "'what', 'which', 'who', 'whom', 'this', 'that', 'these', 'those', 'am', 'is', 'are',\n",
    "'was', 'were', 'be', 'been', 'being', 'have', 'has', 'had', 'having', 'do', 'does',\n",
    "'did', 'doing', 'a', 'an', 'the', 'and', 'but', 'if', 'or', 'because', 'as', 'until',\n",
    "'while', 'of', 'at', 'by', 'for', 'with', 'about', 'against', 'between', 'into',\n",
    "'through', 'during', 'before', 'after', 'above', 'below', 'to', 'from', 'up', 'down',\n",
    "'in', 'out', 'on', 'off', 'over', 'under', 'again', 'further', 'then', 'once', 'here',\n",
    "'there', 'when', 'where', 'why', 'how', 'all', 'any', 'both', 'each', 'few', 'more',\n",
    "'most', 'other', 'some', 'such', 'no', 'nor', 'not', 'only', 'own', 'same', 'so',\n",
    "'than', 'too', 'very', 's', 't', 'can', 'will', 'just', 'don', 'should', 'now', '\\n', 'the'] + list(string.punctuation))"
   ]
  },
  {
   "cell_type": "code",
   "execution_count": 11,
   "metadata": {
    "collapsed": true,
    "slideshow": {
     "slide_type": "subslide"
    }
   },
   "outputs": [],
   "source": [
    "def filter_dataset(data):\n",
    "    \"\"\"\n",
    "    Removes stop words from a dataset of (x,y) pairs.\n",
    "    \"\"\"\n",
    "    return [([w for w in x if w not in stop_words],y) for x,y in data]\n",
    "\n",
    "train_filtered = filter_dataset(train)\n",
    "dev_filtered = filter_dataset(dev)\n",
    "test_filtered = filter_dataset(test)\n",
    "\n",
    "theta_filtered = (alpha, beta) = train_nb(train_filtered,pseudo_count=0.01)"
   ]
  },
  {
   "cell_type": "markdown",
   "metadata": {
    "slideshow": {
     "slide_type": "subslide"
    }
   },
   "source": [
    "Let us look at $\\balpha$ again:"
   ]
  },
  {
   "cell_type": "code",
   "execution_count": 12,
   "metadata": {
    "collapsed": false,
    "slideshow": {
     "slide_type": "-"
    }
   },
   "outputs": [
    {
     "data": {
      "image/png": "[encoded data removed]",
      "text/plain": [
       "<matplotlib.figure.Figure at 0x1107a1dd8>"
      ]
     },
     "metadata": {},
     "output_type": "display_data"
    }
   ],
   "source": [
    "plot_top_k(alpha,'neg',k=20)"
   ]
  },
  {
   "cell_type": "markdown",
   "metadata": {},
   "source": [
    "See words that \n",
    "* indicate positive movie reviews (\"good\", \"like\"), \n",
    "* are generally likely (\"movie\", \"story\")"
   ]
  },
  {
   "cell_type": "markdown",
   "metadata": {},
   "source": [
    "How about negative reviews?"
   ]
  },
  {
   "cell_type": "code",
   "execution_count": 13,
   "metadata": {
    "collapsed": false
   },
   "outputs": [
    {
     "data": {
      "image/png": "[encoded data removed]",
      "text/plain": [
       "<matplotlib.figure.Figure at 0x1107a1780>"
      ]
     },
     "metadata": {},
     "output_type": "display_data"
    }
   ],
   "source": [
    "plot_top_k(alpha,'neg', 20)"
   ]
  },
  {
   "cell_type": "markdown",
   "metadata": {},
   "source": [
    "### Observations\n",
    "* Negative reviews fairly similar\n",
    "* Mention \"good\" just as often as the positive reviews\n",
    "* Subtle differences: \n",
    "    * Negative reviews contain \"movie\" more than positive ones\n",
    "    * For \"film\" this effect is reversed\n",
    "\n",
    "* \"bad\" appears with high probability only in the negative reviews"
   ]
  },
  {
   "cell_type": "markdown",
   "metadata": {
    "slideshow": {
     "slide_type": "subslide"
    }
   },
   "source": [
    "\"good\" in negative reviews?"
   ]
  },
  {
   "cell_type": "code",
   "execution_count": 14,
   "metadata": {
    "collapsed": true,
    "slideshow": {
     "slide_type": "skip"
    }
   },
   "outputs": [],
   "source": [
    "def show_context(word, label=\"neg\", index=0, window=5):   \n",
    "    docs_with_word = [x for x,y in train if word in x and y==label]\n",
    "    word_index = docs_with_word[index].index(word)\n",
    "    return docs_with_word[index][max(word_index-window,0):min(word_index+window,len(docs_with_word[index]))]"
   ]
  },
  {
   "cell_type": "code",
   "execution_count": 15,
   "metadata": {
    "collapsed": false
   },
   "outputs": [
    {
     "data": {
      "text/plain": [
       "['business',\n",
       " 'proposition',\n",
       " '\"',\n",
       " 'which',\n",
       " 'i',\n",
       " 'felt',\n",
       " 'was',\n",
       " 'good',\n",
       " '.',\n",
       " 'at',\n",
       " 'least',\n",
       " 'the',\n",
       " 'film',\n",
       " \"wasn't\"]"
      ]
     },
     "execution_count": 15,
     "metadata": {},
     "output_type": "execute_result"
    }
   ],
   "source": [
    "show_context(\"good\", \"neg\", 5, 7)"
   ]
  },
  {
   "cell_type": "markdown",
   "metadata": {
    "slideshow": {
     "slide_type": "subslide"
    }
   },
   "source": [
    "Looking at the most likely words not that helpful:\n",
    "\n",
    "* Discriminative words may be rare\n",
    "* Look at probability *ratios* or *differences*, e.g. $p(\\text{bad}\\bar +) - p(\\text{bad}\\bar -)$ "
   ]
  },
  {
   "cell_type": "code",
   "execution_count": 16,
   "metadata": {
    "collapsed": true,
    "slideshow": {
     "slide_type": "skip"
    }
   },
   "outputs": [],
   "source": [
    "def diff(alpha, w):\n",
    "    return alpha[w,'pos'] - alpha[w,'neg'] \n",
    "\n",
    "def plot_discriminative_features(alpha, threshold = 0.0001, reverse=False):\n",
    "    frequent_words = {w for ((w,y),p) in alpha.items() if p > 0.0001}\n",
    "    sorted_by_ratio = sorted(frequent_words, key=lambda w: diff(alpha, w),reverse=reverse)[-20:]\n",
    "    util.plot_bar_graph([diff(alpha,w) for w in sorted_by_ratio],sorted_by_ratio,rotation=45)"
   ]
  },
  {
   "cell_type": "code",
   "execution_count": 17,
   "metadata": {
    "collapsed": false
   },
   "outputs": [
    {
     "data": {
      "image/png": "[encoded data removed]",
      "text/plain": [
       "<matplotlib.figure.Figure at 0x1107f3390>"
      ]
     },
     "metadata": {},
     "output_type": "display_data"
    }
   ],
   "source": [
    "plot_discriminative_features(alpha,reverse=True)"
   ]
  },
  {
   "cell_type": "markdown",
   "metadata": {},
   "source": [
    "Many of these words seem to match our intuition for negative reviews."
   ]
  },
  {
   "cell_type": "markdown",
   "metadata": {
    "slideshow": {
     "slide_type": "subslide"
    }
   },
   "source": [
    "###  Naive Bayes Prediction\n",
    "Given a trained NB model, how do we predict the class of a given text? \n",
    "\n",
    "Like in [MT](word_mt.ipynb) and [parsing](word_mt.ipynb), search for the $y\\in\\Ys$ with maximum *a posteriori* probability:\n",
    "\n",
    "$$\n",
    "\\argmax_{y\\in\\Ys} \\prob_\\params(y|\\x) =  \\argmax_{y\\in\\Ys} \\frac{\\prob(\\x|y) \\prob(y) }{ \\prob(\\x) } = \\argmax_{y\\in\\Ys} \\prob(\\x|y) \\prob(y) \n",
    "$$"
   ]
  },
  {
   "cell_type": "markdown",
   "metadata": {
    "slideshow": {
     "slide_type": "fragment"
    }
   },
   "source": [
    "What to do with words outside of the training vocabulary? \n",
    "* Ignore them, assuming that unseen words are equally likely in both classes"
   ]
  },
  {
   "cell_type": "code",
   "execution_count": 18,
   "metadata": {
    "collapsed": true,
    "slideshow": {
     "slide_type": "skip"
    }
   },
   "outputs": [],
   "source": [
    "from math import log, exp\n",
    "def log_prob_nb(theta, x, y):\n",
    "    \"\"\"\n",
    "    Calculates the log probability log(p_theta(x|y)).\n",
    "    \"\"\"\n",
    "    alpha, beta = theta\n",
    "    result = util.safe_log(beta[y])\n",
    "    for w in x:\n",
    "        if (w,y) in alpha:\n",
    "            result += util.safe_log(alpha[w,y])\n",
    "    return result"
   ]
  },
  {
   "cell_type": "code",
   "execution_count": 19,
   "metadata": {
    "collapsed": false,
    "slideshow": {
     "slide_type": "slide"
    }
   },
   "outputs": [
    {
     "data": {
      "text/plain": [
       "('neg', 'neg')"
      ]
     },
     "execution_count": 19,
     "metadata": {},
     "output_type": "execute_result"
    }
   ],
   "source": [
    "def predict_nb(theta, x):\n",
    "    \"\"\"\n",
    "    Finds y^*=argmax_y p_theta(y|x)\n",
    "    \"\"\"\n",
    "    if log_prob_nb(theta, x, 'pos') > log_prob_nb(theta, x, 'neg'):\n",
    "        return 'pos'\n",
    "    else:\n",
    "        return 'neg'\n",
    "\n",
    "i = 0\n",
    "predict_nb(theta_filtered,train_filtered[i][0]), train_filtered[i][1]"
   ]
  },
  {
   "cell_type": "markdown",
   "metadata": {
    "slideshow": {
     "slide_type": "slide"
    }
   },
   "source": [
    "## Evaluation\n",
    "Use **accuracy**, the ratio of the \n",
    "\n",
    "* number of correct predictions and the \n",
    "* number of all predictions  \n",
    "\n",
    "$\\y^*$ is predicted sequence of labels, $\\y$ the true labels:"
   ]
  },
  {
   "cell_type": "markdown",
   "metadata": {
    "slideshow": {
     "slide_type": "subslide"
    }
   },
   "source": [
    "$$\n",
    "\\mathrm{Acc}(y_1,\\ldots,y_n, y^*_1,\\ldots,y^*_n, ) = \\frac{\\sum_i \\indi [ y_i = y^*_i]}{n}\n",
    "$$"
   ]
  },
  {
   "cell_type": "code",
   "execution_count": 20,
   "metadata": {
    "collapsed": true,
    "slideshow": {
     "slide_type": "skip"
    }
   },
   "outputs": [],
   "source": [
    "def accuracy(data, guess):\n",
    "    correct = 0\n",
    "    for (x,y),y_guess in zip(data,guess):\n",
    "        if y_guess == y:\n",
    "            correct += 1\n",
    "    return correct / len(data)\n",
    "\n",
    "def batch_predict_nb(theta, data):\n",
    "    return [predict_nb(theta, x) for x,_ in data]\n",
    "\n",
    "def accuracy_nb(theta,data):\n",
    "    return accuracy(data, batch_predict_nb(theta,data))"
   ]
  },
  {
   "cell_type": "code",
   "execution_count": 54,
   "metadata": {
    "collapsed": false,
    "slideshow": {
     "slide_type": "subslide"
    }
   },
   "outputs": [
    {
     "data": {
      "text/plain": [
       "(0.9875, 0.825)"
      ]
     },
     "execution_count": 54,
     "metadata": {},
     "output_type": "execute_result"
    }
   ],
   "source": [
    "theta_filtered = (alpha, beta) = train_nb(train_filtered,pseudo_count=1.0)\n",
    "accuracy_nb(theta_filtered, train_filtered), \\\n",
    "accuracy_nb(theta_filtered, dev_filtered)  "
   ]
  },
  {
   "cell_type": "markdown",
   "metadata": {
    "slideshow": {
     "slide_type": "slide"
    }
   },
   "source": [
    "## Broken Assumptions\n",
    "\n",
    "Naive Bayes assumption can make sense, e.g.\n",
    "\n",
    "$\\prob(\\text{... great ... awesome}\\bar +) \\approx \\ldots \\prob(\\text{great}\\bar +) \\ldots \\prob(\\text{awesome}\\bar +) \\ldots$\n",
    "\n",
    "\n",
    "When is it violated?"
   ]
  },
  {
   "cell_type": "markdown",
   "metadata": {
    "slideshow": {
     "slide_type": "subslide"
    }
   },
   "source": [
    "What is $p(\\text{Fiction}\\bar \\text{Pulp},+)$ according to NB?\n",
    "\n",
    "* $\\approx 1$\n",
    "* $p(\\text{Fiction}\\bar+)$\n",
    "* $p(\\text{Fiction})$"
   ]
  },
  {
   "cell_type": "markdown",
   "metadata": {
    "slideshow": {
     "slide_type": "subslide"
    }
   },
   "source": [
    "---------------------------\n",
    "|$\\x$                 |$y$| \n",
    "|---------------------|---|\n",
    "|... Pulp Fiction ... | + |\n",
    "|... Pulp Fiction ... | + |\n",
    "|... Pulp Fiction ... | + |\n",
    "|... Fiction ...      | - |\n",
    "|... Fiction ...      | - |\n",
    "|... Pulp Fiction ... | - |"
   ]
  },
  {
   "cell_type": "markdown",
   "metadata": {
    "slideshow": {
     "slide_type": "-"
    }
   },
   "source": [
    "What is $p(\\text{Fiction}\\bar \\text{Pulp},+)$ according to this **data**?"
   ]
  },
  {
   "cell_type": "markdown",
   "metadata": {
    "slideshow": {
     "slide_type": "fragment"
    }
   },
   "source": [
    "$\\approx 1$"
   ]
  },
  {
   "cell_type": "markdown",
   "metadata": {
    "slideshow": {
     "slide_type": "subslide"
    }
   },
   "source": [
    "Therefore NB will **underestimate** \n",
    "$$\n",
    "p(\\text{Pulp Fiction}\\bar +)\n",
    "$$ \n",
    "\n",
    "which should roughly be\n",
    "\n",
    "$$\n",
    "p(\\text{Pulp}\\bar+)\n",
    "$$\n",
    "\n",
    "but is \n",
    "$$\n",
    "p(\\text{Pulp}\\bar +)p(\\text{Fiction}\\bar +)\n",
    "$$"
   ]
  },
  {
   "cell_type": "markdown",
   "metadata": {
    "slideshow": {
     "slide_type": "fragment"
    }
   },
   "source": [
    "This means a positive instance with \"Pulp Fiction\" may be **misclassified**"
   ]
  },
  {
   "cell_type": "markdown",
   "metadata": {
    "slideshow": {
     "slide_type": "slide"
    }
   },
   "source": [
    "## Bigram Representation\n",
    "\n",
    "Problem can be partially addressed by using a **bag of bigrams**\n",
    "\n",
    "* Count bigrams (like Pulp Fiction) and not just single words"
   ]
  },
  {
   "cell_type": "markdown",
   "metadata": {
    "slideshow": {
     "slide_type": "subslide"
    }
   },
   "source": [
    "\n",
    "Turn\n",
    "\n",
    "* a, bad, movie\n",
    "\n",
    "into\n",
    "\n",
    "* (a,bad),(bad,movie)\n"
   ]
  },
  {
   "cell_type": "code",
   "execution_count": 22,
   "metadata": {
    "collapsed": false,
    "slideshow": {
     "slide_type": "subslide"
    }
   },
   "outputs": [
    {
     "data": {
      "text/plain": [
       "[('dr', 'dolittle'),\n",
       " ('dolittle', '20th'),\n",
       " ('20th', 'century'),\n",
       " ('century', 'fox'),\n",
       " ('fox', 'running'),\n",
       " ('running', 'time'),\n",
       " ('time', '1'),\n",
       " ('1', 'hour'),\n",
       " ('hour', '25'),\n",
       " ('25', 'minutes')]"
      ]
     },
     "execution_count": 22,
     "metadata": {},
     "output_type": "execute_result"
    }
   ],
   "source": [
    "def bigram_dataset(data):\n",
    "    return [([tuple(x[i:i+2]) for i in range(0,len(x)-1)],y) for x,y in data]\n",
    "\n",
    "train_bigram = bigram_dataset(train_filtered)\n",
    "dev_bigram = bigram_dataset(dev_filtered)\n",
    "test_bigram = bigram_dataset(test_filtered)\n",
    "train_bigram[0][0][:10]"
   ]
  },
  {
   "cell_type": "code",
   "execution_count": 60,
   "metadata": {
    "collapsed": false,
    "slideshow": {
     "slide_type": "subslide"
    }
   },
   "outputs": [
    {
     "data": {
      "text/plain": [
       "0.82"
      ]
     },
     "execution_count": 60,
     "metadata": {},
     "output_type": "execute_result"
    }
   ],
   "source": [
    "theta_bigram = (alpha_bigram, beta_bigram) = train_nb(train_bigram, 2.0)\n",
    "accuracy_nb(theta_bigram, dev_bigram) "
   ]
  },
  {
   "cell_type": "markdown",
   "metadata": {
    "slideshow": {
     "slide_type": "subslide"
    }
   },
   "source": [
    "Look at features"
   ]
  },
  {
   "cell_type": "code",
   "execution_count": 24,
   "metadata": {
    "collapsed": false,
    "scrolled": false,
    "slideshow": {
     "slide_type": "-"
    }
   },
   "outputs": [
    {
     "data": {
      "image/png": "[encoded data removed]",
      "text/plain": [
       "<matplotlib.figure.Figure at 0x110774128>"
      ]
     },
     "metadata": {},
     "output_type": "display_data"
    }
   ],
   "source": [
    "plot_discriminative_features(alpha_bigram, reverse=True)"
   ]
  },
  {
   "cell_type": "markdown",
   "metadata": {
    "slideshow": {
     "slide_type": "subslide"
    }
   },
   "source": [
    "Observe:\n",
    "\n",
    "* Presence of entities such as movies and actors\n",
    "\n",
    "For example\n",
    "* Mentions of \"pulp fiction\" suggest positive reviews"
   ]
  },
  {
   "cell_type": "markdown",
   "metadata": {
    "slideshow": {
     "slide_type": "subslide"
    }
   },
   "source": [
    "How do such reviews look like?"
   ]
  },
  {
   "cell_type": "code",
   "execution_count": 25,
   "metadata": {
    "collapsed": false,
    "slideshow": {
     "slide_type": "subslide"
    }
   },
   "outputs": [
    {
     "name": "stdout",
     "output_type": "stream",
     "text": [
      "mode , shine jumps around in time , ala \" pulp fiction \" . this narrative device works well ;\n",
      "but if most of those movies have their roots in pulp fiction , exploring a modern myth of the doomed\n",
      "knack for giving his stars big careers . after his pulp fiction , many actors began receiving many offers for\n",
      "\n",
      "dogs has hints of the tarantino brilliance that emerged in pulp fiction , but is a much less substantive ,\n",
      "take the review and turn it into a comparison of pulp fiction , just because quentin tarantino directed and wrote\n",
      ", it was citizen kane , with arthouse it was pulp fiction , and with comedy it was , well\n",
      "an oscar nomination ? all for his sophomore outing , pulp fiction . since then , the talented film maker\n",
      "first movie quentin tarantino has directed since the highly touted pulp fiction . to say he has been inactive in\n",
      "this statement , but you need look no further than pulp fiction for an example ) . and , while\n",
      "the three years since the release of the groundbreaking success pulp fiction , the cinematic output from its creator ,\n",
      ", and used to good advantage by quentin tarantino in pulp fiction . exotica reaches a whole new dimension using\n",
      ", stock & two smoking barrels ( 8/10 ) - pulp fiction ( 8/10 ) - reservoir dogs ( 9/10\n",
      "the kiddie version of the hypodermic needle scene in \" pulp fiction \" ) , and when the end of\n"
     ]
    }
   ],
   "source": [
    "docs_with_good = [x for x,y in train if 'pulp' in x and 'fiction' in x and y=='pos']\n",
    "for doc_index in range(0,14):\n",
    "    good_index = docs_with_good[doc_index].index(\"pulp\")\n",
    "    print(\" \".join(docs_with_good[doc_index][good_index-10:good_index+10]))"
   ]
  },
  {
   "cell_type": "markdown",
   "metadata": {
    "slideshow": {
     "slide_type": "subslide"
    }
   },
   "source": [
    "Still problems, like longer distance dependencies: \n",
    "\n",
    "$$\n",
    "p(\\text{Quentin} \\bar \\text{Pulp},+)\n",
    "$$"
   ]
  },
  {
   "cell_type": "markdown",
   "metadata": {
    "slideshow": {
     "slide_type": "subslide"
    }
   },
   "source": [
    "Can we do more with unigrams?"
   ]
  },
  {
   "cell_type": "markdown",
   "metadata": {
    "slideshow": {
     "slide_type": "subslide"
    }
   },
   "source": [
    "Let $\\hat{\\prob}$ be the empirical distribution\n",
    "\n",
    "The problem is: $\\pnb(\\text{Pulp Fiction}\\bar +)$ is **too small**  \n",
    "\n",
    "\\begin{split}\n",
    "\\pnb(\\text{Pulp Fiction}\\bar +) &= \\pnb(\\text{Pulp}\\bar +)\\pnb(\\text{Fiction} \\bar +) \\\\\\\\\n",
    "                                &\\approx \\hat{\\prob}(\\text{Pulp}\\bar +) \\hat{\\prob}(\\text{Fiction} \\bar +) \\\\\\\\\n",
    "                                & < \\hat{\\prob}(\\text{Pulp}\\bar +) \\hat{\\prob}(\\text{Fiction}\\bar \\Pulp, +) \\\\\\\\\n",
    "                                &\\approx \\hat{\\prob}(\\text{Pulp}\\bar +) \\\\\\\\\n",
    "\\end{split}"
   ]
  },
  {
   "cell_type": "markdown",
   "metadata": {
    "slideshow": {
     "slide_type": "fragment"
    }
   },
   "source": [
    "How to fix this for a unigram model?\n",
    "\n",
    "* Increase $\\prob(\\text{Pulp}\\bar +)$ "
   ]
  },
  {
   "cell_type": "markdown",
   "metadata": {
    "slideshow": {
     "slide_type": "subslide"
    }
   },
   "source": [
    "If \n",
    "\n",
    "$$\n",
    "\\pnb(\\text{Pulp}\\bar +)\\approx \\frac{\\hat{\\prob}(\\text{Pulp}\\bar +)}{\\hat{\\prob}(\\text{Fiction}\\bar +)}\n",
    "$$ \n",
    "\n",
    "we'd get\n",
    "\n",
    "\\begin{split}\n",
    "\\pnb(\\text{Pulp Fiction}\\bar +) & \\approx \\frac{\\hat{\\prob}(\\text{Pulp}\\bar +)}{\\hat{\\prob}(\\text{Fiction}\\bar +)} \\hat{\\prob}(\\text{Fiction}\\bar +)  \\\\\\\\ & = \\hat{\\prob}(\\text{Pulp}\\bar +)\n",
    "\\end{split}"
   ]
  },
  {
   "cell_type": "markdown",
   "metadata": {
    "slideshow": {
     "slide_type": "fragment"
    }
   },
   "source": [
    "Note: $\\pnb(\\text{Pulp}\\bar +)$ may be **larger than 1**"
   ]
  },
  {
   "cell_type": "markdown",
   "metadata": {
    "slideshow": {
     "slide_type": "subslide"
    }
   },
   "source": [
    "But this is **not the maximum likelhood estimate**..."
   ]
  },
  {
   "cell_type": "markdown",
   "metadata": {
    "slideshow": {
     "slide_type": "subslide"
    }
   },
   "source": [
    "If you were to generate data from it, it could look like\n",
    "\n",
    "---------------------------\n",
    "|$\\x$                 |$y$| \n",
    "|---------------------|---|\n",
    "|... Pulp Pulp ... | + |\n",
    "|... Pulp Pulp ... | + |\n",
    "|... Pulp Fiction ... | + |\n",
    "|... Fiction ...      | - |\n",
    "|... Fiction ...      | - |\n",
    "|... Pulp Pulp ... | - |"
   ]
  },
  {
   "cell_type": "markdown",
   "metadata": {
    "slideshow": {
     "slide_type": "subslide"
    }
   },
   "source": [
    "But it **doesn't matter** for us, because we get\n",
    "\n",
    "$$\n",
    "\\prob(+ \\bar \\text{...Pulp Fiction...}) = \\frac{\\prob(+ , \\text{...Pulp Fiction...})}{\\prob(+, \\text{...Pulp Fiction...}) + \\prob(- , \\text{...Pulp Fiction...})} < \\frac{1}{2}\n",
    "$$\n",
    "\n",
    "right"
   ]
  },
  {
   "cell_type": "markdown",
   "metadata": {
    "slideshow": {
     "slide_type": "slide"
    }
   },
   "source": [
    "## Discriminative Text Classification\n",
    "\n",
    "Ignore generation, care about **discrimination**\n",
    "\n",
    "(Make war, not love)"
   ]
  },
  {
   "cell_type": "markdown",
   "metadata": {
    "slideshow": {
     "slide_type": "subslide"
    }
   },
   "source": [
    "How can we set probabilities algorithmically?"
   ]
  },
  {
   "cell_type": "markdown",
   "metadata": {
    "slideshow": {
     "slide_type": "subslide"
    }
   },
   "source": [
    "Turn it into an optimisation problem and \n",
    "\n",
    "maximise $\\prob(+ \\bar \\text{...Pulp Fiction...})$ directly"
   ]
  },
  {
   "cell_type": "markdown",
   "metadata": {
    "slideshow": {
     "slide_type": "subslide"
    }
   },
   "source": [
    "### Maximum Conditional Log-Likelihood\n",
    "\n",
    "Directly optimise the **conditional likelihood** of the correct labels\n",
    "\n",
    "$$\n",
    "\\mathit{CL}(\\params) = \\sum_{(\\x,y) \\in \\train} \\log(\\prob_\\params(y|\\x)) = \\sum_{(\\x,y) \\in \\train} \\log\\left(\\frac{\\prob_\\params(y,\\x)}{\\sum_y \\prob_\\params(y,\\x)}\\right)\n",
    "$$"
   ]
  },
  {
   "cell_type": "markdown",
   "metadata": {
    "slideshow": {
     "slide_type": "fragment"
    }
   },
   "source": [
    "Unfortunately less trivial to optimise (no closed form solution), more on that later..."
   ]
  },
  {
   "cell_type": "markdown",
   "metadata": {
    "slideshow": {
     "slide_type": "slide"
    }
   },
   "source": [
    "## Log-Linear Models\n",
    "Present NB (and other following models) in log-space:\n",
    "* Simplify math \n",
    "* easier to optimise\n",
    "* enables rich generalisations\n",
    "* resemblance to linear models like linear SVMs... "
   ]
  },
  {
   "cell_type": "markdown",
   "metadata": {
    "slideshow": {
     "slide_type": "subslide"
    }
   },
   "source": [
    "\\begin{split}\n",
    "p^{\\text{NB}}_{\\params}(\\PulpFiction \\, \\Fiction,+) = & \\exp \\left( \\log(\\pnb(\\Pulp \\bar +) \\right) \\exp \\left( \\log(\\pnb(\\Fiction \\bar +) \\right) \\\\\\\\ & \\exp \\left( \\log(\\pnb(\\Fiction \\bar +) \\right) \\exp \\left( \\log(\\pnb( +) \\right) \\\\\\\\\n",
    "\\end{split}"
   ]
  },
  {
   "cell_type": "markdown",
   "metadata": {
    "slideshow": {
     "slide_type": "fragment"
    }
   },
   "source": [
    "\\begin{split}\n",
    "p^{\\text{NB}}_{\\weights}(\\PulpFiction \\, \\Fiction,+)  & = \\exp \\left( w_{\\Pulp,+} \\right) \\exp \\left( w_{\\Fiction,+} \\right) \\exp \\left( w_{\\Fiction,+} \\right) \\exp \\left( w_{+} \\right) \\\\\\\\\n",
    "& = \\exp \\left( 1 \\cdot w_{\\Pulp,+} + 2 \\cdot w_{\\Fiction,+} + 1 \\cdot w_{+} \\right) \\\\\\\\\n",
    "& = \\exp \\left( f_{\\Pulp}(\\x) \\cdot w_{\\Pulp} + f_{\\Fiction}(\\x) \\cdot w_{\\Fiction,+} + f_{0}(\\x) \\cdot w_{+} \\right) \\\\\\\\\n",
    "\\end{split}"
   ]
  },
  {
   "cell_type": "markdown",
   "metadata": {
    "slideshow": {
     "slide_type": "subslide"
    }
   },
   "source": [
    "$$\n",
    "p^{\\text{NB}}_{\\weights}(\\PulpFiction \\, \\Fiction,+) = \\exp \\langle \\mathbf{f}(\\x), \\mathbf{w}_y \\rangle \n",
    "$$\n",
    "\n",
    "with \n",
    "\n",
    "$$\n",
    "\\mathbf{f}(\\x) = \\begin{bmatrix} f_{\\Pulp}(\\x) \\\\ f_{\\Fiction}(\\x) \\\\ f_{0}(\\x) \\end{bmatrix}\n",
    "$$\n",
    "\n",
    "and\n",
    "\n",
    "$$\n",
    "\\mathbf{w}_y = \\begin{bmatrix} w_{\\Pulp,+} \\\\ w_{\\Fiction,+} \\\\ w_{+} \\end{bmatrix}\n",
    "$$\n"
   ]
  },
  {
   "cell_type": "markdown",
   "metadata": {
    "slideshow": {
     "slide_type": "subslide"
    }
   },
   "source": [
    "In practice, vector defined for **all words**:\n",
    "\n",
    "$$\n",
    "\\mathbf{f}(\\x) = \\begin{bmatrix} f_{\\text{movie}}(\\x)\\\\ \\ldots \\\\ f_{\\Pulp}(\\x) \\\\ f_{\\Fiction}(\\x) \\\\ \\ldots \\\\ f_{0}(\\x) \\end{bmatrix}\n",
    "$$\n"
   ]
  },
  {
   "cell_type": "markdown",
   "metadata": {
    "slideshow": {
     "slide_type": "subslide"
    }
   },
   "source": [
    "### Feature Functions \n",
    "$f_i$ are so called *feature functions*\n",
    "* $i\\in \\mathcal{I}$ with:\n",
    "    * index 0: index of *bias* feature \n",
    "    * index $x'$: index of count of word $x'$ feature:"
   ]
  },
  {
   "cell_type": "markdown",
   "metadata": {},
   "source": [
    "\\begin{split}\n",
    "  f_{0}(\\x) & = 1  \\\\\\\\\n",
    "  f_{x'}(\\x) & = \\sum_i^{\\text{length}(\\x)} \\delta(x',x_i) \n",
    "\\end{split}"
   ]
  },
  {
   "cell_type": "markdown",
   "metadata": {
    "slideshow": {
     "slide_type": "subslide"
    }
   },
   "source": [
    "More generally:   \n",
    "\n",
    "\\begin{equation}\n",
    "  p^{\\text{NB}}_{\\weights}(\\x,y)= \\exp \\left( \\sum_{i \\in \\mathcal{I}} f_i(x) w_{y,i} \\right) = \\exp \\langle \\mathbf{f}(\\x), \\mathbf{w}_y \\rangle = \\exp s_\\weights(\\x,y)\n",
    "\\end{equation}\n",
    "\n",
    "where $s_\\weights(\\x,y) = \\langle \\mathbf{f}(\\x), \\mathbf{w}_y \\rangle$ is the linear **score** of $(\\x,y)$\n",
    "\n",
    "(No normalisation if weights are apropriately chosen)"
   ]
  },
  {
   "cell_type": "markdown",
   "metadata": {
    "slideshow": {
     "slide_type": "subslide"
    }
   },
   "source": [
    "Set weights according to\n",
    "\n",
    "\\begin{split}\n",
    "  w_{y'} & = \\log \\beta_{y'}\\\\\\\\\n",
    "  w_{x',y'} & = \\log \\alpha_{x',y'}\n",
    "\\end{split}\n",
    "\n",
    "to get original NB model. \n"
   ]
  },
  {
   "cell_type": "markdown",
   "metadata": {
    "slideshow": {
     "slide_type": "subslide"
    }
   },
   "source": [
    "### Conditional Distributions\n",
    "\n",
    "We care about conditional probabilities: \n",
    "\\begin{equation}\n",
    "  p^{\\text{NB}}_{\\params}(y|\\x)= \\frac{1}{Z_\\x} \\exp \\langle \\mathbf{f}(\\x), \\mathbf{w}_y \\rangle = \\frac{1}{Z_\\x} \\exp s_\\weights(\\x,y)\n",
    "\\end{equation}\n",
    "\n",
    "with normalizer (\"partition function\"): \n",
    "\n",
    "$$\n",
    "Z_\\x=\\sum_{y\\in\\Ys} \\exp s_\\weights(\\x,y)\n",
    "$$ \n",
    "\n"
   ]
  },
  {
   "cell_type": "markdown",
   "metadata": {
    "slideshow": {
     "slide_type": "fragment"
    }
   },
   "source": [
    "Note: **weights do not need to normalise**"
   ]
  },
  {
   "cell_type": "markdown",
   "metadata": {
    "slideshow": {
     "slide_type": "subslide"
    }
   },
   "source": [
    "For binary tasks corresponds to **logistic regression model**:\n",
    "\n",
    "$$\n",
    "\\frac{1}{Z_\\x} \\exp s_\\weights(\\x,y) = \\frac{\\exp s_\\weights(\\x,y)}{\\exp s_\\weights(\\x,+)+\\exp s_\\weights(\\x,-)} = \\operatorname{sigmoid}\\left(s_\\weights(\\x,y)\\right)  \n",
    "$$"
   ]
  },
  {
   "cell_type": "markdown",
   "metadata": {
    "slideshow": {
     "slide_type": "subslide"
    }
   },
   "source": [
    "Conditional log-likelihood in log-linear form:\n",
    "\n",
    "$$\n",
    "\\mathit{CL}(\\weights) = \\sum_{(\\x,y) \\in \\train} \\log \\left (\\frac{1}{Z_\\x} \\exp s_\\weights(\\x,y) \\right) = \\sum_{(\\x,y) \\in \\train} s_\\weights(\\x,y) - \\log Z_\\x.\n",
    "$$"
   ]
  },
  {
   "cell_type": "code",
   "execution_count": 26,
   "metadata": {
    "collapsed": false,
    "slideshow": {
     "slide_type": "skip"
    }
   },
   "outputs": [],
   "source": [
    "p,f = \"Pulp\", \"Fiction\"\n",
    "data = [((p,f),True),((p,f),True),((p,f),True), ((f,),False), ((f,),False),((p,f),False)]\n",
    "from math import log, exp\n",
    "\n",
    "def cl(data, w_p_true, w_f_true, w_true, l=0.0):\n",
    "    loss = 0.0\n",
    "    for x,y in data:\n",
    "        count_p = len([w for w in x if w==p])\n",
    "        count_f = len([w for w in x if w==f])\n",
    "        score_true = w_true + count_p * w_p_true + count_f * w_f_true\n",
    "        log_z = log(exp(score_true) + exp(0))\n",
    "#         print(count_p)\n",
    "#         print(count_f)\n",
    "#         print(log_z)\n",
    "        if y:\n",
    "            loss += score_true - log_z\n",
    "        else:\n",
    "            loss += 0 - log_z\n",
    "    return loss - l * (w_p_true * w_p_true + w_f_true * w_f_true + w_true * w_true)\n",
    "\n",
    "def jl(data, w_p_true, w_f_true, w_true, w_p_false, w_f_false, w_false):\n",
    "    loss = 0.0\n",
    "    for x,y in data:\n",
    "        count_p = len([w for w in x if w==p])\n",
    "        count_f = len([w for w in x if w==f])\n",
    "        score_true = w_true + count_p * w_p_true + count_f * w_f_true\n",
    "        score_false = w_false + count_p * w_p_false + count_f * w_f_false\n",
    "        if y:\n",
    "            loss += score_true\n",
    "        else:\n",
    "            loss += score_false\n",
    "    return loss \n",
    "\n",
    "\n",
    "# cl(data,log(0.5),log(0.5),log(0.5))\n",
    "\n",
    "import matplotlib.pyplot as plt\n",
    "import mpld3\n",
    "import numpy as np\n",
    "\n",
    "# x = np.linspace(-10, 10, 100)\n",
    "# cl_loss = np.vectorize(lambda w: cl(data,w,log(0.5),log(0.5),1))"
   ]
  },
  {
   "cell_type": "markdown",
   "metadata": {
    "slideshow": {
     "slide_type": "subslide"
    }
   },
   "source": [
    "Consider loss on this data:"
   ]
  },
  {
   "cell_type": "code",
   "execution_count": 27,
   "metadata": {
    "collapsed": false
   },
   "outputs": [
    {
     "name": "stderr",
     "output_type": "stream",
     "text": [
      "/usr/local/lib/python3.5/site-packages/pandas/__init__.py:7: DeprecationWarning: bad escape \\s\n",
      "  from pandas import hashtable, tslib, lib\n"
     ]
    },
    {
     "data": {
      "text/html": [
       "<div>\n",
       "<table border=\"1\" class=\"dataframe\">\n",
       "  <thead>\n",
       "    <tr style=\"text-align: right;\">\n",
       "      <th></th>\n",
       "      <th>x</th>\n",
       "      <th>y</th>\n",
       "    </tr>\n",
       "  </thead>\n",
       "  <tbody>\n",
       "    <tr>\n",
       "      <th>0</th>\n",
       "      <td>(Pulp, Fiction)</td>\n",
       "      <td>True</td>\n",
       "    </tr>\n",
       "    <tr>\n",
       "      <th>1</th>\n",
       "      <td>(Pulp, Fiction)</td>\n",
       "      <td>True</td>\n",
       "    </tr>\n",
       "    <tr>\n",
       "      <th>2</th>\n",
       "      <td>(Pulp, Fiction)</td>\n",
       "      <td>True</td>\n",
       "    </tr>\n",
       "    <tr>\n",
       "      <th>3</th>\n",
       "      <td>(Fiction,)</td>\n",
       "      <td>False</td>\n",
       "    </tr>\n",
       "    <tr>\n",
       "      <th>4</th>\n",
       "      <td>(Fiction,)</td>\n",
       "      <td>False</td>\n",
       "    </tr>\n",
       "    <tr>\n",
       "      <th>5</th>\n",
       "      <td>(Pulp, Fiction)</td>\n",
       "      <td>False</td>\n",
       "    </tr>\n",
       "  </tbody>\n",
       "</table>\n",
       "</div>"
      ],
      "text/plain": [
       "                 x      y\n",
       "0  (Pulp, Fiction)   True\n",
       "1  (Pulp, Fiction)   True\n",
       "2  (Pulp, Fiction)   True\n",
       "3       (Fiction,)  False\n",
       "4       (Fiction,)  False\n",
       "5  (Pulp, Fiction)  False"
      ]
     },
     "execution_count": 27,
     "metadata": {},
     "output_type": "execute_result"
    }
   ],
   "source": [
    "import pandas as pd\n",
    "pd.DataFrame(data, columns = [\"x\",\"y\"])"
   ]
  },
  {
   "cell_type": "markdown",
   "metadata": {
    "slideshow": {
     "slide_type": "subslide"
    }
   },
   "source": [
    "Set $w_{\\Fiction,+}=w_{+}=\\log 0.5$, vary $w_{\\Pulp,+}=\\log(\\prob(\\Pulp \\bar +))$"
   ]
  },
  {
   "cell_type": "code",
   "execution_count": 28,
   "metadata": {
    "collapsed": false,
    "slideshow": {
     "slide_type": "-"
    }
   },
   "outputs": [
    {
     "data": {
      "text/plain": [
       "[<matplotlib.lines.Line2D at 0x1216df860>]"
      ]
     },
     "execution_count": 28,
     "metadata": {},
     "output_type": "execute_result"
    },
    {
     "data": {
      "image/png": "[encoded data removed]",
      "text/plain": [
       "<matplotlib.figure.Figure at 0x12169f588>"
      ]
     },
     "metadata": {},
     "output_type": "display_data"
    }
   ],
   "source": [
    "x = np.linspace(0.01, 1.0, 100)\n",
    "cl_loss = np.vectorize(lambda p: cl(data,log(p),log(0.5),log(0.5)))\n",
    "y = cl_loss(x)\n",
    "plt.plot(x, y)"
   ]
  },
  {
   "cell_type": "markdown",
   "metadata": {
    "slideshow": {
     "slide_type": "fragment"
    }
   },
   "source": [
    "Compare to [exercise 1 solutions](http://localhost:8888/notebooks/exercises/structured_prediction_solutions.ipynb)"
   ]
  },
  {
   "cell_type": "markdown",
   "metadata": {
    "slideshow": {
     "slide_type": "subslide"
    }
   },
   "source": [
    "Compare to the **joint likelihood** we optimised before:\n",
    "   \n",
    "$$\n",
    "\\sum_{(\\x,y) \\in \\train} \\log(\\prob_\\params(y,\\x))\n",
    "$$"
   ]
  },
  {
   "cell_type": "code",
   "execution_count": 29,
   "metadata": {
    "collapsed": false,
    "slideshow": {
     "slide_type": "-"
    }
   },
   "outputs": [
    {
     "data": {
      "text/plain": [
       "[<matplotlib.lines.Line2D at 0x12174a4e0>]"
      ]
     },
     "execution_count": 29,
     "metadata": {},
     "output_type": "execute_result"
    },
    {
     "data": {
      "image/png": "[encoded data removed]",
      "text/plain": [
       "<matplotlib.figure.Figure at 0x1216e4978>"
      ]
     },
     "metadata": {},
     "output_type": "display_data"
    }
   ],
   "source": [
    "x = np.linspace(0.01, 0.999, 100)\n",
    "jl_loss = np.vectorize(lambda p: jl(data,log(p),log(1-p),log(0.5),\n",
    "                                    log(1/4),log(3/4),log(0.5)))\n",
    "y = cl_loss(x) # CHANGE to jl\n",
    "plt.plot(x, y)"
   ]
  },
  {
   "cell_type": "markdown",
   "metadata": {
    "slideshow": {
     "slide_type": "subslide"
    }
   },
   "source": [
    "### Other Objectives\n",
    "Other structured prediction losses replace $\\log Z_\\x$ with other terms:\n",
    "\n",
    "$$\n",
    "\\mathit{PERCEPTRON}(\\weights) = \\sum_{(\\x,y) \\in \\train} s_\\weights(\\x,y) - s_\\weights(\\x,y^*(\\x))\n",
    "$$\n",
    "\n",
    "where $y^*(\\x)=\\argmax_{y\\in\\Ys} s_\\weights(\\x,y)$ \n",
    "\n",
    "Aka **structured perceptron** loss!"
   ]
  },
  {
   "cell_type": "markdown",
   "metadata": {
    "slideshow": {
     "slide_type": "slide"
    }
   },
   "source": [
    "## Regularisation\n",
    "Estimating a log-linear models can lead to *overfitting*\n",
    "\n",
    "* For example, reviews of movies may often contain the **name** of the movie to reviewed.\n",
    "* False *killer feature*: only appears in one training instance \n",
    "* weight can be set in way that we get perfect accuracy on this instance "
   ]
  },
  {
   "cell_type": "markdown",
   "metadata": {
    "slideshow": {
     "slide_type": "subslide"
    }
   },
   "source": [
    "*regularise* the model by **penalising** large weights:\n",
    "\n",
    "* add a regularisation penalty to the training objective\n",
    "* For example,  $||\\weights||_2$ and $||\\weights||_1$, the L2 and L1 norm of the weight vector\n",
    "\n",
    "$$\n",
    "\\mathit{RCL}(\\weights) = \\sum_{(\\x,y) \\in \\train} \\log(\\prob_\\weights(y|\\x)) - \\frac{1}{C} ||\\weights||_2\n",
    "$$\n",
    "\n",
    "$C$ controls inverse strength of regularisation"
   ]
  },
  {
   "cell_type": "markdown",
   "metadata": {
    "slideshow": {
     "slide_type": "subslide"
    }
   },
   "source": [
    "Both L1 and L2 have their strength and weaknesses. \n",
    "* L1 regularisation can lead to sparse vectors with zero weights, and this can improve the memory footprint of your model. \n",
    "* L2 seems to often lead to [better results](http://www.csie.ntu.edu.tw/~cjlin/liblinear/FAQ.html#l1_regularized_classification). "
   ]
  },
  {
   "cell_type": "markdown",
   "metadata": {
    "slideshow": {
     "slide_type": "subslide"
    }
   },
   "source": [
    "Vary regularisation:"
   ]
  },
  {
   "cell_type": "code",
   "execution_count": 30,
   "metadata": {
    "collapsed": false,
    "slideshow": {
     "slide_type": "-"
    }
   },
   "outputs": [
    {
     "data": {
      "text/plain": [
       "[<matplotlib.lines.Line2D at 0x1217b04a8>]"
      ]
     },
     "execution_count": 30,
     "metadata": {},
     "output_type": "execute_result"
    },
    {
     "data": {
      "image/png": "[encoded data removed]",
      "text/plain": [
       "<matplotlib.figure.Figure at 0x1216fe710>"
      ]
     },
     "metadata": {},
     "output_type": "display_data"
    }
   ],
   "source": [
    "x = np.linspace(0.01, 10.0, 100)\n",
    "C = 10000.0\n",
    "cl_loss = np.vectorize(lambda p: cl(data,log(p),log(0.5),log(0.5),1/C))\n",
    "y = cl_loss(x)\n",
    "plt.plot(x, y)"
   ]
  },
  {
   "cell_type": "markdown",
   "metadata": {
    "slideshow": {
     "slide_type": "subslide"
    }
   },
   "source": [
    "Can be understood as maximum-a-posteriori inference of the parameters under [specific priors](http://www.stat.columbia.edu/~gelman/research/published/priors11.pdf)\n",
    "\n",
    "For example, L2 regularisation assumes a Gaussian prior.  "
   ]
  },
  {
   "cell_type": "markdown",
   "metadata": {
    "slideshow": {
     "slide_type": "slide"
    }
   },
   "source": [
    "## Optimising the Conditional Loglikelihood\n",
    "No closed form solution, use **iterative methods** such as \n",
    "\n",
    "* L-BFGS\n",
    "* Stochastic Gradient Descent"
   ]
  },
  {
   "cell_type": "markdown",
   "metadata": {
    "slideshow": {
     "slide_type": "subslide"
    }
   },
   "source": [
    "\"Easy\" because **concave** in weights $\\weights$"
   ]
  },
  {
   "cell_type": "code",
   "execution_count": 31,
   "metadata": {
    "collapsed": false
   },
   "outputs": [
    {
     "data": {
      "text/plain": [
       "[<matplotlib.lines.Line2D at 0x1219b8c88>]"
      ]
     },
     "execution_count": 31,
     "metadata": {},
     "output_type": "execute_result"
    },
    {
     "data": {
      "image/png": "[encoded data removed]",
      "text/plain": [
       "<matplotlib.figure.Figure at 0x1217d4630>"
      ]
     },
     "metadata": {},
     "output_type": "display_data"
    }
   ],
   "source": [
    "x = np.linspace(-10, 10, 100)\n",
    "C = 5.0\n",
    "cl_loss = np.vectorize(lambda w: cl(data,w,log(0.5),log(0.5),1/C))\n",
    "y = cl_loss(x)\n",
    "plt.plot(x, y)"
   ]
  },
  {
   "cell_type": "markdown",
   "metadata": {
    "slideshow": {
     "slide_type": "subslide"
    }
   },
   "source": [
    "Can we characterise the optimum?"
   ]
  },
  {
   "cell_type": "code",
   "execution_count": 32,
   "metadata": {
    "collapsed": true,
    "slideshow": {
     "slide_type": "skip"
    }
   },
   "outputs": [],
   "source": [
    "def prob_log_reg(x, w_p_true,  w_f_true, w_true):\n",
    "    count_p = len([w for w in x if w==p])\n",
    "    count_f = len([w for w in x if w==f])\n",
    "    score_true = w_true + count_p * w_p_true + count_f * w_f_true\n",
    "    log_z = log(exp(score_true) + exp(0))\n",
    "    return exp(score_true - log_z)\n",
    "\n",
    "def indi(pred, value=1.0):\n",
    "    return value if pred else 0.0\n",
    "\n",
    "def expectations(data, w_p_true,  w_f_true, w_true):   \n",
    "    data_probs = [(x,\n",
    "                   indi(y),\n",
    "                   prob_log_reg(x,w_p_true,w_f_true,w_true),\n",
    "                   indi(p in x and y),\n",
    "                   indi(p in x, prob_log_reg(x,w_p_true,w_f_true,w_true)),\n",
    "                   indi(f in x and y),\n",
    "                   indi(f in x, prob_log_reg(x,w_p_true,w_f_true,w_true)),\n",
    "                   cl([(x,y)],w_p_true,w_f_true,w_true)) \n",
    "                  for x,y in data]\n",
    "    last_row = [('[Avg]',\n",
    "                 sum(data[1] for data in data_probs)/6,\n",
    "                 sum(data[2] for data in data_probs)/6,\n",
    "                 sum(data[3] for data in data_probs)/6,\n",
    "                 sum(data[4] for data in data_probs)/6,\n",
    "                 sum(data[5] for data in data_probs)/6,\n",
    "                 sum(data[6] for data in data_probs)/6,\n",
    "                 sum(data[7] for data in data_probs)/6\n",
    "                )]\n",
    "    return pd.DataFrame(data_probs + last_row, columns = ['x','y','p(+)','#(Pulp)p_data(+)','#(Pulp)p(+)', \n",
    "                                                          '#(Fiction)p_data(+)','#(Fiction)p(+)','CL'])\n",
    "    "
   ]
  },
  {
   "cell_type": "code",
   "execution_count": 33,
   "metadata": {
    "collapsed": false
   },
   "outputs": [
    {
     "data": {
      "text/html": [
       "<div>\n",
       "<table border=\"1\" class=\"dataframe\">\n",
       "  <thead>\n",
       "    <tr style=\"text-align: right;\">\n",
       "      <th></th>\n",
       "      <th>x</th>\n",
       "      <th>y</th>\n",
       "      <th>p(+)</th>\n",
       "      <th>#(Pulp)p_data(+)</th>\n",
       "      <th>#(Pulp)p(+)</th>\n",
       "      <th>#(Fiction)p_data(+)</th>\n",
       "      <th>#(Fiction)p(+)</th>\n",
       "      <th>CL</th>\n",
       "    </tr>\n",
       "  </thead>\n",
       "  <tbody>\n",
       "    <tr>\n",
       "      <th>0</th>\n",
       "      <td>(Pulp, Fiction)</td>\n",
       "      <td>1.0</td>\n",
       "      <td>0.5</td>\n",
       "      <td>1.0</td>\n",
       "      <td>0.500000</td>\n",
       "      <td>1.0</td>\n",
       "      <td>0.5</td>\n",
       "      <td>-0.693147</td>\n",
       "    </tr>\n",
       "    <tr>\n",
       "      <th>1</th>\n",
       "      <td>(Pulp, Fiction)</td>\n",
       "      <td>1.0</td>\n",
       "      <td>0.5</td>\n",
       "      <td>1.0</td>\n",
       "      <td>0.500000</td>\n",
       "      <td>1.0</td>\n",
       "      <td>0.5</td>\n",
       "      <td>-0.693147</td>\n",
       "    </tr>\n",
       "    <tr>\n",
       "      <th>2</th>\n",
       "      <td>(Pulp, Fiction)</td>\n",
       "      <td>1.0</td>\n",
       "      <td>0.5</td>\n",
       "      <td>1.0</td>\n",
       "      <td>0.500000</td>\n",
       "      <td>1.0</td>\n",
       "      <td>0.5</td>\n",
       "      <td>-0.693147</td>\n",
       "    </tr>\n",
       "    <tr>\n",
       "      <th>3</th>\n",
       "      <td>(Fiction,)</td>\n",
       "      <td>0.0</td>\n",
       "      <td>0.5</td>\n",
       "      <td>0.0</td>\n",
       "      <td>0.000000</td>\n",
       "      <td>0.0</td>\n",
       "      <td>0.5</td>\n",
       "      <td>-0.693147</td>\n",
       "    </tr>\n",
       "    <tr>\n",
       "      <th>4</th>\n",
       "      <td>(Fiction,)</td>\n",
       "      <td>0.0</td>\n",
       "      <td>0.5</td>\n",
       "      <td>0.0</td>\n",
       "      <td>0.000000</td>\n",
       "      <td>0.0</td>\n",
       "      <td>0.5</td>\n",
       "      <td>-0.693147</td>\n",
       "    </tr>\n",
       "    <tr>\n",
       "      <th>5</th>\n",
       "      <td>(Pulp, Fiction)</td>\n",
       "      <td>0.0</td>\n",
       "      <td>0.5</td>\n",
       "      <td>0.0</td>\n",
       "      <td>0.500000</td>\n",
       "      <td>0.0</td>\n",
       "      <td>0.5</td>\n",
       "      <td>-0.693147</td>\n",
       "    </tr>\n",
       "    <tr>\n",
       "      <th>6</th>\n",
       "      <td>[Avg]</td>\n",
       "      <td>0.5</td>\n",
       "      <td>0.5</td>\n",
       "      <td>0.5</td>\n",
       "      <td>0.333333</td>\n",
       "      <td>0.5</td>\n",
       "      <td>0.5</td>\n",
       "      <td>-0.693147</td>\n",
       "    </tr>\n",
       "  </tbody>\n",
       "</table>\n",
       "</div>"
      ],
      "text/plain": [
       "                 x    y  p(+)  #(Pulp)p_data(+)  #(Pulp)p(+)  \\\n",
       "0  (Pulp, Fiction)  1.0   0.5               1.0     0.500000   \n",
       "1  (Pulp, Fiction)  1.0   0.5               1.0     0.500000   \n",
       "2  (Pulp, Fiction)  1.0   0.5               1.0     0.500000   \n",
       "3       (Fiction,)  0.0   0.5               0.0     0.000000   \n",
       "4       (Fiction,)  0.0   0.5               0.0     0.000000   \n",
       "5  (Pulp, Fiction)  0.0   0.5               0.0     0.500000   \n",
       "6            [Avg]  0.5   0.5               0.5     0.333333   \n",
       "\n",
       "   #(Fiction)p_data(+)  #(Fiction)p(+)        CL  \n",
       "0                  1.0             0.5 -0.693147  \n",
       "1                  1.0             0.5 -0.693147  \n",
       "2                  1.0             0.5 -0.693147  \n",
       "3                  0.0             0.5 -0.693147  \n",
       "4                  0.0             0.5 -0.693147  \n",
       "5                  0.0             0.5 -0.693147  \n",
       "6                  0.5             0.5 -0.693147  "
      ]
     },
     "execution_count": 33,
     "metadata": {},
     "output_type": "execute_result"
    }
   ],
   "source": [
    "expectations(data, 0, 0, 0) "
   ]
  },
  {
   "cell_type": "markdown",
   "metadata": {
    "slideshow": {
     "slide_type": "subslide"
    }
   },
   "source": [
    "### Expectations Match: Why? \n",
    "\n",
    "Let's look at the $\\mathit{CL}$ gradient:\n",
    "\n",
    "\\begin{split}\n",
    "  \\nabla_{\\weights_{y'}} CL(\\params) =  \\sum_{(\\x,y) \\in \\train} \\mathbf{f}(\\x) \\delta(y,y') - p_\\params(y'|\\x) \\mathbf{f}(\\x) = \\sum_{(\\x,y) \\in \\train} \\mathbf{f}(\\x) \\delta(y,y') - \\sum_{(\\x,y) \\in \\train} p_\\params(y'|\\x) \\mathbf{f}(\\x).\n",
    "\\end{split}"
   ]
  },
  {
   "cell_type": "markdown",
   "metadata": {
    "slideshow": {
     "slide_type": "subslide"
    }
   },
   "source": [
    "Solution $\\weights*$ when this gradient is zero:\n",
    "\n",
    "* **empirical** expectations $\\sum_{(\\x,y) \\in \\train} \\mathbf{f}(\\x) \\delta(y,y')$ for class $y'$ \n",
    "\n",
    "match \n",
    "\n",
    "* **model** expectations $\\sum_{(\\x,y) \\in \\train} p_\\params(y'|\\x) \\mathbf{f}(\\x)$\n",
    "\n",
    "Compare to dual \"Maximum Entropy\" formulation "
   ]
  },
  {
   "cell_type": "markdown",
   "metadata": {
    "slideshow": {
     "slide_type": "subslide"
    }
   },
   "source": [
    "### How to Find Optimum?\n",
    "\n",
    "In practice one of the following:\n",
    "* You have to implement both optimisation code and gradient calculation\n",
    "* You have an off-the-shelf gradient descent library, you provide the gradients (Example: [factorie](http://factorie.cs.umass.edu/))\n",
    "* You have a back-propagation framework (such as Tensorflow) \n",
    "* You have a library (such as scikit-learn) for a specific model class \n",
    "\n",
    "Here: scikit-learn \n"
   ]
  },
  {
   "cell_type": "markdown",
   "metadata": {
    "slideshow": {
     "slide_type": "slide"
    }
   },
   "source": [
    "## Logistic Regression Toolkits\n",
    "A log-linear model trained by maximising the CL corresponds to training a **logistic regression** model"
   ]
  },
  {
   "cell_type": "markdown",
   "metadata": {},
   "source": [
    "[logistic regression](http://scikit-learn.org/stable/modules/generated/sklearn.linear_model.LogisticRegression.html) implementation of [scikit-learn](http://scikit-learn.org/stable/index.html)"
   ]
  },
  {
   "cell_type": "markdown",
   "metadata": {
    "slideshow": {
     "slide_type": "subslide"
    }
   },
   "source": [
    "Convert $\\x \\in \\Xs$ to a (sparse) feature vector $\\mathbf{f}(\\x)$:"
   ]
  },
  {
   "cell_type": "code",
   "execution_count": 34,
   "metadata": {
    "collapsed": false
   },
   "outputs": [
    {
     "data": {
      "text/plain": [
       "defaultdict(float, {'fiction': 2.0, 'pulp': 1.0})"
      ]
     },
     "execution_count": 34,
     "metadata": {},
     "output_type": "execute_result"
    }
   ],
   "source": [
    "def to_dict(x):\n",
    "    result = defaultdict(float)\n",
    "    for w in x:\n",
    "        result[w] += 1.0\n",
    "    return result\n",
    "\n",
    "to_dict(['pulp','fiction','fiction'])"
   ]
  },
  {
   "cell_type": "markdown",
   "metadata": {
    "slideshow": {
     "slide_type": "subslide"
    }
   },
   "source": [
    "Apply to training and test instances:"
   ]
  },
  {
   "cell_type": "code",
   "execution_count": 35,
   "metadata": {
    "collapsed": false,
    "slideshow": {
     "slide_type": "-"
    }
   },
   "outputs": [
    {
     "name": "stderr",
     "output_type": "stream",
     "text": [
      "/usr/local/lib/python3.5/site-packages/scipy/_lib/decorator.py:205: DeprecationWarning: inspect.getargspec() is deprecated, use inspect.signature() instead\n",
      "  first = inspect.getargspec(caller)[0][0]  # first arg\n"
     ]
    },
    {
     "data": {
      "text/plain": [
       "<1x45862 sparse matrix of type '<class 'numpy.float64'>'\n",
       "\twith 123 stored elements in Compressed Sparse Row format>"
      ]
     },
     "execution_count": 35,
     "metadata": {},
     "output_type": "execute_result"
    }
   ],
   "source": [
    "from collections import defaultdict\n",
    "from sklearn.feature_extraction import DictVectorizer\n",
    "vectorizer = DictVectorizer()\n",
    "\n",
    "train_X = vectorizer.fit_transform([to_dict(x) for x,_ in train_filtered])\n",
    "dev_X = vectorizer.transform([to_dict(x) for x,_ in dev_filtered])\n",
    "dev_X[0]"
   ]
  },
  {
   "cell_type": "markdown",
   "metadata": {
    "slideshow": {
     "slide_type": "subslide"
    }
   },
   "source": [
    "scikit-learn wants prefers numbers as classes:\n",
    "\n",
    "* $\\text{positive}\\rightarrow 0$\n",
    "* $\\text{negative}\\rightarrow 1$"
   ]
  },
  {
   "cell_type": "code",
   "execution_count": 36,
   "metadata": {
    "collapsed": false
   },
   "outputs": [
    {
     "data": {
      "text/plain": [
       "array([1, 1, 0, 0, 0, 1, 0, 0, 1, 1])"
      ]
     },
     "execution_count": 36,
     "metadata": {},
     "output_type": "execute_result"
    }
   ],
   "source": [
    "from sklearn.preprocessing import LabelEncoder\n",
    "label_encoder = LabelEncoder()\n",
    "\n",
    "train_Y = label_encoder.fit_transform([y for _,y in train_filtered])\n",
    "dev_Y = label_encoder.transform([y for _,y in dev_filtered])\n",
    "\n",
    "dev_Y[:10]"
   ]
  },
  {
   "cell_type": "markdown",
   "metadata": {
    "slideshow": {
     "slide_type": "subslide"
    }
   },
   "source": [
    "Train the logistic regression with l2 regularisation at $C=8.0$"
   ]
  },
  {
   "cell_type": "code",
   "execution_count": 37,
   "metadata": {
    "collapsed": false
   },
   "outputs": [
    {
     "name": "stderr",
     "output_type": "stream",
     "text": [
      "/usr/local/lib/python3.5/site-packages/scipy/_lib/decorator.py:205: DeprecationWarning: inspect.getargspec() is deprecated, use inspect.signature() instead\n",
      "  first = inspect.getargspec(caller)[0][0]  # first arg\n"
     ]
    },
    {
     "data": {
      "text/plain": [
       "LogisticRegression(C=8.0, class_weight=None, dual=False, fit_intercept=True,\n",
       "          intercept_scaling=1, max_iter=100, multi_class='ovr', n_jobs=1,\n",
       "          penalty='l2', random_state=None, solver='liblinear', tol=0.0001,\n",
       "          verbose=0, warm_start=False)"
      ]
     },
     "execution_count": 37,
     "metadata": {},
     "output_type": "execute_result"
    }
   ],
   "source": [
    "from sklearn.linear_model import LogisticRegression\n",
    "import numpy as np\n",
    "\n",
    "lr = LogisticRegression(C=8.0)\n",
    "lr.fit(train_X, train_Y)"
   ]
  },
  {
   "cell_type": "markdown",
   "metadata": {
    "slideshow": {
     "slide_type": "subslide"
    }
   },
   "source": [
    "Weights learned:\n",
    "* single weight vector $\\weights=\\weights_\\text{positive} - \\weights_\\text{negative}$"
   ]
  },
  {
   "cell_type": "code",
   "execution_count": 38,
   "metadata": {
    "collapsed": false,
    "slideshow": {
     "slide_type": "subslide"
    }
   },
   "outputs": [
    {
     "data": {
      "image/png": "[encoded data removed]",
      "text/plain": [
       "<matplotlib.figure.Figure at 0x123bb7160>"
      ]
     },
     "metadata": {},
     "output_type": "display_data"
    }
   ],
   "source": [
    "weights = vectorizer.inverse_transform(lr.coef_)[0]\n",
    "sorted_weights = sorted(weights.items(), key=lambda t: t[1])\n",
    "util.plot_bar_graph([w for _,w in sorted_weights[:20]],\n",
    "                    [f for f,_ in sorted_weights[:20]],rotation=45)"
   ]
  },
  {
   "cell_type": "markdown",
   "metadata": {
    "slideshow": {
     "slide_type": "subslide"
    }
   },
   "source": [
    "More obvious **discriminative** features for the negative class \n",
    "\n",
    "* Conditional log-likelihood down-weighs a feature $f_i$ for $y=-$ \n",
    "    * if $f_i$ is active in $\\x$\n",
    "    * but gold label is $y=+$\n",
    "\n"
   ]
  },
  {
   "cell_type": "markdown",
   "metadata": {
    "slideshow": {
     "slide_type": "subslide"
    }
   },
   "source": [
    "Positive weights? "
   ]
  },
  {
   "cell_type": "code",
   "execution_count": 39,
   "metadata": {
    "collapsed": false
   },
   "outputs": [
    {
     "data": {
      "image/png": "[encoded data removed]",
      "text/plain": [
       "<matplotlib.figure.Figure at 0x123b9fd68>"
      ]
     },
     "metadata": {},
     "output_type": "display_data"
    }
   ],
   "source": [
    "util.plot_bar_graph([w for _,w in sorted_weights[-20:]],\n",
    "                    [f for f,_ in sorted_weights[-20:]],rotation=45)"
   ]
  },
  {
   "cell_type": "markdown",
   "metadata": {
    "slideshow": {
     "slide_type": "subslide"
    }
   },
   "source": [
    "Discriminative training helps! \n",
    "\n",
    "(Compare 0.80 with unigram model before)"
   ]
  },
  {
   "cell_type": "code",
   "execution_count": 40,
   "metadata": {
    "collapsed": false
   },
   "outputs": [
    {
     "data": {
      "text/plain": [
       "0.835"
      ]
     },
     "execution_count": 40,
     "metadata": {},
     "output_type": "execute_result"
    }
   ],
   "source": [
    "lr_guess = label_encoder.inverse_transform(lr.predict(dev_X))\n",
    "accuracy(dev_filtered, lr_guess)"
   ]
  },
  {
   "cell_type": "markdown",
   "metadata": {},
   "source": [
    "## Summary\n",
    "\n",
    "* NB Bayes effective text classifier\n",
    "* Makes independence assumptions that can be violated\n",
    "* Compensate with more complex models or\n",
    "* Training **discriminatively**\n",
    "* Increase relative/conditional probability of classes, not joint probability"
   ]
  },
  {
   "cell_type": "markdown",
   "metadata": {},
   "source": [
    "## Background Material\n",
    "* [Tackling the Poor Assumptions of Naive Bayes Text Classifiers](https://people.csail.mit.edu/jrennie/papers/icml03-nb.pdf), Rennie et al, ICML 2003 \n",
    "* [Simple Sentiment Classification](http://nlp.stanford.edu/pubs/sidaw12_simple_sentiment.pdf), Sida Wang and Christopher D. Manning, ACL 2012 "
   ]
  }
 ],
 "metadata": {
  "celltoolbar": "Slideshow",
  "kernelspec": {
   "display_name": "Python 3",
   "language": "python",
   "name": "python3"
  },
  "language_info": {
   "codemirror_mode": {
    "name": "ipython",
    "version": 3
   },
   "file_extension": ".py",
   "mimetype": "text/x-python",
   "name": "python",
   "nbconvert_exporter": "python",
   "pygments_lexer": "ipython3",
   "version": "3.5.1"
  }
 },
 "nbformat": 4,
 "nbformat_minor": 0
}
