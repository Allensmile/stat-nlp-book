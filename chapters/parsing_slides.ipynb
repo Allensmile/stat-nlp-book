{
 "cells": [
  {
   "cell_type": "code",
   "execution_count": 1,
   "metadata": {
    "collapsed": false,
    "slideshow": {
     "slide_type": "skip"
    }
   },
   "outputs": [],
   "source": [
    "%%capture\n",
    "%load_ext autoreload\n",
    "%autoreload 2\n",
    "import sys\n",
    "sys.path.append(\"..\")\n",
    "import statnlpbook.util as util\n",
    "import statnlpbook.parsing as parsing\n",
    "util.execute_notebook('parsing.ipynb')"
   ]
  },
  {
   "cell_type": "markdown",
   "metadata": {
    "slideshow": {
     "slide_type": "skip"
    }
   },
   "source": [
    "<!---\n",
    "Latex Macros\n",
    "-->\n",
    "$$\n",
    "\\newcommand{\\Xs}{\\mathcal{X}}\n",
    "\\newcommand{\\Ys}{\\mathcal{Y}}\n",
    "\\newcommand{\\y}{\\mathbf{y}}\n",
    "\\newcommand{\\balpha}{\\boldsymbol{\\alpha}}\n",
    "\\newcommand{\\bbeta}{\\boldsymbol{\\beta}}\n",
    "\\newcommand{\\aligns}{\\mathbf{a}}\n",
    "\\newcommand{\\align}{a}\n",
    "\\newcommand{\\source}{\\mathbf{s}}\n",
    "\\newcommand{\\target}{\\mathbf{t}}\n",
    "\\newcommand{\\ssource}{s}\n",
    "\\newcommand{\\starget}{t}\n",
    "\\newcommand{\\repr}{\\mathbf{f}}\n",
    "\\newcommand{\\repry}{\\mathbf{g}}\n",
    "\\newcommand{\\x}{\\mathbf{x}}\n",
    "\\newcommand{\\prob}{p}\n",
    "\\newcommand{\\a}{\\alpha}\n",
    "\\newcommand{\\b}{\\beta}\n",
    "\\newcommand{\\vocab}{V}\n",
    "\\newcommand{\\params}{\\boldsymbol{\\theta}}\n",
    "\\newcommand{\\param}{\\theta}\n",
    "\\DeclareMathOperator{\\perplexity}{PP}\n",
    "\\DeclareMathOperator{\\argmax}{argmax}\n",
    "\\DeclareMathOperator{\\argmin}{argmin}\n",
    "\\newcommand{\\train}{\\mathcal{D}}\n",
    "\\newcommand{\\counts}[2]{\\#_{#1}(#2) }\n",
    "\\newcommand{\\length}[1]{\\text{length}(#1) }\n",
    "\\newcommand{\\indi}{\\mathbb{I}}\n",
    "$$"
   ]
  },
  {
   "cell_type": "markdown",
   "metadata": {
    "slideshow": {
     "slide_type": "slide"
    }
   },
   "source": [
    "# Parsing"
   ]
  },
  {
   "cell_type": "markdown",
   "metadata": {
    "slideshow": {
     "slide_type": "slide"
    }
   },
   "source": [
    "##  Motivation \n",
    "\n",
    "Say want to automatically build a database of this form\n",
    "\n",
    "| Brand   | Parent    |\n",
    "|---------|-----------|\n",
    "| KitKat  | Nestle    |\n",
    "| Lipton  | Unilever  |  \n",
    "| ...     | ...       |  \n",
    "\n",
    "or this [graph](http://geekologie.com/image.php?path=/2012/04/25/parent-companies-large.jpg)"
   ]
  },
  {
   "cell_type": "markdown",
   "metadata": {
    "slideshow": {
     "slide_type": "subslide"
    }
   },
   "source": [
    "Say you find positive textual mentions in this form:\n",
    "\n",
    "> <font color=\"blue\">Dechra Pharmaceuticals</font> has made its second acquisition after purchasing <font color=\"green\">Genitrix</font>."
   ]
  },
  {
   "cell_type": "markdown",
   "metadata": {
    "collapsed": false,
    "slideshow": {
     "slide_type": "fragment"
    }
   },
   "source": [
    "\n",
    "> <font color=\"blue\">Trinity Mirror plc</font> is the largest British newspaper after purchasing rival <font color=\"green\">Local World</font>."
   ]
  },
  {
   "cell_type": "markdown",
   "metadata": {
    "slideshow": {
     "slide_type": "fragment"
    }
   },
   "source": [
    "Can you find a pattern? "
   ]
  },
  {
   "cell_type": "markdown",
   "metadata": {
    "collapsed": false,
    "slideshow": {
     "slide_type": "subslide"
    }
   },
   "source": [
    "How about this sentence \n",
    "\n",
    "> <font color=\"blue\">Kraft</font> is gearing up for a roll-out of its <font color=\"blue\">Milka</font> brand after purchasing  <font color=\"green\">Cadbury Dairy Milk</font>.\n"
   ]
  },
  {
   "cell_type": "markdown",
   "metadata": {
    "collapsed": false,
    "slideshow": {
     "slide_type": "fragment"
    }
   },
   "source": [
    "Wouldn't it be great if we knew that\n",
    "\n",
    "* Kraft is the **subject** of the phrase **purchasing Cadbury Dairy Milk** "
   ]
  },
  {
   "cell_type": "markdown",
   "metadata": {
    "collapsed": false,
    "slideshow": {
     "slide_type": "subslide"
    }
   },
   "source": [
    "Check out [enju parser](http://www.nactem.ac.uk/enju/demo.html#2)"
   ]
  },
  {
   "cell_type": "markdown",
   "metadata": {
    "collapsed": false,
    "slideshow": {
     "slide_type": "subslide"
    }
   },
   "source": [
    "Parsing is is the process of **finding these trees**:\n",
    "\n",
    "* very important for downstream applications\n",
    "* the \"celebrity\" sub-field of NLP \n",
    "    * partly because it  marries linguistics and NLP\n",
    "* researched bigly in academia and [industry](http://www.telegraph.co.uk/technology/2016/05/17/has-googles-parsey-mcparseface-just-solved-one-of-the-worlds-big/)"
   ]
  },
  {
   "cell_type": "markdown",
   "metadata": {
    "collapsed": false,
    "slideshow": {
     "slide_type": "subslide"
    }
   },
   "source": [
    "How is this done?"
   ]
  },
  {
   "cell_type": "markdown",
   "metadata": {
    "collapsed": false,
    "slideshow": {
     "slide_type": "slide"
    }
   },
   "source": [
    "## Syntax\n",
    "from the Greek syntaxis (arrangement):\n",
    "\n",
    "* **Constituency**: groups of words act as single units.\n",
    "* **Grammatical Relations**: object, subject, direct object etc. \n",
    "* **Subcategorization**: restrictions on the type of phrases that go with certain words.\n"
   ]
  },
  {
   "cell_type": "markdown",
   "metadata": {
    "collapsed": false,
    "slideshow": {
     "slide_type": "subslide"
    }
   },
   "source": [
    "### Constituency\n",
    "\n",
    "* **Noun Phrase** (NP)\n",
    "    * a roll-out of its Milka brand\n",
    "    * Cadbury Dairy Milk\n",
    "    * a roll-out\n",
    "* **Verb Phrase** (VP) \n",
    "    * is gearing up\n",
    "    * purchasing Cadbury Dairy Milk \n",
    "* **Prepositional Phrase** (PP)\n",
    "    * of its Milka brand\n",
    "    * after purchasing Cadbury Dairy Milk"
   ]
  },
  {
   "cell_type": "markdown",
   "metadata": {
    "collapsed": false,
    "slideshow": {
     "slide_type": "subslide"
    }
   },
   "source": [
    "### Grammatical Relations\n",
    "> <font color=\"blue\">Kraft</font> is gearing up for a roll-out of its <font color=\"blue\">Milka</font> brand after purchasing  <font color=\"green\">Cadbury Dairy Milk</font>.\n",
    "\n",
    "* *Subject* of purchasing: **Kraft**\n",
    "* *Object* of purchasing: **Cadbury Dairy Milk**"
   ]
  },
  {
   "cell_type": "markdown",
   "metadata": {
    "collapsed": false,
    "slideshow": {
     "slide_type": "subslide"
    }
   },
   "source": [
    "### Subcategorization\n",
    "\n",
    "There are more complex (sub) categories of verbs (and other types of words)\n",
    "\n",
    "* Intransitive Verbs: must not have objects\n",
    "    * the student works\n",
    "* Transitive Verbs: must have exactly one object\n",
    "    * Kraft purchased Cadbury Dairy Milk\n",
    "* Ditransitive Verbs: must have two objects\n",
    "    * Give me a break! \n"
   ]
  },
  {
   "cell_type": "markdown",
   "metadata": {
    "slideshow": {
     "slide_type": "slide"
    }
   },
   "source": [
    "## Context Free Grammars \n",
    "\n",
    "Formalise syntax by describing the hierarchical structure of sentences\n"
   ]
  },
  {
   "cell_type": "markdown",
   "metadata": {
    "collapsed": false,
    "slideshow": {
     "slide_type": "subslide"
    }
   },
   "source": [
    "A **Context Free Grammar** (CFG) is a 4-tuple \\\\(G=(N,\\Sigma,R,S)\\\\) where\n",
    "\n",
    "  * \\\\(N\\\\) is a set of _non-terminal symbols_.\n",
    "  * \\\\(\\Sigma\\\\) is a set of _terminal symbols_.\n",
    "  * \\\\(R\\\\) is a finite set of _rules_ \\\\(X \\rightarrow Y_1 Y_2\\ldots Y_n\\\\) where \\\\(X \\in N\\\\) and \\\\(Y_i \\in N \\cup \\Sigma\\\\). \n",
    "  * \\\\(S \\in N\\\\) is a _start symbol_. \n"
   ]
  },
  {
   "cell_type": "markdown",
   "metadata": {
    "collapsed": false,
    "slideshow": {
     "slide_type": "subslide"
    }
   },
   "source": [
    "Simple example grammar:\n",
    "* NP_p : plural Noun Phrase\n",
    "* NP_s : singular Noun Phrase\n",
    "* VP_s/p: same for verb phrases"
   ]
  },
  {
   "cell_type": "code",
   "execution_count": 2,
   "metadata": {
    "collapsed": false,
    "hideCode": true,
    "hidePrompt": true,
    "slideshow": {
     "slide_type": "-"
    }
   },
   "outputs": [
    {
     "data": {
      "text/html": [
       "<table style=\"display: inline-block;\"><tr><td>S</td><td>NP_p VP_p</td></tr><tr><td>S</td><td>NP_s VP_s</td></tr><tr><td>NP_p</td><td>Matko raps</td></tr></table> <table style=\"display: inline-block;\"><tr><td>VP_p</td><td>are ADJ</td></tr><tr><td>NP_s</td><td>Matko</td></tr><tr><td>VP_s</td><td>raps in StatNLP</td></tr></table> <table style=\"display: inline-block;\"><tr><td>ADJ</td><td>silly</td></tr></table>"
      ],
      "text/plain": [
       "<__main__.CFG at 0x10f793e80>"
      ]
     },
     "execution_count": 2,
     "metadata": {},
     "output_type": "execute_result"
    }
   ],
   "source": [
    "cfg = CFG.from_rules([('S',    ['NP_p','VP_p']),('S',['NP_s','VP_s']), \n",
    "                      ('NP_p', ['Matko', 'raps']),\n",
    "                      ('VP_p', ['are', 'ADJ']),\n",
    "                      ('NP_s', ['Matko']),\n",
    "                      ('VP_s', ['raps', 'in', 'StatNLP']),\n",
    "                      ('ADJ',  ['silly'])\n",
    "                     ])\n",
    "cfg"
   ]
  },
  {
   "cell_type": "markdown",
   "metadata": {
    "slideshow": {
     "slide_type": "subslide"
    }
   },
   "source": [
    "## (Left-most) Derivation\n",
    "The structure of a sentence with respect to a grammar can be described by its **derivation** (if it exists) "
   ]
  },
  {
   "cell_type": "markdown",
   "metadata": {
    "collapsed": false,
    "slideshow": {
     "slide_type": "fragment"
    }
   },
   "source": [
    "Sequence of sequences \\\\(s_1 \\ldots s_n\\\\) such that \n",
    "\n",
    "* \\\\(s_1 = S\\\\)\n",
    "    * first sequence is the start symbol\n",
    "* \\\\(s_n \\in \\Sigma^*\\\\)\n",
    "    * last sequence consists of only terminals.\n",
    "* \\\\(s_i\\\\) for \\\\(i > 1\\\\)\n",
    "    * replace left-most non-terminal \\\\(\\alpha\\\\) in $s_{i-1}$ with right-hand of $\\alpha\\rightarrow \\beta_1,\\ldots,\\beta_n$"
   ]
  },
  {
   "cell_type": "code",
   "execution_count": 3,
   "metadata": {
    "collapsed": false,
    "slideshow": {
     "slide_type": "subslide"
    }
   },
   "outputs": [
    {
     "data": {
      "text/plain": [
       "(['S'],\n",
       " ['NP_p', 'VP_p'],\n",
       " ['Matko', 'raps', 'VP_p'],\n",
       " ['Matko', 'raps', 'are', 'ADJ'],\n",
       " ['Matko', 'raps', 'are', 'silly'])"
      ]
     },
     "execution_count": 3,
     "metadata": {},
     "output_type": "execute_result"
    }
   ],
   "source": [
    "generate_deriv(cfg, [cfg.s])"
   ]
  },
  {
   "cell_type": "markdown",
   "metadata": {
    "collapsed": false,
    "slideshow": {
     "slide_type": "slide"
    }
   },
   "source": [
    "## Parse Trees\n",
    "Represent derivations as trees"
   ]
  },
  {
   "cell_type": "code",
   "execution_count": 4,
   "metadata": {
    "collapsed": false,
    "slideshow": {
     "slide_type": "fragment"
    }
   },
   "outputs": [
    {
     "data": {
      "image/svg+xml": [
       "<?xml version=\"1.0\" encoding=\"UTF-8\" standalone=\"no\"?>\n",
       "<!DOCTYPE svg PUBLIC \"-//W3C//DTD SVG 1.1//EN\"\n",
       " \"http://www.w3.org/Graphics/SVG/1.1/DTD/svg11.dtd\">\n",
       "<!-- Generated by graphviz version 2.38.0 (20140413.2041)\n",
       " -->\n",
       "<!-- Title: %3 Pages: 1 -->\n",
       "<svg width=\"293pt\" height=\"188pt\"\n",
       " viewBox=\"0.00 0.00 293.20 188.00\" xmlns=\"http://www.w3.org/2000/svg\" xmlns:xlink=\"http://www.w3.org/1999/xlink\">\n",
       "<g id=\"graph0\" class=\"graph\" transform=\"scale(1 1) rotate(0) translate(4 184)\">\n",
       "<title>%3</title>\n",
       "<polygon fill=\"white\" stroke=\"none\" points=\"-4,4 -4,-184 289.196,-184 289.196,4 -4,4\"/>\n",
       "<!-- 0 -->\n",
       "<g id=\"node1\" class=\"node\"><title>0</title>\n",
       "<ellipse fill=\"none\" stroke=\"black\" cx=\"33.1957\" cy=\"-18\" rx=\"33.3925\" ry=\"18\"/>\n",
       "<text text-anchor=\"middle\" x=\"33.1957\" y=\"-13.8\" font-family=\"Times,serif\" font-size=\"14.00\">Matko</text>\n",
       "</g>\n",
       "<!-- 1 -->\n",
       "<g id=\"node2\" class=\"node\"><title>1</title>\n",
       "<ellipse fill=\"none\" stroke=\"black\" cx=\"111.196\" cy=\"-18\" rx=\"27\" ry=\"18\"/>\n",
       "<text text-anchor=\"middle\" x=\"111.196\" y=\"-13.8\" font-family=\"Times,serif\" font-size=\"14.00\">raps</text>\n",
       "</g>\n",
       "<!-- 2 -->\n",
       "<g id=\"node3\" class=\"node\"><title>2</title>\n",
       "<ellipse fill=\"none\" stroke=\"black\" cx=\"109.196\" cy=\"-90\" rx=\"30.0121\" ry=\"18\"/>\n",
       "<text text-anchor=\"middle\" x=\"109.196\" y=\"-85.8\" font-family=\"Times,serif\" font-size=\"14.00\">NP_p</text>\n",
       "</g>\n",
       "<!-- 2&#45;&gt;0 -->\n",
       "<g id=\"edge1\" class=\"edge\"><title>2&#45;&gt;0</title>\n",
       "<path fill=\"none\" stroke=\"black\" d=\"M93.4484,-74.496C82.8914,-64.7723 68.7963,-51.79 56.8933,-40.8268\"/>\n",
       "<polygon fill=\"black\" stroke=\"black\" points=\"59.1738,-38.1688 49.4471,-33.9684 54.4314,-43.3176 59.1738,-38.1688\"/>\n",
       "</g>\n",
       "<!-- 2&#45;&gt;1 -->\n",
       "<g id=\"edge2\" class=\"edge\"><title>2&#45;&gt;1</title>\n",
       "<path fill=\"none\" stroke=\"black\" d=\"M109.69,-71.6966C109.91,-63.9827 110.175,-54.7125 110.421,-46.1124\"/>\n",
       "<polygon fill=\"black\" stroke=\"black\" points=\"113.92,-46.2002 110.707,-36.1043 106.923,-46.0003 113.92,-46.2002\"/>\n",
       "</g>\n",
       "<!-- 3 -->\n",
       "<g id=\"node4\" class=\"node\"><title>3</title>\n",
       "<ellipse fill=\"none\" stroke=\"black\" cx=\"186.196\" cy=\"-18\" rx=\"27\" ry=\"18\"/>\n",
       "<text text-anchor=\"middle\" x=\"186.196\" y=\"-13.8\" font-family=\"Times,serif\" font-size=\"14.00\">are</text>\n",
       "</g>\n",
       "<!-- 4 -->\n",
       "<g id=\"node5\" class=\"node\"><title>4</title>\n",
       "<ellipse fill=\"none\" stroke=\"black\" cx=\"258.196\" cy=\"-18\" rx=\"27\" ry=\"18\"/>\n",
       "<text text-anchor=\"middle\" x=\"258.196\" y=\"-13.8\" font-family=\"Times,serif\" font-size=\"14.00\">silly</text>\n",
       "</g>\n",
       "<!-- 5 -->\n",
       "<g id=\"node6\" class=\"node\"><title>5</title>\n",
       "<ellipse fill=\"none\" stroke=\"black\" cx=\"188.196\" cy=\"-90\" rx=\"30.0121\" ry=\"18\"/>\n",
       "<text text-anchor=\"middle\" x=\"188.196\" y=\"-85.8\" font-family=\"Times,serif\" font-size=\"14.00\">VP_p</text>\n",
       "</g>\n",
       "<!-- 5&#45;&gt;3 -->\n",
       "<g id=\"edge3\" class=\"edge\"><title>5&#45;&gt;3</title>\n",
       "<path fill=\"none\" stroke=\"black\" d=\"M187.701,-71.6966C187.481,-63.9827 187.216,-54.7125 186.97,-46.1124\"/>\n",
       "<polygon fill=\"black\" stroke=\"black\" points=\"190.469,-46.0003 186.684,-36.1043 183.472,-46.2002 190.469,-46.0003\"/>\n",
       "</g>\n",
       "<!-- 5&#45;&gt;4 -->\n",
       "<g id=\"edge4\" class=\"edge\"><title>5&#45;&gt;4</title>\n",
       "<path fill=\"none\" stroke=\"black\" d=\"M203.041,-74.1548C212.823,-64.3725 225.792,-51.4037 236.696,-40.4996\"/>\n",
       "<polygon fill=\"black\" stroke=\"black\" points=\"239.254,-42.891 243.851,-33.345 234.305,-37.9413 239.254,-42.891\"/>\n",
       "</g>\n",
       "<!-- 6 -->\n",
       "<g id=\"node7\" class=\"node\"><title>6</title>\n",
       "<ellipse fill=\"none\" stroke=\"black\" cx=\"148.196\" cy=\"-162\" rx=\"27\" ry=\"18\"/>\n",
       "<text text-anchor=\"middle\" x=\"148.196\" y=\"-157.8\" font-family=\"Times,serif\" font-size=\"14.00\">S</text>\n",
       "</g>\n",
       "<!-- 6&#45;&gt;2 -->\n",
       "<g id=\"edge5\" class=\"edge\"><title>6&#45;&gt;2</title>\n",
       "<path fill=\"none\" stroke=\"black\" d=\"M139.15,-144.765C134.492,-136.404 128.705,-126.016 123.462,-116.606\"/>\n",
       "<polygon fill=\"black\" stroke=\"black\" points=\"126.387,-114.666 118.463,-107.633 120.272,-118.073 126.387,-114.666\"/>\n",
       "</g>\n",
       "<!-- 6&#45;&gt;5 -->\n",
       "<g id=\"edge6\" class=\"edge\"><title>6&#45;&gt;5</title>\n",
       "<path fill=\"none\" stroke=\"black\" d=\"M157.473,-144.765C162.37,-136.195 168.485,-125.494 173.967,-115.9\"/>\n",
       "<polygon fill=\"black\" stroke=\"black\" points=\"177.046,-117.566 178.969,-107.147 170.968,-114.093 177.046,-117.566\"/>\n",
       "</g>\n",
       "</g>\n",
       "</svg>\n"
      ],
      "text/plain": [
       "<graphviz.dot.Digraph at 0x10df8b748>"
      ]
     },
     "execution_count": 4,
     "metadata": {},
     "output_type": "execute_result"
    }
   ],
   "source": [
    "tree = ('S', [('NP_p',['Matko','raps']), ('VP_p',['are','silly'])])\n",
    "parsing.render_tree(tree)"
   ]
  },
  {
   "cell_type": "code",
   "execution_count": 5,
   "metadata": {
    "collapsed": false,
    "slideshow": {
     "slide_type": "subslide"
    }
   },
   "outputs": [
    {
     "data": {
      "image/svg+xml": [
       "<?xml version=\"1.0\" encoding=\"UTF-8\" standalone=\"no\"?>\n",
       "<!DOCTYPE svg PUBLIC \"-//W3C//DTD SVG 1.1//EN\"\n",
       " \"http://www.w3.org/Graphics/SVG/1.1/DTD/svg11.dtd\">\n",
       "<!-- Generated by graphviz version 2.38.0 (20140413.2041)\n",
       " -->\n",
       "<!-- Title: %3 Pages: 1 -->\n",
       "<svg width=\"318pt\" height=\"188pt\"\n",
       " viewBox=\"0.00 0.00 317.77 188.00\" xmlns=\"http://www.w3.org/2000/svg\" xmlns:xlink=\"http://www.w3.org/1999/xlink\">\n",
       "<g id=\"graph0\" class=\"graph\" transform=\"scale(1 1) rotate(0) translate(4 184)\">\n",
       "<title>%3</title>\n",
       "<polygon fill=\"white\" stroke=\"none\" points=\"-4,4 -4,-184 313.767,-184 313.767,4 -4,4\"/>\n",
       "<!-- 0 -->\n",
       "<g id=\"node1\" class=\"node\"><title>0</title>\n",
       "<ellipse fill=\"none\" stroke=\"black\" cx=\"33.1957\" cy=\"-18\" rx=\"33.3925\" ry=\"18\"/>\n",
       "<text text-anchor=\"middle\" x=\"33.1957\" y=\"-13.8\" font-family=\"Times,serif\" font-size=\"14.00\">Matko</text>\n",
       "</g>\n",
       "<!-- 1 -->\n",
       "<g id=\"node2\" class=\"node\"><title>1</title>\n",
       "<ellipse fill=\"none\" stroke=\"black\" cx=\"33.1957\" cy=\"-90\" rx=\"29.0514\" ry=\"18\"/>\n",
       "<text text-anchor=\"middle\" x=\"33.1957\" y=\"-85.8\" font-family=\"Times,serif\" font-size=\"14.00\">NP_s</text>\n",
       "</g>\n",
       "<!-- 1&#45;&gt;0 -->\n",
       "<g id=\"edge1\" class=\"edge\"><title>1&#45;&gt;0</title>\n",
       "<path fill=\"none\" stroke=\"black\" d=\"M33.1957,-71.6966C33.1957,-63.9827 33.1957,-54.7125 33.1957,-46.1124\"/>\n",
       "<polygon fill=\"black\" stroke=\"black\" points=\"36.6958,-46.1043 33.1957,-36.1043 29.6958,-46.1044 36.6958,-46.1043\"/>\n",
       "</g>\n",
       "<!-- 2 -->\n",
       "<g id=\"node3\" class=\"node\"><title>2</title>\n",
       "<ellipse fill=\"none\" stroke=\"black\" cx=\"111.196\" cy=\"-18\" rx=\"27\" ry=\"18\"/>\n",
       "<text text-anchor=\"middle\" x=\"111.196\" y=\"-13.8\" font-family=\"Times,serif\" font-size=\"14.00\">raps</text>\n",
       "</g>\n",
       "<!-- 3 -->\n",
       "<g id=\"node4\" class=\"node\"><title>3</title>\n",
       "<ellipse fill=\"none\" stroke=\"black\" cx=\"183.196\" cy=\"-18\" rx=\"27\" ry=\"18\"/>\n",
       "<text text-anchor=\"middle\" x=\"183.196\" y=\"-13.8\" font-family=\"Times,serif\" font-size=\"14.00\">in</text>\n",
       "</g>\n",
       "<!-- 4 -->\n",
       "<g id=\"node5\" class=\"node\"><title>4</title>\n",
       "<ellipse fill=\"none\" stroke=\"black\" cx=\"269.196\" cy=\"-18\" rx=\"40.6421\" ry=\"18\"/>\n",
       "<text text-anchor=\"middle\" x=\"269.196\" y=\"-13.8\" font-family=\"Times,serif\" font-size=\"14.00\">StatNLP</text>\n",
       "</g>\n",
       "<!-- 5 -->\n",
       "<g id=\"node6\" class=\"node\"><title>5</title>\n",
       "<ellipse fill=\"none\" stroke=\"black\" cx=\"147.196\" cy=\"-90\" rx=\"29.0514\" ry=\"18\"/>\n",
       "<text text-anchor=\"middle\" x=\"147.196\" y=\"-85.8\" font-family=\"Times,serif\" font-size=\"14.00\">VP_s</text>\n",
       "</g>\n",
       "<!-- 5&#45;&gt;2 -->\n",
       "<g id=\"edge2\" class=\"edge\"><title>5&#45;&gt;2</title>\n",
       "<path fill=\"none\" stroke=\"black\" d=\"M138.664,-72.411C134.36,-64.0421 129.046,-53.7098 124.243,-44.3698\"/>\n",
       "<polygon fill=\"black\" stroke=\"black\" points=\"127.352,-42.7621 119.666,-35.4699 121.127,-45.9636 127.352,-42.7621\"/>\n",
       "</g>\n",
       "<!-- 5&#45;&gt;3 -->\n",
       "<g id=\"edge3\" class=\"edge\"><title>5&#45;&gt;3</title>\n",
       "<path fill=\"none\" stroke=\"black\" d=\"M155.727,-72.411C160.031,-64.0421 165.345,-53.7098 170.148,-44.3698\"/>\n",
       "<polygon fill=\"black\" stroke=\"black\" points=\"173.264,-45.9636 174.725,-35.4699 167.039,-42.7621 173.264,-45.9636\"/>\n",
       "</g>\n",
       "<!-- 5&#45;&gt;4 -->\n",
       "<g id=\"edge4\" class=\"edge\"><title>5&#45;&gt;4</title>\n",
       "<path fill=\"none\" stroke=\"black\" d=\"M167.891,-77.1255C186.689,-66.3402 214.728,-50.252 236.545,-37.7339\"/>\n",
       "<polygon fill=\"black\" stroke=\"black\" points=\"238.538,-40.626 245.469,-32.6135 235.054,-34.5544 238.538,-40.626\"/>\n",
       "</g>\n",
       "<!-- 6 -->\n",
       "<g id=\"node7\" class=\"node\"><title>6</title>\n",
       "<ellipse fill=\"none\" stroke=\"black\" cx=\"72.1957\" cy=\"-162\" rx=\"27\" ry=\"18\"/>\n",
       "<text text-anchor=\"middle\" x=\"72.1957\" y=\"-157.8\" font-family=\"Times,serif\" font-size=\"14.00\">S</text>\n",
       "</g>\n",
       "<!-- 6&#45;&gt;1 -->\n",
       "<g id=\"edge5\" class=\"edge\"><title>6&#45;&gt;1</title>\n",
       "<path fill=\"none\" stroke=\"black\" d=\"M63.1503,-144.765C58.3757,-136.195 52.4138,-125.494 47.0688,-115.9\"/>\n",
       "<polygon fill=\"black\" stroke=\"black\" points=\"50.1166,-114.18 42.192,-107.147 44.0016,-117.586 50.1166,-114.18\"/>\n",
       "</g>\n",
       "<!-- 6&#45;&gt;5 -->\n",
       "<g id=\"edge6\" class=\"edge\"><title>6&#45;&gt;5</title>\n",
       "<path fill=\"none\" stroke=\"black\" d=\"M87.3731,-146.834C97.9769,-136.938 112.325,-123.546 124.311,-112.359\"/>\n",
       "<polygon fill=\"black\" stroke=\"black\" points=\"126.861,-114.767 131.783,-105.385 122.085,-109.649 126.861,-114.767\"/>\n",
       "</g>\n",
       "</g>\n",
       "</svg>\n"
      ],
      "text/plain": [
       "<graphviz.dot.Digraph at 0x10df8be10>"
      ]
     },
     "execution_count": 5,
     "metadata": {},
     "output_type": "execute_result"
    }
   ],
   "source": [
    "parsing.render_tree(generate_tree(cfg,'S'))        "
   ]
  },
  {
   "cell_type": "markdown",
   "metadata": {
    "collapsed": false,
    "slideshow": {
     "slide_type": "slide"
    }
   },
   "source": [
    "## Parsing\n",
    "The inverse problem: given a sentence \n",
    "\n",
    "> Matko raps in StatNLP\n",
    "\n",
    "What's the derivation for it?  "
   ]
  },
  {
   "cell_type": "markdown",
   "metadata": {
    "collapsed": false,
    "slideshow": {
     "slide_type": "subslide"
    }
   },
   "source": [
    "There are a couple of approaches to find a legal parse tree given a sentence and grammar:\n",
    "\n",
    "* **Top-Down**: Start with the start symbol and generate trees\n",
    "    * backtrack if they do not match observed sentence\n",
    "* **Bottom-Up**: Start with the sentence, find rules that generate parts of it\n",
    "    * backtrack if you can't reach the start symbol\n",
    "* **Dynamic Programming**: Explore several trees in parallel and re-use computations"
   ]
  },
  {
   "cell_type": "markdown",
   "metadata": {
    "slideshow": {
     "slide_type": "subslide"
    }
   },
   "source": [
    "### Bottom-Up Parsing with Backtracking\n",
    "\n",
    "Incrementally build up a tree **left-to-right**, and maintain ..."
   ]
  },
  {
   "cell_type": "markdown",
   "metadata": {
    "slideshow": {
     "slide_type": "subslide"
    }
   },
   "source": [
    "a **buffer** of remaining words"
   ]
  },
  {
   "cell_type": "code",
   "execution_count": 6,
   "metadata": {
    "collapsed": false,
    "slideshow": {
     "slide_type": "-"
    }
   },
   "outputs": [
    {
     "data": {
      "text/html": [
       "<table><tr><td>Matko raps are silly</td><td><?xml version=\"1.0\" encoding=\"UTF-8\" standalone=\"no\"?>\n",
       "<!DOCTYPE svg PUBLIC \"-//W3C//DTD SVG 1.1//EN\"\n",
       " \"http://www.w3.org/Graphics/SVG/1.1/DTD/svg11.dtd\">\n",
       "<!-- Generated by graphviz version 2.38.0 (20140413.2041)\n",
       " -->\n",
       "<!-- Title: %3 Pages: 1 -->\n",
       "<svg width=\"8pt\" height=\"8pt\"\n",
       " viewBox=\"0.00 0.00 8.00 8.00\" xmlns=\"http://www.w3.org/2000/svg\" xmlns:xlink=\"http://www.w3.org/1999/xlink\">\n",
       "<g id=\"graph0\" class=\"graph\" transform=\"scale(1 1) rotate(0) translate(4 4)\">\n",
       "<title>%3</title>\n",
       "<polygon fill=\"white\" stroke=\"none\" points=\"-4,4 -4,-4 4,-4 4,4 -4,4\"/>\n",
       "</g>\n",
       "</svg>\n",
       "</td><td>Init</td></tr></table>"
      ],
      "text/plain": [
       "<statnlpbook.parsing.render_transitions.<locals>.Output at 0x10df8b940>"
      ]
     },
     "execution_count": 6,
     "metadata": {},
     "output_type": "execute_result"
    }
   ],
   "source": [
    "parsing.render_transitions(transitions[0:1])"
   ]
  },
  {
   "cell_type": "markdown",
   "metadata": {
    "slideshow": {
     "slide_type": "subslide"
    }
   },
   "source": [
    "a **stack** of trees build so far"
   ]
  },
  {
   "cell_type": "code",
   "execution_count": 7,
   "metadata": {
    "collapsed": false,
    "slideshow": {
     "slide_type": "-"
    }
   },
   "outputs": [
    {
     "data": {
      "text/html": [
       "<table><tr><td></td><td><?xml version=\"1.0\" encoding=\"UTF-8\" standalone=\"no\"?>\n",
       "<!DOCTYPE svg PUBLIC \"-//W3C//DTD SVG 1.1//EN\"\n",
       " \"http://www.w3.org/Graphics/SVG/1.1/DTD/svg11.dtd\">\n",
       "<!-- Generated by graphviz version 2.38.0 (20140413.2041)\n",
       " -->\n",
       "<!-- Title: %3 Pages: 1 -->\n",
       "<svg width=\"293pt\" height=\"260pt\"\n",
       " viewBox=\"0.00 0.00 293.20 260.00\" xmlns=\"http://www.w3.org/2000/svg\" xmlns:xlink=\"http://www.w3.org/1999/xlink\">\n",
       "<g id=\"graph0\" class=\"graph\" transform=\"scale(1 1) rotate(0) translate(4 256)\">\n",
       "<title>%3</title>\n",
       "<polygon fill=\"white\" stroke=\"none\" points=\"-4,4 -4,-256 289.196,-256 289.196,4 -4,4\"/>\n",
       "<!-- 0 -->\n",
       "<g id=\"node1\" class=\"node\"><title>0</title>\n",
       "<ellipse fill=\"none\" stroke=\"black\" cx=\"33.1957\" cy=\"-90\" rx=\"33.3925\" ry=\"18\"/>\n",
       "<text text-anchor=\"middle\" x=\"33.1957\" y=\"-85.8\" font-family=\"Times,serif\" font-size=\"14.00\">Matko</text>\n",
       "</g>\n",
       "<!-- 1 -->\n",
       "<g id=\"node2\" class=\"node\"><title>1</title>\n",
       "<ellipse fill=\"none\" stroke=\"black\" cx=\"111.196\" cy=\"-90\" rx=\"27\" ry=\"18\"/>\n",
       "<text text-anchor=\"middle\" x=\"111.196\" y=\"-85.8\" font-family=\"Times,serif\" font-size=\"14.00\">raps</text>\n",
       "</g>\n",
       "<!-- 2 -->\n",
       "<g id=\"node3\" class=\"node\"><title>2</title>\n",
       "<ellipse fill=\"none\" stroke=\"black\" cx=\"109.196\" cy=\"-162\" rx=\"30.0121\" ry=\"18\"/>\n",
       "<text text-anchor=\"middle\" x=\"109.196\" y=\"-157.8\" font-family=\"Times,serif\" font-size=\"14.00\">NP_p</text>\n",
       "</g>\n",
       "<!-- 2&#45;&gt;0 -->\n",
       "<g id=\"edge1\" class=\"edge\"><title>2&#45;&gt;0</title>\n",
       "<path fill=\"none\" stroke=\"black\" d=\"M93.4484,-146.496C82.8914,-136.772 68.7963,-123.79 56.8933,-112.827\"/>\n",
       "<polygon fill=\"black\" stroke=\"black\" points=\"59.1738,-110.169 49.4471,-105.968 54.4314,-115.318 59.1738,-110.169\"/>\n",
       "</g>\n",
       "<!-- 2&#45;&gt;1 -->\n",
       "<g id=\"edge2\" class=\"edge\"><title>2&#45;&gt;1</title>\n",
       "<path fill=\"none\" stroke=\"black\" d=\"M109.69,-143.697C109.91,-135.983 110.175,-126.712 110.421,-118.112\"/>\n",
       "<polygon fill=\"black\" stroke=\"black\" points=\"113.92,-118.2 110.707,-108.104 106.923,-118 113.92,-118.2\"/>\n",
       "</g>\n",
       "<!-- 3 -->\n",
       "<g id=\"node4\" class=\"node\"><title>3</title>\n",
       "<ellipse fill=\"none\" stroke=\"black\" cx=\"186.196\" cy=\"-90\" rx=\"27\" ry=\"18\"/>\n",
       "<text text-anchor=\"middle\" x=\"186.196\" y=\"-85.8\" font-family=\"Times,serif\" font-size=\"14.00\">are</text>\n",
       "</g>\n",
       "<!-- 4 -->\n",
       "<g id=\"node5\" class=\"node\"><title>4</title>\n",
       "<ellipse fill=\"none\" stroke=\"black\" cx=\"258.196\" cy=\"-18\" rx=\"27\" ry=\"18\"/>\n",
       "<text text-anchor=\"middle\" x=\"258.196\" y=\"-13.8\" font-family=\"Times,serif\" font-size=\"14.00\">silly</text>\n",
       "</g>\n",
       "<!-- 5 -->\n",
       "<g id=\"node6\" class=\"node\"><title>5</title>\n",
       "<ellipse fill=\"none\" stroke=\"black\" cx=\"258.196\" cy=\"-90\" rx=\"27\" ry=\"18\"/>\n",
       "<text text-anchor=\"middle\" x=\"258.196\" y=\"-85.8\" font-family=\"Times,serif\" font-size=\"14.00\">ADJ</text>\n",
       "</g>\n",
       "<!-- 5&#45;&gt;4 -->\n",
       "<g id=\"edge3\" class=\"edge\"><title>5&#45;&gt;4</title>\n",
       "<path fill=\"none\" stroke=\"black\" d=\"M258.196,-71.6966C258.196,-63.9827 258.196,-54.7125 258.196,-46.1124\"/>\n",
       "<polygon fill=\"black\" stroke=\"black\" points=\"261.696,-46.1043 258.196,-36.1043 254.696,-46.1044 261.696,-46.1043\"/>\n",
       "</g>\n",
       "<!-- 6 -->\n",
       "<g id=\"node7\" class=\"node\"><title>6</title>\n",
       "<ellipse fill=\"none\" stroke=\"black\" cx=\"188.196\" cy=\"-162\" rx=\"30.0121\" ry=\"18\"/>\n",
       "<text text-anchor=\"middle\" x=\"188.196\" y=\"-157.8\" font-family=\"Times,serif\" font-size=\"14.00\">VP_p</text>\n",
       "</g>\n",
       "<!-- 6&#45;&gt;3 -->\n",
       "<g id=\"edge4\" class=\"edge\"><title>6&#45;&gt;3</title>\n",
       "<path fill=\"none\" stroke=\"black\" d=\"M187.701,-143.697C187.481,-135.983 187.216,-126.712 186.97,-118.112\"/>\n",
       "<polygon fill=\"black\" stroke=\"black\" points=\"190.469,-118 186.684,-108.104 183.472,-118.2 190.469,-118\"/>\n",
       "</g>\n",
       "<!-- 6&#45;&gt;5 -->\n",
       "<g id=\"edge5\" class=\"edge\"><title>6&#45;&gt;5</title>\n",
       "<path fill=\"none\" stroke=\"black\" d=\"M203.041,-146.155C212.823,-136.372 225.792,-123.404 236.696,-112.5\"/>\n",
       "<polygon fill=\"black\" stroke=\"black\" points=\"239.254,-114.891 243.851,-105.345 234.305,-109.941 239.254,-114.891\"/>\n",
       "</g>\n",
       "<!-- 7 -->\n",
       "<g id=\"node8\" class=\"node\"><title>7</title>\n",
       "<ellipse fill=\"none\" stroke=\"black\" cx=\"148.196\" cy=\"-234\" rx=\"27\" ry=\"18\"/>\n",
       "<text text-anchor=\"middle\" x=\"148.196\" y=\"-229.8\" font-family=\"Times,serif\" font-size=\"14.00\">S</text>\n",
       "</g>\n",
       "<!-- 7&#45;&gt;2 -->\n",
       "<g id=\"edge6\" class=\"edge\"><title>7&#45;&gt;2</title>\n",
       "<path fill=\"none\" stroke=\"black\" d=\"M139.15,-216.765C134.492,-208.404 128.705,-198.016 123.462,-188.606\"/>\n",
       "<polygon fill=\"black\" stroke=\"black\" points=\"126.387,-186.666 118.463,-179.633 120.272,-190.073 126.387,-186.666\"/>\n",
       "</g>\n",
       "<!-- 7&#45;&gt;6 -->\n",
       "<g id=\"edge7\" class=\"edge\"><title>7&#45;&gt;6</title>\n",
       "<path fill=\"none\" stroke=\"black\" d=\"M157.473,-216.765C162.37,-208.195 168.485,-197.494 173.967,-187.9\"/>\n",
       "<polygon fill=\"black\" stroke=\"black\" points=\"177.046,-189.566 178.969,-179.147 170.968,-186.093 177.046,-189.566\"/>\n",
       "</g>\n",
       "</g>\n",
       "</svg>\n",
       "</td><td>Reduce</td></tr></table>"
      ],
      "text/plain": [
       "<statnlpbook.parsing.render_transitions.<locals>.Output at 0x10df8b550>"
      ]
     },
     "execution_count": 7,
     "metadata": {},
     "output_type": "execute_result"
    }
   ],
   "source": [
    "parsing.render_transitions(transitions[-1:])"
   ]
  },
  {
   "cell_type": "markdown",
   "metadata": {
    "collapsed": false,
    "slideshow": {
     "slide_type": "subslide"
    }
   },
   "source": [
    "Perform three types of **actions**:"
   ]
  },
  {
   "cell_type": "markdown",
   "metadata": {
    "collapsed": false,
    "slideshow": {
     "slide_type": "subslide"
    }
   },
   "source": [
    "### Shift\n",
    "Put first word from buffer to stack (as singleton tree)"
   ]
  },
  {
   "cell_type": "code",
   "execution_count": 8,
   "metadata": {
    "collapsed": false,
    "slideshow": {
     "slide_type": "-"
    }
   },
   "outputs": [
    {
     "data": {
      "text/html": [
       "<table><tr><td>Matko raps are silly</td><td><?xml version=\"1.0\" encoding=\"UTF-8\" standalone=\"no\"?>\n",
       "<!DOCTYPE svg PUBLIC \"-//W3C//DTD SVG 1.1//EN\"\n",
       " \"http://www.w3.org/Graphics/SVG/1.1/DTD/svg11.dtd\">\n",
       "<!-- Generated by graphviz version 2.38.0 (20140413.2041)\n",
       " -->\n",
       "<!-- Title: %3 Pages: 1 -->\n",
       "<svg width=\"8pt\" height=\"8pt\"\n",
       " viewBox=\"0.00 0.00 8.00 8.00\" xmlns=\"http://www.w3.org/2000/svg\" xmlns:xlink=\"http://www.w3.org/1999/xlink\">\n",
       "<g id=\"graph0\" class=\"graph\" transform=\"scale(1 1) rotate(0) translate(4 4)\">\n",
       "<title>%3</title>\n",
       "<polygon fill=\"white\" stroke=\"none\" points=\"-4,4 -4,-4 4,-4 4,4 -4,4\"/>\n",
       "</g>\n",
       "</svg>\n",
       "</td><td>Init</td></tr>\n",
       "<tr><td>raps are silly</td><td><?xml version=\"1.0\" encoding=\"UTF-8\" standalone=\"no\"?>\n",
       "<!DOCTYPE svg PUBLIC \"-//W3C//DTD SVG 1.1//EN\"\n",
       " \"http://www.w3.org/Graphics/SVG/1.1/DTD/svg11.dtd\">\n",
       "<!-- Generated by graphviz version 2.38.0 (20140413.2041)\n",
       " -->\n",
       "<!-- Title: %3 Pages: 1 -->\n",
       "<svg width=\"74pt\" height=\"44pt\"\n",
       " viewBox=\"0.00 0.00 74.39 44.00\" xmlns=\"http://www.w3.org/2000/svg\" xmlns:xlink=\"http://www.w3.org/1999/xlink\">\n",
       "<g id=\"graph0\" class=\"graph\" transform=\"scale(1 1) rotate(0) translate(4 40)\">\n",
       "<title>%3</title>\n",
       "<polygon fill=\"white\" stroke=\"none\" points=\"-4,4 -4,-40 70.3914,-40 70.3914,4 -4,4\"/>\n",
       "<!-- 0 -->\n",
       "<g id=\"node1\" class=\"node\"><title>0</title>\n",
       "<ellipse fill=\"none\" stroke=\"black\" cx=\"33.1957\" cy=\"-18\" rx=\"33.3925\" ry=\"18\"/>\n",
       "<text text-anchor=\"middle\" x=\"33.1957\" y=\"-13.8\" font-family=\"Times,serif\" font-size=\"14.00\">Matko</text>\n",
       "</g>\n",
       "</g>\n",
       "</svg>\n",
       "</td><td>Shift</td></tr></table>"
      ],
      "text/plain": [
       "<statnlpbook.parsing.render_transitions.<locals>.Output at 0x10df8bc50>"
      ]
     },
     "execution_count": 8,
     "metadata": {},
     "output_type": "execute_result"
    }
   ],
   "source": [
    "parsing.render_transitions(transitions[0:2])"
   ]
  },
  {
   "cell_type": "markdown",
   "metadata": {
    "collapsed": false,
    "slideshow": {
     "slide_type": "subslide"
    }
   },
   "source": [
    "### Reduce\n",
    "For rule $X \\rightarrow Y \\: Z$ and stack $Y \\: Z$, create new tree headed with $X$"
   ]
  },
  {
   "cell_type": "code",
   "execution_count": 9,
   "metadata": {
    "collapsed": false
   },
   "outputs": [
    {
     "data": {
      "text/html": [
       "<table><tr><td>are silly</td><td><?xml version=\"1.0\" encoding=\"UTF-8\" standalone=\"no\"?>\n",
       "<!DOCTYPE svg PUBLIC \"-//W3C//DTD SVG 1.1//EN\"\n",
       " \"http://www.w3.org/Graphics/SVG/1.1/DTD/svg11.dtd\">\n",
       "<!-- Generated by graphviz version 2.38.0 (20140413.2041)\n",
       " -->\n",
       "<!-- Title: %3 Pages: 1 -->\n",
       "<svg width=\"146pt\" height=\"44pt\"\n",
       " viewBox=\"0.00 0.00 146.20 44.00\" xmlns=\"http://www.w3.org/2000/svg\" xmlns:xlink=\"http://www.w3.org/1999/xlink\">\n",
       "<g id=\"graph0\" class=\"graph\" transform=\"scale(1 1) rotate(0) translate(4 40)\">\n",
       "<title>%3</title>\n",
       "<polygon fill=\"white\" stroke=\"none\" points=\"-4,4 -4,-40 142.196,-40 142.196,4 -4,4\"/>\n",
       "<!-- 0 -->\n",
       "<g id=\"node1\" class=\"node\"><title>0</title>\n",
       "<ellipse fill=\"none\" stroke=\"black\" cx=\"33.1957\" cy=\"-18\" rx=\"33.3925\" ry=\"18\"/>\n",
       "<text text-anchor=\"middle\" x=\"33.1957\" y=\"-13.8\" font-family=\"Times,serif\" font-size=\"14.00\">Matko</text>\n",
       "</g>\n",
       "<!-- 1 -->\n",
       "<g id=\"node2\" class=\"node\"><title>1</title>\n",
       "<ellipse fill=\"none\" stroke=\"black\" cx=\"111.196\" cy=\"-18\" rx=\"27\" ry=\"18\"/>\n",
       "<text text-anchor=\"middle\" x=\"111.196\" y=\"-13.8\" font-family=\"Times,serif\" font-size=\"14.00\">raps</text>\n",
       "</g>\n",
       "</g>\n",
       "</svg>\n",
       "</td><td>Shift</td></tr>\n",
       "<tr><td>are silly</td><td><?xml version=\"1.0\" encoding=\"UTF-8\" standalone=\"no\"?>\n",
       "<!DOCTYPE svg PUBLIC \"-//W3C//DTD SVG 1.1//EN\"\n",
       " \"http://www.w3.org/Graphics/SVG/1.1/DTD/svg11.dtd\">\n",
       "<!-- Generated by graphviz version 2.38.0 (20140413.2041)\n",
       " -->\n",
       "<!-- Title: %3 Pages: 1 -->\n",
       "<svg width=\"146pt\" height=\"116pt\"\n",
       " viewBox=\"0.00 0.00 146.20 116.00\" xmlns=\"http://www.w3.org/2000/svg\" xmlns:xlink=\"http://www.w3.org/1999/xlink\">\n",
       "<g id=\"graph0\" class=\"graph\" transform=\"scale(1 1) rotate(0) translate(4 112)\">\n",
       "<title>%3</title>\n",
       "<polygon fill=\"white\" stroke=\"none\" points=\"-4,4 -4,-112 142.196,-112 142.196,4 -4,4\"/>\n",
       "<!-- 0 -->\n",
       "<g id=\"node1\" class=\"node\"><title>0</title>\n",
       "<ellipse fill=\"none\" stroke=\"black\" cx=\"33.1957\" cy=\"-18\" rx=\"33.3925\" ry=\"18\"/>\n",
       "<text text-anchor=\"middle\" x=\"33.1957\" y=\"-13.8\" font-family=\"Times,serif\" font-size=\"14.00\">Matko</text>\n",
       "</g>\n",
       "<!-- 1 -->\n",
       "<g id=\"node2\" class=\"node\"><title>1</title>\n",
       "<ellipse fill=\"none\" stroke=\"black\" cx=\"111.196\" cy=\"-18\" rx=\"27\" ry=\"18\"/>\n",
       "<text text-anchor=\"middle\" x=\"111.196\" y=\"-13.8\" font-family=\"Times,serif\" font-size=\"14.00\">raps</text>\n",
       "</g>\n",
       "<!-- 2 -->\n",
       "<g id=\"node3\" class=\"node\"><title>2</title>\n",
       "<ellipse fill=\"none\" stroke=\"black\" cx=\"72.1957\" cy=\"-90\" rx=\"30.0121\" ry=\"18\"/>\n",
       "<text text-anchor=\"middle\" x=\"72.1957\" y=\"-85.8\" font-family=\"Times,serif\" font-size=\"14.00\">NP_p</text>\n",
       "</g>\n",
       "<!-- 2&#45;&gt;0 -->\n",
       "<g id=\"edge1\" class=\"edge\"><title>2&#45;&gt;0</title>\n",
       "<path fill=\"none\" stroke=\"black\" d=\"M63.1503,-72.7646C58.4924,-64.4043 52.7046,-54.0159 47.4619,-44.6059\"/>\n",
       "<polygon fill=\"black\" stroke=\"black\" points=\"50.3874,-42.6656 42.4629,-35.6334 44.2725,-46.0726 50.3874,-42.6656\"/>\n",
       "</g>\n",
       "<!-- 2&#45;&gt;1 -->\n",
       "<g id=\"edge2\" class=\"edge\"><title>2&#45;&gt;1</title>\n",
       "<path fill=\"none\" stroke=\"black\" d=\"M81.2411,-72.7646C86.0157,-64.1948 91.9776,-53.494 97.3226,-43.9004\"/>\n",
       "<polygon fill=\"black\" stroke=\"black\" points=\"100.39,-45.5865 102.199,-35.1473 94.2748,-42.1795 100.39,-45.5865\"/>\n",
       "</g>\n",
       "</g>\n",
       "</svg>\n",
       "</td><td>Reduce</td></tr></table>"
      ],
      "text/plain": [
       "<statnlpbook.parsing.render_transitions.<locals>.Output at 0x10f77a358>"
      ]
     },
     "execution_count": 9,
     "metadata": {},
     "output_type": "execute_result"
    }
   ],
   "source": [
    "parsing.render_transitions(transitions[11:13])"
   ]
  },
  {
   "cell_type": "markdown",
   "metadata": {
    "collapsed": false,
    "slideshow": {
     "slide_type": "subslide"
    }
   },
   "source": [
    "### Backtrack\n",
    "If no rule can be found and the buffer is non-empty, go back to last decision point"
   ]
  },
  {
   "cell_type": "code",
   "execution_count": 10,
   "metadata": {
    "collapsed": false
   },
   "outputs": [
    {
     "data": {
      "text/html": [
       "<table><tr><td></td><td><?xml version=\"1.0\" encoding=\"UTF-8\" standalone=\"no\"?>\n",
       "<!DOCTYPE svg PUBLIC \"-//W3C//DTD SVG 1.1//EN\"\n",
       " \"http://www.w3.org/Graphics/SVG/1.1/DTD/svg11.dtd\">\n",
       "<!-- Generated by graphviz version 2.38.0 (20140413.2041)\n",
       " -->\n",
       "<!-- Title: %3 Pages: 1 -->\n",
       "<svg width=\"286pt\" height=\"116pt\"\n",
       " viewBox=\"0.00 0.00 286.20 116.00\" xmlns=\"http://www.w3.org/2000/svg\" xmlns:xlink=\"http://www.w3.org/1999/xlink\">\n",
       "<g id=\"graph0\" class=\"graph\" transform=\"scale(1 1) rotate(0) translate(4 112)\">\n",
       "<title>%3</title>\n",
       "<polygon fill=\"white\" stroke=\"none\" points=\"-4,4 -4,-112 282.196,-112 282.196,4 -4,4\"/>\n",
       "<!-- 0 -->\n",
       "<g id=\"node1\" class=\"node\"><title>0</title>\n",
       "<ellipse fill=\"none\" stroke=\"black\" cx=\"33.1957\" cy=\"-18\" rx=\"33.3925\" ry=\"18\"/>\n",
       "<text text-anchor=\"middle\" x=\"33.1957\" y=\"-13.8\" font-family=\"Times,serif\" font-size=\"14.00\">Matko</text>\n",
       "</g>\n",
       "<!-- 1 -->\n",
       "<g id=\"node2\" class=\"node\"><title>1</title>\n",
       "<ellipse fill=\"none\" stroke=\"black\" cx=\"33.1957\" cy=\"-90\" rx=\"29.0514\" ry=\"18\"/>\n",
       "<text text-anchor=\"middle\" x=\"33.1957\" y=\"-85.8\" font-family=\"Times,serif\" font-size=\"14.00\">NP_s</text>\n",
       "</g>\n",
       "<!-- 1&#45;&gt;0 -->\n",
       "<g id=\"edge1\" class=\"edge\"><title>1&#45;&gt;0</title>\n",
       "<path fill=\"none\" stroke=\"black\" d=\"M33.1957,-71.6966C33.1957,-63.9827 33.1957,-54.7125 33.1957,-46.1124\"/>\n",
       "<polygon fill=\"black\" stroke=\"black\" points=\"36.6958,-46.1043 33.1957,-36.1043 29.6958,-46.1044 36.6958,-46.1043\"/>\n",
       "</g>\n",
       "<!-- 2 -->\n",
       "<g id=\"node3\" class=\"node\"><title>2</title>\n",
       "<ellipse fill=\"none\" stroke=\"black\" cx=\"107.196\" cy=\"-90\" rx=\"27\" ry=\"18\"/>\n",
       "<text text-anchor=\"middle\" x=\"107.196\" y=\"-85.8\" font-family=\"Times,serif\" font-size=\"14.00\">raps</text>\n",
       "</g>\n",
       "<!-- 3 -->\n",
       "<g id=\"node4\" class=\"node\"><title>3</title>\n",
       "<ellipse fill=\"none\" stroke=\"black\" cx=\"179.196\" cy=\"-90\" rx=\"27\" ry=\"18\"/>\n",
       "<text text-anchor=\"middle\" x=\"179.196\" y=\"-85.8\" font-family=\"Times,serif\" font-size=\"14.00\">are</text>\n",
       "</g>\n",
       "<!-- 4 -->\n",
       "<g id=\"node5\" class=\"node\"><title>4</title>\n",
       "<ellipse fill=\"none\" stroke=\"black\" cx=\"251.196\" cy=\"-90\" rx=\"27\" ry=\"18\"/>\n",
       "<text text-anchor=\"middle\" x=\"251.196\" y=\"-85.8\" font-family=\"Times,serif\" font-size=\"14.00\">silly</text>\n",
       "</g>\n",
       "</g>\n",
       "</svg>\n",
       "</td><td>Backtrack</td></tr>\n",
       "<tr><td>raps are silly</td><td><?xml version=\"1.0\" encoding=\"UTF-8\" standalone=\"no\"?>\n",
       "<!DOCTYPE svg PUBLIC \"-//W3C//DTD SVG 1.1//EN\"\n",
       " \"http://www.w3.org/Graphics/SVG/1.1/DTD/svg11.dtd\">\n",
       "<!-- Generated by graphviz version 2.38.0 (20140413.2041)\n",
       " -->\n",
       "<!-- Title: %3 Pages: 1 -->\n",
       "<svg width=\"74pt\" height=\"44pt\"\n",
       " viewBox=\"0.00 0.00 74.39 44.00\" xmlns=\"http://www.w3.org/2000/svg\" xmlns:xlink=\"http://www.w3.org/1999/xlink\">\n",
       "<g id=\"graph0\" class=\"graph\" transform=\"scale(1 1) rotate(0) translate(4 40)\">\n",
       "<title>%3</title>\n",
       "<polygon fill=\"white\" stroke=\"none\" points=\"-4,4 -4,-40 70.3914,-40 70.3914,4 -4,4\"/>\n",
       "<!-- 0 -->\n",
       "<g id=\"node1\" class=\"node\"><title>0</title>\n",
       "<ellipse fill=\"none\" stroke=\"black\" cx=\"33.1957\" cy=\"-18\" rx=\"33.3925\" ry=\"18\"/>\n",
       "<text text-anchor=\"middle\" x=\"33.1957\" y=\"-13.8\" font-family=\"Times,serif\" font-size=\"14.00\">Matko</text>\n",
       "</g>\n",
       "</g>\n",
       "</svg>\n",
       "</td><td>Backtrack</td></tr>\n",
       "<tr><td>are silly</td><td><?xml version=\"1.0\" encoding=\"UTF-8\" standalone=\"no\"?>\n",
       "<!DOCTYPE svg PUBLIC \"-//W3C//DTD SVG 1.1//EN\"\n",
       " \"http://www.w3.org/Graphics/SVG/1.1/DTD/svg11.dtd\">\n",
       "<!-- Generated by graphviz version 2.38.0 (20140413.2041)\n",
       " -->\n",
       "<!-- Title: %3 Pages: 1 -->\n",
       "<svg width=\"146pt\" height=\"44pt\"\n",
       " viewBox=\"0.00 0.00 146.20 44.00\" xmlns=\"http://www.w3.org/2000/svg\" xmlns:xlink=\"http://www.w3.org/1999/xlink\">\n",
       "<g id=\"graph0\" class=\"graph\" transform=\"scale(1 1) rotate(0) translate(4 40)\">\n",
       "<title>%3</title>\n",
       "<polygon fill=\"white\" stroke=\"none\" points=\"-4,4 -4,-40 142.196,-40 142.196,4 -4,4\"/>\n",
       "<!-- 0 -->\n",
       "<g id=\"node1\" class=\"node\"><title>0</title>\n",
       "<ellipse fill=\"none\" stroke=\"black\" cx=\"33.1957\" cy=\"-18\" rx=\"33.3925\" ry=\"18\"/>\n",
       "<text text-anchor=\"middle\" x=\"33.1957\" y=\"-13.8\" font-family=\"Times,serif\" font-size=\"14.00\">Matko</text>\n",
       "</g>\n",
       "<!-- 1 -->\n",
       "<g id=\"node2\" class=\"node\"><title>1</title>\n",
       "<ellipse fill=\"none\" stroke=\"black\" cx=\"111.196\" cy=\"-18\" rx=\"27\" ry=\"18\"/>\n",
       "<text text-anchor=\"middle\" x=\"111.196\" y=\"-13.8\" font-family=\"Times,serif\" font-size=\"14.00\">raps</text>\n",
       "</g>\n",
       "</g>\n",
       "</svg>\n",
       "</td><td>Shift</td></tr>\n",
       "<tr><td>are silly</td><td><?xml version=\"1.0\" encoding=\"UTF-8\" standalone=\"no\"?>\n",
       "<!DOCTYPE svg PUBLIC \"-//W3C//DTD SVG 1.1//EN\"\n",
       " \"http://www.w3.org/Graphics/SVG/1.1/DTD/svg11.dtd\">\n",
       "<!-- Generated by graphviz version 2.38.0 (20140413.2041)\n",
       " -->\n",
       "<!-- Title: %3 Pages: 1 -->\n",
       "<svg width=\"146pt\" height=\"116pt\"\n",
       " viewBox=\"0.00 0.00 146.20 116.00\" xmlns=\"http://www.w3.org/2000/svg\" xmlns:xlink=\"http://www.w3.org/1999/xlink\">\n",
       "<g id=\"graph0\" class=\"graph\" transform=\"scale(1 1) rotate(0) translate(4 112)\">\n",
       "<title>%3</title>\n",
       "<polygon fill=\"white\" stroke=\"none\" points=\"-4,4 -4,-112 142.196,-112 142.196,4 -4,4\"/>\n",
       "<!-- 0 -->\n",
       "<g id=\"node1\" class=\"node\"><title>0</title>\n",
       "<ellipse fill=\"none\" stroke=\"black\" cx=\"33.1957\" cy=\"-18\" rx=\"33.3925\" ry=\"18\"/>\n",
       "<text text-anchor=\"middle\" x=\"33.1957\" y=\"-13.8\" font-family=\"Times,serif\" font-size=\"14.00\">Matko</text>\n",
       "</g>\n",
       "<!-- 1 -->\n",
       "<g id=\"node2\" class=\"node\"><title>1</title>\n",
       "<ellipse fill=\"none\" stroke=\"black\" cx=\"111.196\" cy=\"-18\" rx=\"27\" ry=\"18\"/>\n",
       "<text text-anchor=\"middle\" x=\"111.196\" y=\"-13.8\" font-family=\"Times,serif\" font-size=\"14.00\">raps</text>\n",
       "</g>\n",
       "<!-- 2 -->\n",
       "<g id=\"node3\" class=\"node\"><title>2</title>\n",
       "<ellipse fill=\"none\" stroke=\"black\" cx=\"72.1957\" cy=\"-90\" rx=\"30.0121\" ry=\"18\"/>\n",
       "<text text-anchor=\"middle\" x=\"72.1957\" y=\"-85.8\" font-family=\"Times,serif\" font-size=\"14.00\">NP_p</text>\n",
       "</g>\n",
       "<!-- 2&#45;&gt;0 -->\n",
       "<g id=\"edge1\" class=\"edge\"><title>2&#45;&gt;0</title>\n",
       "<path fill=\"none\" stroke=\"black\" d=\"M63.1503,-72.7646C58.4924,-64.4043 52.7046,-54.0159 47.4619,-44.6059\"/>\n",
       "<polygon fill=\"black\" stroke=\"black\" points=\"50.3874,-42.6656 42.4629,-35.6334 44.2725,-46.0726 50.3874,-42.6656\"/>\n",
       "</g>\n",
       "<!-- 2&#45;&gt;1 -->\n",
       "<g id=\"edge2\" class=\"edge\"><title>2&#45;&gt;1</title>\n",
       "<path fill=\"none\" stroke=\"black\" d=\"M81.2411,-72.7646C86.0157,-64.1948 91.9776,-53.494 97.3226,-43.9004\"/>\n",
       "<polygon fill=\"black\" stroke=\"black\" points=\"100.39,-45.5865 102.199,-35.1473 94.2748,-42.1795 100.39,-45.5865\"/>\n",
       "</g>\n",
       "</g>\n",
       "</svg>\n",
       "</td><td>Reduce</td></tr></table>"
      ],
      "text/plain": [
       "<statnlpbook.parsing.render_transitions.<locals>.Output at 0x10f793eb8>"
      ]
     },
     "execution_count": 10,
     "metadata": {},
     "output_type": "execute_result"
    }
   ],
   "source": [
    "parsing.render_transitions(transitions[9:13])"
   ]
  },
  {
   "cell_type": "markdown",
   "metadata": {
    "collapsed": false,
    "slideshow": {
     "slide_type": "subslide"
    }
   },
   "source": [
    "### Example"
   ]
  },
  {
   "cell_type": "code",
   "execution_count": 11,
   "metadata": {
    "collapsed": false,
    "hideCode": true,
    "hidePrompt": true,
    "slideshow": {
     "slide_type": "-"
    }
   },
   "outputs": [
    {
     "data": {
      "text/html": [
       "<table style=\"display: inline-block;\"><tr><td>S</td><td>NP_p VP_p</td></tr><tr><td>S</td><td>NP_s VP_s</td></tr><tr><td>NP_p</td><td>Matko raps</td></tr></table> <table style=\"display: inline-block;\"><tr><td>VP_p</td><td>are ADJ</td></tr><tr><td>NP_s</td><td>Matko</td></tr><tr><td>VP_s</td><td>raps in StatNLP</td></tr></table> <table style=\"display: inline-block;\"><tr><td>ADJ</td><td>silly</td></tr></table>"
      ],
      "text/plain": [
       "<__main__.CFG at 0x10f793e80>"
      ]
     },
     "execution_count": 11,
     "metadata": {},
     "output_type": "execute_result"
    }
   ],
   "source": [
    "sentence = ['Matko', 'raps', 'are', 'silly']\n",
    "transitions = bottom_up_parse(cfg, sentence)\n",
    "cfg"
   ]
  },
  {
   "cell_type": "code",
   "execution_count": 12,
   "metadata": {
    "collapsed": false,
    "slideshow": {
     "slide_type": "-"
    }
   },
   "outputs": [
    {
     "data": {
      "text/html": [
       "<table><tr><td></td><td><?xml version=\"1.0\" encoding=\"UTF-8\" standalone=\"no\"?>\n",
       "<!DOCTYPE svg PUBLIC \"-//W3C//DTD SVG 1.1//EN\"\n",
       " \"http://www.w3.org/Graphics/SVG/1.1/DTD/svg11.dtd\">\n",
       "<!-- Generated by graphviz version 2.38.0 (20140413.2041)\n",
       " -->\n",
       "<!-- Title: %3 Pages: 1 -->\n",
       "<svg width=\"286pt\" height=\"116pt\"\n",
       " viewBox=\"0.00 0.00 286.20 116.00\" xmlns=\"http://www.w3.org/2000/svg\" xmlns:xlink=\"http://www.w3.org/1999/xlink\">\n",
       "<g id=\"graph0\" class=\"graph\" transform=\"scale(1 1) rotate(0) translate(4 112)\">\n",
       "<title>%3</title>\n",
       "<polygon fill=\"white\" stroke=\"none\" points=\"-4,4 -4,-112 282.196,-112 282.196,4 -4,4\"/>\n",
       "<!-- 0 -->\n",
       "<g id=\"node1\" class=\"node\"><title>0</title>\n",
       "<ellipse fill=\"none\" stroke=\"black\" cx=\"33.1957\" cy=\"-18\" rx=\"33.3925\" ry=\"18\"/>\n",
       "<text text-anchor=\"middle\" x=\"33.1957\" y=\"-13.8\" font-family=\"Times,serif\" font-size=\"14.00\">Matko</text>\n",
       "</g>\n",
       "<!-- 1 -->\n",
       "<g id=\"node2\" class=\"node\"><title>1</title>\n",
       "<ellipse fill=\"none\" stroke=\"black\" cx=\"33.1957\" cy=\"-90\" rx=\"29.0514\" ry=\"18\"/>\n",
       "<text text-anchor=\"middle\" x=\"33.1957\" y=\"-85.8\" font-family=\"Times,serif\" font-size=\"14.00\">NP_s</text>\n",
       "</g>\n",
       "<!-- 1&#45;&gt;0 -->\n",
       "<g id=\"edge1\" class=\"edge\"><title>1&#45;&gt;0</title>\n",
       "<path fill=\"none\" stroke=\"black\" d=\"M33.1957,-71.6966C33.1957,-63.9827 33.1957,-54.7125 33.1957,-46.1124\"/>\n",
       "<polygon fill=\"black\" stroke=\"black\" points=\"36.6958,-46.1043 33.1957,-36.1043 29.6958,-46.1044 36.6958,-46.1043\"/>\n",
       "</g>\n",
       "<!-- 2 -->\n",
       "<g id=\"node3\" class=\"node\"><title>2</title>\n",
       "<ellipse fill=\"none\" stroke=\"black\" cx=\"107.196\" cy=\"-90\" rx=\"27\" ry=\"18\"/>\n",
       "<text text-anchor=\"middle\" x=\"107.196\" y=\"-85.8\" font-family=\"Times,serif\" font-size=\"14.00\">raps</text>\n",
       "</g>\n",
       "<!-- 3 -->\n",
       "<g id=\"node4\" class=\"node\"><title>3</title>\n",
       "<ellipse fill=\"none\" stroke=\"black\" cx=\"179.196\" cy=\"-90\" rx=\"27\" ry=\"18\"/>\n",
       "<text text-anchor=\"middle\" x=\"179.196\" y=\"-85.8\" font-family=\"Times,serif\" font-size=\"14.00\">are</text>\n",
       "</g>\n",
       "<!-- 4 -->\n",
       "<g id=\"node5\" class=\"node\"><title>4</title>\n",
       "<ellipse fill=\"none\" stroke=\"black\" cx=\"251.196\" cy=\"-90\" rx=\"27\" ry=\"18\"/>\n",
       "<text text-anchor=\"middle\" x=\"251.196\" y=\"-85.8\" font-family=\"Times,serif\" font-size=\"14.00\">silly</text>\n",
       "</g>\n",
       "</g>\n",
       "</svg>\n",
       "</td><td>Shift</td></tr>\n",
       "<tr><td></td><td><?xml version=\"1.0\" encoding=\"UTF-8\" standalone=\"no\"?>\n",
       "<!DOCTYPE svg PUBLIC \"-//W3C//DTD SVG 1.1//EN\"\n",
       " \"http://www.w3.org/Graphics/SVG/1.1/DTD/svg11.dtd\">\n",
       "<!-- Generated by graphviz version 2.38.0 (20140413.2041)\n",
       " -->\n",
       "<!-- Title: %3 Pages: 1 -->\n",
       "<svg width=\"286pt\" height=\"116pt\"\n",
       " viewBox=\"0.00 0.00 286.20 116.00\" xmlns=\"http://www.w3.org/2000/svg\" xmlns:xlink=\"http://www.w3.org/1999/xlink\">\n",
       "<g id=\"graph0\" class=\"graph\" transform=\"scale(1 1) rotate(0) translate(4 112)\">\n",
       "<title>%3</title>\n",
       "<polygon fill=\"white\" stroke=\"none\" points=\"-4,4 -4,-112 282.196,-112 282.196,4 -4,4\"/>\n",
       "<!-- 0 -->\n",
       "<g id=\"node1\" class=\"node\"><title>0</title>\n",
       "<ellipse fill=\"none\" stroke=\"black\" cx=\"33.1957\" cy=\"-18\" rx=\"33.3925\" ry=\"18\"/>\n",
       "<text text-anchor=\"middle\" x=\"33.1957\" y=\"-13.8\" font-family=\"Times,serif\" font-size=\"14.00\">Matko</text>\n",
       "</g>\n",
       "<!-- 1 -->\n",
       "<g id=\"node2\" class=\"node\"><title>1</title>\n",
       "<ellipse fill=\"none\" stroke=\"black\" cx=\"33.1957\" cy=\"-90\" rx=\"29.0514\" ry=\"18\"/>\n",
       "<text text-anchor=\"middle\" x=\"33.1957\" y=\"-85.8\" font-family=\"Times,serif\" font-size=\"14.00\">NP_s</text>\n",
       "</g>\n",
       "<!-- 1&#45;&gt;0 -->\n",
       "<g id=\"edge1\" class=\"edge\"><title>1&#45;&gt;0</title>\n",
       "<path fill=\"none\" stroke=\"black\" d=\"M33.1957,-71.6966C33.1957,-63.9827 33.1957,-54.7125 33.1957,-46.1124\"/>\n",
       "<polygon fill=\"black\" stroke=\"black\" points=\"36.6958,-46.1043 33.1957,-36.1043 29.6958,-46.1044 36.6958,-46.1043\"/>\n",
       "</g>\n",
       "<!-- 2 -->\n",
       "<g id=\"node3\" class=\"node\"><title>2</title>\n",
       "<ellipse fill=\"none\" stroke=\"black\" cx=\"107.196\" cy=\"-90\" rx=\"27\" ry=\"18\"/>\n",
       "<text text-anchor=\"middle\" x=\"107.196\" y=\"-85.8\" font-family=\"Times,serif\" font-size=\"14.00\">raps</text>\n",
       "</g>\n",
       "<!-- 3 -->\n",
       "<g id=\"node4\" class=\"node\"><title>3</title>\n",
       "<ellipse fill=\"none\" stroke=\"black\" cx=\"179.196\" cy=\"-90\" rx=\"27\" ry=\"18\"/>\n",
       "<text text-anchor=\"middle\" x=\"179.196\" y=\"-85.8\" font-family=\"Times,serif\" font-size=\"14.00\">are</text>\n",
       "</g>\n",
       "<!-- 4 -->\n",
       "<g id=\"node5\" class=\"node\"><title>4</title>\n",
       "<ellipse fill=\"none\" stroke=\"black\" cx=\"251.196\" cy=\"-18\" rx=\"27\" ry=\"18\"/>\n",
       "<text text-anchor=\"middle\" x=\"251.196\" y=\"-13.8\" font-family=\"Times,serif\" font-size=\"14.00\">silly</text>\n",
       "</g>\n",
       "<!-- 5 -->\n",
       "<g id=\"node6\" class=\"node\"><title>5</title>\n",
       "<ellipse fill=\"none\" stroke=\"black\" cx=\"251.196\" cy=\"-90\" rx=\"27\" ry=\"18\"/>\n",
       "<text text-anchor=\"middle\" x=\"251.196\" y=\"-85.8\" font-family=\"Times,serif\" font-size=\"14.00\">ADJ</text>\n",
       "</g>\n",
       "<!-- 5&#45;&gt;4 -->\n",
       "<g id=\"edge2\" class=\"edge\"><title>5&#45;&gt;4</title>\n",
       "<path fill=\"none\" stroke=\"black\" d=\"M251.196,-71.6966C251.196,-63.9827 251.196,-54.7125 251.196,-46.1124\"/>\n",
       "<polygon fill=\"black\" stroke=\"black\" points=\"254.696,-46.1043 251.196,-36.1043 247.696,-46.1044 254.696,-46.1043\"/>\n",
       "</g>\n",
       "</g>\n",
       "</svg>\n",
       "</td><td>Reduce</td></tr>\n",
       "<tr><td></td><td><?xml version=\"1.0\" encoding=\"UTF-8\" standalone=\"no\"?>\n",
       "<!DOCTYPE svg PUBLIC \"-//W3C//DTD SVG 1.1//EN\"\n",
       " \"http://www.w3.org/Graphics/SVG/1.1/DTD/svg11.dtd\">\n",
       "<!-- Generated by graphviz version 2.38.0 (20140413.2041)\n",
       " -->\n",
       "<!-- Title: %3 Pages: 1 -->\n",
       "<svg width=\"253pt\" height=\"188pt\"\n",
       " viewBox=\"0.00 0.00 253.20 188.00\" xmlns=\"http://www.w3.org/2000/svg\" xmlns:xlink=\"http://www.w3.org/1999/xlink\">\n",
       "<g id=\"graph0\" class=\"graph\" transform=\"scale(1 1) rotate(0) translate(4 184)\">\n",
       "<title>%3</title>\n",
       "<polygon fill=\"white\" stroke=\"none\" points=\"-4,4 -4,-184 249.196,-184 249.196,4 -4,4\"/>\n",
       "<!-- 0 -->\n",
       "<g id=\"node1\" class=\"node\"><title>0</title>\n",
       "<ellipse fill=\"none\" stroke=\"black\" cx=\"33.1957\" cy=\"-90\" rx=\"33.3925\" ry=\"18\"/>\n",
       "<text text-anchor=\"middle\" x=\"33.1957\" y=\"-85.8\" font-family=\"Times,serif\" font-size=\"14.00\">Matko</text>\n",
       "</g>\n",
       "<!-- 1 -->\n",
       "<g id=\"node2\" class=\"node\"><title>1</title>\n",
       "<ellipse fill=\"none\" stroke=\"black\" cx=\"33.1957\" cy=\"-162\" rx=\"29.0514\" ry=\"18\"/>\n",
       "<text text-anchor=\"middle\" x=\"33.1957\" y=\"-157.8\" font-family=\"Times,serif\" font-size=\"14.00\">NP_s</text>\n",
       "</g>\n",
       "<!-- 1&#45;&gt;0 -->\n",
       "<g id=\"edge1\" class=\"edge\"><title>1&#45;&gt;0</title>\n",
       "<path fill=\"none\" stroke=\"black\" d=\"M33.1957,-143.697C33.1957,-135.983 33.1957,-126.712 33.1957,-118.112\"/>\n",
       "<polygon fill=\"black\" stroke=\"black\" points=\"36.6958,-118.104 33.1957,-108.104 29.6958,-118.104 36.6958,-118.104\"/>\n",
       "</g>\n",
       "<!-- 2 -->\n",
       "<g id=\"node3\" class=\"node\"><title>2</title>\n",
       "<ellipse fill=\"none\" stroke=\"black\" cx=\"125.196\" cy=\"-162\" rx=\"27\" ry=\"18\"/>\n",
       "<text text-anchor=\"middle\" x=\"125.196\" y=\"-157.8\" font-family=\"Times,serif\" font-size=\"14.00\">raps</text>\n",
       "</g>\n",
       "<!-- 3 -->\n",
       "<g id=\"node4\" class=\"node\"><title>3</title>\n",
       "<ellipse fill=\"none\" stroke=\"black\" cx=\"146.196\" cy=\"-90\" rx=\"27\" ry=\"18\"/>\n",
       "<text text-anchor=\"middle\" x=\"146.196\" y=\"-85.8\" font-family=\"Times,serif\" font-size=\"14.00\">are</text>\n",
       "</g>\n",
       "<!-- 4 -->\n",
       "<g id=\"node5\" class=\"node\"><title>4</title>\n",
       "<ellipse fill=\"none\" stroke=\"black\" cx=\"218.196\" cy=\"-18\" rx=\"27\" ry=\"18\"/>\n",
       "<text text-anchor=\"middle\" x=\"218.196\" y=\"-13.8\" font-family=\"Times,serif\" font-size=\"14.00\">silly</text>\n",
       "</g>\n",
       "<!-- 5 -->\n",
       "<g id=\"node6\" class=\"node\"><title>5</title>\n",
       "<ellipse fill=\"none\" stroke=\"black\" cx=\"218.196\" cy=\"-90\" rx=\"27\" ry=\"18\"/>\n",
       "<text text-anchor=\"middle\" x=\"218.196\" y=\"-85.8\" font-family=\"Times,serif\" font-size=\"14.00\">ADJ</text>\n",
       "</g>\n",
       "<!-- 5&#45;&gt;4 -->\n",
       "<g id=\"edge2\" class=\"edge\"><title>5&#45;&gt;4</title>\n",
       "<path fill=\"none\" stroke=\"black\" d=\"M218.196,-71.6966C218.196,-63.9827 218.196,-54.7125 218.196,-46.1124\"/>\n",
       "<polygon fill=\"black\" stroke=\"black\" points=\"221.696,-46.1043 218.196,-36.1043 214.696,-46.1044 221.696,-46.1043\"/>\n",
       "</g>\n",
       "<!-- 6 -->\n",
       "<g id=\"node7\" class=\"node\"><title>6</title>\n",
       "<ellipse fill=\"none\" stroke=\"black\" cx=\"209.196\" cy=\"-162\" rx=\"30.0121\" ry=\"18\"/>\n",
       "<text text-anchor=\"middle\" x=\"209.196\" y=\"-157.8\" font-family=\"Times,serif\" font-size=\"14.00\">VP_p</text>\n",
       "</g>\n",
       "<!-- 6&#45;&gt;3 -->\n",
       "<g id=\"edge3\" class=\"edge\"><title>6&#45;&gt;3</title>\n",
       "<path fill=\"none\" stroke=\"black\" d=\"M195.526,-145.811C187.105,-136.455 176.149,-124.282 166.702,-113.785\"/>\n",
       "<polygon fill=\"black\" stroke=\"black\" points=\"169.13,-111.251 159.839,-106.159 163.927,-115.934 169.13,-111.251\"/>\n",
       "</g>\n",
       "<!-- 6&#45;&gt;5 -->\n",
       "<g id=\"edge4\" class=\"edge\"><title>6&#45;&gt;5</title>\n",
       "<path fill=\"none\" stroke=\"black\" d=\"M211.42,-143.697C212.412,-135.983 213.604,-126.712 214.71,-118.112\"/>\n",
       "<polygon fill=\"black\" stroke=\"black\" points=\"218.193,-118.469 215.997,-108.104 211.25,-117.576 218.193,-118.469\"/>\n",
       "</g>\n",
       "</g>\n",
       "</svg>\n",
       "</td><td>Reduce</td></tr></table>"
      ],
      "text/plain": [
       "<statnlpbook.parsing.render_transitions.<locals>.Output at 0x10f50c160>"
      ]
     },
     "execution_count": 12,
     "metadata": {},
     "output_type": "execute_result"
    }
   ],
   "source": [
    "parsing.render_transitions(transitions[5:8])"
   ]
  },
  {
   "cell_type": "code",
   "execution_count": 13,
   "metadata": {
    "collapsed": false,
    "slideshow": {
     "slide_type": "subslide"
    }
   },
   "outputs": [
    {
     "data": {
      "image/svg+xml": [
       "<?xml version=\"1.0\" encoding=\"UTF-8\" standalone=\"no\"?>\n",
       "<!DOCTYPE svg PUBLIC \"-//W3C//DTD SVG 1.1//EN\"\n",
       " \"http://www.w3.org/Graphics/SVG/1.1/DTD/svg11.dtd\">\n",
       "<!-- Generated by graphviz version 2.38.0 (20140413.2041)\n",
       " -->\n",
       "<!-- Title: %3 Pages: 1 -->\n",
       "<svg width=\"293pt\" height=\"260pt\"\n",
       " viewBox=\"0.00 0.00 293.20 260.00\" xmlns=\"http://www.w3.org/2000/svg\" xmlns:xlink=\"http://www.w3.org/1999/xlink\">\n",
       "<g id=\"graph0\" class=\"graph\" transform=\"scale(1 1) rotate(0) translate(4 256)\">\n",
       "<title>%3</title>\n",
       "<polygon fill=\"white\" stroke=\"none\" points=\"-4,4 -4,-256 289.196,-256 289.196,4 -4,4\"/>\n",
       "<!-- 0 -->\n",
       "<g id=\"node1\" class=\"node\"><title>0</title>\n",
       "<ellipse fill=\"none\" stroke=\"black\" cx=\"33.1957\" cy=\"-90\" rx=\"33.3925\" ry=\"18\"/>\n",
       "<text text-anchor=\"middle\" x=\"33.1957\" y=\"-85.8\" font-family=\"Times,serif\" font-size=\"14.00\">Matko</text>\n",
       "</g>\n",
       "<!-- 1 -->\n",
       "<g id=\"node2\" class=\"node\"><title>1</title>\n",
       "<ellipse fill=\"none\" stroke=\"black\" cx=\"111.196\" cy=\"-90\" rx=\"27\" ry=\"18\"/>\n",
       "<text text-anchor=\"middle\" x=\"111.196\" y=\"-85.8\" font-family=\"Times,serif\" font-size=\"14.00\">raps</text>\n",
       "</g>\n",
       "<!-- 2 -->\n",
       "<g id=\"node3\" class=\"node\"><title>2</title>\n",
       "<ellipse fill=\"none\" stroke=\"black\" cx=\"109.196\" cy=\"-162\" rx=\"30.0121\" ry=\"18\"/>\n",
       "<text text-anchor=\"middle\" x=\"109.196\" y=\"-157.8\" font-family=\"Times,serif\" font-size=\"14.00\">NP_p</text>\n",
       "</g>\n",
       "<!-- 2&#45;&gt;0 -->\n",
       "<g id=\"edge1\" class=\"edge\"><title>2&#45;&gt;0</title>\n",
       "<path fill=\"none\" stroke=\"black\" d=\"M93.4484,-146.496C82.8914,-136.772 68.7963,-123.79 56.8933,-112.827\"/>\n",
       "<polygon fill=\"black\" stroke=\"black\" points=\"59.1738,-110.169 49.4471,-105.968 54.4314,-115.318 59.1738,-110.169\"/>\n",
       "</g>\n",
       "<!-- 2&#45;&gt;1 -->\n",
       "<g id=\"edge2\" class=\"edge\"><title>2&#45;&gt;1</title>\n",
       "<path fill=\"none\" stroke=\"black\" d=\"M109.69,-143.697C109.91,-135.983 110.175,-126.712 110.421,-118.112\"/>\n",
       "<polygon fill=\"black\" stroke=\"black\" points=\"113.92,-118.2 110.707,-108.104 106.923,-118 113.92,-118.2\"/>\n",
       "</g>\n",
       "<!-- 3 -->\n",
       "<g id=\"node4\" class=\"node\"><title>3</title>\n",
       "<ellipse fill=\"none\" stroke=\"black\" cx=\"186.196\" cy=\"-90\" rx=\"27\" ry=\"18\"/>\n",
       "<text text-anchor=\"middle\" x=\"186.196\" y=\"-85.8\" font-family=\"Times,serif\" font-size=\"14.00\">are</text>\n",
       "</g>\n",
       "<!-- 4 -->\n",
       "<g id=\"node5\" class=\"node\"><title>4</title>\n",
       "<ellipse fill=\"none\" stroke=\"black\" cx=\"258.196\" cy=\"-18\" rx=\"27\" ry=\"18\"/>\n",
       "<text text-anchor=\"middle\" x=\"258.196\" y=\"-13.8\" font-family=\"Times,serif\" font-size=\"14.00\">silly</text>\n",
       "</g>\n",
       "<!-- 5 -->\n",
       "<g id=\"node6\" class=\"node\"><title>5</title>\n",
       "<ellipse fill=\"none\" stroke=\"black\" cx=\"258.196\" cy=\"-90\" rx=\"27\" ry=\"18\"/>\n",
       "<text text-anchor=\"middle\" x=\"258.196\" y=\"-85.8\" font-family=\"Times,serif\" font-size=\"14.00\">ADJ</text>\n",
       "</g>\n",
       "<!-- 5&#45;&gt;4 -->\n",
       "<g id=\"edge3\" class=\"edge\"><title>5&#45;&gt;4</title>\n",
       "<path fill=\"none\" stroke=\"black\" d=\"M258.196,-71.6966C258.196,-63.9827 258.196,-54.7125 258.196,-46.1124\"/>\n",
       "<polygon fill=\"black\" stroke=\"black\" points=\"261.696,-46.1043 258.196,-36.1043 254.696,-46.1044 261.696,-46.1043\"/>\n",
       "</g>\n",
       "<!-- 6 -->\n",
       "<g id=\"node7\" class=\"node\"><title>6</title>\n",
       "<ellipse fill=\"none\" stroke=\"black\" cx=\"188.196\" cy=\"-162\" rx=\"30.0121\" ry=\"18\"/>\n",
       "<text text-anchor=\"middle\" x=\"188.196\" y=\"-157.8\" font-family=\"Times,serif\" font-size=\"14.00\">VP_p</text>\n",
       "</g>\n",
       "<!-- 6&#45;&gt;3 -->\n",
       "<g id=\"edge4\" class=\"edge\"><title>6&#45;&gt;3</title>\n",
       "<path fill=\"none\" stroke=\"black\" d=\"M187.701,-143.697C187.481,-135.983 187.216,-126.712 186.97,-118.112\"/>\n",
       "<polygon fill=\"black\" stroke=\"black\" points=\"190.469,-118 186.684,-108.104 183.472,-118.2 190.469,-118\"/>\n",
       "</g>\n",
       "<!-- 6&#45;&gt;5 -->\n",
       "<g id=\"edge5\" class=\"edge\"><title>6&#45;&gt;5</title>\n",
       "<path fill=\"none\" stroke=\"black\" d=\"M203.041,-146.155C212.823,-136.372 225.792,-123.404 236.696,-112.5\"/>\n",
       "<polygon fill=\"black\" stroke=\"black\" points=\"239.254,-114.891 243.851,-105.345 234.305,-109.941 239.254,-114.891\"/>\n",
       "</g>\n",
       "<!-- 7 -->\n",
       "<g id=\"node8\" class=\"node\"><title>7</title>\n",
       "<ellipse fill=\"none\" stroke=\"black\" cx=\"148.196\" cy=\"-234\" rx=\"27\" ry=\"18\"/>\n",
       "<text text-anchor=\"middle\" x=\"148.196\" y=\"-229.8\" font-family=\"Times,serif\" font-size=\"14.00\">S</text>\n",
       "</g>\n",
       "<!-- 7&#45;&gt;2 -->\n",
       "<g id=\"edge6\" class=\"edge\"><title>7&#45;&gt;2</title>\n",
       "<path fill=\"none\" stroke=\"black\" d=\"M139.15,-216.765C134.492,-208.404 128.705,-198.016 123.462,-188.606\"/>\n",
       "<polygon fill=\"black\" stroke=\"black\" points=\"126.387,-186.666 118.463,-179.633 120.272,-190.073 126.387,-186.666\"/>\n",
       "</g>\n",
       "<!-- 7&#45;&gt;6 -->\n",
       "<g id=\"edge7\" class=\"edge\"><title>7&#45;&gt;6</title>\n",
       "<path fill=\"none\" stroke=\"black\" d=\"M157.473,-216.765C162.37,-208.195 168.485,-197.494 173.967,-187.9\"/>\n",
       "<polygon fill=\"black\" stroke=\"black\" points=\"177.046,-189.566 178.969,-179.147 170.968,-186.093 177.046,-189.566\"/>\n",
       "</g>\n",
       "</g>\n",
       "</svg>\n"
      ],
      "text/plain": [
       "<graphviz.dot.Digraph at 0x10f7a10f0>"
      ]
     },
     "execution_count": 13,
     "metadata": {},
     "output_type": "execute_result"
    }
   ],
   "source": [
    "parsing.render_forest(transitions[-1][0].stack)"
   ]
  },
  {
   "cell_type": "markdown",
   "metadata": {
    "collapsed": false,
    "slideshow": {
     "slide_type": "slide"
    }
   },
   "source": [
    "## Dynamic Programming for Parsing\n",
    "Bottom-up parser repeats the same work several times"
   ]
  },
  {
   "cell_type": "code",
   "execution_count": 14,
   "metadata": {
    "collapsed": false,
    "slideshow": {
     "slide_type": "subslide"
    }
   },
   "outputs": [
    {
     "data": {
      "text/html": [
       "<table><tr><td></td><td><?xml version=\"1.0\" encoding=\"UTF-8\" standalone=\"no\"?>\n",
       "<!DOCTYPE svg PUBLIC \"-//W3C//DTD SVG 1.1//EN\"\n",
       " \"http://www.w3.org/Graphics/SVG/1.1/DTD/svg11.dtd\">\n",
       "<!-- Generated by graphviz version 2.38.0 (20140413.2041)\n",
       " -->\n",
       "<!-- Title: %3 Pages: 1 -->\n",
       "<svg width=\"253pt\" height=\"188pt\"\n",
       " viewBox=\"0.00 0.00 253.20 188.00\" xmlns=\"http://www.w3.org/2000/svg\" xmlns:xlink=\"http://www.w3.org/1999/xlink\">\n",
       "<g id=\"graph0\" class=\"graph\" transform=\"scale(1 1) rotate(0) translate(4 184)\">\n",
       "<title>%3</title>\n",
       "<polygon fill=\"white\" stroke=\"none\" points=\"-4,4 -4,-184 249.196,-184 249.196,4 -4,4\"/>\n",
       "<!-- 0 -->\n",
       "<g id=\"node1\" class=\"node\"><title>0</title>\n",
       "<ellipse fill=\"none\" stroke=\"black\" cx=\"33.1957\" cy=\"-90\" rx=\"33.3925\" ry=\"18\"/>\n",
       "<text text-anchor=\"middle\" x=\"33.1957\" y=\"-85.8\" font-family=\"Times,serif\" font-size=\"14.00\">Matko</text>\n",
       "</g>\n",
       "<!-- 1 -->\n",
       "<g id=\"node2\" class=\"node\"><title>1</title>\n",
       "<ellipse fill=\"none\" stroke=\"black\" cx=\"33.1957\" cy=\"-162\" rx=\"29.0514\" ry=\"18\"/>\n",
       "<text text-anchor=\"middle\" x=\"33.1957\" y=\"-157.8\" font-family=\"Times,serif\" font-size=\"14.00\">NP_s</text>\n",
       "</g>\n",
       "<!-- 1&#45;&gt;0 -->\n",
       "<g id=\"edge1\" class=\"edge\"><title>1&#45;&gt;0</title>\n",
       "<path fill=\"none\" stroke=\"black\" d=\"M33.1957,-143.697C33.1957,-135.983 33.1957,-126.712 33.1957,-118.112\"/>\n",
       "<polygon fill=\"black\" stroke=\"black\" points=\"36.6958,-118.104 33.1957,-108.104 29.6958,-118.104 36.6958,-118.104\"/>\n",
       "</g>\n",
       "<!-- 2 -->\n",
       "<g id=\"node3\" class=\"node\"><title>2</title>\n",
       "<ellipse fill=\"none\" stroke=\"black\" cx=\"125.196\" cy=\"-162\" rx=\"27\" ry=\"18\"/>\n",
       "<text text-anchor=\"middle\" x=\"125.196\" y=\"-157.8\" font-family=\"Times,serif\" font-size=\"14.00\">raps</text>\n",
       "</g>\n",
       "<!-- 3 -->\n",
       "<g id=\"node4\" class=\"node\"><title>3</title>\n",
       "<ellipse fill=\"none\" stroke=\"black\" cx=\"146.196\" cy=\"-90\" rx=\"27\" ry=\"18\"/>\n",
       "<text text-anchor=\"middle\" x=\"146.196\" y=\"-85.8\" font-family=\"Times,serif\" font-size=\"14.00\">are</text>\n",
       "</g>\n",
       "<!-- 4 -->\n",
       "<g id=\"node5\" class=\"node\"><title>4</title>\n",
       "<ellipse fill=\"none\" stroke=\"black\" cx=\"218.196\" cy=\"-18\" rx=\"27\" ry=\"18\"/>\n",
       "<text text-anchor=\"middle\" x=\"218.196\" y=\"-13.8\" font-family=\"Times,serif\" font-size=\"14.00\">silly</text>\n",
       "</g>\n",
       "<!-- 5 -->\n",
       "<g id=\"node6\" class=\"node\"><title>5</title>\n",
       "<ellipse fill=\"none\" stroke=\"black\" cx=\"218.196\" cy=\"-90\" rx=\"27\" ry=\"18\"/>\n",
       "<text text-anchor=\"middle\" x=\"218.196\" y=\"-85.8\" font-family=\"Times,serif\" font-size=\"14.00\">ADJ</text>\n",
       "</g>\n",
       "<!-- 5&#45;&gt;4 -->\n",
       "<g id=\"edge2\" class=\"edge\"><title>5&#45;&gt;4</title>\n",
       "<path fill=\"none\" stroke=\"black\" d=\"M218.196,-71.6966C218.196,-63.9827 218.196,-54.7125 218.196,-46.1124\"/>\n",
       "<polygon fill=\"black\" stroke=\"black\" points=\"221.696,-46.1043 218.196,-36.1043 214.696,-46.1044 221.696,-46.1043\"/>\n",
       "</g>\n",
       "<!-- 6 -->\n",
       "<g id=\"node7\" class=\"node\"><title>6</title>\n",
       "<ellipse fill=\"none\" stroke=\"black\" cx=\"209.196\" cy=\"-162\" rx=\"30.0121\" ry=\"18\"/>\n",
       "<text text-anchor=\"middle\" x=\"209.196\" y=\"-157.8\" font-family=\"Times,serif\" font-size=\"14.00\">VP_p</text>\n",
       "</g>\n",
       "<!-- 6&#45;&gt;3 -->\n",
       "<g id=\"edge3\" class=\"edge\"><title>6&#45;&gt;3</title>\n",
       "<path fill=\"none\" stroke=\"black\" d=\"M195.526,-145.811C187.105,-136.455 176.149,-124.282 166.702,-113.785\"/>\n",
       "<polygon fill=\"black\" stroke=\"black\" points=\"169.13,-111.251 159.839,-106.159 163.927,-115.934 169.13,-111.251\"/>\n",
       "</g>\n",
       "<!-- 6&#45;&gt;5 -->\n",
       "<g id=\"edge4\" class=\"edge\"><title>6&#45;&gt;5</title>\n",
       "<path fill=\"none\" stroke=\"black\" d=\"M211.42,-143.697C212.412,-135.983 213.604,-126.712 214.71,-118.112\"/>\n",
       "<polygon fill=\"black\" stroke=\"black\" points=\"218.193,-118.469 215.997,-108.104 211.25,-117.576 218.193,-118.469\"/>\n",
       "</g>\n",
       "</g>\n",
       "</svg>\n",
       "</td><td>Reduce</td></tr></table>"
      ],
      "text/plain": [
       "<statnlpbook.parsing.render_transitions.<locals>.Output at 0x10f7a1eb8>"
      ]
     },
     "execution_count": 14,
     "metadata": {},
     "output_type": "execute_result"
    }
   ],
   "source": [
    "parsing.render_transitions(transitions[7:8]) "
   ]
  },
  {
   "cell_type": "code",
   "execution_count": 15,
   "metadata": {
    "collapsed": false,
    "slideshow": {
     "slide_type": "subslide"
    }
   },
   "outputs": [
    {
     "data": {
      "text/html": [
       "<table><tr><td>raps are silly</td><td><?xml version=\"1.0\" encoding=\"UTF-8\" standalone=\"no\"?>\n",
       "<!DOCTYPE svg PUBLIC \"-//W3C//DTD SVG 1.1//EN\"\n",
       " \"http://www.w3.org/Graphics/SVG/1.1/DTD/svg11.dtd\">\n",
       "<!-- Generated by graphviz version 2.38.0 (20140413.2041)\n",
       " -->\n",
       "<!-- Title: %3 Pages: 1 -->\n",
       "<svg width=\"74pt\" height=\"44pt\"\n",
       " viewBox=\"0.00 0.00 74.39 44.00\" xmlns=\"http://www.w3.org/2000/svg\" xmlns:xlink=\"http://www.w3.org/1999/xlink\">\n",
       "<g id=\"graph0\" class=\"graph\" transform=\"scale(1 1) rotate(0) translate(4 40)\">\n",
       "<title>%3</title>\n",
       "<polygon fill=\"white\" stroke=\"none\" points=\"-4,4 -4,-40 70.3914,-40 70.3914,4 -4,4\"/>\n",
       "<!-- 0 -->\n",
       "<g id=\"node1\" class=\"node\"><title>0</title>\n",
       "<ellipse fill=\"none\" stroke=\"black\" cx=\"33.1957\" cy=\"-18\" rx=\"33.3925\" ry=\"18\"/>\n",
       "<text text-anchor=\"middle\" x=\"33.1957\" y=\"-13.8\" font-family=\"Times,serif\" font-size=\"14.00\">Matko</text>\n",
       "</g>\n",
       "</g>\n",
       "</svg>\n",
       "</td><td>Backtrack</td></tr>\n",
       "<tr><td>are silly</td><td><?xml version=\"1.0\" encoding=\"UTF-8\" standalone=\"no\"?>\n",
       "<!DOCTYPE svg PUBLIC \"-//W3C//DTD SVG 1.1//EN\"\n",
       " \"http://www.w3.org/Graphics/SVG/1.1/DTD/svg11.dtd\">\n",
       "<!-- Generated by graphviz version 2.38.0 (20140413.2041)\n",
       " -->\n",
       "<!-- Title: %3 Pages: 1 -->\n",
       "<svg width=\"146pt\" height=\"44pt\"\n",
       " viewBox=\"0.00 0.00 146.20 44.00\" xmlns=\"http://www.w3.org/2000/svg\" xmlns:xlink=\"http://www.w3.org/1999/xlink\">\n",
       "<g id=\"graph0\" class=\"graph\" transform=\"scale(1 1) rotate(0) translate(4 40)\">\n",
       "<title>%3</title>\n",
       "<polygon fill=\"white\" stroke=\"none\" points=\"-4,4 -4,-40 142.196,-40 142.196,4 -4,4\"/>\n",
       "<!-- 0 -->\n",
       "<g id=\"node1\" class=\"node\"><title>0</title>\n",
       "<ellipse fill=\"none\" stroke=\"black\" cx=\"33.1957\" cy=\"-18\" rx=\"33.3925\" ry=\"18\"/>\n",
       "<text text-anchor=\"middle\" x=\"33.1957\" y=\"-13.8\" font-family=\"Times,serif\" font-size=\"14.00\">Matko</text>\n",
       "</g>\n",
       "<!-- 1 -->\n",
       "<g id=\"node2\" class=\"node\"><title>1</title>\n",
       "<ellipse fill=\"none\" stroke=\"black\" cx=\"111.196\" cy=\"-18\" rx=\"27\" ry=\"18\"/>\n",
       "<text text-anchor=\"middle\" x=\"111.196\" y=\"-13.8\" font-family=\"Times,serif\" font-size=\"14.00\">raps</text>\n",
       "</g>\n",
       "</g>\n",
       "</svg>\n",
       "</td><td>Shift</td></tr>\n",
       "<tr><td>are silly</td><td><?xml version=\"1.0\" encoding=\"UTF-8\" standalone=\"no\"?>\n",
       "<!DOCTYPE svg PUBLIC \"-//W3C//DTD SVG 1.1//EN\"\n",
       " \"http://www.w3.org/Graphics/SVG/1.1/DTD/svg11.dtd\">\n",
       "<!-- Generated by graphviz version 2.38.0 (20140413.2041)\n",
       " -->\n",
       "<!-- Title: %3 Pages: 1 -->\n",
       "<svg width=\"146pt\" height=\"116pt\"\n",
       " viewBox=\"0.00 0.00 146.20 116.00\" xmlns=\"http://www.w3.org/2000/svg\" xmlns:xlink=\"http://www.w3.org/1999/xlink\">\n",
       "<g id=\"graph0\" class=\"graph\" transform=\"scale(1 1) rotate(0) translate(4 112)\">\n",
       "<title>%3</title>\n",
       "<polygon fill=\"white\" stroke=\"none\" points=\"-4,4 -4,-112 142.196,-112 142.196,4 -4,4\"/>\n",
       "<!-- 0 -->\n",
       "<g id=\"node1\" class=\"node\"><title>0</title>\n",
       "<ellipse fill=\"none\" stroke=\"black\" cx=\"33.1957\" cy=\"-18\" rx=\"33.3925\" ry=\"18\"/>\n",
       "<text text-anchor=\"middle\" x=\"33.1957\" y=\"-13.8\" font-family=\"Times,serif\" font-size=\"14.00\">Matko</text>\n",
       "</g>\n",
       "<!-- 1 -->\n",
       "<g id=\"node2\" class=\"node\"><title>1</title>\n",
       "<ellipse fill=\"none\" stroke=\"black\" cx=\"111.196\" cy=\"-18\" rx=\"27\" ry=\"18\"/>\n",
       "<text text-anchor=\"middle\" x=\"111.196\" y=\"-13.8\" font-family=\"Times,serif\" font-size=\"14.00\">raps</text>\n",
       "</g>\n",
       "<!-- 2 -->\n",
       "<g id=\"node3\" class=\"node\"><title>2</title>\n",
       "<ellipse fill=\"none\" stroke=\"black\" cx=\"72.1957\" cy=\"-90\" rx=\"30.0121\" ry=\"18\"/>\n",
       "<text text-anchor=\"middle\" x=\"72.1957\" y=\"-85.8\" font-family=\"Times,serif\" font-size=\"14.00\">NP_p</text>\n",
       "</g>\n",
       "<!-- 2&#45;&gt;0 -->\n",
       "<g id=\"edge1\" class=\"edge\"><title>2&#45;&gt;0</title>\n",
       "<path fill=\"none\" stroke=\"black\" d=\"M63.1503,-72.7646C58.4924,-64.4043 52.7046,-54.0159 47.4619,-44.6059\"/>\n",
       "<polygon fill=\"black\" stroke=\"black\" points=\"50.3874,-42.6656 42.4629,-35.6334 44.2725,-46.0726 50.3874,-42.6656\"/>\n",
       "</g>\n",
       "<!-- 2&#45;&gt;1 -->\n",
       "<g id=\"edge2\" class=\"edge\"><title>2&#45;&gt;1</title>\n",
       "<path fill=\"none\" stroke=\"black\" d=\"M81.2411,-72.7646C86.0157,-64.1948 91.9776,-53.494 97.3226,-43.9004\"/>\n",
       "<polygon fill=\"black\" stroke=\"black\" points=\"100.39,-45.5865 102.199,-35.1473 94.2748,-42.1795 100.39,-45.5865\"/>\n",
       "</g>\n",
       "</g>\n",
       "</svg>\n",
       "</td><td>Reduce</td></tr></table>"
      ],
      "text/plain": [
       "<statnlpbook.parsing.render_transitions.<locals>.Output at 0x10f84f400>"
      ]
     },
     "execution_count": 15,
     "metadata": {},
     "output_type": "execute_result"
    }
   ],
   "source": [
    "parsing.render_transitions(transitions[10:13])"
   ]
  },
  {
   "cell_type": "code",
   "execution_count": 16,
   "metadata": {
    "collapsed": false,
    "slideshow": {
     "slide_type": "subslide"
    }
   },
   "outputs": [
    {
     "data": {
      "text/html": [
       "<table><tr><td></td><td><?xml version=\"1.0\" encoding=\"UTF-8\" standalone=\"no\"?>\n",
       "<!DOCTYPE svg PUBLIC \"-//W3C//DTD SVG 1.1//EN\"\n",
       " \"http://www.w3.org/Graphics/SVG/1.1/DTD/svg11.dtd\">\n",
       "<!-- Generated by graphviz version 2.38.0 (20140413.2041)\n",
       " -->\n",
       "<!-- Title: %3 Pages: 1 -->\n",
       "<svg width=\"293pt\" height=\"188pt\"\n",
       " viewBox=\"0.00 0.00 293.20 188.00\" xmlns=\"http://www.w3.org/2000/svg\" xmlns:xlink=\"http://www.w3.org/1999/xlink\">\n",
       "<g id=\"graph0\" class=\"graph\" transform=\"scale(1 1) rotate(0) translate(4 184)\">\n",
       "<title>%3</title>\n",
       "<polygon fill=\"white\" stroke=\"none\" points=\"-4,4 -4,-184 289.196,-184 289.196,4 -4,4\"/>\n",
       "<!-- 0 -->\n",
       "<g id=\"node1\" class=\"node\"><title>0</title>\n",
       "<ellipse fill=\"none\" stroke=\"black\" cx=\"33.1957\" cy=\"-90\" rx=\"33.3925\" ry=\"18\"/>\n",
       "<text text-anchor=\"middle\" x=\"33.1957\" y=\"-85.8\" font-family=\"Times,serif\" font-size=\"14.00\">Matko</text>\n",
       "</g>\n",
       "<!-- 1 -->\n",
       "<g id=\"node2\" class=\"node\"><title>1</title>\n",
       "<ellipse fill=\"none\" stroke=\"black\" cx=\"111.196\" cy=\"-90\" rx=\"27\" ry=\"18\"/>\n",
       "<text text-anchor=\"middle\" x=\"111.196\" y=\"-85.8\" font-family=\"Times,serif\" font-size=\"14.00\">raps</text>\n",
       "</g>\n",
       "<!-- 2 -->\n",
       "<g id=\"node3\" class=\"node\"><title>2</title>\n",
       "<ellipse fill=\"none\" stroke=\"black\" cx=\"90.1957\" cy=\"-162\" rx=\"30.0121\" ry=\"18\"/>\n",
       "<text text-anchor=\"middle\" x=\"90.1957\" y=\"-157.8\" font-family=\"Times,serif\" font-size=\"14.00\">NP_p</text>\n",
       "</g>\n",
       "<!-- 2&#45;&gt;0 -->\n",
       "<g id=\"edge1\" class=\"edge\"><title>2&#45;&gt;0</title>\n",
       "<path fill=\"none\" stroke=\"black\" d=\"M77.5455,-145.465C70.1957,-136.439 60.7837,-124.88 52.5227,-114.735\"/>\n",
       "<polygon fill=\"black\" stroke=\"black\" points=\"55.234,-112.522 46.2057,-106.977 49.8059,-116.942 55.234,-112.522\"/>\n",
       "</g>\n",
       "<!-- 2&#45;&gt;1 -->\n",
       "<g id=\"edge2\" class=\"edge\"><title>2&#45;&gt;1</title>\n",
       "<path fill=\"none\" stroke=\"black\" d=\"M95.2792,-144.055C97.6781,-136.059 100.596,-126.331 103.276,-117.4\"/>\n",
       "<polygon fill=\"black\" stroke=\"black\" points=\"106.638,-118.373 106.159,-107.789 99.933,-116.362 106.638,-118.373\"/>\n",
       "</g>\n",
       "<!-- 3 -->\n",
       "<g id=\"node4\" class=\"node\"><title>3</title>\n",
       "<ellipse fill=\"none\" stroke=\"black\" cx=\"186.196\" cy=\"-90\" rx=\"27\" ry=\"18\"/>\n",
       "<text text-anchor=\"middle\" x=\"186.196\" y=\"-85.8\" font-family=\"Times,serif\" font-size=\"14.00\">are</text>\n",
       "</g>\n",
       "<!-- 4 -->\n",
       "<g id=\"node5\" class=\"node\"><title>4</title>\n",
       "<ellipse fill=\"none\" stroke=\"black\" cx=\"258.196\" cy=\"-18\" rx=\"27\" ry=\"18\"/>\n",
       "<text text-anchor=\"middle\" x=\"258.196\" y=\"-13.8\" font-family=\"Times,serif\" font-size=\"14.00\">silly</text>\n",
       "</g>\n",
       "<!-- 5 -->\n",
       "<g id=\"node6\" class=\"node\"><title>5</title>\n",
       "<ellipse fill=\"none\" stroke=\"black\" cx=\"258.196\" cy=\"-90\" rx=\"27\" ry=\"18\"/>\n",
       "<text text-anchor=\"middle\" x=\"258.196\" y=\"-85.8\" font-family=\"Times,serif\" font-size=\"14.00\">ADJ</text>\n",
       "</g>\n",
       "<!-- 5&#45;&gt;4 -->\n",
       "<g id=\"edge3\" class=\"edge\"><title>5&#45;&gt;4</title>\n",
       "<path fill=\"none\" stroke=\"black\" d=\"M258.196,-71.6966C258.196,-63.9827 258.196,-54.7125 258.196,-46.1124\"/>\n",
       "<polygon fill=\"black\" stroke=\"black\" points=\"261.696,-46.1043 258.196,-36.1043 254.696,-46.1044 261.696,-46.1043\"/>\n",
       "</g>\n",
       "<!-- 6 -->\n",
       "<g id=\"node7\" class=\"node\"><title>6</title>\n",
       "<ellipse fill=\"none\" stroke=\"black\" cx=\"206.196\" cy=\"-162\" rx=\"30.0121\" ry=\"18\"/>\n",
       "<text text-anchor=\"middle\" x=\"206.196\" y=\"-157.8\" font-family=\"Times,serif\" font-size=\"14.00\">VP_p</text>\n",
       "</g>\n",
       "<!-- 6&#45;&gt;3 -->\n",
       "<g id=\"edge4\" class=\"edge\"><title>6&#45;&gt;3</title>\n",
       "<path fill=\"none\" stroke=\"black\" d=\"M201.354,-144.055C199.094,-136.145 196.35,-126.54 193.821,-117.688\"/>\n",
       "<polygon fill=\"black\" stroke=\"black\" points=\"197.105,-116.443 190.993,-107.789 190.374,-118.366 197.105,-116.443\"/>\n",
       "</g>\n",
       "<!-- 6&#45;&gt;5 -->\n",
       "<g id=\"edge5\" class=\"edge\"><title>6&#45;&gt;5</title>\n",
       "<path fill=\"none\" stroke=\"black\" d=\"M217.995,-145.116C224.737,-136.04 233.317,-124.49 240.818,-114.393\"/>\n",
       "<polygon fill=\"black\" stroke=\"black\" points=\"243.646,-116.455 246.8,-106.34 238.027,-112.28 243.646,-116.455\"/>\n",
       "</g>\n",
       "</g>\n",
       "</svg>\n",
       "</td><td>Reduce</td></tr></table>"
      ],
      "text/plain": [
       "<statnlpbook.parsing.render_transitions.<locals>.Output at 0x10f84f6a0>"
      ]
     },
     "execution_count": 16,
     "metadata": {},
     "output_type": "execute_result"
    }
   ],
   "source": [
    "parsing.render_transitions(transitions[-2:-1])"
   ]
  },
  {
   "cell_type": "markdown",
   "metadata": {
    "collapsed": false,
    "slideshow": {
     "slide_type": "subslide"
    }
   },
   "source": [
    "Fortunately we can **cache** these computations"
   ]
  },
  {
   "cell_type": "markdown",
   "metadata": {
    "collapsed": false,
    "slideshow": {
     "slide_type": "subslide"
    }
   },
   "source": [
    "### Chomsky Normal Form\n",
    "Algorithm for caching requires **Chomsky Normal Form**\n",
    "\n",
    "Rules have form:\n",
    "\n",
    "* \\\\(\\alpha \\rightarrow \\beta \\gamma\\\\) where \\\\(\\beta,\\gamma \\in N \\setminus \\\\{ S  \\\\} \\\\). \n",
    "    * rule with exactly two non-terminals on RHS\n",
    "* \\\\(\\alpha \\rightarrow t\\\\) where \\\\(t \\in \\Sigma\\\\)\n",
    "    * rule that expands to single \n",
    "   terminal"
   ]
  },
  {
   "cell_type": "markdown",
   "metadata": {
    "collapsed": false,
    "slideshow": {
     "slide_type": "subslide"
    }
   },
   "source": [
    "## Conversion to CNF\n",
    "We can convert every CFG into an equivalent CFG in CNF\n",
    "\n",
    "Replace left rules by right rules:  \n",
    "\n",
    "* $\\alpha \\rightarrow \\beta \\gamma \\delta \\Rightarrow \\alpha \\rightarrow \\beta\\alpha', \\alpha' \\rightarrow \\gamma \\delta$\n",
    "* $\\alpha \\rightarrow \\beta t \\Rightarrow \\alpha \\rightarrow \\beta \\alpha', \\alpha' \\rightarrow t$ where $t \\in \\Sigma$\n",
    "* $\\alpha \\rightarrow \\beta, \\beta \\rightarrow \\gamma \\delta \\Rightarrow \\alpha \\rightarrow \\gamma \\delta, \\beta \\rightarrow \\gamma \\delta$ \n"
   ]
  },
  {
   "cell_type": "markdown",
   "metadata": {
    "slideshow": {
     "slide_type": "subslide"
    }
   },
   "source": [
    "## Example\n",
    "\n",
    "$S \\rightarrow NP \\: VP \\: PP$ "
   ]
  },
  {
   "cell_type": "markdown",
   "metadata": {
    "slideshow": {
     "slide_type": "fragment"
    }
   },
   "source": [
    "becomes $S \\rightarrow S' \\: PP$ and $S' \\rightarrow NP \\: VP$"
   ]
  },
  {
   "cell_type": "markdown",
   "metadata": {
    "slideshow": {
     "slide_type": "subslide"
    }
   },
   "source": [
    "$VP \\rightarrow \\text{are} \\: ADJ$ "
   ]
  },
  {
   "cell_type": "markdown",
   "metadata": {
    "collapsed": false,
    "slideshow": {
     "slide_type": "fragment"
    }
   },
   "source": [
    "becomes $VP \\rightarrow X \\: ADJ$ and $X \\rightarrow \\text{are}$"
   ]
  },
  {
   "cell_type": "code",
   "execution_count": 35,
   "metadata": {
    "collapsed": false,
    "slideshow": {
     "slide_type": "subslide"
    }
   },
   "outputs": [
    {
     "data": {
      "text/html": [
       "<table style=\"display: inline-block;\"><tr><td>S</td><td>NP_p VP_p</td></tr><tr><td>S</td><td>NP_s VP_s</td></tr><tr><td>NP_p_0</td><td>Matko</td></tr><tr><td>NP_p_1</td><td>raps</td></tr><tr><td>NP_p</td><td>NP_p_0 NP_p_1</td></tr></table> <table style=\"display: inline-block;\"><tr><td>VP_p_2</td><td>are</td></tr><tr><td>VP_p</td><td>VP_p_2 ADJ</td></tr><tr><td>NP_s</td><td>Matko</td></tr><tr><td>VP_s_4</td><td>raps</td></tr><tr><td>VP_s</td><td>VP_s_4 VP_s_3</td></tr></table> <table style=\"display: inline-block;\"><tr><td>VP_s_3_5</td><td>in</td></tr><tr><td>VP_s_3_6</td><td>StatNLP</td></tr><tr><td>VP_s_3</td><td>VP_s_3_5 VP_s_3_6</td></tr><tr><td>ADJ</td><td>silly</td></tr></table>"
      ],
      "text/plain": [
       "<__main__.CFG at 0x10f439128>"
      ]
     },
     "execution_count": 35,
     "metadata": {},
     "output_type": "execute_result"
    }
   ],
   "source": [
    "cnf_cfg = to_cnf(cfg)\n",
    "cnf_cfg"
   ]
  },
  {
   "cell_type": "markdown",
   "metadata": {
    "slideshow": {
     "slide_type": "slide"
    }
   },
   "source": [
    "### Cocke–Younger–Kasami (CYK) Algorithm\n",
    "\n",
    "**Incrementally** build all parse trees for **spans of increasing length**"
   ]
  },
  {
   "cell_type": "markdown",
   "metadata": {
    "slideshow": {
     "slide_type": "subslide"
    }
   },
   "source": [
    "Like the one for \"are silly\" and \"Matko Raps\":"
   ]
  },
  {
   "cell_type": "code",
   "execution_count": 18,
   "metadata": {
    "collapsed": false
   },
   "outputs": [
    {
     "data": {
      "text/html": [
       "<table><tr><td></td><td><?xml version=\"1.0\" encoding=\"UTF-8\" standalone=\"no\"?>\n",
       "<!DOCTYPE svg PUBLIC \"-//W3C//DTD SVG 1.1//EN\"\n",
       " \"http://www.w3.org/Graphics/SVG/1.1/DTD/svg11.dtd\">\n",
       "<!-- Generated by graphviz version 2.38.0 (20140413.2041)\n",
       " -->\n",
       "<!-- Title: %3 Pages: 1 -->\n",
       "<svg width=\"293pt\" height=\"188pt\"\n",
       " viewBox=\"0.00 0.00 293.20 188.00\" xmlns=\"http://www.w3.org/2000/svg\" xmlns:xlink=\"http://www.w3.org/1999/xlink\">\n",
       "<g id=\"graph0\" class=\"graph\" transform=\"scale(1 1) rotate(0) translate(4 184)\">\n",
       "<title>%3</title>\n",
       "<polygon fill=\"white\" stroke=\"none\" points=\"-4,4 -4,-184 289.196,-184 289.196,4 -4,4\"/>\n",
       "<!-- 0 -->\n",
       "<g id=\"node1\" class=\"node\"><title>0</title>\n",
       "<ellipse fill=\"none\" stroke=\"black\" cx=\"33.1957\" cy=\"-90\" rx=\"33.3925\" ry=\"18\"/>\n",
       "<text text-anchor=\"middle\" x=\"33.1957\" y=\"-85.8\" font-family=\"Times,serif\" font-size=\"14.00\">Matko</text>\n",
       "</g>\n",
       "<!-- 1 -->\n",
       "<g id=\"node2\" class=\"node\"><title>1</title>\n",
       "<ellipse fill=\"none\" stroke=\"black\" cx=\"111.196\" cy=\"-90\" rx=\"27\" ry=\"18\"/>\n",
       "<text text-anchor=\"middle\" x=\"111.196\" y=\"-85.8\" font-family=\"Times,serif\" font-size=\"14.00\">raps</text>\n",
       "</g>\n",
       "<!-- 2 -->\n",
       "<g id=\"node3\" class=\"node\"><title>2</title>\n",
       "<ellipse fill=\"none\" stroke=\"black\" cx=\"90.1957\" cy=\"-162\" rx=\"30.0121\" ry=\"18\"/>\n",
       "<text text-anchor=\"middle\" x=\"90.1957\" y=\"-157.8\" font-family=\"Times,serif\" font-size=\"14.00\">NP_p</text>\n",
       "</g>\n",
       "<!-- 2&#45;&gt;0 -->\n",
       "<g id=\"edge1\" class=\"edge\"><title>2&#45;&gt;0</title>\n",
       "<path fill=\"none\" stroke=\"black\" d=\"M77.5455,-145.465C70.1957,-136.439 60.7837,-124.88 52.5227,-114.735\"/>\n",
       "<polygon fill=\"black\" stroke=\"black\" points=\"55.234,-112.522 46.2057,-106.977 49.8059,-116.942 55.234,-112.522\"/>\n",
       "</g>\n",
       "<!-- 2&#45;&gt;1 -->\n",
       "<g id=\"edge2\" class=\"edge\"><title>2&#45;&gt;1</title>\n",
       "<path fill=\"none\" stroke=\"black\" d=\"M95.2792,-144.055C97.6781,-136.059 100.596,-126.331 103.276,-117.4\"/>\n",
       "<polygon fill=\"black\" stroke=\"black\" points=\"106.638,-118.373 106.159,-107.789 99.933,-116.362 106.638,-118.373\"/>\n",
       "</g>\n",
       "<!-- 3 -->\n",
       "<g id=\"node4\" class=\"node\"><title>3</title>\n",
       "<ellipse fill=\"none\" stroke=\"black\" cx=\"186.196\" cy=\"-90\" rx=\"27\" ry=\"18\"/>\n",
       "<text text-anchor=\"middle\" x=\"186.196\" y=\"-85.8\" font-family=\"Times,serif\" font-size=\"14.00\">are</text>\n",
       "</g>\n",
       "<!-- 4 -->\n",
       "<g id=\"node5\" class=\"node\"><title>4</title>\n",
       "<ellipse fill=\"none\" stroke=\"black\" cx=\"258.196\" cy=\"-18\" rx=\"27\" ry=\"18\"/>\n",
       "<text text-anchor=\"middle\" x=\"258.196\" y=\"-13.8\" font-family=\"Times,serif\" font-size=\"14.00\">silly</text>\n",
       "</g>\n",
       "<!-- 5 -->\n",
       "<g id=\"node6\" class=\"node\"><title>5</title>\n",
       "<ellipse fill=\"none\" stroke=\"black\" cx=\"258.196\" cy=\"-90\" rx=\"27\" ry=\"18\"/>\n",
       "<text text-anchor=\"middle\" x=\"258.196\" y=\"-85.8\" font-family=\"Times,serif\" font-size=\"14.00\">ADJ</text>\n",
       "</g>\n",
       "<!-- 5&#45;&gt;4 -->\n",
       "<g id=\"edge3\" class=\"edge\"><title>5&#45;&gt;4</title>\n",
       "<path fill=\"none\" stroke=\"black\" d=\"M258.196,-71.6966C258.196,-63.9827 258.196,-54.7125 258.196,-46.1124\"/>\n",
       "<polygon fill=\"black\" stroke=\"black\" points=\"261.696,-46.1043 258.196,-36.1043 254.696,-46.1044 261.696,-46.1043\"/>\n",
       "</g>\n",
       "<!-- 6 -->\n",
       "<g id=\"node7\" class=\"node\"><title>6</title>\n",
       "<ellipse fill=\"none\" stroke=\"black\" cx=\"206.196\" cy=\"-162\" rx=\"30.0121\" ry=\"18\"/>\n",
       "<text text-anchor=\"middle\" x=\"206.196\" y=\"-157.8\" font-family=\"Times,serif\" font-size=\"14.00\">VP_p</text>\n",
       "</g>\n",
       "<!-- 6&#45;&gt;3 -->\n",
       "<g id=\"edge4\" class=\"edge\"><title>6&#45;&gt;3</title>\n",
       "<path fill=\"none\" stroke=\"black\" d=\"M201.354,-144.055C199.094,-136.145 196.35,-126.54 193.821,-117.688\"/>\n",
       "<polygon fill=\"black\" stroke=\"black\" points=\"197.105,-116.443 190.993,-107.789 190.374,-118.366 197.105,-116.443\"/>\n",
       "</g>\n",
       "<!-- 6&#45;&gt;5 -->\n",
       "<g id=\"edge5\" class=\"edge\"><title>6&#45;&gt;5</title>\n",
       "<path fill=\"none\" stroke=\"black\" d=\"M217.995,-145.116C224.737,-136.04 233.317,-124.49 240.818,-114.393\"/>\n",
       "<polygon fill=\"black\" stroke=\"black\" points=\"243.646,-116.455 246.8,-106.34 238.027,-112.28 243.646,-116.455\"/>\n",
       "</g>\n",
       "</g>\n",
       "</svg>\n",
       "</td><td>Reduce</td></tr></table>"
      ],
      "text/plain": [
       "<statnlpbook.parsing.render_transitions.<locals>.Output at 0x10f84f198>"
      ]
     },
     "execution_count": 18,
     "metadata": {},
     "output_type": "execute_result"
    }
   ],
   "source": [
    "parsing.render_transitions(transitions[16:17]) "
   ]
  },
  {
   "cell_type": "markdown",
   "metadata": {
    "slideshow": {
     "slide_type": "subslide"
    }
   },
   "source": [
    "Requires a **chart** to store \n",
    "* legal non-terminals per span \n",
    "* and back-pointers to child spans"
   ]
  },
  {
   "cell_type": "code",
   "execution_count": 19,
   "metadata": {
    "collapsed": false,
    "hideCode": true,
    "hidePrompt": true,
    "slideshow": {
     "slide_type": "-"
    }
   },
   "outputs": [
    {
     "data": {
      "text/html": [
       "<table><tr><td></td><td>0: Matko</td><td>1: raps</td><td>2: are</td><td>3: silly</td></tr>\n",
       "<tr><td>0: Matko</td><td style=\"border:solid;\" bgcolor=\"white\"><font color=\"black\">NP_s</font>, <font color=\"red\">NP_p_0</font></td><td style=\"border:solid;\" bgcolor=\"#C3C3C3\"><font color=\"blue\">NP_p_2</font></td><td style=\"border:solid;\" bgcolor=\"white\"></td><td style=\"border:solid;\" bgcolor=\"white\"></td></tr>\n",
       "<tr><td>1: raps</td><td style=\"border:none;\" bgcolor=\"white\"></td><td style=\"border:solid;\" bgcolor=\"white\"><font color=\"black\">VP_s_6</font>, <font color=\"red\">NP_p_1</font></td><td style=\"border:solid;\" bgcolor=\"white\"></td><td style=\"border:solid;\" bgcolor=\"white\"></td></tr>\n",
       "<tr><td>2: are</td><td style=\"border:none;\" bgcolor=\"white\"></td><td style=\"border:none;\" bgcolor=\"white\"></td><td style=\"border:solid;\" bgcolor=\"white\"></td><td style=\"border:solid;\" bgcolor=\"white\"></td></tr>\n",
       "<tr><td>3: silly</td><td style=\"border:none;\" bgcolor=\"white\"></td><td style=\"border:none;\" bgcolor=\"white\"></td><td style=\"border:none;\" bgcolor=\"white\"></td><td style=\"border:solid;\" bgcolor=\"white\"></td></tr></table>"
      ],
      "text/plain": [
       "<statnlpbook.parsing.Chart at 0x10f84f0f0>"
      ]
     },
     "execution_count": 19,
     "metadata": {},
     "output_type": "execute_result"
    }
   ],
   "source": [
    "chart = parsing.Chart(sentence)\n",
    "chart.append_label(0,0,'NP_s')\n",
    "chart.append_label(0,0,'NP_p_0')\n",
    "chart.append_label(1,1,'VP_s_6')\n",
    "chart.append_label(1,1,'NP_p_1')\n",
    "chart.append_label(0,1,'NP_p_2', [(0,0,'NP_p_0'),(1,1,'NP_p_1')]) \n",
    "chart.mark(0, 1, 'NP_p_2')\n",
    "chart.mark_target(0,1)\n",
    "chart"
   ]
  },
  {
   "cell_type": "markdown",
   "metadata": {
    "slideshow": {
     "slide_type": "subslide"
    }
   },
   "source": [
    "### CYK Algorithm\n",
    "Populate trees with non-terminal $l$ for span $(i,j)$ \n",
    "\n",
    "if $j=i$\n",
    "* Check if $l \\rightarrow x_i \\in R$ "
   ]
  },
  {
   "cell_type": "markdown",
   "metadata": {
    "collapsed": false,
    "slideshow": {
     "slide_type": "fragment"
    }
   },
   "source": [
    "if $j>i$\n",
    "* Consider all *middle* indices $m$   \n",
    "* **combine trees** of span $(i,m)$ and $(m+1,j)$ with labels $l_1$ and $l_2$\n",
    "* if there is a rule $l \\rightarrow l_1 \\: l_2 \\in R$"
   ]
  },
  {
   "cell_type": "code",
   "execution_count": 20,
   "metadata": {
    "collapsed": false,
    "hideCode": true,
    "hidePrompt": true,
    "slideshow": {
     "slide_type": "subslide"
    }
   },
   "outputs": [
    {
     "data": {
      "text/html": [
       "<table style=\"display: inline-block;\"><tr><td>S</td><td>NP_p VP_p</td></tr><tr><td>S</td><td>NP_s VP_s</td></tr><tr><td>NP_p_0</td><td>Matko</td></tr><tr><td>NP_p_1</td><td>raps</td></tr><tr><td>NP_p</td><td>NP_p_0 NP_p_1</td></tr></table> <table style=\"display: inline-block;\"><tr><td>VP_p_2</td><td>are</td></tr><tr><td>VP_p</td><td>VP_p_2 ADJ</td></tr><tr><td>NP_s</td><td>Matko</td></tr><tr><td>VP_s_4</td><td>raps</td></tr><tr><td>VP_s</td><td>VP_s_4 VP_s_3</td></tr></table> <table style=\"display: inline-block;\"><tr><td>VP_s_3_5</td><td>in</td></tr><tr><td>VP_s_3_6</td><td>StatNLP</td></tr><tr><td>VP_s_3</td><td>VP_s_3_5 VP_s_3_6</td></tr><tr><td>ADJ</td><td>silly</td></tr></table>"
      ],
      "text/plain": [
       "<__main__.CFG at 0x10f84f4a8>"
      ]
     },
     "execution_count": 20,
     "metadata": {},
     "output_type": "execute_result"
    }
   ],
   "source": [
    "cnf_cfg"
   ]
  },
  {
   "cell_type": "code",
   "execution_count": 21,
   "metadata": {
    "collapsed": false,
    "hideCode": true,
    "hidePrompt": true,
    "slideshow": {
     "slide_type": "-"
    }
   },
   "outputs": [
    {
     "data": {
      "text/html": [
       "\n",
       "        <div id=\"8bda8310-9f3f-11e6-a64c-a0999b02cfbb\" class=\"carousel\" data-ride=\"carousel\" data-interval=\"false\">\n",
       "          <!-- Controls -->\n",
       "          <a href=\"#8bda8310-9f3f-11e6-a64c-a0999b02cfbb\" role=\"button\" data-slide=\"prev\">Previous</a>\n",
       "          &nbsp\n",
       "          <a  href=\"#8bda8310-9f3f-11e6-a64c-a0999b02cfbb\" role=\"button\" data-slide=\"next\">Next</a>\n",
       "          <div class=\"carousel-inner\" role=\"listbox\">\n",
       "          <div class=\"item active\"><table><tr><td></td><td>0: Matko</td><td>1: raps</td><td>2: are</td><td>3: silly</td></tr>\n",
       "<tr><td>0: Matko</td><td style=\"border:solid;\" bgcolor=\"white\"></td><td style=\"border:solid;\" bgcolor=\"white\"></td><td style=\"border:solid;\" bgcolor=\"white\"></td><td style=\"border:solid;\" bgcolor=\"white\"></td></tr>\n",
       "<tr><td>1: raps</td><td style=\"border:none;\" bgcolor=\"white\"></td><td style=\"border:solid;\" bgcolor=\"white\"></td><td style=\"border:solid;\" bgcolor=\"white\"></td><td style=\"border:solid;\" bgcolor=\"white\"></td></tr>\n",
       "<tr><td>2: are</td><td style=\"border:none;\" bgcolor=\"white\"></td><td style=\"border:none;\" bgcolor=\"white\"></td><td style=\"border:solid;\" bgcolor=\"white\"></td><td style=\"border:solid;\" bgcolor=\"white\"></td></tr>\n",
       "<tr><td>3: silly</td><td style=\"border:none;\" bgcolor=\"white\"></td><td style=\"border:none;\" bgcolor=\"white\"></td><td style=\"border:none;\" bgcolor=\"white\"></td><td style=\"border:solid;\" bgcolor=\"white\"></td></tr></table> 1 / 36</div>\n",
       "<div class=\"item\"><table><tr><td></td><td>0: Matko</td><td>1: raps</td><td>2: are</td><td>3: silly</td></tr>\n",
       "<tr><td>0: Matko</td><td style=\"border:solid;\" bgcolor=\"#C3C3C3\"></td><td style=\"border:solid;\" bgcolor=\"white\"></td><td style=\"border:solid;\" bgcolor=\"white\"></td><td style=\"border:solid;\" bgcolor=\"white\"></td></tr>\n",
       "<tr><td>1: raps</td><td style=\"border:none;\" bgcolor=\"white\"></td><td style=\"border:solid;\" bgcolor=\"white\"></td><td style=\"border:solid;\" bgcolor=\"white\"></td><td style=\"border:solid;\" bgcolor=\"white\"></td></tr>\n",
       "<tr><td>2: are</td><td style=\"border:none;\" bgcolor=\"white\"></td><td style=\"border:none;\" bgcolor=\"white\"></td><td style=\"border:solid;\" bgcolor=\"white\"></td><td style=\"border:solid;\" bgcolor=\"white\"></td></tr>\n",
       "<tr><td>3: silly</td><td style=\"border:none;\" bgcolor=\"white\"></td><td style=\"border:none;\" bgcolor=\"white\"></td><td style=\"border:none;\" bgcolor=\"white\"></td><td style=\"border:solid;\" bgcolor=\"white\"></td></tr></table> 2 / 36</div>\n",
       "<div class=\"item\"><table><tr><td></td><td>0: Matko</td><td>1: raps</td><td>2: are</td><td>3: silly</td></tr>\n",
       "<tr><td>0: Matko</td><td style=\"border:solid;\" bgcolor=\"#C3C3C3\"><font color=\"blue\">NP_p_0</font></td><td style=\"border:solid;\" bgcolor=\"white\"></td><td style=\"border:solid;\" bgcolor=\"white\"></td><td style=\"border:solid;\" bgcolor=\"white\"></td></tr>\n",
       "<tr><td>1: raps</td><td style=\"border:none;\" bgcolor=\"white\"></td><td style=\"border:solid;\" bgcolor=\"white\"></td><td style=\"border:solid;\" bgcolor=\"white\"></td><td style=\"border:solid;\" bgcolor=\"white\"></td></tr>\n",
       "<tr><td>2: are</td><td style=\"border:none;\" bgcolor=\"white\"></td><td style=\"border:none;\" bgcolor=\"white\"></td><td style=\"border:solid;\" bgcolor=\"white\"></td><td style=\"border:solid;\" bgcolor=\"white\"></td></tr>\n",
       "<tr><td>3: silly</td><td style=\"border:none;\" bgcolor=\"white\"></td><td style=\"border:none;\" bgcolor=\"white\"></td><td style=\"border:none;\" bgcolor=\"white\"></td><td style=\"border:solid;\" bgcolor=\"white\"></td></tr></table> 3 / 36</div>\n",
       "<div class=\"item\"><table><tr><td></td><td>0: Matko</td><td>1: raps</td><td>2: are</td><td>3: silly</td></tr>\n",
       "<tr><td>0: Matko</td><td style=\"border:solid;\" bgcolor=\"#C3C3C3\"><font color=\"black\">NP_p_0</font>, <font color=\"blue\">NP_s</font></td><td style=\"border:solid;\" bgcolor=\"white\"></td><td style=\"border:solid;\" bgcolor=\"white\"></td><td style=\"border:solid;\" bgcolor=\"white\"></td></tr>\n",
       "<tr><td>1: raps</td><td style=\"border:none;\" bgcolor=\"white\"></td><td style=\"border:solid;\" bgcolor=\"white\"></td><td style=\"border:solid;\" bgcolor=\"white\"></td><td style=\"border:solid;\" bgcolor=\"white\"></td></tr>\n",
       "<tr><td>2: are</td><td style=\"border:none;\" bgcolor=\"white\"></td><td style=\"border:none;\" bgcolor=\"white\"></td><td style=\"border:solid;\" bgcolor=\"white\"></td><td style=\"border:solid;\" bgcolor=\"white\"></td></tr>\n",
       "<tr><td>3: silly</td><td style=\"border:none;\" bgcolor=\"white\"></td><td style=\"border:none;\" bgcolor=\"white\"></td><td style=\"border:none;\" bgcolor=\"white\"></td><td style=\"border:solid;\" bgcolor=\"white\"></td></tr></table> 4 / 36</div>\n",
       "<div class=\"item\"><table><tr><td></td><td>0: Matko</td><td>1: raps</td><td>2: are</td><td>3: silly</td></tr>\n",
       "<tr><td>0: Matko</td><td style=\"border:solid;\" bgcolor=\"white\"><font color=\"black\">NP_p_0</font>, <font color=\"blue\">NP_s</font></td><td style=\"border:solid;\" bgcolor=\"white\"></td><td style=\"border:solid;\" bgcolor=\"white\"></td><td style=\"border:solid;\" bgcolor=\"white\"></td></tr>\n",
       "<tr><td>1: raps</td><td style=\"border:none;\" bgcolor=\"white\"></td><td style=\"border:solid;\" bgcolor=\"#C3C3C3\"></td><td style=\"border:solid;\" bgcolor=\"white\"></td><td style=\"border:solid;\" bgcolor=\"white\"></td></tr>\n",
       "<tr><td>2: are</td><td style=\"border:none;\" bgcolor=\"white\"></td><td style=\"border:none;\" bgcolor=\"white\"></td><td style=\"border:solid;\" bgcolor=\"white\"></td><td style=\"border:solid;\" bgcolor=\"white\"></td></tr>\n",
       "<tr><td>3: silly</td><td style=\"border:none;\" bgcolor=\"white\"></td><td style=\"border:none;\" bgcolor=\"white\"></td><td style=\"border:none;\" bgcolor=\"white\"></td><td style=\"border:solid;\" bgcolor=\"white\"></td></tr></table> 5 / 36</div>\n",
       "<div class=\"item\"><table><tr><td></td><td>0: Matko</td><td>1: raps</td><td>2: are</td><td>3: silly</td></tr>\n",
       "<tr><td>0: Matko</td><td style=\"border:solid;\" bgcolor=\"white\"><font color=\"black\">NP_p_0</font>, <font color=\"black\">NP_s</font></td><td style=\"border:solid;\" bgcolor=\"white\"></td><td style=\"border:solid;\" bgcolor=\"white\"></td><td style=\"border:solid;\" bgcolor=\"white\"></td></tr>\n",
       "<tr><td>1: raps</td><td style=\"border:none;\" bgcolor=\"white\"></td><td style=\"border:solid;\" bgcolor=\"#C3C3C3\"><font color=\"blue\">NP_p_1</font></td><td style=\"border:solid;\" bgcolor=\"white\"></td><td style=\"border:solid;\" bgcolor=\"white\"></td></tr>\n",
       "<tr><td>2: are</td><td style=\"border:none;\" bgcolor=\"white\"></td><td style=\"border:none;\" bgcolor=\"white\"></td><td style=\"border:solid;\" bgcolor=\"white\"></td><td style=\"border:solid;\" bgcolor=\"white\"></td></tr>\n",
       "<tr><td>3: silly</td><td style=\"border:none;\" bgcolor=\"white\"></td><td style=\"border:none;\" bgcolor=\"white\"></td><td style=\"border:none;\" bgcolor=\"white\"></td><td style=\"border:solid;\" bgcolor=\"white\"></td></tr></table> 6 / 36</div>\n",
       "<div class=\"item\"><table><tr><td></td><td>0: Matko</td><td>1: raps</td><td>2: are</td><td>3: silly</td></tr>\n",
       "<tr><td>0: Matko</td><td style=\"border:solid;\" bgcolor=\"white\"><font color=\"black\">NP_p_0</font>, <font color=\"black\">NP_s</font></td><td style=\"border:solid;\" bgcolor=\"white\"></td><td style=\"border:solid;\" bgcolor=\"white\"></td><td style=\"border:solid;\" bgcolor=\"white\"></td></tr>\n",
       "<tr><td>1: raps</td><td style=\"border:none;\" bgcolor=\"white\"></td><td style=\"border:solid;\" bgcolor=\"#C3C3C3\"><font color=\"black\">NP_p_1</font>, <font color=\"blue\">VP_s_4</font></td><td style=\"border:solid;\" bgcolor=\"white\"></td><td style=\"border:solid;\" bgcolor=\"white\"></td></tr>\n",
       "<tr><td>2: are</td><td style=\"border:none;\" bgcolor=\"white\"></td><td style=\"border:none;\" bgcolor=\"white\"></td><td style=\"border:solid;\" bgcolor=\"white\"></td><td style=\"border:solid;\" bgcolor=\"white\"></td></tr>\n",
       "<tr><td>3: silly</td><td style=\"border:none;\" bgcolor=\"white\"></td><td style=\"border:none;\" bgcolor=\"white\"></td><td style=\"border:none;\" bgcolor=\"white\"></td><td style=\"border:solid;\" bgcolor=\"white\"></td></tr></table> 7 / 36</div>\n",
       "<div class=\"item\"><table><tr><td></td><td>0: Matko</td><td>1: raps</td><td>2: are</td><td>3: silly</td></tr>\n",
       "<tr><td>0: Matko</td><td style=\"border:solid;\" bgcolor=\"white\"><font color=\"black\">NP_p_0</font>, <font color=\"black\">NP_s</font></td><td style=\"border:solid;\" bgcolor=\"white\"></td><td style=\"border:solid;\" bgcolor=\"white\"></td><td style=\"border:solid;\" bgcolor=\"white\"></td></tr>\n",
       "<tr><td>1: raps</td><td style=\"border:none;\" bgcolor=\"white\"></td><td style=\"border:solid;\" bgcolor=\"white\"><font color=\"black\">NP_p_1</font>, <font color=\"blue\">VP_s_4</font></td><td style=\"border:solid;\" bgcolor=\"white\"></td><td style=\"border:solid;\" bgcolor=\"white\"></td></tr>\n",
       "<tr><td>2: are</td><td style=\"border:none;\" bgcolor=\"white\"></td><td style=\"border:none;\" bgcolor=\"white\"></td><td style=\"border:solid;\" bgcolor=\"#C3C3C3\"></td><td style=\"border:solid;\" bgcolor=\"white\"></td></tr>\n",
       "<tr><td>3: silly</td><td style=\"border:none;\" bgcolor=\"white\"></td><td style=\"border:none;\" bgcolor=\"white\"></td><td style=\"border:none;\" bgcolor=\"white\"></td><td style=\"border:solid;\" bgcolor=\"white\"></td></tr></table> 8 / 36</div>\n",
       "<div class=\"item\"><table><tr><td></td><td>0: Matko</td><td>1: raps</td><td>2: are</td><td>3: silly</td></tr>\n",
       "<tr><td>0: Matko</td><td style=\"border:solid;\" bgcolor=\"white\"><font color=\"black\">NP_p_0</font>, <font color=\"black\">NP_s</font></td><td style=\"border:solid;\" bgcolor=\"white\"></td><td style=\"border:solid;\" bgcolor=\"white\"></td><td style=\"border:solid;\" bgcolor=\"white\"></td></tr>\n",
       "<tr><td>1: raps</td><td style=\"border:none;\" bgcolor=\"white\"></td><td style=\"border:solid;\" bgcolor=\"white\"><font color=\"black\">NP_p_1</font>, <font color=\"black\">VP_s_4</font></td><td style=\"border:solid;\" bgcolor=\"white\"></td><td style=\"border:solid;\" bgcolor=\"white\"></td></tr>\n",
       "<tr><td>2: are</td><td style=\"border:none;\" bgcolor=\"white\"></td><td style=\"border:none;\" bgcolor=\"white\"></td><td style=\"border:solid;\" bgcolor=\"#C3C3C3\"><font color=\"blue\">VP_p_2</font></td><td style=\"border:solid;\" bgcolor=\"white\"></td></tr>\n",
       "<tr><td>3: silly</td><td style=\"border:none;\" bgcolor=\"white\"></td><td style=\"border:none;\" bgcolor=\"white\"></td><td style=\"border:none;\" bgcolor=\"white\"></td><td style=\"border:solid;\" bgcolor=\"white\"></td></tr></table> 9 / 36</div>\n",
       "<div class=\"item\"><table><tr><td></td><td>0: Matko</td><td>1: raps</td><td>2: are</td><td>3: silly</td></tr>\n",
       "<tr><td>0: Matko</td><td style=\"border:solid;\" bgcolor=\"white\"><font color=\"black\">NP_p_0</font>, <font color=\"black\">NP_s</font></td><td style=\"border:solid;\" bgcolor=\"white\"></td><td style=\"border:solid;\" bgcolor=\"white\"></td><td style=\"border:solid;\" bgcolor=\"white\"></td></tr>\n",
       "<tr><td>1: raps</td><td style=\"border:none;\" bgcolor=\"white\"></td><td style=\"border:solid;\" bgcolor=\"white\"><font color=\"black\">NP_p_1</font>, <font color=\"black\">VP_s_4</font></td><td style=\"border:solid;\" bgcolor=\"white\"></td><td style=\"border:solid;\" bgcolor=\"white\"></td></tr>\n",
       "<tr><td>2: are</td><td style=\"border:none;\" bgcolor=\"white\"></td><td style=\"border:none;\" bgcolor=\"white\"></td><td style=\"border:solid;\" bgcolor=\"white\"><font color=\"blue\">VP_p_2</font></td><td style=\"border:solid;\" bgcolor=\"white\"></td></tr>\n",
       "<tr><td>3: silly</td><td style=\"border:none;\" bgcolor=\"white\"></td><td style=\"border:none;\" bgcolor=\"white\"></td><td style=\"border:none;\" bgcolor=\"white\"></td><td style=\"border:solid;\" bgcolor=\"#C3C3C3\"></td></tr></table> 10 / 36</div>\n",
       "<div class=\"item\"><table><tr><td></td><td>0: Matko</td><td>1: raps</td><td>2: are</td><td>3: silly</td></tr>\n",
       "<tr><td>0: Matko</td><td style=\"border:solid;\" bgcolor=\"white\"><font color=\"black\">NP_p_0</font>, <font color=\"black\">NP_s</font></td><td style=\"border:solid;\" bgcolor=\"white\"></td><td style=\"border:solid;\" bgcolor=\"white\"></td><td style=\"border:solid;\" bgcolor=\"white\"></td></tr>\n",
       "<tr><td>1: raps</td><td style=\"border:none;\" bgcolor=\"white\"></td><td style=\"border:solid;\" bgcolor=\"white\"><font color=\"black\">NP_p_1</font>, <font color=\"black\">VP_s_4</font></td><td style=\"border:solid;\" bgcolor=\"white\"></td><td style=\"border:solid;\" bgcolor=\"white\"></td></tr>\n",
       "<tr><td>2: are</td><td style=\"border:none;\" bgcolor=\"white\"></td><td style=\"border:none;\" bgcolor=\"white\"></td><td style=\"border:solid;\" bgcolor=\"white\"><font color=\"black\">VP_p_2</font></td><td style=\"border:solid;\" bgcolor=\"white\"></td></tr>\n",
       "<tr><td>3: silly</td><td style=\"border:none;\" bgcolor=\"white\"></td><td style=\"border:none;\" bgcolor=\"white\"></td><td style=\"border:none;\" bgcolor=\"white\"></td><td style=\"border:solid;\" bgcolor=\"#C3C3C3\"><font color=\"blue\">ADJ</font></td></tr></table> 11 / 36</div>\n",
       "<div class=\"item\"><table><tr><td></td><td>0: Matko</td><td>1: raps</td><td>2: are</td><td>3: silly</td></tr>\n",
       "<tr><td>0: Matko</td><td style=\"border:solid;\" bgcolor=\"#E1E1E1\"><font color=\"black\">NP_p_0</font>, <font color=\"black\">NP_s</font></td><td style=\"border:solid;\" bgcolor=\"#C3C3C3\"></td><td style=\"border:solid;\" bgcolor=\"white\"></td><td style=\"border:solid;\" bgcolor=\"white\"></td></tr>\n",
       "<tr><td>1: raps</td><td style=\"border:none;\" bgcolor=\"white\"></td><td style=\"border:solid;\" bgcolor=\"#E1E1E1\"><font color=\"black\">NP_p_1</font>, <font color=\"black\">VP_s_4</font></td><td style=\"border:solid;\" bgcolor=\"white\"></td><td style=\"border:solid;\" bgcolor=\"white\"></td></tr>\n",
       "<tr><td>2: are</td><td style=\"border:none;\" bgcolor=\"white\"></td><td style=\"border:none;\" bgcolor=\"white\"></td><td style=\"border:solid;\" bgcolor=\"white\"><font color=\"black\">VP_p_2</font></td><td style=\"border:solid;\" bgcolor=\"white\"></td></tr>\n",
       "<tr><td>3: silly</td><td style=\"border:none;\" bgcolor=\"white\"></td><td style=\"border:none;\" bgcolor=\"white\"></td><td style=\"border:none;\" bgcolor=\"white\"></td><td style=\"border:solid;\" bgcolor=\"white\"><font color=\"black\">ADJ</font></td></tr></table> 12 / 36</div>\n",
       "<div class=\"item\"><table><tr><td></td><td>0: Matko</td><td>1: raps</td><td>2: are</td><td>3: silly</td></tr>\n",
       "<tr><td>0: Matko</td><td style=\"border:solid;\" bgcolor=\"#E1E1E1\"><font color=\"red\">NP_p_0</font>, <font color=\"black\">NP_s</font></td><td style=\"border:solid;\" bgcolor=\"#C3C3C3\"></td><td style=\"border:solid;\" bgcolor=\"white\"></td><td style=\"border:solid;\" bgcolor=\"white\"></td></tr>\n",
       "<tr><td>1: raps</td><td style=\"border:none;\" bgcolor=\"white\"></td><td style=\"border:solid;\" bgcolor=\"#E1E1E1\"><font color=\"red\">NP_p_1</font>, <font color=\"black\">VP_s_4</font></td><td style=\"border:solid;\" bgcolor=\"white\"></td><td style=\"border:solid;\" bgcolor=\"white\"></td></tr>\n",
       "<tr><td>2: are</td><td style=\"border:none;\" bgcolor=\"white\"></td><td style=\"border:none;\" bgcolor=\"white\"></td><td style=\"border:solid;\" bgcolor=\"white\"><font color=\"black\">VP_p_2</font></td><td style=\"border:solid;\" bgcolor=\"white\"></td></tr>\n",
       "<tr><td>3: silly</td><td style=\"border:none;\" bgcolor=\"white\"></td><td style=\"border:none;\" bgcolor=\"white\"></td><td style=\"border:none;\" bgcolor=\"white\"></td><td style=\"border:solid;\" bgcolor=\"white\"><font color=\"black\">ADJ</font></td></tr></table> 13 / 36</div>\n",
       "<div class=\"item\"><table><tr><td></td><td>0: Matko</td><td>1: raps</td><td>2: are</td><td>3: silly</td></tr>\n",
       "<tr><td>0: Matko</td><td style=\"border:solid;\" bgcolor=\"#E1E1E1\"><font color=\"red\">NP_p_0</font>, <font color=\"black\">NP_s</font></td><td style=\"border:solid;\" bgcolor=\"#C3C3C3\"><font color=\"blue\">NP_p</font></td><td style=\"border:solid;\" bgcolor=\"white\"></td><td style=\"border:solid;\" bgcolor=\"white\"></td></tr>\n",
       "<tr><td>1: raps</td><td style=\"border:none;\" bgcolor=\"white\"></td><td style=\"border:solid;\" bgcolor=\"#E1E1E1\"><font color=\"red\">NP_p_1</font>, <font color=\"black\">VP_s_4</font></td><td style=\"border:solid;\" bgcolor=\"white\"></td><td style=\"border:solid;\" bgcolor=\"white\"></td></tr>\n",
       "<tr><td>2: are</td><td style=\"border:none;\" bgcolor=\"white\"></td><td style=\"border:none;\" bgcolor=\"white\"></td><td style=\"border:solid;\" bgcolor=\"white\"><font color=\"black\">VP_p_2</font></td><td style=\"border:solid;\" bgcolor=\"white\"></td></tr>\n",
       "<tr><td>3: silly</td><td style=\"border:none;\" bgcolor=\"white\"></td><td style=\"border:none;\" bgcolor=\"white\"></td><td style=\"border:none;\" bgcolor=\"white\"></td><td style=\"border:solid;\" bgcolor=\"white\"><font color=\"black\">ADJ</font></td></tr></table> 14 / 36</div>\n",
       "<div class=\"item\"><table><tr><td></td><td>0: Matko</td><td>1: raps</td><td>2: are</td><td>3: silly</td></tr>\n",
       "<tr><td>0: Matko</td><td style=\"border:solid;\" bgcolor=\"#E1E1E1\"><font color=\"red\">NP_p_0</font>, <font color=\"black\">NP_s</font></td><td style=\"border:solid;\" bgcolor=\"#C3C3C3\"><font color=\"black\">NP_p</font></td><td style=\"border:solid;\" bgcolor=\"white\"></td><td style=\"border:solid;\" bgcolor=\"white\"></td></tr>\n",
       "<tr><td>1: raps</td><td style=\"border:none;\" bgcolor=\"white\"></td><td style=\"border:solid;\" bgcolor=\"#E1E1E1\"><font color=\"black\">NP_p_1</font>, <font color=\"red\">VP_s_4</font></td><td style=\"border:solid;\" bgcolor=\"white\"></td><td style=\"border:solid;\" bgcolor=\"white\"></td></tr>\n",
       "<tr><td>2: are</td><td style=\"border:none;\" bgcolor=\"white\"></td><td style=\"border:none;\" bgcolor=\"white\"></td><td style=\"border:solid;\" bgcolor=\"white\"><font color=\"black\">VP_p_2</font></td><td style=\"border:solid;\" bgcolor=\"white\"></td></tr>\n",
       "<tr><td>3: silly</td><td style=\"border:none;\" bgcolor=\"white\"></td><td style=\"border:none;\" bgcolor=\"white\"></td><td style=\"border:none;\" bgcolor=\"white\"></td><td style=\"border:solid;\" bgcolor=\"white\"><font color=\"black\">ADJ</font></td></tr></table> 15 / 36</div>\n",
       "<div class=\"item\"><table><tr><td></td><td>0: Matko</td><td>1: raps</td><td>2: are</td><td>3: silly</td></tr>\n",
       "<tr><td>0: Matko</td><td style=\"border:solid;\" bgcolor=\"#E1E1E1\"><font color=\"black\">NP_p_0</font>, <font color=\"red\">NP_s</font></td><td style=\"border:solid;\" bgcolor=\"#C3C3C3\"><font color=\"black\">NP_p</font></td><td style=\"border:solid;\" bgcolor=\"white\"></td><td style=\"border:solid;\" bgcolor=\"white\"></td></tr>\n",
       "<tr><td>1: raps</td><td style=\"border:none;\" bgcolor=\"white\"></td><td style=\"border:solid;\" bgcolor=\"#E1E1E1\"><font color=\"red\">NP_p_1</font>, <font color=\"black\">VP_s_4</font></td><td style=\"border:solid;\" bgcolor=\"white\"></td><td style=\"border:solid;\" bgcolor=\"white\"></td></tr>\n",
       "<tr><td>2: are</td><td style=\"border:none;\" bgcolor=\"white\"></td><td style=\"border:none;\" bgcolor=\"white\"></td><td style=\"border:solid;\" bgcolor=\"white\"><font color=\"black\">VP_p_2</font></td><td style=\"border:solid;\" bgcolor=\"white\"></td></tr>\n",
       "<tr><td>3: silly</td><td style=\"border:none;\" bgcolor=\"white\"></td><td style=\"border:none;\" bgcolor=\"white\"></td><td style=\"border:none;\" bgcolor=\"white\"></td><td style=\"border:solid;\" bgcolor=\"white\"><font color=\"black\">ADJ</font></td></tr></table> 16 / 36</div>\n",
       "<div class=\"item\"><table><tr><td></td><td>0: Matko</td><td>1: raps</td><td>2: are</td><td>3: silly</td></tr>\n",
       "<tr><td>0: Matko</td><td style=\"border:solid;\" bgcolor=\"#E1E1E1\"><font color=\"black\">NP_p_0</font>, <font color=\"red\">NP_s</font></td><td style=\"border:solid;\" bgcolor=\"#C3C3C3\"><font color=\"black\">NP_p</font></td><td style=\"border:solid;\" bgcolor=\"white\"></td><td style=\"border:solid;\" bgcolor=\"white\"></td></tr>\n",
       "<tr><td>1: raps</td><td style=\"border:none;\" bgcolor=\"white\"></td><td style=\"border:solid;\" bgcolor=\"#E1E1E1\"><font color=\"black\">NP_p_1</font>, <font color=\"red\">VP_s_4</font></td><td style=\"border:solid;\" bgcolor=\"white\"></td><td style=\"border:solid;\" bgcolor=\"white\"></td></tr>\n",
       "<tr><td>2: are</td><td style=\"border:none;\" bgcolor=\"white\"></td><td style=\"border:none;\" bgcolor=\"white\"></td><td style=\"border:solid;\" bgcolor=\"white\"><font color=\"black\">VP_p_2</font></td><td style=\"border:solid;\" bgcolor=\"white\"></td></tr>\n",
       "<tr><td>3: silly</td><td style=\"border:none;\" bgcolor=\"white\"></td><td style=\"border:none;\" bgcolor=\"white\"></td><td style=\"border:none;\" bgcolor=\"white\"></td><td style=\"border:solid;\" bgcolor=\"white\"><font color=\"black\">ADJ</font></td></tr></table> 17 / 36</div>\n",
       "<div class=\"item\"><table><tr><td></td><td>0: Matko</td><td>1: raps</td><td>2: are</td><td>3: silly</td></tr>\n",
       "<tr><td>0: Matko</td><td style=\"border:solid;\" bgcolor=\"white\"><font color=\"black\">NP_p_0</font>, <font color=\"black\">NP_s</font></td><td style=\"border:solid;\" bgcolor=\"white\"><font color=\"black\">NP_p</font></td><td style=\"border:solid;\" bgcolor=\"white\"></td><td style=\"border:solid;\" bgcolor=\"white\"></td></tr>\n",
       "<tr><td>1: raps</td><td style=\"border:none;\" bgcolor=\"white\"></td><td style=\"border:solid;\" bgcolor=\"#E1E1E1\"><font color=\"black\">NP_p_1</font>, <font color=\"black\">VP_s_4</font></td><td style=\"border:solid;\" bgcolor=\"#C3C3C3\"></td><td style=\"border:solid;\" bgcolor=\"white\"></td></tr>\n",
       "<tr><td>2: are</td><td style=\"border:none;\" bgcolor=\"white\"></td><td style=\"border:none;\" bgcolor=\"white\"></td><td style=\"border:solid;\" bgcolor=\"#E1E1E1\"><font color=\"black\">VP_p_2</font></td><td style=\"border:solid;\" bgcolor=\"white\"></td></tr>\n",
       "<tr><td>3: silly</td><td style=\"border:none;\" bgcolor=\"white\"></td><td style=\"border:none;\" bgcolor=\"white\"></td><td style=\"border:none;\" bgcolor=\"white\"></td><td style=\"border:solid;\" bgcolor=\"white\"><font color=\"black\">ADJ</font></td></tr></table> 18 / 36</div>\n",
       "<div class=\"item\"><table><tr><td></td><td>0: Matko</td><td>1: raps</td><td>2: are</td><td>3: silly</td></tr>\n",
       "<tr><td>0: Matko</td><td style=\"border:solid;\" bgcolor=\"white\"><font color=\"black\">NP_p_0</font>, <font color=\"black\">NP_s</font></td><td style=\"border:solid;\" bgcolor=\"white\"><font color=\"black\">NP_p</font></td><td style=\"border:solid;\" bgcolor=\"white\"></td><td style=\"border:solid;\" bgcolor=\"white\"></td></tr>\n",
       "<tr><td>1: raps</td><td style=\"border:none;\" bgcolor=\"white\"></td><td style=\"border:solid;\" bgcolor=\"#E1E1E1\"><font color=\"red\">NP_p_1</font>, <font color=\"black\">VP_s_4</font></td><td style=\"border:solid;\" bgcolor=\"#C3C3C3\"></td><td style=\"border:solid;\" bgcolor=\"white\"></td></tr>\n",
       "<tr><td>2: are</td><td style=\"border:none;\" bgcolor=\"white\"></td><td style=\"border:none;\" bgcolor=\"white\"></td><td style=\"border:solid;\" bgcolor=\"#E1E1E1\"><font color=\"red\">VP_p_2</font></td><td style=\"border:solid;\" bgcolor=\"white\"></td></tr>\n",
       "<tr><td>3: silly</td><td style=\"border:none;\" bgcolor=\"white\"></td><td style=\"border:none;\" bgcolor=\"white\"></td><td style=\"border:none;\" bgcolor=\"white\"></td><td style=\"border:solid;\" bgcolor=\"white\"><font color=\"black\">ADJ</font></td></tr></table> 19 / 36</div>\n",
       "<div class=\"item\"><table><tr><td></td><td>0: Matko</td><td>1: raps</td><td>2: are</td><td>3: silly</td></tr>\n",
       "<tr><td>0: Matko</td><td style=\"border:solid;\" bgcolor=\"white\"><font color=\"black\">NP_p_0</font>, <font color=\"black\">NP_s</font></td><td style=\"border:solid;\" bgcolor=\"white\"><font color=\"black\">NP_p</font></td><td style=\"border:solid;\" bgcolor=\"white\"></td><td style=\"border:solid;\" bgcolor=\"white\"></td></tr>\n",
       "<tr><td>1: raps</td><td style=\"border:none;\" bgcolor=\"white\"></td><td style=\"border:solid;\" bgcolor=\"#E1E1E1\"><font color=\"black\">NP_p_1</font>, <font color=\"red\">VP_s_4</font></td><td style=\"border:solid;\" bgcolor=\"#C3C3C3\"></td><td style=\"border:solid;\" bgcolor=\"white\"></td></tr>\n",
       "<tr><td>2: are</td><td style=\"border:none;\" bgcolor=\"white\"></td><td style=\"border:none;\" bgcolor=\"white\"></td><td style=\"border:solid;\" bgcolor=\"#E1E1E1\"><font color=\"red\">VP_p_2</font></td><td style=\"border:solid;\" bgcolor=\"white\"></td></tr>\n",
       "<tr><td>3: silly</td><td style=\"border:none;\" bgcolor=\"white\"></td><td style=\"border:none;\" bgcolor=\"white\"></td><td style=\"border:none;\" bgcolor=\"white\"></td><td style=\"border:solid;\" bgcolor=\"white\"><font color=\"black\">ADJ</font></td></tr></table> 20 / 36</div>\n",
       "<div class=\"item\"><table><tr><td></td><td>0: Matko</td><td>1: raps</td><td>2: are</td><td>3: silly</td></tr>\n",
       "<tr><td>0: Matko</td><td style=\"border:solid;\" bgcolor=\"white\"><font color=\"black\">NP_p_0</font>, <font color=\"black\">NP_s</font></td><td style=\"border:solid;\" bgcolor=\"white\"><font color=\"black\">NP_p</font></td><td style=\"border:solid;\" bgcolor=\"white\"></td><td style=\"border:solid;\" bgcolor=\"white\"></td></tr>\n",
       "<tr><td>1: raps</td><td style=\"border:none;\" bgcolor=\"white\"></td><td style=\"border:solid;\" bgcolor=\"white\"><font color=\"black\">NP_p_1</font>, <font color=\"black\">VP_s_4</font></td><td style=\"border:solid;\" bgcolor=\"white\"></td><td style=\"border:solid;\" bgcolor=\"white\"></td></tr>\n",
       "<tr><td>2: are</td><td style=\"border:none;\" bgcolor=\"white\"></td><td style=\"border:none;\" bgcolor=\"white\"></td><td style=\"border:solid;\" bgcolor=\"#E1E1E1\"><font color=\"black\">VP_p_2</font></td><td style=\"border:solid;\" bgcolor=\"#C3C3C3\"></td></tr>\n",
       "<tr><td>3: silly</td><td style=\"border:none;\" bgcolor=\"white\"></td><td style=\"border:none;\" bgcolor=\"white\"></td><td style=\"border:none;\" bgcolor=\"white\"></td><td style=\"border:solid;\" bgcolor=\"#E1E1E1\"><font color=\"black\">ADJ</font></td></tr></table> 21 / 36</div>\n",
       "<div class=\"item\"><table><tr><td></td><td>0: Matko</td><td>1: raps</td><td>2: are</td><td>3: silly</td></tr>\n",
       "<tr><td>0: Matko</td><td style=\"border:solid;\" bgcolor=\"white\"><font color=\"black\">NP_p_0</font>, <font color=\"black\">NP_s</font></td><td style=\"border:solid;\" bgcolor=\"white\"><font color=\"black\">NP_p</font></td><td style=\"border:solid;\" bgcolor=\"white\"></td><td style=\"border:solid;\" bgcolor=\"white\"></td></tr>\n",
       "<tr><td>1: raps</td><td style=\"border:none;\" bgcolor=\"white\"></td><td style=\"border:solid;\" bgcolor=\"white\"><font color=\"black\">NP_p_1</font>, <font color=\"black\">VP_s_4</font></td><td style=\"border:solid;\" bgcolor=\"white\"></td><td style=\"border:solid;\" bgcolor=\"white\"></td></tr>\n",
       "<tr><td>2: are</td><td style=\"border:none;\" bgcolor=\"white\"></td><td style=\"border:none;\" bgcolor=\"white\"></td><td style=\"border:solid;\" bgcolor=\"#E1E1E1\"><font color=\"red\">VP_p_2</font></td><td style=\"border:solid;\" bgcolor=\"#C3C3C3\"></td></tr>\n",
       "<tr><td>3: silly</td><td style=\"border:none;\" bgcolor=\"white\"></td><td style=\"border:none;\" bgcolor=\"white\"></td><td style=\"border:none;\" bgcolor=\"white\"></td><td style=\"border:solid;\" bgcolor=\"#E1E1E1\"><font color=\"red\">ADJ</font></td></tr></table> 22 / 36</div>\n",
       "<div class=\"item\"><table><tr><td></td><td>0: Matko</td><td>1: raps</td><td>2: are</td><td>3: silly</td></tr>\n",
       "<tr><td>0: Matko</td><td style=\"border:solid;\" bgcolor=\"white\"><font color=\"black\">NP_p_0</font>, <font color=\"black\">NP_s</font></td><td style=\"border:solid;\" bgcolor=\"white\"><font color=\"black\">NP_p</font></td><td style=\"border:solid;\" bgcolor=\"white\"></td><td style=\"border:solid;\" bgcolor=\"white\"></td></tr>\n",
       "<tr><td>1: raps</td><td style=\"border:none;\" bgcolor=\"white\"></td><td style=\"border:solid;\" bgcolor=\"white\"><font color=\"black\">NP_p_1</font>, <font color=\"black\">VP_s_4</font></td><td style=\"border:solid;\" bgcolor=\"white\"></td><td style=\"border:solid;\" bgcolor=\"white\"></td></tr>\n",
       "<tr><td>2: are</td><td style=\"border:none;\" bgcolor=\"white\"></td><td style=\"border:none;\" bgcolor=\"white\"></td><td style=\"border:solid;\" bgcolor=\"#E1E1E1\"><font color=\"red\">VP_p_2</font></td><td style=\"border:solid;\" bgcolor=\"#C3C3C3\"><font color=\"blue\">VP_p</font></td></tr>\n",
       "<tr><td>3: silly</td><td style=\"border:none;\" bgcolor=\"white\"></td><td style=\"border:none;\" bgcolor=\"white\"></td><td style=\"border:none;\" bgcolor=\"white\"></td><td style=\"border:solid;\" bgcolor=\"#E1E1E1\"><font color=\"red\">ADJ</font></td></tr></table> 23 / 36</div>\n",
       "<div class=\"item\"><table><tr><td></td><td>0: Matko</td><td>1: raps</td><td>2: are</td><td>3: silly</td></tr>\n",
       "<tr><td>0: Matko</td><td style=\"border:solid;\" bgcolor=\"#E1E1E1\"><font color=\"black\">NP_p_0</font>, <font color=\"black\">NP_s</font></td><td style=\"border:solid;\" bgcolor=\"white\"><font color=\"black\">NP_p</font></td><td style=\"border:solid;\" bgcolor=\"#C3C3C3\"></td><td style=\"border:solid;\" bgcolor=\"white\"></td></tr>\n",
       "<tr><td>1: raps</td><td style=\"border:none;\" bgcolor=\"white\"></td><td style=\"border:solid;\" bgcolor=\"white\"><font color=\"black\">NP_p_1</font>, <font color=\"black\">VP_s_4</font></td><td style=\"border:solid;\" bgcolor=\"#E1E1E1\"></td><td style=\"border:solid;\" bgcolor=\"white\"></td></tr>\n",
       "<tr><td>2: are</td><td style=\"border:none;\" bgcolor=\"white\"></td><td style=\"border:none;\" bgcolor=\"white\"></td><td style=\"border:solid;\" bgcolor=\"white\"><font color=\"black\">VP_p_2</font></td><td style=\"border:solid;\" bgcolor=\"white\"><font color=\"black\">VP_p</font></td></tr>\n",
       "<tr><td>3: silly</td><td style=\"border:none;\" bgcolor=\"white\"></td><td style=\"border:none;\" bgcolor=\"white\"></td><td style=\"border:none;\" bgcolor=\"white\"></td><td style=\"border:solid;\" bgcolor=\"white\"><font color=\"black\">ADJ</font></td></tr></table> 24 / 36</div>\n",
       "<div class=\"item\"><table><tr><td></td><td>0: Matko</td><td>1: raps</td><td>2: are</td><td>3: silly</td></tr>\n",
       "<tr><td>0: Matko</td><td style=\"border:solid;\" bgcolor=\"white\"><font color=\"black\">NP_p_0</font>, <font color=\"black\">NP_s</font></td><td style=\"border:solid;\" bgcolor=\"#E1E1E1\"><font color=\"black\">NP_p</font></td><td style=\"border:solid;\" bgcolor=\"#C3C3C3\"></td><td style=\"border:solid;\" bgcolor=\"white\"></td></tr>\n",
       "<tr><td>1: raps</td><td style=\"border:none;\" bgcolor=\"white\"></td><td style=\"border:solid;\" bgcolor=\"white\"><font color=\"black\">NP_p_1</font>, <font color=\"black\">VP_s_4</font></td><td style=\"border:solid;\" bgcolor=\"white\"></td><td style=\"border:solid;\" bgcolor=\"white\"></td></tr>\n",
       "<tr><td>2: are</td><td style=\"border:none;\" bgcolor=\"white\"></td><td style=\"border:none;\" bgcolor=\"white\"></td><td style=\"border:solid;\" bgcolor=\"#E1E1E1\"><font color=\"black\">VP_p_2</font></td><td style=\"border:solid;\" bgcolor=\"white\"><font color=\"black\">VP_p</font></td></tr>\n",
       "<tr><td>3: silly</td><td style=\"border:none;\" bgcolor=\"white\"></td><td style=\"border:none;\" bgcolor=\"white\"></td><td style=\"border:none;\" bgcolor=\"white\"></td><td style=\"border:solid;\" bgcolor=\"white\"><font color=\"black\">ADJ</font></td></tr></table> 25 / 36</div>\n",
       "<div class=\"item\"><table><tr><td></td><td>0: Matko</td><td>1: raps</td><td>2: are</td><td>3: silly</td></tr>\n",
       "<tr><td>0: Matko</td><td style=\"border:solid;\" bgcolor=\"white\"><font color=\"black\">NP_p_0</font>, <font color=\"black\">NP_s</font></td><td style=\"border:solid;\" bgcolor=\"#E1E1E1\"><font color=\"red\">NP_p</font></td><td style=\"border:solid;\" bgcolor=\"#C3C3C3\"></td><td style=\"border:solid;\" bgcolor=\"white\"></td></tr>\n",
       "<tr><td>1: raps</td><td style=\"border:none;\" bgcolor=\"white\"></td><td style=\"border:solid;\" bgcolor=\"white\"><font color=\"black\">NP_p_1</font>, <font color=\"black\">VP_s_4</font></td><td style=\"border:solid;\" bgcolor=\"white\"></td><td style=\"border:solid;\" bgcolor=\"white\"></td></tr>\n",
       "<tr><td>2: are</td><td style=\"border:none;\" bgcolor=\"white\"></td><td style=\"border:none;\" bgcolor=\"white\"></td><td style=\"border:solid;\" bgcolor=\"#E1E1E1\"><font color=\"red\">VP_p_2</font></td><td style=\"border:solid;\" bgcolor=\"white\"><font color=\"black\">VP_p</font></td></tr>\n",
       "<tr><td>3: silly</td><td style=\"border:none;\" bgcolor=\"white\"></td><td style=\"border:none;\" bgcolor=\"white\"></td><td style=\"border:none;\" bgcolor=\"white\"></td><td style=\"border:solid;\" bgcolor=\"white\"><font color=\"black\">ADJ</font></td></tr></table> 26 / 36</div>\n",
       "<div class=\"item\"><table><tr><td></td><td>0: Matko</td><td>1: raps</td><td>2: are</td><td>3: silly</td></tr>\n",
       "<tr><td>0: Matko</td><td style=\"border:solid;\" bgcolor=\"white\"><font color=\"black\">NP_p_0</font>, <font color=\"black\">NP_s</font></td><td style=\"border:solid;\" bgcolor=\"white\"><font color=\"black\">NP_p</font></td><td style=\"border:solid;\" bgcolor=\"white\"></td><td style=\"border:solid;\" bgcolor=\"white\"></td></tr>\n",
       "<tr><td>1: raps</td><td style=\"border:none;\" bgcolor=\"white\"></td><td style=\"border:solid;\" bgcolor=\"#E1E1E1\"><font color=\"black\">NP_p_1</font>, <font color=\"black\">VP_s_4</font></td><td style=\"border:solid;\" bgcolor=\"white\"></td><td style=\"border:solid;\" bgcolor=\"#C3C3C3\"></td></tr>\n",
       "<tr><td>2: are</td><td style=\"border:none;\" bgcolor=\"white\"></td><td style=\"border:none;\" bgcolor=\"white\"></td><td style=\"border:solid;\" bgcolor=\"white\"><font color=\"black\">VP_p_2</font></td><td style=\"border:solid;\" bgcolor=\"#E1E1E1\"><font color=\"black\">VP_p</font></td></tr>\n",
       "<tr><td>3: silly</td><td style=\"border:none;\" bgcolor=\"white\"></td><td style=\"border:none;\" bgcolor=\"white\"></td><td style=\"border:none;\" bgcolor=\"white\"></td><td style=\"border:solid;\" bgcolor=\"white\"><font color=\"black\">ADJ</font></td></tr></table> 27 / 36</div>\n",
       "<div class=\"item\"><table><tr><td></td><td>0: Matko</td><td>1: raps</td><td>2: are</td><td>3: silly</td></tr>\n",
       "<tr><td>0: Matko</td><td style=\"border:solid;\" bgcolor=\"white\"><font color=\"black\">NP_p_0</font>, <font color=\"black\">NP_s</font></td><td style=\"border:solid;\" bgcolor=\"white\"><font color=\"black\">NP_p</font></td><td style=\"border:solid;\" bgcolor=\"white\"></td><td style=\"border:solid;\" bgcolor=\"white\"></td></tr>\n",
       "<tr><td>1: raps</td><td style=\"border:none;\" bgcolor=\"white\"></td><td style=\"border:solid;\" bgcolor=\"#E1E1E1\"><font color=\"red\">NP_p_1</font>, <font color=\"black\">VP_s_4</font></td><td style=\"border:solid;\" bgcolor=\"white\"></td><td style=\"border:solid;\" bgcolor=\"#C3C3C3\"></td></tr>\n",
       "<tr><td>2: are</td><td style=\"border:none;\" bgcolor=\"white\"></td><td style=\"border:none;\" bgcolor=\"white\"></td><td style=\"border:solid;\" bgcolor=\"white\"><font color=\"black\">VP_p_2</font></td><td style=\"border:solid;\" bgcolor=\"#E1E1E1\"><font color=\"red\">VP_p</font></td></tr>\n",
       "<tr><td>3: silly</td><td style=\"border:none;\" bgcolor=\"white\"></td><td style=\"border:none;\" bgcolor=\"white\"></td><td style=\"border:none;\" bgcolor=\"white\"></td><td style=\"border:solid;\" bgcolor=\"white\"><font color=\"black\">ADJ</font></td></tr></table> 28 / 36</div>\n",
       "<div class=\"item\"><table><tr><td></td><td>0: Matko</td><td>1: raps</td><td>2: are</td><td>3: silly</td></tr>\n",
       "<tr><td>0: Matko</td><td style=\"border:solid;\" bgcolor=\"white\"><font color=\"black\">NP_p_0</font>, <font color=\"black\">NP_s</font></td><td style=\"border:solid;\" bgcolor=\"white\"><font color=\"black\">NP_p</font></td><td style=\"border:solid;\" bgcolor=\"white\"></td><td style=\"border:solid;\" bgcolor=\"white\"></td></tr>\n",
       "<tr><td>1: raps</td><td style=\"border:none;\" bgcolor=\"white\"></td><td style=\"border:solid;\" bgcolor=\"#E1E1E1\"><font color=\"black\">NP_p_1</font>, <font color=\"red\">VP_s_4</font></td><td style=\"border:solid;\" bgcolor=\"white\"></td><td style=\"border:solid;\" bgcolor=\"#C3C3C3\"></td></tr>\n",
       "<tr><td>2: are</td><td style=\"border:none;\" bgcolor=\"white\"></td><td style=\"border:none;\" bgcolor=\"white\"></td><td style=\"border:solid;\" bgcolor=\"white\"><font color=\"black\">VP_p_2</font></td><td style=\"border:solid;\" bgcolor=\"#E1E1E1\"><font color=\"red\">VP_p</font></td></tr>\n",
       "<tr><td>3: silly</td><td style=\"border:none;\" bgcolor=\"white\"></td><td style=\"border:none;\" bgcolor=\"white\"></td><td style=\"border:none;\" bgcolor=\"white\"></td><td style=\"border:solid;\" bgcolor=\"white\"><font color=\"black\">ADJ</font></td></tr></table> 29 / 36</div>\n",
       "<div class=\"item\"><table><tr><td></td><td>0: Matko</td><td>1: raps</td><td>2: are</td><td>3: silly</td></tr>\n",
       "<tr><td>0: Matko</td><td style=\"border:solid;\" bgcolor=\"white\"><font color=\"black\">NP_p_0</font>, <font color=\"black\">NP_s</font></td><td style=\"border:solid;\" bgcolor=\"white\"><font color=\"black\">NP_p</font></td><td style=\"border:solid;\" bgcolor=\"white\"></td><td style=\"border:solid;\" bgcolor=\"white\"></td></tr>\n",
       "<tr><td>1: raps</td><td style=\"border:none;\" bgcolor=\"white\"></td><td style=\"border:solid;\" bgcolor=\"white\"><font color=\"black\">NP_p_1</font>, <font color=\"black\">VP_s_4</font></td><td style=\"border:solid;\" bgcolor=\"#E1E1E1\"></td><td style=\"border:solid;\" bgcolor=\"#C3C3C3\"></td></tr>\n",
       "<tr><td>2: are</td><td style=\"border:none;\" bgcolor=\"white\"></td><td style=\"border:none;\" bgcolor=\"white\"></td><td style=\"border:solid;\" bgcolor=\"white\"><font color=\"black\">VP_p_2</font></td><td style=\"border:solid;\" bgcolor=\"white\"><font color=\"black\">VP_p</font></td></tr>\n",
       "<tr><td>3: silly</td><td style=\"border:none;\" bgcolor=\"white\"></td><td style=\"border:none;\" bgcolor=\"white\"></td><td style=\"border:none;\" bgcolor=\"white\"></td><td style=\"border:solid;\" bgcolor=\"#E1E1E1\"><font color=\"black\">ADJ</font></td></tr></table> 30 / 36</div>\n",
       "<div class=\"item\"><table><tr><td></td><td>0: Matko</td><td>1: raps</td><td>2: are</td><td>3: silly</td></tr>\n",
       "<tr><td>0: Matko</td><td style=\"border:solid;\" bgcolor=\"#E1E1E1\"><font color=\"black\">NP_p_0</font>, <font color=\"black\">NP_s</font></td><td style=\"border:solid;\" bgcolor=\"white\"><font color=\"black\">NP_p</font></td><td style=\"border:solid;\" bgcolor=\"white\"></td><td style=\"border:solid;\" bgcolor=\"#C3C3C3\"></td></tr>\n",
       "<tr><td>1: raps</td><td style=\"border:none;\" bgcolor=\"white\"></td><td style=\"border:solid;\" bgcolor=\"white\"><font color=\"black\">NP_p_1</font>, <font color=\"black\">VP_s_4</font></td><td style=\"border:solid;\" bgcolor=\"white\"></td><td style=\"border:solid;\" bgcolor=\"#E1E1E1\"></td></tr>\n",
       "<tr><td>2: are</td><td style=\"border:none;\" bgcolor=\"white\"></td><td style=\"border:none;\" bgcolor=\"white\"></td><td style=\"border:solid;\" bgcolor=\"white\"><font color=\"black\">VP_p_2</font></td><td style=\"border:solid;\" bgcolor=\"white\"><font color=\"black\">VP_p</font></td></tr>\n",
       "<tr><td>3: silly</td><td style=\"border:none;\" bgcolor=\"white\"></td><td style=\"border:none;\" bgcolor=\"white\"></td><td style=\"border:none;\" bgcolor=\"white\"></td><td style=\"border:solid;\" bgcolor=\"white\"><font color=\"black\">ADJ</font></td></tr></table> 31 / 36</div>\n",
       "<div class=\"item\"><table><tr><td></td><td>0: Matko</td><td>1: raps</td><td>2: are</td><td>3: silly</td></tr>\n",
       "<tr><td>0: Matko</td><td style=\"border:solid;\" bgcolor=\"white\"><font color=\"black\">NP_p_0</font>, <font color=\"black\">NP_s</font></td><td style=\"border:solid;\" bgcolor=\"#E1E1E1\"><font color=\"black\">NP_p</font></td><td style=\"border:solid;\" bgcolor=\"white\"></td><td style=\"border:solid;\" bgcolor=\"#C3C3C3\"></td></tr>\n",
       "<tr><td>1: raps</td><td style=\"border:none;\" bgcolor=\"white\"></td><td style=\"border:solid;\" bgcolor=\"white\"><font color=\"black\">NP_p_1</font>, <font color=\"black\">VP_s_4</font></td><td style=\"border:solid;\" bgcolor=\"white\"></td><td style=\"border:solid;\" bgcolor=\"white\"></td></tr>\n",
       "<tr><td>2: are</td><td style=\"border:none;\" bgcolor=\"white\"></td><td style=\"border:none;\" bgcolor=\"white\"></td><td style=\"border:solid;\" bgcolor=\"white\"><font color=\"black\">VP_p_2</font></td><td style=\"border:solid;\" bgcolor=\"#E1E1E1\"><font color=\"black\">VP_p</font></td></tr>\n",
       "<tr><td>3: silly</td><td style=\"border:none;\" bgcolor=\"white\"></td><td style=\"border:none;\" bgcolor=\"white\"></td><td style=\"border:none;\" bgcolor=\"white\"></td><td style=\"border:solid;\" bgcolor=\"white\"><font color=\"black\">ADJ</font></td></tr></table> 32 / 36</div>\n",
       "<div class=\"item\"><table><tr><td></td><td>0: Matko</td><td>1: raps</td><td>2: are</td><td>3: silly</td></tr>\n",
       "<tr><td>0: Matko</td><td style=\"border:solid;\" bgcolor=\"white\"><font color=\"black\">NP_p_0</font>, <font color=\"black\">NP_s</font></td><td style=\"border:solid;\" bgcolor=\"#E1E1E1\"><font color=\"red\">NP_p</font></td><td style=\"border:solid;\" bgcolor=\"white\"></td><td style=\"border:solid;\" bgcolor=\"#C3C3C3\"></td></tr>\n",
       "<tr><td>1: raps</td><td style=\"border:none;\" bgcolor=\"white\"></td><td style=\"border:solid;\" bgcolor=\"white\"><font color=\"black\">NP_p_1</font>, <font color=\"black\">VP_s_4</font></td><td style=\"border:solid;\" bgcolor=\"white\"></td><td style=\"border:solid;\" bgcolor=\"white\"></td></tr>\n",
       "<tr><td>2: are</td><td style=\"border:none;\" bgcolor=\"white\"></td><td style=\"border:none;\" bgcolor=\"white\"></td><td style=\"border:solid;\" bgcolor=\"white\"><font color=\"black\">VP_p_2</font></td><td style=\"border:solid;\" bgcolor=\"#E1E1E1\"><font color=\"red\">VP_p</font></td></tr>\n",
       "<tr><td>3: silly</td><td style=\"border:none;\" bgcolor=\"white\"></td><td style=\"border:none;\" bgcolor=\"white\"></td><td style=\"border:none;\" bgcolor=\"white\"></td><td style=\"border:solid;\" bgcolor=\"white\"><font color=\"black\">ADJ</font></td></tr></table> 33 / 36</div>\n",
       "<div class=\"item\"><table><tr><td></td><td>0: Matko</td><td>1: raps</td><td>2: are</td><td>3: silly</td></tr>\n",
       "<tr><td>0: Matko</td><td style=\"border:solid;\" bgcolor=\"white\"><font color=\"black\">NP_p_0</font>, <font color=\"black\">NP_s</font></td><td style=\"border:solid;\" bgcolor=\"#E1E1E1\"><font color=\"red\">NP_p</font></td><td style=\"border:solid;\" bgcolor=\"white\"></td><td style=\"border:solid;\" bgcolor=\"#C3C3C3\"><font color=\"blue\">S</font></td></tr>\n",
       "<tr><td>1: raps</td><td style=\"border:none;\" bgcolor=\"white\"></td><td style=\"border:solid;\" bgcolor=\"white\"><font color=\"black\">NP_p_1</font>, <font color=\"black\">VP_s_4</font></td><td style=\"border:solid;\" bgcolor=\"white\"></td><td style=\"border:solid;\" bgcolor=\"white\"></td></tr>\n",
       "<tr><td>2: are</td><td style=\"border:none;\" bgcolor=\"white\"></td><td style=\"border:none;\" bgcolor=\"white\"></td><td style=\"border:solid;\" bgcolor=\"white\"><font color=\"black\">VP_p_2</font></td><td style=\"border:solid;\" bgcolor=\"#E1E1E1\"><font color=\"red\">VP_p</font></td></tr>\n",
       "<tr><td>3: silly</td><td style=\"border:none;\" bgcolor=\"white\"></td><td style=\"border:none;\" bgcolor=\"white\"></td><td style=\"border:none;\" bgcolor=\"white\"></td><td style=\"border:solid;\" bgcolor=\"white\"><font color=\"black\">ADJ</font></td></tr></table> 34 / 36</div>\n",
       "<div class=\"item\"><table><tr><td></td><td>0: Matko</td><td>1: raps</td><td>2: are</td><td>3: silly</td></tr>\n",
       "<tr><td>0: Matko</td><td style=\"border:solid;\" bgcolor=\"white\"><font color=\"black\">NP_p_0</font>, <font color=\"black\">NP_s</font></td><td style=\"border:solid;\" bgcolor=\"white\"><font color=\"black\">NP_p</font></td><td style=\"border:solid;\" bgcolor=\"#E1E1E1\"></td><td style=\"border:solid;\" bgcolor=\"#C3C3C3\"><font color=\"black\">S</font></td></tr>\n",
       "<tr><td>1: raps</td><td style=\"border:none;\" bgcolor=\"white\"></td><td style=\"border:solid;\" bgcolor=\"white\"><font color=\"black\">NP_p_1</font>, <font color=\"black\">VP_s_4</font></td><td style=\"border:solid;\" bgcolor=\"white\"></td><td style=\"border:solid;\" bgcolor=\"white\"></td></tr>\n",
       "<tr><td>2: are</td><td style=\"border:none;\" bgcolor=\"white\"></td><td style=\"border:none;\" bgcolor=\"white\"></td><td style=\"border:solid;\" bgcolor=\"white\"><font color=\"black\">VP_p_2</font></td><td style=\"border:solid;\" bgcolor=\"white\"><font color=\"black\">VP_p</font></td></tr>\n",
       "<tr><td>3: silly</td><td style=\"border:none;\" bgcolor=\"white\"></td><td style=\"border:none;\" bgcolor=\"white\"></td><td style=\"border:none;\" bgcolor=\"white\"></td><td style=\"border:solid;\" bgcolor=\"#E1E1E1\"><font color=\"black\">ADJ</font></td></tr></table> 35 / 36</div>\n",
       "<div class=\"item\"><table><tr><td></td><td>0: Matko</td><td>1: raps</td><td>2: are</td><td>3: silly</td></tr>\n",
       "<tr><td>0: Matko</td><td style=\"border:solid;\" bgcolor=\"white\"><font color=\"black\">NP_p_0</font>, <font color=\"black\">NP_s</font></td><td style=\"border:solid;\" bgcolor=\"white\"><font color=\"black\">NP_p</font></td><td style=\"border:solid;\" bgcolor=\"white\"></td><td style=\"border:solid;\" bgcolor=\"white\"><font color=\"black\">S</font></td></tr>\n",
       "<tr><td>1: raps</td><td style=\"border:none;\" bgcolor=\"white\"></td><td style=\"border:solid;\" bgcolor=\"white\"><font color=\"black\">NP_p_1</font>, <font color=\"black\">VP_s_4</font></td><td style=\"border:solid;\" bgcolor=\"white\"></td><td style=\"border:solid;\" bgcolor=\"white\"></td></tr>\n",
       "<tr><td>2: are</td><td style=\"border:none;\" bgcolor=\"white\"></td><td style=\"border:none;\" bgcolor=\"white\"></td><td style=\"border:solid;\" bgcolor=\"white\"><font color=\"black\">VP_p_2</font></td><td style=\"border:solid;\" bgcolor=\"white\"><font color=\"black\">VP_p</font></td></tr>\n",
       "<tr><td>3: silly</td><td style=\"border:none;\" bgcolor=\"white\"></td><td style=\"border:none;\" bgcolor=\"white\"></td><td style=\"border:none;\" bgcolor=\"white\"></td><td style=\"border:solid;\" bgcolor=\"white\"><font color=\"black\">ADJ</font></td></tr></table> 36 / 36</div>\n",
       "          </div>\n",
       "        </div>\n",
       "        "
      ],
      "text/plain": [
       "<statnlpbook.util.Carousel at 0x10f84f390>"
      ]
     },
     "execution_count": 21,
     "metadata": {},
     "output_type": "execute_result"
    }
   ],
   "source": [
    "trace = cyk(cnf_cfg, sentence)\n",
    "util.Carousel(trace)"
   ]
  },
  {
   "cell_type": "markdown",
   "metadata": {
    "collapsed": false,
    "slideshow": {
     "slide_type": "subslide"
    }
   },
   "source": [
    "The chart can be **traversed backwards** to get all trees"
   ]
  },
  {
   "cell_type": "code",
   "execution_count": 22,
   "metadata": {
    "collapsed": false,
    "slideshow": {
     "slide_type": "fragment"
    }
   },
   "outputs": [
    {
     "data": {
      "text/html": [
       "\n",
       "        <div id=\"8bddbfe4-9f3f-11e6-91ee-a0999b02cfbb\" class=\"carousel\" data-ride=\"carousel\" data-interval=\"false\">\n",
       "          <!-- Controls -->\n",
       "          <a href=\"#8bddbfe4-9f3f-11e6-91ee-a0999b02cfbb\" role=\"button\" data-slide=\"prev\">Previous</a>\n",
       "          &nbsp\n",
       "          <a  href=\"#8bddbfe4-9f3f-11e6-91ee-a0999b02cfbb\" role=\"button\" data-slide=\"next\">Next</a>\n",
       "          <div class=\"carousel-inner\" role=\"listbox\">\n",
       "          <div class=\"item active\"><table><tr><td></td><td>0: Matko</td><td>1: raps</td><td>2: are</td><td>3: silly</td></tr>\n",
       "<tr><td>0: Matko</td><td style=\"border:solid;\" bgcolor=\"white\"><font color=\"black\">NP_p_0</font>, <font color=\"black\">NP_s</font></td><td style=\"border:solid;\" bgcolor=\"white\"><font color=\"black\">NP_p</font></td><td style=\"border:solid;\" bgcolor=\"white\"></td><td style=\"border:solid;\" bgcolor=\"white\"><font color=\"black\">S</font></td></tr>\n",
       "<tr><td>1: raps</td><td style=\"border:none;\" bgcolor=\"white\"></td><td style=\"border:solid;\" bgcolor=\"white\"><font color=\"black\">NP_p_1</font>, <font color=\"black\">VP_s_4</font></td><td style=\"border:solid;\" bgcolor=\"white\"></td><td style=\"border:solid;\" bgcolor=\"white\"></td></tr>\n",
       "<tr><td>2: are</td><td style=\"border:none;\" bgcolor=\"white\"></td><td style=\"border:none;\" bgcolor=\"white\"></td><td style=\"border:solid;\" bgcolor=\"white\"><font color=\"black\">VP_p_2</font></td><td style=\"border:solid;\" bgcolor=\"white\"><font color=\"black\">VP_p</font></td></tr>\n",
       "<tr><td>3: silly</td><td style=\"border:none;\" bgcolor=\"white\"></td><td style=\"border:none;\" bgcolor=\"white\"></td><td style=\"border:none;\" bgcolor=\"white\"></td><td style=\"border:solid;\" bgcolor=\"white\"><font color=\"black\">ADJ</font></td></tr></table> 1 / 4</div>\n",
       "<div class=\"item\"><table><tr><td></td><td>0: Matko</td><td>1: raps</td><td>2: are</td><td>3: silly</td></tr>\n",
       "<tr><td>0: Matko</td><td style=\"border:solid;\" bgcolor=\"white\"><font color=\"black\">NP_p_0</font>, <font color=\"black\">NP_s</font></td><td style=\"border:solid;\" bgcolor=\"#E1E1E1\"><font color=\"red\">NP_p</font></td><td style=\"border:solid;\" bgcolor=\"white\"></td><td style=\"border:solid;\" bgcolor=\"#C3C3C3\"><font color=\"blue\">S</font></td></tr>\n",
       "<tr><td>1: raps</td><td style=\"border:none;\" bgcolor=\"white\"></td><td style=\"border:solid;\" bgcolor=\"white\"><font color=\"black\">NP_p_1</font>, <font color=\"black\">VP_s_4</font></td><td style=\"border:solid;\" bgcolor=\"white\"></td><td style=\"border:solid;\" bgcolor=\"white\"></td></tr>\n",
       "<tr><td>2: are</td><td style=\"border:none;\" bgcolor=\"white\"></td><td style=\"border:none;\" bgcolor=\"white\"></td><td style=\"border:solid;\" bgcolor=\"white\"><font color=\"black\">VP_p_2</font></td><td style=\"border:solid;\" bgcolor=\"#E1E1E1\"><font color=\"red\">VP_p</font></td></tr>\n",
       "<tr><td>3: silly</td><td style=\"border:none;\" bgcolor=\"white\"></td><td style=\"border:none;\" bgcolor=\"white\"></td><td style=\"border:none;\" bgcolor=\"white\"></td><td style=\"border:solid;\" bgcolor=\"white\"><font color=\"black\">ADJ</font></td></tr></table> 2 / 4</div>\n",
       "<div class=\"item\"><table><tr><td></td><td>0: Matko</td><td>1: raps</td><td>2: are</td><td>3: silly</td></tr>\n",
       "<tr><td>0: Matko</td><td style=\"border:solid;\" bgcolor=\"white\"><font color=\"black\">NP_p_0</font>, <font color=\"black\">NP_s</font></td><td style=\"border:solid;\" bgcolor=\"white\"><font color=\"black\">NP_p</font></td><td style=\"border:solid;\" bgcolor=\"white\"></td><td style=\"border:solid;\" bgcolor=\"white\"></td></tr>\n",
       "<tr><td>1: raps</td><td style=\"border:none;\" bgcolor=\"white\"></td><td style=\"border:solid;\" bgcolor=\"white\"><font color=\"black\">NP_p_1</font>, <font color=\"black\">VP_s_4</font></td><td style=\"border:solid;\" bgcolor=\"white\"></td><td style=\"border:solid;\" bgcolor=\"white\"></td></tr>\n",
       "<tr><td>2: are</td><td style=\"border:none;\" bgcolor=\"white\"></td><td style=\"border:none;\" bgcolor=\"white\"></td><td style=\"border:solid;\" bgcolor=\"#E1E1E1\"><font color=\"red\">VP_p_2</font></td><td style=\"border:solid;\" bgcolor=\"#C3C3C3\"><font color=\"blue\">VP_p</font></td></tr>\n",
       "<tr><td>3: silly</td><td style=\"border:none;\" bgcolor=\"white\"></td><td style=\"border:none;\" bgcolor=\"white\"></td><td style=\"border:none;\" bgcolor=\"white\"></td><td style=\"border:solid;\" bgcolor=\"#E1E1E1\"><font color=\"red\">ADJ</font></td></tr></table> 3 / 4</div>\n",
       "<div class=\"item\"><table><tr><td></td><td>0: Matko</td><td>1: raps</td><td>2: are</td><td>3: silly</td></tr>\n",
       "<tr><td>0: Matko</td><td style=\"border:solid;\" bgcolor=\"#E1E1E1\"><font color=\"red\">NP_p_0</font>, <font color=\"black\">NP_s</font></td><td style=\"border:solid;\" bgcolor=\"#C3C3C3\"><font color=\"blue\">NP_p</font></td><td style=\"border:solid;\" bgcolor=\"white\"></td><td style=\"border:solid;\" bgcolor=\"white\"></td></tr>\n",
       "<tr><td>1: raps</td><td style=\"border:none;\" bgcolor=\"white\"></td><td style=\"border:solid;\" bgcolor=\"#E1E1E1\"><font color=\"red\">NP_p_1</font>, <font color=\"black\">VP_s_4</font></td><td style=\"border:solid;\" bgcolor=\"white\"></td><td style=\"border:solid;\" bgcolor=\"white\"></td></tr>\n",
       "<tr><td>2: are</td><td style=\"border:none;\" bgcolor=\"white\"></td><td style=\"border:none;\" bgcolor=\"white\"></td><td style=\"border:solid;\" bgcolor=\"white\"><font color=\"black\">VP_p_2</font></td><td style=\"border:solid;\" bgcolor=\"white\"></td></tr>\n",
       "<tr><td>3: silly</td><td style=\"border:none;\" bgcolor=\"white\"></td><td style=\"border:none;\" bgcolor=\"white\"></td><td style=\"border:none;\" bgcolor=\"white\"></td><td style=\"border:solid;\" bgcolor=\"white\"><font color=\"black\">ADJ</font></td></tr></table> 4 / 4</div>\n",
       "          </div>\n",
       "        </div>\n",
       "        "
      ],
      "text/plain": [
       "<statnlpbook.util.Carousel at 0x10f77a240>"
      ]
     },
     "execution_count": 22,
     "metadata": {},
     "output_type": "execute_result"
    }
   ],
   "source": [
    "util.Carousel([trace[i] for i in [35,33,22,13]])"
   ]
  },
  {
   "cell_type": "code",
   "execution_count": 23,
   "metadata": {
    "collapsed": false,
    "slideshow": {
     "slide_type": "subslide"
    }
   },
   "outputs": [
    {
     "data": {
      "image/svg+xml": [
       "<?xml version=\"1.0\" encoding=\"UTF-8\" standalone=\"no\"?>\n",
       "<!DOCTYPE svg PUBLIC \"-//W3C//DTD SVG 1.1//EN\"\n",
       " \"http://www.w3.org/Graphics/SVG/1.1/DTD/svg11.dtd\">\n",
       "<!-- Generated by graphviz version 2.38.0 (20140413.2041)\n",
       " -->\n",
       "<!-- Title: %3 Pages: 1 -->\n",
       "<svg width=\"350pt\" height=\"260pt\"\n",
       " viewBox=\"0.00 0.00 350.10 260.00\" xmlns=\"http://www.w3.org/2000/svg\" xmlns:xlink=\"http://www.w3.org/1999/xlink\">\n",
       "<g id=\"graph0\" class=\"graph\" transform=\"scale(1 1) rotate(0) translate(4 256)\">\n",
       "<title>%3</title>\n",
       "<polygon fill=\"white\" stroke=\"none\" points=\"-4,4 -4,-256 346.099,-256 346.099,4 -4,4\"/>\n",
       "<!-- 0 -->\n",
       "<g id=\"node1\" class=\"node\"><title>0</title>\n",
       "<ellipse fill=\"none\" stroke=\"black\" cx=\"39.0985\" cy=\"-18\" rx=\"33.3925\" ry=\"18\"/>\n",
       "<text text-anchor=\"middle\" x=\"39.0985\" y=\"-13.8\" font-family=\"Times,serif\" font-size=\"14.00\">Matko</text>\n",
       "</g>\n",
       "<!-- 1 -->\n",
       "<g id=\"node2\" class=\"node\"><title>1</title>\n",
       "<ellipse fill=\"none\" stroke=\"black\" cx=\"39.0985\" cy=\"-90\" rx=\"39.1973\" ry=\"18\"/>\n",
       "<text text-anchor=\"middle\" x=\"39.0985\" y=\"-85.8\" font-family=\"Times,serif\" font-size=\"14.00\">NP_p_0</text>\n",
       "</g>\n",
       "<!-- 1&#45;&gt;0 -->\n",
       "<g id=\"edge1\" class=\"edge\"><title>1&#45;&gt;0</title>\n",
       "<path fill=\"none\" stroke=\"black\" d=\"M39.0985,-71.6966C39.0985,-63.9827 39.0985,-54.7125 39.0985,-46.1124\"/>\n",
       "<polygon fill=\"black\" stroke=\"black\" points=\"42.5986,-46.1043 39.0985,-36.1043 35.5986,-46.1044 42.5986,-46.1043\"/>\n",
       "</g>\n",
       "<!-- 2 -->\n",
       "<g id=\"node3\" class=\"node\"><title>2</title>\n",
       "<ellipse fill=\"none\" stroke=\"black\" cx=\"135.099\" cy=\"-18\" rx=\"27\" ry=\"18\"/>\n",
       "<text text-anchor=\"middle\" x=\"135.099\" y=\"-13.8\" font-family=\"Times,serif\" font-size=\"14.00\">raps</text>\n",
       "</g>\n",
       "<!-- 3 -->\n",
       "<g id=\"node4\" class=\"node\"><title>3</title>\n",
       "<ellipse fill=\"none\" stroke=\"black\" cx=\"135.099\" cy=\"-90\" rx=\"39.1973\" ry=\"18\"/>\n",
       "<text text-anchor=\"middle\" x=\"135.099\" y=\"-85.8\" font-family=\"Times,serif\" font-size=\"14.00\">NP_p_1</text>\n",
       "</g>\n",
       "<!-- 3&#45;&gt;2 -->\n",
       "<g id=\"edge2\" class=\"edge\"><title>3&#45;&gt;2</title>\n",
       "<path fill=\"none\" stroke=\"black\" d=\"M135.099,-71.6966C135.099,-63.9827 135.099,-54.7125 135.099,-46.1124\"/>\n",
       "<polygon fill=\"black\" stroke=\"black\" points=\"138.599,-46.1043 135.099,-36.1043 131.599,-46.1044 138.599,-46.1043\"/>\n",
       "</g>\n",
       "<!-- 4 -->\n",
       "<g id=\"node5\" class=\"node\"><title>4</title>\n",
       "<ellipse fill=\"none\" stroke=\"black\" cx=\"135.099\" cy=\"-162\" rx=\"30.0121\" ry=\"18\"/>\n",
       "<text text-anchor=\"middle\" x=\"135.099\" y=\"-157.8\" font-family=\"Times,serif\" font-size=\"14.00\">NP_p</text>\n",
       "</g>\n",
       "<!-- 4&#45;&gt;1 -->\n",
       "<g id=\"edge3\" class=\"edge\"><title>4&#45;&gt;1</title>\n",
       "<path fill=\"none\" stroke=\"black\" d=\"M116.589,-147.503C102.705,-137.38 83.4476,-123.338 67.6038,-111.785\"/>\n",
       "<polygon fill=\"black\" stroke=\"black\" points=\"69.3509,-108.727 59.2087,-105.664 65.2266,-114.383 69.3509,-108.727\"/>\n",
       "</g>\n",
       "<!-- 4&#45;&gt;3 -->\n",
       "<g id=\"edge4\" class=\"edge\"><title>4&#45;&gt;3</title>\n",
       "<path fill=\"none\" stroke=\"black\" d=\"M135.099,-143.697C135.099,-135.983 135.099,-126.712 135.099,-118.112\"/>\n",
       "<polygon fill=\"black\" stroke=\"black\" points=\"138.599,-118.104 135.099,-108.104 131.599,-118.104 138.599,-118.104\"/>\n",
       "</g>\n",
       "<!-- 5 -->\n",
       "<g id=\"node6\" class=\"node\"><title>5</title>\n",
       "<ellipse fill=\"none\" stroke=\"black\" cx=\"231.099\" cy=\"-18\" rx=\"27\" ry=\"18\"/>\n",
       "<text text-anchor=\"middle\" x=\"231.099\" y=\"-13.8\" font-family=\"Times,serif\" font-size=\"14.00\">are</text>\n",
       "</g>\n",
       "<!-- 6 -->\n",
       "<g id=\"node7\" class=\"node\"><title>6</title>\n",
       "<ellipse fill=\"none\" stroke=\"black\" cx=\"231.099\" cy=\"-90\" rx=\"39.1973\" ry=\"18\"/>\n",
       "<text text-anchor=\"middle\" x=\"231.099\" y=\"-85.8\" font-family=\"Times,serif\" font-size=\"14.00\">VP_p_2</text>\n",
       "</g>\n",
       "<!-- 6&#45;&gt;5 -->\n",
       "<g id=\"edge5\" class=\"edge\"><title>6&#45;&gt;5</title>\n",
       "<path fill=\"none\" stroke=\"black\" d=\"M231.099,-71.6966C231.099,-63.9827 231.099,-54.7125 231.099,-46.1124\"/>\n",
       "<polygon fill=\"black\" stroke=\"black\" points=\"234.599,-46.1043 231.099,-36.1043 227.599,-46.1044 234.599,-46.1043\"/>\n",
       "</g>\n",
       "<!-- 7 -->\n",
       "<g id=\"node8\" class=\"node\"><title>7</title>\n",
       "<ellipse fill=\"none\" stroke=\"black\" cx=\"315.099\" cy=\"-18\" rx=\"27\" ry=\"18\"/>\n",
       "<text text-anchor=\"middle\" x=\"315.099\" y=\"-13.8\" font-family=\"Times,serif\" font-size=\"14.00\">silly</text>\n",
       "</g>\n",
       "<!-- 8 -->\n",
       "<g id=\"node9\" class=\"node\"><title>8</title>\n",
       "<ellipse fill=\"none\" stroke=\"black\" cx=\"315.099\" cy=\"-90\" rx=\"27\" ry=\"18\"/>\n",
       "<text text-anchor=\"middle\" x=\"315.099\" y=\"-85.8\" font-family=\"Times,serif\" font-size=\"14.00\">ADJ</text>\n",
       "</g>\n",
       "<!-- 8&#45;&gt;7 -->\n",
       "<g id=\"edge6\" class=\"edge\"><title>8&#45;&gt;7</title>\n",
       "<path fill=\"none\" stroke=\"black\" d=\"M315.099,-71.6966C315.099,-63.9827 315.099,-54.7125 315.099,-46.1124\"/>\n",
       "<polygon fill=\"black\" stroke=\"black\" points=\"318.599,-46.1043 315.099,-36.1043 311.599,-46.1044 318.599,-46.1043\"/>\n",
       "</g>\n",
       "<!-- 9 -->\n",
       "<g id=\"node10\" class=\"node\"><title>9</title>\n",
       "<ellipse fill=\"none\" stroke=\"black\" cx=\"231.099\" cy=\"-162\" rx=\"30.0121\" ry=\"18\"/>\n",
       "<text text-anchor=\"middle\" x=\"231.099\" y=\"-157.8\" font-family=\"Times,serif\" font-size=\"14.00\">VP_p</text>\n",
       "</g>\n",
       "<!-- 9&#45;&gt;6 -->\n",
       "<g id=\"edge7\" class=\"edge\"><title>9&#45;&gt;6</title>\n",
       "<path fill=\"none\" stroke=\"black\" d=\"M231.099,-143.697C231.099,-135.983 231.099,-126.712 231.099,-118.112\"/>\n",
       "<polygon fill=\"black\" stroke=\"black\" points=\"234.599,-118.104 231.099,-108.104 227.599,-118.104 234.599,-118.104\"/>\n",
       "</g>\n",
       "<!-- 9&#45;&gt;8 -->\n",
       "<g id=\"edge8\" class=\"edge\"><title>9&#45;&gt;8</title>\n",
       "<path fill=\"none\" stroke=\"black\" d=\"M248.097,-146.834C260.325,-136.645 276.997,-122.751 290.652,-111.372\"/>\n",
       "<polygon fill=\"black\" stroke=\"black\" points=\"293.255,-113.759 298.697,-104.668 288.774,-108.381 293.255,-113.759\"/>\n",
       "</g>\n",
       "<!-- 10 -->\n",
       "<g id=\"node11\" class=\"node\"><title>10</title>\n",
       "<ellipse fill=\"none\" stroke=\"black\" cx=\"183.099\" cy=\"-234\" rx=\"27\" ry=\"18\"/>\n",
       "<text text-anchor=\"middle\" x=\"183.099\" y=\"-229.8\" font-family=\"Times,serif\" font-size=\"14.00\">S</text>\n",
       "</g>\n",
       "<!-- 10&#45;&gt;4 -->\n",
       "<g id=\"edge9\" class=\"edge\"><title>10&#45;&gt;4</title>\n",
       "<path fill=\"none\" stroke=\"black\" d=\"M172.207,-217.116C166.131,-208.255 158.438,-197.037 151.635,-187.115\"/>\n",
       "<polygon fill=\"black\" stroke=\"black\" points=\"154.489,-185.089 145.947,-178.821 148.716,-189.048 154.489,-185.089\"/>\n",
       "</g>\n",
       "<!-- 10&#45;&gt;9 -->\n",
       "<g id=\"edge10\" class=\"edge\"><title>10&#45;&gt;9</title>\n",
       "<path fill=\"none\" stroke=\"black\" d=\"M193.99,-217.116C200.066,-208.255 207.759,-197.037 214.562,-187.115\"/>\n",
       "<polygon fill=\"black\" stroke=\"black\" points=\"217.481,-189.048 220.25,-178.821 211.708,-185.089 217.481,-189.048\"/>\n",
       "</g>\n",
       "</g>\n",
       "</svg>\n"
      ],
      "text/plain": [
       "<graphviz.dot.Digraph at 0x10f4f8c50>"
      ]
     },
     "execution_count": 23,
     "metadata": {},
     "output_type": "execute_result"
    }
   ],
   "source": [
    "parse_result = trace[-1].derive_trees()[0]\n",
    "parsing.render_tree(parse_result)"
   ]
  },
  {
   "cell_type": "markdown",
   "metadata": {
    "collapsed": false,
    "slideshow": {
     "slide_type": "subslide"
    }
   },
   "source": [
    "Collapse **CNF non-terminals**"
   ]
  },
  {
   "cell_type": "code",
   "execution_count": 24,
   "metadata": {
    "collapsed": false,
    "hideCode": true,
    "hidePrompt": true,
    "slideshow": {
     "slide_type": "fragment"
    }
   },
   "outputs": [
    {
     "data": {
      "image/svg+xml": [
       "<?xml version=\"1.0\" encoding=\"UTF-8\" standalone=\"no\"?>\n",
       "<!DOCTYPE svg PUBLIC \"-//W3C//DTD SVG 1.1//EN\"\n",
       " \"http://www.w3.org/Graphics/SVG/1.1/DTD/svg11.dtd\">\n",
       "<!-- Generated by graphviz version 2.38.0 (20140413.2041)\n",
       " -->\n",
       "<!-- Title: %3 Pages: 1 -->\n",
       "<svg width=\"293pt\" height=\"260pt\"\n",
       " viewBox=\"0.00 0.00 293.20 260.00\" xmlns=\"http://www.w3.org/2000/svg\" xmlns:xlink=\"http://www.w3.org/1999/xlink\">\n",
       "<g id=\"graph0\" class=\"graph\" transform=\"scale(1 1) rotate(0) translate(4 256)\">\n",
       "<title>%3</title>\n",
       "<polygon fill=\"white\" stroke=\"none\" points=\"-4,4 -4,-256 289.196,-256 289.196,4 -4,4\"/>\n",
       "<!-- 0 -->\n",
       "<g id=\"node1\" class=\"node\"><title>0</title>\n",
       "<ellipse fill=\"none\" stroke=\"black\" cx=\"33.1957\" cy=\"-90\" rx=\"33.3925\" ry=\"18\"/>\n",
       "<text text-anchor=\"middle\" x=\"33.1957\" y=\"-85.8\" font-family=\"Times,serif\" font-size=\"14.00\">Matko</text>\n",
       "</g>\n",
       "<!-- 1 -->\n",
       "<g id=\"node2\" class=\"node\"><title>1</title>\n",
       "<ellipse fill=\"none\" stroke=\"black\" cx=\"111.196\" cy=\"-90\" rx=\"27\" ry=\"18\"/>\n",
       "<text text-anchor=\"middle\" x=\"111.196\" y=\"-85.8\" font-family=\"Times,serif\" font-size=\"14.00\">raps</text>\n",
       "</g>\n",
       "<!-- 2 -->\n",
       "<g id=\"node3\" class=\"node\"><title>2</title>\n",
       "<ellipse fill=\"none\" stroke=\"black\" cx=\"109.196\" cy=\"-162\" rx=\"30.0121\" ry=\"18\"/>\n",
       "<text text-anchor=\"middle\" x=\"109.196\" y=\"-157.8\" font-family=\"Times,serif\" font-size=\"14.00\">NP_p</text>\n",
       "</g>\n",
       "<!-- 2&#45;&gt;0 -->\n",
       "<g id=\"edge1\" class=\"edge\"><title>2&#45;&gt;0</title>\n",
       "<path fill=\"none\" stroke=\"black\" d=\"M93.4484,-146.496C82.8914,-136.772 68.7963,-123.79 56.8933,-112.827\"/>\n",
       "<polygon fill=\"black\" stroke=\"black\" points=\"59.1738,-110.169 49.4471,-105.968 54.4314,-115.318 59.1738,-110.169\"/>\n",
       "</g>\n",
       "<!-- 2&#45;&gt;1 -->\n",
       "<g id=\"edge2\" class=\"edge\"><title>2&#45;&gt;1</title>\n",
       "<path fill=\"none\" stroke=\"black\" d=\"M109.69,-143.697C109.91,-135.983 110.175,-126.712 110.421,-118.112\"/>\n",
       "<polygon fill=\"black\" stroke=\"black\" points=\"113.92,-118.2 110.707,-108.104 106.923,-118 113.92,-118.2\"/>\n",
       "</g>\n",
       "<!-- 3 -->\n",
       "<g id=\"node4\" class=\"node\"><title>3</title>\n",
       "<ellipse fill=\"none\" stroke=\"black\" cx=\"186.196\" cy=\"-90\" rx=\"27\" ry=\"18\"/>\n",
       "<text text-anchor=\"middle\" x=\"186.196\" y=\"-85.8\" font-family=\"Times,serif\" font-size=\"14.00\">are</text>\n",
       "</g>\n",
       "<!-- 4 -->\n",
       "<g id=\"node5\" class=\"node\"><title>4</title>\n",
       "<ellipse fill=\"none\" stroke=\"black\" cx=\"258.196\" cy=\"-18\" rx=\"27\" ry=\"18\"/>\n",
       "<text text-anchor=\"middle\" x=\"258.196\" y=\"-13.8\" font-family=\"Times,serif\" font-size=\"14.00\">silly</text>\n",
       "</g>\n",
       "<!-- 5 -->\n",
       "<g id=\"node6\" class=\"node\"><title>5</title>\n",
       "<ellipse fill=\"none\" stroke=\"black\" cx=\"258.196\" cy=\"-90\" rx=\"27\" ry=\"18\"/>\n",
       "<text text-anchor=\"middle\" x=\"258.196\" y=\"-85.8\" font-family=\"Times,serif\" font-size=\"14.00\">ADJ</text>\n",
       "</g>\n",
       "<!-- 5&#45;&gt;4 -->\n",
       "<g id=\"edge3\" class=\"edge\"><title>5&#45;&gt;4</title>\n",
       "<path fill=\"none\" stroke=\"black\" d=\"M258.196,-71.6966C258.196,-63.9827 258.196,-54.7125 258.196,-46.1124\"/>\n",
       "<polygon fill=\"black\" stroke=\"black\" points=\"261.696,-46.1043 258.196,-36.1043 254.696,-46.1044 261.696,-46.1043\"/>\n",
       "</g>\n",
       "<!-- 6 -->\n",
       "<g id=\"node7\" class=\"node\"><title>6</title>\n",
       "<ellipse fill=\"none\" stroke=\"black\" cx=\"188.196\" cy=\"-162\" rx=\"30.0121\" ry=\"18\"/>\n",
       "<text text-anchor=\"middle\" x=\"188.196\" y=\"-157.8\" font-family=\"Times,serif\" font-size=\"14.00\">VP_p</text>\n",
       "</g>\n",
       "<!-- 6&#45;&gt;3 -->\n",
       "<g id=\"edge4\" class=\"edge\"><title>6&#45;&gt;3</title>\n",
       "<path fill=\"none\" stroke=\"black\" d=\"M187.701,-143.697C187.481,-135.983 187.216,-126.712 186.97,-118.112\"/>\n",
       "<polygon fill=\"black\" stroke=\"black\" points=\"190.469,-118 186.684,-108.104 183.472,-118.2 190.469,-118\"/>\n",
       "</g>\n",
       "<!-- 6&#45;&gt;5 -->\n",
       "<g id=\"edge5\" class=\"edge\"><title>6&#45;&gt;5</title>\n",
       "<path fill=\"none\" stroke=\"black\" d=\"M203.041,-146.155C212.823,-136.372 225.792,-123.404 236.696,-112.5\"/>\n",
       "<polygon fill=\"black\" stroke=\"black\" points=\"239.254,-114.891 243.851,-105.345 234.305,-109.941 239.254,-114.891\"/>\n",
       "</g>\n",
       "<!-- 7 -->\n",
       "<g id=\"node8\" class=\"node\"><title>7</title>\n",
       "<ellipse fill=\"none\" stroke=\"black\" cx=\"148.196\" cy=\"-234\" rx=\"27\" ry=\"18\"/>\n",
       "<text text-anchor=\"middle\" x=\"148.196\" y=\"-229.8\" font-family=\"Times,serif\" font-size=\"14.00\">S</text>\n",
       "</g>\n",
       "<!-- 7&#45;&gt;2 -->\n",
       "<g id=\"edge6\" class=\"edge\"><title>7&#45;&gt;2</title>\n",
       "<path fill=\"none\" stroke=\"black\" d=\"M139.15,-216.765C134.492,-208.404 128.705,-198.016 123.462,-188.606\"/>\n",
       "<polygon fill=\"black\" stroke=\"black\" points=\"126.387,-186.666 118.463,-179.633 120.272,-190.073 126.387,-186.666\"/>\n",
       "</g>\n",
       "<!-- 7&#45;&gt;6 -->\n",
       "<g id=\"edge7\" class=\"edge\"><title>7&#45;&gt;6</title>\n",
       "<path fill=\"none\" stroke=\"black\" d=\"M157.473,-216.765C162.37,-208.195 168.485,-197.494 173.967,-187.9\"/>\n",
       "<polygon fill=\"black\" stroke=\"black\" points=\"177.046,-189.566 178.969,-179.147 170.968,-186.093 177.046,-189.566\"/>\n",
       "</g>\n",
       "</g>\n",
       "</svg>\n"
      ],
      "text/plain": [
       "<graphviz.dot.Digraph at 0x10f77ae10>"
      ]
     },
     "execution_count": 24,
     "metadata": {},
     "output_type": "execute_result"
    }
   ],
   "source": [
    "parsing.render_tree(parsing.filter_non_terminals(parse_result, cfg.n))"
   ]
  },
  {
   "cell_type": "markdown",
   "metadata": {
    "collapsed": false,
    "slideshow": {
     "slide_type": "slide"
    }
   },
   "source": [
    "## Ambiguity \n",
    "For real world grammars many phrases have **several legal parse trees**"
   ]
  },
  {
   "cell_type": "markdown",
   "metadata": {
    "collapsed": false,
    "slideshow": {
     "slide_type": "subslide"
    }
   },
   "source": [
    "Consider the following grammar and sentence"
   ]
  },
  {
   "cell_type": "code",
   "execution_count": 25,
   "metadata": {
    "collapsed": true,
    "slideshow": {
     "slide_type": "skip"
    }
   },
   "outputs": [],
   "source": [
    "amb_cfg = CFG.from_rules([\n",
    "        ('S',    ['Subj','VP']),\n",
    "        ('Subj', ['He']),\n",
    "        ('Verb', ['shot']),\n",
    "        ('VP',   ['Verb', 'Obj']),        ('VP', ['Verb', 'Obj', 'PP']),\n",
    "        ('PP',   ['in','his','pyjamas']),\n",
    "        ('Obj',  ['the','elephant']),     ('Obj', ['the','elephant','PP'])\n",
    "    ])\n",
    "amb_cnf_cfg = to_cnf(amb_cfg)\n",
    "amb_sentence = [\"He\", \"shot\", \"the\", \"elephant\", \"in\", \"his\", \"pyjamas\"]"
   ]
  },
  {
   "cell_type": "code",
   "execution_count": 26,
   "metadata": {
    "collapsed": false,
    "hideCode": true,
    "hidePrompt": true,
    "slideshow": {
     "slide_type": "subslide"
    }
   },
   "outputs": [
    {
     "data": {
      "text/html": [
       "<table style=\"display: inline-block;\"><tr><td>S</td><td>Subj VP</td></tr><tr><td>Subj</td><td>He</td></tr><tr><td>Verb</td><td>shot</td></tr></table> <table style=\"display: inline-block;\"><tr><td>VP</td><td>Verb Obj</td></tr><tr><td>VP</td><td>Verb Obj PP</td></tr><tr><td>PP</td><td>in his pyjamas</td></tr></table> <table style=\"display: inline-block;\"><tr><td>Obj</td><td>the elephant</td></tr><tr><td>Obj</td><td>the elephant PP</td></tr></table>"
      ],
      "text/plain": [
       "<__main__.CFG at 0x10f795898>"
      ]
     },
     "execution_count": 26,
     "metadata": {},
     "output_type": "execute_result"
    }
   ],
   "source": [
    "amb_cfg"
   ]
  },
  {
   "cell_type": "code",
   "execution_count": 27,
   "metadata": {
    "collapsed": false,
    "hideCode": true,
    "hidePrompt": true,
    "slideshow": {
     "slide_type": "-"
    }
   },
   "outputs": [
    {
     "data": {
      "text/plain": [
       "['He', 'shot', 'the', 'elephant', 'in', 'his', 'pyjamas']"
      ]
     },
     "execution_count": 27,
     "metadata": {},
     "output_type": "execute_result"
    }
   ],
   "source": [
    "amb_sentence"
   ]
  },
  {
   "cell_type": "code",
   "execution_count": 28,
   "metadata": {
    "collapsed": true,
    "slideshow": {
     "slide_type": "skip"
    }
   },
   "outputs": [],
   "source": [
    "amb_trace = cyk(amb_cnf_cfg, amb_sentence)\n",
    "amb_parse_results = amb_trace[-1].derive_trees()\n",
    "def ambiguous_tree(num):\n",
    "    return parsing.render_tree(parsing.filter_non_terminals(amb_parse_results[num],amb_cfg.n)) # try results[1]"
   ]
  },
  {
   "cell_type": "code",
   "execution_count": 36,
   "metadata": {
    "collapsed": false,
    "slideshow": {
     "slide_type": "subslide"
    }
   },
   "outputs": [
    {
     "data": {
      "image/svg+xml": [
       "<?xml version=\"1.0\" encoding=\"UTF-8\" standalone=\"no\"?>\n",
       "<!DOCTYPE svg PUBLIC \"-//W3C//DTD SVG 1.1//EN\"\n",
       " \"http://www.w3.org/Graphics/SVG/1.1/DTD/svg11.dtd\">\n",
       "<!-- Generated by graphviz version 2.38.0 (20140413.2041)\n",
       " -->\n",
       "<!-- Title: %3 Pages: 1 -->\n",
       "<svg width=\"503pt\" height=\"260pt\"\n",
       " viewBox=\"0.00 0.00 502.58 260.00\" xmlns=\"http://www.w3.org/2000/svg\" xmlns:xlink=\"http://www.w3.org/1999/xlink\">\n",
       "<g id=\"graph0\" class=\"graph\" transform=\"scale(1 1) rotate(0) translate(4 256)\">\n",
       "<title>%3</title>\n",
       "<polygon fill=\"white\" stroke=\"none\" points=\"-4,4 -4,-256 498.578,-256 498.578,4 -4,4\"/>\n",
       "<!-- 0 -->\n",
       "<g id=\"node1\" class=\"node\"><title>0</title>\n",
       "<ellipse fill=\"none\" stroke=\"black\" cx=\"27\" cy=\"-90\" rx=\"27\" ry=\"18\"/>\n",
       "<text text-anchor=\"middle\" x=\"27\" y=\"-85.8\" font-family=\"Times,serif\" font-size=\"14.00\">He</text>\n",
       "</g>\n",
       "<!-- 1 -->\n",
       "<g id=\"node2\" class=\"node\"><title>1</title>\n",
       "<ellipse fill=\"none\" stroke=\"black\" cx=\"63\" cy=\"-162\" rx=\"27\" ry=\"18\"/>\n",
       "<text text-anchor=\"middle\" x=\"63\" y=\"-157.8\" font-family=\"Times,serif\" font-size=\"14.00\">Subj</text>\n",
       "</g>\n",
       "<!-- 1&#45;&gt;0 -->\n",
       "<g id=\"edge1\" class=\"edge\"><title>1&#45;&gt;0</title>\n",
       "<path fill=\"none\" stroke=\"black\" d=\"M54.6504,-144.765C50.2885,-136.283 44.8531,-125.714 39.9587,-116.197\"/>\n",
       "<polygon fill=\"black\" stroke=\"black\" points=\"42.9904,-114.439 35.3043,-107.147 36.7654,-117.641 42.9904,-114.439\"/>\n",
       "</g>\n",
       "<!-- 2 -->\n",
       "<g id=\"node3\" class=\"node\"><title>2</title>\n",
       "<ellipse fill=\"none\" stroke=\"black\" cx=\"56\" cy=\"-18\" rx=\"27\" ry=\"18\"/>\n",
       "<text text-anchor=\"middle\" x=\"56\" y=\"-13.8\" font-family=\"Times,serif\" font-size=\"14.00\">shot</text>\n",
       "</g>\n",
       "<!-- 3 -->\n",
       "<g id=\"node4\" class=\"node\"><title>3</title>\n",
       "<ellipse fill=\"none\" stroke=\"black\" cx=\"99\" cy=\"-90\" rx=\"27\" ry=\"18\"/>\n",
       "<text text-anchor=\"middle\" x=\"99\" y=\"-85.8\" font-family=\"Times,serif\" font-size=\"14.00\">Verb</text>\n",
       "</g>\n",
       "<!-- 3&#45;&gt;2 -->\n",
       "<g id=\"edge2\" class=\"edge\"><title>3&#45;&gt;2</title>\n",
       "<path fill=\"none\" stroke=\"black\" d=\"M89.2426,-73.1159C83.8548,-64.345 77.0477,-53.2637 70.9985,-43.4162\"/>\n",
       "<polygon fill=\"black\" stroke=\"black\" points=\"73.9353,-41.51 65.7188,-34.8212 67.9707,-45.174 73.9353,-41.51\"/>\n",
       "</g>\n",
       "<!-- 4 -->\n",
       "<g id=\"node5\" class=\"node\"><title>4</title>\n",
       "<ellipse fill=\"none\" stroke=\"black\" cx=\"128\" cy=\"-18\" rx=\"27\" ry=\"18\"/>\n",
       "<text text-anchor=\"middle\" x=\"128\" y=\"-13.8\" font-family=\"Times,serif\" font-size=\"14.00\">the</text>\n",
       "</g>\n",
       "<!-- 5 -->\n",
       "<g id=\"node6\" class=\"node\"><title>5</title>\n",
       "<ellipse fill=\"none\" stroke=\"black\" cx=\"213\" cy=\"-18\" rx=\"40.123\" ry=\"18\"/>\n",
       "<text text-anchor=\"middle\" x=\"213\" y=\"-13.8\" font-family=\"Times,serif\" font-size=\"14.00\">elephant</text>\n",
       "</g>\n",
       "<!-- 6 -->\n",
       "<g id=\"node7\" class=\"node\"><title>6</title>\n",
       "<ellipse fill=\"none\" stroke=\"black\" cx=\"171\" cy=\"-90\" rx=\"27\" ry=\"18\"/>\n",
       "<text text-anchor=\"middle\" x=\"171\" y=\"-85.8\" font-family=\"Times,serif\" font-size=\"14.00\">Obj</text>\n",
       "</g>\n",
       "<!-- 6&#45;&gt;4 -->\n",
       "<g id=\"edge3\" class=\"edge\"><title>6&#45;&gt;4</title>\n",
       "<path fill=\"none\" stroke=\"black\" d=\"M161.243,-73.1159C155.855,-64.345 149.048,-53.2637 142.999,-43.4162\"/>\n",
       "<polygon fill=\"black\" stroke=\"black\" points=\"145.935,-41.51 137.719,-34.8212 139.971,-45.174 145.935,-41.51\"/>\n",
       "</g>\n",
       "<!-- 6&#45;&gt;5 -->\n",
       "<g id=\"edge4\" class=\"edge\"><title>6&#45;&gt;5</title>\n",
       "<path fill=\"none\" stroke=\"black\" d=\"M180.53,-73.1159C185.593,-64.679 191.937,-54.1044 197.672,-44.5465\"/>\n",
       "<polygon fill=\"black\" stroke=\"black\" points=\"200.778,-46.173 202.922,-35.7973 194.775,-42.5715 200.778,-46.173\"/>\n",
       "</g>\n",
       "<!-- 7 -->\n",
       "<g id=\"node8\" class=\"node\"><title>7</title>\n",
       "<ellipse fill=\"none\" stroke=\"black\" cx=\"298\" cy=\"-18\" rx=\"27\" ry=\"18\"/>\n",
       "<text text-anchor=\"middle\" x=\"298\" y=\"-13.8\" font-family=\"Times,serif\" font-size=\"14.00\">in</text>\n",
       "</g>\n",
       "<!-- 8 -->\n",
       "<g id=\"node9\" class=\"node\"><title>8</title>\n",
       "<ellipse fill=\"none\" stroke=\"black\" cx=\"370\" cy=\"-18\" rx=\"27\" ry=\"18\"/>\n",
       "<text text-anchor=\"middle\" x=\"370\" y=\"-13.8\" font-family=\"Times,serif\" font-size=\"14.00\">his</text>\n",
       "</g>\n",
       "<!-- 9 -->\n",
       "<g id=\"node10\" class=\"node\"><title>9</title>\n",
       "<ellipse fill=\"none\" stroke=\"black\" cx=\"455\" cy=\"-18\" rx=\"39.6558\" ry=\"18\"/>\n",
       "<text text-anchor=\"middle\" x=\"455\" y=\"-13.8\" font-family=\"Times,serif\" font-size=\"14.00\">pyjamas</text>\n",
       "</g>\n",
       "<!-- 10 -->\n",
       "<g id=\"node11\" class=\"node\"><title>10</title>\n",
       "<ellipse fill=\"none\" stroke=\"black\" cx=\"334\" cy=\"-90\" rx=\"27\" ry=\"18\"/>\n",
       "<text text-anchor=\"middle\" x=\"334\" y=\"-85.8\" font-family=\"Times,serif\" font-size=\"14.00\">PP</text>\n",
       "</g>\n",
       "<!-- 10&#45;&gt;7 -->\n",
       "<g id=\"edge5\" class=\"edge\"><title>10&#45;&gt;7</title>\n",
       "<path fill=\"none\" stroke=\"black\" d=\"M325.65,-72.7646C321.288,-64.2831 315.853,-53.7144 310.959,-44.1974\"/>\n",
       "<polygon fill=\"black\" stroke=\"black\" points=\"313.99,-42.4395 306.304,-35.1473 307.765,-45.6409 313.99,-42.4395\"/>\n",
       "</g>\n",
       "<!-- 10&#45;&gt;8 -->\n",
       "<g id=\"edge6\" class=\"edge\"><title>10&#45;&gt;8</title>\n",
       "<path fill=\"none\" stroke=\"black\" d=\"M342.35,-72.7646C346.712,-64.2831 352.147,-53.7144 357.041,-44.1974\"/>\n",
       "<polygon fill=\"black\" stroke=\"black\" points=\"360.235,-45.6409 361.696,-35.1473 354.01,-42.4395 360.235,-45.6409\"/>\n",
       "</g>\n",
       "<!-- 10&#45;&gt;9 -->\n",
       "<g id=\"edge7\" class=\"edge\"><title>10&#45;&gt;9</title>\n",
       "<path fill=\"none\" stroke=\"black\" d=\"M353.71,-77.5975C372.427,-66.7697 400.892,-50.302 422.886,-37.5783\"/>\n",
       "<polygon fill=\"black\" stroke=\"black\" points=\"424.663,-40.5942 431.566,-32.557 421.157,-34.535 424.663,-40.5942\"/>\n",
       "</g>\n",
       "<!-- 11 -->\n",
       "<g id=\"node12\" class=\"node\"><title>11</title>\n",
       "<ellipse fill=\"none\" stroke=\"black\" cx=\"135\" cy=\"-162\" rx=\"27\" ry=\"18\"/>\n",
       "<text text-anchor=\"middle\" x=\"135\" y=\"-157.8\" font-family=\"Times,serif\" font-size=\"14.00\">VP</text>\n",
       "</g>\n",
       "<!-- 11&#45;&gt;3 -->\n",
       "<g id=\"edge8\" class=\"edge\"><title>11&#45;&gt;3</title>\n",
       "<path fill=\"none\" stroke=\"black\" d=\"M126.65,-144.765C122.288,-136.283 116.853,-125.714 111.959,-116.197\"/>\n",
       "<polygon fill=\"black\" stroke=\"black\" points=\"114.99,-114.439 107.304,-107.147 108.765,-117.641 114.99,-114.439\"/>\n",
       "</g>\n",
       "<!-- 11&#45;&gt;6 -->\n",
       "<g id=\"edge9\" class=\"edge\"><title>11&#45;&gt;6</title>\n",
       "<path fill=\"none\" stroke=\"black\" d=\"M143.35,-144.765C147.712,-136.283 153.147,-125.714 158.041,-116.197\"/>\n",
       "<polygon fill=\"black\" stroke=\"black\" points=\"161.235,-117.641 162.696,-107.147 155.01,-114.439 161.235,-117.641\"/>\n",
       "</g>\n",
       "<!-- 11&#45;&gt;10 -->\n",
       "<g id=\"edge10\" class=\"edge\"><title>11&#45;&gt;10</title>\n",
       "<path fill=\"none\" stroke=\"black\" d=\"M158.609,-152.695C194.011,-140.242 260.971,-116.689 301.132,-102.562\"/>\n",
       "<polygon fill=\"black\" stroke=\"black\" points=\"302.457,-105.806 310.729,-99.1857 300.134,-99.2023 302.457,-105.806\"/>\n",
       "</g>\n",
       "<!-- 12 -->\n",
       "<g id=\"node13\" class=\"node\"><title>12</title>\n",
       "<ellipse fill=\"none\" stroke=\"black\" cx=\"99\" cy=\"-234\" rx=\"27\" ry=\"18\"/>\n",
       "<text text-anchor=\"middle\" x=\"99\" y=\"-229.8\" font-family=\"Times,serif\" font-size=\"14.00\">S</text>\n",
       "</g>\n",
       "<!-- 12&#45;&gt;1 -->\n",
       "<g id=\"edge11\" class=\"edge\"><title>12&#45;&gt;1</title>\n",
       "<path fill=\"none\" stroke=\"black\" d=\"M90.6504,-216.765C86.2885,-208.283 80.8531,-197.714 75.9587,-188.197\"/>\n",
       "<polygon fill=\"black\" stroke=\"black\" points=\"78.9904,-186.439 71.3043,-179.147 72.7654,-189.641 78.9904,-186.439\"/>\n",
       "</g>\n",
       "<!-- 12&#45;&gt;11 -->\n",
       "<g id=\"edge12\" class=\"edge\"><title>12&#45;&gt;11</title>\n",
       "<path fill=\"none\" stroke=\"black\" d=\"M107.35,-216.765C111.712,-208.283 117.147,-197.714 122.041,-188.197\"/>\n",
       "<polygon fill=\"black\" stroke=\"black\" points=\"125.235,-189.641 126.696,-179.147 119.01,-186.439 125.235,-189.641\"/>\n",
       "</g>\n",
       "</g>\n",
       "</svg>\n"
      ],
      "text/plain": [
       "<graphviz.dot.Digraph at 0x10f4390b8>"
      ]
     },
     "execution_count": 36,
     "metadata": {},
     "output_type": "execute_result"
    }
   ],
   "source": [
    "ambiguous_tree(1) # try tree 1 "
   ]
  },
  {
   "cell_type": "markdown",
   "metadata": {
    "collapsed": false,
    "slideshow": {
     "slide_type": "subslide"
    }
   },
   "source": [
    "**prepositional phrase attachment ambiguity**: \"in his pyjamas\" could be \n",
    "\n",
    "* in verb phrase (in pyjamas when shooting)\n",
    "* in noun phrase (elephant in pyjamas)\n"
   ]
  },
  {
   "cell_type": "markdown",
   "metadata": {
    "collapsed": false,
    "slideshow": {
     "slide_type": "fragment"
    }
   },
   "source": [
    "Both readings are grammatical, but one is **more probable**"
   ]
  },
  {
   "cell_type": "markdown",
   "metadata": {
    "slideshow": {
     "slide_type": "slide"
    }
   },
   "source": [
    "## Probabilistic Context Free Grammars\n",
    "[Probabilistic Context Free Grammars](http://www.cs.columbia.edu/~mcollins/courses/nlp2011/notes/pcfgs.pdf) (PFCGs) are Context Free Grammars in which rules have probabilities \n",
    "\n",
    "* A Context Free Grammar \\\\(G(N,\\Sigma,R,S)\\\\)\n",
    "* A parameter \\\\(\\param(\\alpha \\rightarrow \\beta) \\in \\[0,1\\]\\\\) for each rule  \\\\(\\alpha \\rightarrow \\beta \\in R\\\\) \n",
    "* For each left hand side \\\\(\\alpha \\in N\\\\) we require \\\\(\\sum_\\beta \\param(\\alpha \\rightarrow \\beta) = 1\\\\)"
   ]
  },
  {
   "cell_type": "markdown",
   "metadata": {
    "collapsed": false,
    "slideshow": {
     "slide_type": "subslide"
    }
   },
   "source": [
    "A PCFG defines probability for parse tree \\\\(\\mathbf{t}\\\\) containing the rules \\\\(\\alpha_1 \\rightarrow \\beta_1, \\ldots, \\alpha_n \\rightarrow \\beta_n\\\\):\n",
    "$$\n",
    "  \\newcommand{parse}{\\mathbf{t}}\n",
    "  p_{\\param}(\\parse) = \\prod_i^n \\param(\\alpha_i \\rightarrow \\beta_i) \n",
    "$$\n"
   ]
  },
  {
   "cell_type": "markdown",
   "metadata": {
    "collapsed": false,
    "slideshow": {
     "slide_type": "subslide"
    }
   },
   "source": [
    "Example PCFG:"
   ]
  },
  {
   "cell_type": "code",
   "execution_count": 30,
   "metadata": {
    "collapsed": false,
    "hideCode": true,
    "hidePrompt": true,
    "slideshow": {
     "slide_type": "-"
    }
   },
   "outputs": [
    {
     "data": {
      "text/html": [
       "<table style=\"display: inline-block;\"><tr><td>S</td><td>1.0</td><td>Subj VP</td></tr><tr><td>Subj</td><td>1.0</td><td>He</td></tr><tr><td>Verb</td><td>1.0</td><td>shot</td></tr></table> <table style=\"display: inline-block;\"><tr><td>VP</td><td>0.3</td><td>Verb Obj</td></tr><tr><td>VP</td><td>0.7</td><td>Verb Obj PP</td></tr><tr><td>PP</td><td>1.0</td><td>in his pyjamas</td></tr></table> <table style=\"display: inline-block;\"><tr><td>Obj</td><td>0.5</td><td>the elephant</td></tr><tr><td>Obj</td><td>0.5</td><td>the elephant PP</td></tr></table>"
      ],
      "text/plain": [
       "<__main__.PCFG at 0x10f7a14e0>"
      ]
     },
     "execution_count": 30,
     "metadata": {},
     "output_type": "execute_result"
    }
   ],
   "source": [
    "pcfg = PCFG.from_rules([\n",
    "        ('S',    1.0, ['Subj','VP']),\n",
    "        ('Subj', 1.0, ['He']),\n",
    "        ('Verb', 1.0, ['shot']),\n",
    "        ('VP',   0.3, ['Verb', 'Obj']),        ('VP',  0.7, ['Verb', 'Obj', 'PP']),\n",
    "        ('PP',   1.0, ['in','his','pyjamas']),\n",
    "        ('Obj',  0.5, ['the','elephant']),     ('Obj', 0.5, ['the','elephant','PP'])\n",
    "    ])\n",
    "pcfg"
   ]
  },
  {
   "cell_type": "markdown",
   "metadata": {
    "collapsed": false,
    "slideshow": {
     "slide_type": "slide"
    }
   },
   "source": [
    "## Parsing\n",
    "\n",
    "For given sentence $\\x$, let $\\Ys(\\x,G)$ be all trees $\\mathbf{t}$ with $\\x$ as terminals:\n",
    "\n",
    "$$\n",
    "\\argmax_{\\mathbf{t} \\in \\Ys(\\x,G)} \\prob_\\params(\\mathbf{t}) \n",
    "$$\n"
   ]
  },
  {
   "cell_type": "markdown",
   "metadata": {
    "collapsed": false,
    "slideshow": {
     "slide_type": "subslide"
    }
   },
   "source": [
    "## CYK for PCFGs\n",
    "\n",
    "We can use a variant of the CYK algorithm to solve the prediction problem"
   ]
  },
  {
   "cell_type": "code",
   "execution_count": 31,
   "metadata": {
    "collapsed": false,
    "hideCode": true,
    "hidePrompt": true,
    "scrolled": true,
    "slideshow": {
     "slide_type": "subslide"
    }
   },
   "outputs": [
    {
     "data": {
      "text/html": [
       "<table style=\"display: inline-block;\"><tr><td>S</td><td>1.0</td><td>Subj VP</td></tr><tr><td>Subj</td><td>1.0</td><td>He</td></tr><tr><td>Verb</td><td>1.0</td><td>shot</td></tr><tr><td>VP</td><td>0.3</td><td>Verb Obj</td></tr><tr><td>VP</td><td>0.7</td><td>Verb VP_0</td></tr><tr><td>VP_0</td><td>1.0</td><td>Obj PP</td></tr></table> <table style=\"display: inline-block;\"><tr><td>PP_2</td><td>1.0</td><td>in</td></tr><tr><td>PP</td><td>1.0</td><td>PP_2 PP_1</td></tr><tr><td>PP_1_3</td><td>1.0</td><td>his</td></tr><tr><td>PP_1_4</td><td>1.0</td><td>pyjamas</td></tr><tr><td>PP_1</td><td>1.0</td><td>PP_1_3 PP_1_4</td></tr><tr><td>Obj_5</td><td>1.0</td><td>the</td></tr></table> <table style=\"display: inline-block;\"><tr><td>Obj_6</td><td>1.0</td><td>elephant</td></tr><tr><td>Obj</td><td>0.5</td><td>Obj_5 Obj_6</td></tr><tr><td>Obj_8</td><td>1.0</td><td>the</td></tr><tr><td>Obj</td><td>0.5</td><td>Obj_8 Obj_7</td></tr><tr><td>Obj_7_9</td><td>1.0</td><td>elephant</td></tr><tr><td>Obj_7</td><td>1.0</td><td>Obj_7_9 PP</td></tr></table>"
      ],
      "text/plain": [
       "<__main__.PCFG at 0x10f84fba8>"
      ]
     },
     "execution_count": 31,
     "metadata": {},
     "output_type": "execute_result"
    }
   ],
   "source": [
    "cnf_pcfg"
   ]
  },
  {
   "cell_type": "code",
   "execution_count": 32,
   "metadata": {
    "collapsed": false,
    "hideCode": true,
    "hidePrompt": true,
    "scrolled": true,
    "slideshow": {
     "slide_type": "-"
    }
   },
   "outputs": [
    {
     "data": {
      "text/html": [
       "\n",
       "        <div id=\"8c06295a-9f3f-11e6-afaa-a0999b02cfbb\" class=\"carousel\" data-ride=\"carousel\" data-interval=\"false\">\n",
       "          <!-- Controls -->\n",
       "          <a href=\"#8c06295a-9f3f-11e6-afaa-a0999b02cfbb\" role=\"button\" data-slide=\"prev\">Previous</a>\n",
       "          &nbsp\n",
       "          <a  href=\"#8c06295a-9f3f-11e6-afaa-a0999b02cfbb\" role=\"button\" data-slide=\"next\">Next</a>\n",
       "          <div class=\"carousel-inner\" role=\"listbox\">\n",
       "          <div class=\"item active\"><table><tr><td></td><td>0: He</td><td>1: shot</td><td>2: the</td><td>3: elephant</td><td>4: in</td><td>5: his</td><td>6: pyjamas</td></tr>\n",
       "<tr><td>0: He</td><td style=\"border:solid;\" bgcolor=\"white\"></td><td style=\"border:solid;\" bgcolor=\"white\"></td><td style=\"border:solid;\" bgcolor=\"white\"></td><td style=\"border:solid;\" bgcolor=\"white\"></td><td style=\"border:solid;\" bgcolor=\"white\"></td><td style=\"border:solid;\" bgcolor=\"white\"></td><td style=\"border:solid;\" bgcolor=\"white\"></td></tr>\n",
       "<tr><td>1: shot</td><td style=\"border:none;\" bgcolor=\"white\"></td><td style=\"border:solid;\" bgcolor=\"white\"></td><td style=\"border:solid;\" bgcolor=\"white\"></td><td style=\"border:solid;\" bgcolor=\"white\"></td><td style=\"border:solid;\" bgcolor=\"white\"></td><td style=\"border:solid;\" bgcolor=\"white\"></td><td style=\"border:solid;\" bgcolor=\"white\"></td></tr>\n",
       "<tr><td>2: the</td><td style=\"border:none;\" bgcolor=\"white\"></td><td style=\"border:none;\" bgcolor=\"white\"></td><td style=\"border:solid;\" bgcolor=\"white\"></td><td style=\"border:solid;\" bgcolor=\"white\"></td><td style=\"border:solid;\" bgcolor=\"white\"></td><td style=\"border:solid;\" bgcolor=\"white\"></td><td style=\"border:solid;\" bgcolor=\"white\"></td></tr>\n",
       "<tr><td>3: elephant</td><td style=\"border:none;\" bgcolor=\"white\"></td><td style=\"border:none;\" bgcolor=\"white\"></td><td style=\"border:none;\" bgcolor=\"white\"></td><td style=\"border:solid;\" bgcolor=\"white\"></td><td style=\"border:solid;\" bgcolor=\"white\"></td><td style=\"border:solid;\" bgcolor=\"white\"></td><td style=\"border:solid;\" bgcolor=\"white\"></td></tr>\n",
       "<tr><td>4: in</td><td style=\"border:none;\" bgcolor=\"white\"></td><td style=\"border:none;\" bgcolor=\"white\"></td><td style=\"border:none;\" bgcolor=\"white\"></td><td style=\"border:none;\" bgcolor=\"white\"></td><td style=\"border:solid;\" bgcolor=\"white\"></td><td style=\"border:solid;\" bgcolor=\"white\"></td><td style=\"border:solid;\" bgcolor=\"white\"></td></tr>\n",
       "<tr><td>5: his</td><td style=\"border:none;\" bgcolor=\"white\"></td><td style=\"border:none;\" bgcolor=\"white\"></td><td style=\"border:none;\" bgcolor=\"white\"></td><td style=\"border:none;\" bgcolor=\"white\"></td><td style=\"border:none;\" bgcolor=\"white\"></td><td style=\"border:solid;\" bgcolor=\"white\"></td><td style=\"border:solid;\" bgcolor=\"white\"></td></tr>\n",
       "<tr><td>6: pyjamas</td><td style=\"border:none;\" bgcolor=\"white\"></td><td style=\"border:none;\" bgcolor=\"white\"></td><td style=\"border:none;\" bgcolor=\"white\"></td><td style=\"border:none;\" bgcolor=\"white\"></td><td style=\"border:none;\" bgcolor=\"white\"></td><td style=\"border:none;\" bgcolor=\"white\"></td><td style=\"border:solid;\" bgcolor=\"white\"></td></tr></table> 1 / 112</div>\n",
       "<div class=\"item\"><table><tr><td></td><td>0: He</td><td>1: shot</td><td>2: the</td><td>3: elephant</td><td>4: in</td><td>5: his</td><td>6: pyjamas</td></tr>\n",
       "<tr><td>0: He</td><td style=\"border:solid;\" bgcolor=\"#C3C3C3\"></td><td style=\"border:solid;\" bgcolor=\"white\"></td><td style=\"border:solid;\" bgcolor=\"white\"></td><td style=\"border:solid;\" bgcolor=\"white\"></td><td style=\"border:solid;\" bgcolor=\"white\"></td><td style=\"border:solid;\" bgcolor=\"white\"></td><td style=\"border:solid;\" bgcolor=\"white\"></td></tr>\n",
       "<tr><td>1: shot</td><td style=\"border:none;\" bgcolor=\"white\"></td><td style=\"border:solid;\" bgcolor=\"white\"></td><td style=\"border:solid;\" bgcolor=\"white\"></td><td style=\"border:solid;\" bgcolor=\"white\"></td><td style=\"border:solid;\" bgcolor=\"white\"></td><td style=\"border:solid;\" bgcolor=\"white\"></td><td style=\"border:solid;\" bgcolor=\"white\"></td></tr>\n",
       "<tr><td>2: the</td><td style=\"border:none;\" bgcolor=\"white\"></td><td style=\"border:none;\" bgcolor=\"white\"></td><td style=\"border:solid;\" bgcolor=\"white\"></td><td style=\"border:solid;\" bgcolor=\"white\"></td><td style=\"border:solid;\" bgcolor=\"white\"></td><td style=\"border:solid;\" bgcolor=\"white\"></td><td style=\"border:solid;\" bgcolor=\"white\"></td></tr>\n",
       "<tr><td>3: elephant</td><td style=\"border:none;\" bgcolor=\"white\"></td><td style=\"border:none;\" bgcolor=\"white\"></td><td style=\"border:none;\" bgcolor=\"white\"></td><td style=\"border:solid;\" bgcolor=\"white\"></td><td style=\"border:solid;\" bgcolor=\"white\"></td><td style=\"border:solid;\" bgcolor=\"white\"></td><td style=\"border:solid;\" bgcolor=\"white\"></td></tr>\n",
       "<tr><td>4: in</td><td style=\"border:none;\" bgcolor=\"white\"></td><td style=\"border:none;\" bgcolor=\"white\"></td><td style=\"border:none;\" bgcolor=\"white\"></td><td style=\"border:none;\" bgcolor=\"white\"></td><td style=\"border:solid;\" bgcolor=\"white\"></td><td style=\"border:solid;\" bgcolor=\"white\"></td><td style=\"border:solid;\" bgcolor=\"white\"></td></tr>\n",
       "<tr><td>5: his</td><td style=\"border:none;\" bgcolor=\"white\"></td><td style=\"border:none;\" bgcolor=\"white\"></td><td style=\"border:none;\" bgcolor=\"white\"></td><td style=\"border:none;\" bgcolor=\"white\"></td><td style=\"border:none;\" bgcolor=\"white\"></td><td style=\"border:solid;\" bgcolor=\"white\"></td><td style=\"border:solid;\" bgcolor=\"white\"></td></tr>\n",
       "<tr><td>6: pyjamas</td><td style=\"border:none;\" bgcolor=\"white\"></td><td style=\"border:none;\" bgcolor=\"white\"></td><td style=\"border:none;\" bgcolor=\"white\"></td><td style=\"border:none;\" bgcolor=\"white\"></td><td style=\"border:none;\" bgcolor=\"white\"></td><td style=\"border:none;\" bgcolor=\"white\"></td><td style=\"border:solid;\" bgcolor=\"white\"></td></tr></table> 2 / 112</div>\n",
       "<div class=\"item\"><table><tr><td></td><td>0: He</td><td>1: shot</td><td>2: the</td><td>3: elephant</td><td>4: in</td><td>5: his</td><td>6: pyjamas</td></tr>\n",
       "<tr><td>0: He</td><td style=\"border:solid;\" bgcolor=\"#C3C3C3\"><font color=\"blue\">Subj: 0.00</font></td><td style=\"border:solid;\" bgcolor=\"white\"></td><td style=\"border:solid;\" bgcolor=\"white\"></td><td style=\"border:solid;\" bgcolor=\"white\"></td><td style=\"border:solid;\" bgcolor=\"white\"></td><td style=\"border:solid;\" bgcolor=\"white\"></td><td style=\"border:solid;\" bgcolor=\"white\"></td></tr>\n",
       "<tr><td>1: shot</td><td style=\"border:none;\" bgcolor=\"white\"></td><td style=\"border:solid;\" bgcolor=\"white\"></td><td style=\"border:solid;\" bgcolor=\"white\"></td><td style=\"border:solid;\" bgcolor=\"white\"></td><td style=\"border:solid;\" bgcolor=\"white\"></td><td style=\"border:solid;\" bgcolor=\"white\"></td><td style=\"border:solid;\" bgcolor=\"white\"></td></tr>\n",
       "<tr><td>2: the</td><td style=\"border:none;\" bgcolor=\"white\"></td><td style=\"border:none;\" bgcolor=\"white\"></td><td style=\"border:solid;\" bgcolor=\"white\"></td><td style=\"border:solid;\" bgcolor=\"white\"></td><td style=\"border:solid;\" bgcolor=\"white\"></td><td style=\"border:solid;\" bgcolor=\"white\"></td><td style=\"border:solid;\" bgcolor=\"white\"></td></tr>\n",
       "<tr><td>3: elephant</td><td style=\"border:none;\" bgcolor=\"white\"></td><td style=\"border:none;\" bgcolor=\"white\"></td><td style=\"border:none;\" bgcolor=\"white\"></td><td style=\"border:solid;\" bgcolor=\"white\"></td><td style=\"border:solid;\" bgcolor=\"white\"></td><td style=\"border:solid;\" bgcolor=\"white\"></td><td style=\"border:solid;\" bgcolor=\"white\"></td></tr>\n",
       "<tr><td>4: in</td><td style=\"border:none;\" bgcolor=\"white\"></td><td style=\"border:none;\" bgcolor=\"white\"></td><td style=\"border:none;\" bgcolor=\"white\"></td><td style=\"border:none;\" bgcolor=\"white\"></td><td style=\"border:solid;\" bgcolor=\"white\"></td><td style=\"border:solid;\" bgcolor=\"white\"></td><td style=\"border:solid;\" bgcolor=\"white\"></td></tr>\n",
       "<tr><td>5: his</td><td style=\"border:none;\" bgcolor=\"white\"></td><td style=\"border:none;\" bgcolor=\"white\"></td><td style=\"border:none;\" bgcolor=\"white\"></td><td style=\"border:none;\" bgcolor=\"white\"></td><td style=\"border:none;\" bgcolor=\"white\"></td><td style=\"border:solid;\" bgcolor=\"white\"></td><td style=\"border:solid;\" bgcolor=\"white\"></td></tr>\n",
       "<tr><td>6: pyjamas</td><td style=\"border:none;\" bgcolor=\"white\"></td><td style=\"border:none;\" bgcolor=\"white\"></td><td style=\"border:none;\" bgcolor=\"white\"></td><td style=\"border:none;\" bgcolor=\"white\"></td><td style=\"border:none;\" bgcolor=\"white\"></td><td style=\"border:none;\" bgcolor=\"white\"></td><td style=\"border:solid;\" bgcolor=\"white\"></td></tr></table> 3 / 112</div>\n",
       "<div class=\"item\"><table><tr><td></td><td>0: He</td><td>1: shot</td><td>2: the</td><td>3: elephant</td><td>4: in</td><td>5: his</td><td>6: pyjamas</td></tr>\n",
       "<tr><td>0: He</td><td style=\"border:solid;\" bgcolor=\"white\"><font color=\"blue\">Subj: 0.00</font></td><td style=\"border:solid;\" bgcolor=\"white\"></td><td style=\"border:solid;\" bgcolor=\"white\"></td><td style=\"border:solid;\" bgcolor=\"white\"></td><td style=\"border:solid;\" bgcolor=\"white\"></td><td style=\"border:solid;\" bgcolor=\"white\"></td><td style=\"border:solid;\" bgcolor=\"white\"></td></tr>\n",
       "<tr><td>1: shot</td><td style=\"border:none;\" bgcolor=\"white\"></td><td style=\"border:solid;\" bgcolor=\"#C3C3C3\"></td><td style=\"border:solid;\" bgcolor=\"white\"></td><td style=\"border:solid;\" bgcolor=\"white\"></td><td style=\"border:solid;\" bgcolor=\"white\"></td><td style=\"border:solid;\" bgcolor=\"white\"></td><td style=\"border:solid;\" bgcolor=\"white\"></td></tr>\n",
       "<tr><td>2: the</td><td style=\"border:none;\" bgcolor=\"white\"></td><td style=\"border:none;\" bgcolor=\"white\"></td><td style=\"border:solid;\" bgcolor=\"white\"></td><td style=\"border:solid;\" bgcolor=\"white\"></td><td style=\"border:solid;\" bgcolor=\"white\"></td><td style=\"border:solid;\" bgcolor=\"white\"></td><td style=\"border:solid;\" bgcolor=\"white\"></td></tr>\n",
       "<tr><td>3: elephant</td><td style=\"border:none;\" bgcolor=\"white\"></td><td style=\"border:none;\" bgcolor=\"white\"></td><td style=\"border:none;\" bgcolor=\"white\"></td><td style=\"border:solid;\" bgcolor=\"white\"></td><td style=\"border:solid;\" bgcolor=\"white\"></td><td style=\"border:solid;\" bgcolor=\"white\"></td><td style=\"border:solid;\" bgcolor=\"white\"></td></tr>\n",
       "<tr><td>4: in</td><td style=\"border:none;\" bgcolor=\"white\"></td><td style=\"border:none;\" bgcolor=\"white\"></td><td style=\"border:none;\" bgcolor=\"white\"></td><td style=\"border:none;\" bgcolor=\"white\"></td><td style=\"border:solid;\" bgcolor=\"white\"></td><td style=\"border:solid;\" bgcolor=\"white\"></td><td style=\"border:solid;\" bgcolor=\"white\"></td></tr>\n",
       "<tr><td>5: his</td><td style=\"border:none;\" bgcolor=\"white\"></td><td style=\"border:none;\" bgcolor=\"white\"></td><td style=\"border:none;\" bgcolor=\"white\"></td><td style=\"border:none;\" bgcolor=\"white\"></td><td style=\"border:none;\" bgcolor=\"white\"></td><td style=\"border:solid;\" bgcolor=\"white\"></td><td style=\"border:solid;\" bgcolor=\"white\"></td></tr>\n",
       "<tr><td>6: pyjamas</td><td style=\"border:none;\" bgcolor=\"white\"></td><td style=\"border:none;\" bgcolor=\"white\"></td><td style=\"border:none;\" bgcolor=\"white\"></td><td style=\"border:none;\" bgcolor=\"white\"></td><td style=\"border:none;\" bgcolor=\"white\"></td><td style=\"border:none;\" bgcolor=\"white\"></td><td style=\"border:solid;\" bgcolor=\"white\"></td></tr></table> 4 / 112</div>\n",
       "<div class=\"item\"><table><tr><td></td><td>0: He</td><td>1: shot</td><td>2: the</td><td>3: elephant</td><td>4: in</td><td>5: his</td><td>6: pyjamas</td></tr>\n",
       "<tr><td>0: He</td><td style=\"border:solid;\" bgcolor=\"white\"><font color=\"black\">Subj: 0.00</font></td><td style=\"border:solid;\" bgcolor=\"white\"></td><td style=\"border:solid;\" bgcolor=\"white\"></td><td style=\"border:solid;\" bgcolor=\"white\"></td><td style=\"border:solid;\" bgcolor=\"white\"></td><td style=\"border:solid;\" bgcolor=\"white\"></td><td style=\"border:solid;\" bgcolor=\"white\"></td></tr>\n",
       "<tr><td>1: shot</td><td style=\"border:none;\" bgcolor=\"white\"></td><td style=\"border:solid;\" bgcolor=\"#C3C3C3\"><font color=\"blue\">Verb: 0.00</font></td><td style=\"border:solid;\" bgcolor=\"white\"></td><td style=\"border:solid;\" bgcolor=\"white\"></td><td style=\"border:solid;\" bgcolor=\"white\"></td><td style=\"border:solid;\" bgcolor=\"white\"></td><td style=\"border:solid;\" bgcolor=\"white\"></td></tr>\n",
       "<tr><td>2: the</td><td style=\"border:none;\" bgcolor=\"white\"></td><td style=\"border:none;\" bgcolor=\"white\"></td><td style=\"border:solid;\" bgcolor=\"white\"></td><td style=\"border:solid;\" bgcolor=\"white\"></td><td style=\"border:solid;\" bgcolor=\"white\"></td><td style=\"border:solid;\" bgcolor=\"white\"></td><td style=\"border:solid;\" bgcolor=\"white\"></td></tr>\n",
       "<tr><td>3: elephant</td><td style=\"border:none;\" bgcolor=\"white\"></td><td style=\"border:none;\" bgcolor=\"white\"></td><td style=\"border:none;\" bgcolor=\"white\"></td><td style=\"border:solid;\" bgcolor=\"white\"></td><td style=\"border:solid;\" bgcolor=\"white\"></td><td style=\"border:solid;\" bgcolor=\"white\"></td><td style=\"border:solid;\" bgcolor=\"white\"></td></tr>\n",
       "<tr><td>4: in</td><td style=\"border:none;\" bgcolor=\"white\"></td><td style=\"border:none;\" bgcolor=\"white\"></td><td style=\"border:none;\" bgcolor=\"white\"></td><td style=\"border:none;\" bgcolor=\"white\"></td><td style=\"border:solid;\" bgcolor=\"white\"></td><td style=\"border:solid;\" bgcolor=\"white\"></td><td style=\"border:solid;\" bgcolor=\"white\"></td></tr>\n",
       "<tr><td>5: his</td><td style=\"border:none;\" bgcolor=\"white\"></td><td style=\"border:none;\" bgcolor=\"white\"></td><td style=\"border:none;\" bgcolor=\"white\"></td><td style=\"border:none;\" bgcolor=\"white\"></td><td style=\"border:none;\" bgcolor=\"white\"></td><td style=\"border:solid;\" bgcolor=\"white\"></td><td style=\"border:solid;\" bgcolor=\"white\"></td></tr>\n",
       "<tr><td>6: pyjamas</td><td style=\"border:none;\" bgcolor=\"white\"></td><td style=\"border:none;\" bgcolor=\"white\"></td><td style=\"border:none;\" bgcolor=\"white\"></td><td style=\"border:none;\" bgcolor=\"white\"></td><td style=\"border:none;\" bgcolor=\"white\"></td><td style=\"border:none;\" bgcolor=\"white\"></td><td style=\"border:solid;\" bgcolor=\"white\"></td></tr></table> 5 / 112</div>\n",
       "<div class=\"item\"><table><tr><td></td><td>0: He</td><td>1: shot</td><td>2: the</td><td>3: elephant</td><td>4: in</td><td>5: his</td><td>6: pyjamas</td></tr>\n",
       "<tr><td>0: He</td><td style=\"border:solid;\" bgcolor=\"white\"><font color=\"black\">Subj: 0.00</font></td><td style=\"border:solid;\" bgcolor=\"white\"></td><td style=\"border:solid;\" bgcolor=\"white\"></td><td style=\"border:solid;\" bgcolor=\"white\"></td><td style=\"border:solid;\" bgcolor=\"white\"></td><td style=\"border:solid;\" bgcolor=\"white\"></td><td style=\"border:solid;\" bgcolor=\"white\"></td></tr>\n",
       "<tr><td>1: shot</td><td style=\"border:none;\" bgcolor=\"white\"></td><td style=\"border:solid;\" bgcolor=\"white\"><font color=\"blue\">Verb: 0.00</font></td><td style=\"border:solid;\" bgcolor=\"white\"></td><td style=\"border:solid;\" bgcolor=\"white\"></td><td style=\"border:solid;\" bgcolor=\"white\"></td><td style=\"border:solid;\" bgcolor=\"white\"></td><td style=\"border:solid;\" bgcolor=\"white\"></td></tr>\n",
       "<tr><td>2: the</td><td style=\"border:none;\" bgcolor=\"white\"></td><td style=\"border:none;\" bgcolor=\"white\"></td><td style=\"border:solid;\" bgcolor=\"#C3C3C3\"></td><td style=\"border:solid;\" bgcolor=\"white\"></td><td style=\"border:solid;\" bgcolor=\"white\"></td><td style=\"border:solid;\" bgcolor=\"white\"></td><td style=\"border:solid;\" bgcolor=\"white\"></td></tr>\n",
       "<tr><td>3: elephant</td><td style=\"border:none;\" bgcolor=\"white\"></td><td style=\"border:none;\" bgcolor=\"white\"></td><td style=\"border:none;\" bgcolor=\"white\"></td><td style=\"border:solid;\" bgcolor=\"white\"></td><td style=\"border:solid;\" bgcolor=\"white\"></td><td style=\"border:solid;\" bgcolor=\"white\"></td><td style=\"border:solid;\" bgcolor=\"white\"></td></tr>\n",
       "<tr><td>4: in</td><td style=\"border:none;\" bgcolor=\"white\"></td><td style=\"border:none;\" bgcolor=\"white\"></td><td style=\"border:none;\" bgcolor=\"white\"></td><td style=\"border:none;\" bgcolor=\"white\"></td><td style=\"border:solid;\" bgcolor=\"white\"></td><td style=\"border:solid;\" bgcolor=\"white\"></td><td style=\"border:solid;\" bgcolor=\"white\"></td></tr>\n",
       "<tr><td>5: his</td><td style=\"border:none;\" bgcolor=\"white\"></td><td style=\"border:none;\" bgcolor=\"white\"></td><td style=\"border:none;\" bgcolor=\"white\"></td><td style=\"border:none;\" bgcolor=\"white\"></td><td style=\"border:none;\" bgcolor=\"white\"></td><td style=\"border:solid;\" bgcolor=\"white\"></td><td style=\"border:solid;\" bgcolor=\"white\"></td></tr>\n",
       "<tr><td>6: pyjamas</td><td style=\"border:none;\" bgcolor=\"white\"></td><td style=\"border:none;\" bgcolor=\"white\"></td><td style=\"border:none;\" bgcolor=\"white\"></td><td style=\"border:none;\" bgcolor=\"white\"></td><td style=\"border:none;\" bgcolor=\"white\"></td><td style=\"border:none;\" bgcolor=\"white\"></td><td style=\"border:solid;\" bgcolor=\"white\"></td></tr></table> 6 / 112</div>\n",
       "<div class=\"item\"><table><tr><td></td><td>0: He</td><td>1: shot</td><td>2: the</td><td>3: elephant</td><td>4: in</td><td>5: his</td><td>6: pyjamas</td></tr>\n",
       "<tr><td>0: He</td><td style=\"border:solid;\" bgcolor=\"white\"><font color=\"black\">Subj: 0.00</font></td><td style=\"border:solid;\" bgcolor=\"white\"></td><td style=\"border:solid;\" bgcolor=\"white\"></td><td style=\"border:solid;\" bgcolor=\"white\"></td><td style=\"border:solid;\" bgcolor=\"white\"></td><td style=\"border:solid;\" bgcolor=\"white\"></td><td style=\"border:solid;\" bgcolor=\"white\"></td></tr>\n",
       "<tr><td>1: shot</td><td style=\"border:none;\" bgcolor=\"white\"></td><td style=\"border:solid;\" bgcolor=\"white\"><font color=\"black\">Verb: 0.00</font></td><td style=\"border:solid;\" bgcolor=\"white\"></td><td style=\"border:solid;\" bgcolor=\"white\"></td><td style=\"border:solid;\" bgcolor=\"white\"></td><td style=\"border:solid;\" bgcolor=\"white\"></td><td style=\"border:solid;\" bgcolor=\"white\"></td></tr>\n",
       "<tr><td>2: the</td><td style=\"border:none;\" bgcolor=\"white\"></td><td style=\"border:none;\" bgcolor=\"white\"></td><td style=\"border:solid;\" bgcolor=\"#C3C3C3\"><font color=\"blue\">Obj_5: 0.00</font></td><td style=\"border:solid;\" bgcolor=\"white\"></td><td style=\"border:solid;\" bgcolor=\"white\"></td><td style=\"border:solid;\" bgcolor=\"white\"></td><td style=\"border:solid;\" bgcolor=\"white\"></td></tr>\n",
       "<tr><td>3: elephant</td><td style=\"border:none;\" bgcolor=\"white\"></td><td style=\"border:none;\" bgcolor=\"white\"></td><td style=\"border:none;\" bgcolor=\"white\"></td><td style=\"border:solid;\" bgcolor=\"white\"></td><td style=\"border:solid;\" bgcolor=\"white\"></td><td style=\"border:solid;\" bgcolor=\"white\"></td><td style=\"border:solid;\" bgcolor=\"white\"></td></tr>\n",
       "<tr><td>4: in</td><td style=\"border:none;\" bgcolor=\"white\"></td><td style=\"border:none;\" bgcolor=\"white\"></td><td style=\"border:none;\" bgcolor=\"white\"></td><td style=\"border:none;\" bgcolor=\"white\"></td><td style=\"border:solid;\" bgcolor=\"white\"></td><td style=\"border:solid;\" bgcolor=\"white\"></td><td style=\"border:solid;\" bgcolor=\"white\"></td></tr>\n",
       "<tr><td>5: his</td><td style=\"border:none;\" bgcolor=\"white\"></td><td style=\"border:none;\" bgcolor=\"white\"></td><td style=\"border:none;\" bgcolor=\"white\"></td><td style=\"border:none;\" bgcolor=\"white\"></td><td style=\"border:none;\" bgcolor=\"white\"></td><td style=\"border:solid;\" bgcolor=\"white\"></td><td style=\"border:solid;\" bgcolor=\"white\"></td></tr>\n",
       "<tr><td>6: pyjamas</td><td style=\"border:none;\" bgcolor=\"white\"></td><td style=\"border:none;\" bgcolor=\"white\"></td><td style=\"border:none;\" bgcolor=\"white\"></td><td style=\"border:none;\" bgcolor=\"white\"></td><td style=\"border:none;\" bgcolor=\"white\"></td><td style=\"border:none;\" bgcolor=\"white\"></td><td style=\"border:solid;\" bgcolor=\"white\"></td></tr></table> 7 / 112</div>\n",
       "<div class=\"item\"><table><tr><td></td><td>0: He</td><td>1: shot</td><td>2: the</td><td>3: elephant</td><td>4: in</td><td>5: his</td><td>6: pyjamas</td></tr>\n",
       "<tr><td>0: He</td><td style=\"border:solid;\" bgcolor=\"white\"><font color=\"black\">Subj: 0.00</font></td><td style=\"border:solid;\" bgcolor=\"white\"></td><td style=\"border:solid;\" bgcolor=\"white\"></td><td style=\"border:solid;\" bgcolor=\"white\"></td><td style=\"border:solid;\" bgcolor=\"white\"></td><td style=\"border:solid;\" bgcolor=\"white\"></td><td style=\"border:solid;\" bgcolor=\"white\"></td></tr>\n",
       "<tr><td>1: shot</td><td style=\"border:none;\" bgcolor=\"white\"></td><td style=\"border:solid;\" bgcolor=\"white\"><font color=\"black\">Verb: 0.00</font></td><td style=\"border:solid;\" bgcolor=\"white\"></td><td style=\"border:solid;\" bgcolor=\"white\"></td><td style=\"border:solid;\" bgcolor=\"white\"></td><td style=\"border:solid;\" bgcolor=\"white\"></td><td style=\"border:solid;\" bgcolor=\"white\"></td></tr>\n",
       "<tr><td>2: the</td><td style=\"border:none;\" bgcolor=\"white\"></td><td style=\"border:none;\" bgcolor=\"white\"></td><td style=\"border:solid;\" bgcolor=\"#C3C3C3\"><font color=\"black\">Obj_5: 0.00</font>, <font color=\"blue\">Obj_8: 0.00</font></td><td style=\"border:solid;\" bgcolor=\"white\"></td><td style=\"border:solid;\" bgcolor=\"white\"></td><td style=\"border:solid;\" bgcolor=\"white\"></td><td style=\"border:solid;\" bgcolor=\"white\"></td></tr>\n",
       "<tr><td>3: elephant</td><td style=\"border:none;\" bgcolor=\"white\"></td><td style=\"border:none;\" bgcolor=\"white\"></td><td style=\"border:none;\" bgcolor=\"white\"></td><td style=\"border:solid;\" bgcolor=\"white\"></td><td style=\"border:solid;\" bgcolor=\"white\"></td><td style=\"border:solid;\" bgcolor=\"white\"></td><td style=\"border:solid;\" bgcolor=\"white\"></td></tr>\n",
       "<tr><td>4: in</td><td style=\"border:none;\" bgcolor=\"white\"></td><td style=\"border:none;\" bgcolor=\"white\"></td><td style=\"border:none;\" bgcolor=\"white\"></td><td style=\"border:none;\" bgcolor=\"white\"></td><td style=\"border:solid;\" bgcolor=\"white\"></td><td style=\"border:solid;\" bgcolor=\"white\"></td><td style=\"border:solid;\" bgcolor=\"white\"></td></tr>\n",
       "<tr><td>5: his</td><td style=\"border:none;\" bgcolor=\"white\"></td><td style=\"border:none;\" bgcolor=\"white\"></td><td style=\"border:none;\" bgcolor=\"white\"></td><td style=\"border:none;\" bgcolor=\"white\"></td><td style=\"border:none;\" bgcolor=\"white\"></td><td style=\"border:solid;\" bgcolor=\"white\"></td><td style=\"border:solid;\" bgcolor=\"white\"></td></tr>\n",
       "<tr><td>6: pyjamas</td><td style=\"border:none;\" bgcolor=\"white\"></td><td style=\"border:none;\" bgcolor=\"white\"></td><td style=\"border:none;\" bgcolor=\"white\"></td><td style=\"border:none;\" bgcolor=\"white\"></td><td style=\"border:none;\" bgcolor=\"white\"></td><td style=\"border:none;\" bgcolor=\"white\"></td><td style=\"border:solid;\" bgcolor=\"white\"></td></tr></table> 8 / 112</div>\n",
       "<div class=\"item\"><table><tr><td></td><td>0: He</td><td>1: shot</td><td>2: the</td><td>3: elephant</td><td>4: in</td><td>5: his</td><td>6: pyjamas</td></tr>\n",
       "<tr><td>0: He</td><td style=\"border:solid;\" bgcolor=\"white\"><font color=\"black\">Subj: 0.00</font></td><td style=\"border:solid;\" bgcolor=\"white\"></td><td style=\"border:solid;\" bgcolor=\"white\"></td><td style=\"border:solid;\" bgcolor=\"white\"></td><td style=\"border:solid;\" bgcolor=\"white\"></td><td style=\"border:solid;\" bgcolor=\"white\"></td><td style=\"border:solid;\" bgcolor=\"white\"></td></tr>\n",
       "<tr><td>1: shot</td><td style=\"border:none;\" bgcolor=\"white\"></td><td style=\"border:solid;\" bgcolor=\"white\"><font color=\"black\">Verb: 0.00</font></td><td style=\"border:solid;\" bgcolor=\"white\"></td><td style=\"border:solid;\" bgcolor=\"white\"></td><td style=\"border:solid;\" bgcolor=\"white\"></td><td style=\"border:solid;\" bgcolor=\"white\"></td><td style=\"border:solid;\" bgcolor=\"white\"></td></tr>\n",
       "<tr><td>2: the</td><td style=\"border:none;\" bgcolor=\"white\"></td><td style=\"border:none;\" bgcolor=\"white\"></td><td style=\"border:solid;\" bgcolor=\"white\"><font color=\"black\">Obj_5: 0.00</font>, <font color=\"blue\">Obj_8: 0.00</font></td><td style=\"border:solid;\" bgcolor=\"white\"></td><td style=\"border:solid;\" bgcolor=\"white\"></td><td style=\"border:solid;\" bgcolor=\"white\"></td><td style=\"border:solid;\" bgcolor=\"white\"></td></tr>\n",
       "<tr><td>3: elephant</td><td style=\"border:none;\" bgcolor=\"white\"></td><td style=\"border:none;\" bgcolor=\"white\"></td><td style=\"border:none;\" bgcolor=\"white\"></td><td style=\"border:solid;\" bgcolor=\"#C3C3C3\"></td><td style=\"border:solid;\" bgcolor=\"white\"></td><td style=\"border:solid;\" bgcolor=\"white\"></td><td style=\"border:solid;\" bgcolor=\"white\"></td></tr>\n",
       "<tr><td>4: in</td><td style=\"border:none;\" bgcolor=\"white\"></td><td style=\"border:none;\" bgcolor=\"white\"></td><td style=\"border:none;\" bgcolor=\"white\"></td><td style=\"border:none;\" bgcolor=\"white\"></td><td style=\"border:solid;\" bgcolor=\"white\"></td><td style=\"border:solid;\" bgcolor=\"white\"></td><td style=\"border:solid;\" bgcolor=\"white\"></td></tr>\n",
       "<tr><td>5: his</td><td style=\"border:none;\" bgcolor=\"white\"></td><td style=\"border:none;\" bgcolor=\"white\"></td><td style=\"border:none;\" bgcolor=\"white\"></td><td style=\"border:none;\" bgcolor=\"white\"></td><td style=\"border:none;\" bgcolor=\"white\"></td><td style=\"border:solid;\" bgcolor=\"white\"></td><td style=\"border:solid;\" bgcolor=\"white\"></td></tr>\n",
       "<tr><td>6: pyjamas</td><td style=\"border:none;\" bgcolor=\"white\"></td><td style=\"border:none;\" bgcolor=\"white\"></td><td style=\"border:none;\" bgcolor=\"white\"></td><td style=\"border:none;\" bgcolor=\"white\"></td><td style=\"border:none;\" bgcolor=\"white\"></td><td style=\"border:none;\" bgcolor=\"white\"></td><td style=\"border:solid;\" bgcolor=\"white\"></td></tr></table> 9 / 112</div>\n",
       "<div class=\"item\"><table><tr><td></td><td>0: He</td><td>1: shot</td><td>2: the</td><td>3: elephant</td><td>4: in</td><td>5: his</td><td>6: pyjamas</td></tr>\n",
       "<tr><td>0: He</td><td style=\"border:solid;\" bgcolor=\"white\"><font color=\"black\">Subj: 0.00</font></td><td style=\"border:solid;\" bgcolor=\"white\"></td><td style=\"border:solid;\" bgcolor=\"white\"></td><td style=\"border:solid;\" bgcolor=\"white\"></td><td style=\"border:solid;\" bgcolor=\"white\"></td><td style=\"border:solid;\" bgcolor=\"white\"></td><td style=\"border:solid;\" bgcolor=\"white\"></td></tr>\n",
       "<tr><td>1: shot</td><td style=\"border:none;\" bgcolor=\"white\"></td><td style=\"border:solid;\" bgcolor=\"white\"><font color=\"black\">Verb: 0.00</font></td><td style=\"border:solid;\" bgcolor=\"white\"></td><td style=\"border:solid;\" bgcolor=\"white\"></td><td style=\"border:solid;\" bgcolor=\"white\"></td><td style=\"border:solid;\" bgcolor=\"white\"></td><td style=\"border:solid;\" bgcolor=\"white\"></td></tr>\n",
       "<tr><td>2: the</td><td style=\"border:none;\" bgcolor=\"white\"></td><td style=\"border:none;\" bgcolor=\"white\"></td><td style=\"border:solid;\" bgcolor=\"white\"><font color=\"black\">Obj_5: 0.00</font>, <font color=\"black\">Obj_8: 0.00</font></td><td style=\"border:solid;\" bgcolor=\"white\"></td><td style=\"border:solid;\" bgcolor=\"white\"></td><td style=\"border:solid;\" bgcolor=\"white\"></td><td style=\"border:solid;\" bgcolor=\"white\"></td></tr>\n",
       "<tr><td>3: elephant</td><td style=\"border:none;\" bgcolor=\"white\"></td><td style=\"border:none;\" bgcolor=\"white\"></td><td style=\"border:none;\" bgcolor=\"white\"></td><td style=\"border:solid;\" bgcolor=\"#C3C3C3\"><font color=\"blue\">Obj_6: 0.00</font></td><td style=\"border:solid;\" bgcolor=\"white\"></td><td style=\"border:solid;\" bgcolor=\"white\"></td><td style=\"border:solid;\" bgcolor=\"white\"></td></tr>\n",
       "<tr><td>4: in</td><td style=\"border:none;\" bgcolor=\"white\"></td><td style=\"border:none;\" bgcolor=\"white\"></td><td style=\"border:none;\" bgcolor=\"white\"></td><td style=\"border:none;\" bgcolor=\"white\"></td><td style=\"border:solid;\" bgcolor=\"white\"></td><td style=\"border:solid;\" bgcolor=\"white\"></td><td style=\"border:solid;\" bgcolor=\"white\"></td></tr>\n",
       "<tr><td>5: his</td><td style=\"border:none;\" bgcolor=\"white\"></td><td style=\"border:none;\" bgcolor=\"white\"></td><td style=\"border:none;\" bgcolor=\"white\"></td><td style=\"border:none;\" bgcolor=\"white\"></td><td style=\"border:none;\" bgcolor=\"white\"></td><td style=\"border:solid;\" bgcolor=\"white\"></td><td style=\"border:solid;\" bgcolor=\"white\"></td></tr>\n",
       "<tr><td>6: pyjamas</td><td style=\"border:none;\" bgcolor=\"white\"></td><td style=\"border:none;\" bgcolor=\"white\"></td><td style=\"border:none;\" bgcolor=\"white\"></td><td style=\"border:none;\" bgcolor=\"white\"></td><td style=\"border:none;\" bgcolor=\"white\"></td><td style=\"border:none;\" bgcolor=\"white\"></td><td style=\"border:solid;\" bgcolor=\"white\"></td></tr></table> 10 / 112</div>\n",
       "<div class=\"item\"><table><tr><td></td><td>0: He</td><td>1: shot</td><td>2: the</td><td>3: elephant</td><td>4: in</td><td>5: his</td><td>6: pyjamas</td></tr>\n",
       "<tr><td>0: He</td><td style=\"border:solid;\" bgcolor=\"white\"><font color=\"black\">Subj: 0.00</font></td><td style=\"border:solid;\" bgcolor=\"white\"></td><td style=\"border:solid;\" bgcolor=\"white\"></td><td style=\"border:solid;\" bgcolor=\"white\"></td><td style=\"border:solid;\" bgcolor=\"white\"></td><td style=\"border:solid;\" bgcolor=\"white\"></td><td style=\"border:solid;\" bgcolor=\"white\"></td></tr>\n",
       "<tr><td>1: shot</td><td style=\"border:none;\" bgcolor=\"white\"></td><td style=\"border:solid;\" bgcolor=\"white\"><font color=\"black\">Verb: 0.00</font></td><td style=\"border:solid;\" bgcolor=\"white\"></td><td style=\"border:solid;\" bgcolor=\"white\"></td><td style=\"border:solid;\" bgcolor=\"white\"></td><td style=\"border:solid;\" bgcolor=\"white\"></td><td style=\"border:solid;\" bgcolor=\"white\"></td></tr>\n",
       "<tr><td>2: the</td><td style=\"border:none;\" bgcolor=\"white\"></td><td style=\"border:none;\" bgcolor=\"white\"></td><td style=\"border:solid;\" bgcolor=\"white\"><font color=\"black\">Obj_5: 0.00</font>, <font color=\"black\">Obj_8: 0.00</font></td><td style=\"border:solid;\" bgcolor=\"white\"></td><td style=\"border:solid;\" bgcolor=\"white\"></td><td style=\"border:solid;\" bgcolor=\"white\"></td><td style=\"border:solid;\" bgcolor=\"white\"></td></tr>\n",
       "<tr><td>3: elephant</td><td style=\"border:none;\" bgcolor=\"white\"></td><td style=\"border:none;\" bgcolor=\"white\"></td><td style=\"border:none;\" bgcolor=\"white\"></td><td style=\"border:solid;\" bgcolor=\"#C3C3C3\"><font color=\"black\">Obj_6: 0.00</font>, <font color=\"blue\">Obj_7_9: 0.00</font></td><td style=\"border:solid;\" bgcolor=\"white\"></td><td style=\"border:solid;\" bgcolor=\"white\"></td><td style=\"border:solid;\" bgcolor=\"white\"></td></tr>\n",
       "<tr><td>4: in</td><td style=\"border:none;\" bgcolor=\"white\"></td><td style=\"border:none;\" bgcolor=\"white\"></td><td style=\"border:none;\" bgcolor=\"white\"></td><td style=\"border:none;\" bgcolor=\"white\"></td><td style=\"border:solid;\" bgcolor=\"white\"></td><td style=\"border:solid;\" bgcolor=\"white\"></td><td style=\"border:solid;\" bgcolor=\"white\"></td></tr>\n",
       "<tr><td>5: his</td><td style=\"border:none;\" bgcolor=\"white\"></td><td style=\"border:none;\" bgcolor=\"white\"></td><td style=\"border:none;\" bgcolor=\"white\"></td><td style=\"border:none;\" bgcolor=\"white\"></td><td style=\"border:none;\" bgcolor=\"white\"></td><td style=\"border:solid;\" bgcolor=\"white\"></td><td style=\"border:solid;\" bgcolor=\"white\"></td></tr>\n",
       "<tr><td>6: pyjamas</td><td style=\"border:none;\" bgcolor=\"white\"></td><td style=\"border:none;\" bgcolor=\"white\"></td><td style=\"border:none;\" bgcolor=\"white\"></td><td style=\"border:none;\" bgcolor=\"white\"></td><td style=\"border:none;\" bgcolor=\"white\"></td><td style=\"border:none;\" bgcolor=\"white\"></td><td style=\"border:solid;\" bgcolor=\"white\"></td></tr></table> 11 / 112</div>\n",
       "<div class=\"item\"><table><tr><td></td><td>0: He</td><td>1: shot</td><td>2: the</td><td>3: elephant</td><td>4: in</td><td>5: his</td><td>6: pyjamas</td></tr>\n",
       "<tr><td>0: He</td><td style=\"border:solid;\" bgcolor=\"white\"><font color=\"black\">Subj: 0.00</font></td><td style=\"border:solid;\" bgcolor=\"white\"></td><td style=\"border:solid;\" bgcolor=\"white\"></td><td style=\"border:solid;\" bgcolor=\"white\"></td><td style=\"border:solid;\" bgcolor=\"white\"></td><td style=\"border:solid;\" bgcolor=\"white\"></td><td style=\"border:solid;\" bgcolor=\"white\"></td></tr>\n",
       "<tr><td>1: shot</td><td style=\"border:none;\" bgcolor=\"white\"></td><td style=\"border:solid;\" bgcolor=\"white\"><font color=\"black\">Verb: 0.00</font></td><td style=\"border:solid;\" bgcolor=\"white\"></td><td style=\"border:solid;\" bgcolor=\"white\"></td><td style=\"border:solid;\" bgcolor=\"white\"></td><td style=\"border:solid;\" bgcolor=\"white\"></td><td style=\"border:solid;\" bgcolor=\"white\"></td></tr>\n",
       "<tr><td>2: the</td><td style=\"border:none;\" bgcolor=\"white\"></td><td style=\"border:none;\" bgcolor=\"white\"></td><td style=\"border:solid;\" bgcolor=\"white\"><font color=\"black\">Obj_5: 0.00</font>, <font color=\"black\">Obj_8: 0.00</font></td><td style=\"border:solid;\" bgcolor=\"white\"></td><td style=\"border:solid;\" bgcolor=\"white\"></td><td style=\"border:solid;\" bgcolor=\"white\"></td><td style=\"border:solid;\" bgcolor=\"white\"></td></tr>\n",
       "<tr><td>3: elephant</td><td style=\"border:none;\" bgcolor=\"white\"></td><td style=\"border:none;\" bgcolor=\"white\"></td><td style=\"border:none;\" bgcolor=\"white\"></td><td style=\"border:solid;\" bgcolor=\"white\"><font color=\"black\">Obj_6: 0.00</font>, <font color=\"blue\">Obj_7_9: 0.00</font></td><td style=\"border:solid;\" bgcolor=\"white\"></td><td style=\"border:solid;\" bgcolor=\"white\"></td><td style=\"border:solid;\" bgcolor=\"white\"></td></tr>\n",
       "<tr><td>4: in</td><td style=\"border:none;\" bgcolor=\"white\"></td><td style=\"border:none;\" bgcolor=\"white\"></td><td style=\"border:none;\" bgcolor=\"white\"></td><td style=\"border:none;\" bgcolor=\"white\"></td><td style=\"border:solid;\" bgcolor=\"#C3C3C3\"></td><td style=\"border:solid;\" bgcolor=\"white\"></td><td style=\"border:solid;\" bgcolor=\"white\"></td></tr>\n",
       "<tr><td>5: his</td><td style=\"border:none;\" bgcolor=\"white\"></td><td style=\"border:none;\" bgcolor=\"white\"></td><td style=\"border:none;\" bgcolor=\"white\"></td><td style=\"border:none;\" bgcolor=\"white\"></td><td style=\"border:none;\" bgcolor=\"white\"></td><td style=\"border:solid;\" bgcolor=\"white\"></td><td style=\"border:solid;\" bgcolor=\"white\"></td></tr>\n",
       "<tr><td>6: pyjamas</td><td style=\"border:none;\" bgcolor=\"white\"></td><td style=\"border:none;\" bgcolor=\"white\"></td><td style=\"border:none;\" bgcolor=\"white\"></td><td style=\"border:none;\" bgcolor=\"white\"></td><td style=\"border:none;\" bgcolor=\"white\"></td><td style=\"border:none;\" bgcolor=\"white\"></td><td style=\"border:solid;\" bgcolor=\"white\"></td></tr></table> 12 / 112</div>\n",
       "<div class=\"item\"><table><tr><td></td><td>0: He</td><td>1: shot</td><td>2: the</td><td>3: elephant</td><td>4: in</td><td>5: his</td><td>6: pyjamas</td></tr>\n",
       "<tr><td>0: He</td><td style=\"border:solid;\" bgcolor=\"white\"><font color=\"black\">Subj: 0.00</font></td><td style=\"border:solid;\" bgcolor=\"white\"></td><td style=\"border:solid;\" bgcolor=\"white\"></td><td style=\"border:solid;\" bgcolor=\"white\"></td><td style=\"border:solid;\" bgcolor=\"white\"></td><td style=\"border:solid;\" bgcolor=\"white\"></td><td style=\"border:solid;\" bgcolor=\"white\"></td></tr>\n",
       "<tr><td>1: shot</td><td style=\"border:none;\" bgcolor=\"white\"></td><td style=\"border:solid;\" bgcolor=\"white\"><font color=\"black\">Verb: 0.00</font></td><td style=\"border:solid;\" bgcolor=\"white\"></td><td style=\"border:solid;\" bgcolor=\"white\"></td><td style=\"border:solid;\" bgcolor=\"white\"></td><td style=\"border:solid;\" bgcolor=\"white\"></td><td style=\"border:solid;\" bgcolor=\"white\"></td></tr>\n",
       "<tr><td>2: the</td><td style=\"border:none;\" bgcolor=\"white\"></td><td style=\"border:none;\" bgcolor=\"white\"></td><td style=\"border:solid;\" bgcolor=\"white\"><font color=\"black\">Obj_5: 0.00</font>, <font color=\"black\">Obj_8: 0.00</font></td><td style=\"border:solid;\" bgcolor=\"white\"></td><td style=\"border:solid;\" bgcolor=\"white\"></td><td style=\"border:solid;\" bgcolor=\"white\"></td><td style=\"border:solid;\" bgcolor=\"white\"></td></tr>\n",
       "<tr><td>3: elephant</td><td style=\"border:none;\" bgcolor=\"white\"></td><td style=\"border:none;\" bgcolor=\"white\"></td><td style=\"border:none;\" bgcolor=\"white\"></td><td style=\"border:solid;\" bgcolor=\"white\"><font color=\"black\">Obj_6: 0.00</font>, <font color=\"black\">Obj_7_9: 0.00</font></td><td style=\"border:solid;\" bgcolor=\"white\"></td><td style=\"border:solid;\" bgcolor=\"white\"></td><td style=\"border:solid;\" bgcolor=\"white\"></td></tr>\n",
       "<tr><td>4: in</td><td style=\"border:none;\" bgcolor=\"white\"></td><td style=\"border:none;\" bgcolor=\"white\"></td><td style=\"border:none;\" bgcolor=\"white\"></td><td style=\"border:none;\" bgcolor=\"white\"></td><td style=\"border:solid;\" bgcolor=\"#C3C3C3\"><font color=\"blue\">PP_2: 0.00</font></td><td style=\"border:solid;\" bgcolor=\"white\"></td><td style=\"border:solid;\" bgcolor=\"white\"></td></tr>\n",
       "<tr><td>5: his</td><td style=\"border:none;\" bgcolor=\"white\"></td><td style=\"border:none;\" bgcolor=\"white\"></td><td style=\"border:none;\" bgcolor=\"white\"></td><td style=\"border:none;\" bgcolor=\"white\"></td><td style=\"border:none;\" bgcolor=\"white\"></td><td style=\"border:solid;\" bgcolor=\"white\"></td><td style=\"border:solid;\" bgcolor=\"white\"></td></tr>\n",
       "<tr><td>6: pyjamas</td><td style=\"border:none;\" bgcolor=\"white\"></td><td style=\"border:none;\" bgcolor=\"white\"></td><td style=\"border:none;\" bgcolor=\"white\"></td><td style=\"border:none;\" bgcolor=\"white\"></td><td style=\"border:none;\" bgcolor=\"white\"></td><td style=\"border:none;\" bgcolor=\"white\"></td><td style=\"border:solid;\" bgcolor=\"white\"></td></tr></table> 13 / 112</div>\n",
       "<div class=\"item\"><table><tr><td></td><td>0: He</td><td>1: shot</td><td>2: the</td><td>3: elephant</td><td>4: in</td><td>5: his</td><td>6: pyjamas</td></tr>\n",
       "<tr><td>0: He</td><td style=\"border:solid;\" bgcolor=\"white\"><font color=\"black\">Subj: 0.00</font></td><td style=\"border:solid;\" bgcolor=\"white\"></td><td style=\"border:solid;\" bgcolor=\"white\"></td><td style=\"border:solid;\" bgcolor=\"white\"></td><td style=\"border:solid;\" bgcolor=\"white\"></td><td style=\"border:solid;\" bgcolor=\"white\"></td><td style=\"border:solid;\" bgcolor=\"white\"></td></tr>\n",
       "<tr><td>1: shot</td><td style=\"border:none;\" bgcolor=\"white\"></td><td style=\"border:solid;\" bgcolor=\"white\"><font color=\"black\">Verb: 0.00</font></td><td style=\"border:solid;\" bgcolor=\"white\"></td><td style=\"border:solid;\" bgcolor=\"white\"></td><td style=\"border:solid;\" bgcolor=\"white\"></td><td style=\"border:solid;\" bgcolor=\"white\"></td><td style=\"border:solid;\" bgcolor=\"white\"></td></tr>\n",
       "<tr><td>2: the</td><td style=\"border:none;\" bgcolor=\"white\"></td><td style=\"border:none;\" bgcolor=\"white\"></td><td style=\"border:solid;\" bgcolor=\"white\"><font color=\"black\">Obj_5: 0.00</font>, <font color=\"black\">Obj_8: 0.00</font></td><td style=\"border:solid;\" bgcolor=\"white\"></td><td style=\"border:solid;\" bgcolor=\"white\"></td><td style=\"border:solid;\" bgcolor=\"white\"></td><td style=\"border:solid;\" bgcolor=\"white\"></td></tr>\n",
       "<tr><td>3: elephant</td><td style=\"border:none;\" bgcolor=\"white\"></td><td style=\"border:none;\" bgcolor=\"white\"></td><td style=\"border:none;\" bgcolor=\"white\"></td><td style=\"border:solid;\" bgcolor=\"white\"><font color=\"black\">Obj_6: 0.00</font>, <font color=\"black\">Obj_7_9: 0.00</font></td><td style=\"border:solid;\" bgcolor=\"white\"></td><td style=\"border:solid;\" bgcolor=\"white\"></td><td style=\"border:solid;\" bgcolor=\"white\"></td></tr>\n",
       "<tr><td>4: in</td><td style=\"border:none;\" bgcolor=\"white\"></td><td style=\"border:none;\" bgcolor=\"white\"></td><td style=\"border:none;\" bgcolor=\"white\"></td><td style=\"border:none;\" bgcolor=\"white\"></td><td style=\"border:solid;\" bgcolor=\"white\"><font color=\"blue\">PP_2: 0.00</font></td><td style=\"border:solid;\" bgcolor=\"white\"></td><td style=\"border:solid;\" bgcolor=\"white\"></td></tr>\n",
       "<tr><td>5: his</td><td style=\"border:none;\" bgcolor=\"white\"></td><td style=\"border:none;\" bgcolor=\"white\"></td><td style=\"border:none;\" bgcolor=\"white\"></td><td style=\"border:none;\" bgcolor=\"white\"></td><td style=\"border:none;\" bgcolor=\"white\"></td><td style=\"border:solid;\" bgcolor=\"#C3C3C3\"></td><td style=\"border:solid;\" bgcolor=\"white\"></td></tr>\n",
       "<tr><td>6: pyjamas</td><td style=\"border:none;\" bgcolor=\"white\"></td><td style=\"border:none;\" bgcolor=\"white\"></td><td style=\"border:none;\" bgcolor=\"white\"></td><td style=\"border:none;\" bgcolor=\"white\"></td><td style=\"border:none;\" bgcolor=\"white\"></td><td style=\"border:none;\" bgcolor=\"white\"></td><td style=\"border:solid;\" bgcolor=\"white\"></td></tr></table> 14 / 112</div>\n",
       "<div class=\"item\"><table><tr><td></td><td>0: He</td><td>1: shot</td><td>2: the</td><td>3: elephant</td><td>4: in</td><td>5: his</td><td>6: pyjamas</td></tr>\n",
       "<tr><td>0: He</td><td style=\"border:solid;\" bgcolor=\"white\"><font color=\"black\">Subj: 0.00</font></td><td style=\"border:solid;\" bgcolor=\"white\"></td><td style=\"border:solid;\" bgcolor=\"white\"></td><td style=\"border:solid;\" bgcolor=\"white\"></td><td style=\"border:solid;\" bgcolor=\"white\"></td><td style=\"border:solid;\" bgcolor=\"white\"></td><td style=\"border:solid;\" bgcolor=\"white\"></td></tr>\n",
       "<tr><td>1: shot</td><td style=\"border:none;\" bgcolor=\"white\"></td><td style=\"border:solid;\" bgcolor=\"white\"><font color=\"black\">Verb: 0.00</font></td><td style=\"border:solid;\" bgcolor=\"white\"></td><td style=\"border:solid;\" bgcolor=\"white\"></td><td style=\"border:solid;\" bgcolor=\"white\"></td><td style=\"border:solid;\" bgcolor=\"white\"></td><td style=\"border:solid;\" bgcolor=\"white\"></td></tr>\n",
       "<tr><td>2: the</td><td style=\"border:none;\" bgcolor=\"white\"></td><td style=\"border:none;\" bgcolor=\"white\"></td><td style=\"border:solid;\" bgcolor=\"white\"><font color=\"black\">Obj_5: 0.00</font>, <font color=\"black\">Obj_8: 0.00</font></td><td style=\"border:solid;\" bgcolor=\"white\"></td><td style=\"border:solid;\" bgcolor=\"white\"></td><td style=\"border:solid;\" bgcolor=\"white\"></td><td style=\"border:solid;\" bgcolor=\"white\"></td></tr>\n",
       "<tr><td>3: elephant</td><td style=\"border:none;\" bgcolor=\"white\"></td><td style=\"border:none;\" bgcolor=\"white\"></td><td style=\"border:none;\" bgcolor=\"white\"></td><td style=\"border:solid;\" bgcolor=\"white\"><font color=\"black\">Obj_6: 0.00</font>, <font color=\"black\">Obj_7_9: 0.00</font></td><td style=\"border:solid;\" bgcolor=\"white\"></td><td style=\"border:solid;\" bgcolor=\"white\"></td><td style=\"border:solid;\" bgcolor=\"white\"></td></tr>\n",
       "<tr><td>4: in</td><td style=\"border:none;\" bgcolor=\"white\"></td><td style=\"border:none;\" bgcolor=\"white\"></td><td style=\"border:none;\" bgcolor=\"white\"></td><td style=\"border:none;\" bgcolor=\"white\"></td><td style=\"border:solid;\" bgcolor=\"white\"><font color=\"black\">PP_2: 0.00</font></td><td style=\"border:solid;\" bgcolor=\"white\"></td><td style=\"border:solid;\" bgcolor=\"white\"></td></tr>\n",
       "<tr><td>5: his</td><td style=\"border:none;\" bgcolor=\"white\"></td><td style=\"border:none;\" bgcolor=\"white\"></td><td style=\"border:none;\" bgcolor=\"white\"></td><td style=\"border:none;\" bgcolor=\"white\"></td><td style=\"border:none;\" bgcolor=\"white\"></td><td style=\"border:solid;\" bgcolor=\"#C3C3C3\"><font color=\"blue\">PP_1_3: 0.00</font></td><td style=\"border:solid;\" bgcolor=\"white\"></td></tr>\n",
       "<tr><td>6: pyjamas</td><td style=\"border:none;\" bgcolor=\"white\"></td><td style=\"border:none;\" bgcolor=\"white\"></td><td style=\"border:none;\" bgcolor=\"white\"></td><td style=\"border:none;\" bgcolor=\"white\"></td><td style=\"border:none;\" bgcolor=\"white\"></td><td style=\"border:none;\" bgcolor=\"white\"></td><td style=\"border:solid;\" bgcolor=\"white\"></td></tr></table> 15 / 112</div>\n",
       "<div class=\"item\"><table><tr><td></td><td>0: He</td><td>1: shot</td><td>2: the</td><td>3: elephant</td><td>4: in</td><td>5: his</td><td>6: pyjamas</td></tr>\n",
       "<tr><td>0: He</td><td style=\"border:solid;\" bgcolor=\"white\"><font color=\"black\">Subj: 0.00</font></td><td style=\"border:solid;\" bgcolor=\"white\"></td><td style=\"border:solid;\" bgcolor=\"white\"></td><td style=\"border:solid;\" bgcolor=\"white\"></td><td style=\"border:solid;\" bgcolor=\"white\"></td><td style=\"border:solid;\" bgcolor=\"white\"></td><td style=\"border:solid;\" bgcolor=\"white\"></td></tr>\n",
       "<tr><td>1: shot</td><td style=\"border:none;\" bgcolor=\"white\"></td><td style=\"border:solid;\" bgcolor=\"white\"><font color=\"black\">Verb: 0.00</font></td><td style=\"border:solid;\" bgcolor=\"white\"></td><td style=\"border:solid;\" bgcolor=\"white\"></td><td style=\"border:solid;\" bgcolor=\"white\"></td><td style=\"border:solid;\" bgcolor=\"white\"></td><td style=\"border:solid;\" bgcolor=\"white\"></td></tr>\n",
       "<tr><td>2: the</td><td style=\"border:none;\" bgcolor=\"white\"></td><td style=\"border:none;\" bgcolor=\"white\"></td><td style=\"border:solid;\" bgcolor=\"white\"><font color=\"black\">Obj_5: 0.00</font>, <font color=\"black\">Obj_8: 0.00</font></td><td style=\"border:solid;\" bgcolor=\"white\"></td><td style=\"border:solid;\" bgcolor=\"white\"></td><td style=\"border:solid;\" bgcolor=\"white\"></td><td style=\"border:solid;\" bgcolor=\"white\"></td></tr>\n",
       "<tr><td>3: elephant</td><td style=\"border:none;\" bgcolor=\"white\"></td><td style=\"border:none;\" bgcolor=\"white\"></td><td style=\"border:none;\" bgcolor=\"white\"></td><td style=\"border:solid;\" bgcolor=\"white\"><font color=\"black\">Obj_6: 0.00</font>, <font color=\"black\">Obj_7_9: 0.00</font></td><td style=\"border:solid;\" bgcolor=\"white\"></td><td style=\"border:solid;\" bgcolor=\"white\"></td><td style=\"border:solid;\" bgcolor=\"white\"></td></tr>\n",
       "<tr><td>4: in</td><td style=\"border:none;\" bgcolor=\"white\"></td><td style=\"border:none;\" bgcolor=\"white\"></td><td style=\"border:none;\" bgcolor=\"white\"></td><td style=\"border:none;\" bgcolor=\"white\"></td><td style=\"border:solid;\" bgcolor=\"white\"><font color=\"black\">PP_2: 0.00</font></td><td style=\"border:solid;\" bgcolor=\"white\"></td><td style=\"border:solid;\" bgcolor=\"white\"></td></tr>\n",
       "<tr><td>5: his</td><td style=\"border:none;\" bgcolor=\"white\"></td><td style=\"border:none;\" bgcolor=\"white\"></td><td style=\"border:none;\" bgcolor=\"white\"></td><td style=\"border:none;\" bgcolor=\"white\"></td><td style=\"border:none;\" bgcolor=\"white\"></td><td style=\"border:solid;\" bgcolor=\"white\"><font color=\"blue\">PP_1_3: 0.00</font></td><td style=\"border:solid;\" bgcolor=\"white\"></td></tr>\n",
       "<tr><td>6: pyjamas</td><td style=\"border:none;\" bgcolor=\"white\"></td><td style=\"border:none;\" bgcolor=\"white\"></td><td style=\"border:none;\" bgcolor=\"white\"></td><td style=\"border:none;\" bgcolor=\"white\"></td><td style=\"border:none;\" bgcolor=\"white\"></td><td style=\"border:none;\" bgcolor=\"white\"></td><td style=\"border:solid;\" bgcolor=\"#C3C3C3\"></td></tr></table> 16 / 112</div>\n",
       "<div class=\"item\"><table><tr><td></td><td>0: He</td><td>1: shot</td><td>2: the</td><td>3: elephant</td><td>4: in</td><td>5: his</td><td>6: pyjamas</td></tr>\n",
       "<tr><td>0: He</td><td style=\"border:solid;\" bgcolor=\"white\"><font color=\"black\">Subj: 0.00</font></td><td style=\"border:solid;\" bgcolor=\"white\"></td><td style=\"border:solid;\" bgcolor=\"white\"></td><td style=\"border:solid;\" bgcolor=\"white\"></td><td style=\"border:solid;\" bgcolor=\"white\"></td><td style=\"border:solid;\" bgcolor=\"white\"></td><td style=\"border:solid;\" bgcolor=\"white\"></td></tr>\n",
       "<tr><td>1: shot</td><td style=\"border:none;\" bgcolor=\"white\"></td><td style=\"border:solid;\" bgcolor=\"white\"><font color=\"black\">Verb: 0.00</font></td><td style=\"border:solid;\" bgcolor=\"white\"></td><td style=\"border:solid;\" bgcolor=\"white\"></td><td style=\"border:solid;\" bgcolor=\"white\"></td><td style=\"border:solid;\" bgcolor=\"white\"></td><td style=\"border:solid;\" bgcolor=\"white\"></td></tr>\n",
       "<tr><td>2: the</td><td style=\"border:none;\" bgcolor=\"white\"></td><td style=\"border:none;\" bgcolor=\"white\"></td><td style=\"border:solid;\" bgcolor=\"white\"><font color=\"black\">Obj_5: 0.00</font>, <font color=\"black\">Obj_8: 0.00</font></td><td style=\"border:solid;\" bgcolor=\"white\"></td><td style=\"border:solid;\" bgcolor=\"white\"></td><td style=\"border:solid;\" bgcolor=\"white\"></td><td style=\"border:solid;\" bgcolor=\"white\"></td></tr>\n",
       "<tr><td>3: elephant</td><td style=\"border:none;\" bgcolor=\"white\"></td><td style=\"border:none;\" bgcolor=\"white\"></td><td style=\"border:none;\" bgcolor=\"white\"></td><td style=\"border:solid;\" bgcolor=\"white\"><font color=\"black\">Obj_6: 0.00</font>, <font color=\"black\">Obj_7_9: 0.00</font></td><td style=\"border:solid;\" bgcolor=\"white\"></td><td style=\"border:solid;\" bgcolor=\"white\"></td><td style=\"border:solid;\" bgcolor=\"white\"></td></tr>\n",
       "<tr><td>4: in</td><td style=\"border:none;\" bgcolor=\"white\"></td><td style=\"border:none;\" bgcolor=\"white\"></td><td style=\"border:none;\" bgcolor=\"white\"></td><td style=\"border:none;\" bgcolor=\"white\"></td><td style=\"border:solid;\" bgcolor=\"white\"><font color=\"black\">PP_2: 0.00</font></td><td style=\"border:solid;\" bgcolor=\"white\"></td><td style=\"border:solid;\" bgcolor=\"white\"></td></tr>\n",
       "<tr><td>5: his</td><td style=\"border:none;\" bgcolor=\"white\"></td><td style=\"border:none;\" bgcolor=\"white\"></td><td style=\"border:none;\" bgcolor=\"white\"></td><td style=\"border:none;\" bgcolor=\"white\"></td><td style=\"border:none;\" bgcolor=\"white\"></td><td style=\"border:solid;\" bgcolor=\"white\"><font color=\"black\">PP_1_3: 0.00</font></td><td style=\"border:solid;\" bgcolor=\"white\"></td></tr>\n",
       "<tr><td>6: pyjamas</td><td style=\"border:none;\" bgcolor=\"white\"></td><td style=\"border:none;\" bgcolor=\"white\"></td><td style=\"border:none;\" bgcolor=\"white\"></td><td style=\"border:none;\" bgcolor=\"white\"></td><td style=\"border:none;\" bgcolor=\"white\"></td><td style=\"border:none;\" bgcolor=\"white\"></td><td style=\"border:solid;\" bgcolor=\"#C3C3C3\"><font color=\"blue\">PP_1_4: 0.00</font></td></tr></table> 17 / 112</div>\n",
       "<div class=\"item\"><table><tr><td></td><td>0: He</td><td>1: shot</td><td>2: the</td><td>3: elephant</td><td>4: in</td><td>5: his</td><td>6: pyjamas</td></tr>\n",
       "<tr><td>0: He</td><td style=\"border:solid;\" bgcolor=\"#E1E1E1\"><font color=\"black\">Subj: 0.00</font></td><td style=\"border:solid;\" bgcolor=\"#C3C3C3\"></td><td style=\"border:solid;\" bgcolor=\"white\"></td><td style=\"border:solid;\" bgcolor=\"white\"></td><td style=\"border:solid;\" bgcolor=\"white\"></td><td style=\"border:solid;\" bgcolor=\"white\"></td><td style=\"border:solid;\" bgcolor=\"white\"></td></tr>\n",
       "<tr><td>1: shot</td><td style=\"border:none;\" bgcolor=\"white\"></td><td style=\"border:solid;\" bgcolor=\"#E1E1E1\"><font color=\"black\">Verb: 0.00</font></td><td style=\"border:solid;\" bgcolor=\"white\"></td><td style=\"border:solid;\" bgcolor=\"white\"></td><td style=\"border:solid;\" bgcolor=\"white\"></td><td style=\"border:solid;\" bgcolor=\"white\"></td><td style=\"border:solid;\" bgcolor=\"white\"></td></tr>\n",
       "<tr><td>2: the</td><td style=\"border:none;\" bgcolor=\"white\"></td><td style=\"border:none;\" bgcolor=\"white\"></td><td style=\"border:solid;\" bgcolor=\"white\"><font color=\"black\">Obj_5: 0.00</font>, <font color=\"black\">Obj_8: 0.00</font></td><td style=\"border:solid;\" bgcolor=\"white\"></td><td style=\"border:solid;\" bgcolor=\"white\"></td><td style=\"border:solid;\" bgcolor=\"white\"></td><td style=\"border:solid;\" bgcolor=\"white\"></td></tr>\n",
       "<tr><td>3: elephant</td><td style=\"border:none;\" bgcolor=\"white\"></td><td style=\"border:none;\" bgcolor=\"white\"></td><td style=\"border:none;\" bgcolor=\"white\"></td><td style=\"border:solid;\" bgcolor=\"white\"><font color=\"black\">Obj_6: 0.00</font>, <font color=\"black\">Obj_7_9: 0.00</font></td><td style=\"border:solid;\" bgcolor=\"white\"></td><td style=\"border:solid;\" bgcolor=\"white\"></td><td style=\"border:solid;\" bgcolor=\"white\"></td></tr>\n",
       "<tr><td>4: in</td><td style=\"border:none;\" bgcolor=\"white\"></td><td style=\"border:none;\" bgcolor=\"white\"></td><td style=\"border:none;\" bgcolor=\"white\"></td><td style=\"border:none;\" bgcolor=\"white\"></td><td style=\"border:solid;\" bgcolor=\"white\"><font color=\"black\">PP_2: 0.00</font></td><td style=\"border:solid;\" bgcolor=\"white\"></td><td style=\"border:solid;\" bgcolor=\"white\"></td></tr>\n",
       "<tr><td>5: his</td><td style=\"border:none;\" bgcolor=\"white\"></td><td style=\"border:none;\" bgcolor=\"white\"></td><td style=\"border:none;\" bgcolor=\"white\"></td><td style=\"border:none;\" bgcolor=\"white\"></td><td style=\"border:none;\" bgcolor=\"white\"></td><td style=\"border:solid;\" bgcolor=\"white\"><font color=\"black\">PP_1_3: 0.00</font></td><td style=\"border:solid;\" bgcolor=\"white\"></td></tr>\n",
       "<tr><td>6: pyjamas</td><td style=\"border:none;\" bgcolor=\"white\"></td><td style=\"border:none;\" bgcolor=\"white\"></td><td style=\"border:none;\" bgcolor=\"white\"></td><td style=\"border:none;\" bgcolor=\"white\"></td><td style=\"border:none;\" bgcolor=\"white\"></td><td style=\"border:none;\" bgcolor=\"white\"></td><td style=\"border:solid;\" bgcolor=\"white\"><font color=\"black\">PP_1_4: 0.00</font></td></tr></table> 18 / 112</div>\n",
       "<div class=\"item\"><table><tr><td></td><td>0: He</td><td>1: shot</td><td>2: the</td><td>3: elephant</td><td>4: in</td><td>5: his</td><td>6: pyjamas</td></tr>\n",
       "<tr><td>0: He</td><td style=\"border:solid;\" bgcolor=\"#E1E1E1\"><font color=\"red\">Subj: 0.00</font></td><td style=\"border:solid;\" bgcolor=\"#C3C3C3\"></td><td style=\"border:solid;\" bgcolor=\"white\"></td><td style=\"border:solid;\" bgcolor=\"white\"></td><td style=\"border:solid;\" bgcolor=\"white\"></td><td style=\"border:solid;\" bgcolor=\"white\"></td><td style=\"border:solid;\" bgcolor=\"white\"></td></tr>\n",
       "<tr><td>1: shot</td><td style=\"border:none;\" bgcolor=\"white\"></td><td style=\"border:solid;\" bgcolor=\"#E1E1E1\"><font color=\"red\">Verb: 0.00</font></td><td style=\"border:solid;\" bgcolor=\"white\"></td><td style=\"border:solid;\" bgcolor=\"white\"></td><td style=\"border:solid;\" bgcolor=\"white\"></td><td style=\"border:solid;\" bgcolor=\"white\"></td><td style=\"border:solid;\" bgcolor=\"white\"></td></tr>\n",
       "<tr><td>2: the</td><td style=\"border:none;\" bgcolor=\"white\"></td><td style=\"border:none;\" bgcolor=\"white\"></td><td style=\"border:solid;\" bgcolor=\"white\"><font color=\"black\">Obj_5: 0.00</font>, <font color=\"black\">Obj_8: 0.00</font></td><td style=\"border:solid;\" bgcolor=\"white\"></td><td style=\"border:solid;\" bgcolor=\"white\"></td><td style=\"border:solid;\" bgcolor=\"white\"></td><td style=\"border:solid;\" bgcolor=\"white\"></td></tr>\n",
       "<tr><td>3: elephant</td><td style=\"border:none;\" bgcolor=\"white\"></td><td style=\"border:none;\" bgcolor=\"white\"></td><td style=\"border:none;\" bgcolor=\"white\"></td><td style=\"border:solid;\" bgcolor=\"white\"><font color=\"black\">Obj_6: 0.00</font>, <font color=\"black\">Obj_7_9: 0.00</font></td><td style=\"border:solid;\" bgcolor=\"white\"></td><td style=\"border:solid;\" bgcolor=\"white\"></td><td style=\"border:solid;\" bgcolor=\"white\"></td></tr>\n",
       "<tr><td>4: in</td><td style=\"border:none;\" bgcolor=\"white\"></td><td style=\"border:none;\" bgcolor=\"white\"></td><td style=\"border:none;\" bgcolor=\"white\"></td><td style=\"border:none;\" bgcolor=\"white\"></td><td style=\"border:solid;\" bgcolor=\"white\"><font color=\"black\">PP_2: 0.00</font></td><td style=\"border:solid;\" bgcolor=\"white\"></td><td style=\"border:solid;\" bgcolor=\"white\"></td></tr>\n",
       "<tr><td>5: his</td><td style=\"border:none;\" bgcolor=\"white\"></td><td style=\"border:none;\" bgcolor=\"white\"></td><td style=\"border:none;\" bgcolor=\"white\"></td><td style=\"border:none;\" bgcolor=\"white\"></td><td style=\"border:none;\" bgcolor=\"white\"></td><td style=\"border:solid;\" bgcolor=\"white\"><font color=\"black\">PP_1_3: 0.00</font></td><td style=\"border:solid;\" bgcolor=\"white\"></td></tr>\n",
       "<tr><td>6: pyjamas</td><td style=\"border:none;\" bgcolor=\"white\"></td><td style=\"border:none;\" bgcolor=\"white\"></td><td style=\"border:none;\" bgcolor=\"white\"></td><td style=\"border:none;\" bgcolor=\"white\"></td><td style=\"border:none;\" bgcolor=\"white\"></td><td style=\"border:none;\" bgcolor=\"white\"></td><td style=\"border:solid;\" bgcolor=\"white\"><font color=\"black\">PP_1_4: 0.00</font></td></tr></table> 19 / 112</div>\n",
       "<div class=\"item\"><table><tr><td></td><td>0: He</td><td>1: shot</td><td>2: the</td><td>3: elephant</td><td>4: in</td><td>5: his</td><td>6: pyjamas</td></tr>\n",
       "<tr><td>0: He</td><td style=\"border:solid;\" bgcolor=\"white\"><font color=\"black\">Subj: 0.00</font></td><td style=\"border:solid;\" bgcolor=\"white\"></td><td style=\"border:solid;\" bgcolor=\"white\"></td><td style=\"border:solid;\" bgcolor=\"white\"></td><td style=\"border:solid;\" bgcolor=\"white\"></td><td style=\"border:solid;\" bgcolor=\"white\"></td><td style=\"border:solid;\" bgcolor=\"white\"></td></tr>\n",
       "<tr><td>1: shot</td><td style=\"border:none;\" bgcolor=\"white\"></td><td style=\"border:solid;\" bgcolor=\"#E1E1E1\"><font color=\"black\">Verb: 0.00</font></td><td style=\"border:solid;\" bgcolor=\"#C3C3C3\"></td><td style=\"border:solid;\" bgcolor=\"white\"></td><td style=\"border:solid;\" bgcolor=\"white\"></td><td style=\"border:solid;\" bgcolor=\"white\"></td><td style=\"border:solid;\" bgcolor=\"white\"></td></tr>\n",
       "<tr><td>2: the</td><td style=\"border:none;\" bgcolor=\"white\"></td><td style=\"border:none;\" bgcolor=\"white\"></td><td style=\"border:solid;\" bgcolor=\"#E1E1E1\"><font color=\"black\">Obj_5: 0.00</font>, <font color=\"black\">Obj_8: 0.00</font></td><td style=\"border:solid;\" bgcolor=\"white\"></td><td style=\"border:solid;\" bgcolor=\"white\"></td><td style=\"border:solid;\" bgcolor=\"white\"></td><td style=\"border:solid;\" bgcolor=\"white\"></td></tr>\n",
       "<tr><td>3: elephant</td><td style=\"border:none;\" bgcolor=\"white\"></td><td style=\"border:none;\" bgcolor=\"white\"></td><td style=\"border:none;\" bgcolor=\"white\"></td><td style=\"border:solid;\" bgcolor=\"white\"><font color=\"black\">Obj_6: 0.00</font>, <font color=\"black\">Obj_7_9: 0.00</font></td><td style=\"border:solid;\" bgcolor=\"white\"></td><td style=\"border:solid;\" bgcolor=\"white\"></td><td style=\"border:solid;\" bgcolor=\"white\"></td></tr>\n",
       "<tr><td>4: in</td><td style=\"border:none;\" bgcolor=\"white\"></td><td style=\"border:none;\" bgcolor=\"white\"></td><td style=\"border:none;\" bgcolor=\"white\"></td><td style=\"border:none;\" bgcolor=\"white\"></td><td style=\"border:solid;\" bgcolor=\"white\"><font color=\"black\">PP_2: 0.00</font></td><td style=\"border:solid;\" bgcolor=\"white\"></td><td style=\"border:solid;\" bgcolor=\"white\"></td></tr>\n",
       "<tr><td>5: his</td><td style=\"border:none;\" bgcolor=\"white\"></td><td style=\"border:none;\" bgcolor=\"white\"></td><td style=\"border:none;\" bgcolor=\"white\"></td><td style=\"border:none;\" bgcolor=\"white\"></td><td style=\"border:none;\" bgcolor=\"white\"></td><td style=\"border:solid;\" bgcolor=\"white\"><font color=\"black\">PP_1_3: 0.00</font></td><td style=\"border:solid;\" bgcolor=\"white\"></td></tr>\n",
       "<tr><td>6: pyjamas</td><td style=\"border:none;\" bgcolor=\"white\"></td><td style=\"border:none;\" bgcolor=\"white\"></td><td style=\"border:none;\" bgcolor=\"white\"></td><td style=\"border:none;\" bgcolor=\"white\"></td><td style=\"border:none;\" bgcolor=\"white\"></td><td style=\"border:none;\" bgcolor=\"white\"></td><td style=\"border:solid;\" bgcolor=\"white\"><font color=\"black\">PP_1_4: 0.00</font></td></tr></table> 20 / 112</div>\n",
       "<div class=\"item\"><table><tr><td></td><td>0: He</td><td>1: shot</td><td>2: the</td><td>3: elephant</td><td>4: in</td><td>5: his</td><td>6: pyjamas</td></tr>\n",
       "<tr><td>0: He</td><td style=\"border:solid;\" bgcolor=\"white\"><font color=\"black\">Subj: 0.00</font></td><td style=\"border:solid;\" bgcolor=\"white\"></td><td style=\"border:solid;\" bgcolor=\"white\"></td><td style=\"border:solid;\" bgcolor=\"white\"></td><td style=\"border:solid;\" bgcolor=\"white\"></td><td style=\"border:solid;\" bgcolor=\"white\"></td><td style=\"border:solid;\" bgcolor=\"white\"></td></tr>\n",
       "<tr><td>1: shot</td><td style=\"border:none;\" bgcolor=\"white\"></td><td style=\"border:solid;\" bgcolor=\"#E1E1E1\"><font color=\"red\">Verb: 0.00</font></td><td style=\"border:solid;\" bgcolor=\"#C3C3C3\"></td><td style=\"border:solid;\" bgcolor=\"white\"></td><td style=\"border:solid;\" bgcolor=\"white\"></td><td style=\"border:solid;\" bgcolor=\"white\"></td><td style=\"border:solid;\" bgcolor=\"white\"></td></tr>\n",
       "<tr><td>2: the</td><td style=\"border:none;\" bgcolor=\"white\"></td><td style=\"border:none;\" bgcolor=\"white\"></td><td style=\"border:solid;\" bgcolor=\"#E1E1E1\"><font color=\"red\">Obj_5: 0.00</font>, <font color=\"black\">Obj_8: 0.00</font></td><td style=\"border:solid;\" bgcolor=\"white\"></td><td style=\"border:solid;\" bgcolor=\"white\"></td><td style=\"border:solid;\" bgcolor=\"white\"></td><td style=\"border:solid;\" bgcolor=\"white\"></td></tr>\n",
       "<tr><td>3: elephant</td><td style=\"border:none;\" bgcolor=\"white\"></td><td style=\"border:none;\" bgcolor=\"white\"></td><td style=\"border:none;\" bgcolor=\"white\"></td><td style=\"border:solid;\" bgcolor=\"white\"><font color=\"black\">Obj_6: 0.00</font>, <font color=\"black\">Obj_7_9: 0.00</font></td><td style=\"border:solid;\" bgcolor=\"white\"></td><td style=\"border:solid;\" bgcolor=\"white\"></td><td style=\"border:solid;\" bgcolor=\"white\"></td></tr>\n",
       "<tr><td>4: in</td><td style=\"border:none;\" bgcolor=\"white\"></td><td style=\"border:none;\" bgcolor=\"white\"></td><td style=\"border:none;\" bgcolor=\"white\"></td><td style=\"border:none;\" bgcolor=\"white\"></td><td style=\"border:solid;\" bgcolor=\"white\"><font color=\"black\">PP_2: 0.00</font></td><td style=\"border:solid;\" bgcolor=\"white\"></td><td style=\"border:solid;\" bgcolor=\"white\"></td></tr>\n",
       "<tr><td>5: his</td><td style=\"border:none;\" bgcolor=\"white\"></td><td style=\"border:none;\" bgcolor=\"white\"></td><td style=\"border:none;\" bgcolor=\"white\"></td><td style=\"border:none;\" bgcolor=\"white\"></td><td style=\"border:none;\" bgcolor=\"white\"></td><td style=\"border:solid;\" bgcolor=\"white\"><font color=\"black\">PP_1_3: 0.00</font></td><td style=\"border:solid;\" bgcolor=\"white\"></td></tr>\n",
       "<tr><td>6: pyjamas</td><td style=\"border:none;\" bgcolor=\"white\"></td><td style=\"border:none;\" bgcolor=\"white\"></td><td style=\"border:none;\" bgcolor=\"white\"></td><td style=\"border:none;\" bgcolor=\"white\"></td><td style=\"border:none;\" bgcolor=\"white\"></td><td style=\"border:none;\" bgcolor=\"white\"></td><td style=\"border:solid;\" bgcolor=\"white\"><font color=\"black\">PP_1_4: 0.00</font></td></tr></table> 21 / 112</div>\n",
       "<div class=\"item\"><table><tr><td></td><td>0: He</td><td>1: shot</td><td>2: the</td><td>3: elephant</td><td>4: in</td><td>5: his</td><td>6: pyjamas</td></tr>\n",
       "<tr><td>0: He</td><td style=\"border:solid;\" bgcolor=\"white\"><font color=\"black\">Subj: 0.00</font></td><td style=\"border:solid;\" bgcolor=\"white\"></td><td style=\"border:solid;\" bgcolor=\"white\"></td><td style=\"border:solid;\" bgcolor=\"white\"></td><td style=\"border:solid;\" bgcolor=\"white\"></td><td style=\"border:solid;\" bgcolor=\"white\"></td><td style=\"border:solid;\" bgcolor=\"white\"></td></tr>\n",
       "<tr><td>1: shot</td><td style=\"border:none;\" bgcolor=\"white\"></td><td style=\"border:solid;\" bgcolor=\"#E1E1E1\"><font color=\"red\">Verb: 0.00</font></td><td style=\"border:solid;\" bgcolor=\"#C3C3C3\"></td><td style=\"border:solid;\" bgcolor=\"white\"></td><td style=\"border:solid;\" bgcolor=\"white\"></td><td style=\"border:solid;\" bgcolor=\"white\"></td><td style=\"border:solid;\" bgcolor=\"white\"></td></tr>\n",
       "<tr><td>2: the</td><td style=\"border:none;\" bgcolor=\"white\"></td><td style=\"border:none;\" bgcolor=\"white\"></td><td style=\"border:solid;\" bgcolor=\"#E1E1E1\"><font color=\"black\">Obj_5: 0.00</font>, <font color=\"red\">Obj_8: 0.00</font></td><td style=\"border:solid;\" bgcolor=\"white\"></td><td style=\"border:solid;\" bgcolor=\"white\"></td><td style=\"border:solid;\" bgcolor=\"white\"></td><td style=\"border:solid;\" bgcolor=\"white\"></td></tr>\n",
       "<tr><td>3: elephant</td><td style=\"border:none;\" bgcolor=\"white\"></td><td style=\"border:none;\" bgcolor=\"white\"></td><td style=\"border:none;\" bgcolor=\"white\"></td><td style=\"border:solid;\" bgcolor=\"white\"><font color=\"black\">Obj_6: 0.00</font>, <font color=\"black\">Obj_7_9: 0.00</font></td><td style=\"border:solid;\" bgcolor=\"white\"></td><td style=\"border:solid;\" bgcolor=\"white\"></td><td style=\"border:solid;\" bgcolor=\"white\"></td></tr>\n",
       "<tr><td>4: in</td><td style=\"border:none;\" bgcolor=\"white\"></td><td style=\"border:none;\" bgcolor=\"white\"></td><td style=\"border:none;\" bgcolor=\"white\"></td><td style=\"border:none;\" bgcolor=\"white\"></td><td style=\"border:solid;\" bgcolor=\"white\"><font color=\"black\">PP_2: 0.00</font></td><td style=\"border:solid;\" bgcolor=\"white\"></td><td style=\"border:solid;\" bgcolor=\"white\"></td></tr>\n",
       "<tr><td>5: his</td><td style=\"border:none;\" bgcolor=\"white\"></td><td style=\"border:none;\" bgcolor=\"white\"></td><td style=\"border:none;\" bgcolor=\"white\"></td><td style=\"border:none;\" bgcolor=\"white\"></td><td style=\"border:none;\" bgcolor=\"white\"></td><td style=\"border:solid;\" bgcolor=\"white\"><font color=\"black\">PP_1_3: 0.00</font></td><td style=\"border:solid;\" bgcolor=\"white\"></td></tr>\n",
       "<tr><td>6: pyjamas</td><td style=\"border:none;\" bgcolor=\"white\"></td><td style=\"border:none;\" bgcolor=\"white\"></td><td style=\"border:none;\" bgcolor=\"white\"></td><td style=\"border:none;\" bgcolor=\"white\"></td><td style=\"border:none;\" bgcolor=\"white\"></td><td style=\"border:none;\" bgcolor=\"white\"></td><td style=\"border:solid;\" bgcolor=\"white\"><font color=\"black\">PP_1_4: 0.00</font></td></tr></table> 22 / 112</div>\n",
       "<div class=\"item\"><table><tr><td></td><td>0: He</td><td>1: shot</td><td>2: the</td><td>3: elephant</td><td>4: in</td><td>5: his</td><td>6: pyjamas</td></tr>\n",
       "<tr><td>0: He</td><td style=\"border:solid;\" bgcolor=\"white\"><font color=\"black\">Subj: 0.00</font></td><td style=\"border:solid;\" bgcolor=\"white\"></td><td style=\"border:solid;\" bgcolor=\"white\"></td><td style=\"border:solid;\" bgcolor=\"white\"></td><td style=\"border:solid;\" bgcolor=\"white\"></td><td style=\"border:solid;\" bgcolor=\"white\"></td><td style=\"border:solid;\" bgcolor=\"white\"></td></tr>\n",
       "<tr><td>1: shot</td><td style=\"border:none;\" bgcolor=\"white\"></td><td style=\"border:solid;\" bgcolor=\"white\"><font color=\"black\">Verb: 0.00</font></td><td style=\"border:solid;\" bgcolor=\"white\"></td><td style=\"border:solid;\" bgcolor=\"white\"></td><td style=\"border:solid;\" bgcolor=\"white\"></td><td style=\"border:solid;\" bgcolor=\"white\"></td><td style=\"border:solid;\" bgcolor=\"white\"></td></tr>\n",
       "<tr><td>2: the</td><td style=\"border:none;\" bgcolor=\"white\"></td><td style=\"border:none;\" bgcolor=\"white\"></td><td style=\"border:solid;\" bgcolor=\"#E1E1E1\"><font color=\"black\">Obj_5: 0.00</font>, <font color=\"black\">Obj_8: 0.00</font></td><td style=\"border:solid;\" bgcolor=\"#C3C3C3\"></td><td style=\"border:solid;\" bgcolor=\"white\"></td><td style=\"border:solid;\" bgcolor=\"white\"></td><td style=\"border:solid;\" bgcolor=\"white\"></td></tr>\n",
       "<tr><td>3: elephant</td><td style=\"border:none;\" bgcolor=\"white\"></td><td style=\"border:none;\" bgcolor=\"white\"></td><td style=\"border:none;\" bgcolor=\"white\"></td><td style=\"border:solid;\" bgcolor=\"#E1E1E1\"><font color=\"black\">Obj_6: 0.00</font>, <font color=\"black\">Obj_7_9: 0.00</font></td><td style=\"border:solid;\" bgcolor=\"white\"></td><td style=\"border:solid;\" bgcolor=\"white\"></td><td style=\"border:solid;\" bgcolor=\"white\"></td></tr>\n",
       "<tr><td>4: in</td><td style=\"border:none;\" bgcolor=\"white\"></td><td style=\"border:none;\" bgcolor=\"white\"></td><td style=\"border:none;\" bgcolor=\"white\"></td><td style=\"border:none;\" bgcolor=\"white\"></td><td style=\"border:solid;\" bgcolor=\"white\"><font color=\"black\">PP_2: 0.00</font></td><td style=\"border:solid;\" bgcolor=\"white\"></td><td style=\"border:solid;\" bgcolor=\"white\"></td></tr>\n",
       "<tr><td>5: his</td><td style=\"border:none;\" bgcolor=\"white\"></td><td style=\"border:none;\" bgcolor=\"white\"></td><td style=\"border:none;\" bgcolor=\"white\"></td><td style=\"border:none;\" bgcolor=\"white\"></td><td style=\"border:none;\" bgcolor=\"white\"></td><td style=\"border:solid;\" bgcolor=\"white\"><font color=\"black\">PP_1_3: 0.00</font></td><td style=\"border:solid;\" bgcolor=\"white\"></td></tr>\n",
       "<tr><td>6: pyjamas</td><td style=\"border:none;\" bgcolor=\"white\"></td><td style=\"border:none;\" bgcolor=\"white\"></td><td style=\"border:none;\" bgcolor=\"white\"></td><td style=\"border:none;\" bgcolor=\"white\"></td><td style=\"border:none;\" bgcolor=\"white\"></td><td style=\"border:none;\" bgcolor=\"white\"></td><td style=\"border:solid;\" bgcolor=\"white\"><font color=\"black\">PP_1_4: 0.00</font></td></tr></table> 23 / 112</div>\n",
       "<div class=\"item\"><table><tr><td></td><td>0: He</td><td>1: shot</td><td>2: the</td><td>3: elephant</td><td>4: in</td><td>5: his</td><td>6: pyjamas</td></tr>\n",
       "<tr><td>0: He</td><td style=\"border:solid;\" bgcolor=\"white\"><font color=\"black\">Subj: 0.00</font></td><td style=\"border:solid;\" bgcolor=\"white\"></td><td style=\"border:solid;\" bgcolor=\"white\"></td><td style=\"border:solid;\" bgcolor=\"white\"></td><td style=\"border:solid;\" bgcolor=\"white\"></td><td style=\"border:solid;\" bgcolor=\"white\"></td><td style=\"border:solid;\" bgcolor=\"white\"></td></tr>\n",
       "<tr><td>1: shot</td><td style=\"border:none;\" bgcolor=\"white\"></td><td style=\"border:solid;\" bgcolor=\"white\"><font color=\"black\">Verb: 0.00</font></td><td style=\"border:solid;\" bgcolor=\"white\"></td><td style=\"border:solid;\" bgcolor=\"white\"></td><td style=\"border:solid;\" bgcolor=\"white\"></td><td style=\"border:solid;\" bgcolor=\"white\"></td><td style=\"border:solid;\" bgcolor=\"white\"></td></tr>\n",
       "<tr><td>2: the</td><td style=\"border:none;\" bgcolor=\"white\"></td><td style=\"border:none;\" bgcolor=\"white\"></td><td style=\"border:solid;\" bgcolor=\"#E1E1E1\"><font color=\"red\">Obj_5: 0.00</font>, <font color=\"black\">Obj_8: 0.00</font></td><td style=\"border:solid;\" bgcolor=\"#C3C3C3\"></td><td style=\"border:solid;\" bgcolor=\"white\"></td><td style=\"border:solid;\" bgcolor=\"white\"></td><td style=\"border:solid;\" bgcolor=\"white\"></td></tr>\n",
       "<tr><td>3: elephant</td><td style=\"border:none;\" bgcolor=\"white\"></td><td style=\"border:none;\" bgcolor=\"white\"></td><td style=\"border:none;\" bgcolor=\"white\"></td><td style=\"border:solid;\" bgcolor=\"#E1E1E1\"><font color=\"red\">Obj_6: 0.00</font>, <font color=\"black\">Obj_7_9: 0.00</font></td><td style=\"border:solid;\" bgcolor=\"white\"></td><td style=\"border:solid;\" bgcolor=\"white\"></td><td style=\"border:solid;\" bgcolor=\"white\"></td></tr>\n",
       "<tr><td>4: in</td><td style=\"border:none;\" bgcolor=\"white\"></td><td style=\"border:none;\" bgcolor=\"white\"></td><td style=\"border:none;\" bgcolor=\"white\"></td><td style=\"border:none;\" bgcolor=\"white\"></td><td style=\"border:solid;\" bgcolor=\"white\"><font color=\"black\">PP_2: 0.00</font></td><td style=\"border:solid;\" bgcolor=\"white\"></td><td style=\"border:solid;\" bgcolor=\"white\"></td></tr>\n",
       "<tr><td>5: his</td><td style=\"border:none;\" bgcolor=\"white\"></td><td style=\"border:none;\" bgcolor=\"white\"></td><td style=\"border:none;\" bgcolor=\"white\"></td><td style=\"border:none;\" bgcolor=\"white\"></td><td style=\"border:none;\" bgcolor=\"white\"></td><td style=\"border:solid;\" bgcolor=\"white\"><font color=\"black\">PP_1_3: 0.00</font></td><td style=\"border:solid;\" bgcolor=\"white\"></td></tr>\n",
       "<tr><td>6: pyjamas</td><td style=\"border:none;\" bgcolor=\"white\"></td><td style=\"border:none;\" bgcolor=\"white\"></td><td style=\"border:none;\" bgcolor=\"white\"></td><td style=\"border:none;\" bgcolor=\"white\"></td><td style=\"border:none;\" bgcolor=\"white\"></td><td style=\"border:none;\" bgcolor=\"white\"></td><td style=\"border:solid;\" bgcolor=\"white\"><font color=\"black\">PP_1_4: 0.00</font></td></tr></table> 24 / 112</div>\n",
       "<div class=\"item\"><table><tr><td></td><td>0: He</td><td>1: shot</td><td>2: the</td><td>3: elephant</td><td>4: in</td><td>5: his</td><td>6: pyjamas</td></tr>\n",
       "<tr><td>0: He</td><td style=\"border:solid;\" bgcolor=\"white\"><font color=\"black\">Subj: 0.00</font></td><td style=\"border:solid;\" bgcolor=\"white\"></td><td style=\"border:solid;\" bgcolor=\"white\"></td><td style=\"border:solid;\" bgcolor=\"white\"></td><td style=\"border:solid;\" bgcolor=\"white\"></td><td style=\"border:solid;\" bgcolor=\"white\"></td><td style=\"border:solid;\" bgcolor=\"white\"></td></tr>\n",
       "<tr><td>1: shot</td><td style=\"border:none;\" bgcolor=\"white\"></td><td style=\"border:solid;\" bgcolor=\"white\"><font color=\"black\">Verb: 0.00</font></td><td style=\"border:solid;\" bgcolor=\"white\"></td><td style=\"border:solid;\" bgcolor=\"white\"></td><td style=\"border:solid;\" bgcolor=\"white\"></td><td style=\"border:solid;\" bgcolor=\"white\"></td><td style=\"border:solid;\" bgcolor=\"white\"></td></tr>\n",
       "<tr><td>2: the</td><td style=\"border:none;\" bgcolor=\"white\"></td><td style=\"border:none;\" bgcolor=\"white\"></td><td style=\"border:solid;\" bgcolor=\"#E1E1E1\"><font color=\"red\">Obj_5: 0.00</font>, <font color=\"black\">Obj_8: 0.00</font></td><td style=\"border:solid;\" bgcolor=\"#C3C3C3\"><font color=\"blue\">Obj: -0.69</font></td><td style=\"border:solid;\" bgcolor=\"white\"></td><td style=\"border:solid;\" bgcolor=\"white\"></td><td style=\"border:solid;\" bgcolor=\"white\"></td></tr>\n",
       "<tr><td>3: elephant</td><td style=\"border:none;\" bgcolor=\"white\"></td><td style=\"border:none;\" bgcolor=\"white\"></td><td style=\"border:none;\" bgcolor=\"white\"></td><td style=\"border:solid;\" bgcolor=\"#E1E1E1\"><font color=\"red\">Obj_6: 0.00</font>, <font color=\"black\">Obj_7_9: 0.00</font></td><td style=\"border:solid;\" bgcolor=\"white\"></td><td style=\"border:solid;\" bgcolor=\"white\"></td><td style=\"border:solid;\" bgcolor=\"white\"></td></tr>\n",
       "<tr><td>4: in</td><td style=\"border:none;\" bgcolor=\"white\"></td><td style=\"border:none;\" bgcolor=\"white\"></td><td style=\"border:none;\" bgcolor=\"white\"></td><td style=\"border:none;\" bgcolor=\"white\"></td><td style=\"border:solid;\" bgcolor=\"white\"><font color=\"black\">PP_2: 0.00</font></td><td style=\"border:solid;\" bgcolor=\"white\"></td><td style=\"border:solid;\" bgcolor=\"white\"></td></tr>\n",
       "<tr><td>5: his</td><td style=\"border:none;\" bgcolor=\"white\"></td><td style=\"border:none;\" bgcolor=\"white\"></td><td style=\"border:none;\" bgcolor=\"white\"></td><td style=\"border:none;\" bgcolor=\"white\"></td><td style=\"border:none;\" bgcolor=\"white\"></td><td style=\"border:solid;\" bgcolor=\"white\"><font color=\"black\">PP_1_3: 0.00</font></td><td style=\"border:solid;\" bgcolor=\"white\"></td></tr>\n",
       "<tr><td>6: pyjamas</td><td style=\"border:none;\" bgcolor=\"white\"></td><td style=\"border:none;\" bgcolor=\"white\"></td><td style=\"border:none;\" bgcolor=\"white\"></td><td style=\"border:none;\" bgcolor=\"white\"></td><td style=\"border:none;\" bgcolor=\"white\"></td><td style=\"border:none;\" bgcolor=\"white\"></td><td style=\"border:solid;\" bgcolor=\"white\"><font color=\"black\">PP_1_4: 0.00</font></td></tr></table> 25 / 112</div>\n",
       "<div class=\"item\"><table><tr><td></td><td>0: He</td><td>1: shot</td><td>2: the</td><td>3: elephant</td><td>4: in</td><td>5: his</td><td>6: pyjamas</td></tr>\n",
       "<tr><td>0: He</td><td style=\"border:solid;\" bgcolor=\"white\"><font color=\"black\">Subj: 0.00</font></td><td style=\"border:solid;\" bgcolor=\"white\"></td><td style=\"border:solid;\" bgcolor=\"white\"></td><td style=\"border:solid;\" bgcolor=\"white\"></td><td style=\"border:solid;\" bgcolor=\"white\"></td><td style=\"border:solid;\" bgcolor=\"white\"></td><td style=\"border:solid;\" bgcolor=\"white\"></td></tr>\n",
       "<tr><td>1: shot</td><td style=\"border:none;\" bgcolor=\"white\"></td><td style=\"border:solid;\" bgcolor=\"white\"><font color=\"black\">Verb: 0.00</font></td><td style=\"border:solid;\" bgcolor=\"white\"></td><td style=\"border:solid;\" bgcolor=\"white\"></td><td style=\"border:solid;\" bgcolor=\"white\"></td><td style=\"border:solid;\" bgcolor=\"white\"></td><td style=\"border:solid;\" bgcolor=\"white\"></td></tr>\n",
       "<tr><td>2: the</td><td style=\"border:none;\" bgcolor=\"white\"></td><td style=\"border:none;\" bgcolor=\"white\"></td><td style=\"border:solid;\" bgcolor=\"#E1E1E1\"><font color=\"red\">Obj_5: 0.00</font>, <font color=\"black\">Obj_8: 0.00</font></td><td style=\"border:solid;\" bgcolor=\"#C3C3C3\"><font color=\"black\">Obj: -0.69</font></td><td style=\"border:solid;\" bgcolor=\"white\"></td><td style=\"border:solid;\" bgcolor=\"white\"></td><td style=\"border:solid;\" bgcolor=\"white\"></td></tr>\n",
       "<tr><td>3: elephant</td><td style=\"border:none;\" bgcolor=\"white\"></td><td style=\"border:none;\" bgcolor=\"white\"></td><td style=\"border:none;\" bgcolor=\"white\"></td><td style=\"border:solid;\" bgcolor=\"#E1E1E1\"><font color=\"black\">Obj_6: 0.00</font>, <font color=\"red\">Obj_7_9: 0.00</font></td><td style=\"border:solid;\" bgcolor=\"white\"></td><td style=\"border:solid;\" bgcolor=\"white\"></td><td style=\"border:solid;\" bgcolor=\"white\"></td></tr>\n",
       "<tr><td>4: in</td><td style=\"border:none;\" bgcolor=\"white\"></td><td style=\"border:none;\" bgcolor=\"white\"></td><td style=\"border:none;\" bgcolor=\"white\"></td><td style=\"border:none;\" bgcolor=\"white\"></td><td style=\"border:solid;\" bgcolor=\"white\"><font color=\"black\">PP_2: 0.00</font></td><td style=\"border:solid;\" bgcolor=\"white\"></td><td style=\"border:solid;\" bgcolor=\"white\"></td></tr>\n",
       "<tr><td>5: his</td><td style=\"border:none;\" bgcolor=\"white\"></td><td style=\"border:none;\" bgcolor=\"white\"></td><td style=\"border:none;\" bgcolor=\"white\"></td><td style=\"border:none;\" bgcolor=\"white\"></td><td style=\"border:none;\" bgcolor=\"white\"></td><td style=\"border:solid;\" bgcolor=\"white\"><font color=\"black\">PP_1_3: 0.00</font></td><td style=\"border:solid;\" bgcolor=\"white\"></td></tr>\n",
       "<tr><td>6: pyjamas</td><td style=\"border:none;\" bgcolor=\"white\"></td><td style=\"border:none;\" bgcolor=\"white\"></td><td style=\"border:none;\" bgcolor=\"white\"></td><td style=\"border:none;\" bgcolor=\"white\"></td><td style=\"border:none;\" bgcolor=\"white\"></td><td style=\"border:none;\" bgcolor=\"white\"></td><td style=\"border:solid;\" bgcolor=\"white\"><font color=\"black\">PP_1_4: 0.00</font></td></tr></table> 26 / 112</div>\n",
       "<div class=\"item\"><table><tr><td></td><td>0: He</td><td>1: shot</td><td>2: the</td><td>3: elephant</td><td>4: in</td><td>5: his</td><td>6: pyjamas</td></tr>\n",
       "<tr><td>0: He</td><td style=\"border:solid;\" bgcolor=\"white\"><font color=\"black\">Subj: 0.00</font></td><td style=\"border:solid;\" bgcolor=\"white\"></td><td style=\"border:solid;\" bgcolor=\"white\"></td><td style=\"border:solid;\" bgcolor=\"white\"></td><td style=\"border:solid;\" bgcolor=\"white\"></td><td style=\"border:solid;\" bgcolor=\"white\"></td><td style=\"border:solid;\" bgcolor=\"white\"></td></tr>\n",
       "<tr><td>1: shot</td><td style=\"border:none;\" bgcolor=\"white\"></td><td style=\"border:solid;\" bgcolor=\"white\"><font color=\"black\">Verb: 0.00</font></td><td style=\"border:solid;\" bgcolor=\"white\"></td><td style=\"border:solid;\" bgcolor=\"white\"></td><td style=\"border:solid;\" bgcolor=\"white\"></td><td style=\"border:solid;\" bgcolor=\"white\"></td><td style=\"border:solid;\" bgcolor=\"white\"></td></tr>\n",
       "<tr><td>2: the</td><td style=\"border:none;\" bgcolor=\"white\"></td><td style=\"border:none;\" bgcolor=\"white\"></td><td style=\"border:solid;\" bgcolor=\"#E1E1E1\"><font color=\"black\">Obj_5: 0.00</font>, <font color=\"red\">Obj_8: 0.00</font></td><td style=\"border:solid;\" bgcolor=\"#C3C3C3\"><font color=\"black\">Obj: -0.69</font></td><td style=\"border:solid;\" bgcolor=\"white\"></td><td style=\"border:solid;\" bgcolor=\"white\"></td><td style=\"border:solid;\" bgcolor=\"white\"></td></tr>\n",
       "<tr><td>3: elephant</td><td style=\"border:none;\" bgcolor=\"white\"></td><td style=\"border:none;\" bgcolor=\"white\"></td><td style=\"border:none;\" bgcolor=\"white\"></td><td style=\"border:solid;\" bgcolor=\"#E1E1E1\"><font color=\"red\">Obj_6: 0.00</font>, <font color=\"black\">Obj_7_9: 0.00</font></td><td style=\"border:solid;\" bgcolor=\"white\"></td><td style=\"border:solid;\" bgcolor=\"white\"></td><td style=\"border:solid;\" bgcolor=\"white\"></td></tr>\n",
       "<tr><td>4: in</td><td style=\"border:none;\" bgcolor=\"white\"></td><td style=\"border:none;\" bgcolor=\"white\"></td><td style=\"border:none;\" bgcolor=\"white\"></td><td style=\"border:none;\" bgcolor=\"white\"></td><td style=\"border:solid;\" bgcolor=\"white\"><font color=\"black\">PP_2: 0.00</font></td><td style=\"border:solid;\" bgcolor=\"white\"></td><td style=\"border:solid;\" bgcolor=\"white\"></td></tr>\n",
       "<tr><td>5: his</td><td style=\"border:none;\" bgcolor=\"white\"></td><td style=\"border:none;\" bgcolor=\"white\"></td><td style=\"border:none;\" bgcolor=\"white\"></td><td style=\"border:none;\" bgcolor=\"white\"></td><td style=\"border:none;\" bgcolor=\"white\"></td><td style=\"border:solid;\" bgcolor=\"white\"><font color=\"black\">PP_1_3: 0.00</font></td><td style=\"border:solid;\" bgcolor=\"white\"></td></tr>\n",
       "<tr><td>6: pyjamas</td><td style=\"border:none;\" bgcolor=\"white\"></td><td style=\"border:none;\" bgcolor=\"white\"></td><td style=\"border:none;\" bgcolor=\"white\"></td><td style=\"border:none;\" bgcolor=\"white\"></td><td style=\"border:none;\" bgcolor=\"white\"></td><td style=\"border:none;\" bgcolor=\"white\"></td><td style=\"border:solid;\" bgcolor=\"white\"><font color=\"black\">PP_1_4: 0.00</font></td></tr></table> 27 / 112</div>\n",
       "<div class=\"item\"><table><tr><td></td><td>0: He</td><td>1: shot</td><td>2: the</td><td>3: elephant</td><td>4: in</td><td>5: his</td><td>6: pyjamas</td></tr>\n",
       "<tr><td>0: He</td><td style=\"border:solid;\" bgcolor=\"white\"><font color=\"black\">Subj: 0.00</font></td><td style=\"border:solid;\" bgcolor=\"white\"></td><td style=\"border:solid;\" bgcolor=\"white\"></td><td style=\"border:solid;\" bgcolor=\"white\"></td><td style=\"border:solid;\" bgcolor=\"white\"></td><td style=\"border:solid;\" bgcolor=\"white\"></td><td style=\"border:solid;\" bgcolor=\"white\"></td></tr>\n",
       "<tr><td>1: shot</td><td style=\"border:none;\" bgcolor=\"white\"></td><td style=\"border:solid;\" bgcolor=\"white\"><font color=\"black\">Verb: 0.00</font></td><td style=\"border:solid;\" bgcolor=\"white\"></td><td style=\"border:solid;\" bgcolor=\"white\"></td><td style=\"border:solid;\" bgcolor=\"white\"></td><td style=\"border:solid;\" bgcolor=\"white\"></td><td style=\"border:solid;\" bgcolor=\"white\"></td></tr>\n",
       "<tr><td>2: the</td><td style=\"border:none;\" bgcolor=\"white\"></td><td style=\"border:none;\" bgcolor=\"white\"></td><td style=\"border:solid;\" bgcolor=\"#E1E1E1\"><font color=\"black\">Obj_5: 0.00</font>, <font color=\"red\">Obj_8: 0.00</font></td><td style=\"border:solid;\" bgcolor=\"#C3C3C3\"><font color=\"black\">Obj: -0.69</font></td><td style=\"border:solid;\" bgcolor=\"white\"></td><td style=\"border:solid;\" bgcolor=\"white\"></td><td style=\"border:solid;\" bgcolor=\"white\"></td></tr>\n",
       "<tr><td>3: elephant</td><td style=\"border:none;\" bgcolor=\"white\"></td><td style=\"border:none;\" bgcolor=\"white\"></td><td style=\"border:none;\" bgcolor=\"white\"></td><td style=\"border:solid;\" bgcolor=\"#E1E1E1\"><font color=\"black\">Obj_6: 0.00</font>, <font color=\"red\">Obj_7_9: 0.00</font></td><td style=\"border:solid;\" bgcolor=\"white\"></td><td style=\"border:solid;\" bgcolor=\"white\"></td><td style=\"border:solid;\" bgcolor=\"white\"></td></tr>\n",
       "<tr><td>4: in</td><td style=\"border:none;\" bgcolor=\"white\"></td><td style=\"border:none;\" bgcolor=\"white\"></td><td style=\"border:none;\" bgcolor=\"white\"></td><td style=\"border:none;\" bgcolor=\"white\"></td><td style=\"border:solid;\" bgcolor=\"white\"><font color=\"black\">PP_2: 0.00</font></td><td style=\"border:solid;\" bgcolor=\"white\"></td><td style=\"border:solid;\" bgcolor=\"white\"></td></tr>\n",
       "<tr><td>5: his</td><td style=\"border:none;\" bgcolor=\"white\"></td><td style=\"border:none;\" bgcolor=\"white\"></td><td style=\"border:none;\" bgcolor=\"white\"></td><td style=\"border:none;\" bgcolor=\"white\"></td><td style=\"border:none;\" bgcolor=\"white\"></td><td style=\"border:solid;\" bgcolor=\"white\"><font color=\"black\">PP_1_3: 0.00</font></td><td style=\"border:solid;\" bgcolor=\"white\"></td></tr>\n",
       "<tr><td>6: pyjamas</td><td style=\"border:none;\" bgcolor=\"white\"></td><td style=\"border:none;\" bgcolor=\"white\"></td><td style=\"border:none;\" bgcolor=\"white\"></td><td style=\"border:none;\" bgcolor=\"white\"></td><td style=\"border:none;\" bgcolor=\"white\"></td><td style=\"border:none;\" bgcolor=\"white\"></td><td style=\"border:solid;\" bgcolor=\"white\"><font color=\"black\">PP_1_4: 0.00</font></td></tr></table> 28 / 112</div>\n",
       "<div class=\"item\"><table><tr><td></td><td>0: He</td><td>1: shot</td><td>2: the</td><td>3: elephant</td><td>4: in</td><td>5: his</td><td>6: pyjamas</td></tr>\n",
       "<tr><td>0: He</td><td style=\"border:solid;\" bgcolor=\"white\"><font color=\"black\">Subj: 0.00</font></td><td style=\"border:solid;\" bgcolor=\"white\"></td><td style=\"border:solid;\" bgcolor=\"white\"></td><td style=\"border:solid;\" bgcolor=\"white\"></td><td style=\"border:solid;\" bgcolor=\"white\"></td><td style=\"border:solid;\" bgcolor=\"white\"></td><td style=\"border:solid;\" bgcolor=\"white\"></td></tr>\n",
       "<tr><td>1: shot</td><td style=\"border:none;\" bgcolor=\"white\"></td><td style=\"border:solid;\" bgcolor=\"white\"><font color=\"black\">Verb: 0.00</font></td><td style=\"border:solid;\" bgcolor=\"white\"></td><td style=\"border:solid;\" bgcolor=\"white\"></td><td style=\"border:solid;\" bgcolor=\"white\"></td><td style=\"border:solid;\" bgcolor=\"white\"></td><td style=\"border:solid;\" bgcolor=\"white\"></td></tr>\n",
       "<tr><td>2: the</td><td style=\"border:none;\" bgcolor=\"white\"></td><td style=\"border:none;\" bgcolor=\"white\"></td><td style=\"border:solid;\" bgcolor=\"white\"><font color=\"black\">Obj_5: 0.00</font>, <font color=\"black\">Obj_8: 0.00</font></td><td style=\"border:solid;\" bgcolor=\"white\"><font color=\"black\">Obj: -0.69</font></td><td style=\"border:solid;\" bgcolor=\"white\"></td><td style=\"border:solid;\" bgcolor=\"white\"></td><td style=\"border:solid;\" bgcolor=\"white\"></td></tr>\n",
       "<tr><td>3: elephant</td><td style=\"border:none;\" bgcolor=\"white\"></td><td style=\"border:none;\" bgcolor=\"white\"></td><td style=\"border:none;\" bgcolor=\"white\"></td><td style=\"border:solid;\" bgcolor=\"#E1E1E1\"><font color=\"black\">Obj_6: 0.00</font>, <font color=\"black\">Obj_7_9: 0.00</font></td><td style=\"border:solid;\" bgcolor=\"#C3C3C3\"></td><td style=\"border:solid;\" bgcolor=\"white\"></td><td style=\"border:solid;\" bgcolor=\"white\"></td></tr>\n",
       "<tr><td>4: in</td><td style=\"border:none;\" bgcolor=\"white\"></td><td style=\"border:none;\" bgcolor=\"white\"></td><td style=\"border:none;\" bgcolor=\"white\"></td><td style=\"border:none;\" bgcolor=\"white\"></td><td style=\"border:solid;\" bgcolor=\"#E1E1E1\"><font color=\"black\">PP_2: 0.00</font></td><td style=\"border:solid;\" bgcolor=\"white\"></td><td style=\"border:solid;\" bgcolor=\"white\"></td></tr>\n",
       "<tr><td>5: his</td><td style=\"border:none;\" bgcolor=\"white\"></td><td style=\"border:none;\" bgcolor=\"white\"></td><td style=\"border:none;\" bgcolor=\"white\"></td><td style=\"border:none;\" bgcolor=\"white\"></td><td style=\"border:none;\" bgcolor=\"white\"></td><td style=\"border:solid;\" bgcolor=\"white\"><font color=\"black\">PP_1_3: 0.00</font></td><td style=\"border:solid;\" bgcolor=\"white\"></td></tr>\n",
       "<tr><td>6: pyjamas</td><td style=\"border:none;\" bgcolor=\"white\"></td><td style=\"border:none;\" bgcolor=\"white\"></td><td style=\"border:none;\" bgcolor=\"white\"></td><td style=\"border:none;\" bgcolor=\"white\"></td><td style=\"border:none;\" bgcolor=\"white\"></td><td style=\"border:none;\" bgcolor=\"white\"></td><td style=\"border:solid;\" bgcolor=\"white\"><font color=\"black\">PP_1_4: 0.00</font></td></tr></table> 29 / 112</div>\n",
       "<div class=\"item\"><table><tr><td></td><td>0: He</td><td>1: shot</td><td>2: the</td><td>3: elephant</td><td>4: in</td><td>5: his</td><td>6: pyjamas</td></tr>\n",
       "<tr><td>0: He</td><td style=\"border:solid;\" bgcolor=\"white\"><font color=\"black\">Subj: 0.00</font></td><td style=\"border:solid;\" bgcolor=\"white\"></td><td style=\"border:solid;\" bgcolor=\"white\"></td><td style=\"border:solid;\" bgcolor=\"white\"></td><td style=\"border:solid;\" bgcolor=\"white\"></td><td style=\"border:solid;\" bgcolor=\"white\"></td><td style=\"border:solid;\" bgcolor=\"white\"></td></tr>\n",
       "<tr><td>1: shot</td><td style=\"border:none;\" bgcolor=\"white\"></td><td style=\"border:solid;\" bgcolor=\"white\"><font color=\"black\">Verb: 0.00</font></td><td style=\"border:solid;\" bgcolor=\"white\"></td><td style=\"border:solid;\" bgcolor=\"white\"></td><td style=\"border:solid;\" bgcolor=\"white\"></td><td style=\"border:solid;\" bgcolor=\"white\"></td><td style=\"border:solid;\" bgcolor=\"white\"></td></tr>\n",
       "<tr><td>2: the</td><td style=\"border:none;\" bgcolor=\"white\"></td><td style=\"border:none;\" bgcolor=\"white\"></td><td style=\"border:solid;\" bgcolor=\"white\"><font color=\"black\">Obj_5: 0.00</font>, <font color=\"black\">Obj_8: 0.00</font></td><td style=\"border:solid;\" bgcolor=\"white\"><font color=\"black\">Obj: -0.69</font></td><td style=\"border:solid;\" bgcolor=\"white\"></td><td style=\"border:solid;\" bgcolor=\"white\"></td><td style=\"border:solid;\" bgcolor=\"white\"></td></tr>\n",
       "<tr><td>3: elephant</td><td style=\"border:none;\" bgcolor=\"white\"></td><td style=\"border:none;\" bgcolor=\"white\"></td><td style=\"border:none;\" bgcolor=\"white\"></td><td style=\"border:solid;\" bgcolor=\"#E1E1E1\"><font color=\"red\">Obj_6: 0.00</font>, <font color=\"black\">Obj_7_9: 0.00</font></td><td style=\"border:solid;\" bgcolor=\"#C3C3C3\"></td><td style=\"border:solid;\" bgcolor=\"white\"></td><td style=\"border:solid;\" bgcolor=\"white\"></td></tr>\n",
       "<tr><td>4: in</td><td style=\"border:none;\" bgcolor=\"white\"></td><td style=\"border:none;\" bgcolor=\"white\"></td><td style=\"border:none;\" bgcolor=\"white\"></td><td style=\"border:none;\" bgcolor=\"white\"></td><td style=\"border:solid;\" bgcolor=\"#E1E1E1\"><font color=\"red\">PP_2: 0.00</font></td><td style=\"border:solid;\" bgcolor=\"white\"></td><td style=\"border:solid;\" bgcolor=\"white\"></td></tr>\n",
       "<tr><td>5: his</td><td style=\"border:none;\" bgcolor=\"white\"></td><td style=\"border:none;\" bgcolor=\"white\"></td><td style=\"border:none;\" bgcolor=\"white\"></td><td style=\"border:none;\" bgcolor=\"white\"></td><td style=\"border:none;\" bgcolor=\"white\"></td><td style=\"border:solid;\" bgcolor=\"white\"><font color=\"black\">PP_1_3: 0.00</font></td><td style=\"border:solid;\" bgcolor=\"white\"></td></tr>\n",
       "<tr><td>6: pyjamas</td><td style=\"border:none;\" bgcolor=\"white\"></td><td style=\"border:none;\" bgcolor=\"white\"></td><td style=\"border:none;\" bgcolor=\"white\"></td><td style=\"border:none;\" bgcolor=\"white\"></td><td style=\"border:none;\" bgcolor=\"white\"></td><td style=\"border:none;\" bgcolor=\"white\"></td><td style=\"border:solid;\" bgcolor=\"white\"><font color=\"black\">PP_1_4: 0.00</font></td></tr></table> 30 / 112</div>\n",
       "<div class=\"item\"><table><tr><td></td><td>0: He</td><td>1: shot</td><td>2: the</td><td>3: elephant</td><td>4: in</td><td>5: his</td><td>6: pyjamas</td></tr>\n",
       "<tr><td>0: He</td><td style=\"border:solid;\" bgcolor=\"white\"><font color=\"black\">Subj: 0.00</font></td><td style=\"border:solid;\" bgcolor=\"white\"></td><td style=\"border:solid;\" bgcolor=\"white\"></td><td style=\"border:solid;\" bgcolor=\"white\"></td><td style=\"border:solid;\" bgcolor=\"white\"></td><td style=\"border:solid;\" bgcolor=\"white\"></td><td style=\"border:solid;\" bgcolor=\"white\"></td></tr>\n",
       "<tr><td>1: shot</td><td style=\"border:none;\" bgcolor=\"white\"></td><td style=\"border:solid;\" bgcolor=\"white\"><font color=\"black\">Verb: 0.00</font></td><td style=\"border:solid;\" bgcolor=\"white\"></td><td style=\"border:solid;\" bgcolor=\"white\"></td><td style=\"border:solid;\" bgcolor=\"white\"></td><td style=\"border:solid;\" bgcolor=\"white\"></td><td style=\"border:solid;\" bgcolor=\"white\"></td></tr>\n",
       "<tr><td>2: the</td><td style=\"border:none;\" bgcolor=\"white\"></td><td style=\"border:none;\" bgcolor=\"white\"></td><td style=\"border:solid;\" bgcolor=\"white\"><font color=\"black\">Obj_5: 0.00</font>, <font color=\"black\">Obj_8: 0.00</font></td><td style=\"border:solid;\" bgcolor=\"white\"><font color=\"black\">Obj: -0.69</font></td><td style=\"border:solid;\" bgcolor=\"white\"></td><td style=\"border:solid;\" bgcolor=\"white\"></td><td style=\"border:solid;\" bgcolor=\"white\"></td></tr>\n",
       "<tr><td>3: elephant</td><td style=\"border:none;\" bgcolor=\"white\"></td><td style=\"border:none;\" bgcolor=\"white\"></td><td style=\"border:none;\" bgcolor=\"white\"></td><td style=\"border:solid;\" bgcolor=\"#E1E1E1\"><font color=\"black\">Obj_6: 0.00</font>, <font color=\"red\">Obj_7_9: 0.00</font></td><td style=\"border:solid;\" bgcolor=\"#C3C3C3\"></td><td style=\"border:solid;\" bgcolor=\"white\"></td><td style=\"border:solid;\" bgcolor=\"white\"></td></tr>\n",
       "<tr><td>4: in</td><td style=\"border:none;\" bgcolor=\"white\"></td><td style=\"border:none;\" bgcolor=\"white\"></td><td style=\"border:none;\" bgcolor=\"white\"></td><td style=\"border:none;\" bgcolor=\"white\"></td><td style=\"border:solid;\" bgcolor=\"#E1E1E1\"><font color=\"red\">PP_2: 0.00</font></td><td style=\"border:solid;\" bgcolor=\"white\"></td><td style=\"border:solid;\" bgcolor=\"white\"></td></tr>\n",
       "<tr><td>5: his</td><td style=\"border:none;\" bgcolor=\"white\"></td><td style=\"border:none;\" bgcolor=\"white\"></td><td style=\"border:none;\" bgcolor=\"white\"></td><td style=\"border:none;\" bgcolor=\"white\"></td><td style=\"border:none;\" bgcolor=\"white\"></td><td style=\"border:solid;\" bgcolor=\"white\"><font color=\"black\">PP_1_3: 0.00</font></td><td style=\"border:solid;\" bgcolor=\"white\"></td></tr>\n",
       "<tr><td>6: pyjamas</td><td style=\"border:none;\" bgcolor=\"white\"></td><td style=\"border:none;\" bgcolor=\"white\"></td><td style=\"border:none;\" bgcolor=\"white\"></td><td style=\"border:none;\" bgcolor=\"white\"></td><td style=\"border:none;\" bgcolor=\"white\"></td><td style=\"border:none;\" bgcolor=\"white\"></td><td style=\"border:solid;\" bgcolor=\"white\"><font color=\"black\">PP_1_4: 0.00</font></td></tr></table> 31 / 112</div>\n",
       "<div class=\"item\"><table><tr><td></td><td>0: He</td><td>1: shot</td><td>2: the</td><td>3: elephant</td><td>4: in</td><td>5: his</td><td>6: pyjamas</td></tr>\n",
       "<tr><td>0: He</td><td style=\"border:solid;\" bgcolor=\"white\"><font color=\"black\">Subj: 0.00</font></td><td style=\"border:solid;\" bgcolor=\"white\"></td><td style=\"border:solid;\" bgcolor=\"white\"></td><td style=\"border:solid;\" bgcolor=\"white\"></td><td style=\"border:solid;\" bgcolor=\"white\"></td><td style=\"border:solid;\" bgcolor=\"white\"></td><td style=\"border:solid;\" bgcolor=\"white\"></td></tr>\n",
       "<tr><td>1: shot</td><td style=\"border:none;\" bgcolor=\"white\"></td><td style=\"border:solid;\" bgcolor=\"white\"><font color=\"black\">Verb: 0.00</font></td><td style=\"border:solid;\" bgcolor=\"white\"></td><td style=\"border:solid;\" bgcolor=\"white\"></td><td style=\"border:solid;\" bgcolor=\"white\"></td><td style=\"border:solid;\" bgcolor=\"white\"></td><td style=\"border:solid;\" bgcolor=\"white\"></td></tr>\n",
       "<tr><td>2: the</td><td style=\"border:none;\" bgcolor=\"white\"></td><td style=\"border:none;\" bgcolor=\"white\"></td><td style=\"border:solid;\" bgcolor=\"white\"><font color=\"black\">Obj_5: 0.00</font>, <font color=\"black\">Obj_8: 0.00</font></td><td style=\"border:solid;\" bgcolor=\"white\"><font color=\"black\">Obj: -0.69</font></td><td style=\"border:solid;\" bgcolor=\"white\"></td><td style=\"border:solid;\" bgcolor=\"white\"></td><td style=\"border:solid;\" bgcolor=\"white\"></td></tr>\n",
       "<tr><td>3: elephant</td><td style=\"border:none;\" bgcolor=\"white\"></td><td style=\"border:none;\" bgcolor=\"white\"></td><td style=\"border:none;\" bgcolor=\"white\"></td><td style=\"border:solid;\" bgcolor=\"white\"><font color=\"black\">Obj_6: 0.00</font>, <font color=\"black\">Obj_7_9: 0.00</font></td><td style=\"border:solid;\" bgcolor=\"white\"></td><td style=\"border:solid;\" bgcolor=\"white\"></td><td style=\"border:solid;\" bgcolor=\"white\"></td></tr>\n",
       "<tr><td>4: in</td><td style=\"border:none;\" bgcolor=\"white\"></td><td style=\"border:none;\" bgcolor=\"white\"></td><td style=\"border:none;\" bgcolor=\"white\"></td><td style=\"border:none;\" bgcolor=\"white\"></td><td style=\"border:solid;\" bgcolor=\"#E1E1E1\"><font color=\"black\">PP_2: 0.00</font></td><td style=\"border:solid;\" bgcolor=\"#C3C3C3\"></td><td style=\"border:solid;\" bgcolor=\"white\"></td></tr>\n",
       "<tr><td>5: his</td><td style=\"border:none;\" bgcolor=\"white\"></td><td style=\"border:none;\" bgcolor=\"white\"></td><td style=\"border:none;\" bgcolor=\"white\"></td><td style=\"border:none;\" bgcolor=\"white\"></td><td style=\"border:none;\" bgcolor=\"white\"></td><td style=\"border:solid;\" bgcolor=\"#E1E1E1\"><font color=\"black\">PP_1_3: 0.00</font></td><td style=\"border:solid;\" bgcolor=\"white\"></td></tr>\n",
       "<tr><td>6: pyjamas</td><td style=\"border:none;\" bgcolor=\"white\"></td><td style=\"border:none;\" bgcolor=\"white\"></td><td style=\"border:none;\" bgcolor=\"white\"></td><td style=\"border:none;\" bgcolor=\"white\"></td><td style=\"border:none;\" bgcolor=\"white\"></td><td style=\"border:none;\" bgcolor=\"white\"></td><td style=\"border:solid;\" bgcolor=\"white\"><font color=\"black\">PP_1_4: 0.00</font></td></tr></table> 32 / 112</div>\n",
       "<div class=\"item\"><table><tr><td></td><td>0: He</td><td>1: shot</td><td>2: the</td><td>3: elephant</td><td>4: in</td><td>5: his</td><td>6: pyjamas</td></tr>\n",
       "<tr><td>0: He</td><td style=\"border:solid;\" bgcolor=\"white\"><font color=\"black\">Subj: 0.00</font></td><td style=\"border:solid;\" bgcolor=\"white\"></td><td style=\"border:solid;\" bgcolor=\"white\"></td><td style=\"border:solid;\" bgcolor=\"white\"></td><td style=\"border:solid;\" bgcolor=\"white\"></td><td style=\"border:solid;\" bgcolor=\"white\"></td><td style=\"border:solid;\" bgcolor=\"white\"></td></tr>\n",
       "<tr><td>1: shot</td><td style=\"border:none;\" bgcolor=\"white\"></td><td style=\"border:solid;\" bgcolor=\"white\"><font color=\"black\">Verb: 0.00</font></td><td style=\"border:solid;\" bgcolor=\"white\"></td><td style=\"border:solid;\" bgcolor=\"white\"></td><td style=\"border:solid;\" bgcolor=\"white\"></td><td style=\"border:solid;\" bgcolor=\"white\"></td><td style=\"border:solid;\" bgcolor=\"white\"></td></tr>\n",
       "<tr><td>2: the</td><td style=\"border:none;\" bgcolor=\"white\"></td><td style=\"border:none;\" bgcolor=\"white\"></td><td style=\"border:solid;\" bgcolor=\"white\"><font color=\"black\">Obj_5: 0.00</font>, <font color=\"black\">Obj_8: 0.00</font></td><td style=\"border:solid;\" bgcolor=\"white\"><font color=\"black\">Obj: -0.69</font></td><td style=\"border:solid;\" bgcolor=\"white\"></td><td style=\"border:solid;\" bgcolor=\"white\"></td><td style=\"border:solid;\" bgcolor=\"white\"></td></tr>\n",
       "<tr><td>3: elephant</td><td style=\"border:none;\" bgcolor=\"white\"></td><td style=\"border:none;\" bgcolor=\"white\"></td><td style=\"border:none;\" bgcolor=\"white\"></td><td style=\"border:solid;\" bgcolor=\"white\"><font color=\"black\">Obj_6: 0.00</font>, <font color=\"black\">Obj_7_9: 0.00</font></td><td style=\"border:solid;\" bgcolor=\"white\"></td><td style=\"border:solid;\" bgcolor=\"white\"></td><td style=\"border:solid;\" bgcolor=\"white\"></td></tr>\n",
       "<tr><td>4: in</td><td style=\"border:none;\" bgcolor=\"white\"></td><td style=\"border:none;\" bgcolor=\"white\"></td><td style=\"border:none;\" bgcolor=\"white\"></td><td style=\"border:none;\" bgcolor=\"white\"></td><td style=\"border:solid;\" bgcolor=\"#E1E1E1\"><font color=\"red\">PP_2: 0.00</font></td><td style=\"border:solid;\" bgcolor=\"#C3C3C3\"></td><td style=\"border:solid;\" bgcolor=\"white\"></td></tr>\n",
       "<tr><td>5: his</td><td style=\"border:none;\" bgcolor=\"white\"></td><td style=\"border:none;\" bgcolor=\"white\"></td><td style=\"border:none;\" bgcolor=\"white\"></td><td style=\"border:none;\" bgcolor=\"white\"></td><td style=\"border:none;\" bgcolor=\"white\"></td><td style=\"border:solid;\" bgcolor=\"#E1E1E1\"><font color=\"red\">PP_1_3: 0.00</font></td><td style=\"border:solid;\" bgcolor=\"white\"></td></tr>\n",
       "<tr><td>6: pyjamas</td><td style=\"border:none;\" bgcolor=\"white\"></td><td style=\"border:none;\" bgcolor=\"white\"></td><td style=\"border:none;\" bgcolor=\"white\"></td><td style=\"border:none;\" bgcolor=\"white\"></td><td style=\"border:none;\" bgcolor=\"white\"></td><td style=\"border:none;\" bgcolor=\"white\"></td><td style=\"border:solid;\" bgcolor=\"white\"><font color=\"black\">PP_1_4: 0.00</font></td></tr></table> 33 / 112</div>\n",
       "<div class=\"item\"><table><tr><td></td><td>0: He</td><td>1: shot</td><td>2: the</td><td>3: elephant</td><td>4: in</td><td>5: his</td><td>6: pyjamas</td></tr>\n",
       "<tr><td>0: He</td><td style=\"border:solid;\" bgcolor=\"white\"><font color=\"black\">Subj: 0.00</font></td><td style=\"border:solid;\" bgcolor=\"white\"></td><td style=\"border:solid;\" bgcolor=\"white\"></td><td style=\"border:solid;\" bgcolor=\"white\"></td><td style=\"border:solid;\" bgcolor=\"white\"></td><td style=\"border:solid;\" bgcolor=\"white\"></td><td style=\"border:solid;\" bgcolor=\"white\"></td></tr>\n",
       "<tr><td>1: shot</td><td style=\"border:none;\" bgcolor=\"white\"></td><td style=\"border:solid;\" bgcolor=\"white\"><font color=\"black\">Verb: 0.00</font></td><td style=\"border:solid;\" bgcolor=\"white\"></td><td style=\"border:solid;\" bgcolor=\"white\"></td><td style=\"border:solid;\" bgcolor=\"white\"></td><td style=\"border:solid;\" bgcolor=\"white\"></td><td style=\"border:solid;\" bgcolor=\"white\"></td></tr>\n",
       "<tr><td>2: the</td><td style=\"border:none;\" bgcolor=\"white\"></td><td style=\"border:none;\" bgcolor=\"white\"></td><td style=\"border:solid;\" bgcolor=\"white\"><font color=\"black\">Obj_5: 0.00</font>, <font color=\"black\">Obj_8: 0.00</font></td><td style=\"border:solid;\" bgcolor=\"white\"><font color=\"black\">Obj: -0.69</font></td><td style=\"border:solid;\" bgcolor=\"white\"></td><td style=\"border:solid;\" bgcolor=\"white\"></td><td style=\"border:solid;\" bgcolor=\"white\"></td></tr>\n",
       "<tr><td>3: elephant</td><td style=\"border:none;\" bgcolor=\"white\"></td><td style=\"border:none;\" bgcolor=\"white\"></td><td style=\"border:none;\" bgcolor=\"white\"></td><td style=\"border:solid;\" bgcolor=\"white\"><font color=\"black\">Obj_6: 0.00</font>, <font color=\"black\">Obj_7_9: 0.00</font></td><td style=\"border:solid;\" bgcolor=\"white\"></td><td style=\"border:solid;\" bgcolor=\"white\"></td><td style=\"border:solid;\" bgcolor=\"white\"></td></tr>\n",
       "<tr><td>4: in</td><td style=\"border:none;\" bgcolor=\"white\"></td><td style=\"border:none;\" bgcolor=\"white\"></td><td style=\"border:none;\" bgcolor=\"white\"></td><td style=\"border:none;\" bgcolor=\"white\"></td><td style=\"border:solid;\" bgcolor=\"white\"><font color=\"black\">PP_2: 0.00</font></td><td style=\"border:solid;\" bgcolor=\"white\"></td><td style=\"border:solid;\" bgcolor=\"white\"></td></tr>\n",
       "<tr><td>5: his</td><td style=\"border:none;\" bgcolor=\"white\"></td><td style=\"border:none;\" bgcolor=\"white\"></td><td style=\"border:none;\" bgcolor=\"white\"></td><td style=\"border:none;\" bgcolor=\"white\"></td><td style=\"border:none;\" bgcolor=\"white\"></td><td style=\"border:solid;\" bgcolor=\"#E1E1E1\"><font color=\"black\">PP_1_3: 0.00</font></td><td style=\"border:solid;\" bgcolor=\"#C3C3C3\"></td></tr>\n",
       "<tr><td>6: pyjamas</td><td style=\"border:none;\" bgcolor=\"white\"></td><td style=\"border:none;\" bgcolor=\"white\"></td><td style=\"border:none;\" bgcolor=\"white\"></td><td style=\"border:none;\" bgcolor=\"white\"></td><td style=\"border:none;\" bgcolor=\"white\"></td><td style=\"border:none;\" bgcolor=\"white\"></td><td style=\"border:solid;\" bgcolor=\"#E1E1E1\"><font color=\"black\">PP_1_4: 0.00</font></td></tr></table> 34 / 112</div>\n",
       "<div class=\"item\"><table><tr><td></td><td>0: He</td><td>1: shot</td><td>2: the</td><td>3: elephant</td><td>4: in</td><td>5: his</td><td>6: pyjamas</td></tr>\n",
       "<tr><td>0: He</td><td style=\"border:solid;\" bgcolor=\"white\"><font color=\"black\">Subj: 0.00</font></td><td style=\"border:solid;\" bgcolor=\"white\"></td><td style=\"border:solid;\" bgcolor=\"white\"></td><td style=\"border:solid;\" bgcolor=\"white\"></td><td style=\"border:solid;\" bgcolor=\"white\"></td><td style=\"border:solid;\" bgcolor=\"white\"></td><td style=\"border:solid;\" bgcolor=\"white\"></td></tr>\n",
       "<tr><td>1: shot</td><td style=\"border:none;\" bgcolor=\"white\"></td><td style=\"border:solid;\" bgcolor=\"white\"><font color=\"black\">Verb: 0.00</font></td><td style=\"border:solid;\" bgcolor=\"white\"></td><td style=\"border:solid;\" bgcolor=\"white\"></td><td style=\"border:solid;\" bgcolor=\"white\"></td><td style=\"border:solid;\" bgcolor=\"white\"></td><td style=\"border:solid;\" bgcolor=\"white\"></td></tr>\n",
       "<tr><td>2: the</td><td style=\"border:none;\" bgcolor=\"white\"></td><td style=\"border:none;\" bgcolor=\"white\"></td><td style=\"border:solid;\" bgcolor=\"white\"><font color=\"black\">Obj_5: 0.00</font>, <font color=\"black\">Obj_8: 0.00</font></td><td style=\"border:solid;\" bgcolor=\"white\"><font color=\"black\">Obj: -0.69</font></td><td style=\"border:solid;\" bgcolor=\"white\"></td><td style=\"border:solid;\" bgcolor=\"white\"></td><td style=\"border:solid;\" bgcolor=\"white\"></td></tr>\n",
       "<tr><td>3: elephant</td><td style=\"border:none;\" bgcolor=\"white\"></td><td style=\"border:none;\" bgcolor=\"white\"></td><td style=\"border:none;\" bgcolor=\"white\"></td><td style=\"border:solid;\" bgcolor=\"white\"><font color=\"black\">Obj_6: 0.00</font>, <font color=\"black\">Obj_7_9: 0.00</font></td><td style=\"border:solid;\" bgcolor=\"white\"></td><td style=\"border:solid;\" bgcolor=\"white\"></td><td style=\"border:solid;\" bgcolor=\"white\"></td></tr>\n",
       "<tr><td>4: in</td><td style=\"border:none;\" bgcolor=\"white\"></td><td style=\"border:none;\" bgcolor=\"white\"></td><td style=\"border:none;\" bgcolor=\"white\"></td><td style=\"border:none;\" bgcolor=\"white\"></td><td style=\"border:solid;\" bgcolor=\"white\"><font color=\"black\">PP_2: 0.00</font></td><td style=\"border:solid;\" bgcolor=\"white\"></td><td style=\"border:solid;\" bgcolor=\"white\"></td></tr>\n",
       "<tr><td>5: his</td><td style=\"border:none;\" bgcolor=\"white\"></td><td style=\"border:none;\" bgcolor=\"white\"></td><td style=\"border:none;\" bgcolor=\"white\"></td><td style=\"border:none;\" bgcolor=\"white\"></td><td style=\"border:none;\" bgcolor=\"white\"></td><td style=\"border:solid;\" bgcolor=\"#E1E1E1\"><font color=\"red\">PP_1_3: 0.00</font></td><td style=\"border:solid;\" bgcolor=\"#C3C3C3\"></td></tr>\n",
       "<tr><td>6: pyjamas</td><td style=\"border:none;\" bgcolor=\"white\"></td><td style=\"border:none;\" bgcolor=\"white\"></td><td style=\"border:none;\" bgcolor=\"white\"></td><td style=\"border:none;\" bgcolor=\"white\"></td><td style=\"border:none;\" bgcolor=\"white\"></td><td style=\"border:none;\" bgcolor=\"white\"></td><td style=\"border:solid;\" bgcolor=\"#E1E1E1\"><font color=\"red\">PP_1_4: 0.00</font></td></tr></table> 35 / 112</div>\n",
       "<div class=\"item\"><table><tr><td></td><td>0: He</td><td>1: shot</td><td>2: the</td><td>3: elephant</td><td>4: in</td><td>5: his</td><td>6: pyjamas</td></tr>\n",
       "<tr><td>0: He</td><td style=\"border:solid;\" bgcolor=\"white\"><font color=\"black\">Subj: 0.00</font></td><td style=\"border:solid;\" bgcolor=\"white\"></td><td style=\"border:solid;\" bgcolor=\"white\"></td><td style=\"border:solid;\" bgcolor=\"white\"></td><td style=\"border:solid;\" bgcolor=\"white\"></td><td style=\"border:solid;\" bgcolor=\"white\"></td><td style=\"border:solid;\" bgcolor=\"white\"></td></tr>\n",
       "<tr><td>1: shot</td><td style=\"border:none;\" bgcolor=\"white\"></td><td style=\"border:solid;\" bgcolor=\"white\"><font color=\"black\">Verb: 0.00</font></td><td style=\"border:solid;\" bgcolor=\"white\"></td><td style=\"border:solid;\" bgcolor=\"white\"></td><td style=\"border:solid;\" bgcolor=\"white\"></td><td style=\"border:solid;\" bgcolor=\"white\"></td><td style=\"border:solid;\" bgcolor=\"white\"></td></tr>\n",
       "<tr><td>2: the</td><td style=\"border:none;\" bgcolor=\"white\"></td><td style=\"border:none;\" bgcolor=\"white\"></td><td style=\"border:solid;\" bgcolor=\"white\"><font color=\"black\">Obj_5: 0.00</font>, <font color=\"black\">Obj_8: 0.00</font></td><td style=\"border:solid;\" bgcolor=\"white\"><font color=\"black\">Obj: -0.69</font></td><td style=\"border:solid;\" bgcolor=\"white\"></td><td style=\"border:solid;\" bgcolor=\"white\"></td><td style=\"border:solid;\" bgcolor=\"white\"></td></tr>\n",
       "<tr><td>3: elephant</td><td style=\"border:none;\" bgcolor=\"white\"></td><td style=\"border:none;\" bgcolor=\"white\"></td><td style=\"border:none;\" bgcolor=\"white\"></td><td style=\"border:solid;\" bgcolor=\"white\"><font color=\"black\">Obj_6: 0.00</font>, <font color=\"black\">Obj_7_9: 0.00</font></td><td style=\"border:solid;\" bgcolor=\"white\"></td><td style=\"border:solid;\" bgcolor=\"white\"></td><td style=\"border:solid;\" bgcolor=\"white\"></td></tr>\n",
       "<tr><td>4: in</td><td style=\"border:none;\" bgcolor=\"white\"></td><td style=\"border:none;\" bgcolor=\"white\"></td><td style=\"border:none;\" bgcolor=\"white\"></td><td style=\"border:none;\" bgcolor=\"white\"></td><td style=\"border:solid;\" bgcolor=\"white\"><font color=\"black\">PP_2: 0.00</font></td><td style=\"border:solid;\" bgcolor=\"white\"></td><td style=\"border:solid;\" bgcolor=\"white\"></td></tr>\n",
       "<tr><td>5: his</td><td style=\"border:none;\" bgcolor=\"white\"></td><td style=\"border:none;\" bgcolor=\"white\"></td><td style=\"border:none;\" bgcolor=\"white\"></td><td style=\"border:none;\" bgcolor=\"white\"></td><td style=\"border:none;\" bgcolor=\"white\"></td><td style=\"border:solid;\" bgcolor=\"#E1E1E1\"><font color=\"red\">PP_1_3: 0.00</font></td><td style=\"border:solid;\" bgcolor=\"#C3C3C3\"><font color=\"blue\">PP_1: 0.00</font></td></tr>\n",
       "<tr><td>6: pyjamas</td><td style=\"border:none;\" bgcolor=\"white\"></td><td style=\"border:none;\" bgcolor=\"white\"></td><td style=\"border:none;\" bgcolor=\"white\"></td><td style=\"border:none;\" bgcolor=\"white\"></td><td style=\"border:none;\" bgcolor=\"white\"></td><td style=\"border:none;\" bgcolor=\"white\"></td><td style=\"border:solid;\" bgcolor=\"#E1E1E1\"><font color=\"red\">PP_1_4: 0.00</font></td></tr></table> 36 / 112</div>\n",
       "<div class=\"item\"><table><tr><td></td><td>0: He</td><td>1: shot</td><td>2: the</td><td>3: elephant</td><td>4: in</td><td>5: his</td><td>6: pyjamas</td></tr>\n",
       "<tr><td>0: He</td><td style=\"border:solid;\" bgcolor=\"#E1E1E1\"><font color=\"black\">Subj: 0.00</font></td><td style=\"border:solid;\" bgcolor=\"white\"></td><td style=\"border:solid;\" bgcolor=\"#C3C3C3\"></td><td style=\"border:solid;\" bgcolor=\"white\"></td><td style=\"border:solid;\" bgcolor=\"white\"></td><td style=\"border:solid;\" bgcolor=\"white\"></td><td style=\"border:solid;\" bgcolor=\"white\"></td></tr>\n",
       "<tr><td>1: shot</td><td style=\"border:none;\" bgcolor=\"white\"></td><td style=\"border:solid;\" bgcolor=\"white\"><font color=\"black\">Verb: 0.00</font></td><td style=\"border:solid;\" bgcolor=\"#E1E1E1\"></td><td style=\"border:solid;\" bgcolor=\"white\"></td><td style=\"border:solid;\" bgcolor=\"white\"></td><td style=\"border:solid;\" bgcolor=\"white\"></td><td style=\"border:solid;\" bgcolor=\"white\"></td></tr>\n",
       "<tr><td>2: the</td><td style=\"border:none;\" bgcolor=\"white\"></td><td style=\"border:none;\" bgcolor=\"white\"></td><td style=\"border:solid;\" bgcolor=\"white\"><font color=\"black\">Obj_5: 0.00</font>, <font color=\"black\">Obj_8: 0.00</font></td><td style=\"border:solid;\" bgcolor=\"white\"><font color=\"black\">Obj: -0.69</font></td><td style=\"border:solid;\" bgcolor=\"white\"></td><td style=\"border:solid;\" bgcolor=\"white\"></td><td style=\"border:solid;\" bgcolor=\"white\"></td></tr>\n",
       "<tr><td>3: elephant</td><td style=\"border:none;\" bgcolor=\"white\"></td><td style=\"border:none;\" bgcolor=\"white\"></td><td style=\"border:none;\" bgcolor=\"white\"></td><td style=\"border:solid;\" bgcolor=\"white\"><font color=\"black\">Obj_6: 0.00</font>, <font color=\"black\">Obj_7_9: 0.00</font></td><td style=\"border:solid;\" bgcolor=\"white\"></td><td style=\"border:solid;\" bgcolor=\"white\"></td><td style=\"border:solid;\" bgcolor=\"white\"></td></tr>\n",
       "<tr><td>4: in</td><td style=\"border:none;\" bgcolor=\"white\"></td><td style=\"border:none;\" bgcolor=\"white\"></td><td style=\"border:none;\" bgcolor=\"white\"></td><td style=\"border:none;\" bgcolor=\"white\"></td><td style=\"border:solid;\" bgcolor=\"white\"><font color=\"black\">PP_2: 0.00</font></td><td style=\"border:solid;\" bgcolor=\"white\"></td><td style=\"border:solid;\" bgcolor=\"white\"></td></tr>\n",
       "<tr><td>5: his</td><td style=\"border:none;\" bgcolor=\"white\"></td><td style=\"border:none;\" bgcolor=\"white\"></td><td style=\"border:none;\" bgcolor=\"white\"></td><td style=\"border:none;\" bgcolor=\"white\"></td><td style=\"border:none;\" bgcolor=\"white\"></td><td style=\"border:solid;\" bgcolor=\"white\"><font color=\"black\">PP_1_3: 0.00</font></td><td style=\"border:solid;\" bgcolor=\"white\"><font color=\"black\">PP_1: 0.00</font></td></tr>\n",
       "<tr><td>6: pyjamas</td><td style=\"border:none;\" bgcolor=\"white\"></td><td style=\"border:none;\" bgcolor=\"white\"></td><td style=\"border:none;\" bgcolor=\"white\"></td><td style=\"border:none;\" bgcolor=\"white\"></td><td style=\"border:none;\" bgcolor=\"white\"></td><td style=\"border:none;\" bgcolor=\"white\"></td><td style=\"border:solid;\" bgcolor=\"white\"><font color=\"black\">PP_1_4: 0.00</font></td></tr></table> 37 / 112</div>\n",
       "<div class=\"item\"><table><tr><td></td><td>0: He</td><td>1: shot</td><td>2: the</td><td>3: elephant</td><td>4: in</td><td>5: his</td><td>6: pyjamas</td></tr>\n",
       "<tr><td>0: He</td><td style=\"border:solid;\" bgcolor=\"white\"><font color=\"black\">Subj: 0.00</font></td><td style=\"border:solid;\" bgcolor=\"#E1E1E1\"></td><td style=\"border:solid;\" bgcolor=\"#C3C3C3\"></td><td style=\"border:solid;\" bgcolor=\"white\"></td><td style=\"border:solid;\" bgcolor=\"white\"></td><td style=\"border:solid;\" bgcolor=\"white\"></td><td style=\"border:solid;\" bgcolor=\"white\"></td></tr>\n",
       "<tr><td>1: shot</td><td style=\"border:none;\" bgcolor=\"white\"></td><td style=\"border:solid;\" bgcolor=\"white\"><font color=\"black\">Verb: 0.00</font></td><td style=\"border:solid;\" bgcolor=\"white\"></td><td style=\"border:solid;\" bgcolor=\"white\"></td><td style=\"border:solid;\" bgcolor=\"white\"></td><td style=\"border:solid;\" bgcolor=\"white\"></td><td style=\"border:solid;\" bgcolor=\"white\"></td></tr>\n",
       "<tr><td>2: the</td><td style=\"border:none;\" bgcolor=\"white\"></td><td style=\"border:none;\" bgcolor=\"white\"></td><td style=\"border:solid;\" bgcolor=\"#E1E1E1\"><font color=\"black\">Obj_5: 0.00</font>, <font color=\"black\">Obj_8: 0.00</font></td><td style=\"border:solid;\" bgcolor=\"white\"><font color=\"black\">Obj: -0.69</font></td><td style=\"border:solid;\" bgcolor=\"white\"></td><td style=\"border:solid;\" bgcolor=\"white\"></td><td style=\"border:solid;\" bgcolor=\"white\"></td></tr>\n",
       "<tr><td>3: elephant</td><td style=\"border:none;\" bgcolor=\"white\"></td><td style=\"border:none;\" bgcolor=\"white\"></td><td style=\"border:none;\" bgcolor=\"white\"></td><td style=\"border:solid;\" bgcolor=\"white\"><font color=\"black\">Obj_6: 0.00</font>, <font color=\"black\">Obj_7_9: 0.00</font></td><td style=\"border:solid;\" bgcolor=\"white\"></td><td style=\"border:solid;\" bgcolor=\"white\"></td><td style=\"border:solid;\" bgcolor=\"white\"></td></tr>\n",
       "<tr><td>4: in</td><td style=\"border:none;\" bgcolor=\"white\"></td><td style=\"border:none;\" bgcolor=\"white\"></td><td style=\"border:none;\" bgcolor=\"white\"></td><td style=\"border:none;\" bgcolor=\"white\"></td><td style=\"border:solid;\" bgcolor=\"white\"><font color=\"black\">PP_2: 0.00</font></td><td style=\"border:solid;\" bgcolor=\"white\"></td><td style=\"border:solid;\" bgcolor=\"white\"></td></tr>\n",
       "<tr><td>5: his</td><td style=\"border:none;\" bgcolor=\"white\"></td><td style=\"border:none;\" bgcolor=\"white\"></td><td style=\"border:none;\" bgcolor=\"white\"></td><td style=\"border:none;\" bgcolor=\"white\"></td><td style=\"border:none;\" bgcolor=\"white\"></td><td style=\"border:solid;\" bgcolor=\"white\"><font color=\"black\">PP_1_3: 0.00</font></td><td style=\"border:solid;\" bgcolor=\"white\"><font color=\"black\">PP_1: 0.00</font></td></tr>\n",
       "<tr><td>6: pyjamas</td><td style=\"border:none;\" bgcolor=\"white\"></td><td style=\"border:none;\" bgcolor=\"white\"></td><td style=\"border:none;\" bgcolor=\"white\"></td><td style=\"border:none;\" bgcolor=\"white\"></td><td style=\"border:none;\" bgcolor=\"white\"></td><td style=\"border:none;\" bgcolor=\"white\"></td><td style=\"border:solid;\" bgcolor=\"white\"><font color=\"black\">PP_1_4: 0.00</font></td></tr></table> 38 / 112</div>\n",
       "<div class=\"item\"><table><tr><td></td><td>0: He</td><td>1: shot</td><td>2: the</td><td>3: elephant</td><td>4: in</td><td>5: his</td><td>6: pyjamas</td></tr>\n",
       "<tr><td>0: He</td><td style=\"border:solid;\" bgcolor=\"white\"><font color=\"black\">Subj: 0.00</font></td><td style=\"border:solid;\" bgcolor=\"white\"></td><td style=\"border:solid;\" bgcolor=\"white\"></td><td style=\"border:solid;\" bgcolor=\"white\"></td><td style=\"border:solid;\" bgcolor=\"white\"></td><td style=\"border:solid;\" bgcolor=\"white\"></td><td style=\"border:solid;\" bgcolor=\"white\"></td></tr>\n",
       "<tr><td>1: shot</td><td style=\"border:none;\" bgcolor=\"white\"></td><td style=\"border:solid;\" bgcolor=\"#E1E1E1\"><font color=\"black\">Verb: 0.00</font></td><td style=\"border:solid;\" bgcolor=\"white\"></td><td style=\"border:solid;\" bgcolor=\"#C3C3C3\"></td><td style=\"border:solid;\" bgcolor=\"white\"></td><td style=\"border:solid;\" bgcolor=\"white\"></td><td style=\"border:solid;\" bgcolor=\"white\"></td></tr>\n",
       "<tr><td>2: the</td><td style=\"border:none;\" bgcolor=\"white\"></td><td style=\"border:none;\" bgcolor=\"white\"></td><td style=\"border:solid;\" bgcolor=\"white\"><font color=\"black\">Obj_5: 0.00</font>, <font color=\"black\">Obj_8: 0.00</font></td><td style=\"border:solid;\" bgcolor=\"#E1E1E1\"><font color=\"black\">Obj: -0.69</font></td><td style=\"border:solid;\" bgcolor=\"white\"></td><td style=\"border:solid;\" bgcolor=\"white\"></td><td style=\"border:solid;\" bgcolor=\"white\"></td></tr>\n",
       "<tr><td>3: elephant</td><td style=\"border:none;\" bgcolor=\"white\"></td><td style=\"border:none;\" bgcolor=\"white\"></td><td style=\"border:none;\" bgcolor=\"white\"></td><td style=\"border:solid;\" bgcolor=\"white\"><font color=\"black\">Obj_6: 0.00</font>, <font color=\"black\">Obj_7_9: 0.00</font></td><td style=\"border:solid;\" bgcolor=\"white\"></td><td style=\"border:solid;\" bgcolor=\"white\"></td><td style=\"border:solid;\" bgcolor=\"white\"></td></tr>\n",
       "<tr><td>4: in</td><td style=\"border:none;\" bgcolor=\"white\"></td><td style=\"border:none;\" bgcolor=\"white\"></td><td style=\"border:none;\" bgcolor=\"white\"></td><td style=\"border:none;\" bgcolor=\"white\"></td><td style=\"border:solid;\" bgcolor=\"white\"><font color=\"black\">PP_2: 0.00</font></td><td style=\"border:solid;\" bgcolor=\"white\"></td><td style=\"border:solid;\" bgcolor=\"white\"></td></tr>\n",
       "<tr><td>5: his</td><td style=\"border:none;\" bgcolor=\"white\"></td><td style=\"border:none;\" bgcolor=\"white\"></td><td style=\"border:none;\" bgcolor=\"white\"></td><td style=\"border:none;\" bgcolor=\"white\"></td><td style=\"border:none;\" bgcolor=\"white\"></td><td style=\"border:solid;\" bgcolor=\"white\"><font color=\"black\">PP_1_3: 0.00</font></td><td style=\"border:solid;\" bgcolor=\"white\"><font color=\"black\">PP_1: 0.00</font></td></tr>\n",
       "<tr><td>6: pyjamas</td><td style=\"border:none;\" bgcolor=\"white\"></td><td style=\"border:none;\" bgcolor=\"white\"></td><td style=\"border:none;\" bgcolor=\"white\"></td><td style=\"border:none;\" bgcolor=\"white\"></td><td style=\"border:none;\" bgcolor=\"white\"></td><td style=\"border:none;\" bgcolor=\"white\"></td><td style=\"border:solid;\" bgcolor=\"white\"><font color=\"black\">PP_1_4: 0.00</font></td></tr></table> 39 / 112</div>\n",
       "<div class=\"item\"><table><tr><td></td><td>0: He</td><td>1: shot</td><td>2: the</td><td>3: elephant</td><td>4: in</td><td>5: his</td><td>6: pyjamas</td></tr>\n",
       "<tr><td>0: He</td><td style=\"border:solid;\" bgcolor=\"white\"><font color=\"black\">Subj: 0.00</font></td><td style=\"border:solid;\" bgcolor=\"white\"></td><td style=\"border:solid;\" bgcolor=\"white\"></td><td style=\"border:solid;\" bgcolor=\"white\"></td><td style=\"border:solid;\" bgcolor=\"white\"></td><td style=\"border:solid;\" bgcolor=\"white\"></td><td style=\"border:solid;\" bgcolor=\"white\"></td></tr>\n",
       "<tr><td>1: shot</td><td style=\"border:none;\" bgcolor=\"white\"></td><td style=\"border:solid;\" bgcolor=\"#E1E1E1\"><font color=\"red\">Verb: 0.00</font></td><td style=\"border:solid;\" bgcolor=\"white\"></td><td style=\"border:solid;\" bgcolor=\"#C3C3C3\"></td><td style=\"border:solid;\" bgcolor=\"white\"></td><td style=\"border:solid;\" bgcolor=\"white\"></td><td style=\"border:solid;\" bgcolor=\"white\"></td></tr>\n",
       "<tr><td>2: the</td><td style=\"border:none;\" bgcolor=\"white\"></td><td style=\"border:none;\" bgcolor=\"white\"></td><td style=\"border:solid;\" bgcolor=\"white\"><font color=\"black\">Obj_5: 0.00</font>, <font color=\"black\">Obj_8: 0.00</font></td><td style=\"border:solid;\" bgcolor=\"#E1E1E1\"><font color=\"red\">Obj: -0.69</font></td><td style=\"border:solid;\" bgcolor=\"white\"></td><td style=\"border:solid;\" bgcolor=\"white\"></td><td style=\"border:solid;\" bgcolor=\"white\"></td></tr>\n",
       "<tr><td>3: elephant</td><td style=\"border:none;\" bgcolor=\"white\"></td><td style=\"border:none;\" bgcolor=\"white\"></td><td style=\"border:none;\" bgcolor=\"white\"></td><td style=\"border:solid;\" bgcolor=\"white\"><font color=\"black\">Obj_6: 0.00</font>, <font color=\"black\">Obj_7_9: 0.00</font></td><td style=\"border:solid;\" bgcolor=\"white\"></td><td style=\"border:solid;\" bgcolor=\"white\"></td><td style=\"border:solid;\" bgcolor=\"white\"></td></tr>\n",
       "<tr><td>4: in</td><td style=\"border:none;\" bgcolor=\"white\"></td><td style=\"border:none;\" bgcolor=\"white\"></td><td style=\"border:none;\" bgcolor=\"white\"></td><td style=\"border:none;\" bgcolor=\"white\"></td><td style=\"border:solid;\" bgcolor=\"white\"><font color=\"black\">PP_2: 0.00</font></td><td style=\"border:solid;\" bgcolor=\"white\"></td><td style=\"border:solid;\" bgcolor=\"white\"></td></tr>\n",
       "<tr><td>5: his</td><td style=\"border:none;\" bgcolor=\"white\"></td><td style=\"border:none;\" bgcolor=\"white\"></td><td style=\"border:none;\" bgcolor=\"white\"></td><td style=\"border:none;\" bgcolor=\"white\"></td><td style=\"border:none;\" bgcolor=\"white\"></td><td style=\"border:solid;\" bgcolor=\"white\"><font color=\"black\">PP_1_3: 0.00</font></td><td style=\"border:solid;\" bgcolor=\"white\"><font color=\"black\">PP_1: 0.00</font></td></tr>\n",
       "<tr><td>6: pyjamas</td><td style=\"border:none;\" bgcolor=\"white\"></td><td style=\"border:none;\" bgcolor=\"white\"></td><td style=\"border:none;\" bgcolor=\"white\"></td><td style=\"border:none;\" bgcolor=\"white\"></td><td style=\"border:none;\" bgcolor=\"white\"></td><td style=\"border:none;\" bgcolor=\"white\"></td><td style=\"border:solid;\" bgcolor=\"white\"><font color=\"black\">PP_1_4: 0.00</font></td></tr></table> 40 / 112</div>\n",
       "<div class=\"item\"><table><tr><td></td><td>0: He</td><td>1: shot</td><td>2: the</td><td>3: elephant</td><td>4: in</td><td>5: his</td><td>6: pyjamas</td></tr>\n",
       "<tr><td>0: He</td><td style=\"border:solid;\" bgcolor=\"white\"><font color=\"black\">Subj: 0.00</font></td><td style=\"border:solid;\" bgcolor=\"white\"></td><td style=\"border:solid;\" bgcolor=\"white\"></td><td style=\"border:solid;\" bgcolor=\"white\"></td><td style=\"border:solid;\" bgcolor=\"white\"></td><td style=\"border:solid;\" bgcolor=\"white\"></td><td style=\"border:solid;\" bgcolor=\"white\"></td></tr>\n",
       "<tr><td>1: shot</td><td style=\"border:none;\" bgcolor=\"white\"></td><td style=\"border:solid;\" bgcolor=\"#E1E1E1\"><font color=\"red\">Verb: 0.00</font></td><td style=\"border:solid;\" bgcolor=\"white\"></td><td style=\"border:solid;\" bgcolor=\"#C3C3C3\"><font color=\"blue\">VP: -1.90</font></td><td style=\"border:solid;\" bgcolor=\"white\"></td><td style=\"border:solid;\" bgcolor=\"white\"></td><td style=\"border:solid;\" bgcolor=\"white\"></td></tr>\n",
       "<tr><td>2: the</td><td style=\"border:none;\" bgcolor=\"white\"></td><td style=\"border:none;\" bgcolor=\"white\"></td><td style=\"border:solid;\" bgcolor=\"white\"><font color=\"black\">Obj_5: 0.00</font>, <font color=\"black\">Obj_8: 0.00</font></td><td style=\"border:solid;\" bgcolor=\"#E1E1E1\"><font color=\"red\">Obj: -0.69</font></td><td style=\"border:solid;\" bgcolor=\"white\"></td><td style=\"border:solid;\" bgcolor=\"white\"></td><td style=\"border:solid;\" bgcolor=\"white\"></td></tr>\n",
       "<tr><td>3: elephant</td><td style=\"border:none;\" bgcolor=\"white\"></td><td style=\"border:none;\" bgcolor=\"white\"></td><td style=\"border:none;\" bgcolor=\"white\"></td><td style=\"border:solid;\" bgcolor=\"white\"><font color=\"black\">Obj_6: 0.00</font>, <font color=\"black\">Obj_7_9: 0.00</font></td><td style=\"border:solid;\" bgcolor=\"white\"></td><td style=\"border:solid;\" bgcolor=\"white\"></td><td style=\"border:solid;\" bgcolor=\"white\"></td></tr>\n",
       "<tr><td>4: in</td><td style=\"border:none;\" bgcolor=\"white\"></td><td style=\"border:none;\" bgcolor=\"white\"></td><td style=\"border:none;\" bgcolor=\"white\"></td><td style=\"border:none;\" bgcolor=\"white\"></td><td style=\"border:solid;\" bgcolor=\"white\"><font color=\"black\">PP_2: 0.00</font></td><td style=\"border:solid;\" bgcolor=\"white\"></td><td style=\"border:solid;\" bgcolor=\"white\"></td></tr>\n",
       "<tr><td>5: his</td><td style=\"border:none;\" bgcolor=\"white\"></td><td style=\"border:none;\" bgcolor=\"white\"></td><td style=\"border:none;\" bgcolor=\"white\"></td><td style=\"border:none;\" bgcolor=\"white\"></td><td style=\"border:none;\" bgcolor=\"white\"></td><td style=\"border:solid;\" bgcolor=\"white\"><font color=\"black\">PP_1_3: 0.00</font></td><td style=\"border:solid;\" bgcolor=\"white\"><font color=\"black\">PP_1: 0.00</font></td></tr>\n",
       "<tr><td>6: pyjamas</td><td style=\"border:none;\" bgcolor=\"white\"></td><td style=\"border:none;\" bgcolor=\"white\"></td><td style=\"border:none;\" bgcolor=\"white\"></td><td style=\"border:none;\" bgcolor=\"white\"></td><td style=\"border:none;\" bgcolor=\"white\"></td><td style=\"border:none;\" bgcolor=\"white\"></td><td style=\"border:solid;\" bgcolor=\"white\"><font color=\"black\">PP_1_4: 0.00</font></td></tr></table> 41 / 112</div>\n",
       "<div class=\"item\"><table><tr><td></td><td>0: He</td><td>1: shot</td><td>2: the</td><td>3: elephant</td><td>4: in</td><td>5: his</td><td>6: pyjamas</td></tr>\n",
       "<tr><td>0: He</td><td style=\"border:solid;\" bgcolor=\"white\"><font color=\"black\">Subj: 0.00</font></td><td style=\"border:solid;\" bgcolor=\"white\"></td><td style=\"border:solid;\" bgcolor=\"white\"></td><td style=\"border:solid;\" bgcolor=\"white\"></td><td style=\"border:solid;\" bgcolor=\"white\"></td><td style=\"border:solid;\" bgcolor=\"white\"></td><td style=\"border:solid;\" bgcolor=\"white\"></td></tr>\n",
       "<tr><td>1: shot</td><td style=\"border:none;\" bgcolor=\"white\"></td><td style=\"border:solid;\" bgcolor=\"white\"><font color=\"black\">Verb: 0.00</font></td><td style=\"border:solid;\" bgcolor=\"#E1E1E1\"></td><td style=\"border:solid;\" bgcolor=\"#C3C3C3\"><font color=\"black\">VP: -1.90</font></td><td style=\"border:solid;\" bgcolor=\"white\"></td><td style=\"border:solid;\" bgcolor=\"white\"></td><td style=\"border:solid;\" bgcolor=\"white\"></td></tr>\n",
       "<tr><td>2: the</td><td style=\"border:none;\" bgcolor=\"white\"></td><td style=\"border:none;\" bgcolor=\"white\"></td><td style=\"border:solid;\" bgcolor=\"white\"><font color=\"black\">Obj_5: 0.00</font>, <font color=\"black\">Obj_8: 0.00</font></td><td style=\"border:solid;\" bgcolor=\"white\"><font color=\"black\">Obj: -0.69</font></td><td style=\"border:solid;\" bgcolor=\"white\"></td><td style=\"border:solid;\" bgcolor=\"white\"></td><td style=\"border:solid;\" bgcolor=\"white\"></td></tr>\n",
       "<tr><td>3: elephant</td><td style=\"border:none;\" bgcolor=\"white\"></td><td style=\"border:none;\" bgcolor=\"white\"></td><td style=\"border:none;\" bgcolor=\"white\"></td><td style=\"border:solid;\" bgcolor=\"#E1E1E1\"><font color=\"black\">Obj_6: 0.00</font>, <font color=\"black\">Obj_7_9: 0.00</font></td><td style=\"border:solid;\" bgcolor=\"white\"></td><td style=\"border:solid;\" bgcolor=\"white\"></td><td style=\"border:solid;\" bgcolor=\"white\"></td></tr>\n",
       "<tr><td>4: in</td><td style=\"border:none;\" bgcolor=\"white\"></td><td style=\"border:none;\" bgcolor=\"white\"></td><td style=\"border:none;\" bgcolor=\"white\"></td><td style=\"border:none;\" bgcolor=\"white\"></td><td style=\"border:solid;\" bgcolor=\"white\"><font color=\"black\">PP_2: 0.00</font></td><td style=\"border:solid;\" bgcolor=\"white\"></td><td style=\"border:solid;\" bgcolor=\"white\"></td></tr>\n",
       "<tr><td>5: his</td><td style=\"border:none;\" bgcolor=\"white\"></td><td style=\"border:none;\" bgcolor=\"white\"></td><td style=\"border:none;\" bgcolor=\"white\"></td><td style=\"border:none;\" bgcolor=\"white\"></td><td style=\"border:none;\" bgcolor=\"white\"></td><td style=\"border:solid;\" bgcolor=\"white\"><font color=\"black\">PP_1_3: 0.00</font></td><td style=\"border:solid;\" bgcolor=\"white\"><font color=\"black\">PP_1: 0.00</font></td></tr>\n",
       "<tr><td>6: pyjamas</td><td style=\"border:none;\" bgcolor=\"white\"></td><td style=\"border:none;\" bgcolor=\"white\"></td><td style=\"border:none;\" bgcolor=\"white\"></td><td style=\"border:none;\" bgcolor=\"white\"></td><td style=\"border:none;\" bgcolor=\"white\"></td><td style=\"border:none;\" bgcolor=\"white\"></td><td style=\"border:solid;\" bgcolor=\"white\"><font color=\"black\">PP_1_4: 0.00</font></td></tr></table> 42 / 112</div>\n",
       "<div class=\"item\"><table><tr><td></td><td>0: He</td><td>1: shot</td><td>2: the</td><td>3: elephant</td><td>4: in</td><td>5: his</td><td>6: pyjamas</td></tr>\n",
       "<tr><td>0: He</td><td style=\"border:solid;\" bgcolor=\"white\"><font color=\"black\">Subj: 0.00</font></td><td style=\"border:solid;\" bgcolor=\"white\"></td><td style=\"border:solid;\" bgcolor=\"white\"></td><td style=\"border:solid;\" bgcolor=\"white\"></td><td style=\"border:solid;\" bgcolor=\"white\"></td><td style=\"border:solid;\" bgcolor=\"white\"></td><td style=\"border:solid;\" bgcolor=\"white\"></td></tr>\n",
       "<tr><td>1: shot</td><td style=\"border:none;\" bgcolor=\"white\"></td><td style=\"border:solid;\" bgcolor=\"white\"><font color=\"black\">Verb: 0.00</font></td><td style=\"border:solid;\" bgcolor=\"white\"></td><td style=\"border:solid;\" bgcolor=\"white\"><font color=\"black\">VP: -1.90</font></td><td style=\"border:solid;\" bgcolor=\"white\"></td><td style=\"border:solid;\" bgcolor=\"white\"></td><td style=\"border:solid;\" bgcolor=\"white\"></td></tr>\n",
       "<tr><td>2: the</td><td style=\"border:none;\" bgcolor=\"white\"></td><td style=\"border:none;\" bgcolor=\"white\"></td><td style=\"border:solid;\" bgcolor=\"#E1E1E1\"><font color=\"black\">Obj_5: 0.00</font>, <font color=\"black\">Obj_8: 0.00</font></td><td style=\"border:solid;\" bgcolor=\"white\"><font color=\"black\">Obj: -0.69</font></td><td style=\"border:solid;\" bgcolor=\"#C3C3C3\"></td><td style=\"border:solid;\" bgcolor=\"white\"></td><td style=\"border:solid;\" bgcolor=\"white\"></td></tr>\n",
       "<tr><td>3: elephant</td><td style=\"border:none;\" bgcolor=\"white\"></td><td style=\"border:none;\" bgcolor=\"white\"></td><td style=\"border:none;\" bgcolor=\"white\"></td><td style=\"border:solid;\" bgcolor=\"white\"><font color=\"black\">Obj_6: 0.00</font>, <font color=\"black\">Obj_7_9: 0.00</font></td><td style=\"border:solid;\" bgcolor=\"#E1E1E1\"></td><td style=\"border:solid;\" bgcolor=\"white\"></td><td style=\"border:solid;\" bgcolor=\"white\"></td></tr>\n",
       "<tr><td>4: in</td><td style=\"border:none;\" bgcolor=\"white\"></td><td style=\"border:none;\" bgcolor=\"white\"></td><td style=\"border:none;\" bgcolor=\"white\"></td><td style=\"border:none;\" bgcolor=\"white\"></td><td style=\"border:solid;\" bgcolor=\"white\"><font color=\"black\">PP_2: 0.00</font></td><td style=\"border:solid;\" bgcolor=\"white\"></td><td style=\"border:solid;\" bgcolor=\"white\"></td></tr>\n",
       "<tr><td>5: his</td><td style=\"border:none;\" bgcolor=\"white\"></td><td style=\"border:none;\" bgcolor=\"white\"></td><td style=\"border:none;\" bgcolor=\"white\"></td><td style=\"border:none;\" bgcolor=\"white\"></td><td style=\"border:none;\" bgcolor=\"white\"></td><td style=\"border:solid;\" bgcolor=\"white\"><font color=\"black\">PP_1_3: 0.00</font></td><td style=\"border:solid;\" bgcolor=\"white\"><font color=\"black\">PP_1: 0.00</font></td></tr>\n",
       "<tr><td>6: pyjamas</td><td style=\"border:none;\" bgcolor=\"white\"></td><td style=\"border:none;\" bgcolor=\"white\"></td><td style=\"border:none;\" bgcolor=\"white\"></td><td style=\"border:none;\" bgcolor=\"white\"></td><td style=\"border:none;\" bgcolor=\"white\"></td><td style=\"border:none;\" bgcolor=\"white\"></td><td style=\"border:solid;\" bgcolor=\"white\"><font color=\"black\">PP_1_4: 0.00</font></td></tr></table> 43 / 112</div>\n",
       "<div class=\"item\"><table><tr><td></td><td>0: He</td><td>1: shot</td><td>2: the</td><td>3: elephant</td><td>4: in</td><td>5: his</td><td>6: pyjamas</td></tr>\n",
       "<tr><td>0: He</td><td style=\"border:solid;\" bgcolor=\"white\"><font color=\"black\">Subj: 0.00</font></td><td style=\"border:solid;\" bgcolor=\"white\"></td><td style=\"border:solid;\" bgcolor=\"white\"></td><td style=\"border:solid;\" bgcolor=\"white\"></td><td style=\"border:solid;\" bgcolor=\"white\"></td><td style=\"border:solid;\" bgcolor=\"white\"></td><td style=\"border:solid;\" bgcolor=\"white\"></td></tr>\n",
       "<tr><td>1: shot</td><td style=\"border:none;\" bgcolor=\"white\"></td><td style=\"border:solid;\" bgcolor=\"white\"><font color=\"black\">Verb: 0.00</font></td><td style=\"border:solid;\" bgcolor=\"white\"></td><td style=\"border:solid;\" bgcolor=\"white\"><font color=\"black\">VP: -1.90</font></td><td style=\"border:solid;\" bgcolor=\"white\"></td><td style=\"border:solid;\" bgcolor=\"white\"></td><td style=\"border:solid;\" bgcolor=\"white\"></td></tr>\n",
       "<tr><td>2: the</td><td style=\"border:none;\" bgcolor=\"white\"></td><td style=\"border:none;\" bgcolor=\"white\"></td><td style=\"border:solid;\" bgcolor=\"white\"><font color=\"black\">Obj_5: 0.00</font>, <font color=\"black\">Obj_8: 0.00</font></td><td style=\"border:solid;\" bgcolor=\"#E1E1E1\"><font color=\"black\">Obj: -0.69</font></td><td style=\"border:solid;\" bgcolor=\"#C3C3C3\"></td><td style=\"border:solid;\" bgcolor=\"white\"></td><td style=\"border:solid;\" bgcolor=\"white\"></td></tr>\n",
       "<tr><td>3: elephant</td><td style=\"border:none;\" bgcolor=\"white\"></td><td style=\"border:none;\" bgcolor=\"white\"></td><td style=\"border:none;\" bgcolor=\"white\"></td><td style=\"border:solid;\" bgcolor=\"white\"><font color=\"black\">Obj_6: 0.00</font>, <font color=\"black\">Obj_7_9: 0.00</font></td><td style=\"border:solid;\" bgcolor=\"white\"></td><td style=\"border:solid;\" bgcolor=\"white\"></td><td style=\"border:solid;\" bgcolor=\"white\"></td></tr>\n",
       "<tr><td>4: in</td><td style=\"border:none;\" bgcolor=\"white\"></td><td style=\"border:none;\" bgcolor=\"white\"></td><td style=\"border:none;\" bgcolor=\"white\"></td><td style=\"border:none;\" bgcolor=\"white\"></td><td style=\"border:solid;\" bgcolor=\"#E1E1E1\"><font color=\"black\">PP_2: 0.00</font></td><td style=\"border:solid;\" bgcolor=\"white\"></td><td style=\"border:solid;\" bgcolor=\"white\"></td></tr>\n",
       "<tr><td>5: his</td><td style=\"border:none;\" bgcolor=\"white\"></td><td style=\"border:none;\" bgcolor=\"white\"></td><td style=\"border:none;\" bgcolor=\"white\"></td><td style=\"border:none;\" bgcolor=\"white\"></td><td style=\"border:none;\" bgcolor=\"white\"></td><td style=\"border:solid;\" bgcolor=\"white\"><font color=\"black\">PP_1_3: 0.00</font></td><td style=\"border:solid;\" bgcolor=\"white\"><font color=\"black\">PP_1: 0.00</font></td></tr>\n",
       "<tr><td>6: pyjamas</td><td style=\"border:none;\" bgcolor=\"white\"></td><td style=\"border:none;\" bgcolor=\"white\"></td><td style=\"border:none;\" bgcolor=\"white\"></td><td style=\"border:none;\" bgcolor=\"white\"></td><td style=\"border:none;\" bgcolor=\"white\"></td><td style=\"border:none;\" bgcolor=\"white\"></td><td style=\"border:solid;\" bgcolor=\"white\"><font color=\"black\">PP_1_4: 0.00</font></td></tr></table> 44 / 112</div>\n",
       "<div class=\"item\"><table><tr><td></td><td>0: He</td><td>1: shot</td><td>2: the</td><td>3: elephant</td><td>4: in</td><td>5: his</td><td>6: pyjamas</td></tr>\n",
       "<tr><td>0: He</td><td style=\"border:solid;\" bgcolor=\"white\"><font color=\"black\">Subj: 0.00</font></td><td style=\"border:solid;\" bgcolor=\"white\"></td><td style=\"border:solid;\" bgcolor=\"white\"></td><td style=\"border:solid;\" bgcolor=\"white\"></td><td style=\"border:solid;\" bgcolor=\"white\"></td><td style=\"border:solid;\" bgcolor=\"white\"></td><td style=\"border:solid;\" bgcolor=\"white\"></td></tr>\n",
       "<tr><td>1: shot</td><td style=\"border:none;\" bgcolor=\"white\"></td><td style=\"border:solid;\" bgcolor=\"white\"><font color=\"black\">Verb: 0.00</font></td><td style=\"border:solid;\" bgcolor=\"white\"></td><td style=\"border:solid;\" bgcolor=\"white\"><font color=\"black\">VP: -1.90</font></td><td style=\"border:solid;\" bgcolor=\"white\"></td><td style=\"border:solid;\" bgcolor=\"white\"></td><td style=\"border:solid;\" bgcolor=\"white\"></td></tr>\n",
       "<tr><td>2: the</td><td style=\"border:none;\" bgcolor=\"white\"></td><td style=\"border:none;\" bgcolor=\"white\"></td><td style=\"border:solid;\" bgcolor=\"white\"><font color=\"black\">Obj_5: 0.00</font>, <font color=\"black\">Obj_8: 0.00</font></td><td style=\"border:solid;\" bgcolor=\"#E1E1E1\"><font color=\"red\">Obj: -0.69</font></td><td style=\"border:solid;\" bgcolor=\"#C3C3C3\"></td><td style=\"border:solid;\" bgcolor=\"white\"></td><td style=\"border:solid;\" bgcolor=\"white\"></td></tr>\n",
       "<tr><td>3: elephant</td><td style=\"border:none;\" bgcolor=\"white\"></td><td style=\"border:none;\" bgcolor=\"white\"></td><td style=\"border:none;\" bgcolor=\"white\"></td><td style=\"border:solid;\" bgcolor=\"white\"><font color=\"black\">Obj_6: 0.00</font>, <font color=\"black\">Obj_7_9: 0.00</font></td><td style=\"border:solid;\" bgcolor=\"white\"></td><td style=\"border:solid;\" bgcolor=\"white\"></td><td style=\"border:solid;\" bgcolor=\"white\"></td></tr>\n",
       "<tr><td>4: in</td><td style=\"border:none;\" bgcolor=\"white\"></td><td style=\"border:none;\" bgcolor=\"white\"></td><td style=\"border:none;\" bgcolor=\"white\"></td><td style=\"border:none;\" bgcolor=\"white\"></td><td style=\"border:solid;\" bgcolor=\"#E1E1E1\"><font color=\"red\">PP_2: 0.00</font></td><td style=\"border:solid;\" bgcolor=\"white\"></td><td style=\"border:solid;\" bgcolor=\"white\"></td></tr>\n",
       "<tr><td>5: his</td><td style=\"border:none;\" bgcolor=\"white\"></td><td style=\"border:none;\" bgcolor=\"white\"></td><td style=\"border:none;\" bgcolor=\"white\"></td><td style=\"border:none;\" bgcolor=\"white\"></td><td style=\"border:none;\" bgcolor=\"white\"></td><td style=\"border:solid;\" bgcolor=\"white\"><font color=\"black\">PP_1_3: 0.00</font></td><td style=\"border:solid;\" bgcolor=\"white\"><font color=\"black\">PP_1: 0.00</font></td></tr>\n",
       "<tr><td>6: pyjamas</td><td style=\"border:none;\" bgcolor=\"white\"></td><td style=\"border:none;\" bgcolor=\"white\"></td><td style=\"border:none;\" bgcolor=\"white\"></td><td style=\"border:none;\" bgcolor=\"white\"></td><td style=\"border:none;\" bgcolor=\"white\"></td><td style=\"border:none;\" bgcolor=\"white\"></td><td style=\"border:solid;\" bgcolor=\"white\"><font color=\"black\">PP_1_4: 0.00</font></td></tr></table> 45 / 112</div>\n",
       "<div class=\"item\"><table><tr><td></td><td>0: He</td><td>1: shot</td><td>2: the</td><td>3: elephant</td><td>4: in</td><td>5: his</td><td>6: pyjamas</td></tr>\n",
       "<tr><td>0: He</td><td style=\"border:solid;\" bgcolor=\"white\"><font color=\"black\">Subj: 0.00</font></td><td style=\"border:solid;\" bgcolor=\"white\"></td><td style=\"border:solid;\" bgcolor=\"white\"></td><td style=\"border:solid;\" bgcolor=\"white\"></td><td style=\"border:solid;\" bgcolor=\"white\"></td><td style=\"border:solid;\" bgcolor=\"white\"></td><td style=\"border:solid;\" bgcolor=\"white\"></td></tr>\n",
       "<tr><td>1: shot</td><td style=\"border:none;\" bgcolor=\"white\"></td><td style=\"border:solid;\" bgcolor=\"white\"><font color=\"black\">Verb: 0.00</font></td><td style=\"border:solid;\" bgcolor=\"white\"></td><td style=\"border:solid;\" bgcolor=\"white\"><font color=\"black\">VP: -1.90</font></td><td style=\"border:solid;\" bgcolor=\"white\"></td><td style=\"border:solid;\" bgcolor=\"white\"></td><td style=\"border:solid;\" bgcolor=\"white\"></td></tr>\n",
       "<tr><td>2: the</td><td style=\"border:none;\" bgcolor=\"white\"></td><td style=\"border:none;\" bgcolor=\"white\"></td><td style=\"border:solid;\" bgcolor=\"white\"><font color=\"black\">Obj_5: 0.00</font>, <font color=\"black\">Obj_8: 0.00</font></td><td style=\"border:solid;\" bgcolor=\"white\"><font color=\"black\">Obj: -0.69</font></td><td style=\"border:solid;\" bgcolor=\"white\"></td><td style=\"border:solid;\" bgcolor=\"white\"></td><td style=\"border:solid;\" bgcolor=\"white\"></td></tr>\n",
       "<tr><td>3: elephant</td><td style=\"border:none;\" bgcolor=\"white\"></td><td style=\"border:none;\" bgcolor=\"white\"></td><td style=\"border:none;\" bgcolor=\"white\"></td><td style=\"border:solid;\" bgcolor=\"#E1E1E1\"><font color=\"black\">Obj_6: 0.00</font>, <font color=\"black\">Obj_7_9: 0.00</font></td><td style=\"border:solid;\" bgcolor=\"white\"></td><td style=\"border:solid;\" bgcolor=\"#C3C3C3\"></td><td style=\"border:solid;\" bgcolor=\"white\"></td></tr>\n",
       "<tr><td>4: in</td><td style=\"border:none;\" bgcolor=\"white\"></td><td style=\"border:none;\" bgcolor=\"white\"></td><td style=\"border:none;\" bgcolor=\"white\"></td><td style=\"border:none;\" bgcolor=\"white\"></td><td style=\"border:solid;\" bgcolor=\"white\"><font color=\"black\">PP_2: 0.00</font></td><td style=\"border:solid;\" bgcolor=\"#E1E1E1\"></td><td style=\"border:solid;\" bgcolor=\"white\"></td></tr>\n",
       "<tr><td>5: his</td><td style=\"border:none;\" bgcolor=\"white\"></td><td style=\"border:none;\" bgcolor=\"white\"></td><td style=\"border:none;\" bgcolor=\"white\"></td><td style=\"border:none;\" bgcolor=\"white\"></td><td style=\"border:none;\" bgcolor=\"white\"></td><td style=\"border:solid;\" bgcolor=\"white\"><font color=\"black\">PP_1_3: 0.00</font></td><td style=\"border:solid;\" bgcolor=\"white\"><font color=\"black\">PP_1: 0.00</font></td></tr>\n",
       "<tr><td>6: pyjamas</td><td style=\"border:none;\" bgcolor=\"white\"></td><td style=\"border:none;\" bgcolor=\"white\"></td><td style=\"border:none;\" bgcolor=\"white\"></td><td style=\"border:none;\" bgcolor=\"white\"></td><td style=\"border:none;\" bgcolor=\"white\"></td><td style=\"border:none;\" bgcolor=\"white\"></td><td style=\"border:solid;\" bgcolor=\"white\"><font color=\"black\">PP_1_4: 0.00</font></td></tr></table> 46 / 112</div>\n",
       "<div class=\"item\"><table><tr><td></td><td>0: He</td><td>1: shot</td><td>2: the</td><td>3: elephant</td><td>4: in</td><td>5: his</td><td>6: pyjamas</td></tr>\n",
       "<tr><td>0: He</td><td style=\"border:solid;\" bgcolor=\"white\"><font color=\"black\">Subj: 0.00</font></td><td style=\"border:solid;\" bgcolor=\"white\"></td><td style=\"border:solid;\" bgcolor=\"white\"></td><td style=\"border:solid;\" bgcolor=\"white\"></td><td style=\"border:solid;\" bgcolor=\"white\"></td><td style=\"border:solid;\" bgcolor=\"white\"></td><td style=\"border:solid;\" bgcolor=\"white\"></td></tr>\n",
       "<tr><td>1: shot</td><td style=\"border:none;\" bgcolor=\"white\"></td><td style=\"border:solid;\" bgcolor=\"white\"><font color=\"black\">Verb: 0.00</font></td><td style=\"border:solid;\" bgcolor=\"white\"></td><td style=\"border:solid;\" bgcolor=\"white\"><font color=\"black\">VP: -1.90</font></td><td style=\"border:solid;\" bgcolor=\"white\"></td><td style=\"border:solid;\" bgcolor=\"white\"></td><td style=\"border:solid;\" bgcolor=\"white\"></td></tr>\n",
       "<tr><td>2: the</td><td style=\"border:none;\" bgcolor=\"white\"></td><td style=\"border:none;\" bgcolor=\"white\"></td><td style=\"border:solid;\" bgcolor=\"white\"><font color=\"black\">Obj_5: 0.00</font>, <font color=\"black\">Obj_8: 0.00</font></td><td style=\"border:solid;\" bgcolor=\"white\"><font color=\"black\">Obj: -0.69</font></td><td style=\"border:solid;\" bgcolor=\"white\"></td><td style=\"border:solid;\" bgcolor=\"white\"></td><td style=\"border:solid;\" bgcolor=\"white\"></td></tr>\n",
       "<tr><td>3: elephant</td><td style=\"border:none;\" bgcolor=\"white\"></td><td style=\"border:none;\" bgcolor=\"white\"></td><td style=\"border:none;\" bgcolor=\"white\"></td><td style=\"border:solid;\" bgcolor=\"white\"><font color=\"black\">Obj_6: 0.00</font>, <font color=\"black\">Obj_7_9: 0.00</font></td><td style=\"border:solid;\" bgcolor=\"#E1E1E1\"></td><td style=\"border:solid;\" bgcolor=\"#C3C3C3\"></td><td style=\"border:solid;\" bgcolor=\"white\"></td></tr>\n",
       "<tr><td>4: in</td><td style=\"border:none;\" bgcolor=\"white\"></td><td style=\"border:none;\" bgcolor=\"white\"></td><td style=\"border:none;\" bgcolor=\"white\"></td><td style=\"border:none;\" bgcolor=\"white\"></td><td style=\"border:solid;\" bgcolor=\"white\"><font color=\"black\">PP_2: 0.00</font></td><td style=\"border:solid;\" bgcolor=\"white\"></td><td style=\"border:solid;\" bgcolor=\"white\"></td></tr>\n",
       "<tr><td>5: his</td><td style=\"border:none;\" bgcolor=\"white\"></td><td style=\"border:none;\" bgcolor=\"white\"></td><td style=\"border:none;\" bgcolor=\"white\"></td><td style=\"border:none;\" bgcolor=\"white\"></td><td style=\"border:none;\" bgcolor=\"white\"></td><td style=\"border:solid;\" bgcolor=\"#E1E1E1\"><font color=\"black\">PP_1_3: 0.00</font></td><td style=\"border:solid;\" bgcolor=\"white\"><font color=\"black\">PP_1: 0.00</font></td></tr>\n",
       "<tr><td>6: pyjamas</td><td style=\"border:none;\" bgcolor=\"white\"></td><td style=\"border:none;\" bgcolor=\"white\"></td><td style=\"border:none;\" bgcolor=\"white\"></td><td style=\"border:none;\" bgcolor=\"white\"></td><td style=\"border:none;\" bgcolor=\"white\"></td><td style=\"border:none;\" bgcolor=\"white\"></td><td style=\"border:solid;\" bgcolor=\"white\"><font color=\"black\">PP_1_4: 0.00</font></td></tr></table> 47 / 112</div>\n",
       "<div class=\"item\"><table><tr><td></td><td>0: He</td><td>1: shot</td><td>2: the</td><td>3: elephant</td><td>4: in</td><td>5: his</td><td>6: pyjamas</td></tr>\n",
       "<tr><td>0: He</td><td style=\"border:solid;\" bgcolor=\"white\"><font color=\"black\">Subj: 0.00</font></td><td style=\"border:solid;\" bgcolor=\"white\"></td><td style=\"border:solid;\" bgcolor=\"white\"></td><td style=\"border:solid;\" bgcolor=\"white\"></td><td style=\"border:solid;\" bgcolor=\"white\"></td><td style=\"border:solid;\" bgcolor=\"white\"></td><td style=\"border:solid;\" bgcolor=\"white\"></td></tr>\n",
       "<tr><td>1: shot</td><td style=\"border:none;\" bgcolor=\"white\"></td><td style=\"border:solid;\" bgcolor=\"white\"><font color=\"black\">Verb: 0.00</font></td><td style=\"border:solid;\" bgcolor=\"white\"></td><td style=\"border:solid;\" bgcolor=\"white\"><font color=\"black\">VP: -1.90</font></td><td style=\"border:solid;\" bgcolor=\"white\"></td><td style=\"border:solid;\" bgcolor=\"white\"></td><td style=\"border:solid;\" bgcolor=\"white\"></td></tr>\n",
       "<tr><td>2: the</td><td style=\"border:none;\" bgcolor=\"white\"></td><td style=\"border:none;\" bgcolor=\"white\"></td><td style=\"border:solid;\" bgcolor=\"white\"><font color=\"black\">Obj_5: 0.00</font>, <font color=\"black\">Obj_8: 0.00</font></td><td style=\"border:solid;\" bgcolor=\"white\"><font color=\"black\">Obj: -0.69</font></td><td style=\"border:solid;\" bgcolor=\"white\"></td><td style=\"border:solid;\" bgcolor=\"white\"></td><td style=\"border:solid;\" bgcolor=\"white\"></td></tr>\n",
       "<tr><td>3: elephant</td><td style=\"border:none;\" bgcolor=\"white\"></td><td style=\"border:none;\" bgcolor=\"white\"></td><td style=\"border:none;\" bgcolor=\"white\"></td><td style=\"border:solid;\" bgcolor=\"white\"><font color=\"black\">Obj_6: 0.00</font>, <font color=\"black\">Obj_7_9: 0.00</font></td><td style=\"border:solid;\" bgcolor=\"white\"></td><td style=\"border:solid;\" bgcolor=\"white\"></td><td style=\"border:solid;\" bgcolor=\"white\"></td></tr>\n",
       "<tr><td>4: in</td><td style=\"border:none;\" bgcolor=\"white\"></td><td style=\"border:none;\" bgcolor=\"white\"></td><td style=\"border:none;\" bgcolor=\"white\"></td><td style=\"border:none;\" bgcolor=\"white\"></td><td style=\"border:solid;\" bgcolor=\"#E1E1E1\"><font color=\"black\">PP_2: 0.00</font></td><td style=\"border:solid;\" bgcolor=\"white\"></td><td style=\"border:solid;\" bgcolor=\"#C3C3C3\"></td></tr>\n",
       "<tr><td>5: his</td><td style=\"border:none;\" bgcolor=\"white\"></td><td style=\"border:none;\" bgcolor=\"white\"></td><td style=\"border:none;\" bgcolor=\"white\"></td><td style=\"border:none;\" bgcolor=\"white\"></td><td style=\"border:none;\" bgcolor=\"white\"></td><td style=\"border:solid;\" bgcolor=\"white\"><font color=\"black\">PP_1_3: 0.00</font></td><td style=\"border:solid;\" bgcolor=\"#E1E1E1\"><font color=\"black\">PP_1: 0.00</font></td></tr>\n",
       "<tr><td>6: pyjamas</td><td style=\"border:none;\" bgcolor=\"white\"></td><td style=\"border:none;\" bgcolor=\"white\"></td><td style=\"border:none;\" bgcolor=\"white\"></td><td style=\"border:none;\" bgcolor=\"white\"></td><td style=\"border:none;\" bgcolor=\"white\"></td><td style=\"border:none;\" bgcolor=\"white\"></td><td style=\"border:solid;\" bgcolor=\"white\"><font color=\"black\">PP_1_4: 0.00</font></td></tr></table> 48 / 112</div>\n",
       "<div class=\"item\"><table><tr><td></td><td>0: He</td><td>1: shot</td><td>2: the</td><td>3: elephant</td><td>4: in</td><td>5: his</td><td>6: pyjamas</td></tr>\n",
       "<tr><td>0: He</td><td style=\"border:solid;\" bgcolor=\"white\"><font color=\"black\">Subj: 0.00</font></td><td style=\"border:solid;\" bgcolor=\"white\"></td><td style=\"border:solid;\" bgcolor=\"white\"></td><td style=\"border:solid;\" bgcolor=\"white\"></td><td style=\"border:solid;\" bgcolor=\"white\"></td><td style=\"border:solid;\" bgcolor=\"white\"></td><td style=\"border:solid;\" bgcolor=\"white\"></td></tr>\n",
       "<tr><td>1: shot</td><td style=\"border:none;\" bgcolor=\"white\"></td><td style=\"border:solid;\" bgcolor=\"white\"><font color=\"black\">Verb: 0.00</font></td><td style=\"border:solid;\" bgcolor=\"white\"></td><td style=\"border:solid;\" bgcolor=\"white\"><font color=\"black\">VP: -1.90</font></td><td style=\"border:solid;\" bgcolor=\"white\"></td><td style=\"border:solid;\" bgcolor=\"white\"></td><td style=\"border:solid;\" bgcolor=\"white\"></td></tr>\n",
       "<tr><td>2: the</td><td style=\"border:none;\" bgcolor=\"white\"></td><td style=\"border:none;\" bgcolor=\"white\"></td><td style=\"border:solid;\" bgcolor=\"white\"><font color=\"black\">Obj_5: 0.00</font>, <font color=\"black\">Obj_8: 0.00</font></td><td style=\"border:solid;\" bgcolor=\"white\"><font color=\"black\">Obj: -0.69</font></td><td style=\"border:solid;\" bgcolor=\"white\"></td><td style=\"border:solid;\" bgcolor=\"white\"></td><td style=\"border:solid;\" bgcolor=\"white\"></td></tr>\n",
       "<tr><td>3: elephant</td><td style=\"border:none;\" bgcolor=\"white\"></td><td style=\"border:none;\" bgcolor=\"white\"></td><td style=\"border:none;\" bgcolor=\"white\"></td><td style=\"border:solid;\" bgcolor=\"white\"><font color=\"black\">Obj_6: 0.00</font>, <font color=\"black\">Obj_7_9: 0.00</font></td><td style=\"border:solid;\" bgcolor=\"white\"></td><td style=\"border:solid;\" bgcolor=\"white\"></td><td style=\"border:solid;\" bgcolor=\"white\"></td></tr>\n",
       "<tr><td>4: in</td><td style=\"border:none;\" bgcolor=\"white\"></td><td style=\"border:none;\" bgcolor=\"white\"></td><td style=\"border:none;\" bgcolor=\"white\"></td><td style=\"border:none;\" bgcolor=\"white\"></td><td style=\"border:solid;\" bgcolor=\"#E1E1E1\"><font color=\"red\">PP_2: 0.00</font></td><td style=\"border:solid;\" bgcolor=\"white\"></td><td style=\"border:solid;\" bgcolor=\"#C3C3C3\"></td></tr>\n",
       "<tr><td>5: his</td><td style=\"border:none;\" bgcolor=\"white\"></td><td style=\"border:none;\" bgcolor=\"white\"></td><td style=\"border:none;\" bgcolor=\"white\"></td><td style=\"border:none;\" bgcolor=\"white\"></td><td style=\"border:none;\" bgcolor=\"white\"></td><td style=\"border:solid;\" bgcolor=\"white\"><font color=\"black\">PP_1_3: 0.00</font></td><td style=\"border:solid;\" bgcolor=\"#E1E1E1\"><font color=\"red\">PP_1: 0.00</font></td></tr>\n",
       "<tr><td>6: pyjamas</td><td style=\"border:none;\" bgcolor=\"white\"></td><td style=\"border:none;\" bgcolor=\"white\"></td><td style=\"border:none;\" bgcolor=\"white\"></td><td style=\"border:none;\" bgcolor=\"white\"></td><td style=\"border:none;\" bgcolor=\"white\"></td><td style=\"border:none;\" bgcolor=\"white\"></td><td style=\"border:solid;\" bgcolor=\"white\"><font color=\"black\">PP_1_4: 0.00</font></td></tr></table> 49 / 112</div>\n",
       "<div class=\"item\"><table><tr><td></td><td>0: He</td><td>1: shot</td><td>2: the</td><td>3: elephant</td><td>4: in</td><td>5: his</td><td>6: pyjamas</td></tr>\n",
       "<tr><td>0: He</td><td style=\"border:solid;\" bgcolor=\"white\"><font color=\"black\">Subj: 0.00</font></td><td style=\"border:solid;\" bgcolor=\"white\"></td><td style=\"border:solid;\" bgcolor=\"white\"></td><td style=\"border:solid;\" bgcolor=\"white\"></td><td style=\"border:solid;\" bgcolor=\"white\"></td><td style=\"border:solid;\" bgcolor=\"white\"></td><td style=\"border:solid;\" bgcolor=\"white\"></td></tr>\n",
       "<tr><td>1: shot</td><td style=\"border:none;\" bgcolor=\"white\"></td><td style=\"border:solid;\" bgcolor=\"white\"><font color=\"black\">Verb: 0.00</font></td><td style=\"border:solid;\" bgcolor=\"white\"></td><td style=\"border:solid;\" bgcolor=\"white\"><font color=\"black\">VP: -1.90</font></td><td style=\"border:solid;\" bgcolor=\"white\"></td><td style=\"border:solid;\" bgcolor=\"white\"></td><td style=\"border:solid;\" bgcolor=\"white\"></td></tr>\n",
       "<tr><td>2: the</td><td style=\"border:none;\" bgcolor=\"white\"></td><td style=\"border:none;\" bgcolor=\"white\"></td><td style=\"border:solid;\" bgcolor=\"white\"><font color=\"black\">Obj_5: 0.00</font>, <font color=\"black\">Obj_8: 0.00</font></td><td style=\"border:solid;\" bgcolor=\"white\"><font color=\"black\">Obj: -0.69</font></td><td style=\"border:solid;\" bgcolor=\"white\"></td><td style=\"border:solid;\" bgcolor=\"white\"></td><td style=\"border:solid;\" bgcolor=\"white\"></td></tr>\n",
       "<tr><td>3: elephant</td><td style=\"border:none;\" bgcolor=\"white\"></td><td style=\"border:none;\" bgcolor=\"white\"></td><td style=\"border:none;\" bgcolor=\"white\"></td><td style=\"border:solid;\" bgcolor=\"white\"><font color=\"black\">Obj_6: 0.00</font>, <font color=\"black\">Obj_7_9: 0.00</font></td><td style=\"border:solid;\" bgcolor=\"white\"></td><td style=\"border:solid;\" bgcolor=\"white\"></td><td style=\"border:solid;\" bgcolor=\"white\"></td></tr>\n",
       "<tr><td>4: in</td><td style=\"border:none;\" bgcolor=\"white\"></td><td style=\"border:none;\" bgcolor=\"white\"></td><td style=\"border:none;\" bgcolor=\"white\"></td><td style=\"border:none;\" bgcolor=\"white\"></td><td style=\"border:solid;\" bgcolor=\"#E1E1E1\"><font color=\"red\">PP_2: 0.00</font></td><td style=\"border:solid;\" bgcolor=\"white\"></td><td style=\"border:solid;\" bgcolor=\"#C3C3C3\"><font color=\"blue\">PP: 0.00</font></td></tr>\n",
       "<tr><td>5: his</td><td style=\"border:none;\" bgcolor=\"white\"></td><td style=\"border:none;\" bgcolor=\"white\"></td><td style=\"border:none;\" bgcolor=\"white\"></td><td style=\"border:none;\" bgcolor=\"white\"></td><td style=\"border:none;\" bgcolor=\"white\"></td><td style=\"border:solid;\" bgcolor=\"white\"><font color=\"black\">PP_1_3: 0.00</font></td><td style=\"border:solid;\" bgcolor=\"#E1E1E1\"><font color=\"red\">PP_1: 0.00</font></td></tr>\n",
       "<tr><td>6: pyjamas</td><td style=\"border:none;\" bgcolor=\"white\"></td><td style=\"border:none;\" bgcolor=\"white\"></td><td style=\"border:none;\" bgcolor=\"white\"></td><td style=\"border:none;\" bgcolor=\"white\"></td><td style=\"border:none;\" bgcolor=\"white\"></td><td style=\"border:none;\" bgcolor=\"white\"></td><td style=\"border:solid;\" bgcolor=\"white\"><font color=\"black\">PP_1_4: 0.00</font></td></tr></table> 50 / 112</div>\n",
       "<div class=\"item\"><table><tr><td></td><td>0: He</td><td>1: shot</td><td>2: the</td><td>3: elephant</td><td>4: in</td><td>5: his</td><td>6: pyjamas</td></tr>\n",
       "<tr><td>0: He</td><td style=\"border:solid;\" bgcolor=\"white\"><font color=\"black\">Subj: 0.00</font></td><td style=\"border:solid;\" bgcolor=\"white\"></td><td style=\"border:solid;\" bgcolor=\"white\"></td><td style=\"border:solid;\" bgcolor=\"white\"></td><td style=\"border:solid;\" bgcolor=\"white\"></td><td style=\"border:solid;\" bgcolor=\"white\"></td><td style=\"border:solid;\" bgcolor=\"white\"></td></tr>\n",
       "<tr><td>1: shot</td><td style=\"border:none;\" bgcolor=\"white\"></td><td style=\"border:solid;\" bgcolor=\"white\"><font color=\"black\">Verb: 0.00</font></td><td style=\"border:solid;\" bgcolor=\"white\"></td><td style=\"border:solid;\" bgcolor=\"white\"><font color=\"black\">VP: -1.90</font></td><td style=\"border:solid;\" bgcolor=\"white\"></td><td style=\"border:solid;\" bgcolor=\"white\"></td><td style=\"border:solid;\" bgcolor=\"white\"></td></tr>\n",
       "<tr><td>2: the</td><td style=\"border:none;\" bgcolor=\"white\"></td><td style=\"border:none;\" bgcolor=\"white\"></td><td style=\"border:solid;\" bgcolor=\"white\"><font color=\"black\">Obj_5: 0.00</font>, <font color=\"black\">Obj_8: 0.00</font></td><td style=\"border:solid;\" bgcolor=\"white\"><font color=\"black\">Obj: -0.69</font></td><td style=\"border:solid;\" bgcolor=\"white\"></td><td style=\"border:solid;\" bgcolor=\"white\"></td><td style=\"border:solid;\" bgcolor=\"white\"></td></tr>\n",
       "<tr><td>3: elephant</td><td style=\"border:none;\" bgcolor=\"white\"></td><td style=\"border:none;\" bgcolor=\"white\"></td><td style=\"border:none;\" bgcolor=\"white\"></td><td style=\"border:solid;\" bgcolor=\"white\"><font color=\"black\">Obj_6: 0.00</font>, <font color=\"black\">Obj_7_9: 0.00</font></td><td style=\"border:solid;\" bgcolor=\"white\"></td><td style=\"border:solid;\" bgcolor=\"white\"></td><td style=\"border:solid;\" bgcolor=\"white\"></td></tr>\n",
       "<tr><td>4: in</td><td style=\"border:none;\" bgcolor=\"white\"></td><td style=\"border:none;\" bgcolor=\"white\"></td><td style=\"border:none;\" bgcolor=\"white\"></td><td style=\"border:none;\" bgcolor=\"white\"></td><td style=\"border:solid;\" bgcolor=\"white\"><font color=\"black\">PP_2: 0.00</font></td><td style=\"border:solid;\" bgcolor=\"#E1E1E1\"></td><td style=\"border:solid;\" bgcolor=\"#C3C3C3\"><font color=\"black\">PP: 0.00</font></td></tr>\n",
       "<tr><td>5: his</td><td style=\"border:none;\" bgcolor=\"white\"></td><td style=\"border:none;\" bgcolor=\"white\"></td><td style=\"border:none;\" bgcolor=\"white\"></td><td style=\"border:none;\" bgcolor=\"white\"></td><td style=\"border:none;\" bgcolor=\"white\"></td><td style=\"border:solid;\" bgcolor=\"white\"><font color=\"black\">PP_1_3: 0.00</font></td><td style=\"border:solid;\" bgcolor=\"white\"><font color=\"black\">PP_1: 0.00</font></td></tr>\n",
       "<tr><td>6: pyjamas</td><td style=\"border:none;\" bgcolor=\"white\"></td><td style=\"border:none;\" bgcolor=\"white\"></td><td style=\"border:none;\" bgcolor=\"white\"></td><td style=\"border:none;\" bgcolor=\"white\"></td><td style=\"border:none;\" bgcolor=\"white\"></td><td style=\"border:none;\" bgcolor=\"white\"></td><td style=\"border:solid;\" bgcolor=\"#E1E1E1\"><font color=\"black\">PP_1_4: 0.00</font></td></tr></table> 51 / 112</div>\n",
       "<div class=\"item\"><table><tr><td></td><td>0: He</td><td>1: shot</td><td>2: the</td><td>3: elephant</td><td>4: in</td><td>5: his</td><td>6: pyjamas</td></tr>\n",
       "<tr><td>0: He</td><td style=\"border:solid;\" bgcolor=\"#E1E1E1\"><font color=\"black\">Subj: 0.00</font></td><td style=\"border:solid;\" bgcolor=\"white\"></td><td style=\"border:solid;\" bgcolor=\"white\"></td><td style=\"border:solid;\" bgcolor=\"#C3C3C3\"></td><td style=\"border:solid;\" bgcolor=\"white\"></td><td style=\"border:solid;\" bgcolor=\"white\"></td><td style=\"border:solid;\" bgcolor=\"white\"></td></tr>\n",
       "<tr><td>1: shot</td><td style=\"border:none;\" bgcolor=\"white\"></td><td style=\"border:solid;\" bgcolor=\"white\"><font color=\"black\">Verb: 0.00</font></td><td style=\"border:solid;\" bgcolor=\"white\"></td><td style=\"border:solid;\" bgcolor=\"#E1E1E1\"><font color=\"black\">VP: -1.90</font></td><td style=\"border:solid;\" bgcolor=\"white\"></td><td style=\"border:solid;\" bgcolor=\"white\"></td><td style=\"border:solid;\" bgcolor=\"white\"></td></tr>\n",
       "<tr><td>2: the</td><td style=\"border:none;\" bgcolor=\"white\"></td><td style=\"border:none;\" bgcolor=\"white\"></td><td style=\"border:solid;\" bgcolor=\"white\"><font color=\"black\">Obj_5: 0.00</font>, <font color=\"black\">Obj_8: 0.00</font></td><td style=\"border:solid;\" bgcolor=\"white\"><font color=\"black\">Obj: -0.69</font></td><td style=\"border:solid;\" bgcolor=\"white\"></td><td style=\"border:solid;\" bgcolor=\"white\"></td><td style=\"border:solid;\" bgcolor=\"white\"></td></tr>\n",
       "<tr><td>3: elephant</td><td style=\"border:none;\" bgcolor=\"white\"></td><td style=\"border:none;\" bgcolor=\"white\"></td><td style=\"border:none;\" bgcolor=\"white\"></td><td style=\"border:solid;\" bgcolor=\"white\"><font color=\"black\">Obj_6: 0.00</font>, <font color=\"black\">Obj_7_9: 0.00</font></td><td style=\"border:solid;\" bgcolor=\"white\"></td><td style=\"border:solid;\" bgcolor=\"white\"></td><td style=\"border:solid;\" bgcolor=\"white\"></td></tr>\n",
       "<tr><td>4: in</td><td style=\"border:none;\" bgcolor=\"white\"></td><td style=\"border:none;\" bgcolor=\"white\"></td><td style=\"border:none;\" bgcolor=\"white\"></td><td style=\"border:none;\" bgcolor=\"white\"></td><td style=\"border:solid;\" bgcolor=\"white\"><font color=\"black\">PP_2: 0.00</font></td><td style=\"border:solid;\" bgcolor=\"white\"></td><td style=\"border:solid;\" bgcolor=\"white\"><font color=\"black\">PP: 0.00</font></td></tr>\n",
       "<tr><td>5: his</td><td style=\"border:none;\" bgcolor=\"white\"></td><td style=\"border:none;\" bgcolor=\"white\"></td><td style=\"border:none;\" bgcolor=\"white\"></td><td style=\"border:none;\" bgcolor=\"white\"></td><td style=\"border:none;\" bgcolor=\"white\"></td><td style=\"border:solid;\" bgcolor=\"white\"><font color=\"black\">PP_1_3: 0.00</font></td><td style=\"border:solid;\" bgcolor=\"white\"><font color=\"black\">PP_1: 0.00</font></td></tr>\n",
       "<tr><td>6: pyjamas</td><td style=\"border:none;\" bgcolor=\"white\"></td><td style=\"border:none;\" bgcolor=\"white\"></td><td style=\"border:none;\" bgcolor=\"white\"></td><td style=\"border:none;\" bgcolor=\"white\"></td><td style=\"border:none;\" bgcolor=\"white\"></td><td style=\"border:none;\" bgcolor=\"white\"></td><td style=\"border:solid;\" bgcolor=\"white\"><font color=\"black\">PP_1_4: 0.00</font></td></tr></table> 52 / 112</div>\n",
       "<div class=\"item\"><table><tr><td></td><td>0: He</td><td>1: shot</td><td>2: the</td><td>3: elephant</td><td>4: in</td><td>5: his</td><td>6: pyjamas</td></tr>\n",
       "<tr><td>0: He</td><td style=\"border:solid;\" bgcolor=\"#E1E1E1\"><font color=\"red\">Subj: 0.00</font></td><td style=\"border:solid;\" bgcolor=\"white\"></td><td style=\"border:solid;\" bgcolor=\"white\"></td><td style=\"border:solid;\" bgcolor=\"#C3C3C3\"></td><td style=\"border:solid;\" bgcolor=\"white\"></td><td style=\"border:solid;\" bgcolor=\"white\"></td><td style=\"border:solid;\" bgcolor=\"white\"></td></tr>\n",
       "<tr><td>1: shot</td><td style=\"border:none;\" bgcolor=\"white\"></td><td style=\"border:solid;\" bgcolor=\"white\"><font color=\"black\">Verb: 0.00</font></td><td style=\"border:solid;\" bgcolor=\"white\"></td><td style=\"border:solid;\" bgcolor=\"#E1E1E1\"><font color=\"red\">VP: -1.90</font></td><td style=\"border:solid;\" bgcolor=\"white\"></td><td style=\"border:solid;\" bgcolor=\"white\"></td><td style=\"border:solid;\" bgcolor=\"white\"></td></tr>\n",
       "<tr><td>2: the</td><td style=\"border:none;\" bgcolor=\"white\"></td><td style=\"border:none;\" bgcolor=\"white\"></td><td style=\"border:solid;\" bgcolor=\"white\"><font color=\"black\">Obj_5: 0.00</font>, <font color=\"black\">Obj_8: 0.00</font></td><td style=\"border:solid;\" bgcolor=\"white\"><font color=\"black\">Obj: -0.69</font></td><td style=\"border:solid;\" bgcolor=\"white\"></td><td style=\"border:solid;\" bgcolor=\"white\"></td><td style=\"border:solid;\" bgcolor=\"white\"></td></tr>\n",
       "<tr><td>3: elephant</td><td style=\"border:none;\" bgcolor=\"white\"></td><td style=\"border:none;\" bgcolor=\"white\"></td><td style=\"border:none;\" bgcolor=\"white\"></td><td style=\"border:solid;\" bgcolor=\"white\"><font color=\"black\">Obj_6: 0.00</font>, <font color=\"black\">Obj_7_9: 0.00</font></td><td style=\"border:solid;\" bgcolor=\"white\"></td><td style=\"border:solid;\" bgcolor=\"white\"></td><td style=\"border:solid;\" bgcolor=\"white\"></td></tr>\n",
       "<tr><td>4: in</td><td style=\"border:none;\" bgcolor=\"white\"></td><td style=\"border:none;\" bgcolor=\"white\"></td><td style=\"border:none;\" bgcolor=\"white\"></td><td style=\"border:none;\" bgcolor=\"white\"></td><td style=\"border:solid;\" bgcolor=\"white\"><font color=\"black\">PP_2: 0.00</font></td><td style=\"border:solid;\" bgcolor=\"white\"></td><td style=\"border:solid;\" bgcolor=\"white\"><font color=\"black\">PP: 0.00</font></td></tr>\n",
       "<tr><td>5: his</td><td style=\"border:none;\" bgcolor=\"white\"></td><td style=\"border:none;\" bgcolor=\"white\"></td><td style=\"border:none;\" bgcolor=\"white\"></td><td style=\"border:none;\" bgcolor=\"white\"></td><td style=\"border:none;\" bgcolor=\"white\"></td><td style=\"border:solid;\" bgcolor=\"white\"><font color=\"black\">PP_1_3: 0.00</font></td><td style=\"border:solid;\" bgcolor=\"white\"><font color=\"black\">PP_1: 0.00</font></td></tr>\n",
       "<tr><td>6: pyjamas</td><td style=\"border:none;\" bgcolor=\"white\"></td><td style=\"border:none;\" bgcolor=\"white\"></td><td style=\"border:none;\" bgcolor=\"white\"></td><td style=\"border:none;\" bgcolor=\"white\"></td><td style=\"border:none;\" bgcolor=\"white\"></td><td style=\"border:none;\" bgcolor=\"white\"></td><td style=\"border:solid;\" bgcolor=\"white\"><font color=\"black\">PP_1_4: 0.00</font></td></tr></table> 53 / 112</div>\n",
       "<div class=\"item\"><table><tr><td></td><td>0: He</td><td>1: shot</td><td>2: the</td><td>3: elephant</td><td>4: in</td><td>5: his</td><td>6: pyjamas</td></tr>\n",
       "<tr><td>0: He</td><td style=\"border:solid;\" bgcolor=\"#E1E1E1\"><font color=\"red\">Subj: 0.00</font></td><td style=\"border:solid;\" bgcolor=\"white\"></td><td style=\"border:solid;\" bgcolor=\"white\"></td><td style=\"border:solid;\" bgcolor=\"#C3C3C3\"><font color=\"blue\">S: -1.90</font></td><td style=\"border:solid;\" bgcolor=\"white\"></td><td style=\"border:solid;\" bgcolor=\"white\"></td><td style=\"border:solid;\" bgcolor=\"white\"></td></tr>\n",
       "<tr><td>1: shot</td><td style=\"border:none;\" bgcolor=\"white\"></td><td style=\"border:solid;\" bgcolor=\"white\"><font color=\"black\">Verb: 0.00</font></td><td style=\"border:solid;\" bgcolor=\"white\"></td><td style=\"border:solid;\" bgcolor=\"#E1E1E1\"><font color=\"red\">VP: -1.90</font></td><td style=\"border:solid;\" bgcolor=\"white\"></td><td style=\"border:solid;\" bgcolor=\"white\"></td><td style=\"border:solid;\" bgcolor=\"white\"></td></tr>\n",
       "<tr><td>2: the</td><td style=\"border:none;\" bgcolor=\"white\"></td><td style=\"border:none;\" bgcolor=\"white\"></td><td style=\"border:solid;\" bgcolor=\"white\"><font color=\"black\">Obj_5: 0.00</font>, <font color=\"black\">Obj_8: 0.00</font></td><td style=\"border:solid;\" bgcolor=\"white\"><font color=\"black\">Obj: -0.69</font></td><td style=\"border:solid;\" bgcolor=\"white\"></td><td style=\"border:solid;\" bgcolor=\"white\"></td><td style=\"border:solid;\" bgcolor=\"white\"></td></tr>\n",
       "<tr><td>3: elephant</td><td style=\"border:none;\" bgcolor=\"white\"></td><td style=\"border:none;\" bgcolor=\"white\"></td><td style=\"border:none;\" bgcolor=\"white\"></td><td style=\"border:solid;\" bgcolor=\"white\"><font color=\"black\">Obj_6: 0.00</font>, <font color=\"black\">Obj_7_9: 0.00</font></td><td style=\"border:solid;\" bgcolor=\"white\"></td><td style=\"border:solid;\" bgcolor=\"white\"></td><td style=\"border:solid;\" bgcolor=\"white\"></td></tr>\n",
       "<tr><td>4: in</td><td style=\"border:none;\" bgcolor=\"white\"></td><td style=\"border:none;\" bgcolor=\"white\"></td><td style=\"border:none;\" bgcolor=\"white\"></td><td style=\"border:none;\" bgcolor=\"white\"></td><td style=\"border:solid;\" bgcolor=\"white\"><font color=\"black\">PP_2: 0.00</font></td><td style=\"border:solid;\" bgcolor=\"white\"></td><td style=\"border:solid;\" bgcolor=\"white\"><font color=\"black\">PP: 0.00</font></td></tr>\n",
       "<tr><td>5: his</td><td style=\"border:none;\" bgcolor=\"white\"></td><td style=\"border:none;\" bgcolor=\"white\"></td><td style=\"border:none;\" bgcolor=\"white\"></td><td style=\"border:none;\" bgcolor=\"white\"></td><td style=\"border:none;\" bgcolor=\"white\"></td><td style=\"border:solid;\" bgcolor=\"white\"><font color=\"black\">PP_1_3: 0.00</font></td><td style=\"border:solid;\" bgcolor=\"white\"><font color=\"black\">PP_1: 0.00</font></td></tr>\n",
       "<tr><td>6: pyjamas</td><td style=\"border:none;\" bgcolor=\"white\"></td><td style=\"border:none;\" bgcolor=\"white\"></td><td style=\"border:none;\" bgcolor=\"white\"></td><td style=\"border:none;\" bgcolor=\"white\"></td><td style=\"border:none;\" bgcolor=\"white\"></td><td style=\"border:none;\" bgcolor=\"white\"></td><td style=\"border:solid;\" bgcolor=\"white\"><font color=\"black\">PP_1_4: 0.00</font></td></tr></table> 54 / 112</div>\n",
       "<div class=\"item\"><table><tr><td></td><td>0: He</td><td>1: shot</td><td>2: the</td><td>3: elephant</td><td>4: in</td><td>5: his</td><td>6: pyjamas</td></tr>\n",
       "<tr><td>0: He</td><td style=\"border:solid;\" bgcolor=\"white\"><font color=\"black\">Subj: 0.00</font></td><td style=\"border:solid;\" bgcolor=\"#E1E1E1\"></td><td style=\"border:solid;\" bgcolor=\"white\"></td><td style=\"border:solid;\" bgcolor=\"#C3C3C3\"><font color=\"black\">S: -1.90</font></td><td style=\"border:solid;\" bgcolor=\"white\"></td><td style=\"border:solid;\" bgcolor=\"white\"></td><td style=\"border:solid;\" bgcolor=\"white\"></td></tr>\n",
       "<tr><td>1: shot</td><td style=\"border:none;\" bgcolor=\"white\"></td><td style=\"border:solid;\" bgcolor=\"white\"><font color=\"black\">Verb: 0.00</font></td><td style=\"border:solid;\" bgcolor=\"white\"></td><td style=\"border:solid;\" bgcolor=\"white\"><font color=\"black\">VP: -1.90</font></td><td style=\"border:solid;\" bgcolor=\"white\"></td><td style=\"border:solid;\" bgcolor=\"white\"></td><td style=\"border:solid;\" bgcolor=\"white\"></td></tr>\n",
       "<tr><td>2: the</td><td style=\"border:none;\" bgcolor=\"white\"></td><td style=\"border:none;\" bgcolor=\"white\"></td><td style=\"border:solid;\" bgcolor=\"white\"><font color=\"black\">Obj_5: 0.00</font>, <font color=\"black\">Obj_8: 0.00</font></td><td style=\"border:solid;\" bgcolor=\"#E1E1E1\"><font color=\"black\">Obj: -0.69</font></td><td style=\"border:solid;\" bgcolor=\"white\"></td><td style=\"border:solid;\" bgcolor=\"white\"></td><td style=\"border:solid;\" bgcolor=\"white\"></td></tr>\n",
       "<tr><td>3: elephant</td><td style=\"border:none;\" bgcolor=\"white\"></td><td style=\"border:none;\" bgcolor=\"white\"></td><td style=\"border:none;\" bgcolor=\"white\"></td><td style=\"border:solid;\" bgcolor=\"white\"><font color=\"black\">Obj_6: 0.00</font>, <font color=\"black\">Obj_7_9: 0.00</font></td><td style=\"border:solid;\" bgcolor=\"white\"></td><td style=\"border:solid;\" bgcolor=\"white\"></td><td style=\"border:solid;\" bgcolor=\"white\"></td></tr>\n",
       "<tr><td>4: in</td><td style=\"border:none;\" bgcolor=\"white\"></td><td style=\"border:none;\" bgcolor=\"white\"></td><td style=\"border:none;\" bgcolor=\"white\"></td><td style=\"border:none;\" bgcolor=\"white\"></td><td style=\"border:solid;\" bgcolor=\"white\"><font color=\"black\">PP_2: 0.00</font></td><td style=\"border:solid;\" bgcolor=\"white\"></td><td style=\"border:solid;\" bgcolor=\"white\"><font color=\"black\">PP: 0.00</font></td></tr>\n",
       "<tr><td>5: his</td><td style=\"border:none;\" bgcolor=\"white\"></td><td style=\"border:none;\" bgcolor=\"white\"></td><td style=\"border:none;\" bgcolor=\"white\"></td><td style=\"border:none;\" bgcolor=\"white\"></td><td style=\"border:none;\" bgcolor=\"white\"></td><td style=\"border:solid;\" bgcolor=\"white\"><font color=\"black\">PP_1_3: 0.00</font></td><td style=\"border:solid;\" bgcolor=\"white\"><font color=\"black\">PP_1: 0.00</font></td></tr>\n",
       "<tr><td>6: pyjamas</td><td style=\"border:none;\" bgcolor=\"white\"></td><td style=\"border:none;\" bgcolor=\"white\"></td><td style=\"border:none;\" bgcolor=\"white\"></td><td style=\"border:none;\" bgcolor=\"white\"></td><td style=\"border:none;\" bgcolor=\"white\"></td><td style=\"border:none;\" bgcolor=\"white\"></td><td style=\"border:solid;\" bgcolor=\"white\"><font color=\"black\">PP_1_4: 0.00</font></td></tr></table> 55 / 112</div>\n",
       "<div class=\"item\"><table><tr><td></td><td>0: He</td><td>1: shot</td><td>2: the</td><td>3: elephant</td><td>4: in</td><td>5: his</td><td>6: pyjamas</td></tr>\n",
       "<tr><td>0: He</td><td style=\"border:solid;\" bgcolor=\"white\"><font color=\"black\">Subj: 0.00</font></td><td style=\"border:solid;\" bgcolor=\"white\"></td><td style=\"border:solid;\" bgcolor=\"#E1E1E1\"></td><td style=\"border:solid;\" bgcolor=\"#C3C3C3\"><font color=\"black\">S: -1.90</font></td><td style=\"border:solid;\" bgcolor=\"white\"></td><td style=\"border:solid;\" bgcolor=\"white\"></td><td style=\"border:solid;\" bgcolor=\"white\"></td></tr>\n",
       "<tr><td>1: shot</td><td style=\"border:none;\" bgcolor=\"white\"></td><td style=\"border:solid;\" bgcolor=\"white\"><font color=\"black\">Verb: 0.00</font></td><td style=\"border:solid;\" bgcolor=\"white\"></td><td style=\"border:solid;\" bgcolor=\"white\"><font color=\"black\">VP: -1.90</font></td><td style=\"border:solid;\" bgcolor=\"white\"></td><td style=\"border:solid;\" bgcolor=\"white\"></td><td style=\"border:solid;\" bgcolor=\"white\"></td></tr>\n",
       "<tr><td>2: the</td><td style=\"border:none;\" bgcolor=\"white\"></td><td style=\"border:none;\" bgcolor=\"white\"></td><td style=\"border:solid;\" bgcolor=\"white\"><font color=\"black\">Obj_5: 0.00</font>, <font color=\"black\">Obj_8: 0.00</font></td><td style=\"border:solid;\" bgcolor=\"white\"><font color=\"black\">Obj: -0.69</font></td><td style=\"border:solid;\" bgcolor=\"white\"></td><td style=\"border:solid;\" bgcolor=\"white\"></td><td style=\"border:solid;\" bgcolor=\"white\"></td></tr>\n",
       "<tr><td>3: elephant</td><td style=\"border:none;\" bgcolor=\"white\"></td><td style=\"border:none;\" bgcolor=\"white\"></td><td style=\"border:none;\" bgcolor=\"white\"></td><td style=\"border:solid;\" bgcolor=\"#E1E1E1\"><font color=\"black\">Obj_6: 0.00</font>, <font color=\"black\">Obj_7_9: 0.00</font></td><td style=\"border:solid;\" bgcolor=\"white\"></td><td style=\"border:solid;\" bgcolor=\"white\"></td><td style=\"border:solid;\" bgcolor=\"white\"></td></tr>\n",
       "<tr><td>4: in</td><td style=\"border:none;\" bgcolor=\"white\"></td><td style=\"border:none;\" bgcolor=\"white\"></td><td style=\"border:none;\" bgcolor=\"white\"></td><td style=\"border:none;\" bgcolor=\"white\"></td><td style=\"border:solid;\" bgcolor=\"white\"><font color=\"black\">PP_2: 0.00</font></td><td style=\"border:solid;\" bgcolor=\"white\"></td><td style=\"border:solid;\" bgcolor=\"white\"><font color=\"black\">PP: 0.00</font></td></tr>\n",
       "<tr><td>5: his</td><td style=\"border:none;\" bgcolor=\"white\"></td><td style=\"border:none;\" bgcolor=\"white\"></td><td style=\"border:none;\" bgcolor=\"white\"></td><td style=\"border:none;\" bgcolor=\"white\"></td><td style=\"border:none;\" bgcolor=\"white\"></td><td style=\"border:solid;\" bgcolor=\"white\"><font color=\"black\">PP_1_3: 0.00</font></td><td style=\"border:solid;\" bgcolor=\"white\"><font color=\"black\">PP_1: 0.00</font></td></tr>\n",
       "<tr><td>6: pyjamas</td><td style=\"border:none;\" bgcolor=\"white\"></td><td style=\"border:none;\" bgcolor=\"white\"></td><td style=\"border:none;\" bgcolor=\"white\"></td><td style=\"border:none;\" bgcolor=\"white\"></td><td style=\"border:none;\" bgcolor=\"white\"></td><td style=\"border:none;\" bgcolor=\"white\"></td><td style=\"border:solid;\" bgcolor=\"white\"><font color=\"black\">PP_1_4: 0.00</font></td></tr></table> 56 / 112</div>\n",
       "<div class=\"item\"><table><tr><td></td><td>0: He</td><td>1: shot</td><td>2: the</td><td>3: elephant</td><td>4: in</td><td>5: his</td><td>6: pyjamas</td></tr>\n",
       "<tr><td>0: He</td><td style=\"border:solid;\" bgcolor=\"white\"><font color=\"black\">Subj: 0.00</font></td><td style=\"border:solid;\" bgcolor=\"white\"></td><td style=\"border:solid;\" bgcolor=\"white\"></td><td style=\"border:solid;\" bgcolor=\"white\"><font color=\"black\">S: -1.90</font></td><td style=\"border:solid;\" bgcolor=\"white\"></td><td style=\"border:solid;\" bgcolor=\"white\"></td><td style=\"border:solid;\" bgcolor=\"white\"></td></tr>\n",
       "<tr><td>1: shot</td><td style=\"border:none;\" bgcolor=\"white\"></td><td style=\"border:solid;\" bgcolor=\"#E1E1E1\"><font color=\"black\">Verb: 0.00</font></td><td style=\"border:solid;\" bgcolor=\"white\"></td><td style=\"border:solid;\" bgcolor=\"white\"><font color=\"black\">VP: -1.90</font></td><td style=\"border:solid;\" bgcolor=\"#C3C3C3\"></td><td style=\"border:solid;\" bgcolor=\"white\"></td><td style=\"border:solid;\" bgcolor=\"white\"></td></tr>\n",
       "<tr><td>2: the</td><td style=\"border:none;\" bgcolor=\"white\"></td><td style=\"border:none;\" bgcolor=\"white\"></td><td style=\"border:solid;\" bgcolor=\"white\"><font color=\"black\">Obj_5: 0.00</font>, <font color=\"black\">Obj_8: 0.00</font></td><td style=\"border:solid;\" bgcolor=\"white\"><font color=\"black\">Obj: -0.69</font></td><td style=\"border:solid;\" bgcolor=\"#E1E1E1\"></td><td style=\"border:solid;\" bgcolor=\"white\"></td><td style=\"border:solid;\" bgcolor=\"white\"></td></tr>\n",
       "<tr><td>3: elephant</td><td style=\"border:none;\" bgcolor=\"white\"></td><td style=\"border:none;\" bgcolor=\"white\"></td><td style=\"border:none;\" bgcolor=\"white\"></td><td style=\"border:solid;\" bgcolor=\"white\"><font color=\"black\">Obj_6: 0.00</font>, <font color=\"black\">Obj_7_9: 0.00</font></td><td style=\"border:solid;\" bgcolor=\"white\"></td><td style=\"border:solid;\" bgcolor=\"white\"></td><td style=\"border:solid;\" bgcolor=\"white\"></td></tr>\n",
       "<tr><td>4: in</td><td style=\"border:none;\" bgcolor=\"white\"></td><td style=\"border:none;\" bgcolor=\"white\"></td><td style=\"border:none;\" bgcolor=\"white\"></td><td style=\"border:none;\" bgcolor=\"white\"></td><td style=\"border:solid;\" bgcolor=\"white\"><font color=\"black\">PP_2: 0.00</font></td><td style=\"border:solid;\" bgcolor=\"white\"></td><td style=\"border:solid;\" bgcolor=\"white\"><font color=\"black\">PP: 0.00</font></td></tr>\n",
       "<tr><td>5: his</td><td style=\"border:none;\" bgcolor=\"white\"></td><td style=\"border:none;\" bgcolor=\"white\"></td><td style=\"border:none;\" bgcolor=\"white\"></td><td style=\"border:none;\" bgcolor=\"white\"></td><td style=\"border:none;\" bgcolor=\"white\"></td><td style=\"border:solid;\" bgcolor=\"white\"><font color=\"black\">PP_1_3: 0.00</font></td><td style=\"border:solid;\" bgcolor=\"white\"><font color=\"black\">PP_1: 0.00</font></td></tr>\n",
       "<tr><td>6: pyjamas</td><td style=\"border:none;\" bgcolor=\"white\"></td><td style=\"border:none;\" bgcolor=\"white\"></td><td style=\"border:none;\" bgcolor=\"white\"></td><td style=\"border:none;\" bgcolor=\"white\"></td><td style=\"border:none;\" bgcolor=\"white\"></td><td style=\"border:none;\" bgcolor=\"white\"></td><td style=\"border:solid;\" bgcolor=\"white\"><font color=\"black\">PP_1_4: 0.00</font></td></tr></table> 57 / 112</div>\n",
       "<div class=\"item\"><table><tr><td></td><td>0: He</td><td>1: shot</td><td>2: the</td><td>3: elephant</td><td>4: in</td><td>5: his</td><td>6: pyjamas</td></tr>\n",
       "<tr><td>0: He</td><td style=\"border:solid;\" bgcolor=\"white\"><font color=\"black\">Subj: 0.00</font></td><td style=\"border:solid;\" bgcolor=\"white\"></td><td style=\"border:solid;\" bgcolor=\"white\"></td><td style=\"border:solid;\" bgcolor=\"white\"><font color=\"black\">S: -1.90</font></td><td style=\"border:solid;\" bgcolor=\"white\"></td><td style=\"border:solid;\" bgcolor=\"white\"></td><td style=\"border:solid;\" bgcolor=\"white\"></td></tr>\n",
       "<tr><td>1: shot</td><td style=\"border:none;\" bgcolor=\"white\"></td><td style=\"border:solid;\" bgcolor=\"white\"><font color=\"black\">Verb: 0.00</font></td><td style=\"border:solid;\" bgcolor=\"#E1E1E1\"></td><td style=\"border:solid;\" bgcolor=\"white\"><font color=\"black\">VP: -1.90</font></td><td style=\"border:solid;\" bgcolor=\"#C3C3C3\"></td><td style=\"border:solid;\" bgcolor=\"white\"></td><td style=\"border:solid;\" bgcolor=\"white\"></td></tr>\n",
       "<tr><td>2: the</td><td style=\"border:none;\" bgcolor=\"white\"></td><td style=\"border:none;\" bgcolor=\"white\"></td><td style=\"border:solid;\" bgcolor=\"white\"><font color=\"black\">Obj_5: 0.00</font>, <font color=\"black\">Obj_8: 0.00</font></td><td style=\"border:solid;\" bgcolor=\"white\"><font color=\"black\">Obj: -0.69</font></td><td style=\"border:solid;\" bgcolor=\"white\"></td><td style=\"border:solid;\" bgcolor=\"white\"></td><td style=\"border:solid;\" bgcolor=\"white\"></td></tr>\n",
       "<tr><td>3: elephant</td><td style=\"border:none;\" bgcolor=\"white\"></td><td style=\"border:none;\" bgcolor=\"white\"></td><td style=\"border:none;\" bgcolor=\"white\"></td><td style=\"border:solid;\" bgcolor=\"white\"><font color=\"black\">Obj_6: 0.00</font>, <font color=\"black\">Obj_7_9: 0.00</font></td><td style=\"border:solid;\" bgcolor=\"#E1E1E1\"></td><td style=\"border:solid;\" bgcolor=\"white\"></td><td style=\"border:solid;\" bgcolor=\"white\"></td></tr>\n",
       "<tr><td>4: in</td><td style=\"border:none;\" bgcolor=\"white\"></td><td style=\"border:none;\" bgcolor=\"white\"></td><td style=\"border:none;\" bgcolor=\"white\"></td><td style=\"border:none;\" bgcolor=\"white\"></td><td style=\"border:solid;\" bgcolor=\"white\"><font color=\"black\">PP_2: 0.00</font></td><td style=\"border:solid;\" bgcolor=\"white\"></td><td style=\"border:solid;\" bgcolor=\"white\"><font color=\"black\">PP: 0.00</font></td></tr>\n",
       "<tr><td>5: his</td><td style=\"border:none;\" bgcolor=\"white\"></td><td style=\"border:none;\" bgcolor=\"white\"></td><td style=\"border:none;\" bgcolor=\"white\"></td><td style=\"border:none;\" bgcolor=\"white\"></td><td style=\"border:none;\" bgcolor=\"white\"></td><td style=\"border:solid;\" bgcolor=\"white\"><font color=\"black\">PP_1_3: 0.00</font></td><td style=\"border:solid;\" bgcolor=\"white\"><font color=\"black\">PP_1: 0.00</font></td></tr>\n",
       "<tr><td>6: pyjamas</td><td style=\"border:none;\" bgcolor=\"white\"></td><td style=\"border:none;\" bgcolor=\"white\"></td><td style=\"border:none;\" bgcolor=\"white\"></td><td style=\"border:none;\" bgcolor=\"white\"></td><td style=\"border:none;\" bgcolor=\"white\"></td><td style=\"border:none;\" bgcolor=\"white\"></td><td style=\"border:solid;\" bgcolor=\"white\"><font color=\"black\">PP_1_4: 0.00</font></td></tr></table> 58 / 112</div>\n",
       "<div class=\"item\"><table><tr><td></td><td>0: He</td><td>1: shot</td><td>2: the</td><td>3: elephant</td><td>4: in</td><td>5: his</td><td>6: pyjamas</td></tr>\n",
       "<tr><td>0: He</td><td style=\"border:solid;\" bgcolor=\"white\"><font color=\"black\">Subj: 0.00</font></td><td style=\"border:solid;\" bgcolor=\"white\"></td><td style=\"border:solid;\" bgcolor=\"white\"></td><td style=\"border:solid;\" bgcolor=\"white\"><font color=\"black\">S: -1.90</font></td><td style=\"border:solid;\" bgcolor=\"white\"></td><td style=\"border:solid;\" bgcolor=\"white\"></td><td style=\"border:solid;\" bgcolor=\"white\"></td></tr>\n",
       "<tr><td>1: shot</td><td style=\"border:none;\" bgcolor=\"white\"></td><td style=\"border:solid;\" bgcolor=\"white\"><font color=\"black\">Verb: 0.00</font></td><td style=\"border:solid;\" bgcolor=\"white\"></td><td style=\"border:solid;\" bgcolor=\"#E1E1E1\"><font color=\"black\">VP: -1.90</font></td><td style=\"border:solid;\" bgcolor=\"#C3C3C3\"></td><td style=\"border:solid;\" bgcolor=\"white\"></td><td style=\"border:solid;\" bgcolor=\"white\"></td></tr>\n",
       "<tr><td>2: the</td><td style=\"border:none;\" bgcolor=\"white\"></td><td style=\"border:none;\" bgcolor=\"white\"></td><td style=\"border:solid;\" bgcolor=\"white\"><font color=\"black\">Obj_5: 0.00</font>, <font color=\"black\">Obj_8: 0.00</font></td><td style=\"border:solid;\" bgcolor=\"white\"><font color=\"black\">Obj: -0.69</font></td><td style=\"border:solid;\" bgcolor=\"white\"></td><td style=\"border:solid;\" bgcolor=\"white\"></td><td style=\"border:solid;\" bgcolor=\"white\"></td></tr>\n",
       "<tr><td>3: elephant</td><td style=\"border:none;\" bgcolor=\"white\"></td><td style=\"border:none;\" bgcolor=\"white\"></td><td style=\"border:none;\" bgcolor=\"white\"></td><td style=\"border:solid;\" bgcolor=\"white\"><font color=\"black\">Obj_6: 0.00</font>, <font color=\"black\">Obj_7_9: 0.00</font></td><td style=\"border:solid;\" bgcolor=\"white\"></td><td style=\"border:solid;\" bgcolor=\"white\"></td><td style=\"border:solid;\" bgcolor=\"white\"></td></tr>\n",
       "<tr><td>4: in</td><td style=\"border:none;\" bgcolor=\"white\"></td><td style=\"border:none;\" bgcolor=\"white\"></td><td style=\"border:none;\" bgcolor=\"white\"></td><td style=\"border:none;\" bgcolor=\"white\"></td><td style=\"border:solid;\" bgcolor=\"#E1E1E1\"><font color=\"black\">PP_2: 0.00</font></td><td style=\"border:solid;\" bgcolor=\"white\"></td><td style=\"border:solid;\" bgcolor=\"white\"><font color=\"black\">PP: 0.00</font></td></tr>\n",
       "<tr><td>5: his</td><td style=\"border:none;\" bgcolor=\"white\"></td><td style=\"border:none;\" bgcolor=\"white\"></td><td style=\"border:none;\" bgcolor=\"white\"></td><td style=\"border:none;\" bgcolor=\"white\"></td><td style=\"border:none;\" bgcolor=\"white\"></td><td style=\"border:solid;\" bgcolor=\"white\"><font color=\"black\">PP_1_3: 0.00</font></td><td style=\"border:solid;\" bgcolor=\"white\"><font color=\"black\">PP_1: 0.00</font></td></tr>\n",
       "<tr><td>6: pyjamas</td><td style=\"border:none;\" bgcolor=\"white\"></td><td style=\"border:none;\" bgcolor=\"white\"></td><td style=\"border:none;\" bgcolor=\"white\"></td><td style=\"border:none;\" bgcolor=\"white\"></td><td style=\"border:none;\" bgcolor=\"white\"></td><td style=\"border:none;\" bgcolor=\"white\"></td><td style=\"border:solid;\" bgcolor=\"white\"><font color=\"black\">PP_1_4: 0.00</font></td></tr></table> 59 / 112</div>\n",
       "<div class=\"item\"><table><tr><td></td><td>0: He</td><td>1: shot</td><td>2: the</td><td>3: elephant</td><td>4: in</td><td>5: his</td><td>6: pyjamas</td></tr>\n",
       "<tr><td>0: He</td><td style=\"border:solid;\" bgcolor=\"white\"><font color=\"black\">Subj: 0.00</font></td><td style=\"border:solid;\" bgcolor=\"white\"></td><td style=\"border:solid;\" bgcolor=\"white\"></td><td style=\"border:solid;\" bgcolor=\"white\"><font color=\"black\">S: -1.90</font></td><td style=\"border:solid;\" bgcolor=\"white\"></td><td style=\"border:solid;\" bgcolor=\"white\"></td><td style=\"border:solid;\" bgcolor=\"white\"></td></tr>\n",
       "<tr><td>1: shot</td><td style=\"border:none;\" bgcolor=\"white\"></td><td style=\"border:solid;\" bgcolor=\"white\"><font color=\"black\">Verb: 0.00</font></td><td style=\"border:solid;\" bgcolor=\"white\"></td><td style=\"border:solid;\" bgcolor=\"#E1E1E1\"><font color=\"red\">VP: -1.90</font></td><td style=\"border:solid;\" bgcolor=\"#C3C3C3\"></td><td style=\"border:solid;\" bgcolor=\"white\"></td><td style=\"border:solid;\" bgcolor=\"white\"></td></tr>\n",
       "<tr><td>2: the</td><td style=\"border:none;\" bgcolor=\"white\"></td><td style=\"border:none;\" bgcolor=\"white\"></td><td style=\"border:solid;\" bgcolor=\"white\"><font color=\"black\">Obj_5: 0.00</font>, <font color=\"black\">Obj_8: 0.00</font></td><td style=\"border:solid;\" bgcolor=\"white\"><font color=\"black\">Obj: -0.69</font></td><td style=\"border:solid;\" bgcolor=\"white\"></td><td style=\"border:solid;\" bgcolor=\"white\"></td><td style=\"border:solid;\" bgcolor=\"white\"></td></tr>\n",
       "<tr><td>3: elephant</td><td style=\"border:none;\" bgcolor=\"white\"></td><td style=\"border:none;\" bgcolor=\"white\"></td><td style=\"border:none;\" bgcolor=\"white\"></td><td style=\"border:solid;\" bgcolor=\"white\"><font color=\"black\">Obj_6: 0.00</font>, <font color=\"black\">Obj_7_9: 0.00</font></td><td style=\"border:solid;\" bgcolor=\"white\"></td><td style=\"border:solid;\" bgcolor=\"white\"></td><td style=\"border:solid;\" bgcolor=\"white\"></td></tr>\n",
       "<tr><td>4: in</td><td style=\"border:none;\" bgcolor=\"white\"></td><td style=\"border:none;\" bgcolor=\"white\"></td><td style=\"border:none;\" bgcolor=\"white\"></td><td style=\"border:none;\" bgcolor=\"white\"></td><td style=\"border:solid;\" bgcolor=\"#E1E1E1\"><font color=\"red\">PP_2: 0.00</font></td><td style=\"border:solid;\" bgcolor=\"white\"></td><td style=\"border:solid;\" bgcolor=\"white\"><font color=\"black\">PP: 0.00</font></td></tr>\n",
       "<tr><td>5: his</td><td style=\"border:none;\" bgcolor=\"white\"></td><td style=\"border:none;\" bgcolor=\"white\"></td><td style=\"border:none;\" bgcolor=\"white\"></td><td style=\"border:none;\" bgcolor=\"white\"></td><td style=\"border:none;\" bgcolor=\"white\"></td><td style=\"border:solid;\" bgcolor=\"white\"><font color=\"black\">PP_1_3: 0.00</font></td><td style=\"border:solid;\" bgcolor=\"white\"><font color=\"black\">PP_1: 0.00</font></td></tr>\n",
       "<tr><td>6: pyjamas</td><td style=\"border:none;\" bgcolor=\"white\"></td><td style=\"border:none;\" bgcolor=\"white\"></td><td style=\"border:none;\" bgcolor=\"white\"></td><td style=\"border:none;\" bgcolor=\"white\"></td><td style=\"border:none;\" bgcolor=\"white\"></td><td style=\"border:none;\" bgcolor=\"white\"></td><td style=\"border:solid;\" bgcolor=\"white\"><font color=\"black\">PP_1_4: 0.00</font></td></tr></table> 60 / 112</div>\n",
       "<div class=\"item\"><table><tr><td></td><td>0: He</td><td>1: shot</td><td>2: the</td><td>3: elephant</td><td>4: in</td><td>5: his</td><td>6: pyjamas</td></tr>\n",
       "<tr><td>0: He</td><td style=\"border:solid;\" bgcolor=\"white\"><font color=\"black\">Subj: 0.00</font></td><td style=\"border:solid;\" bgcolor=\"white\"></td><td style=\"border:solid;\" bgcolor=\"white\"></td><td style=\"border:solid;\" bgcolor=\"white\"><font color=\"black\">S: -1.90</font></td><td style=\"border:solid;\" bgcolor=\"white\"></td><td style=\"border:solid;\" bgcolor=\"white\"></td><td style=\"border:solid;\" bgcolor=\"white\"></td></tr>\n",
       "<tr><td>1: shot</td><td style=\"border:none;\" bgcolor=\"white\"></td><td style=\"border:solid;\" bgcolor=\"white\"><font color=\"black\">Verb: 0.00</font></td><td style=\"border:solid;\" bgcolor=\"white\"></td><td style=\"border:solid;\" bgcolor=\"white\"><font color=\"black\">VP: -1.90</font></td><td style=\"border:solid;\" bgcolor=\"white\"></td><td style=\"border:solid;\" bgcolor=\"white\"></td><td style=\"border:solid;\" bgcolor=\"white\"></td></tr>\n",
       "<tr><td>2: the</td><td style=\"border:none;\" bgcolor=\"white\"></td><td style=\"border:none;\" bgcolor=\"white\"></td><td style=\"border:solid;\" bgcolor=\"#E1E1E1\"><font color=\"black\">Obj_5: 0.00</font>, <font color=\"black\">Obj_8: 0.00</font></td><td style=\"border:solid;\" bgcolor=\"white\"><font color=\"black\">Obj: -0.69</font></td><td style=\"border:solid;\" bgcolor=\"white\"></td><td style=\"border:solid;\" bgcolor=\"#C3C3C3\"></td><td style=\"border:solid;\" bgcolor=\"white\"></td></tr>\n",
       "<tr><td>3: elephant</td><td style=\"border:none;\" bgcolor=\"white\"></td><td style=\"border:none;\" bgcolor=\"white\"></td><td style=\"border:none;\" bgcolor=\"white\"></td><td style=\"border:solid;\" bgcolor=\"white\"><font color=\"black\">Obj_6: 0.00</font>, <font color=\"black\">Obj_7_9: 0.00</font></td><td style=\"border:solid;\" bgcolor=\"white\"></td><td style=\"border:solid;\" bgcolor=\"#E1E1E1\"></td><td style=\"border:solid;\" bgcolor=\"white\"></td></tr>\n",
       "<tr><td>4: in</td><td style=\"border:none;\" bgcolor=\"white\"></td><td style=\"border:none;\" bgcolor=\"white\"></td><td style=\"border:none;\" bgcolor=\"white\"></td><td style=\"border:none;\" bgcolor=\"white\"></td><td style=\"border:solid;\" bgcolor=\"white\"><font color=\"black\">PP_2: 0.00</font></td><td style=\"border:solid;\" bgcolor=\"white\"></td><td style=\"border:solid;\" bgcolor=\"white\"><font color=\"black\">PP: 0.00</font></td></tr>\n",
       "<tr><td>5: his</td><td style=\"border:none;\" bgcolor=\"white\"></td><td style=\"border:none;\" bgcolor=\"white\"></td><td style=\"border:none;\" bgcolor=\"white\"></td><td style=\"border:none;\" bgcolor=\"white\"></td><td style=\"border:none;\" bgcolor=\"white\"></td><td style=\"border:solid;\" bgcolor=\"white\"><font color=\"black\">PP_1_3: 0.00</font></td><td style=\"border:solid;\" bgcolor=\"white\"><font color=\"black\">PP_1: 0.00</font></td></tr>\n",
       "<tr><td>6: pyjamas</td><td style=\"border:none;\" bgcolor=\"white\"></td><td style=\"border:none;\" bgcolor=\"white\"></td><td style=\"border:none;\" bgcolor=\"white\"></td><td style=\"border:none;\" bgcolor=\"white\"></td><td style=\"border:none;\" bgcolor=\"white\"></td><td style=\"border:none;\" bgcolor=\"white\"></td><td style=\"border:solid;\" bgcolor=\"white\"><font color=\"black\">PP_1_4: 0.00</font></td></tr></table> 61 / 112</div>\n",
       "<div class=\"item\"><table><tr><td></td><td>0: He</td><td>1: shot</td><td>2: the</td><td>3: elephant</td><td>4: in</td><td>5: his</td><td>6: pyjamas</td></tr>\n",
       "<tr><td>0: He</td><td style=\"border:solid;\" bgcolor=\"white\"><font color=\"black\">Subj: 0.00</font></td><td style=\"border:solid;\" bgcolor=\"white\"></td><td style=\"border:solid;\" bgcolor=\"white\"></td><td style=\"border:solid;\" bgcolor=\"white\"><font color=\"black\">S: -1.90</font></td><td style=\"border:solid;\" bgcolor=\"white\"></td><td style=\"border:solid;\" bgcolor=\"white\"></td><td style=\"border:solid;\" bgcolor=\"white\"></td></tr>\n",
       "<tr><td>1: shot</td><td style=\"border:none;\" bgcolor=\"white\"></td><td style=\"border:solid;\" bgcolor=\"white\"><font color=\"black\">Verb: 0.00</font></td><td style=\"border:solid;\" bgcolor=\"white\"></td><td style=\"border:solid;\" bgcolor=\"white\"><font color=\"black\">VP: -1.90</font></td><td style=\"border:solid;\" bgcolor=\"white\"></td><td style=\"border:solid;\" bgcolor=\"white\"></td><td style=\"border:solid;\" bgcolor=\"white\"></td></tr>\n",
       "<tr><td>2: the</td><td style=\"border:none;\" bgcolor=\"white\"></td><td style=\"border:none;\" bgcolor=\"white\"></td><td style=\"border:solid;\" bgcolor=\"white\"><font color=\"black\">Obj_5: 0.00</font>, <font color=\"black\">Obj_8: 0.00</font></td><td style=\"border:solid;\" bgcolor=\"#E1E1E1\"><font color=\"black\">Obj: -0.69</font></td><td style=\"border:solid;\" bgcolor=\"white\"></td><td style=\"border:solid;\" bgcolor=\"#C3C3C3\"></td><td style=\"border:solid;\" bgcolor=\"white\"></td></tr>\n",
       "<tr><td>3: elephant</td><td style=\"border:none;\" bgcolor=\"white\"></td><td style=\"border:none;\" bgcolor=\"white\"></td><td style=\"border:none;\" bgcolor=\"white\"></td><td style=\"border:solid;\" bgcolor=\"white\"><font color=\"black\">Obj_6: 0.00</font>, <font color=\"black\">Obj_7_9: 0.00</font></td><td style=\"border:solid;\" bgcolor=\"white\"></td><td style=\"border:solid;\" bgcolor=\"white\"></td><td style=\"border:solid;\" bgcolor=\"white\"></td></tr>\n",
       "<tr><td>4: in</td><td style=\"border:none;\" bgcolor=\"white\"></td><td style=\"border:none;\" bgcolor=\"white\"></td><td style=\"border:none;\" bgcolor=\"white\"></td><td style=\"border:none;\" bgcolor=\"white\"></td><td style=\"border:solid;\" bgcolor=\"white\"><font color=\"black\">PP_2: 0.00</font></td><td style=\"border:solid;\" bgcolor=\"#E1E1E1\"></td><td style=\"border:solid;\" bgcolor=\"white\"><font color=\"black\">PP: 0.00</font></td></tr>\n",
       "<tr><td>5: his</td><td style=\"border:none;\" bgcolor=\"white\"></td><td style=\"border:none;\" bgcolor=\"white\"></td><td style=\"border:none;\" bgcolor=\"white\"></td><td style=\"border:none;\" bgcolor=\"white\"></td><td style=\"border:none;\" bgcolor=\"white\"></td><td style=\"border:solid;\" bgcolor=\"white\"><font color=\"black\">PP_1_3: 0.00</font></td><td style=\"border:solid;\" bgcolor=\"white\"><font color=\"black\">PP_1: 0.00</font></td></tr>\n",
       "<tr><td>6: pyjamas</td><td style=\"border:none;\" bgcolor=\"white\"></td><td style=\"border:none;\" bgcolor=\"white\"></td><td style=\"border:none;\" bgcolor=\"white\"></td><td style=\"border:none;\" bgcolor=\"white\"></td><td style=\"border:none;\" bgcolor=\"white\"></td><td style=\"border:none;\" bgcolor=\"white\"></td><td style=\"border:solid;\" bgcolor=\"white\"><font color=\"black\">PP_1_4: 0.00</font></td></tr></table> 62 / 112</div>\n",
       "<div class=\"item\"><table><tr><td></td><td>0: He</td><td>1: shot</td><td>2: the</td><td>3: elephant</td><td>4: in</td><td>5: his</td><td>6: pyjamas</td></tr>\n",
       "<tr><td>0: He</td><td style=\"border:solid;\" bgcolor=\"white\"><font color=\"black\">Subj: 0.00</font></td><td style=\"border:solid;\" bgcolor=\"white\"></td><td style=\"border:solid;\" bgcolor=\"white\"></td><td style=\"border:solid;\" bgcolor=\"white\"><font color=\"black\">S: -1.90</font></td><td style=\"border:solid;\" bgcolor=\"white\"></td><td style=\"border:solid;\" bgcolor=\"white\"></td><td style=\"border:solid;\" bgcolor=\"white\"></td></tr>\n",
       "<tr><td>1: shot</td><td style=\"border:none;\" bgcolor=\"white\"></td><td style=\"border:solid;\" bgcolor=\"white\"><font color=\"black\">Verb: 0.00</font></td><td style=\"border:solid;\" bgcolor=\"white\"></td><td style=\"border:solid;\" bgcolor=\"white\"><font color=\"black\">VP: -1.90</font></td><td style=\"border:solid;\" bgcolor=\"white\"></td><td style=\"border:solid;\" bgcolor=\"white\"></td><td style=\"border:solid;\" bgcolor=\"white\"></td></tr>\n",
       "<tr><td>2: the</td><td style=\"border:none;\" bgcolor=\"white\"></td><td style=\"border:none;\" bgcolor=\"white\"></td><td style=\"border:solid;\" bgcolor=\"white\"><font color=\"black\">Obj_5: 0.00</font>, <font color=\"black\">Obj_8: 0.00</font></td><td style=\"border:solid;\" bgcolor=\"white\"><font color=\"black\">Obj: -0.69</font></td><td style=\"border:solid;\" bgcolor=\"#E1E1E1\"></td><td style=\"border:solid;\" bgcolor=\"#C3C3C3\"></td><td style=\"border:solid;\" bgcolor=\"white\"></td></tr>\n",
       "<tr><td>3: elephant</td><td style=\"border:none;\" bgcolor=\"white\"></td><td style=\"border:none;\" bgcolor=\"white\"></td><td style=\"border:none;\" bgcolor=\"white\"></td><td style=\"border:solid;\" bgcolor=\"white\"><font color=\"black\">Obj_6: 0.00</font>, <font color=\"black\">Obj_7_9: 0.00</font></td><td style=\"border:solid;\" bgcolor=\"white\"></td><td style=\"border:solid;\" bgcolor=\"white\"></td><td style=\"border:solid;\" bgcolor=\"white\"></td></tr>\n",
       "<tr><td>4: in</td><td style=\"border:none;\" bgcolor=\"white\"></td><td style=\"border:none;\" bgcolor=\"white\"></td><td style=\"border:none;\" bgcolor=\"white\"></td><td style=\"border:none;\" bgcolor=\"white\"></td><td style=\"border:solid;\" bgcolor=\"white\"><font color=\"black\">PP_2: 0.00</font></td><td style=\"border:solid;\" bgcolor=\"white\"></td><td style=\"border:solid;\" bgcolor=\"white\"><font color=\"black\">PP: 0.00</font></td></tr>\n",
       "<tr><td>5: his</td><td style=\"border:none;\" bgcolor=\"white\"></td><td style=\"border:none;\" bgcolor=\"white\"></td><td style=\"border:none;\" bgcolor=\"white\"></td><td style=\"border:none;\" bgcolor=\"white\"></td><td style=\"border:none;\" bgcolor=\"white\"></td><td style=\"border:solid;\" bgcolor=\"#E1E1E1\"><font color=\"black\">PP_1_3: 0.00</font></td><td style=\"border:solid;\" bgcolor=\"white\"><font color=\"black\">PP_1: 0.00</font></td></tr>\n",
       "<tr><td>6: pyjamas</td><td style=\"border:none;\" bgcolor=\"white\"></td><td style=\"border:none;\" bgcolor=\"white\"></td><td style=\"border:none;\" bgcolor=\"white\"></td><td style=\"border:none;\" bgcolor=\"white\"></td><td style=\"border:none;\" bgcolor=\"white\"></td><td style=\"border:none;\" bgcolor=\"white\"></td><td style=\"border:solid;\" bgcolor=\"white\"><font color=\"black\">PP_1_4: 0.00</font></td></tr></table> 63 / 112</div>\n",
       "<div class=\"item\"><table><tr><td></td><td>0: He</td><td>1: shot</td><td>2: the</td><td>3: elephant</td><td>4: in</td><td>5: his</td><td>6: pyjamas</td></tr>\n",
       "<tr><td>0: He</td><td style=\"border:solid;\" bgcolor=\"white\"><font color=\"black\">Subj: 0.00</font></td><td style=\"border:solid;\" bgcolor=\"white\"></td><td style=\"border:solid;\" bgcolor=\"white\"></td><td style=\"border:solid;\" bgcolor=\"white\"><font color=\"black\">S: -1.90</font></td><td style=\"border:solid;\" bgcolor=\"white\"></td><td style=\"border:solid;\" bgcolor=\"white\"></td><td style=\"border:solid;\" bgcolor=\"white\"></td></tr>\n",
       "<tr><td>1: shot</td><td style=\"border:none;\" bgcolor=\"white\"></td><td style=\"border:solid;\" bgcolor=\"white\"><font color=\"black\">Verb: 0.00</font></td><td style=\"border:solid;\" bgcolor=\"white\"></td><td style=\"border:solid;\" bgcolor=\"white\"><font color=\"black\">VP: -1.90</font></td><td style=\"border:solid;\" bgcolor=\"white\"></td><td style=\"border:solid;\" bgcolor=\"white\"></td><td style=\"border:solid;\" bgcolor=\"white\"></td></tr>\n",
       "<tr><td>2: the</td><td style=\"border:none;\" bgcolor=\"white\"></td><td style=\"border:none;\" bgcolor=\"white\"></td><td style=\"border:solid;\" bgcolor=\"white\"><font color=\"black\">Obj_5: 0.00</font>, <font color=\"black\">Obj_8: 0.00</font></td><td style=\"border:solid;\" bgcolor=\"white\"><font color=\"black\">Obj: -0.69</font></td><td style=\"border:solid;\" bgcolor=\"white\"></td><td style=\"border:solid;\" bgcolor=\"white\"></td><td style=\"border:solid;\" bgcolor=\"white\"></td></tr>\n",
       "<tr><td>3: elephant</td><td style=\"border:none;\" bgcolor=\"white\"></td><td style=\"border:none;\" bgcolor=\"white\"></td><td style=\"border:none;\" bgcolor=\"white\"></td><td style=\"border:solid;\" bgcolor=\"#E1E1E1\"><font color=\"black\">Obj_6: 0.00</font>, <font color=\"black\">Obj_7_9: 0.00</font></td><td style=\"border:solid;\" bgcolor=\"white\"></td><td style=\"border:solid;\" bgcolor=\"white\"></td><td style=\"border:solid;\" bgcolor=\"#C3C3C3\"></td></tr>\n",
       "<tr><td>4: in</td><td style=\"border:none;\" bgcolor=\"white\"></td><td style=\"border:none;\" bgcolor=\"white\"></td><td style=\"border:none;\" bgcolor=\"white\"></td><td style=\"border:none;\" bgcolor=\"white\"></td><td style=\"border:solid;\" bgcolor=\"white\"><font color=\"black\">PP_2: 0.00</font></td><td style=\"border:solid;\" bgcolor=\"white\"></td><td style=\"border:solid;\" bgcolor=\"#E1E1E1\"><font color=\"black\">PP: 0.00</font></td></tr>\n",
       "<tr><td>5: his</td><td style=\"border:none;\" bgcolor=\"white\"></td><td style=\"border:none;\" bgcolor=\"white\"></td><td style=\"border:none;\" bgcolor=\"white\"></td><td style=\"border:none;\" bgcolor=\"white\"></td><td style=\"border:none;\" bgcolor=\"white\"></td><td style=\"border:solid;\" bgcolor=\"white\"><font color=\"black\">PP_1_3: 0.00</font></td><td style=\"border:solid;\" bgcolor=\"white\"><font color=\"black\">PP_1: 0.00</font></td></tr>\n",
       "<tr><td>6: pyjamas</td><td style=\"border:none;\" bgcolor=\"white\"></td><td style=\"border:none;\" bgcolor=\"white\"></td><td style=\"border:none;\" bgcolor=\"white\"></td><td style=\"border:none;\" bgcolor=\"white\"></td><td style=\"border:none;\" bgcolor=\"white\"></td><td style=\"border:none;\" bgcolor=\"white\"></td><td style=\"border:solid;\" bgcolor=\"white\"><font color=\"black\">PP_1_4: 0.00</font></td></tr></table> 64 / 112</div>\n",
       "<div class=\"item\"><table><tr><td></td><td>0: He</td><td>1: shot</td><td>2: the</td><td>3: elephant</td><td>4: in</td><td>5: his</td><td>6: pyjamas</td></tr>\n",
       "<tr><td>0: He</td><td style=\"border:solid;\" bgcolor=\"white\"><font color=\"black\">Subj: 0.00</font></td><td style=\"border:solid;\" bgcolor=\"white\"></td><td style=\"border:solid;\" bgcolor=\"white\"></td><td style=\"border:solid;\" bgcolor=\"white\"><font color=\"black\">S: -1.90</font></td><td style=\"border:solid;\" bgcolor=\"white\"></td><td style=\"border:solid;\" bgcolor=\"white\"></td><td style=\"border:solid;\" bgcolor=\"white\"></td></tr>\n",
       "<tr><td>1: shot</td><td style=\"border:none;\" bgcolor=\"white\"></td><td style=\"border:solid;\" bgcolor=\"white\"><font color=\"black\">Verb: 0.00</font></td><td style=\"border:solid;\" bgcolor=\"white\"></td><td style=\"border:solid;\" bgcolor=\"white\"><font color=\"black\">VP: -1.90</font></td><td style=\"border:solid;\" bgcolor=\"white\"></td><td style=\"border:solid;\" bgcolor=\"white\"></td><td style=\"border:solid;\" bgcolor=\"white\"></td></tr>\n",
       "<tr><td>2: the</td><td style=\"border:none;\" bgcolor=\"white\"></td><td style=\"border:none;\" bgcolor=\"white\"></td><td style=\"border:solid;\" bgcolor=\"white\"><font color=\"black\">Obj_5: 0.00</font>, <font color=\"black\">Obj_8: 0.00</font></td><td style=\"border:solid;\" bgcolor=\"white\"><font color=\"black\">Obj: -0.69</font></td><td style=\"border:solid;\" bgcolor=\"white\"></td><td style=\"border:solid;\" bgcolor=\"white\"></td><td style=\"border:solid;\" bgcolor=\"white\"></td></tr>\n",
       "<tr><td>3: elephant</td><td style=\"border:none;\" bgcolor=\"white\"></td><td style=\"border:none;\" bgcolor=\"white\"></td><td style=\"border:none;\" bgcolor=\"white\"></td><td style=\"border:solid;\" bgcolor=\"#E1E1E1\"><font color=\"red\">Obj_6: 0.00</font>, <font color=\"black\">Obj_7_9: 0.00</font></td><td style=\"border:solid;\" bgcolor=\"white\"></td><td style=\"border:solid;\" bgcolor=\"white\"></td><td style=\"border:solid;\" bgcolor=\"#C3C3C3\"></td></tr>\n",
       "<tr><td>4: in</td><td style=\"border:none;\" bgcolor=\"white\"></td><td style=\"border:none;\" bgcolor=\"white\"></td><td style=\"border:none;\" bgcolor=\"white\"></td><td style=\"border:none;\" bgcolor=\"white\"></td><td style=\"border:solid;\" bgcolor=\"white\"><font color=\"black\">PP_2: 0.00</font></td><td style=\"border:solid;\" bgcolor=\"white\"></td><td style=\"border:solid;\" bgcolor=\"#E1E1E1\"><font color=\"red\">PP: 0.00</font></td></tr>\n",
       "<tr><td>5: his</td><td style=\"border:none;\" bgcolor=\"white\"></td><td style=\"border:none;\" bgcolor=\"white\"></td><td style=\"border:none;\" bgcolor=\"white\"></td><td style=\"border:none;\" bgcolor=\"white\"></td><td style=\"border:none;\" bgcolor=\"white\"></td><td style=\"border:solid;\" bgcolor=\"white\"><font color=\"black\">PP_1_3: 0.00</font></td><td style=\"border:solid;\" bgcolor=\"white\"><font color=\"black\">PP_1: 0.00</font></td></tr>\n",
       "<tr><td>6: pyjamas</td><td style=\"border:none;\" bgcolor=\"white\"></td><td style=\"border:none;\" bgcolor=\"white\"></td><td style=\"border:none;\" bgcolor=\"white\"></td><td style=\"border:none;\" bgcolor=\"white\"></td><td style=\"border:none;\" bgcolor=\"white\"></td><td style=\"border:none;\" bgcolor=\"white\"></td><td style=\"border:solid;\" bgcolor=\"white\"><font color=\"black\">PP_1_4: 0.00</font></td></tr></table> 65 / 112</div>\n",
       "<div class=\"item\"><table><tr><td></td><td>0: He</td><td>1: shot</td><td>2: the</td><td>3: elephant</td><td>4: in</td><td>5: his</td><td>6: pyjamas</td></tr>\n",
       "<tr><td>0: He</td><td style=\"border:solid;\" bgcolor=\"white\"><font color=\"black\">Subj: 0.00</font></td><td style=\"border:solid;\" bgcolor=\"white\"></td><td style=\"border:solid;\" bgcolor=\"white\"></td><td style=\"border:solid;\" bgcolor=\"white\"><font color=\"black\">S: -1.90</font></td><td style=\"border:solid;\" bgcolor=\"white\"></td><td style=\"border:solid;\" bgcolor=\"white\"></td><td style=\"border:solid;\" bgcolor=\"white\"></td></tr>\n",
       "<tr><td>1: shot</td><td style=\"border:none;\" bgcolor=\"white\"></td><td style=\"border:solid;\" bgcolor=\"white\"><font color=\"black\">Verb: 0.00</font></td><td style=\"border:solid;\" bgcolor=\"white\"></td><td style=\"border:solid;\" bgcolor=\"white\"><font color=\"black\">VP: -1.90</font></td><td style=\"border:solid;\" bgcolor=\"white\"></td><td style=\"border:solid;\" bgcolor=\"white\"></td><td style=\"border:solid;\" bgcolor=\"white\"></td></tr>\n",
       "<tr><td>2: the</td><td style=\"border:none;\" bgcolor=\"white\"></td><td style=\"border:none;\" bgcolor=\"white\"></td><td style=\"border:solid;\" bgcolor=\"white\"><font color=\"black\">Obj_5: 0.00</font>, <font color=\"black\">Obj_8: 0.00</font></td><td style=\"border:solid;\" bgcolor=\"white\"><font color=\"black\">Obj: -0.69</font></td><td style=\"border:solid;\" bgcolor=\"white\"></td><td style=\"border:solid;\" bgcolor=\"white\"></td><td style=\"border:solid;\" bgcolor=\"white\"></td></tr>\n",
       "<tr><td>3: elephant</td><td style=\"border:none;\" bgcolor=\"white\"></td><td style=\"border:none;\" bgcolor=\"white\"></td><td style=\"border:none;\" bgcolor=\"white\"></td><td style=\"border:solid;\" bgcolor=\"#E1E1E1\"><font color=\"black\">Obj_6: 0.00</font>, <font color=\"red\">Obj_7_9: 0.00</font></td><td style=\"border:solid;\" bgcolor=\"white\"></td><td style=\"border:solid;\" bgcolor=\"white\"></td><td style=\"border:solid;\" bgcolor=\"#C3C3C3\"></td></tr>\n",
       "<tr><td>4: in</td><td style=\"border:none;\" bgcolor=\"white\"></td><td style=\"border:none;\" bgcolor=\"white\"></td><td style=\"border:none;\" bgcolor=\"white\"></td><td style=\"border:none;\" bgcolor=\"white\"></td><td style=\"border:solid;\" bgcolor=\"white\"><font color=\"black\">PP_2: 0.00</font></td><td style=\"border:solid;\" bgcolor=\"white\"></td><td style=\"border:solid;\" bgcolor=\"#E1E1E1\"><font color=\"red\">PP: 0.00</font></td></tr>\n",
       "<tr><td>5: his</td><td style=\"border:none;\" bgcolor=\"white\"></td><td style=\"border:none;\" bgcolor=\"white\"></td><td style=\"border:none;\" bgcolor=\"white\"></td><td style=\"border:none;\" bgcolor=\"white\"></td><td style=\"border:none;\" bgcolor=\"white\"></td><td style=\"border:solid;\" bgcolor=\"white\"><font color=\"black\">PP_1_3: 0.00</font></td><td style=\"border:solid;\" bgcolor=\"white\"><font color=\"black\">PP_1: 0.00</font></td></tr>\n",
       "<tr><td>6: pyjamas</td><td style=\"border:none;\" bgcolor=\"white\"></td><td style=\"border:none;\" bgcolor=\"white\"></td><td style=\"border:none;\" bgcolor=\"white\"></td><td style=\"border:none;\" bgcolor=\"white\"></td><td style=\"border:none;\" bgcolor=\"white\"></td><td style=\"border:none;\" bgcolor=\"white\"></td><td style=\"border:solid;\" bgcolor=\"white\"><font color=\"black\">PP_1_4: 0.00</font></td></tr></table> 66 / 112</div>\n",
       "<div class=\"item\"><table><tr><td></td><td>0: He</td><td>1: shot</td><td>2: the</td><td>3: elephant</td><td>4: in</td><td>5: his</td><td>6: pyjamas</td></tr>\n",
       "<tr><td>0: He</td><td style=\"border:solid;\" bgcolor=\"white\"><font color=\"black\">Subj: 0.00</font></td><td style=\"border:solid;\" bgcolor=\"white\"></td><td style=\"border:solid;\" bgcolor=\"white\"></td><td style=\"border:solid;\" bgcolor=\"white\"><font color=\"black\">S: -1.90</font></td><td style=\"border:solid;\" bgcolor=\"white\"></td><td style=\"border:solid;\" bgcolor=\"white\"></td><td style=\"border:solid;\" bgcolor=\"white\"></td></tr>\n",
       "<tr><td>1: shot</td><td style=\"border:none;\" bgcolor=\"white\"></td><td style=\"border:solid;\" bgcolor=\"white\"><font color=\"black\">Verb: 0.00</font></td><td style=\"border:solid;\" bgcolor=\"white\"></td><td style=\"border:solid;\" bgcolor=\"white\"><font color=\"black\">VP: -1.90</font></td><td style=\"border:solid;\" bgcolor=\"white\"></td><td style=\"border:solid;\" bgcolor=\"white\"></td><td style=\"border:solid;\" bgcolor=\"white\"></td></tr>\n",
       "<tr><td>2: the</td><td style=\"border:none;\" bgcolor=\"white\"></td><td style=\"border:none;\" bgcolor=\"white\"></td><td style=\"border:solid;\" bgcolor=\"white\"><font color=\"black\">Obj_5: 0.00</font>, <font color=\"black\">Obj_8: 0.00</font></td><td style=\"border:solid;\" bgcolor=\"white\"><font color=\"black\">Obj: -0.69</font></td><td style=\"border:solid;\" bgcolor=\"white\"></td><td style=\"border:solid;\" bgcolor=\"white\"></td><td style=\"border:solid;\" bgcolor=\"white\"></td></tr>\n",
       "<tr><td>3: elephant</td><td style=\"border:none;\" bgcolor=\"white\"></td><td style=\"border:none;\" bgcolor=\"white\"></td><td style=\"border:none;\" bgcolor=\"white\"></td><td style=\"border:solid;\" bgcolor=\"#E1E1E1\"><font color=\"black\">Obj_6: 0.00</font>, <font color=\"red\">Obj_7_9: 0.00</font></td><td style=\"border:solid;\" bgcolor=\"white\"></td><td style=\"border:solid;\" bgcolor=\"white\"></td><td style=\"border:solid;\" bgcolor=\"#C3C3C3\"><font color=\"blue\">Obj_7: 0.00</font></td></tr>\n",
       "<tr><td>4: in</td><td style=\"border:none;\" bgcolor=\"white\"></td><td style=\"border:none;\" bgcolor=\"white\"></td><td style=\"border:none;\" bgcolor=\"white\"></td><td style=\"border:none;\" bgcolor=\"white\"></td><td style=\"border:solid;\" bgcolor=\"white\"><font color=\"black\">PP_2: 0.00</font></td><td style=\"border:solid;\" bgcolor=\"white\"></td><td style=\"border:solid;\" bgcolor=\"#E1E1E1\"><font color=\"red\">PP: 0.00</font></td></tr>\n",
       "<tr><td>5: his</td><td style=\"border:none;\" bgcolor=\"white\"></td><td style=\"border:none;\" bgcolor=\"white\"></td><td style=\"border:none;\" bgcolor=\"white\"></td><td style=\"border:none;\" bgcolor=\"white\"></td><td style=\"border:none;\" bgcolor=\"white\"></td><td style=\"border:solid;\" bgcolor=\"white\"><font color=\"black\">PP_1_3: 0.00</font></td><td style=\"border:solid;\" bgcolor=\"white\"><font color=\"black\">PP_1: 0.00</font></td></tr>\n",
       "<tr><td>6: pyjamas</td><td style=\"border:none;\" bgcolor=\"white\"></td><td style=\"border:none;\" bgcolor=\"white\"></td><td style=\"border:none;\" bgcolor=\"white\"></td><td style=\"border:none;\" bgcolor=\"white\"></td><td style=\"border:none;\" bgcolor=\"white\"></td><td style=\"border:none;\" bgcolor=\"white\"></td><td style=\"border:solid;\" bgcolor=\"white\"><font color=\"black\">PP_1_4: 0.00</font></td></tr></table> 67 / 112</div>\n",
       "<div class=\"item\"><table><tr><td></td><td>0: He</td><td>1: shot</td><td>2: the</td><td>3: elephant</td><td>4: in</td><td>5: his</td><td>6: pyjamas</td></tr>\n",
       "<tr><td>0: He</td><td style=\"border:solid;\" bgcolor=\"white\"><font color=\"black\">Subj: 0.00</font></td><td style=\"border:solid;\" bgcolor=\"white\"></td><td style=\"border:solid;\" bgcolor=\"white\"></td><td style=\"border:solid;\" bgcolor=\"white\"><font color=\"black\">S: -1.90</font></td><td style=\"border:solid;\" bgcolor=\"white\"></td><td style=\"border:solid;\" bgcolor=\"white\"></td><td style=\"border:solid;\" bgcolor=\"white\"></td></tr>\n",
       "<tr><td>1: shot</td><td style=\"border:none;\" bgcolor=\"white\"></td><td style=\"border:solid;\" bgcolor=\"white\"><font color=\"black\">Verb: 0.00</font></td><td style=\"border:solid;\" bgcolor=\"white\"></td><td style=\"border:solid;\" bgcolor=\"white\"><font color=\"black\">VP: -1.90</font></td><td style=\"border:solid;\" bgcolor=\"white\"></td><td style=\"border:solid;\" bgcolor=\"white\"></td><td style=\"border:solid;\" bgcolor=\"white\"></td></tr>\n",
       "<tr><td>2: the</td><td style=\"border:none;\" bgcolor=\"white\"></td><td style=\"border:none;\" bgcolor=\"white\"></td><td style=\"border:solid;\" bgcolor=\"white\"><font color=\"black\">Obj_5: 0.00</font>, <font color=\"black\">Obj_8: 0.00</font></td><td style=\"border:solid;\" bgcolor=\"white\"><font color=\"black\">Obj: -0.69</font></td><td style=\"border:solid;\" bgcolor=\"white\"></td><td style=\"border:solid;\" bgcolor=\"white\"></td><td style=\"border:solid;\" bgcolor=\"white\"></td></tr>\n",
       "<tr><td>3: elephant</td><td style=\"border:none;\" bgcolor=\"white\"></td><td style=\"border:none;\" bgcolor=\"white\"></td><td style=\"border:none;\" bgcolor=\"white\"></td><td style=\"border:solid;\" bgcolor=\"white\"><font color=\"black\">Obj_6: 0.00</font>, <font color=\"black\">Obj_7_9: 0.00</font></td><td style=\"border:solid;\" bgcolor=\"#E1E1E1\"></td><td style=\"border:solid;\" bgcolor=\"white\"></td><td style=\"border:solid;\" bgcolor=\"#C3C3C3\"><font color=\"black\">Obj_7: 0.00</font></td></tr>\n",
       "<tr><td>4: in</td><td style=\"border:none;\" bgcolor=\"white\"></td><td style=\"border:none;\" bgcolor=\"white\"></td><td style=\"border:none;\" bgcolor=\"white\"></td><td style=\"border:none;\" bgcolor=\"white\"></td><td style=\"border:solid;\" bgcolor=\"white\"><font color=\"black\">PP_2: 0.00</font></td><td style=\"border:solid;\" bgcolor=\"white\"></td><td style=\"border:solid;\" bgcolor=\"white\"><font color=\"black\">PP: 0.00</font></td></tr>\n",
       "<tr><td>5: his</td><td style=\"border:none;\" bgcolor=\"white\"></td><td style=\"border:none;\" bgcolor=\"white\"></td><td style=\"border:none;\" bgcolor=\"white\"></td><td style=\"border:none;\" bgcolor=\"white\"></td><td style=\"border:none;\" bgcolor=\"white\"></td><td style=\"border:solid;\" bgcolor=\"white\"><font color=\"black\">PP_1_3: 0.00</font></td><td style=\"border:solid;\" bgcolor=\"#E1E1E1\"><font color=\"black\">PP_1: 0.00</font></td></tr>\n",
       "<tr><td>6: pyjamas</td><td style=\"border:none;\" bgcolor=\"white\"></td><td style=\"border:none;\" bgcolor=\"white\"></td><td style=\"border:none;\" bgcolor=\"white\"></td><td style=\"border:none;\" bgcolor=\"white\"></td><td style=\"border:none;\" bgcolor=\"white\"></td><td style=\"border:none;\" bgcolor=\"white\"></td><td style=\"border:solid;\" bgcolor=\"white\"><font color=\"black\">PP_1_4: 0.00</font></td></tr></table> 68 / 112</div>\n",
       "<div class=\"item\"><table><tr><td></td><td>0: He</td><td>1: shot</td><td>2: the</td><td>3: elephant</td><td>4: in</td><td>5: his</td><td>6: pyjamas</td></tr>\n",
       "<tr><td>0: He</td><td style=\"border:solid;\" bgcolor=\"white\"><font color=\"black\">Subj: 0.00</font></td><td style=\"border:solid;\" bgcolor=\"white\"></td><td style=\"border:solid;\" bgcolor=\"white\"></td><td style=\"border:solid;\" bgcolor=\"white\"><font color=\"black\">S: -1.90</font></td><td style=\"border:solid;\" bgcolor=\"white\"></td><td style=\"border:solid;\" bgcolor=\"white\"></td><td style=\"border:solid;\" bgcolor=\"white\"></td></tr>\n",
       "<tr><td>1: shot</td><td style=\"border:none;\" bgcolor=\"white\"></td><td style=\"border:solid;\" bgcolor=\"white\"><font color=\"black\">Verb: 0.00</font></td><td style=\"border:solid;\" bgcolor=\"white\"></td><td style=\"border:solid;\" bgcolor=\"white\"><font color=\"black\">VP: -1.90</font></td><td style=\"border:solid;\" bgcolor=\"white\"></td><td style=\"border:solid;\" bgcolor=\"white\"></td><td style=\"border:solid;\" bgcolor=\"white\"></td></tr>\n",
       "<tr><td>2: the</td><td style=\"border:none;\" bgcolor=\"white\"></td><td style=\"border:none;\" bgcolor=\"white\"></td><td style=\"border:solid;\" bgcolor=\"white\"><font color=\"black\">Obj_5: 0.00</font>, <font color=\"black\">Obj_8: 0.00</font></td><td style=\"border:solid;\" bgcolor=\"white\"><font color=\"black\">Obj: -0.69</font></td><td style=\"border:solid;\" bgcolor=\"white\"></td><td style=\"border:solid;\" bgcolor=\"white\"></td><td style=\"border:solid;\" bgcolor=\"white\"></td></tr>\n",
       "<tr><td>3: elephant</td><td style=\"border:none;\" bgcolor=\"white\"></td><td style=\"border:none;\" bgcolor=\"white\"></td><td style=\"border:none;\" bgcolor=\"white\"></td><td style=\"border:solid;\" bgcolor=\"white\"><font color=\"black\">Obj_6: 0.00</font>, <font color=\"black\">Obj_7_9: 0.00</font></td><td style=\"border:solid;\" bgcolor=\"white\"></td><td style=\"border:solid;\" bgcolor=\"#E1E1E1\"></td><td style=\"border:solid;\" bgcolor=\"#C3C3C3\"><font color=\"black\">Obj_7: 0.00</font></td></tr>\n",
       "<tr><td>4: in</td><td style=\"border:none;\" bgcolor=\"white\"></td><td style=\"border:none;\" bgcolor=\"white\"></td><td style=\"border:none;\" bgcolor=\"white\"></td><td style=\"border:none;\" bgcolor=\"white\"></td><td style=\"border:solid;\" bgcolor=\"white\"><font color=\"black\">PP_2: 0.00</font></td><td style=\"border:solid;\" bgcolor=\"white\"></td><td style=\"border:solid;\" bgcolor=\"white\"><font color=\"black\">PP: 0.00</font></td></tr>\n",
       "<tr><td>5: his</td><td style=\"border:none;\" bgcolor=\"white\"></td><td style=\"border:none;\" bgcolor=\"white\"></td><td style=\"border:none;\" bgcolor=\"white\"></td><td style=\"border:none;\" bgcolor=\"white\"></td><td style=\"border:none;\" bgcolor=\"white\"></td><td style=\"border:solid;\" bgcolor=\"white\"><font color=\"black\">PP_1_3: 0.00</font></td><td style=\"border:solid;\" bgcolor=\"white\"><font color=\"black\">PP_1: 0.00</font></td></tr>\n",
       "<tr><td>6: pyjamas</td><td style=\"border:none;\" bgcolor=\"white\"></td><td style=\"border:none;\" bgcolor=\"white\"></td><td style=\"border:none;\" bgcolor=\"white\"></td><td style=\"border:none;\" bgcolor=\"white\"></td><td style=\"border:none;\" bgcolor=\"white\"></td><td style=\"border:none;\" bgcolor=\"white\"></td><td style=\"border:solid;\" bgcolor=\"#E1E1E1\"><font color=\"black\">PP_1_4: 0.00</font></td></tr></table> 69 / 112</div>\n",
       "<div class=\"item\"><table><tr><td></td><td>0: He</td><td>1: shot</td><td>2: the</td><td>3: elephant</td><td>4: in</td><td>5: his</td><td>6: pyjamas</td></tr>\n",
       "<tr><td>0: He</td><td style=\"border:solid;\" bgcolor=\"#E1E1E1\"><font color=\"black\">Subj: 0.00</font></td><td style=\"border:solid;\" bgcolor=\"white\"></td><td style=\"border:solid;\" bgcolor=\"white\"></td><td style=\"border:solid;\" bgcolor=\"white\"><font color=\"black\">S: -1.90</font></td><td style=\"border:solid;\" bgcolor=\"#C3C3C3\"></td><td style=\"border:solid;\" bgcolor=\"white\"></td><td style=\"border:solid;\" bgcolor=\"white\"></td></tr>\n",
       "<tr><td>1: shot</td><td style=\"border:none;\" bgcolor=\"white\"></td><td style=\"border:solid;\" bgcolor=\"white\"><font color=\"black\">Verb: 0.00</font></td><td style=\"border:solid;\" bgcolor=\"white\"></td><td style=\"border:solid;\" bgcolor=\"white\"><font color=\"black\">VP: -1.90</font></td><td style=\"border:solid;\" bgcolor=\"#E1E1E1\"></td><td style=\"border:solid;\" bgcolor=\"white\"></td><td style=\"border:solid;\" bgcolor=\"white\"></td></tr>\n",
       "<tr><td>2: the</td><td style=\"border:none;\" bgcolor=\"white\"></td><td style=\"border:none;\" bgcolor=\"white\"></td><td style=\"border:solid;\" bgcolor=\"white\"><font color=\"black\">Obj_5: 0.00</font>, <font color=\"black\">Obj_8: 0.00</font></td><td style=\"border:solid;\" bgcolor=\"white\"><font color=\"black\">Obj: -0.69</font></td><td style=\"border:solid;\" bgcolor=\"white\"></td><td style=\"border:solid;\" bgcolor=\"white\"></td><td style=\"border:solid;\" bgcolor=\"white\"></td></tr>\n",
       "<tr><td>3: elephant</td><td style=\"border:none;\" bgcolor=\"white\"></td><td style=\"border:none;\" bgcolor=\"white\"></td><td style=\"border:none;\" bgcolor=\"white\"></td><td style=\"border:solid;\" bgcolor=\"white\"><font color=\"black\">Obj_6: 0.00</font>, <font color=\"black\">Obj_7_9: 0.00</font></td><td style=\"border:solid;\" bgcolor=\"white\"></td><td style=\"border:solid;\" bgcolor=\"white\"></td><td style=\"border:solid;\" bgcolor=\"white\"><font color=\"black\">Obj_7: 0.00</font></td></tr>\n",
       "<tr><td>4: in</td><td style=\"border:none;\" bgcolor=\"white\"></td><td style=\"border:none;\" bgcolor=\"white\"></td><td style=\"border:none;\" bgcolor=\"white\"></td><td style=\"border:none;\" bgcolor=\"white\"></td><td style=\"border:solid;\" bgcolor=\"white\"><font color=\"black\">PP_2: 0.00</font></td><td style=\"border:solid;\" bgcolor=\"white\"></td><td style=\"border:solid;\" bgcolor=\"white\"><font color=\"black\">PP: 0.00</font></td></tr>\n",
       "<tr><td>5: his</td><td style=\"border:none;\" bgcolor=\"white\"></td><td style=\"border:none;\" bgcolor=\"white\"></td><td style=\"border:none;\" bgcolor=\"white\"></td><td style=\"border:none;\" bgcolor=\"white\"></td><td style=\"border:none;\" bgcolor=\"white\"></td><td style=\"border:solid;\" bgcolor=\"white\"><font color=\"black\">PP_1_3: 0.00</font></td><td style=\"border:solid;\" bgcolor=\"white\"><font color=\"black\">PP_1: 0.00</font></td></tr>\n",
       "<tr><td>6: pyjamas</td><td style=\"border:none;\" bgcolor=\"white\"></td><td style=\"border:none;\" bgcolor=\"white\"></td><td style=\"border:none;\" bgcolor=\"white\"></td><td style=\"border:none;\" bgcolor=\"white\"></td><td style=\"border:none;\" bgcolor=\"white\"></td><td style=\"border:none;\" bgcolor=\"white\"></td><td style=\"border:solid;\" bgcolor=\"white\"><font color=\"black\">PP_1_4: 0.00</font></td></tr></table> 70 / 112</div>\n",
       "<div class=\"item\"><table><tr><td></td><td>0: He</td><td>1: shot</td><td>2: the</td><td>3: elephant</td><td>4: in</td><td>5: his</td><td>6: pyjamas</td></tr>\n",
       "<tr><td>0: He</td><td style=\"border:solid;\" bgcolor=\"white\"><font color=\"black\">Subj: 0.00</font></td><td style=\"border:solid;\" bgcolor=\"#E1E1E1\"></td><td style=\"border:solid;\" bgcolor=\"white\"></td><td style=\"border:solid;\" bgcolor=\"white\"><font color=\"black\">S: -1.90</font></td><td style=\"border:solid;\" bgcolor=\"#C3C3C3\"></td><td style=\"border:solid;\" bgcolor=\"white\"></td><td style=\"border:solid;\" bgcolor=\"white\"></td></tr>\n",
       "<tr><td>1: shot</td><td style=\"border:none;\" bgcolor=\"white\"></td><td style=\"border:solid;\" bgcolor=\"white\"><font color=\"black\">Verb: 0.00</font></td><td style=\"border:solid;\" bgcolor=\"white\"></td><td style=\"border:solid;\" bgcolor=\"white\"><font color=\"black\">VP: -1.90</font></td><td style=\"border:solid;\" bgcolor=\"white\"></td><td style=\"border:solid;\" bgcolor=\"white\"></td><td style=\"border:solid;\" bgcolor=\"white\"></td></tr>\n",
       "<tr><td>2: the</td><td style=\"border:none;\" bgcolor=\"white\"></td><td style=\"border:none;\" bgcolor=\"white\"></td><td style=\"border:solid;\" bgcolor=\"white\"><font color=\"black\">Obj_5: 0.00</font>, <font color=\"black\">Obj_8: 0.00</font></td><td style=\"border:solid;\" bgcolor=\"white\"><font color=\"black\">Obj: -0.69</font></td><td style=\"border:solid;\" bgcolor=\"#E1E1E1\"></td><td style=\"border:solid;\" bgcolor=\"white\"></td><td style=\"border:solid;\" bgcolor=\"white\"></td></tr>\n",
       "<tr><td>3: elephant</td><td style=\"border:none;\" bgcolor=\"white\"></td><td style=\"border:none;\" bgcolor=\"white\"></td><td style=\"border:none;\" bgcolor=\"white\"></td><td style=\"border:solid;\" bgcolor=\"white\"><font color=\"black\">Obj_6: 0.00</font>, <font color=\"black\">Obj_7_9: 0.00</font></td><td style=\"border:solid;\" bgcolor=\"white\"></td><td style=\"border:solid;\" bgcolor=\"white\"></td><td style=\"border:solid;\" bgcolor=\"white\"><font color=\"black\">Obj_7: 0.00</font></td></tr>\n",
       "<tr><td>4: in</td><td style=\"border:none;\" bgcolor=\"white\"></td><td style=\"border:none;\" bgcolor=\"white\"></td><td style=\"border:none;\" bgcolor=\"white\"></td><td style=\"border:none;\" bgcolor=\"white\"></td><td style=\"border:solid;\" bgcolor=\"white\"><font color=\"black\">PP_2: 0.00</font></td><td style=\"border:solid;\" bgcolor=\"white\"></td><td style=\"border:solid;\" bgcolor=\"white\"><font color=\"black\">PP: 0.00</font></td></tr>\n",
       "<tr><td>5: his</td><td style=\"border:none;\" bgcolor=\"white\"></td><td style=\"border:none;\" bgcolor=\"white\"></td><td style=\"border:none;\" bgcolor=\"white\"></td><td style=\"border:none;\" bgcolor=\"white\"></td><td style=\"border:none;\" bgcolor=\"white\"></td><td style=\"border:solid;\" bgcolor=\"white\"><font color=\"black\">PP_1_3: 0.00</font></td><td style=\"border:solid;\" bgcolor=\"white\"><font color=\"black\">PP_1: 0.00</font></td></tr>\n",
       "<tr><td>6: pyjamas</td><td style=\"border:none;\" bgcolor=\"white\"></td><td style=\"border:none;\" bgcolor=\"white\"></td><td style=\"border:none;\" bgcolor=\"white\"></td><td style=\"border:none;\" bgcolor=\"white\"></td><td style=\"border:none;\" bgcolor=\"white\"></td><td style=\"border:none;\" bgcolor=\"white\"></td><td style=\"border:solid;\" bgcolor=\"white\"><font color=\"black\">PP_1_4: 0.00</font></td></tr></table> 71 / 112</div>\n",
       "<div class=\"item\"><table><tr><td></td><td>0: He</td><td>1: shot</td><td>2: the</td><td>3: elephant</td><td>4: in</td><td>5: his</td><td>6: pyjamas</td></tr>\n",
       "<tr><td>0: He</td><td style=\"border:solid;\" bgcolor=\"white\"><font color=\"black\">Subj: 0.00</font></td><td style=\"border:solid;\" bgcolor=\"white\"></td><td style=\"border:solid;\" bgcolor=\"#E1E1E1\"></td><td style=\"border:solid;\" bgcolor=\"white\"><font color=\"black\">S: -1.90</font></td><td style=\"border:solid;\" bgcolor=\"#C3C3C3\"></td><td style=\"border:solid;\" bgcolor=\"white\"></td><td style=\"border:solid;\" bgcolor=\"white\"></td></tr>\n",
       "<tr><td>1: shot</td><td style=\"border:none;\" bgcolor=\"white\"></td><td style=\"border:solid;\" bgcolor=\"white\"><font color=\"black\">Verb: 0.00</font></td><td style=\"border:solid;\" bgcolor=\"white\"></td><td style=\"border:solid;\" bgcolor=\"white\"><font color=\"black\">VP: -1.90</font></td><td style=\"border:solid;\" bgcolor=\"white\"></td><td style=\"border:solid;\" bgcolor=\"white\"></td><td style=\"border:solid;\" bgcolor=\"white\"></td></tr>\n",
       "<tr><td>2: the</td><td style=\"border:none;\" bgcolor=\"white\"></td><td style=\"border:none;\" bgcolor=\"white\"></td><td style=\"border:solid;\" bgcolor=\"white\"><font color=\"black\">Obj_5: 0.00</font>, <font color=\"black\">Obj_8: 0.00</font></td><td style=\"border:solid;\" bgcolor=\"white\"><font color=\"black\">Obj: -0.69</font></td><td style=\"border:solid;\" bgcolor=\"white\"></td><td style=\"border:solid;\" bgcolor=\"white\"></td><td style=\"border:solid;\" bgcolor=\"white\"></td></tr>\n",
       "<tr><td>3: elephant</td><td style=\"border:none;\" bgcolor=\"white\"></td><td style=\"border:none;\" bgcolor=\"white\"></td><td style=\"border:none;\" bgcolor=\"white\"></td><td style=\"border:solid;\" bgcolor=\"white\"><font color=\"black\">Obj_6: 0.00</font>, <font color=\"black\">Obj_7_9: 0.00</font></td><td style=\"border:solid;\" bgcolor=\"#E1E1E1\"></td><td style=\"border:solid;\" bgcolor=\"white\"></td><td style=\"border:solid;\" bgcolor=\"white\"><font color=\"black\">Obj_7: 0.00</font></td></tr>\n",
       "<tr><td>4: in</td><td style=\"border:none;\" bgcolor=\"white\"></td><td style=\"border:none;\" bgcolor=\"white\"></td><td style=\"border:none;\" bgcolor=\"white\"></td><td style=\"border:none;\" bgcolor=\"white\"></td><td style=\"border:solid;\" bgcolor=\"white\"><font color=\"black\">PP_2: 0.00</font></td><td style=\"border:solid;\" bgcolor=\"white\"></td><td style=\"border:solid;\" bgcolor=\"white\"><font color=\"black\">PP: 0.00</font></td></tr>\n",
       "<tr><td>5: his</td><td style=\"border:none;\" bgcolor=\"white\"></td><td style=\"border:none;\" bgcolor=\"white\"></td><td style=\"border:none;\" bgcolor=\"white\"></td><td style=\"border:none;\" bgcolor=\"white\"></td><td style=\"border:none;\" bgcolor=\"white\"></td><td style=\"border:solid;\" bgcolor=\"white\"><font color=\"black\">PP_1_3: 0.00</font></td><td style=\"border:solid;\" bgcolor=\"white\"><font color=\"black\">PP_1: 0.00</font></td></tr>\n",
       "<tr><td>6: pyjamas</td><td style=\"border:none;\" bgcolor=\"white\"></td><td style=\"border:none;\" bgcolor=\"white\"></td><td style=\"border:none;\" bgcolor=\"white\"></td><td style=\"border:none;\" bgcolor=\"white\"></td><td style=\"border:none;\" bgcolor=\"white\"></td><td style=\"border:none;\" bgcolor=\"white\"></td><td style=\"border:solid;\" bgcolor=\"white\"><font color=\"black\">PP_1_4: 0.00</font></td></tr></table> 72 / 112</div>\n",
       "<div class=\"item\"><table><tr><td></td><td>0: He</td><td>1: shot</td><td>2: the</td><td>3: elephant</td><td>4: in</td><td>5: his</td><td>6: pyjamas</td></tr>\n",
       "<tr><td>0: He</td><td style=\"border:solid;\" bgcolor=\"white\"><font color=\"black\">Subj: 0.00</font></td><td style=\"border:solid;\" bgcolor=\"white\"></td><td style=\"border:solid;\" bgcolor=\"white\"></td><td style=\"border:solid;\" bgcolor=\"#E1E1E1\"><font color=\"black\">S: -1.90</font></td><td style=\"border:solid;\" bgcolor=\"#C3C3C3\"></td><td style=\"border:solid;\" bgcolor=\"white\"></td><td style=\"border:solid;\" bgcolor=\"white\"></td></tr>\n",
       "<tr><td>1: shot</td><td style=\"border:none;\" bgcolor=\"white\"></td><td style=\"border:solid;\" bgcolor=\"white\"><font color=\"black\">Verb: 0.00</font></td><td style=\"border:solid;\" bgcolor=\"white\"></td><td style=\"border:solid;\" bgcolor=\"white\"><font color=\"black\">VP: -1.90</font></td><td style=\"border:solid;\" bgcolor=\"white\"></td><td style=\"border:solid;\" bgcolor=\"white\"></td><td style=\"border:solid;\" bgcolor=\"white\"></td></tr>\n",
       "<tr><td>2: the</td><td style=\"border:none;\" bgcolor=\"white\"></td><td style=\"border:none;\" bgcolor=\"white\"></td><td style=\"border:solid;\" bgcolor=\"white\"><font color=\"black\">Obj_5: 0.00</font>, <font color=\"black\">Obj_8: 0.00</font></td><td style=\"border:solid;\" bgcolor=\"white\"><font color=\"black\">Obj: -0.69</font></td><td style=\"border:solid;\" bgcolor=\"white\"></td><td style=\"border:solid;\" bgcolor=\"white\"></td><td style=\"border:solid;\" bgcolor=\"white\"></td></tr>\n",
       "<tr><td>3: elephant</td><td style=\"border:none;\" bgcolor=\"white\"></td><td style=\"border:none;\" bgcolor=\"white\"></td><td style=\"border:none;\" bgcolor=\"white\"></td><td style=\"border:solid;\" bgcolor=\"white\"><font color=\"black\">Obj_6: 0.00</font>, <font color=\"black\">Obj_7_9: 0.00</font></td><td style=\"border:solid;\" bgcolor=\"white\"></td><td style=\"border:solid;\" bgcolor=\"white\"></td><td style=\"border:solid;\" bgcolor=\"white\"><font color=\"black\">Obj_7: 0.00</font></td></tr>\n",
       "<tr><td>4: in</td><td style=\"border:none;\" bgcolor=\"white\"></td><td style=\"border:none;\" bgcolor=\"white\"></td><td style=\"border:none;\" bgcolor=\"white\"></td><td style=\"border:none;\" bgcolor=\"white\"></td><td style=\"border:solid;\" bgcolor=\"#E1E1E1\"><font color=\"black\">PP_2: 0.00</font></td><td style=\"border:solid;\" bgcolor=\"white\"></td><td style=\"border:solid;\" bgcolor=\"white\"><font color=\"black\">PP: 0.00</font></td></tr>\n",
       "<tr><td>5: his</td><td style=\"border:none;\" bgcolor=\"white\"></td><td style=\"border:none;\" bgcolor=\"white\"></td><td style=\"border:none;\" bgcolor=\"white\"></td><td style=\"border:none;\" bgcolor=\"white\"></td><td style=\"border:none;\" bgcolor=\"white\"></td><td style=\"border:solid;\" bgcolor=\"white\"><font color=\"black\">PP_1_3: 0.00</font></td><td style=\"border:solid;\" bgcolor=\"white\"><font color=\"black\">PP_1: 0.00</font></td></tr>\n",
       "<tr><td>6: pyjamas</td><td style=\"border:none;\" bgcolor=\"white\"></td><td style=\"border:none;\" bgcolor=\"white\"></td><td style=\"border:none;\" bgcolor=\"white\"></td><td style=\"border:none;\" bgcolor=\"white\"></td><td style=\"border:none;\" bgcolor=\"white\"></td><td style=\"border:none;\" bgcolor=\"white\"></td><td style=\"border:solid;\" bgcolor=\"white\"><font color=\"black\">PP_1_4: 0.00</font></td></tr></table> 73 / 112</div>\n",
       "<div class=\"item\"><table><tr><td></td><td>0: He</td><td>1: shot</td><td>2: the</td><td>3: elephant</td><td>4: in</td><td>5: his</td><td>6: pyjamas</td></tr>\n",
       "<tr><td>0: He</td><td style=\"border:solid;\" bgcolor=\"white\"><font color=\"black\">Subj: 0.00</font></td><td style=\"border:solid;\" bgcolor=\"white\"></td><td style=\"border:solid;\" bgcolor=\"white\"></td><td style=\"border:solid;\" bgcolor=\"#E1E1E1\"><font color=\"red\">S: -1.90</font></td><td style=\"border:solid;\" bgcolor=\"#C3C3C3\"></td><td style=\"border:solid;\" bgcolor=\"white\"></td><td style=\"border:solid;\" bgcolor=\"white\"></td></tr>\n",
       "<tr><td>1: shot</td><td style=\"border:none;\" bgcolor=\"white\"></td><td style=\"border:solid;\" bgcolor=\"white\"><font color=\"black\">Verb: 0.00</font></td><td style=\"border:solid;\" bgcolor=\"white\"></td><td style=\"border:solid;\" bgcolor=\"white\"><font color=\"black\">VP: -1.90</font></td><td style=\"border:solid;\" bgcolor=\"white\"></td><td style=\"border:solid;\" bgcolor=\"white\"></td><td style=\"border:solid;\" bgcolor=\"white\"></td></tr>\n",
       "<tr><td>2: the</td><td style=\"border:none;\" bgcolor=\"white\"></td><td style=\"border:none;\" bgcolor=\"white\"></td><td style=\"border:solid;\" bgcolor=\"white\"><font color=\"black\">Obj_5: 0.00</font>, <font color=\"black\">Obj_8: 0.00</font></td><td style=\"border:solid;\" bgcolor=\"white\"><font color=\"black\">Obj: -0.69</font></td><td style=\"border:solid;\" bgcolor=\"white\"></td><td style=\"border:solid;\" bgcolor=\"white\"></td><td style=\"border:solid;\" bgcolor=\"white\"></td></tr>\n",
       "<tr><td>3: elephant</td><td style=\"border:none;\" bgcolor=\"white\"></td><td style=\"border:none;\" bgcolor=\"white\"></td><td style=\"border:none;\" bgcolor=\"white\"></td><td style=\"border:solid;\" bgcolor=\"white\"><font color=\"black\">Obj_6: 0.00</font>, <font color=\"black\">Obj_7_9: 0.00</font></td><td style=\"border:solid;\" bgcolor=\"white\"></td><td style=\"border:solid;\" bgcolor=\"white\"></td><td style=\"border:solid;\" bgcolor=\"white\"><font color=\"black\">Obj_7: 0.00</font></td></tr>\n",
       "<tr><td>4: in</td><td style=\"border:none;\" bgcolor=\"white\"></td><td style=\"border:none;\" bgcolor=\"white\"></td><td style=\"border:none;\" bgcolor=\"white\"></td><td style=\"border:none;\" bgcolor=\"white\"></td><td style=\"border:solid;\" bgcolor=\"#E1E1E1\"><font color=\"red\">PP_2: 0.00</font></td><td style=\"border:solid;\" bgcolor=\"white\"></td><td style=\"border:solid;\" bgcolor=\"white\"><font color=\"black\">PP: 0.00</font></td></tr>\n",
       "<tr><td>5: his</td><td style=\"border:none;\" bgcolor=\"white\"></td><td style=\"border:none;\" bgcolor=\"white\"></td><td style=\"border:none;\" bgcolor=\"white\"></td><td style=\"border:none;\" bgcolor=\"white\"></td><td style=\"border:none;\" bgcolor=\"white\"></td><td style=\"border:solid;\" bgcolor=\"white\"><font color=\"black\">PP_1_3: 0.00</font></td><td style=\"border:solid;\" bgcolor=\"white\"><font color=\"black\">PP_1: 0.00</font></td></tr>\n",
       "<tr><td>6: pyjamas</td><td style=\"border:none;\" bgcolor=\"white\"></td><td style=\"border:none;\" bgcolor=\"white\"></td><td style=\"border:none;\" bgcolor=\"white\"></td><td style=\"border:none;\" bgcolor=\"white\"></td><td style=\"border:none;\" bgcolor=\"white\"></td><td style=\"border:none;\" bgcolor=\"white\"></td><td style=\"border:solid;\" bgcolor=\"white\"><font color=\"black\">PP_1_4: 0.00</font></td></tr></table> 74 / 112</div>\n",
       "<div class=\"item\"><table><tr><td></td><td>0: He</td><td>1: shot</td><td>2: the</td><td>3: elephant</td><td>4: in</td><td>5: his</td><td>6: pyjamas</td></tr>\n",
       "<tr><td>0: He</td><td style=\"border:solid;\" bgcolor=\"white\"><font color=\"black\">Subj: 0.00</font></td><td style=\"border:solid;\" bgcolor=\"white\"></td><td style=\"border:solid;\" bgcolor=\"white\"></td><td style=\"border:solid;\" bgcolor=\"white\"><font color=\"black\">S: -1.90</font></td><td style=\"border:solid;\" bgcolor=\"white\"></td><td style=\"border:solid;\" bgcolor=\"white\"></td><td style=\"border:solid;\" bgcolor=\"white\"></td></tr>\n",
       "<tr><td>1: shot</td><td style=\"border:none;\" bgcolor=\"white\"></td><td style=\"border:solid;\" bgcolor=\"#E1E1E1\"><font color=\"black\">Verb: 0.00</font></td><td style=\"border:solid;\" bgcolor=\"white\"></td><td style=\"border:solid;\" bgcolor=\"white\"><font color=\"black\">VP: -1.90</font></td><td style=\"border:solid;\" bgcolor=\"white\"></td><td style=\"border:solid;\" bgcolor=\"#C3C3C3\"></td><td style=\"border:solid;\" bgcolor=\"white\"></td></tr>\n",
       "<tr><td>2: the</td><td style=\"border:none;\" bgcolor=\"white\"></td><td style=\"border:none;\" bgcolor=\"white\"></td><td style=\"border:solid;\" bgcolor=\"white\"><font color=\"black\">Obj_5: 0.00</font>, <font color=\"black\">Obj_8: 0.00</font></td><td style=\"border:solid;\" bgcolor=\"white\"><font color=\"black\">Obj: -0.69</font></td><td style=\"border:solid;\" bgcolor=\"white\"></td><td style=\"border:solid;\" bgcolor=\"#E1E1E1\"></td><td style=\"border:solid;\" bgcolor=\"white\"></td></tr>\n",
       "<tr><td>3: elephant</td><td style=\"border:none;\" bgcolor=\"white\"></td><td style=\"border:none;\" bgcolor=\"white\"></td><td style=\"border:none;\" bgcolor=\"white\"></td><td style=\"border:solid;\" bgcolor=\"white\"><font color=\"black\">Obj_6: 0.00</font>, <font color=\"black\">Obj_7_9: 0.00</font></td><td style=\"border:solid;\" bgcolor=\"white\"></td><td style=\"border:solid;\" bgcolor=\"white\"></td><td style=\"border:solid;\" bgcolor=\"white\"><font color=\"black\">Obj_7: 0.00</font></td></tr>\n",
       "<tr><td>4: in</td><td style=\"border:none;\" bgcolor=\"white\"></td><td style=\"border:none;\" bgcolor=\"white\"></td><td style=\"border:none;\" bgcolor=\"white\"></td><td style=\"border:none;\" bgcolor=\"white\"></td><td style=\"border:solid;\" bgcolor=\"white\"><font color=\"black\">PP_2: 0.00</font></td><td style=\"border:solid;\" bgcolor=\"white\"></td><td style=\"border:solid;\" bgcolor=\"white\"><font color=\"black\">PP: 0.00</font></td></tr>\n",
       "<tr><td>5: his</td><td style=\"border:none;\" bgcolor=\"white\"></td><td style=\"border:none;\" bgcolor=\"white\"></td><td style=\"border:none;\" bgcolor=\"white\"></td><td style=\"border:none;\" bgcolor=\"white\"></td><td style=\"border:none;\" bgcolor=\"white\"></td><td style=\"border:solid;\" bgcolor=\"white\"><font color=\"black\">PP_1_3: 0.00</font></td><td style=\"border:solid;\" bgcolor=\"white\"><font color=\"black\">PP_1: 0.00</font></td></tr>\n",
       "<tr><td>6: pyjamas</td><td style=\"border:none;\" bgcolor=\"white\"></td><td style=\"border:none;\" bgcolor=\"white\"></td><td style=\"border:none;\" bgcolor=\"white\"></td><td style=\"border:none;\" bgcolor=\"white\"></td><td style=\"border:none;\" bgcolor=\"white\"></td><td style=\"border:none;\" bgcolor=\"white\"></td><td style=\"border:solid;\" bgcolor=\"white\"><font color=\"black\">PP_1_4: 0.00</font></td></tr></table> 75 / 112</div>\n",
       "<div class=\"item\"><table><tr><td></td><td>0: He</td><td>1: shot</td><td>2: the</td><td>3: elephant</td><td>4: in</td><td>5: his</td><td>6: pyjamas</td></tr>\n",
       "<tr><td>0: He</td><td style=\"border:solid;\" bgcolor=\"white\"><font color=\"black\">Subj: 0.00</font></td><td style=\"border:solid;\" bgcolor=\"white\"></td><td style=\"border:solid;\" bgcolor=\"white\"></td><td style=\"border:solid;\" bgcolor=\"white\"><font color=\"black\">S: -1.90</font></td><td style=\"border:solid;\" bgcolor=\"white\"></td><td style=\"border:solid;\" bgcolor=\"white\"></td><td style=\"border:solid;\" bgcolor=\"white\"></td></tr>\n",
       "<tr><td>1: shot</td><td style=\"border:none;\" bgcolor=\"white\"></td><td style=\"border:solid;\" bgcolor=\"white\"><font color=\"black\">Verb: 0.00</font></td><td style=\"border:solid;\" bgcolor=\"#E1E1E1\"></td><td style=\"border:solid;\" bgcolor=\"white\"><font color=\"black\">VP: -1.90</font></td><td style=\"border:solid;\" bgcolor=\"white\"></td><td style=\"border:solid;\" bgcolor=\"#C3C3C3\"></td><td style=\"border:solid;\" bgcolor=\"white\"></td></tr>\n",
       "<tr><td>2: the</td><td style=\"border:none;\" bgcolor=\"white\"></td><td style=\"border:none;\" bgcolor=\"white\"></td><td style=\"border:solid;\" bgcolor=\"white\"><font color=\"black\">Obj_5: 0.00</font>, <font color=\"black\">Obj_8: 0.00</font></td><td style=\"border:solid;\" bgcolor=\"white\"><font color=\"black\">Obj: -0.69</font></td><td style=\"border:solid;\" bgcolor=\"white\"></td><td style=\"border:solid;\" bgcolor=\"white\"></td><td style=\"border:solid;\" bgcolor=\"white\"></td></tr>\n",
       "<tr><td>3: elephant</td><td style=\"border:none;\" bgcolor=\"white\"></td><td style=\"border:none;\" bgcolor=\"white\"></td><td style=\"border:none;\" bgcolor=\"white\"></td><td style=\"border:solid;\" bgcolor=\"white\"><font color=\"black\">Obj_6: 0.00</font>, <font color=\"black\">Obj_7_9: 0.00</font></td><td style=\"border:solid;\" bgcolor=\"white\"></td><td style=\"border:solid;\" bgcolor=\"#E1E1E1\"></td><td style=\"border:solid;\" bgcolor=\"white\"><font color=\"black\">Obj_7: 0.00</font></td></tr>\n",
       "<tr><td>4: in</td><td style=\"border:none;\" bgcolor=\"white\"></td><td style=\"border:none;\" bgcolor=\"white\"></td><td style=\"border:none;\" bgcolor=\"white\"></td><td style=\"border:none;\" bgcolor=\"white\"></td><td style=\"border:solid;\" bgcolor=\"white\"><font color=\"black\">PP_2: 0.00</font></td><td style=\"border:solid;\" bgcolor=\"white\"></td><td style=\"border:solid;\" bgcolor=\"white\"><font color=\"black\">PP: 0.00</font></td></tr>\n",
       "<tr><td>5: his</td><td style=\"border:none;\" bgcolor=\"white\"></td><td style=\"border:none;\" bgcolor=\"white\"></td><td style=\"border:none;\" bgcolor=\"white\"></td><td style=\"border:none;\" bgcolor=\"white\"></td><td style=\"border:none;\" bgcolor=\"white\"></td><td style=\"border:solid;\" bgcolor=\"white\"><font color=\"black\">PP_1_3: 0.00</font></td><td style=\"border:solid;\" bgcolor=\"white\"><font color=\"black\">PP_1: 0.00</font></td></tr>\n",
       "<tr><td>6: pyjamas</td><td style=\"border:none;\" bgcolor=\"white\"></td><td style=\"border:none;\" bgcolor=\"white\"></td><td style=\"border:none;\" bgcolor=\"white\"></td><td style=\"border:none;\" bgcolor=\"white\"></td><td style=\"border:none;\" bgcolor=\"white\"></td><td style=\"border:none;\" bgcolor=\"white\"></td><td style=\"border:solid;\" bgcolor=\"white\"><font color=\"black\">PP_1_4: 0.00</font></td></tr></table> 76 / 112</div>\n",
       "<div class=\"item\"><table><tr><td></td><td>0: He</td><td>1: shot</td><td>2: the</td><td>3: elephant</td><td>4: in</td><td>5: his</td><td>6: pyjamas</td></tr>\n",
       "<tr><td>0: He</td><td style=\"border:solid;\" bgcolor=\"white\"><font color=\"black\">Subj: 0.00</font></td><td style=\"border:solid;\" bgcolor=\"white\"></td><td style=\"border:solid;\" bgcolor=\"white\"></td><td style=\"border:solid;\" bgcolor=\"white\"><font color=\"black\">S: -1.90</font></td><td style=\"border:solid;\" bgcolor=\"white\"></td><td style=\"border:solid;\" bgcolor=\"white\"></td><td style=\"border:solid;\" bgcolor=\"white\"></td></tr>\n",
       "<tr><td>1: shot</td><td style=\"border:none;\" bgcolor=\"white\"></td><td style=\"border:solid;\" bgcolor=\"white\"><font color=\"black\">Verb: 0.00</font></td><td style=\"border:solid;\" bgcolor=\"white\"></td><td style=\"border:solid;\" bgcolor=\"#E1E1E1\"><font color=\"black\">VP: -1.90</font></td><td style=\"border:solid;\" bgcolor=\"white\"></td><td style=\"border:solid;\" bgcolor=\"#C3C3C3\"></td><td style=\"border:solid;\" bgcolor=\"white\"></td></tr>\n",
       "<tr><td>2: the</td><td style=\"border:none;\" bgcolor=\"white\"></td><td style=\"border:none;\" bgcolor=\"white\"></td><td style=\"border:solid;\" bgcolor=\"white\"><font color=\"black\">Obj_5: 0.00</font>, <font color=\"black\">Obj_8: 0.00</font></td><td style=\"border:solid;\" bgcolor=\"white\"><font color=\"black\">Obj: -0.69</font></td><td style=\"border:solid;\" bgcolor=\"white\"></td><td style=\"border:solid;\" bgcolor=\"white\"></td><td style=\"border:solid;\" bgcolor=\"white\"></td></tr>\n",
       "<tr><td>3: elephant</td><td style=\"border:none;\" bgcolor=\"white\"></td><td style=\"border:none;\" bgcolor=\"white\"></td><td style=\"border:none;\" bgcolor=\"white\"></td><td style=\"border:solid;\" bgcolor=\"white\"><font color=\"black\">Obj_6: 0.00</font>, <font color=\"black\">Obj_7_9: 0.00</font></td><td style=\"border:solid;\" bgcolor=\"white\"></td><td style=\"border:solid;\" bgcolor=\"white\"></td><td style=\"border:solid;\" bgcolor=\"white\"><font color=\"black\">Obj_7: 0.00</font></td></tr>\n",
       "<tr><td>4: in</td><td style=\"border:none;\" bgcolor=\"white\"></td><td style=\"border:none;\" bgcolor=\"white\"></td><td style=\"border:none;\" bgcolor=\"white\"></td><td style=\"border:none;\" bgcolor=\"white\"></td><td style=\"border:solid;\" bgcolor=\"white\"><font color=\"black\">PP_2: 0.00</font></td><td style=\"border:solid;\" bgcolor=\"#E1E1E1\"></td><td style=\"border:solid;\" bgcolor=\"white\"><font color=\"black\">PP: 0.00</font></td></tr>\n",
       "<tr><td>5: his</td><td style=\"border:none;\" bgcolor=\"white\"></td><td style=\"border:none;\" bgcolor=\"white\"></td><td style=\"border:none;\" bgcolor=\"white\"></td><td style=\"border:none;\" bgcolor=\"white\"></td><td style=\"border:none;\" bgcolor=\"white\"></td><td style=\"border:solid;\" bgcolor=\"white\"><font color=\"black\">PP_1_3: 0.00</font></td><td style=\"border:solid;\" bgcolor=\"white\"><font color=\"black\">PP_1: 0.00</font></td></tr>\n",
       "<tr><td>6: pyjamas</td><td style=\"border:none;\" bgcolor=\"white\"></td><td style=\"border:none;\" bgcolor=\"white\"></td><td style=\"border:none;\" bgcolor=\"white\"></td><td style=\"border:none;\" bgcolor=\"white\"></td><td style=\"border:none;\" bgcolor=\"white\"></td><td style=\"border:none;\" bgcolor=\"white\"></td><td style=\"border:solid;\" bgcolor=\"white\"><font color=\"black\">PP_1_4: 0.00</font></td></tr></table> 77 / 112</div>\n",
       "<div class=\"item\"><table><tr><td></td><td>0: He</td><td>1: shot</td><td>2: the</td><td>3: elephant</td><td>4: in</td><td>5: his</td><td>6: pyjamas</td></tr>\n",
       "<tr><td>0: He</td><td style=\"border:solid;\" bgcolor=\"white\"><font color=\"black\">Subj: 0.00</font></td><td style=\"border:solid;\" bgcolor=\"white\"></td><td style=\"border:solid;\" bgcolor=\"white\"></td><td style=\"border:solid;\" bgcolor=\"white\"><font color=\"black\">S: -1.90</font></td><td style=\"border:solid;\" bgcolor=\"white\"></td><td style=\"border:solid;\" bgcolor=\"white\"></td><td style=\"border:solid;\" bgcolor=\"white\"></td></tr>\n",
       "<tr><td>1: shot</td><td style=\"border:none;\" bgcolor=\"white\"></td><td style=\"border:solid;\" bgcolor=\"white\"><font color=\"black\">Verb: 0.00</font></td><td style=\"border:solid;\" bgcolor=\"white\"></td><td style=\"border:solid;\" bgcolor=\"white\"><font color=\"black\">VP: -1.90</font></td><td style=\"border:solid;\" bgcolor=\"#E1E1E1\"></td><td style=\"border:solid;\" bgcolor=\"#C3C3C3\"></td><td style=\"border:solid;\" bgcolor=\"white\"></td></tr>\n",
       "<tr><td>2: the</td><td style=\"border:none;\" bgcolor=\"white\"></td><td style=\"border:none;\" bgcolor=\"white\"></td><td style=\"border:solid;\" bgcolor=\"white\"><font color=\"black\">Obj_5: 0.00</font>, <font color=\"black\">Obj_8: 0.00</font></td><td style=\"border:solid;\" bgcolor=\"white\"><font color=\"black\">Obj: -0.69</font></td><td style=\"border:solid;\" bgcolor=\"white\"></td><td style=\"border:solid;\" bgcolor=\"white\"></td><td style=\"border:solid;\" bgcolor=\"white\"></td></tr>\n",
       "<tr><td>3: elephant</td><td style=\"border:none;\" bgcolor=\"white\"></td><td style=\"border:none;\" bgcolor=\"white\"></td><td style=\"border:none;\" bgcolor=\"white\"></td><td style=\"border:solid;\" bgcolor=\"white\"><font color=\"black\">Obj_6: 0.00</font>, <font color=\"black\">Obj_7_9: 0.00</font></td><td style=\"border:solid;\" bgcolor=\"white\"></td><td style=\"border:solid;\" bgcolor=\"white\"></td><td style=\"border:solid;\" bgcolor=\"white\"><font color=\"black\">Obj_7: 0.00</font></td></tr>\n",
       "<tr><td>4: in</td><td style=\"border:none;\" bgcolor=\"white\"></td><td style=\"border:none;\" bgcolor=\"white\"></td><td style=\"border:none;\" bgcolor=\"white\"></td><td style=\"border:none;\" bgcolor=\"white\"></td><td style=\"border:solid;\" bgcolor=\"white\"><font color=\"black\">PP_2: 0.00</font></td><td style=\"border:solid;\" bgcolor=\"white\"></td><td style=\"border:solid;\" bgcolor=\"white\"><font color=\"black\">PP: 0.00</font></td></tr>\n",
       "<tr><td>5: his</td><td style=\"border:none;\" bgcolor=\"white\"></td><td style=\"border:none;\" bgcolor=\"white\"></td><td style=\"border:none;\" bgcolor=\"white\"></td><td style=\"border:none;\" bgcolor=\"white\"></td><td style=\"border:none;\" bgcolor=\"white\"></td><td style=\"border:solid;\" bgcolor=\"#E1E1E1\"><font color=\"black\">PP_1_3: 0.00</font></td><td style=\"border:solid;\" bgcolor=\"white\"><font color=\"black\">PP_1: 0.00</font></td></tr>\n",
       "<tr><td>6: pyjamas</td><td style=\"border:none;\" bgcolor=\"white\"></td><td style=\"border:none;\" bgcolor=\"white\"></td><td style=\"border:none;\" bgcolor=\"white\"></td><td style=\"border:none;\" bgcolor=\"white\"></td><td style=\"border:none;\" bgcolor=\"white\"></td><td style=\"border:none;\" bgcolor=\"white\"></td><td style=\"border:solid;\" bgcolor=\"white\"><font color=\"black\">PP_1_4: 0.00</font></td></tr></table> 78 / 112</div>\n",
       "<div class=\"item\"><table><tr><td></td><td>0: He</td><td>1: shot</td><td>2: the</td><td>3: elephant</td><td>4: in</td><td>5: his</td><td>6: pyjamas</td></tr>\n",
       "<tr><td>0: He</td><td style=\"border:solid;\" bgcolor=\"white\"><font color=\"black\">Subj: 0.00</font></td><td style=\"border:solid;\" bgcolor=\"white\"></td><td style=\"border:solid;\" bgcolor=\"white\"></td><td style=\"border:solid;\" bgcolor=\"white\"><font color=\"black\">S: -1.90</font></td><td style=\"border:solid;\" bgcolor=\"white\"></td><td style=\"border:solid;\" bgcolor=\"white\"></td><td style=\"border:solid;\" bgcolor=\"white\"></td></tr>\n",
       "<tr><td>1: shot</td><td style=\"border:none;\" bgcolor=\"white\"></td><td style=\"border:solid;\" bgcolor=\"white\"><font color=\"black\">Verb: 0.00</font></td><td style=\"border:solid;\" bgcolor=\"white\"></td><td style=\"border:solid;\" bgcolor=\"white\"><font color=\"black\">VP: -1.90</font></td><td style=\"border:solid;\" bgcolor=\"white\"></td><td style=\"border:solid;\" bgcolor=\"white\"></td><td style=\"border:solid;\" bgcolor=\"white\"></td></tr>\n",
       "<tr><td>2: the</td><td style=\"border:none;\" bgcolor=\"white\"></td><td style=\"border:none;\" bgcolor=\"white\"></td><td style=\"border:solid;\" bgcolor=\"#E1E1E1\"><font color=\"black\">Obj_5: 0.00</font>, <font color=\"black\">Obj_8: 0.00</font></td><td style=\"border:solid;\" bgcolor=\"white\"><font color=\"black\">Obj: -0.69</font></td><td style=\"border:solid;\" bgcolor=\"white\"></td><td style=\"border:solid;\" bgcolor=\"white\"></td><td style=\"border:solid;\" bgcolor=\"#C3C3C3\"></td></tr>\n",
       "<tr><td>3: elephant</td><td style=\"border:none;\" bgcolor=\"white\"></td><td style=\"border:none;\" bgcolor=\"white\"></td><td style=\"border:none;\" bgcolor=\"white\"></td><td style=\"border:solid;\" bgcolor=\"white\"><font color=\"black\">Obj_6: 0.00</font>, <font color=\"black\">Obj_7_9: 0.00</font></td><td style=\"border:solid;\" bgcolor=\"white\"></td><td style=\"border:solid;\" bgcolor=\"white\"></td><td style=\"border:solid;\" bgcolor=\"#E1E1E1\"><font color=\"black\">Obj_7: 0.00</font></td></tr>\n",
       "<tr><td>4: in</td><td style=\"border:none;\" bgcolor=\"white\"></td><td style=\"border:none;\" bgcolor=\"white\"></td><td style=\"border:none;\" bgcolor=\"white\"></td><td style=\"border:none;\" bgcolor=\"white\"></td><td style=\"border:solid;\" bgcolor=\"white\"><font color=\"black\">PP_2: 0.00</font></td><td style=\"border:solid;\" bgcolor=\"white\"></td><td style=\"border:solid;\" bgcolor=\"white\"><font color=\"black\">PP: 0.00</font></td></tr>\n",
       "<tr><td>5: his</td><td style=\"border:none;\" bgcolor=\"white\"></td><td style=\"border:none;\" bgcolor=\"white\"></td><td style=\"border:none;\" bgcolor=\"white\"></td><td style=\"border:none;\" bgcolor=\"white\"></td><td style=\"border:none;\" bgcolor=\"white\"></td><td style=\"border:solid;\" bgcolor=\"white\"><font color=\"black\">PP_1_3: 0.00</font></td><td style=\"border:solid;\" bgcolor=\"white\"><font color=\"black\">PP_1: 0.00</font></td></tr>\n",
       "<tr><td>6: pyjamas</td><td style=\"border:none;\" bgcolor=\"white\"></td><td style=\"border:none;\" bgcolor=\"white\"></td><td style=\"border:none;\" bgcolor=\"white\"></td><td style=\"border:none;\" bgcolor=\"white\"></td><td style=\"border:none;\" bgcolor=\"white\"></td><td style=\"border:none;\" bgcolor=\"white\"></td><td style=\"border:solid;\" bgcolor=\"white\"><font color=\"black\">PP_1_4: 0.00</font></td></tr></table> 79 / 112</div>\n",
       "<div class=\"item\"><table><tr><td></td><td>0: He</td><td>1: shot</td><td>2: the</td><td>3: elephant</td><td>4: in</td><td>5: his</td><td>6: pyjamas</td></tr>\n",
       "<tr><td>0: He</td><td style=\"border:solid;\" bgcolor=\"white\"><font color=\"black\">Subj: 0.00</font></td><td style=\"border:solid;\" bgcolor=\"white\"></td><td style=\"border:solid;\" bgcolor=\"white\"></td><td style=\"border:solid;\" bgcolor=\"white\"><font color=\"black\">S: -1.90</font></td><td style=\"border:solid;\" bgcolor=\"white\"></td><td style=\"border:solid;\" bgcolor=\"white\"></td><td style=\"border:solid;\" bgcolor=\"white\"></td></tr>\n",
       "<tr><td>1: shot</td><td style=\"border:none;\" bgcolor=\"white\"></td><td style=\"border:solid;\" bgcolor=\"white\"><font color=\"black\">Verb: 0.00</font></td><td style=\"border:solid;\" bgcolor=\"white\"></td><td style=\"border:solid;\" bgcolor=\"white\"><font color=\"black\">VP: -1.90</font></td><td style=\"border:solid;\" bgcolor=\"white\"></td><td style=\"border:solid;\" bgcolor=\"white\"></td><td style=\"border:solid;\" bgcolor=\"white\"></td></tr>\n",
       "<tr><td>2: the</td><td style=\"border:none;\" bgcolor=\"white\"></td><td style=\"border:none;\" bgcolor=\"white\"></td><td style=\"border:solid;\" bgcolor=\"#E1E1E1\"><font color=\"red\">Obj_5: 0.00</font>, <font color=\"black\">Obj_8: 0.00</font></td><td style=\"border:solid;\" bgcolor=\"white\"><font color=\"black\">Obj: -0.69</font></td><td style=\"border:solid;\" bgcolor=\"white\"></td><td style=\"border:solid;\" bgcolor=\"white\"></td><td style=\"border:solid;\" bgcolor=\"#C3C3C3\"></td></tr>\n",
       "<tr><td>3: elephant</td><td style=\"border:none;\" bgcolor=\"white\"></td><td style=\"border:none;\" bgcolor=\"white\"></td><td style=\"border:none;\" bgcolor=\"white\"></td><td style=\"border:solid;\" bgcolor=\"white\"><font color=\"black\">Obj_6: 0.00</font>, <font color=\"black\">Obj_7_9: 0.00</font></td><td style=\"border:solid;\" bgcolor=\"white\"></td><td style=\"border:solid;\" bgcolor=\"white\"></td><td style=\"border:solid;\" bgcolor=\"#E1E1E1\"><font color=\"red\">Obj_7: 0.00</font></td></tr>\n",
       "<tr><td>4: in</td><td style=\"border:none;\" bgcolor=\"white\"></td><td style=\"border:none;\" bgcolor=\"white\"></td><td style=\"border:none;\" bgcolor=\"white\"></td><td style=\"border:none;\" bgcolor=\"white\"></td><td style=\"border:solid;\" bgcolor=\"white\"><font color=\"black\">PP_2: 0.00</font></td><td style=\"border:solid;\" bgcolor=\"white\"></td><td style=\"border:solid;\" bgcolor=\"white\"><font color=\"black\">PP: 0.00</font></td></tr>\n",
       "<tr><td>5: his</td><td style=\"border:none;\" bgcolor=\"white\"></td><td style=\"border:none;\" bgcolor=\"white\"></td><td style=\"border:none;\" bgcolor=\"white\"></td><td style=\"border:none;\" bgcolor=\"white\"></td><td style=\"border:none;\" bgcolor=\"white\"></td><td style=\"border:solid;\" bgcolor=\"white\"><font color=\"black\">PP_1_3: 0.00</font></td><td style=\"border:solid;\" bgcolor=\"white\"><font color=\"black\">PP_1: 0.00</font></td></tr>\n",
       "<tr><td>6: pyjamas</td><td style=\"border:none;\" bgcolor=\"white\"></td><td style=\"border:none;\" bgcolor=\"white\"></td><td style=\"border:none;\" bgcolor=\"white\"></td><td style=\"border:none;\" bgcolor=\"white\"></td><td style=\"border:none;\" bgcolor=\"white\"></td><td style=\"border:none;\" bgcolor=\"white\"></td><td style=\"border:solid;\" bgcolor=\"white\"><font color=\"black\">PP_1_4: 0.00</font></td></tr></table> 80 / 112</div>\n",
       "<div class=\"item\"><table><tr><td></td><td>0: He</td><td>1: shot</td><td>2: the</td><td>3: elephant</td><td>4: in</td><td>5: his</td><td>6: pyjamas</td></tr>\n",
       "<tr><td>0: He</td><td style=\"border:solid;\" bgcolor=\"white\"><font color=\"black\">Subj: 0.00</font></td><td style=\"border:solid;\" bgcolor=\"white\"></td><td style=\"border:solid;\" bgcolor=\"white\"></td><td style=\"border:solid;\" bgcolor=\"white\"><font color=\"black\">S: -1.90</font></td><td style=\"border:solid;\" bgcolor=\"white\"></td><td style=\"border:solid;\" bgcolor=\"white\"></td><td style=\"border:solid;\" bgcolor=\"white\"></td></tr>\n",
       "<tr><td>1: shot</td><td style=\"border:none;\" bgcolor=\"white\"></td><td style=\"border:solid;\" bgcolor=\"white\"><font color=\"black\">Verb: 0.00</font></td><td style=\"border:solid;\" bgcolor=\"white\"></td><td style=\"border:solid;\" bgcolor=\"white\"><font color=\"black\">VP: -1.90</font></td><td style=\"border:solid;\" bgcolor=\"white\"></td><td style=\"border:solid;\" bgcolor=\"white\"></td><td style=\"border:solid;\" bgcolor=\"white\"></td></tr>\n",
       "<tr><td>2: the</td><td style=\"border:none;\" bgcolor=\"white\"></td><td style=\"border:none;\" bgcolor=\"white\"></td><td style=\"border:solid;\" bgcolor=\"#E1E1E1\"><font color=\"black\">Obj_5: 0.00</font>, <font color=\"red\">Obj_8: 0.00</font></td><td style=\"border:solid;\" bgcolor=\"white\"><font color=\"black\">Obj: -0.69</font></td><td style=\"border:solid;\" bgcolor=\"white\"></td><td style=\"border:solid;\" bgcolor=\"white\"></td><td style=\"border:solid;\" bgcolor=\"#C3C3C3\"></td></tr>\n",
       "<tr><td>3: elephant</td><td style=\"border:none;\" bgcolor=\"white\"></td><td style=\"border:none;\" bgcolor=\"white\"></td><td style=\"border:none;\" bgcolor=\"white\"></td><td style=\"border:solid;\" bgcolor=\"white\"><font color=\"black\">Obj_6: 0.00</font>, <font color=\"black\">Obj_7_9: 0.00</font></td><td style=\"border:solid;\" bgcolor=\"white\"></td><td style=\"border:solid;\" bgcolor=\"white\"></td><td style=\"border:solid;\" bgcolor=\"#E1E1E1\"><font color=\"red\">Obj_7: 0.00</font></td></tr>\n",
       "<tr><td>4: in</td><td style=\"border:none;\" bgcolor=\"white\"></td><td style=\"border:none;\" bgcolor=\"white\"></td><td style=\"border:none;\" bgcolor=\"white\"></td><td style=\"border:none;\" bgcolor=\"white\"></td><td style=\"border:solid;\" bgcolor=\"white\"><font color=\"black\">PP_2: 0.00</font></td><td style=\"border:solid;\" bgcolor=\"white\"></td><td style=\"border:solid;\" bgcolor=\"white\"><font color=\"black\">PP: 0.00</font></td></tr>\n",
       "<tr><td>5: his</td><td style=\"border:none;\" bgcolor=\"white\"></td><td style=\"border:none;\" bgcolor=\"white\"></td><td style=\"border:none;\" bgcolor=\"white\"></td><td style=\"border:none;\" bgcolor=\"white\"></td><td style=\"border:none;\" bgcolor=\"white\"></td><td style=\"border:solid;\" bgcolor=\"white\"><font color=\"black\">PP_1_3: 0.00</font></td><td style=\"border:solid;\" bgcolor=\"white\"><font color=\"black\">PP_1: 0.00</font></td></tr>\n",
       "<tr><td>6: pyjamas</td><td style=\"border:none;\" bgcolor=\"white\"></td><td style=\"border:none;\" bgcolor=\"white\"></td><td style=\"border:none;\" bgcolor=\"white\"></td><td style=\"border:none;\" bgcolor=\"white\"></td><td style=\"border:none;\" bgcolor=\"white\"></td><td style=\"border:none;\" bgcolor=\"white\"></td><td style=\"border:solid;\" bgcolor=\"white\"><font color=\"black\">PP_1_4: 0.00</font></td></tr></table> 81 / 112</div>\n",
       "<div class=\"item\"><table><tr><td></td><td>0: He</td><td>1: shot</td><td>2: the</td><td>3: elephant</td><td>4: in</td><td>5: his</td><td>6: pyjamas</td></tr>\n",
       "<tr><td>0: He</td><td style=\"border:solid;\" bgcolor=\"white\"><font color=\"black\">Subj: 0.00</font></td><td style=\"border:solid;\" bgcolor=\"white\"></td><td style=\"border:solid;\" bgcolor=\"white\"></td><td style=\"border:solid;\" bgcolor=\"white\"><font color=\"black\">S: -1.90</font></td><td style=\"border:solid;\" bgcolor=\"white\"></td><td style=\"border:solid;\" bgcolor=\"white\"></td><td style=\"border:solid;\" bgcolor=\"white\"></td></tr>\n",
       "<tr><td>1: shot</td><td style=\"border:none;\" bgcolor=\"white\"></td><td style=\"border:solid;\" bgcolor=\"white\"><font color=\"black\">Verb: 0.00</font></td><td style=\"border:solid;\" bgcolor=\"white\"></td><td style=\"border:solid;\" bgcolor=\"white\"><font color=\"black\">VP: -1.90</font></td><td style=\"border:solid;\" bgcolor=\"white\"></td><td style=\"border:solid;\" bgcolor=\"white\"></td><td style=\"border:solid;\" bgcolor=\"white\"></td></tr>\n",
       "<tr><td>2: the</td><td style=\"border:none;\" bgcolor=\"white\"></td><td style=\"border:none;\" bgcolor=\"white\"></td><td style=\"border:solid;\" bgcolor=\"#E1E1E1\"><font color=\"black\">Obj_5: 0.00</font>, <font color=\"red\">Obj_8: 0.00</font></td><td style=\"border:solid;\" bgcolor=\"white\"><font color=\"black\">Obj: -0.69</font></td><td style=\"border:solid;\" bgcolor=\"white\"></td><td style=\"border:solid;\" bgcolor=\"white\"></td><td style=\"border:solid;\" bgcolor=\"#C3C3C3\"><font color=\"blue\">Obj: -0.69</font></td></tr>\n",
       "<tr><td>3: elephant</td><td style=\"border:none;\" bgcolor=\"white\"></td><td style=\"border:none;\" bgcolor=\"white\"></td><td style=\"border:none;\" bgcolor=\"white\"></td><td style=\"border:solid;\" bgcolor=\"white\"><font color=\"black\">Obj_6: 0.00</font>, <font color=\"black\">Obj_7_9: 0.00</font></td><td style=\"border:solid;\" bgcolor=\"white\"></td><td style=\"border:solid;\" bgcolor=\"white\"></td><td style=\"border:solid;\" bgcolor=\"#E1E1E1\"><font color=\"red\">Obj_7: 0.00</font></td></tr>\n",
       "<tr><td>4: in</td><td style=\"border:none;\" bgcolor=\"white\"></td><td style=\"border:none;\" bgcolor=\"white\"></td><td style=\"border:none;\" bgcolor=\"white\"></td><td style=\"border:none;\" bgcolor=\"white\"></td><td style=\"border:solid;\" bgcolor=\"white\"><font color=\"black\">PP_2: 0.00</font></td><td style=\"border:solid;\" bgcolor=\"white\"></td><td style=\"border:solid;\" bgcolor=\"white\"><font color=\"black\">PP: 0.00</font></td></tr>\n",
       "<tr><td>5: his</td><td style=\"border:none;\" bgcolor=\"white\"></td><td style=\"border:none;\" bgcolor=\"white\"></td><td style=\"border:none;\" bgcolor=\"white\"></td><td style=\"border:none;\" bgcolor=\"white\"></td><td style=\"border:none;\" bgcolor=\"white\"></td><td style=\"border:solid;\" bgcolor=\"white\"><font color=\"black\">PP_1_3: 0.00</font></td><td style=\"border:solid;\" bgcolor=\"white\"><font color=\"black\">PP_1: 0.00</font></td></tr>\n",
       "<tr><td>6: pyjamas</td><td style=\"border:none;\" bgcolor=\"white\"></td><td style=\"border:none;\" bgcolor=\"white\"></td><td style=\"border:none;\" bgcolor=\"white\"></td><td style=\"border:none;\" bgcolor=\"white\"></td><td style=\"border:none;\" bgcolor=\"white\"></td><td style=\"border:none;\" bgcolor=\"white\"></td><td style=\"border:solid;\" bgcolor=\"white\"><font color=\"black\">PP_1_4: 0.00</font></td></tr></table> 82 / 112</div>\n",
       "<div class=\"item\"><table><tr><td></td><td>0: He</td><td>1: shot</td><td>2: the</td><td>3: elephant</td><td>4: in</td><td>5: his</td><td>6: pyjamas</td></tr>\n",
       "<tr><td>0: He</td><td style=\"border:solid;\" bgcolor=\"white\"><font color=\"black\">Subj: 0.00</font></td><td style=\"border:solid;\" bgcolor=\"white\"></td><td style=\"border:solid;\" bgcolor=\"white\"></td><td style=\"border:solid;\" bgcolor=\"white\"><font color=\"black\">S: -1.90</font></td><td style=\"border:solid;\" bgcolor=\"white\"></td><td style=\"border:solid;\" bgcolor=\"white\"></td><td style=\"border:solid;\" bgcolor=\"white\"></td></tr>\n",
       "<tr><td>1: shot</td><td style=\"border:none;\" bgcolor=\"white\"></td><td style=\"border:solid;\" bgcolor=\"white\"><font color=\"black\">Verb: 0.00</font></td><td style=\"border:solid;\" bgcolor=\"white\"></td><td style=\"border:solid;\" bgcolor=\"white\"><font color=\"black\">VP: -1.90</font></td><td style=\"border:solid;\" bgcolor=\"white\"></td><td style=\"border:solid;\" bgcolor=\"white\"></td><td style=\"border:solid;\" bgcolor=\"white\"></td></tr>\n",
       "<tr><td>2: the</td><td style=\"border:none;\" bgcolor=\"white\"></td><td style=\"border:none;\" bgcolor=\"white\"></td><td style=\"border:solid;\" bgcolor=\"white\"><font color=\"black\">Obj_5: 0.00</font>, <font color=\"black\">Obj_8: 0.00</font></td><td style=\"border:solid;\" bgcolor=\"#E1E1E1\"><font color=\"black\">Obj: -0.69</font></td><td style=\"border:solid;\" bgcolor=\"white\"></td><td style=\"border:solid;\" bgcolor=\"white\"></td><td style=\"border:solid;\" bgcolor=\"#C3C3C3\"><font color=\"black\">Obj: -0.69</font></td></tr>\n",
       "<tr><td>3: elephant</td><td style=\"border:none;\" bgcolor=\"white\"></td><td style=\"border:none;\" bgcolor=\"white\"></td><td style=\"border:none;\" bgcolor=\"white\"></td><td style=\"border:solid;\" bgcolor=\"white\"><font color=\"black\">Obj_6: 0.00</font>, <font color=\"black\">Obj_7_9: 0.00</font></td><td style=\"border:solid;\" bgcolor=\"white\"></td><td style=\"border:solid;\" bgcolor=\"white\"></td><td style=\"border:solid;\" bgcolor=\"white\"><font color=\"black\">Obj_7: 0.00</font></td></tr>\n",
       "<tr><td>4: in</td><td style=\"border:none;\" bgcolor=\"white\"></td><td style=\"border:none;\" bgcolor=\"white\"></td><td style=\"border:none;\" bgcolor=\"white\"></td><td style=\"border:none;\" bgcolor=\"white\"></td><td style=\"border:solid;\" bgcolor=\"white\"><font color=\"black\">PP_2: 0.00</font></td><td style=\"border:solid;\" bgcolor=\"white\"></td><td style=\"border:solid;\" bgcolor=\"#E1E1E1\"><font color=\"black\">PP: 0.00</font></td></tr>\n",
       "<tr><td>5: his</td><td style=\"border:none;\" bgcolor=\"white\"></td><td style=\"border:none;\" bgcolor=\"white\"></td><td style=\"border:none;\" bgcolor=\"white\"></td><td style=\"border:none;\" bgcolor=\"white\"></td><td style=\"border:none;\" bgcolor=\"white\"></td><td style=\"border:solid;\" bgcolor=\"white\"><font color=\"black\">PP_1_3: 0.00</font></td><td style=\"border:solid;\" bgcolor=\"white\"><font color=\"black\">PP_1: 0.00</font></td></tr>\n",
       "<tr><td>6: pyjamas</td><td style=\"border:none;\" bgcolor=\"white\"></td><td style=\"border:none;\" bgcolor=\"white\"></td><td style=\"border:none;\" bgcolor=\"white\"></td><td style=\"border:none;\" bgcolor=\"white\"></td><td style=\"border:none;\" bgcolor=\"white\"></td><td style=\"border:none;\" bgcolor=\"white\"></td><td style=\"border:solid;\" bgcolor=\"white\"><font color=\"black\">PP_1_4: 0.00</font></td></tr></table> 83 / 112</div>\n",
       "<div class=\"item\"><table><tr><td></td><td>0: He</td><td>1: shot</td><td>2: the</td><td>3: elephant</td><td>4: in</td><td>5: his</td><td>6: pyjamas</td></tr>\n",
       "<tr><td>0: He</td><td style=\"border:solid;\" bgcolor=\"white\"><font color=\"black\">Subj: 0.00</font></td><td style=\"border:solid;\" bgcolor=\"white\"></td><td style=\"border:solid;\" bgcolor=\"white\"></td><td style=\"border:solid;\" bgcolor=\"white\"><font color=\"black\">S: -1.90</font></td><td style=\"border:solid;\" bgcolor=\"white\"></td><td style=\"border:solid;\" bgcolor=\"white\"></td><td style=\"border:solid;\" bgcolor=\"white\"></td></tr>\n",
       "<tr><td>1: shot</td><td style=\"border:none;\" bgcolor=\"white\"></td><td style=\"border:solid;\" bgcolor=\"white\"><font color=\"black\">Verb: 0.00</font></td><td style=\"border:solid;\" bgcolor=\"white\"></td><td style=\"border:solid;\" bgcolor=\"white\"><font color=\"black\">VP: -1.90</font></td><td style=\"border:solid;\" bgcolor=\"white\"></td><td style=\"border:solid;\" bgcolor=\"white\"></td><td style=\"border:solid;\" bgcolor=\"white\"></td></tr>\n",
       "<tr><td>2: the</td><td style=\"border:none;\" bgcolor=\"white\"></td><td style=\"border:none;\" bgcolor=\"white\"></td><td style=\"border:solid;\" bgcolor=\"white\"><font color=\"black\">Obj_5: 0.00</font>, <font color=\"black\">Obj_8: 0.00</font></td><td style=\"border:solid;\" bgcolor=\"#E1E1E1\"><font color=\"red\">Obj: -0.69</font></td><td style=\"border:solid;\" bgcolor=\"white\"></td><td style=\"border:solid;\" bgcolor=\"white\"></td><td style=\"border:solid;\" bgcolor=\"#C3C3C3\"><font color=\"black\">Obj: -0.69</font></td></tr>\n",
       "<tr><td>3: elephant</td><td style=\"border:none;\" bgcolor=\"white\"></td><td style=\"border:none;\" bgcolor=\"white\"></td><td style=\"border:none;\" bgcolor=\"white\"></td><td style=\"border:solid;\" bgcolor=\"white\"><font color=\"black\">Obj_6: 0.00</font>, <font color=\"black\">Obj_7_9: 0.00</font></td><td style=\"border:solid;\" bgcolor=\"white\"></td><td style=\"border:solid;\" bgcolor=\"white\"></td><td style=\"border:solid;\" bgcolor=\"white\"><font color=\"black\">Obj_7: 0.00</font></td></tr>\n",
       "<tr><td>4: in</td><td style=\"border:none;\" bgcolor=\"white\"></td><td style=\"border:none;\" bgcolor=\"white\"></td><td style=\"border:none;\" bgcolor=\"white\"></td><td style=\"border:none;\" bgcolor=\"white\"></td><td style=\"border:solid;\" bgcolor=\"white\"><font color=\"black\">PP_2: 0.00</font></td><td style=\"border:solid;\" bgcolor=\"white\"></td><td style=\"border:solid;\" bgcolor=\"#E1E1E1\"><font color=\"red\">PP: 0.00</font></td></tr>\n",
       "<tr><td>5: his</td><td style=\"border:none;\" bgcolor=\"white\"></td><td style=\"border:none;\" bgcolor=\"white\"></td><td style=\"border:none;\" bgcolor=\"white\"></td><td style=\"border:none;\" bgcolor=\"white\"></td><td style=\"border:none;\" bgcolor=\"white\"></td><td style=\"border:solid;\" bgcolor=\"white\"><font color=\"black\">PP_1_3: 0.00</font></td><td style=\"border:solid;\" bgcolor=\"white\"><font color=\"black\">PP_1: 0.00</font></td></tr>\n",
       "<tr><td>6: pyjamas</td><td style=\"border:none;\" bgcolor=\"white\"></td><td style=\"border:none;\" bgcolor=\"white\"></td><td style=\"border:none;\" bgcolor=\"white\"></td><td style=\"border:none;\" bgcolor=\"white\"></td><td style=\"border:none;\" bgcolor=\"white\"></td><td style=\"border:none;\" bgcolor=\"white\"></td><td style=\"border:solid;\" bgcolor=\"white\"><font color=\"black\">PP_1_4: 0.00</font></td></tr></table> 84 / 112</div>\n",
       "<div class=\"item\"><table><tr><td></td><td>0: He</td><td>1: shot</td><td>2: the</td><td>3: elephant</td><td>4: in</td><td>5: his</td><td>6: pyjamas</td></tr>\n",
       "<tr><td>0: He</td><td style=\"border:solid;\" bgcolor=\"white\"><font color=\"black\">Subj: 0.00</font></td><td style=\"border:solid;\" bgcolor=\"white\"></td><td style=\"border:solid;\" bgcolor=\"white\"></td><td style=\"border:solid;\" bgcolor=\"white\"><font color=\"black\">S: -1.90</font></td><td style=\"border:solid;\" bgcolor=\"white\"></td><td style=\"border:solid;\" bgcolor=\"white\"></td><td style=\"border:solid;\" bgcolor=\"white\"></td></tr>\n",
       "<tr><td>1: shot</td><td style=\"border:none;\" bgcolor=\"white\"></td><td style=\"border:solid;\" bgcolor=\"white\"><font color=\"black\">Verb: 0.00</font></td><td style=\"border:solid;\" bgcolor=\"white\"></td><td style=\"border:solid;\" bgcolor=\"white\"><font color=\"black\">VP: -1.90</font></td><td style=\"border:solid;\" bgcolor=\"white\"></td><td style=\"border:solid;\" bgcolor=\"white\"></td><td style=\"border:solid;\" bgcolor=\"white\"></td></tr>\n",
       "<tr><td>2: the</td><td style=\"border:none;\" bgcolor=\"white\"></td><td style=\"border:none;\" bgcolor=\"white\"></td><td style=\"border:solid;\" bgcolor=\"white\"><font color=\"black\">Obj_5: 0.00</font>, <font color=\"black\">Obj_8: 0.00</font></td><td style=\"border:solid;\" bgcolor=\"#E1E1E1\"><font color=\"red\">Obj: -0.69</font></td><td style=\"border:solid;\" bgcolor=\"white\"></td><td style=\"border:solid;\" bgcolor=\"white\"></td><td style=\"border:solid;\" bgcolor=\"#C3C3C3\"><font color=\"black\">Obj: -0.69</font>, <font color=\"blue\">VP_0: -0.69</font></td></tr>\n",
       "<tr><td>3: elephant</td><td style=\"border:none;\" bgcolor=\"white\"></td><td style=\"border:none;\" bgcolor=\"white\"></td><td style=\"border:none;\" bgcolor=\"white\"></td><td style=\"border:solid;\" bgcolor=\"white\"><font color=\"black\">Obj_6: 0.00</font>, <font color=\"black\">Obj_7_9: 0.00</font></td><td style=\"border:solid;\" bgcolor=\"white\"></td><td style=\"border:solid;\" bgcolor=\"white\"></td><td style=\"border:solid;\" bgcolor=\"white\"><font color=\"black\">Obj_7: 0.00</font></td></tr>\n",
       "<tr><td>4: in</td><td style=\"border:none;\" bgcolor=\"white\"></td><td style=\"border:none;\" bgcolor=\"white\"></td><td style=\"border:none;\" bgcolor=\"white\"></td><td style=\"border:none;\" bgcolor=\"white\"></td><td style=\"border:solid;\" bgcolor=\"white\"><font color=\"black\">PP_2: 0.00</font></td><td style=\"border:solid;\" bgcolor=\"white\"></td><td style=\"border:solid;\" bgcolor=\"#E1E1E1\"><font color=\"red\">PP: 0.00</font></td></tr>\n",
       "<tr><td>5: his</td><td style=\"border:none;\" bgcolor=\"white\"></td><td style=\"border:none;\" bgcolor=\"white\"></td><td style=\"border:none;\" bgcolor=\"white\"></td><td style=\"border:none;\" bgcolor=\"white\"></td><td style=\"border:none;\" bgcolor=\"white\"></td><td style=\"border:solid;\" bgcolor=\"white\"><font color=\"black\">PP_1_3: 0.00</font></td><td style=\"border:solid;\" bgcolor=\"white\"><font color=\"black\">PP_1: 0.00</font></td></tr>\n",
       "<tr><td>6: pyjamas</td><td style=\"border:none;\" bgcolor=\"white\"></td><td style=\"border:none;\" bgcolor=\"white\"></td><td style=\"border:none;\" bgcolor=\"white\"></td><td style=\"border:none;\" bgcolor=\"white\"></td><td style=\"border:none;\" bgcolor=\"white\"></td><td style=\"border:none;\" bgcolor=\"white\"></td><td style=\"border:solid;\" bgcolor=\"white\"><font color=\"black\">PP_1_4: 0.00</font></td></tr></table> 85 / 112</div>\n",
       "<div class=\"item\"><table><tr><td></td><td>0: He</td><td>1: shot</td><td>2: the</td><td>3: elephant</td><td>4: in</td><td>5: his</td><td>6: pyjamas</td></tr>\n",
       "<tr><td>0: He</td><td style=\"border:solid;\" bgcolor=\"white\"><font color=\"black\">Subj: 0.00</font></td><td style=\"border:solid;\" bgcolor=\"white\"></td><td style=\"border:solid;\" bgcolor=\"white\"></td><td style=\"border:solid;\" bgcolor=\"white\"><font color=\"black\">S: -1.90</font></td><td style=\"border:solid;\" bgcolor=\"white\"></td><td style=\"border:solid;\" bgcolor=\"white\"></td><td style=\"border:solid;\" bgcolor=\"white\"></td></tr>\n",
       "<tr><td>1: shot</td><td style=\"border:none;\" bgcolor=\"white\"></td><td style=\"border:solid;\" bgcolor=\"white\"><font color=\"black\">Verb: 0.00</font></td><td style=\"border:solid;\" bgcolor=\"white\"></td><td style=\"border:solid;\" bgcolor=\"white\"><font color=\"black\">VP: -1.90</font></td><td style=\"border:solid;\" bgcolor=\"white\"></td><td style=\"border:solid;\" bgcolor=\"white\"></td><td style=\"border:solid;\" bgcolor=\"white\"></td></tr>\n",
       "<tr><td>2: the</td><td style=\"border:none;\" bgcolor=\"white\"></td><td style=\"border:none;\" bgcolor=\"white\"></td><td style=\"border:solid;\" bgcolor=\"white\"><font color=\"black\">Obj_5: 0.00</font>, <font color=\"black\">Obj_8: 0.00</font></td><td style=\"border:solid;\" bgcolor=\"white\"><font color=\"black\">Obj: -0.69</font></td><td style=\"border:solid;\" bgcolor=\"#E1E1E1\"></td><td style=\"border:solid;\" bgcolor=\"white\"></td><td style=\"border:solid;\" bgcolor=\"#C3C3C3\"><font color=\"black\">Obj: -0.69</font>, <font color=\"black\">VP_0: -0.69</font></td></tr>\n",
       "<tr><td>3: elephant</td><td style=\"border:none;\" bgcolor=\"white\"></td><td style=\"border:none;\" bgcolor=\"white\"></td><td style=\"border:none;\" bgcolor=\"white\"></td><td style=\"border:solid;\" bgcolor=\"white\"><font color=\"black\">Obj_6: 0.00</font>, <font color=\"black\">Obj_7_9: 0.00</font></td><td style=\"border:solid;\" bgcolor=\"white\"></td><td style=\"border:solid;\" bgcolor=\"white\"></td><td style=\"border:solid;\" bgcolor=\"white\"><font color=\"black\">Obj_7: 0.00</font></td></tr>\n",
       "<tr><td>4: in</td><td style=\"border:none;\" bgcolor=\"white\"></td><td style=\"border:none;\" bgcolor=\"white\"></td><td style=\"border:none;\" bgcolor=\"white\"></td><td style=\"border:none;\" bgcolor=\"white\"></td><td style=\"border:solid;\" bgcolor=\"white\"><font color=\"black\">PP_2: 0.00</font></td><td style=\"border:solid;\" bgcolor=\"white\"></td><td style=\"border:solid;\" bgcolor=\"white\"><font color=\"black\">PP: 0.00</font></td></tr>\n",
       "<tr><td>5: his</td><td style=\"border:none;\" bgcolor=\"white\"></td><td style=\"border:none;\" bgcolor=\"white\"></td><td style=\"border:none;\" bgcolor=\"white\"></td><td style=\"border:none;\" bgcolor=\"white\"></td><td style=\"border:none;\" bgcolor=\"white\"></td><td style=\"border:solid;\" bgcolor=\"white\"><font color=\"black\">PP_1_3: 0.00</font></td><td style=\"border:solid;\" bgcolor=\"#E1E1E1\"><font color=\"black\">PP_1: 0.00</font></td></tr>\n",
       "<tr><td>6: pyjamas</td><td style=\"border:none;\" bgcolor=\"white\"></td><td style=\"border:none;\" bgcolor=\"white\"></td><td style=\"border:none;\" bgcolor=\"white\"></td><td style=\"border:none;\" bgcolor=\"white\"></td><td style=\"border:none;\" bgcolor=\"white\"></td><td style=\"border:none;\" bgcolor=\"white\"></td><td style=\"border:solid;\" bgcolor=\"white\"><font color=\"black\">PP_1_4: 0.00</font></td></tr></table> 86 / 112</div>\n",
       "<div class=\"item\"><table><tr><td></td><td>0: He</td><td>1: shot</td><td>2: the</td><td>3: elephant</td><td>4: in</td><td>5: his</td><td>6: pyjamas</td></tr>\n",
       "<tr><td>0: He</td><td style=\"border:solid;\" bgcolor=\"white\"><font color=\"black\">Subj: 0.00</font></td><td style=\"border:solid;\" bgcolor=\"white\"></td><td style=\"border:solid;\" bgcolor=\"white\"></td><td style=\"border:solid;\" bgcolor=\"white\"><font color=\"black\">S: -1.90</font></td><td style=\"border:solid;\" bgcolor=\"white\"></td><td style=\"border:solid;\" bgcolor=\"white\"></td><td style=\"border:solid;\" bgcolor=\"white\"></td></tr>\n",
       "<tr><td>1: shot</td><td style=\"border:none;\" bgcolor=\"white\"></td><td style=\"border:solid;\" bgcolor=\"white\"><font color=\"black\">Verb: 0.00</font></td><td style=\"border:solid;\" bgcolor=\"white\"></td><td style=\"border:solid;\" bgcolor=\"white\"><font color=\"black\">VP: -1.90</font></td><td style=\"border:solid;\" bgcolor=\"white\"></td><td style=\"border:solid;\" bgcolor=\"white\"></td><td style=\"border:solid;\" bgcolor=\"white\"></td></tr>\n",
       "<tr><td>2: the</td><td style=\"border:none;\" bgcolor=\"white\"></td><td style=\"border:none;\" bgcolor=\"white\"></td><td style=\"border:solid;\" bgcolor=\"white\"><font color=\"black\">Obj_5: 0.00</font>, <font color=\"black\">Obj_8: 0.00</font></td><td style=\"border:solid;\" bgcolor=\"white\"><font color=\"black\">Obj: -0.69</font></td><td style=\"border:solid;\" bgcolor=\"white\"></td><td style=\"border:solid;\" bgcolor=\"#E1E1E1\"></td><td style=\"border:solid;\" bgcolor=\"#C3C3C3\"><font color=\"black\">Obj: -0.69</font>, <font color=\"black\">VP_0: -0.69</font></td></tr>\n",
       "<tr><td>3: elephant</td><td style=\"border:none;\" bgcolor=\"white\"></td><td style=\"border:none;\" bgcolor=\"white\"></td><td style=\"border:none;\" bgcolor=\"white\"></td><td style=\"border:solid;\" bgcolor=\"white\"><font color=\"black\">Obj_6: 0.00</font>, <font color=\"black\">Obj_7_9: 0.00</font></td><td style=\"border:solid;\" bgcolor=\"white\"></td><td style=\"border:solid;\" bgcolor=\"white\"></td><td style=\"border:solid;\" bgcolor=\"white\"><font color=\"black\">Obj_7: 0.00</font></td></tr>\n",
       "<tr><td>4: in</td><td style=\"border:none;\" bgcolor=\"white\"></td><td style=\"border:none;\" bgcolor=\"white\"></td><td style=\"border:none;\" bgcolor=\"white\"></td><td style=\"border:none;\" bgcolor=\"white\"></td><td style=\"border:solid;\" bgcolor=\"white\"><font color=\"black\">PP_2: 0.00</font></td><td style=\"border:solid;\" bgcolor=\"white\"></td><td style=\"border:solid;\" bgcolor=\"white\"><font color=\"black\">PP: 0.00</font></td></tr>\n",
       "<tr><td>5: his</td><td style=\"border:none;\" bgcolor=\"white\"></td><td style=\"border:none;\" bgcolor=\"white\"></td><td style=\"border:none;\" bgcolor=\"white\"></td><td style=\"border:none;\" bgcolor=\"white\"></td><td style=\"border:none;\" bgcolor=\"white\"></td><td style=\"border:solid;\" bgcolor=\"white\"><font color=\"black\">PP_1_3: 0.00</font></td><td style=\"border:solid;\" bgcolor=\"white\"><font color=\"black\">PP_1: 0.00</font></td></tr>\n",
       "<tr><td>6: pyjamas</td><td style=\"border:none;\" bgcolor=\"white\"></td><td style=\"border:none;\" bgcolor=\"white\"></td><td style=\"border:none;\" bgcolor=\"white\"></td><td style=\"border:none;\" bgcolor=\"white\"></td><td style=\"border:none;\" bgcolor=\"white\"></td><td style=\"border:none;\" bgcolor=\"white\"></td><td style=\"border:solid;\" bgcolor=\"#E1E1E1\"><font color=\"black\">PP_1_4: 0.00</font></td></tr></table> 87 / 112</div>\n",
       "<div class=\"item\"><table><tr><td></td><td>0: He</td><td>1: shot</td><td>2: the</td><td>3: elephant</td><td>4: in</td><td>5: his</td><td>6: pyjamas</td></tr>\n",
       "<tr><td>0: He</td><td style=\"border:solid;\" bgcolor=\"#E1E1E1\"><font color=\"black\">Subj: 0.00</font></td><td style=\"border:solid;\" bgcolor=\"white\"></td><td style=\"border:solid;\" bgcolor=\"white\"></td><td style=\"border:solid;\" bgcolor=\"white\"><font color=\"black\">S: -1.90</font></td><td style=\"border:solid;\" bgcolor=\"white\"></td><td style=\"border:solid;\" bgcolor=\"#C3C3C3\"></td><td style=\"border:solid;\" bgcolor=\"white\"></td></tr>\n",
       "<tr><td>1: shot</td><td style=\"border:none;\" bgcolor=\"white\"></td><td style=\"border:solid;\" bgcolor=\"white\"><font color=\"black\">Verb: 0.00</font></td><td style=\"border:solid;\" bgcolor=\"white\"></td><td style=\"border:solid;\" bgcolor=\"white\"><font color=\"black\">VP: -1.90</font></td><td style=\"border:solid;\" bgcolor=\"white\"></td><td style=\"border:solid;\" bgcolor=\"#E1E1E1\"></td><td style=\"border:solid;\" bgcolor=\"white\"></td></tr>\n",
       "<tr><td>2: the</td><td style=\"border:none;\" bgcolor=\"white\"></td><td style=\"border:none;\" bgcolor=\"white\"></td><td style=\"border:solid;\" bgcolor=\"white\"><font color=\"black\">Obj_5: 0.00</font>, <font color=\"black\">Obj_8: 0.00</font></td><td style=\"border:solid;\" bgcolor=\"white\"><font color=\"black\">Obj: -0.69</font></td><td style=\"border:solid;\" bgcolor=\"white\"></td><td style=\"border:solid;\" bgcolor=\"white\"></td><td style=\"border:solid;\" bgcolor=\"white\"><font color=\"black\">Obj: -0.69</font>, <font color=\"black\">VP_0: -0.69</font></td></tr>\n",
       "<tr><td>3: elephant</td><td style=\"border:none;\" bgcolor=\"white\"></td><td style=\"border:none;\" bgcolor=\"white\"></td><td style=\"border:none;\" bgcolor=\"white\"></td><td style=\"border:solid;\" bgcolor=\"white\"><font color=\"black\">Obj_6: 0.00</font>, <font color=\"black\">Obj_7_9: 0.00</font></td><td style=\"border:solid;\" bgcolor=\"white\"></td><td style=\"border:solid;\" bgcolor=\"white\"></td><td style=\"border:solid;\" bgcolor=\"white\"><font color=\"black\">Obj_7: 0.00</font></td></tr>\n",
       "<tr><td>4: in</td><td style=\"border:none;\" bgcolor=\"white\"></td><td style=\"border:none;\" bgcolor=\"white\"></td><td style=\"border:none;\" bgcolor=\"white\"></td><td style=\"border:none;\" bgcolor=\"white\"></td><td style=\"border:solid;\" bgcolor=\"white\"><font color=\"black\">PP_2: 0.00</font></td><td style=\"border:solid;\" bgcolor=\"white\"></td><td style=\"border:solid;\" bgcolor=\"white\"><font color=\"black\">PP: 0.00</font></td></tr>\n",
       "<tr><td>5: his</td><td style=\"border:none;\" bgcolor=\"white\"></td><td style=\"border:none;\" bgcolor=\"white\"></td><td style=\"border:none;\" bgcolor=\"white\"></td><td style=\"border:none;\" bgcolor=\"white\"></td><td style=\"border:none;\" bgcolor=\"white\"></td><td style=\"border:solid;\" bgcolor=\"white\"><font color=\"black\">PP_1_3: 0.00</font></td><td style=\"border:solid;\" bgcolor=\"white\"><font color=\"black\">PP_1: 0.00</font></td></tr>\n",
       "<tr><td>6: pyjamas</td><td style=\"border:none;\" bgcolor=\"white\"></td><td style=\"border:none;\" bgcolor=\"white\"></td><td style=\"border:none;\" bgcolor=\"white\"></td><td style=\"border:none;\" bgcolor=\"white\"></td><td style=\"border:none;\" bgcolor=\"white\"></td><td style=\"border:none;\" bgcolor=\"white\"></td><td style=\"border:solid;\" bgcolor=\"white\"><font color=\"black\">PP_1_4: 0.00</font></td></tr></table> 88 / 112</div>\n",
       "<div class=\"item\"><table><tr><td></td><td>0: He</td><td>1: shot</td><td>2: the</td><td>3: elephant</td><td>4: in</td><td>5: his</td><td>6: pyjamas</td></tr>\n",
       "<tr><td>0: He</td><td style=\"border:solid;\" bgcolor=\"white\"><font color=\"black\">Subj: 0.00</font></td><td style=\"border:solid;\" bgcolor=\"#E1E1E1\"></td><td style=\"border:solid;\" bgcolor=\"white\"></td><td style=\"border:solid;\" bgcolor=\"white\"><font color=\"black\">S: -1.90</font></td><td style=\"border:solid;\" bgcolor=\"white\"></td><td style=\"border:solid;\" bgcolor=\"#C3C3C3\"></td><td style=\"border:solid;\" bgcolor=\"white\"></td></tr>\n",
       "<tr><td>1: shot</td><td style=\"border:none;\" bgcolor=\"white\"></td><td style=\"border:solid;\" bgcolor=\"white\"><font color=\"black\">Verb: 0.00</font></td><td style=\"border:solid;\" bgcolor=\"white\"></td><td style=\"border:solid;\" bgcolor=\"white\"><font color=\"black\">VP: -1.90</font></td><td style=\"border:solid;\" bgcolor=\"white\"></td><td style=\"border:solid;\" bgcolor=\"white\"></td><td style=\"border:solid;\" bgcolor=\"white\"></td></tr>\n",
       "<tr><td>2: the</td><td style=\"border:none;\" bgcolor=\"white\"></td><td style=\"border:none;\" bgcolor=\"white\"></td><td style=\"border:solid;\" bgcolor=\"white\"><font color=\"black\">Obj_5: 0.00</font>, <font color=\"black\">Obj_8: 0.00</font></td><td style=\"border:solid;\" bgcolor=\"white\"><font color=\"black\">Obj: -0.69</font></td><td style=\"border:solid;\" bgcolor=\"white\"></td><td style=\"border:solid;\" bgcolor=\"#E1E1E1\"></td><td style=\"border:solid;\" bgcolor=\"white\"><font color=\"black\">Obj: -0.69</font>, <font color=\"black\">VP_0: -0.69</font></td></tr>\n",
       "<tr><td>3: elephant</td><td style=\"border:none;\" bgcolor=\"white\"></td><td style=\"border:none;\" bgcolor=\"white\"></td><td style=\"border:none;\" bgcolor=\"white\"></td><td style=\"border:solid;\" bgcolor=\"white\"><font color=\"black\">Obj_6: 0.00</font>, <font color=\"black\">Obj_7_9: 0.00</font></td><td style=\"border:solid;\" bgcolor=\"white\"></td><td style=\"border:solid;\" bgcolor=\"white\"></td><td style=\"border:solid;\" bgcolor=\"white\"><font color=\"black\">Obj_7: 0.00</font></td></tr>\n",
       "<tr><td>4: in</td><td style=\"border:none;\" bgcolor=\"white\"></td><td style=\"border:none;\" bgcolor=\"white\"></td><td style=\"border:none;\" bgcolor=\"white\"></td><td style=\"border:none;\" bgcolor=\"white\"></td><td style=\"border:solid;\" bgcolor=\"white\"><font color=\"black\">PP_2: 0.00</font></td><td style=\"border:solid;\" bgcolor=\"white\"></td><td style=\"border:solid;\" bgcolor=\"white\"><font color=\"black\">PP: 0.00</font></td></tr>\n",
       "<tr><td>5: his</td><td style=\"border:none;\" bgcolor=\"white\"></td><td style=\"border:none;\" bgcolor=\"white\"></td><td style=\"border:none;\" bgcolor=\"white\"></td><td style=\"border:none;\" bgcolor=\"white\"></td><td style=\"border:none;\" bgcolor=\"white\"></td><td style=\"border:solid;\" bgcolor=\"white\"><font color=\"black\">PP_1_3: 0.00</font></td><td style=\"border:solid;\" bgcolor=\"white\"><font color=\"black\">PP_1: 0.00</font></td></tr>\n",
       "<tr><td>6: pyjamas</td><td style=\"border:none;\" bgcolor=\"white\"></td><td style=\"border:none;\" bgcolor=\"white\"></td><td style=\"border:none;\" bgcolor=\"white\"></td><td style=\"border:none;\" bgcolor=\"white\"></td><td style=\"border:none;\" bgcolor=\"white\"></td><td style=\"border:none;\" bgcolor=\"white\"></td><td style=\"border:solid;\" bgcolor=\"white\"><font color=\"black\">PP_1_4: 0.00</font></td></tr></table> 89 / 112</div>\n",
       "<div class=\"item\"><table><tr><td></td><td>0: He</td><td>1: shot</td><td>2: the</td><td>3: elephant</td><td>4: in</td><td>5: his</td><td>6: pyjamas</td></tr>\n",
       "<tr><td>0: He</td><td style=\"border:solid;\" bgcolor=\"white\"><font color=\"black\">Subj: 0.00</font></td><td style=\"border:solid;\" bgcolor=\"white\"></td><td style=\"border:solid;\" bgcolor=\"#E1E1E1\"></td><td style=\"border:solid;\" bgcolor=\"white\"><font color=\"black\">S: -1.90</font></td><td style=\"border:solid;\" bgcolor=\"white\"></td><td style=\"border:solid;\" bgcolor=\"#C3C3C3\"></td><td style=\"border:solid;\" bgcolor=\"white\"></td></tr>\n",
       "<tr><td>1: shot</td><td style=\"border:none;\" bgcolor=\"white\"></td><td style=\"border:solid;\" bgcolor=\"white\"><font color=\"black\">Verb: 0.00</font></td><td style=\"border:solid;\" bgcolor=\"white\"></td><td style=\"border:solid;\" bgcolor=\"white\"><font color=\"black\">VP: -1.90</font></td><td style=\"border:solid;\" bgcolor=\"white\"></td><td style=\"border:solid;\" bgcolor=\"white\"></td><td style=\"border:solid;\" bgcolor=\"white\"></td></tr>\n",
       "<tr><td>2: the</td><td style=\"border:none;\" bgcolor=\"white\"></td><td style=\"border:none;\" bgcolor=\"white\"></td><td style=\"border:solid;\" bgcolor=\"white\"><font color=\"black\">Obj_5: 0.00</font>, <font color=\"black\">Obj_8: 0.00</font></td><td style=\"border:solid;\" bgcolor=\"white\"><font color=\"black\">Obj: -0.69</font></td><td style=\"border:solid;\" bgcolor=\"white\"></td><td style=\"border:solid;\" bgcolor=\"white\"></td><td style=\"border:solid;\" bgcolor=\"white\"><font color=\"black\">Obj: -0.69</font>, <font color=\"black\">VP_0: -0.69</font></td></tr>\n",
       "<tr><td>3: elephant</td><td style=\"border:none;\" bgcolor=\"white\"></td><td style=\"border:none;\" bgcolor=\"white\"></td><td style=\"border:none;\" bgcolor=\"white\"></td><td style=\"border:solid;\" bgcolor=\"white\"><font color=\"black\">Obj_6: 0.00</font>, <font color=\"black\">Obj_7_9: 0.00</font></td><td style=\"border:solid;\" bgcolor=\"white\"></td><td style=\"border:solid;\" bgcolor=\"#E1E1E1\"></td><td style=\"border:solid;\" bgcolor=\"white\"><font color=\"black\">Obj_7: 0.00</font></td></tr>\n",
       "<tr><td>4: in</td><td style=\"border:none;\" bgcolor=\"white\"></td><td style=\"border:none;\" bgcolor=\"white\"></td><td style=\"border:none;\" bgcolor=\"white\"></td><td style=\"border:none;\" bgcolor=\"white\"></td><td style=\"border:solid;\" bgcolor=\"white\"><font color=\"black\">PP_2: 0.00</font></td><td style=\"border:solid;\" bgcolor=\"white\"></td><td style=\"border:solid;\" bgcolor=\"white\"><font color=\"black\">PP: 0.00</font></td></tr>\n",
       "<tr><td>5: his</td><td style=\"border:none;\" bgcolor=\"white\"></td><td style=\"border:none;\" bgcolor=\"white\"></td><td style=\"border:none;\" bgcolor=\"white\"></td><td style=\"border:none;\" bgcolor=\"white\"></td><td style=\"border:none;\" bgcolor=\"white\"></td><td style=\"border:solid;\" bgcolor=\"white\"><font color=\"black\">PP_1_3: 0.00</font></td><td style=\"border:solid;\" bgcolor=\"white\"><font color=\"black\">PP_1: 0.00</font></td></tr>\n",
       "<tr><td>6: pyjamas</td><td style=\"border:none;\" bgcolor=\"white\"></td><td style=\"border:none;\" bgcolor=\"white\"></td><td style=\"border:none;\" bgcolor=\"white\"></td><td style=\"border:none;\" bgcolor=\"white\"></td><td style=\"border:none;\" bgcolor=\"white\"></td><td style=\"border:none;\" bgcolor=\"white\"></td><td style=\"border:solid;\" bgcolor=\"white\"><font color=\"black\">PP_1_4: 0.00</font></td></tr></table> 90 / 112</div>\n",
       "<div class=\"item\"><table><tr><td></td><td>0: He</td><td>1: shot</td><td>2: the</td><td>3: elephant</td><td>4: in</td><td>5: his</td><td>6: pyjamas</td></tr>\n",
       "<tr><td>0: He</td><td style=\"border:solid;\" bgcolor=\"white\"><font color=\"black\">Subj: 0.00</font></td><td style=\"border:solid;\" bgcolor=\"white\"></td><td style=\"border:solid;\" bgcolor=\"white\"></td><td style=\"border:solid;\" bgcolor=\"#E1E1E1\"><font color=\"black\">S: -1.90</font></td><td style=\"border:solid;\" bgcolor=\"white\"></td><td style=\"border:solid;\" bgcolor=\"#C3C3C3\"></td><td style=\"border:solid;\" bgcolor=\"white\"></td></tr>\n",
       "<tr><td>1: shot</td><td style=\"border:none;\" bgcolor=\"white\"></td><td style=\"border:solid;\" bgcolor=\"white\"><font color=\"black\">Verb: 0.00</font></td><td style=\"border:solid;\" bgcolor=\"white\"></td><td style=\"border:solid;\" bgcolor=\"white\"><font color=\"black\">VP: -1.90</font></td><td style=\"border:solid;\" bgcolor=\"white\"></td><td style=\"border:solid;\" bgcolor=\"white\"></td><td style=\"border:solid;\" bgcolor=\"white\"></td></tr>\n",
       "<tr><td>2: the</td><td style=\"border:none;\" bgcolor=\"white\"></td><td style=\"border:none;\" bgcolor=\"white\"></td><td style=\"border:solid;\" bgcolor=\"white\"><font color=\"black\">Obj_5: 0.00</font>, <font color=\"black\">Obj_8: 0.00</font></td><td style=\"border:solid;\" bgcolor=\"white\"><font color=\"black\">Obj: -0.69</font></td><td style=\"border:solid;\" bgcolor=\"white\"></td><td style=\"border:solid;\" bgcolor=\"white\"></td><td style=\"border:solid;\" bgcolor=\"white\"><font color=\"black\">Obj: -0.69</font>, <font color=\"black\">VP_0: -0.69</font></td></tr>\n",
       "<tr><td>3: elephant</td><td style=\"border:none;\" bgcolor=\"white\"></td><td style=\"border:none;\" bgcolor=\"white\"></td><td style=\"border:none;\" bgcolor=\"white\"></td><td style=\"border:solid;\" bgcolor=\"white\"><font color=\"black\">Obj_6: 0.00</font>, <font color=\"black\">Obj_7_9: 0.00</font></td><td style=\"border:solid;\" bgcolor=\"white\"></td><td style=\"border:solid;\" bgcolor=\"white\"></td><td style=\"border:solid;\" bgcolor=\"white\"><font color=\"black\">Obj_7: 0.00</font></td></tr>\n",
       "<tr><td>4: in</td><td style=\"border:none;\" bgcolor=\"white\"></td><td style=\"border:none;\" bgcolor=\"white\"></td><td style=\"border:none;\" bgcolor=\"white\"></td><td style=\"border:none;\" bgcolor=\"white\"></td><td style=\"border:solid;\" bgcolor=\"white\"><font color=\"black\">PP_2: 0.00</font></td><td style=\"border:solid;\" bgcolor=\"#E1E1E1\"></td><td style=\"border:solid;\" bgcolor=\"white\"><font color=\"black\">PP: 0.00</font></td></tr>\n",
       "<tr><td>5: his</td><td style=\"border:none;\" bgcolor=\"white\"></td><td style=\"border:none;\" bgcolor=\"white\"></td><td style=\"border:none;\" bgcolor=\"white\"></td><td style=\"border:none;\" bgcolor=\"white\"></td><td style=\"border:none;\" bgcolor=\"white\"></td><td style=\"border:solid;\" bgcolor=\"white\"><font color=\"black\">PP_1_3: 0.00</font></td><td style=\"border:solid;\" bgcolor=\"white\"><font color=\"black\">PP_1: 0.00</font></td></tr>\n",
       "<tr><td>6: pyjamas</td><td style=\"border:none;\" bgcolor=\"white\"></td><td style=\"border:none;\" bgcolor=\"white\"></td><td style=\"border:none;\" bgcolor=\"white\"></td><td style=\"border:none;\" bgcolor=\"white\"></td><td style=\"border:none;\" bgcolor=\"white\"></td><td style=\"border:none;\" bgcolor=\"white\"></td><td style=\"border:solid;\" bgcolor=\"white\"><font color=\"black\">PP_1_4: 0.00</font></td></tr></table> 91 / 112</div>\n",
       "<div class=\"item\"><table><tr><td></td><td>0: He</td><td>1: shot</td><td>2: the</td><td>3: elephant</td><td>4: in</td><td>5: his</td><td>6: pyjamas</td></tr>\n",
       "<tr><td>0: He</td><td style=\"border:solid;\" bgcolor=\"white\"><font color=\"black\">Subj: 0.00</font></td><td style=\"border:solid;\" bgcolor=\"white\"></td><td style=\"border:solid;\" bgcolor=\"white\"></td><td style=\"border:solid;\" bgcolor=\"white\"><font color=\"black\">S: -1.90</font></td><td style=\"border:solid;\" bgcolor=\"#E1E1E1\"></td><td style=\"border:solid;\" bgcolor=\"#C3C3C3\"></td><td style=\"border:solid;\" bgcolor=\"white\"></td></tr>\n",
       "<tr><td>1: shot</td><td style=\"border:none;\" bgcolor=\"white\"></td><td style=\"border:solid;\" bgcolor=\"white\"><font color=\"black\">Verb: 0.00</font></td><td style=\"border:solid;\" bgcolor=\"white\"></td><td style=\"border:solid;\" bgcolor=\"white\"><font color=\"black\">VP: -1.90</font></td><td style=\"border:solid;\" bgcolor=\"white\"></td><td style=\"border:solid;\" bgcolor=\"white\"></td><td style=\"border:solid;\" bgcolor=\"white\"></td></tr>\n",
       "<tr><td>2: the</td><td style=\"border:none;\" bgcolor=\"white\"></td><td style=\"border:none;\" bgcolor=\"white\"></td><td style=\"border:solid;\" bgcolor=\"white\"><font color=\"black\">Obj_5: 0.00</font>, <font color=\"black\">Obj_8: 0.00</font></td><td style=\"border:solid;\" bgcolor=\"white\"><font color=\"black\">Obj: -0.69</font></td><td style=\"border:solid;\" bgcolor=\"white\"></td><td style=\"border:solid;\" bgcolor=\"white\"></td><td style=\"border:solid;\" bgcolor=\"white\"><font color=\"black\">Obj: -0.69</font>, <font color=\"black\">VP_0: -0.69</font></td></tr>\n",
       "<tr><td>3: elephant</td><td style=\"border:none;\" bgcolor=\"white\"></td><td style=\"border:none;\" bgcolor=\"white\"></td><td style=\"border:none;\" bgcolor=\"white\"></td><td style=\"border:solid;\" bgcolor=\"white\"><font color=\"black\">Obj_6: 0.00</font>, <font color=\"black\">Obj_7_9: 0.00</font></td><td style=\"border:solid;\" bgcolor=\"white\"></td><td style=\"border:solid;\" bgcolor=\"white\"></td><td style=\"border:solid;\" bgcolor=\"white\"><font color=\"black\">Obj_7: 0.00</font></td></tr>\n",
       "<tr><td>4: in</td><td style=\"border:none;\" bgcolor=\"white\"></td><td style=\"border:none;\" bgcolor=\"white\"></td><td style=\"border:none;\" bgcolor=\"white\"></td><td style=\"border:none;\" bgcolor=\"white\"></td><td style=\"border:solid;\" bgcolor=\"white\"><font color=\"black\">PP_2: 0.00</font></td><td style=\"border:solid;\" bgcolor=\"white\"></td><td style=\"border:solid;\" bgcolor=\"white\"><font color=\"black\">PP: 0.00</font></td></tr>\n",
       "<tr><td>5: his</td><td style=\"border:none;\" bgcolor=\"white\"></td><td style=\"border:none;\" bgcolor=\"white\"></td><td style=\"border:none;\" bgcolor=\"white\"></td><td style=\"border:none;\" bgcolor=\"white\"></td><td style=\"border:none;\" bgcolor=\"white\"></td><td style=\"border:solid;\" bgcolor=\"#E1E1E1\"><font color=\"black\">PP_1_3: 0.00</font></td><td style=\"border:solid;\" bgcolor=\"white\"><font color=\"black\">PP_1: 0.00</font></td></tr>\n",
       "<tr><td>6: pyjamas</td><td style=\"border:none;\" bgcolor=\"white\"></td><td style=\"border:none;\" bgcolor=\"white\"></td><td style=\"border:none;\" bgcolor=\"white\"></td><td style=\"border:none;\" bgcolor=\"white\"></td><td style=\"border:none;\" bgcolor=\"white\"></td><td style=\"border:none;\" bgcolor=\"white\"></td><td style=\"border:solid;\" bgcolor=\"white\"><font color=\"black\">PP_1_4: 0.00</font></td></tr></table> 92 / 112</div>\n",
       "<div class=\"item\"><table><tr><td></td><td>0: He</td><td>1: shot</td><td>2: the</td><td>3: elephant</td><td>4: in</td><td>5: his</td><td>6: pyjamas</td></tr>\n",
       "<tr><td>0: He</td><td style=\"border:solid;\" bgcolor=\"white\"><font color=\"black\">Subj: 0.00</font></td><td style=\"border:solid;\" bgcolor=\"white\"></td><td style=\"border:solid;\" bgcolor=\"white\"></td><td style=\"border:solid;\" bgcolor=\"white\"><font color=\"black\">S: -1.90</font></td><td style=\"border:solid;\" bgcolor=\"white\"></td><td style=\"border:solid;\" bgcolor=\"white\"></td><td style=\"border:solid;\" bgcolor=\"white\"></td></tr>\n",
       "<tr><td>1: shot</td><td style=\"border:none;\" bgcolor=\"white\"></td><td style=\"border:solid;\" bgcolor=\"#E1E1E1\"><font color=\"black\">Verb: 0.00</font></td><td style=\"border:solid;\" bgcolor=\"white\"></td><td style=\"border:solid;\" bgcolor=\"white\"><font color=\"black\">VP: -1.90</font></td><td style=\"border:solid;\" bgcolor=\"white\"></td><td style=\"border:solid;\" bgcolor=\"white\"></td><td style=\"border:solid;\" bgcolor=\"#C3C3C3\"></td></tr>\n",
       "<tr><td>2: the</td><td style=\"border:none;\" bgcolor=\"white\"></td><td style=\"border:none;\" bgcolor=\"white\"></td><td style=\"border:solid;\" bgcolor=\"white\"><font color=\"black\">Obj_5: 0.00</font>, <font color=\"black\">Obj_8: 0.00</font></td><td style=\"border:solid;\" bgcolor=\"white\"><font color=\"black\">Obj: -0.69</font></td><td style=\"border:solid;\" bgcolor=\"white\"></td><td style=\"border:solid;\" bgcolor=\"white\"></td><td style=\"border:solid;\" bgcolor=\"#E1E1E1\"><font color=\"black\">Obj: -0.69</font>, <font color=\"black\">VP_0: -0.69</font></td></tr>\n",
       "<tr><td>3: elephant</td><td style=\"border:none;\" bgcolor=\"white\"></td><td style=\"border:none;\" bgcolor=\"white\"></td><td style=\"border:none;\" bgcolor=\"white\"></td><td style=\"border:solid;\" bgcolor=\"white\"><font color=\"black\">Obj_6: 0.00</font>, <font color=\"black\">Obj_7_9: 0.00</font></td><td style=\"border:solid;\" bgcolor=\"white\"></td><td style=\"border:solid;\" bgcolor=\"white\"></td><td style=\"border:solid;\" bgcolor=\"white\"><font color=\"black\">Obj_7: 0.00</font></td></tr>\n",
       "<tr><td>4: in</td><td style=\"border:none;\" bgcolor=\"white\"></td><td style=\"border:none;\" bgcolor=\"white\"></td><td style=\"border:none;\" bgcolor=\"white\"></td><td style=\"border:none;\" bgcolor=\"white\"></td><td style=\"border:solid;\" bgcolor=\"white\"><font color=\"black\">PP_2: 0.00</font></td><td style=\"border:solid;\" bgcolor=\"white\"></td><td style=\"border:solid;\" bgcolor=\"white\"><font color=\"black\">PP: 0.00</font></td></tr>\n",
       "<tr><td>5: his</td><td style=\"border:none;\" bgcolor=\"white\"></td><td style=\"border:none;\" bgcolor=\"white\"></td><td style=\"border:none;\" bgcolor=\"white\"></td><td style=\"border:none;\" bgcolor=\"white\"></td><td style=\"border:none;\" bgcolor=\"white\"></td><td style=\"border:solid;\" bgcolor=\"white\"><font color=\"black\">PP_1_3: 0.00</font></td><td style=\"border:solid;\" bgcolor=\"white\"><font color=\"black\">PP_1: 0.00</font></td></tr>\n",
       "<tr><td>6: pyjamas</td><td style=\"border:none;\" bgcolor=\"white\"></td><td style=\"border:none;\" bgcolor=\"white\"></td><td style=\"border:none;\" bgcolor=\"white\"></td><td style=\"border:none;\" bgcolor=\"white\"></td><td style=\"border:none;\" bgcolor=\"white\"></td><td style=\"border:none;\" bgcolor=\"white\"></td><td style=\"border:solid;\" bgcolor=\"white\"><font color=\"black\">PP_1_4: 0.00</font></td></tr></table> 93 / 112</div>\n",
       "<div class=\"item\"><table><tr><td></td><td>0: He</td><td>1: shot</td><td>2: the</td><td>3: elephant</td><td>4: in</td><td>5: his</td><td>6: pyjamas</td></tr>\n",
       "<tr><td>0: He</td><td style=\"border:solid;\" bgcolor=\"white\"><font color=\"black\">Subj: 0.00</font></td><td style=\"border:solid;\" bgcolor=\"white\"></td><td style=\"border:solid;\" bgcolor=\"white\"></td><td style=\"border:solid;\" bgcolor=\"white\"><font color=\"black\">S: -1.90</font></td><td style=\"border:solid;\" bgcolor=\"white\"></td><td style=\"border:solid;\" bgcolor=\"white\"></td><td style=\"border:solid;\" bgcolor=\"white\"></td></tr>\n",
       "<tr><td>1: shot</td><td style=\"border:none;\" bgcolor=\"white\"></td><td style=\"border:solid;\" bgcolor=\"#E1E1E1\"><font color=\"red\">Verb: 0.00</font></td><td style=\"border:solid;\" bgcolor=\"white\"></td><td style=\"border:solid;\" bgcolor=\"white\"><font color=\"black\">VP: -1.90</font></td><td style=\"border:solid;\" bgcolor=\"white\"></td><td style=\"border:solid;\" bgcolor=\"white\"></td><td style=\"border:solid;\" bgcolor=\"#C3C3C3\"></td></tr>\n",
       "<tr><td>2: the</td><td style=\"border:none;\" bgcolor=\"white\"></td><td style=\"border:none;\" bgcolor=\"white\"></td><td style=\"border:solid;\" bgcolor=\"white\"><font color=\"black\">Obj_5: 0.00</font>, <font color=\"black\">Obj_8: 0.00</font></td><td style=\"border:solid;\" bgcolor=\"white\"><font color=\"black\">Obj: -0.69</font></td><td style=\"border:solid;\" bgcolor=\"white\"></td><td style=\"border:solid;\" bgcolor=\"white\"></td><td style=\"border:solid;\" bgcolor=\"#E1E1E1\"><font color=\"red\">Obj: -0.69</font>, <font color=\"black\">VP_0: -0.69</font></td></tr>\n",
       "<tr><td>3: elephant</td><td style=\"border:none;\" bgcolor=\"white\"></td><td style=\"border:none;\" bgcolor=\"white\"></td><td style=\"border:none;\" bgcolor=\"white\"></td><td style=\"border:solid;\" bgcolor=\"white\"><font color=\"black\">Obj_6: 0.00</font>, <font color=\"black\">Obj_7_9: 0.00</font></td><td style=\"border:solid;\" bgcolor=\"white\"></td><td style=\"border:solid;\" bgcolor=\"white\"></td><td style=\"border:solid;\" bgcolor=\"white\"><font color=\"black\">Obj_7: 0.00</font></td></tr>\n",
       "<tr><td>4: in</td><td style=\"border:none;\" bgcolor=\"white\"></td><td style=\"border:none;\" bgcolor=\"white\"></td><td style=\"border:none;\" bgcolor=\"white\"></td><td style=\"border:none;\" bgcolor=\"white\"></td><td style=\"border:solid;\" bgcolor=\"white\"><font color=\"black\">PP_2: 0.00</font></td><td style=\"border:solid;\" bgcolor=\"white\"></td><td style=\"border:solid;\" bgcolor=\"white\"><font color=\"black\">PP: 0.00</font></td></tr>\n",
       "<tr><td>5: his</td><td style=\"border:none;\" bgcolor=\"white\"></td><td style=\"border:none;\" bgcolor=\"white\"></td><td style=\"border:none;\" bgcolor=\"white\"></td><td style=\"border:none;\" bgcolor=\"white\"></td><td style=\"border:none;\" bgcolor=\"white\"></td><td style=\"border:solid;\" bgcolor=\"white\"><font color=\"black\">PP_1_3: 0.00</font></td><td style=\"border:solid;\" bgcolor=\"white\"><font color=\"black\">PP_1: 0.00</font></td></tr>\n",
       "<tr><td>6: pyjamas</td><td style=\"border:none;\" bgcolor=\"white\"></td><td style=\"border:none;\" bgcolor=\"white\"></td><td style=\"border:none;\" bgcolor=\"white\"></td><td style=\"border:none;\" bgcolor=\"white\"></td><td style=\"border:none;\" bgcolor=\"white\"></td><td style=\"border:none;\" bgcolor=\"white\"></td><td style=\"border:solid;\" bgcolor=\"white\"><font color=\"black\">PP_1_4: 0.00</font></td></tr></table> 94 / 112</div>\n",
       "<div class=\"item\"><table><tr><td></td><td>0: He</td><td>1: shot</td><td>2: the</td><td>3: elephant</td><td>4: in</td><td>5: his</td><td>6: pyjamas</td></tr>\n",
       "<tr><td>0: He</td><td style=\"border:solid;\" bgcolor=\"white\"><font color=\"black\">Subj: 0.00</font></td><td style=\"border:solid;\" bgcolor=\"white\"></td><td style=\"border:solid;\" bgcolor=\"white\"></td><td style=\"border:solid;\" bgcolor=\"white\"><font color=\"black\">S: -1.90</font></td><td style=\"border:solid;\" bgcolor=\"white\"></td><td style=\"border:solid;\" bgcolor=\"white\"></td><td style=\"border:solid;\" bgcolor=\"white\"></td></tr>\n",
       "<tr><td>1: shot</td><td style=\"border:none;\" bgcolor=\"white\"></td><td style=\"border:solid;\" bgcolor=\"#E1E1E1\"><font color=\"red\">Verb: 0.00</font></td><td style=\"border:solid;\" bgcolor=\"white\"></td><td style=\"border:solid;\" bgcolor=\"white\"><font color=\"black\">VP: -1.90</font></td><td style=\"border:solid;\" bgcolor=\"white\"></td><td style=\"border:solid;\" bgcolor=\"white\"></td><td style=\"border:solid;\" bgcolor=\"#C3C3C3\"><font color=\"blue\">VP: -1.90</font></td></tr>\n",
       "<tr><td>2: the</td><td style=\"border:none;\" bgcolor=\"white\"></td><td style=\"border:none;\" bgcolor=\"white\"></td><td style=\"border:solid;\" bgcolor=\"white\"><font color=\"black\">Obj_5: 0.00</font>, <font color=\"black\">Obj_8: 0.00</font></td><td style=\"border:solid;\" bgcolor=\"white\"><font color=\"black\">Obj: -0.69</font></td><td style=\"border:solid;\" bgcolor=\"white\"></td><td style=\"border:solid;\" bgcolor=\"white\"></td><td style=\"border:solid;\" bgcolor=\"#E1E1E1\"><font color=\"red\">Obj: -0.69</font>, <font color=\"black\">VP_0: -0.69</font></td></tr>\n",
       "<tr><td>3: elephant</td><td style=\"border:none;\" bgcolor=\"white\"></td><td style=\"border:none;\" bgcolor=\"white\"></td><td style=\"border:none;\" bgcolor=\"white\"></td><td style=\"border:solid;\" bgcolor=\"white\"><font color=\"black\">Obj_6: 0.00</font>, <font color=\"black\">Obj_7_9: 0.00</font></td><td style=\"border:solid;\" bgcolor=\"white\"></td><td style=\"border:solid;\" bgcolor=\"white\"></td><td style=\"border:solid;\" bgcolor=\"white\"><font color=\"black\">Obj_7: 0.00</font></td></tr>\n",
       "<tr><td>4: in</td><td style=\"border:none;\" bgcolor=\"white\"></td><td style=\"border:none;\" bgcolor=\"white\"></td><td style=\"border:none;\" bgcolor=\"white\"></td><td style=\"border:none;\" bgcolor=\"white\"></td><td style=\"border:solid;\" bgcolor=\"white\"><font color=\"black\">PP_2: 0.00</font></td><td style=\"border:solid;\" bgcolor=\"white\"></td><td style=\"border:solid;\" bgcolor=\"white\"><font color=\"black\">PP: 0.00</font></td></tr>\n",
       "<tr><td>5: his</td><td style=\"border:none;\" bgcolor=\"white\"></td><td style=\"border:none;\" bgcolor=\"white\"></td><td style=\"border:none;\" bgcolor=\"white\"></td><td style=\"border:none;\" bgcolor=\"white\"></td><td style=\"border:none;\" bgcolor=\"white\"></td><td style=\"border:solid;\" bgcolor=\"white\"><font color=\"black\">PP_1_3: 0.00</font></td><td style=\"border:solid;\" bgcolor=\"white\"><font color=\"black\">PP_1: 0.00</font></td></tr>\n",
       "<tr><td>6: pyjamas</td><td style=\"border:none;\" bgcolor=\"white\"></td><td style=\"border:none;\" bgcolor=\"white\"></td><td style=\"border:none;\" bgcolor=\"white\"></td><td style=\"border:none;\" bgcolor=\"white\"></td><td style=\"border:none;\" bgcolor=\"white\"></td><td style=\"border:none;\" bgcolor=\"white\"></td><td style=\"border:solid;\" bgcolor=\"white\"><font color=\"black\">PP_1_4: 0.00</font></td></tr></table> 95 / 112</div>\n",
       "<div class=\"item\"><table><tr><td></td><td>0: He</td><td>1: shot</td><td>2: the</td><td>3: elephant</td><td>4: in</td><td>5: his</td><td>6: pyjamas</td></tr>\n",
       "<tr><td>0: He</td><td style=\"border:solid;\" bgcolor=\"white\"><font color=\"black\">Subj: 0.00</font></td><td style=\"border:solid;\" bgcolor=\"white\"></td><td style=\"border:solid;\" bgcolor=\"white\"></td><td style=\"border:solid;\" bgcolor=\"white\"><font color=\"black\">S: -1.90</font></td><td style=\"border:solid;\" bgcolor=\"white\"></td><td style=\"border:solid;\" bgcolor=\"white\"></td><td style=\"border:solid;\" bgcolor=\"white\"></td></tr>\n",
       "<tr><td>1: shot</td><td style=\"border:none;\" bgcolor=\"white\"></td><td style=\"border:solid;\" bgcolor=\"#E1E1E1\"><font color=\"red\">Verb: 0.00</font></td><td style=\"border:solid;\" bgcolor=\"white\"></td><td style=\"border:solid;\" bgcolor=\"white\"><font color=\"black\">VP: -1.90</font></td><td style=\"border:solid;\" bgcolor=\"white\"></td><td style=\"border:solid;\" bgcolor=\"white\"></td><td style=\"border:solid;\" bgcolor=\"#C3C3C3\"><font color=\"black\">VP: -1.90</font></td></tr>\n",
       "<tr><td>2: the</td><td style=\"border:none;\" bgcolor=\"white\"></td><td style=\"border:none;\" bgcolor=\"white\"></td><td style=\"border:solid;\" bgcolor=\"white\"><font color=\"black\">Obj_5: 0.00</font>, <font color=\"black\">Obj_8: 0.00</font></td><td style=\"border:solid;\" bgcolor=\"white\"><font color=\"black\">Obj: -0.69</font></td><td style=\"border:solid;\" bgcolor=\"white\"></td><td style=\"border:solid;\" bgcolor=\"white\"></td><td style=\"border:solid;\" bgcolor=\"#E1E1E1\"><font color=\"black\">Obj: -0.69</font>, <font color=\"red\">VP_0: -0.69</font></td></tr>\n",
       "<tr><td>3: elephant</td><td style=\"border:none;\" bgcolor=\"white\"></td><td style=\"border:none;\" bgcolor=\"white\"></td><td style=\"border:none;\" bgcolor=\"white\"></td><td style=\"border:solid;\" bgcolor=\"white\"><font color=\"black\">Obj_6: 0.00</font>, <font color=\"black\">Obj_7_9: 0.00</font></td><td style=\"border:solid;\" bgcolor=\"white\"></td><td style=\"border:solid;\" bgcolor=\"white\"></td><td style=\"border:solid;\" bgcolor=\"white\"><font color=\"black\">Obj_7: 0.00</font></td></tr>\n",
       "<tr><td>4: in</td><td style=\"border:none;\" bgcolor=\"white\"></td><td style=\"border:none;\" bgcolor=\"white\"></td><td style=\"border:none;\" bgcolor=\"white\"></td><td style=\"border:none;\" bgcolor=\"white\"></td><td style=\"border:solid;\" bgcolor=\"white\"><font color=\"black\">PP_2: 0.00</font></td><td style=\"border:solid;\" bgcolor=\"white\"></td><td style=\"border:solid;\" bgcolor=\"white\"><font color=\"black\">PP: 0.00</font></td></tr>\n",
       "<tr><td>5: his</td><td style=\"border:none;\" bgcolor=\"white\"></td><td style=\"border:none;\" bgcolor=\"white\"></td><td style=\"border:none;\" bgcolor=\"white\"></td><td style=\"border:none;\" bgcolor=\"white\"></td><td style=\"border:none;\" bgcolor=\"white\"></td><td style=\"border:solid;\" bgcolor=\"white\"><font color=\"black\">PP_1_3: 0.00</font></td><td style=\"border:solid;\" bgcolor=\"white\"><font color=\"black\">PP_1: 0.00</font></td></tr>\n",
       "<tr><td>6: pyjamas</td><td style=\"border:none;\" bgcolor=\"white\"></td><td style=\"border:none;\" bgcolor=\"white\"></td><td style=\"border:none;\" bgcolor=\"white\"></td><td style=\"border:none;\" bgcolor=\"white\"></td><td style=\"border:none;\" bgcolor=\"white\"></td><td style=\"border:none;\" bgcolor=\"white\"></td><td style=\"border:solid;\" bgcolor=\"white\"><font color=\"black\">PP_1_4: 0.00</font></td></tr></table> 96 / 112</div>\n",
       "<div class=\"item\"><table><tr><td></td><td>0: He</td><td>1: shot</td><td>2: the</td><td>3: elephant</td><td>4: in</td><td>5: his</td><td>6: pyjamas</td></tr>\n",
       "<tr><td>0: He</td><td style=\"border:solid;\" bgcolor=\"white\"><font color=\"black\">Subj: 0.00</font></td><td style=\"border:solid;\" bgcolor=\"white\"></td><td style=\"border:solid;\" bgcolor=\"white\"></td><td style=\"border:solid;\" bgcolor=\"white\"><font color=\"black\">S: -1.90</font></td><td style=\"border:solid;\" bgcolor=\"white\"></td><td style=\"border:solid;\" bgcolor=\"white\"></td><td style=\"border:solid;\" bgcolor=\"white\"></td></tr>\n",
       "<tr><td>1: shot</td><td style=\"border:none;\" bgcolor=\"white\"></td><td style=\"border:solid;\" bgcolor=\"#E1E1E1\"><font color=\"red\">Verb: 0.00</font></td><td style=\"border:solid;\" bgcolor=\"white\"></td><td style=\"border:solid;\" bgcolor=\"white\"><font color=\"black\">VP: -1.90</font></td><td style=\"border:solid;\" bgcolor=\"white\"></td><td style=\"border:solid;\" bgcolor=\"white\"></td><td style=\"border:solid;\" bgcolor=\"#C3C3C3\"><font color=\"blue\">VP: -1.05</font></td></tr>\n",
       "<tr><td>2: the</td><td style=\"border:none;\" bgcolor=\"white\"></td><td style=\"border:none;\" bgcolor=\"white\"></td><td style=\"border:solid;\" bgcolor=\"white\"><font color=\"black\">Obj_5: 0.00</font>, <font color=\"black\">Obj_8: 0.00</font></td><td style=\"border:solid;\" bgcolor=\"white\"><font color=\"black\">Obj: -0.69</font></td><td style=\"border:solid;\" bgcolor=\"white\"></td><td style=\"border:solid;\" bgcolor=\"white\"></td><td style=\"border:solid;\" bgcolor=\"#E1E1E1\"><font color=\"black\">Obj: -0.69</font>, <font color=\"red\">VP_0: -0.69</font></td></tr>\n",
       "<tr><td>3: elephant</td><td style=\"border:none;\" bgcolor=\"white\"></td><td style=\"border:none;\" bgcolor=\"white\"></td><td style=\"border:none;\" bgcolor=\"white\"></td><td style=\"border:solid;\" bgcolor=\"white\"><font color=\"black\">Obj_6: 0.00</font>, <font color=\"black\">Obj_7_9: 0.00</font></td><td style=\"border:solid;\" bgcolor=\"white\"></td><td style=\"border:solid;\" bgcolor=\"white\"></td><td style=\"border:solid;\" bgcolor=\"white\"><font color=\"black\">Obj_7: 0.00</font></td></tr>\n",
       "<tr><td>4: in</td><td style=\"border:none;\" bgcolor=\"white\"></td><td style=\"border:none;\" bgcolor=\"white\"></td><td style=\"border:none;\" bgcolor=\"white\"></td><td style=\"border:none;\" bgcolor=\"white\"></td><td style=\"border:solid;\" bgcolor=\"white\"><font color=\"black\">PP_2: 0.00</font></td><td style=\"border:solid;\" bgcolor=\"white\"></td><td style=\"border:solid;\" bgcolor=\"white\"><font color=\"black\">PP: 0.00</font></td></tr>\n",
       "<tr><td>5: his</td><td style=\"border:none;\" bgcolor=\"white\"></td><td style=\"border:none;\" bgcolor=\"white\"></td><td style=\"border:none;\" bgcolor=\"white\"></td><td style=\"border:none;\" bgcolor=\"white\"></td><td style=\"border:none;\" bgcolor=\"white\"></td><td style=\"border:solid;\" bgcolor=\"white\"><font color=\"black\">PP_1_3: 0.00</font></td><td style=\"border:solid;\" bgcolor=\"white\"><font color=\"black\">PP_1: 0.00</font></td></tr>\n",
       "<tr><td>6: pyjamas</td><td style=\"border:none;\" bgcolor=\"white\"></td><td style=\"border:none;\" bgcolor=\"white\"></td><td style=\"border:none;\" bgcolor=\"white\"></td><td style=\"border:none;\" bgcolor=\"white\"></td><td style=\"border:none;\" bgcolor=\"white\"></td><td style=\"border:none;\" bgcolor=\"white\"></td><td style=\"border:solid;\" bgcolor=\"white\"><font color=\"black\">PP_1_4: 0.00</font></td></tr></table> 97 / 112</div>\n",
       "<div class=\"item\"><table><tr><td></td><td>0: He</td><td>1: shot</td><td>2: the</td><td>3: elephant</td><td>4: in</td><td>5: his</td><td>6: pyjamas</td></tr>\n",
       "<tr><td>0: He</td><td style=\"border:solid;\" bgcolor=\"white\"><font color=\"black\">Subj: 0.00</font></td><td style=\"border:solid;\" bgcolor=\"white\"></td><td style=\"border:solid;\" bgcolor=\"white\"></td><td style=\"border:solid;\" bgcolor=\"white\"><font color=\"black\">S: -1.90</font></td><td style=\"border:solid;\" bgcolor=\"white\"></td><td style=\"border:solid;\" bgcolor=\"white\"></td><td style=\"border:solid;\" bgcolor=\"white\"></td></tr>\n",
       "<tr><td>1: shot</td><td style=\"border:none;\" bgcolor=\"white\"></td><td style=\"border:solid;\" bgcolor=\"white\"><font color=\"black\">Verb: 0.00</font></td><td style=\"border:solid;\" bgcolor=\"#E1E1E1\"></td><td style=\"border:solid;\" bgcolor=\"white\"><font color=\"black\">VP: -1.90</font></td><td style=\"border:solid;\" bgcolor=\"white\"></td><td style=\"border:solid;\" bgcolor=\"white\"></td><td style=\"border:solid;\" bgcolor=\"#C3C3C3\"><font color=\"black\">VP: -1.05</font></td></tr>\n",
       "<tr><td>2: the</td><td style=\"border:none;\" bgcolor=\"white\"></td><td style=\"border:none;\" bgcolor=\"white\"></td><td style=\"border:solid;\" bgcolor=\"white\"><font color=\"black\">Obj_5: 0.00</font>, <font color=\"black\">Obj_8: 0.00</font></td><td style=\"border:solid;\" bgcolor=\"white\"><font color=\"black\">Obj: -0.69</font></td><td style=\"border:solid;\" bgcolor=\"white\"></td><td style=\"border:solid;\" bgcolor=\"white\"></td><td style=\"border:solid;\" bgcolor=\"white\"><font color=\"black\">Obj: -0.69</font>, <font color=\"black\">VP_0: -0.69</font></td></tr>\n",
       "<tr><td>3: elephant</td><td style=\"border:none;\" bgcolor=\"white\"></td><td style=\"border:none;\" bgcolor=\"white\"></td><td style=\"border:none;\" bgcolor=\"white\"></td><td style=\"border:solid;\" bgcolor=\"white\"><font color=\"black\">Obj_6: 0.00</font>, <font color=\"black\">Obj_7_9: 0.00</font></td><td style=\"border:solid;\" bgcolor=\"white\"></td><td style=\"border:solid;\" bgcolor=\"white\"></td><td style=\"border:solid;\" bgcolor=\"#E1E1E1\"><font color=\"black\">Obj_7: 0.00</font></td></tr>\n",
       "<tr><td>4: in</td><td style=\"border:none;\" bgcolor=\"white\"></td><td style=\"border:none;\" bgcolor=\"white\"></td><td style=\"border:none;\" bgcolor=\"white\"></td><td style=\"border:none;\" bgcolor=\"white\"></td><td style=\"border:solid;\" bgcolor=\"white\"><font color=\"black\">PP_2: 0.00</font></td><td style=\"border:solid;\" bgcolor=\"white\"></td><td style=\"border:solid;\" bgcolor=\"white\"><font color=\"black\">PP: 0.00</font></td></tr>\n",
       "<tr><td>5: his</td><td style=\"border:none;\" bgcolor=\"white\"></td><td style=\"border:none;\" bgcolor=\"white\"></td><td style=\"border:none;\" bgcolor=\"white\"></td><td style=\"border:none;\" bgcolor=\"white\"></td><td style=\"border:none;\" bgcolor=\"white\"></td><td style=\"border:solid;\" bgcolor=\"white\"><font color=\"black\">PP_1_3: 0.00</font></td><td style=\"border:solid;\" bgcolor=\"white\"><font color=\"black\">PP_1: 0.00</font></td></tr>\n",
       "<tr><td>6: pyjamas</td><td style=\"border:none;\" bgcolor=\"white\"></td><td style=\"border:none;\" bgcolor=\"white\"></td><td style=\"border:none;\" bgcolor=\"white\"></td><td style=\"border:none;\" bgcolor=\"white\"></td><td style=\"border:none;\" bgcolor=\"white\"></td><td style=\"border:none;\" bgcolor=\"white\"></td><td style=\"border:solid;\" bgcolor=\"white\"><font color=\"black\">PP_1_4: 0.00</font></td></tr></table> 98 / 112</div>\n",
       "<div class=\"item\"><table><tr><td></td><td>0: He</td><td>1: shot</td><td>2: the</td><td>3: elephant</td><td>4: in</td><td>5: his</td><td>6: pyjamas</td></tr>\n",
       "<tr><td>0: He</td><td style=\"border:solid;\" bgcolor=\"white\"><font color=\"black\">Subj: 0.00</font></td><td style=\"border:solid;\" bgcolor=\"white\"></td><td style=\"border:solid;\" bgcolor=\"white\"></td><td style=\"border:solid;\" bgcolor=\"white\"><font color=\"black\">S: -1.90</font></td><td style=\"border:solid;\" bgcolor=\"white\"></td><td style=\"border:solid;\" bgcolor=\"white\"></td><td style=\"border:solid;\" bgcolor=\"white\"></td></tr>\n",
       "<tr><td>1: shot</td><td style=\"border:none;\" bgcolor=\"white\"></td><td style=\"border:solid;\" bgcolor=\"white\"><font color=\"black\">Verb: 0.00</font></td><td style=\"border:solid;\" bgcolor=\"white\"></td><td style=\"border:solid;\" bgcolor=\"#E1E1E1\"><font color=\"black\">VP: -1.90</font></td><td style=\"border:solid;\" bgcolor=\"white\"></td><td style=\"border:solid;\" bgcolor=\"white\"></td><td style=\"border:solid;\" bgcolor=\"#C3C3C3\"><font color=\"black\">VP: -1.05</font></td></tr>\n",
       "<tr><td>2: the</td><td style=\"border:none;\" bgcolor=\"white\"></td><td style=\"border:none;\" bgcolor=\"white\"></td><td style=\"border:solid;\" bgcolor=\"white\"><font color=\"black\">Obj_5: 0.00</font>, <font color=\"black\">Obj_8: 0.00</font></td><td style=\"border:solid;\" bgcolor=\"white\"><font color=\"black\">Obj: -0.69</font></td><td style=\"border:solid;\" bgcolor=\"white\"></td><td style=\"border:solid;\" bgcolor=\"white\"></td><td style=\"border:solid;\" bgcolor=\"white\"><font color=\"black\">Obj: -0.69</font>, <font color=\"black\">VP_0: -0.69</font></td></tr>\n",
       "<tr><td>3: elephant</td><td style=\"border:none;\" bgcolor=\"white\"></td><td style=\"border:none;\" bgcolor=\"white\"></td><td style=\"border:none;\" bgcolor=\"white\"></td><td style=\"border:solid;\" bgcolor=\"white\"><font color=\"black\">Obj_6: 0.00</font>, <font color=\"black\">Obj_7_9: 0.00</font></td><td style=\"border:solid;\" bgcolor=\"white\"></td><td style=\"border:solid;\" bgcolor=\"white\"></td><td style=\"border:solid;\" bgcolor=\"white\"><font color=\"black\">Obj_7: 0.00</font></td></tr>\n",
       "<tr><td>4: in</td><td style=\"border:none;\" bgcolor=\"white\"></td><td style=\"border:none;\" bgcolor=\"white\"></td><td style=\"border:none;\" bgcolor=\"white\"></td><td style=\"border:none;\" bgcolor=\"white\"></td><td style=\"border:solid;\" bgcolor=\"white\"><font color=\"black\">PP_2: 0.00</font></td><td style=\"border:solid;\" bgcolor=\"white\"></td><td style=\"border:solid;\" bgcolor=\"#E1E1E1\"><font color=\"black\">PP: 0.00</font></td></tr>\n",
       "<tr><td>5: his</td><td style=\"border:none;\" bgcolor=\"white\"></td><td style=\"border:none;\" bgcolor=\"white\"></td><td style=\"border:none;\" bgcolor=\"white\"></td><td style=\"border:none;\" bgcolor=\"white\"></td><td style=\"border:none;\" bgcolor=\"white\"></td><td style=\"border:solid;\" bgcolor=\"white\"><font color=\"black\">PP_1_3: 0.00</font></td><td style=\"border:solid;\" bgcolor=\"white\"><font color=\"black\">PP_1: 0.00</font></td></tr>\n",
       "<tr><td>6: pyjamas</td><td style=\"border:none;\" bgcolor=\"white\"></td><td style=\"border:none;\" bgcolor=\"white\"></td><td style=\"border:none;\" bgcolor=\"white\"></td><td style=\"border:none;\" bgcolor=\"white\"></td><td style=\"border:none;\" bgcolor=\"white\"></td><td style=\"border:none;\" bgcolor=\"white\"></td><td style=\"border:solid;\" bgcolor=\"white\"><font color=\"black\">PP_1_4: 0.00</font></td></tr></table> 99 / 112</div>\n",
       "<div class=\"item\"><table><tr><td></td><td>0: He</td><td>1: shot</td><td>2: the</td><td>3: elephant</td><td>4: in</td><td>5: his</td><td>6: pyjamas</td></tr>\n",
       "<tr><td>0: He</td><td style=\"border:solid;\" bgcolor=\"white\"><font color=\"black\">Subj: 0.00</font></td><td style=\"border:solid;\" bgcolor=\"white\"></td><td style=\"border:solid;\" bgcolor=\"white\"></td><td style=\"border:solid;\" bgcolor=\"white\"><font color=\"black\">S: -1.90</font></td><td style=\"border:solid;\" bgcolor=\"white\"></td><td style=\"border:solid;\" bgcolor=\"white\"></td><td style=\"border:solid;\" bgcolor=\"white\"></td></tr>\n",
       "<tr><td>1: shot</td><td style=\"border:none;\" bgcolor=\"white\"></td><td style=\"border:solid;\" bgcolor=\"white\"><font color=\"black\">Verb: 0.00</font></td><td style=\"border:solid;\" bgcolor=\"white\"></td><td style=\"border:solid;\" bgcolor=\"#E1E1E1\"><font color=\"red\">VP: -1.90</font></td><td style=\"border:solid;\" bgcolor=\"white\"></td><td style=\"border:solid;\" bgcolor=\"white\"></td><td style=\"border:solid;\" bgcolor=\"#C3C3C3\"><font color=\"black\">VP: -1.05</font></td></tr>\n",
       "<tr><td>2: the</td><td style=\"border:none;\" bgcolor=\"white\"></td><td style=\"border:none;\" bgcolor=\"white\"></td><td style=\"border:solid;\" bgcolor=\"white\"><font color=\"black\">Obj_5: 0.00</font>, <font color=\"black\">Obj_8: 0.00</font></td><td style=\"border:solid;\" bgcolor=\"white\"><font color=\"black\">Obj: -0.69</font></td><td style=\"border:solid;\" bgcolor=\"white\"></td><td style=\"border:solid;\" bgcolor=\"white\"></td><td style=\"border:solid;\" bgcolor=\"white\"><font color=\"black\">Obj: -0.69</font>, <font color=\"black\">VP_0: -0.69</font></td></tr>\n",
       "<tr><td>3: elephant</td><td style=\"border:none;\" bgcolor=\"white\"></td><td style=\"border:none;\" bgcolor=\"white\"></td><td style=\"border:none;\" bgcolor=\"white\"></td><td style=\"border:solid;\" bgcolor=\"white\"><font color=\"black\">Obj_6: 0.00</font>, <font color=\"black\">Obj_7_9: 0.00</font></td><td style=\"border:solid;\" bgcolor=\"white\"></td><td style=\"border:solid;\" bgcolor=\"white\"></td><td style=\"border:solid;\" bgcolor=\"white\"><font color=\"black\">Obj_7: 0.00</font></td></tr>\n",
       "<tr><td>4: in</td><td style=\"border:none;\" bgcolor=\"white\"></td><td style=\"border:none;\" bgcolor=\"white\"></td><td style=\"border:none;\" bgcolor=\"white\"></td><td style=\"border:none;\" bgcolor=\"white\"></td><td style=\"border:solid;\" bgcolor=\"white\"><font color=\"black\">PP_2: 0.00</font></td><td style=\"border:solid;\" bgcolor=\"white\"></td><td style=\"border:solid;\" bgcolor=\"#E1E1E1\"><font color=\"red\">PP: 0.00</font></td></tr>\n",
       "<tr><td>5: his</td><td style=\"border:none;\" bgcolor=\"white\"></td><td style=\"border:none;\" bgcolor=\"white\"></td><td style=\"border:none;\" bgcolor=\"white\"></td><td style=\"border:none;\" bgcolor=\"white\"></td><td style=\"border:none;\" bgcolor=\"white\"></td><td style=\"border:solid;\" bgcolor=\"white\"><font color=\"black\">PP_1_3: 0.00</font></td><td style=\"border:solid;\" bgcolor=\"white\"><font color=\"black\">PP_1: 0.00</font></td></tr>\n",
       "<tr><td>6: pyjamas</td><td style=\"border:none;\" bgcolor=\"white\"></td><td style=\"border:none;\" bgcolor=\"white\"></td><td style=\"border:none;\" bgcolor=\"white\"></td><td style=\"border:none;\" bgcolor=\"white\"></td><td style=\"border:none;\" bgcolor=\"white\"></td><td style=\"border:none;\" bgcolor=\"white\"></td><td style=\"border:solid;\" bgcolor=\"white\"><font color=\"black\">PP_1_4: 0.00</font></td></tr></table> 100 / 112</div>\n",
       "<div class=\"item\"><table><tr><td></td><td>0: He</td><td>1: shot</td><td>2: the</td><td>3: elephant</td><td>4: in</td><td>5: his</td><td>6: pyjamas</td></tr>\n",
       "<tr><td>0: He</td><td style=\"border:solid;\" bgcolor=\"white\"><font color=\"black\">Subj: 0.00</font></td><td style=\"border:solid;\" bgcolor=\"white\"></td><td style=\"border:solid;\" bgcolor=\"white\"></td><td style=\"border:solid;\" bgcolor=\"white\"><font color=\"black\">S: -1.90</font></td><td style=\"border:solid;\" bgcolor=\"white\"></td><td style=\"border:solid;\" bgcolor=\"white\"></td><td style=\"border:solid;\" bgcolor=\"white\"></td></tr>\n",
       "<tr><td>1: shot</td><td style=\"border:none;\" bgcolor=\"white\"></td><td style=\"border:solid;\" bgcolor=\"white\"><font color=\"black\">Verb: 0.00</font></td><td style=\"border:solid;\" bgcolor=\"white\"></td><td style=\"border:solid;\" bgcolor=\"white\"><font color=\"black\">VP: -1.90</font></td><td style=\"border:solid;\" bgcolor=\"#E1E1E1\"></td><td style=\"border:solid;\" bgcolor=\"white\"></td><td style=\"border:solid;\" bgcolor=\"#C3C3C3\"><font color=\"black\">VP: -1.05</font></td></tr>\n",
       "<tr><td>2: the</td><td style=\"border:none;\" bgcolor=\"white\"></td><td style=\"border:none;\" bgcolor=\"white\"></td><td style=\"border:solid;\" bgcolor=\"white\"><font color=\"black\">Obj_5: 0.00</font>, <font color=\"black\">Obj_8: 0.00</font></td><td style=\"border:solid;\" bgcolor=\"white\"><font color=\"black\">Obj: -0.69</font></td><td style=\"border:solid;\" bgcolor=\"white\"></td><td style=\"border:solid;\" bgcolor=\"white\"></td><td style=\"border:solid;\" bgcolor=\"white\"><font color=\"black\">Obj: -0.69</font>, <font color=\"black\">VP_0: -0.69</font></td></tr>\n",
       "<tr><td>3: elephant</td><td style=\"border:none;\" bgcolor=\"white\"></td><td style=\"border:none;\" bgcolor=\"white\"></td><td style=\"border:none;\" bgcolor=\"white\"></td><td style=\"border:solid;\" bgcolor=\"white\"><font color=\"black\">Obj_6: 0.00</font>, <font color=\"black\">Obj_7_9: 0.00</font></td><td style=\"border:solid;\" bgcolor=\"white\"></td><td style=\"border:solid;\" bgcolor=\"white\"></td><td style=\"border:solid;\" bgcolor=\"white\"><font color=\"black\">Obj_7: 0.00</font></td></tr>\n",
       "<tr><td>4: in</td><td style=\"border:none;\" bgcolor=\"white\"></td><td style=\"border:none;\" bgcolor=\"white\"></td><td style=\"border:none;\" bgcolor=\"white\"></td><td style=\"border:none;\" bgcolor=\"white\"></td><td style=\"border:solid;\" bgcolor=\"white\"><font color=\"black\">PP_2: 0.00</font></td><td style=\"border:solid;\" bgcolor=\"white\"></td><td style=\"border:solid;\" bgcolor=\"white\"><font color=\"black\">PP: 0.00</font></td></tr>\n",
       "<tr><td>5: his</td><td style=\"border:none;\" bgcolor=\"white\"></td><td style=\"border:none;\" bgcolor=\"white\"></td><td style=\"border:none;\" bgcolor=\"white\"></td><td style=\"border:none;\" bgcolor=\"white\"></td><td style=\"border:none;\" bgcolor=\"white\"></td><td style=\"border:solid;\" bgcolor=\"white\"><font color=\"black\">PP_1_3: 0.00</font></td><td style=\"border:solid;\" bgcolor=\"#E1E1E1\"><font color=\"black\">PP_1: 0.00</font></td></tr>\n",
       "<tr><td>6: pyjamas</td><td style=\"border:none;\" bgcolor=\"white\"></td><td style=\"border:none;\" bgcolor=\"white\"></td><td style=\"border:none;\" bgcolor=\"white\"></td><td style=\"border:none;\" bgcolor=\"white\"></td><td style=\"border:none;\" bgcolor=\"white\"></td><td style=\"border:none;\" bgcolor=\"white\"></td><td style=\"border:solid;\" bgcolor=\"white\"><font color=\"black\">PP_1_4: 0.00</font></td></tr></table> 101 / 112</div>\n",
       "<div class=\"item\"><table><tr><td></td><td>0: He</td><td>1: shot</td><td>2: the</td><td>3: elephant</td><td>4: in</td><td>5: his</td><td>6: pyjamas</td></tr>\n",
       "<tr><td>0: He</td><td style=\"border:solid;\" bgcolor=\"white\"><font color=\"black\">Subj: 0.00</font></td><td style=\"border:solid;\" bgcolor=\"white\"></td><td style=\"border:solid;\" bgcolor=\"white\"></td><td style=\"border:solid;\" bgcolor=\"white\"><font color=\"black\">S: -1.90</font></td><td style=\"border:solid;\" bgcolor=\"white\"></td><td style=\"border:solid;\" bgcolor=\"white\"></td><td style=\"border:solid;\" bgcolor=\"white\"></td></tr>\n",
       "<tr><td>1: shot</td><td style=\"border:none;\" bgcolor=\"white\"></td><td style=\"border:solid;\" bgcolor=\"white\"><font color=\"black\">Verb: 0.00</font></td><td style=\"border:solid;\" bgcolor=\"white\"></td><td style=\"border:solid;\" bgcolor=\"white\"><font color=\"black\">VP: -1.90</font></td><td style=\"border:solid;\" bgcolor=\"white\"></td><td style=\"border:solid;\" bgcolor=\"#E1E1E1\"></td><td style=\"border:solid;\" bgcolor=\"#C3C3C3\"><font color=\"black\">VP: -1.05</font></td></tr>\n",
       "<tr><td>2: the</td><td style=\"border:none;\" bgcolor=\"white\"></td><td style=\"border:none;\" bgcolor=\"white\"></td><td style=\"border:solid;\" bgcolor=\"white\"><font color=\"black\">Obj_5: 0.00</font>, <font color=\"black\">Obj_8: 0.00</font></td><td style=\"border:solid;\" bgcolor=\"white\"><font color=\"black\">Obj: -0.69</font></td><td style=\"border:solid;\" bgcolor=\"white\"></td><td style=\"border:solid;\" bgcolor=\"white\"></td><td style=\"border:solid;\" bgcolor=\"white\"><font color=\"black\">Obj: -0.69</font>, <font color=\"black\">VP_0: -0.69</font></td></tr>\n",
       "<tr><td>3: elephant</td><td style=\"border:none;\" bgcolor=\"white\"></td><td style=\"border:none;\" bgcolor=\"white\"></td><td style=\"border:none;\" bgcolor=\"white\"></td><td style=\"border:solid;\" bgcolor=\"white\"><font color=\"black\">Obj_6: 0.00</font>, <font color=\"black\">Obj_7_9: 0.00</font></td><td style=\"border:solid;\" bgcolor=\"white\"></td><td style=\"border:solid;\" bgcolor=\"white\"></td><td style=\"border:solid;\" bgcolor=\"white\"><font color=\"black\">Obj_7: 0.00</font></td></tr>\n",
       "<tr><td>4: in</td><td style=\"border:none;\" bgcolor=\"white\"></td><td style=\"border:none;\" bgcolor=\"white\"></td><td style=\"border:none;\" bgcolor=\"white\"></td><td style=\"border:none;\" bgcolor=\"white\"></td><td style=\"border:solid;\" bgcolor=\"white\"><font color=\"black\">PP_2: 0.00</font></td><td style=\"border:solid;\" bgcolor=\"white\"></td><td style=\"border:solid;\" bgcolor=\"white\"><font color=\"black\">PP: 0.00</font></td></tr>\n",
       "<tr><td>5: his</td><td style=\"border:none;\" bgcolor=\"white\"></td><td style=\"border:none;\" bgcolor=\"white\"></td><td style=\"border:none;\" bgcolor=\"white\"></td><td style=\"border:none;\" bgcolor=\"white\"></td><td style=\"border:none;\" bgcolor=\"white\"></td><td style=\"border:solid;\" bgcolor=\"white\"><font color=\"black\">PP_1_3: 0.00</font></td><td style=\"border:solid;\" bgcolor=\"white\"><font color=\"black\">PP_1: 0.00</font></td></tr>\n",
       "<tr><td>6: pyjamas</td><td style=\"border:none;\" bgcolor=\"white\"></td><td style=\"border:none;\" bgcolor=\"white\"></td><td style=\"border:none;\" bgcolor=\"white\"></td><td style=\"border:none;\" bgcolor=\"white\"></td><td style=\"border:none;\" bgcolor=\"white\"></td><td style=\"border:none;\" bgcolor=\"white\"></td><td style=\"border:solid;\" bgcolor=\"#E1E1E1\"><font color=\"black\">PP_1_4: 0.00</font></td></tr></table> 102 / 112</div>\n",
       "<div class=\"item\"><table><tr><td></td><td>0: He</td><td>1: shot</td><td>2: the</td><td>3: elephant</td><td>4: in</td><td>5: his</td><td>6: pyjamas</td></tr>\n",
       "<tr><td>0: He</td><td style=\"border:solid;\" bgcolor=\"#E1E1E1\"><font color=\"black\">Subj: 0.00</font></td><td style=\"border:solid;\" bgcolor=\"white\"></td><td style=\"border:solid;\" bgcolor=\"white\"></td><td style=\"border:solid;\" bgcolor=\"white\"><font color=\"black\">S: -1.90</font></td><td style=\"border:solid;\" bgcolor=\"white\"></td><td style=\"border:solid;\" bgcolor=\"white\"></td><td style=\"border:solid;\" bgcolor=\"#C3C3C3\"></td></tr>\n",
       "<tr><td>1: shot</td><td style=\"border:none;\" bgcolor=\"white\"></td><td style=\"border:solid;\" bgcolor=\"white\"><font color=\"black\">Verb: 0.00</font></td><td style=\"border:solid;\" bgcolor=\"white\"></td><td style=\"border:solid;\" bgcolor=\"white\"><font color=\"black\">VP: -1.90</font></td><td style=\"border:solid;\" bgcolor=\"white\"></td><td style=\"border:solid;\" bgcolor=\"white\"></td><td style=\"border:solid;\" bgcolor=\"#E1E1E1\"><font color=\"black\">VP: -1.05</font></td></tr>\n",
       "<tr><td>2: the</td><td style=\"border:none;\" bgcolor=\"white\"></td><td style=\"border:none;\" bgcolor=\"white\"></td><td style=\"border:solid;\" bgcolor=\"white\"><font color=\"black\">Obj_5: 0.00</font>, <font color=\"black\">Obj_8: 0.00</font></td><td style=\"border:solid;\" bgcolor=\"white\"><font color=\"black\">Obj: -0.69</font></td><td style=\"border:solid;\" bgcolor=\"white\"></td><td style=\"border:solid;\" bgcolor=\"white\"></td><td style=\"border:solid;\" bgcolor=\"white\"><font color=\"black\">Obj: -0.69</font>, <font color=\"black\">VP_0: -0.69</font></td></tr>\n",
       "<tr><td>3: elephant</td><td style=\"border:none;\" bgcolor=\"white\"></td><td style=\"border:none;\" bgcolor=\"white\"></td><td style=\"border:none;\" bgcolor=\"white\"></td><td style=\"border:solid;\" bgcolor=\"white\"><font color=\"black\">Obj_6: 0.00</font>, <font color=\"black\">Obj_7_9: 0.00</font></td><td style=\"border:solid;\" bgcolor=\"white\"></td><td style=\"border:solid;\" bgcolor=\"white\"></td><td style=\"border:solid;\" bgcolor=\"white\"><font color=\"black\">Obj_7: 0.00</font></td></tr>\n",
       "<tr><td>4: in</td><td style=\"border:none;\" bgcolor=\"white\"></td><td style=\"border:none;\" bgcolor=\"white\"></td><td style=\"border:none;\" bgcolor=\"white\"></td><td style=\"border:none;\" bgcolor=\"white\"></td><td style=\"border:solid;\" bgcolor=\"white\"><font color=\"black\">PP_2: 0.00</font></td><td style=\"border:solid;\" bgcolor=\"white\"></td><td style=\"border:solid;\" bgcolor=\"white\"><font color=\"black\">PP: 0.00</font></td></tr>\n",
       "<tr><td>5: his</td><td style=\"border:none;\" bgcolor=\"white\"></td><td style=\"border:none;\" bgcolor=\"white\"></td><td style=\"border:none;\" bgcolor=\"white\"></td><td style=\"border:none;\" bgcolor=\"white\"></td><td style=\"border:none;\" bgcolor=\"white\"></td><td style=\"border:solid;\" bgcolor=\"white\"><font color=\"black\">PP_1_3: 0.00</font></td><td style=\"border:solid;\" bgcolor=\"white\"><font color=\"black\">PP_1: 0.00</font></td></tr>\n",
       "<tr><td>6: pyjamas</td><td style=\"border:none;\" bgcolor=\"white\"></td><td style=\"border:none;\" bgcolor=\"white\"></td><td style=\"border:none;\" bgcolor=\"white\"></td><td style=\"border:none;\" bgcolor=\"white\"></td><td style=\"border:none;\" bgcolor=\"white\"></td><td style=\"border:none;\" bgcolor=\"white\"></td><td style=\"border:solid;\" bgcolor=\"white\"><font color=\"black\">PP_1_4: 0.00</font></td></tr></table> 103 / 112</div>\n",
       "<div class=\"item\"><table><tr><td></td><td>0: He</td><td>1: shot</td><td>2: the</td><td>3: elephant</td><td>4: in</td><td>5: his</td><td>6: pyjamas</td></tr>\n",
       "<tr><td>0: He</td><td style=\"border:solid;\" bgcolor=\"#E1E1E1\"><font color=\"red\">Subj: 0.00</font></td><td style=\"border:solid;\" bgcolor=\"white\"></td><td style=\"border:solid;\" bgcolor=\"white\"></td><td style=\"border:solid;\" bgcolor=\"white\"><font color=\"black\">S: -1.90</font></td><td style=\"border:solid;\" bgcolor=\"white\"></td><td style=\"border:solid;\" bgcolor=\"white\"></td><td style=\"border:solid;\" bgcolor=\"#C3C3C3\"></td></tr>\n",
       "<tr><td>1: shot</td><td style=\"border:none;\" bgcolor=\"white\"></td><td style=\"border:solid;\" bgcolor=\"white\"><font color=\"black\">Verb: 0.00</font></td><td style=\"border:solid;\" bgcolor=\"white\"></td><td style=\"border:solid;\" bgcolor=\"white\"><font color=\"black\">VP: -1.90</font></td><td style=\"border:solid;\" bgcolor=\"white\"></td><td style=\"border:solid;\" bgcolor=\"white\"></td><td style=\"border:solid;\" bgcolor=\"#E1E1E1\"><font color=\"red\">VP: -1.05</font></td></tr>\n",
       "<tr><td>2: the</td><td style=\"border:none;\" bgcolor=\"white\"></td><td style=\"border:none;\" bgcolor=\"white\"></td><td style=\"border:solid;\" bgcolor=\"white\"><font color=\"black\">Obj_5: 0.00</font>, <font color=\"black\">Obj_8: 0.00</font></td><td style=\"border:solid;\" bgcolor=\"white\"><font color=\"black\">Obj: -0.69</font></td><td style=\"border:solid;\" bgcolor=\"white\"></td><td style=\"border:solid;\" bgcolor=\"white\"></td><td style=\"border:solid;\" bgcolor=\"white\"><font color=\"black\">Obj: -0.69</font>, <font color=\"black\">VP_0: -0.69</font></td></tr>\n",
       "<tr><td>3: elephant</td><td style=\"border:none;\" bgcolor=\"white\"></td><td style=\"border:none;\" bgcolor=\"white\"></td><td style=\"border:none;\" bgcolor=\"white\"></td><td style=\"border:solid;\" bgcolor=\"white\"><font color=\"black\">Obj_6: 0.00</font>, <font color=\"black\">Obj_7_9: 0.00</font></td><td style=\"border:solid;\" bgcolor=\"white\"></td><td style=\"border:solid;\" bgcolor=\"white\"></td><td style=\"border:solid;\" bgcolor=\"white\"><font color=\"black\">Obj_7: 0.00</font></td></tr>\n",
       "<tr><td>4: in</td><td style=\"border:none;\" bgcolor=\"white\"></td><td style=\"border:none;\" bgcolor=\"white\"></td><td style=\"border:none;\" bgcolor=\"white\"></td><td style=\"border:none;\" bgcolor=\"white\"></td><td style=\"border:solid;\" bgcolor=\"white\"><font color=\"black\">PP_2: 0.00</font></td><td style=\"border:solid;\" bgcolor=\"white\"></td><td style=\"border:solid;\" bgcolor=\"white\"><font color=\"black\">PP: 0.00</font></td></tr>\n",
       "<tr><td>5: his</td><td style=\"border:none;\" bgcolor=\"white\"></td><td style=\"border:none;\" bgcolor=\"white\"></td><td style=\"border:none;\" bgcolor=\"white\"></td><td style=\"border:none;\" bgcolor=\"white\"></td><td style=\"border:none;\" bgcolor=\"white\"></td><td style=\"border:solid;\" bgcolor=\"white\"><font color=\"black\">PP_1_3: 0.00</font></td><td style=\"border:solid;\" bgcolor=\"white\"><font color=\"black\">PP_1: 0.00</font></td></tr>\n",
       "<tr><td>6: pyjamas</td><td style=\"border:none;\" bgcolor=\"white\"></td><td style=\"border:none;\" bgcolor=\"white\"></td><td style=\"border:none;\" bgcolor=\"white\"></td><td style=\"border:none;\" bgcolor=\"white\"></td><td style=\"border:none;\" bgcolor=\"white\"></td><td style=\"border:none;\" bgcolor=\"white\"></td><td style=\"border:solid;\" bgcolor=\"white\"><font color=\"black\">PP_1_4: 0.00</font></td></tr></table> 104 / 112</div>\n",
       "<div class=\"item\"><table><tr><td></td><td>0: He</td><td>1: shot</td><td>2: the</td><td>3: elephant</td><td>4: in</td><td>5: his</td><td>6: pyjamas</td></tr>\n",
       "<tr><td>0: He</td><td style=\"border:solid;\" bgcolor=\"#E1E1E1\"><font color=\"red\">Subj: 0.00</font></td><td style=\"border:solid;\" bgcolor=\"white\"></td><td style=\"border:solid;\" bgcolor=\"white\"></td><td style=\"border:solid;\" bgcolor=\"white\"><font color=\"black\">S: -1.90</font></td><td style=\"border:solid;\" bgcolor=\"white\"></td><td style=\"border:solid;\" bgcolor=\"white\"></td><td style=\"border:solid;\" bgcolor=\"#C3C3C3\"><font color=\"blue\">S: -1.05</font></td></tr>\n",
       "<tr><td>1: shot</td><td style=\"border:none;\" bgcolor=\"white\"></td><td style=\"border:solid;\" bgcolor=\"white\"><font color=\"black\">Verb: 0.00</font></td><td style=\"border:solid;\" bgcolor=\"white\"></td><td style=\"border:solid;\" bgcolor=\"white\"><font color=\"black\">VP: -1.90</font></td><td style=\"border:solid;\" bgcolor=\"white\"></td><td style=\"border:solid;\" bgcolor=\"white\"></td><td style=\"border:solid;\" bgcolor=\"#E1E1E1\"><font color=\"red\">VP: -1.05</font></td></tr>\n",
       "<tr><td>2: the</td><td style=\"border:none;\" bgcolor=\"white\"></td><td style=\"border:none;\" bgcolor=\"white\"></td><td style=\"border:solid;\" bgcolor=\"white\"><font color=\"black\">Obj_5: 0.00</font>, <font color=\"black\">Obj_8: 0.00</font></td><td style=\"border:solid;\" bgcolor=\"white\"><font color=\"black\">Obj: -0.69</font></td><td style=\"border:solid;\" bgcolor=\"white\"></td><td style=\"border:solid;\" bgcolor=\"white\"></td><td style=\"border:solid;\" bgcolor=\"white\"><font color=\"black\">Obj: -0.69</font>, <font color=\"black\">VP_0: -0.69</font></td></tr>\n",
       "<tr><td>3: elephant</td><td style=\"border:none;\" bgcolor=\"white\"></td><td style=\"border:none;\" bgcolor=\"white\"></td><td style=\"border:none;\" bgcolor=\"white\"></td><td style=\"border:solid;\" bgcolor=\"white\"><font color=\"black\">Obj_6: 0.00</font>, <font color=\"black\">Obj_7_9: 0.00</font></td><td style=\"border:solid;\" bgcolor=\"white\"></td><td style=\"border:solid;\" bgcolor=\"white\"></td><td style=\"border:solid;\" bgcolor=\"white\"><font color=\"black\">Obj_7: 0.00</font></td></tr>\n",
       "<tr><td>4: in</td><td style=\"border:none;\" bgcolor=\"white\"></td><td style=\"border:none;\" bgcolor=\"white\"></td><td style=\"border:none;\" bgcolor=\"white\"></td><td style=\"border:none;\" bgcolor=\"white\"></td><td style=\"border:solid;\" bgcolor=\"white\"><font color=\"black\">PP_2: 0.00</font></td><td style=\"border:solid;\" bgcolor=\"white\"></td><td style=\"border:solid;\" bgcolor=\"white\"><font color=\"black\">PP: 0.00</font></td></tr>\n",
       "<tr><td>5: his</td><td style=\"border:none;\" bgcolor=\"white\"></td><td style=\"border:none;\" bgcolor=\"white\"></td><td style=\"border:none;\" bgcolor=\"white\"></td><td style=\"border:none;\" bgcolor=\"white\"></td><td style=\"border:none;\" bgcolor=\"white\"></td><td style=\"border:solid;\" bgcolor=\"white\"><font color=\"black\">PP_1_3: 0.00</font></td><td style=\"border:solid;\" bgcolor=\"white\"><font color=\"black\">PP_1: 0.00</font></td></tr>\n",
       "<tr><td>6: pyjamas</td><td style=\"border:none;\" bgcolor=\"white\"></td><td style=\"border:none;\" bgcolor=\"white\"></td><td style=\"border:none;\" bgcolor=\"white\"></td><td style=\"border:none;\" bgcolor=\"white\"></td><td style=\"border:none;\" bgcolor=\"white\"></td><td style=\"border:none;\" bgcolor=\"white\"></td><td style=\"border:solid;\" bgcolor=\"white\"><font color=\"black\">PP_1_4: 0.00</font></td></tr></table> 105 / 112</div>\n",
       "<div class=\"item\"><table><tr><td></td><td>0: He</td><td>1: shot</td><td>2: the</td><td>3: elephant</td><td>4: in</td><td>5: his</td><td>6: pyjamas</td></tr>\n",
       "<tr><td>0: He</td><td style=\"border:solid;\" bgcolor=\"white\"><font color=\"black\">Subj: 0.00</font></td><td style=\"border:solid;\" bgcolor=\"#E1E1E1\"></td><td style=\"border:solid;\" bgcolor=\"white\"></td><td style=\"border:solid;\" bgcolor=\"white\"><font color=\"black\">S: -1.90</font></td><td style=\"border:solid;\" bgcolor=\"white\"></td><td style=\"border:solid;\" bgcolor=\"white\"></td><td style=\"border:solid;\" bgcolor=\"#C3C3C3\"><font color=\"black\">S: -1.05</font></td></tr>\n",
       "<tr><td>1: shot</td><td style=\"border:none;\" bgcolor=\"white\"></td><td style=\"border:solid;\" bgcolor=\"white\"><font color=\"black\">Verb: 0.00</font></td><td style=\"border:solid;\" bgcolor=\"white\"></td><td style=\"border:solid;\" bgcolor=\"white\"><font color=\"black\">VP: -1.90</font></td><td style=\"border:solid;\" bgcolor=\"white\"></td><td style=\"border:solid;\" bgcolor=\"white\"></td><td style=\"border:solid;\" bgcolor=\"white\"><font color=\"black\">VP: -1.05</font></td></tr>\n",
       "<tr><td>2: the</td><td style=\"border:none;\" bgcolor=\"white\"></td><td style=\"border:none;\" bgcolor=\"white\"></td><td style=\"border:solid;\" bgcolor=\"white\"><font color=\"black\">Obj_5: 0.00</font>, <font color=\"black\">Obj_8: 0.00</font></td><td style=\"border:solid;\" bgcolor=\"white\"><font color=\"black\">Obj: -0.69</font></td><td style=\"border:solid;\" bgcolor=\"white\"></td><td style=\"border:solid;\" bgcolor=\"white\"></td><td style=\"border:solid;\" bgcolor=\"#E1E1E1\"><font color=\"black\">Obj: -0.69</font>, <font color=\"black\">VP_0: -0.69</font></td></tr>\n",
       "<tr><td>3: elephant</td><td style=\"border:none;\" bgcolor=\"white\"></td><td style=\"border:none;\" bgcolor=\"white\"></td><td style=\"border:none;\" bgcolor=\"white\"></td><td style=\"border:solid;\" bgcolor=\"white\"><font color=\"black\">Obj_6: 0.00</font>, <font color=\"black\">Obj_7_9: 0.00</font></td><td style=\"border:solid;\" bgcolor=\"white\"></td><td style=\"border:solid;\" bgcolor=\"white\"></td><td style=\"border:solid;\" bgcolor=\"white\"><font color=\"black\">Obj_7: 0.00</font></td></tr>\n",
       "<tr><td>4: in</td><td style=\"border:none;\" bgcolor=\"white\"></td><td style=\"border:none;\" bgcolor=\"white\"></td><td style=\"border:none;\" bgcolor=\"white\"></td><td style=\"border:none;\" bgcolor=\"white\"></td><td style=\"border:solid;\" bgcolor=\"white\"><font color=\"black\">PP_2: 0.00</font></td><td style=\"border:solid;\" bgcolor=\"white\"></td><td style=\"border:solid;\" bgcolor=\"white\"><font color=\"black\">PP: 0.00</font></td></tr>\n",
       "<tr><td>5: his</td><td style=\"border:none;\" bgcolor=\"white\"></td><td style=\"border:none;\" bgcolor=\"white\"></td><td style=\"border:none;\" bgcolor=\"white\"></td><td style=\"border:none;\" bgcolor=\"white\"></td><td style=\"border:none;\" bgcolor=\"white\"></td><td style=\"border:solid;\" bgcolor=\"white\"><font color=\"black\">PP_1_3: 0.00</font></td><td style=\"border:solid;\" bgcolor=\"white\"><font color=\"black\">PP_1: 0.00</font></td></tr>\n",
       "<tr><td>6: pyjamas</td><td style=\"border:none;\" bgcolor=\"white\"></td><td style=\"border:none;\" bgcolor=\"white\"></td><td style=\"border:none;\" bgcolor=\"white\"></td><td style=\"border:none;\" bgcolor=\"white\"></td><td style=\"border:none;\" bgcolor=\"white\"></td><td style=\"border:none;\" bgcolor=\"white\"></td><td style=\"border:solid;\" bgcolor=\"white\"><font color=\"black\">PP_1_4: 0.00</font></td></tr></table> 106 / 112</div>\n",
       "<div class=\"item\"><table><tr><td></td><td>0: He</td><td>1: shot</td><td>2: the</td><td>3: elephant</td><td>4: in</td><td>5: his</td><td>6: pyjamas</td></tr>\n",
       "<tr><td>0: He</td><td style=\"border:solid;\" bgcolor=\"white\"><font color=\"black\">Subj: 0.00</font></td><td style=\"border:solid;\" bgcolor=\"white\"></td><td style=\"border:solid;\" bgcolor=\"#E1E1E1\"></td><td style=\"border:solid;\" bgcolor=\"white\"><font color=\"black\">S: -1.90</font></td><td style=\"border:solid;\" bgcolor=\"white\"></td><td style=\"border:solid;\" bgcolor=\"white\"></td><td style=\"border:solid;\" bgcolor=\"#C3C3C3\"><font color=\"black\">S: -1.05</font></td></tr>\n",
       "<tr><td>1: shot</td><td style=\"border:none;\" bgcolor=\"white\"></td><td style=\"border:solid;\" bgcolor=\"white\"><font color=\"black\">Verb: 0.00</font></td><td style=\"border:solid;\" bgcolor=\"white\"></td><td style=\"border:solid;\" bgcolor=\"white\"><font color=\"black\">VP: -1.90</font></td><td style=\"border:solid;\" bgcolor=\"white\"></td><td style=\"border:solid;\" bgcolor=\"white\"></td><td style=\"border:solid;\" bgcolor=\"white\"><font color=\"black\">VP: -1.05</font></td></tr>\n",
       "<tr><td>2: the</td><td style=\"border:none;\" bgcolor=\"white\"></td><td style=\"border:none;\" bgcolor=\"white\"></td><td style=\"border:solid;\" bgcolor=\"white\"><font color=\"black\">Obj_5: 0.00</font>, <font color=\"black\">Obj_8: 0.00</font></td><td style=\"border:solid;\" bgcolor=\"white\"><font color=\"black\">Obj: -0.69</font></td><td style=\"border:solid;\" bgcolor=\"white\"></td><td style=\"border:solid;\" bgcolor=\"white\"></td><td style=\"border:solid;\" bgcolor=\"white\"><font color=\"black\">Obj: -0.69</font>, <font color=\"black\">VP_0: -0.69</font></td></tr>\n",
       "<tr><td>3: elephant</td><td style=\"border:none;\" bgcolor=\"white\"></td><td style=\"border:none;\" bgcolor=\"white\"></td><td style=\"border:none;\" bgcolor=\"white\"></td><td style=\"border:solid;\" bgcolor=\"white\"><font color=\"black\">Obj_6: 0.00</font>, <font color=\"black\">Obj_7_9: 0.00</font></td><td style=\"border:solid;\" bgcolor=\"white\"></td><td style=\"border:solid;\" bgcolor=\"white\"></td><td style=\"border:solid;\" bgcolor=\"#E1E1E1\"><font color=\"black\">Obj_7: 0.00</font></td></tr>\n",
       "<tr><td>4: in</td><td style=\"border:none;\" bgcolor=\"white\"></td><td style=\"border:none;\" bgcolor=\"white\"></td><td style=\"border:none;\" bgcolor=\"white\"></td><td style=\"border:none;\" bgcolor=\"white\"></td><td style=\"border:solid;\" bgcolor=\"white\"><font color=\"black\">PP_2: 0.00</font></td><td style=\"border:solid;\" bgcolor=\"white\"></td><td style=\"border:solid;\" bgcolor=\"white\"><font color=\"black\">PP: 0.00</font></td></tr>\n",
       "<tr><td>5: his</td><td style=\"border:none;\" bgcolor=\"white\"></td><td style=\"border:none;\" bgcolor=\"white\"></td><td style=\"border:none;\" bgcolor=\"white\"></td><td style=\"border:none;\" bgcolor=\"white\"></td><td style=\"border:none;\" bgcolor=\"white\"></td><td style=\"border:solid;\" bgcolor=\"white\"><font color=\"black\">PP_1_3: 0.00</font></td><td style=\"border:solid;\" bgcolor=\"white\"><font color=\"black\">PP_1: 0.00</font></td></tr>\n",
       "<tr><td>6: pyjamas</td><td style=\"border:none;\" bgcolor=\"white\"></td><td style=\"border:none;\" bgcolor=\"white\"></td><td style=\"border:none;\" bgcolor=\"white\"></td><td style=\"border:none;\" bgcolor=\"white\"></td><td style=\"border:none;\" bgcolor=\"white\"></td><td style=\"border:none;\" bgcolor=\"white\"></td><td style=\"border:solid;\" bgcolor=\"white\"><font color=\"black\">PP_1_4: 0.00</font></td></tr></table> 107 / 112</div>\n",
       "<div class=\"item\"><table><tr><td></td><td>0: He</td><td>1: shot</td><td>2: the</td><td>3: elephant</td><td>4: in</td><td>5: his</td><td>6: pyjamas</td></tr>\n",
       "<tr><td>0: He</td><td style=\"border:solid;\" bgcolor=\"white\"><font color=\"black\">Subj: 0.00</font></td><td style=\"border:solid;\" bgcolor=\"white\"></td><td style=\"border:solid;\" bgcolor=\"white\"></td><td style=\"border:solid;\" bgcolor=\"#E1E1E1\"><font color=\"black\">S: -1.90</font></td><td style=\"border:solid;\" bgcolor=\"white\"></td><td style=\"border:solid;\" bgcolor=\"white\"></td><td style=\"border:solid;\" bgcolor=\"#C3C3C3\"><font color=\"black\">S: -1.05</font></td></tr>\n",
       "<tr><td>1: shot</td><td style=\"border:none;\" bgcolor=\"white\"></td><td style=\"border:solid;\" bgcolor=\"white\"><font color=\"black\">Verb: 0.00</font></td><td style=\"border:solid;\" bgcolor=\"white\"></td><td style=\"border:solid;\" bgcolor=\"white\"><font color=\"black\">VP: -1.90</font></td><td style=\"border:solid;\" bgcolor=\"white\"></td><td style=\"border:solid;\" bgcolor=\"white\"></td><td style=\"border:solid;\" bgcolor=\"white\"><font color=\"black\">VP: -1.05</font></td></tr>\n",
       "<tr><td>2: the</td><td style=\"border:none;\" bgcolor=\"white\"></td><td style=\"border:none;\" bgcolor=\"white\"></td><td style=\"border:solid;\" bgcolor=\"white\"><font color=\"black\">Obj_5: 0.00</font>, <font color=\"black\">Obj_8: 0.00</font></td><td style=\"border:solid;\" bgcolor=\"white\"><font color=\"black\">Obj: -0.69</font></td><td style=\"border:solid;\" bgcolor=\"white\"></td><td style=\"border:solid;\" bgcolor=\"white\"></td><td style=\"border:solid;\" bgcolor=\"white\"><font color=\"black\">Obj: -0.69</font>, <font color=\"black\">VP_0: -0.69</font></td></tr>\n",
       "<tr><td>3: elephant</td><td style=\"border:none;\" bgcolor=\"white\"></td><td style=\"border:none;\" bgcolor=\"white\"></td><td style=\"border:none;\" bgcolor=\"white\"></td><td style=\"border:solid;\" bgcolor=\"white\"><font color=\"black\">Obj_6: 0.00</font>, <font color=\"black\">Obj_7_9: 0.00</font></td><td style=\"border:solid;\" bgcolor=\"white\"></td><td style=\"border:solid;\" bgcolor=\"white\"></td><td style=\"border:solid;\" bgcolor=\"white\"><font color=\"black\">Obj_7: 0.00</font></td></tr>\n",
       "<tr><td>4: in</td><td style=\"border:none;\" bgcolor=\"white\"></td><td style=\"border:none;\" bgcolor=\"white\"></td><td style=\"border:none;\" bgcolor=\"white\"></td><td style=\"border:none;\" bgcolor=\"white\"></td><td style=\"border:solid;\" bgcolor=\"white\"><font color=\"black\">PP_2: 0.00</font></td><td style=\"border:solid;\" bgcolor=\"white\"></td><td style=\"border:solid;\" bgcolor=\"#E1E1E1\"><font color=\"black\">PP: 0.00</font></td></tr>\n",
       "<tr><td>5: his</td><td style=\"border:none;\" bgcolor=\"white\"></td><td style=\"border:none;\" bgcolor=\"white\"></td><td style=\"border:none;\" bgcolor=\"white\"></td><td style=\"border:none;\" bgcolor=\"white\"></td><td style=\"border:none;\" bgcolor=\"white\"></td><td style=\"border:solid;\" bgcolor=\"white\"><font color=\"black\">PP_1_3: 0.00</font></td><td style=\"border:solid;\" bgcolor=\"white\"><font color=\"black\">PP_1: 0.00</font></td></tr>\n",
       "<tr><td>6: pyjamas</td><td style=\"border:none;\" bgcolor=\"white\"></td><td style=\"border:none;\" bgcolor=\"white\"></td><td style=\"border:none;\" bgcolor=\"white\"></td><td style=\"border:none;\" bgcolor=\"white\"></td><td style=\"border:none;\" bgcolor=\"white\"></td><td style=\"border:none;\" bgcolor=\"white\"></td><td style=\"border:solid;\" bgcolor=\"white\"><font color=\"black\">PP_1_4: 0.00</font></td></tr></table> 108 / 112</div>\n",
       "<div class=\"item\"><table><tr><td></td><td>0: He</td><td>1: shot</td><td>2: the</td><td>3: elephant</td><td>4: in</td><td>5: his</td><td>6: pyjamas</td></tr>\n",
       "<tr><td>0: He</td><td style=\"border:solid;\" bgcolor=\"white\"><font color=\"black\">Subj: 0.00</font></td><td style=\"border:solid;\" bgcolor=\"white\"></td><td style=\"border:solid;\" bgcolor=\"white\"></td><td style=\"border:solid;\" bgcolor=\"#E1E1E1\"><font color=\"red\">S: -1.90</font></td><td style=\"border:solid;\" bgcolor=\"white\"></td><td style=\"border:solid;\" bgcolor=\"white\"></td><td style=\"border:solid;\" bgcolor=\"#C3C3C3\"><font color=\"black\">S: -1.05</font></td></tr>\n",
       "<tr><td>1: shot</td><td style=\"border:none;\" bgcolor=\"white\"></td><td style=\"border:solid;\" bgcolor=\"white\"><font color=\"black\">Verb: 0.00</font></td><td style=\"border:solid;\" bgcolor=\"white\"></td><td style=\"border:solid;\" bgcolor=\"white\"><font color=\"black\">VP: -1.90</font></td><td style=\"border:solid;\" bgcolor=\"white\"></td><td style=\"border:solid;\" bgcolor=\"white\"></td><td style=\"border:solid;\" bgcolor=\"white\"><font color=\"black\">VP: -1.05</font></td></tr>\n",
       "<tr><td>2: the</td><td style=\"border:none;\" bgcolor=\"white\"></td><td style=\"border:none;\" bgcolor=\"white\"></td><td style=\"border:solid;\" bgcolor=\"white\"><font color=\"black\">Obj_5: 0.00</font>, <font color=\"black\">Obj_8: 0.00</font></td><td style=\"border:solid;\" bgcolor=\"white\"><font color=\"black\">Obj: -0.69</font></td><td style=\"border:solid;\" bgcolor=\"white\"></td><td style=\"border:solid;\" bgcolor=\"white\"></td><td style=\"border:solid;\" bgcolor=\"white\"><font color=\"black\">Obj: -0.69</font>, <font color=\"black\">VP_0: -0.69</font></td></tr>\n",
       "<tr><td>3: elephant</td><td style=\"border:none;\" bgcolor=\"white\"></td><td style=\"border:none;\" bgcolor=\"white\"></td><td style=\"border:none;\" bgcolor=\"white\"></td><td style=\"border:solid;\" bgcolor=\"white\"><font color=\"black\">Obj_6: 0.00</font>, <font color=\"black\">Obj_7_9: 0.00</font></td><td style=\"border:solid;\" bgcolor=\"white\"></td><td style=\"border:solid;\" bgcolor=\"white\"></td><td style=\"border:solid;\" bgcolor=\"white\"><font color=\"black\">Obj_7: 0.00</font></td></tr>\n",
       "<tr><td>4: in</td><td style=\"border:none;\" bgcolor=\"white\"></td><td style=\"border:none;\" bgcolor=\"white\"></td><td style=\"border:none;\" bgcolor=\"white\"></td><td style=\"border:none;\" bgcolor=\"white\"></td><td style=\"border:solid;\" bgcolor=\"white\"><font color=\"black\">PP_2: 0.00</font></td><td style=\"border:solid;\" bgcolor=\"white\"></td><td style=\"border:solid;\" bgcolor=\"#E1E1E1\"><font color=\"red\">PP: 0.00</font></td></tr>\n",
       "<tr><td>5: his</td><td style=\"border:none;\" bgcolor=\"white\"></td><td style=\"border:none;\" bgcolor=\"white\"></td><td style=\"border:none;\" bgcolor=\"white\"></td><td style=\"border:none;\" bgcolor=\"white\"></td><td style=\"border:none;\" bgcolor=\"white\"></td><td style=\"border:solid;\" bgcolor=\"white\"><font color=\"black\">PP_1_3: 0.00</font></td><td style=\"border:solid;\" bgcolor=\"white\"><font color=\"black\">PP_1: 0.00</font></td></tr>\n",
       "<tr><td>6: pyjamas</td><td style=\"border:none;\" bgcolor=\"white\"></td><td style=\"border:none;\" bgcolor=\"white\"></td><td style=\"border:none;\" bgcolor=\"white\"></td><td style=\"border:none;\" bgcolor=\"white\"></td><td style=\"border:none;\" bgcolor=\"white\"></td><td style=\"border:none;\" bgcolor=\"white\"></td><td style=\"border:solid;\" bgcolor=\"white\"><font color=\"black\">PP_1_4: 0.00</font></td></tr></table> 109 / 112</div>\n",
       "<div class=\"item\"><table><tr><td></td><td>0: He</td><td>1: shot</td><td>2: the</td><td>3: elephant</td><td>4: in</td><td>5: his</td><td>6: pyjamas</td></tr>\n",
       "<tr><td>0: He</td><td style=\"border:solid;\" bgcolor=\"white\"><font color=\"black\">Subj: 0.00</font></td><td style=\"border:solid;\" bgcolor=\"white\"></td><td style=\"border:solid;\" bgcolor=\"white\"></td><td style=\"border:solid;\" bgcolor=\"white\"><font color=\"black\">S: -1.90</font></td><td style=\"border:solid;\" bgcolor=\"#E1E1E1\"></td><td style=\"border:solid;\" bgcolor=\"white\"></td><td style=\"border:solid;\" bgcolor=\"#C3C3C3\"><font color=\"black\">S: -1.05</font></td></tr>\n",
       "<tr><td>1: shot</td><td style=\"border:none;\" bgcolor=\"white\"></td><td style=\"border:solid;\" bgcolor=\"white\"><font color=\"black\">Verb: 0.00</font></td><td style=\"border:solid;\" bgcolor=\"white\"></td><td style=\"border:solid;\" bgcolor=\"white\"><font color=\"black\">VP: -1.90</font></td><td style=\"border:solid;\" bgcolor=\"white\"></td><td style=\"border:solid;\" bgcolor=\"white\"></td><td style=\"border:solid;\" bgcolor=\"white\"><font color=\"black\">VP: -1.05</font></td></tr>\n",
       "<tr><td>2: the</td><td style=\"border:none;\" bgcolor=\"white\"></td><td style=\"border:none;\" bgcolor=\"white\"></td><td style=\"border:solid;\" bgcolor=\"white\"><font color=\"black\">Obj_5: 0.00</font>, <font color=\"black\">Obj_8: 0.00</font></td><td style=\"border:solid;\" bgcolor=\"white\"><font color=\"black\">Obj: -0.69</font></td><td style=\"border:solid;\" bgcolor=\"white\"></td><td style=\"border:solid;\" bgcolor=\"white\"></td><td style=\"border:solid;\" bgcolor=\"white\"><font color=\"black\">Obj: -0.69</font>, <font color=\"black\">VP_0: -0.69</font></td></tr>\n",
       "<tr><td>3: elephant</td><td style=\"border:none;\" bgcolor=\"white\"></td><td style=\"border:none;\" bgcolor=\"white\"></td><td style=\"border:none;\" bgcolor=\"white\"></td><td style=\"border:solid;\" bgcolor=\"white\"><font color=\"black\">Obj_6: 0.00</font>, <font color=\"black\">Obj_7_9: 0.00</font></td><td style=\"border:solid;\" bgcolor=\"white\"></td><td style=\"border:solid;\" bgcolor=\"white\"></td><td style=\"border:solid;\" bgcolor=\"white\"><font color=\"black\">Obj_7: 0.00</font></td></tr>\n",
       "<tr><td>4: in</td><td style=\"border:none;\" bgcolor=\"white\"></td><td style=\"border:none;\" bgcolor=\"white\"></td><td style=\"border:none;\" bgcolor=\"white\"></td><td style=\"border:none;\" bgcolor=\"white\"></td><td style=\"border:solid;\" bgcolor=\"white\"><font color=\"black\">PP_2: 0.00</font></td><td style=\"border:solid;\" bgcolor=\"white\"></td><td style=\"border:solid;\" bgcolor=\"white\"><font color=\"black\">PP: 0.00</font></td></tr>\n",
       "<tr><td>5: his</td><td style=\"border:none;\" bgcolor=\"white\"></td><td style=\"border:none;\" bgcolor=\"white\"></td><td style=\"border:none;\" bgcolor=\"white\"></td><td style=\"border:none;\" bgcolor=\"white\"></td><td style=\"border:none;\" bgcolor=\"white\"></td><td style=\"border:solid;\" bgcolor=\"white\"><font color=\"black\">PP_1_3: 0.00</font></td><td style=\"border:solid;\" bgcolor=\"#E1E1E1\"><font color=\"black\">PP_1: 0.00</font></td></tr>\n",
       "<tr><td>6: pyjamas</td><td style=\"border:none;\" bgcolor=\"white\"></td><td style=\"border:none;\" bgcolor=\"white\"></td><td style=\"border:none;\" bgcolor=\"white\"></td><td style=\"border:none;\" bgcolor=\"white\"></td><td style=\"border:none;\" bgcolor=\"white\"></td><td style=\"border:none;\" bgcolor=\"white\"></td><td style=\"border:solid;\" bgcolor=\"white\"><font color=\"black\">PP_1_4: 0.00</font></td></tr></table> 110 / 112</div>\n",
       "<div class=\"item\"><table><tr><td></td><td>0: He</td><td>1: shot</td><td>2: the</td><td>3: elephant</td><td>4: in</td><td>5: his</td><td>6: pyjamas</td></tr>\n",
       "<tr><td>0: He</td><td style=\"border:solid;\" bgcolor=\"white\"><font color=\"black\">Subj: 0.00</font></td><td style=\"border:solid;\" bgcolor=\"white\"></td><td style=\"border:solid;\" bgcolor=\"white\"></td><td style=\"border:solid;\" bgcolor=\"white\"><font color=\"black\">S: -1.90</font></td><td style=\"border:solid;\" bgcolor=\"white\"></td><td style=\"border:solid;\" bgcolor=\"#E1E1E1\"></td><td style=\"border:solid;\" bgcolor=\"#C3C3C3\"><font color=\"black\">S: -1.05</font></td></tr>\n",
       "<tr><td>1: shot</td><td style=\"border:none;\" bgcolor=\"white\"></td><td style=\"border:solid;\" bgcolor=\"white\"><font color=\"black\">Verb: 0.00</font></td><td style=\"border:solid;\" bgcolor=\"white\"></td><td style=\"border:solid;\" bgcolor=\"white\"><font color=\"black\">VP: -1.90</font></td><td style=\"border:solid;\" bgcolor=\"white\"></td><td style=\"border:solid;\" bgcolor=\"white\"></td><td style=\"border:solid;\" bgcolor=\"white\"><font color=\"black\">VP: -1.05</font></td></tr>\n",
       "<tr><td>2: the</td><td style=\"border:none;\" bgcolor=\"white\"></td><td style=\"border:none;\" bgcolor=\"white\"></td><td style=\"border:solid;\" bgcolor=\"white\"><font color=\"black\">Obj_5: 0.00</font>, <font color=\"black\">Obj_8: 0.00</font></td><td style=\"border:solid;\" bgcolor=\"white\"><font color=\"black\">Obj: -0.69</font></td><td style=\"border:solid;\" bgcolor=\"white\"></td><td style=\"border:solid;\" bgcolor=\"white\"></td><td style=\"border:solid;\" bgcolor=\"white\"><font color=\"black\">Obj: -0.69</font>, <font color=\"black\">VP_0: -0.69</font></td></tr>\n",
       "<tr><td>3: elephant</td><td style=\"border:none;\" bgcolor=\"white\"></td><td style=\"border:none;\" bgcolor=\"white\"></td><td style=\"border:none;\" bgcolor=\"white\"></td><td style=\"border:solid;\" bgcolor=\"white\"><font color=\"black\">Obj_6: 0.00</font>, <font color=\"black\">Obj_7_9: 0.00</font></td><td style=\"border:solid;\" bgcolor=\"white\"></td><td style=\"border:solid;\" bgcolor=\"white\"></td><td style=\"border:solid;\" bgcolor=\"white\"><font color=\"black\">Obj_7: 0.00</font></td></tr>\n",
       "<tr><td>4: in</td><td style=\"border:none;\" bgcolor=\"white\"></td><td style=\"border:none;\" bgcolor=\"white\"></td><td style=\"border:none;\" bgcolor=\"white\"></td><td style=\"border:none;\" bgcolor=\"white\"></td><td style=\"border:solid;\" bgcolor=\"white\"><font color=\"black\">PP_2: 0.00</font></td><td style=\"border:solid;\" bgcolor=\"white\"></td><td style=\"border:solid;\" bgcolor=\"white\"><font color=\"black\">PP: 0.00</font></td></tr>\n",
       "<tr><td>5: his</td><td style=\"border:none;\" bgcolor=\"white\"></td><td style=\"border:none;\" bgcolor=\"white\"></td><td style=\"border:none;\" bgcolor=\"white\"></td><td style=\"border:none;\" bgcolor=\"white\"></td><td style=\"border:none;\" bgcolor=\"white\"></td><td style=\"border:solid;\" bgcolor=\"white\"><font color=\"black\">PP_1_3: 0.00</font></td><td style=\"border:solid;\" bgcolor=\"white\"><font color=\"black\">PP_1: 0.00</font></td></tr>\n",
       "<tr><td>6: pyjamas</td><td style=\"border:none;\" bgcolor=\"white\"></td><td style=\"border:none;\" bgcolor=\"white\"></td><td style=\"border:none;\" bgcolor=\"white\"></td><td style=\"border:none;\" bgcolor=\"white\"></td><td style=\"border:none;\" bgcolor=\"white\"></td><td style=\"border:none;\" bgcolor=\"white\"></td><td style=\"border:solid;\" bgcolor=\"#E1E1E1\"><font color=\"black\">PP_1_4: 0.00</font></td></tr></table> 111 / 112</div>\n",
       "<div class=\"item\"><table><tr><td></td><td>0: He</td><td>1: shot</td><td>2: the</td><td>3: elephant</td><td>4: in</td><td>5: his</td><td>6: pyjamas</td></tr>\n",
       "<tr><td>0: He</td><td style=\"border:solid;\" bgcolor=\"white\"><font color=\"black\">Subj: 0.00</font></td><td style=\"border:solid;\" bgcolor=\"white\"></td><td style=\"border:solid;\" bgcolor=\"white\"></td><td style=\"border:solid;\" bgcolor=\"white\"><font color=\"black\">S: -1.90</font></td><td style=\"border:solid;\" bgcolor=\"white\"></td><td style=\"border:solid;\" bgcolor=\"white\"></td><td style=\"border:solid;\" bgcolor=\"white\"><font color=\"black\">S: -1.05</font></td></tr>\n",
       "<tr><td>1: shot</td><td style=\"border:none;\" bgcolor=\"white\"></td><td style=\"border:solid;\" bgcolor=\"white\"><font color=\"black\">Verb: 0.00</font></td><td style=\"border:solid;\" bgcolor=\"white\"></td><td style=\"border:solid;\" bgcolor=\"white\"><font color=\"black\">VP: -1.90</font></td><td style=\"border:solid;\" bgcolor=\"white\"></td><td style=\"border:solid;\" bgcolor=\"white\"></td><td style=\"border:solid;\" bgcolor=\"white\"><font color=\"black\">VP: -1.05</font></td></tr>\n",
       "<tr><td>2: the</td><td style=\"border:none;\" bgcolor=\"white\"></td><td style=\"border:none;\" bgcolor=\"white\"></td><td style=\"border:solid;\" bgcolor=\"white\"><font color=\"black\">Obj_5: 0.00</font>, <font color=\"black\">Obj_8: 0.00</font></td><td style=\"border:solid;\" bgcolor=\"white\"><font color=\"black\">Obj: -0.69</font></td><td style=\"border:solid;\" bgcolor=\"white\"></td><td style=\"border:solid;\" bgcolor=\"white\"></td><td style=\"border:solid;\" bgcolor=\"white\"><font color=\"black\">Obj: -0.69</font>, <font color=\"black\">VP_0: -0.69</font></td></tr>\n",
       "<tr><td>3: elephant</td><td style=\"border:none;\" bgcolor=\"white\"></td><td style=\"border:none;\" bgcolor=\"white\"></td><td style=\"border:none;\" bgcolor=\"white\"></td><td style=\"border:solid;\" bgcolor=\"white\"><font color=\"black\">Obj_6: 0.00</font>, <font color=\"black\">Obj_7_9: 0.00</font></td><td style=\"border:solid;\" bgcolor=\"white\"></td><td style=\"border:solid;\" bgcolor=\"white\"></td><td style=\"border:solid;\" bgcolor=\"white\"><font color=\"black\">Obj_7: 0.00</font></td></tr>\n",
       "<tr><td>4: in</td><td style=\"border:none;\" bgcolor=\"white\"></td><td style=\"border:none;\" bgcolor=\"white\"></td><td style=\"border:none;\" bgcolor=\"white\"></td><td style=\"border:none;\" bgcolor=\"white\"></td><td style=\"border:solid;\" bgcolor=\"white\"><font color=\"black\">PP_2: 0.00</font></td><td style=\"border:solid;\" bgcolor=\"white\"></td><td style=\"border:solid;\" bgcolor=\"white\"><font color=\"black\">PP: 0.00</font></td></tr>\n",
       "<tr><td>5: his</td><td style=\"border:none;\" bgcolor=\"white\"></td><td style=\"border:none;\" bgcolor=\"white\"></td><td style=\"border:none;\" bgcolor=\"white\"></td><td style=\"border:none;\" bgcolor=\"white\"></td><td style=\"border:none;\" bgcolor=\"white\"></td><td style=\"border:solid;\" bgcolor=\"white\"><font color=\"black\">PP_1_3: 0.00</font></td><td style=\"border:solid;\" bgcolor=\"white\"><font color=\"black\">PP_1: 0.00</font></td></tr>\n",
       "<tr><td>6: pyjamas</td><td style=\"border:none;\" bgcolor=\"white\"></td><td style=\"border:none;\" bgcolor=\"white\"></td><td style=\"border:none;\" bgcolor=\"white\"></td><td style=\"border:none;\" bgcolor=\"white\"></td><td style=\"border:none;\" bgcolor=\"white\"></td><td style=\"border:none;\" bgcolor=\"white\"></td><td style=\"border:solid;\" bgcolor=\"white\"><font color=\"black\">PP_1_4: 0.00</font></td></tr></table> 112 / 112</div>\n",
       "          </div>\n",
       "        </div>\n",
       "        "
      ],
      "text/plain": [
       "<statnlpbook.util.Carousel at 0x10df8b198>"
      ]
     },
     "execution_count": 32,
     "metadata": {},
     "output_type": "execute_result"
    }
   ],
   "source": [
    "util.Carousel(pcyk_trace)"
   ]
  },
  {
   "cell_type": "markdown",
   "metadata": {
    "slideshow": {
     "slide_type": "subslide"
    }
   },
   "source": [
    "Runtime with respect to sentence length? "
   ]
  },
  {
   "cell_type": "markdown",
   "metadata": {
    "slideshow": {
     "slide_type": "subslide"
    }
   },
   "source": [
    "Resolve parse by going backwards ... "
   ]
  },
  {
   "cell_type": "code",
   "execution_count": 33,
   "metadata": {
    "collapsed": false,
    "hideCode": true,
    "hidePrompt": true,
    "slideshow": {
     "slide_type": "-"
    }
   },
   "outputs": [
    {
     "data": {
      "image/svg+xml": [
       "<?xml version=\"1.0\" encoding=\"UTF-8\" standalone=\"no\"?>\n",
       "<!DOCTYPE svg PUBLIC \"-//W3C//DTD SVG 1.1//EN\"\n",
       " \"http://www.w3.org/Graphics/SVG/1.1/DTD/svg11.dtd\">\n",
       "<!-- Generated by graphviz version 2.38.0 (20140413.2041)\n",
       " -->\n",
       "<!-- Title: %3 Pages: 1 -->\n",
       "<svg width=\"503pt\" height=\"260pt\"\n",
       " viewBox=\"0.00 0.00 502.58 260.00\" xmlns=\"http://www.w3.org/2000/svg\" xmlns:xlink=\"http://www.w3.org/1999/xlink\">\n",
       "<g id=\"graph0\" class=\"graph\" transform=\"scale(1 1) rotate(0) translate(4 256)\">\n",
       "<title>%3</title>\n",
       "<polygon fill=\"white\" stroke=\"none\" points=\"-4,4 -4,-256 498.578,-256 498.578,4 -4,4\"/>\n",
       "<!-- 0 -->\n",
       "<g id=\"node1\" class=\"node\"><title>0</title>\n",
       "<ellipse fill=\"none\" stroke=\"black\" cx=\"27\" cy=\"-90\" rx=\"27\" ry=\"18\"/>\n",
       "<text text-anchor=\"middle\" x=\"27\" y=\"-85.8\" font-family=\"Times,serif\" font-size=\"14.00\">He</text>\n",
       "</g>\n",
       "<!-- 1 -->\n",
       "<g id=\"node2\" class=\"node\"><title>1</title>\n",
       "<ellipse fill=\"none\" stroke=\"black\" cx=\"63\" cy=\"-162\" rx=\"27\" ry=\"18\"/>\n",
       "<text text-anchor=\"middle\" x=\"63\" y=\"-157.8\" font-family=\"Times,serif\" font-size=\"14.00\">Subj</text>\n",
       "</g>\n",
       "<!-- 1&#45;&gt;0 -->\n",
       "<g id=\"edge1\" class=\"edge\"><title>1&#45;&gt;0</title>\n",
       "<path fill=\"none\" stroke=\"black\" d=\"M54.6504,-144.765C50.2885,-136.283 44.8531,-125.714 39.9587,-116.197\"/>\n",
       "<polygon fill=\"black\" stroke=\"black\" points=\"42.9904,-114.439 35.3043,-107.147 36.7654,-117.641 42.9904,-114.439\"/>\n",
       "</g>\n",
       "<!-- 2 -->\n",
       "<g id=\"node3\" class=\"node\"><title>2</title>\n",
       "<ellipse fill=\"none\" stroke=\"black\" cx=\"56\" cy=\"-18\" rx=\"27\" ry=\"18\"/>\n",
       "<text text-anchor=\"middle\" x=\"56\" y=\"-13.8\" font-family=\"Times,serif\" font-size=\"14.00\">shot</text>\n",
       "</g>\n",
       "<!-- 3 -->\n",
       "<g id=\"node4\" class=\"node\"><title>3</title>\n",
       "<ellipse fill=\"none\" stroke=\"black\" cx=\"99\" cy=\"-90\" rx=\"27\" ry=\"18\"/>\n",
       "<text text-anchor=\"middle\" x=\"99\" y=\"-85.8\" font-family=\"Times,serif\" font-size=\"14.00\">Verb</text>\n",
       "</g>\n",
       "<!-- 3&#45;&gt;2 -->\n",
       "<g id=\"edge2\" class=\"edge\"><title>3&#45;&gt;2</title>\n",
       "<path fill=\"none\" stroke=\"black\" d=\"M89.2426,-73.1159C83.8548,-64.345 77.0477,-53.2637 70.9985,-43.4162\"/>\n",
       "<polygon fill=\"black\" stroke=\"black\" points=\"73.9353,-41.51 65.7188,-34.8212 67.9707,-45.174 73.9353,-41.51\"/>\n",
       "</g>\n",
       "<!-- 4 -->\n",
       "<g id=\"node5\" class=\"node\"><title>4</title>\n",
       "<ellipse fill=\"none\" stroke=\"black\" cx=\"128\" cy=\"-18\" rx=\"27\" ry=\"18\"/>\n",
       "<text text-anchor=\"middle\" x=\"128\" y=\"-13.8\" font-family=\"Times,serif\" font-size=\"14.00\">the</text>\n",
       "</g>\n",
       "<!-- 5 -->\n",
       "<g id=\"node6\" class=\"node\"><title>5</title>\n",
       "<ellipse fill=\"none\" stroke=\"black\" cx=\"213\" cy=\"-18\" rx=\"40.123\" ry=\"18\"/>\n",
       "<text text-anchor=\"middle\" x=\"213\" y=\"-13.8\" font-family=\"Times,serif\" font-size=\"14.00\">elephant</text>\n",
       "</g>\n",
       "<!-- 6 -->\n",
       "<g id=\"node7\" class=\"node\"><title>6</title>\n",
       "<ellipse fill=\"none\" stroke=\"black\" cx=\"171\" cy=\"-90\" rx=\"27\" ry=\"18\"/>\n",
       "<text text-anchor=\"middle\" x=\"171\" y=\"-85.8\" font-family=\"Times,serif\" font-size=\"14.00\">Obj</text>\n",
       "</g>\n",
       "<!-- 6&#45;&gt;4 -->\n",
       "<g id=\"edge3\" class=\"edge\"><title>6&#45;&gt;4</title>\n",
       "<path fill=\"none\" stroke=\"black\" d=\"M161.243,-73.1159C155.855,-64.345 149.048,-53.2637 142.999,-43.4162\"/>\n",
       "<polygon fill=\"black\" stroke=\"black\" points=\"145.935,-41.51 137.719,-34.8212 139.971,-45.174 145.935,-41.51\"/>\n",
       "</g>\n",
       "<!-- 6&#45;&gt;5 -->\n",
       "<g id=\"edge4\" class=\"edge\"><title>6&#45;&gt;5</title>\n",
       "<path fill=\"none\" stroke=\"black\" d=\"M180.53,-73.1159C185.593,-64.679 191.937,-54.1044 197.672,-44.5465\"/>\n",
       "<polygon fill=\"black\" stroke=\"black\" points=\"200.778,-46.173 202.922,-35.7973 194.775,-42.5715 200.778,-46.173\"/>\n",
       "</g>\n",
       "<!-- 7 -->\n",
       "<g id=\"node8\" class=\"node\"><title>7</title>\n",
       "<ellipse fill=\"none\" stroke=\"black\" cx=\"298\" cy=\"-18\" rx=\"27\" ry=\"18\"/>\n",
       "<text text-anchor=\"middle\" x=\"298\" y=\"-13.8\" font-family=\"Times,serif\" font-size=\"14.00\">in</text>\n",
       "</g>\n",
       "<!-- 8 -->\n",
       "<g id=\"node9\" class=\"node\"><title>8</title>\n",
       "<ellipse fill=\"none\" stroke=\"black\" cx=\"370\" cy=\"-18\" rx=\"27\" ry=\"18\"/>\n",
       "<text text-anchor=\"middle\" x=\"370\" y=\"-13.8\" font-family=\"Times,serif\" font-size=\"14.00\">his</text>\n",
       "</g>\n",
       "<!-- 9 -->\n",
       "<g id=\"node10\" class=\"node\"><title>9</title>\n",
       "<ellipse fill=\"none\" stroke=\"black\" cx=\"455\" cy=\"-18\" rx=\"39.6558\" ry=\"18\"/>\n",
       "<text text-anchor=\"middle\" x=\"455\" y=\"-13.8\" font-family=\"Times,serif\" font-size=\"14.00\">pyjamas</text>\n",
       "</g>\n",
       "<!-- 10 -->\n",
       "<g id=\"node11\" class=\"node\"><title>10</title>\n",
       "<ellipse fill=\"none\" stroke=\"black\" cx=\"334\" cy=\"-90\" rx=\"27\" ry=\"18\"/>\n",
       "<text text-anchor=\"middle\" x=\"334\" y=\"-85.8\" font-family=\"Times,serif\" font-size=\"14.00\">PP</text>\n",
       "</g>\n",
       "<!-- 10&#45;&gt;7 -->\n",
       "<g id=\"edge5\" class=\"edge\"><title>10&#45;&gt;7</title>\n",
       "<path fill=\"none\" stroke=\"black\" d=\"M325.65,-72.7646C321.288,-64.2831 315.853,-53.7144 310.959,-44.1974\"/>\n",
       "<polygon fill=\"black\" stroke=\"black\" points=\"313.99,-42.4395 306.304,-35.1473 307.765,-45.6409 313.99,-42.4395\"/>\n",
       "</g>\n",
       "<!-- 10&#45;&gt;8 -->\n",
       "<g id=\"edge6\" class=\"edge\"><title>10&#45;&gt;8</title>\n",
       "<path fill=\"none\" stroke=\"black\" d=\"M342.35,-72.7646C346.712,-64.2831 352.147,-53.7144 357.041,-44.1974\"/>\n",
       "<polygon fill=\"black\" stroke=\"black\" points=\"360.235,-45.6409 361.696,-35.1473 354.01,-42.4395 360.235,-45.6409\"/>\n",
       "</g>\n",
       "<!-- 10&#45;&gt;9 -->\n",
       "<g id=\"edge7\" class=\"edge\"><title>10&#45;&gt;9</title>\n",
       "<path fill=\"none\" stroke=\"black\" d=\"M353.71,-77.5975C372.427,-66.7697 400.892,-50.302 422.886,-37.5783\"/>\n",
       "<polygon fill=\"black\" stroke=\"black\" points=\"424.663,-40.5942 431.566,-32.557 421.157,-34.535 424.663,-40.5942\"/>\n",
       "</g>\n",
       "<!-- 11 -->\n",
       "<g id=\"node12\" class=\"node\"><title>11</title>\n",
       "<ellipse fill=\"none\" stroke=\"black\" cx=\"135\" cy=\"-162\" rx=\"27\" ry=\"18\"/>\n",
       "<text text-anchor=\"middle\" x=\"135\" y=\"-157.8\" font-family=\"Times,serif\" font-size=\"14.00\">VP</text>\n",
       "</g>\n",
       "<!-- 11&#45;&gt;3 -->\n",
       "<g id=\"edge8\" class=\"edge\"><title>11&#45;&gt;3</title>\n",
       "<path fill=\"none\" stroke=\"black\" d=\"M126.65,-144.765C122.288,-136.283 116.853,-125.714 111.959,-116.197\"/>\n",
       "<polygon fill=\"black\" stroke=\"black\" points=\"114.99,-114.439 107.304,-107.147 108.765,-117.641 114.99,-114.439\"/>\n",
       "</g>\n",
       "<!-- 11&#45;&gt;6 -->\n",
       "<g id=\"edge9\" class=\"edge\"><title>11&#45;&gt;6</title>\n",
       "<path fill=\"none\" stroke=\"black\" d=\"M143.35,-144.765C147.712,-136.283 153.147,-125.714 158.041,-116.197\"/>\n",
       "<polygon fill=\"black\" stroke=\"black\" points=\"161.235,-117.641 162.696,-107.147 155.01,-114.439 161.235,-117.641\"/>\n",
       "</g>\n",
       "<!-- 11&#45;&gt;10 -->\n",
       "<g id=\"edge10\" class=\"edge\"><title>11&#45;&gt;10</title>\n",
       "<path fill=\"none\" stroke=\"black\" d=\"M158.609,-152.695C194.011,-140.242 260.971,-116.689 301.132,-102.562\"/>\n",
       "<polygon fill=\"black\" stroke=\"black\" points=\"302.457,-105.806 310.729,-99.1857 300.134,-99.2023 302.457,-105.806\"/>\n",
       "</g>\n",
       "<!-- 12 -->\n",
       "<g id=\"node13\" class=\"node\"><title>12</title>\n",
       "<ellipse fill=\"none\" stroke=\"black\" cx=\"99\" cy=\"-234\" rx=\"27\" ry=\"18\"/>\n",
       "<text text-anchor=\"middle\" x=\"99\" y=\"-229.8\" font-family=\"Times,serif\" font-size=\"14.00\">S</text>\n",
       "</g>\n",
       "<!-- 12&#45;&gt;1 -->\n",
       "<g id=\"edge11\" class=\"edge\"><title>12&#45;&gt;1</title>\n",
       "<path fill=\"none\" stroke=\"black\" d=\"M90.6504,-216.765C86.2885,-208.283 80.8531,-197.714 75.9587,-188.197\"/>\n",
       "<polygon fill=\"black\" stroke=\"black\" points=\"78.9904,-186.439 71.3043,-179.147 72.7654,-189.641 78.9904,-186.439\"/>\n",
       "</g>\n",
       "<!-- 12&#45;&gt;11 -->\n",
       "<g id=\"edge12\" class=\"edge\"><title>12&#45;&gt;11</title>\n",
       "<path fill=\"none\" stroke=\"black\" d=\"M107.35,-216.765C111.712,-208.283 117.147,-197.714 122.041,-188.197\"/>\n",
       "<polygon fill=\"black\" stroke=\"black\" points=\"125.235,-189.641 126.696,-179.147 119.01,-186.439 125.235,-189.641\"/>\n",
       "</g>\n",
       "</g>\n",
       "</svg>\n"
      ],
      "text/plain": [
       "<graphviz.dot.Digraph at 0x10f50cd68>"
      ]
     },
     "execution_count": 33,
     "metadata": {},
     "output_type": "execute_result"
    }
   ],
   "source": [
    "pcyk_trace = pcyk(cnf_pcfg, amb_sentence)\n",
    "parsing.render_tree(parsing.filter_non_terminals(pcyk_trace[-1].derive_trees()[0],pcfg.cfg.n))"
   ]
  },
  {
   "cell_type": "markdown",
   "metadata": {
    "slideshow": {
     "slide_type": "slide"
    }
   },
   "source": [
    "## Learning\n",
    "\n",
    "Learning for PCFGs :\n",
    "\n",
    "1. What should the rules in the grammar be?\n",
    "2. What should the probabilities associated with these rules be?"
   ]
  },
  {
   "cell_type": "markdown",
   "metadata": {
    "slideshow": {
     "slide_type": "subslide"
    }
   },
   "source": [
    "Need corpus of parse trees $\\train=(\\parse_1, \\ldots, \\parse_n)$ \n",
    "\n",
    "* English: [Penn Treebank Project](https://www.cis.upenn.edu/~treebank/) parses for the 1989 Wall Street Journal (among other sources). \n",
    "* Other languages: e.g. [Chinese](https://catalog.ldc.upenn.edu/LDC2013T21)\n",
    "* Other domains: e.g. [Biomedical Papers](www.nactem.ac.uk/aNT/genia.html)\n",
    "\n",
    "Annotation expensive and need experts, major bottleneck in parsing research. "
   ]
  },
  {
   "cell_type": "markdown",
   "metadata": {
    "slideshow": {
     "slide_type": "subslide"
    }
   },
   "source": [
    "To learn the parameters $\\params$ of the model we can again use the maximum-likelihood criterium:\n",
    "\n",
    "$$\n",
    "\\params^* = \\argmax_\\params \\sum_{\\parse \\in \\train} \\log \\prob_\\params(\\parse)\n",
    "$$"
   ]
  },
  {
   "cell_type": "markdown",
   "metadata": {
    "collapsed": false,
    "slideshow": {
     "slide_type": "subslide"
    }
   },
   "source": [
    "Amounts to **counting**\n",
    "\n",
    "$$\n",
    "  \\param(\\alpha \\rightarrow \\beta) = \\frac{\\counts{\\train}{\\alpha \\rightarrow \\beta}}{\\counts{\\train}{\\alpha}}\n",
    "$$\n",
    "\n",
    "Details omitted here, as you have seen this before"
   ]
  },
  {
   "cell_type": "markdown",
   "metadata": {
    "collapsed": false,
    "slideshow": {
     "slide_type": "slide"
    }
   },
   "source": [
    "## Advanced: Parent Annotation\n",
    "\n",
    "In practice \n",
    "\n",
    "* Let $X^Y$ be a non-terminal $X$ with parent $Y$\n",
    "* **Grandparents** matter\n",
    "    * $NP^{VP} \\rightarrow NP \\: PP$ vs \n",
    "    * $NP^{PP} \\rightarrow NP \\: PP$  \n",
    "* Can be captured by labelling nodes in training trees with their parent\n",
    "    * Same machinery"
   ]
  },
  {
   "cell_type": "markdown",
   "metadata": {
    "collapsed": false,
    "slideshow": {
     "slide_type": "slide"
    }
   },
   "source": [
    "## Advanced: Head Driven PCFG\n",
    "\n",
    "In practice \n",
    "\n",
    "* **VP NP** is not necessarily less or more likely than **VP NP PP**\n",
    "* But **elephant** in **pyjamas** is very unlikely\n",
    "* PCFGs must model relations between important words (\"heads\")\n",
    "    * $PP^{NP(\\text{elephant})} \\rightarrow IN \\: NP(\\text{pyjamas})$ vs\n",
    "    * $PP^{VP(\\text{shot})} \\rightarrow IN \\: NP(\\text{pyjamas})$\n",
    "* Needs more complex model and search algorithms\n",
    "* Simpler: **dependency parsing**"
   ]
  },
  {
   "cell_type": "markdown",
   "metadata": {
    "collapsed": false,
    "slideshow": {
     "slide_type": "slide"
    }
   },
   "source": [
    "## Background Material\n",
    "\n",
    "* [Mike Collins' PCFG lecture](http://www.cs.columbia.edu/~mcollins/courses/nlp2011/notes/pcfgs.pdf)\n",
    "* Jurafsky & Martin, Chapter 12, Statistical Parsing"
   ]
  }
 ],
 "metadata": {
  "celltoolbar": "Slideshow",
  "kernelspec": {
   "display_name": "Python 3",
   "language": "python",
   "name": "python3"
  },
  "language_info": {
   "codemirror_mode": {
    "name": "ipython",
    "version": 3
   },
   "file_extension": ".py",
   "mimetype": "text/x-python",
   "name": "python",
   "nbconvert_exporter": "python",
   "pygments_lexer": "ipython3",
   "version": "3.5.1"
  }
 },
 "nbformat": 4,
 "nbformat_minor": 0
}
