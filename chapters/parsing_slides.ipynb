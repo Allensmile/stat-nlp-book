{
 "cells": [
  {
   "cell_type": "code",
   "execution_count": 2,
   "metadata": {
    "collapsed": false,
    "slideshow": {
     "slide_type": "skip"
    }
   },
   "outputs": [],
   "source": [
    "%%capture\n",
    "%load_ext autoreload\n",
    "%autoreload 2\n",
    "import sys\n",
    "sys.path.append(\"..\")\n",
    "import statnlpbook.util as util\n",
    "import statnlpbook.parsing as parsing\n",
    "util.execute_notebook('parsing.ipynb')"
   ]
  },
  {
   "cell_type": "markdown",
   "metadata": {
    "slideshow": {
     "slide_type": "skip"
    }
   },
   "source": [
    "<!---\n",
    "Latex Macros\n",
    "-->\n",
    "$$\n",
    "\\newcommand{\\Xs}{\\mathcal{X}}\n",
    "\\newcommand{\\Ys}{\\mathcal{Y}}\n",
    "\\newcommand{\\y}{\\mathbf{y}}\n",
    "\\newcommand{\\balpha}{\\boldsymbol{\\alpha}}\n",
    "\\newcommand{\\bbeta}{\\boldsymbol{\\beta}}\n",
    "\\newcommand{\\aligns}{\\mathbf{a}}\n",
    "\\newcommand{\\align}{a}\n",
    "\\newcommand{\\source}{\\mathbf{s}}\n",
    "\\newcommand{\\target}{\\mathbf{t}}\n",
    "\\newcommand{\\ssource}{s}\n",
    "\\newcommand{\\starget}{t}\n",
    "\\newcommand{\\repr}{\\mathbf{f}}\n",
    "\\newcommand{\\repry}{\\mathbf{g}}\n",
    "\\newcommand{\\x}{\\mathbf{x}}\n",
    "\\newcommand{\\prob}{p}\n",
    "\\newcommand{\\a}{\\alpha}\n",
    "\\newcommand{\\b}{\\beta}\n",
    "\\newcommand{\\vocab}{V}\n",
    "\\newcommand{\\params}{\\boldsymbol{\\theta}}\n",
    "\\newcommand{\\param}{\\theta}\n",
    "\\DeclareMathOperator{\\perplexity}{PP}\n",
    "\\DeclareMathOperator{\\argmax}{argmax}\n",
    "\\DeclareMathOperator{\\argmin}{argmin}\n",
    "\\newcommand{\\train}{\\mathcal{D}}\n",
    "\\newcommand{\\counts}[2]{\\#_{#1}(#2) }\n",
    "\\newcommand{\\length}[1]{\\text{length}(#1) }\n",
    "\\newcommand{\\indi}{\\mathbb{I}}\n",
    "$$"
   ]
  },
  {
   "cell_type": "markdown",
   "metadata": {
    "slideshow": {
     "slide_type": "slide"
    }
   },
   "source": [
    "# Parsing"
   ]
  },
  {
   "cell_type": "markdown",
   "metadata": {
    "slideshow": {
     "slide_type": "slide"
    }
   },
   "source": [
    "##  Motivation \n",
    "\n",
    "Say want to automatically build a database of this form\n",
    "\n",
    "| Company | Parent    |\n",
    "|---------|-----------|\n",
    "| Google  | Alphabet  |\n",
    "| Bing    | Microsoft |  "
   ]
  },
  {
   "cell_type": "markdown",
   "metadata": {
    "collapsed": false,
    "slideshow": {
     "slide_type": "subslide"
    }
   },
   "source": [
    "Say you find positive textual mentions in this form:\n",
    "\n",
    "> **Alphabet** is the parent company of **Google**\n",
    "\n",
    "\n",
    "> **Microsoft**, based in Redmond, is the parent company of **Bing** \n"
   ]
  },
  {
   "cell_type": "markdown",
   "metadata": {
    "slideshow": {
     "slide_type": "fragment"
    }
   },
   "source": [
    "Can you find a pattern? "
   ]
  },
  {
   "cell_type": "markdown",
   "metadata": {
    "collapsed": false,
    "slideshow": {
     "slide_type": "subslide"
    }
   },
   "source": [
    "How about this sentence \n",
    "\n",
    "> **Alphabet** is the main competitor of X and the parent company of **Google** \n"
   ]
  },
  {
   "cell_type": "markdown",
   "metadata": {
    "collapsed": false,
    "slideshow": {
     "slide_type": "subslide"
    }
   },
   "source": [
    "Wouldn't it be great if we knew that\n",
    "\n",
    "Alphabet is the subject of the phrase *the parent company of **Google** *"
   ]
  },
  {
   "cell_type": "markdown",
   "metadata": {
    "collapsed": false,
    "slideshow": {
     "slide_type": "subslide"
    }
   },
   "source": [
    "Check out [enju parser](http://www.nactem.ac.uk/enju/demo.html#2)"
   ]
  },
  {
   "cell_type": "markdown",
   "metadata": {
    "collapsed": false,
    "slideshow": {
     "slide_type": "subslide"
    }
   },
   "source": [
    "How is this done?"
   ]
  },
  {
   "cell_type": "markdown",
   "metadata": {
    "collapsed": false,
    "slideshow": {
     "slide_type": "slide"
    }
   },
   "source": [
    "## Syntax\n",
    "from the Greek syntaxis (arrangement):\n",
    "\n",
    "* **Constituency**: groups of words act as single units.\n",
    "* **Grammatical Relations**: object, subject, direct object etc. \n",
    "* **Subcategorization**: restrictions on the type of phrases that go with certain words.\n"
   ]
  },
  {
   "cell_type": "markdown",
   "metadata": {
    "slideshow": {
     "slide_type": "slide"
    }
   },
   "source": [
    "## Context Free Grammars\n",
    "* assume that legal sentences can be derived by repeatedly and _independently_ expanding abstract symbols\n",
    "* (such as \"NounPhrase\" or \"Adjective\") into more concrete sequences of symbols (such as \"Adjective Noun\" or \"green\") until each symbol is a concrete word. "
   ]
  },
  {
   "cell_type": "markdown",
   "metadata": {
    "collapsed": false,
    "slideshow": {
     "slide_type": "slide"
    }
   },
   "source": [
    "More formally, a CFG is a 4-tuple \\\\(G=(N,\\Sigma,R,S)\\\\) where\n",
    "\n",
    "  * \\\\(N\\\\) is a set of _non-terminal symbols_.\n",
    "  * \\\\(\\Sigma\\\\) is a set of _terminal symbols_.\n",
    "  * \\\\(R\\\\) is a finite set of _rules_ \\\\(X \\rightarrow Y_1 Y_2\\ldots Y_n\\\\) where \\\\(X \\in N\\\\) and \\\\(Y_i \\in N \\cup \\Sigma\\\\). \n",
    "  * \\\\(S \\in N\\\\) is a _start symbol_. \n",
    "\n",
    "Before we show examples, let us define a Python data structure for CFGs."
   ]
  },
  {
   "cell_type": "code",
   "execution_count": 3,
   "metadata": {
    "collapsed": false,
    "slideshow": {
     "slide_type": "subslide"
    }
   },
   "outputs": [
    {
     "data": {
      "text/html": [
       "<table><tr><td>S</td><td>NP_p VP_p</td></tr><tr><td>S</td><td>NP_s VP_s</td></tr><tr><td>NP_p</td><td>Matko raps</td></tr><tr><td>VP_p</td><td>are ADJ</td></tr><tr><td>NP_s</td><td>Matko</td></tr><tr><td>VP_s</td><td>raps in StatNLP</td></tr><tr><td>ADJ</td><td>silly</td></tr></table>"
      ],
      "text/plain": [
       "<__main__.CFG at 0x7f72caf7ea20>"
      ]
     },
     "execution_count": 3,
     "metadata": {},
     "output_type": "execute_result"
    }
   ],
   "source": [
    "cfg = CFG.from_rules([('S',    ['NP_p','VP_p']),('S',['NP_s','VP_s']), \n",
    "                      ('NP_p', ['Matko', 'raps']),\n",
    "                      ('VP_p', ['are', 'ADJ']),\n",
    "                      ('NP_s', ['Matko']),\n",
    "                      ('VP_s', ['raps', 'in', 'StatNLP']),\n",
    "                      ('ADJ',  ['silly'])\n",
    "                     ])\n",
    "cfg"
   ]
  },
  {
   "cell_type": "markdown",
   "metadata": {
    "collapsed": false,
    "slideshow": {
     "slide_type": "subslide"
    }
   },
   "source": [
    "## (Left-most) Derivation\n",
    "A left-most derivation given a CFG \\\\(G\\\\) is a sequence of strings \\\\(s_1 \\ldots s_n\\\\) such that \n",
    "\n",
    "* \\\\(s_1 = S\\\\), that is, the first string consists only of the start symbol.\n",
    "* \\\\(s_n \\in \\Sigma^*\\\\), that is, the last string consists of only terminals.\n",
    "* Each \\\\(s_i\\\\) for \\\\(i > 1\\\\) is generated by replacing the left-most non-terminal \\\\(\\alpha\\\\) with the right-hand side of any rule that has \\\\(\\alpha\\\\) as left-hand side. \n",
    "\n",
    "Let us write some code that puts this definition into action and generates random derivations based on a grammar. "
   ]
  },
  {
   "cell_type": "code",
   "execution_count": 24,
   "metadata": {
    "collapsed": false,
    "slideshow": {
     "slide_type": "subslide"
    }
   },
   "outputs": [
    {
     "data": {
      "text/plain": [
       "(['S'],\n",
       " ['NP_p', 'VP_p'],\n",
       " ['Matko', 'raps', 'VP_p'],\n",
       " ['Matko', 'raps', 'are', 'ADJ'],\n",
       " ['Matko', 'raps', 'are', 'silly'])"
      ]
     },
     "execution_count": 24,
     "metadata": {},
     "output_type": "execute_result"
    }
   ],
   "source": [
    "generate_deriv(cfg, [cfg.s])"
   ]
  },
  {
   "cell_type": "markdown",
   "metadata": {
    "collapsed": false,
    "slideshow": {
     "slide_type": "slide"
    }
   },
   "source": [
    "## Parse Trees\n",
    "Derivations can be compactly present as trees where each non-leaf node corresponds to an expanded left-hand-side and its children to the rules' right hand side. We will represent trees simply by using string objects for terminal nodes, and `(label,children)` tuples for non-terminals where `label` is the string non-terminal label, and `children` is a list of child trees."
   ]
  },
  {
   "cell_type": "code",
   "execution_count": 25,
   "metadata": {
    "collapsed": false,
    "slideshow": {
     "slide_type": "slide"
    }
   },
   "outputs": [
    {
     "data": {
      "image/svg+xml": [
       "<?xml version=\"1.0\" encoding=\"UTF-8\" standalone=\"no\"?>\n",
       "<!DOCTYPE svg PUBLIC \"-//W3C//DTD SVG 1.1//EN\"\n",
       " \"http://www.w3.org/Graphics/SVG/1.1/DTD/svg11.dtd\">\n",
       "<!-- Generated by graphviz version 2.38.0 (20140413.2041)\n",
       " -->\n",
       "<!-- Title: %3 Pages: 1 -->\n",
       "<svg width=\"295pt\" height=\"188pt\"\n",
       " viewBox=\"0.00 0.00 295.45 188.00\" xmlns=\"http://www.w3.org/2000/svg\" xmlns:xlink=\"http://www.w3.org/1999/xlink\">\n",
       "<g id=\"graph0\" class=\"graph\" transform=\"scale(1 1) rotate(0) translate(4 184)\">\n",
       "<title>%3</title>\n",
       "<polygon fill=\"white\" stroke=\"none\" points=\"-4,4 -4,-184 291.447,-184 291.447,4 -4,4\"/>\n",
       "<!-- 0 -->\n",
       "<g id=\"node1\" class=\"node\"><title>0</title>\n",
       "<ellipse fill=\"none\" stroke=\"black\" cx=\"34.4469\" cy=\"-18\" rx=\"34.394\" ry=\"18\"/>\n",
       "<text text-anchor=\"middle\" x=\"34.4469\" y=\"-14.3\" font-family=\"Times,serif\" font-size=\"14.00\">Matko</text>\n",
       "</g>\n",
       "<!-- 1 -->\n",
       "<g id=\"node2\" class=\"node\"><title>1</title>\n",
       "<ellipse fill=\"none\" stroke=\"black\" cx=\"113.447\" cy=\"-18\" rx=\"27\" ry=\"18\"/>\n",
       "<text text-anchor=\"middle\" x=\"113.447\" y=\"-14.3\" font-family=\"Times,serif\" font-size=\"14.00\">raps</text>\n",
       "</g>\n",
       "<!-- 2 -->\n",
       "<g id=\"node3\" class=\"node\"><title>2</title>\n",
       "<ellipse fill=\"none\" stroke=\"black\" cx=\"111.447\" cy=\"-90\" rx=\"30.5947\" ry=\"18\"/>\n",
       "<text text-anchor=\"middle\" x=\"111.447\" y=\"-86.3\" font-family=\"Times,serif\" font-size=\"14.00\">NP_p</text>\n",
       "</g>\n",
       "<!-- 2&#45;&gt;0 -->\n",
       "<g id=\"edge1\" class=\"edge\"><title>2&#45;&gt;0</title>\n",
       "<path fill=\"none\" stroke=\"black\" d=\"M95.4925,-74.496C84.7965,-64.7723 70.516,-51.79 58.4564,-40.8268\"/>\n",
       "<polygon fill=\"black\" stroke=\"black\" points=\"60.666,-38.1054 50.9122,-33.9684 55.9573,-43.285 60.666,-38.1054\"/>\n",
       "</g>\n",
       "<!-- 2&#45;&gt;1 -->\n",
       "<g id=\"edge2\" class=\"edge\"><title>2&#45;&gt;1</title>\n",
       "<path fill=\"none\" stroke=\"black\" d=\"M111.941,-71.6966C112.162,-63.9827 112.427,-54.7125 112.672,-46.1124\"/>\n",
       "<polygon fill=\"black\" stroke=\"black\" points=\"116.171,-46.2002 112.958,-36.1043 109.174,-46.0003 116.171,-46.2002\"/>\n",
       "</g>\n",
       "<!-- 3 -->\n",
       "<g id=\"node4\" class=\"node\"><title>3</title>\n",
       "<ellipse fill=\"none\" stroke=\"black\" cx=\"188.447\" cy=\"-18\" rx=\"27\" ry=\"18\"/>\n",
       "<text text-anchor=\"middle\" x=\"188.447\" y=\"-14.3\" font-family=\"Times,serif\" font-size=\"14.00\">are</text>\n",
       "</g>\n",
       "<!-- 4 -->\n",
       "<g id=\"node5\" class=\"node\"><title>4</title>\n",
       "<ellipse fill=\"none\" stroke=\"black\" cx=\"260.447\" cy=\"-18\" rx=\"27\" ry=\"18\"/>\n",
       "<text text-anchor=\"middle\" x=\"260.447\" y=\"-14.3\" font-family=\"Times,serif\" font-size=\"14.00\">silly</text>\n",
       "</g>\n",
       "<!-- 5 -->\n",
       "<g id=\"node6\" class=\"node\"><title>5</title>\n",
       "<ellipse fill=\"none\" stroke=\"black\" cx=\"190.447\" cy=\"-90\" rx=\"30.5947\" ry=\"18\"/>\n",
       "<text text-anchor=\"middle\" x=\"190.447\" y=\"-86.3\" font-family=\"Times,serif\" font-size=\"14.00\">VP_p</text>\n",
       "</g>\n",
       "<!-- 5&#45;&gt;3 -->\n",
       "<g id=\"edge3\" class=\"edge\"><title>5&#45;&gt;3</title>\n",
       "<path fill=\"none\" stroke=\"black\" d=\"M189.953,-71.6966C189.732,-63.9827 189.467,-54.7125 189.222,-46.1124\"/>\n",
       "<polygon fill=\"black\" stroke=\"black\" points=\"192.72,-46.0003 188.936,-36.1043 185.723,-46.2002 192.72,-46.0003\"/>\n",
       "</g>\n",
       "<!-- 5&#45;&gt;4 -->\n",
       "<g id=\"edge4\" class=\"edge\"><title>5&#45;&gt;4</title>\n",
       "<path fill=\"none\" stroke=\"black\" d=\"M205.292,-74.1548C215.074,-64.3725 228.043,-51.4037 238.947,-40.4996\"/>\n",
       "<polygon fill=\"black\" stroke=\"black\" points=\"241.506,-42.891 246.102,-33.345 236.556,-37.9413 241.506,-42.891\"/>\n",
       "</g>\n",
       "<!-- 6 -->\n",
       "<g id=\"node7\" class=\"node\"><title>6</title>\n",
       "<ellipse fill=\"none\" stroke=\"black\" cx=\"150.447\" cy=\"-162\" rx=\"27\" ry=\"18\"/>\n",
       "<text text-anchor=\"middle\" x=\"150.447\" y=\"-158.3\" font-family=\"Times,serif\" font-size=\"14.00\">S</text>\n",
       "</g>\n",
       "<!-- 6&#45;&gt;2 -->\n",
       "<g id=\"edge5\" class=\"edge\"><title>6&#45;&gt;2</title>\n",
       "<path fill=\"none\" stroke=\"black\" d=\"M141.402,-144.765C136.744,-136.404 130.956,-126.016 125.713,-116.606\"/>\n",
       "<polygon fill=\"black\" stroke=\"black\" points=\"128.639,-114.666 120.714,-107.633 122.524,-118.073 128.639,-114.666\"/>\n",
       "</g>\n",
       "<!-- 6&#45;&gt;5 -->\n",
       "<g id=\"edge6\" class=\"edge\"><title>6&#45;&gt;5</title>\n",
       "<path fill=\"none\" stroke=\"black\" d=\"M159.724,-144.765C164.502,-136.404 170.438,-126.016 175.815,-116.606\"/>\n",
       "<polygon fill=\"black\" stroke=\"black\" points=\"179.02,-118.052 180.942,-107.633 172.942,-114.579 179.02,-118.052\"/>\n",
       "</g>\n",
       "</g>\n",
       "</svg>\n"
      ],
      "text/plain": [
       "<graphviz.dot.Digraph at 0x7f72caf7ec50>"
      ]
     },
     "execution_count": 25,
     "metadata": {},
     "output_type": "execute_result"
    }
   ],
   "source": [
    "tree = ('S', [('NP_p',['Matko','raps']), ('VP_p',['are','silly'])])\n",
    "parsing.render_tree(tree)"
   ]
  },
  {
   "cell_type": "code",
   "execution_count": 52,
   "metadata": {
    "collapsed": false,
    "slideshow": {
     "slide_type": "slide"
    }
   },
   "outputs": [
    {
     "data": {
      "image/svg+xml": [
       "<?xml version=\"1.0\" encoding=\"UTF-8\" standalone=\"no\"?>\n",
       "<!DOCTYPE svg PUBLIC \"-//W3C//DTD SVG 1.1//EN\"\n",
       " \"http://www.w3.org/Graphics/SVG/1.1/DTD/svg11.dtd\">\n",
       "<!-- Generated by graphviz version 2.38.0 (20140413.2041)\n",
       " -->\n",
       "<!-- Title: %3 Pages: 1 -->\n",
       "<svg width=\"320pt\" height=\"188pt\"\n",
       " viewBox=\"0.00 0.00 320.39 188.00\" xmlns=\"http://www.w3.org/2000/svg\" xmlns:xlink=\"http://www.w3.org/1999/xlink\">\n",
       "<g id=\"graph0\" class=\"graph\" transform=\"scale(1 1) rotate(0) translate(4 184)\">\n",
       "<title>%3</title>\n",
       "<polygon fill=\"white\" stroke=\"none\" points=\"-4,4 -4,-184 316.393,-184 316.393,4 -4,4\"/>\n",
       "<!-- 0 -->\n",
       "<g id=\"node1\" class=\"node\"><title>0</title>\n",
       "<ellipse fill=\"none\" stroke=\"black\" cx=\"34.4469\" cy=\"-18\" rx=\"34.394\" ry=\"18\"/>\n",
       "<text text-anchor=\"middle\" x=\"34.4469\" y=\"-14.3\" font-family=\"Times,serif\" font-size=\"14.00\">Matko</text>\n",
       "</g>\n",
       "<!-- 1 -->\n",
       "<g id=\"node2\" class=\"node\"><title>1</title>\n",
       "<ellipse fill=\"none\" stroke=\"black\" cx=\"34.4469\" cy=\"-90\" rx=\"29.795\" ry=\"18\"/>\n",
       "<text text-anchor=\"middle\" x=\"34.4469\" y=\"-86.3\" font-family=\"Times,serif\" font-size=\"14.00\">NP_s</text>\n",
       "</g>\n",
       "<!-- 1&#45;&gt;0 -->\n",
       "<g id=\"edge1\" class=\"edge\"><title>1&#45;&gt;0</title>\n",
       "<path fill=\"none\" stroke=\"black\" d=\"M34.4469,-71.6966C34.4469,-63.9827 34.4469,-54.7125 34.4469,-46.1124\"/>\n",
       "<polygon fill=\"black\" stroke=\"black\" points=\"37.947,-46.1043 34.4469,-36.1043 30.947,-46.1044 37.947,-46.1043\"/>\n",
       "</g>\n",
       "<!-- 2 -->\n",
       "<g id=\"node3\" class=\"node\"><title>2</title>\n",
       "<ellipse fill=\"none\" stroke=\"black\" cx=\"113.447\" cy=\"-18\" rx=\"27\" ry=\"18\"/>\n",
       "<text text-anchor=\"middle\" x=\"113.447\" y=\"-14.3\" font-family=\"Times,serif\" font-size=\"14.00\">raps</text>\n",
       "</g>\n",
       "<!-- 3 -->\n",
       "<g id=\"node4\" class=\"node\"><title>3</title>\n",
       "<ellipse fill=\"none\" stroke=\"black\" cx=\"185.447\" cy=\"-18\" rx=\"27\" ry=\"18\"/>\n",
       "<text text-anchor=\"middle\" x=\"185.447\" y=\"-14.3\" font-family=\"Times,serif\" font-size=\"14.00\">in</text>\n",
       "</g>\n",
       "<!-- 4 -->\n",
       "<g id=\"node5\" class=\"node\"><title>4</title>\n",
       "<ellipse fill=\"none\" stroke=\"black\" cx=\"271.447\" cy=\"-18\" rx=\"40.8928\" ry=\"18\"/>\n",
       "<text text-anchor=\"middle\" x=\"271.447\" y=\"-14.3\" font-family=\"Times,serif\" font-size=\"14.00\">StatNLP</text>\n",
       "</g>\n",
       "<!-- 5 -->\n",
       "<g id=\"node6\" class=\"node\"><title>5</title>\n",
       "<ellipse fill=\"none\" stroke=\"black\" cx=\"149.447\" cy=\"-90\" rx=\"29.795\" ry=\"18\"/>\n",
       "<text text-anchor=\"middle\" x=\"149.447\" y=\"-86.3\" font-family=\"Times,serif\" font-size=\"14.00\">VP_s</text>\n",
       "</g>\n",
       "<!-- 5&#45;&gt;2 -->\n",
       "<g id=\"edge2\" class=\"edge\"><title>5&#45;&gt;2</title>\n",
       "<path fill=\"none\" stroke=\"black\" d=\"M140.915,-72.411C136.611,-64.0421 131.298,-53.7098 126.494,-44.3698\"/>\n",
       "<polygon fill=\"black\" stroke=\"black\" points=\"129.603,-42.7621 121.917,-35.4699 123.378,-45.9636 129.603,-42.7621\"/>\n",
       "</g>\n",
       "<!-- 5&#45;&gt;3 -->\n",
       "<g id=\"edge3\" class=\"edge\"><title>5&#45;&gt;3</title>\n",
       "<path fill=\"none\" stroke=\"black\" d=\"M157.978,-72.411C162.282,-64.0421 167.596,-53.7098 172.4,-44.3698\"/>\n",
       "<polygon fill=\"black\" stroke=\"black\" points=\"175.516,-45.9636 176.977,-35.4699 169.291,-42.7621 175.516,-45.9636\"/>\n",
       "</g>\n",
       "<!-- 5&#45;&gt;4 -->\n",
       "<g id=\"edge4\" class=\"edge\"><title>5&#45;&gt;4</title>\n",
       "<path fill=\"none\" stroke=\"black\" d=\"M170.419,-76.9666C189.138,-66.2266 216.859,-50.3211 238.53,-37.8865\"/>\n",
       "<polygon fill=\"black\" stroke=\"black\" points=\"240.472,-40.8077 247.404,-32.7951 236.988,-34.7361 240.472,-40.8077\"/>\n",
       "</g>\n",
       "<!-- 6 -->\n",
       "<g id=\"node7\" class=\"node\"><title>6</title>\n",
       "<ellipse fill=\"none\" stroke=\"black\" cx=\"73.4469\" cy=\"-162\" rx=\"27\" ry=\"18\"/>\n",
       "<text text-anchor=\"middle\" x=\"73.4469\" y=\"-158.3\" font-family=\"Times,serif\" font-size=\"14.00\">S</text>\n",
       "</g>\n",
       "<!-- 6&#45;&gt;1 -->\n",
       "<g id=\"edge5\" class=\"edge\"><title>6&#45;&gt;1</title>\n",
       "<path fill=\"none\" stroke=\"black\" d=\"M64.4015,-144.765C59.7436,-136.404 53.9558,-126.016 48.7131,-116.606\"/>\n",
       "<polygon fill=\"black\" stroke=\"black\" points=\"51.6387,-114.666 43.7141,-107.633 45.5237,-118.073 51.6387,-114.666\"/>\n",
       "</g>\n",
       "<!-- 6&#45;&gt;5 -->\n",
       "<g id=\"edge6\" class=\"edge\"><title>6&#45;&gt;5</title>\n",
       "<path fill=\"none\" stroke=\"black\" d=\"M88.8267,-146.834C99.5719,-136.938 114.111,-123.546 126.257,-112.359\"/>\n",
       "<polygon fill=\"black\" stroke=\"black\" points=\"128.845,-114.734 133.829,-105.385 124.103,-109.585 128.845,-114.734\"/>\n",
       "</g>\n",
       "</g>\n",
       "</svg>\n"
      ],
      "text/plain": [
       "<graphviz.dot.Digraph at 0x7f72b0c8bc88>"
      ]
     },
     "execution_count": 52,
     "metadata": {},
     "output_type": "execute_result"
    }
   ],
   "source": [
    "parsing.render_tree(generate_tree(cfg,'S'))        "
   ]
  },
  {
   "cell_type": "markdown",
   "metadata": {
    "collapsed": false,
    "slideshow": {
     "slide_type": "slide"
    }
   },
   "source": [
    "## Finding Parse Trees\n",
    "As you can see, parse trees uncover how a sentence is structured with respect to a grammar. In fact, they give us insights about both constituency and grammatical relations: In the above case the subtrees headed by \"NP\" nodes represent noun phrase constituents; likewise, the \"NP\" and \"VP\" subtrees under \"S\" represent the subject and object of a sentence. It is interesting to generate trees and hence sentences given a starting symbol. However, in practice it is often more useful to find a parse tree given a sentence, if existent. This process is generally referred to as parsing. \n",
    "\n",
    "There are a couple of approaches to find a legal parse tree given a sentence and grammar:\n",
    "\n",
    "* **Top-Down**: Start with the start symbol and generate trees; backtrack if they do not match observed sentence.\n",
    "* **Bottom-Up**: Start with the sentence, and find rules that generate parts of it; backtrack if no start symbol can be induced.\n",
    "* **Dynamic Programming**: Explore several trees in parallel and re-use computations."
   ]
  },
  {
   "cell_type": "markdown",
   "metadata": {
    "collapsed": false,
    "slideshow": {
     "slide_type": "slide"
    }
   },
   "source": [
    "## Finding Parse Trees\n",
    "As you can see, parse trees uncover how a sentence is structured with respect to a grammar. In fact, they give us insights about both constituency and grammatical relations: In the above case the subtrees headed by \"NP\" nodes represent noun phrase constituents; likewise, the \"NP\" and \"VP\" subtrees under \"S\" represent the subject and object of a sentence. It is interesting to generate trees and hence sentences given a starting symbol. However, in practice it is often more useful to find a parse tree given a sentence, if existent. This process is generally referred to as parsing. \n",
    "\n",
    "There are a couple of approaches to find a legal parse tree given a sentence and grammar:\n",
    "\n",
    "* **Top-Down**: Start with the start symbol and generate trees; backtrack if they do not match observed sentence.\n",
    "* **Bottom-Up**: Start with the sentence, and find rules that generate parts of it; backtrack if no start symbol can be induced.\n",
    "* **Dynamic Programming**: Explore several trees in parallel and re-use computations."
   ]
  },
  {
   "cell_type": "markdown",
   "metadata": {
    "collapsed": false,
    "slideshow": {
     "slide_type": "slide"
    }
   },
   "source": [
    "### Bottom-Up Parsing with Backtracking\n",
    "A bottom-up parser with backtracking maintains a state consisting of a stack of processed trees, and buffer of remaining words, and a history of previous states we can backtrack to if we cannot make more progress. Roughly speaking, the algorithm proceeds by iteratively reducing the stack via rules to new trees, moving forward in the sentence, and backtracking to previous states when we reach the end of the sentence but cannot create a single tree. \n",
    "\n",
    "More formally, the algorithm operates a machine with a state $S=(b,t,r)$ where $b$ is a buffer of remaining words to process, $t$ a stack of trees build so far, and $r$ a list of rules that remain to be checked for whether they can applied to the top elements of $t$. The algorithm also maintains a history $h$ of previously visited states. \n",
    "\n",
    "* **Input**: sentence $s$, Rules $R$.\n",
    "* **Initialisation**:\n",
    "  * $b \\leftarrow s$\n",
    "  * $r \\leftarrow R$\n",
    "  * $t \\leftarrow ()$\n",
    "  * $h \\leftarrow ()$\n",
    "* **while** $|b| > 0$ or $|r| > 0$ or both $|s| > 1$ and $|h| > 0$\n",
    "  * **if** $|r| > 0$ reduce\n",
    "  * **if** $|b| > 0$ shift\n",
    "  * **else if** $|s| > 1$ back-track\n",
    "  \n",
    "The core operations within the algorithm are:\n",
    "\n",
    "* **reduce**:\n",
    "  * **while** $|r|>0$:\n",
    "    * Let the first rule in $r$ be $r_1 = \\alpha \\leftarrow \\beta_1 \\ldots \\beta_n$\n",
    "    * check whether $\\beta_1 \\ldots \\beta_n$ is equal to the labels of the top of the stack $t_1 \\ldots t_n$\n",
    "    * If so, remember current state $S$ in history $h$, set $r \\leftarrow R$, pop $n$ elements from the tree stack $t$ and push the tree $(alpha, t_1 \\ldots t_n)$ onto $t$.\n",
    "    * Otherwise: remove $r_1$ from the list of rules $r$.\n",
    "* **shift**:\n",
    "  * append the first element $b_1$ of the buffer $b$ to $t$ and remove $b_1$ from $b$.\n",
    "  * Initialise rules again by setting $r \\leftarrow R$\n",
    "* **back-track**:\n",
    "  * set $G=h_\\text{last}$ where $h_\\text{last}$ is the last element from the history $h$ \n",
    "  * Remove $h_\\text{last}$ from $h$. \n",
    "  * Remove the first rule $r_1$ from the list of rules $r$.\n",
    "\n",
    "In Python code the parsing algorithm can be formulated as follows. Notice that because we are making in-place changes to the current state object, when recording states for later visualisation and for backtracking we need to perform deep-copy operations. In an actual parser this would soon become a major bottleneck, and in practice one would need to find more efficient ways to keep track of past states. "
   ]
  },
  {
   "cell_type": "code",
   "execution_count": 54,
   "metadata": {
    "collapsed": false,
    "slideshow": {
     "slide_type": "slide"
    }
   },
   "outputs": [
    {
     "data": {
      "image/svg+xml": [
       "<?xml version=\"1.0\" encoding=\"UTF-8\" standalone=\"no\"?>\n",
       "<!DOCTYPE svg PUBLIC \"-//W3C//DTD SVG 1.1//EN\"\n",
       " \"http://www.w3.org/Graphics/SVG/1.1/DTD/svg11.dtd\">\n",
       "<!-- Generated by graphviz version 2.38.0 (20140413.2041)\n",
       " -->\n",
       "<!-- Title: %3 Pages: 1 -->\n",
       "<svg width=\"295pt\" height=\"260pt\"\n",
       " viewBox=\"0.00 0.00 295.45 260.00\" xmlns=\"http://www.w3.org/2000/svg\" xmlns:xlink=\"http://www.w3.org/1999/xlink\">\n",
       "<g id=\"graph0\" class=\"graph\" transform=\"scale(1 1) rotate(0) translate(4 256)\">\n",
       "<title>%3</title>\n",
       "<polygon fill=\"white\" stroke=\"none\" points=\"-4,4 -4,-256 291.447,-256 291.447,4 -4,4\"/>\n",
       "<!-- 0 -->\n",
       "<g id=\"node1\" class=\"node\"><title>0</title>\n",
       "<ellipse fill=\"none\" stroke=\"black\" cx=\"34.4469\" cy=\"-90\" rx=\"34.394\" ry=\"18\"/>\n",
       "<text text-anchor=\"middle\" x=\"34.4469\" y=\"-86.3\" font-family=\"Times,serif\" font-size=\"14.00\">Matko</text>\n",
       "</g>\n",
       "<!-- 1 -->\n",
       "<g id=\"node2\" class=\"node\"><title>1</title>\n",
       "<ellipse fill=\"none\" stroke=\"black\" cx=\"113.447\" cy=\"-90\" rx=\"27\" ry=\"18\"/>\n",
       "<text text-anchor=\"middle\" x=\"113.447\" y=\"-86.3\" font-family=\"Times,serif\" font-size=\"14.00\">raps</text>\n",
       "</g>\n",
       "<!-- 2 -->\n",
       "<g id=\"node3\" class=\"node\"><title>2</title>\n",
       "<ellipse fill=\"none\" stroke=\"black\" cx=\"111.447\" cy=\"-162\" rx=\"30.5947\" ry=\"18\"/>\n",
       "<text text-anchor=\"middle\" x=\"111.447\" y=\"-158.3\" font-family=\"Times,serif\" font-size=\"14.00\">NP_p</text>\n",
       "</g>\n",
       "<!-- 2&#45;&gt;0 -->\n",
       "<g id=\"edge1\" class=\"edge\"><title>2&#45;&gt;0</title>\n",
       "<path fill=\"none\" stroke=\"black\" d=\"M95.4925,-146.496C84.7965,-136.772 70.516,-123.79 58.4564,-112.827\"/>\n",
       "<polygon fill=\"black\" stroke=\"black\" points=\"60.666,-110.105 50.9122,-105.968 55.9573,-115.285 60.666,-110.105\"/>\n",
       "</g>\n",
       "<!-- 2&#45;&gt;1 -->\n",
       "<g id=\"edge2\" class=\"edge\"><title>2&#45;&gt;1</title>\n",
       "<path fill=\"none\" stroke=\"black\" d=\"M111.941,-143.697C112.162,-135.983 112.427,-126.712 112.672,-118.112\"/>\n",
       "<polygon fill=\"black\" stroke=\"black\" points=\"116.171,-118.2 112.958,-108.104 109.174,-118 116.171,-118.2\"/>\n",
       "</g>\n",
       "<!-- 3 -->\n",
       "<g id=\"node4\" class=\"node\"><title>3</title>\n",
       "<ellipse fill=\"none\" stroke=\"black\" cx=\"188.447\" cy=\"-90\" rx=\"27\" ry=\"18\"/>\n",
       "<text text-anchor=\"middle\" x=\"188.447\" y=\"-86.3\" font-family=\"Times,serif\" font-size=\"14.00\">are</text>\n",
       "</g>\n",
       "<!-- 4 -->\n",
       "<g id=\"node5\" class=\"node\"><title>4</title>\n",
       "<ellipse fill=\"none\" stroke=\"black\" cx=\"260.447\" cy=\"-18\" rx=\"27\" ry=\"18\"/>\n",
       "<text text-anchor=\"middle\" x=\"260.447\" y=\"-14.3\" font-family=\"Times,serif\" font-size=\"14.00\">silly</text>\n",
       "</g>\n",
       "<!-- 5 -->\n",
       "<g id=\"node6\" class=\"node\"><title>5</title>\n",
       "<ellipse fill=\"none\" stroke=\"black\" cx=\"260.447\" cy=\"-90\" rx=\"27\" ry=\"18\"/>\n",
       "<text text-anchor=\"middle\" x=\"260.447\" y=\"-86.3\" font-family=\"Times,serif\" font-size=\"14.00\">ADJ</text>\n",
       "</g>\n",
       "<!-- 5&#45;&gt;4 -->\n",
       "<g id=\"edge3\" class=\"edge\"><title>5&#45;&gt;4</title>\n",
       "<path fill=\"none\" stroke=\"black\" d=\"M260.447,-71.6966C260.447,-63.9827 260.447,-54.7125 260.447,-46.1124\"/>\n",
       "<polygon fill=\"black\" stroke=\"black\" points=\"263.947,-46.1043 260.447,-36.1043 256.947,-46.1044 263.947,-46.1043\"/>\n",
       "</g>\n",
       "<!-- 6 -->\n",
       "<g id=\"node7\" class=\"node\"><title>6</title>\n",
       "<ellipse fill=\"none\" stroke=\"black\" cx=\"190.447\" cy=\"-162\" rx=\"30.5947\" ry=\"18\"/>\n",
       "<text text-anchor=\"middle\" x=\"190.447\" y=\"-158.3\" font-family=\"Times,serif\" font-size=\"14.00\">VP_p</text>\n",
       "</g>\n",
       "<!-- 6&#45;&gt;3 -->\n",
       "<g id=\"edge4\" class=\"edge\"><title>6&#45;&gt;3</title>\n",
       "<path fill=\"none\" stroke=\"black\" d=\"M189.953,-143.697C189.732,-135.983 189.467,-126.712 189.222,-118.112\"/>\n",
       "<polygon fill=\"black\" stroke=\"black\" points=\"192.72,-118 188.936,-108.104 185.723,-118.2 192.72,-118\"/>\n",
       "</g>\n",
       "<!-- 6&#45;&gt;5 -->\n",
       "<g id=\"edge5\" class=\"edge\"><title>6&#45;&gt;5</title>\n",
       "<path fill=\"none\" stroke=\"black\" d=\"M205.292,-146.155C215.074,-136.372 228.043,-123.404 238.947,-112.5\"/>\n",
       "<polygon fill=\"black\" stroke=\"black\" points=\"241.506,-114.891 246.102,-105.345 236.556,-109.941 241.506,-114.891\"/>\n",
       "</g>\n",
       "<!-- 7 -->\n",
       "<g id=\"node8\" class=\"node\"><title>7</title>\n",
       "<ellipse fill=\"none\" stroke=\"black\" cx=\"150.447\" cy=\"-234\" rx=\"27\" ry=\"18\"/>\n",
       "<text text-anchor=\"middle\" x=\"150.447\" y=\"-230.3\" font-family=\"Times,serif\" font-size=\"14.00\">S</text>\n",
       "</g>\n",
       "<!-- 7&#45;&gt;2 -->\n",
       "<g id=\"edge6\" class=\"edge\"><title>7&#45;&gt;2</title>\n",
       "<path fill=\"none\" stroke=\"black\" d=\"M141.402,-216.765C136.744,-208.404 130.956,-198.016 125.713,-188.606\"/>\n",
       "<polygon fill=\"black\" stroke=\"black\" points=\"128.639,-186.666 120.714,-179.633 122.524,-190.073 128.639,-186.666\"/>\n",
       "</g>\n",
       "<!-- 7&#45;&gt;6 -->\n",
       "<g id=\"edge7\" class=\"edge\"><title>7&#45;&gt;6</title>\n",
       "<path fill=\"none\" stroke=\"black\" d=\"M159.724,-216.765C164.502,-208.404 170.438,-198.016 175.815,-188.606\"/>\n",
       "<polygon fill=\"black\" stroke=\"black\" points=\"179.02,-190.052 180.942,-179.633 172.942,-186.579 179.02,-190.052\"/>\n",
       "</g>\n",
       "</g>\n",
       "</svg>\n"
      ],
      "text/plain": [
       "<graphviz.dot.Digraph at 0x7f72b0c9b9b0>"
      ]
     },
     "execution_count": 54,
     "metadata": {},
     "output_type": "execute_result"
    }
   ],
   "source": [
    "sentence = ['Matko', 'raps', 'are', 'silly']\n",
    "transitions = bottom_up_parse(cfg, sentence)\n",
    "parsing.render_forest(transitions[-1][0].stack)"
   ]
  },
  {
   "cell_type": "code",
   "execution_count": 65,
   "metadata": {
    "collapsed": false,
    "slideshow": {
     "slide_type": "slide"
    }
   },
   "outputs": [
    {
     "data": {
      "text/html": [
       "<table><tr><td>raps are silly</td><td><?xml version=\"1.0\" encoding=\"UTF-8\" standalone=\"no\"?>\n",
       "<!DOCTYPE svg PUBLIC \"-//W3C//DTD SVG 1.1//EN\"\n",
       " \"http://www.w3.org/Graphics/SVG/1.1/DTD/svg11.dtd\">\n",
       "<!-- Generated by graphviz version 2.38.0 (20140413.2041)\n",
       " -->\n",
       "<!-- Title: %3 Pages: 1 -->\n",
       "<svg width=\"77pt\" height=\"116pt\"\n",
       " viewBox=\"0.00 0.00 76.89 116.00\" xmlns=\"http://www.w3.org/2000/svg\" xmlns:xlink=\"http://www.w3.org/1999/xlink\">\n",
       "<g id=\"graph0\" class=\"graph\" transform=\"scale(1 1) rotate(0) translate(4 112)\">\n",
       "<title>%3</title>\n",
       "<polygon fill=\"white\" stroke=\"none\" points=\"-4,4 -4,-112 72.8939,-112 72.8939,4 -4,4\"/>\n",
       "<!-- 0 -->\n",
       "<g id=\"node1\" class=\"node\"><title>0</title>\n",
       "<ellipse fill=\"none\" stroke=\"black\" cx=\"34.4469\" cy=\"-18\" rx=\"34.394\" ry=\"18\"/>\n",
       "<text text-anchor=\"middle\" x=\"34.4469\" y=\"-14.3\" font-family=\"Times,serif\" font-size=\"14.00\">Matko</text>\n",
       "</g>\n",
       "<!-- 1 -->\n",
       "<g id=\"node2\" class=\"node\"><title>1</title>\n",
       "<ellipse fill=\"none\" stroke=\"black\" cx=\"34.4469\" cy=\"-90\" rx=\"29.795\" ry=\"18\"/>\n",
       "<text text-anchor=\"middle\" x=\"34.4469\" y=\"-86.3\" font-family=\"Times,serif\" font-size=\"14.00\">NP_s</text>\n",
       "</g>\n",
       "<!-- 1&#45;&gt;0 -->\n",
       "<g id=\"edge1\" class=\"edge\"><title>1&#45;&gt;0</title>\n",
       "<path fill=\"none\" stroke=\"black\" d=\"M34.4469,-71.6966C34.4469,-63.9827 34.4469,-54.7125 34.4469,-46.1124\"/>\n",
       "<polygon fill=\"black\" stroke=\"black\" points=\"37.947,-46.1043 34.4469,-36.1043 30.947,-46.1044 37.947,-46.1043\"/>\n",
       "</g>\n",
       "</g>\n",
       "</svg>\n",
       "</td><td>Reduce</td></tr></table>"
      ],
      "text/plain": [
       "<statnlpbook.parsing.render_transitions.<locals>.Output at 0x7f72b0c9b390>"
      ]
     },
     "execution_count": 65,
     "metadata": {},
     "output_type": "execute_result"
    }
   ],
   "source": [
    "parsing.render_transitions(transitions[2:3])"
   ]
  },
  {
   "cell_type": "markdown",
   "metadata": {
    "collapsed": false,
    "slideshow": {
     "slide_type": "slide"
    }
   },
   "source": [
    "## Dynamic Programming for Parsing\n",
    "A problem with the bottom-up parser is the fact that, after back-tracking, it may redo many steps it had already before (can you find examples of this behaviour in the transitions above?). This suggests to remember steps and re-use then when needed. This is the general idea behind _dynamic programming_: caching and reusing computation whenever possible. \n"
   ]
  },
  {
   "cell_type": "markdown",
   "metadata": {
    "collapsed": false,
    "slideshow": {
     "slide_type": "subslide"
    }
   },
   "source": [
    "### Chomsky Normal Form\n",
    "In the case of CFG parsing there exists a very effective dynamic program, the so-called Cocke–Younger–Kasami (CYK) algorithm. However, before we can apply this algorithm we need to _normalize_ the grammar. In particular, we need to make sure that each rule has one of the following forms:\n",
    "\n",
    "* \\\\(\\alpha \\rightarrow \\beta \\gamma\\\\) where \\\\(\\beta,\\gamma \\in N \\setminus \\\\{ S  \\\\} \\\\). \n",
    "* \\\\(\\alpha \\rightarrow t\\\\) where \\\\(t \\in \\Sigma\\\\).\n",
    "\n",
    "In words: each rule is either binary and expands into two non-terminal non-Start symbols, or unary and expands into a word. This form is called _Chomsky Normal Form_ (CNF). "
   ]
  },
  {
   "cell_type": "markdown",
   "metadata": {
    "collapsed": false,
    "slideshow": {
     "slide_type": "subslide"
    }
   },
   "source": [
    "## Conversion to CNF\n",
    "Fortunately we can convert every CFG into an equivalent CFG in CNF, in the sense that any derivation or parse of sentence in one grammar can be loss-lessly converted to a derivation in the other grammar. This can be achieved through a few simple transformations. Here the rules on the left-hand side of the transformation arrow $\\Rightarrow$ will be replaced by the ones on the left-hand side:  \n",
    "\n",
    "* $\\alpha \\rightarrow \\beta \\gamma \\delta \\Rightarrow \\alpha \\rightarrow \\beta\\alpha', \\alpha' \\rightarrow \\gamma \\delta$\n",
    "* $\\alpha \\rightarrow \\beta t \\Rightarrow \\alpha \\rightarrow \\beta \\alpha', \\alpha' \\rightarrow t$ where $t \\in \\Sigma$\n",
    "* $\\alpha \\rightarrow \\beta, \\beta \\rightarrow \\gamma \\Rightarrow \\alpha \\rightarrow \\gamma, \\beta \\rightarrow \\gamma$ \n",
    "\n",
    "We present this conversion in Python below, but omitted the third transformation which is not relevant for the  grammar we are using here (Exercise: add this case)."
   ]
  },
  {
   "cell_type": "code",
   "execution_count": 67,
   "metadata": {
    "collapsed": false,
    "slideshow": {
     "slide_type": "subslide"
    }
   },
   "outputs": [
    {
     "data": {
      "text/html": [
       "<table><tr><td>S</td><td>NP_p VP_p</td></tr><tr><td>S</td><td>NP_s VP_s</td></tr><tr><td>NP_p_0</td><td>Matko</td></tr><tr><td>NP_p_1</td><td>raps</td></tr><tr><td>NP_p</td><td>NP_p_0 NP_p_1</td></tr><tr><td>VP_p_2</td><td>are</td></tr><tr><td>VP_p</td><td>VP_p_2 ADJ</td></tr><tr><td>NP_s</td><td>Matko</td></tr><tr><td>VP_s_4</td><td>raps</td></tr><tr><td>VP_s</td><td>VP_s_4 VP_s_3</td></tr><tr><td>VP_s_3_5</td><td>in</td></tr><tr><td>VP_s_3_6</td><td>StatNLP</td></tr><tr><td>VP_s_3</td><td>VP_s_3_5 VP_s_3_6</td></tr><tr><td>ADJ</td><td>silly</td></tr></table>"
      ],
      "text/plain": [
       "<__main__.CFG at 0x7f72b0c9b048>"
      ]
     },
     "execution_count": 67,
     "metadata": {},
     "output_type": "execute_result"
    }
   ],
   "source": [
    "cnf_cfg = to_cnf(cfg)\n",
    "cnf_cfg"
   ]
  },
  {
   "cell_type": "markdown",
   "metadata": {
    "slideshow": {
     "slide_type": "slide"
    }
   },
   "source": [
    "### CYK algorithm\n",
    "The CYK algorithm caches, for each span in the sentence, all possible trees that can cover the span according to the CFG. The core abstraction that enables the CYK algorithm is a *chart*: a table that stores, for each span $(i,j)$ (where $i\\leq j$) of the sentence the set of possible non-terminal labels the grammar supports for this span together with a pointer to two chart cells that were used to produce the label. We provide the python class `parsing.Chart` that implements such a chart together with a way to visualise the triangular structure of the chart."
   ]
  },
  {
   "cell_type": "code",
   "execution_count": 68,
   "metadata": {
    "collapsed": false,
    "slideshow": {
     "slide_type": "slide"
    }
   },
   "outputs": [
    {
     "data": {
      "text/html": [
       "<table><tr><td></td><td>0: Matko</td><td>1: raps</td><td>2: are</td><td>3: silly</td></tr>\n",
       "<tr><td>0: Matko</td><td style=\"border:solid;\" bgcolor=\"white\"><font color=\"black\">NP_s</font>, <font color=\"red\">NP_p_0</font></td><td style=\"border:solid;\" bgcolor=\"#C3C3C3\"><font color=\"blue\">NP_p_2</font></td><td style=\"border:solid;\" bgcolor=\"white\"></td><td style=\"border:solid;\" bgcolor=\"white\"></td></tr>\n",
       "<tr><td>1: raps</td><td style=\"border:none;\" bgcolor=\"white\"></td><td style=\"border:solid;\" bgcolor=\"white\"><font color=\"black\">VP_s_6</font>, <font color=\"red\">NP_p_1</font></td><td style=\"border:solid;\" bgcolor=\"white\"></td><td style=\"border:solid;\" bgcolor=\"white\"></td></tr>\n",
       "<tr><td>2: are</td><td style=\"border:none;\" bgcolor=\"white\"></td><td style=\"border:none;\" bgcolor=\"white\"></td><td style=\"border:solid;\" bgcolor=\"white\"></td><td style=\"border:solid;\" bgcolor=\"white\"></td></tr>\n",
       "<tr><td>3: silly</td><td style=\"border:none;\" bgcolor=\"white\"></td><td style=\"border:none;\" bgcolor=\"white\"></td><td style=\"border:none;\" bgcolor=\"white\"></td><td style=\"border:solid;\" bgcolor=\"white\"></td></tr></table>"
      ],
      "text/plain": [
       "<statnlpbook.parsing.Chart at 0x7f72b0c99320>"
      ]
     },
     "execution_count": 68,
     "metadata": {},
     "output_type": "execute_result"
    }
   ],
   "source": [
    "chart = parsing.Chart(sentence)\n",
    "chart.append_label(0,0,'NP_s')\n",
    "chart.append_label(0,0,'NP_p_0')\n",
    "chart.append_label(1,1,'VP_s_6')\n",
    "chart.append_label(1,1,'NP_p_1')\n",
    "chart.append_label(0,1,'NP_p_2', [(0,0,'NP_p_0'),(1,1,'NP_p_1')]) \n",
    "chart.mark(0, 1, 'NP_p_2')\n",
    "chart.mark_target(0,1)\n",
    "chart"
   ]
  },
  {
   "cell_type": "markdown",
   "metadata": {
    "collapsed": false,
    "slideshow": {
     "slide_type": "subslide"
    }
   },
   "source": [
    "The CYK algorithm operates this chart as follows:\n",
    "\n",
    "* **Input**: sentence $s=s_1 \\ldots s_n$, CFG $G=(N, \\Sigma, R, S)$ in Chomsky Normal Form.\n",
    "* **Initialisation**:\n",
    "  * $C(i,j)=\\emptyset$ for all $i < j$, $i,j \\in \\{1,\\ldots, n\\}$\n",
    "  * $P(i,j,l)=\\emptyset$ for all $i < j$, $i,j \\in \\{1,\\ldots, n\\}$ and $l \\in N$\n",
    "  * **for** $i = 1 \\ldots n$ \n",
    "    * **for** every terminal rule $\\alpha \\rightarrow s_i \\in R$\n",
    "      * $C(i,i) \\leftarrow \\{ \\alpha \\} $\n",
    "* **for** $w \\in 1, \\ldots, n$ \n",
    "  * **for** $b \\in 1, \\ldots, n - 1$\n",
    "    * $e \\leftarrow b + w$\n",
    "    * **for** $m \\in b, \\ldots, e$\n",
    "      * **for** $\\beta \\in C(b,m)$ and $\\gamma \\in C(m + 1, e)$ **if** $\\alpha \\rightarrow \\beta \\gamma \\in R$\n",
    "        * $C(b,e) \\leftarrow C(b,e) \\cup \\{ \\alpha \\} $\n",
    "        * $P(i,j,l) \\leftarrow P(i,j,l) \\cup \\{((b,m,\\beta),(m+1,e,\\gamma)) \\}$  \n",
    "        \n",
    "We can implement this algorithm in Python as follows. Notice that we keep track of all steps of the algorithm for later introspection. In real applications this is not needed."
   ]
  },
  {
   "cell_type": "code",
   "execution_count": 69,
   "metadata": {
    "collapsed": false,
    "slideshow": {
     "slide_type": "subslide"
    }
   },
   "outputs": [
    {
     "data": {
      "text/html": [
       "<table><tr><td></td><td>0: Matko</td><td>1: raps</td><td>2: are</td><td>3: silly</td></tr>\n",
       "<tr><td>0: Matko</td><td style=\"border:solid;\" bgcolor=\"white\"><font color=\"black\">NP_p_0</font>, <font color=\"black\">NP_s</font></td><td style=\"border:solid;\" bgcolor=\"white\"><font color=\"black\">NP_p</font></td><td style=\"border:solid;\" bgcolor=\"white\"></td><td style=\"border:solid;\" bgcolor=\"white\"><font color=\"black\">S</font></td></tr>\n",
       "<tr><td>1: raps</td><td style=\"border:none;\" bgcolor=\"white\"></td><td style=\"border:solid;\" bgcolor=\"white\"><font color=\"black\">NP_p_1</font>, <font color=\"black\">VP_s_4</font></td><td style=\"border:solid;\" bgcolor=\"white\"></td><td style=\"border:solid;\" bgcolor=\"white\"></td></tr>\n",
       "<tr><td>2: are</td><td style=\"border:none;\" bgcolor=\"white\"></td><td style=\"border:none;\" bgcolor=\"white\"></td><td style=\"border:solid;\" bgcolor=\"white\"><font color=\"black\">VP_p_2</font></td><td style=\"border:solid;\" bgcolor=\"white\"><font color=\"black\">VP_p</font></td></tr>\n",
       "<tr><td>3: silly</td><td style=\"border:none;\" bgcolor=\"white\"></td><td style=\"border:none;\" bgcolor=\"white\"></td><td style=\"border:none;\" bgcolor=\"white\"></td><td style=\"border:solid;\" bgcolor=\"white\"><font color=\"black\">ADJ</font></td></tr></table>"
      ],
      "text/plain": [
       "<statnlpbook.parsing.Chart at 0x7f72caf7e198>"
      ]
     },
     "execution_count": 69,
     "metadata": {},
     "output_type": "execute_result"
    }
   ],
   "source": [
    "trace = cyk(cnf_cfg, sentence)\n",
    "trace[-1]"
   ]
  },
  {
   "cell_type": "code",
   "execution_count": 70,
   "metadata": {
    "collapsed": false,
    "slideshow": {
     "slide_type": "subslide"
    }
   },
   "outputs": [
    {
     "data": {
      "image/svg+xml": [
       "<?xml version=\"1.0\" encoding=\"UTF-8\" standalone=\"no\"?>\n",
       "<!DOCTYPE svg PUBLIC \"-//W3C//DTD SVG 1.1//EN\"\n",
       " \"http://www.w3.org/Graphics/SVG/1.1/DTD/svg11.dtd\">\n",
       "<!-- Generated by graphviz version 2.38.0 (20140413.2041)\n",
       " -->\n",
       "<!-- Title: %3 Pages: 1 -->\n",
       "<svg width=\"354pt\" height=\"260pt\"\n",
       " viewBox=\"0.00 0.00 353.65 260.00\" xmlns=\"http://www.w3.org/2000/svg\" xmlns:xlink=\"http://www.w3.org/1999/xlink\">\n",
       "<g id=\"graph0\" class=\"graph\" transform=\"scale(1 1) rotate(0) translate(4 256)\">\n",
       "<title>%3</title>\n",
       "<polygon fill=\"white\" stroke=\"none\" points=\"-4,4 -4,-256 349.646,-256 349.646,4 -4,4\"/>\n",
       "<!-- 0 -->\n",
       "<g id=\"node1\" class=\"node\"><title>0</title>\n",
       "<ellipse fill=\"none\" stroke=\"black\" cx=\"39.6465\" cy=\"-18\" rx=\"34.394\" ry=\"18\"/>\n",
       "<text text-anchor=\"middle\" x=\"39.6465\" y=\"-14.3\" font-family=\"Times,serif\" font-size=\"14.00\">Matko</text>\n",
       "</g>\n",
       "<!-- 1 -->\n",
       "<g id=\"node2\" class=\"node\"><title>1</title>\n",
       "<ellipse fill=\"none\" stroke=\"black\" cx=\"39.6465\" cy=\"-90\" rx=\"39.7935\" ry=\"18\"/>\n",
       "<text text-anchor=\"middle\" x=\"39.6465\" y=\"-86.3\" font-family=\"Times,serif\" font-size=\"14.00\">NP_p_0</text>\n",
       "</g>\n",
       "<!-- 1&#45;&gt;0 -->\n",
       "<g id=\"edge1\" class=\"edge\"><title>1&#45;&gt;0</title>\n",
       "<path fill=\"none\" stroke=\"black\" d=\"M39.6465,-71.6966C39.6465,-63.9827 39.6465,-54.7125 39.6465,-46.1124\"/>\n",
       "<polygon fill=\"black\" stroke=\"black\" points=\"43.1466,-46.1043 39.6465,-36.1043 36.1466,-46.1044 43.1466,-46.1043\"/>\n",
       "</g>\n",
       "<!-- 2 -->\n",
       "<g id=\"node3\" class=\"node\"><title>2</title>\n",
       "<ellipse fill=\"none\" stroke=\"black\" cx=\"136.646\" cy=\"-18\" rx=\"27\" ry=\"18\"/>\n",
       "<text text-anchor=\"middle\" x=\"136.646\" y=\"-14.3\" font-family=\"Times,serif\" font-size=\"14.00\">raps</text>\n",
       "</g>\n",
       "<!-- 3 -->\n",
       "<g id=\"node4\" class=\"node\"><title>3</title>\n",
       "<ellipse fill=\"none\" stroke=\"black\" cx=\"136.646\" cy=\"-90\" rx=\"39.7935\" ry=\"18\"/>\n",
       "<text text-anchor=\"middle\" x=\"136.646\" y=\"-86.3\" font-family=\"Times,serif\" font-size=\"14.00\">NP_p_1</text>\n",
       "</g>\n",
       "<!-- 3&#45;&gt;2 -->\n",
       "<g id=\"edge2\" class=\"edge\"><title>3&#45;&gt;2</title>\n",
       "<path fill=\"none\" stroke=\"black\" d=\"M136.646,-71.6966C136.646,-63.9827 136.646,-54.7125 136.646,-46.1124\"/>\n",
       "<polygon fill=\"black\" stroke=\"black\" points=\"140.147,-46.1043 136.646,-36.1043 133.147,-46.1044 140.147,-46.1043\"/>\n",
       "</g>\n",
       "<!-- 4 -->\n",
       "<g id=\"node5\" class=\"node\"><title>4</title>\n",
       "<ellipse fill=\"none\" stroke=\"black\" cx=\"136.646\" cy=\"-162\" rx=\"30.5947\" ry=\"18\"/>\n",
       "<text text-anchor=\"middle\" x=\"136.646\" y=\"-158.3\" font-family=\"Times,serif\" font-size=\"14.00\">NP_p</text>\n",
       "</g>\n",
       "<!-- 4&#45;&gt;1 -->\n",
       "<g id=\"edge3\" class=\"edge\"><title>4&#45;&gt;1</title>\n",
       "<path fill=\"none\" stroke=\"black\" d=\"M117.944,-147.503C103.916,-137.38 84.4575,-123.338 68.4486,-111.785\"/>\n",
       "<polygon fill=\"black\" stroke=\"black\" points=\"70.1233,-108.677 59.9661,-105.664 66.0269,-114.354 70.1233,-108.677\"/>\n",
       "</g>\n",
       "<!-- 4&#45;&gt;3 -->\n",
       "<g id=\"edge4\" class=\"edge\"><title>4&#45;&gt;3</title>\n",
       "<path fill=\"none\" stroke=\"black\" d=\"M136.646,-143.697C136.646,-135.983 136.646,-126.712 136.646,-118.112\"/>\n",
       "<polygon fill=\"black\" stroke=\"black\" points=\"140.147,-118.104 136.646,-108.104 133.147,-118.104 140.147,-118.104\"/>\n",
       "</g>\n",
       "<!-- 5 -->\n",
       "<g id=\"node6\" class=\"node\"><title>5</title>\n",
       "<ellipse fill=\"none\" stroke=\"black\" cx=\"233.646\" cy=\"-18\" rx=\"27\" ry=\"18\"/>\n",
       "<text text-anchor=\"middle\" x=\"233.646\" y=\"-14.3\" font-family=\"Times,serif\" font-size=\"14.00\">are</text>\n",
       "</g>\n",
       "<!-- 6 -->\n",
       "<g id=\"node7\" class=\"node\"><title>6</title>\n",
       "<ellipse fill=\"none\" stroke=\"black\" cx=\"233.646\" cy=\"-90\" rx=\"39.7935\" ry=\"18\"/>\n",
       "<text text-anchor=\"middle\" x=\"233.646\" y=\"-86.3\" font-family=\"Times,serif\" font-size=\"14.00\">VP_p_2</text>\n",
       "</g>\n",
       "<!-- 6&#45;&gt;5 -->\n",
       "<g id=\"edge5\" class=\"edge\"><title>6&#45;&gt;5</title>\n",
       "<path fill=\"none\" stroke=\"black\" d=\"M233.646,-71.6966C233.646,-63.9827 233.646,-54.7125 233.646,-46.1124\"/>\n",
       "<polygon fill=\"black\" stroke=\"black\" points=\"237.147,-46.1043 233.646,-36.1043 230.147,-46.1044 237.147,-46.1043\"/>\n",
       "</g>\n",
       "<!-- 7 -->\n",
       "<g id=\"node8\" class=\"node\"><title>7</title>\n",
       "<ellipse fill=\"none\" stroke=\"black\" cx=\"318.646\" cy=\"-18\" rx=\"27\" ry=\"18\"/>\n",
       "<text text-anchor=\"middle\" x=\"318.646\" y=\"-14.3\" font-family=\"Times,serif\" font-size=\"14.00\">silly</text>\n",
       "</g>\n",
       "<!-- 8 -->\n",
       "<g id=\"node9\" class=\"node\"><title>8</title>\n",
       "<ellipse fill=\"none\" stroke=\"black\" cx=\"318.646\" cy=\"-90\" rx=\"27\" ry=\"18\"/>\n",
       "<text text-anchor=\"middle\" x=\"318.646\" y=\"-86.3\" font-family=\"Times,serif\" font-size=\"14.00\">ADJ</text>\n",
       "</g>\n",
       "<!-- 8&#45;&gt;7 -->\n",
       "<g id=\"edge6\" class=\"edge\"><title>8&#45;&gt;7</title>\n",
       "<path fill=\"none\" stroke=\"black\" d=\"M318.646,-71.6966C318.646,-63.9827 318.646,-54.7125 318.646,-46.1124\"/>\n",
       "<polygon fill=\"black\" stroke=\"black\" points=\"322.147,-46.1043 318.646,-36.1043 315.147,-46.1044 322.147,-46.1043\"/>\n",
       "</g>\n",
       "<!-- 9 -->\n",
       "<g id=\"node10\" class=\"node\"><title>9</title>\n",
       "<ellipse fill=\"none\" stroke=\"black\" cx=\"233.646\" cy=\"-162\" rx=\"30.5947\" ry=\"18\"/>\n",
       "<text text-anchor=\"middle\" x=\"233.646\" y=\"-158.3\" font-family=\"Times,serif\" font-size=\"14.00\">VP_p</text>\n",
       "</g>\n",
       "<!-- 9&#45;&gt;6 -->\n",
       "<g id=\"edge7\" class=\"edge\"><title>9&#45;&gt;6</title>\n",
       "<path fill=\"none\" stroke=\"black\" d=\"M233.646,-143.697C233.646,-135.983 233.646,-126.712 233.646,-118.112\"/>\n",
       "<polygon fill=\"black\" stroke=\"black\" points=\"237.147,-118.104 233.646,-108.104 230.147,-118.104 237.147,-118.104\"/>\n",
       "</g>\n",
       "<!-- 9&#45;&gt;8 -->\n",
       "<g id=\"edge8\" class=\"edge\"><title>9&#45;&gt;8</title>\n",
       "<path fill=\"none\" stroke=\"black\" d=\"M250.848,-146.834C263.418,-136.482 280.632,-122.306 294.569,-110.828\"/>\n",
       "<polygon fill=\"black\" stroke=\"black\" points=\"296.842,-113.491 302.336,-104.432 292.392,-108.087 296.842,-113.491\"/>\n",
       "</g>\n",
       "<!-- 10 -->\n",
       "<g id=\"node11\" class=\"node\"><title>10</title>\n",
       "<ellipse fill=\"none\" stroke=\"black\" cx=\"184.646\" cy=\"-234\" rx=\"27\" ry=\"18\"/>\n",
       "<text text-anchor=\"middle\" x=\"184.646\" y=\"-230.3\" font-family=\"Times,serif\" font-size=\"14.00\">S</text>\n",
       "</g>\n",
       "<!-- 10&#45;&gt;4 -->\n",
       "<g id=\"edge9\" class=\"edge\"><title>10&#45;&gt;4</title>\n",
       "<path fill=\"none\" stroke=\"black\" d=\"M173.755,-217.116C167.825,-208.469 160.355,-197.575 153.675,-187.833\"/>\n",
       "<polygon fill=\"black\" stroke=\"black\" points=\"156.37,-185.575 147.828,-179.307 150.597,-189.534 156.37,-185.575\"/>\n",
       "</g>\n",
       "<!-- 10&#45;&gt;9 -->\n",
       "<g id=\"edge10\" class=\"edge\"><title>10&#45;&gt;9</title>\n",
       "<path fill=\"none\" stroke=\"black\" d=\"M195.521,-217.465C201.714,-208.617 209.611,-197.337 216.609,-187.339\"/>\n",
       "<polygon fill=\"black\" stroke=\"black\" points=\"219.595,-189.177 222.462,-178.977 213.86,-185.162 219.595,-189.177\"/>\n",
       "</g>\n",
       "</g>\n",
       "</svg>\n"
      ],
      "text/plain": [
       "<graphviz.dot.Digraph at 0x7f72b0e1ac50>"
      ]
     },
     "execution_count": 70,
     "metadata": {},
     "output_type": "execute_result"
    }
   ],
   "source": [
    "parse_result = trace[-1].derive_trees()[0]\n",
    "parsing.render_tree(parse_result)"
   ]
  },
  {
   "cell_type": "code",
   "execution_count": 71,
   "metadata": {
    "collapsed": false,
    "slideshow": {
     "slide_type": "subslide"
    }
   },
   "outputs": [
    {
     "data": {
      "image/svg+xml": [
       "<?xml version=\"1.0\" encoding=\"UTF-8\" standalone=\"no\"?>\n",
       "<!DOCTYPE svg PUBLIC \"-//W3C//DTD SVG 1.1//EN\"\n",
       " \"http://www.w3.org/Graphics/SVG/1.1/DTD/svg11.dtd\">\n",
       "<!-- Generated by graphviz version 2.38.0 (20140413.2041)\n",
       " -->\n",
       "<!-- Title: %3 Pages: 1 -->\n",
       "<svg width=\"295pt\" height=\"260pt\"\n",
       " viewBox=\"0.00 0.00 295.45 260.00\" xmlns=\"http://www.w3.org/2000/svg\" xmlns:xlink=\"http://www.w3.org/1999/xlink\">\n",
       "<g id=\"graph0\" class=\"graph\" transform=\"scale(1 1) rotate(0) translate(4 256)\">\n",
       "<title>%3</title>\n",
       "<polygon fill=\"white\" stroke=\"none\" points=\"-4,4 -4,-256 291.447,-256 291.447,4 -4,4\"/>\n",
       "<!-- 0 -->\n",
       "<g id=\"node1\" class=\"node\"><title>0</title>\n",
       "<ellipse fill=\"none\" stroke=\"black\" cx=\"34.4469\" cy=\"-90\" rx=\"34.394\" ry=\"18\"/>\n",
       "<text text-anchor=\"middle\" x=\"34.4469\" y=\"-86.3\" font-family=\"Times,serif\" font-size=\"14.00\">Matko</text>\n",
       "</g>\n",
       "<!-- 1 -->\n",
       "<g id=\"node2\" class=\"node\"><title>1</title>\n",
       "<ellipse fill=\"none\" stroke=\"black\" cx=\"113.447\" cy=\"-90\" rx=\"27\" ry=\"18\"/>\n",
       "<text text-anchor=\"middle\" x=\"113.447\" y=\"-86.3\" font-family=\"Times,serif\" font-size=\"14.00\">raps</text>\n",
       "</g>\n",
       "<!-- 2 -->\n",
       "<g id=\"node3\" class=\"node\"><title>2</title>\n",
       "<ellipse fill=\"none\" stroke=\"black\" cx=\"111.447\" cy=\"-162\" rx=\"30.5947\" ry=\"18\"/>\n",
       "<text text-anchor=\"middle\" x=\"111.447\" y=\"-158.3\" font-family=\"Times,serif\" font-size=\"14.00\">NP_p</text>\n",
       "</g>\n",
       "<!-- 2&#45;&gt;0 -->\n",
       "<g id=\"edge1\" class=\"edge\"><title>2&#45;&gt;0</title>\n",
       "<path fill=\"none\" stroke=\"black\" d=\"M95.4925,-146.496C84.7965,-136.772 70.516,-123.79 58.4564,-112.827\"/>\n",
       "<polygon fill=\"black\" stroke=\"black\" points=\"60.666,-110.105 50.9122,-105.968 55.9573,-115.285 60.666,-110.105\"/>\n",
       "</g>\n",
       "<!-- 2&#45;&gt;1 -->\n",
       "<g id=\"edge2\" class=\"edge\"><title>2&#45;&gt;1</title>\n",
       "<path fill=\"none\" stroke=\"black\" d=\"M111.941,-143.697C112.162,-135.983 112.427,-126.712 112.672,-118.112\"/>\n",
       "<polygon fill=\"black\" stroke=\"black\" points=\"116.171,-118.2 112.958,-108.104 109.174,-118 116.171,-118.2\"/>\n",
       "</g>\n",
       "<!-- 3 -->\n",
       "<g id=\"node4\" class=\"node\"><title>3</title>\n",
       "<ellipse fill=\"none\" stroke=\"black\" cx=\"188.447\" cy=\"-90\" rx=\"27\" ry=\"18\"/>\n",
       "<text text-anchor=\"middle\" x=\"188.447\" y=\"-86.3\" font-family=\"Times,serif\" font-size=\"14.00\">are</text>\n",
       "</g>\n",
       "<!-- 4 -->\n",
       "<g id=\"node5\" class=\"node\"><title>4</title>\n",
       "<ellipse fill=\"none\" stroke=\"black\" cx=\"260.447\" cy=\"-18\" rx=\"27\" ry=\"18\"/>\n",
       "<text text-anchor=\"middle\" x=\"260.447\" y=\"-14.3\" font-family=\"Times,serif\" font-size=\"14.00\">silly</text>\n",
       "</g>\n",
       "<!-- 5 -->\n",
       "<g id=\"node6\" class=\"node\"><title>5</title>\n",
       "<ellipse fill=\"none\" stroke=\"black\" cx=\"260.447\" cy=\"-90\" rx=\"27\" ry=\"18\"/>\n",
       "<text text-anchor=\"middle\" x=\"260.447\" y=\"-86.3\" font-family=\"Times,serif\" font-size=\"14.00\">ADJ</text>\n",
       "</g>\n",
       "<!-- 5&#45;&gt;4 -->\n",
       "<g id=\"edge3\" class=\"edge\"><title>5&#45;&gt;4</title>\n",
       "<path fill=\"none\" stroke=\"black\" d=\"M260.447,-71.6966C260.447,-63.9827 260.447,-54.7125 260.447,-46.1124\"/>\n",
       "<polygon fill=\"black\" stroke=\"black\" points=\"263.947,-46.1043 260.447,-36.1043 256.947,-46.1044 263.947,-46.1043\"/>\n",
       "</g>\n",
       "<!-- 6 -->\n",
       "<g id=\"node7\" class=\"node\"><title>6</title>\n",
       "<ellipse fill=\"none\" stroke=\"black\" cx=\"190.447\" cy=\"-162\" rx=\"30.5947\" ry=\"18\"/>\n",
       "<text text-anchor=\"middle\" x=\"190.447\" y=\"-158.3\" font-family=\"Times,serif\" font-size=\"14.00\">VP_p</text>\n",
       "</g>\n",
       "<!-- 6&#45;&gt;3 -->\n",
       "<g id=\"edge4\" class=\"edge\"><title>6&#45;&gt;3</title>\n",
       "<path fill=\"none\" stroke=\"black\" d=\"M189.953,-143.697C189.732,-135.983 189.467,-126.712 189.222,-118.112\"/>\n",
       "<polygon fill=\"black\" stroke=\"black\" points=\"192.72,-118 188.936,-108.104 185.723,-118.2 192.72,-118\"/>\n",
       "</g>\n",
       "<!-- 6&#45;&gt;5 -->\n",
       "<g id=\"edge5\" class=\"edge\"><title>6&#45;&gt;5</title>\n",
       "<path fill=\"none\" stroke=\"black\" d=\"M205.292,-146.155C215.074,-136.372 228.043,-123.404 238.947,-112.5\"/>\n",
       "<polygon fill=\"black\" stroke=\"black\" points=\"241.506,-114.891 246.102,-105.345 236.556,-109.941 241.506,-114.891\"/>\n",
       "</g>\n",
       "<!-- 7 -->\n",
       "<g id=\"node8\" class=\"node\"><title>7</title>\n",
       "<ellipse fill=\"none\" stroke=\"black\" cx=\"150.447\" cy=\"-234\" rx=\"27\" ry=\"18\"/>\n",
       "<text text-anchor=\"middle\" x=\"150.447\" y=\"-230.3\" font-family=\"Times,serif\" font-size=\"14.00\">S</text>\n",
       "</g>\n",
       "<!-- 7&#45;&gt;2 -->\n",
       "<g id=\"edge6\" class=\"edge\"><title>7&#45;&gt;2</title>\n",
       "<path fill=\"none\" stroke=\"black\" d=\"M141.402,-216.765C136.744,-208.404 130.956,-198.016 125.713,-188.606\"/>\n",
       "<polygon fill=\"black\" stroke=\"black\" points=\"128.639,-186.666 120.714,-179.633 122.524,-190.073 128.639,-186.666\"/>\n",
       "</g>\n",
       "<!-- 7&#45;&gt;6 -->\n",
       "<g id=\"edge7\" class=\"edge\"><title>7&#45;&gt;6</title>\n",
       "<path fill=\"none\" stroke=\"black\" d=\"M159.724,-216.765C164.502,-208.404 170.438,-198.016 175.815,-188.606\"/>\n",
       "<polygon fill=\"black\" stroke=\"black\" points=\"179.02,-190.052 180.942,-179.633 172.942,-186.579 179.02,-190.052\"/>\n",
       "</g>\n",
       "</g>\n",
       "</svg>\n"
      ],
      "text/plain": [
       "<graphviz.dot.Digraph at 0x7f72b0de7ba8>"
      ]
     },
     "execution_count": 71,
     "metadata": {},
     "output_type": "execute_result"
    }
   ],
   "source": [
    "parsing.render_tree(parsing.filter_non_terminals(parse_result, cfg.n))"
   ]
  },
  {
   "cell_type": "code",
   "execution_count": 72,
   "metadata": {
    "collapsed": false,
    "slideshow": {
     "slide_type": "subslide"
    }
   },
   "outputs": [
    {
     "data": {
      "text/html": [
       "\n",
       "        <div id=\"60e532a4-9510-11e6-a2cb-0242ac110002\" class=\"carousel\" data-ride=\"carousel\" data-interval=\"false\">\n",
       "          <!-- Controls -->\n",
       "          <a href=\"#60e532a4-9510-11e6-a2cb-0242ac110002\" role=\"button\" data-slide=\"prev\">Previous</a>\n",
       "          &nbsp\n",
       "          <a  href=\"#60e532a4-9510-11e6-a2cb-0242ac110002\" role=\"button\" data-slide=\"next\">Next</a>\n",
       "          <div class=\"carousel-inner\" role=\"listbox\">\n",
       "          <div class=\"item active\"><table><tr><td></td><td>0: Matko</td><td>1: raps</td><td>2: are</td><td>3: silly</td></tr>\n",
       "<tr><td>0: Matko</td><td style=\"border:solid;\" bgcolor=\"white\"></td><td style=\"border:solid;\" bgcolor=\"white\"></td><td style=\"border:solid;\" bgcolor=\"white\"></td><td style=\"border:solid;\" bgcolor=\"white\"></td></tr>\n",
       "<tr><td>1: raps</td><td style=\"border:none;\" bgcolor=\"white\"></td><td style=\"border:solid;\" bgcolor=\"white\"></td><td style=\"border:solid;\" bgcolor=\"white\"></td><td style=\"border:solid;\" bgcolor=\"white\"></td></tr>\n",
       "<tr><td>2: are</td><td style=\"border:none;\" bgcolor=\"white\"></td><td style=\"border:none;\" bgcolor=\"white\"></td><td style=\"border:solid;\" bgcolor=\"white\"></td><td style=\"border:solid;\" bgcolor=\"white\"></td></tr>\n",
       "<tr><td>3: silly</td><td style=\"border:none;\" bgcolor=\"white\"></td><td style=\"border:none;\" bgcolor=\"white\"></td><td style=\"border:none;\" bgcolor=\"white\"></td><td style=\"border:solid;\" bgcolor=\"white\"></td></tr></table> 1 / 36</div>\n",
       "<div class=\"item\"><table><tr><td></td><td>0: Matko</td><td>1: raps</td><td>2: are</td><td>3: silly</td></tr>\n",
       "<tr><td>0: Matko</td><td style=\"border:solid;\" bgcolor=\"#C3C3C3\"></td><td style=\"border:solid;\" bgcolor=\"white\"></td><td style=\"border:solid;\" bgcolor=\"white\"></td><td style=\"border:solid;\" bgcolor=\"white\"></td></tr>\n",
       "<tr><td>1: raps</td><td style=\"border:none;\" bgcolor=\"white\"></td><td style=\"border:solid;\" bgcolor=\"white\"></td><td style=\"border:solid;\" bgcolor=\"white\"></td><td style=\"border:solid;\" bgcolor=\"white\"></td></tr>\n",
       "<tr><td>2: are</td><td style=\"border:none;\" bgcolor=\"white\"></td><td style=\"border:none;\" bgcolor=\"white\"></td><td style=\"border:solid;\" bgcolor=\"white\"></td><td style=\"border:solid;\" bgcolor=\"white\"></td></tr>\n",
       "<tr><td>3: silly</td><td style=\"border:none;\" bgcolor=\"white\"></td><td style=\"border:none;\" bgcolor=\"white\"></td><td style=\"border:none;\" bgcolor=\"white\"></td><td style=\"border:solid;\" bgcolor=\"white\"></td></tr></table> 2 / 36</div>\n",
       "<div class=\"item\"><table><tr><td></td><td>0: Matko</td><td>1: raps</td><td>2: are</td><td>3: silly</td></tr>\n",
       "<tr><td>0: Matko</td><td style=\"border:solid;\" bgcolor=\"#C3C3C3\"><font color=\"blue\">NP_p_0</font></td><td style=\"border:solid;\" bgcolor=\"white\"></td><td style=\"border:solid;\" bgcolor=\"white\"></td><td style=\"border:solid;\" bgcolor=\"white\"></td></tr>\n",
       "<tr><td>1: raps</td><td style=\"border:none;\" bgcolor=\"white\"></td><td style=\"border:solid;\" bgcolor=\"white\"></td><td style=\"border:solid;\" bgcolor=\"white\"></td><td style=\"border:solid;\" bgcolor=\"white\"></td></tr>\n",
       "<tr><td>2: are</td><td style=\"border:none;\" bgcolor=\"white\"></td><td style=\"border:none;\" bgcolor=\"white\"></td><td style=\"border:solid;\" bgcolor=\"white\"></td><td style=\"border:solid;\" bgcolor=\"white\"></td></tr>\n",
       "<tr><td>3: silly</td><td style=\"border:none;\" bgcolor=\"white\"></td><td style=\"border:none;\" bgcolor=\"white\"></td><td style=\"border:none;\" bgcolor=\"white\"></td><td style=\"border:solid;\" bgcolor=\"white\"></td></tr></table> 3 / 36</div>\n",
       "<div class=\"item\"><table><tr><td></td><td>0: Matko</td><td>1: raps</td><td>2: are</td><td>3: silly</td></tr>\n",
       "<tr><td>0: Matko</td><td style=\"border:solid;\" bgcolor=\"#C3C3C3\"><font color=\"black\">NP_p_0</font>, <font color=\"blue\">NP_s</font></td><td style=\"border:solid;\" bgcolor=\"white\"></td><td style=\"border:solid;\" bgcolor=\"white\"></td><td style=\"border:solid;\" bgcolor=\"white\"></td></tr>\n",
       "<tr><td>1: raps</td><td style=\"border:none;\" bgcolor=\"white\"></td><td style=\"border:solid;\" bgcolor=\"white\"></td><td style=\"border:solid;\" bgcolor=\"white\"></td><td style=\"border:solid;\" bgcolor=\"white\"></td></tr>\n",
       "<tr><td>2: are</td><td style=\"border:none;\" bgcolor=\"white\"></td><td style=\"border:none;\" bgcolor=\"white\"></td><td style=\"border:solid;\" bgcolor=\"white\"></td><td style=\"border:solid;\" bgcolor=\"white\"></td></tr>\n",
       "<tr><td>3: silly</td><td style=\"border:none;\" bgcolor=\"white\"></td><td style=\"border:none;\" bgcolor=\"white\"></td><td style=\"border:none;\" bgcolor=\"white\"></td><td style=\"border:solid;\" bgcolor=\"white\"></td></tr></table> 4 / 36</div>\n",
       "<div class=\"item\"><table><tr><td></td><td>0: Matko</td><td>1: raps</td><td>2: are</td><td>3: silly</td></tr>\n",
       "<tr><td>0: Matko</td><td style=\"border:solid;\" bgcolor=\"white\"><font color=\"black\">NP_p_0</font>, <font color=\"blue\">NP_s</font></td><td style=\"border:solid;\" bgcolor=\"white\"></td><td style=\"border:solid;\" bgcolor=\"white\"></td><td style=\"border:solid;\" bgcolor=\"white\"></td></tr>\n",
       "<tr><td>1: raps</td><td style=\"border:none;\" bgcolor=\"white\"></td><td style=\"border:solid;\" bgcolor=\"#C3C3C3\"></td><td style=\"border:solid;\" bgcolor=\"white\"></td><td style=\"border:solid;\" bgcolor=\"white\"></td></tr>\n",
       "<tr><td>2: are</td><td style=\"border:none;\" bgcolor=\"white\"></td><td style=\"border:none;\" bgcolor=\"white\"></td><td style=\"border:solid;\" bgcolor=\"white\"></td><td style=\"border:solid;\" bgcolor=\"white\"></td></tr>\n",
       "<tr><td>3: silly</td><td style=\"border:none;\" bgcolor=\"white\"></td><td style=\"border:none;\" bgcolor=\"white\"></td><td style=\"border:none;\" bgcolor=\"white\"></td><td style=\"border:solid;\" bgcolor=\"white\"></td></tr></table> 5 / 36</div>\n",
       "<div class=\"item\"><table><tr><td></td><td>0: Matko</td><td>1: raps</td><td>2: are</td><td>3: silly</td></tr>\n",
       "<tr><td>0: Matko</td><td style=\"border:solid;\" bgcolor=\"white\"><font color=\"black\">NP_p_0</font>, <font color=\"black\">NP_s</font></td><td style=\"border:solid;\" bgcolor=\"white\"></td><td style=\"border:solid;\" bgcolor=\"white\"></td><td style=\"border:solid;\" bgcolor=\"white\"></td></tr>\n",
       "<tr><td>1: raps</td><td style=\"border:none;\" bgcolor=\"white\"></td><td style=\"border:solid;\" bgcolor=\"#C3C3C3\"><font color=\"blue\">NP_p_1</font></td><td style=\"border:solid;\" bgcolor=\"white\"></td><td style=\"border:solid;\" bgcolor=\"white\"></td></tr>\n",
       "<tr><td>2: are</td><td style=\"border:none;\" bgcolor=\"white\"></td><td style=\"border:none;\" bgcolor=\"white\"></td><td style=\"border:solid;\" bgcolor=\"white\"></td><td style=\"border:solid;\" bgcolor=\"white\"></td></tr>\n",
       "<tr><td>3: silly</td><td style=\"border:none;\" bgcolor=\"white\"></td><td style=\"border:none;\" bgcolor=\"white\"></td><td style=\"border:none;\" bgcolor=\"white\"></td><td style=\"border:solid;\" bgcolor=\"white\"></td></tr></table> 6 / 36</div>\n",
       "<div class=\"item\"><table><tr><td></td><td>0: Matko</td><td>1: raps</td><td>2: are</td><td>3: silly</td></tr>\n",
       "<tr><td>0: Matko</td><td style=\"border:solid;\" bgcolor=\"white\"><font color=\"black\">NP_p_0</font>, <font color=\"black\">NP_s</font></td><td style=\"border:solid;\" bgcolor=\"white\"></td><td style=\"border:solid;\" bgcolor=\"white\"></td><td style=\"border:solid;\" bgcolor=\"white\"></td></tr>\n",
       "<tr><td>1: raps</td><td style=\"border:none;\" bgcolor=\"white\"></td><td style=\"border:solid;\" bgcolor=\"#C3C3C3\"><font color=\"black\">NP_p_1</font>, <font color=\"blue\">VP_s_4</font></td><td style=\"border:solid;\" bgcolor=\"white\"></td><td style=\"border:solid;\" bgcolor=\"white\"></td></tr>\n",
       "<tr><td>2: are</td><td style=\"border:none;\" bgcolor=\"white\"></td><td style=\"border:none;\" bgcolor=\"white\"></td><td style=\"border:solid;\" bgcolor=\"white\"></td><td style=\"border:solid;\" bgcolor=\"white\"></td></tr>\n",
       "<tr><td>3: silly</td><td style=\"border:none;\" bgcolor=\"white\"></td><td style=\"border:none;\" bgcolor=\"white\"></td><td style=\"border:none;\" bgcolor=\"white\"></td><td style=\"border:solid;\" bgcolor=\"white\"></td></tr></table> 7 / 36</div>\n",
       "<div class=\"item\"><table><tr><td></td><td>0: Matko</td><td>1: raps</td><td>2: are</td><td>3: silly</td></tr>\n",
       "<tr><td>0: Matko</td><td style=\"border:solid;\" bgcolor=\"white\"><font color=\"black\">NP_p_0</font>, <font color=\"black\">NP_s</font></td><td style=\"border:solid;\" bgcolor=\"white\"></td><td style=\"border:solid;\" bgcolor=\"white\"></td><td style=\"border:solid;\" bgcolor=\"white\"></td></tr>\n",
       "<tr><td>1: raps</td><td style=\"border:none;\" bgcolor=\"white\"></td><td style=\"border:solid;\" bgcolor=\"white\"><font color=\"black\">NP_p_1</font>, <font color=\"blue\">VP_s_4</font></td><td style=\"border:solid;\" bgcolor=\"white\"></td><td style=\"border:solid;\" bgcolor=\"white\"></td></tr>\n",
       "<tr><td>2: are</td><td style=\"border:none;\" bgcolor=\"white\"></td><td style=\"border:none;\" bgcolor=\"white\"></td><td style=\"border:solid;\" bgcolor=\"#C3C3C3\"></td><td style=\"border:solid;\" bgcolor=\"white\"></td></tr>\n",
       "<tr><td>3: silly</td><td style=\"border:none;\" bgcolor=\"white\"></td><td style=\"border:none;\" bgcolor=\"white\"></td><td style=\"border:none;\" bgcolor=\"white\"></td><td style=\"border:solid;\" bgcolor=\"white\"></td></tr></table> 8 / 36</div>\n",
       "<div class=\"item\"><table><tr><td></td><td>0: Matko</td><td>1: raps</td><td>2: are</td><td>3: silly</td></tr>\n",
       "<tr><td>0: Matko</td><td style=\"border:solid;\" bgcolor=\"white\"><font color=\"black\">NP_p_0</font>, <font color=\"black\">NP_s</font></td><td style=\"border:solid;\" bgcolor=\"white\"></td><td style=\"border:solid;\" bgcolor=\"white\"></td><td style=\"border:solid;\" bgcolor=\"white\"></td></tr>\n",
       "<tr><td>1: raps</td><td style=\"border:none;\" bgcolor=\"white\"></td><td style=\"border:solid;\" bgcolor=\"white\"><font color=\"black\">NP_p_1</font>, <font color=\"black\">VP_s_4</font></td><td style=\"border:solid;\" bgcolor=\"white\"></td><td style=\"border:solid;\" bgcolor=\"white\"></td></tr>\n",
       "<tr><td>2: are</td><td style=\"border:none;\" bgcolor=\"white\"></td><td style=\"border:none;\" bgcolor=\"white\"></td><td style=\"border:solid;\" bgcolor=\"#C3C3C3\"><font color=\"blue\">VP_p_2</font></td><td style=\"border:solid;\" bgcolor=\"white\"></td></tr>\n",
       "<tr><td>3: silly</td><td style=\"border:none;\" bgcolor=\"white\"></td><td style=\"border:none;\" bgcolor=\"white\"></td><td style=\"border:none;\" bgcolor=\"white\"></td><td style=\"border:solid;\" bgcolor=\"white\"></td></tr></table> 9 / 36</div>\n",
       "<div class=\"item\"><table><tr><td></td><td>0: Matko</td><td>1: raps</td><td>2: are</td><td>3: silly</td></tr>\n",
       "<tr><td>0: Matko</td><td style=\"border:solid;\" bgcolor=\"white\"><font color=\"black\">NP_p_0</font>, <font color=\"black\">NP_s</font></td><td style=\"border:solid;\" bgcolor=\"white\"></td><td style=\"border:solid;\" bgcolor=\"white\"></td><td style=\"border:solid;\" bgcolor=\"white\"></td></tr>\n",
       "<tr><td>1: raps</td><td style=\"border:none;\" bgcolor=\"white\"></td><td style=\"border:solid;\" bgcolor=\"white\"><font color=\"black\">NP_p_1</font>, <font color=\"black\">VP_s_4</font></td><td style=\"border:solid;\" bgcolor=\"white\"></td><td style=\"border:solid;\" bgcolor=\"white\"></td></tr>\n",
       "<tr><td>2: are</td><td style=\"border:none;\" bgcolor=\"white\"></td><td style=\"border:none;\" bgcolor=\"white\"></td><td style=\"border:solid;\" bgcolor=\"white\"><font color=\"blue\">VP_p_2</font></td><td style=\"border:solid;\" bgcolor=\"white\"></td></tr>\n",
       "<tr><td>3: silly</td><td style=\"border:none;\" bgcolor=\"white\"></td><td style=\"border:none;\" bgcolor=\"white\"></td><td style=\"border:none;\" bgcolor=\"white\"></td><td style=\"border:solid;\" bgcolor=\"#C3C3C3\"></td></tr></table> 10 / 36</div>\n",
       "<div class=\"item\"><table><tr><td></td><td>0: Matko</td><td>1: raps</td><td>2: are</td><td>3: silly</td></tr>\n",
       "<tr><td>0: Matko</td><td style=\"border:solid;\" bgcolor=\"white\"><font color=\"black\">NP_p_0</font>, <font color=\"black\">NP_s</font></td><td style=\"border:solid;\" bgcolor=\"white\"></td><td style=\"border:solid;\" bgcolor=\"white\"></td><td style=\"border:solid;\" bgcolor=\"white\"></td></tr>\n",
       "<tr><td>1: raps</td><td style=\"border:none;\" bgcolor=\"white\"></td><td style=\"border:solid;\" bgcolor=\"white\"><font color=\"black\">NP_p_1</font>, <font color=\"black\">VP_s_4</font></td><td style=\"border:solid;\" bgcolor=\"white\"></td><td style=\"border:solid;\" bgcolor=\"white\"></td></tr>\n",
       "<tr><td>2: are</td><td style=\"border:none;\" bgcolor=\"white\"></td><td style=\"border:none;\" bgcolor=\"white\"></td><td style=\"border:solid;\" bgcolor=\"white\"><font color=\"black\">VP_p_2</font></td><td style=\"border:solid;\" bgcolor=\"white\"></td></tr>\n",
       "<tr><td>3: silly</td><td style=\"border:none;\" bgcolor=\"white\"></td><td style=\"border:none;\" bgcolor=\"white\"></td><td style=\"border:none;\" bgcolor=\"white\"></td><td style=\"border:solid;\" bgcolor=\"#C3C3C3\"><font color=\"blue\">ADJ</font></td></tr></table> 11 / 36</div>\n",
       "<div class=\"item\"><table><tr><td></td><td>0: Matko</td><td>1: raps</td><td>2: are</td><td>3: silly</td></tr>\n",
       "<tr><td>0: Matko</td><td style=\"border:solid;\" bgcolor=\"#E1E1E1\"><font color=\"black\">NP_p_0</font>, <font color=\"black\">NP_s</font></td><td style=\"border:solid;\" bgcolor=\"#C3C3C3\"></td><td style=\"border:solid;\" bgcolor=\"white\"></td><td style=\"border:solid;\" bgcolor=\"white\"></td></tr>\n",
       "<tr><td>1: raps</td><td style=\"border:none;\" bgcolor=\"white\"></td><td style=\"border:solid;\" bgcolor=\"#E1E1E1\"><font color=\"black\">NP_p_1</font>, <font color=\"black\">VP_s_4</font></td><td style=\"border:solid;\" bgcolor=\"white\"></td><td style=\"border:solid;\" bgcolor=\"white\"></td></tr>\n",
       "<tr><td>2: are</td><td style=\"border:none;\" bgcolor=\"white\"></td><td style=\"border:none;\" bgcolor=\"white\"></td><td style=\"border:solid;\" bgcolor=\"white\"><font color=\"black\">VP_p_2</font></td><td style=\"border:solid;\" bgcolor=\"white\"></td></tr>\n",
       "<tr><td>3: silly</td><td style=\"border:none;\" bgcolor=\"white\"></td><td style=\"border:none;\" bgcolor=\"white\"></td><td style=\"border:none;\" bgcolor=\"white\"></td><td style=\"border:solid;\" bgcolor=\"white\"><font color=\"black\">ADJ</font></td></tr></table> 12 / 36</div>\n",
       "<div class=\"item\"><table><tr><td></td><td>0: Matko</td><td>1: raps</td><td>2: are</td><td>3: silly</td></tr>\n",
       "<tr><td>0: Matko</td><td style=\"border:solid;\" bgcolor=\"#E1E1E1\"><font color=\"red\">NP_p_0</font>, <font color=\"black\">NP_s</font></td><td style=\"border:solid;\" bgcolor=\"#C3C3C3\"></td><td style=\"border:solid;\" bgcolor=\"white\"></td><td style=\"border:solid;\" bgcolor=\"white\"></td></tr>\n",
       "<tr><td>1: raps</td><td style=\"border:none;\" bgcolor=\"white\"></td><td style=\"border:solid;\" bgcolor=\"#E1E1E1\"><font color=\"red\">NP_p_1</font>, <font color=\"black\">VP_s_4</font></td><td style=\"border:solid;\" bgcolor=\"white\"></td><td style=\"border:solid;\" bgcolor=\"white\"></td></tr>\n",
       "<tr><td>2: are</td><td style=\"border:none;\" bgcolor=\"white\"></td><td style=\"border:none;\" bgcolor=\"white\"></td><td style=\"border:solid;\" bgcolor=\"white\"><font color=\"black\">VP_p_2</font></td><td style=\"border:solid;\" bgcolor=\"white\"></td></tr>\n",
       "<tr><td>3: silly</td><td style=\"border:none;\" bgcolor=\"white\"></td><td style=\"border:none;\" bgcolor=\"white\"></td><td style=\"border:none;\" bgcolor=\"white\"></td><td style=\"border:solid;\" bgcolor=\"white\"><font color=\"black\">ADJ</font></td></tr></table> 13 / 36</div>\n",
       "<div class=\"item\"><table><tr><td></td><td>0: Matko</td><td>1: raps</td><td>2: are</td><td>3: silly</td></tr>\n",
       "<tr><td>0: Matko</td><td style=\"border:solid;\" bgcolor=\"#E1E1E1\"><font color=\"red\">NP_p_0</font>, <font color=\"black\">NP_s</font></td><td style=\"border:solid;\" bgcolor=\"#C3C3C3\"><font color=\"blue\">NP_p</font></td><td style=\"border:solid;\" bgcolor=\"white\"></td><td style=\"border:solid;\" bgcolor=\"white\"></td></tr>\n",
       "<tr><td>1: raps</td><td style=\"border:none;\" bgcolor=\"white\"></td><td style=\"border:solid;\" bgcolor=\"#E1E1E1\"><font color=\"red\">NP_p_1</font>, <font color=\"black\">VP_s_4</font></td><td style=\"border:solid;\" bgcolor=\"white\"></td><td style=\"border:solid;\" bgcolor=\"white\"></td></tr>\n",
       "<tr><td>2: are</td><td style=\"border:none;\" bgcolor=\"white\"></td><td style=\"border:none;\" bgcolor=\"white\"></td><td style=\"border:solid;\" bgcolor=\"white\"><font color=\"black\">VP_p_2</font></td><td style=\"border:solid;\" bgcolor=\"white\"></td></tr>\n",
       "<tr><td>3: silly</td><td style=\"border:none;\" bgcolor=\"white\"></td><td style=\"border:none;\" bgcolor=\"white\"></td><td style=\"border:none;\" bgcolor=\"white\"></td><td style=\"border:solid;\" bgcolor=\"white\"><font color=\"black\">ADJ</font></td></tr></table> 14 / 36</div>\n",
       "<div class=\"item\"><table><tr><td></td><td>0: Matko</td><td>1: raps</td><td>2: are</td><td>3: silly</td></tr>\n",
       "<tr><td>0: Matko</td><td style=\"border:solid;\" bgcolor=\"#E1E1E1\"><font color=\"red\">NP_p_0</font>, <font color=\"black\">NP_s</font></td><td style=\"border:solid;\" bgcolor=\"#C3C3C3\"><font color=\"black\">NP_p</font></td><td style=\"border:solid;\" bgcolor=\"white\"></td><td style=\"border:solid;\" bgcolor=\"white\"></td></tr>\n",
       "<tr><td>1: raps</td><td style=\"border:none;\" bgcolor=\"white\"></td><td style=\"border:solid;\" bgcolor=\"#E1E1E1\"><font color=\"black\">NP_p_1</font>, <font color=\"red\">VP_s_4</font></td><td style=\"border:solid;\" bgcolor=\"white\"></td><td style=\"border:solid;\" bgcolor=\"white\"></td></tr>\n",
       "<tr><td>2: are</td><td style=\"border:none;\" bgcolor=\"white\"></td><td style=\"border:none;\" bgcolor=\"white\"></td><td style=\"border:solid;\" bgcolor=\"white\"><font color=\"black\">VP_p_2</font></td><td style=\"border:solid;\" bgcolor=\"white\"></td></tr>\n",
       "<tr><td>3: silly</td><td style=\"border:none;\" bgcolor=\"white\"></td><td style=\"border:none;\" bgcolor=\"white\"></td><td style=\"border:none;\" bgcolor=\"white\"></td><td style=\"border:solid;\" bgcolor=\"white\"><font color=\"black\">ADJ</font></td></tr></table> 15 / 36</div>\n",
       "<div class=\"item\"><table><tr><td></td><td>0: Matko</td><td>1: raps</td><td>2: are</td><td>3: silly</td></tr>\n",
       "<tr><td>0: Matko</td><td style=\"border:solid;\" bgcolor=\"#E1E1E1\"><font color=\"black\">NP_p_0</font>, <font color=\"red\">NP_s</font></td><td style=\"border:solid;\" bgcolor=\"#C3C3C3\"><font color=\"black\">NP_p</font></td><td style=\"border:solid;\" bgcolor=\"white\"></td><td style=\"border:solid;\" bgcolor=\"white\"></td></tr>\n",
       "<tr><td>1: raps</td><td style=\"border:none;\" bgcolor=\"white\"></td><td style=\"border:solid;\" bgcolor=\"#E1E1E1\"><font color=\"red\">NP_p_1</font>, <font color=\"black\">VP_s_4</font></td><td style=\"border:solid;\" bgcolor=\"white\"></td><td style=\"border:solid;\" bgcolor=\"white\"></td></tr>\n",
       "<tr><td>2: are</td><td style=\"border:none;\" bgcolor=\"white\"></td><td style=\"border:none;\" bgcolor=\"white\"></td><td style=\"border:solid;\" bgcolor=\"white\"><font color=\"black\">VP_p_2</font></td><td style=\"border:solid;\" bgcolor=\"white\"></td></tr>\n",
       "<tr><td>3: silly</td><td style=\"border:none;\" bgcolor=\"white\"></td><td style=\"border:none;\" bgcolor=\"white\"></td><td style=\"border:none;\" bgcolor=\"white\"></td><td style=\"border:solid;\" bgcolor=\"white\"><font color=\"black\">ADJ</font></td></tr></table> 16 / 36</div>\n",
       "<div class=\"item\"><table><tr><td></td><td>0: Matko</td><td>1: raps</td><td>2: are</td><td>3: silly</td></tr>\n",
       "<tr><td>0: Matko</td><td style=\"border:solid;\" bgcolor=\"#E1E1E1\"><font color=\"black\">NP_p_0</font>, <font color=\"red\">NP_s</font></td><td style=\"border:solid;\" bgcolor=\"#C3C3C3\"><font color=\"black\">NP_p</font></td><td style=\"border:solid;\" bgcolor=\"white\"></td><td style=\"border:solid;\" bgcolor=\"white\"></td></tr>\n",
       "<tr><td>1: raps</td><td style=\"border:none;\" bgcolor=\"white\"></td><td style=\"border:solid;\" bgcolor=\"#E1E1E1\"><font color=\"black\">NP_p_1</font>, <font color=\"red\">VP_s_4</font></td><td style=\"border:solid;\" bgcolor=\"white\"></td><td style=\"border:solid;\" bgcolor=\"white\"></td></tr>\n",
       "<tr><td>2: are</td><td style=\"border:none;\" bgcolor=\"white\"></td><td style=\"border:none;\" bgcolor=\"white\"></td><td style=\"border:solid;\" bgcolor=\"white\"><font color=\"black\">VP_p_2</font></td><td style=\"border:solid;\" bgcolor=\"white\"></td></tr>\n",
       "<tr><td>3: silly</td><td style=\"border:none;\" bgcolor=\"white\"></td><td style=\"border:none;\" bgcolor=\"white\"></td><td style=\"border:none;\" bgcolor=\"white\"></td><td style=\"border:solid;\" bgcolor=\"white\"><font color=\"black\">ADJ</font></td></tr></table> 17 / 36</div>\n",
       "<div class=\"item\"><table><tr><td></td><td>0: Matko</td><td>1: raps</td><td>2: are</td><td>3: silly</td></tr>\n",
       "<tr><td>0: Matko</td><td style=\"border:solid;\" bgcolor=\"white\"><font color=\"black\">NP_p_0</font>, <font color=\"black\">NP_s</font></td><td style=\"border:solid;\" bgcolor=\"white\"><font color=\"black\">NP_p</font></td><td style=\"border:solid;\" bgcolor=\"white\"></td><td style=\"border:solid;\" bgcolor=\"white\"></td></tr>\n",
       "<tr><td>1: raps</td><td style=\"border:none;\" bgcolor=\"white\"></td><td style=\"border:solid;\" bgcolor=\"#E1E1E1\"><font color=\"black\">NP_p_1</font>, <font color=\"black\">VP_s_4</font></td><td style=\"border:solid;\" bgcolor=\"#C3C3C3\"></td><td style=\"border:solid;\" bgcolor=\"white\"></td></tr>\n",
       "<tr><td>2: are</td><td style=\"border:none;\" bgcolor=\"white\"></td><td style=\"border:none;\" bgcolor=\"white\"></td><td style=\"border:solid;\" bgcolor=\"#E1E1E1\"><font color=\"black\">VP_p_2</font></td><td style=\"border:solid;\" bgcolor=\"white\"></td></tr>\n",
       "<tr><td>3: silly</td><td style=\"border:none;\" bgcolor=\"white\"></td><td style=\"border:none;\" bgcolor=\"white\"></td><td style=\"border:none;\" bgcolor=\"white\"></td><td style=\"border:solid;\" bgcolor=\"white\"><font color=\"black\">ADJ</font></td></tr></table> 18 / 36</div>\n",
       "<div class=\"item\"><table><tr><td></td><td>0: Matko</td><td>1: raps</td><td>2: are</td><td>3: silly</td></tr>\n",
       "<tr><td>0: Matko</td><td style=\"border:solid;\" bgcolor=\"white\"><font color=\"black\">NP_p_0</font>, <font color=\"black\">NP_s</font></td><td style=\"border:solid;\" bgcolor=\"white\"><font color=\"black\">NP_p</font></td><td style=\"border:solid;\" bgcolor=\"white\"></td><td style=\"border:solid;\" bgcolor=\"white\"></td></tr>\n",
       "<tr><td>1: raps</td><td style=\"border:none;\" bgcolor=\"white\"></td><td style=\"border:solid;\" bgcolor=\"#E1E1E1\"><font color=\"red\">NP_p_1</font>, <font color=\"black\">VP_s_4</font></td><td style=\"border:solid;\" bgcolor=\"#C3C3C3\"></td><td style=\"border:solid;\" bgcolor=\"white\"></td></tr>\n",
       "<tr><td>2: are</td><td style=\"border:none;\" bgcolor=\"white\"></td><td style=\"border:none;\" bgcolor=\"white\"></td><td style=\"border:solid;\" bgcolor=\"#E1E1E1\"><font color=\"red\">VP_p_2</font></td><td style=\"border:solid;\" bgcolor=\"white\"></td></tr>\n",
       "<tr><td>3: silly</td><td style=\"border:none;\" bgcolor=\"white\"></td><td style=\"border:none;\" bgcolor=\"white\"></td><td style=\"border:none;\" bgcolor=\"white\"></td><td style=\"border:solid;\" bgcolor=\"white\"><font color=\"black\">ADJ</font></td></tr></table> 19 / 36</div>\n",
       "<div class=\"item\"><table><tr><td></td><td>0: Matko</td><td>1: raps</td><td>2: are</td><td>3: silly</td></tr>\n",
       "<tr><td>0: Matko</td><td style=\"border:solid;\" bgcolor=\"white\"><font color=\"black\">NP_p_0</font>, <font color=\"black\">NP_s</font></td><td style=\"border:solid;\" bgcolor=\"white\"><font color=\"black\">NP_p</font></td><td style=\"border:solid;\" bgcolor=\"white\"></td><td style=\"border:solid;\" bgcolor=\"white\"></td></tr>\n",
       "<tr><td>1: raps</td><td style=\"border:none;\" bgcolor=\"white\"></td><td style=\"border:solid;\" bgcolor=\"#E1E1E1\"><font color=\"black\">NP_p_1</font>, <font color=\"red\">VP_s_4</font></td><td style=\"border:solid;\" bgcolor=\"#C3C3C3\"></td><td style=\"border:solid;\" bgcolor=\"white\"></td></tr>\n",
       "<tr><td>2: are</td><td style=\"border:none;\" bgcolor=\"white\"></td><td style=\"border:none;\" bgcolor=\"white\"></td><td style=\"border:solid;\" bgcolor=\"#E1E1E1\"><font color=\"red\">VP_p_2</font></td><td style=\"border:solid;\" bgcolor=\"white\"></td></tr>\n",
       "<tr><td>3: silly</td><td style=\"border:none;\" bgcolor=\"white\"></td><td style=\"border:none;\" bgcolor=\"white\"></td><td style=\"border:none;\" bgcolor=\"white\"></td><td style=\"border:solid;\" bgcolor=\"white\"><font color=\"black\">ADJ</font></td></tr></table> 20 / 36</div>\n",
       "<div class=\"item\"><table><tr><td></td><td>0: Matko</td><td>1: raps</td><td>2: are</td><td>3: silly</td></tr>\n",
       "<tr><td>0: Matko</td><td style=\"border:solid;\" bgcolor=\"white\"><font color=\"black\">NP_p_0</font>, <font color=\"black\">NP_s</font></td><td style=\"border:solid;\" bgcolor=\"white\"><font color=\"black\">NP_p</font></td><td style=\"border:solid;\" bgcolor=\"white\"></td><td style=\"border:solid;\" bgcolor=\"white\"></td></tr>\n",
       "<tr><td>1: raps</td><td style=\"border:none;\" bgcolor=\"white\"></td><td style=\"border:solid;\" bgcolor=\"white\"><font color=\"black\">NP_p_1</font>, <font color=\"black\">VP_s_4</font></td><td style=\"border:solid;\" bgcolor=\"white\"></td><td style=\"border:solid;\" bgcolor=\"white\"></td></tr>\n",
       "<tr><td>2: are</td><td style=\"border:none;\" bgcolor=\"white\"></td><td style=\"border:none;\" bgcolor=\"white\"></td><td style=\"border:solid;\" bgcolor=\"#E1E1E1\"><font color=\"black\">VP_p_2</font></td><td style=\"border:solid;\" bgcolor=\"#C3C3C3\"></td></tr>\n",
       "<tr><td>3: silly</td><td style=\"border:none;\" bgcolor=\"white\"></td><td style=\"border:none;\" bgcolor=\"white\"></td><td style=\"border:none;\" bgcolor=\"white\"></td><td style=\"border:solid;\" bgcolor=\"#E1E1E1\"><font color=\"black\">ADJ</font></td></tr></table> 21 / 36</div>\n",
       "<div class=\"item\"><table><tr><td></td><td>0: Matko</td><td>1: raps</td><td>2: are</td><td>3: silly</td></tr>\n",
       "<tr><td>0: Matko</td><td style=\"border:solid;\" bgcolor=\"white\"><font color=\"black\">NP_p_0</font>, <font color=\"black\">NP_s</font></td><td style=\"border:solid;\" bgcolor=\"white\"><font color=\"black\">NP_p</font></td><td style=\"border:solid;\" bgcolor=\"white\"></td><td style=\"border:solid;\" bgcolor=\"white\"></td></tr>\n",
       "<tr><td>1: raps</td><td style=\"border:none;\" bgcolor=\"white\"></td><td style=\"border:solid;\" bgcolor=\"white\"><font color=\"black\">NP_p_1</font>, <font color=\"black\">VP_s_4</font></td><td style=\"border:solid;\" bgcolor=\"white\"></td><td style=\"border:solid;\" bgcolor=\"white\"></td></tr>\n",
       "<tr><td>2: are</td><td style=\"border:none;\" bgcolor=\"white\"></td><td style=\"border:none;\" bgcolor=\"white\"></td><td style=\"border:solid;\" bgcolor=\"#E1E1E1\"><font color=\"red\">VP_p_2</font></td><td style=\"border:solid;\" bgcolor=\"#C3C3C3\"></td></tr>\n",
       "<tr><td>3: silly</td><td style=\"border:none;\" bgcolor=\"white\"></td><td style=\"border:none;\" bgcolor=\"white\"></td><td style=\"border:none;\" bgcolor=\"white\"></td><td style=\"border:solid;\" bgcolor=\"#E1E1E1\"><font color=\"red\">ADJ</font></td></tr></table> 22 / 36</div>\n",
       "<div class=\"item\"><table><tr><td></td><td>0: Matko</td><td>1: raps</td><td>2: are</td><td>3: silly</td></tr>\n",
       "<tr><td>0: Matko</td><td style=\"border:solid;\" bgcolor=\"white\"><font color=\"black\">NP_p_0</font>, <font color=\"black\">NP_s</font></td><td style=\"border:solid;\" bgcolor=\"white\"><font color=\"black\">NP_p</font></td><td style=\"border:solid;\" bgcolor=\"white\"></td><td style=\"border:solid;\" bgcolor=\"white\"></td></tr>\n",
       "<tr><td>1: raps</td><td style=\"border:none;\" bgcolor=\"white\"></td><td style=\"border:solid;\" bgcolor=\"white\"><font color=\"black\">NP_p_1</font>, <font color=\"black\">VP_s_4</font></td><td style=\"border:solid;\" bgcolor=\"white\"></td><td style=\"border:solid;\" bgcolor=\"white\"></td></tr>\n",
       "<tr><td>2: are</td><td style=\"border:none;\" bgcolor=\"white\"></td><td style=\"border:none;\" bgcolor=\"white\"></td><td style=\"border:solid;\" bgcolor=\"#E1E1E1\"><font color=\"red\">VP_p_2</font></td><td style=\"border:solid;\" bgcolor=\"#C3C3C3\"><font color=\"blue\">VP_p</font></td></tr>\n",
       "<tr><td>3: silly</td><td style=\"border:none;\" bgcolor=\"white\"></td><td style=\"border:none;\" bgcolor=\"white\"></td><td style=\"border:none;\" bgcolor=\"white\"></td><td style=\"border:solid;\" bgcolor=\"#E1E1E1\"><font color=\"red\">ADJ</font></td></tr></table> 23 / 36</div>\n",
       "<div class=\"item\"><table><tr><td></td><td>0: Matko</td><td>1: raps</td><td>2: are</td><td>3: silly</td></tr>\n",
       "<tr><td>0: Matko</td><td style=\"border:solid;\" bgcolor=\"#E1E1E1\"><font color=\"black\">NP_p_0</font>, <font color=\"black\">NP_s</font></td><td style=\"border:solid;\" bgcolor=\"white\"><font color=\"black\">NP_p</font></td><td style=\"border:solid;\" bgcolor=\"#C3C3C3\"></td><td style=\"border:solid;\" bgcolor=\"white\"></td></tr>\n",
       "<tr><td>1: raps</td><td style=\"border:none;\" bgcolor=\"white\"></td><td style=\"border:solid;\" bgcolor=\"white\"><font color=\"black\">NP_p_1</font>, <font color=\"black\">VP_s_4</font></td><td style=\"border:solid;\" bgcolor=\"#E1E1E1\"></td><td style=\"border:solid;\" bgcolor=\"white\"></td></tr>\n",
       "<tr><td>2: are</td><td style=\"border:none;\" bgcolor=\"white\"></td><td style=\"border:none;\" bgcolor=\"white\"></td><td style=\"border:solid;\" bgcolor=\"white\"><font color=\"black\">VP_p_2</font></td><td style=\"border:solid;\" bgcolor=\"white\"><font color=\"black\">VP_p</font></td></tr>\n",
       "<tr><td>3: silly</td><td style=\"border:none;\" bgcolor=\"white\"></td><td style=\"border:none;\" bgcolor=\"white\"></td><td style=\"border:none;\" bgcolor=\"white\"></td><td style=\"border:solid;\" bgcolor=\"white\"><font color=\"black\">ADJ</font></td></tr></table> 24 / 36</div>\n",
       "<div class=\"item\"><table><tr><td></td><td>0: Matko</td><td>1: raps</td><td>2: are</td><td>3: silly</td></tr>\n",
       "<tr><td>0: Matko</td><td style=\"border:solid;\" bgcolor=\"white\"><font color=\"black\">NP_p_0</font>, <font color=\"black\">NP_s</font></td><td style=\"border:solid;\" bgcolor=\"#E1E1E1\"><font color=\"black\">NP_p</font></td><td style=\"border:solid;\" bgcolor=\"#C3C3C3\"></td><td style=\"border:solid;\" bgcolor=\"white\"></td></tr>\n",
       "<tr><td>1: raps</td><td style=\"border:none;\" bgcolor=\"white\"></td><td style=\"border:solid;\" bgcolor=\"white\"><font color=\"black\">NP_p_1</font>, <font color=\"black\">VP_s_4</font></td><td style=\"border:solid;\" bgcolor=\"white\"></td><td style=\"border:solid;\" bgcolor=\"white\"></td></tr>\n",
       "<tr><td>2: are</td><td style=\"border:none;\" bgcolor=\"white\"></td><td style=\"border:none;\" bgcolor=\"white\"></td><td style=\"border:solid;\" bgcolor=\"#E1E1E1\"><font color=\"black\">VP_p_2</font></td><td style=\"border:solid;\" bgcolor=\"white\"><font color=\"black\">VP_p</font></td></tr>\n",
       "<tr><td>3: silly</td><td style=\"border:none;\" bgcolor=\"white\"></td><td style=\"border:none;\" bgcolor=\"white\"></td><td style=\"border:none;\" bgcolor=\"white\"></td><td style=\"border:solid;\" bgcolor=\"white\"><font color=\"black\">ADJ</font></td></tr></table> 25 / 36</div>\n",
       "<div class=\"item\"><table><tr><td></td><td>0: Matko</td><td>1: raps</td><td>2: are</td><td>3: silly</td></tr>\n",
       "<tr><td>0: Matko</td><td style=\"border:solid;\" bgcolor=\"white\"><font color=\"black\">NP_p_0</font>, <font color=\"black\">NP_s</font></td><td style=\"border:solid;\" bgcolor=\"#E1E1E1\"><font color=\"red\">NP_p</font></td><td style=\"border:solid;\" bgcolor=\"#C3C3C3\"></td><td style=\"border:solid;\" bgcolor=\"white\"></td></tr>\n",
       "<tr><td>1: raps</td><td style=\"border:none;\" bgcolor=\"white\"></td><td style=\"border:solid;\" bgcolor=\"white\"><font color=\"black\">NP_p_1</font>, <font color=\"black\">VP_s_4</font></td><td style=\"border:solid;\" bgcolor=\"white\"></td><td style=\"border:solid;\" bgcolor=\"white\"></td></tr>\n",
       "<tr><td>2: are</td><td style=\"border:none;\" bgcolor=\"white\"></td><td style=\"border:none;\" bgcolor=\"white\"></td><td style=\"border:solid;\" bgcolor=\"#E1E1E1\"><font color=\"red\">VP_p_2</font></td><td style=\"border:solid;\" bgcolor=\"white\"><font color=\"black\">VP_p</font></td></tr>\n",
       "<tr><td>3: silly</td><td style=\"border:none;\" bgcolor=\"white\"></td><td style=\"border:none;\" bgcolor=\"white\"></td><td style=\"border:none;\" bgcolor=\"white\"></td><td style=\"border:solid;\" bgcolor=\"white\"><font color=\"black\">ADJ</font></td></tr></table> 26 / 36</div>\n",
       "<div class=\"item\"><table><tr><td></td><td>0: Matko</td><td>1: raps</td><td>2: are</td><td>3: silly</td></tr>\n",
       "<tr><td>0: Matko</td><td style=\"border:solid;\" bgcolor=\"white\"><font color=\"black\">NP_p_0</font>, <font color=\"black\">NP_s</font></td><td style=\"border:solid;\" bgcolor=\"white\"><font color=\"black\">NP_p</font></td><td style=\"border:solid;\" bgcolor=\"white\"></td><td style=\"border:solid;\" bgcolor=\"white\"></td></tr>\n",
       "<tr><td>1: raps</td><td style=\"border:none;\" bgcolor=\"white\"></td><td style=\"border:solid;\" bgcolor=\"#E1E1E1\"><font color=\"black\">NP_p_1</font>, <font color=\"black\">VP_s_4</font></td><td style=\"border:solid;\" bgcolor=\"white\"></td><td style=\"border:solid;\" bgcolor=\"#C3C3C3\"></td></tr>\n",
       "<tr><td>2: are</td><td style=\"border:none;\" bgcolor=\"white\"></td><td style=\"border:none;\" bgcolor=\"white\"></td><td style=\"border:solid;\" bgcolor=\"white\"><font color=\"black\">VP_p_2</font></td><td style=\"border:solid;\" bgcolor=\"#E1E1E1\"><font color=\"black\">VP_p</font></td></tr>\n",
       "<tr><td>3: silly</td><td style=\"border:none;\" bgcolor=\"white\"></td><td style=\"border:none;\" bgcolor=\"white\"></td><td style=\"border:none;\" bgcolor=\"white\"></td><td style=\"border:solid;\" bgcolor=\"white\"><font color=\"black\">ADJ</font></td></tr></table> 27 / 36</div>\n",
       "<div class=\"item\"><table><tr><td></td><td>0: Matko</td><td>1: raps</td><td>2: are</td><td>3: silly</td></tr>\n",
       "<tr><td>0: Matko</td><td style=\"border:solid;\" bgcolor=\"white\"><font color=\"black\">NP_p_0</font>, <font color=\"black\">NP_s</font></td><td style=\"border:solid;\" bgcolor=\"white\"><font color=\"black\">NP_p</font></td><td style=\"border:solid;\" bgcolor=\"white\"></td><td style=\"border:solid;\" bgcolor=\"white\"></td></tr>\n",
       "<tr><td>1: raps</td><td style=\"border:none;\" bgcolor=\"white\"></td><td style=\"border:solid;\" bgcolor=\"#E1E1E1\"><font color=\"red\">NP_p_1</font>, <font color=\"black\">VP_s_4</font></td><td style=\"border:solid;\" bgcolor=\"white\"></td><td style=\"border:solid;\" bgcolor=\"#C3C3C3\"></td></tr>\n",
       "<tr><td>2: are</td><td style=\"border:none;\" bgcolor=\"white\"></td><td style=\"border:none;\" bgcolor=\"white\"></td><td style=\"border:solid;\" bgcolor=\"white\"><font color=\"black\">VP_p_2</font></td><td style=\"border:solid;\" bgcolor=\"#E1E1E1\"><font color=\"red\">VP_p</font></td></tr>\n",
       "<tr><td>3: silly</td><td style=\"border:none;\" bgcolor=\"white\"></td><td style=\"border:none;\" bgcolor=\"white\"></td><td style=\"border:none;\" bgcolor=\"white\"></td><td style=\"border:solid;\" bgcolor=\"white\"><font color=\"black\">ADJ</font></td></tr></table> 28 / 36</div>\n",
       "<div class=\"item\"><table><tr><td></td><td>0: Matko</td><td>1: raps</td><td>2: are</td><td>3: silly</td></tr>\n",
       "<tr><td>0: Matko</td><td style=\"border:solid;\" bgcolor=\"white\"><font color=\"black\">NP_p_0</font>, <font color=\"black\">NP_s</font></td><td style=\"border:solid;\" bgcolor=\"white\"><font color=\"black\">NP_p</font></td><td style=\"border:solid;\" bgcolor=\"white\"></td><td style=\"border:solid;\" bgcolor=\"white\"></td></tr>\n",
       "<tr><td>1: raps</td><td style=\"border:none;\" bgcolor=\"white\"></td><td style=\"border:solid;\" bgcolor=\"#E1E1E1\"><font color=\"black\">NP_p_1</font>, <font color=\"red\">VP_s_4</font></td><td style=\"border:solid;\" bgcolor=\"white\"></td><td style=\"border:solid;\" bgcolor=\"#C3C3C3\"></td></tr>\n",
       "<tr><td>2: are</td><td style=\"border:none;\" bgcolor=\"white\"></td><td style=\"border:none;\" bgcolor=\"white\"></td><td style=\"border:solid;\" bgcolor=\"white\"><font color=\"black\">VP_p_2</font></td><td style=\"border:solid;\" bgcolor=\"#E1E1E1\"><font color=\"red\">VP_p</font></td></tr>\n",
       "<tr><td>3: silly</td><td style=\"border:none;\" bgcolor=\"white\"></td><td style=\"border:none;\" bgcolor=\"white\"></td><td style=\"border:none;\" bgcolor=\"white\"></td><td style=\"border:solid;\" bgcolor=\"white\"><font color=\"black\">ADJ</font></td></tr></table> 29 / 36</div>\n",
       "<div class=\"item\"><table><tr><td></td><td>0: Matko</td><td>1: raps</td><td>2: are</td><td>3: silly</td></tr>\n",
       "<tr><td>0: Matko</td><td style=\"border:solid;\" bgcolor=\"white\"><font color=\"black\">NP_p_0</font>, <font color=\"black\">NP_s</font></td><td style=\"border:solid;\" bgcolor=\"white\"><font color=\"black\">NP_p</font></td><td style=\"border:solid;\" bgcolor=\"white\"></td><td style=\"border:solid;\" bgcolor=\"white\"></td></tr>\n",
       "<tr><td>1: raps</td><td style=\"border:none;\" bgcolor=\"white\"></td><td style=\"border:solid;\" bgcolor=\"white\"><font color=\"black\">NP_p_1</font>, <font color=\"black\">VP_s_4</font></td><td style=\"border:solid;\" bgcolor=\"#E1E1E1\"></td><td style=\"border:solid;\" bgcolor=\"#C3C3C3\"></td></tr>\n",
       "<tr><td>2: are</td><td style=\"border:none;\" bgcolor=\"white\"></td><td style=\"border:none;\" bgcolor=\"white\"></td><td style=\"border:solid;\" bgcolor=\"white\"><font color=\"black\">VP_p_2</font></td><td style=\"border:solid;\" bgcolor=\"white\"><font color=\"black\">VP_p</font></td></tr>\n",
       "<tr><td>3: silly</td><td style=\"border:none;\" bgcolor=\"white\"></td><td style=\"border:none;\" bgcolor=\"white\"></td><td style=\"border:none;\" bgcolor=\"white\"></td><td style=\"border:solid;\" bgcolor=\"#E1E1E1\"><font color=\"black\">ADJ</font></td></tr></table> 30 / 36</div>\n",
       "<div class=\"item\"><table><tr><td></td><td>0: Matko</td><td>1: raps</td><td>2: are</td><td>3: silly</td></tr>\n",
       "<tr><td>0: Matko</td><td style=\"border:solid;\" bgcolor=\"#E1E1E1\"><font color=\"black\">NP_p_0</font>, <font color=\"black\">NP_s</font></td><td style=\"border:solid;\" bgcolor=\"white\"><font color=\"black\">NP_p</font></td><td style=\"border:solid;\" bgcolor=\"white\"></td><td style=\"border:solid;\" bgcolor=\"#C3C3C3\"></td></tr>\n",
       "<tr><td>1: raps</td><td style=\"border:none;\" bgcolor=\"white\"></td><td style=\"border:solid;\" bgcolor=\"white\"><font color=\"black\">NP_p_1</font>, <font color=\"black\">VP_s_4</font></td><td style=\"border:solid;\" bgcolor=\"white\"></td><td style=\"border:solid;\" bgcolor=\"#E1E1E1\"></td></tr>\n",
       "<tr><td>2: are</td><td style=\"border:none;\" bgcolor=\"white\"></td><td style=\"border:none;\" bgcolor=\"white\"></td><td style=\"border:solid;\" bgcolor=\"white\"><font color=\"black\">VP_p_2</font></td><td style=\"border:solid;\" bgcolor=\"white\"><font color=\"black\">VP_p</font></td></tr>\n",
       "<tr><td>3: silly</td><td style=\"border:none;\" bgcolor=\"white\"></td><td style=\"border:none;\" bgcolor=\"white\"></td><td style=\"border:none;\" bgcolor=\"white\"></td><td style=\"border:solid;\" bgcolor=\"white\"><font color=\"black\">ADJ</font></td></tr></table> 31 / 36</div>\n",
       "<div class=\"item\"><table><tr><td></td><td>0: Matko</td><td>1: raps</td><td>2: are</td><td>3: silly</td></tr>\n",
       "<tr><td>0: Matko</td><td style=\"border:solid;\" bgcolor=\"white\"><font color=\"black\">NP_p_0</font>, <font color=\"black\">NP_s</font></td><td style=\"border:solid;\" bgcolor=\"#E1E1E1\"><font color=\"black\">NP_p</font></td><td style=\"border:solid;\" bgcolor=\"white\"></td><td style=\"border:solid;\" bgcolor=\"#C3C3C3\"></td></tr>\n",
       "<tr><td>1: raps</td><td style=\"border:none;\" bgcolor=\"white\"></td><td style=\"border:solid;\" bgcolor=\"white\"><font color=\"black\">NP_p_1</font>, <font color=\"black\">VP_s_4</font></td><td style=\"border:solid;\" bgcolor=\"white\"></td><td style=\"border:solid;\" bgcolor=\"white\"></td></tr>\n",
       "<tr><td>2: are</td><td style=\"border:none;\" bgcolor=\"white\"></td><td style=\"border:none;\" bgcolor=\"white\"></td><td style=\"border:solid;\" bgcolor=\"white\"><font color=\"black\">VP_p_2</font></td><td style=\"border:solid;\" bgcolor=\"#E1E1E1\"><font color=\"black\">VP_p</font></td></tr>\n",
       "<tr><td>3: silly</td><td style=\"border:none;\" bgcolor=\"white\"></td><td style=\"border:none;\" bgcolor=\"white\"></td><td style=\"border:none;\" bgcolor=\"white\"></td><td style=\"border:solid;\" bgcolor=\"white\"><font color=\"black\">ADJ</font></td></tr></table> 32 / 36</div>\n",
       "<div class=\"item\"><table><tr><td></td><td>0: Matko</td><td>1: raps</td><td>2: are</td><td>3: silly</td></tr>\n",
       "<tr><td>0: Matko</td><td style=\"border:solid;\" bgcolor=\"white\"><font color=\"black\">NP_p_0</font>, <font color=\"black\">NP_s</font></td><td style=\"border:solid;\" bgcolor=\"#E1E1E1\"><font color=\"red\">NP_p</font></td><td style=\"border:solid;\" bgcolor=\"white\"></td><td style=\"border:solid;\" bgcolor=\"#C3C3C3\"></td></tr>\n",
       "<tr><td>1: raps</td><td style=\"border:none;\" bgcolor=\"white\"></td><td style=\"border:solid;\" bgcolor=\"white\"><font color=\"black\">NP_p_1</font>, <font color=\"black\">VP_s_4</font></td><td style=\"border:solid;\" bgcolor=\"white\"></td><td style=\"border:solid;\" bgcolor=\"white\"></td></tr>\n",
       "<tr><td>2: are</td><td style=\"border:none;\" bgcolor=\"white\"></td><td style=\"border:none;\" bgcolor=\"white\"></td><td style=\"border:solid;\" bgcolor=\"white\"><font color=\"black\">VP_p_2</font></td><td style=\"border:solid;\" bgcolor=\"#E1E1E1\"><font color=\"red\">VP_p</font></td></tr>\n",
       "<tr><td>3: silly</td><td style=\"border:none;\" bgcolor=\"white\"></td><td style=\"border:none;\" bgcolor=\"white\"></td><td style=\"border:none;\" bgcolor=\"white\"></td><td style=\"border:solid;\" bgcolor=\"white\"><font color=\"black\">ADJ</font></td></tr></table> 33 / 36</div>\n",
       "<div class=\"item\"><table><tr><td></td><td>0: Matko</td><td>1: raps</td><td>2: are</td><td>3: silly</td></tr>\n",
       "<tr><td>0: Matko</td><td style=\"border:solid;\" bgcolor=\"white\"><font color=\"black\">NP_p_0</font>, <font color=\"black\">NP_s</font></td><td style=\"border:solid;\" bgcolor=\"#E1E1E1\"><font color=\"red\">NP_p</font></td><td style=\"border:solid;\" bgcolor=\"white\"></td><td style=\"border:solid;\" bgcolor=\"#C3C3C3\"><font color=\"blue\">S</font></td></tr>\n",
       "<tr><td>1: raps</td><td style=\"border:none;\" bgcolor=\"white\"></td><td style=\"border:solid;\" bgcolor=\"white\"><font color=\"black\">NP_p_1</font>, <font color=\"black\">VP_s_4</font></td><td style=\"border:solid;\" bgcolor=\"white\"></td><td style=\"border:solid;\" bgcolor=\"white\"></td></tr>\n",
       "<tr><td>2: are</td><td style=\"border:none;\" bgcolor=\"white\"></td><td style=\"border:none;\" bgcolor=\"white\"></td><td style=\"border:solid;\" bgcolor=\"white\"><font color=\"black\">VP_p_2</font></td><td style=\"border:solid;\" bgcolor=\"#E1E1E1\"><font color=\"red\">VP_p</font></td></tr>\n",
       "<tr><td>3: silly</td><td style=\"border:none;\" bgcolor=\"white\"></td><td style=\"border:none;\" bgcolor=\"white\"></td><td style=\"border:none;\" bgcolor=\"white\"></td><td style=\"border:solid;\" bgcolor=\"white\"><font color=\"black\">ADJ</font></td></tr></table> 34 / 36</div>\n",
       "<div class=\"item\"><table><tr><td></td><td>0: Matko</td><td>1: raps</td><td>2: are</td><td>3: silly</td></tr>\n",
       "<tr><td>0: Matko</td><td style=\"border:solid;\" bgcolor=\"white\"><font color=\"black\">NP_p_0</font>, <font color=\"black\">NP_s</font></td><td style=\"border:solid;\" bgcolor=\"white\"><font color=\"black\">NP_p</font></td><td style=\"border:solid;\" bgcolor=\"#E1E1E1\"></td><td style=\"border:solid;\" bgcolor=\"#C3C3C3\"><font color=\"black\">S</font></td></tr>\n",
       "<tr><td>1: raps</td><td style=\"border:none;\" bgcolor=\"white\"></td><td style=\"border:solid;\" bgcolor=\"white\"><font color=\"black\">NP_p_1</font>, <font color=\"black\">VP_s_4</font></td><td style=\"border:solid;\" bgcolor=\"white\"></td><td style=\"border:solid;\" bgcolor=\"white\"></td></tr>\n",
       "<tr><td>2: are</td><td style=\"border:none;\" bgcolor=\"white\"></td><td style=\"border:none;\" bgcolor=\"white\"></td><td style=\"border:solid;\" bgcolor=\"white\"><font color=\"black\">VP_p_2</font></td><td style=\"border:solid;\" bgcolor=\"white\"><font color=\"black\">VP_p</font></td></tr>\n",
       "<tr><td>3: silly</td><td style=\"border:none;\" bgcolor=\"white\"></td><td style=\"border:none;\" bgcolor=\"white\"></td><td style=\"border:none;\" bgcolor=\"white\"></td><td style=\"border:solid;\" bgcolor=\"#E1E1E1\"><font color=\"black\">ADJ</font></td></tr></table> 35 / 36</div>\n",
       "<div class=\"item\"><table><tr><td></td><td>0: Matko</td><td>1: raps</td><td>2: are</td><td>3: silly</td></tr>\n",
       "<tr><td>0: Matko</td><td style=\"border:solid;\" bgcolor=\"white\"><font color=\"black\">NP_p_0</font>, <font color=\"black\">NP_s</font></td><td style=\"border:solid;\" bgcolor=\"white\"><font color=\"black\">NP_p</font></td><td style=\"border:solid;\" bgcolor=\"white\"></td><td style=\"border:solid;\" bgcolor=\"white\"><font color=\"black\">S</font></td></tr>\n",
       "<tr><td>1: raps</td><td style=\"border:none;\" bgcolor=\"white\"></td><td style=\"border:solid;\" bgcolor=\"white\"><font color=\"black\">NP_p_1</font>, <font color=\"black\">VP_s_4</font></td><td style=\"border:solid;\" bgcolor=\"white\"></td><td style=\"border:solid;\" bgcolor=\"white\"></td></tr>\n",
       "<tr><td>2: are</td><td style=\"border:none;\" bgcolor=\"white\"></td><td style=\"border:none;\" bgcolor=\"white\"></td><td style=\"border:solid;\" bgcolor=\"white\"><font color=\"black\">VP_p_2</font></td><td style=\"border:solid;\" bgcolor=\"white\"><font color=\"black\">VP_p</font></td></tr>\n",
       "<tr><td>3: silly</td><td style=\"border:none;\" bgcolor=\"white\"></td><td style=\"border:none;\" bgcolor=\"white\"></td><td style=\"border:none;\" bgcolor=\"white\"></td><td style=\"border:solid;\" bgcolor=\"white\"><font color=\"black\">ADJ</font></td></tr></table> 36 / 36</div>\n",
       "          </div>\n",
       "        </div>\n",
       "        "
      ],
      "text/plain": [
       "<statnlpbook.util.Carousel at 0x7f72caf7e278>"
      ]
     },
     "execution_count": 72,
     "metadata": {},
     "output_type": "execute_result"
    }
   ],
   "source": [
    "util.Carousel(trace)"
   ]
  },
  {
   "cell_type": "markdown",
   "metadata": {
    "collapsed": false,
    "slideshow": {
     "slide_type": "slide"
    }
   },
   "source": [
    "## Ambiguity \n",
    "For real world grammars many phrases have several legal parse trees. Which one is the correct one depends on the intent of the speaker. That said, in many cases it is quite obvious that one parse tree should be more likely, or have a higher _probability_. This suggest a probabilistic treatment of grammars and parsing. Before we introduce probabilistic CFGs, let us inspect a typical case of syntactic natural language ambiguity.\n",
    "\n",
    "Consider the following grammar and sentence."
   ]
  },
  {
   "cell_type": "code",
   "execution_count": 74,
   "metadata": {
    "collapsed": true,
    "slideshow": {
     "slide_type": "subslide"
    }
   },
   "outputs": [],
   "source": [
    "amb_cfg = CFG.from_rules([\n",
    "        ('S',    ['Subj','VP']),\n",
    "        ('Subj', ['He']),\n",
    "        ('Verb', ['shot']),\n",
    "        ('VP',   ['Verb', 'Obj']),        ('VP', ['Verb', 'Obj', 'PP']),\n",
    "        ('PP',   ['in','his','pyjamas']),\n",
    "        ('Obj',  ['the','elephant']),     ('Obj', ['the','elephant','PP'])\n",
    "    ])\n",
    "amb_cnf_cfg = to_cnf(amb_cfg)\n",
    "amb_sentence = [\"He\", \"shot\", \"the\", \"elephant\", \"in\", \"his\", \"pyjamas\"]"
   ]
  },
  {
   "cell_type": "code",
   "execution_count": 77,
   "metadata": {
    "collapsed": false,
    "slideshow": {
     "slide_type": "subslide"
    }
   },
   "outputs": [
    {
     "data": {
      "image/svg+xml": [
       "<?xml version=\"1.0\" encoding=\"UTF-8\" standalone=\"no\"?>\n",
       "<!DOCTYPE svg PUBLIC \"-//W3C//DTD SVG 1.1//EN\"\n",
       " \"http://www.w3.org/Graphics/SVG/1.1/DTD/svg11.dtd\">\n",
       "<!-- Generated by graphviz version 2.38.0 (20140413.2041)\n",
       " -->\n",
       "<!-- Title: %3 Pages: 1 -->\n",
       "<svg width=\"455pt\" height=\"332pt\"\n",
       " viewBox=\"0.00 0.00 455.30 332.00\" xmlns=\"http://www.w3.org/2000/svg\" xmlns:xlink=\"http://www.w3.org/1999/xlink\">\n",
       "<g id=\"graph0\" class=\"graph\" transform=\"scale(1 1) rotate(0) translate(4 328)\">\n",
       "<title>%3</title>\n",
       "<polygon fill=\"white\" stroke=\"none\" points=\"-4,4 -4,-328 451.296,-328 451.296,4 -4,4\"/>\n",
       "<!-- 0 -->\n",
       "<g id=\"node1\" class=\"node\"><title>0</title>\n",
       "<ellipse fill=\"none\" stroke=\"black\" cx=\"27\" cy=\"-162\" rx=\"27\" ry=\"18\"/>\n",
       "<text text-anchor=\"middle\" x=\"27\" y=\"-158.3\" font-family=\"Times,serif\" font-size=\"14.00\">He</text>\n",
       "</g>\n",
       "<!-- 1 -->\n",
       "<g id=\"node2\" class=\"node\"><title>1</title>\n",
       "<ellipse fill=\"none\" stroke=\"black\" cx=\"28\" cy=\"-234\" rx=\"27\" ry=\"18\"/>\n",
       "<text text-anchor=\"middle\" x=\"28\" y=\"-230.3\" font-family=\"Times,serif\" font-size=\"14.00\">Subj</text>\n",
       "</g>\n",
       "<!-- 1&#45;&gt;0 -->\n",
       "<g id=\"edge1\" class=\"edge\"><title>1&#45;&gt;0</title>\n",
       "<path fill=\"none\" stroke=\"black\" d=\"M27.7528,-215.697C27.6426,-207.983 27.5102,-198.712 27.3873,-190.112\"/>\n",
       "<polygon fill=\"black\" stroke=\"black\" points=\"30.8869,-190.053 27.2443,-180.104 23.8876,-190.153 30.8869,-190.053\"/>\n",
       "</g>\n",
       "<!-- 2 -->\n",
       "<g id=\"node3\" class=\"node\"><title>2</title>\n",
       "<ellipse fill=\"none\" stroke=\"black\" cx=\"80\" cy=\"-90\" rx=\"27\" ry=\"18\"/>\n",
       "<text text-anchor=\"middle\" x=\"80\" y=\"-86.3\" font-family=\"Times,serif\" font-size=\"14.00\">shot</text>\n",
       "</g>\n",
       "<!-- 3 -->\n",
       "<g id=\"node4\" class=\"node\"><title>3</title>\n",
       "<ellipse fill=\"none\" stroke=\"black\" cx=\"101\" cy=\"-162\" rx=\"28.6953\" ry=\"18\"/>\n",
       "<text text-anchor=\"middle\" x=\"101\" y=\"-158.3\" font-family=\"Times,serif\" font-size=\"14.00\">Verb</text>\n",
       "</g>\n",
       "<!-- 3&#45;&gt;2 -->\n",
       "<g id=\"edge2\" class=\"edge\"><title>3&#45;&gt;2</title>\n",
       "<path fill=\"none\" stroke=\"black\" d=\"M95.9165,-144.055C93.5176,-136.059 90.5992,-126.331 87.9199,-117.4\"/>\n",
       "<polygon fill=\"black\" stroke=\"black\" points=\"91.2626,-116.362 85.0367,-107.789 84.5579,-118.373 91.2626,-116.362\"/>\n",
       "</g>\n",
       "<!-- 4 -->\n",
       "<g id=\"node5\" class=\"node\"><title>4</title>\n",
       "<ellipse fill=\"none\" stroke=\"black\" cx=\"152\" cy=\"-90\" rx=\"27\" ry=\"18\"/>\n",
       "<text text-anchor=\"middle\" x=\"152\" y=\"-86.3\" font-family=\"Times,serif\" font-size=\"14.00\">the</text>\n",
       "</g>\n",
       "<!-- 5 -->\n",
       "<g id=\"node6\" class=\"node\"><title>5</title>\n",
       "<ellipse fill=\"none\" stroke=\"black\" cx=\"237\" cy=\"-90\" rx=\"40.0939\" ry=\"18\"/>\n",
       "<text text-anchor=\"middle\" x=\"237\" y=\"-86.3\" font-family=\"Times,serif\" font-size=\"14.00\">elephant</text>\n",
       "</g>\n",
       "<!-- 6 -->\n",
       "<g id=\"node7\" class=\"node\"><title>6</title>\n",
       "<ellipse fill=\"none\" stroke=\"black\" cx=\"250\" cy=\"-18\" rx=\"27\" ry=\"18\"/>\n",
       "<text text-anchor=\"middle\" x=\"250\" y=\"-14.3\" font-family=\"Times,serif\" font-size=\"14.00\">in</text>\n",
       "</g>\n",
       "<!-- 7 -->\n",
       "<g id=\"node8\" class=\"node\"><title>7</title>\n",
       "<ellipse fill=\"none\" stroke=\"black\" cx=\"322\" cy=\"-18\" rx=\"27\" ry=\"18\"/>\n",
       "<text text-anchor=\"middle\" x=\"322\" y=\"-14.3\" font-family=\"Times,serif\" font-size=\"14.00\">his</text>\n",
       "</g>\n",
       "<!-- 8 -->\n",
       "<g id=\"node9\" class=\"node\"><title>8</title>\n",
       "<ellipse fill=\"none\" stroke=\"black\" cx=\"407\" cy=\"-18\" rx=\"40.0939\" ry=\"18\"/>\n",
       "<text text-anchor=\"middle\" x=\"407\" y=\"-14.3\" font-family=\"Times,serif\" font-size=\"14.00\">pyjamas</text>\n",
       "</g>\n",
       "<!-- 9 -->\n",
       "<g id=\"node10\" class=\"node\"><title>9</title>\n",
       "<ellipse fill=\"none\" stroke=\"black\" cx=\"322\" cy=\"-90\" rx=\"27\" ry=\"18\"/>\n",
       "<text text-anchor=\"middle\" x=\"322\" y=\"-86.3\" font-family=\"Times,serif\" font-size=\"14.00\">PP</text>\n",
       "</g>\n",
       "<!-- 9&#45;&gt;6 -->\n",
       "<g id=\"edge3\" class=\"edge\"><title>9&#45;&gt;6</title>\n",
       "<path fill=\"none\" stroke=\"black\" d=\"M307.43,-74.8345C297.25,-64.9376 283.476,-51.5462 271.969,-40.3591\"/>\n",
       "<polygon fill=\"black\" stroke=\"black\" points=\"274.405,-37.8461 264.796,-33.3847 269.526,-42.865 274.405,-37.8461\"/>\n",
       "</g>\n",
       "<!-- 9&#45;&gt;7 -->\n",
       "<g id=\"edge4\" class=\"edge\"><title>9&#45;&gt;7</title>\n",
       "<path fill=\"none\" stroke=\"black\" d=\"M322,-71.6966C322,-63.9827 322,-54.7125 322,-46.1124\"/>\n",
       "<polygon fill=\"black\" stroke=\"black\" points=\"325.5,-46.1043 322,-36.1043 318.5,-46.1044 325.5,-46.1043\"/>\n",
       "</g>\n",
       "<!-- 9&#45;&gt;8 -->\n",
       "<g id=\"edge5\" class=\"edge\"><title>9&#45;&gt;8</title>\n",
       "<path fill=\"none\" stroke=\"black\" d=\"M338.389,-75.5033C350.406,-65.6065 366.972,-51.9644 380.815,-40.5644\"/>\n",
       "<polygon fill=\"black\" stroke=\"black\" points=\"383.101,-43.2155 388.596,-34.1566 378.651,-37.812 383.101,-43.2155\"/>\n",
       "</g>\n",
       "<!-- 10 -->\n",
       "<g id=\"node11\" class=\"node\"><title>10</title>\n",
       "<ellipse fill=\"none\" stroke=\"black\" cx=\"196\" cy=\"-162\" rx=\"27\" ry=\"18\"/>\n",
       "<text text-anchor=\"middle\" x=\"196\" y=\"-158.3\" font-family=\"Times,serif\" font-size=\"14.00\">Obj</text>\n",
       "</g>\n",
       "<!-- 10&#45;&gt;4 -->\n",
       "<g id=\"edge6\" class=\"edge\"><title>10&#45;&gt;4</title>\n",
       "<path fill=\"none\" stroke=\"black\" d=\"M186.016,-145.116C180.503,-136.345 173.537,-125.264 167.347,-115.416\"/>\n",
       "<polygon fill=\"black\" stroke=\"black\" points=\"170.23,-113.425 161.945,-106.821 164.303,-117.15 170.23,-113.425\"/>\n",
       "</g>\n",
       "<!-- 10&#45;&gt;5 -->\n",
       "<g id=\"edge7\" class=\"edge\"><title>10&#45;&gt;5</title>\n",
       "<path fill=\"none\" stroke=\"black\" d=\"M205.509,-144.765C210.457,-136.317 216.618,-125.799 222.174,-116.312\"/>\n",
       "<polygon fill=\"black\" stroke=\"black\" points=\"225.224,-118.031 227.258,-107.633 219.183,-114.493 225.224,-118.031\"/>\n",
       "</g>\n",
       "<!-- 10&#45;&gt;9 -->\n",
       "<g id=\"edge8\" class=\"edge\"><title>10&#45;&gt;9</title>\n",
       "<path fill=\"none\" stroke=\"black\" d=\"M216.244,-149.753C237.002,-138.221 269.484,-120.175 292.975,-107.125\"/>\n",
       "<polygon fill=\"black\" stroke=\"black\" points=\"294.764,-110.135 301.806,-102.219 291.365,-104.016 294.764,-110.135\"/>\n",
       "</g>\n",
       "<!-- 11 -->\n",
       "<g id=\"node12\" class=\"node\"><title>11</title>\n",
       "<ellipse fill=\"none\" stroke=\"black\" cx=\"101\" cy=\"-234\" rx=\"27\" ry=\"18\"/>\n",
       "<text text-anchor=\"middle\" x=\"101\" y=\"-230.3\" font-family=\"Times,serif\" font-size=\"14.00\">VP</text>\n",
       "</g>\n",
       "<!-- 11&#45;&gt;3 -->\n",
       "<g id=\"edge9\" class=\"edge\"><title>11&#45;&gt;3</title>\n",
       "<path fill=\"none\" stroke=\"black\" d=\"M101,-215.697C101,-207.983 101,-198.712 101,-190.112\"/>\n",
       "<polygon fill=\"black\" stroke=\"black\" points=\"104.5,-190.104 101,-180.104 97.5001,-190.104 104.5,-190.104\"/>\n",
       "</g>\n",
       "<!-- 11&#45;&gt;10 -->\n",
       "<g id=\"edge10\" class=\"edge\"><title>11&#45;&gt;10</title>\n",
       "<path fill=\"none\" stroke=\"black\" d=\"M118.424,-220.161C132.93,-209.473 153.792,-194.101 170.229,-181.989\"/>\n",
       "<polygon fill=\"black\" stroke=\"black\" points=\"172.39,-184.744 178.364,-175.995 168.237,-179.109 172.39,-184.744\"/>\n",
       "</g>\n",
       "<!-- 12 -->\n",
       "<g id=\"node13\" class=\"node\"><title>12</title>\n",
       "<ellipse fill=\"none\" stroke=\"black\" cx=\"64\" cy=\"-306\" rx=\"27\" ry=\"18\"/>\n",
       "<text text-anchor=\"middle\" x=\"64\" y=\"-302.3\" font-family=\"Times,serif\" font-size=\"14.00\">S</text>\n",
       "</g>\n",
       "<!-- 12&#45;&gt;1 -->\n",
       "<g id=\"edge11\" class=\"edge\"><title>12&#45;&gt;1</title>\n",
       "<path fill=\"none\" stroke=\"black\" d=\"M55.6504,-288.765C51.2885,-280.283 45.8531,-269.714 40.9587,-260.197\"/>\n",
       "<polygon fill=\"black\" stroke=\"black\" points=\"43.9904,-258.439 36.3043,-251.147 37.7654,-261.641 43.9904,-258.439\"/>\n",
       "</g>\n",
       "<!-- 12&#45;&gt;11 -->\n",
       "<g id=\"edge12\" class=\"edge\"><title>12&#45;&gt;11</title>\n",
       "<path fill=\"none\" stroke=\"black\" d=\"M72.5815,-288.765C77.0646,-280.283 82.651,-269.714 87.6814,-260.197\"/>\n",
       "<polygon fill=\"black\" stroke=\"black\" points=\"90.8862,-261.624 92.465,-251.147 84.6975,-258.353 90.8862,-261.624\"/>\n",
       "</g>\n",
       "</g>\n",
       "</svg>\n"
      ],
      "text/plain": [
       "<graphviz.dot.Digraph at 0x7f72b0d18550>"
      ]
     },
     "execution_count": 77,
     "metadata": {},
     "output_type": "execute_result"
    }
   ],
   "source": [
    "amb_trace = cyk(amb_cnf_cfg, amb_sentence)\n",
    "amb_parse_results = amb_trace[-1].derive_trees()\n",
    "parsing.render_tree(parsing.filter_non_terminals(amb_parse_results[0],amb_cfg.n)) # try results[1]"
   ]
  },
  {
   "cell_type": "markdown",
   "metadata": {
    "collapsed": false,
    "slideshow": {
     "slide_type": "subslide"
    }
   },
   "source": [
    "The example is an instance of _prepositional phrase attachment ambiguity_: the \"in his pyjamas\" phrase could both be part of the verb phrase, meaning that the shooting happened in pyjamas, or part of the noun phrase \"the elephant\", meaning that the elephant was in pyjamas. Both readings make syntactic sense, so there is nothing wrong with the grammar. However, we would like the machine to return the preferred reading when such sentence is parsed. For this we need to find a way to assign different readings different probabilities. <span class=\"summary\">Can we assign the better parse a higher _probability_?</span> "
   ]
  },
  {
   "cell_type": "markdown",
   "metadata": {
    "collapsed": false,
    "slideshow": {
     "slide_type": "subslide"
    }
   },
   "source": [
    "## Probabilistic Context Free Grammars\n",
    "[Probabilistic Context Free Grammars](http://www.cs.columbia.edu/~mcollins/courses/nlp2011/notes/pcfgs.pdf) (PFCGs) are Context Free Grammars in which rules have probabilities. More formally, a PCFG consists of \n",
    "\n",
    "* A Context Free Grammar \\\\(G(N,\\Sigma,R,S)\\\\).\n",
    "* A parameter \\\\(\\param(\\alpha \\rightarrow \\beta)\\\\) for each rule  \\\\(\\alpha \\rightarrow \\beta \\in R\\\\). For each possible left hand side \\\\(\\alpha \\in N\\\\) we require \\\\(\\sum_\\beta \\param(\\alpha \\rightarrow \\beta) = 1\\\\).\n",
    "\n",
    "A PCFG defines a probability distribution over parse trees as follows. Given a parse tree \\\\(\\mathbf{t}\\\\) that contains the rules \\\\(\\alpha_1 \\rightarrow \\beta_1, \\ldots, \\alpha_n \\rightarrow \\beta_n\\\\), the probability of this tree under the PCFG is:\n",
    "$$\n",
    "  \\newcommand{parse}{\\mathbf{t}}\n",
    "  p_{\\param}(\\parse) = \\prod_i^n \\param(\\alpha_i \\rightarrow \\beta_i) \n",
    "$$\n",
    "\n",
    "Notice that we can develop and operate parsers with the structured prediction recipe. We have model \\\\(p\\\\), some parameters \\\\(\\params\\\\) that need to be estimated on a training set, and the prediction/search problem of finding the most likely parse tree given a sentence. The next sections will cover these aspects.\n",
    "\n",
    "Before we show examples, let us define a Python data structure for PCFGs.    "
   ]
  },
  {
   "cell_type": "code",
   "execution_count": 78,
   "metadata": {
    "collapsed": false,
    "slideshow": {
     "slide_type": "subslide"
    }
   },
   "outputs": [
    {
     "data": {
      "text/html": [
       "<table><tr><td>S</td><td>1.0</td><td>Subj VP</td></tr><tr><td>Subj</td><td>1.0</td><td>He</td></tr><tr><td>Verb</td><td>1.0</td><td>shot</td></tr><tr><td>VP</td><td>0.3</td><td>Verb Obj</td></tr><tr><td>VP</td><td>0.7</td><td>Verb Obj PP</td></tr><tr><td>PP</td><td>1.0</td><td>in his pyjamas</td></tr><tr><td>Obj</td><td>0.5</td><td>the elephant</td></tr><tr><td>Obj</td><td>0.5</td><td>the elephant PP</td></tr></table>"
      ],
      "text/plain": [
       "<__main__.PCFG at 0x7f72b0c705c0>"
      ]
     },
     "execution_count": 78,
     "metadata": {},
     "output_type": "execute_result"
    }
   ],
   "source": [
    "pcfg = PCFG.from_rules([\n",
    "        ('S',    1.0, ['Subj','VP']),\n",
    "        ('Subj', 1.0, ['He']),\n",
    "        ('Verb', 1.0, ['shot']),\n",
    "        ('VP',   0.3, ['Verb', 'Obj']),        ('VP',  0.7, ['Verb', 'Obj', 'PP']),\n",
    "        ('PP',   1.0, ['in','his','pyjamas']),\n",
    "        ('Obj',  0.5, ['the','elephant']),     ('Obj', 0.5, ['the','elephant','PP'])\n",
    "    ])\n",
    "pcfg"
   ]
  },
  {
   "cell_type": "markdown",
   "metadata": {
    "collapsed": false,
    "slideshow": {
     "slide_type": "slide"
    }
   },
   "source": [
    "## Prediction / Parsing\n",
    "\n",
    "Let us first focus on the prediction task: given a sentence, find the highest scoring parse tree consistent with this sentence. A tree is consistent with a sentence if its leaf terminal nodes are equal to the sentence. In a way, we have already solved a variant of this problem. We can consider a CFG as a deterministic distribution over trees, and finding _a_ highest scoring parse is equivalent to finding any legal tree&mdash;our bottom-up and dynamic program based algorithms hence performed a structured prediction.\n",
    "\n",
    "More formally, we can understand the PCFG distribution $\\prob_{\\params}(\\parse)$ as joint distribution $\\prob_{\\params}(\\x,\\y)$ over a non-terminal upper part of the tree $\\y$ (which includes for each of its own leaf nodes the number of terminal children it should have) and a terminal lower part $\\x$ corresponding to the input sentence. Both $\\x$ and $\\y$ form the parse tree $\\parse$. Notice that for a given sentence $\\x$ a *legal* upper tree $\\y$ needs to have a total number of children identical to the length of $\\x$. If we assume that the PCFG rules involving non-terminal nodes are in normal form ($\\alpha \\rightarrow t$ with $t \\in \\Sigma$) a legal $\\y$ needs to have as many children as there are tokens in $\\x$. Let us define the set of legal (non-terminal) parse trees for a given sentence $\\x$ and grammar $G$ as $\\Ys(\\x,G)$.\n",
    "\n",
    "With the above definitions we can define the parsing or prediction problems as follows. \n",
    "\n",
    "$$\n",
    "\\argmax_{\\y \\in \\Ys(\\x,G)} \\prob_\\params(\\x | \\y) = \\argmax_{\\y \\in \\Ys(\\x,G)} \\prob_\\params(\\x , \\y)\n",
    "$$\n",
    "\n",
    "where the equality follows from $\\prob_\\params(\\x | \\y) \\propto \\prob_\\params(\\x , \\y)$."
   ]
  },
  {
   "cell_type": "markdown",
   "metadata": {
    "collapsed": false,
    "slideshow": {
     "slide_type": "subslide"
    }
   },
   "source": [
    "## CYK for PCFGs\n",
    "\n",
    "As it turns out, we can use a variant of the CYK algorithm to solve the prediction problem above if we again assume (without loss of generality) that the grammar is CNF. As first step we hence need to convert the PCFG into a normalised PCFG: "
   ]
  },
  {
   "cell_type": "markdown",
   "metadata": {
    "collapsed": false,
    "slideshow": {
     "slide_type": "slide"
    }
   },
   "source": [
    "## Background Material\n",
    "\n",
    "* [Mike Collins' PCFG lecture](http://www.cs.columbia.edu/~mcollins/courses/nlp2011/notes/pcfgs.pdf)\n",
    "* Jurafsky & Martin"
   ]
  }
 ],
 "metadata": {
  "celltoolbar": "Slideshow",
  "kernelspec": {
   "display_name": "Python 3",
   "language": "python",
   "name": "python3"
  },
  "language_info": {
   "codemirror_mode": {
    "name": "ipython",
    "version": 3
   },
   "file_extension": ".py",
   "mimetype": "text/x-python",
   "name": "python",
   "nbconvert_exporter": "python",
   "pygments_lexer": "ipython3",
   "version": "3.5.2"
  }
 },
 "nbformat": 4,
 "nbformat_minor": 0
}
