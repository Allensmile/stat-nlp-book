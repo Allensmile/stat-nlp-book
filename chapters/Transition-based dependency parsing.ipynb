{
 "cells": [
  {
   "cell_type": "markdown",
   "metadata": {},
   "source": [
    "# Transition-based dependency parsing\n",
    "\n",
    "In the [parsing chapter](parsing.ipynb) we saw how to develop a syntactic parser based on context-free grammars (CFG). In this chapter we will see how to develop a parser based on a different paradigm, dependency trees.\n",
    "\n",
    "TODO: Show the matrix representation of the depedency graph, heads and modifiers\n",
    "\n",
    "TODO: define the transition system with functions that are called showing the stack and buffer. Keep the edges generated in a list. Or is there a way of getting the dependency graph generated dynamically with python lib? networkx?\n",
    "\n",
    "TODO: This blog post is quite good: https://spacy.io/blog/parsing-english-in-python\n",
    "\n",
    "TODO: Nivre description\n",
    "\n",
    "TODO: Sample transition system\n",
    "\n",
    "TODO: Different transition systems: they consist of some elementary actions. The key thing is the learnability of the system: ambiguity is confusing.\n",
    "\n",
    "TODO: Dynamic oracles to help with the ambiguity that we are left with, it was an implementation of the idea of expert policy from imitation learning (Searn/DAgger)\n",
    "\n",
    "TODO: Non-projectivity with dual stacks"
   ]
  }
 ],
 "metadata": {
  "kernelspec": {
   "display_name": "Python 3",
   "language": "python",
   "name": "python3"
  },
  "language_info": {
   "codemirror_mode": {
    "name": "ipython",
    "version": 3
   },
   "file_extension": ".py",
   "mimetype": "text/x-python",
   "name": "python",
   "nbconvert_exporter": "python",
   "pygments_lexer": "ipython3",
   "version": "3.5.1"
  }
 },
 "nbformat": 4,
 "nbformat_minor": 0
}
