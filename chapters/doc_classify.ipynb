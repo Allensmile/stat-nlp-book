{
 "cells": [
  {
   "cell_type": "code",
   "execution_count": 28,
   "metadata": {
    "collapsed": true
   },
   "outputs": [],
   "source": [
    "%%capture\n",
    "%load_ext autoreload\n",
    "%autoreload 2\n",
    "%matplotlib inline\n",
    "# %cd .. \n",
    "import sys\n",
    "sys.path.append(\"..\")\n",
    "import statnlpbook.util as util\n",
    "import matplotlib\n",
    "matplotlib.rcParams['figure.figsize'] = (10.0, 6.0)"
   ]
  },
  {
   "cell_type": "markdown",
   "metadata": {},
   "source": [
    "<!---\n",
    "Latex Macros\n",
    "-->\n",
    "$$\n",
    "\\newcommand{\\Xs}{\\mathcal{X}}\n",
    "\\newcommand{\\Ys}{\\mathcal{Y}}\n",
    "\\newcommand{\\y}{\\mathbf{y}}\n",
    "\\newcommand{\\balpha}{\\boldsymbol{\\alpha}}\n",
    "\\newcommand{\\bbeta}{\\boldsymbol{\\beta}}\n",
    "\\newcommand{\\aligns}{\\mathbf{a}}\n",
    "\\newcommand{\\align}{a}\n",
    "\\newcommand{\\source}{\\mathbf{s}}\n",
    "\\newcommand{\\target}{\\mathbf{t}}\n",
    "\\newcommand{\\ssource}{s}\n",
    "\\newcommand{\\starget}{t}\n",
    "\\newcommand{\\repr}{\\mathbf{f}}\n",
    "\\newcommand{\\repry}{\\mathbf{g}}\n",
    "\\newcommand{\\x}{\\mathbf{x}}\n",
    "\\newcommand{\\prob}{p}\n",
    "\\newcommand{\\vocab}{V}\n",
    "\\newcommand{\\params}{\\boldsymbol{\\theta}}\n",
    "\\newcommand{\\param}{\\theta}\n",
    "\\DeclareMathOperator{\\perplexity}{PP}\n",
    "\\DeclareMathOperator{\\argmax}{argmax}\n",
    "\\DeclareMathOperator{\\argmin}{argmin}\n",
    "\\newcommand{\\train}{\\mathcal{D}}\n",
    "\\newcommand{\\counts}[2]{\\#_{#1}(#2) }\n",
    "\\newcommand{\\length}[1]{\\text{length}(#1) }\n",
    "\\newcommand{\\indi}{\\mathbb{I}}\n",
    "$$"
   ]
  },
  {
   "cell_type": "markdown",
   "metadata": {},
   "source": [
    "# Text Classification \n",
    "\n",
    "In many applications we need to automatically classify some input text with respect to a set of classes or labels. For example,\n",
    "\n",
    "* for information retrieval it is useful to classify documents into a set of topics, such as \"sport\" or \"business\",\n",
    "* for sentiment analysis we classify tweets into being \"positive\" or \"negative\" and \n",
    "* for spam filters we need to distinguish between Ham and Spam.\n",
    "\n",
    "<!-- TODO: Load Web Corpus, 4 Universities, something were Maxent works -->\n",
    "\n",
    "## Text Classification as Structured Prediction\n",
    "We can formalize text classification as the simplest instance of [structured prediction](/template/statnlpbook/02_methods/00_structuredprediction) where the input space \\\\(\\Xs\\\\) are sequences of words, and the output space \\\\(\\Ys\\\\) is a set of labels such as \\\\(\\Ys=\\\\{ \\text{sports},\\text{business}\\\\} \\\\) in document classification or \\\\(\\Ys=\\\\{ \\text{positive},\\text{negative}, \\text{neutral}\\\\} \\\\) in sentiment prediction. On a high level, our goal is to define a model a model \\\\(s_{\\params}(\\x,y)\\\\) that assigns high *scores* to the label \\\\(y\\\\) that fits the text \\\\(\\x\\\\), and lower scores otherwise. The model will be parametrized by \\\\(\\params\\\\), and these parameters we will learn from some training set \\\\(\\train\\\\) of \\\\((\\x,y)\\\\) pairs. When we need to classify a text \\\\(\\x\\\\) we have to solve the trivial (if the number of classes is low) maximization problem $\\argmax_{y \\in \\Ys} s_{\\params}(\\x,y)$. \n",
    "\n",
    "<!-- TODO: Show a silly classifier example? --> \n",
    "\n",
    "In the following we will present two typical approaches to text classifiers. The first one is the standard generative model for this problem: Naive Bayes. The second one is a discriminative linear classifier. This chapter hence constitutes a shift from generative to discriminative learning. We will focus particularly on the fact that both models can use the same model structure and parameterisation, and differ only in how model parameters are trained."
   ]
  },
  {
   "cell_type": "markdown",
   "metadata": {},
   "source": [
    "## Sentiment Analysis as Text Classification\n",
    "Before we go on to classification methods let us focus on a specific task: sentiment analysis. We will load data for this task from the [Movie Review dataset](https://www.cs.cornell.edu/people/pabo/movie-review-data/). We will load the data into a very simple format of $(\\x,y)$ Python pairs, where $\\x$ corresponds to the input text document, and $y\\in\\{\\text{pos},\\text{neg}\\}$ to the sentiment label. We notice that the text has already been [tokenized](tokenization.ipynb), and the whitespace is sufficient to determine token boundaries. "
   ]
  },
  {
   "cell_type": "code",
   "execution_count": 29,
   "metadata": {
    "collapsed": false
   },
   "outputs": [
    {
     "data": {
      "text/plain": [
       "(['\"',\n",
       "  'jaws',\n",
       "  '\"',\n",
       "  'is',\n",
       "  'a',\n",
       "  'rare',\n",
       "  'film',\n",
       "  'that',\n",
       "  'grabs',\n",
       "  'your',\n",
       "  'attention',\n",
       "  'before',\n",
       "  'it',\n",
       "  'shows',\n",
       "  'you',\n",
       "  'a',\n",
       "  'single',\n",
       "  'image',\n",
       "  'on',\n",
       "  'screen'],\n",
       " 'pos')"
      ]
     },
     "execution_count": 29,
     "metadata": {},
     "output_type": "execute_result"
    }
   ],
   "source": [
    "from os import listdir\n",
    "from os.path import isfile, join\n",
    "def load_from_dir(directory,label):\n",
    "    \"\"\"\n",
    "    Load documents from a directory, and give them all the same label `label`.\n",
    "    Params:\n",
    "        directory: the directory to load the documents from.\n",
    "        label: the label to assign to each document.\n",
    "    Returns:\n",
    "        a list of (x,y) pairs where x is a tokenised document (list of words), and y is the label `label`.\n",
    "    \"\"\"\n",
    "    result = []\n",
    "    for file in listdir(directory):\n",
    "        with open(directory + file, 'r') as f:\n",
    "            text = f.read()\n",
    "            tokens = [t.strip() for t in text.split()]\n",
    "            result.append((tokens,label))\n",
    "    return result\n",
    "    \n",
    "data = load_from_dir('../data/rt-2k/txt_sentoken/pos/', 'pos') + \\\n",
    "       load_from_dir('../data/rt-2k/txt_sentoken/neg/', 'neg')\n",
    "data[3][0][:20], data[3][1]"
   ]
  },
  {
   "cell_type": "markdown",
   "metadata": {},
   "source": [
    "Next we devide the data into a training, development and test set. The training dataset will be used for estimating parameters of our models. The development set will allow us to test different configurations and optimise hyperparameters (or model choices) without overfitting on the test set. This problem of fitting-the-test-set is quite widespread in ML and NLP research. It has led to impressive F1 scores on certain datasets, but poor generalisation of the findings to other slightly different dataset. We will shuffle the data and then allocate 200 instances to both dev and test set, the remainder to the training set. "
   ]
  },
  {
   "cell_type": "code",
   "execution_count": 30,
   "metadata": {
    "collapsed": false
   },
   "outputs": [
    {
     "data": {
      "text/plain": [
       "813"
      ]
     },
     "execution_count": 30,
     "metadata": {},
     "output_type": "execute_result"
    }
   ],
   "source": [
    "import random \n",
    "random.seed(2)\n",
    "shuffled = list(data)\n",
    "random.shuffle(shuffled)\n",
    "train, dev, test = shuffled[:1600], shuffled[1600:1800], shuffled[1800:]\n",
    "len([(x,y) for (x,y) in train if y == 'pos']) # check balance"
   ]
  },
  {
   "cell_type": "markdown",
   "metadata": {},
   "source": [
    "## Naive Bayes\n",
    "One of the most widely used approaches to text classification relies on the so-called Naive Bayes (NB) model. In NB we use a distribution $p^{\\mbox{NB}}_{\\params}$ for $s_\\params$. In particular, we use the *a posteriori* probability of a label \\\\(y\\\\) given the input text \\\\(\\x\\\\) as a score for that label given the text.   \n",
    "\n",
    "\\begin{equation}\n",
    "  s_{\\params}(\\x,\\y)\\ = p^{\\text{NB}}_{\\params}(y|\\x)\n",
    "\\end{equation}\n",
    "\n",
    "By Bayes Law we get\n",
    "\n",
    "\\begin{equation}\n",
    "    p^{\\text{NB}}_{\\params}(y|\\x) =\n",
    "  \\frac{p^{\\text{NB}}_{\\params}(\\x|y) p^\\text{NB}_{\\params}(y)}{p^{\\text{NB}}_{\\params}(x)}  \n",
    "\\end{equation}\n",
    "\n",
    "and when an input \\\\(\\x\\\\) is fixed we can focus on \n",
    "\n",
    "\\begin{equation}\\label{eq:NB}\n",
    "\\prob^{\\text{NB}}_{\\params}(\\x,y)= p^{\\text{NB}}_{\\params}(\\x|y) p^\\text{NB}_{\\params}(y)\n",
    "\\end{equation}\n",
    "\n",
    "because in this case  $p^{\\text{NB}}_{\\params}(x)$ is a constant factor. In the above $p^{\\text{NB}}_{\\params}(\\x|y)$ is the *likelihood*, and \\\\(p^\\text{NB}_{\\params}(y) \\\\) is the *prior*.\n",
    "\n",
    "<!--Let us assume that we have a number \\\\(K(\\x)\\\\) of feature functions \\\\(f_k(\\x)\\\\) that represent the input \\\\(\\x\\\\). For example, in document classification this set could be used to represent the text \\\\(\\x = (x_1,\\ldots,x_n)\\\\) as a bag of words by setting \\\\(f_k(\\x) = x_k\\\\) and \\\\(K(\\x) = n\\\\). We could also use bigrams instead, setting \\\\(f_k(\\x) = (x_k,x_{k+1})\\\\) and \\\\(K(\\x) = n-1\\\\), or any other representation that is effective for distinguishing between classes of text.-->\n",
    "\n",
    "The \"naivity\" of NB stems from a certain conditional independence assumption we make for the likelihood \\\\(p^{\\mbox{NB}}_{\\params}(\\x|y)\\\\). Note that conditional independence of two events \\\\(a\\\\) and \\\\(b\\\\) given a third event \\\\(c\\\\) requires that \\\\(p(a,b|c) = p(a|c) p(b|c)\\\\). In particular, for the likelihood in NB we have:\n",
    "\n",
    "\\begin{equation}\n",
    "  p^{\\text{NB}}_{\\params}(\\x|y) = \n",
    "  \\prod_i^{\\text{length}(\\x)} p^{\\text{NB}}_{\\params}(x_i|y)\n",
    "\\end{equation}\n",
    "\n",
    "That is, NB makes the assumption that the observed words are independent of each other when *conditioned on the label* \\\\(y\\\\). \n",
    "\n",
    "### Parametrization\n",
    "The NB model has the parameters \\\\(\\params=(\\balpha,\\bbeta)\\\\) where \n",
    "\n",
    "\\begin{split}\n",
    "  p^{\\text{NB}}_{\\params}(f|y) & = \\alpha_{f,y} \\\\\\\\\n",
    "  p^{\\text{NB}}_{\\params}(y) & = \\beta_{y}.\n",
    "\\end{split}\n",
    "\n",
    "That is, \\\\(\\balpha\\\\) captures the per-class feature weights, and \\\\(\\bbeta\\\\) the class priors. \n",
    "\n",
    "### Training the Naive Bayes Model\n",
    "\n",
    "The NB model again can be trained using Maximum Likelihood estimation. This amounts to setting \n",
    "\n",
    "\\begin{split}\n",
    "  \\alpha_{x,y} & = \\frac{\\counts{\\train}{x,y}}{\\counts{\\train}{y}}\\\\\\\\\n",
    "  \\beta_{y} & = \\frac{\\counts{\\train}{y}}{\\left| \\train \\right|}\n",
    "\\end{split}\n",
    "\n",
    "\n",
    "Let us implement the MLE training algorithm for an NB model in Python:"
   ]
  },
  {
   "cell_type": "code",
   "execution_count": 31,
   "metadata": {
    "collapsed": true
   },
   "outputs": [],
   "source": [
    "from collections import defaultdict\n",
    "def train_nb(data):\n",
    "    \"\"\"\n",
    "    Trains a NB model using MLE.\n",
    "    Params:\n",
    "        data: a list of (x,y) pairs where x is a list of words, and y is a label.\n",
    "    Returns:\n",
    "        The pair (alpha,beta) where alpha are the per class word emission probabilities as a dictionary \n",
    "        from pairs of word and label to probability, and beta the class priors as a dictionary from \n",
    "        class name to probability.\n",
    "    \"\"\"\n",
    "    alpha = defaultdict(float)\n",
    "    beta = defaultdict(float)\n",
    "    norm = 0\n",
    "    for x,y in data:\n",
    "        for w in x:\n",
    "            beta[y] += 1.0\n",
    "            alpha[w,y] += 1\n",
    "            norm += 1\n",
    "    for (w,y) in list(alpha.keys()):\n",
    "        alpha[w,y] = alpha[w,y] / beta[y]\n",
    "    for y in list(beta.keys()):\n",
    "        beta[y] = beta[y] / norm\n",
    "    return (alpha, beta)\n",
    "    \n",
    "theta = (alpha, beta) = train_nb(train)"
   ]
  },
  {
   "cell_type": "markdown",
   "metadata": {},
   "source": [
    "It is useful to inspect the learned parameters of the NB model, in particular because they are easy to interpret. The class prior looks sensible:"
   ]
  },
  {
   "cell_type": "code",
   "execution_count": 32,
   "metadata": {
    "collapsed": false
   },
   "outputs": [
    {
     "data": {
      "text/plain": [
       "defaultdict(float, {'neg': 0.4647993475914024, 'pos': 0.5352006524085976})"
      ]
     },
     "execution_count": 32,
     "metadata": {},
     "output_type": "execute_result"
    }
   ],
   "source": [
    "beta"
   ]
  },
  {
   "cell_type": "markdown",
   "metadata": {},
   "source": [
    "Let us look at the $\\balpha$ parameters that correspond to the probability of generating a word given a class."
   ]
  },
  {
   "cell_type": "code",
   "execution_count": 33,
   "metadata": {
    "collapsed": false
   },
   "outputs": [
    {
     "data": {
      "image/png": "[encoded data removed]",
      "text/plain": [
       "<matplotlib.figure.Figure at 0x7f6a478798d0>"
      ]
     },
     "metadata": {},
     "output_type": "display_data"
    }
   ],
   "source": [
    "def plot_top_k(alpha, label='pos', k=10):\n",
    "    positive_words = [w for (w,y) in alpha.keys() if y == label]\n",
    "    sorted_positive_words = sorted(positive_words, key=lambda w:-alpha[w,label])[:k]\n",
    "    util.plot_bar_graph([alpha[w,label] for w in sorted_positive_words],sorted_positive_words,rotation=45)\n",
    "plot_top_k(alpha)"
   ]
  },
  {
   "cell_type": "markdown",
   "metadata": {},
   "source": [
    "This is actually fairly uninformative. What we see are words that appear with high probability in positive documents. Clearly *any* document will contain these words with high probability, and so they don't serve well to discriminate between document classes. It makes sense to remove such words apriori, using a so-called *stop-word* list.  "
   ]
  },
  {
   "cell_type": "code",
   "execution_count": 34,
   "metadata": {
    "collapsed": false
   },
   "outputs": [
    {
     "data": {
      "image/png": "[encoded data removed]",
      "text/plain": [
       "<matplotlib.figure.Figure at 0x7f6a4e6a0898>"
      ]
     },
     "metadata": {},
     "output_type": "display_data"
    }
   ],
   "source": [
    "import string\n",
    "\n",
    "stop_words = set(['i', 'me', 'my', 'myself', 'we', 'our', 'ours', 'ourselves', 'you', 'your', 'yours',\n",
    "'yourself', 'yourselves', 'he', 'him', 'his', 'himself', 'she', 'her', 'hers',\n",
    "'herself', 'it', 'its', 'itself', 'they', 'them', 'their', 'theirs', 'themselves',\n",
    "'what', 'which', 'who', 'whom', 'this', 'that', 'these', 'those', 'am', 'is', 'are',\n",
    "'was', 'were', 'be', 'been', 'being', 'have', 'has', 'had', 'having', 'do', 'does',\n",
    "'did', 'doing', 'a', 'an', 'the', 'and', 'but', 'if', 'or', 'because', 'as', 'until',\n",
    "'while', 'of', 'at', 'by', 'for', 'with', 'about', 'against', 'between', 'into',\n",
    "'through', 'during', 'before', 'after', 'above', 'below', 'to', 'from', 'up', 'down',\n",
    "'in', 'out', 'on', 'off', 'over', 'under', 'again', 'further', 'then', 'once', 'here',\n",
    "'there', 'when', 'where', 'why', 'how', 'all', 'any', 'both', 'each', 'few', 'more',\n",
    "'most', 'other', 'some', 'such', 'no', 'nor', 'not', 'only', 'own', 'same', 'so',\n",
    "'than', 'too', 'very', 's', 't', 'can', 'will', 'just', 'don', 'should', 'now', '\\n', 'the'] + list(string.punctuation))\n",
    "\n",
    "def filter_dataset(data):\n",
    "    \"\"\"\n",
    "    Removes stop words from a dataset of (x,y) pairs.\n",
    "    \"\"\"\n",
    "    return [([w for w in x if w not in stop_words],y) for x,y in data]\n",
    "\n",
    "train_filtered = filter_dataset(train)\n",
    "dev_filtered = filter_dataset(dev)\n",
    "test_filtered = filter_dataset(test)\n",
    "\n",
    "theta_filtered = (alpha, beta) = train_nb(train_filtered)\n",
    "plot_top_k(alpha,'pos',k=20)"
   ]
  },
  {
   "cell_type": "markdown",
   "metadata": {},
   "source": [
    "At this point we see some words that may indicate positive movie reviews (\"good\", \"like\"), but also words that are generally likely to appear in movie reviews, regardless of the review's sentiment. Let us also look at the conditional probabilities for negative sentiment:"
   ]
  },
  {
   "cell_type": "code",
   "execution_count": 35,
   "metadata": {
    "collapsed": false
   },
   "outputs": [
    {
     "data": {
      "image/png": "[encoded data removed]",
      "text/plain": [
       "<matplotlib.figure.Figure at 0x7f6a470aa358>"
      ]
     },
     "metadata": {},
     "output_type": "display_data"
    }
   ],
   "source": [
    "plot_top_k(alpha,'neg', 20)"
   ]
  },
  {
   "cell_type": "markdown",
   "metadata": {},
   "source": [
    "Interestingly, the negative reviews look fairly similar when considering the head of the distribution, and even mention \"good\" just as often as the positive reviews. However, note some subtle differences: in negative reviews the word \"movie\" is used more often than in positive reviews; for the word \"film\" this effect is reversed. \n",
    "\n",
    "Notably \"bad\" appears with high probability only in the negative reviews. Let's look at some occurences of \"good\" in negative reviews to check whether this actually makes sense.  "
   ]
  },
  {
   "cell_type": "code",
   "execution_count": 36,
   "metadata": {
    "collapsed": false
   },
   "outputs": [
    {
     "data": {
      "text/plain": [
       "['stone', 'musical', ',', 'but', 'a', 'good', 'portion', 'of', 'the', 'songs']"
      ]
     },
     "execution_count": 36,
     "metadata": {},
     "output_type": "execute_result"
    }
   ],
   "source": [
    "docs_with_good = [x for x,y in train if 'good' in x and y=='neg']\n",
    "good_index = docs_with_good[1].index(\"good\")\n",
    "docs_with_good[1][good_index-5:good_index+5]"
   ]
  },
  {
   "cell_type": "markdown",
   "metadata": {},
   "source": [
    "Generally, looking at the most likely words in each class is not that helpful in order to understand the NB classification model, as discriminative features or words may be rare when compared to general words in the domain (such as \"film\", \"movie\", \"story\" in movie reviews). We can instead look at probability *ratios* or *differences*: which words have much higher probability in one class than the other.   "
   ]
  },
  {
   "cell_type": "code",
   "execution_count": 37,
   "metadata": {
    "collapsed": false
   },
   "outputs": [
    {
     "data": {
      "image/png": "[encoded data removed]",
      "text/plain": [
       "<matplotlib.figure.Figure at 0x7f6a4df1fd30>"
      ]
     },
     "metadata": {},
     "output_type": "display_data"
    }
   ],
   "source": [
    "def diff(alpha, w):\n",
    "    return alpha[w,'pos'] - alpha[w,'neg'] \n",
    "\n",
    "def plot_discriminative_features(alpha, threshold = 0.0001, reverse=False):\n",
    "    frequent_words = {w for ((w,y),p) in alpha.items() if p > 0.0001}\n",
    "    sorted_by_ratio = sorted(frequent_words, key=lambda w: diff(alpha, w),reverse=reverse)[-20:]\n",
    "    util.plot_bar_graph([diff(alpha,w) for w in sorted_by_ratio],sorted_by_ratio,rotation=45)\n",
    "\n",
    "plot_discriminative_features(alpha,reverse=True)"
   ]
  },
  {
   "cell_type": "markdown",
   "metadata": {},
   "source": [
    "Many of these words seem to match our intuition for negative reviews."
   ]
  },
  {
   "cell_type": "markdown",
   "metadata": {},
   "source": [
    "###  Naive Bayes Prediction\n",
    "Given a trained NB model, how do we predict the class of a given text? As we have done in [MT](word_mt.ipynb) and [parsing](word_mt.ipynb), we search for the $y\\in\\Ys$ with maximum *a posteriori* probability:\n",
    "\n",
    "$$\n",
    "\\argmax_{y\\in\\Ys} \\prob_\\params(y|\\x) =  \\argmax_{y\\in\\Ys} \\frac{\\prob(\\x|y) \\prob(y) }{ \\prob(\\x) } = \\argmax_{y\\in\\Ys} \\prob(\\x|y) \\prob(y) \n",
    "$$\n",
    "where the last equation follows from the fact that $\\prob(\\x)$ is constant for each $y$ we plug in.\n",
    "\n",
    "In python we implement this decoder in two steps. First we introduce a function that returns $\\prob(\\x|y) \\prob(y)$, then we search for the label with the highest return value of this function. "
   ]
  },
  {
   "cell_type": "code",
   "execution_count": 38,
   "metadata": {
    "collapsed": false
   },
   "outputs": [
    {
     "data": {
      "text/plain": [
       "('neg', 'neg')"
      ]
     },
     "execution_count": 38,
     "metadata": {},
     "output_type": "execute_result"
    }
   ],
   "source": [
    "from math import log, exp\n",
    "eps = 0.00000001\n",
    "def log_prob_nb(theta, x, y):\n",
    "    \"\"\"\n",
    "    Calculates the log probability log(p_theta(x|y)).\n",
    "    \"\"\"\n",
    "    alpha, beta = theta\n",
    "    result = util.safe_log(beta[y])\n",
    "    for w in x:\n",
    "        result += util.safe_log(alpha[w,y] + 0.0000001)\n",
    "    return result\n",
    "\n",
    "def predict_nb(theta, x):\n",
    "    \"\"\"\n",
    "    Finds y^*=argmax_y p_theta(y|x)\n",
    "    \"\"\"\n",
    "    if log_prob_nb(theta, x, 'pos') > log_prob_nb(theta, x, 'neg'):\n",
    "        return 'pos'\n",
    "    else:\n",
    "        return 'neg'\n",
    "\n",
    "i = 5\n",
    "predict_nb(theta_filtered,train_filtered[i][0]), train_filtered[i][1]"
   ]
  },
  {
   "cell_type": "markdown",
   "metadata": {},
   "source": [
    "## Evaluation\n",
    "We can evaluate a classification model by measuring its *accuracy*, the ratio of the number of correct predictions and the number of instances. "
   ]
  },
  {
   "cell_type": "code",
   "execution_count": 27,
   "metadata": {
    "collapsed": false
   },
   "outputs": [
    {
     "data": {
      "text/plain": [
       "(0.9975, 0.765)"
      ]
     },
     "execution_count": 27,
     "metadata": {},
     "output_type": "execute_result"
    }
   ],
   "source": [
    "def accuracy(data, guess):\n",
    "    correct = 0\n",
    "    for (x,y),y_guess in zip(data,guess):\n",
    "        if y_guess == y:\n",
    "            correct += 1\n",
    "    return correct / len(data)\n",
    "\n",
    "def batch_predict_nb(theta, data):\n",
    "    return [predict_nb(theta, x) for x,_ in data]\n",
    "\n",
    "def accuracy_nb(theta,data):\n",
    "    return accuracy(data, batch_predict_nb(theta,data))\n",
    "\n",
    "accuracy_nb(theta_filtered, train_filtered), accuracy_nb(theta_filtered, dev_filtered)  "
   ]
  },
  {
   "cell_type": "markdown",
   "metadata": {},
   "source": [
    "Accuracy is particularly suitable when the dataset is balanced. For unbalanced datasets other metrics are often preferred. For example, when a \"none of the above\" label exists that dominates the dataset, it is useful to measure precision, recall and the so called $\\mathrm{F}_1$ score, the geometric mean of precision and recall.   \n",
    "\n",
    "Notice that we can sometimes do a bit better by counting each word in the document only once. Here, however, this does not make a difference."
   ]
  },
  {
   "cell_type": "code",
   "execution_count": 40,
   "metadata": {
    "collapsed": false
   },
   "outputs": [
    {
     "data": {
      "text/plain": [
       "0.765"
      ]
     },
     "execution_count": 40,
     "metadata": {},
     "output_type": "execute_result"
    }
   ],
   "source": [
    "def binarize_dataset(data):\n",
    "    return [(set(x),y) for x,y in data]\n",
    "\n",
    "train_binary = binarize_dataset(train_filtered)\n",
    "dev_binary = binarize_dataset(dev_filtered)\n",
    "test_binary = binarize_dataset(test_filtered)\n",
    "\n",
    "theta_binary = train_nb(train_binary)\n",
    "accuracy_nb(theta_binary, dev_binary) "
   ]
  },
  {
   "cell_type": "markdown",
   "metadata": {},
   "source": [
    "### Bigram Representation\n",
    "As we discussed in the [structured prediction chapter](structured_prediction.ipynb), how represent the input is a crucial part of the structured prediction recipe. Representing the input document as bag of words is convenient, but it may not be sufficient to accurately capture sentiment. For example, and as we have seen, the word \"good\" can appear in positive and negative contexts, and by considering this word in isolation when representing the input it is difficult for the model to discriminate between positive and negative sentiment. We can address this problem by using a *bigram* representation of the document. Instead of applying NB to a sequence of words and ignoring context, we can apply it to a sequence of document bigrams. So the document (a,good,job) would become ((a,good),(good,job)). Let us do this for our running example by transforming the datasets accordingly."
   ]
  },
  {
   "cell_type": "code",
   "execution_count": 43,
   "metadata": {
    "collapsed": false
   },
   "outputs": [
    {
     "data": {
      "text/plain": [
       "0.805"
      ]
     },
     "execution_count": 43,
     "metadata": {},
     "output_type": "execute_result"
    }
   ],
   "source": [
    "def bigram_dataset(data):\n",
    "    return [([tuple(x[i:i+2]) for i in range(0,len(x)-1)],y) for x,y in data]\n",
    "\n",
    "train_bigram = bigram_dataset(train_filtered)\n",
    "dev_bigram = bigram_dataset(dev_filtered)\n",
    "test_bigram = bigram_dataset(test_filtered)\n",
    "\n",
    "theta_bigram = (alpha_bigram, beta_bigram) = train_nb(train_bigram)\n",
    "accuracy_nb(theta_bigram, dev_bigram) "
   ]
  },
  {
   "cell_type": "markdown",
   "metadata": {},
   "source": [
    "The bigram representation improves the results substantially. We can look at the most discriminative features again to understand what aspect of the data the model picked up upon."
   ]
  },
  {
   "cell_type": "code",
   "execution_count": 44,
   "metadata": {
    "collapsed": false
   },
   "outputs": [
    {
     "data": {
      "image/png": "[encoded data removed]",
      "text/plain": [
       "<matplotlib.figure.Figure at 0x7f6a4d99ccc0>"
      ]
     },
     "metadata": {},
     "output_type": "display_data"
    }
   ],
   "source": [
    "plot_discriminative_features(alpha_bigram, reverse=False)"
   ]
  },
  {
   "cell_type": "markdown",
   "metadata": {},
   "source": [
    "Interestingly the model has learned to pick up on a completely different type of phenomenon: the presence of entities such as movies and actors. For example, the presence of \"pulp fiction\" seems to correlate with positive reviews. Often reviewers praise a good movie by its resemblance to \"pulp fiction\". We can see this by printing out a few such reviews."
   ]
  },
  {
   "cell_type": "code",
   "execution_count": 51,
   "metadata": {
    "collapsed": false
   },
   "outputs": [
    {
     "name": "stdout",
     "output_type": "stream",
     "text": [
      ") quentin tarantino's films resevoir dogs ( 1992 ) and pulp fiction ( 1994 ) the soundtrack is also excellent\n",
      "in essence , this is the science fiction equivolence of pulp fiction . the easiest way to write a review\n",
      "\n",
      "that was used by quentin tarantino in reservoir dogs and pulp fiction , romeo & juliet is a sure fire\n",
      "can be even more graphic ( e . g . pulp fiction ) . pulp fiction did it in a\n",
      "me give you an example . do you know in pulp fiction where jules and vincent go on brain detail\n",
      "incredibly fun to watch . it starts off as a pulp fiction-type crime story , with criminal brothers george clooney\n",
      "\n",
      "mode , shine jumps around in time , ala \" pulp fiction \" . this narrative device works well ;\n",
      "first movie quentin tarantino has directed since the highly touted pulp fiction . to say he has been inactive in\n",
      ". the low - budget 1996 gem may , alongside pulp fiction , be the most influential film of the\n",
      "another war movie ? not in your dreams ! imagine pulp fiction approach to saving private ryan , that\u0012s three\n",
      ", travolta got the starring role in the tarantino masterpiece pulp fiction and his career soared once again . weird\n",
      ", stock & two smoking barrels ( 8/10 ) - pulp fiction ( 8/10 ) - reservoir dogs ( 9/10\n"
     ]
    }
   ],
   "source": [
    "docs_with_good = [x for x,y in train if 'pulp' in x and 'fiction' in x and y=='pos']\n",
    "for doc_index in range(0,14):\n",
    "    good_index = docs_with_good[doc_index].index(\"pulp\")\n",
    "    print(\" \".join(docs_with_good[doc_index][good_index-10:good_index+10]))"
   ]
  },
  {
   "cell_type": "markdown",
   "metadata": {},
   "source": [
    "## Discriminative Text Classification\n",
    "\n",
    "The independence assumption of the NB model can be a problem, in particular in combination with the maximum *joint* likelihood estimate used to train the model. Consider, for example, the case of reviews of a movie that mention \"pulp fiction\" as a reference or point of comparison. Often these reviews tend to be positive. However, the word \"fiction\" by itself is not really a discriminative feature. Nevertheless, in order to maximise the joint likelihood of the \"pulp fiction\" examples both the probabilities $\\prob(\\text{pulp}|\\text{pos})$ and $\\prob(\\text{fiction}|\\text{pos})$ will be increased (i.e., they receive more counts). We can see this in our trained unigram model where both \"fiction\" and \"pulp\" are positive features. "
   ]
  },
  {
   "cell_type": "code",
   "execution_count": 53,
   "metadata": {
    "collapsed": false
   },
   "outputs": [
    {
     "data": {
      "text/plain": [
       "(0.6515558311767782, 0.9213366932993186)"
      ]
     },
     "execution_count": 53,
     "metadata": {},
     "output_type": "execute_result"
    }
   ],
   "source": [
    "fiction_score = log(alpha['fiction','pos']) - log(alpha['fiction','neg'])\n",
    "pulp_score = log(alpha['pulp','pos']) - log(alpha['pulp','neg'])\n",
    "fiction_score, pulp_score"
   ]
  },
  {
   "cell_type": "markdown",
   "metadata": {},
   "source": [
    "If the model can capture dependencies it would only increase $\\prob(\\text{pulp fiction}|\\text{pos})$ and hence avoid this problem. The bigram model does this to some extent, but at the cost of more parameters and potentially worse generalisation, and without addressing the same problem between non-consecutive words in the text. \n",
    "\n",
    "One way to address this over-counting of correlated but non-discriminative features would be to down-weigh them whenever they appear in instances of the opposite class. For example, we should give less weight to $\\prob(\\text{fiction}|\\text{pos})$ whenever we see \"fiction\" in a negative document. The joint likelihood does not  \n",
    "lead to this penalty, as $\\prob(\\x_i,y_i)=\\prob(\\x_i|y_i) \\prob(y_i)$ for a given instance $i$ does not involve $\\prob(\\x_i|\\text{not }y_i)$. However, there is an intuitive alternative objective that does so, the *conditional* (log-)likelhood (CL) of the data:\n",
    "\n",
    "$$\n",
    "\\mathit{CL}(\\train) = \\sum_{(\\x,y) \\in \\train} \\log(\\prob_\\params(y|\\x)) = \\sum_{(\\x,y) \\in \\train} \\log\\left(\\frac{\\prob_\\params(y,\\x)}{\\sum_y \\prob_\\params(y,\\x)}\\right)\n",
    "$$\n",
    "\n",
    "The CL objective can be increased both by assigning more probability to the training instance (as before in the joint objective), but also by assigning less probability to the other classes in sum of the denominator. It could hence down-weigh $\\prob(\\text{fiction}|\\text{pos})$ whenever \"fiction\" is seen in a negative review.  \n",
    "\n",
    "The CL objective also makes sense from another point of view: you should always train to optimise the actual prediction rule. In the case of classification we are looking for the class $y$ with highest *a posteriori* probability $\\prob(y|\\x)$, and this is precisely the quantity the CL is encouraging to be large for each training instance.   "
   ]
  },
  {
   "cell_type": "markdown",
   "metadata": {},
   "source": [
    "## Log-Linear Models\n",
    "Before we discuss how to train classifiers using the CL objective we will introduce a *log-linear* representation for probabilistic models. This representation simplifies the math and enables a richer set of models later on. \n",
    "\n",
    "In log-linear form the joint NB distribution \\\\(p^{\\text{NB}}_{\\params}(\\x,y)\\\\) can be written as:  \n",
    "\n",
    "\\begin{equation}\n",
    "  p^{\\text{NB}}_{\\params}(\\x,y)= \\exp \\left( \\sum_{i \\in \\mathcal{I}} f_i(x) w_{y,i} \\right) = \\exp \\langle \\mathbf{f}(\\x), \\mathbf{w}_y \\rangle \n",
    "\\end{equation}\n",
    "\n",
    "Likewise, the conditional probability has the form:\n",
    "\n",
    "\\begin{equation}\n",
    "  p^{\\text{NB}}_{\\params}(y|\\x)= \\frac{1}{Z_\\x} \\exp \\langle \\mathbf{f}(\\x), \\mathbf{w}_y \\rangle \n",
    "\\end{equation}\n",
    "\n",
    "where $Z_\\x=\\sum_{y\\in\\Ys} \\exp \\langle \\mathbf{f}(\\x), \\mathbf{w}_y \\rangle$ is the *partition function*.\n",
    "\n",
    "\n",
    "\n",
    "Here the \\\\(f_i\\\\) are so called *feature functions*. The index set \\\\(\\mathcal{I}\\\\) contains an index for the *bias* feature $f_0$ and one for each word $x$ in the vocabulary. The corresponding feature functions are defined as follows:\n",
    "\n",
    "\\begin{split}\n",
    "  f_{0}(\\x) & = 1  \\\\\\\\\n",
    "  f_{x'}(\\x) & = \\sum_i^{\\text{length}(\\x)} \\delta(x',x_i) \n",
    "\\end{split}\n",
    "\n",
    "In words, the first feature function \\\\(f_0\\\\) always returns 1 and hence serves as a *bias* feature. The second feature function returns the number of times the word \\\\(x'\\\\) appears in \\\\(\\x\\\\).\n",
    "\n",
    "If one now sets the weights according to\n",
    "\n",
    "\\begin{split}\n",
    "  w_{y'} & = \\log \\beta_{y'}\\\\\\\\\n",
    "  w_{x',y'} & = \\log \\alpha_{x',y'}\n",
    "\\end{split}\n",
    "\n",
    "it is easy to show that \\\\(\\ref{eq-loglinear}\\\\) is equivalent to the original NB formulation in equation \\\\(\\ref{eq:NB}\\\\). "
   ]
  },
  {
   "cell_type": "markdown",
   "metadata": {},
   "source": [
    "## Optimising the Conditional Loglikelihood\n",
    "In contrast to the [joint loglikelihood objective](mle.ipynb) the conditional loglikelihood has no closed form solution. Instead the solution has to be found using iterative methods. Most commonly this is achieved through gradient algorithms such as L-BFGS or Stochastic Gradient Descent. \n",
    "\n",
    "In practice you will optimise the CL (and other training objectives) in one of three (four?) ways:\n",
    "* You have to implement both optimisation code and gradient calculation.\n",
    "* You have an off-the-shelf gradient descent library that calls your client code to ask for the gradient of the objective at the current parameters. (Example: factorie?)\n",
    "* You have a back-propagation framework (such as Tensorflow) that requires you to declare the training objective *declaratively* and then provides gradients automatically\n",
    "* You have a library (such as scikit-learn) for a specific model class that provides tailor-made and built-in gradients and optimisation methods.\n",
    "\n",
    "Here we will consider the third case and work with a classifier toolkit that optimises the CL. However, in other chapters we will optimise the CL (and other variants of training objectives) using some of the other approaches. \n",
    "\n",
    "<!--\n",
    "\n",
    "To prepare for these cases, and to give a better intuition for CL objective, it is useful to understand the CL gradient:\n",
    "\n",
    "TODO: Adapt to non-joint feature maps.\n",
    "\\begin{split}\n",
    "  \\nabla_{y'} CL(\\params) =  \\sum_{(\\x,y) \\in \\train} \\mathbf{f}(\\x) \\delta(y,y') - p_\\params(y'|\\x) \\mathbf{f}(\\x) \n",
    "\\end{split}\n",
    "-->"
   ]
  },
  {
   "cell_type": "markdown",
   "metadata": {},
   "source": [
    "## Logistic Regression Toolkits\n",
    "A log-linear model trained by maximising the CL in fact corresponds to a *logistic regression* with maximum-likelihood estimation, as well as the so called *maximum entropy* approach. This means that we can use tools branded as logistic regression or maximum entropy software to train CL optimised models.  \n",
    "\n",
    "Here we use the [logistic regression](http://scikit-learn.org/stable/modules/generated/sklearn.linear_model.LogisticRegression.html) implementation of [scikit-learn](http://scikit-learn.org/stable/index.html). As it is common with such libraries, we have to first convert our data into a vector form. That is, every $\\x \\in \\Xs$ should be converted to a (sparse) feature vector $\\mathbf{f}(\\x)$, and every $y\\in\\Ys$ to a real number. `scikit-learn` comes with build-in support for this type of conversion, for example in the form of the `DictVectorizer` for inputs $\\x$ and the `LabelEncoder` for labels $y$."
   ]
  },
  {
   "cell_type": "code",
   "execution_count": 18,
   "metadata": {
    "collapsed": false
   },
   "outputs": [
    {
     "data": {
      "text/plain": [
       "LogisticRegression(C=0.1, class_weight=None, dual=False, fit_intercept=True,\n",
       "          intercept_scaling=1, max_iter=100, multi_class='ovr', n_jobs=1,\n",
       "          penalty='l2', random_state=None, solver='liblinear', tol=0.0001,\n",
       "          verbose=0, warm_start=False)"
      ]
     },
     "execution_count": 18,
     "metadata": {},
     "output_type": "execute_result"
    }
   ],
   "source": [
    "from sklearn.linear_model import LogisticRegression\n",
    "import numpy as np\n",
    "from collections import defaultdict\n",
    "\n",
    "def to_dict(x):\n",
    "    result = defaultdict(float)\n",
    "    for w in x:\n",
    "        result[w] += 1.0\n",
    "    return result\n",
    "\n",
    "from sklearn.feature_extraction import DictVectorizer\n",
    "from sklearn.preprocessing import LabelEncoder\n",
    "label_encoder = LabelEncoder()\n",
    "vectorizer = DictVectorizer()\n",
    "train_X = vectorizer.fit_transform([to_dict(x) for x,_ in train_filtered])\n",
    "train_Y = label_encoder.fit_transform([y for _,y in train_filtered])\n",
    "dev_X = vectorizer.transform([to_dict(x) for x,_ in dev_filtered])\n",
    "dev_Y = label_encoder.transform([y for _,y in dev_filtered])\n",
    "\n",
    "lr = LogisticRegression(C=0.1)\n",
    "lr.fit(train_X, train_Y)"
   ]
  },
  {
   "cell_type": "code",
   "execution_count": 19,
   "metadata": {
    "collapsed": false
   },
   "outputs": [
    {
     "data": {
      "image/png": "[encoded data removed]",
      "text/plain": [
       "<matplotlib.figure.Figure at 0x7f6a4797d6a0>"
      ]
     },
     "metadata": {},
     "output_type": "display_data"
    }
   ],
   "source": [
    "# Exercise: why is there only one coefficient vector\n",
    "# lr.predict_proba(train_X[10])\n",
    "weights = vectorizer.inverse_transform(lr.coef_)[0]\n",
    "sorted_weights = sorted(weights.items(), key=lambda t: t[1])\n",
    "util.plot_bar_graph([w for _,w in sorted_weights[:20]],\n",
    "                    [f for f,_ in sorted_weights[:20]],rotation=45)"
   ]
  },
  {
   "cell_type": "code",
   "execution_count": 20,
   "metadata": {
    "collapsed": false
   },
   "outputs": [
    {
     "data": {
      "image/png": "[encoded data removed]",
      "text/plain": [
       "<matplotlib.figure.Figure at 0x7f6a499b2978>"
      ]
     },
     "metadata": {},
     "output_type": "display_data"
    }
   ],
   "source": [
    "util.plot_bar_graph([w for _,w in sorted_weights[-20:]],\n",
    "                    [f for f,_ in sorted_weights[-20:]],rotation=45)"
   ]
  },
  {
   "cell_type": "code",
   "execution_count": 21,
   "metadata": {
    "collapsed": false
   },
   "outputs": [
    {
     "data": {
      "text/plain": [
       "0.835"
      ]
     },
     "execution_count": 21,
     "metadata": {},
     "output_type": "execute_result"
    }
   ],
   "source": [
    "lr_guess = label_encoder.inverse_transform(lr.predict(dev_X))\n",
    "accuracy(dev_filtered, lr_guess)"
   ]
  },
  {
   "cell_type": "markdown",
   "metadata": {},
   "source": [
    "## Background Material\n",
    "* [Tackling the Poor Assumptions of Naive Bayes Text Classifiers](https://people.csail.mit.edu/jrennie/papers/icml03-nb.pdf), Rennie et al, ICML 2003 \n",
    "* [Simple Sentiment Classification](http://nlp.stanford.edu/pubs/sidaw12_simple_sentiment.pdf) ???"
   ]
  }
 ],
 "metadata": {
  "kernelspec": {
   "display_name": "Python 3",
   "language": "python",
   "name": "python3"
  },
  "language_info": {
   "codemirror_mode": {
    "name": "ipython",
    "version": 3
   },
   "file_extension": ".py",
   "mimetype": "text/x-python",
   "name": "python",
   "nbconvert_exporter": "python",
   "pygments_lexer": "ipython3",
   "version": "3.5.2"
  }
 },
 "nbformat": 4,
 "nbformat_minor": 0
}
