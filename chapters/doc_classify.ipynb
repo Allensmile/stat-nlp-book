{
 "cells": [
  {
   "cell_type": "code",
   "execution_count": 1,
   "metadata": {
    "collapsed": true
   },
   "outputs": [],
   "source": [
    "%%capture\n",
    "%load_ext autoreload\n",
    "%autoreload 2\n",
    "%matplotlib inline\n",
    "# %cd .. \n",
    "import sys\n",
    "sys.path.append(\"..\")\n",
    "import statnlpbook.util as util"
   ]
  },
  {
   "cell_type": "markdown",
   "metadata": {},
   "source": [
    "<!---\n",
    "Latex Macros\n",
    "-->\n",
    "$$\n",
    "\\newcommand{\\Xs}{\\mathcal{X}}\n",
    "\\newcommand{\\Ys}{\\mathcal{Y}}\n",
    "\\newcommand{\\y}{\\mathbf{y}}\n",
    "\\newcommand{\\balpha}{\\boldsymbol{\\alpha}}\n",
    "\\newcommand{\\bbeta}{\\boldsymbol{\\beta}}\n",
    "\\newcommand{\\aligns}{\\mathbf{a}}\n",
    "\\newcommand{\\align}{a}\n",
    "\\newcommand{\\source}{\\mathbf{s}}\n",
    "\\newcommand{\\target}{\\mathbf{t}}\n",
    "\\newcommand{\\ssource}{s}\n",
    "\\newcommand{\\starget}{t}\n",
    "\\newcommand{\\repr}{\\mathbf{f}}\n",
    "\\newcommand{\\repry}{\\mathbf{g}}\n",
    "\\newcommand{\\x}{\\mathbf{x}}\n",
    "\\newcommand{\\prob}{p}\n",
    "\\newcommand{\\vocab}{V}\n",
    "\\newcommand{\\params}{\\boldsymbol{\\theta}}\n",
    "\\newcommand{\\param}{\\theta}\n",
    "\\DeclareMathOperator{\\perplexity}{PP}\n",
    "\\DeclareMathOperator{\\argmax}{argmax}\n",
    "\\DeclareMathOperator{\\argmin}{argmin}\n",
    "\\newcommand{\\train}{\\mathcal{D}}\n",
    "\\newcommand{\\counts}[2]{\\#_{#1}(#2) }\n",
    "\\newcommand{\\length}[1]{\\text{length}(#1) }\n",
    "\\newcommand{\\indi}{\\mathbb{I}}\n",
    "$$"
   ]
  },
  {
   "cell_type": "markdown",
   "metadata": {},
   "source": [
    "# Text Classification \n",
    "\n",
    "In many applications we need to automatically classify some input text with respect to a set of classes or labels. For example,\n",
    "\n",
    "* for information retrieval it is useful to classify documents into a set of topics, such as \"sport\" or \"business\",\n",
    "* for sentiment analysis we classify tweets into being \"positive\" or \"negative\" and \n",
    "* for Spam Filters we need to distinguish between Ham and Spam.\n",
    "\n",
    "<!-- TODO: Load Web Corpus, 4 Universities, something were Maxent works -->\n",
    "\n",
    "## Text Classification as Structured Prediction\n",
    "We can formalize text classification as the simplest instance of [structured prediction](/template/statnlpbook/02_methods/00_structuredprediction) where the input space \\\\(\\Xs\\\\) are sequences of words, and the output space \\\\(\\Ys\\\\) is a set of labels such as \\\\(\\Ys=\\\\{ \\text{sports},\\text{business}\\\\} \\\\) in document classification or \\\\(\\Ys=\\\\{ \\text{positive},\\text{negative}, \\text{neutral}\\\\} \\\\) in sentiment prediction. On a high level, our goal is to define a model a model \\\\(s_{\\params}(\\x,y)\\\\) that assigns high *scores* to the label \\\\(y\\\\) that fits the text \\\\(\\x\\\\), and lower scores otherwise. The model will be parametrized by \\\\(\\params\\\\), and these parameters we will learn from some training set \\\\(\\train\\\\) of \\\\((\\x,y)\\\\) pairs. When we need to classify a text \\\\(\\x\\\\) we have to solve the trivial (if the number of classes is low) maximization problem $\\argmax_y s_{\\params}(\\x,y)$. \n",
    "\n",
    "<!-- TODO: Show a silly classifier example? --> \n",
    "\n",
    "In the following we will present two typical approaches to text classifiers: Naive Bayes and discriminative linear classifiers. We will also see that both in fact can use the same model structure, and differ only in how model parameters are trained."
   ]
  },
  {
   "cell_type": "markdown",
   "metadata": {},
   "source": [
    "## Sentiment Analysis as Text Classification\n",
    "Before we go on to classification methods let us focus on a specific task: sentiment analysis. We will load data for this task from the [Movie Review dataset](https://www.cs.cornell.edu/people/pabo/movie-review-data/). We will load the data into a very simple format of $(\\x,y)$ Python pairs, where $\\x$ corresponds to the input text document, and $y\\in\\{\\text{pos},\\text{neg}\\}$ to the sentiment label. We notice that the text has already been [tokenized](tokenization.ipynb), and the whitespace is sufficient to determine token boundaries. "
   ]
  },
  {
   "cell_type": "code",
   "execution_count": 138,
   "metadata": {
    "collapsed": false
   },
   "outputs": [
    {
     "data": {
      "text/plain": [
       "(['every', 'now', 'and', 'then', 'a', 'movie', 'comes', 'along', 'from', 'a'],\n",
       " 'pos')"
      ]
     },
     "execution_count": 138,
     "metadata": {},
     "output_type": "execute_result"
    }
   ],
   "source": [
    "from os import listdir\n",
    "from os.path import isfile, join\n",
    "def load_from_dir(directory,label):\n",
    "    result = []\n",
    "    for file in listdir(directory):\n",
    "        with open(directory + file, 'r') as f:\n",
    "            text = f.read()\n",
    "            tokens = [t.strip() for t in text.split()]\n",
    "            result.append((tokens,label))\n",
    "    return result\n",
    "    \n",
    "data = load_from_dir('../data/rt-2k/txt_sentoken/pos/', 'pos') + \\\n",
    "       load_from_dir('../data/rt-2k/txt_sentoken/neg/', 'neg')\n",
    "data[1][0][:10], data[1][1]"
   ]
  },
  {
   "cell_type": "markdown",
   "metadata": {},
   "source": [
    "Next we devide the data into a training, development and test set. The training dataset will be used for estimating parameters of our models. The development set will allow us to test different configurations and optimise hyperparameters (or model choices) without overfitting on the test set. This problem of fitting-the-test-set is quite widespread in ML and NLP research. It has led to impressive F1 scores on certain datasets, but poor generalisation of the findings to other slightly different dataset. We will shuffle the data and then allocate 200 instances to both dev and test set, the remainder to the training set. "
   ]
  },
  {
   "cell_type": "code",
   "execution_count": 139,
   "metadata": {
    "collapsed": false
   },
   "outputs": [
    {
     "data": {
      "text/plain": [
       "795"
      ]
     },
     "execution_count": 139,
     "metadata": {},
     "output_type": "execute_result"
    }
   ],
   "source": [
    "from random import shuffle\n",
    "shuffle(data)\n",
    "train, dev, test = data[:1600], data[1600:1800], data[1800:]\n",
    "len([(x,y) for (x,y) in train if y == 'pos']) # check balance"
   ]
  },
  {
   "cell_type": "markdown",
   "metadata": {},
   "source": [
    "## Naive Bayes\n",
    "One of the most widely used approaches to text classification relies on the so-called Naive Bayes (NB) Model. In NB we use a distribution $p^{\\mbox{NB}}_{\\params}$ for $s_\\params$. In particular, we use the *a posteriori* probability of a label \\\\(y\\\\) given the input text \\\\(\\x\\\\) as a score for that label given the text.   \n",
    "\n",
    "\\begin{equation}\n",
    "  s_{\\params}(\\x,\\y)\\ = p^{\\text{NB}}_{\\params}(y|\\x)\n",
    "\\end{equation}\n",
    "\n",
    "By Bayes Law we get\n",
    "\n",
    "\\begin{equation}\n",
    "    p^{\\text{NB}}_{\\params}(y|\\x) =\n",
    "  \\frac{p^{\\text{NB}}_{\\params}(\\x|y) p^\\text{NB}_{\\params}(y)}{p^{\\text{NB}}_{\\params}(x)}  \n",
    "\\end{equation}\n",
    "\n",
    "and when an input \\\\(\\x\\\\) is fixed we can focus on \n",
    "\n",
    "\\begin{equation}\\label{eq:NB}\n",
    "\\prob^{\\text{NB}}_{\\params}(\\x,y)= p^{\\text{NB}}_{\\params}(\\x|y) p^\\text{NB}_{\\params}(y)\n",
    "\\end{equation}\n",
    "\n",
    "because in this case  $p^{\\text{NB}}_{\\params}(x)$ is a constant factor. In the above $p^{\\text{NB}}_{\\params}(\\x|y)$ is the *likelihood*, and \\\\(p^\\text{NB}_{\\params}(y) \\\\) is the *prior*.\n",
    "\n",
    "<!--Let us assume that we have a number \\\\(K(\\x)\\\\) of feature functions \\\\(f_k(\\x)\\\\) that represent the input \\\\(\\x\\\\). For example, in document classification this set could be used to represent the text \\\\(\\x = (x_1,\\ldots,x_n)\\\\) as a bag of words by setting \\\\(f_k(\\x) = x_k\\\\) and \\\\(K(\\x) = n\\\\). We could also use bigrams instead, setting \\\\(f_k(\\x) = (x_k,x_{k+1})\\\\) and \\\\(K(\\x) = n-1\\\\), or any other representation that is effective for distinguishing between classes of text.-->\n",
    "\n",
    "The \"naivity\" of NB stems from a certain conditional independence assumption we make for the likelihood \\\\(p^{\\mbox{NB}}_{\\params}(\\x|y)\\\\). Note that conditional independence of two events \\\\(a\\\\) and \\\\(b\\\\) given a third event \\\\(c\\\\) requires that \\\\(p(a,b|c) = p(a|c) p(b|c)\\\\). In particular, for the likelihood in NB we have:\n",
    "\n",
    "\\begin{equation}\n",
    "  p^{\\text{NB}}_{\\params}(\\x|y) = \n",
    "  \\prod_i^{\\text{length}(\\x)} p^{\\text{NB}}_{\\params}(x_i|y)\n",
    "\\end{equation}\n",
    "\n",
    "That is, NB makes the assumption that the observed wors are independent of each other when *conditioned on the label* \\\\(y\\\\). \n",
    "\n",
    "### Parametrization\n",
    "The NB model has the parameters \\\\(\\params=(\\balpha,\\bbeta)\\\\) where \n",
    "\n",
    "\\begin{split}\n",
    "  p^{\\text{NB}}_{\\params}(f|y) & = \\alpha_{f,y} \\\\\\\\\n",
    "  p^{\\text{NB}}_{\\params}(y) & = \\beta_{y}.\n",
    "\\end{split}\n",
    "\n",
    "That is, \\\\(\\balpha\\\\) captures the per-class feature weights, and \\\\(\\bbeta\\\\) the class priors. \n",
    "\n",
    "### Training the Naive Bayes Model\n",
    "\n",
    "The NB model again can be trained using Maximum Likelihood estimation. This amounts to setting \n",
    "\n",
    "\\begin{split}\n",
    "  \\alpha_{x,y} & = \\frac{\\counts{\\train}{x,y}}{\\counts{\\train}{y}}\\\\\\\\\n",
    "  \\beta_{y} & = \\frac{\\counts{\\train}{y}}{\\left| \\train \\right|}\n",
    "\\end{split}\n",
    "\n",
    "\n",
    "Let us implement the MLE training algorithm for an NB model in Python:"
   ]
  },
  {
   "cell_type": "code",
   "execution_count": 205,
   "metadata": {
    "collapsed": true
   },
   "outputs": [],
   "source": [
    "from collections import defaultdict\n",
    "def train_nb(data):\n",
    "    alpha = defaultdict(float)\n",
    "    beta = defaultdict(float)\n",
    "    norm = 0\n",
    "    for x,y in data:\n",
    "        for w in x:\n",
    "            beta[y] += 1.0\n",
    "            alpha[w,y] += 1\n",
    "            norm += 1\n",
    "    for (w,y) in list(alpha.keys()):\n",
    "        alpha[w,y] = alpha[w,y] / beta[y]\n",
    "    for y in list(beta.keys()):\n",
    "        beta[y] = beta[y] / norm\n",
    "    return (alpha, beta)\n",
    "    \n",
    "theta = (alpha, beta) = train_nb(train)"
   ]
  },
  {
   "cell_type": "markdown",
   "metadata": {},
   "source": [
    "It is useful to inspect the learned parameters of the NB model, in particular because they are easy to interpret. The class prior looks sensible:"
   ]
  },
  {
   "cell_type": "code",
   "execution_count": 141,
   "metadata": {
    "collapsed": false
   },
   "outputs": [
    {
     "data": {
      "text/plain": [
       "defaultdict(float, {'neg': 0.4746759049321134, 'pos': 0.5253240950678866})"
      ]
     },
     "execution_count": 141,
     "metadata": {},
     "output_type": "execute_result"
    }
   ],
   "source": [
    "beta"
   ]
  },
  {
   "cell_type": "markdown",
   "metadata": {},
   "source": [
    "Let us look at the $\\balpha$ parameters that correspond to the probability of generating a word given a class."
   ]
  },
  {
   "cell_type": "code",
   "execution_count": 142,
   "metadata": {
    "collapsed": false
   },
   "outputs": [
    {
     "data": {
      "image/png": "[encoded data removed]",
      "text/plain": [
       "<matplotlib.figure.Figure at 0x11342e940>"
      ]
     },
     "metadata": {},
     "output_type": "display_data"
    }
   ],
   "source": [
    "def plot_top_k(alpha, label='pos', k=10):\n",
    "    positive_words = [w for (w,y) in alpha.keys() if y == label]\n",
    "    sorted_positive_words = sorted(positive_words, key=lambda w:-alpha[w,label])[:k]\n",
    "    util.plot_bar_graph([alpha[w,label] for w in sorted_positive_words],sorted_positive_words,rotation=45)\n",
    "plot_top_k(alpha)"
   ]
  },
  {
   "cell_type": "markdown",
   "metadata": {},
   "source": [
    "This is actually fairly uninformative. What we see are words that appear with high probability in positive documents. Clearly *any* document will contain these words with high probability, and so they don't serve well to discriminate between document classes. It make sense to remove such words apriori, using a so-called *stop-word* list.  "
   ]
  },
  {
   "cell_type": "code",
   "execution_count": 245,
   "metadata": {
    "collapsed": false
   },
   "outputs": [
    {
     "data": {
      "image/png": "[encoded data removed]",
      "text/plain": [
       "<matplotlib.figure.Figure at 0x113dfce10>"
      ]
     },
     "metadata": {},
     "output_type": "display_data"
    }
   ],
   "source": [
    "import string\n",
    "\n",
    "stop_words = set(['i', 'me', 'my', 'myself', 'we', 'our', 'ours', 'ourselves', 'you', 'your', 'yours',\n",
    "'yourself', 'yourselves', 'he', 'him', 'his', 'himself', 'she', 'her', 'hers',\n",
    "'herself', 'it', 'its', 'itself', 'they', 'them', 'their', 'theirs', 'themselves',\n",
    "'what', 'which', 'who', 'whom', 'this', 'that', 'these', 'those', 'am', 'is', 'are',\n",
    "'was', 'were', 'be', 'been', 'being', 'have', 'has', 'had', 'having', 'do', 'does',\n",
    "'did', 'doing', 'a', 'an', 'the', 'and', 'but', 'if', 'or', 'because', 'as', 'until',\n",
    "'while', 'of', 'at', 'by', 'for', 'with', 'about', 'against', 'between', 'into',\n",
    "'through', 'during', 'before', 'after', 'above', 'below', 'to', 'from', 'up', 'down',\n",
    "'in', 'out', 'on', 'off', 'over', 'under', 'again', 'further', 'then', 'once', 'here',\n",
    "'there', 'when', 'where', 'why', 'how', 'all', 'any', 'both', 'each', 'few', 'more',\n",
    "'most', 'other', 'some', 'such', 'no', 'nor', 'not', 'only', 'own', 'same', 'so',\n",
    "'than', 'too', 'very', 's', 't', 'can', 'will', 'just', 'don', 'should', 'now', '\\n', 'the'] + list(string.punctuation))\n",
    "\n",
    "def filter_dataset(data):\n",
    "    return [([w for w in x if w not in stop_words],y) for x,y in data]\n",
    "\n",
    "train_filtered = filter_dataset(train)\n",
    "dev_filtered = filter_dataset(dev)\n",
    "test_filtered = filter_dataset(test)\n",
    "\n",
    "theta_filtered = (alpha, beta) = train_nb(train_filtered)\n",
    "plot_top_k(alpha,k=20)"
   ]
  },
  {
   "cell_type": "markdown",
   "metadata": {},
   "source": [
    "At this point we see some words that may indicate positive movie reviews (\"good\", \"like\"), but also words that are generally likely to appear in movie reviews, regardless of the review's sentiment. Let us also look at the conditional probabilities for negative sentiment:"
   ]
  },
  {
   "cell_type": "code",
   "execution_count": 197,
   "metadata": {
    "collapsed": false
   },
   "outputs": [
    {
     "data": {
      "image/png": "[encoded data removed]",
      "text/plain": [
       "<matplotlib.figure.Figure at 0x11522a2e8>"
      ]
     },
     "metadata": {},
     "output_type": "display_data"
    }
   ],
   "source": [
    "plot_top_k(alpha,'neg', 20)"
   ]
  },
  {
   "cell_type": "markdown",
   "metadata": {},
   "source": [
    "Interestingly the negative reviews look fairly similar when considering the head of the distribution, and even mention \"good\" just as much as the positive reviews. Notably \"bad\" appears with high probability only in the negative reviews. Let's look at some occurences of \"good\" in negative reviews to check whether this actually makes sense.  "
   ]
  },
  {
   "cell_type": "code",
   "execution_count": 198,
   "metadata": {
    "collapsed": false
   },
   "outputs": [
    {
     "data": {
      "text/plain": [
       "['audience',\n",
       " 'rather',\n",
       " 'genuine',\n",
       " 'fear',\n",
       " 'pretty',\n",
       " 'good',\n",
       " 'sign',\n",
       " \"you're\",\n",
       " 'watching',\n",
       " 'thriller']"
      ]
     },
     "execution_count": 198,
     "metadata": {},
     "output_type": "execute_result"
    }
   ],
   "source": [
    "docs_with_good = [x for x,y in train_filtered if 'good' in x and y=='neg']\n",
    "good_index = docs_with_good[1].index(\"good\")\n",
    "docs_with_good[1][good_index-5:good_index+5]"
   ]
  },
  {
   "cell_type": "markdown",
   "metadata": {},
   "source": [
    "Generally, looking at the most likely words in each class is not that helpful in order to understand the NB classification model, as discriminative features or words may be rare when compared to general words in the domain (such as \"film\", \"movie\", \"story\" in movie reviews). We can instead look at probability *ratios* or *differences*: which words have much higher probability in one class than the other.   "
   ]
  },
  {
   "cell_type": "code",
   "execution_count": 199,
   "metadata": {
    "collapsed": false
   },
   "outputs": [
    {
     "data": {
      "image/png": "[encoded data removed]",
      "text/plain": [
       "<matplotlib.figure.Figure at 0x1174ce278>"
      ]
     },
     "metadata": {},
     "output_type": "display_data"
    }
   ],
   "source": [
    "def diff(alpha, w):\n",
    "    return alpha[w,'pos'] - alpha[w,'neg'] \n",
    "frequent_words = {w for ((w,y),p) in alpha.items() if p > 0.0001}\n",
    "sorted_by_ratio = sorted(frequent_words, key=lambda w: -diff(alpha, w))[-20:]\n",
    "util.plot_bar_graph([diff(alpha,w) for w in sorted_by_ratio],sorted_by_ratio,rotation=45)"
   ]
  },
  {
   "cell_type": "markdown",
   "metadata": {},
   "source": [
    "Many of these words seem to match our intuition for negative reviews."
   ]
  },
  {
   "cell_type": "markdown",
   "metadata": {},
   "source": [
    "###  Naive Bayes Prediction\n",
    "Given a trained NB model, how do we predict the class of a given text? As we have done in [MT](word_mt.ipynb) and [parsing](word_mt.ipynb), we search for the $y\\in\\Ys$ with maximum *a posteriori* probability:\n",
    "\n",
    "$$\n",
    "\\argmax_{y\\in\\Ys} \\prob_\\params(y|\\x) =  \\argmax_{y\\in\\Ys} \\frac{\\prob(\\x|y) \\prob(y) }{ \\prob(\\x) } = \\argmax_{y\\in\\Ys} \\prob(\\x|y) \\prob(y) \n",
    "$$\n",
    "where the last equation follows from the fact that $\\prob(\\x)$ is constant for each $y$ we plug in.\n",
    "\n",
    "In python we implement this decoder in two steps. First we introduce a function that returns $\\prob(\\x|y) \\prob(y)$, then we search for the label with the highest return value of this function. "
   ]
  },
  {
   "cell_type": "code",
   "execution_count": 246,
   "metadata": {
    "collapsed": false
   },
   "outputs": [
    {
     "data": {
      "text/plain": [
       "('pos', 'pos')"
      ]
     },
     "execution_count": 246,
     "metadata": {},
     "output_type": "execute_result"
    }
   ],
   "source": [
    "from math import log, exp\n",
    "eps = 0.00000001\n",
    "def log_prob_nb(theta, x, y):\n",
    "    alpha, beta = theta\n",
    "    result = util.safe_log(beta[y])\n",
    "    for w in x:\n",
    "        result += util.safe_log(alpha[w,y] + 0.0000001)\n",
    "    return result\n",
    "\n",
    "def predict_nb(theta, x):\n",
    "    if log_prob_nb(theta, x, 'pos') > log_prob_nb(theta, x, 'neg'):\n",
    "        return 'pos'\n",
    "    else:\n",
    "        return 'neg'\n",
    "\n",
    "i = 5\n",
    "predict_nb(theta_filtered,train_filtered[i][0]), train_filtered[i][1]"
   ]
  },
  {
   "cell_type": "markdown",
   "metadata": {},
   "source": [
    "## Evaluation\n",
    "We can evaluate a classification model by measuring its *accuracy*, the ratio of the number of correct predictions and the number of instances. "
   ]
  },
  {
   "cell_type": "code",
   "execution_count": 250,
   "metadata": {
    "collapsed": false
   },
   "outputs": [
    {
     "data": {
      "text/plain": [
       "(0.998125, 0.74)"
      ]
     },
     "execution_count": 250,
     "metadata": {},
     "output_type": "execute_result"
    }
   ],
   "source": [
    "def accuracy(theta, data):\n",
    "    correct = 0\n",
    "    for x,y in data:\n",
    "        y_guess = predict_nb(theta, x)\n",
    "        if y_guess == y:\n",
    "            correct += 1\n",
    "    return correct / len(data)\n",
    "\n",
    "accuracy(theta_filtered, train_filtered), accuracy(theta, dev_filtered)  "
   ]
  },
  {
   "cell_type": "markdown",
   "metadata": {},
   "source": [
    "Notice that we can do a bit better by counting each word in the document only once."
   ]
  },
  {
   "cell_type": "code",
   "execution_count": 249,
   "metadata": {
    "collapsed": false
   },
   "outputs": [
    {
     "data": {
      "text/plain": [
       "0.75"
      ]
     },
     "execution_count": 249,
     "metadata": {},
     "output_type": "execute_result"
    }
   ],
   "source": [
    "def binarize_dataset(data):\n",
    "    return [(set(x),y) for x,y in data]\n",
    "\n",
    "train_binary = binarize_dataset(train_filtered)\n",
    "dev_binary = binarize_dataset(dev_filtered)\n",
    "test_binary = binarize_dataset(test_filtered)\n",
    "\n",
    "theta_binary = train_nb(train_binary)\n",
    "accuracy(theta_binary, dev_binary) "
   ]
  }
 ],
 "metadata": {
  "kernelspec": {
   "display_name": "Python 3",
   "language": "python",
   "name": "python3"
  },
  "language_info": {
   "codemirror_mode": {
    "name": "ipython",
    "version": 3
   },
   "file_extension": ".py",
   "mimetype": "text/x-python",
   "name": "python",
   "nbconvert_exporter": "python",
   "pygments_lexer": "ipython3",
   "version": "3.5.1"
  }
 },
 "nbformat": 4,
 "nbformat_minor": 0
}
