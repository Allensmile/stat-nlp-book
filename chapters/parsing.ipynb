{
 "cells": [
  {
   "cell_type": "markdown",
   "metadata": {},
   "source": [
    "# Parsing \n",
    "\n",
    "Note that this chapter is heavily influenced by the structure and content of [Mike Collins' PCFG lecture](http://www.cs.columbia.edu/~mcollins/courses/nlp2011/notes/pcfgs.pdf). \n",
    "\n",
    "In many NLP applications it is useful to understand the syntactic structure of a sentence: where are the verbs, what are the subject and object of the verbs, which phrases form coherent sub-structures of the sentence? Understanding this enables the machine to more effectively translate from Japanese to English, or to understand the query [\"who is the president of the united state\"](https://www.google.co.uk/search?q=who+is+the+president+of+the+united+state&oq=who+is+the+president+of+the+united+state&aqs=chrome..69i57j0l5.252j0j4&sourceid=chrome&es_sm=119&ie=UTF-8) and execute it against a database. \n",
    "\n",
    "In linguistics these questions are asked in the field of **syntax**, from the Greek syntaxis (arrangement). There are three core concepts:\n",
    "\n",
    "* **Constituency**: groups of words act as single units.\n",
    "* **Grammatical Relations**: object, subject, direct object etc. \n",
    "* **Subcategorization**: restrictions on the type of phrases that go with certain words.\n",
    "\n",
    "## Context Free Grammars\n",
    "A common approach to capture constituency, grammatical relations and subcategorization is based on [Context Free Grammars](https://www.cs.rochester.edu/~nelson/courses/csc_173/grammars/cfg.html) (CFGs). On a high level, these grammars assume that legal sentences can be derived by repeatedly and _independently_ expanding abstract symbols (such as \"NounPhrase\" or \"Adjective\") into more concrete sequences of symbols (such as \"Adjective Noun\" or \"green\") until each symbol is a concrete word. \n",
    "\n",
    "More formally, a CFG is a 4-tuple \\\\(G=(N,\\Sigma,R,S)\\\\) where\n",
    "\n",
    "  * \\\\(N\\\\) is a set of _non-terminal symbols_.\n",
    "  * \\\\(\\Sigma\\\\) is a set of _terminal symbols_.\n",
    "  * \\\\(R\\\\) is a finite set of _rules_ \\\\(X \\rightarrow Y_1 Y_2\\ldots Y_n\\\\) where \\\\(X \\in N\\\\) and \\\\(Y_i \\in N \\cup \\Sigma\\\\). \n",
    "  * \\\\(S \\in N\\\\) is a _start symbol_. \n",
    "\n",
    "Before we show examples, let us define a Python data structure for CFGs."
   ]
  },
  {
   "cell_type": "code",
   "execution_count": 18,
   "metadata": {
    "collapsed": false
   },
   "outputs": [
    {
     "data": {
      "text/html": [
       "<table><tr><td>S</td><td>NP VP</td></tr><tr><td>NP</td><td>DT Nom</td></tr></table>"
      ],
      "text/plain": [
       "<__main__.CFG at 0x10b2fc588>"
      ]
     },
     "execution_count": 18,
     "metadata": {},
     "output_type": "execute_result"
    }
   ],
   "source": [
    "class CFG:\n",
    "    def __init__(self, n, sigma, r, s):\n",
    "        self.n = n\n",
    "        self.sigma = sigma\n",
    "        self.r = r\n",
    "        self.s = s\n",
    "    \n",
    "    @classmethod\n",
    "    def from_rules(cls, rules, s='S'):\n",
    "        non_terminals = {rule[0] for rule in rules}\n",
    "        left_hand_sides = {node for rule in rules for node in rule[1]}\n",
    "        terminals = {n for n in left_hand_sides if n not in non_terminals}\n",
    "        return cls(non_terminals, terminals, rules, s)\n",
    "    \n",
    "    def _repr_html_(self):\n",
    "        rules = [\"<tr><td>{}</td><td>{}</td></tr>\".format(rule[0],\" \".join(rule[1])) for rule in self.r]\n",
    "        return \"<table>{}</table>\".format(\"\".join(rules))"
   ]
  },
  {
   "cell_type": "markdown",
   "metadata": {},
   "source": [
    "Let us now create an example CFG."
   ]
  },
  {
   "cell_type": "code",
   "execution_count": 21,
   "metadata": {
    "collapsed": false
   },
   "outputs": [
    {
     "data": {
      "text/html": [
       "<table><tr><td>S</td><td>NP_p VP_p</td></tr><tr><td>S</td><td>NP_s VP_s</td></tr><tr><td>NP_p</td><td>Matko raps</td></tr><tr><td>VP_p</td><td>are ADJ</td></tr><tr><td>NP_s</td><td>Matko</td></tr><tr><td>VP_s</td><td>raps in StatNLP</td></tr><tr><td>ADJ</td><td>silly</td></tr></table>"
      ],
      "text/plain": [
       "<__main__.CFG at 0x10b314ac8>"
      ]
     },
     "execution_count": 21,
     "metadata": {},
     "output_type": "execute_result"
    }
   ],
   "source": [
    "cfg = CFG.from_rules([('S', ['NP_p','VP_p']),('S',['NP_s','VP_s']), \n",
    "                      ('NP_p', ['Matko', 'raps']),\n",
    "                      ('VP_p', ['are', 'ADJ']),\n",
    "                      ('NP_s', ['Matko']),\n",
    "                      ('VP_s', ['raps', 'in', 'StatNLP']),\n",
    "                      ('ADJ', ['silly'])\n",
    "                     ])\n",
    "\n",
    "cfg"
   ]
  },
  {
   "cell_type": "markdown",
   "metadata": {},
   "source": [
    "## (Left-most) Derivation\n",
    "A left-most derivation given a CFG \\\\(G\\\\) is a sequence of strings \\\\(s_1 \\ldots s_n\\\\) such that \n",
    "\n",
    "* \\\\(s_1 = S\\\\), that is, the first string consists only of the start symbol.\n",
    "* \\\\(s_n \\in \\Sigma^*\\\\), that is, the last string consists of only terminals.\n",
    "* Each \\\\(s_i\\\\) for \\\\(i > 1\\\\) is generated by replacing the left-most non-terminal \\\\(\\alpha\\\\) with the right-hand side of any rule that has \\\\(\\alpha\\\\) as left-hand side. \n",
    "\n",
    "Let us write some code that puts this definition into action and generates random derivations based on a grammar. "
   ]
  },
  {
   "cell_type": "code",
   "execution_count": null,
   "metadata": {
    "collapsed": true
   },
   "outputs": [],
   "source": [
    "import random\n",
    "def generate_deriv(cfg, sentence, results = None):\n",
    "    actual_result = (sentence,) if results is None else results\n",
    "    non_terminals = ((t,i) for i, t in enumerate(sentence) if t in cfg.n)\n",
    "    first_non_terminal, first_index = next(non_terminals, (None, -1))\n",
    "    if first_non_terminal is not None:\n",
    "        relevant_rules = [rule for rule in cfg.r if rule[0] == first_non_terminal]\n",
    "        sampled_rule = random.choice(relevant_rules)\n",
    "        new_sentence = sentence[:first_index] + sampled_rule[1] + sentence[first_index+1:]\n",
    "        return generate_deriv(cfg, new_sentence, actual_result + (new_sentence,))\n",
    "    else:\n",
    "        return actual_result"
   ]
  },
  {
   "cell_type": "markdown",
   "metadata": {},
   "source": [
    "Let us generate an example derivation."
   ]
  },
  {
   "cell_type": "code",
   "execution_count": 69,
   "metadata": {
    "collapsed": false
   },
   "outputs": [
    {
     "data": {
      "text/plain": [
       "(['S'],\n",
       " ['NP_s', 'VP_s'],\n",
       " ['Matko', 'VP_s'],\n",
       " ['Matko', 'raps', 'in', 'StatNLP'])"
      ]
     },
     "execution_count": 69,
     "metadata": {},
     "output_type": "execute_result"
    }
   ],
   "source": [
    "generate_deriv(cfg, [cfg.s])"
   ]
  },
  {
   "cell_type": "markdown",
   "metadata": {},
   "source": [
    "## Parse Trees\n",
    "Derivations can be compactly present as trees where each non-leaf node corresponds to an expanded left-hand-side and its children to the rules' right hand side.\n"
   ]
  }
 ],
 "metadata": {
  "kernelspec": {
   "display_name": "Python 3",
   "language": "python",
   "name": "python3"
  },
  "language_info": {
   "codemirror_mode": {
    "name": "ipython",
    "version": 3
   },
   "file_extension": ".py",
   "mimetype": "text/x-python",
   "name": "python",
   "nbconvert_exporter": "python",
   "pygments_lexer": "ipython3",
   "version": "3.5.1"
  }
 },
 "nbformat": 4,
 "nbformat_minor": 0
}
