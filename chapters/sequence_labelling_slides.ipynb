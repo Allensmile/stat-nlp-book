{
 "cells": [
  {
   "cell_type": "code",
   "execution_count": 169,
   "metadata": {
    "collapsed": true,
    "slideshow": {
     "slide_type": "skip"
    }
   },
   "outputs": [],
   "source": [
    "%%capture\n",
    "%load_ext autoreload\n",
    "%autoreload 2\n",
    "%matplotlib inline\n",
    "# %cd .. \n",
    "import sys\n",
    "sys.path.append(\"..\")\n",
    "import statnlpbook.util as util\n",
    "import statnlpbook.sequence as seq\n",
    "import pandas as pd\n",
    "import matplotlib\n",
    "import warnings\n",
    "warnings.filterwarnings('ignore')\n",
    "matplotlib.rcParams['figure.figsize'] = (8.0, 5.0)"
   ]
  },
  {
   "cell_type": "markdown",
   "metadata": {
    "slideshow": {
     "slide_type": "skip"
    }
   },
   "source": [
    "<!---\n",
    "Latex Macros\n",
    "-->\n",
    "$$\n",
    "\\newcommand{\\Xs}{\\mathcal{X}}\n",
    "\\newcommand{\\Ys}{\\mathcal{Y}}\n",
    "\\newcommand{\\y}{\\mathbf{y}}\n",
    "\\newcommand{\\balpha}{\\boldsymbol{\\alpha}}\n",
    "\\newcommand{\\bbeta}{\\boldsymbol{\\beta}}\n",
    "\\newcommand{\\aligns}{\\mathbf{a}}\n",
    "\\newcommand{\\align}{a}\n",
    "\\newcommand{\\source}{\\mathbf{s}}\n",
    "\\newcommand{\\target}{\\mathbf{t}}\n",
    "\\newcommand{\\ssource}{s}\n",
    "\\newcommand{\\starget}{t}\n",
    "\\newcommand{\\repr}{\\mathbf{f}}\n",
    "\\newcommand{\\repry}{\\mathbf{g}}\n",
    "\\newcommand{\\x}{\\mathbf{x}}\n",
    "\\newcommand{\\prob}{p}\n",
    "\\newcommand{\\bar}{\\,|\\,}\n",
    "\\newcommand{\\vocab}{V}\n",
    "\\newcommand{\\params}{\\boldsymbol{\\theta}}\n",
    "\\newcommand{\\param}{\\theta}\n",
    "\\DeclareMathOperator{\\perplexity}{PP}\n",
    "\\DeclareMathOperator{\\argmax}{argmax}\n",
    "\\DeclareMathOperator{\\argmin}{argmin}\n",
    "\\newcommand{\\train}{\\mathcal{D}}\n",
    "\\newcommand{\\counts}[2]{\\#_{#1}(#2) }\n",
    "\\newcommand{\\length}[1]{\\text{length}(#1) }\n",
    "\\newcommand{\\indi}{\\mathbb{I}}\n",
    "$$"
   ]
  },
  {
   "cell_type": "markdown",
   "metadata": {
    "slideshow": {
     "slide_type": "slide"
    }
   },
   "source": [
    "# Sequence Labelling \n",
    "assigns labels to each element in a sequence"
   ]
  },
  {
   "cell_type": "markdown",
   "metadata": {
    "slideshow": {
     "slide_type": "subslide"
    }
   },
   "source": [
    "## Example: PoS tagging\n",
    "\n",
    "assign each token in a sentence its **Part-of-Speech tag**\n",
    "\n",
    "|I | predict | I | won't | win | a | single | game |\n",
    "|-|\n",
    "|O | V | O | V | V | D | A | N |\n",
    "\n"
   ]
  },
  {
   "cell_type": "markdown",
   "metadata": {
    "slideshow": {
     "slide_type": "subslide"
    }
   },
   "source": [
    "## Example: Named Entity Recognition\n",
    "\n",
    "label tokens as beginning (B), inside (I) our outside (O) a **named entity**\n",
    "\n",
    "| Barack | Obama | was |  born | in | Hawaii |\n",
    "|-|\n",
    "| B-PER | I-PER | O |  O | O | B-LOC |\n"
   ]
  },
  {
   "cell_type": "markdown",
   "metadata": {
    "slideshow": {
     "slide_type": "subslide"
    }
   },
   "source": [
    "## Sequence Labelling as Structured Prediction\n",
    "\n",
    "* Input Space $\\Xs$: sequences of items to label\n",
    "* Output Space $\\Ys$: sequences of output labels labels\n",
    "* Model: $s_{\\params}(\\x,\\y)$\n",
    "* Prediction: $\\argmax_\\y s_{\\params}(\\x,\\y)$"
   ]
  },
  {
   "cell_type": "markdown",
   "metadata": {
    "slideshow": {
     "slide_type": "subslide"
    }
   },
   "source": [
    "## Conditional Models\n",
    "model probability distributions over label sequences $\\y$ conditioned on input sequences $\\x$\n",
    "$$\n",
    "s_{\\params}(\\x,\\y) = \\prob_\\params(\\y|\\x)\n",
    "$$ \n",
    "\n",
    "* analog to conditional models of [text classification](doc_classify.ipynb) chapter"
   ]
  },
  {
   "cell_type": "markdown",
   "metadata": {
    "slideshow": {
     "slide_type": "subslide"
    }
   },
   "source": [
    "## Part-of-Speech Tagging as Sequence Labelling\n",
    "Example data: tagging for tweets for the [Tweebank dataset](http://www.cs.cmu.edu/~ark/TweetNLP/#pos) "
   ]
  },
  {
   "cell_type": "code",
   "execution_count": 172,
   "metadata": {
    "collapsed": true,
    "slideshow": {
     "slide_type": "skip"
    }
   },
   "outputs": [],
   "source": [
    "def show_instance(x,y,begin=0,end=-1):\n",
    "    return pd.DataFrame([x[begin:end],y[begin:end]]) "
   ]
  },
  {
   "cell_type": "code",
   "execution_count": 175,
   "metadata": {
    "collapsed": false,
    "slideshow": {
     "slide_type": "subslide"
    }
   },
   "outputs": [
    {
     "data": {
      "text/html": [
       "<div>\n",
       "<table border=\"1\" class=\"dataframe\">\n",
       "  <thead>\n",
       "    <tr style=\"text-align: right;\">\n",
       "      <th></th>\n",
       "      <th>0</th>\n",
       "      <th>1</th>\n",
       "      <th>2</th>\n",
       "      <th>3</th>\n",
       "      <th>4</th>\n",
       "      <th>5</th>\n",
       "      <th>6</th>\n",
       "      <th>7</th>\n",
       "      <th>8</th>\n",
       "      <th>9</th>\n",
       "      <th>10</th>\n",
       "      <th>11</th>\n",
       "    </tr>\n",
       "  </thead>\n",
       "  <tbody>\n",
       "    <tr>\n",
       "      <th>0</th>\n",
       "      <td>I</td>\n",
       "      <td>predict</td>\n",
       "      <td>I</td>\n",
       "      <td>won't</td>\n",
       "      <td>win</td>\n",
       "      <td>a</td>\n",
       "      <td>single</td>\n",
       "      <td>game</td>\n",
       "      <td>I</td>\n",
       "      <td>bet</td>\n",
       "      <td>on</td>\n",
       "      <td>.</td>\n",
       "    </tr>\n",
       "    <tr>\n",
       "      <th>1</th>\n",
       "      <td>O</td>\n",
       "      <td>V</td>\n",
       "      <td>O</td>\n",
       "      <td>V</td>\n",
       "      <td>V</td>\n",
       "      <td>D</td>\n",
       "      <td>A</td>\n",
       "      <td>N</td>\n",
       "      <td>O</td>\n",
       "      <td>V</td>\n",
       "      <td>P</td>\n",
       "      <td>,</td>\n",
       "    </tr>\n",
       "  </tbody>\n",
       "</table>\n",
       "</div>"
      ],
      "text/plain": [
       "  0        1  2      3    4  5       6     7  8    9   10 11\n",
       "0  I  predict  I  won't  win  a  single  game  I  bet  on  .\n",
       "1  O        V  O      V    V  D       A     N  O    V   P  ,"
      ]
     },
     "execution_count": 175,
     "metadata": {},
     "output_type": "execute_result"
    }
   ],
   "source": [
    "train = seq.load_tweebank(\"../data/oct27.splits/oct27.train\")\n",
    "dev = seq.load_tweebank(\"../data/oct27.splits/oct27.dev\")\n",
    "test = seq.load_tweebank(\"../data/oct27.splits/oct27.test\")\n",
    "show_instance(*train[0],0,12)"
   ]
  },
  {
   "cell_type": "markdown",
   "metadata": {},
   "source": [
    "Tags (such as \"O\", \"V\" and \"^\") are described in the [Tweebank annotation guideline](http://www.cs.cmu.edu/~ark/TweetNLP/annot_guidelines.pdf)"
   ]
  },
  {
   "cell_type": "code",
   "execution_count": 4,
   "metadata": {
    "collapsed": true,
    "slideshow": {
     "slide_type": "skip"
    }
   },
   "outputs": [],
   "source": [
    "# count tags here?`xw\n",
    "from collections import defaultdict\n",
    "import pandas as pd\n",
    "examples = {}\n",
    "counts = defaultdict(int)\n",
    "words = defaultdict(set)\n",
    "for x,y in train:\n",
    "    for i in range(0, len(x)):\n",
    "        if y[i] not in examples:\n",
    "            examples[y[i]] = [x[j] + \"/\" + y[j] if i == j else x[j] for j in range(max(i-2,0),min(i+2,len(x)-1))]\n",
    "        counts[y[i]] += 1\n",
    "        words[y[i]].add(x[i])\n",
    "sorted_tags = sorted(counts.items(),key=lambda x:-x[1])\n",
    "sorted_tags_with_examples = [(t,c,len(words[t]),\" \".join(examples[t])) for t,c in sorted_tags]\n",
    "\n",
    "sorted_tags_table = pd.DataFrame(sorted_tags_with_examples, columns=['Tag','Count','Unique Words','Example'])"
   ]
  },
  {
   "cell_type": "code",
   "execution_count": 29,
   "metadata": {
    "collapsed": false,
    "slideshow": {
     "slide_type": "subslide"
    }
   },
   "outputs": [
    {
     "data": {
      "text/html": [
       "<div>\n",
       "<table border=\"1\" class=\"dataframe\">\n",
       "  <thead>\n",
       "    <tr style=\"text-align: right;\">\n",
       "      <th></th>\n",
       "      <th>Tag</th>\n",
       "      <th>Count</th>\n",
       "      <th>Unique Words</th>\n",
       "      <th>Example</th>\n",
       "    </tr>\n",
       "  </thead>\n",
       "  <tbody>\n",
       "    <tr>\n",
       "      <th>0</th>\n",
       "      <td>V</td>\n",
       "      <td>2219</td>\n",
       "      <td>873</td>\n",
       "      <td>I predict/V I</td>\n",
       "    </tr>\n",
       "    <tr>\n",
       "      <th>1</th>\n",
       "      <td>N</td>\n",
       "      <td>2003</td>\n",
       "      <td>1377</td>\n",
       "      <td>a single game/N I</td>\n",
       "    </tr>\n",
       "    <tr>\n",
       "      <th>2</th>\n",
       "      <td>,</td>\n",
       "      <td>1715</td>\n",
       "      <td>84</td>\n",
       "      <td>bet on ./, Got</td>\n",
       "    </tr>\n",
       "    <tr>\n",
       "      <th>3</th>\n",
       "      <td>P</td>\n",
       "      <td>1252</td>\n",
       "      <td>126</td>\n",
       "      <td>I bet on/P .</td>\n",
       "    </tr>\n",
       "    <tr>\n",
       "      <th>4</th>\n",
       "      <td>O</td>\n",
       "      <td>1063</td>\n",
       "      <td>97</td>\n",
       "      <td>I/O predict</td>\n",
       "    </tr>\n",
       "    <tr>\n",
       "      <th>5</th>\n",
       "      <td>^</td>\n",
       "      <td>890</td>\n",
       "      <td>741</td>\n",
       "      <td>. Got Cliff/^ Lee</td>\n",
       "    </tr>\n",
       "    <tr>\n",
       "      <th>6</th>\n",
       "      <td>D</td>\n",
       "      <td>869</td>\n",
       "      <td>68</td>\n",
       "      <td>won't win a/D single</td>\n",
       "    </tr>\n",
       "    <tr>\n",
       "      <th>7</th>\n",
       "      <td>A</td>\n",
       "      <td>755</td>\n",
       "      <td>449</td>\n",
       "      <td>win a single/A game</td>\n",
       "    </tr>\n",
       "    <tr>\n",
       "      <th>8</th>\n",
       "      <td>@</td>\n",
       "      <td>713</td>\n",
       "      <td>694</td>\n",
       "      <td>me RT @e_one/@ :</td>\n",
       "    </tr>\n",
       "    <tr>\n",
       "      <th>9</th>\n",
       "      <td>R</td>\n",
       "      <td>689</td>\n",
       "      <td>217</td>\n",
       "      <td>but I still/R hate</td>\n",
       "    </tr>\n",
       "  </tbody>\n",
       "</table>\n",
       "</div>"
      ],
      "text/plain": [
       "  Tag  Count  Unique Words               Example\n",
       "0   V   2219           873         I predict/V I\n",
       "1   N   2003          1377     a single game/N I\n",
       "2   ,   1715            84        bet on ./, Got\n",
       "3   P   1252           126          I bet on/P .\n",
       "4   O   1063            97           I/O predict\n",
       "5   ^    890           741     . Got Cliff/^ Lee\n",
       "6   D    869            68  won't win a/D single\n",
       "7   A    755           449   win a single/A game\n",
       "8   @    713           694      me RT @e_one/@ :\n",
       "9   R    689           217    but I still/R hate"
      ]
     },
     "execution_count": 29,
     "metadata": {},
     "output_type": "execute_result"
    }
   ],
   "source": [
    "sorted_tags_table[:10]"
   ]
  },
  {
   "cell_type": "markdown",
   "metadata": {
    "slideshow": {
     "slide_type": "slide"
    }
   },
   "source": [
    "## Local Models / Classifiers\n",
    "A **fully factorised** or **local** model:\n",
    "\n",
    "$$\n",
    "p_\\params(\\y|\\x) = \\prod_{i=1}^n p_\\params(y_i|\\x,i)\n",
    "$$\n",
    "\n",
    "* labels are independent of each other\n",
    "* inference in this model is trivial\n",
    "* Compare to [\"Naive Translation Model\"](word_mt.ipynb)"
   ]
  },
  {
   "cell_type": "markdown",
   "metadata": {
    "slideshow": {
     "slide_type": "subslide"
    }
   },
   "source": [
    "### Example\n",
    "\n",
    "$$\n",
    "\\prob_\\params(\\text{\"D A N\"} \\bar \\text{\"a single game\"}) = \\\\\\\\ \\prob_\\params(\\text{\"D\"}\\bar \\text{\"a single game\"},1) \\prob_\\params(\\text{\"A\"} \\bar \\text{\"a single game\"},2) \\ldots\n",
    "$$"
   ]
  },
  {
   "cell_type": "markdown",
   "metadata": {
    "slideshow": {
     "slide_type": "subslide"
    }
   },
   "source": [
    "### Parametrisation\n",
    "\n",
    "**Log-linear classifier** $p_\\params(y\\bar\\x,i)$ to predict class for sentence $\\x$ and position $i$\n",
    "\n",
    "$$\n",
    "  p_\\params(y\\bar\\x,i) = \\frac{1}{Z_\\x} \\exp \\langle \\repr(\\x,i),\\params_y \\rangle\n",
    "$$"
   ]
  },
  {
   "cell_type": "markdown",
   "metadata": {
    "slideshow": {
     "slide_type": "subslide"
    }
   },
   "source": [
    "What are good\n",
    "### Features?"
   ]
  },
  {
   "cell_type": "code",
   "execution_count": 176,
   "metadata": {
    "collapsed": false,
    "slideshow": {
     "slide_type": "fragment"
    }
   },
   "outputs": [
    {
     "data": {
      "text/html": [
       "<div>\n",
       "<table border=\"1\" class=\"dataframe\">\n",
       "  <thead>\n",
       "    <tr style=\"text-align: right;\">\n",
       "      <th></th>\n",
       "      <th>0</th>\n",
       "      <th>1</th>\n",
       "      <th>2</th>\n",
       "      <th>3</th>\n",
       "      <th>4</th>\n",
       "      <th>5</th>\n",
       "      <th>6</th>\n",
       "      <th>7</th>\n",
       "      <th>8</th>\n",
       "      <th>9</th>\n",
       "      <th>10</th>\n",
       "      <th>11</th>\n",
       "    </tr>\n",
       "  </thead>\n",
       "  <tbody>\n",
       "    <tr>\n",
       "      <th>0</th>\n",
       "      <td>I</td>\n",
       "      <td>predict</td>\n",
       "      <td>I</td>\n",
       "      <td>won't</td>\n",
       "      <td>win</td>\n",
       "      <td>a</td>\n",
       "      <td>single</td>\n",
       "      <td>game</td>\n",
       "      <td>I</td>\n",
       "      <td>bet</td>\n",
       "      <td>on</td>\n",
       "      <td>.</td>\n",
       "    </tr>\n",
       "    <tr>\n",
       "      <th>1</th>\n",
       "      <td>O</td>\n",
       "      <td>V</td>\n",
       "      <td>O</td>\n",
       "      <td>V</td>\n",
       "      <td>V</td>\n",
       "      <td>D</td>\n",
       "      <td>A</td>\n",
       "      <td>N</td>\n",
       "      <td>O</td>\n",
       "      <td>V</td>\n",
       "      <td>P</td>\n",
       "      <td>,</td>\n",
       "    </tr>\n",
       "  </tbody>\n",
       "</table>\n",
       "</div>"
      ],
      "text/plain": [
       "  0        1  2      3    4  5       6     7  8    9   10 11\n",
       "0  I  predict  I  won't  win  a  single  game  I  bet  on  .\n",
       "1  O        V  O      V    V  D       A     N  O    V   P  ,"
      ]
     },
     "execution_count": 176,
     "metadata": {},
     "output_type": "execute_result"
    }
   ],
   "source": [
    "show_instance(*train[0],0,12)"
   ]
  },
  {
   "cell_type": "markdown",
   "metadata": {
    "slideshow": {
     "slide_type": "subslide"
    }
   },
   "source": [
    "Bias:\n",
    "$$\n",
    "\\repr_0(\\x,i) = 1\n",
    "$$"
   ]
  },
  {
   "cell_type": "markdown",
   "metadata": {
    "slideshow": {
     "slide_type": "subslide"
    }
   },
   "source": [
    "Word at token to tag:\n",
    "$$\n",
    "\\repr_w(\\x,i) = \\begin{cases}1 \\text{ if }x_i=w \\\\\\\\ 0 \\text{ else} \\end{cases}\n",
    "$$"
   ]
  },
  {
   "cell_type": "code",
   "execution_count": 57,
   "metadata": {
    "collapsed": false,
    "slideshow": {
     "slide_type": "subslide"
    }
   },
   "outputs": [],
   "source": [
    "def feat_1(x,i):\n",
    "    return {\n",
    "        'bias':1.0,  \n",
    "        'word:' + str(x[i]): 1.0\n",
    "    }\n",
    "local_1 = seq.LocalSequenceLabeler(feat_1, train)"
   ]
  },
  {
   "cell_type": "markdown",
   "metadata": {
    "slideshow": {
     "slide_type": "subslide"
    }
   },
   "source": [
    "We can assess the accuracy of this model on the development set."
   ]
  },
  {
   "cell_type": "code",
   "execution_count": 53,
   "metadata": {
    "collapsed": false
   },
   "outputs": [
    {
     "data": {
      "text/plain": [
       "0.6995645863570392"
      ]
     },
     "execution_count": 53,
     "metadata": {},
     "output_type": "execute_result"
    }
   ],
   "source": [
    "seq.accuracy(dev, local_1.predict(dev))"
   ]
  },
  {
   "cell_type": "markdown",
   "metadata": {
    "slideshow": {
     "slide_type": "subslide"
    }
   },
   "source": [
    "### How to Improve?\n",
    "\n",
    "Look at **confusion matrix**"
   ]
  },
  {
   "cell_type": "code",
   "execution_count": 47,
   "metadata": {
    "collapsed": false,
    "scrolled": false,
    "slideshow": {
     "slide_type": "subslide"
    }
   },
   "outputs": [
    {
     "data": {
      "image/png": "[encoded data removed]",
      "text/plain": [
       "<matplotlib.figure.Figure at 0x1139e1ba8>"
      ]
     },
     "metadata": {},
     "output_type": "display_data"
    }
   ],
   "source": [
    "seq.plot_confusion_matrix(dev, local_1.predict(dev))"
   ]
  },
  {
   "cell_type": "markdown",
   "metadata": {
    "collapsed": false,
    "slideshow": {
     "slide_type": "subslide"
    }
   },
   "source": [
    "Shows:\n",
    "\n",
    "* strong diagonal (good predictions)\n",
    "* `N` receives a lot of wrong counts \n",
    "* `@` complete failure"
   ]
  },
  {
   "cell_type": "markdown",
   "metadata": {
    "slideshow": {
     "slide_type": "subslide"
    }
   },
   "source": [
    "Let us start with @ ... "
   ]
  },
  {
   "cell_type": "code",
   "execution_count": 10,
   "metadata": {
    "collapsed": false,
    "scrolled": false,
    "slideshow": {
     "slide_type": "-"
    }
   },
   "outputs": [
    {
     "data": {
      "image/png": "[encoded data removed]",
      "text/plain": [
       "<matplotlib.figure.Figure at 0x11183dbe0>"
      ]
     },
     "metadata": {},
     "output_type": "display_data"
    }
   ],
   "source": [
    "local_1.plot_lr_weights('@')"
   ]
  },
  {
   "cell_type": "markdown",
   "metadata": {
    "slideshow": {
     "slide_type": "subslide"
    }
   },
   "source": [
    "Features for **specific users** such as \"word=@justinbieber\" do not generalise well\n",
    "\n",
    "How to address this? "
   ]
  },
  {
   "cell_type": "code",
   "execution_count": 54,
   "metadata": {
    "collapsed": false,
    "slideshow": {
     "slide_type": "subslide"
    }
   },
   "outputs": [
    {
     "data": {
      "text/plain": [
       "0.7484967862326353"
      ]
     },
     "execution_count": 54,
     "metadata": {},
     "output_type": "execute_result"
    }
   ],
   "source": [
    "def feat_2(x,i):\n",
    "    return {\n",
    "        **feat_1(x,i),\n",
    "        'first_at:' + str(x[i][0:1] == '@'): 1.0\n",
    "    }\n",
    "local_2 = seq.LocalSequenceLabeler(feat_2, train)\n",
    "seq.accuracy(dev, local_2.predict(dev))"
   ]
  },
  {
   "cell_type": "markdown",
   "metadata": {
    "slideshow": {
     "slide_type": "subslide"
    }
   },
   "source": [
    "To confirm that these results actually from improved '@' prediction, let us look at the confusion matrix again"
   ]
  },
  {
   "cell_type": "code",
   "execution_count": 12,
   "metadata": {
    "collapsed": false
   },
   "outputs": [
    {
     "data": {
      "image/png": "[encoded data removed]",
      "text/plain": [
       "<matplotlib.figure.Figure at 0x1139e8860>"
      ]
     },
     "metadata": {},
     "output_type": "display_data"
    }
   ],
   "source": [
    "seq.plot_confusion_matrix(dev, local_2.predict(dev))"
   ]
  },
  {
   "cell_type": "markdown",
   "metadata": {
    "slideshow": {
     "slide_type": "fragment"
    }
   },
   "source": [
    "Solved! "
   ]
  },
  {
   "cell_type": "code",
   "execution_count": 55,
   "metadata": {
    "collapsed": false,
    "slideshow": {
     "slide_type": "subslide"
    }
   },
   "outputs": [
    {
     "data": {
      "image/png": "[encoded data removed]",
      "text/plain": [
       "<matplotlib.figure.Figure at 0x114b38400>"
      ]
     },
     "metadata": {},
     "output_type": "display_data"
    }
   ],
   "source": [
    "local_2.plot_lr_weights('@')"
   ]
  },
  {
   "cell_type": "markdown",
   "metadata": {
    "slideshow": {
     "slide_type": "subslide"
    }
   },
   "source": [
    "Other errors?"
   ]
  },
  {
   "cell_type": "code",
   "execution_count": 14,
   "metadata": {
    "collapsed": false
   },
   "outputs": [
    {
     "data": {
      "image/png": "[encoded data removed]",
      "text/plain": [
       "<matplotlib.figure.Figure at 0x112a68ac8>"
      ]
     },
     "metadata": {},
     "output_type": "display_data"
    }
   ],
   "source": [
    "seq.plot_confusion_matrix(dev, local_2.predict(dev))"
   ]
  },
  {
   "cell_type": "markdown",
   "metadata": {
    "slideshow": {
     "slide_type": "subslide"
    }
   },
   "source": [
    "Look for errors with high frequency:\n",
    "\n",
    "* distinguishing **proper nouns** (label '^') \n",
    "    * such as \"McDonalds\" or \"Thursday\" \n",
    "* from **common nouns** (label 'N') \n",
    "    * such as \"wife\" or \"rain\". "
   ]
  },
  {
   "cell_type": "markdown",
   "metadata": {
    "slideshow": {
     "slide_type": "subslide"
    }
   },
   "source": [
    "### Micro View\n",
    "How do these errors look like?"
   ]
  },
  {
   "cell_type": "code",
   "execution_count": 58,
   "metadata": {
    "collapsed": false,
    "slideshow": {
     "slide_type": "subslide"
    }
   },
   "outputs": [
    {
     "data": {
      "text/html": [
       "\n",
       "        <div id=\"d9678b7a-b4b7-11e6-ab52-a0999b02cfbb\" class=\"carousel\" data-ride=\"carousel\" data-interval=\"false\">\n",
       "          <!-- Controls -->\n",
       "          <a href=\"#d9678b7a-b4b7-11e6-ab52-a0999b02cfbb\" role=\"button\" data-slide=\"prev\">Previous</a>\n",
       "          &nbsp\n",
       "          <a  href=\"#d9678b7a-b4b7-11e6-ab52-a0999b02cfbb\" role=\"button\" data-slide=\"next\">Next</a>\n",
       "          <div class=\"carousel-inner\" role=\"listbox\">\n",
       "          <div class=\"item active\"><table style=\"\"><tr><td><b>Senate</b></td><td>#ArtsGrades</td><td>are</td><td>in</td><td>!</td></tr><tr><td><b>^</b></td><td>N</td><td>V</td><td>P</td><td>,</td></tr><tr><td><b>N</b></td><td>N</td><td>V</td><td>P</td><td>,</td></tr></table>\n",
       "        <table>\n",
       "          <tr><td>bias</td><td>first_at:False</td><td>word:Senate</td></tr>\n",
       "          <tr><td>1.0</td><td>1.0</td><td>1.0</td></tr>\n",
       "          <tr><td>-2.93</td><td>0.30</td><td>1.67</td></tr>\n",
       "          <tr><td>-2.97</td><td>1.45</td><td>1.94</td></tr>\n",
       "        </table> 1 / 12</div>\n",
       "<div class=\"item\"><table style=\"\"><tr><td>passed</td><td>and</td><td>who</td><td>made</td><td>the</td><td><b>Dirty</b></td><td>Dozen</td><td>.</td><td>#arts</td><td>http://t.co/BAh2iUL</td></tr><tr><td>V</td><td>&</td><td>O</td><td>V</td><td>D</td><td><b>^</b></td><td>^</td><td>,</td><td>#</td><td>U</td></tr><tr><td>N</td><td>&</td><td>O</td><td>V</td><td>D</td><td><b>N</b></td><td>N</td><td>,</td><td>N</td><td>N</td></tr></table>\n",
       "        <table>\n",
       "          <tr><td>bias</td><td>first_at:False</td><td>word:Dirty</td></tr>\n",
       "          <tr><td>1.0</td><td>1.0</td><td>1.0</td></tr>\n",
       "          <tr><td>-2.93</td><td>0.30</td><td>0.00</td></tr>\n",
       "          <tr><td>-2.97</td><td>1.45</td><td>0.00</td></tr>\n",
       "        </table> 2 / 12</div>\n",
       "<div class=\"item\"><table style=\"\"><tr><td>and</td><td>who</td><td>made</td><td>the</td><td>Dirty</td><td><b>Dozen</b></td><td>.</td><td>#arts</td><td>http://t.co/BAh2iUL</td><td>via</td></tr><tr><td>&</td><td>O</td><td>V</td><td>D</td><td>^</td><td><b>^</b></td><td>,</td><td>#</td><td>U</td><td>P</td></tr><tr><td>&</td><td>O</td><td>V</td><td>D</td><td>N</td><td><b>N</b></td><td>,</td><td>N</td><td>N</td><td>P</td></tr></table>\n",
       "        <table>\n",
       "          <tr><td>bias</td><td>first_at:False</td><td>word:Dozen</td></tr>\n",
       "          <tr><td>1.0</td><td>1.0</td><td>1.0</td></tr>\n",
       "          <tr><td>-2.93</td><td>0.30</td><td>0.00</td></tr>\n",
       "          <tr><td>-2.97</td><td>1.45</td><td>0.00</td></tr>\n",
       "        </table> 3 / 12</div>\n",
       "<div class=\"item\"><table style=\"\"><tr><td>29p</td><td>11r</td><td><b>Pal</b></td><td>Gasol</td><td>went</td><td>da</td><td>fuck</td></tr><tr><td>N</td><td>N</td><td><b>^</b></td><td>^</td><td>V</td><td>D</td><td>N</td></tr><tr><td>N</td><td>N</td><td><b>N</b></td><td>N</td><td>V</td><td>D</td><td>V</td></tr></table>\n",
       "        <table>\n",
       "          <tr><td>bias</td><td>first_at:False</td><td>word:Pal</td></tr>\n",
       "          <tr><td>1.0</td><td>1.0</td><td>1.0</td></tr>\n",
       "          <tr><td>-2.93</td><td>0.30</td><td>0.00</td></tr>\n",
       "          <tr><td>-2.97</td><td>1.45</td><td>0.00</td></tr>\n",
       "        </table> 4 / 12</div>\n",
       "<div class=\"item\"><table style=\"\"><tr><td>29p</td><td>11r</td><td>Pal</td><td><b>Gasol</b></td><td>went</td><td>da</td><td>fuck</td><td>off</td></tr><tr><td>N</td><td>N</td><td>^</td><td><b>^</b></td><td>V</td><td>D</td><td>N</td><td>P</td></tr><tr><td>N</td><td>N</td><td>N</td><td><b>N</b></td><td>V</td><td>D</td><td>V</td><td>T</td></tr></table>\n",
       "        <table>\n",
       "          <tr><td>bias</td><td>first_at:False</td><td>word:Gasol</td></tr>\n",
       "          <tr><td>1.0</td><td>1.0</td><td>1.0</td></tr>\n",
       "          <tr><td>-2.93</td><td>0.30</td><td>0.00</td></tr>\n",
       "          <tr><td>-2.97</td><td>1.45</td><td>0.00</td></tr>\n",
       "        </table> 5 / 12</div>\n",
       "<div class=\"item\"><table style=\"\"><tr><td>@comicsguy024</td><td>I</td><td>don't</td><td>use</td><td><b>Chrome</b></td><td>due</td><td>to</td><td>the</td><td>lack</td></tr><tr><td>@</td><td>O</td><td>V</td><td>V</td><td><b>^</b></td><td>P</td><td>P</td><td>D</td><td>N</td></tr><tr><td>@</td><td>O</td><td>V</td><td>V</td><td><b>N</b></td><td>A</td><td>P</td><td>D</td><td>N</td></tr></table>\n",
       "        <table>\n",
       "          <tr><td>bias</td><td>first_at:False</td><td>word:Chrome</td></tr>\n",
       "          <tr><td>1.0</td><td>1.0</td><td>1.0</td></tr>\n",
       "          <tr><td>-2.93</td><td>0.30</td><td>0.00</td></tr>\n",
       "          <tr><td>-2.97</td><td>1.45</td><td>0.00</td></tr>\n",
       "        </table> 6 / 12</div>\n",
       "<div class=\"item\"><table style=\"\"><tr><td>So</td><td>who's</td><td>going</td><td>to</td><td>the</td><td><b>Ethernet</b></td><td>Expo</td><td>next</td><td>week</td><td>in</td></tr><tr><td>P</td><td>L</td><td>V</td><td>P</td><td>D</td><td><b>^</b></td><td>^</td><td>A</td><td>N</td><td>P</td></tr><tr><td>P</td><td>L</td><td>V</td><td>P</td><td>D</td><td><b>N</b></td><td>^</td><td>A</td><td>N</td><td>P</td></tr></table>\n",
       "        <table>\n",
       "          <tr><td>bias</td><td>first_at:False</td><td>word:Ethernet</td></tr>\n",
       "          <tr><td>1.0</td><td>1.0</td><td>1.0</td></tr>\n",
       "          <tr><td>-2.93</td><td>0.30</td><td>0.00</td></tr>\n",
       "          <tr><td>-2.97</td><td>1.45</td><td>0.00</td></tr>\n",
       "        </table> 7 / 12</div>\n",
       "<div class=\"item\"><table style=\"\"><tr><td>Ethernet</td><td>Expo</td><td>next</td><td>week</td><td>in</td><td><b>NYC</b></td><td>?</td></tr><tr><td>^</td><td>^</td><td>A</td><td>N</td><td>P</td><td><b>^</b></td><td>,</td></tr><tr><td>N</td><td>^</td><td>A</td><td>N</td><td>P</td><td><b>N</b></td><td>,</td></tr></table>\n",
       "        <table>\n",
       "          <tr><td>bias</td><td>first_at:False</td><td>word:NYC</td></tr>\n",
       "          <tr><td>1.0</td><td>1.0</td><td>1.0</td></tr>\n",
       "          <tr><td>-2.93</td><td>0.30</td><td>0.00</td></tr>\n",
       "          <tr><td>-2.97</td><td>1.45</td><td>0.00</td></tr>\n",
       "        </table> 8 / 12</div>\n",
       "<div class=\"item\"><table style=\"\"><tr><td>X</td><td>)</td><td>RT</td><td>@DarCoxaj</td><td>:</td><td><b>TETRIS</b></td><td>!</td><td>(:</td><td>\"</td></tr><tr><td>E</td><td>E</td><td>~</td><td>@</td><td>~</td><td><b>^</b></td><td>,</td><td>E</td><td>,</td></tr><tr><td>N</td><td>,</td><td>~</td><td>@</td><td>~</td><td><b>N</b></td><td>,</td><td>E</td><td>,</td></tr></table>\n",
       "        <table>\n",
       "          <tr><td>bias</td><td>first_at:False</td><td>word:TETRIS</td></tr>\n",
       "          <tr><td>1.0</td><td>1.0</td><td>1.0</td></tr>\n",
       "          <tr><td>-2.93</td><td>0.30</td><td>0.00</td></tr>\n",
       "          <tr><td>-2.97</td><td>1.45</td><td>0.00</td></tr>\n",
       "        </table> 9 / 12</div>\n",
       "<div class=\"item\"><table style=\"\"><tr><td>tied</td><td>up</td><td>,</td><td>Physed</td><td>at</td><td><b>Forest</b></td><td>Green</td><td>-</td><td>have</td><td>a</td></tr><tr><td>V</td><td>T</td><td>,</td><td>N</td><td>P</td><td><b>^</b></td><td>^</td><td>,</td><td>V</td><td>D</td></tr><tr><td>N</td><td>T</td><td>,</td><td>N</td><td>P</td><td><b>N</b></td><td>A</td><td>,</td><td>V</td><td>D</td></tr></table>\n",
       "        <table>\n",
       "          <tr><td>bias</td><td>first_at:False</td><td>word:Forest</td></tr>\n",
       "          <tr><td>1.0</td><td>1.0</td><td>1.0</td></tr>\n",
       "          <tr><td>-2.93</td><td>0.30</td><td>0.00</td></tr>\n",
       "          <tr><td>-2.97</td><td>1.45</td><td>0.00</td></tr>\n",
       "        </table> 10 / 12</div>\n",
       "<div class=\"item\"><table style=\"\"><tr><td>to</td><td>go</td><td>for</td><td>Halloween</td><td>on</td><td><b>fri</b></td><td>and</td><td>sat</td><td>...</td><td>Thinking</td></tr><tr><td>P</td><td>V</td><td>P</td><td>^</td><td>P</td><td><b>^</b></td><td>&</td><td>^</td><td>,</td><td>V</td></tr><tr><td>P</td><td>V</td><td>P</td><td>^</td><td>P</td><td><b>N</b></td><td>&</td><td>V</td><td>,</td><td>N</td></tr></table>\n",
       "        <table>\n",
       "          <tr><td>bias</td><td>first_at:False</td><td>word:fri</td></tr>\n",
       "          <tr><td>1.0</td><td>1.0</td><td>1.0</td></tr>\n",
       "          <tr><td>-2.93</td><td>0.30</td><td>0.00</td></tr>\n",
       "          <tr><td>-2.97</td><td>1.45</td><td>0.00</td></tr>\n",
       "        </table> 11 / 12</div>\n",
       "<div class=\"item\"><table style=\"\"><tr><td>fri</td><td>and</td><td>sat</td><td>...</td><td>Thinking</td><td><b>pyramid</b></td><td>on</td><td>sat</td><td>...</td></tr><tr><td>^</td><td>&</td><td>^</td><td>,</td><td>V</td><td><b>^</b></td><td>P</td><td>^</td><td>,</td></tr><tr><td>N</td><td>&</td><td>V</td><td>,</td><td>N</td><td><b>N</b></td><td>P</td><td>V</td><td>,</td></tr></table>\n",
       "        <table>\n",
       "          <tr><td>bias</td><td>first_at:False</td><td>word:pyramid</td></tr>\n",
       "          <tr><td>1.0</td><td>1.0</td><td>1.0</td></tr>\n",
       "          <tr><td>-2.93</td><td>0.30</td><td>0.00</td></tr>\n",
       "          <tr><td>-2.97</td><td>1.45</td><td>0.00</td></tr>\n",
       "        </table> 12 / 12</div>\n",
       "          </div>\n",
       "        </div>\n",
       "        "
      ],
      "text/plain": [
       "<statnlpbook.util.Carousel at 0x11394c710>"
      ]
     },
     "execution_count": 58,
     "metadata": {},
     "output_type": "execute_result"
    }
   ],
   "source": [
    "util.Carousel(local_2.errors(dev[10:20], \n",
    "                             filter_guess=lambda y: y=='N',\n",
    "                             filter_gold=lambda y: y=='^'))"
   ]
  },
  {
   "cell_type": "markdown",
   "metadata": {
    "collapsed": false,
    "slideshow": {
     "slide_type": "subslide"
    }
   },
   "source": [
    "Proper nouns tend to be capitalised!"
   ]
  },
  {
   "cell_type": "code",
   "execution_count": 60,
   "metadata": {
    "collapsed": false,
    "slideshow": {
     "slide_type": "subslide"
    }
   },
   "outputs": [
    {
     "data": {
      "text/plain": [
       "0.771511507360564"
      ]
     },
     "execution_count": 60,
     "metadata": {},
     "output_type": "execute_result"
    }
   ],
   "source": [
    "def feat_3(x,i):\n",
    "    return {\n",
    "        **feat_2(x,i),\n",
    "        'is_lower:' + str(x[i].islower()): 1.0\n",
    "    }\n",
    "local_3 = seq.LocalSequenceLabeler(feat_3, train, C=10)\n",
    "seq.accuracy(dev, local_3.predict(dev))"
   ]
  },
  {
   "cell_type": "markdown",
   "metadata": {
    "slideshow": {
     "slide_type": "subslide"
    }
   },
   "source": [
    "This improvement indeed comes from being able to identify proper nouns when they are capitalised:"
   ]
  },
  {
   "cell_type": "code",
   "execution_count": 43,
   "metadata": {
    "collapsed": false,
    "scrolled": true
   },
   "outputs": [
    {
     "data": {
      "text/html": [
       "\n",
       "        <div id=\"bddaf6a4-b4b6-11e6-a566-a0999b02cfbb\" class=\"carousel\" data-ride=\"carousel\" data-interval=\"false\">\n",
       "          <!-- Controls -->\n",
       "          <a href=\"#bddaf6a4-b4b6-11e6-a566-a0999b02cfbb\" role=\"button\" data-slide=\"prev\">Previous</a>\n",
       "          &nbsp\n",
       "          <a  href=\"#bddaf6a4-b4b6-11e6-a566-a0999b02cfbb\" role=\"button\" data-slide=\"next\">Next</a>\n",
       "          <div class=\"carousel-inner\" role=\"listbox\">\n",
       "          <div class=\"item active\"><table style=\"\"><tr><td><b>Senate</b></td><td>#ArtsGrades</td><td>are</td><td>in</td><td>!</td></tr><tr><td><b>^</b></td><td>N</td><td>V</td><td>P</td><td>,</td></tr><tr><td><b>N</b></td><td>^</td><td>V</td><td>P</td><td>,</td></tr></table>\n",
       "        <table>\n",
       "          <tr><td>first_at:False</td><td>is_lower:False</td><td>word:Senate</td></tr>\n",
       "          <tr><td>1.0</td><td>1.0</td><td>1.0</td></tr>\n",
       "          <tr><td>0.85</td><td>0.01</td><td>0.78</td></tr>\n",
       "          <tr><td>1.80</td><td>-1.67</td><td>2.49</td></tr>\n",
       "        </table> 1 / 3</div>\n",
       "<div class=\"item\"><table style=\"\"><tr><td>to</td><td>go</td><td>for</td><td>Halloween</td><td>on</td><td><b>fri</b></td><td>and</td><td>sat</td><td>...</td><td>Thinking</td></tr><tr><td>P</td><td>V</td><td>P</td><td>^</td><td>P</td><td><b>^</b></td><td>&</td><td>^</td><td>,</td><td>V</td></tr><tr><td>P</td><td>V</td><td>P</td><td>^</td><td>P</td><td><b>N</b></td><td>&</td><td>V</td><td>,</td><td>^</td></tr></table>\n",
       "        <table>\n",
       "          <tr><td>first_at:False</td><td>is_lower:True</td><td>word:fri</td></tr>\n",
       "          <tr><td>1.0</td><td>1.0</td><td>1.0</td></tr>\n",
       "          <tr><td>0.85</td><td>-2.46</td><td>0.00</td></tr>\n",
       "          <tr><td>1.80</td><td>-0.61</td><td>0.00</td></tr>\n",
       "        </table> 2 / 3</div>\n",
       "<div class=\"item\"><table style=\"\"><tr><td>fri</td><td>and</td><td>sat</td><td>...</td><td>Thinking</td><td><b>pyramid</b></td><td>on</td><td>sat</td><td>...</td></tr><tr><td>^</td><td>&</td><td>^</td><td>,</td><td>V</td><td><b>^</b></td><td>P</td><td>^</td><td>,</td></tr><tr><td>N</td><td>&</td><td>V</td><td>,</td><td>^</td><td><b>N</b></td><td>P</td><td>V</td><td>,</td></tr></table>\n",
       "        <table>\n",
       "          <tr><td>first_at:False</td><td>is_lower:True</td><td>word:pyramid</td></tr>\n",
       "          <tr><td>1.0</td><td>1.0</td><td>1.0</td></tr>\n",
       "          <tr><td>0.85</td><td>-2.46</td><td>0.00</td></tr>\n",
       "          <tr><td>1.80</td><td>-0.61</td><td>0.00</td></tr>\n",
       "        </table> 3 / 3</div>\n",
       "          </div>\n",
       "        </div>\n",
       "        "
      ],
      "text/plain": [
       "<statnlpbook.util.Carousel at 0x10f84bdd8>"
      ]
     },
     "execution_count": 43,
     "metadata": {},
     "output_type": "execute_result"
    }
   ],
   "source": [
    "util.Carousel(local_3.errors(dev[10:20], \n",
    "                             filter_guess=lambda y: y=='N',\n",
    "                             filter_gold=lambda y: y=='^'))\n",
    "# seq.find_contexts(train, lambda w: w == 'Senate')"
   ]
  },
  {
   "cell_type": "markdown",
   "metadata": {
    "slideshow": {
     "slide_type": "subslide"
    }
   },
   "source": [
    "Find more problems:"
   ]
  },
  {
   "cell_type": "code",
   "execution_count": 18,
   "metadata": {
    "collapsed": false
   },
   "outputs": [
    {
     "data": {
      "image/png": "[encoded data removed]",
      "text/plain": [
       "<matplotlib.figure.Figure at 0x112b258d0>"
      ]
     },
     "metadata": {},
     "output_type": "display_data"
    }
   ],
   "source": [
    "seq.plot_confusion_matrix(dev, local_3.predict(dev))"
   ]
  },
  {
   "cell_type": "markdown",
   "metadata": {
    "slideshow": {
     "slide_type": "subslide"
    }
   },
   "source": [
    "High frequency error: \n",
    "\n",
    "* misclassifying verbs ('V') as common nouns ('N')"
   ]
  },
  {
   "cell_type": "markdown",
   "metadata": {
    "collapsed": false,
    "slideshow": {
     "slide_type": "subslide"
    }
   },
   "source": [
    "Inspect examples... "
   ]
  },
  {
   "cell_type": "code",
   "execution_count": 19,
   "metadata": {
    "collapsed": false
   },
   "outputs": [
    {
     "data": {
      "text/html": [
       "\n",
       "        <div id=\"5e3df5fa-b4b3-11e6-8b26-a0999b02cfbb\" class=\"carousel\" data-ride=\"carousel\" data-interval=\"false\">\n",
       "          <!-- Controls -->\n",
       "          <a href=\"#5e3df5fa-b4b3-11e6-8b26-a0999b02cfbb\" role=\"button\" data-slide=\"prev\">Previous</a>\n",
       "          &nbsp\n",
       "          <a  href=\"#5e3df5fa-b4b3-11e6-8b26-a0999b02cfbb\" role=\"button\" data-slide=\"next\">Next</a>\n",
       "          <div class=\"carousel-inner\" role=\"listbox\">\n",
       "          <div class=\"item active\"><table style=\"\"><tr><td>the</td><td>players</td><td>and</td><td>his</td><td>wife</td><td><b>own</b></td><td>smash</td><td>burger</td></tr><tr><td>D</td><td>N</td><td>&</td><td>D</td><td>N</td><td><b>V</b></td><td>^</td><td>^</td></tr><tr><td>D</td><td>N</td><td>&</td><td>D</td><td>N</td><td><b>N</b></td><td>N</td><td>N</td></tr></table>\n",
       "        <table>\n",
       "          <tr><td>first_at:False</td><td>is_lower:True</td><td>word:own</td></tr>\n",
       "          <tr><td>1.0</td><td>1.0</td><td>1.0</td></tr>\n",
       "          <tr><td>1.37</td><td>-0.57</td><td>-0.78</td></tr>\n",
       "          <tr><td>1.80</td><td>-0.61</td><td>2.30</td></tr>\n",
       "        </table> 1 / 9</div>\n",
       "<div class=\"item\"><table style=\"\"><tr><td>RT</td><td>@TheRealQuailman</td><td>:</td><td>Currently</td><td><b>laughing</b></td><td>at</td><td>Laker</td><td>haters</td><td>.</td></tr><tr><td>~</td><td>@</td><td>~</td><td>R</td><td><b>V</b></td><td>P</td><td>^</td><td>N</td><td>,</td></tr><tr><td>~</td><td>@</td><td>~</td><td>^</td><td><b>N</b></td><td>P</td><td>^</td><td>N</td><td>,</td></tr></table>\n",
       "        <table>\n",
       "          <tr><td>first_at:False</td><td>is_lower:True</td><td>word:laughing</td></tr>\n",
       "          <tr><td>1.0</td><td>1.0</td><td>1.0</td></tr>\n",
       "          <tr><td>1.37</td><td>-0.57</td><td>0.00</td></tr>\n",
       "          <tr><td>1.80</td><td>-0.61</td><td>0.00</td></tr>\n",
       "        </table> 2 / 9</div>\n",
       "<div class=\"item\"><table style=\"\"><tr><td>@ShiversTheNinja</td><td><b>forgive</b></td><td>me</td><td>for</td><td>blowing</td><td>up</td></tr><tr><td>@</td><td><b>V</b></td><td>O</td><td>P</td><td>V</td><td>T</td></tr><tr><td>@</td><td><b>N</b></td><td>O</td><td>P</td><td>N</td><td>T</td></tr></table>\n",
       "        <table>\n",
       "          <tr><td>first_at:False</td><td>is_lower:True</td><td>word:forgive</td></tr>\n",
       "          <tr><td>1.0</td><td>1.0</td><td>1.0</td></tr>\n",
       "          <tr><td>1.37</td><td>-0.57</td><td>0.00</td></tr>\n",
       "          <tr><td>1.80</td><td>-0.61</td><td>0.00</td></tr>\n",
       "        </table> 3 / 9</div>\n",
       "<div class=\"item\"><table style=\"\"><tr><td>@ShiversTheNinja</td><td>forgive</td><td>me</td><td>for</td><td><b>blowing</b></td><td>up</td><td>your</td><td>youtube</td><td>comment</td></tr><tr><td>@</td><td>V</td><td>O</td><td>P</td><td><b>V</b></td><td>T</td><td>D</td><td>^</td><td>N</td></tr><tr><td>@</td><td>N</td><td>O</td><td>P</td><td><b>N</b></td><td>T</td><td>D</td><td>N</td><td>N</td></tr></table>\n",
       "        <table>\n",
       "          <tr><td>first_at:False</td><td>is_lower:True</td><td>word:blowing</td></tr>\n",
       "          <tr><td>1.0</td><td>1.0</td><td>1.0</td></tr>\n",
       "          <tr><td>1.37</td><td>-0.57</td><td>0.00</td></tr>\n",
       "          <tr><td>1.80</td><td>-0.61</td><td>0.00</td></tr>\n",
       "        </table> 4 / 9</div>\n",
       "<div class=\"item\"><table style=\"\"><tr><td>Question</td><td>:</td><td>How</td><td>CAN</td><td>you</td><td><b>mend</b></td><td>a</td><td>broken</td><td>heart</td><td>?</td></tr><tr><td>N</td><td>,</td><td>R</td><td>V</td><td>O</td><td><b>V</b></td><td>D</td><td>A</td><td>N</td><td>,</td></tr><tr><td>^</td><td>~</td><td>R</td><td>V</td><td>O</td><td><b>N</b></td><td>D</td><td>V</td><td>V</td><td>,</td></tr></table>\n",
       "        <table>\n",
       "          <tr><td>first_at:False</td><td>is_lower:True</td><td>word:mend</td></tr>\n",
       "          <tr><td>1.0</td><td>1.0</td><td>1.0</td></tr>\n",
       "          <tr><td>1.37</td><td>-0.57</td><td>0.00</td></tr>\n",
       "          <tr><td>1.80</td><td>-0.61</td><td>0.00</td></tr>\n",
       "        </table> 5 / 9</div>\n",
       "<div class=\"item\"><table style=\"\"><tr><td>last</td><td>night</td><td>,</td><td>but</td><td>didn't</td><td><b>bother</b></td><td>calling</td><td>Shawn</td><td>because</td><td>I'd</td></tr><tr><td>A</td><td>N</td><td>,</td><td>&</td><td>V</td><td><b>V</b></td><td>V</td><td>^</td><td>P</td><td>L</td></tr><tr><td>A</td><td>N</td><td>,</td><td>&</td><td>V</td><td><b>N</b></td><td>V</td><td>^</td><td>P</td><td>L</td></tr></table>\n",
       "        <table>\n",
       "          <tr><td>first_at:False</td><td>is_lower:True</td><td>word:bother</td></tr>\n",
       "          <tr><td>1.0</td><td>1.0</td><td>1.0</td></tr>\n",
       "          <tr><td>1.37</td><td>-0.57</td><td>0.00</td></tr>\n",
       "          <tr><td>1.80</td><td>-0.61</td><td>0.00</td></tr>\n",
       "        </table> 6 / 9</div>\n",
       "<div class=\"item\"><table style=\"\"><tr><td>are</td><td>in</td><td>!</td><td>See</td><td>who</td><td><b>passed</b></td><td>and</td><td>who</td><td>made</td><td>the</td></tr><tr><td>V</td><td>P</td><td>,</td><td>V</td><td>O</td><td><b>V</b></td><td>&</td><td>O</td><td>V</td><td>D</td></tr><tr><td>V</td><td>P</td><td>,</td><td>V</td><td>O</td><td><b>N</b></td><td>&</td><td>O</td><td>V</td><td>D</td></tr></table>\n",
       "        <table>\n",
       "          <tr><td>first_at:False</td><td>is_lower:True</td><td>word:passed</td></tr>\n",
       "          <tr><td>1.0</td><td>1.0</td><td>1.0</td></tr>\n",
       "          <tr><td>1.37</td><td>-0.57</td><td>0.00</td></tr>\n",
       "          <tr><td>1.80</td><td>-0.61</td><td>0.00</td></tr>\n",
       "        </table> 7 / 9</div>\n",
       "<div class=\"item\"><table style=\"\"><tr><td>and</td><td>watch</td><td>the</td><td>news</td><td>and</td><td><b>tune</b></td><td>out</td><td>over</td><td>some</td><td>fresh</td></tr><tr><td>&</td><td>V</td><td>D</td><td>N</td><td>&</td><td><b>V</b></td><td>T</td><td>P</td><td>D</td><td>A</td></tr><tr><td>&</td><td>V</td><td>D</td><td>N</td><td>&</td><td><b>N</b></td><td>T</td><td>P</td><td>D</td><td>A</td></tr></table>\n",
       "        <table>\n",
       "          <tr><td>first_at:False</td><td>is_lower:True</td><td>word:tune</td></tr>\n",
       "          <tr><td>1.0</td><td>1.0</td><td>1.0</td></tr>\n",
       "          <tr><td>1.37</td><td>-0.57</td><td>-0.78</td></tr>\n",
       "          <tr><td>1.80</td><td>-0.61</td><td>2.30</td></tr>\n",
       "        </table> 8 / 9</div>\n",
       "<div class=\"item\"><table style=\"\"><tr><td>that</td><td>,</td><td>regretfully</td><td>I</td><td>was</td><td><b>tied</b></td><td>up</td><td>,</td><td>Physed</td><td>at</td></tr><tr><td>P</td><td>,</td><td>R</td><td>O</td><td>V</td><td><b>V</b></td><td>T</td><td>,</td><td>N</td><td>P</td></tr><tr><td>P</td><td>,</td><td>N</td><td>O</td><td>V</td><td><b>N</b></td><td>T</td><td>,</td><td>^</td><td>P</td></tr></table>\n",
       "        <table>\n",
       "          <tr><td>first_at:False</td><td>is_lower:True</td><td>word:tied</td></tr>\n",
       "          <tr><td>1.0</td><td>1.0</td><td>1.0</td></tr>\n",
       "          <tr><td>1.37</td><td>-0.57</td><td>0.00</td></tr>\n",
       "          <tr><td>1.80</td><td>-0.61</td><td>0.00</td></tr>\n",
       "        </table> 9 / 9</div>\n",
       "          </div>\n",
       "        </div>\n",
       "        "
      ],
      "text/plain": [
       "<statnlpbook.util.Carousel at 0x112b25a20>"
      ]
     },
     "execution_count": 19,
     "metadata": {},
     "output_type": "execute_result"
    }
   ],
   "source": [
    "util.Carousel(local_3.errors(dev[:20], \n",
    "                             filter_guess=lambda y: y=='N',\n",
    "                             filter_gold=lambda y: y=='V'))"
   ]
  },
  {
   "cell_type": "markdown",
   "metadata": {
    "slideshow": {
     "slide_type": "subslide"
    }
   },
   "source": [
    "* \"laughing\", \"blowing\" or \"passed\" are misclassified as common nouns \n",
    "* For $f_{\\text{word},w}$ feature template weights are $0$ \n",
    "\n",
    "Suggests that word has not appeared (or not appeared as a verb) in the training set! "
   ]
  },
  {
   "cell_type": "markdown",
   "metadata": {
    "slideshow": {
     "slide_type": "subslide"
    }
   },
   "source": [
    "However, we can tell that these words may be verbs:\n",
    "\n",
    "* check suffixes such as \"ing\" or \"ed\". \n",
    "\n",
    "Incorporate as features!"
   ]
  },
  {
   "cell_type": "code",
   "execution_count": 64,
   "metadata": {
    "collapsed": false,
    "slideshow": {
     "slide_type": "subslide"
    }
   },
   "outputs": [
    {
     "data": {
      "text/plain": [
       "0.7874766742691272"
      ]
     },
     "execution_count": 64,
     "metadata": {},
     "output_type": "execute_result"
    }
   ],
   "source": [
    "def feat_4(x,i):\n",
    "    return {\n",
    "        **feat_3(x,i),\n",
    "        'last_3' + \"\".join(x[i][-3:]): 1.0,\n",
    "        'last_2' + \"\".join(x[i][-2:]): 1.0,\n",
    "    }\n",
    "local_4 = seq.LocalSequenceLabeler(feat_4, train)\n",
    "seq.accuracy(dev, local_4.predict(dev))"
   ]
  },
  {
   "cell_type": "code",
   "execution_count": 65,
   "metadata": {
    "collapsed": false,
    "slideshow": {
     "slide_type": "subslide"
    }
   },
   "outputs": [
    {
     "data": {
      "text/html": [
       "\n",
       "        <div id=\"7b7054c2-b4b8-11e6-89cc-a0999b02cfbb\" class=\"carousel\" data-ride=\"carousel\" data-interval=\"false\">\n",
       "          <!-- Controls -->\n",
       "          <a href=\"#7b7054c2-b4b8-11e6-89cc-a0999b02cfbb\" role=\"button\" data-slide=\"prev\">Previous</a>\n",
       "          &nbsp\n",
       "          <a  href=\"#7b7054c2-b4b8-11e6-89cc-a0999b02cfbb\" role=\"button\" data-slide=\"next\">Next</a>\n",
       "          <div class=\"carousel-inner\" role=\"listbox\">\n",
       "          <div class=\"item active\"><table style=\"\"><tr><td>the</td><td>players</td><td>and</td><td>his</td><td>wife</td><td><b>own</b></td><td>smash</td><td>burger</td></tr><tr><td>D</td><td>N</td><td>&</td><td>D</td><td>N</td><td><b>V</b></td><td>^</td><td>^</td></tr><tr><td>D</td><td>N</td><td>&</td><td>D</td><td>N</td><td><b>N</b></td><td>V</td><td>N</td></tr></table>\n",
       "        <table>\n",
       "          <tr><td>bias</td><td>first_at:False</td><td>is_lower:True</td><td>last_2wn</td><td>last_3own</td><td>word:own</td></tr>\n",
       "          <tr><td>1.0</td><td>1.0</td><td>1.0</td><td>1.0</td><td>1.0</td><td>1.0</td></tr>\n",
       "          <tr><td>-3.17</td><td>1.01</td><td>-1.03</td><td>-0.15</td><td>0.07</td><td>-0.28</td></tr>\n",
       "          <tr><td>-2.96</td><td>1.82</td><td>-1.02</td><td>1.01</td><td>-0.45</td><td>2.63</td></tr>\n",
       "        </table> 1 / 4</div>\n",
       "<div class=\"item\"><table style=\"\"><tr><td>Question</td><td>:</td><td>How</td><td>CAN</td><td>you</td><td><b>mend</b></td><td>a</td><td>broken</td><td>heart</td><td>?</td></tr><tr><td>N</td><td>,</td><td>R</td><td>V</td><td>O</td><td><b>V</b></td><td>D</td><td>A</td><td>N</td><td>,</td></tr><tr><td>N</td><td>~</td><td>R</td><td>V</td><td>O</td><td><b>N</b></td><td>D</td><td>V</td><td>V</td><td>,</td></tr></table>\n",
       "        <table>\n",
       "          <tr><td>bias</td><td>first_at:False</td><td>is_lower:True</td><td>last_2nd</td><td>last_3end</td><td>word:mend</td></tr>\n",
       "          <tr><td>1.0</td><td>1.0</td><td>1.0</td><td>1.0</td><td>1.0</td><td>1.0</td></tr>\n",
       "          <tr><td>-3.17</td><td>1.01</td><td>-1.03</td><td>0.39</td><td>2.05</td><td>0.00</td></tr>\n",
       "          <tr><td>-2.96</td><td>1.82</td><td>-1.02</td><td>1.02</td><td>1.57</td><td>0.00</td></tr>\n",
       "        </table> 2 / 4</div>\n",
       "<div class=\"item\"><table style=\"\"><tr><td>last</td><td>night</td><td>,</td><td>but</td><td>didn't</td><td><b>bother</b></td><td>calling</td><td>Shawn</td><td>because</td><td>I'd</td></tr><tr><td>A</td><td>N</td><td>,</td><td>&</td><td>V</td><td><b>V</b></td><td>V</td><td>^</td><td>P</td><td>L</td></tr><tr><td>A</td><td>N</td><td>,</td><td>&</td><td>V</td><td><b>N</b></td><td>V</td><td>N</td><td>P</td><td>L</td></tr></table>\n",
       "        <table>\n",
       "          <tr><td>bias</td><td>first_at:False</td><td>is_lower:True</td><td>last_2er</td><td>last_3her</td><td>word:bother</td></tr>\n",
       "          <tr><td>1.0</td><td>1.0</td><td>1.0</td><td>1.0</td><td>1.0</td><td>1.0</td></tr>\n",
       "          <tr><td>-3.17</td><td>1.01</td><td>-1.03</td><td>-0.47</td><td>-1.53</td><td>0.00</td></tr>\n",
       "          <tr><td>-2.96</td><td>1.82</td><td>-1.02</td><td>2.08</td><td>-1.21</td><td>0.00</td></tr>\n",
       "        </table> 3 / 4</div>\n",
       "<div class=\"item\"><table style=\"\"><tr><td>and</td><td>watch</td><td>the</td><td>news</td><td>and</td><td><b>tune</b></td><td>out</td><td>over</td><td>some</td><td>fresh</td></tr><tr><td>&</td><td>V</td><td>D</td><td>N</td><td>&</td><td><b>V</b></td><td>T</td><td>P</td><td>D</td><td>A</td></tr><tr><td>&</td><td>V</td><td>D</td><td>N</td><td>&</td><td><b>N</b></td><td>T</td><td>P</td><td>D</td><td>A</td></tr></table>\n",
       "        <table>\n",
       "          <tr><td>bias</td><td>first_at:False</td><td>is_lower:True</td><td>last_2ne</td><td>last_3une</td><td>word:tune</td></tr>\n",
       "          <tr><td>1.0</td><td>1.0</td><td>1.0</td><td>1.0</td><td>1.0</td><td>1.0</td></tr>\n",
       "          <tr><td>-3.17</td><td>1.01</td><td>-1.03</td><td>0.17</td><td>-0.27</td><td>-0.27</td></tr>\n",
       "          <tr><td>-2.96</td><td>1.82</td><td>-1.02</td><td>0.95</td><td>1.48</td><td>1.48</td></tr>\n",
       "        </table> 4 / 4</div>\n",
       "          </div>\n",
       "        </div>\n",
       "        "
      ],
      "text/plain": [
       "<statnlpbook.util.Carousel at 0x1135c2780>"
      ]
     },
     "execution_count": 65,
     "metadata": {},
     "output_type": "execute_result"
    }
   ],
   "source": [
    "util.Carousel(local_4.errors(dev[:20], \n",
    "                             filter_guess=lambda y: y=='N',\n",
    "                             filter_gold=lambda y: y=='V' ))"
   ]
  },
  {
   "cell_type": "markdown",
   "metadata": {
    "slideshow": {
     "slide_type": "slide"
    }
   },
   "source": [
    "## Markov Models\n",
    "We have **dependencies** between consecutive labels"
   ]
  },
  {
   "cell_type": "markdown",
   "metadata": {
    "slideshow": {
     "slide_type": "subslide"
    }
   },
   "source": [
    "### Example\n",
    "\n",
    "after non-possessive pronoun (\"O\") such as \"I\" a verb (\"V\") is more likely than a noun (\"N\")\n",
    "\n",
    "*local* model cannot capture this"
   ]
  },
  {
   "cell_type": "markdown",
   "metadata": {
    "slideshow": {
     "slide_type": "subslide"
    }
   },
   "source": [
    "## Maximum Entropy Markov Model\n",
    "$$\n",
    "p_\\params(\\y|\\x) = \\prod_{i=1}^n p_\\params(y_i|\\x,y_{i-1},i)\n",
    "$$\n",
    "\n",
    "a product of local logistic regression (aka Maximum Entropy) classifiers $\\prob_\\params(y_i|\\x,y_{i-1},i)$\n",
    "\n",
    "* but classifiers can use the previous label as observed feature \n",
    "* makes a **first-order Markov assumption**\n",
    "\n"
   ]
  },
  {
   "cell_type": "markdown",
   "metadata": {
    "slideshow": {
     "slide_type": "subslide"
    }
   },
   "source": [
    "### Example\n",
    "\n",
    "$$\n",
    "\\prob_\\params(\\text{\"D A N\"} \\bar \\text{\"a single game\"}) = \\\\\\\\ \\prob_\\params(\\text{\"D\"}\\bar \\text{\"a single game\"},\\text{\"PAD\"},1) \\\\\\\\ \\prob_\\params(\\text{\"A\"} \\bar \\text{\"a single game\"},\\text{\"D\"},2) \\ldots\n",
    "$$"
   ]
  },
  {
   "cell_type": "markdown",
   "metadata": {
    "slideshow": {
     "slide_type": "subslide"
    }
   },
   "source": [
    "Log-linear version with access to previous label: \n",
    "\n",
    "$$\n",
    "  p_\\params(y_i|\\x,y_{i-1},i) = \\frac{1}{Z_{\\x,y_{i-1},i}} \\exp \\langle \\repr(\\x,y_{i-1},i),\\params_{y_i} \\rangle\n",
    "$$\n",
    "\n",
    "where $Z_{\\x,y_{i-1},i}=\\sum_y \\exp \\langle \\repr(\\x,y_{i-1},i),\\params_{y_i} \\rangle $ is a *local* per-token normalisation factor"
   ]
  },
  {
   "cell_type": "markdown",
   "metadata": {
    "slideshow": {
     "slide_type": "subslide"
    }
   },
   "source": [
    "### Training MEMMs\n",
    "Optimising the conditional likelihood \n",
    "\n",
    "$$\n",
    "\\sum_{(\\x,\\y) \\in \\train} \\log \\prob_\\params(\\y|\\x)\n",
    "$$"
   ]
  },
  {
   "cell_type": "markdown",
   "metadata": {
    "slideshow": {
     "slide_type": "subslide"
    }
   },
   "source": [
    "Decomposes nicely: \n",
    "$$\n",
    "\\sum_{(\\x,\\y) \\in \\train} \\sum_{i=1}^{|\\x|} \\log \\prob_\\params(y_i|\\x,y_{i-1},i)   \n",
    "$$"
   ]
  },
  {
   "cell_type": "markdown",
   "metadata": {
    "slideshow": {
     "slide_type": "fragment"
    }
   },
   "source": [
    "Easy to train\n",
    "* Equivalent to a **logistic regression objective** for a classifier that assigns labels based on previous gold labels"
   ]
  },
  {
   "cell_type": "markdown",
   "metadata": {
    "slideshow": {
     "slide_type": "subslide"
    }
   },
   "source": [
    "Let's specify a MEMM using \n",
    "### Feature Functions"
   ]
  },
  {
   "cell_type": "code",
   "execution_count": 98,
   "metadata": {
    "collapsed": false,
    "slideshow": {
     "slide_type": "subslide"
    }
   },
   "outputs": [],
   "source": [
    "def memm_feat_1(x,i,hist):\n",
    "    return {\n",
    "        **feat_4(x,i),\n",
    "        'prev_y': hist[0],\n",
    "    }\n",
    "\n",
    "memm_1 = seq.MEMMSequenceLabeler(memm_feat_1, train, order=1, C=10)"
   ]
  },
  {
   "cell_type": "markdown",
   "metadata": {
    "slideshow": {
     "slide_type": "slide"
    }
   },
   "source": [
    "## Prediction in MEMMs\n",
    "To predict the best label sequence find a $\\y^*$ with maximal conditional probability\n",
    "\n",
    "$$\n",
    "\\y^* =\\argmax_\\y \\prob_\\params(\\y|\\x).\n",
    "$$"
   ]
  },
  {
   "cell_type": "markdown",
   "metadata": {
    "slideshow": {
     "slide_type": "subslide"
    }
   },
   "source": [
    "### Greedy Prediction\n",
    "We cannot simply choose each label in isolation because **decisions depend on each other**"
   ]
  },
  {
   "cell_type": "markdown",
   "metadata": {
    "collapsed": false,
    "slideshow": {
     "slide_type": "subslide"
    }
   },
   "source": [
    "Simple alternative:\n",
    "* Choose highest scoring label for token 1\n",
    "* Choose highest scoring label for token 2, conditioned on best label from 1\n",
    "* etc."
   ]
  },
  {
   "cell_type": "code",
   "execution_count": 99,
   "metadata": {
    "collapsed": false,
    "slideshow": {
     "slide_type": "subslide"
    }
   },
   "outputs": [
    {
     "data": {
      "text/plain": [
       "'D'"
      ]
     },
     "execution_count": 99,
     "metadata": {},
     "output_type": "execute_result"
    }
   ],
   "source": [
    "memm_1.predict_next([\"the\",\"man\"],0,[])"
   ]
  },
  {
   "cell_type": "code",
   "execution_count": 100,
   "metadata": {
    "collapsed": false,
    "slideshow": {
     "slide_type": "fragment"
    }
   },
   "outputs": [
    {
     "data": {
      "text/plain": [
       "'N'"
      ]
     },
     "execution_count": 100,
     "metadata": {},
     "output_type": "execute_result"
    }
   ],
   "source": [
    "memm_1.predict_next([\"the\",\"man\"],1,['D'])"
   ]
  },
  {
   "cell_type": "code",
   "execution_count": 24,
   "metadata": {
    "collapsed": true,
    "slideshow": {
     "slide_type": "skip"
    }
   },
   "outputs": [],
   "source": [
    "def memm_greedy_predict(memm: seq.MEMMSequenceLabeler, data, use_gold_history=False):\n",
    "    result = []\n",
    "    for x, y in data:\n",
    "        y_guess = []\n",
    "        for i in range(0, len(x)):\n",
    "            prediction = memm.predict_next(x, i, y_guess if not use_gold_history else y)\n",
    "            y_guess.append(prediction)\n",
    "        result.append(y_guess)\n",
    "    return result"
   ]
  },
  {
   "cell_type": "code",
   "execution_count": 25,
   "metadata": {
    "collapsed": false,
    "slideshow": {
     "slide_type": "subslide"
    }
   },
   "outputs": [
    {
     "data": {
      "text/plain": [
       "0.8100767157370931"
      ]
     },
     "execution_count": 25,
     "metadata": {},
     "output_type": "execute_result"
    }
   ],
   "source": [
    "seq.accuracy(dev,memm_greedy_predict(memm_1, dev))"
   ]
  },
  {
   "cell_type": "markdown",
   "metadata": {
    "slideshow": {
     "slide_type": "subslide"
    }
   },
   "source": [
    "Some Noun vs Verb errors fixed:"
   ]
  },
  {
   "cell_type": "code",
   "execution_count": 26,
   "metadata": {
    "collapsed": false
   },
   "outputs": [
    {
     "data": {
      "text/html": [
       "\n",
       "        <div id=\"607f5f70-b4b3-11e6-b408-a0999b02cfbb\" class=\"carousel\" data-ride=\"carousel\" data-interval=\"false\">\n",
       "          <!-- Controls -->\n",
       "          <a href=\"#607f5f70-b4b3-11e6-b408-a0999b02cfbb\" role=\"button\" data-slide=\"prev\">Previous</a>\n",
       "          &nbsp\n",
       "          <a  href=\"#607f5f70-b4b3-11e6-b408-a0999b02cfbb\" role=\"button\" data-slide=\"next\">Next</a>\n",
       "          <div class=\"carousel-inner\" role=\"listbox\">\n",
       "          <div class=\"item active\"><table style=\"\"><tr><td>the</td><td>players</td><td>and</td><td>his</td><td>wife</td><td><b>own</b></td><td>smash</td><td>burger</td></tr><tr><td>D</td><td>N</td><td>&</td><td>D</td><td>N</td><td><b>V</b></td><td>^</td><td>^</td></tr><tr><td>D</td><td>N</td><td>&</td><td>D</td><td>N</td><td><b>N</b></td><td>V</td><td>N</td></tr></table>\n",
       "        <table>\n",
       "          <tr><td>first_at:False</td><td>is_lower:True</td><td>last_2wn</td><td>last_3own</td><td>prev_y</td><td>word:own</td></tr>\n",
       "          <tr><td>1.0</td><td>1.0</td><td>1.0</td><td>1.0</td><td>N</td><td>1.0</td></tr>\n",
       "          <tr><td>0.90</td><td>-1.11</td><td>-0.16</td><td>-0.02</td><td>0.00</td><td>-0.01</td></tr>\n",
       "          <tr><td>1.52</td><td>-1.15</td><td>1.11</td><td>-0.52</td><td>0.00</td><td>1.41</td></tr>\n",
       "        </table> 1 / 2</div>\n",
       "<div class=\"item\"><table style=\"\"><tr><td>and</td><td>watch</td><td>the</td><td>news</td><td>and</td><td><b>tune</b></td><td>out</td><td>over</td><td>some</td><td>fresh</td></tr><tr><td>&</td><td>V</td><td>D</td><td>N</td><td>&</td><td><b>V</b></td><td>T</td><td>P</td><td>D</td><td>A</td></tr><tr><td>&</td><td>V</td><td>D</td><td>N</td><td>&</td><td><b>N</b></td><td>P</td><td>P</td><td>D</td><td>A</td></tr></table>\n",
       "        <table>\n",
       "          <tr><td>first_at:False</td><td>is_lower:True</td><td>last_2ne</td><td>last_3une</td><td>prev_y</td><td>word:tune</td></tr>\n",
       "          <tr><td>1.0</td><td>1.0</td><td>1.0</td><td>1.0</td><td>&</td><td>1.0</td></tr>\n",
       "          <tr><td>0.90</td><td>-1.11</td><td>-0.05</td><td>-0.01</td><td>0.00</td><td>-0.01</td></tr>\n",
       "          <tr><td>1.52</td><td>-1.15</td><td>0.59</td><td>0.78</td><td>0.00</td><td>0.78</td></tr>\n",
       "        </table> 2 / 2</div>\n",
       "          </div>\n",
       "        </div>\n",
       "        "
      ],
      "text/plain": [
       "<statnlpbook.util.Carousel at 0x113570e80>"
      ]
     },
     "execution_count": 26,
     "metadata": {},
     "output_type": "execute_result"
    }
   ],
   "source": [
    "util.Carousel(seq.errors(dev[:20], memm_greedy_predict(memm_1, dev[:20]), \n",
    "                         'V', 'N',model=memm_1))"
   ]
  },
  {
   "cell_type": "markdown",
   "metadata": {
    "slideshow": {
     "slide_type": "subslide"
    }
   },
   "source": [
    "For the case of verbs ('V') we observe a high weight for $f_{\\text{prev_y},\\text{O}}$\n",
    "\n",
    "* indicating that pronouns are often followed by verbs, as we expected earlier  "
   ]
  },
  {
   "cell_type": "code",
   "execution_count": 91,
   "metadata": {
    "collapsed": false,
    "slideshow": {
     "slide_type": "subslide"
    }
   },
   "outputs": [
    {
     "data": {
      "image/png": "[encoded data removed]",
      "text/plain": [
       "<matplotlib.figure.Figure at 0x113516f98>"
      ]
     },
     "metadata": {},
     "output_type": "display_data"
    }
   ],
   "source": [
    "memm_1.plot_lr_weights('V',feat_filter=lambda s: s.startswith(\"prev_\"))"
   ]
  },
  {
   "cell_type": "markdown",
   "metadata": {
    "slideshow": {
     "slide_type": "slide"
    }
   },
   "source": [
    "Greedy decoding may lead to\n",
    "## Search Errors\n",
    "\n",
    "when returned $\\y^*$ is not highest scoring **global** solution"
   ]
  },
  {
   "cell_type": "code",
   "execution_count": 106,
   "metadata": {
    "collapsed": false,
    "slideshow": {
     "slide_type": "subslide"
    }
   },
   "outputs": [
    {
     "data": {
      "text/plain": [
       "[('O', -0.2155156742793323),\n",
       " ('D', -2.0962293616126093),\n",
       " ('#', -3.7029965918668855)]"
      ]
     },
     "execution_count": 106,
     "metadata": {},
     "output_type": "execute_result"
    }
   ],
   "source": [
    "memm_1.predict_label_scores([\"What\",\"better\",\"way\"],0,[])[:3]"
   ]
  },
  {
   "cell_type": "code",
   "execution_count": 107,
   "metadata": {
    "collapsed": false,
    "slideshow": {
     "slide_type": "subslide"
    }
   },
   "outputs": [
    {
     "data": {
      "text/plain": [
       "[('R', -0.56259559840278206),\n",
       " ('A', -1.0673636312675032),\n",
       " ('V', -2.6396700096816064)]"
      ]
     },
     "execution_count": 107,
     "metadata": {},
     "output_type": "execute_result"
    }
   ],
   "source": [
    "memm_1.predict_label_scores([\"What\",\"better\",\"way\"],1,['O'])[:3]"
   ]
  },
  {
   "cell_type": "code",
   "execution_count": 110,
   "metadata": {
    "collapsed": false,
    "slideshow": {
     "slide_type": "subslide"
    }
   },
   "outputs": [
    {
     "data": {
      "text/plain": [
       "[('N', -0.62298139356492843),\n",
       " ('R', -1.4099665807877582),\n",
       " ('V', -1.8289285841940521)]"
      ]
     },
     "execution_count": 110,
     "metadata": {},
     "output_type": "execute_result"
    }
   ],
   "source": [
    "memm_1.predict_label_scores([\"What\",\"better\",\"way\"],2,['O','R'])[:3]"
   ]
  },
  {
   "cell_type": "markdown",
   "metadata": {
    "collapsed": false,
    "slideshow": {
     "slide_type": "subslide"
    }
   },
   "source": [
    "Use\n",
    "### Beam Search\n",
    "and remember a beam of previous solutions"
   ]
  },
  {
   "cell_type": "code",
   "execution_count": 135,
   "metadata": {
    "collapsed": false,
    "slideshow": {
     "slide_type": "subslide"
    }
   },
   "outputs": [
    {
     "data": {
      "text/plain": [
       "[(('O', 'R'), -0.56259559840278206),\n",
       " (('O', 'A'), -1.0673636312675032),\n",
       " (('O', 'V'), -2.6396700096816064)]"
      ]
     },
     "execution_count": 135,
     "metadata": {},
     "output_type": "execute_result"
    }
   ],
   "source": [
    "x = [\"What\",\"better\",\"way\"]\n",
    "init_beam = []\n",
    "for y, score in memm_1.predict_label_scores(x,1,['O']):\n",
    "    init_beam.append((('O',y),score))\n",
    "beam_size = 3\n",
    "beam = init_beam[:beam_size]\n",
    "beam"
   ]
  },
  {
   "cell_type": "code",
   "execution_count": 136,
   "metadata": {
    "collapsed": false,
    "scrolled": true,
    "slideshow": {
     "slide_type": "subslide"
    }
   },
   "outputs": [
    {
     "data": {
      "text/plain": [
       "[(('O', 'R', 'N'), -1.1855769919677104),\n",
       " (('O', 'R', 'R'), -1.9725621791905401),\n",
       " (('O', 'R', 'V'), -2.3915241825968341),\n",
       " (('O', 'R', 'A'), -4.2331738803934353),\n",
       " (('O', 'R', '!'), -5.4721164761490355),\n",
       " (('O', 'R', 'P'), -5.7419191461252606),\n",
       " (('O', 'R', 'O'), -6.1156163713533154),\n",
       " (('O', 'R', '^'), -6.182169540971338),\n",
       " (('O', 'R', 'L'), -6.6150883790227271),\n",
       " (('O', 'R', 'U'), -6.6732853330326716)]"
      ]
     },
     "execution_count": 136,
     "metadata": {},
     "output_type": "execute_result"
    }
   ],
   "source": [
    "new_beam = []\n",
    "for prev_y, prev_s in beam:\n",
    "    for y,s in memm_1.predict_label_scores(x,2,prev_y):\n",
    "        new_beam.append((prev_y + (y,), prev_s + s))\n",
    "new_beam[0:10]"
   ]
  },
  {
   "cell_type": "code",
   "execution_count": 140,
   "metadata": {
    "collapsed": false,
    "slideshow": {
     "slide_type": "skip"
    }
   },
   "outputs": [],
   "source": [
    "def memm_beam_search(memm, x, width=2):\n",
    "    beam = [([],0.)]\n",
    "    history = [beam]\n",
    "    for i in range(0, len(x)):\n",
    "        # use priority queue \n",
    "        candidates = []\n",
    "        for (prev,score) in beam:\n",
    "            scores = memm.predict_scores(x, i, prev)\n",
    "            for label_index,label_score in enumerate(scores):\n",
    "                candidates.append((prev + [memm.labels()[label_index]], score + label_score))\n",
    "        beam = sorted(candidates, key=lambda x: -x[1])[:width]\n",
    "        history.append(beam)\n",
    "    return beam, history\n",
    "            \n",
    "def batch_predict(data, beam_predictor):\n",
    "    return [beam_predictor(x)[0][0][0] for x,y in data]\n"
   ]
  },
  {
   "cell_type": "markdown",
   "metadata": {
    "slideshow": {
     "slide_type": "subslide"
    }
   },
   "source": [
    "Full Example:"
   ]
  },
  {
   "cell_type": "code",
   "execution_count": 142,
   "metadata": {
    "collapsed": false,
    "slideshow": {
     "slide_type": "fragment"
    }
   },
   "outputs": [
    {
     "data": {
      "text/html": [
       "\n",
       "        <div id=\"17445f28-b4c1-11e6-8c45-a0999b02cfbb\" class=\"carousel\" data-ride=\"carousel\" data-interval=\"false\">\n",
       "          <!-- Controls -->\n",
       "          <a href=\"#17445f28-b4c1-11e6-8c45-a0999b02cfbb\" role=\"button\" data-slide=\"prev\">Previous</a>\n",
       "          &nbsp\n",
       "          <a  href=\"#17445f28-b4c1-11e6-8c45-a0999b02cfbb\" role=\"button\" data-slide=\"next\">Next</a>\n",
       "          <div class=\"carousel-inner\" role=\"listbox\">\n",
       "          <div class=\"item active\">\n",
       "        <table>\n",
       "          <tr><td>Happy</td><td>International</td><td>Year</td><td>of</td><td>Biodiversity</td><td>!</td><td>What</td><td>better</td><td>way</td><td>to</td><td>celebrate</td><td>than</td><td>tuning</td><td>in</td><td>to</td><td>CropLife's</td><td>Biodiversity</td></tr>\n",
       "          <tr><td>A</td><td>A</td><td>N</td><td>P</td><td>N</td><td>,</td><td>O</td><td>A</td><td>N</td><td>P</td><td>V</td><td>P</td><td>V</td><td>T</td><td>P</td><td>Z</td><td>^</td></tr>\n",
       "          <tr><td>0.00</td></tr>\n",
       "        </table>\n",
       "         1 / 17</div>\n",
       "<div class=\"item\">\n",
       "        <table>\n",
       "          <tr><td>Happy</td><td>International</td><td>Year</td><td>of</td><td>Biodiversity</td><td>!</td><td>What</td><td>better</td><td>way</td><td>to</td><td>celebrate</td><td>than</td><td>tuning</td><td>in</td><td>to</td><td>CropLife's</td><td>Biodiversity</td></tr>\n",
       "          <tr><td>A</td><td>A</td><td>N</td><td>P</td><td>N</td><td>,</td><td>O</td><td>A</td><td>N</td><td>P</td><td>V</td><td>P</td><td>V</td><td>T</td><td>P</td><td>Z</td><td>^</td></tr>\n",
       "          <tr><td>A</td><td>-0.10</td></tr><tr><td>^</td><td>-3.44</td></tr><tr><td>!</td><td>-4.04</td></tr>\n",
       "        </table>\n",
       "         2 / 17</div>\n",
       "<div class=\"item\">\n",
       "        <table>\n",
       "          <tr><td>Happy</td><td>International</td><td>Year</td><td>of</td><td>Biodiversity</td><td>!</td><td>What</td><td>better</td><td>way</td><td>to</td><td>celebrate</td><td>than</td><td>tuning</td><td>in</td><td>to</td><td>CropLife's</td><td>Biodiversity</td></tr>\n",
       "          <tr><td>A</td><td>A</td><td>N</td><td>P</td><td>N</td><td>,</td><td>O</td><td>A</td><td>N</td><td>P</td><td>V</td><td>P</td><td>V</td><td>T</td><td>P</td><td>Z</td><td>^</td></tr>\n",
       "          <tr><td>A</td><td>N</td><td>-0.73</td></tr><tr><td>A</td><td>A</td><td>-1.01</td></tr><tr><td>A</td><td>^</td><td>-3.26</td></tr>\n",
       "        </table>\n",
       "         3 / 17</div>\n",
       "<div class=\"item\">\n",
       "        <table>\n",
       "          <tr><td>Happy</td><td>International</td><td>Year</td><td>of</td><td>Biodiversity</td><td>!</td><td>What</td><td>better</td><td>way</td><td>to</td><td>celebrate</td><td>than</td><td>tuning</td><td>in</td><td>to</td><td>CropLife's</td><td>Biodiversity</td></tr>\n",
       "          <tr><td>A</td><td>A</td><td>N</td><td>P</td><td>N</td><td>,</td><td>O</td><td>A</td><td>N</td><td>P</td><td>V</td><td>P</td><td>V</td><td>T</td><td>P</td><td>Z</td><td>^</td></tr>\n",
       "          <tr><td>A</td><td>A</td><td>N</td><td>-1.18</td></tr><tr><td>A</td><td>N</td><td>N</td><td>-1.40</td></tr><tr><td>A</td><td>N</td><td>V</td><td>-1.98</td></tr>\n",
       "        </table>\n",
       "         4 / 17</div>\n",
       "<div class=\"item\">\n",
       "        <table>\n",
       "          <tr><td>Happy</td><td>International</td><td>Year</td><td>of</td><td>Biodiversity</td><td>!</td><td>What</td><td>better</td><td>way</td><td>to</td><td>celebrate</td><td>than</td><td>tuning</td><td>in</td><td>to</td><td>CropLife's</td><td>Biodiversity</td></tr>\n",
       "          <tr><td>A</td><td>A</td><td>N</td><td>P</td><td>N</td><td>,</td><td>O</td><td>A</td><td>N</td><td>P</td><td>V</td><td>P</td><td>V</td><td>T</td><td>P</td><td>Z</td><td>^</td></tr>\n",
       "          <tr><td>A</td><td>A</td><td>N</td><td>P</td><td>-1.19</td></tr><tr><td>A</td><td>N</td><td>N</td><td>P</td><td>-1.41</td></tr><tr><td>A</td><td>N</td><td>V</td><td>P</td><td>-1.99</td></tr>\n",
       "        </table>\n",
       "         5 / 17</div>\n",
       "<div class=\"item\">\n",
       "        <table>\n",
       "          <tr><td>Happy</td><td>International</td><td>Year</td><td>of</td><td>Biodiversity</td><td>!</td><td>What</td><td>better</td><td>way</td><td>to</td><td>celebrate</td><td>than</td><td>tuning</td><td>in</td><td>to</td><td>CropLife's</td><td>Biodiversity</td></tr>\n",
       "          <tr><td>A</td><td>A</td><td>N</td><td>P</td><td>N</td><td>,</td><td>O</td><td>A</td><td>N</td><td>P</td><td>V</td><td>P</td><td>V</td><td>T</td><td>P</td><td>Z</td><td>^</td></tr>\n",
       "          <tr><td>A</td><td>A</td><td>N</td><td>P</td><td>N</td><td>-1.54</td></tr><tr><td>A</td><td>N</td><td>N</td><td>P</td><td>N</td><td>-1.76</td></tr><tr><td>A</td><td>N</td><td>V</td><td>P</td><td>N</td><td>-2.34</td></tr>\n",
       "        </table>\n",
       "         6 / 17</div>\n",
       "<div class=\"item\">\n",
       "        <table>\n",
       "          <tr><td>Happy</td><td>International</td><td>Year</td><td>of</td><td>Biodiversity</td><td>!</td><td>What</td><td>better</td><td>way</td><td>to</td><td>celebrate</td><td>than</td><td>tuning</td><td>in</td><td>to</td><td>CropLife's</td><td>Biodiversity</td></tr>\n",
       "          <tr><td>A</td><td>A</td><td>N</td><td>P</td><td>N</td><td>,</td><td>O</td><td>A</td><td>N</td><td>P</td><td>V</td><td>P</td><td>V</td><td>T</td><td>P</td><td>Z</td><td>^</td></tr>\n",
       "          <tr><td>A</td><td>A</td><td>N</td><td>P</td><td>N</td><td>,</td><td>-1.54</td></tr><tr><td>A</td><td>N</td><td>N</td><td>P</td><td>N</td><td>,</td><td>-1.77</td></tr><tr><td>A</td><td>N</td><td>V</td><td>P</td><td>N</td><td>,</td><td>-2.34</td></tr>\n",
       "        </table>\n",
       "         7 / 17</div>\n",
       "<div class=\"item\">\n",
       "        <table>\n",
       "          <tr><td>Happy</td><td>International</td><td>Year</td><td>of</td><td>Biodiversity</td><td>!</td><td>What</td><td>better</td><td>way</td><td>to</td><td>celebrate</td><td>than</td><td>tuning</td><td>in</td><td>to</td><td>CropLife's</td><td>Biodiversity</td></tr>\n",
       "          <tr><td>A</td><td>A</td><td>N</td><td>P</td><td>N</td><td>,</td><td>O</td><td>A</td><td>N</td><td>P</td><td>V</td><td>P</td><td>V</td><td>T</td><td>P</td><td>Z</td><td>^</td></tr>\n",
       "          <tr><td>A</td><td>A</td><td>N</td><td>P</td><td>N</td><td>,</td><td>O</td><td>-1.70</td></tr><tr><td>A</td><td>N</td><td>N</td><td>P</td><td>N</td><td>,</td><td>O</td><td>-1.93</td></tr><tr><td>A</td><td>N</td><td>V</td><td>P</td><td>N</td><td>,</td><td>O</td><td>-2.50</td></tr>\n",
       "        </table>\n",
       "         8 / 17</div>\n",
       "<div class=\"item\">\n",
       "        <table>\n",
       "          <tr><td>Happy</td><td>International</td><td>Year</td><td>of</td><td>Biodiversity</td><td>!</td><td>What</td><td>better</td><td>way</td><td>to</td><td>celebrate</td><td>than</td><td>tuning</td><td>in</td><td>to</td><td>CropLife's</td><td>Biodiversity</td></tr>\n",
       "          <tr><td>A</td><td>A</td><td>N</td><td>P</td><td>N</td><td>,</td><td>O</td><td>A</td><td>N</td><td>P</td><td>V</td><td>P</td><td>V</td><td>T</td><td>P</td><td>Z</td><td>^</td></tr>\n",
       "          <tr><td>A</td><td>A</td><td>N</td><td>P</td><td>N</td><td>,</td><td>O</td><td>R</td><td>-2.26</td></tr><tr><td>A</td><td>N</td><td>N</td><td>P</td><td>N</td><td>,</td><td>O</td><td>R</td><td>-2.49</td></tr><tr><td>A</td><td>A</td><td>N</td><td>P</td><td>N</td><td>,</td><td>O</td><td>A</td><td>-2.77</td></tr>\n",
       "        </table>\n",
       "         9 / 17</div>\n",
       "<div class=\"item\">\n",
       "        <table>\n",
       "          <tr><td>Happy</td><td>International</td><td>Year</td><td>of</td><td>Biodiversity</td><td>!</td><td>What</td><td>better</td><td>way</td><td>to</td><td>celebrate</td><td>than</td><td>tuning</td><td>in</td><td>to</td><td>CropLife's</td><td>Biodiversity</td></tr>\n",
       "          <tr><td>A</td><td>A</td><td>N</td><td>P</td><td>N</td><td>,</td><td>O</td><td>A</td><td>N</td><td>P</td><td>V</td><td>P</td><td>V</td><td>T</td><td>P</td><td>Z</td><td>^</td></tr>\n",
       "          <tr><td>A</td><td>A</td><td>N</td><td>P</td><td>N</td><td>,</td><td>O</td><td>A</td><td>N</td><td>-2.81</td></tr><tr><td>A</td><td>A</td><td>N</td><td>P</td><td>N</td><td>,</td><td>O</td><td>R</td><td>N</td><td>-2.89</td></tr><tr><td>A</td><td>N</td><td>N</td><td>P</td><td>N</td><td>,</td><td>O</td><td>R</td><td>N</td><td>-3.11</td></tr>\n",
       "        </table>\n",
       "         10 / 17</div>\n",
       "<div class=\"item\">\n",
       "        <table>\n",
       "          <tr><td>Happy</td><td>International</td><td>Year</td><td>of</td><td>Biodiversity</td><td>!</td><td>What</td><td>better</td><td>way</td><td>to</td><td>celebrate</td><td>than</td><td>tuning</td><td>in</td><td>to</td><td>CropLife's</td><td>Biodiversity</td></tr>\n",
       "          <tr><td>A</td><td>A</td><td>N</td><td>P</td><td>N</td><td>,</td><td>O</td><td>A</td><td>N</td><td>P</td><td>V</td><td>P</td><td>V</td><td>T</td><td>P</td><td>Z</td><td>^</td></tr>\n",
       "          <tr><td>A</td><td>A</td><td>N</td><td>P</td><td>N</td><td>,</td><td>O</td><td>A</td><td>N</td><td>P</td><td>-2.81</td></tr><tr><td>A</td><td>A</td><td>N</td><td>P</td><td>N</td><td>,</td><td>O</td><td>R</td><td>N</td><td>P</td><td>-2.89</td></tr><tr><td>A</td><td>N</td><td>N</td><td>P</td><td>N</td><td>,</td><td>O</td><td>R</td><td>N</td><td>P</td><td>-3.12</td></tr>\n",
       "        </table>\n",
       "         11 / 17</div>\n",
       "<div class=\"item\">\n",
       "        <table>\n",
       "          <tr><td>Happy</td><td>International</td><td>Year</td><td>of</td><td>Biodiversity</td><td>!</td><td>What</td><td>better</td><td>way</td><td>to</td><td>celebrate</td><td>than</td><td>tuning</td><td>in</td><td>to</td><td>CropLife's</td><td>Biodiversity</td></tr>\n",
       "          <tr><td>A</td><td>A</td><td>N</td><td>P</td><td>N</td><td>,</td><td>O</td><td>A</td><td>N</td><td>P</td><td>V</td><td>P</td><td>V</td><td>T</td><td>P</td><td>Z</td><td>^</td></tr>\n",
       "          <tr><td>A</td><td>A</td><td>N</td><td>P</td><td>N</td><td>,</td><td>O</td><td>A</td><td>N</td><td>P</td><td>N</td><td>-3.43</td></tr><tr><td>A</td><td>A</td><td>N</td><td>P</td><td>N</td><td>,</td><td>O</td><td>R</td><td>N</td><td>P</td><td>N</td><td>-3.51</td></tr><tr><td>A</td><td>N</td><td>N</td><td>P</td><td>N</td><td>,</td><td>O</td><td>R</td><td>N</td><td>P</td><td>N</td><td>-3.73</td></tr>\n",
       "        </table>\n",
       "         12 / 17</div>\n",
       "<div class=\"item\">\n",
       "        <table>\n",
       "          <tr><td>Happy</td><td>International</td><td>Year</td><td>of</td><td>Biodiversity</td><td>!</td><td>What</td><td>better</td><td>way</td><td>to</td><td>celebrate</td><td>than</td><td>tuning</td><td>in</td><td>to</td><td>CropLife's</td><td>Biodiversity</td></tr>\n",
       "          <tr><td>A</td><td>A</td><td>N</td><td>P</td><td>N</td><td>,</td><td>O</td><td>A</td><td>N</td><td>P</td><td>V</td><td>P</td><td>V</td><td>T</td><td>P</td><td>Z</td><td>^</td></tr>\n",
       "          <tr><td>A</td><td>A</td><td>N</td><td>P</td><td>N</td><td>,</td><td>O</td><td>A</td><td>N</td><td>P</td><td>N</td><td>P</td><td>-3.48</td></tr><tr><td>A</td><td>A</td><td>N</td><td>P</td><td>N</td><td>,</td><td>O</td><td>R</td><td>N</td><td>P</td><td>N</td><td>P</td><td>-3.56</td></tr><tr><td>A</td><td>N</td><td>N</td><td>P</td><td>N</td><td>,</td><td>O</td><td>R</td><td>N</td><td>P</td><td>N</td><td>P</td><td>-3.78</td></tr>\n",
       "        </table>\n",
       "         13 / 17</div>\n",
       "<div class=\"item\">\n",
       "        <table>\n",
       "          <tr><td>Happy</td><td>International</td><td>Year</td><td>of</td><td>Biodiversity</td><td>!</td><td>What</td><td>better</td><td>way</td><td>to</td><td>celebrate</td><td>than</td><td>tuning</td><td>in</td><td>to</td><td>CropLife's</td><td>Biodiversity</td></tr>\n",
       "          <tr><td>A</td><td>A</td><td>N</td><td>P</td><td>N</td><td>,</td><td>O</td><td>A</td><td>N</td><td>P</td><td>V</td><td>P</td><td>V</td><td>T</td><td>P</td><td>Z</td><td>^</td></tr>\n",
       "          <tr><td>A</td><td>A</td><td>N</td><td>P</td><td>N</td><td>,</td><td>O</td><td>A</td><td>N</td><td>P</td><td>N</td><td>P</td><td>V</td><td>-3.57</td></tr><tr><td>A</td><td>A</td><td>N</td><td>P</td><td>N</td><td>,</td><td>O</td><td>R</td><td>N</td><td>P</td><td>N</td><td>P</td><td>V</td><td>-3.65</td></tr><tr><td>A</td><td>N</td><td>N</td><td>P</td><td>N</td><td>,</td><td>O</td><td>R</td><td>N</td><td>P</td><td>N</td><td>P</td><td>V</td><td>-3.88</td></tr>\n",
       "        </table>\n",
       "         14 / 17</div>\n",
       "<div class=\"item\">\n",
       "        <table>\n",
       "          <tr><td>Happy</td><td>International</td><td>Year</td><td>of</td><td>Biodiversity</td><td>!</td><td>What</td><td>better</td><td>way</td><td>to</td><td>celebrate</td><td>than</td><td>tuning</td><td>in</td><td>to</td><td>CropLife's</td><td>Biodiversity</td></tr>\n",
       "          <tr><td>A</td><td>A</td><td>N</td><td>P</td><td>N</td><td>,</td><td>O</td><td>A</td><td>N</td><td>P</td><td>V</td><td>P</td><td>V</td><td>T</td><td>P</td><td>Z</td><td>^</td></tr>\n",
       "          <tr><td>A</td><td>A</td><td>N</td><td>P</td><td>N</td><td>,</td><td>O</td><td>A</td><td>N</td><td>P</td><td>N</td><td>P</td><td>V</td><td>P</td><td>-3.76</td></tr><tr><td>A</td><td>A</td><td>N</td><td>P</td><td>N</td><td>,</td><td>O</td><td>R</td><td>N</td><td>P</td><td>N</td><td>P</td><td>V</td><td>P</td><td>-3.84</td></tr><tr><td>A</td><td>N</td><td>N</td><td>P</td><td>N</td><td>,</td><td>O</td><td>R</td><td>N</td><td>P</td><td>N</td><td>P</td><td>V</td><td>P</td><td>-4.06</td></tr>\n",
       "        </table>\n",
       "         15 / 17</div>\n",
       "<div class=\"item\">\n",
       "        <table>\n",
       "          <tr><td>Happy</td><td>International</td><td>Year</td><td>of</td><td>Biodiversity</td><td>!</td><td>What</td><td>better</td><td>way</td><td>to</td><td>celebrate</td><td>than</td><td>tuning</td><td>in</td><td>to</td><td>CropLife's</td><td>Biodiversity</td></tr>\n",
       "          <tr><td>A</td><td>A</td><td>N</td><td>P</td><td>N</td><td>,</td><td>O</td><td>A</td><td>N</td><td>P</td><td>V</td><td>P</td><td>V</td><td>T</td><td>P</td><td>Z</td><td>^</td></tr>\n",
       "          <tr><td>A</td><td>A</td><td>N</td><td>P</td><td>N</td><td>,</td><td>O</td><td>A</td><td>N</td><td>P</td><td>N</td><td>P</td><td>V</td><td>P</td><td>P</td><td>-3.77</td></tr><tr><td>A</td><td>A</td><td>N</td><td>P</td><td>N</td><td>,</td><td>O</td><td>R</td><td>N</td><td>P</td><td>N</td><td>P</td><td>V</td><td>P</td><td>P</td><td>-3.85</td></tr><tr><td>A</td><td>N</td><td>N</td><td>P</td><td>N</td><td>,</td><td>O</td><td>R</td><td>N</td><td>P</td><td>N</td><td>P</td><td>V</td><td>P</td><td>P</td><td>-4.07</td></tr>\n",
       "        </table>\n",
       "         16 / 17</div>\n",
       "<div class=\"item\">\n",
       "        <table>\n",
       "          <tr><td>Happy</td><td>International</td><td>Year</td><td>of</td><td>Biodiversity</td><td>!</td><td>What</td><td>better</td><td>way</td><td>to</td><td>celebrate</td><td>than</td><td>tuning</td><td>in</td><td>to</td><td>CropLife's</td><td>Biodiversity</td></tr>\n",
       "          <tr><td>A</td><td>A</td><td>N</td><td>P</td><td>N</td><td>,</td><td>O</td><td>A</td><td>N</td><td>P</td><td>V</td><td>P</td><td>V</td><td>T</td><td>P</td><td>Z</td><td>^</td></tr>\n",
       "          <tr><td>A</td><td>A</td><td>N</td><td>P</td><td>N</td><td>,</td><td>O</td><td>A</td><td>N</td><td>P</td><td>N</td><td>P</td><td>V</td><td>P</td><td>P</td><td>Z</td><td>-4.52</td></tr><tr><td>A</td><td>A</td><td>N</td><td>P</td><td>N</td><td>,</td><td>O</td><td>R</td><td>N</td><td>P</td><td>N</td><td>P</td><td>V</td><td>P</td><td>P</td><td>Z</td><td>-4.61</td></tr><tr><td>A</td><td>A</td><td>N</td><td>P</td><td>N</td><td>,</td><td>O</td><td>A</td><td>N</td><td>P</td><td>N</td><td>P</td><td>V</td><td>P</td><td>P</td><td>L</td><td>-4.72</td></tr>\n",
       "        </table>\n",
       "         17 / 17</div>\n",
       "          </div>\n",
       "        </div>\n",
       "        "
      ],
      "text/plain": [
       "<statnlpbook.util.Carousel at 0x11358a358>"
      ]
     },
     "execution_count": 142,
     "metadata": {},
     "output_type": "execute_result"
    }
   ],
   "source": [
    "example = 56\n",
    "beam, history = memm_beam_search(memm_1, dev[example][0],3)\n",
    "seq.render_beam_history(history, dev[example], end=17)"
   ]
  },
  {
   "cell_type": "markdown",
   "metadata": {
    "collapsed": false,
    "slideshow": {
     "slide_type": "subslide"
    }
   },
   "source": [
    "Does it this help?"
   ]
  },
  {
   "cell_type": "code",
   "execution_count": 147,
   "metadata": {
    "collapsed": false
   },
   "outputs": [
    {
     "data": {
      "text/plain": [
       "0.8144308521667012"
      ]
     },
     "execution_count": 147,
     "metadata": {},
     "output_type": "execute_result"
    }
   ],
   "source": [
    "seq.accuracy(dev, batch_predict(dev, lambda x: memm_beam_search(memm_1, x, 2)))"
   ]
  },
  {
   "cell_type": "markdown",
   "metadata": {
    "collapsed": false,
    "slideshow": {
     "slide_type": "slide"
    }
   },
   "source": [
    "Beam search is wasteful for first-order models, instead use \n",
    "## Viterbi Algorithm"
   ]
  },
  {
   "cell_type": "markdown",
   "metadata": {
    "collapsed": false,
    "slideshow": {
     "slide_type": "subslide"
    }
   },
   "source": [
    "Consider a beam of size 2:"
   ]
  },
  {
   "cell_type": "code",
   "execution_count": 160,
   "metadata": {
    "collapsed": false,
    "slideshow": {
     "slide_type": "-"
    }
   },
   "outputs": [
    {
     "data": {
      "text/html": [
       "\n",
       "        <div id=\"59819154-b4c5-11e6-ac34-a0999b02cfbb\" class=\"carousel\" data-ride=\"carousel\" data-interval=\"false\">\n",
       "          <!-- Controls -->\n",
       "          <a href=\"#59819154-b4c5-11e6-ac34-a0999b02cfbb\" role=\"button\" data-slide=\"prev\">Previous</a>\n",
       "          &nbsp\n",
       "          <a  href=\"#59819154-b4c5-11e6-ac34-a0999b02cfbb\" role=\"button\" data-slide=\"next\">Next</a>\n",
       "          <div class=\"carousel-inner\" role=\"listbox\">\n",
       "          <div class=\"item active\">\n",
       "        <table>\n",
       "          <tr><td>Happy</td><td>International</td><td>Year</td><td>of</td><td>Biodiversity</td><td>!</td><td>What</td><td>better</td><td>way</td><td>to</td><td>celebrate</td><td>than</td><td>tuning</td><td>in</td><td>to</td><td>CropLife's</td><td>Biodiversity</td></tr>\n",
       "          <tr><td>A</td><td>A</td><td>N</td><td>P</td><td>N</td><td>,</td><td>O</td><td>A</td><td>N</td><td>P</td><td>V</td><td>P</td><td>V</td><td>T</td><td>P</td><td>Z</td><td>^</td></tr>\n",
       "          <tr><td>0.00</td></tr>\n",
       "        </table>\n",
       "         1 / 17</div>\n",
       "<div class=\"item\">\n",
       "        <table>\n",
       "          <tr><td>Happy</td><td>International</td><td>Year</td><td>of</td><td>Biodiversity</td><td>!</td><td>What</td><td>better</td><td>way</td><td>to</td><td>celebrate</td><td>than</td><td>tuning</td><td>in</td><td>to</td><td>CropLife's</td><td>Biodiversity</td></tr>\n",
       "          <tr><td>A</td><td>A</td><td>N</td><td>P</td><td>N</td><td>,</td><td>O</td><td>A</td><td>N</td><td>P</td><td>V</td><td>P</td><td>V</td><td>T</td><td>P</td><td>Z</td><td>^</td></tr>\n",
       "          <tr><td>A</td><td>-0.10</td></tr><tr><td>^</td><td>-3.44</td></tr>\n",
       "        </table>\n",
       "         2 / 17</div>\n",
       "<div class=\"item\">\n",
       "        <table>\n",
       "          <tr><td>Happy</td><td>International</td><td>Year</td><td>of</td><td>Biodiversity</td><td>!</td><td>What</td><td>better</td><td>way</td><td>to</td><td>celebrate</td><td>than</td><td>tuning</td><td>in</td><td>to</td><td>CropLife's</td><td>Biodiversity</td></tr>\n",
       "          <tr><td>A</td><td>A</td><td>N</td><td>P</td><td>N</td><td>,</td><td>O</td><td>A</td><td>N</td><td>P</td><td>V</td><td>P</td><td>V</td><td>T</td><td>P</td><td>Z</td><td>^</td></tr>\n",
       "          <tr><td>A</td><td>N</td><td>-0.73</td></tr><tr><td>A</td><td>A</td><td>-1.01</td></tr>\n",
       "        </table>\n",
       "         3 / 17</div>\n",
       "<div class=\"item\">\n",
       "        <table>\n",
       "          <tr><td>Happy</td><td>International</td><td>Year</td><td>of</td><td>Biodiversity</td><td>!</td><td>What</td><td>better</td><td>way</td><td>to</td><td>celebrate</td><td>than</td><td>tuning</td><td>in</td><td>to</td><td>CropLife's</td><td>Biodiversity</td></tr>\n",
       "          <tr><td>A</td><td>A</td><td>N</td><td>P</td><td>N</td><td>,</td><td>O</td><td>A</td><td>N</td><td>P</td><td>V</td><td>P</td><td>V</td><td>T</td><td>P</td><td>Z</td><td>^</td></tr>\n",
       "          <tr><td>A</td><td>A</td><td>N</td><td>-1.18</td></tr><tr><td>A</td><td>N</td><td>N</td><td>-1.40</td></tr>\n",
       "        </table>\n",
       "         4 / 17</div>\n",
       "<div class=\"item\">\n",
       "        <table>\n",
       "          <tr><td>Happy</td><td>International</td><td>Year</td><td>of</td><td>Biodiversity</td><td>!</td><td>What</td><td>better</td><td>way</td><td>to</td><td>celebrate</td><td>than</td><td>tuning</td><td>in</td><td>to</td><td>CropLife's</td><td>Biodiversity</td></tr>\n",
       "          <tr><td>A</td><td>A</td><td>N</td><td>P</td><td>N</td><td>,</td><td>O</td><td>A</td><td>N</td><td>P</td><td>V</td><td>P</td><td>V</td><td>T</td><td>P</td><td>Z</td><td>^</td></tr>\n",
       "          <tr><td>A</td><td>A</td><td>N</td><td>P</td><td>-1.19</td></tr><tr><td>A</td><td>N</td><td>N</td><td>P</td><td>-1.41</td></tr>\n",
       "        </table>\n",
       "         5 / 17</div>\n",
       "<div class=\"item\">\n",
       "        <table>\n",
       "          <tr><td>Happy</td><td>International</td><td>Year</td><td>of</td><td>Biodiversity</td><td>!</td><td>What</td><td>better</td><td>way</td><td>to</td><td>celebrate</td><td>than</td><td>tuning</td><td>in</td><td>to</td><td>CropLife's</td><td>Biodiversity</td></tr>\n",
       "          <tr><td>A</td><td>A</td><td>N</td><td>P</td><td>N</td><td>,</td><td>O</td><td>A</td><td>N</td><td>P</td><td>V</td><td>P</td><td>V</td><td>T</td><td>P</td><td>Z</td><td>^</td></tr>\n",
       "          <tr><td>A</td><td>A</td><td>N</td><td>P</td><td>N</td><td>-1.54</td></tr><tr><td>A</td><td>N</td><td>N</td><td>P</td><td>N</td><td>-1.76</td></tr>\n",
       "        </table>\n",
       "         6 / 17</div>\n",
       "<div class=\"item\">\n",
       "        <table>\n",
       "          <tr><td>Happy</td><td>International</td><td>Year</td><td>of</td><td>Biodiversity</td><td>!</td><td>What</td><td>better</td><td>way</td><td>to</td><td>celebrate</td><td>than</td><td>tuning</td><td>in</td><td>to</td><td>CropLife's</td><td>Biodiversity</td></tr>\n",
       "          <tr><td>A</td><td>A</td><td>N</td><td>P</td><td>N</td><td>,</td><td>O</td><td>A</td><td>N</td><td>P</td><td>V</td><td>P</td><td>V</td><td>T</td><td>P</td><td>Z</td><td>^</td></tr>\n",
       "          <tr><td>A</td><td>A</td><td>N</td><td>P</td><td>N</td><td>,</td><td>-1.54</td></tr><tr><td>A</td><td>N</td><td>N</td><td>P</td><td>N</td><td>,</td><td>-1.77</td></tr>\n",
       "        </table>\n",
       "         7 / 17</div>\n",
       "<div class=\"item\">\n",
       "        <table>\n",
       "          <tr><td>Happy</td><td>International</td><td>Year</td><td>of</td><td>Biodiversity</td><td>!</td><td>What</td><td>better</td><td>way</td><td>to</td><td>celebrate</td><td>than</td><td>tuning</td><td>in</td><td>to</td><td>CropLife's</td><td>Biodiversity</td></tr>\n",
       "          <tr><td>A</td><td>A</td><td>N</td><td>P</td><td>N</td><td>,</td><td>O</td><td>A</td><td>N</td><td>P</td><td>V</td><td>P</td><td>V</td><td>T</td><td>P</td><td>Z</td><td>^</td></tr>\n",
       "          <tr><td>A</td><td>A</td><td>N</td><td>P</td><td>N</td><td>,</td><td>O</td><td>-1.70</td></tr><tr><td>A</td><td>N</td><td>N</td><td>P</td><td>N</td><td>,</td><td>O</td><td>-1.93</td></tr>\n",
       "        </table>\n",
       "         8 / 17</div>\n",
       "<div class=\"item\">\n",
       "        <table>\n",
       "          <tr><td>Happy</td><td>International</td><td>Year</td><td>of</td><td>Biodiversity</td><td>!</td><td>What</td><td>better</td><td>way</td><td>to</td><td>celebrate</td><td>than</td><td>tuning</td><td>in</td><td>to</td><td>CropLife's</td><td>Biodiversity</td></tr>\n",
       "          <tr><td>A</td><td>A</td><td>N</td><td>P</td><td>N</td><td>,</td><td>O</td><td>A</td><td>N</td><td>P</td><td>V</td><td>P</td><td>V</td><td>T</td><td>P</td><td>Z</td><td>^</td></tr>\n",
       "          <tr><td>A</td><td>A</td><td>N</td><td>P</td><td>N</td><td>,</td><td>O</td><td>R</td><td>-2.26</td></tr><tr><td>A</td><td>N</td><td>N</td><td>P</td><td>N</td><td>,</td><td>O</td><td>R</td><td>-2.49</td></tr>\n",
       "        </table>\n",
       "         9 / 17</div>\n",
       "<div class=\"item\">\n",
       "        <table>\n",
       "          <tr><td>Happy</td><td>International</td><td>Year</td><td>of</td><td>Biodiversity</td><td>!</td><td>What</td><td>better</td><td>way</td><td>to</td><td>celebrate</td><td>than</td><td>tuning</td><td>in</td><td>to</td><td>CropLife's</td><td>Biodiversity</td></tr>\n",
       "          <tr><td>A</td><td>A</td><td>N</td><td>P</td><td>N</td><td>,</td><td>O</td><td>A</td><td>N</td><td>P</td><td>V</td><td>P</td><td>V</td><td>T</td><td>P</td><td>Z</td><td>^</td></tr>\n",
       "          <tr><td>A</td><td>A</td><td>N</td><td>P</td><td>N</td><td>,</td><td>O</td><td>R</td><td>N</td><td>-2.89</td></tr><tr><td>A</td><td>N</td><td>N</td><td>P</td><td>N</td><td>,</td><td>O</td><td>R</td><td>N</td><td>-3.11</td></tr>\n",
       "        </table>\n",
       "         10 / 17</div>\n",
       "<div class=\"item\">\n",
       "        <table>\n",
       "          <tr><td>Happy</td><td>International</td><td>Year</td><td>of</td><td>Biodiversity</td><td>!</td><td>What</td><td>better</td><td>way</td><td>to</td><td>celebrate</td><td>than</td><td>tuning</td><td>in</td><td>to</td><td>CropLife's</td><td>Biodiversity</td></tr>\n",
       "          <tr><td>A</td><td>A</td><td>N</td><td>P</td><td>N</td><td>,</td><td>O</td><td>A</td><td>N</td><td>P</td><td>V</td><td>P</td><td>V</td><td>T</td><td>P</td><td>Z</td><td>^</td></tr>\n",
       "          <tr><td>A</td><td>A</td><td>N</td><td>P</td><td>N</td><td>,</td><td>O</td><td>R</td><td>N</td><td>P</td><td>-2.89</td></tr><tr><td>A</td><td>N</td><td>N</td><td>P</td><td>N</td><td>,</td><td>O</td><td>R</td><td>N</td><td>P</td><td>-3.12</td></tr>\n",
       "        </table>\n",
       "         11 / 17</div>\n",
       "<div class=\"item\">\n",
       "        <table>\n",
       "          <tr><td>Happy</td><td>International</td><td>Year</td><td>of</td><td>Biodiversity</td><td>!</td><td>What</td><td>better</td><td>way</td><td>to</td><td>celebrate</td><td>than</td><td>tuning</td><td>in</td><td>to</td><td>CropLife's</td><td>Biodiversity</td></tr>\n",
       "          <tr><td>A</td><td>A</td><td>N</td><td>P</td><td>N</td><td>,</td><td>O</td><td>A</td><td>N</td><td>P</td><td>V</td><td>P</td><td>V</td><td>T</td><td>P</td><td>Z</td><td>^</td></tr>\n",
       "          <tr><td>A</td><td>A</td><td>N</td><td>P</td><td>N</td><td>,</td><td>O</td><td>R</td><td>N</td><td>P</td><td>N</td><td>-3.51</td></tr><tr><td>A</td><td>N</td><td>N</td><td>P</td><td>N</td><td>,</td><td>O</td><td>R</td><td>N</td><td>P</td><td>N</td><td>-3.73</td></tr>\n",
       "        </table>\n",
       "         12 / 17</div>\n",
       "<div class=\"item\">\n",
       "        <table>\n",
       "          <tr><td>Happy</td><td>International</td><td>Year</td><td>of</td><td>Biodiversity</td><td>!</td><td>What</td><td>better</td><td>way</td><td>to</td><td>celebrate</td><td>than</td><td>tuning</td><td>in</td><td>to</td><td>CropLife's</td><td>Biodiversity</td></tr>\n",
       "          <tr><td>A</td><td>A</td><td>N</td><td>P</td><td>N</td><td>,</td><td>O</td><td>A</td><td>N</td><td>P</td><td>V</td><td>P</td><td>V</td><td>T</td><td>P</td><td>Z</td><td>^</td></tr>\n",
       "          <tr><td>A</td><td>A</td><td>N</td><td>P</td><td>N</td><td>,</td><td>O</td><td>R</td><td>N</td><td>P</td><td>N</td><td>P</td><td>-3.56</td></tr><tr><td>A</td><td>N</td><td>N</td><td>P</td><td>N</td><td>,</td><td>O</td><td>R</td><td>N</td><td>P</td><td>N</td><td>P</td><td>-3.78</td></tr>\n",
       "        </table>\n",
       "         13 / 17</div>\n",
       "<div class=\"item\">\n",
       "        <table>\n",
       "          <tr><td>Happy</td><td>International</td><td>Year</td><td>of</td><td>Biodiversity</td><td>!</td><td>What</td><td>better</td><td>way</td><td>to</td><td>celebrate</td><td>than</td><td>tuning</td><td>in</td><td>to</td><td>CropLife's</td><td>Biodiversity</td></tr>\n",
       "          <tr><td>A</td><td>A</td><td>N</td><td>P</td><td>N</td><td>,</td><td>O</td><td>A</td><td>N</td><td>P</td><td>V</td><td>P</td><td>V</td><td>T</td><td>P</td><td>Z</td><td>^</td></tr>\n",
       "          <tr><td>A</td><td>A</td><td>N</td><td>P</td><td>N</td><td>,</td><td>O</td><td>R</td><td>N</td><td>P</td><td>N</td><td>P</td><td>V</td><td>-3.65</td></tr><tr><td>A</td><td>N</td><td>N</td><td>P</td><td>N</td><td>,</td><td>O</td><td>R</td><td>N</td><td>P</td><td>N</td><td>P</td><td>V</td><td>-3.88</td></tr>\n",
       "        </table>\n",
       "         14 / 17</div>\n",
       "<div class=\"item\">\n",
       "        <table>\n",
       "          <tr><td>Happy</td><td>International</td><td>Year</td><td>of</td><td>Biodiversity</td><td>!</td><td>What</td><td>better</td><td>way</td><td>to</td><td>celebrate</td><td>than</td><td>tuning</td><td>in</td><td>to</td><td>CropLife's</td><td>Biodiversity</td></tr>\n",
       "          <tr><td>A</td><td>A</td><td>N</td><td>P</td><td>N</td><td>,</td><td>O</td><td>A</td><td>N</td><td>P</td><td>V</td><td>P</td><td>V</td><td>T</td><td>P</td><td>Z</td><td>^</td></tr>\n",
       "          <tr><td>A</td><td>A</td><td>N</td><td>P</td><td>N</td><td>,</td><td>O</td><td>R</td><td>N</td><td>P</td><td>N</td><td>P</td><td>V</td><td>P</td><td>-3.84</td></tr><tr><td>A</td><td>N</td><td>N</td><td>P</td><td>N</td><td>,</td><td>O</td><td>R</td><td>N</td><td>P</td><td>N</td><td>P</td><td>V</td><td>P</td><td>-4.06</td></tr>\n",
       "        </table>\n",
       "         15 / 17</div>\n",
       "<div class=\"item\">\n",
       "        <table>\n",
       "          <tr><td>Happy</td><td>International</td><td>Year</td><td>of</td><td>Biodiversity</td><td>!</td><td>What</td><td>better</td><td>way</td><td>to</td><td>celebrate</td><td>than</td><td>tuning</td><td>in</td><td>to</td><td>CropLife's</td><td>Biodiversity</td></tr>\n",
       "          <tr><td>A</td><td>A</td><td>N</td><td>P</td><td>N</td><td>,</td><td>O</td><td>A</td><td>N</td><td>P</td><td>V</td><td>P</td><td>V</td><td>T</td><td>P</td><td>Z</td><td>^</td></tr>\n",
       "          <tr><td>A</td><td>A</td><td>N</td><td>P</td><td>N</td><td>,</td><td>O</td><td>R</td><td>N</td><td>P</td><td>N</td><td>P</td><td>V</td><td>P</td><td>P</td><td>-3.85</td></tr><tr><td>A</td><td>N</td><td>N</td><td>P</td><td>N</td><td>,</td><td>O</td><td>R</td><td>N</td><td>P</td><td>N</td><td>P</td><td>V</td><td>P</td><td>P</td><td>-4.07</td></tr>\n",
       "        </table>\n",
       "         16 / 17</div>\n",
       "<div class=\"item\">\n",
       "        <table>\n",
       "          <tr><td>Happy</td><td>International</td><td>Year</td><td>of</td><td>Biodiversity</td><td>!</td><td>What</td><td>better</td><td>way</td><td>to</td><td>celebrate</td><td>than</td><td>tuning</td><td>in</td><td>to</td><td>CropLife's</td><td>Biodiversity</td></tr>\n",
       "          <tr><td>A</td><td>A</td><td>N</td><td>P</td><td>N</td><td>,</td><td>O</td><td>A</td><td>N</td><td>P</td><td>V</td><td>P</td><td>V</td><td>T</td><td>P</td><td>Z</td><td>^</td></tr>\n",
       "          <tr><td>A</td><td>A</td><td>N</td><td>P</td><td>N</td><td>,</td><td>O</td><td>R</td><td>N</td><td>P</td><td>N</td><td>P</td><td>V</td><td>P</td><td>P</td><td>Z</td><td>-4.61</td></tr><tr><td>A</td><td>A</td><td>N</td><td>P</td><td>N</td><td>,</td><td>O</td><td>R</td><td>N</td><td>P</td><td>N</td><td>P</td><td>V</td><td>P</td><td>P</td><td>L</td><td>-4.80</td></tr>\n",
       "        </table>\n",
       "         17 / 17</div>\n",
       "          </div>\n",
       "        </div>\n",
       "        "
      ],
      "text/plain": [
       "<statnlpbook.util.Carousel at 0x1144aab70>"
      ]
     },
     "execution_count": 160,
     "metadata": {},
     "output_type": "execute_result"
    }
   ],
   "source": [
    "example = 56\n",
    "beam, history = memm_beam_search(memm_1, dev[example][0],2)\n",
    "seq.render_beam_history(history, dev[example], end=17)"
   ]
  },
  {
   "cell_type": "markdown",
   "metadata": {
    "slideshow": {
     "slide_type": "subslide"
    }
   },
   "source": [
    "Histories differ in early positions, but does the all the past matter?"
   ]
  },
  {
   "cell_type": "code",
   "execution_count": 152,
   "metadata": {
    "collapsed": false,
    "slideshow": {
     "slide_type": "fragment"
    }
   },
   "outputs": [
    {
     "data": {
      "text/plain": [
       "[('N', -0.62298139356492843),\n",
       " ('R', -1.4099665807877582),\n",
       " ('V', -1.8289285841940521)]"
      ]
     },
     "execution_count": 152,
     "metadata": {},
     "output_type": "execute_result"
    }
   ],
   "source": [
    "memm_1.predict_label_scores([\"What\",\"better\",\"way\"],2,['O','R'])[:3]"
   ]
  },
  {
   "cell_type": "markdown",
   "metadata": {
    "collapsed": false,
    "slideshow": {
     "slide_type": "subslide"
    }
   },
   "source": [
    "Past only matters until the **previous token**"
   ]
  },
  {
   "cell_type": "markdown",
   "metadata": {
    "collapsed": false,
    "slideshow": {
     "slide_type": "subslide"
    }
   },
   "source": [
    "**Viterbi Algorithm** = Remember only the best history per label "
   ]
  },
  {
   "cell_type": "code",
   "execution_count": 157,
   "metadata": {
    "collapsed": true,
    "slideshow": {
     "slide_type": "skip"
    }
   },
   "outputs": [],
   "source": [
    "from collections import defaultdict\n",
    "import math\n",
    "def memm_viterbi_search(memm, x, width=2):\n",
    "    labels = memm.labels()\n",
    "    # initialise\n",
    "    alpha = [{}]\n",
    "    beta = [{}]\n",
    "    for label_index, label_score in enumerate(memm.predict_scores_hist(x, 0, [\"PAD\"])):\n",
    "        label = labels[label_index]\n",
    "        alpha[0][label] = label_score\n",
    "        beta[0][label] = \"PAD\"\n",
    "    \n",
    "    # prune\n",
    "    seq.prune_alpha_beta(alpha[0], beta[0], width)\n",
    "    \n",
    "    # recursion \n",
    "    for i in range(1, len(x)):\n",
    "        alpha.append(defaultdict(lambda: -math.inf))\n",
    "        beta.append({})\n",
    "        for p in alpha[i-1].keys():\n",
    "            for label_index, label_score in enumerate(memm.predict_scores_hist(x, i, [p])):\n",
    "                label = labels[label_index]\n",
    "                new_score =  alpha[i-1][p] + label_score\n",
    "                if new_score > alpha[i][label]:\n",
    "                    alpha[i][label] = new_score\n",
    "                    beta[i][label] = p\n",
    "        # prune\n",
    "        seq.prune_alpha_beta(alpha[i], beta[i], width)\n",
    "    \n",
    "    # convert to beam history to be used in the same way beam search was used.  \n",
    "    history = seq.convert_alpha_beta_to_history(x, alpha, beta)\n",
    "    return history[-1], history"
   ]
  },
  {
   "cell_type": "markdown",
   "metadata": {
    "slideshow": {
     "slide_type": "subslide"
    }
   },
   "source": [
    "In action:"
   ]
  },
  {
   "cell_type": "code",
   "execution_count": 162,
   "metadata": {
    "collapsed": false,
    "slideshow": {
     "slide_type": "-"
    }
   },
   "outputs": [
    {
     "data": {
      "text/html": [
       "\n",
       "        <div id=\"6d765e42-b4c5-11e6-b19b-a0999b02cfbb\" class=\"carousel\" data-ride=\"carousel\" data-interval=\"false\">\n",
       "          <!-- Controls -->\n",
       "          <a href=\"#6d765e42-b4c5-11e6-b19b-a0999b02cfbb\" role=\"button\" data-slide=\"prev\">Previous</a>\n",
       "          &nbsp\n",
       "          <a  href=\"#6d765e42-b4c5-11e6-b19b-a0999b02cfbb\" role=\"button\" data-slide=\"next\">Next</a>\n",
       "          <div class=\"carousel-inner\" role=\"listbox\">\n",
       "          <div class=\"item active\">\n",
       "        <table>\n",
       "          <tr><td>Happy</td><td>International</td><td>Year</td><td>of</td><td>Biodiversity</td><td>!</td><td>What</td><td>better</td><td>way</td><td>to</td><td>celebrate</td><td>than</td><td>tuning</td><td>in</td><td>to</td><td>CropLife's</td><td>Biodiversity</td></tr>\n",
       "          <tr><td>A</td><td>A</td><td>N</td><td>P</td><td>N</td><td>,</td><td>O</td><td>A</td><td>N</td><td>P</td><td>V</td><td>P</td><td>V</td><td>T</td><td>P</td><td>Z</td><td>^</td></tr>\n",
       "          <tr><td>0.00</td></tr>\n",
       "        </table>\n",
       "         1 / 17</div>\n",
       "<div class=\"item\">\n",
       "        <table>\n",
       "          <tr><td>Happy</td><td>International</td><td>Year</td><td>of</td><td>Biodiversity</td><td>!</td><td>What</td><td>better</td><td>way</td><td>to</td><td>celebrate</td><td>than</td><td>tuning</td><td>in</td><td>to</td><td>CropLife's</td><td>Biodiversity</td></tr>\n",
       "          <tr><td>A</td><td>A</td><td>N</td><td>P</td><td>N</td><td>,</td><td>O</td><td>A</td><td>N</td><td>P</td><td>V</td><td>P</td><td>V</td><td>T</td><td>P</td><td>Z</td><td>^</td></tr>\n",
       "          <tr><td>A</td><td>-0.10</td></tr><tr><td>^</td><td>-3.44</td></tr>\n",
       "        </table>\n",
       "         2 / 17</div>\n",
       "<div class=\"item\">\n",
       "        <table>\n",
       "          <tr><td>Happy</td><td>International</td><td>Year</td><td>of</td><td>Biodiversity</td><td>!</td><td>What</td><td>better</td><td>way</td><td>to</td><td>celebrate</td><td>than</td><td>tuning</td><td>in</td><td>to</td><td>CropLife's</td><td>Biodiversity</td></tr>\n",
       "          <tr><td>A</td><td>A</td><td>N</td><td>P</td><td>N</td><td>,</td><td>O</td><td>A</td><td>N</td><td>P</td><td>V</td><td>P</td><td>V</td><td>T</td><td>P</td><td>Z</td><td>^</td></tr>\n",
       "          <tr><td>A</td><td>N</td><td>-0.73</td></tr><tr><td>A</td><td>A</td><td>-1.01</td></tr>\n",
       "        </table>\n",
       "         3 / 17</div>\n",
       "<div class=\"item\">\n",
       "        <table>\n",
       "          <tr><td>Happy</td><td>International</td><td>Year</td><td>of</td><td>Biodiversity</td><td>!</td><td>What</td><td>better</td><td>way</td><td>to</td><td>celebrate</td><td>than</td><td>tuning</td><td>in</td><td>to</td><td>CropLife's</td><td>Biodiversity</td></tr>\n",
       "          <tr><td>A</td><td>A</td><td>N</td><td>P</td><td>N</td><td>,</td><td>O</td><td>A</td><td>N</td><td>P</td><td>V</td><td>P</td><td>V</td><td>T</td><td>P</td><td>Z</td><td>^</td></tr>\n",
       "          <tr><td>A</td><td>A</td><td>N</td><td>-1.18</td></tr><tr><td>A</td><td>N</td><td>V</td><td>-1.98</td></tr>\n",
       "        </table>\n",
       "         4 / 17</div>\n",
       "<div class=\"item\">\n",
       "        <table>\n",
       "          <tr><td>Happy</td><td>International</td><td>Year</td><td>of</td><td>Biodiversity</td><td>!</td><td>What</td><td>better</td><td>way</td><td>to</td><td>celebrate</td><td>than</td><td>tuning</td><td>in</td><td>to</td><td>CropLife's</td><td>Biodiversity</td></tr>\n",
       "          <tr><td>A</td><td>A</td><td>N</td><td>P</td><td>N</td><td>,</td><td>O</td><td>A</td><td>N</td><td>P</td><td>V</td><td>P</td><td>V</td><td>T</td><td>P</td><td>Z</td><td>^</td></tr>\n",
       "          <tr><td>A</td><td>A</td><td>N</td><td>P</td><td>-1.19</td></tr><tr><td>A</td><td>A</td><td>N</td><td>N</td><td>-7.50</td></tr>\n",
       "        </table>\n",
       "         5 / 17</div>\n",
       "<div class=\"item\">\n",
       "        <table>\n",
       "          <tr><td>Happy</td><td>International</td><td>Year</td><td>of</td><td>Biodiversity</td><td>!</td><td>What</td><td>better</td><td>way</td><td>to</td><td>celebrate</td><td>than</td><td>tuning</td><td>in</td><td>to</td><td>CropLife's</td><td>Biodiversity</td></tr>\n",
       "          <tr><td>A</td><td>A</td><td>N</td><td>P</td><td>N</td><td>,</td><td>O</td><td>A</td><td>N</td><td>P</td><td>V</td><td>P</td><td>V</td><td>T</td><td>P</td><td>Z</td><td>^</td></tr>\n",
       "          <tr><td>A</td><td>A</td><td>N</td><td>P</td><td>N</td><td>-1.54</td></tr><tr><td>A</td><td>A</td><td>N</td><td>P</td><td>^</td><td>-2.57</td></tr>\n",
       "        </table>\n",
       "         6 / 17</div>\n",
       "<div class=\"item\">\n",
       "        <table>\n",
       "          <tr><td>Happy</td><td>International</td><td>Year</td><td>of</td><td>Biodiversity</td><td>!</td><td>What</td><td>better</td><td>way</td><td>to</td><td>celebrate</td><td>than</td><td>tuning</td><td>in</td><td>to</td><td>CropLife's</td><td>Biodiversity</td></tr>\n",
       "          <tr><td>A</td><td>A</td><td>N</td><td>P</td><td>N</td><td>,</td><td>O</td><td>A</td><td>N</td><td>P</td><td>V</td><td>P</td><td>V</td><td>T</td><td>P</td><td>Z</td><td>^</td></tr>\n",
       "          <tr><td>A</td><td>A</td><td>N</td><td>P</td><td>N</td><td>,</td><td>-1.54</td></tr><tr><td>A</td><td>A</td><td>N</td><td>P</td><td>^</td><td>^</td><td>-5.17</td></tr>\n",
       "        </table>\n",
       "         7 / 17</div>\n",
       "<div class=\"item\">\n",
       "        <table>\n",
       "          <tr><td>Happy</td><td>International</td><td>Year</td><td>of</td><td>Biodiversity</td><td>!</td><td>What</td><td>better</td><td>way</td><td>to</td><td>celebrate</td><td>than</td><td>tuning</td><td>in</td><td>to</td><td>CropLife's</td><td>Biodiversity</td></tr>\n",
       "          <tr><td>A</td><td>A</td><td>N</td><td>P</td><td>N</td><td>,</td><td>O</td><td>A</td><td>N</td><td>P</td><td>V</td><td>P</td><td>V</td><td>T</td><td>P</td><td>Z</td><td>^</td></tr>\n",
       "          <tr><td>A</td><td>A</td><td>N</td><td>P</td><td>N</td><td>,</td><td>O</td><td>-1.70</td></tr><tr><td>A</td><td>A</td><td>N</td><td>P</td><td>N</td><td>,</td><td>D</td><td>-4.21</td></tr>\n",
       "        </table>\n",
       "         8 / 17</div>\n",
       "<div class=\"item\">\n",
       "        <table>\n",
       "          <tr><td>Happy</td><td>International</td><td>Year</td><td>of</td><td>Biodiversity</td><td>!</td><td>What</td><td>better</td><td>way</td><td>to</td><td>celebrate</td><td>than</td><td>tuning</td><td>in</td><td>to</td><td>CropLife's</td><td>Biodiversity</td></tr>\n",
       "          <tr><td>A</td><td>A</td><td>N</td><td>P</td><td>N</td><td>,</td><td>O</td><td>A</td><td>N</td><td>P</td><td>V</td><td>P</td><td>V</td><td>T</td><td>P</td><td>Z</td><td>^</td></tr>\n",
       "          <tr><td>A</td><td>A</td><td>N</td><td>P</td><td>N</td><td>,</td><td>O</td><td>R</td><td>-2.26</td></tr><tr><td>A</td><td>A</td><td>N</td><td>P</td><td>N</td><td>,</td><td>O</td><td>A</td><td>-2.77</td></tr>\n",
       "        </table>\n",
       "         9 / 17</div>\n",
       "<div class=\"item\">\n",
       "        <table>\n",
       "          <tr><td>Happy</td><td>International</td><td>Year</td><td>of</td><td>Biodiversity</td><td>!</td><td>What</td><td>better</td><td>way</td><td>to</td><td>celebrate</td><td>than</td><td>tuning</td><td>in</td><td>to</td><td>CropLife's</td><td>Biodiversity</td></tr>\n",
       "          <tr><td>A</td><td>A</td><td>N</td><td>P</td><td>N</td><td>,</td><td>O</td><td>A</td><td>N</td><td>P</td><td>V</td><td>P</td><td>V</td><td>T</td><td>P</td><td>Z</td><td>^</td></tr>\n",
       "          <tr><td>A</td><td>A</td><td>N</td><td>P</td><td>N</td><td>,</td><td>O</td><td>A</td><td>N</td><td>-2.81</td></tr><tr><td>A</td><td>A</td><td>N</td><td>P</td><td>N</td><td>,</td><td>O</td><td>R</td><td>R</td><td>-3.67</td></tr>\n",
       "        </table>\n",
       "         10 / 17</div>\n",
       "<div class=\"item\">\n",
       "        <table>\n",
       "          <tr><td>Happy</td><td>International</td><td>Year</td><td>of</td><td>Biodiversity</td><td>!</td><td>What</td><td>better</td><td>way</td><td>to</td><td>celebrate</td><td>than</td><td>tuning</td><td>in</td><td>to</td><td>CropLife's</td><td>Biodiversity</td></tr>\n",
       "          <tr><td>A</td><td>A</td><td>N</td><td>P</td><td>N</td><td>,</td><td>O</td><td>A</td><td>N</td><td>P</td><td>V</td><td>P</td><td>V</td><td>T</td><td>P</td><td>Z</td><td>^</td></tr>\n",
       "          <tr><td>A</td><td>A</td><td>N</td><td>P</td><td>N</td><td>,</td><td>O</td><td>A</td><td>N</td><td>P</td><td>-2.81</td></tr><tr><td>A</td><td>A</td><td>N</td><td>P</td><td>N</td><td>,</td><td>O</td><td>A</td><td>N</td><td>N</td><td>-9.36</td></tr>\n",
       "        </table>\n",
       "         11 / 17</div>\n",
       "<div class=\"item\">\n",
       "        <table>\n",
       "          <tr><td>Happy</td><td>International</td><td>Year</td><td>of</td><td>Biodiversity</td><td>!</td><td>What</td><td>better</td><td>way</td><td>to</td><td>celebrate</td><td>than</td><td>tuning</td><td>in</td><td>to</td><td>CropLife's</td><td>Biodiversity</td></tr>\n",
       "          <tr><td>A</td><td>A</td><td>N</td><td>P</td><td>N</td><td>,</td><td>O</td><td>A</td><td>N</td><td>P</td><td>V</td><td>P</td><td>V</td><td>T</td><td>P</td><td>Z</td><td>^</td></tr>\n",
       "          <tr><td>A</td><td>A</td><td>N</td><td>P</td><td>N</td><td>,</td><td>O</td><td>A</td><td>N</td><td>P</td><td>N</td><td>-3.43</td></tr><tr><td>A</td><td>A</td><td>N</td><td>P</td><td>N</td><td>,</td><td>O</td><td>A</td><td>N</td><td>P</td><td>V</td><td>-4.07</td></tr>\n",
       "        </table>\n",
       "         12 / 17</div>\n",
       "<div class=\"item\">\n",
       "        <table>\n",
       "          <tr><td>Happy</td><td>International</td><td>Year</td><td>of</td><td>Biodiversity</td><td>!</td><td>What</td><td>better</td><td>way</td><td>to</td><td>celebrate</td><td>than</td><td>tuning</td><td>in</td><td>to</td><td>CropLife's</td><td>Biodiversity</td></tr>\n",
       "          <tr><td>A</td><td>A</td><td>N</td><td>P</td><td>N</td><td>,</td><td>O</td><td>A</td><td>N</td><td>P</td><td>V</td><td>P</td><td>V</td><td>T</td><td>P</td><td>Z</td><td>^</td></tr>\n",
       "          <tr><td>A</td><td>A</td><td>N</td><td>P</td><td>N</td><td>,</td><td>O</td><td>A</td><td>N</td><td>P</td><td>N</td><td>P</td><td>-3.48</td></tr><tr><td>A</td><td>A</td><td>N</td><td>P</td><td>N</td><td>,</td><td>O</td><td>A</td><td>N</td><td>P</td><td>N</td><td>V</td><td>-6.94</td></tr>\n",
       "        </table>\n",
       "         13 / 17</div>\n",
       "<div class=\"item\">\n",
       "        <table>\n",
       "          <tr><td>Happy</td><td>International</td><td>Year</td><td>of</td><td>Biodiversity</td><td>!</td><td>What</td><td>better</td><td>way</td><td>to</td><td>celebrate</td><td>than</td><td>tuning</td><td>in</td><td>to</td><td>CropLife's</td><td>Biodiversity</td></tr>\n",
       "          <tr><td>A</td><td>A</td><td>N</td><td>P</td><td>N</td><td>,</td><td>O</td><td>A</td><td>N</td><td>P</td><td>V</td><td>P</td><td>V</td><td>T</td><td>P</td><td>Z</td><td>^</td></tr>\n",
       "          <tr><td>A</td><td>A</td><td>N</td><td>P</td><td>N</td><td>,</td><td>O</td><td>A</td><td>N</td><td>P</td><td>N</td><td>P</td><td>V</td><td>-3.57</td></tr><tr><td>A</td><td>A</td><td>N</td><td>P</td><td>N</td><td>,</td><td>O</td><td>A</td><td>N</td><td>P</td><td>N</td><td>P</td><td>N</td><td>-6.18</td></tr>\n",
       "        </table>\n",
       "         14 / 17</div>\n",
       "<div class=\"item\">\n",
       "        <table>\n",
       "          <tr><td>Happy</td><td>International</td><td>Year</td><td>of</td><td>Biodiversity</td><td>!</td><td>What</td><td>better</td><td>way</td><td>to</td><td>celebrate</td><td>than</td><td>tuning</td><td>in</td><td>to</td><td>CropLife's</td><td>Biodiversity</td></tr>\n",
       "          <tr><td>A</td><td>A</td><td>N</td><td>P</td><td>N</td><td>,</td><td>O</td><td>A</td><td>N</td><td>P</td><td>V</td><td>P</td><td>V</td><td>T</td><td>P</td><td>Z</td><td>^</td></tr>\n",
       "          <tr><td>A</td><td>A</td><td>N</td><td>P</td><td>N</td><td>,</td><td>O</td><td>A</td><td>N</td><td>P</td><td>N</td><td>P</td><td>V</td><td>P</td><td>-3.76</td></tr><tr><td>A</td><td>A</td><td>N</td><td>P</td><td>N</td><td>,</td><td>O</td><td>A</td><td>N</td><td>P</td><td>N</td><td>P</td><td>V</td><td>T</td><td>-5.41</td></tr>\n",
       "        </table>\n",
       "         15 / 17</div>\n",
       "<div class=\"item\">\n",
       "        <table>\n",
       "          <tr><td>Happy</td><td>International</td><td>Year</td><td>of</td><td>Biodiversity</td><td>!</td><td>What</td><td>better</td><td>way</td><td>to</td><td>celebrate</td><td>than</td><td>tuning</td><td>in</td><td>to</td><td>CropLife's</td><td>Biodiversity</td></tr>\n",
       "          <tr><td>A</td><td>A</td><td>N</td><td>P</td><td>N</td><td>,</td><td>O</td><td>A</td><td>N</td><td>P</td><td>V</td><td>P</td><td>V</td><td>T</td><td>P</td><td>Z</td><td>^</td></tr>\n",
       "          <tr><td>A</td><td>A</td><td>N</td><td>P</td><td>N</td><td>,</td><td>O</td><td>A</td><td>N</td><td>P</td><td>N</td><td>P</td><td>V</td><td>P</td><td>P</td><td>-3.77</td></tr><tr><td>A</td><td>A</td><td>N</td><td>P</td><td>N</td><td>,</td><td>O</td><td>A</td><td>N</td><td>P</td><td>N</td><td>P</td><td>V</td><td>P</td><td>^</td><td>-10.04</td></tr>\n",
       "        </table>\n",
       "         16 / 17</div>\n",
       "<div class=\"item\">\n",
       "        <table>\n",
       "          <tr><td>Happy</td><td>International</td><td>Year</td><td>of</td><td>Biodiversity</td><td>!</td><td>What</td><td>better</td><td>way</td><td>to</td><td>celebrate</td><td>than</td><td>tuning</td><td>in</td><td>to</td><td>CropLife's</td><td>Biodiversity</td></tr>\n",
       "          <tr><td>A</td><td>A</td><td>N</td><td>P</td><td>N</td><td>,</td><td>O</td><td>A</td><td>N</td><td>P</td><td>V</td><td>P</td><td>V</td><td>T</td><td>P</td><td>Z</td><td>^</td></tr>\n",
       "          <tr><td>A</td><td>A</td><td>N</td><td>P</td><td>N</td><td>,</td><td>O</td><td>A</td><td>N</td><td>P</td><td>N</td><td>P</td><td>V</td><td>P</td><td>P</td><td>Z</td><td>-4.52</td></tr><tr><td>A</td><td>A</td><td>N</td><td>P</td><td>N</td><td>,</td><td>O</td><td>A</td><td>N</td><td>P</td><td>N</td><td>P</td><td>V</td><td>P</td><td>P</td><td>L</td><td>-4.72</td></tr>\n",
       "        </table>\n",
       "         17 / 17</div>\n",
       "          </div>\n",
       "        </div>\n",
       "        "
      ],
      "text/plain": [
       "<statnlpbook.util.Carousel at 0x1144aac50>"
      ]
     },
     "execution_count": 162,
     "metadata": {},
     "output_type": "execute_result"
    }
   ],
   "source": [
    "beam, history = memm_viterbi_search(memm_1, dev[example][0],2)\n",
    "seq.render_beam_history(history, dev[example], 17)"
   ]
  },
  {
   "cell_type": "markdown",
   "metadata": {
    "slideshow": {
     "slide_type": "subslide"
    }
   },
   "source": [
    "Now, does this help?"
   ]
  },
  {
   "cell_type": "code",
   "execution_count": 164,
   "metadata": {
    "collapsed": false
   },
   "outputs": [
    {
     "data": {
      "text/plain": [
       "0.8138088326767572"
      ]
     },
     "execution_count": 164,
     "metadata": {},
     "output_type": "execute_result"
    }
   ],
   "source": [
    "seq.accuracy(dev, batch_predict(dev, lambda x: memm_viterbi_search(memm_1, x, 2)))"
   ]
  },
  {
   "cell_type": "markdown",
   "metadata": {
    "slideshow": {
     "slide_type": "slide"
    }
   },
   "source": [
    "Check Models on Test Set:"
   ]
  },
  {
   "cell_type": "code",
   "execution_count": 168,
   "metadata": {
    "collapsed": false
   },
   "outputs": [
    {
     "data": {
      "text/html": [
       "<div>\n",
       "<table border=\"1\" class=\"dataframe\">\n",
       "  <thead>\n",
       "    <tr style=\"text-align: right;\">\n",
       "      <th></th>\n",
       "      <th>0</th>\n",
       "      <th>1</th>\n",
       "    </tr>\n",
       "  </thead>\n",
       "  <tbody>\n",
       "    <tr>\n",
       "      <th>0</th>\n",
       "      <td>word</td>\n",
       "      <td>0.712248</td>\n",
       "    </tr>\n",
       "    <tr>\n",
       "      <th>1</th>\n",
       "      <td>+ first @</td>\n",
       "      <td>0.757271</td>\n",
       "    </tr>\n",
       "    <tr>\n",
       "      <th>2</th>\n",
       "      <td>+ cap</td>\n",
       "      <td>0.776007</td>\n",
       "    </tr>\n",
       "    <tr>\n",
       "      <th>3</th>\n",
       "      <td>+ suffix</td>\n",
       "      <td>0.796980</td>\n",
       "    </tr>\n",
       "    <tr>\n",
       "      <th>4</th>\n",
       "      <td>MEMM</td>\n",
       "      <td>0.811102</td>\n",
       "    </tr>\n",
       "  </tbody>\n",
       "</table>\n",
       "</div>"
      ],
      "text/plain": [
       "           0         1\n",
       "0       word  0.712248\n",
       "1  + first @  0.757271\n",
       "2      + cap  0.776007\n",
       "3   + suffix  0.796980\n",
       "4       MEMM  0.811102"
      ]
     },
     "execution_count": 168,
     "metadata": {},
     "output_type": "execute_result"
    }
   ],
   "source": [
    "pd.DataFrame([\n",
    "        [\"word\", seq.accuracy(test, local_1.predict(test))],\n",
    "        [\"+ first @\", seq.accuracy(test, local_2.predict(test))],\n",
    "        [\"+ cap\", seq.accuracy(test, local_3.predict(test))],\n",
    "        [\"+ suffix\", seq.accuracy(test, local_4.predict(test))],\n",
    "        [\"MEMM\", seq.accuracy(test, memm_1.predict(test))],\n",
    "    ])"
   ]
  },
  {
   "cell_type": "markdown",
   "metadata": {
    "slideshow": {
     "slide_type": "slide"
    }
   },
   "source": [
    "## Summary\n",
    "* Many problems can be cast as sequence labeling\n",
    "* Solution 1: sequence of classifiers\n",
    "    * rely on good feature engineering\n",
    "* Solution 2: MEMM to model label dependencies\n",
    "    * require non-trivial search algorithms\n",
    "    * but greedy and beam search often works well\n",
    "* Other Options:\n",
    "    * CRFs (in notes)\n",
    "    * RNNs (discussed later)"
   ]
  },
  {
   "cell_type": "markdown",
   "metadata": {
    "slideshow": {
     "slide_type": "slide"
    }
   },
   "source": [
    "## Background Material\n",
    "* [Tackling the Poor Assumptions of Naive Bayes Text Classifiers](https://people.csail.mit.edu/jrennie/papers/icml03-nb.pdf), Rennie et al, ICML 2003 \n",
    "* [MEMM](http://www.ai.mit.edu/courses/6.891-nlp/READINGS/maxent.pdf)"
   ]
  }
 ],
 "metadata": {
  "celltoolbar": "Slideshow",
  "kernelspec": {
   "display_name": "Python 3",
   "language": "python",
   "name": "python3"
  },
  "language_info": {
   "codemirror_mode": {
    "name": "ipython",
    "version": 3
   },
   "file_extension": ".py",
   "mimetype": "text/x-python",
   "name": "python",
   "nbconvert_exporter": "python",
   "pygments_lexer": "ipython3",
   "version": "3.5.1"
  }
 },
 "nbformat": 4,
 "nbformat_minor": 0
}
