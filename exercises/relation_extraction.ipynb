{
 "cells": [
  {
   "cell_type": "markdown",
   "metadata": {},
   "source": [
    "# Relation Extraction Exercises\n",
    "\n",
    "\n",
    "\n",
    "In the lecture we took a [four different types of relation extraction](chapters/relation_extraction.ipynb). In this exercise we will expand our understanding of those methods by improving on some of the issues we observed with the basic solutions presented in the lecture."
   ]
  },
  {
   "cell_type": "markdown",
   "metadata": {},
   "source": [
    "##  <font color='green'>Setup 1</font>: Load Libraries"
   ]
  },
  {
   "cell_type": "code",
   "execution_count": 1,
   "metadata": {
    "collapsed": true
   },
   "outputs": [],
   "source": [
    "%%capture\n",
    "%load_ext autoreload\n",
    "%autoreload 2\n",
    "%matplotlib inline\n",
    "# %cd .. \n",
    "import sys\n",
    "sys.path.append(\"../statnlpbook/\")\n",
    "import math \n",
    "import tfutil,ie"
   ]
  },
  {
   "cell_type": "markdown",
   "metadata": {},
   "source": [
    "## <font color='blue'>Task 1</font>: Shortest Path for Relation Extraction\n",
    "\n",
    "Recall that for all the presented relation extraction methods, we were interested in determining the relation between two entities.\n",
    "A core component of all the relation extraction methods presented in the lecture was to determine the shortest path between those two entities. Features for the relation extraction model were then based on that shortest path.  \n",
    "\n",
    "The solution to determining the shortest path presented in the lecture was to define it as the words occurring between the two entities. \n",
    "\n",
    "- What is a possible problem with this way of determining the shortest path?\n",
    "- What is a better way of producing such a shortest path?\n",
    "\n",
    "- Improve the relation extraction methods by implementing an alternative shortest path extraction method, the old one is \"sentenceToShortPath(sent)\".\n",
    "- Apply the new shortest path extraction method to the relation extraction methods presented with the lecture. \n",
    "    - Note that in order for this to work, the new shortest path extraction method will need to return a list of words which define the shortest path.\n",
    "- Observe the differences between the old and new path shortening method.\n",
    "\n",
    "Hint: revisit the lecture materials on parsing."
   ]
  },
  {
   "cell_type": "markdown",
   "metadata": {},
   "source": [
    "## <font color='blue'>Task 2</font>: Shortest Path Features\n",
    "\n"
   ]
  },
  {
   "cell_type": "markdown",
   "metadata": {},
   "source": [
    "Recall that, in order to obtain features for supervised relation extraction, we transformed the shortest path between the two entities to word features using the built-in sklearn \"CountVectorizer()\".  \n",
    "\n",
    "As discussed, this can lead to obtaining features which are too general (e.g. stopwords such as \"a\", \"of\"). A better approach would be to have features which are based on the syntax of the sentence.\n",
    "\n",
    "- Implement a method which, for each sentence, returns a syntactic representation of that sentence\n",
    "- Narrow this syntactic representation down to words on the shortest path between the two entities\n",
    "\n",
    "Hint: if you have completed Task 1, you should already have a solution for those the two exercises above.\n",
    "\n",
    "- Use the syntactic representation as features for supervised learning. To do this, replace the \"featTransform()\" method. \n",
    "    - Note that you define the whole syntactic path as a feature, or split it into several words. \n",
    "    - For the latter, pass the syntactic path to the CountVectorizer() and set the n-gram range appropriately. It is set to \"1, 1\" by default, meaning it returns single words only. See the [sklearn documentation](http://scikit-learn.org/stable/modules/generated/sklearn.feature_extraction.text.CountVectorizer.html) for the CountVectorizer.\n",
    "- Use a combination of the syntactic representation and words as features. In the literature, this is typically referred to as \"lexico-syntactic features\". Proceed in the same way as for syntax-only features above.\n",
    "- Observe the effect of choosing different features on the supervised relation extraction output."
   ]
  }
 ],
 "metadata": {
  "kernelspec": {
   "display_name": "Python 3",
   "language": "python",
   "name": "python3"
  },
  "language_info": {
   "codemirror_mode": {
    "name": "ipython",
    "version": 3
   },
   "file_extension": ".py",
   "mimetype": "text/x-python",
   "name": "python",
   "nbconvert_exporter": "python",
   "pygments_lexer": "ipython3",
   "version": "3.5.1"
  }
 },
 "nbformat": 4,
 "nbformat_minor": 0
}
